{
  "nbformat": 4,
  "nbformat_minor": 0,
  "metadata": {
    "colab": {
      "provenance": [],
      "gpuType": "T4"
    },
    "kernelspec": {
      "name": "python3",
      "display_name": "Python 3"
    },
    "language_info": {
      "name": "python"
    },
    "accelerator": "GPU",
    "widgets": {
      "application/vnd.jupyter.widget-state+json": {
        "72d6211244604379bf0244df8c10dee9": {
          "model_module": "@jupyter-widgets/controls",
          "model_name": "HBoxModel",
          "model_module_version": "1.5.0",
          "state": {
            "_dom_classes": [],
            "_model_module": "@jupyter-widgets/controls",
            "_model_module_version": "1.5.0",
            "_model_name": "HBoxModel",
            "_view_count": null,
            "_view_module": "@jupyter-widgets/controls",
            "_view_module_version": "1.5.0",
            "_view_name": "HBoxView",
            "box_style": "",
            "children": [
              "IPY_MODEL_f17cad0b20b14e3c92a1f7a61b17c4e9",
              "IPY_MODEL_9768ce67d095457280f043b303b311a3",
              "IPY_MODEL_ba6dd44318434eab80d12a5e377416ff"
            ],
            "layout": "IPY_MODEL_ab0fdd98160b4b83bb438789710cd339"
          }
        },
        "f17cad0b20b14e3c92a1f7a61b17c4e9": {
          "model_module": "@jupyter-widgets/controls",
          "model_name": "HTMLModel",
          "model_module_version": "1.5.0",
          "state": {
            "_dom_classes": [],
            "_model_module": "@jupyter-widgets/controls",
            "_model_module_version": "1.5.0",
            "_model_name": "HTMLModel",
            "_view_count": null,
            "_view_module": "@jupyter-widgets/controls",
            "_view_module_version": "1.5.0",
            "_view_name": "HTMLView",
            "description": "",
            "description_tooltip": null,
            "layout": "IPY_MODEL_7b6cfc531e824c35ab14ac4b80e0bec3",
            "placeholder": "​",
            "style": "IPY_MODEL_749b2202847347a7991a7c5f1a645ad8",
            "value": "Downloading builder script: 100%"
          }
        },
        "9768ce67d095457280f043b303b311a3": {
          "model_module": "@jupyter-widgets/controls",
          "model_name": "FloatProgressModel",
          "model_module_version": "1.5.0",
          "state": {
            "_dom_classes": [],
            "_model_module": "@jupyter-widgets/controls",
            "_model_module_version": "1.5.0",
            "_model_name": "FloatProgressModel",
            "_view_count": null,
            "_view_module": "@jupyter-widgets/controls",
            "_view_module_version": "1.5.0",
            "_view_name": "ProgressView",
            "bar_style": "success",
            "description": "",
            "description_tooltip": null,
            "layout": "IPY_MODEL_fbb44978bc02401cb4ba052d6b968375",
            "max": 6410,
            "min": 0,
            "orientation": "horizontal",
            "style": "IPY_MODEL_e4c759b2ecb44257b543dfed42816dba",
            "value": 6410
          }
        },
        "ba6dd44318434eab80d12a5e377416ff": {
          "model_module": "@jupyter-widgets/controls",
          "model_name": "HTMLModel",
          "model_module_version": "1.5.0",
          "state": {
            "_dom_classes": [],
            "_model_module": "@jupyter-widgets/controls",
            "_model_module_version": "1.5.0",
            "_model_name": "HTMLModel",
            "_view_count": null,
            "_view_module": "@jupyter-widgets/controls",
            "_view_module_version": "1.5.0",
            "_view_name": "HTMLView",
            "description": "",
            "description_tooltip": null,
            "layout": "IPY_MODEL_a1af59e849ae42199e09ad35d0cd68d9",
            "placeholder": "​",
            "style": "IPY_MODEL_8844620cc6fb4c47a23c8aebc93f6baa",
            "value": " 6.41k/6.41k [00:00&lt;00:00, 140kB/s]"
          }
        },
        "ab0fdd98160b4b83bb438789710cd339": {
          "model_module": "@jupyter-widgets/base",
          "model_name": "LayoutModel",
          "model_module_version": "1.2.0",
          "state": {
            "_model_module": "@jupyter-widgets/base",
            "_model_module_version": "1.2.0",
            "_model_name": "LayoutModel",
            "_view_count": null,
            "_view_module": "@jupyter-widgets/base",
            "_view_module_version": "1.2.0",
            "_view_name": "LayoutView",
            "align_content": null,
            "align_items": null,
            "align_self": null,
            "border": null,
            "bottom": null,
            "display": null,
            "flex": null,
            "flex_flow": null,
            "grid_area": null,
            "grid_auto_columns": null,
            "grid_auto_flow": null,
            "grid_auto_rows": null,
            "grid_column": null,
            "grid_gap": null,
            "grid_row": null,
            "grid_template_areas": null,
            "grid_template_columns": null,
            "grid_template_rows": null,
            "height": null,
            "justify_content": null,
            "justify_items": null,
            "left": null,
            "margin": null,
            "max_height": null,
            "max_width": null,
            "min_height": null,
            "min_width": null,
            "object_fit": null,
            "object_position": null,
            "order": null,
            "overflow": null,
            "overflow_x": null,
            "overflow_y": null,
            "padding": null,
            "right": null,
            "top": null,
            "visibility": null,
            "width": null
          }
        },
        "7b6cfc531e824c35ab14ac4b80e0bec3": {
          "model_module": "@jupyter-widgets/base",
          "model_name": "LayoutModel",
          "model_module_version": "1.2.0",
          "state": {
            "_model_module": "@jupyter-widgets/base",
            "_model_module_version": "1.2.0",
            "_model_name": "LayoutModel",
            "_view_count": null,
            "_view_module": "@jupyter-widgets/base",
            "_view_module_version": "1.2.0",
            "_view_name": "LayoutView",
            "align_content": null,
            "align_items": null,
            "align_self": null,
            "border": null,
            "bottom": null,
            "display": null,
            "flex": null,
            "flex_flow": null,
            "grid_area": null,
            "grid_auto_columns": null,
            "grid_auto_flow": null,
            "grid_auto_rows": null,
            "grid_column": null,
            "grid_gap": null,
            "grid_row": null,
            "grid_template_areas": null,
            "grid_template_columns": null,
            "grid_template_rows": null,
            "height": null,
            "justify_content": null,
            "justify_items": null,
            "left": null,
            "margin": null,
            "max_height": null,
            "max_width": null,
            "min_height": null,
            "min_width": null,
            "object_fit": null,
            "object_position": null,
            "order": null,
            "overflow": null,
            "overflow_x": null,
            "overflow_y": null,
            "padding": null,
            "right": null,
            "top": null,
            "visibility": null,
            "width": null
          }
        },
        "749b2202847347a7991a7c5f1a645ad8": {
          "model_module": "@jupyter-widgets/controls",
          "model_name": "DescriptionStyleModel",
          "model_module_version": "1.5.0",
          "state": {
            "_model_module": "@jupyter-widgets/controls",
            "_model_module_version": "1.5.0",
            "_model_name": "DescriptionStyleModel",
            "_view_count": null,
            "_view_module": "@jupyter-widgets/base",
            "_view_module_version": "1.2.0",
            "_view_name": "StyleView",
            "description_width": ""
          }
        },
        "fbb44978bc02401cb4ba052d6b968375": {
          "model_module": "@jupyter-widgets/base",
          "model_name": "LayoutModel",
          "model_module_version": "1.2.0",
          "state": {
            "_model_module": "@jupyter-widgets/base",
            "_model_module_version": "1.2.0",
            "_model_name": "LayoutModel",
            "_view_count": null,
            "_view_module": "@jupyter-widgets/base",
            "_view_module_version": "1.2.0",
            "_view_name": "LayoutView",
            "align_content": null,
            "align_items": null,
            "align_self": null,
            "border": null,
            "bottom": null,
            "display": null,
            "flex": null,
            "flex_flow": null,
            "grid_area": null,
            "grid_auto_columns": null,
            "grid_auto_flow": null,
            "grid_auto_rows": null,
            "grid_column": null,
            "grid_gap": null,
            "grid_row": null,
            "grid_template_areas": null,
            "grid_template_columns": null,
            "grid_template_rows": null,
            "height": null,
            "justify_content": null,
            "justify_items": null,
            "left": null,
            "margin": null,
            "max_height": null,
            "max_width": null,
            "min_height": null,
            "min_width": null,
            "object_fit": null,
            "object_position": null,
            "order": null,
            "overflow": null,
            "overflow_x": null,
            "overflow_y": null,
            "padding": null,
            "right": null,
            "top": null,
            "visibility": null,
            "width": null
          }
        },
        "e4c759b2ecb44257b543dfed42816dba": {
          "model_module": "@jupyter-widgets/controls",
          "model_name": "ProgressStyleModel",
          "model_module_version": "1.5.0",
          "state": {
            "_model_module": "@jupyter-widgets/controls",
            "_model_module_version": "1.5.0",
            "_model_name": "ProgressStyleModel",
            "_view_count": null,
            "_view_module": "@jupyter-widgets/base",
            "_view_module_version": "1.2.0",
            "_view_name": "StyleView",
            "bar_color": null,
            "description_width": ""
          }
        },
        "a1af59e849ae42199e09ad35d0cd68d9": {
          "model_module": "@jupyter-widgets/base",
          "model_name": "LayoutModel",
          "model_module_version": "1.2.0",
          "state": {
            "_model_module": "@jupyter-widgets/base",
            "_model_module_version": "1.2.0",
            "_model_name": "LayoutModel",
            "_view_count": null,
            "_view_module": "@jupyter-widgets/base",
            "_view_module_version": "1.2.0",
            "_view_name": "LayoutView",
            "align_content": null,
            "align_items": null,
            "align_self": null,
            "border": null,
            "bottom": null,
            "display": null,
            "flex": null,
            "flex_flow": null,
            "grid_area": null,
            "grid_auto_columns": null,
            "grid_auto_flow": null,
            "grid_auto_rows": null,
            "grid_column": null,
            "grid_gap": null,
            "grid_row": null,
            "grid_template_areas": null,
            "grid_template_columns": null,
            "grid_template_rows": null,
            "height": null,
            "justify_content": null,
            "justify_items": null,
            "left": null,
            "margin": null,
            "max_height": null,
            "max_width": null,
            "min_height": null,
            "min_width": null,
            "object_fit": null,
            "object_position": null,
            "order": null,
            "overflow": null,
            "overflow_x": null,
            "overflow_y": null,
            "padding": null,
            "right": null,
            "top": null,
            "visibility": null,
            "width": null
          }
        },
        "8844620cc6fb4c47a23c8aebc93f6baa": {
          "model_module": "@jupyter-widgets/controls",
          "model_name": "DescriptionStyleModel",
          "model_module_version": "1.5.0",
          "state": {
            "_model_module": "@jupyter-widgets/controls",
            "_model_module_version": "1.5.0",
            "_model_name": "DescriptionStyleModel",
            "_view_count": null,
            "_view_module": "@jupyter-widgets/base",
            "_view_module_version": "1.2.0",
            "_view_name": "StyleView",
            "description_width": ""
          }
        },
        "2fea4d321aec4564872ea7df2c8f3190": {
          "model_module": "@jupyter-widgets/controls",
          "model_name": "HBoxModel",
          "model_module_version": "1.5.0",
          "state": {
            "_dom_classes": [],
            "_model_module": "@jupyter-widgets/controls",
            "_model_module_version": "1.5.0",
            "_model_name": "HBoxModel",
            "_view_count": null,
            "_view_module": "@jupyter-widgets/controls",
            "_view_module_version": "1.5.0",
            "_view_name": "HBoxView",
            "box_style": "",
            "children": [
              "IPY_MODEL_117acc157e1344e992420dc2601ce84a",
              "IPY_MODEL_bce9a5d24cdc41b3b7d85ba7751cece5",
              "IPY_MODEL_20b7734c926b47609be2eab624884ccf"
            ],
            "layout": "IPY_MODEL_f20cb944912b4220b4ae7cb7ffd62dd0"
          }
        },
        "117acc157e1344e992420dc2601ce84a": {
          "model_module": "@jupyter-widgets/controls",
          "model_name": "HTMLModel",
          "model_module_version": "1.5.0",
          "state": {
            "_dom_classes": [],
            "_model_module": "@jupyter-widgets/controls",
            "_model_module_version": "1.5.0",
            "_model_name": "HTMLModel",
            "_view_count": null,
            "_view_module": "@jupyter-widgets/controls",
            "_view_module_version": "1.5.0",
            "_view_name": "HTMLView",
            "description": "",
            "description_tooltip": null,
            "layout": "IPY_MODEL_93319297215b4f7b8ad729b59ced4100",
            "placeholder": "​",
            "style": "IPY_MODEL_adae4f09eeeb4eb0a2e1cb1a9f39cf9c",
            "value": "Downloading metadata: 100%"
          }
        },
        "bce9a5d24cdc41b3b7d85ba7751cece5": {
          "model_module": "@jupyter-widgets/controls",
          "model_name": "FloatProgressModel",
          "model_module_version": "1.5.0",
          "state": {
            "_dom_classes": [],
            "_model_module": "@jupyter-widgets/controls",
            "_model_module_version": "1.5.0",
            "_model_name": "FloatProgressModel",
            "_view_count": null,
            "_view_module": "@jupyter-widgets/controls",
            "_view_module_version": "1.5.0",
            "_view_name": "ProgressView",
            "bar_style": "success",
            "description": "",
            "description_tooltip": null,
            "layout": "IPY_MODEL_5c6b3a65c5284a8cb2a043a2dec46ea1",
            "max": 4031,
            "min": 0,
            "orientation": "horizontal",
            "style": "IPY_MODEL_7e8739996b594872b344d4c841c6a14d",
            "value": 4031
          }
        },
        "20b7734c926b47609be2eab624884ccf": {
          "model_module": "@jupyter-widgets/controls",
          "model_name": "HTMLModel",
          "model_module_version": "1.5.0",
          "state": {
            "_dom_classes": [],
            "_model_module": "@jupyter-widgets/controls",
            "_model_module_version": "1.5.0",
            "_model_name": "HTMLModel",
            "_view_count": null,
            "_view_module": "@jupyter-widgets/controls",
            "_view_module_version": "1.5.0",
            "_view_name": "HTMLView",
            "description": "",
            "description_tooltip": null,
            "layout": "IPY_MODEL_032a6562767d407b8805f3847927d733",
            "placeholder": "​",
            "style": "IPY_MODEL_9e760305f119444f8e3a31961c395947",
            "value": " 4.03k/4.03k [00:00&lt;00:00, 82.7kB/s]"
          }
        },
        "f20cb944912b4220b4ae7cb7ffd62dd0": {
          "model_module": "@jupyter-widgets/base",
          "model_name": "LayoutModel",
          "model_module_version": "1.2.0",
          "state": {
            "_model_module": "@jupyter-widgets/base",
            "_model_module_version": "1.2.0",
            "_model_name": "LayoutModel",
            "_view_count": null,
            "_view_module": "@jupyter-widgets/base",
            "_view_module_version": "1.2.0",
            "_view_name": "LayoutView",
            "align_content": null,
            "align_items": null,
            "align_self": null,
            "border": null,
            "bottom": null,
            "display": null,
            "flex": null,
            "flex_flow": null,
            "grid_area": null,
            "grid_auto_columns": null,
            "grid_auto_flow": null,
            "grid_auto_rows": null,
            "grid_column": null,
            "grid_gap": null,
            "grid_row": null,
            "grid_template_areas": null,
            "grid_template_columns": null,
            "grid_template_rows": null,
            "height": null,
            "justify_content": null,
            "justify_items": null,
            "left": null,
            "margin": null,
            "max_height": null,
            "max_width": null,
            "min_height": null,
            "min_width": null,
            "object_fit": null,
            "object_position": null,
            "order": null,
            "overflow": null,
            "overflow_x": null,
            "overflow_y": null,
            "padding": null,
            "right": null,
            "top": null,
            "visibility": null,
            "width": null
          }
        },
        "93319297215b4f7b8ad729b59ced4100": {
          "model_module": "@jupyter-widgets/base",
          "model_name": "LayoutModel",
          "model_module_version": "1.2.0",
          "state": {
            "_model_module": "@jupyter-widgets/base",
            "_model_module_version": "1.2.0",
            "_model_name": "LayoutModel",
            "_view_count": null,
            "_view_module": "@jupyter-widgets/base",
            "_view_module_version": "1.2.0",
            "_view_name": "LayoutView",
            "align_content": null,
            "align_items": null,
            "align_self": null,
            "border": null,
            "bottom": null,
            "display": null,
            "flex": null,
            "flex_flow": null,
            "grid_area": null,
            "grid_auto_columns": null,
            "grid_auto_flow": null,
            "grid_auto_rows": null,
            "grid_column": null,
            "grid_gap": null,
            "grid_row": null,
            "grid_template_areas": null,
            "grid_template_columns": null,
            "grid_template_rows": null,
            "height": null,
            "justify_content": null,
            "justify_items": null,
            "left": null,
            "margin": null,
            "max_height": null,
            "max_width": null,
            "min_height": null,
            "min_width": null,
            "object_fit": null,
            "object_position": null,
            "order": null,
            "overflow": null,
            "overflow_x": null,
            "overflow_y": null,
            "padding": null,
            "right": null,
            "top": null,
            "visibility": null,
            "width": null
          }
        },
        "adae4f09eeeb4eb0a2e1cb1a9f39cf9c": {
          "model_module": "@jupyter-widgets/controls",
          "model_name": "DescriptionStyleModel",
          "model_module_version": "1.5.0",
          "state": {
            "_model_module": "@jupyter-widgets/controls",
            "_model_module_version": "1.5.0",
            "_model_name": "DescriptionStyleModel",
            "_view_count": null,
            "_view_module": "@jupyter-widgets/base",
            "_view_module_version": "1.2.0",
            "_view_name": "StyleView",
            "description_width": ""
          }
        },
        "5c6b3a65c5284a8cb2a043a2dec46ea1": {
          "model_module": "@jupyter-widgets/base",
          "model_name": "LayoutModel",
          "model_module_version": "1.2.0",
          "state": {
            "_model_module": "@jupyter-widgets/base",
            "_model_module_version": "1.2.0",
            "_model_name": "LayoutModel",
            "_view_count": null,
            "_view_module": "@jupyter-widgets/base",
            "_view_module_version": "1.2.0",
            "_view_name": "LayoutView",
            "align_content": null,
            "align_items": null,
            "align_self": null,
            "border": null,
            "bottom": null,
            "display": null,
            "flex": null,
            "flex_flow": null,
            "grid_area": null,
            "grid_auto_columns": null,
            "grid_auto_flow": null,
            "grid_auto_rows": null,
            "grid_column": null,
            "grid_gap": null,
            "grid_row": null,
            "grid_template_areas": null,
            "grid_template_columns": null,
            "grid_template_rows": null,
            "height": null,
            "justify_content": null,
            "justify_items": null,
            "left": null,
            "margin": null,
            "max_height": null,
            "max_width": null,
            "min_height": null,
            "min_width": null,
            "object_fit": null,
            "object_position": null,
            "order": null,
            "overflow": null,
            "overflow_x": null,
            "overflow_y": null,
            "padding": null,
            "right": null,
            "top": null,
            "visibility": null,
            "width": null
          }
        },
        "7e8739996b594872b344d4c841c6a14d": {
          "model_module": "@jupyter-widgets/controls",
          "model_name": "ProgressStyleModel",
          "model_module_version": "1.5.0",
          "state": {
            "_model_module": "@jupyter-widgets/controls",
            "_model_module_version": "1.5.0",
            "_model_name": "ProgressStyleModel",
            "_view_count": null,
            "_view_module": "@jupyter-widgets/base",
            "_view_module_version": "1.2.0",
            "_view_name": "StyleView",
            "bar_color": null,
            "description_width": ""
          }
        },
        "032a6562767d407b8805f3847927d733": {
          "model_module": "@jupyter-widgets/base",
          "model_name": "LayoutModel",
          "model_module_version": "1.2.0",
          "state": {
            "_model_module": "@jupyter-widgets/base",
            "_model_module_version": "1.2.0",
            "_model_name": "LayoutModel",
            "_view_count": null,
            "_view_module": "@jupyter-widgets/base",
            "_view_module_version": "1.2.0",
            "_view_name": "LayoutView",
            "align_content": null,
            "align_items": null,
            "align_self": null,
            "border": null,
            "bottom": null,
            "display": null,
            "flex": null,
            "flex_flow": null,
            "grid_area": null,
            "grid_auto_columns": null,
            "grid_auto_flow": null,
            "grid_auto_rows": null,
            "grid_column": null,
            "grid_gap": null,
            "grid_row": null,
            "grid_template_areas": null,
            "grid_template_columns": null,
            "grid_template_rows": null,
            "height": null,
            "justify_content": null,
            "justify_items": null,
            "left": null,
            "margin": null,
            "max_height": null,
            "max_width": null,
            "min_height": null,
            "min_width": null,
            "object_fit": null,
            "object_position": null,
            "order": null,
            "overflow": null,
            "overflow_x": null,
            "overflow_y": null,
            "padding": null,
            "right": null,
            "top": null,
            "visibility": null,
            "width": null
          }
        },
        "9e760305f119444f8e3a31961c395947": {
          "model_module": "@jupyter-widgets/controls",
          "model_name": "DescriptionStyleModel",
          "model_module_version": "1.5.0",
          "state": {
            "_model_module": "@jupyter-widgets/controls",
            "_model_module_version": "1.5.0",
            "_model_name": "DescriptionStyleModel",
            "_view_count": null,
            "_view_module": "@jupyter-widgets/base",
            "_view_module_version": "1.2.0",
            "_view_name": "StyleView",
            "description_width": ""
          }
        },
        "0538a195a95044149a0990b0ff40cad4": {
          "model_module": "@jupyter-widgets/controls",
          "model_name": "HBoxModel",
          "model_module_version": "1.5.0",
          "state": {
            "_dom_classes": [],
            "_model_module": "@jupyter-widgets/controls",
            "_model_module_version": "1.5.0",
            "_model_name": "HBoxModel",
            "_view_count": null,
            "_view_module": "@jupyter-widgets/controls",
            "_view_module_version": "1.5.0",
            "_view_name": "HBoxView",
            "box_style": "",
            "children": [
              "IPY_MODEL_c542ecb2698540f68c5435f44b0d4c96",
              "IPY_MODEL_77277eeedafb4e62b37bc439dd4131a1",
              "IPY_MODEL_e6a16bb404d34340ad96c28e5d0d83b5"
            ],
            "layout": "IPY_MODEL_0cf598d50e24469faf8c26543840d90e"
          }
        },
        "c542ecb2698540f68c5435f44b0d4c96": {
          "model_module": "@jupyter-widgets/controls",
          "model_name": "HTMLModel",
          "model_module_version": "1.5.0",
          "state": {
            "_dom_classes": [],
            "_model_module": "@jupyter-widgets/controls",
            "_model_module_version": "1.5.0",
            "_model_name": "HTMLModel",
            "_view_count": null,
            "_view_module": "@jupyter-widgets/controls",
            "_view_module_version": "1.5.0",
            "_view_name": "HTMLView",
            "description": "",
            "description_tooltip": null,
            "layout": "IPY_MODEL_ee7bd40b1a6f4a24ace2fb6afb25ab79",
            "placeholder": "​",
            "style": "IPY_MODEL_2b3cdc58c47a48fba2b5310739ee3b71",
            "value": "Downloading readme: 100%"
          }
        },
        "77277eeedafb4e62b37bc439dd4131a1": {
          "model_module": "@jupyter-widgets/controls",
          "model_name": "FloatProgressModel",
          "model_module_version": "1.5.0",
          "state": {
            "_dom_classes": [],
            "_model_module": "@jupyter-widgets/controls",
            "_model_module_version": "1.5.0",
            "_model_name": "FloatProgressModel",
            "_view_count": null,
            "_view_module": "@jupyter-widgets/controls",
            "_view_module_version": "1.5.0",
            "_view_name": "ProgressView",
            "bar_style": "success",
            "description": "",
            "description_tooltip": null,
            "layout": "IPY_MODEL_b756be29c51a455e88fcdc0f7343487d",
            "max": 5159,
            "min": 0,
            "orientation": "horizontal",
            "style": "IPY_MODEL_ee2afeeae5b54a418833f3529ba6abf7",
            "value": 5159
          }
        },
        "e6a16bb404d34340ad96c28e5d0d83b5": {
          "model_module": "@jupyter-widgets/controls",
          "model_name": "HTMLModel",
          "model_module_version": "1.5.0",
          "state": {
            "_dom_classes": [],
            "_model_module": "@jupyter-widgets/controls",
            "_model_module_version": "1.5.0",
            "_model_name": "HTMLModel",
            "_view_count": null,
            "_view_module": "@jupyter-widgets/controls",
            "_view_module_version": "1.5.0",
            "_view_name": "HTMLView",
            "description": "",
            "description_tooltip": null,
            "layout": "IPY_MODEL_cbcabce8ea394dc18f01099c59b7054e",
            "placeholder": "​",
            "style": "IPY_MODEL_52b3ad3767d54b0f84b247a9e653f6e7",
            "value": " 5.16k/5.16k [00:00&lt;00:00, 211kB/s]"
          }
        },
        "0cf598d50e24469faf8c26543840d90e": {
          "model_module": "@jupyter-widgets/base",
          "model_name": "LayoutModel",
          "model_module_version": "1.2.0",
          "state": {
            "_model_module": "@jupyter-widgets/base",
            "_model_module_version": "1.2.0",
            "_model_name": "LayoutModel",
            "_view_count": null,
            "_view_module": "@jupyter-widgets/base",
            "_view_module_version": "1.2.0",
            "_view_name": "LayoutView",
            "align_content": null,
            "align_items": null,
            "align_self": null,
            "border": null,
            "bottom": null,
            "display": null,
            "flex": null,
            "flex_flow": null,
            "grid_area": null,
            "grid_auto_columns": null,
            "grid_auto_flow": null,
            "grid_auto_rows": null,
            "grid_column": null,
            "grid_gap": null,
            "grid_row": null,
            "grid_template_areas": null,
            "grid_template_columns": null,
            "grid_template_rows": null,
            "height": null,
            "justify_content": null,
            "justify_items": null,
            "left": null,
            "margin": null,
            "max_height": null,
            "max_width": null,
            "min_height": null,
            "min_width": null,
            "object_fit": null,
            "object_position": null,
            "order": null,
            "overflow": null,
            "overflow_x": null,
            "overflow_y": null,
            "padding": null,
            "right": null,
            "top": null,
            "visibility": null,
            "width": null
          }
        },
        "ee7bd40b1a6f4a24ace2fb6afb25ab79": {
          "model_module": "@jupyter-widgets/base",
          "model_name": "LayoutModel",
          "model_module_version": "1.2.0",
          "state": {
            "_model_module": "@jupyter-widgets/base",
            "_model_module_version": "1.2.0",
            "_model_name": "LayoutModel",
            "_view_count": null,
            "_view_module": "@jupyter-widgets/base",
            "_view_module_version": "1.2.0",
            "_view_name": "LayoutView",
            "align_content": null,
            "align_items": null,
            "align_self": null,
            "border": null,
            "bottom": null,
            "display": null,
            "flex": null,
            "flex_flow": null,
            "grid_area": null,
            "grid_auto_columns": null,
            "grid_auto_flow": null,
            "grid_auto_rows": null,
            "grid_column": null,
            "grid_gap": null,
            "grid_row": null,
            "grid_template_areas": null,
            "grid_template_columns": null,
            "grid_template_rows": null,
            "height": null,
            "justify_content": null,
            "justify_items": null,
            "left": null,
            "margin": null,
            "max_height": null,
            "max_width": null,
            "min_height": null,
            "min_width": null,
            "object_fit": null,
            "object_position": null,
            "order": null,
            "overflow": null,
            "overflow_x": null,
            "overflow_y": null,
            "padding": null,
            "right": null,
            "top": null,
            "visibility": null,
            "width": null
          }
        },
        "2b3cdc58c47a48fba2b5310739ee3b71": {
          "model_module": "@jupyter-widgets/controls",
          "model_name": "DescriptionStyleModel",
          "model_module_version": "1.5.0",
          "state": {
            "_model_module": "@jupyter-widgets/controls",
            "_model_module_version": "1.5.0",
            "_model_name": "DescriptionStyleModel",
            "_view_count": null,
            "_view_module": "@jupyter-widgets/base",
            "_view_module_version": "1.2.0",
            "_view_name": "StyleView",
            "description_width": ""
          }
        },
        "b756be29c51a455e88fcdc0f7343487d": {
          "model_module": "@jupyter-widgets/base",
          "model_name": "LayoutModel",
          "model_module_version": "1.2.0",
          "state": {
            "_model_module": "@jupyter-widgets/base",
            "_model_module_version": "1.2.0",
            "_model_name": "LayoutModel",
            "_view_count": null,
            "_view_module": "@jupyter-widgets/base",
            "_view_module_version": "1.2.0",
            "_view_name": "LayoutView",
            "align_content": null,
            "align_items": null,
            "align_self": null,
            "border": null,
            "bottom": null,
            "display": null,
            "flex": null,
            "flex_flow": null,
            "grid_area": null,
            "grid_auto_columns": null,
            "grid_auto_flow": null,
            "grid_auto_rows": null,
            "grid_column": null,
            "grid_gap": null,
            "grid_row": null,
            "grid_template_areas": null,
            "grid_template_columns": null,
            "grid_template_rows": null,
            "height": null,
            "justify_content": null,
            "justify_items": null,
            "left": null,
            "margin": null,
            "max_height": null,
            "max_width": null,
            "min_height": null,
            "min_width": null,
            "object_fit": null,
            "object_position": null,
            "order": null,
            "overflow": null,
            "overflow_x": null,
            "overflow_y": null,
            "padding": null,
            "right": null,
            "top": null,
            "visibility": null,
            "width": null
          }
        },
        "ee2afeeae5b54a418833f3529ba6abf7": {
          "model_module": "@jupyter-widgets/controls",
          "model_name": "ProgressStyleModel",
          "model_module_version": "1.5.0",
          "state": {
            "_model_module": "@jupyter-widgets/controls",
            "_model_module_version": "1.5.0",
            "_model_name": "ProgressStyleModel",
            "_view_count": null,
            "_view_module": "@jupyter-widgets/base",
            "_view_module_version": "1.2.0",
            "_view_name": "StyleView",
            "bar_color": null,
            "description_width": ""
          }
        },
        "cbcabce8ea394dc18f01099c59b7054e": {
          "model_module": "@jupyter-widgets/base",
          "model_name": "LayoutModel",
          "model_module_version": "1.2.0",
          "state": {
            "_model_module": "@jupyter-widgets/base",
            "_model_module_version": "1.2.0",
            "_model_name": "LayoutModel",
            "_view_count": null,
            "_view_module": "@jupyter-widgets/base",
            "_view_module_version": "1.2.0",
            "_view_name": "LayoutView",
            "align_content": null,
            "align_items": null,
            "align_self": null,
            "border": null,
            "bottom": null,
            "display": null,
            "flex": null,
            "flex_flow": null,
            "grid_area": null,
            "grid_auto_columns": null,
            "grid_auto_flow": null,
            "grid_auto_rows": null,
            "grid_column": null,
            "grid_gap": null,
            "grid_row": null,
            "grid_template_areas": null,
            "grid_template_columns": null,
            "grid_template_rows": null,
            "height": null,
            "justify_content": null,
            "justify_items": null,
            "left": null,
            "margin": null,
            "max_height": null,
            "max_width": null,
            "min_height": null,
            "min_width": null,
            "object_fit": null,
            "object_position": null,
            "order": null,
            "overflow": null,
            "overflow_x": null,
            "overflow_y": null,
            "padding": null,
            "right": null,
            "top": null,
            "visibility": null,
            "width": null
          }
        },
        "52b3ad3767d54b0f84b247a9e653f6e7": {
          "model_module": "@jupyter-widgets/controls",
          "model_name": "DescriptionStyleModel",
          "model_module_version": "1.5.0",
          "state": {
            "_model_module": "@jupyter-widgets/controls",
            "_model_module_version": "1.5.0",
            "_model_name": "DescriptionStyleModel",
            "_view_count": null,
            "_view_module": "@jupyter-widgets/base",
            "_view_module_version": "1.2.0",
            "_view_name": "StyleView",
            "description_width": ""
          }
        },
        "64d4375b785847d5a5576270730e350b": {
          "model_module": "@jupyter-widgets/controls",
          "model_name": "HBoxModel",
          "model_module_version": "1.5.0",
          "state": {
            "_dom_classes": [],
            "_model_module": "@jupyter-widgets/controls",
            "_model_module_version": "1.5.0",
            "_model_name": "HBoxModel",
            "_view_count": null,
            "_view_module": "@jupyter-widgets/controls",
            "_view_module_version": "1.5.0",
            "_view_name": "HBoxView",
            "box_style": "",
            "children": [
              "IPY_MODEL_53b69c3b61884579a11a033ca9c280dd",
              "IPY_MODEL_f133afc907b944a289f96bd2c100851f",
              "IPY_MODEL_8d88af0046764f4aa201d67776ec3103"
            ],
            "layout": "IPY_MODEL_ef6b1175fb3e44ada13ff70a41834938"
          }
        },
        "53b69c3b61884579a11a033ca9c280dd": {
          "model_module": "@jupyter-widgets/controls",
          "model_name": "HTMLModel",
          "model_module_version": "1.5.0",
          "state": {
            "_dom_classes": [],
            "_model_module": "@jupyter-widgets/controls",
            "_model_module_version": "1.5.0",
            "_model_name": "HTMLModel",
            "_view_count": null,
            "_view_module": "@jupyter-widgets/controls",
            "_view_module_version": "1.5.0",
            "_view_name": "HTMLView",
            "description": "",
            "description_tooltip": null,
            "layout": "IPY_MODEL_3ab08713d2d8459da290aa05beb0897c",
            "placeholder": "​",
            "style": "IPY_MODEL_0a037a15177f428497503118aab36068",
            "value": "Downloading data: 100%"
          }
        },
        "f133afc907b944a289f96bd2c100851f": {
          "model_module": "@jupyter-widgets/controls",
          "model_name": "FloatProgressModel",
          "model_module_version": "1.5.0",
          "state": {
            "_dom_classes": [],
            "_model_module": "@jupyter-widgets/controls",
            "_model_module_version": "1.5.0",
            "_model_name": "FloatProgressModel",
            "_view_count": null,
            "_view_module": "@jupyter-widgets/controls",
            "_view_module_version": "1.5.0",
            "_view_name": "ProgressView",
            "bar_style": "success",
            "description": "",
            "description_tooltip": null,
            "layout": "IPY_MODEL_4073e1604a8c4894bd941358d4dde53d",
            "max": 1013571,
            "min": 0,
            "orientation": "horizontal",
            "style": "IPY_MODEL_2af3887573b1428a91f31eb578736f9e",
            "value": 1013571
          }
        },
        "8d88af0046764f4aa201d67776ec3103": {
          "model_module": "@jupyter-widgets/controls",
          "model_name": "HTMLModel",
          "model_module_version": "1.5.0",
          "state": {
            "_dom_classes": [],
            "_model_module": "@jupyter-widgets/controls",
            "_model_module_version": "1.5.0",
            "_model_name": "HTMLModel",
            "_view_count": null,
            "_view_module": "@jupyter-widgets/controls",
            "_view_module_version": "1.5.0",
            "_view_name": "HTMLView",
            "description": "",
            "description_tooltip": null,
            "layout": "IPY_MODEL_c1fcab5ca23f4d5aa281771c4acf8187",
            "placeholder": "​",
            "style": "IPY_MODEL_58f8b72fb6ed4169917b69dffce4816e",
            "value": " 1.01M/1.01M [00:00&lt;00:00, 1.37MB/s]"
          }
        },
        "ef6b1175fb3e44ada13ff70a41834938": {
          "model_module": "@jupyter-widgets/base",
          "model_name": "LayoutModel",
          "model_module_version": "1.2.0",
          "state": {
            "_model_module": "@jupyter-widgets/base",
            "_model_module_version": "1.2.0",
            "_model_name": "LayoutModel",
            "_view_count": null,
            "_view_module": "@jupyter-widgets/base",
            "_view_module_version": "1.2.0",
            "_view_name": "LayoutView",
            "align_content": null,
            "align_items": null,
            "align_self": null,
            "border": null,
            "bottom": null,
            "display": null,
            "flex": null,
            "flex_flow": null,
            "grid_area": null,
            "grid_auto_columns": null,
            "grid_auto_flow": null,
            "grid_auto_rows": null,
            "grid_column": null,
            "grid_gap": null,
            "grid_row": null,
            "grid_template_areas": null,
            "grid_template_columns": null,
            "grid_template_rows": null,
            "height": null,
            "justify_content": null,
            "justify_items": null,
            "left": null,
            "margin": null,
            "max_height": null,
            "max_width": null,
            "min_height": null,
            "min_width": null,
            "object_fit": null,
            "object_position": null,
            "order": null,
            "overflow": null,
            "overflow_x": null,
            "overflow_y": null,
            "padding": null,
            "right": null,
            "top": null,
            "visibility": null,
            "width": null
          }
        },
        "3ab08713d2d8459da290aa05beb0897c": {
          "model_module": "@jupyter-widgets/base",
          "model_name": "LayoutModel",
          "model_module_version": "1.2.0",
          "state": {
            "_model_module": "@jupyter-widgets/base",
            "_model_module_version": "1.2.0",
            "_model_name": "LayoutModel",
            "_view_count": null,
            "_view_module": "@jupyter-widgets/base",
            "_view_module_version": "1.2.0",
            "_view_name": "LayoutView",
            "align_content": null,
            "align_items": null,
            "align_self": null,
            "border": null,
            "bottom": null,
            "display": null,
            "flex": null,
            "flex_flow": null,
            "grid_area": null,
            "grid_auto_columns": null,
            "grid_auto_flow": null,
            "grid_auto_rows": null,
            "grid_column": null,
            "grid_gap": null,
            "grid_row": null,
            "grid_template_areas": null,
            "grid_template_columns": null,
            "grid_template_rows": null,
            "height": null,
            "justify_content": null,
            "justify_items": null,
            "left": null,
            "margin": null,
            "max_height": null,
            "max_width": null,
            "min_height": null,
            "min_width": null,
            "object_fit": null,
            "object_position": null,
            "order": null,
            "overflow": null,
            "overflow_x": null,
            "overflow_y": null,
            "padding": null,
            "right": null,
            "top": null,
            "visibility": null,
            "width": null
          }
        },
        "0a037a15177f428497503118aab36068": {
          "model_module": "@jupyter-widgets/controls",
          "model_name": "DescriptionStyleModel",
          "model_module_version": "1.5.0",
          "state": {
            "_model_module": "@jupyter-widgets/controls",
            "_model_module_version": "1.5.0",
            "_model_name": "DescriptionStyleModel",
            "_view_count": null,
            "_view_module": "@jupyter-widgets/base",
            "_view_module_version": "1.2.0",
            "_view_name": "StyleView",
            "description_width": ""
          }
        },
        "4073e1604a8c4894bd941358d4dde53d": {
          "model_module": "@jupyter-widgets/base",
          "model_name": "LayoutModel",
          "model_module_version": "1.2.0",
          "state": {
            "_model_module": "@jupyter-widgets/base",
            "_model_module_version": "1.2.0",
            "_model_name": "LayoutModel",
            "_view_count": null,
            "_view_module": "@jupyter-widgets/base",
            "_view_module_version": "1.2.0",
            "_view_name": "LayoutView",
            "align_content": null,
            "align_items": null,
            "align_self": null,
            "border": null,
            "bottom": null,
            "display": null,
            "flex": null,
            "flex_flow": null,
            "grid_area": null,
            "grid_auto_columns": null,
            "grid_auto_flow": null,
            "grid_auto_rows": null,
            "grid_column": null,
            "grid_gap": null,
            "grid_row": null,
            "grid_template_areas": null,
            "grid_template_columns": null,
            "grid_template_rows": null,
            "height": null,
            "justify_content": null,
            "justify_items": null,
            "left": null,
            "margin": null,
            "max_height": null,
            "max_width": null,
            "min_height": null,
            "min_width": null,
            "object_fit": null,
            "object_position": null,
            "order": null,
            "overflow": null,
            "overflow_x": null,
            "overflow_y": null,
            "padding": null,
            "right": null,
            "top": null,
            "visibility": null,
            "width": null
          }
        },
        "2af3887573b1428a91f31eb578736f9e": {
          "model_module": "@jupyter-widgets/controls",
          "model_name": "ProgressStyleModel",
          "model_module_version": "1.5.0",
          "state": {
            "_model_module": "@jupyter-widgets/controls",
            "_model_module_version": "1.5.0",
            "_model_name": "ProgressStyleModel",
            "_view_count": null,
            "_view_module": "@jupyter-widgets/base",
            "_view_module_version": "1.2.0",
            "_view_name": "StyleView",
            "bar_color": null,
            "description_width": ""
          }
        },
        "c1fcab5ca23f4d5aa281771c4acf8187": {
          "model_module": "@jupyter-widgets/base",
          "model_name": "LayoutModel",
          "model_module_version": "1.2.0",
          "state": {
            "_model_module": "@jupyter-widgets/base",
            "_model_module_version": "1.2.0",
            "_model_name": "LayoutModel",
            "_view_count": null,
            "_view_module": "@jupyter-widgets/base",
            "_view_module_version": "1.2.0",
            "_view_name": "LayoutView",
            "align_content": null,
            "align_items": null,
            "align_self": null,
            "border": null,
            "bottom": null,
            "display": null,
            "flex": null,
            "flex_flow": null,
            "grid_area": null,
            "grid_auto_columns": null,
            "grid_auto_flow": null,
            "grid_auto_rows": null,
            "grid_column": null,
            "grid_gap": null,
            "grid_row": null,
            "grid_template_areas": null,
            "grid_template_columns": null,
            "grid_template_rows": null,
            "height": null,
            "justify_content": null,
            "justify_items": null,
            "left": null,
            "margin": null,
            "max_height": null,
            "max_width": null,
            "min_height": null,
            "min_width": null,
            "object_fit": null,
            "object_position": null,
            "order": null,
            "overflow": null,
            "overflow_x": null,
            "overflow_y": null,
            "padding": null,
            "right": null,
            "top": null,
            "visibility": null,
            "width": null
          }
        },
        "58f8b72fb6ed4169917b69dffce4816e": {
          "model_module": "@jupyter-widgets/controls",
          "model_name": "DescriptionStyleModel",
          "model_module_version": "1.5.0",
          "state": {
            "_model_module": "@jupyter-widgets/controls",
            "_model_module_version": "1.5.0",
            "_model_name": "DescriptionStyleModel",
            "_view_count": null,
            "_view_module": "@jupyter-widgets/base",
            "_view_module_version": "1.2.0",
            "_view_name": "StyleView",
            "description_width": ""
          }
        },
        "af7d49b7dcca453597fc2ba26c56ad71": {
          "model_module": "@jupyter-widgets/controls",
          "model_name": "HBoxModel",
          "model_module_version": "1.5.0",
          "state": {
            "_dom_classes": [],
            "_model_module": "@jupyter-widgets/controls",
            "_model_module_version": "1.5.0",
            "_model_name": "HBoxModel",
            "_view_count": null,
            "_view_module": "@jupyter-widgets/controls",
            "_view_module_version": "1.5.0",
            "_view_name": "HBoxView",
            "box_style": "",
            "children": [
              "IPY_MODEL_11ea91b2c18545a9bb26a7d4126ba07e",
              "IPY_MODEL_5199ba63d78d496080a28af71042751f",
              "IPY_MODEL_2b04c03eb6d6426c8656b9f6a97a5680"
            ],
            "layout": "IPY_MODEL_6851e1fa9c8946bb81ff06d7ed0f9002"
          }
        },
        "11ea91b2c18545a9bb26a7d4126ba07e": {
          "model_module": "@jupyter-widgets/controls",
          "model_name": "HTMLModel",
          "model_module_version": "1.5.0",
          "state": {
            "_dom_classes": [],
            "_model_module": "@jupyter-widgets/controls",
            "_model_module_version": "1.5.0",
            "_model_name": "HTMLModel",
            "_view_count": null,
            "_view_module": "@jupyter-widgets/controls",
            "_view_module_version": "1.5.0",
            "_view_name": "HTMLView",
            "description": "",
            "description_tooltip": null,
            "layout": "IPY_MODEL_b7284208974c45e3b39ca62ba3482fea",
            "placeholder": "​",
            "style": "IPY_MODEL_e1be42a0b3674034b10568f4451ca03c",
            "value": "Generating train split: 100%"
          }
        },
        "5199ba63d78d496080a28af71042751f": {
          "model_module": "@jupyter-widgets/controls",
          "model_name": "FloatProgressModel",
          "model_module_version": "1.5.0",
          "state": {
            "_dom_classes": [],
            "_model_module": "@jupyter-widgets/controls",
            "_model_module_version": "1.5.0",
            "_model_name": "FloatProgressModel",
            "_view_count": null,
            "_view_module": "@jupyter-widgets/controls",
            "_view_module_version": "1.5.0",
            "_view_name": "ProgressView",
            "bar_style": "success",
            "description": "",
            "description_tooltip": null,
            "layout": "IPY_MODEL_0fb1f8ce6104436899cfb1660ed8f5c6",
            "max": 10269,
            "min": 0,
            "orientation": "horizontal",
            "style": "IPY_MODEL_413ac45512ac40e58fe07fb8df0292ff",
            "value": 10269
          }
        },
        "2b04c03eb6d6426c8656b9f6a97a5680": {
          "model_module": "@jupyter-widgets/controls",
          "model_name": "HTMLModel",
          "model_module_version": "1.5.0",
          "state": {
            "_dom_classes": [],
            "_model_module": "@jupyter-widgets/controls",
            "_model_module_version": "1.5.0",
            "_model_name": "HTMLModel",
            "_view_count": null,
            "_view_module": "@jupyter-widgets/controls",
            "_view_module_version": "1.5.0",
            "_view_name": "HTMLView",
            "description": "",
            "description_tooltip": null,
            "layout": "IPY_MODEL_895c5daf12ce462c9499029598875436",
            "placeholder": "​",
            "style": "IPY_MODEL_768427556f1744d2a1f5e9d4c2183e8c",
            "value": " 10269/10269 [00:01&lt;00:00, 8865.81 examples/s]"
          }
        },
        "6851e1fa9c8946bb81ff06d7ed0f9002": {
          "model_module": "@jupyter-widgets/base",
          "model_name": "LayoutModel",
          "model_module_version": "1.2.0",
          "state": {
            "_model_module": "@jupyter-widgets/base",
            "_model_module_version": "1.2.0",
            "_model_name": "LayoutModel",
            "_view_count": null,
            "_view_module": "@jupyter-widgets/base",
            "_view_module_version": "1.2.0",
            "_view_name": "LayoutView",
            "align_content": null,
            "align_items": null,
            "align_self": null,
            "border": null,
            "bottom": null,
            "display": null,
            "flex": null,
            "flex_flow": null,
            "grid_area": null,
            "grid_auto_columns": null,
            "grid_auto_flow": null,
            "grid_auto_rows": null,
            "grid_column": null,
            "grid_gap": null,
            "grid_row": null,
            "grid_template_areas": null,
            "grid_template_columns": null,
            "grid_template_rows": null,
            "height": null,
            "justify_content": null,
            "justify_items": null,
            "left": null,
            "margin": null,
            "max_height": null,
            "max_width": null,
            "min_height": null,
            "min_width": null,
            "object_fit": null,
            "object_position": null,
            "order": null,
            "overflow": null,
            "overflow_x": null,
            "overflow_y": null,
            "padding": null,
            "right": null,
            "top": null,
            "visibility": null,
            "width": null
          }
        },
        "b7284208974c45e3b39ca62ba3482fea": {
          "model_module": "@jupyter-widgets/base",
          "model_name": "LayoutModel",
          "model_module_version": "1.2.0",
          "state": {
            "_model_module": "@jupyter-widgets/base",
            "_model_module_version": "1.2.0",
            "_model_name": "LayoutModel",
            "_view_count": null,
            "_view_module": "@jupyter-widgets/base",
            "_view_module_version": "1.2.0",
            "_view_name": "LayoutView",
            "align_content": null,
            "align_items": null,
            "align_self": null,
            "border": null,
            "bottom": null,
            "display": null,
            "flex": null,
            "flex_flow": null,
            "grid_area": null,
            "grid_auto_columns": null,
            "grid_auto_flow": null,
            "grid_auto_rows": null,
            "grid_column": null,
            "grid_gap": null,
            "grid_row": null,
            "grid_template_areas": null,
            "grid_template_columns": null,
            "grid_template_rows": null,
            "height": null,
            "justify_content": null,
            "justify_items": null,
            "left": null,
            "margin": null,
            "max_height": null,
            "max_width": null,
            "min_height": null,
            "min_width": null,
            "object_fit": null,
            "object_position": null,
            "order": null,
            "overflow": null,
            "overflow_x": null,
            "overflow_y": null,
            "padding": null,
            "right": null,
            "top": null,
            "visibility": null,
            "width": null
          }
        },
        "e1be42a0b3674034b10568f4451ca03c": {
          "model_module": "@jupyter-widgets/controls",
          "model_name": "DescriptionStyleModel",
          "model_module_version": "1.5.0",
          "state": {
            "_model_module": "@jupyter-widgets/controls",
            "_model_module_version": "1.5.0",
            "_model_name": "DescriptionStyleModel",
            "_view_count": null,
            "_view_module": "@jupyter-widgets/base",
            "_view_module_version": "1.2.0",
            "_view_name": "StyleView",
            "description_width": ""
          }
        },
        "0fb1f8ce6104436899cfb1660ed8f5c6": {
          "model_module": "@jupyter-widgets/base",
          "model_name": "LayoutModel",
          "model_module_version": "1.2.0",
          "state": {
            "_model_module": "@jupyter-widgets/base",
            "_model_module_version": "1.2.0",
            "_model_name": "LayoutModel",
            "_view_count": null,
            "_view_module": "@jupyter-widgets/base",
            "_view_module_version": "1.2.0",
            "_view_name": "LayoutView",
            "align_content": null,
            "align_items": null,
            "align_self": null,
            "border": null,
            "bottom": null,
            "display": null,
            "flex": null,
            "flex_flow": null,
            "grid_area": null,
            "grid_auto_columns": null,
            "grid_auto_flow": null,
            "grid_auto_rows": null,
            "grid_column": null,
            "grid_gap": null,
            "grid_row": null,
            "grid_template_areas": null,
            "grid_template_columns": null,
            "grid_template_rows": null,
            "height": null,
            "justify_content": null,
            "justify_items": null,
            "left": null,
            "margin": null,
            "max_height": null,
            "max_width": null,
            "min_height": null,
            "min_width": null,
            "object_fit": null,
            "object_position": null,
            "order": null,
            "overflow": null,
            "overflow_x": null,
            "overflow_y": null,
            "padding": null,
            "right": null,
            "top": null,
            "visibility": null,
            "width": null
          }
        },
        "413ac45512ac40e58fe07fb8df0292ff": {
          "model_module": "@jupyter-widgets/controls",
          "model_name": "ProgressStyleModel",
          "model_module_version": "1.5.0",
          "state": {
            "_model_module": "@jupyter-widgets/controls",
            "_model_module_version": "1.5.0",
            "_model_name": "ProgressStyleModel",
            "_view_count": null,
            "_view_module": "@jupyter-widgets/base",
            "_view_module_version": "1.2.0",
            "_view_name": "StyleView",
            "bar_color": null,
            "description_width": ""
          }
        },
        "895c5daf12ce462c9499029598875436": {
          "model_module": "@jupyter-widgets/base",
          "model_name": "LayoutModel",
          "model_module_version": "1.2.0",
          "state": {
            "_model_module": "@jupyter-widgets/base",
            "_model_module_version": "1.2.0",
            "_model_name": "LayoutModel",
            "_view_count": null,
            "_view_module": "@jupyter-widgets/base",
            "_view_module_version": "1.2.0",
            "_view_name": "LayoutView",
            "align_content": null,
            "align_items": null,
            "align_self": null,
            "border": null,
            "bottom": null,
            "display": null,
            "flex": null,
            "flex_flow": null,
            "grid_area": null,
            "grid_auto_columns": null,
            "grid_auto_flow": null,
            "grid_auto_rows": null,
            "grid_column": null,
            "grid_gap": null,
            "grid_row": null,
            "grid_template_areas": null,
            "grid_template_columns": null,
            "grid_template_rows": null,
            "height": null,
            "justify_content": null,
            "justify_items": null,
            "left": null,
            "margin": null,
            "max_height": null,
            "max_width": null,
            "min_height": null,
            "min_width": null,
            "object_fit": null,
            "object_position": null,
            "order": null,
            "overflow": null,
            "overflow_x": null,
            "overflow_y": null,
            "padding": null,
            "right": null,
            "top": null,
            "visibility": null,
            "width": null
          }
        },
        "768427556f1744d2a1f5e9d4c2183e8c": {
          "model_module": "@jupyter-widgets/controls",
          "model_name": "DescriptionStyleModel",
          "model_module_version": "1.5.0",
          "state": {
            "_model_module": "@jupyter-widgets/controls",
            "_model_module_version": "1.5.0",
            "_model_name": "DescriptionStyleModel",
            "_view_count": null,
            "_view_module": "@jupyter-widgets/base",
            "_view_module_version": "1.2.0",
            "_view_name": "StyleView",
            "description_width": ""
          }
        },
        "3b4569b7d71e4df68c84c766e0fbf7c6": {
          "model_module": "@jupyter-widgets/controls",
          "model_name": "HBoxModel",
          "model_module_version": "1.5.0",
          "state": {
            "_dom_classes": [],
            "_model_module": "@jupyter-widgets/controls",
            "_model_module_version": "1.5.0",
            "_model_name": "HBoxModel",
            "_view_count": null,
            "_view_module": "@jupyter-widgets/controls",
            "_view_module_version": "1.5.0",
            "_view_name": "HBoxView",
            "box_style": "",
            "children": [
              "IPY_MODEL_96714c52edc6440b9d8966ddc374a94c",
              "IPY_MODEL_5e83a9249f89487c8a48d75f4ae0c23b",
              "IPY_MODEL_a05d57ed81344e4ca4f786531412db2e"
            ],
            "layout": "IPY_MODEL_5a3e13727d394147a13a54337a6dd3b9"
          }
        },
        "96714c52edc6440b9d8966ddc374a94c": {
          "model_module": "@jupyter-widgets/controls",
          "model_name": "HTMLModel",
          "model_module_version": "1.5.0",
          "state": {
            "_dom_classes": [],
            "_model_module": "@jupyter-widgets/controls",
            "_model_module_version": "1.5.0",
            "_model_name": "HTMLModel",
            "_view_count": null,
            "_view_module": "@jupyter-widgets/controls",
            "_view_module_version": "1.5.0",
            "_view_name": "HTMLView",
            "description": "",
            "description_tooltip": null,
            "layout": "IPY_MODEL_7adb50b968d549ccbc0406035327e6f1",
            "placeholder": "​",
            "style": "IPY_MODEL_b4644aa74f6047b5b53946dbd96a8df1",
            "value": "Generating test split: 100%"
          }
        },
        "5e83a9249f89487c8a48d75f4ae0c23b": {
          "model_module": "@jupyter-widgets/controls",
          "model_name": "FloatProgressModel",
          "model_module_version": "1.5.0",
          "state": {
            "_dom_classes": [],
            "_model_module": "@jupyter-widgets/controls",
            "_model_module_version": "1.5.0",
            "_model_name": "FloatProgressModel",
            "_view_count": null,
            "_view_module": "@jupyter-widgets/controls",
            "_view_module_version": "1.5.0",
            "_view_name": "ProgressView",
            "bar_style": "success",
            "description": "",
            "description_tooltip": null,
            "layout": "IPY_MODEL_194d0cf1bb174cb492329ba447b26ece",
            "max": 1283,
            "min": 0,
            "orientation": "horizontal",
            "style": "IPY_MODEL_121b004ff7104a9c979ee4046cd395a3",
            "value": 1283
          }
        },
        "a05d57ed81344e4ca4f786531412db2e": {
          "model_module": "@jupyter-widgets/controls",
          "model_name": "HTMLModel",
          "model_module_version": "1.5.0",
          "state": {
            "_dom_classes": [],
            "_model_module": "@jupyter-widgets/controls",
            "_model_module_version": "1.5.0",
            "_model_name": "HTMLModel",
            "_view_count": null,
            "_view_module": "@jupyter-widgets/controls",
            "_view_module_version": "1.5.0",
            "_view_name": "HTMLView",
            "description": "",
            "description_tooltip": null,
            "layout": "IPY_MODEL_71b87b76d91e421cb52daa02ac069f72",
            "placeholder": "​",
            "style": "IPY_MODEL_28808afb43474d74b21d60d59613d018",
            "value": " 1283/1283 [00:00&lt;00:00, 7230.84 examples/s]"
          }
        },
        "5a3e13727d394147a13a54337a6dd3b9": {
          "model_module": "@jupyter-widgets/base",
          "model_name": "LayoutModel",
          "model_module_version": "1.2.0",
          "state": {
            "_model_module": "@jupyter-widgets/base",
            "_model_module_version": "1.2.0",
            "_model_name": "LayoutModel",
            "_view_count": null,
            "_view_module": "@jupyter-widgets/base",
            "_view_module_version": "1.2.0",
            "_view_name": "LayoutView",
            "align_content": null,
            "align_items": null,
            "align_self": null,
            "border": null,
            "bottom": null,
            "display": null,
            "flex": null,
            "flex_flow": null,
            "grid_area": null,
            "grid_auto_columns": null,
            "grid_auto_flow": null,
            "grid_auto_rows": null,
            "grid_column": null,
            "grid_gap": null,
            "grid_row": null,
            "grid_template_areas": null,
            "grid_template_columns": null,
            "grid_template_rows": null,
            "height": null,
            "justify_content": null,
            "justify_items": null,
            "left": null,
            "margin": null,
            "max_height": null,
            "max_width": null,
            "min_height": null,
            "min_width": null,
            "object_fit": null,
            "object_position": null,
            "order": null,
            "overflow": null,
            "overflow_x": null,
            "overflow_y": null,
            "padding": null,
            "right": null,
            "top": null,
            "visibility": null,
            "width": null
          }
        },
        "7adb50b968d549ccbc0406035327e6f1": {
          "model_module": "@jupyter-widgets/base",
          "model_name": "LayoutModel",
          "model_module_version": "1.2.0",
          "state": {
            "_model_module": "@jupyter-widgets/base",
            "_model_module_version": "1.2.0",
            "_model_name": "LayoutModel",
            "_view_count": null,
            "_view_module": "@jupyter-widgets/base",
            "_view_module_version": "1.2.0",
            "_view_name": "LayoutView",
            "align_content": null,
            "align_items": null,
            "align_self": null,
            "border": null,
            "bottom": null,
            "display": null,
            "flex": null,
            "flex_flow": null,
            "grid_area": null,
            "grid_auto_columns": null,
            "grid_auto_flow": null,
            "grid_auto_rows": null,
            "grid_column": null,
            "grid_gap": null,
            "grid_row": null,
            "grid_template_areas": null,
            "grid_template_columns": null,
            "grid_template_rows": null,
            "height": null,
            "justify_content": null,
            "justify_items": null,
            "left": null,
            "margin": null,
            "max_height": null,
            "max_width": null,
            "min_height": null,
            "min_width": null,
            "object_fit": null,
            "object_position": null,
            "order": null,
            "overflow": null,
            "overflow_x": null,
            "overflow_y": null,
            "padding": null,
            "right": null,
            "top": null,
            "visibility": null,
            "width": null
          }
        },
        "b4644aa74f6047b5b53946dbd96a8df1": {
          "model_module": "@jupyter-widgets/controls",
          "model_name": "DescriptionStyleModel",
          "model_module_version": "1.5.0",
          "state": {
            "_model_module": "@jupyter-widgets/controls",
            "_model_module_version": "1.5.0",
            "_model_name": "DescriptionStyleModel",
            "_view_count": null,
            "_view_module": "@jupyter-widgets/base",
            "_view_module_version": "1.2.0",
            "_view_name": "StyleView",
            "description_width": ""
          }
        },
        "194d0cf1bb174cb492329ba447b26ece": {
          "model_module": "@jupyter-widgets/base",
          "model_name": "LayoutModel",
          "model_module_version": "1.2.0",
          "state": {
            "_model_module": "@jupyter-widgets/base",
            "_model_module_version": "1.2.0",
            "_model_name": "LayoutModel",
            "_view_count": null,
            "_view_module": "@jupyter-widgets/base",
            "_view_module_version": "1.2.0",
            "_view_name": "LayoutView",
            "align_content": null,
            "align_items": null,
            "align_self": null,
            "border": null,
            "bottom": null,
            "display": null,
            "flex": null,
            "flex_flow": null,
            "grid_area": null,
            "grid_auto_columns": null,
            "grid_auto_flow": null,
            "grid_auto_rows": null,
            "grid_column": null,
            "grid_gap": null,
            "grid_row": null,
            "grid_template_areas": null,
            "grid_template_columns": null,
            "grid_template_rows": null,
            "height": null,
            "justify_content": null,
            "justify_items": null,
            "left": null,
            "margin": null,
            "max_height": null,
            "max_width": null,
            "min_height": null,
            "min_width": null,
            "object_fit": null,
            "object_position": null,
            "order": null,
            "overflow": null,
            "overflow_x": null,
            "overflow_y": null,
            "padding": null,
            "right": null,
            "top": null,
            "visibility": null,
            "width": null
          }
        },
        "121b004ff7104a9c979ee4046cd395a3": {
          "model_module": "@jupyter-widgets/controls",
          "model_name": "ProgressStyleModel",
          "model_module_version": "1.5.0",
          "state": {
            "_model_module": "@jupyter-widgets/controls",
            "_model_module_version": "1.5.0",
            "_model_name": "ProgressStyleModel",
            "_view_count": null,
            "_view_module": "@jupyter-widgets/base",
            "_view_module_version": "1.2.0",
            "_view_name": "StyleView",
            "bar_color": null,
            "description_width": ""
          }
        },
        "71b87b76d91e421cb52daa02ac069f72": {
          "model_module": "@jupyter-widgets/base",
          "model_name": "LayoutModel",
          "model_module_version": "1.2.0",
          "state": {
            "_model_module": "@jupyter-widgets/base",
            "_model_module_version": "1.2.0",
            "_model_name": "LayoutModel",
            "_view_count": null,
            "_view_module": "@jupyter-widgets/base",
            "_view_module_version": "1.2.0",
            "_view_name": "LayoutView",
            "align_content": null,
            "align_items": null,
            "align_self": null,
            "border": null,
            "bottom": null,
            "display": null,
            "flex": null,
            "flex_flow": null,
            "grid_area": null,
            "grid_auto_columns": null,
            "grid_auto_flow": null,
            "grid_auto_rows": null,
            "grid_column": null,
            "grid_gap": null,
            "grid_row": null,
            "grid_template_areas": null,
            "grid_template_columns": null,
            "grid_template_rows": null,
            "height": null,
            "justify_content": null,
            "justify_items": null,
            "left": null,
            "margin": null,
            "max_height": null,
            "max_width": null,
            "min_height": null,
            "min_width": null,
            "object_fit": null,
            "object_position": null,
            "order": null,
            "overflow": null,
            "overflow_x": null,
            "overflow_y": null,
            "padding": null,
            "right": null,
            "top": null,
            "visibility": null,
            "width": null
          }
        },
        "28808afb43474d74b21d60d59613d018": {
          "model_module": "@jupyter-widgets/controls",
          "model_name": "DescriptionStyleModel",
          "model_module_version": "1.5.0",
          "state": {
            "_model_module": "@jupyter-widgets/controls",
            "_model_module_version": "1.5.0",
            "_model_name": "DescriptionStyleModel",
            "_view_count": null,
            "_view_module": "@jupyter-widgets/base",
            "_view_module_version": "1.2.0",
            "_view_name": "StyleView",
            "description_width": ""
          }
        },
        "ab48b8cf2b664371b678872274113fa4": {
          "model_module": "@jupyter-widgets/controls",
          "model_name": "HBoxModel",
          "model_module_version": "1.5.0",
          "state": {
            "_dom_classes": [],
            "_model_module": "@jupyter-widgets/controls",
            "_model_module_version": "1.5.0",
            "_model_name": "HBoxModel",
            "_view_count": null,
            "_view_module": "@jupyter-widgets/controls",
            "_view_module_version": "1.5.0",
            "_view_name": "HBoxView",
            "box_style": "",
            "children": [
              "IPY_MODEL_cddae3db22ea4c5fa15c3d8a8dde0f8d",
              "IPY_MODEL_3c0ac1e9e0bb4d87800246c105412d56",
              "IPY_MODEL_e214b04f40ab4f53968352ea9760f9b6"
            ],
            "layout": "IPY_MODEL_dd1c671a75334c418745d48a14b627ee"
          }
        },
        "cddae3db22ea4c5fa15c3d8a8dde0f8d": {
          "model_module": "@jupyter-widgets/controls",
          "model_name": "HTMLModel",
          "model_module_version": "1.5.0",
          "state": {
            "_dom_classes": [],
            "_model_module": "@jupyter-widgets/controls",
            "_model_module_version": "1.5.0",
            "_model_name": "HTMLModel",
            "_view_count": null,
            "_view_module": "@jupyter-widgets/controls",
            "_view_module_version": "1.5.0",
            "_view_name": "HTMLView",
            "description": "",
            "description_tooltip": null,
            "layout": "IPY_MODEL_9578d8da31734186a19d1dfc3a2d281c",
            "placeholder": "​",
            "style": "IPY_MODEL_99cda913fc4a4b0db7ad98191ef4e948",
            "value": "Generating validation split: 100%"
          }
        },
        "3c0ac1e9e0bb4d87800246c105412d56": {
          "model_module": "@jupyter-widgets/controls",
          "model_name": "FloatProgressModel",
          "model_module_version": "1.5.0",
          "state": {
            "_dom_classes": [],
            "_model_module": "@jupyter-widgets/controls",
            "_model_module_version": "1.5.0",
            "_model_name": "FloatProgressModel",
            "_view_count": null,
            "_view_module": "@jupyter-widgets/controls",
            "_view_module_version": "1.5.0",
            "_view_name": "ProgressView",
            "bar_style": "success",
            "description": "",
            "description_tooltip": null,
            "layout": "IPY_MODEL_e27c265f10274a37ac0bf91e68d90810",
            "max": 1284,
            "min": 0,
            "orientation": "horizontal",
            "style": "IPY_MODEL_5c0224167f2649318a68888a373db80e",
            "value": 1284
          }
        },
        "e214b04f40ab4f53968352ea9760f9b6": {
          "model_module": "@jupyter-widgets/controls",
          "model_name": "HTMLModel",
          "model_module_version": "1.5.0",
          "state": {
            "_dom_classes": [],
            "_model_module": "@jupyter-widgets/controls",
            "_model_module_version": "1.5.0",
            "_model_name": "HTMLModel",
            "_view_count": null,
            "_view_module": "@jupyter-widgets/controls",
            "_view_module_version": "1.5.0",
            "_view_name": "HTMLView",
            "description": "",
            "description_tooltip": null,
            "layout": "IPY_MODEL_e2208134ab0d4fbfbab2006451ee3258",
            "placeholder": "​",
            "style": "IPY_MODEL_8d0022b44f904a5caffd51c805c5a151",
            "value": " 1284/1284 [00:00&lt;00:00, 7299.45 examples/s]"
          }
        },
        "dd1c671a75334c418745d48a14b627ee": {
          "model_module": "@jupyter-widgets/base",
          "model_name": "LayoutModel",
          "model_module_version": "1.2.0",
          "state": {
            "_model_module": "@jupyter-widgets/base",
            "_model_module_version": "1.2.0",
            "_model_name": "LayoutModel",
            "_view_count": null,
            "_view_module": "@jupyter-widgets/base",
            "_view_module_version": "1.2.0",
            "_view_name": "LayoutView",
            "align_content": null,
            "align_items": null,
            "align_self": null,
            "border": null,
            "bottom": null,
            "display": null,
            "flex": null,
            "flex_flow": null,
            "grid_area": null,
            "grid_auto_columns": null,
            "grid_auto_flow": null,
            "grid_auto_rows": null,
            "grid_column": null,
            "grid_gap": null,
            "grid_row": null,
            "grid_template_areas": null,
            "grid_template_columns": null,
            "grid_template_rows": null,
            "height": null,
            "justify_content": null,
            "justify_items": null,
            "left": null,
            "margin": null,
            "max_height": null,
            "max_width": null,
            "min_height": null,
            "min_width": null,
            "object_fit": null,
            "object_position": null,
            "order": null,
            "overflow": null,
            "overflow_x": null,
            "overflow_y": null,
            "padding": null,
            "right": null,
            "top": null,
            "visibility": null,
            "width": null
          }
        },
        "9578d8da31734186a19d1dfc3a2d281c": {
          "model_module": "@jupyter-widgets/base",
          "model_name": "LayoutModel",
          "model_module_version": "1.2.0",
          "state": {
            "_model_module": "@jupyter-widgets/base",
            "_model_module_version": "1.2.0",
            "_model_name": "LayoutModel",
            "_view_count": null,
            "_view_module": "@jupyter-widgets/base",
            "_view_module_version": "1.2.0",
            "_view_name": "LayoutView",
            "align_content": null,
            "align_items": null,
            "align_self": null,
            "border": null,
            "bottom": null,
            "display": null,
            "flex": null,
            "flex_flow": null,
            "grid_area": null,
            "grid_auto_columns": null,
            "grid_auto_flow": null,
            "grid_auto_rows": null,
            "grid_column": null,
            "grid_gap": null,
            "grid_row": null,
            "grid_template_areas": null,
            "grid_template_columns": null,
            "grid_template_rows": null,
            "height": null,
            "justify_content": null,
            "justify_items": null,
            "left": null,
            "margin": null,
            "max_height": null,
            "max_width": null,
            "min_height": null,
            "min_width": null,
            "object_fit": null,
            "object_position": null,
            "order": null,
            "overflow": null,
            "overflow_x": null,
            "overflow_y": null,
            "padding": null,
            "right": null,
            "top": null,
            "visibility": null,
            "width": null
          }
        },
        "99cda913fc4a4b0db7ad98191ef4e948": {
          "model_module": "@jupyter-widgets/controls",
          "model_name": "DescriptionStyleModel",
          "model_module_version": "1.5.0",
          "state": {
            "_model_module": "@jupyter-widgets/controls",
            "_model_module_version": "1.5.0",
            "_model_name": "DescriptionStyleModel",
            "_view_count": null,
            "_view_module": "@jupyter-widgets/base",
            "_view_module_version": "1.2.0",
            "_view_name": "StyleView",
            "description_width": ""
          }
        },
        "e27c265f10274a37ac0bf91e68d90810": {
          "model_module": "@jupyter-widgets/base",
          "model_name": "LayoutModel",
          "model_module_version": "1.2.0",
          "state": {
            "_model_module": "@jupyter-widgets/base",
            "_model_module_version": "1.2.0",
            "_model_name": "LayoutModel",
            "_view_count": null,
            "_view_module": "@jupyter-widgets/base",
            "_view_module_version": "1.2.0",
            "_view_name": "LayoutView",
            "align_content": null,
            "align_items": null,
            "align_self": null,
            "border": null,
            "bottom": null,
            "display": null,
            "flex": null,
            "flex_flow": null,
            "grid_area": null,
            "grid_auto_columns": null,
            "grid_auto_flow": null,
            "grid_auto_rows": null,
            "grid_column": null,
            "grid_gap": null,
            "grid_row": null,
            "grid_template_areas": null,
            "grid_template_columns": null,
            "grid_template_rows": null,
            "height": null,
            "justify_content": null,
            "justify_items": null,
            "left": null,
            "margin": null,
            "max_height": null,
            "max_width": null,
            "min_height": null,
            "min_width": null,
            "object_fit": null,
            "object_position": null,
            "order": null,
            "overflow": null,
            "overflow_x": null,
            "overflow_y": null,
            "padding": null,
            "right": null,
            "top": null,
            "visibility": null,
            "width": null
          }
        },
        "5c0224167f2649318a68888a373db80e": {
          "model_module": "@jupyter-widgets/controls",
          "model_name": "ProgressStyleModel",
          "model_module_version": "1.5.0",
          "state": {
            "_model_module": "@jupyter-widgets/controls",
            "_model_module_version": "1.5.0",
            "_model_name": "ProgressStyleModel",
            "_view_count": null,
            "_view_module": "@jupyter-widgets/base",
            "_view_module_version": "1.2.0",
            "_view_name": "StyleView",
            "bar_color": null,
            "description_width": ""
          }
        },
        "e2208134ab0d4fbfbab2006451ee3258": {
          "model_module": "@jupyter-widgets/base",
          "model_name": "LayoutModel",
          "model_module_version": "1.2.0",
          "state": {
            "_model_module": "@jupyter-widgets/base",
            "_model_module_version": "1.2.0",
            "_model_name": "LayoutModel",
            "_view_count": null,
            "_view_module": "@jupyter-widgets/base",
            "_view_module_version": "1.2.0",
            "_view_name": "LayoutView",
            "align_content": null,
            "align_items": null,
            "align_self": null,
            "border": null,
            "bottom": null,
            "display": null,
            "flex": null,
            "flex_flow": null,
            "grid_area": null,
            "grid_auto_columns": null,
            "grid_auto_flow": null,
            "grid_auto_rows": null,
            "grid_column": null,
            "grid_gap": null,
            "grid_row": null,
            "grid_template_areas": null,
            "grid_template_columns": null,
            "grid_template_rows": null,
            "height": null,
            "justify_content": null,
            "justify_items": null,
            "left": null,
            "margin": null,
            "max_height": null,
            "max_width": null,
            "min_height": null,
            "min_width": null,
            "object_fit": null,
            "object_position": null,
            "order": null,
            "overflow": null,
            "overflow_x": null,
            "overflow_y": null,
            "padding": null,
            "right": null,
            "top": null,
            "visibility": null,
            "width": null
          }
        },
        "8d0022b44f904a5caffd51c805c5a151": {
          "model_module": "@jupyter-widgets/controls",
          "model_name": "DescriptionStyleModel",
          "model_module_version": "1.5.0",
          "state": {
            "_model_module": "@jupyter-widgets/controls",
            "_model_module_version": "1.5.0",
            "_model_name": "DescriptionStyleModel",
            "_view_count": null,
            "_view_module": "@jupyter-widgets/base",
            "_view_module_version": "1.2.0",
            "_view_name": "StyleView",
            "description_width": ""
          }
        }
      }
    }
  },
  "cells": [
    {
      "cell_type": "code",
      "execution_count": 1,
      "metadata": {
        "colab": {
          "base_uri": "https://localhost:8080/"
        },
        "outputId": "ec510c05-41ba-4375-f692-a4d3dfe92049",
        "id": "6uYQ90bkRphM"
      },
      "outputs": [
        {
          "output_type": "stream",
          "name": "stdout",
          "text": [
            "Collecting datasets\n",
            "  Downloading datasets-2.15.0-py3-none-any.whl (521 kB)\n",
            "\u001b[2K     \u001b[90m━━━━━━━━━━━━━━━━━━━━━━━━━━━━━━━━━━━━━━━━\u001b[0m \u001b[32m521.2/521.2 kB\u001b[0m \u001b[31m7.5 MB/s\u001b[0m eta \u001b[36m0:00:00\u001b[0m\n",
            "\u001b[?25hRequirement already satisfied: numpy>=1.17 in /usr/local/lib/python3.10/dist-packages (from datasets) (1.23.5)\n",
            "Requirement already satisfied: pyarrow>=8.0.0 in /usr/local/lib/python3.10/dist-packages (from datasets) (9.0.0)\n",
            "Collecting pyarrow-hotfix (from datasets)\n",
            "  Downloading pyarrow_hotfix-0.6-py3-none-any.whl (7.9 kB)\n",
            "Collecting dill<0.3.8,>=0.3.0 (from datasets)\n",
            "  Downloading dill-0.3.7-py3-none-any.whl (115 kB)\n",
            "\u001b[2K     \u001b[90m━━━━━━━━━━━━━━━━━━━━━━━━━━━━━━━━━━━━━━━━\u001b[0m \u001b[32m115.3/115.3 kB\u001b[0m \u001b[31m8.0 MB/s\u001b[0m eta \u001b[36m0:00:00\u001b[0m\n",
            "\u001b[?25hRequirement already satisfied: pandas in /usr/local/lib/python3.10/dist-packages (from datasets) (1.5.3)\n",
            "Requirement already satisfied: requests>=2.19.0 in /usr/local/lib/python3.10/dist-packages (from datasets) (2.31.0)\n",
            "Requirement already satisfied: tqdm>=4.62.1 in /usr/local/lib/python3.10/dist-packages (from datasets) (4.66.1)\n",
            "Requirement already satisfied: xxhash in /usr/local/lib/python3.10/dist-packages (from datasets) (3.4.1)\n",
            "Collecting multiprocess (from datasets)\n",
            "  Downloading multiprocess-0.70.15-py310-none-any.whl (134 kB)\n",
            "\u001b[2K     \u001b[90m━━━━━━━━━━━━━━━━━━━━━━━━━━━━━━━━━━━━━━━━\u001b[0m \u001b[32m134.8/134.8 kB\u001b[0m \u001b[31m8.9 MB/s\u001b[0m eta \u001b[36m0:00:00\u001b[0m\n",
            "\u001b[?25hRequirement already satisfied: fsspec[http]<=2023.10.0,>=2023.1.0 in /usr/local/lib/python3.10/dist-packages (from datasets) (2023.6.0)\n",
            "Requirement already satisfied: aiohttp in /usr/local/lib/python3.10/dist-packages (from datasets) (3.9.1)\n",
            "Requirement already satisfied: huggingface-hub>=0.18.0 in /usr/local/lib/python3.10/dist-packages (from datasets) (0.19.4)\n",
            "Requirement already satisfied: packaging in /usr/local/lib/python3.10/dist-packages (from datasets) (23.2)\n",
            "Requirement already satisfied: pyyaml>=5.1 in /usr/local/lib/python3.10/dist-packages (from datasets) (6.0.1)\n",
            "Requirement already satisfied: attrs>=17.3.0 in /usr/local/lib/python3.10/dist-packages (from aiohttp->datasets) (23.1.0)\n",
            "Requirement already satisfied: multidict<7.0,>=4.5 in /usr/local/lib/python3.10/dist-packages (from aiohttp->datasets) (6.0.4)\n",
            "Requirement already satisfied: yarl<2.0,>=1.0 in /usr/local/lib/python3.10/dist-packages (from aiohttp->datasets) (1.9.3)\n",
            "Requirement already satisfied: frozenlist>=1.1.1 in /usr/local/lib/python3.10/dist-packages (from aiohttp->datasets) (1.4.0)\n",
            "Requirement already satisfied: aiosignal>=1.1.2 in /usr/local/lib/python3.10/dist-packages (from aiohttp->datasets) (1.3.1)\n",
            "Requirement already satisfied: async-timeout<5.0,>=4.0 in /usr/local/lib/python3.10/dist-packages (from aiohttp->datasets) (4.0.3)\n",
            "Requirement already satisfied: filelock in /usr/local/lib/python3.10/dist-packages (from huggingface-hub>=0.18.0->datasets) (3.13.1)\n",
            "Requirement already satisfied: typing-extensions>=3.7.4.3 in /usr/local/lib/python3.10/dist-packages (from huggingface-hub>=0.18.0->datasets) (4.5.0)\n",
            "Requirement already satisfied: charset-normalizer<4,>=2 in /usr/local/lib/python3.10/dist-packages (from requests>=2.19.0->datasets) (3.3.2)\n",
            "Requirement already satisfied: idna<4,>=2.5 in /usr/local/lib/python3.10/dist-packages (from requests>=2.19.0->datasets) (3.6)\n",
            "Requirement already satisfied: urllib3<3,>=1.21.1 in /usr/local/lib/python3.10/dist-packages (from requests>=2.19.0->datasets) (2.0.7)\n",
            "Requirement already satisfied: certifi>=2017.4.17 in /usr/local/lib/python3.10/dist-packages (from requests>=2.19.0->datasets) (2023.11.17)\n",
            "Requirement already satisfied: python-dateutil>=2.8.1 in /usr/local/lib/python3.10/dist-packages (from pandas->datasets) (2.8.2)\n",
            "Requirement already satisfied: pytz>=2020.1 in /usr/local/lib/python3.10/dist-packages (from pandas->datasets) (2023.3.post1)\n",
            "Requirement already satisfied: six>=1.5 in /usr/local/lib/python3.10/dist-packages (from python-dateutil>=2.8.1->pandas->datasets) (1.16.0)\n",
            "Installing collected packages: pyarrow-hotfix, dill, multiprocess, datasets\n",
            "Successfully installed datasets-2.15.0 dill-0.3.7 multiprocess-0.70.15 pyarrow-hotfix-0.6\n",
            "Collecting contractions\n",
            "  Downloading contractions-0.1.73-py2.py3-none-any.whl (8.7 kB)\n",
            "Collecting textsearch>=0.0.21 (from contractions)\n",
            "  Downloading textsearch-0.0.24-py2.py3-none-any.whl (7.6 kB)\n",
            "Collecting anyascii (from textsearch>=0.0.21->contractions)\n",
            "  Downloading anyascii-0.3.2-py3-none-any.whl (289 kB)\n",
            "\u001b[2K     \u001b[90m━━━━━━━━━━━━━━━━━━━━━━━━━━━━━━━━━━━━━━━━\u001b[0m \u001b[32m289.9/289.9 kB\u001b[0m \u001b[31m4.3 MB/s\u001b[0m eta \u001b[36m0:00:00\u001b[0m\n",
            "\u001b[?25hCollecting pyahocorasick (from textsearch>=0.0.21->contractions)\n",
            "  Downloading pyahocorasick-2.0.0-cp310-cp310-manylinux_2_5_x86_64.manylinux1_x86_64.manylinux_2_12_x86_64.manylinux2010_x86_64.whl (110 kB)\n",
            "\u001b[2K     \u001b[90m━━━━━━━━━━━━━━━━━━━━━━━━━━━━━━━━━━━━━━━━\u001b[0m \u001b[32m110.8/110.8 kB\u001b[0m \u001b[31m14.4 MB/s\u001b[0m eta \u001b[36m0:00:00\u001b[0m\n",
            "\u001b[?25hInstalling collected packages: pyahocorasick, anyascii, textsearch, contractions\n",
            "Successfully installed anyascii-0.3.2 contractions-0.1.73 pyahocorasick-2.0.0 textsearch-0.0.24\n"
          ]
        }
      ],
      "source": [
        "# install necessary libraries\n",
        "\n",
        "!pip install datasets\n",
        "!pip install contractions"
      ]
    },
    {
      "cell_type": "code",
      "source": [
        "import torch\n",
        "import torch.nn as nn\n",
        "import torch.optim as optim\n",
        "import re\n",
        "import nltk\n",
        "import numpy as np\n",
        "import pandas as pd\n",
        "import torchtext\n",
        "import itertools\n",
        "import matplotlib.pyplot as plt\n",
        "\n",
        "from tqdm import tqdm\n",
        "from torchtext.data.utils import get_tokenizer\n",
        "from torchtext.vocab import vocab\n",
        "from torch.nn import functional as F\n",
        "from torch.nn.utils.rnn import pad_sequence\n",
        "from torch.nn.modules.loss import _WeightedLoss\n",
        "\n",
        "from datasets import load_dataset\n",
        "from torch.utils.data import DataLoader, TensorDataset\n",
        "\n",
        "\n",
        "from nltk.corpus import stopwords\n",
        "from contractions import contractions_dict\n",
        "from nltk.stem import WordNetLemmatizer\n",
        "from collections import Counter\n"
      ],
      "metadata": {
        "id": "CrigmBaMRphN"
      },
      "execution_count": 2,
      "outputs": []
    },
    {
      "cell_type": "code",
      "source": [
        "# connect to Google Drive\n",
        "\n",
        "from google.colab import drive\n",
        "drive.mount('/content/drive')"
      ],
      "metadata": {
        "colab": {
          "base_uri": "https://localhost:8080/"
        },
        "id": "4OT-FBeweECm",
        "outputId": "1cab63d5-0dca-4f92-a296-80f9d2b99a62"
      },
      "execution_count": 3,
      "outputs": [
        {
          "output_type": "stream",
          "name": "stdout",
          "text": [
            "Mounted at /content/drive\n"
          ]
        }
      ]
    },
    {
      "cell_type": "code",
      "source": [
        "# load the LIAR dataset from huggingface and printing sizes of train, val and test dataframes\n",
        "\n",
        "dataset = load_dataset(\"liar\")\n",
        "\n",
        "train_df = pd.DataFrame(dataset['train'])\n",
        "val_df = pd.DataFrame(dataset['validation'])\n",
        "test_df = pd.DataFrame(dataset['test'])\n",
        "\n",
        "print(f\"Length of training data: {len(train_df)}\")\n",
        "print(f\"Length of validation data: {len(val_df)}\")\n",
        "print(f\"Length of testing data: {len(test_df) }\")"
      ],
      "metadata": {
        "colab": {
          "base_uri": "https://localhost:8080/",
          "height": 295,
          "referenced_widgets": [
            "72d6211244604379bf0244df8c10dee9",
            "f17cad0b20b14e3c92a1f7a61b17c4e9",
            "9768ce67d095457280f043b303b311a3",
            "ba6dd44318434eab80d12a5e377416ff",
            "ab0fdd98160b4b83bb438789710cd339",
            "7b6cfc531e824c35ab14ac4b80e0bec3",
            "749b2202847347a7991a7c5f1a645ad8",
            "fbb44978bc02401cb4ba052d6b968375",
            "e4c759b2ecb44257b543dfed42816dba",
            "a1af59e849ae42199e09ad35d0cd68d9",
            "8844620cc6fb4c47a23c8aebc93f6baa",
            "2fea4d321aec4564872ea7df2c8f3190",
            "117acc157e1344e992420dc2601ce84a",
            "bce9a5d24cdc41b3b7d85ba7751cece5",
            "20b7734c926b47609be2eab624884ccf",
            "f20cb944912b4220b4ae7cb7ffd62dd0",
            "93319297215b4f7b8ad729b59ced4100",
            "adae4f09eeeb4eb0a2e1cb1a9f39cf9c",
            "5c6b3a65c5284a8cb2a043a2dec46ea1",
            "7e8739996b594872b344d4c841c6a14d",
            "032a6562767d407b8805f3847927d733",
            "9e760305f119444f8e3a31961c395947",
            "0538a195a95044149a0990b0ff40cad4",
            "c542ecb2698540f68c5435f44b0d4c96",
            "77277eeedafb4e62b37bc439dd4131a1",
            "e6a16bb404d34340ad96c28e5d0d83b5",
            "0cf598d50e24469faf8c26543840d90e",
            "ee7bd40b1a6f4a24ace2fb6afb25ab79",
            "2b3cdc58c47a48fba2b5310739ee3b71",
            "b756be29c51a455e88fcdc0f7343487d",
            "ee2afeeae5b54a418833f3529ba6abf7",
            "cbcabce8ea394dc18f01099c59b7054e",
            "52b3ad3767d54b0f84b247a9e653f6e7",
            "64d4375b785847d5a5576270730e350b",
            "53b69c3b61884579a11a033ca9c280dd",
            "f133afc907b944a289f96bd2c100851f",
            "8d88af0046764f4aa201d67776ec3103",
            "ef6b1175fb3e44ada13ff70a41834938",
            "3ab08713d2d8459da290aa05beb0897c",
            "0a037a15177f428497503118aab36068",
            "4073e1604a8c4894bd941358d4dde53d",
            "2af3887573b1428a91f31eb578736f9e",
            "c1fcab5ca23f4d5aa281771c4acf8187",
            "58f8b72fb6ed4169917b69dffce4816e",
            "af7d49b7dcca453597fc2ba26c56ad71",
            "11ea91b2c18545a9bb26a7d4126ba07e",
            "5199ba63d78d496080a28af71042751f",
            "2b04c03eb6d6426c8656b9f6a97a5680",
            "6851e1fa9c8946bb81ff06d7ed0f9002",
            "b7284208974c45e3b39ca62ba3482fea",
            "e1be42a0b3674034b10568f4451ca03c",
            "0fb1f8ce6104436899cfb1660ed8f5c6",
            "413ac45512ac40e58fe07fb8df0292ff",
            "895c5daf12ce462c9499029598875436",
            "768427556f1744d2a1f5e9d4c2183e8c",
            "3b4569b7d71e4df68c84c766e0fbf7c6",
            "96714c52edc6440b9d8966ddc374a94c",
            "5e83a9249f89487c8a48d75f4ae0c23b",
            "a05d57ed81344e4ca4f786531412db2e",
            "5a3e13727d394147a13a54337a6dd3b9",
            "7adb50b968d549ccbc0406035327e6f1",
            "b4644aa74f6047b5b53946dbd96a8df1",
            "194d0cf1bb174cb492329ba447b26ece",
            "121b004ff7104a9c979ee4046cd395a3",
            "71b87b76d91e421cb52daa02ac069f72",
            "28808afb43474d74b21d60d59613d018",
            "ab48b8cf2b664371b678872274113fa4",
            "cddae3db22ea4c5fa15c3d8a8dde0f8d",
            "3c0ac1e9e0bb4d87800246c105412d56",
            "e214b04f40ab4f53968352ea9760f9b6",
            "dd1c671a75334c418745d48a14b627ee",
            "9578d8da31734186a19d1dfc3a2d281c",
            "99cda913fc4a4b0db7ad98191ef4e948",
            "e27c265f10274a37ac0bf91e68d90810",
            "5c0224167f2649318a68888a373db80e",
            "e2208134ab0d4fbfbab2006451ee3258",
            "8d0022b44f904a5caffd51c805c5a151"
          ]
        },
        "outputId": "b1e5556e-921f-4cea-9304-648a81990294",
        "id": "tQiQW1IxRphO"
      },
      "execution_count": 4,
      "outputs": [
        {
          "output_type": "display_data",
          "data": {
            "text/plain": [
              "Downloading builder script:   0%|          | 0.00/6.41k [00:00<?, ?B/s]"
            ],
            "application/vnd.jupyter.widget-view+json": {
              "version_major": 2,
              "version_minor": 0,
              "model_id": "72d6211244604379bf0244df8c10dee9"
            }
          },
          "metadata": {}
        },
        {
          "output_type": "display_data",
          "data": {
            "text/plain": [
              "Downloading metadata:   0%|          | 0.00/4.03k [00:00<?, ?B/s]"
            ],
            "application/vnd.jupyter.widget-view+json": {
              "version_major": 2,
              "version_minor": 0,
              "model_id": "2fea4d321aec4564872ea7df2c8f3190"
            }
          },
          "metadata": {}
        },
        {
          "output_type": "display_data",
          "data": {
            "text/plain": [
              "Downloading readme:   0%|          | 0.00/5.16k [00:00<?, ?B/s]"
            ],
            "application/vnd.jupyter.widget-view+json": {
              "version_major": 2,
              "version_minor": 0,
              "model_id": "0538a195a95044149a0990b0ff40cad4"
            }
          },
          "metadata": {}
        },
        {
          "output_type": "display_data",
          "data": {
            "text/plain": [
              "Downloading data:   0%|          | 0.00/1.01M [00:00<?, ?B/s]"
            ],
            "application/vnd.jupyter.widget-view+json": {
              "version_major": 2,
              "version_minor": 0,
              "model_id": "64d4375b785847d5a5576270730e350b"
            }
          },
          "metadata": {}
        },
        {
          "output_type": "display_data",
          "data": {
            "text/plain": [
              "Generating train split:   0%|          | 0/10269 [00:00<?, ? examples/s]"
            ],
            "application/vnd.jupyter.widget-view+json": {
              "version_major": 2,
              "version_minor": 0,
              "model_id": "af7d49b7dcca453597fc2ba26c56ad71"
            }
          },
          "metadata": {}
        },
        {
          "output_type": "display_data",
          "data": {
            "text/plain": [
              "Generating test split:   0%|          | 0/1283 [00:00<?, ? examples/s]"
            ],
            "application/vnd.jupyter.widget-view+json": {
              "version_major": 2,
              "version_minor": 0,
              "model_id": "3b4569b7d71e4df68c84c766e0fbf7c6"
            }
          },
          "metadata": {}
        },
        {
          "output_type": "display_data",
          "data": {
            "text/plain": [
              "Generating validation split:   0%|          | 0/1284 [00:00<?, ? examples/s]"
            ],
            "application/vnd.jupyter.widget-view+json": {
              "version_major": 2,
              "version_minor": 0,
              "model_id": "ab48b8cf2b664371b678872274113fa4"
            }
          },
          "metadata": {}
        },
        {
          "output_type": "stream",
          "name": "stdout",
          "text": [
            "Length of training data: 10269\n",
            "Length of validation data: 1284\n",
            "Length of testing data: 1283\n"
          ]
        }
      ]
    },
    {
      "cell_type": "code",
      "source": [
        "train_df.head(10)"
      ],
      "metadata": {
        "colab": {
          "base_uri": "https://localhost:8080/",
          "height": 1000
        },
        "outputId": "ed66eb4e-b7ce-4b57-b647-47f07e5fbecf",
        "id": "_gkBB0OwRphO"
      },
      "execution_count": 5,
      "outputs": [
        {
          "output_type": "execute_result",
          "data": {
            "text/plain": [
              "           id  label                                          statement  \\\n",
              "0   2635.json      0  Says the Annies List political group supports ...   \n",
              "1  10540.json      1  When did the decline of coal start? It started...   \n",
              "2    324.json      2  Hillary Clinton agrees with John McCain \"by vo...   \n",
              "3   1123.json      0  Health care reform legislation is likely to ma...   \n",
              "4   9028.json      1  The economic turnaround started at the end of ...   \n",
              "5  12465.json      3  The Chicago Bears have had more starting quart...   \n",
              "6   2342.json      4  Jim Dunnam has not lived in the district he re...   \n",
              "7    153.json      1  \"I'm the only person on this stage who has wor...   \n",
              "8   5602.json      1  However, it took $19.5 million in Oregon Lotte...   \n",
              "9   9741.json      2  Says GOP primary opponents Glenn Grothman and ...   \n",
              "\n",
              "                                     subject                 speaker  \\\n",
              "0                                   abortion            dwayne-bohac   \n",
              "1         energy,history,job-accomplishments          scott-surovell   \n",
              "2                             foreign-policy            barack-obama   \n",
              "3                                health-care            blog-posting   \n",
              "4                               economy,jobs           charlie-crist   \n",
              "5                                  education               robin-vos   \n",
              "6                       candidates-biography  republican-party-texas   \n",
              "7                                     ethics            barack-obama   \n",
              "8                                       jobs          oregon-lottery   \n",
              "9  energy,message-machine-2014,voting-record           duey-stroebel   \n",
              "\n",
              "                    job_title state_info party_affiliation  \\\n",
              "0        State representative      Texas        republican   \n",
              "1              State delegate   Virginia          democrat   \n",
              "2                   President   Illinois          democrat   \n",
              "3                                                     none   \n",
              "4                                Florida          democrat   \n",
              "5  Wisconsin Assembly speaker  Wisconsin        republican   \n",
              "6                                  Texas        republican   \n",
              "7                   President   Illinois          democrat   \n",
              "8                                             organization   \n",
              "9        State representative  Wisconsin        republican   \n",
              "\n",
              "   barely_true_counts  false_counts  half_true_counts  mostly_true_counts  \\\n",
              "0                 0.0           1.0               0.0                 0.0   \n",
              "1                 0.0           0.0               1.0                 1.0   \n",
              "2                70.0          71.0             160.0               163.0   \n",
              "3                 7.0          19.0               3.0                 5.0   \n",
              "4                15.0           9.0              20.0                19.0   \n",
              "5                 0.0           3.0               2.0                 5.0   \n",
              "6                 3.0           1.0               1.0                 3.0   \n",
              "7                70.0          71.0             160.0               163.0   \n",
              "8                 0.0           0.0               1.0                 0.0   \n",
              "9                 0.0           0.0               0.0                 1.0   \n",
              "\n",
              "   pants_on_fire_counts                                   context  \n",
              "0                   0.0                                  a mailer  \n",
              "1                   0.0                           a floor speech.  \n",
              "2                   9.0                                    Denver  \n",
              "3                  44.0                            a news release  \n",
              "4                   2.0                       an interview on CNN  \n",
              "5                   1.0                 a an online opinion-piece  \n",
              "6                   1.0                          a press release.  \n",
              "7                   9.0  a Democratic debate in Philadelphia, Pa.  \n",
              "8                   1.0                                a website   \n",
              "9                   0.0                           an online video  "
            ],
            "text/html": [
              "\n",
              "  <div id=\"df-030e4ddc-d8e3-47ee-8f5c-7c31cce5b773\" class=\"colab-df-container\">\n",
              "    <div>\n",
              "<style scoped>\n",
              "    .dataframe tbody tr th:only-of-type {\n",
              "        vertical-align: middle;\n",
              "    }\n",
              "\n",
              "    .dataframe tbody tr th {\n",
              "        vertical-align: top;\n",
              "    }\n",
              "\n",
              "    .dataframe thead th {\n",
              "        text-align: right;\n",
              "    }\n",
              "</style>\n",
              "<table border=\"1\" class=\"dataframe\">\n",
              "  <thead>\n",
              "    <tr style=\"text-align: right;\">\n",
              "      <th></th>\n",
              "      <th>id</th>\n",
              "      <th>label</th>\n",
              "      <th>statement</th>\n",
              "      <th>subject</th>\n",
              "      <th>speaker</th>\n",
              "      <th>job_title</th>\n",
              "      <th>state_info</th>\n",
              "      <th>party_affiliation</th>\n",
              "      <th>barely_true_counts</th>\n",
              "      <th>false_counts</th>\n",
              "      <th>half_true_counts</th>\n",
              "      <th>mostly_true_counts</th>\n",
              "      <th>pants_on_fire_counts</th>\n",
              "      <th>context</th>\n",
              "    </tr>\n",
              "  </thead>\n",
              "  <tbody>\n",
              "    <tr>\n",
              "      <th>0</th>\n",
              "      <td>2635.json</td>\n",
              "      <td>0</td>\n",
              "      <td>Says the Annies List political group supports ...</td>\n",
              "      <td>abortion</td>\n",
              "      <td>dwayne-bohac</td>\n",
              "      <td>State representative</td>\n",
              "      <td>Texas</td>\n",
              "      <td>republican</td>\n",
              "      <td>0.0</td>\n",
              "      <td>1.0</td>\n",
              "      <td>0.0</td>\n",
              "      <td>0.0</td>\n",
              "      <td>0.0</td>\n",
              "      <td>a mailer</td>\n",
              "    </tr>\n",
              "    <tr>\n",
              "      <th>1</th>\n",
              "      <td>10540.json</td>\n",
              "      <td>1</td>\n",
              "      <td>When did the decline of coal start? It started...</td>\n",
              "      <td>energy,history,job-accomplishments</td>\n",
              "      <td>scott-surovell</td>\n",
              "      <td>State delegate</td>\n",
              "      <td>Virginia</td>\n",
              "      <td>democrat</td>\n",
              "      <td>0.0</td>\n",
              "      <td>0.0</td>\n",
              "      <td>1.0</td>\n",
              "      <td>1.0</td>\n",
              "      <td>0.0</td>\n",
              "      <td>a floor speech.</td>\n",
              "    </tr>\n",
              "    <tr>\n",
              "      <th>2</th>\n",
              "      <td>324.json</td>\n",
              "      <td>2</td>\n",
              "      <td>Hillary Clinton agrees with John McCain \"by vo...</td>\n",
              "      <td>foreign-policy</td>\n",
              "      <td>barack-obama</td>\n",
              "      <td>President</td>\n",
              "      <td>Illinois</td>\n",
              "      <td>democrat</td>\n",
              "      <td>70.0</td>\n",
              "      <td>71.0</td>\n",
              "      <td>160.0</td>\n",
              "      <td>163.0</td>\n",
              "      <td>9.0</td>\n",
              "      <td>Denver</td>\n",
              "    </tr>\n",
              "    <tr>\n",
              "      <th>3</th>\n",
              "      <td>1123.json</td>\n",
              "      <td>0</td>\n",
              "      <td>Health care reform legislation is likely to ma...</td>\n",
              "      <td>health-care</td>\n",
              "      <td>blog-posting</td>\n",
              "      <td></td>\n",
              "      <td></td>\n",
              "      <td>none</td>\n",
              "      <td>7.0</td>\n",
              "      <td>19.0</td>\n",
              "      <td>3.0</td>\n",
              "      <td>5.0</td>\n",
              "      <td>44.0</td>\n",
              "      <td>a news release</td>\n",
              "    </tr>\n",
              "    <tr>\n",
              "      <th>4</th>\n",
              "      <td>9028.json</td>\n",
              "      <td>1</td>\n",
              "      <td>The economic turnaround started at the end of ...</td>\n",
              "      <td>economy,jobs</td>\n",
              "      <td>charlie-crist</td>\n",
              "      <td></td>\n",
              "      <td>Florida</td>\n",
              "      <td>democrat</td>\n",
              "      <td>15.0</td>\n",
              "      <td>9.0</td>\n",
              "      <td>20.0</td>\n",
              "      <td>19.0</td>\n",
              "      <td>2.0</td>\n",
              "      <td>an interview on CNN</td>\n",
              "    </tr>\n",
              "    <tr>\n",
              "      <th>5</th>\n",
              "      <td>12465.json</td>\n",
              "      <td>3</td>\n",
              "      <td>The Chicago Bears have had more starting quart...</td>\n",
              "      <td>education</td>\n",
              "      <td>robin-vos</td>\n",
              "      <td>Wisconsin Assembly speaker</td>\n",
              "      <td>Wisconsin</td>\n",
              "      <td>republican</td>\n",
              "      <td>0.0</td>\n",
              "      <td>3.0</td>\n",
              "      <td>2.0</td>\n",
              "      <td>5.0</td>\n",
              "      <td>1.0</td>\n",
              "      <td>a an online opinion-piece</td>\n",
              "    </tr>\n",
              "    <tr>\n",
              "      <th>6</th>\n",
              "      <td>2342.json</td>\n",
              "      <td>4</td>\n",
              "      <td>Jim Dunnam has not lived in the district he re...</td>\n",
              "      <td>candidates-biography</td>\n",
              "      <td>republican-party-texas</td>\n",
              "      <td></td>\n",
              "      <td>Texas</td>\n",
              "      <td>republican</td>\n",
              "      <td>3.0</td>\n",
              "      <td>1.0</td>\n",
              "      <td>1.0</td>\n",
              "      <td>3.0</td>\n",
              "      <td>1.0</td>\n",
              "      <td>a press release.</td>\n",
              "    </tr>\n",
              "    <tr>\n",
              "      <th>7</th>\n",
              "      <td>153.json</td>\n",
              "      <td>1</td>\n",
              "      <td>\"I'm the only person on this stage who has wor...</td>\n",
              "      <td>ethics</td>\n",
              "      <td>barack-obama</td>\n",
              "      <td>President</td>\n",
              "      <td>Illinois</td>\n",
              "      <td>democrat</td>\n",
              "      <td>70.0</td>\n",
              "      <td>71.0</td>\n",
              "      <td>160.0</td>\n",
              "      <td>163.0</td>\n",
              "      <td>9.0</td>\n",
              "      <td>a Democratic debate in Philadelphia, Pa.</td>\n",
              "    </tr>\n",
              "    <tr>\n",
              "      <th>8</th>\n",
              "      <td>5602.json</td>\n",
              "      <td>1</td>\n",
              "      <td>However, it took $19.5 million in Oregon Lotte...</td>\n",
              "      <td>jobs</td>\n",
              "      <td>oregon-lottery</td>\n",
              "      <td></td>\n",
              "      <td></td>\n",
              "      <td>organization</td>\n",
              "      <td>0.0</td>\n",
              "      <td>0.0</td>\n",
              "      <td>1.0</td>\n",
              "      <td>0.0</td>\n",
              "      <td>1.0</td>\n",
              "      <td>a website</td>\n",
              "    </tr>\n",
              "    <tr>\n",
              "      <th>9</th>\n",
              "      <td>9741.json</td>\n",
              "      <td>2</td>\n",
              "      <td>Says GOP primary opponents Glenn Grothman and ...</td>\n",
              "      <td>energy,message-machine-2014,voting-record</td>\n",
              "      <td>duey-stroebel</td>\n",
              "      <td>State representative</td>\n",
              "      <td>Wisconsin</td>\n",
              "      <td>republican</td>\n",
              "      <td>0.0</td>\n",
              "      <td>0.0</td>\n",
              "      <td>0.0</td>\n",
              "      <td>1.0</td>\n",
              "      <td>0.0</td>\n",
              "      <td>an online video</td>\n",
              "    </tr>\n",
              "  </tbody>\n",
              "</table>\n",
              "</div>\n",
              "    <div class=\"colab-df-buttons\">\n",
              "\n",
              "  <div class=\"colab-df-container\">\n",
              "    <button class=\"colab-df-convert\" onclick=\"convertToInteractive('df-030e4ddc-d8e3-47ee-8f5c-7c31cce5b773')\"\n",
              "            title=\"Convert this dataframe to an interactive table.\"\n",
              "            style=\"display:none;\">\n",
              "\n",
              "  <svg xmlns=\"http://www.w3.org/2000/svg\" height=\"24px\" viewBox=\"0 -960 960 960\">\n",
              "    <path d=\"M120-120v-720h720v720H120Zm60-500h600v-160H180v160Zm220 220h160v-160H400v160Zm0 220h160v-160H400v160ZM180-400h160v-160H180v160Zm440 0h160v-160H620v160ZM180-180h160v-160H180v160Zm440 0h160v-160H620v160Z\"/>\n",
              "  </svg>\n",
              "    </button>\n",
              "\n",
              "  <style>\n",
              "    .colab-df-container {\n",
              "      display:flex;\n",
              "      gap: 12px;\n",
              "    }\n",
              "\n",
              "    .colab-df-convert {\n",
              "      background-color: #E8F0FE;\n",
              "      border: none;\n",
              "      border-radius: 50%;\n",
              "      cursor: pointer;\n",
              "      display: none;\n",
              "      fill: #1967D2;\n",
              "      height: 32px;\n",
              "      padding: 0 0 0 0;\n",
              "      width: 32px;\n",
              "    }\n",
              "\n",
              "    .colab-df-convert:hover {\n",
              "      background-color: #E2EBFA;\n",
              "      box-shadow: 0px 1px 2px rgba(60, 64, 67, 0.3), 0px 1px 3px 1px rgba(60, 64, 67, 0.15);\n",
              "      fill: #174EA6;\n",
              "    }\n",
              "\n",
              "    .colab-df-buttons div {\n",
              "      margin-bottom: 4px;\n",
              "    }\n",
              "\n",
              "    [theme=dark] .colab-df-convert {\n",
              "      background-color: #3B4455;\n",
              "      fill: #D2E3FC;\n",
              "    }\n",
              "\n",
              "    [theme=dark] .colab-df-convert:hover {\n",
              "      background-color: #434B5C;\n",
              "      box-shadow: 0px 1px 3px 1px rgba(0, 0, 0, 0.15);\n",
              "      filter: drop-shadow(0px 1px 2px rgba(0, 0, 0, 0.3));\n",
              "      fill: #FFFFFF;\n",
              "    }\n",
              "  </style>\n",
              "\n",
              "    <script>\n",
              "      const buttonEl =\n",
              "        document.querySelector('#df-030e4ddc-d8e3-47ee-8f5c-7c31cce5b773 button.colab-df-convert');\n",
              "      buttonEl.style.display =\n",
              "        google.colab.kernel.accessAllowed ? 'block' : 'none';\n",
              "\n",
              "      async function convertToInteractive(key) {\n",
              "        const element = document.querySelector('#df-030e4ddc-d8e3-47ee-8f5c-7c31cce5b773');\n",
              "        const dataTable =\n",
              "          await google.colab.kernel.invokeFunction('convertToInteractive',\n",
              "                                                    [key], {});\n",
              "        if (!dataTable) return;\n",
              "\n",
              "        const docLinkHtml = 'Like what you see? Visit the ' +\n",
              "          '<a target=\"_blank\" href=https://colab.research.google.com/notebooks/data_table.ipynb>data table notebook</a>'\n",
              "          + ' to learn more about interactive tables.';\n",
              "        element.innerHTML = '';\n",
              "        dataTable['output_type'] = 'display_data';\n",
              "        await google.colab.output.renderOutput(dataTable, element);\n",
              "        const docLink = document.createElement('div');\n",
              "        docLink.innerHTML = docLinkHtml;\n",
              "        element.appendChild(docLink);\n",
              "      }\n",
              "    </script>\n",
              "  </div>\n",
              "\n",
              "\n",
              "<div id=\"df-10f48c78-e162-4022-b66e-68fdb507b19d\">\n",
              "  <button class=\"colab-df-quickchart\" onclick=\"quickchart('df-10f48c78-e162-4022-b66e-68fdb507b19d')\"\n",
              "            title=\"Suggest charts\"\n",
              "            style=\"display:none;\">\n",
              "\n",
              "<svg xmlns=\"http://www.w3.org/2000/svg\" height=\"24px\"viewBox=\"0 0 24 24\"\n",
              "     width=\"24px\">\n",
              "    <g>\n",
              "        <path d=\"M19 3H5c-1.1 0-2 .9-2 2v14c0 1.1.9 2 2 2h14c1.1 0 2-.9 2-2V5c0-1.1-.9-2-2-2zM9 17H7v-7h2v7zm4 0h-2V7h2v10zm4 0h-2v-4h2v4z\"/>\n",
              "    </g>\n",
              "</svg>\n",
              "  </button>\n",
              "\n",
              "<style>\n",
              "  .colab-df-quickchart {\n",
              "      --bg-color: #E8F0FE;\n",
              "      --fill-color: #1967D2;\n",
              "      --hover-bg-color: #E2EBFA;\n",
              "      --hover-fill-color: #174EA6;\n",
              "      --disabled-fill-color: #AAA;\n",
              "      --disabled-bg-color: #DDD;\n",
              "  }\n",
              "\n",
              "  [theme=dark] .colab-df-quickchart {\n",
              "      --bg-color: #3B4455;\n",
              "      --fill-color: #D2E3FC;\n",
              "      --hover-bg-color: #434B5C;\n",
              "      --hover-fill-color: #FFFFFF;\n",
              "      --disabled-bg-color: #3B4455;\n",
              "      --disabled-fill-color: #666;\n",
              "  }\n",
              "\n",
              "  .colab-df-quickchart {\n",
              "    background-color: var(--bg-color);\n",
              "    border: none;\n",
              "    border-radius: 50%;\n",
              "    cursor: pointer;\n",
              "    display: none;\n",
              "    fill: var(--fill-color);\n",
              "    height: 32px;\n",
              "    padding: 0;\n",
              "    width: 32px;\n",
              "  }\n",
              "\n",
              "  .colab-df-quickchart:hover {\n",
              "    background-color: var(--hover-bg-color);\n",
              "    box-shadow: 0 1px 2px rgba(60, 64, 67, 0.3), 0 1px 3px 1px rgba(60, 64, 67, 0.15);\n",
              "    fill: var(--button-hover-fill-color);\n",
              "  }\n",
              "\n",
              "  .colab-df-quickchart-complete:disabled,\n",
              "  .colab-df-quickchart-complete:disabled:hover {\n",
              "    background-color: var(--disabled-bg-color);\n",
              "    fill: var(--disabled-fill-color);\n",
              "    box-shadow: none;\n",
              "  }\n",
              "\n",
              "  .colab-df-spinner {\n",
              "    border: 2px solid var(--fill-color);\n",
              "    border-color: transparent;\n",
              "    border-bottom-color: var(--fill-color);\n",
              "    animation:\n",
              "      spin 1s steps(1) infinite;\n",
              "  }\n",
              "\n",
              "  @keyframes spin {\n",
              "    0% {\n",
              "      border-color: transparent;\n",
              "      border-bottom-color: var(--fill-color);\n",
              "      border-left-color: var(--fill-color);\n",
              "    }\n",
              "    20% {\n",
              "      border-color: transparent;\n",
              "      border-left-color: var(--fill-color);\n",
              "      border-top-color: var(--fill-color);\n",
              "    }\n",
              "    30% {\n",
              "      border-color: transparent;\n",
              "      border-left-color: var(--fill-color);\n",
              "      border-top-color: var(--fill-color);\n",
              "      border-right-color: var(--fill-color);\n",
              "    }\n",
              "    40% {\n",
              "      border-color: transparent;\n",
              "      border-right-color: var(--fill-color);\n",
              "      border-top-color: var(--fill-color);\n",
              "    }\n",
              "    60% {\n",
              "      border-color: transparent;\n",
              "      border-right-color: var(--fill-color);\n",
              "    }\n",
              "    80% {\n",
              "      border-color: transparent;\n",
              "      border-right-color: var(--fill-color);\n",
              "      border-bottom-color: var(--fill-color);\n",
              "    }\n",
              "    90% {\n",
              "      border-color: transparent;\n",
              "      border-bottom-color: var(--fill-color);\n",
              "    }\n",
              "  }\n",
              "</style>\n",
              "\n",
              "  <script>\n",
              "    async function quickchart(key) {\n",
              "      const quickchartButtonEl =\n",
              "        document.querySelector('#' + key + ' button');\n",
              "      quickchartButtonEl.disabled = true;  // To prevent multiple clicks.\n",
              "      quickchartButtonEl.classList.add('colab-df-spinner');\n",
              "      try {\n",
              "        const charts = await google.colab.kernel.invokeFunction(\n",
              "            'suggestCharts', [key], {});\n",
              "      } catch (error) {\n",
              "        console.error('Error during call to suggestCharts:', error);\n",
              "      }\n",
              "      quickchartButtonEl.classList.remove('colab-df-spinner');\n",
              "      quickchartButtonEl.classList.add('colab-df-quickchart-complete');\n",
              "    }\n",
              "    (() => {\n",
              "      let quickchartButtonEl =\n",
              "        document.querySelector('#df-10f48c78-e162-4022-b66e-68fdb507b19d button');\n",
              "      quickchartButtonEl.style.display =\n",
              "        google.colab.kernel.accessAllowed ? 'block' : 'none';\n",
              "    })();\n",
              "  </script>\n",
              "</div>\n",
              "    </div>\n",
              "  </div>\n"
            ]
          },
          "metadata": {},
          "execution_count": 5
        }
      ]
    },
    {
      "cell_type": "code",
      "source": [
        "# filling missing values with 'None', creating a new 'total_news' column by conacating all the relevant column, and dropping irrelevant columns\n",
        "\n",
        "def preprocessing(data):\n",
        "    data['subject'] = data['subject'].fillna('None')\n",
        "    data['speaker'] = data['speaker'].fillna('None')\n",
        "    data['job_title'] = data['job_title'].fillna('None')\n",
        "    data['state_info'] = data['state_info'].fillna('None')\n",
        "    data['party_affiliation'] = data['party_affiliation'].fillna('None')\n",
        "    data['context'] = data['context'].fillna('None')\n",
        "\n",
        "    data['meta'] = data[['subject', 'speaker', 'job_title', 'state_info', 'party_affiliation', 'context']].astype(str).agg(' '.join, axis=1)\n",
        "    data['total_news'] = data['meta'] + ' ' + data['statement'].astype(str)\n",
        "\n",
        "    data = data.drop(['id', 'statement', 'subject', 'speaker', 'job_title', 'state_info', 'party_affiliation', 'barely_true_counts', 'false_counts', 'half_true_counts', 'mostly_true_counts', 'pants_on_fire_counts', 'context', 'meta'], axis=1)  # dropping metadata columns, as we have merged them into a single column\n",
        "    data = data.dropna()\n",
        "\n",
        "    return data"
      ],
      "metadata": {
        "id": "cBf8NIAQRphO"
      },
      "execution_count": 6,
      "outputs": []
    },
    {
      "cell_type": "code",
      "source": [
        "# apply preprocessing to train, val, test dataframes\n",
        "\n",
        "train_df = preprocessing(train_df)\n",
        "val_df = preprocessing(val_df)\n",
        "test_df = preprocessing(test_df)"
      ],
      "metadata": {
        "id": "E-u_IPCJRphO"
      },
      "execution_count": 7,
      "outputs": []
    },
    {
      "cell_type": "code",
      "source": [
        "train_df.head(10)"
      ],
      "metadata": {
        "colab": {
          "base_uri": "https://localhost:8080/",
          "height": 363
        },
        "outputId": "6321bf4f-4119-4f89-f836-6c124708dafb",
        "id": "nF0OvzeVRphO"
      },
      "execution_count": 8,
      "outputs": [
        {
          "output_type": "execute_result",
          "data": {
            "text/plain": [
              "   label                                         total_news\n",
              "0      0  abortion dwayne-bohac State representative Tex...\n",
              "1      1  energy,history,job-accomplishments scott-surov...\n",
              "2      2  foreign-policy barack-obama President Illinois...\n",
              "3      0  health-care blog-posting   none a news release...\n",
              "4      1  economy,jobs charlie-crist  Florida democrat a...\n",
              "5      3  education robin-vos Wisconsin Assembly speaker...\n",
              "6      4  candidates-biography republican-party-texas  T...\n",
              "7      1  ethics barack-obama President Illinois democra...\n",
              "8      1  jobs oregon-lottery   organization a website  ...\n",
              "9      2  energy,message-machine-2014,voting-record duey..."
            ],
            "text/html": [
              "\n",
              "  <div id=\"df-ba2f713e-2f9f-4345-ac1b-c472b8f957b9\" class=\"colab-df-container\">\n",
              "    <div>\n",
              "<style scoped>\n",
              "    .dataframe tbody tr th:only-of-type {\n",
              "        vertical-align: middle;\n",
              "    }\n",
              "\n",
              "    .dataframe tbody tr th {\n",
              "        vertical-align: top;\n",
              "    }\n",
              "\n",
              "    .dataframe thead th {\n",
              "        text-align: right;\n",
              "    }\n",
              "</style>\n",
              "<table border=\"1\" class=\"dataframe\">\n",
              "  <thead>\n",
              "    <tr style=\"text-align: right;\">\n",
              "      <th></th>\n",
              "      <th>label</th>\n",
              "      <th>total_news</th>\n",
              "    </tr>\n",
              "  </thead>\n",
              "  <tbody>\n",
              "    <tr>\n",
              "      <th>0</th>\n",
              "      <td>0</td>\n",
              "      <td>abortion dwayne-bohac State representative Tex...</td>\n",
              "    </tr>\n",
              "    <tr>\n",
              "      <th>1</th>\n",
              "      <td>1</td>\n",
              "      <td>energy,history,job-accomplishments scott-surov...</td>\n",
              "    </tr>\n",
              "    <tr>\n",
              "      <th>2</th>\n",
              "      <td>2</td>\n",
              "      <td>foreign-policy barack-obama President Illinois...</td>\n",
              "    </tr>\n",
              "    <tr>\n",
              "      <th>3</th>\n",
              "      <td>0</td>\n",
              "      <td>health-care blog-posting   none a news release...</td>\n",
              "    </tr>\n",
              "    <tr>\n",
              "      <th>4</th>\n",
              "      <td>1</td>\n",
              "      <td>economy,jobs charlie-crist  Florida democrat a...</td>\n",
              "    </tr>\n",
              "    <tr>\n",
              "      <th>5</th>\n",
              "      <td>3</td>\n",
              "      <td>education robin-vos Wisconsin Assembly speaker...</td>\n",
              "    </tr>\n",
              "    <tr>\n",
              "      <th>6</th>\n",
              "      <td>4</td>\n",
              "      <td>candidates-biography republican-party-texas  T...</td>\n",
              "    </tr>\n",
              "    <tr>\n",
              "      <th>7</th>\n",
              "      <td>1</td>\n",
              "      <td>ethics barack-obama President Illinois democra...</td>\n",
              "    </tr>\n",
              "    <tr>\n",
              "      <th>8</th>\n",
              "      <td>1</td>\n",
              "      <td>jobs oregon-lottery   organization a website  ...</td>\n",
              "    </tr>\n",
              "    <tr>\n",
              "      <th>9</th>\n",
              "      <td>2</td>\n",
              "      <td>energy,message-machine-2014,voting-record duey...</td>\n",
              "    </tr>\n",
              "  </tbody>\n",
              "</table>\n",
              "</div>\n",
              "    <div class=\"colab-df-buttons\">\n",
              "\n",
              "  <div class=\"colab-df-container\">\n",
              "    <button class=\"colab-df-convert\" onclick=\"convertToInteractive('df-ba2f713e-2f9f-4345-ac1b-c472b8f957b9')\"\n",
              "            title=\"Convert this dataframe to an interactive table.\"\n",
              "            style=\"display:none;\">\n",
              "\n",
              "  <svg xmlns=\"http://www.w3.org/2000/svg\" height=\"24px\" viewBox=\"0 -960 960 960\">\n",
              "    <path d=\"M120-120v-720h720v720H120Zm60-500h600v-160H180v160Zm220 220h160v-160H400v160Zm0 220h160v-160H400v160ZM180-400h160v-160H180v160Zm440 0h160v-160H620v160ZM180-180h160v-160H180v160Zm440 0h160v-160H620v160Z\"/>\n",
              "  </svg>\n",
              "    </button>\n",
              "\n",
              "  <style>\n",
              "    .colab-df-container {\n",
              "      display:flex;\n",
              "      gap: 12px;\n",
              "    }\n",
              "\n",
              "    .colab-df-convert {\n",
              "      background-color: #E8F0FE;\n",
              "      border: none;\n",
              "      border-radius: 50%;\n",
              "      cursor: pointer;\n",
              "      display: none;\n",
              "      fill: #1967D2;\n",
              "      height: 32px;\n",
              "      padding: 0 0 0 0;\n",
              "      width: 32px;\n",
              "    }\n",
              "\n",
              "    .colab-df-convert:hover {\n",
              "      background-color: #E2EBFA;\n",
              "      box-shadow: 0px 1px 2px rgba(60, 64, 67, 0.3), 0px 1px 3px 1px rgba(60, 64, 67, 0.15);\n",
              "      fill: #174EA6;\n",
              "    }\n",
              "\n",
              "    .colab-df-buttons div {\n",
              "      margin-bottom: 4px;\n",
              "    }\n",
              "\n",
              "    [theme=dark] .colab-df-convert {\n",
              "      background-color: #3B4455;\n",
              "      fill: #D2E3FC;\n",
              "    }\n",
              "\n",
              "    [theme=dark] .colab-df-convert:hover {\n",
              "      background-color: #434B5C;\n",
              "      box-shadow: 0px 1px 3px 1px rgba(0, 0, 0, 0.15);\n",
              "      filter: drop-shadow(0px 1px 2px rgba(0, 0, 0, 0.3));\n",
              "      fill: #FFFFFF;\n",
              "    }\n",
              "  </style>\n",
              "\n",
              "    <script>\n",
              "      const buttonEl =\n",
              "        document.querySelector('#df-ba2f713e-2f9f-4345-ac1b-c472b8f957b9 button.colab-df-convert');\n",
              "      buttonEl.style.display =\n",
              "        google.colab.kernel.accessAllowed ? 'block' : 'none';\n",
              "\n",
              "      async function convertToInteractive(key) {\n",
              "        const element = document.querySelector('#df-ba2f713e-2f9f-4345-ac1b-c472b8f957b9');\n",
              "        const dataTable =\n",
              "          await google.colab.kernel.invokeFunction('convertToInteractive',\n",
              "                                                    [key], {});\n",
              "        if (!dataTable) return;\n",
              "\n",
              "        const docLinkHtml = 'Like what you see? Visit the ' +\n",
              "          '<a target=\"_blank\" href=https://colab.research.google.com/notebooks/data_table.ipynb>data table notebook</a>'\n",
              "          + ' to learn more about interactive tables.';\n",
              "        element.innerHTML = '';\n",
              "        dataTable['output_type'] = 'display_data';\n",
              "        await google.colab.output.renderOutput(dataTable, element);\n",
              "        const docLink = document.createElement('div');\n",
              "        docLink.innerHTML = docLinkHtml;\n",
              "        element.appendChild(docLink);\n",
              "      }\n",
              "    </script>\n",
              "  </div>\n",
              "\n",
              "\n",
              "<div id=\"df-51522d1e-b11c-48c0-9fc8-f38691a189a3\">\n",
              "  <button class=\"colab-df-quickchart\" onclick=\"quickchart('df-51522d1e-b11c-48c0-9fc8-f38691a189a3')\"\n",
              "            title=\"Suggest charts\"\n",
              "            style=\"display:none;\">\n",
              "\n",
              "<svg xmlns=\"http://www.w3.org/2000/svg\" height=\"24px\"viewBox=\"0 0 24 24\"\n",
              "     width=\"24px\">\n",
              "    <g>\n",
              "        <path d=\"M19 3H5c-1.1 0-2 .9-2 2v14c0 1.1.9 2 2 2h14c1.1 0 2-.9 2-2V5c0-1.1-.9-2-2-2zM9 17H7v-7h2v7zm4 0h-2V7h2v10zm4 0h-2v-4h2v4z\"/>\n",
              "    </g>\n",
              "</svg>\n",
              "  </button>\n",
              "\n",
              "<style>\n",
              "  .colab-df-quickchart {\n",
              "      --bg-color: #E8F0FE;\n",
              "      --fill-color: #1967D2;\n",
              "      --hover-bg-color: #E2EBFA;\n",
              "      --hover-fill-color: #174EA6;\n",
              "      --disabled-fill-color: #AAA;\n",
              "      --disabled-bg-color: #DDD;\n",
              "  }\n",
              "\n",
              "  [theme=dark] .colab-df-quickchart {\n",
              "      --bg-color: #3B4455;\n",
              "      --fill-color: #D2E3FC;\n",
              "      --hover-bg-color: #434B5C;\n",
              "      --hover-fill-color: #FFFFFF;\n",
              "      --disabled-bg-color: #3B4455;\n",
              "      --disabled-fill-color: #666;\n",
              "  }\n",
              "\n",
              "  .colab-df-quickchart {\n",
              "    background-color: var(--bg-color);\n",
              "    border: none;\n",
              "    border-radius: 50%;\n",
              "    cursor: pointer;\n",
              "    display: none;\n",
              "    fill: var(--fill-color);\n",
              "    height: 32px;\n",
              "    padding: 0;\n",
              "    width: 32px;\n",
              "  }\n",
              "\n",
              "  .colab-df-quickchart:hover {\n",
              "    background-color: var(--hover-bg-color);\n",
              "    box-shadow: 0 1px 2px rgba(60, 64, 67, 0.3), 0 1px 3px 1px rgba(60, 64, 67, 0.15);\n",
              "    fill: var(--button-hover-fill-color);\n",
              "  }\n",
              "\n",
              "  .colab-df-quickchart-complete:disabled,\n",
              "  .colab-df-quickchart-complete:disabled:hover {\n",
              "    background-color: var(--disabled-bg-color);\n",
              "    fill: var(--disabled-fill-color);\n",
              "    box-shadow: none;\n",
              "  }\n",
              "\n",
              "  .colab-df-spinner {\n",
              "    border: 2px solid var(--fill-color);\n",
              "    border-color: transparent;\n",
              "    border-bottom-color: var(--fill-color);\n",
              "    animation:\n",
              "      spin 1s steps(1) infinite;\n",
              "  }\n",
              "\n",
              "  @keyframes spin {\n",
              "    0% {\n",
              "      border-color: transparent;\n",
              "      border-bottom-color: var(--fill-color);\n",
              "      border-left-color: var(--fill-color);\n",
              "    }\n",
              "    20% {\n",
              "      border-color: transparent;\n",
              "      border-left-color: var(--fill-color);\n",
              "      border-top-color: var(--fill-color);\n",
              "    }\n",
              "    30% {\n",
              "      border-color: transparent;\n",
              "      border-left-color: var(--fill-color);\n",
              "      border-top-color: var(--fill-color);\n",
              "      border-right-color: var(--fill-color);\n",
              "    }\n",
              "    40% {\n",
              "      border-color: transparent;\n",
              "      border-right-color: var(--fill-color);\n",
              "      border-top-color: var(--fill-color);\n",
              "    }\n",
              "    60% {\n",
              "      border-color: transparent;\n",
              "      border-right-color: var(--fill-color);\n",
              "    }\n",
              "    80% {\n",
              "      border-color: transparent;\n",
              "      border-right-color: var(--fill-color);\n",
              "      border-bottom-color: var(--fill-color);\n",
              "    }\n",
              "    90% {\n",
              "      border-color: transparent;\n",
              "      border-bottom-color: var(--fill-color);\n",
              "    }\n",
              "  }\n",
              "</style>\n",
              "\n",
              "  <script>\n",
              "    async function quickchart(key) {\n",
              "      const quickchartButtonEl =\n",
              "        document.querySelector('#' + key + ' button');\n",
              "      quickchartButtonEl.disabled = true;  // To prevent multiple clicks.\n",
              "      quickchartButtonEl.classList.add('colab-df-spinner');\n",
              "      try {\n",
              "        const charts = await google.colab.kernel.invokeFunction(\n",
              "            'suggestCharts', [key], {});\n",
              "      } catch (error) {\n",
              "        console.error('Error during call to suggestCharts:', error);\n",
              "      }\n",
              "      quickchartButtonEl.classList.remove('colab-df-spinner');\n",
              "      quickchartButtonEl.classList.add('colab-df-quickchart-complete');\n",
              "    }\n",
              "    (() => {\n",
              "      let quickchartButtonEl =\n",
              "        document.querySelector('#df-51522d1e-b11c-48c0-9fc8-f38691a189a3 button');\n",
              "      quickchartButtonEl.style.display =\n",
              "        google.colab.kernel.accessAllowed ? 'block' : 'none';\n",
              "    })();\n",
              "  </script>\n",
              "</div>\n",
              "    </div>\n",
              "  </div>\n"
            ]
          },
          "metadata": {},
          "execution_count": 8
        }
      ]
    },
    {
      "cell_type": "code",
      "source": [
        "nltk.download(\"stopwords\")\n",
        "nltk.download('wordnet')"
      ],
      "metadata": {
        "colab": {
          "base_uri": "https://localhost:8080/"
        },
        "outputId": "d1dccb97-0de1-4c68-9042-f09392a42959",
        "id": "uFxA3sSmRphO"
      },
      "execution_count": 9,
      "outputs": [
        {
          "output_type": "stream",
          "name": "stderr",
          "text": [
            "[nltk_data] Downloading package stopwords to /root/nltk_data...\n",
            "[nltk_data]   Unzipping corpora/stopwords.zip.\n",
            "[nltk_data] Downloading package wordnet to /root/nltk_data...\n"
          ]
        },
        {
          "output_type": "execute_result",
          "data": {
            "text/plain": [
              "True"
            ]
          },
          "metadata": {},
          "execution_count": 9
        }
      ]
    },
    {
      "cell_type": "code",
      "source": [
        "stop_words = set(stopwords.words(\"english\"))\n",
        "print(stop_words)"
      ],
      "metadata": {
        "colab": {
          "base_uri": "https://localhost:8080/"
        },
        "id": "BeNjJOU1NRUQ",
        "outputId": "489f55f7-c95f-415f-807f-e4eb4cc59c0d"
      },
      "execution_count": 10,
      "outputs": [
        {
          "output_type": "stream",
          "name": "stdout",
          "text": [
            "{'yourself', 'doesn', 'needn', 'each', 'did', 'such', 'if', 'to', 'its', 'didn', 'any', 'couldn', \"hadn't\", \"mightn't\", 'will', \"don't\", 're', 'your', 'shan', \"couldn't\", 'both', 'most', \"didn't\", \"you've\", 'from', 'then', 'this', 'ourselves', 'wasn', 'in', 'wouldn', 'hasn', 'can', 'some', 'there', 'ma', 'for', 'of', 'ours', 'that', 'how', 'after', 'few', 'a', 'when', 'has', 'an', \"haven't\", 'during', 'me', 'who', 'mightn', 'between', 'theirs', 'should', 'what', 'up', 'under', 'with', 'whom', 'against', \"wasn't\", 'itself', 'is', 'than', 'these', 'again', 'them', 'below', \"should've\", 'm', 'hers', 'had', 'about', 'are', 'so', 'does', 'why', 'himself', 's', \"shan't\", \"won't\", \"you'll\", 'too', 'doing', 'same', 'mustn', \"you'd\", 'he', 'be', \"aren't\", 'ain', 'on', \"doesn't\", 'just', 'by', 'no', 'were', 'she', 'we', 'o', 'my', 'yourselves', 'now', 'off', 'through', 'd', 'herself', 'above', 'myself', 'i', 't', 'only', 'before', 'having', 'been', 'they', 'further', 'out', 'into', 'hadn', 'was', 'because', 'yours', \"isn't\", 'am', \"wouldn't\", 'while', 'll', 'y', 'their', 'the', 'until', \"she's\", \"you're\", \"hasn't\", 'shouldn', 'do', 'those', 'his', 'haven', 'won', 'isn', 'over', 'once', 'at', \"shouldn't\", 'being', 'all', 'our', 'weren', 'and', 'which', 'it', 'have', 'here', 'don', 'as', \"needn't\", 've', 'nor', \"that'll\", 'very', 'not', 'but', 'him', 'more', \"mustn't\", 'own', \"weren't\", 'where', 'her', 'or', 'aren', 'down', 'other', 'you', 'themselves', \"it's\"}\n"
          ]
        }
      ]
    },
    {
      "cell_type": "code",
      "source": [
        "# import nlpaug.augmenter.word as naw\n",
        "# import nlpaug.augmenter.char as nac\n",
        "# import nlpaug.augmenter.sentence as nas\n",
        "\n",
        "\n",
        "# aug_synonym = naw.SynonymAug()\n",
        "# aug_antonym = naw.AntonymAug()\n",
        "# aug_random = naw.RandomWordAug()\n",
        "\n",
        "# aug_insert = nac.InsertAug()\n",
        "# aug_substitute = nac.SubstituteAug()\n",
        "\n",
        "# aug_context = nas.ContextualWordEmbsForSentenceAug(model_path='bert-base-uncased', action='insert')\n",
        "\n",
        "\n",
        "# def augment(text):\n",
        "#     augmented_text = aug_synonym.augment(text)\n",
        "#     augmented_text = aug_antonym.augment(augmented_text)\n",
        "#     augmented_text = aug_random.augment(augmented_text)\n",
        "#     augmented_text = aug_insert.augment(augmented_text)\n",
        "#     augmented_text = aug_substitute.augment(augmented_text)\n",
        "#     augmented_text = aug_context.augment(augmented_text)\n",
        "\n",
        "#     return augmented_text\n"
      ],
      "metadata": {
        "id": "t_Oe_N2EkM1G"
      },
      "execution_count": 11,
      "outputs": []
    },
    {
      "cell_type": "code",
      "source": [
        "# expands contractions, converts text to lowercase, removes URLs and parentheses, eliminates double quotes, lemmatizes words, and removes stopwords on a dataframe\n",
        "\n",
        "lemmatizer = WordNetLemmatizer()\n",
        "stop_words = set(stopwords.words('english'))\n",
        "\n",
        "# expanding contractions\n",
        "def expand(text):\n",
        "    for c, e in contractions_dict.items():\n",
        "        text = text.replace(c, e)\n",
        "    return text\n",
        "\n",
        "def clean_text(text):\n",
        "    text = expand(text)\n",
        "    # print(text)\n",
        "    text = text.lower()\n",
        "    # print(text)\n",
        "    text = re.sub(r'http\\S+|www\\S+|https\\S+', '', text)\n",
        "    # print(text)\n",
        "    text = re.sub(r'\\([^)]*\\)', '', text)\n",
        "    # print(text)\n",
        "    text = re.sub('\"', '', text)\n",
        "    # print(text)\n",
        "    words = [lemmatizer.lemmatize(w) for w in re.findall(r'\\b\\w+\\b', text) if w not in stop_words]\n",
        "\n",
        "    return \" \".join(words).strip()\n"
      ],
      "metadata": {
        "id": "vohfuAw3RphP"
      },
      "execution_count": 12,
      "outputs": []
    },
    {
      "cell_type": "code",
      "source": [
        "df = [train_df, test_df, val_df]\n",
        "\n",
        "for data in df:\n",
        "    data['total_news'] = data['total_news'].apply(clean_text)"
      ],
      "metadata": {
        "id": "eHrWHvDZofgO"
      },
      "execution_count": 13,
      "outputs": []
    },
    {
      "cell_type": "code",
      "source": [
        "# def augment_and_clean(text, label):\n",
        "#     augmented_text = augment(text)\n",
        "#     cleaned_text = clean_text(augmented_text)\n",
        "#     return cleaned_text, label"
      ],
      "metadata": {
        "id": "q9SWp1G3llcK"
      },
      "execution_count": 14,
      "outputs": []
    },
    {
      "cell_type": "code",
      "source": [
        "# train_df['total_news'] = train_df['total_news'].apply(clean_text)\n",
        "# val_df['total_news'] = val_df['total_news'].apply(clean_text)\n",
        "# test_df['total_news'] = test_df['total_news'].apply(clean_text)\n",
        "\n",
        "\n",
        "# train_df['augmented_total_news'], train_df['augmented_label'] = zip(*train_df.apply(lambda row: augment_and_clean(row['total_news'], row['label']), axis=1))\n",
        "# combined_train_df = pd.concat([train_df, train_df[['augmented_total_news', 'augmented_label']]], ignore_index=True)"
      ],
      "metadata": {
        "id": "vPXXP_f3RphP"
      },
      "execution_count": 15,
      "outputs": []
    },
    {
      "cell_type": "markdown",
      "source": [
        "\n",
        "\n",
        "*   true(0) : The statement is accurate and there’s nothing significant missing.\n",
        "*   mostly-true(1) : The statement is accurate but needs clarification or additional information.\n",
        "*   half-true(2) : The statement is partially accurate but leaves out important details or takes things out of context.\n",
        "*   barely-true(3) : The statement contains an element of truth but ignores critical facts that would give a different impression.\n",
        "*   false(4) : The statement is not accurate.\n",
        "*   pants-fire(5) : The statement is not accurate and makes a ridiculous claim. a.k.a. \"Liar, Liar, Pants on Fire!\""
      ],
      "metadata": {
        "id": "P6g4RvYkRphP"
      }
    },
    {
      "cell_type": "code",
      "source": [
        "# Adjusts labels for binary classification if num_labels is 2; otherwise, labels will be unchanged for 6-class classification.\n",
        "\n",
        "num_labels = 2\n",
        "\n",
        "if num_labels == 2:\n",
        "    train_df['label'] = train_df['label'].apply(lambda x: 0 if x in [0, 1] else 1)\n",
        "    val_df['label'] = val_df['label'].apply(lambda x: 0 if x in [0, 1] else 1)\n",
        "    test_df['label'] = test_df['label'].apply(lambda x: 0 if x in [0, 1] else 1)\n",
        "elif num_labels == 6:\n",
        "    pass"
      ],
      "metadata": {
        "id": "UkhRTKSHRphP"
      },
      "execution_count": 16,
      "outputs": []
    },
    {
      "cell_type": "code",
      "source": [
        "tokenizer = get_tokenizer(\"basic_english\")\n",
        "\n",
        "# Tokenize the 'total_news' in each dataframe\n",
        "train_tokens = [tokenizer(text) for text in train_df['total_news']]\n",
        "val_tokens = [tokenizer(text) for text in val_df['total_news']]\n",
        "test_tokens = [tokenizer(text) for text in test_df['total_news']]\n",
        "\n",
        "# combine all the tokens in the dataset\n",
        "total_tokens = train_tokens + val_tokens + test_tokens\n",
        "\n",
        "# counts the occurrences of each token in the entire dataset\n",
        "word_counter = Counter([token for tokens in total_tokens for token in tokens])\n",
        "\n",
        "# Create vocabulary from word_counter where the occurence of token is atleast '1' and adding a special token '<unk>' for unknown words.\n",
        "Vocab = vocab(word_counter, min_freq=1, specials=['<unk>'])\n"
      ],
      "metadata": {
        "id": "N3wfrbVpRphP"
      },
      "execution_count": 17,
      "outputs": []
    },
    {
      "cell_type": "code",
      "source": [
        "# map the tokenized representations of text data to numerical indices using predifined vocabulary\n",
        "\n",
        "def number_tokens(tokens):\n",
        "    return [Vocab[token] if token in Vocab else Vocab['<unk>'] for token in tokens]\n",
        "\n",
        "\n",
        "train_numbers = [number_tokens(tokens) for tokens in train_tokens]\n",
        "val_numbers = [number_tokens(tokens) for tokens in val_tokens]\n",
        "test_numbers = [number_tokens(tokens) for tokens in test_tokens]\n"
      ],
      "metadata": {
        "id": "5Ru1Z93GRphP"
      },
      "execution_count": 18,
      "outputs": []
    },
    {
      "cell_type": "code",
      "source": [
        "print('\\nOriginal News: ',train_df['total_news'][110])\n",
        "\n",
        "print('\\n After Tokenization: ',train_tokens[110])\n",
        "\n",
        "print('\\n After Numericalization: ',train_numbers[110])"
      ],
      "metadata": {
        "colab": {
          "base_uri": "https://localhost:8080/"
        },
        "id": "0hdUwoQ3DccI",
        "outputId": "e8a8a850-bf05-4e47-b651-a19df4f5fc99"
      },
      "execution_count": 19,
      "outputs": [
        {
          "output_type": "stream",
          "name": "stdout",
          "text": [
            "\n",
            "Original News:  government regulation job poverty welfare scott walker milwaukee county executive wisconsin republican speech two third wisconsinite receiving unemployment check required search work due current work search exemption\n",
            "\n",
            " After Tokenization:  ['government', 'regulation', 'job', 'poverty', 'welfare', 'scott', 'walker', 'milwaukee', 'county', 'executive', 'wisconsin', 'republican', 'speech', 'two', 'third', 'wisconsinite', 'receiving', 'unemployment', 'check', 'required', 'search', 'work', 'due', 'current', 'work', 'search', 'exemption']\n",
            "\n",
            " After Numericalization:  [209, 270, 20, 186, 1111, 22, 337, 1112, 895, 1113, 85, 7, 28, 103, 15, 1114, 1115, 408, 1116, 1117, 1118, 427, 220, 1119, 427, 1118, 1120]\n"
          ]
        }
      ]
    },
    {
      "cell_type": "code",
      "source": [
        "# calculates maximum length of a sequence in the entire dat, which will be used further in models\n",
        "max_padding = max(len(sequence) for sequence in total_tokens)\n",
        "\n",
        "# Padding sequences to a fixed length so that model performs well\n",
        "train_padded = pad_sequence([torch.tensor(nums) for nums in train_numbers], batch_first=True)\n",
        "val_padded = pad_sequence([torch.tensor(nums) for nums in val_numbers], batch_first=True)\n",
        "test_padded = pad_sequence([torch.tensor(nums) for nums in test_numbers], batch_first=True)\n"
      ],
      "metadata": {
        "id": "gMkqHcD0RphQ"
      },
      "execution_count": 20,
      "outputs": []
    },
    {
      "cell_type": "code",
      "source": [
        "train_dataset = TensorDataset(train_padded, torch.tensor(train_df[\"label\"]))\n",
        "val_dataset = TensorDataset(val_padded, torch.tensor(val_df[\"label\"]))\n",
        "test_dataset = TensorDataset(test_padded, torch.tensor(test_df[\"label\"]))\n"
      ],
      "metadata": {
        "id": "NUHH3bgORphQ"
      },
      "execution_count": 21,
      "outputs": []
    },
    {
      "cell_type": "code",
      "source": [
        "# Class distribution analysis\n",
        "plt.figure(figsize=(8, 5))\n",
        "ax = train_df['label'].value_counts().plot(kind='bar', color=['blue', 'red'])\n",
        "for p in ax.patches:\n",
        "    ax.annotate(str(p.get_height()), (p.get_x() + p.get_width() / 2., p.get_height()),\n",
        "                ha='center', va='center', xytext=(0, 10), textcoords='offset points', fontsize=10, color='black')\n",
        "plt.title('Class Distribution in Training Set')\n",
        "plt.xlabel('Label')\n",
        "plt.ylabel('Count')\n",
        "plt.show()"
      ],
      "metadata": {
        "colab": {
          "base_uri": "https://localhost:8080/",
          "height": 482
        },
        "id": "Tn6vz_V2DNms",
        "outputId": "36922452-79f9-47b9-b31e-df53489b37ff"
      },
      "execution_count": 22,
      "outputs": [
        {
          "output_type": "display_data",
          "data": {
            "text/plain": [
              "<Figure size 800x500 with 1 Axes>"
            ],
            "image/png": "[encoded data removed]"
          },
          "metadata": {}
        }
      ]
    },
    {
      "cell_type": "code",
      "source": [
        "# We used focal loss as there is imbalanced data in training\n",
        "class FocalLoss(_WeightedLoss):\n",
        "    def __init__(self, weight=None, gamma=2, reduction='mean'):\n",
        "        super(FocalLoss, self).__init__(weight, reduction=reduction)\n",
        "        self.gamma = gamma\n",
        "\n",
        "    def forward(self, input, target):\n",
        "        ce_loss = F.cross_entropy(input, target, reduction=self.reduction, weight=self.weight)\n",
        "        pt = torch.exp(-ce_loss)\n",
        "        focal_loss = (1 - pt) ** self.gamma * ce_loss\n",
        "        return focal_loss"
      ],
      "metadata": {
        "id": "dtjOk3LGRphQ"
      },
      "execution_count": 23,
      "outputs": []
    },
    {
      "cell_type": "code",
      "source": [
        "# returns an optimizer based on the specified optimizer name(Adam/SGD/RMSProp) with the given learning rate.\n",
        "def get_optimizer(optimizer_name, parameters, learning_rate):\n",
        "    if optimizer_name == 'Adam':\n",
        "        return optim.Adam(parameters, lr=learning_rate)\n",
        "    elif optimizer_name == 'SGD':\n",
        "        return optim.SGD(parameters, lr=learning_rate)\n",
        "    elif optimizer_name == 'RMSprop':\n",
        "        return optim.RMSprop(parameters, lr=learning_rate)"
      ],
      "metadata": {
        "id": "ruxyF9BvRphQ"
      },
      "execution_count": 24,
      "outputs": []
    },
    {
      "cell_type": "markdown",
      "source": [
        "# BiLSTM Model"
      ],
      "metadata": {
        "id": "67X1-gBzZTvF"
      }
    },
    {
      "cell_type": "code",
      "source": [
        "class BilstmModel(nn.Module):\n",
        "    def __init__(self, vocab_size, embedding_dim, hidden_size, num_layers, dropout, bidirectional, output_dim):\n",
        "        super(BilstmModel, self).__init__()\n",
        "\n",
        "        self.embedding = nn.Embedding(vocab_size, embedding_dim)\n",
        "        self.bilstm = nn.LSTM(embedding_dim, hidden_size, num_layers=num_layers, batch_first=True, dropout=dropout, bidirectional=bidirectional)\n",
        "        self.dropout = nn.Dropout(dropout)\n",
        "        self.fc = nn.Linear(hidden_size * 2, output_dim)\n",
        "\n",
        "    def forward(self, x):\n",
        "        x = self.embedding(x)\n",
        "        x, unknown = self.bilstm(x)\n",
        "        x = torch.cat((x[:, -1, :hidden_size], x[:, 0, hidden_size:]), dim=-1)\n",
        "        x = self.dropout(x)\n",
        "        x = self.fc(x)\n",
        "        return x\n",
        "\n",
        "# Define hyperparameters for the model where some of them can be changed later\n",
        "vocab_size = len(Vocab)\n",
        "embedding_dim = 128\n",
        "hidden_size = 64\n",
        "output_dim = 2\n",
        "num_layers = 1\n",
        "bidirectional = True\n",
        "dropout = 0.5\n",
        "\n",
        "# Define Model and print the architecture of the model\n",
        "model = BilstmModel(vocab_size, embedding_dim, hidden_size, num_layers, dropout, bidirectional, output_dim)\n",
        "print(model)"
      ],
      "metadata": {
        "id": "prhf7XcNZRLi",
        "colab": {
          "base_uri": "https://localhost:8080/"
        },
        "outputId": "b94095ed-cb40-407a-9b66-d89a55d7e0d6"
      },
      "execution_count": 25,
      "outputs": [
        {
          "output_type": "stream",
          "name": "stdout",
          "text": [
            "BilstmModel(\n",
            "  (embedding): Embedding(14286, 128)\n",
            "  (bilstm): LSTM(128, 64, batch_first=True, dropout=0.5, bidirectional=True)\n",
            "  (dropout): Dropout(p=0.5, inplace=False)\n",
            "  (fc): Linear(in_features=128, out_features=2, bias=True)\n",
            ")\n"
          ]
        },
        {
          "output_type": "stream",
          "name": "stderr",
          "text": [
            "/usr/local/lib/python3.10/dist-packages/torch/nn/modules/rnn.py:82: UserWarning: dropout option adds dropout after all but last recurrent layer, so non-zero dropout expects num_layers greater than 1, but got dropout=0.5 and num_layers=1\n",
            "  warnings.warn(\"dropout option adds dropout after all but last \"\n"
          ]
        }
      ]
    },
    {
      "cell_type": "code",
      "source": [
        "device = torch.device(\"cuda\" if torch.cuda.is_available() else \"cpu\")\n",
        "\n",
        "# Training each model on these cobination of hyperparameters\n",
        "learning_rates = [0.001, 0.01]\n",
        "optimizers = ['Adam', 'SGD', 'RMSprop']\n",
        "loss_functions = [nn.CrossEntropyLoss(), FocalLoss(gamma=2)]\n",
        "batch_sizes = [32, 64, 128]\n",
        "embedding_dims = [100, 200, 300]\n",
        "\n",
        "combinations = list(itertools.product(learning_rates, optimizers, loss_functions, batch_sizes, embedding_dims))\n",
        "\n",
        "results = []\n",
        "best_accuracy = 0.0\n",
        "best_hyperparameters = None\n",
        "best_model = None\n",
        "\n",
        "for combination in tqdm(combinations):\n",
        "    learning_rate, optimizer_name, loss_fn, batch_size, embedding_dim = combination\n",
        "\n",
        "    # create a model for each of the hyperparameter combination, train and evaluate on test data\n",
        "    model = BilstmModel(vocab_size, embedding_dim, hidden_size, num_layers, dropout, bidirectional, output_dim)\n",
        "    model.to(device)\n",
        "\n",
        "    # set the optimizer and loss function\n",
        "    optimizer = get_optimizer(optimizer_name, model.parameters(), learning_rate)\n",
        "    criterion = loss_fn\n",
        "\n",
        "    # Loaders are used to efficiently iterate over the datasets in batches during the training and evaluation processes\n",
        "    train_loader = DataLoader(train_dataset, batch_size=batch_size, shuffle=True)\n",
        "    val_loader = DataLoader(val_dataset, batch_size=batch_size, shuffle=False)\n",
        "    test_loader = DataLoader(test_dataset, batch_size=batch_size, shuffle=False)\n",
        "\n",
        "    num_epochs = 5\n",
        "    for epoch in range(num_epochs):\n",
        "        model.train()\n",
        "        training_loss = 0.0\n",
        "        training_corrects = 0\n",
        "        training_count = 0\n",
        "\n",
        "        # Model Training\n",
        "        for i, data in enumerate(train_loader, 0):\n",
        "            inputs, labels = data\n",
        "            inputs, labels = inputs.to(device), labels.to(device)\n",
        "            # print(inputs)\n",
        "            # print(labels)\n",
        "\n",
        "            optimizer.zero_grad()\n",
        "            outputs = model(inputs)\n",
        "            # print(outputs)\n",
        "\n",
        "            loss = criterion(outputs, labels)\n",
        "            loss.backward()\n",
        "            training_loss += loss.item()\n",
        "\n",
        "            optimizer.step()\n",
        "\n",
        "            x, preds = torch.max(outputs.data, 1)\n",
        "            # print(preds)\n",
        "\n",
        "            training_count += labels.size(0)\n",
        "            training_corrects += torch.sum(preds == labels).item()\n",
        "\n",
        "        # calculate the average loss and accuracy for the each training epoch\n",
        "        train_epoch_loss = training_loss / len(train_loader)\n",
        "        train_epoch_accuracy = training_corrects / training_count\n",
        "\n",
        "\n",
        "\n",
        "        # Model Validation on data that it hasn't seen during training and adjust hyperparameters\n",
        "        model.eval()\n",
        "        validation_loss = 0.0\n",
        "        validation_corrects = 0\n",
        "        validation_count = 0\n",
        "\n",
        "        with torch.no_grad():\n",
        "            for i, data in enumerate(val_loader, 0):\n",
        "                inputs, labels = data\n",
        "                inputs, labels = inputs.to(device), labels.to(device)\n",
        "                outputs = model(inputs)\n",
        "                # print(inputs)\n",
        "                # print(labels)\n",
        "                # print(outputs)\n",
        "\n",
        "                loss = criterion(outputs, labels)\n",
        "                validation_loss += loss.item()\n",
        "\n",
        "                x, preds = torch.max(outputs.data, 1)\n",
        "                # print(preds)\n",
        "\n",
        "                validation_count += labels.size(0)\n",
        "                validation_corrects += torch.sum(preds == labels).item()\n",
        "\n",
        "        # calculate the average loss and accuracy for the each validation epoch\n",
        "        val_epoch_loss = validation_loss / len(val_loader)\n",
        "        val_epoch_accuracy = validation_corrects / validation_count\n",
        "\n",
        "        print(f\"Epoch {epoch + 1}/{num_epochs}, \"\n",
        "              f\"Train Loss: {train_epoch_loss:.4f}, Train Accuracy: {train_epoch_accuracy * 100:.2f}%, \"\n",
        "              f\"Validation Loss: {val_epoch_loss:.4f}, Validation Accuracy: {val_epoch_accuracy * 100:.2f}\")\n",
        "\n",
        "\n",
        "\n",
        "    # Testing the accuracy of the model on test data\n",
        "    test_loss = 0.0\n",
        "    test_corrects = 0\n",
        "    test_count = 0\n",
        "    with torch.no_grad():\n",
        "        for i, data in enumerate(test_loader, 0):\n",
        "            inputs, labels = data\n",
        "            inputs, labels = inputs.to(device), labels.to(device)\n",
        "            outputs = model(inputs)\n",
        "            # print(inputs)\n",
        "            # print(labels)\n",
        "            # print(outputs)\n",
        "\n",
        "            loss = criterion(outputs, labels)\n",
        "            test_loss += loss.item()\n",
        "\n",
        "            x, preds = torch.max(outputs.data, 1)\n",
        "            # print(preds)\n",
        "\n",
        "            test_count += labels.size(0)\n",
        "            test_corrects += torch.sum(preds == labels).item()\n",
        "\n",
        "    # calculate the average test_loss and test_accuracy on the training data\n",
        "    average_test_loss = test_loss / len(test_loader)\n",
        "    average_test_accuracy = test_corrects / test_count\n",
        "\n",
        "    result = {\n",
        "        'Learning Rate': learning_rate,\n",
        "        'Optimizer': optimizer_name,\n",
        "        'Loss Function': loss_fn.__class__.__name__,\n",
        "        'Batch Size': batch_size,\n",
        "        'Embedding Dim': embedding_dim,\n",
        "        'Test Accuracy': average_test_accuracy\n",
        "    }\n",
        "    results.append(result)\n",
        "    # Add each hyperparameter combination with the test accuracy tp results list for later analysis\n",
        "\n",
        "    print(f\"Hyperparameters: LR={learning_rate}, Optimizer={optimizer_name}, Loss={loss_fn.__class__.__name__}, \"\n",
        "          f\"Batch Size={batch_size}, Embedding Dim={embedding_dim}, \"\n",
        "          f\"Test Loss: {average_test_loss:.4f}, Test Accuracy: {average_test_accuracy * 100:.2f}\")\n",
        "\n",
        "    # The best-performing model and its associated hyperparameters are stored for later analysis\n",
        "    if average_test_accuracy > best_accuracy:\n",
        "        best_accuracy = average_test_accuracy\n",
        "        best_hyperparameters = combination\n",
        "        best_model = model.state_dict()\n",
        "\n"
      ],
      "metadata": {
        "colab": {
          "base_uri": "https://localhost:8080/"
        },
        "id": "SPTcj_usaDpz",
        "outputId": "6ba614a7-8db9-482e-eaaa-d0a321d061e3"
      },
      "execution_count": null,
      "outputs": [
        {
          "output_type": "stream",
          "name": "stderr",
          "text": [
            "\r  0%|          | 0/108 [00:00<?, ?it/s]"
          ]
        },
        {
          "output_type": "stream",
          "name": "stdout",
          "text": [
            "Epoch 1/5, Train Loss: 0.6774, Train Accuracy: 59.34%, Validation Loss: 0.6739, Validation Accuracy: 60.28\n",
            "Epoch 2/5, Train Loss: 0.6707, Train Accuracy: 59.68%, Validation Loss: 0.6740, Validation Accuracy: 59.97\n",
            "Epoch 3/5, Train Loss: 0.6604, Train Accuracy: 60.79%, Validation Loss: 0.6793, Validation Accuracy: 58.18\n",
            "Epoch 4/5, Train Loss: 0.6350, Train Accuracy: 63.58%, Validation Loss: 0.6846, Validation Accuracy: 58.96\n"
          ]
        },
        {
          "output_type": "stream",
          "name": "stderr",
          "text": [
            "\r  1%|          | 1/108 [00:16<29:23, 16.48s/it]"
          ]
        },
        {
          "output_type": "stream",
          "name": "stdout",
          "text": [
            "Epoch 5/5, Train Loss: 0.5810, Train Accuracy: 69.51%, Validation Loss: 0.7407, Validation Accuracy: 57.40\n",
            "Hyperparameters: LR=0.001, Optimizer=Adam, Loss=CrossEntropyLoss, Batch Size=32, Embedding Dim=100, Test Loss: 0.7528, Test Accuracy: 58.61\n"
          ]
        },
        {
          "output_type": "stream",
          "name": "stderr",
          "text": [
            "/usr/local/lib/python3.10/dist-packages/torch/nn/modules/rnn.py:82: UserWarning: dropout option adds dropout after all but last recurrent layer, so non-zero dropout expects num_layers greater than 1, but got dropout=0.5 and num_layers=1\n",
            "  warnings.warn(\"dropout option adds dropout after all but last \"\n"
          ]
        },
        {
          "output_type": "stream",
          "name": "stdout",
          "text": [
            "Epoch 1/5, Train Loss: 0.6797, Train Accuracy: 58.58%, Validation Loss: 0.6739, Validation Accuracy: 60.28\n",
            "Epoch 2/5, Train Loss: 0.6684, Train Accuracy: 60.24%, Validation Loss: 0.6774, Validation Accuracy: 58.96\n",
            "Epoch 3/5, Train Loss: 0.6576, Train Accuracy: 61.33%, Validation Loss: 0.6861, Validation Accuracy: 57.17\n",
            "Epoch 4/5, Train Loss: 0.6295, Train Accuracy: 64.69%, Validation Loss: 0.6989, Validation Accuracy: 56.31\n"
          ]
        },
        {
          "output_type": "stream",
          "name": "stderr",
          "text": [
            "\r  2%|▏         | 2/108 [00:22<18:31, 10.48s/it]"
          ]
        },
        {
          "output_type": "stream",
          "name": "stdout",
          "text": [
            "Epoch 5/5, Train Loss: 0.5551, Train Accuracy: 71.48%, Validation Loss: 0.7563, Validation Accuracy: 53.58\n",
            "Hyperparameters: LR=0.001, Optimizer=Adam, Loss=CrossEntropyLoss, Batch Size=32, Embedding Dim=200, Test Loss: 0.7481, Test Accuracy: 52.92\n",
            "Epoch 1/5, Train Loss: 0.6817, Train Accuracy: 58.59%, Validation Loss: 0.6718, Validation Accuracy: 60.28\n",
            "Epoch 2/5, Train Loss: 0.6692, Train Accuracy: 59.83%, Validation Loss: 0.6749, Validation Accuracy: 60.12\n",
            "Epoch 3/5, Train Loss: 0.6583, Train Accuracy: 60.44%, Validation Loss: 0.6799, Validation Accuracy: 57.87\n",
            "Epoch 4/5, Train Loss: 0.6333, Train Accuracy: 64.49%, Validation Loss: 0.6861, Validation Accuracy: 58.72\n"
          ]
        },
        {
          "output_type": "stream",
          "name": "stderr",
          "text": [
            "\r  3%|▎         | 3/108 [00:29<15:31,  8.88s/it]"
          ]
        },
        {
          "output_type": "stream",
          "name": "stdout",
          "text": [
            "Epoch 5/5, Train Loss: 0.5741, Train Accuracy: 69.81%, Validation Loss: 0.7294, Validation Accuracy: 56.00\n",
            "Hyperparameters: LR=0.001, Optimizer=Adam, Loss=CrossEntropyLoss, Batch Size=32, Embedding Dim=300, Test Loss: 0.7384, Test Accuracy: 56.12\n",
            "Epoch 1/5, Train Loss: 0.6779, Train Accuracy: 59.30%, Validation Loss: 0.6702, Validation Accuracy: 60.20\n",
            "Epoch 2/5, Train Loss: 0.6708, Train Accuracy: 59.82%, Validation Loss: 0.6724, Validation Accuracy: 58.49\n",
            "Epoch 3/5, Train Loss: 0.6638, Train Accuracy: 60.46%, Validation Loss: 0.6694, Validation Accuracy: 59.03\n",
            "Epoch 4/5, Train Loss: 0.6444, Train Accuracy: 62.61%, Validation Loss: 0.6803, Validation Accuracy: 58.26\n"
          ]
        },
        {
          "output_type": "stream",
          "name": "stderr",
          "text": [
            "\r  4%|▎         | 4/108 [00:32<11:24,  6.58s/it]"
          ]
        },
        {
          "output_type": "stream",
          "name": "stdout",
          "text": [
            "Epoch 5/5, Train Loss: 0.6068, Train Accuracy: 67.22%, Validation Loss: 0.7015, Validation Accuracy: 56.70\n",
            "Hyperparameters: LR=0.001, Optimizer=Adam, Loss=CrossEntropyLoss, Batch Size=64, Embedding Dim=100, Test Loss: 0.7083, Test Accuracy: 54.95\n",
            "Epoch 1/5, Train Loss: 0.6805, Train Accuracy: 59.32%, Validation Loss: 0.6727, Validation Accuracy: 60.28\n",
            "Epoch 2/5, Train Loss: 0.6717, Train Accuracy: 59.79%, Validation Loss: 0.6731, Validation Accuracy: 59.66\n",
            "Epoch 3/5, Train Loss: 0.6647, Train Accuracy: 60.28%, Validation Loss: 0.6745, Validation Accuracy: 57.94\n",
            "Epoch 4/5, Train Loss: 0.6465, Train Accuracy: 62.67%, Validation Loss: 0.6812, Validation Accuracy: 57.63\n"
          ]
        },
        {
          "output_type": "stream",
          "name": "stderr",
          "text": [
            "\r  5%|▍         | 5/108 [00:36<09:46,  5.69s/it]"
          ]
        },
        {
          "output_type": "stream",
          "name": "stdout",
          "text": [
            "Epoch 5/5, Train Loss: 0.6052, Train Accuracy: 67.05%, Validation Loss: 0.7115, Validation Accuracy: 56.46\n",
            "Hyperparameters: LR=0.001, Optimizer=Adam, Loss=CrossEntropyLoss, Batch Size=64, Embedding Dim=200, Test Loss: 0.7076, Test Accuracy: 57.29\n",
            "Epoch 1/5, Train Loss: 0.6815, Train Accuracy: 58.26%, Validation Loss: 0.6710, Validation Accuracy: 60.28\n",
            "Epoch 2/5, Train Loss: 0.6694, Train Accuracy: 59.79%, Validation Loss: 0.6702, Validation Accuracy: 60.12\n",
            "Epoch 3/5, Train Loss: 0.6627, Train Accuracy: 60.55%, Validation Loss: 0.6763, Validation Accuracy: 58.96\n",
            "Epoch 4/5, Train Loss: 0.6423, Train Accuracy: 62.64%, Validation Loss: 0.6826, Validation Accuracy: 57.01\n"
          ]
        },
        {
          "output_type": "stream",
          "name": "stderr",
          "text": [
            "\r  6%|▌         | 6/108 [00:41<08:54,  5.24s/it]"
          ]
        },
        {
          "output_type": "stream",
          "name": "stdout",
          "text": [
            "Epoch 5/5, Train Loss: 0.5993, Train Accuracy: 67.49%, Validation Loss: 0.7080, Validation Accuracy: 55.45\n",
            "Hyperparameters: LR=0.001, Optimizer=Adam, Loss=CrossEntropyLoss, Batch Size=64, Embedding Dim=300, Test Loss: 0.7099, Test Accuracy: 55.34\n",
            "Epoch 1/5, Train Loss: 0.6779, Train Accuracy: 59.07%, Validation Loss: 0.6689, Validation Accuracy: 60.28\n",
            "Epoch 2/5, Train Loss: 0.6720, Train Accuracy: 59.65%, Validation Loss: 0.6674, Validation Accuracy: 60.20\n",
            "Epoch 3/5, Train Loss: 0.6677, Train Accuracy: 59.93%, Validation Loss: 0.6706, Validation Accuracy: 59.35\n",
            "Epoch 4/5, Train Loss: 0.6602, Train Accuracy: 60.48%, Validation Loss: 0.6744, Validation Accuracy: 58.41\n"
          ]
        },
        {
          "output_type": "stream",
          "name": "stderr",
          "text": [
            "\r  6%|▋         | 7/108 [00:43<07:01,  4.17s/it]"
          ]
        },
        {
          "output_type": "stream",
          "name": "stdout",
          "text": [
            "Epoch 5/5, Train Loss: 0.6430, Train Accuracy: 62.67%, Validation Loss: 0.6874, Validation Accuracy: 56.54\n",
            "Hyperparameters: LR=0.001, Optimizer=Adam, Loss=CrossEntropyLoss, Batch Size=128, Embedding Dim=100, Test Loss: 0.6837, Test Accuracy: 57.76\n",
            "Epoch 1/5, Train Loss: 0.6785, Train Accuracy: 59.28%, Validation Loss: 0.6670, Validation Accuracy: 60.28\n",
            "Epoch 2/5, Train Loss: 0.6710, Train Accuracy: 59.60%, Validation Loss: 0.6695, Validation Accuracy: 59.27\n",
            "Epoch 3/5, Train Loss: 0.6655, Train Accuracy: 60.09%, Validation Loss: 0.6683, Validation Accuracy: 59.42\n",
            "Epoch 4/5, Train Loss: 0.6554, Train Accuracy: 61.18%, Validation Loss: 0.6691, Validation Accuracy: 58.72\n"
          ]
        },
        {
          "output_type": "stream",
          "name": "stderr",
          "text": [
            "\r  7%|▋         | 8/108 [00:45<06:01,  3.61s/it]"
          ]
        },
        {
          "output_type": "stream",
          "name": "stdout",
          "text": [
            "Epoch 5/5, Train Loss: 0.6348, Train Accuracy: 63.88%, Validation Loss: 0.6854, Validation Accuracy: 56.62\n",
            "Hyperparameters: LR=0.001, Optimizer=Adam, Loss=CrossEntropyLoss, Batch Size=128, Embedding Dim=200, Test Loss: 0.6793, Test Accuracy: 59.16\n",
            "Epoch 1/5, Train Loss: 0.6785, Train Accuracy: 58.94%, Validation Loss: 0.6706, Validation Accuracy: 60.28\n",
            "Epoch 2/5, Train Loss: 0.6709, Train Accuracy: 59.90%, Validation Loss: 0.6701, Validation Accuracy: 59.89\n",
            "Epoch 3/5, Train Loss: 0.6624, Train Accuracy: 60.35%, Validation Loss: 0.6752, Validation Accuracy: 58.72\n",
            "Epoch 4/5, Train Loss: 0.6516, Train Accuracy: 61.63%, Validation Loss: 0.6776, Validation Accuracy: 57.17\n"
          ]
        },
        {
          "output_type": "stream",
          "name": "stderr",
          "text": [
            "\r  8%|▊         | 9/108 [00:48<05:40,  3.44s/it]"
          ]
        },
        {
          "output_type": "stream",
          "name": "stdout",
          "text": [
            "Epoch 5/5, Train Loss: 0.6313, Train Accuracy: 64.27%, Validation Loss: 0.6897, Validation Accuracy: 53.58\n",
            "Hyperparameters: LR=0.001, Optimizer=Adam, Loss=CrossEntropyLoss, Batch Size=128, Embedding Dim=300, Test Loss: 0.6705, Test Accuracy: 57.83\n",
            "Epoch 1/5, Train Loss: 0.1646, Train Accuracy: 59.45%, Validation Loss: 0.1629, Validation Accuracy: 60.12\n",
            "Epoch 2/5, Train Loss: 0.1613, Train Accuracy: 59.78%, Validation Loss: 0.1649, Validation Accuracy: 58.57\n",
            "Epoch 3/5, Train Loss: 0.1556, Train Accuracy: 60.35%, Validation Loss: 0.1642, Validation Accuracy: 59.27\n",
            "Epoch 4/5, Train Loss: 0.1439, Train Accuracy: 62.83%, Validation Loss: 0.1789, Validation Accuracy: 54.98\n"
          ]
        },
        {
          "output_type": "stream",
          "name": "stderr",
          "text": [
            "\r  9%|▉         | 10/108 [00:54<06:56,  4.25s/it]"
          ]
        },
        {
          "output_type": "stream",
          "name": "stdout",
          "text": [
            "Epoch 5/5, Train Loss: 0.1204, Train Accuracy: 68.09%, Validation Loss: 0.1928, Validation Accuracy: 55.69\n",
            "Hyperparameters: LR=0.001, Optimizer=Adam, Loss=FocalLoss, Batch Size=32, Embedding Dim=100, Test Loss: 0.1993, Test Accuracy: 56.12\n",
            "Epoch 1/5, Train Loss: 0.1664, Train Accuracy: 58.93%, Validation Loss: 0.1643, Validation Accuracy: 59.42\n",
            "Epoch 2/5, Train Loss: 0.1598, Train Accuracy: 59.93%, Validation Loss: 0.1635, Validation Accuracy: 59.66\n",
            "Epoch 3/5, Train Loss: 0.1555, Train Accuracy: 60.55%, Validation Loss: 0.1662, Validation Accuracy: 58.02\n",
            "Epoch 4/5, Train Loss: 0.1411, Train Accuracy: 64.03%, Validation Loss: 0.1738, Validation Accuracy: 55.92\n"
          ]
        },
        {
          "output_type": "stream",
          "name": "stderr",
          "text": [
            "\r 10%|█         | 11/108 [01:01<07:54,  4.89s/it]"
          ]
        },
        {
          "output_type": "stream",
          "name": "stdout",
          "text": [
            "Epoch 5/5, Train Loss: 0.1073, Train Accuracy: 70.77%, Validation Loss: 0.1940, Validation Accuracy: 55.22\n",
            "Hyperparameters: LR=0.001, Optimizer=Adam, Loss=FocalLoss, Batch Size=32, Embedding Dim=200, Test Loss: 0.1900, Test Accuracy: 55.03\n",
            "Epoch 1/5, Train Loss: 0.1665, Train Accuracy: 58.79%, Validation Loss: 0.1624, Validation Accuracy: 60.28\n",
            "Epoch 2/5, Train Loss: 0.1603, Train Accuracy: 59.78%, Validation Loss: 0.1631, Validation Accuracy: 59.50\n",
            "Epoch 3/5, Train Loss: 0.1541, Train Accuracy: 60.95%, Validation Loss: 0.1649, Validation Accuracy: 58.10\n",
            "Epoch 4/5, Train Loss: 0.1413, Train Accuracy: 63.94%, Validation Loss: 0.1727, Validation Accuracy: 58.02\n"
          ]
        },
        {
          "output_type": "stream",
          "name": "stderr",
          "text": [
            "\r 11%|█         | 12/108 [01:08<09:11,  5.74s/it]"
          ]
        },
        {
          "output_type": "stream",
          "name": "stdout",
          "text": [
            "Epoch 5/5, Train Loss: 0.1148, Train Accuracy: 68.81%, Validation Loss: 0.1885, Validation Accuracy: 57.79\n",
            "Hyperparameters: LR=0.001, Optimizer=Adam, Loss=FocalLoss, Batch Size=32, Embedding Dim=300, Test Loss: 0.1941, Test Accuracy: 56.98\n",
            "Epoch 1/5, Train Loss: 0.1644, Train Accuracy: 59.63%, Validation Loss: 0.1619, Validation Accuracy: 60.12\n",
            "Epoch 2/5, Train Loss: 0.1605, Train Accuracy: 59.40%, Validation Loss: 0.1623, Validation Accuracy: 59.97\n",
            "Epoch 3/5, Train Loss: 0.1573, Train Accuracy: 60.17%, Validation Loss: 0.1634, Validation Accuracy: 57.55\n",
            "Epoch 4/5, Train Loss: 0.1511, Train Accuracy: 61.26%, Validation Loss: 0.1636, Validation Accuracy: 56.85\n"
          ]
        },
        {
          "output_type": "stream",
          "name": "stderr",
          "text": [
            "\r 12%|█▏        | 13/108 [01:12<07:54,  4.99s/it]"
          ]
        },
        {
          "output_type": "stream",
          "name": "stdout",
          "text": [
            "Epoch 5/5, Train Loss: 0.1347, Train Accuracy: 65.55%, Validation Loss: 0.1749, Validation Accuracy: 57.32\n",
            "Hyperparameters: LR=0.001, Optimizer=Adam, Loss=FocalLoss, Batch Size=64, Embedding Dim=100, Test Loss: 0.1744, Test Accuracy: 56.74\n",
            "Epoch 1/5, Train Loss: 0.1660, Train Accuracy: 58.87%, Validation Loss: 0.1606, Validation Accuracy: 60.28\n",
            "Epoch 2/5, Train Loss: 0.1597, Train Accuracy: 60.01%, Validation Loss: 0.1628, Validation Accuracy: 59.58\n",
            "Epoch 3/5, Train Loss: 0.1551, Train Accuracy: 60.47%, Validation Loss: 0.1661, Validation Accuracy: 56.07\n",
            "Epoch 4/5, Train Loss: 0.1437, Train Accuracy: 62.81%, Validation Loss: 0.1705, Validation Accuracy: 56.39\n"
          ]
        },
        {
          "output_type": "stream",
          "name": "stderr",
          "text": [
            "\r 13%|█▎        | 14/108 [01:16<07:25,  4.74s/it]"
          ]
        },
        {
          "output_type": "stream",
          "name": "stdout",
          "text": [
            "Epoch 5/5, Train Loss: 0.1184, Train Accuracy: 68.75%, Validation Loss: 0.1802, Validation Accuracy: 58.10\n",
            "Hyperparameters: LR=0.001, Optimizer=Adam, Loss=FocalLoss, Batch Size=64, Embedding Dim=200, Test Loss: 0.1887, Test Accuracy: 56.66\n",
            "Epoch 1/5, Train Loss: 0.1656, Train Accuracy: 58.92%, Validation Loss: 0.1614, Validation Accuracy: 59.89\n",
            "Epoch 2/5, Train Loss: 0.1597, Train Accuracy: 59.74%, Validation Loss: 0.1640, Validation Accuracy: 58.57\n",
            "Epoch 3/5, Train Loss: 0.1536, Train Accuracy: 61.02%, Validation Loss: 0.1640, Validation Accuracy: 58.57\n",
            "Epoch 4/5, Train Loss: 0.1439, Train Accuracy: 63.65%, Validation Loss: 0.1686, Validation Accuracy: 58.02\n"
          ]
        },
        {
          "output_type": "stream",
          "name": "stderr",
          "text": [
            "\r 14%|█▍        | 15/108 [01:20<07:17,  4.70s/it]"
          ]
        },
        {
          "output_type": "stream",
          "name": "stdout",
          "text": [
            "Epoch 5/5, Train Loss: 0.1201, Train Accuracy: 68.01%, Validation Loss: 0.1913, Validation Accuracy: 56.85\n",
            "Hyperparameters: LR=0.001, Optimizer=Adam, Loss=FocalLoss, Batch Size=64, Embedding Dim=300, Test Loss: 0.1861, Test Accuracy: 55.26\n",
            "Epoch 1/5, Train Loss: 0.1639, Train Accuracy: 59.29%, Validation Loss: 0.1594, Validation Accuracy: 60.28\n",
            "Epoch 2/5, Train Loss: 0.1613, Train Accuracy: 59.77%, Validation Loss: 0.1584, Validation Accuracy: 60.51\n",
            "Epoch 3/5, Train Loss: 0.1587, Train Accuracy: 59.99%, Validation Loss: 0.1594, Validation Accuracy: 58.49\n",
            "Epoch 4/5, Train Loss: 0.1547, Train Accuracy: 60.58%, Validation Loss: 0.1588, Validation Accuracy: 58.57\n"
          ]
        },
        {
          "output_type": "stream",
          "name": "stderr",
          "text": [
            "\r 15%|█▍        | 16/108 [01:22<05:59,  3.90s/it]"
          ]
        },
        {
          "output_type": "stream",
          "name": "stdout",
          "text": [
            "Epoch 5/5, Train Loss: 0.1458, Train Accuracy: 62.71%, Validation Loss: 0.1659, Validation Accuracy: 55.45\n",
            "Hyperparameters: LR=0.001, Optimizer=Adam, Loss=FocalLoss, Batch Size=128, Embedding Dim=100, Test Loss: 0.1654, Test Accuracy: 56.20\n",
            "Epoch 1/5, Train Loss: 0.1658, Train Accuracy: 59.01%, Validation Loss: 0.1595, Validation Accuracy: 60.12\n",
            "Epoch 2/5, Train Loss: 0.1599, Train Accuracy: 59.93%, Validation Loss: 0.1594, Validation Accuracy: 59.81\n",
            "Epoch 3/5, Train Loss: 0.1565, Train Accuracy: 60.10%, Validation Loss: 0.1603, Validation Accuracy: 59.35\n",
            "Epoch 4/5, Train Loss: 0.1521, Train Accuracy: 61.36%, Validation Loss: 0.1628, Validation Accuracy: 57.55\n"
          ]
        },
        {
          "output_type": "stream",
          "name": "stderr",
          "text": [
            "\r 16%|█▌        | 17/108 [01:25<05:15,  3.47s/it]"
          ]
        },
        {
          "output_type": "stream",
          "name": "stdout",
          "text": [
            "Epoch 5/5, Train Loss: 0.1403, Train Accuracy: 64.15%, Validation Loss: 0.1666, Validation Accuracy: 58.49\n",
            "Hyperparameters: LR=0.001, Optimizer=Adam, Loss=FocalLoss, Batch Size=128, Embedding Dim=200, Test Loss: 0.1722, Test Accuracy: 56.98\n",
            "Epoch 1/5, Train Loss: 0.1666, Train Accuracy: 58.66%, Validation Loss: 0.1617, Validation Accuracy: 60.20\n",
            "Epoch 2/5, Train Loss: 0.1597, Train Accuracy: 60.07%, Validation Loss: 0.1599, Validation Accuracy: 60.12\n",
            "Epoch 3/5, Train Loss: 0.1567, Train Accuracy: 60.46%, Validation Loss: 0.1665, Validation Accuracy: 56.39\n",
            "Epoch 4/5, Train Loss: 0.1509, Train Accuracy: 61.44%, Validation Loss: 0.1636, Validation Accuracy: 57.24\n"
          ]
        },
        {
          "output_type": "stream",
          "name": "stderr",
          "text": [
            "\r 17%|█▋        | 18/108 [01:28<05:00,  3.34s/it]"
          ]
        },
        {
          "output_type": "stream",
          "name": "stdout",
          "text": [
            "Epoch 5/5, Train Loss: 0.1416, Train Accuracy: 63.41%, Validation Loss: 0.1703, Validation Accuracy: 55.45\n",
            "Hyperparameters: LR=0.001, Optimizer=Adam, Loss=FocalLoss, Batch Size=128, Embedding Dim=300, Test Loss: 0.1650, Test Accuracy: 57.05\n",
            "Epoch 1/5, Train Loss: 0.6804, Train Accuracy: 59.25%, Validation Loss: 0.6731, Validation Accuracy: 60.20\n",
            "Epoch 2/5, Train Loss: 0.6777, Train Accuracy: 59.32%, Validation Loss: 0.6729, Validation Accuracy: 60.20\n",
            "Epoch 3/5, Train Loss: 0.6769, Train Accuracy: 59.73%, Validation Loss: 0.6730, Validation Accuracy: 60.20\n",
            "Epoch 4/5, Train Loss: 0.6781, Train Accuracy: 59.71%, Validation Loss: 0.6728, Validation Accuracy: 60.20\n"
          ]
        },
        {
          "output_type": "stream",
          "name": "stderr",
          "text": [
            "\r 18%|█▊        | 19/108 [01:33<05:40,  3.82s/it]"
          ]
        },
        {
          "output_type": "stream",
          "name": "stdout",
          "text": [
            "Epoch 5/5, Train Loss: 0.6764, Train Accuracy: 59.67%, Validation Loss: 0.6726, Validation Accuracy: 60.20\n",
            "Hyperparameters: LR=0.001, Optimizer=SGD, Loss=CrossEntropyLoss, Batch Size=32, Embedding Dim=100, Test Loss: 0.6751, Test Accuracy: 59.78\n",
            "Epoch 1/5, Train Loss: 0.6879, Train Accuracy: 54.77%, Validation Loss: 0.6735, Validation Accuracy: 60.20\n",
            "Epoch 2/5, Train Loss: 0.6772, Train Accuracy: 59.36%, Validation Loss: 0.6718, Validation Accuracy: 60.20\n",
            "Epoch 3/5, Train Loss: 0.6770, Train Accuracy: 59.57%, Validation Loss: 0.6716, Validation Accuracy: 60.20\n",
            "Epoch 4/5, Train Loss: 0.6766, Train Accuracy: 59.67%, Validation Loss: 0.6716, Validation Accuracy: 60.20\n"
          ]
        },
        {
          "output_type": "stream",
          "name": "stderr",
          "text": [
            "\r 19%|█▊        | 20/108 [01:37<05:57,  4.06s/it]"
          ]
        },
        {
          "output_type": "stream",
          "name": "stdout",
          "text": [
            "Epoch 5/5, Train Loss: 0.6770, Train Accuracy: 59.54%, Validation Loss: 0.6715, Validation Accuracy: 60.20\n",
            "Hyperparameters: LR=0.001, Optimizer=SGD, Loss=CrossEntropyLoss, Batch Size=32, Embedding Dim=200, Test Loss: 0.6730, Test Accuracy: 59.78\n",
            "Epoch 1/5, Train Loss: 0.6929, Train Accuracy: 54.62%, Validation Loss: 0.6744, Validation Accuracy: 59.97\n",
            "Epoch 2/5, Train Loss: 0.6833, Train Accuracy: 58.25%, Validation Loss: 0.6732, Validation Accuracy: 60.05\n",
            "Epoch 3/5, Train Loss: 0.6827, Train Accuracy: 58.57%, Validation Loss: 0.6729, Validation Accuracy: 60.12\n",
            "Epoch 4/5, Train Loss: 0.6817, Train Accuracy: 58.60%, Validation Loss: 0.6727, Validation Accuracy: 60.12\n"
          ]
        },
        {
          "output_type": "stream",
          "name": "stderr",
          "text": [
            "\r 19%|█▉        | 21/108 [01:43<06:43,  4.64s/it]"
          ]
        },
        {
          "output_type": "stream",
          "name": "stdout",
          "text": [
            "Epoch 5/5, Train Loss: 0.6813, Train Accuracy: 58.83%, Validation Loss: 0.6726, Validation Accuracy: 60.12\n",
            "Hyperparameters: LR=0.001, Optimizer=SGD, Loss=CrossEntropyLoss, Batch Size=32, Embedding Dim=300, Test Loss: 0.6767, Test Accuracy: 59.70\n",
            "Epoch 1/5, Train Loss: 0.6954, Train Accuracy: 51.74%, Validation Loss: 0.6789, Validation Accuracy: 60.12\n",
            "Epoch 2/5, Train Loss: 0.6815, Train Accuracy: 57.29%, Validation Loss: 0.6715, Validation Accuracy: 60.20\n",
            "Epoch 3/5, Train Loss: 0.6794, Train Accuracy: 59.01%, Validation Loss: 0.6697, Validation Accuracy: 60.20\n",
            "Epoch 4/5, Train Loss: 0.6767, Train Accuracy: 59.21%, Validation Loss: 0.6689, Validation Accuracy: 60.20\n"
          ]
        },
        {
          "output_type": "stream",
          "name": "stderr",
          "text": [
            "\r 20%|██        | 22/108 [01:46<05:50,  4.07s/it]"
          ]
        },
        {
          "output_type": "stream",
          "name": "stdout",
          "text": [
            "Epoch 5/5, Train Loss: 0.6765, Train Accuracy: 59.50%, Validation Loss: 0.6688, Validation Accuracy: 60.20\n",
            "Hyperparameters: LR=0.001, Optimizer=SGD, Loss=CrossEntropyLoss, Batch Size=64, Embedding Dim=100, Test Loss: 0.6746, Test Accuracy: 59.70\n",
            "Epoch 1/5, Train Loss: 0.6906, Train Accuracy: 54.06%, Validation Loss: 0.6761, Validation Accuracy: 59.66\n",
            "Epoch 2/5, Train Loss: 0.6817, Train Accuracy: 57.75%, Validation Loss: 0.6729, Validation Accuracy: 60.20\n",
            "Epoch 3/5, Train Loss: 0.6813, Train Accuracy: 58.30%, Validation Loss: 0.6719, Validation Accuracy: 60.28\n",
            "Epoch 4/5, Train Loss: 0.6802, Train Accuracy: 58.62%, Validation Loss: 0.6717, Validation Accuracy: 60.28\n"
          ]
        },
        {
          "output_type": "stream",
          "name": "stderr",
          "text": [
            "\r 21%|██▏       | 23/108 [01:49<05:16,  3.73s/it]"
          ]
        },
        {
          "output_type": "stream",
          "name": "stdout",
          "text": [
            "Epoch 5/5, Train Loss: 0.6805, Train Accuracy: 58.94%, Validation Loss: 0.6714, Validation Accuracy: 60.28\n",
            "Hyperparameters: LR=0.001, Optimizer=SGD, Loss=CrossEntropyLoss, Batch Size=64, Embedding Dim=200, Test Loss: 0.6734, Test Accuracy: 59.78\n",
            "Epoch 1/5, Train Loss: 0.6917, Train Accuracy: 52.70%, Validation Loss: 0.6752, Validation Accuracy: 60.36\n",
            "Epoch 2/5, Train Loss: 0.6804, Train Accuracy: 58.09%, Validation Loss: 0.6705, Validation Accuracy: 60.20\n",
            "Epoch 3/5, Train Loss: 0.6806, Train Accuracy: 58.53%, Validation Loss: 0.6698, Validation Accuracy: 60.20\n",
            "Epoch 4/5, Train Loss: 0.6778, Train Accuracy: 58.99%, Validation Loss: 0.6694, Validation Accuracy: 60.20\n"
          ]
        },
        {
          "output_type": "stream",
          "name": "stderr",
          "text": [
            "\r 22%|██▏       | 24/108 [01:52<05:00,  3.58s/it]"
          ]
        },
        {
          "output_type": "stream",
          "name": "stdout",
          "text": [
            "Epoch 5/5, Train Loss: 0.6781, Train Accuracy: 59.07%, Validation Loss: 0.6693, Validation Accuracy: 60.20\n",
            "Hyperparameters: LR=0.001, Optimizer=SGD, Loss=CrossEntropyLoss, Batch Size=64, Embedding Dim=300, Test Loss: 0.6730, Test Accuracy: 59.70\n",
            "Epoch 1/5, Train Loss: 0.6852, Train Accuracy: 55.06%, Validation Loss: 0.6731, Validation Accuracy: 59.58\n",
            "Epoch 2/5, Train Loss: 0.6808, Train Accuracy: 57.55%, Validation Loss: 0.6694, Validation Accuracy: 60.20\n",
            "Epoch 3/5, Train Loss: 0.6800, Train Accuracy: 58.54%, Validation Loss: 0.6676, Validation Accuracy: 60.20\n",
            "Epoch 4/5, Train Loss: 0.6794, Train Accuracy: 58.71%, Validation Loss: 0.6665, Validation Accuracy: 60.20\n"
          ]
        },
        {
          "output_type": "stream",
          "name": "stderr",
          "text": [
            "\r 23%|██▎       | 25/108 [01:54<04:13,  3.06s/it]"
          ]
        },
        {
          "output_type": "stream",
          "name": "stdout",
          "text": [
            "Epoch 5/5, Train Loss: 0.6758, Train Accuracy: 59.52%, Validation Loss: 0.6658, Validation Accuracy: 60.20\n",
            "Hyperparameters: LR=0.001, Optimizer=SGD, Loss=CrossEntropyLoss, Batch Size=128, Embedding Dim=100, Test Loss: 0.6734, Test Accuracy: 59.70\n",
            "Epoch 1/5, Train Loss: 0.7243, Train Accuracy: 44.69%, Validation Loss: 0.6997, Validation Accuracy: 46.57\n",
            "Epoch 2/5, Train Loss: 0.6941, Train Accuracy: 51.90%, Validation Loss: 0.6816, Validation Accuracy: 57.87\n",
            "Epoch 3/5, Train Loss: 0.6861, Train Accuracy: 55.68%, Validation Loss: 0.6750, Validation Accuracy: 59.35\n",
            "Epoch 4/5, Train Loss: 0.6823, Train Accuracy: 57.44%, Validation Loss: 0.6719, Validation Accuracy: 60.05\n"
          ]
        },
        {
          "output_type": "stream",
          "name": "stderr",
          "text": [
            "\r 24%|██▍       | 26/108 [01:57<03:55,  2.88s/it]"
          ]
        },
        {
          "output_type": "stream",
          "name": "stdout",
          "text": [
            "Epoch 5/5, Train Loss: 0.6804, Train Accuracy: 57.93%, Validation Loss: 0.6703, Validation Accuracy: 60.28\n",
            "Hyperparameters: LR=0.001, Optimizer=SGD, Loss=CrossEntropyLoss, Batch Size=128, Embedding Dim=200, Test Loss: 0.6681, Test Accuracy: 59.70\n",
            "Epoch 1/5, Train Loss: 0.6943, Train Accuracy: 52.37%, Validation Loss: 0.6796, Validation Accuracy: 57.79\n",
            "Epoch 2/5, Train Loss: 0.6848, Train Accuracy: 56.22%, Validation Loss: 0.6735, Validation Accuracy: 59.19\n",
            "Epoch 3/5, Train Loss: 0.6821, Train Accuracy: 57.12%, Validation Loss: 0.6705, Validation Accuracy: 60.20\n",
            "Epoch 4/5, Train Loss: 0.6814, Train Accuracy: 57.70%, Validation Loss: 0.6691, Validation Accuracy: 60.20\n"
          ]
        },
        {
          "output_type": "stream",
          "name": "stderr",
          "text": [
            "\r 25%|██▌       | 27/108 [01:59<03:45,  2.78s/it]"
          ]
        },
        {
          "output_type": "stream",
          "name": "stdout",
          "text": [
            "Epoch 5/5, Train Loss: 0.6814, Train Accuracy: 58.42%, Validation Loss: 0.6684, Validation Accuracy: 60.28\n",
            "Hyperparameters: LR=0.001, Optimizer=SGD, Loss=CrossEntropyLoss, Batch Size=128, Embedding Dim=300, Test Loss: 0.6667, Test Accuracy: 59.70\n",
            "Epoch 1/5, Train Loss: 0.1670, Train Accuracy: 58.32%, Validation Loss: 0.1618, Validation Accuracy: 60.20\n",
            "Epoch 2/5, Train Loss: 0.1674, Train Accuracy: 58.50%, Validation Loss: 0.1617, Validation Accuracy: 60.20\n",
            "Epoch 3/5, Train Loss: 0.1646, Train Accuracy: 58.82%, Validation Loss: 0.1617, Validation Accuracy: 60.20\n",
            "Epoch 4/5, Train Loss: 0.1664, Train Accuracy: 58.98%, Validation Loss: 0.1616, Validation Accuracy: 60.20\n"
          ]
        },
        {
          "output_type": "stream",
          "name": "stderr",
          "text": [
            "\r 26%|██▌       | 28/108 [02:04<04:29,  3.37s/it]"
          ]
        },
        {
          "output_type": "stream",
          "name": "stdout",
          "text": [
            "Epoch 5/5, Train Loss: 0.1655, Train Accuracy: 59.05%, Validation Loss: 0.1616, Validation Accuracy: 60.20\n",
            "Hyperparameters: LR=0.001, Optimizer=SGD, Loss=FocalLoss, Batch Size=32, Embedding Dim=100, Test Loss: 0.1644, Test Accuracy: 59.70\n",
            "Epoch 1/5, Train Loss: 0.1715, Train Accuracy: 53.55%, Validation Loss: 0.1641, Validation Accuracy: 60.05\n",
            "Epoch 2/5, Train Loss: 0.1670, Train Accuracy: 57.62%, Validation Loss: 0.1622, Validation Accuracy: 60.20\n",
            "Epoch 3/5, Train Loss: 0.1668, Train Accuracy: 58.47%, Validation Loss: 0.1619, Validation Accuracy: 60.20\n",
            "Epoch 4/5, Train Loss: 0.1657, Train Accuracy: 58.97%, Validation Loss: 0.1617, Validation Accuracy: 60.20\n"
          ]
        },
        {
          "output_type": "stream",
          "name": "stderr",
          "text": [
            "\r 27%|██▋       | 29/108 [02:09<05:15,  3.99s/it]"
          ]
        },
        {
          "output_type": "stream",
          "name": "stdout",
          "text": [
            "Epoch 5/5, Train Loss: 0.1658, Train Accuracy: 59.05%, Validation Loss: 0.1617, Validation Accuracy: 60.20\n",
            "Hyperparameters: LR=0.001, Optimizer=SGD, Loss=FocalLoss, Batch Size=32, Embedding Dim=200, Test Loss: 0.1646, Test Accuracy: 59.78\n",
            "Epoch 1/5, Train Loss: 0.1681, Train Accuracy: 57.57%, Validation Loss: 0.1678, Validation Accuracy: 58.80\n",
            "Epoch 2/5, Train Loss: 0.1675, Train Accuracy: 58.37%, Validation Loss: 0.1673, Validation Accuracy: 59.27\n",
            "Epoch 3/5, Train Loss: 0.1670, Train Accuracy: 58.12%, Validation Loss: 0.1671, Validation Accuracy: 59.42\n",
            "Epoch 4/5, Train Loss: 0.1668, Train Accuracy: 58.52%, Validation Loss: 0.1673, Validation Accuracy: 59.03\n"
          ]
        },
        {
          "output_type": "stream",
          "name": "stderr",
          "text": [
            "\r 28%|██▊       | 30/108 [02:15<05:46,  4.45s/it]"
          ]
        },
        {
          "output_type": "stream",
          "name": "stdout",
          "text": [
            "Epoch 5/5, Train Loss: 0.1661, Train Accuracy: 58.44%, Validation Loss: 0.1666, Validation Accuracy: 59.97\n",
            "Hyperparameters: LR=0.001, Optimizer=SGD, Loss=FocalLoss, Batch Size=32, Embedding Dim=300, Test Loss: 0.1625, Test Accuracy: 59.86\n",
            "Epoch 1/5, Train Loss: 0.1706, Train Accuracy: 54.61%, Validation Loss: 0.1647, Validation Accuracy: 59.27\n",
            "Epoch 2/5, Train Loss: 0.1674, Train Accuracy: 56.36%, Validation Loss: 0.1618, Validation Accuracy: 60.20\n",
            "Epoch 3/5, Train Loss: 0.1648, Train Accuracy: 58.04%, Validation Loss: 0.1610, Validation Accuracy: 60.20\n",
            "Epoch 4/5, Train Loss: 0.1651, Train Accuracy: 58.44%, Validation Loss: 0.1608, Validation Accuracy: 60.20\n"
          ]
        },
        {
          "output_type": "stream",
          "name": "stderr",
          "text": [
            "\r 29%|██▊       | 31/108 [02:18<05:05,  3.97s/it]"
          ]
        },
        {
          "output_type": "stream",
          "name": "stdout",
          "text": [
            "Epoch 5/5, Train Loss: 0.1664, Train Accuracy: 58.65%, Validation Loss: 0.1608, Validation Accuracy: 60.20\n",
            "Hyperparameters: LR=0.001, Optimizer=SGD, Loss=FocalLoss, Batch Size=64, Embedding Dim=100, Test Loss: 0.1624, Test Accuracy: 59.70\n",
            "Epoch 1/5, Train Loss: 0.1717, Train Accuracy: 53.56%, Validation Loss: 0.1637, Validation Accuracy: 60.20\n",
            "Epoch 2/5, Train Loss: 0.1676, Train Accuracy: 56.83%, Validation Loss: 0.1615, Validation Accuracy: 60.28\n",
            "Epoch 3/5, Train Loss: 0.1670, Train Accuracy: 57.98%, Validation Loss: 0.1608, Validation Accuracy: 60.28\n",
            "Epoch 4/5, Train Loss: 0.1653, Train Accuracy: 58.63%, Validation Loss: 0.1604, Validation Accuracy: 60.28\n"
          ]
        },
        {
          "output_type": "stream",
          "name": "stderr",
          "text": [
            "\r 30%|██▉       | 32/108 [02:21<04:43,  3.73s/it]"
          ]
        },
        {
          "output_type": "stream",
          "name": "stdout",
          "text": [
            "Epoch 5/5, Train Loss: 0.1662, Train Accuracy: 58.61%, Validation Loss: 0.1603, Validation Accuracy: 60.28\n",
            "Hyperparameters: LR=0.001, Optimizer=SGD, Loss=FocalLoss, Batch Size=64, Embedding Dim=200, Test Loss: 0.1622, Test Accuracy: 59.70\n",
            "Epoch 1/5, Train Loss: 0.1718, Train Accuracy: 54.42%, Validation Loss: 0.1615, Validation Accuracy: 60.12\n",
            "Epoch 2/5, Train Loss: 0.1696, Train Accuracy: 57.37%, Validation Loss: 0.1605, Validation Accuracy: 60.20\n",
            "Epoch 3/5, Train Loss: 0.1670, Train Accuracy: 57.95%, Validation Loss: 0.1602, Validation Accuracy: 60.20\n",
            "Epoch 4/5, Train Loss: 0.1665, Train Accuracy: 58.15%, Validation Loss: 0.1601, Validation Accuracy: 60.20\n"
          ]
        },
        {
          "output_type": "stream",
          "name": "stderr",
          "text": [
            "\r 31%|███       | 33/108 [02:25<04:46,  3.82s/it]"
          ]
        },
        {
          "output_type": "stream",
          "name": "stdout",
          "text": [
            "Epoch 5/5, Train Loss: 0.1668, Train Accuracy: 58.60%, Validation Loss: 0.1600, Validation Accuracy: 60.12\n",
            "Hyperparameters: LR=0.001, Optimizer=SGD, Loss=FocalLoss, Batch Size=64, Embedding Dim=300, Test Loss: 0.1619, Test Accuracy: 60.02\n",
            "Epoch 1/5, Train Loss: 0.1737, Train Accuracy: 51.96%, Validation Loss: 0.1707, Validation Accuracy: 56.93\n",
            "Epoch 2/5, Train Loss: 0.1713, Train Accuracy: 53.91%, Validation Loss: 0.1678, Validation Accuracy: 58.26\n",
            "Epoch 3/5, Train Loss: 0.1687, Train Accuracy: 55.98%, Validation Loss: 0.1659, Validation Accuracy: 59.89\n",
            "Epoch 4/5, Train Loss: 0.1680, Train Accuracy: 56.81%, Validation Loss: 0.1646, Validation Accuracy: 60.20\n"
          ]
        },
        {
          "output_type": "stream",
          "name": "stderr",
          "text": [
            "\r 31%|███▏      | 34/108 [02:27<03:58,  3.23s/it]"
          ]
        },
        {
          "output_type": "stream",
          "name": "stdout",
          "text": [
            "Epoch 5/5, Train Loss: 0.1671, Train Accuracy: 57.43%, Validation Loss: 0.1637, Validation Accuracy: 60.12\n",
            "Hyperparameters: LR=0.001, Optimizer=SGD, Loss=FocalLoss, Batch Size=128, Embedding Dim=100, Test Loss: 0.1630, Test Accuracy: 59.78\n",
            "Epoch 1/5, Train Loss: 0.1818, Train Accuracy: 47.26%, Validation Loss: 0.1737, Validation Accuracy: 48.13\n",
            "Epoch 2/5, Train Loss: 0.1742, Train Accuracy: 51.98%, Validation Loss: 0.1682, Validation Accuracy: 58.02\n",
            "Epoch 3/5, Train Loss: 0.1717, Train Accuracy: 53.73%, Validation Loss: 0.1649, Validation Accuracy: 59.11\n",
            "Epoch 4/5, Train Loss: 0.1696, Train Accuracy: 55.71%, Validation Loss: 0.1628, Validation Accuracy: 59.74\n"
          ]
        },
        {
          "output_type": "stream",
          "name": "stderr",
          "text": [
            "\r 32%|███▏      | 35/108 [02:29<03:31,  2.90s/it]"
          ]
        },
        {
          "output_type": "stream",
          "name": "stdout",
          "text": [
            "Epoch 5/5, Train Loss: 0.1681, Train Accuracy: 56.73%, Validation Loss: 0.1615, Validation Accuracy: 60.20\n",
            "Hyperparameters: LR=0.001, Optimizer=SGD, Loss=FocalLoss, Batch Size=128, Embedding Dim=200, Test Loss: 0.1639, Test Accuracy: 60.02\n",
            "Epoch 1/5, Train Loss: 0.1691, Train Accuracy: 56.03%, Validation Loss: 0.1656, Validation Accuracy: 58.10\n",
            "Epoch 2/5, Train Loss: 0.1680, Train Accuracy: 56.81%, Validation Loss: 0.1639, Validation Accuracy: 59.42\n",
            "Epoch 3/5, Train Loss: 0.1676, Train Accuracy: 57.90%, Validation Loss: 0.1634, Validation Accuracy: 59.89\n",
            "Epoch 4/5, Train Loss: 0.1678, Train Accuracy: 57.68%, Validation Loss: 0.1631, Validation Accuracy: 60.12\n"
          ]
        },
        {
          "output_type": "stream",
          "name": "stderr",
          "text": [
            "\r 33%|███▎      | 36/108 [02:31<03:19,  2.77s/it]"
          ]
        },
        {
          "output_type": "stream",
          "name": "stdout",
          "text": [
            "Epoch 5/5, Train Loss: 0.1661, Train Accuracy: 58.83%, Validation Loss: 0.1630, Validation Accuracy: 60.12\n",
            "Hyperparameters: LR=0.001, Optimizer=SGD, Loss=FocalLoss, Batch Size=128, Embedding Dim=300, Test Loss: 0.1604, Test Accuracy: 59.94\n",
            "Epoch 1/5, Train Loss: 0.6798, Train Accuracy: 59.21%, Validation Loss: 0.6731, Validation Accuracy: 60.28\n",
            "Epoch 2/5, Train Loss: 0.6696, Train Accuracy: 59.80%, Validation Loss: 0.6735, Validation Accuracy: 58.96\n",
            "Epoch 3/5, Train Loss: 0.6588, Train Accuracy: 60.86%, Validation Loss: 0.6841, Validation Accuracy: 58.41\n",
            "Epoch 4/5, Train Loss: 0.6390, Train Accuracy: 63.57%, Validation Loss: 0.6867, Validation Accuracy: 55.76\n"
          ]
        },
        {
          "output_type": "stream",
          "name": "stderr",
          "text": [
            "\r 34%|███▍      | 37/108 [02:37<04:13,  3.57s/it]"
          ]
        },
        {
          "output_type": "stream",
          "name": "stdout",
          "text": [
            "Epoch 5/5, Train Loss: 0.6085, Train Accuracy: 66.86%, Validation Loss: 0.7011, Validation Accuracy: 57.87\n",
            "Hyperparameters: LR=0.001, Optimizer=RMSprop, Loss=CrossEntropyLoss, Batch Size=32, Embedding Dim=100, Test Loss: 0.7037, Test Accuracy: 55.73\n",
            "Epoch 1/5, Train Loss: 0.6821, Train Accuracy: 58.72%, Validation Loss: 0.6743, Validation Accuracy: 60.28\n",
            "Epoch 2/5, Train Loss: 0.6695, Train Accuracy: 59.59%, Validation Loss: 0.6803, Validation Accuracy: 58.10\n",
            "Epoch 3/5, Train Loss: 0.6575, Train Accuracy: 61.48%, Validation Loss: 0.6807, Validation Accuracy: 58.10\n",
            "Epoch 4/5, Train Loss: 0.6289, Train Accuracy: 64.52%, Validation Loss: 0.6992, Validation Accuracy: 58.57\n"
          ]
        },
        {
          "output_type": "stream",
          "name": "stderr",
          "text": [
            "\r 35%|███▌      | 38/108 [02:42<04:52,  4.18s/it]"
          ]
        },
        {
          "output_type": "stream",
          "name": "stdout",
          "text": [
            "Epoch 5/5, Train Loss: 0.5776, Train Accuracy: 69.17%, Validation Loss: 0.7478, Validation Accuracy: 56.15\n",
            "Hyperparameters: LR=0.001, Optimizer=RMSprop, Loss=CrossEntropyLoss, Batch Size=32, Embedding Dim=200, Test Loss: 0.7375, Test Accuracy: 56.74\n",
            "Epoch 1/5, Train Loss: 0.6824, Train Accuracy: 58.65%, Validation Loss: 0.6760, Validation Accuracy: 60.59\n",
            "Epoch 2/5, Train Loss: 0.6678, Train Accuracy: 59.92%, Validation Loss: 0.6749, Validation Accuracy: 59.74\n",
            "Epoch 3/5, Train Loss: 0.6575, Train Accuracy: 60.84%, Validation Loss: 0.6796, Validation Accuracy: 57.48\n",
            "Epoch 4/5, Train Loss: 0.6326, Train Accuracy: 63.97%, Validation Loss: 0.6902, Validation Accuracy: 59.97\n"
          ]
        },
        {
          "output_type": "stream",
          "name": "stderr",
          "text": [
            "\r 36%|███▌      | 39/108 [02:49<05:31,  4.81s/it]"
          ]
        },
        {
          "output_type": "stream",
          "name": "stdout",
          "text": [
            "Epoch 5/5, Train Loss: 0.5941, Train Accuracy: 68.08%, Validation Loss: 0.7130, Validation Accuracy: 55.22\n",
            "Hyperparameters: LR=0.001, Optimizer=RMSprop, Loss=CrossEntropyLoss, Batch Size=32, Embedding Dim=300, Test Loss: 0.7133, Test Accuracy: 55.18\n",
            "Epoch 1/5, Train Loss: 0.6792, Train Accuracy: 59.30%, Validation Loss: 0.6687, Validation Accuracy: 60.28\n",
            "Epoch 2/5, Train Loss: 0.6710, Train Accuracy: 59.67%, Validation Loss: 0.6716, Validation Accuracy: 59.74\n",
            "Epoch 3/5, Train Loss: 0.6618, Train Accuracy: 60.57%, Validation Loss: 0.6743, Validation Accuracy: 58.80\n",
            "Epoch 4/5, Train Loss: 0.6467, Train Accuracy: 62.42%, Validation Loss: 0.6764, Validation Accuracy: 56.46\n"
          ]
        },
        {
          "output_type": "stream",
          "name": "stderr",
          "text": [
            "\r 37%|███▋      | 40/108 [02:52<04:57,  4.37s/it]"
          ]
        },
        {
          "output_type": "stream",
          "name": "stdout",
          "text": [
            "Epoch 5/5, Train Loss: 0.6215, Train Accuracy: 65.10%, Validation Loss: 0.7233, Validation Accuracy: 56.31\n",
            "Hyperparameters: LR=0.001, Optimizer=RMSprop, Loss=CrossEntropyLoss, Batch Size=64, Embedding Dim=100, Test Loss: 0.7611, Test Accuracy: 55.11\n",
            "Epoch 1/5, Train Loss: 0.6819, Train Accuracy: 58.47%, Validation Loss: 0.6704, Validation Accuracy: 60.28\n",
            "Epoch 2/5, Train Loss: 0.6692, Train Accuracy: 59.94%, Validation Loss: 0.6734, Validation Accuracy: 60.28\n",
            "Epoch 3/5, Train Loss: 0.6589, Train Accuracy: 61.20%, Validation Loss: 0.6792, Validation Accuracy: 60.20\n",
            "Epoch 4/5, Train Loss: 0.6414, Train Accuracy: 62.63%, Validation Loss: 0.6835, Validation Accuracy: 57.79\n"
          ]
        },
        {
          "output_type": "stream",
          "name": "stderr",
          "text": [
            "\r 38%|███▊      | 41/108 [02:55<04:32,  4.07s/it]"
          ]
        },
        {
          "output_type": "stream",
          "name": "stdout",
          "text": [
            "Epoch 5/5, Train Loss: 0.6017, Train Accuracy: 67.53%, Validation Loss: 0.7103, Validation Accuracy: 56.39\n",
            "Hyperparameters: LR=0.001, Optimizer=RMSprop, Loss=CrossEntropyLoss, Batch Size=64, Embedding Dim=200, Test Loss: 0.7129, Test Accuracy: 56.59\n",
            "Epoch 1/5, Train Loss: 0.6843, Train Accuracy: 58.54%, Validation Loss: 0.6717, Validation Accuracy: 60.20\n",
            "Epoch 2/5, Train Loss: 0.6700, Train Accuracy: 59.76%, Validation Loss: 0.6737, Validation Accuracy: 59.42\n",
            "Epoch 3/5, Train Loss: 0.6600, Train Accuracy: 60.84%, Validation Loss: 0.6739, Validation Accuracy: 59.19\n",
            "Epoch 4/5, Train Loss: 0.6424, Train Accuracy: 62.62%, Validation Loss: 0.6810, Validation Accuracy: 59.42\n"
          ]
        },
        {
          "output_type": "stream",
          "name": "stderr",
          "text": [
            "\r 39%|███▉      | 42/108 [02:59<04:23,  3.99s/it]"
          ]
        },
        {
          "output_type": "stream",
          "name": "stdout",
          "text": [
            "Epoch 5/5, Train Loss: 0.6098, Train Accuracy: 66.25%, Validation Loss: 0.6934, Validation Accuracy: 55.22\n",
            "Hyperparameters: LR=0.001, Optimizer=RMSprop, Loss=CrossEntropyLoss, Batch Size=64, Embedding Dim=300, Test Loss: 0.6934, Test Accuracy: 55.88\n",
            "Epoch 1/5, Train Loss: 0.6811, Train Accuracy: 59.22%, Validation Loss: 0.6711, Validation Accuracy: 60.20\n",
            "Epoch 2/5, Train Loss: 0.6702, Train Accuracy: 60.00%, Validation Loss: 0.6690, Validation Accuracy: 60.28\n",
            "Epoch 3/5, Train Loss: 0.6671, Train Accuracy: 60.37%, Validation Loss: 0.6681, Validation Accuracy: 59.74\n",
            "Epoch 4/5, Train Loss: 0.6611, Train Accuracy: 60.65%, Validation Loss: 0.6674, Validation Accuracy: 58.57\n"
          ]
        },
        {
          "output_type": "stream",
          "name": "stderr",
          "text": [
            "\r 40%|███▉      | 43/108 [03:01<03:39,  3.38s/it]"
          ]
        },
        {
          "output_type": "stream",
          "name": "stdout",
          "text": [
            "Epoch 5/5, Train Loss: 0.6442, Train Accuracy: 62.97%, Validation Loss: 0.6757, Validation Accuracy: 55.30\n",
            "Hyperparameters: LR=0.001, Optimizer=RMSprop, Loss=CrossEntropyLoss, Batch Size=128, Embedding Dim=100, Test Loss: 0.6741, Test Accuracy: 60.41\n",
            "Epoch 1/5, Train Loss: 0.6818, Train Accuracy: 59.29%, Validation Loss: 0.6670, Validation Accuracy: 60.12\n",
            "Epoch 2/5, Train Loss: 0.6696, Train Accuracy: 59.87%, Validation Loss: 0.6772, Validation Accuracy: 56.93\n",
            "Epoch 3/5, Train Loss: 0.6628, Train Accuracy: 60.30%, Validation Loss: 0.6720, Validation Accuracy: 57.94\n",
            "Epoch 4/5, Train Loss: 0.6463, Train Accuracy: 62.92%, Validation Loss: 0.6780, Validation Accuracy: 56.00\n"
          ]
        },
        {
          "output_type": "stream",
          "name": "stderr",
          "text": [
            "\r 41%|████      | 44/108 [03:04<03:24,  3.19s/it]"
          ]
        },
        {
          "output_type": "stream",
          "name": "stdout",
          "text": [
            "Epoch 5/5, Train Loss: 0.6151, Train Accuracy: 65.67%, Validation Loss: 0.7085, Validation Accuracy: 57.94\n",
            "Hyperparameters: LR=0.001, Optimizer=RMSprop, Loss=CrossEntropyLoss, Batch Size=128, Embedding Dim=200, Test Loss: 0.7167, Test Accuracy: 58.14\n",
            "Epoch 1/5, Train Loss: 0.6857, Train Accuracy: 58.81%, Validation Loss: 0.6687, Validation Accuracy: 60.20\n",
            "Epoch 2/5, Train Loss: 0.6695, Train Accuracy: 59.75%, Validation Loss: 0.6697, Validation Accuracy: 59.35\n",
            "Epoch 3/5, Train Loss: 0.6624, Train Accuracy: 60.48%, Validation Loss: 0.6723, Validation Accuracy: 59.03\n",
            "Epoch 4/5, Train Loss: 0.6513, Train Accuracy: 61.57%, Validation Loss: 0.6802, Validation Accuracy: 58.26\n"
          ]
        },
        {
          "output_type": "stream",
          "name": "stderr",
          "text": [
            "\r 42%|████▏     | 45/108 [03:07<03:15,  3.11s/it]"
          ]
        },
        {
          "output_type": "stream",
          "name": "stdout",
          "text": [
            "Epoch 5/5, Train Loss: 0.6324, Train Accuracy: 64.15%, Validation Loss: 0.6842, Validation Accuracy: 57.32\n",
            "Hyperparameters: LR=0.001, Optimizer=RMSprop, Loss=CrossEntropyLoss, Batch Size=128, Embedding Dim=300, Test Loss: 0.6702, Test Accuracy: 58.07\n",
            "Epoch 1/5, Train Loss: 0.1656, Train Accuracy: 59.07%, Validation Loss: 0.1611, Validation Accuracy: 60.28\n",
            "Epoch 2/5, Train Loss: 0.1599, Train Accuracy: 59.70%, Validation Loss: 0.1620, Validation Accuracy: 60.20\n",
            "Epoch 3/5, Train Loss: 0.1544, Train Accuracy: 60.94%, Validation Loss: 0.1644, Validation Accuracy: 57.87\n",
            "Epoch 4/5, Train Loss: 0.1427, Train Accuracy: 63.31%, Validation Loss: 0.1749, Validation Accuracy: 55.37\n"
          ]
        },
        {
          "output_type": "stream",
          "name": "stderr",
          "text": [
            "\r 43%|████▎     | 46/108 [03:12<03:49,  3.70s/it]"
          ]
        },
        {
          "output_type": "stream",
          "name": "stdout",
          "text": [
            "Epoch 5/5, Train Loss: 0.1260, Train Accuracy: 66.85%, Validation Loss: 0.1886, Validation Accuracy: 56.85\n",
            "Hyperparameters: LR=0.001, Optimizer=RMSprop, Loss=FocalLoss, Batch Size=32, Embedding Dim=100, Test Loss: 0.1920, Test Accuracy: 55.26\n",
            "Epoch 1/5, Train Loss: 0.1677, Train Accuracy: 58.59%, Validation Loss: 0.1619, Validation Accuracy: 60.20\n",
            "Epoch 2/5, Train Loss: 0.1607, Train Accuracy: 59.76%, Validation Loss: 0.1632, Validation Accuracy: 59.42\n",
            "Epoch 3/5, Train Loss: 0.1546, Train Accuracy: 61.10%, Validation Loss: 0.1655, Validation Accuracy: 57.32\n",
            "Epoch 4/5, Train Loss: 0.1422, Train Accuracy: 64.31%, Validation Loss: 0.1737, Validation Accuracy: 56.62\n"
          ]
        },
        {
          "output_type": "stream",
          "name": "stderr",
          "text": [
            "\r 44%|████▎     | 47/108 [03:18<04:35,  4.51s/it]"
          ]
        },
        {
          "output_type": "stream",
          "name": "stdout",
          "text": [
            "Epoch 5/5, Train Loss: 0.1219, Train Accuracy: 67.96%, Validation Loss: 0.1907, Validation Accuracy: 55.14\n",
            "Hyperparameters: LR=0.001, Optimizer=RMSprop, Loss=FocalLoss, Batch Size=32, Embedding Dim=200, Test Loss: 0.1872, Test Accuracy: 56.35\n",
            "Epoch 1/5, Train Loss: 0.1668, Train Accuracy: 58.68%, Validation Loss: 0.1625, Validation Accuracy: 60.28\n",
            "Epoch 2/5, Train Loss: 0.1602, Train Accuracy: 59.91%, Validation Loss: 0.1650, Validation Accuracy: 60.12\n",
            "Epoch 3/5, Train Loss: 0.1529, Train Accuracy: 61.61%, Validation Loss: 0.1676, Validation Accuracy: 59.03\n",
            "Epoch 4/5, Train Loss: 0.1409, Train Accuracy: 63.92%, Validation Loss: 0.1735, Validation Accuracy: 59.11\n"
          ]
        },
        {
          "output_type": "stream",
          "name": "stderr",
          "text": [
            "\r 44%|████▍     | 48/108 [03:25<05:05,  5.08s/it]"
          ]
        },
        {
          "output_type": "stream",
          "name": "stdout",
          "text": [
            "Epoch 5/5, Train Loss: 0.1211, Train Accuracy: 67.93%, Validation Loss: 0.1882, Validation Accuracy: 56.54\n",
            "Hyperparameters: LR=0.001, Optimizer=RMSprop, Loss=FocalLoss, Batch Size=32, Embedding Dim=300, Test Loss: 0.1799, Test Accuracy: 55.57\n",
            "Epoch 1/5, Train Loss: 0.1673, Train Accuracy: 59.15%, Validation Loss: 0.1602, Validation Accuracy: 60.20\n",
            "Epoch 2/5, Train Loss: 0.1595, Train Accuracy: 60.19%, Validation Loss: 0.1622, Validation Accuracy: 60.20\n",
            "Epoch 3/5, Train Loss: 0.1558, Train Accuracy: 60.74%, Validation Loss: 0.1603, Validation Accuracy: 58.80\n",
            "Epoch 4/5, Train Loss: 0.1476, Train Accuracy: 62.56%, Validation Loss: 0.1635, Validation Accuracy: 57.24\n"
          ]
        },
        {
          "output_type": "stream",
          "name": "stderr",
          "text": [
            "\r 45%|████▌     | 49/108 [03:28<04:23,  4.47s/it]"
          ]
        },
        {
          "output_type": "stream",
          "name": "stdout",
          "text": [
            "Epoch 5/5, Train Loss: 0.1337, Train Accuracy: 64.63%, Validation Loss: 0.1736, Validation Accuracy: 55.30\n",
            "Hyperparameters: LR=0.001, Optimizer=RMSprop, Loss=FocalLoss, Batch Size=64, Embedding Dim=100, Test Loss: 0.1733, Test Accuracy: 55.26\n",
            "Epoch 1/5, Train Loss: 0.1674, Train Accuracy: 58.89%, Validation Loss: 0.1605, Validation Accuracy: 60.36\n",
            "Epoch 2/5, Train Loss: 0.1595, Train Accuracy: 59.96%, Validation Loss: 0.1619, Validation Accuracy: 59.74\n",
            "Epoch 3/5, Train Loss: 0.1549, Train Accuracy: 60.90%, Validation Loss: 0.1632, Validation Accuracy: 58.88\n",
            "Epoch 4/5, Train Loss: 0.1466, Train Accuracy: 62.32%, Validation Loss: 0.1741, Validation Accuracy: 54.13\n"
          ]
        },
        {
          "output_type": "stream",
          "name": "stderr",
          "text": [
            "\r 46%|████▋     | 50/108 [03:32<04:13,  4.37s/it]"
          ]
        },
        {
          "output_type": "stream",
          "name": "stdout",
          "text": [
            "Epoch 5/5, Train Loss: 0.1296, Train Accuracy: 66.45%, Validation Loss: 0.1806, Validation Accuracy: 56.07\n",
            "Hyperparameters: LR=0.001, Optimizer=RMSprop, Loss=FocalLoss, Batch Size=64, Embedding Dim=200, Test Loss: 0.1682, Test Accuracy: 58.14\n",
            "Epoch 1/5, Train Loss: 0.1696, Train Accuracy: 57.81%, Validation Loss: 0.1633, Validation Accuracy: 59.58\n",
            "Epoch 2/5, Train Loss: 0.1591, Train Accuracy: 60.11%, Validation Loss: 0.1631, Validation Accuracy: 58.72\n",
            "Epoch 3/5, Train Loss: 0.1537, Train Accuracy: 61.03%, Validation Loss: 0.1645, Validation Accuracy: 57.71\n",
            "Epoch 4/5, Train Loss: 0.1440, Train Accuracy: 63.36%, Validation Loss: 0.1687, Validation Accuracy: 56.15\n"
          ]
        },
        {
          "output_type": "stream",
          "name": "stderr",
          "text": [
            "\r 47%|████▋     | 51/108 [03:36<04:03,  4.27s/it]"
          ]
        },
        {
          "output_type": "stream",
          "name": "stdout",
          "text": [
            "Epoch 5/5, Train Loss: 0.1246, Train Accuracy: 67.10%, Validation Loss: 0.1866, Validation Accuracy: 54.98\n",
            "Hyperparameters: LR=0.001, Optimizer=RMSprop, Loss=FocalLoss, Batch Size=64, Embedding Dim=300, Test Loss: 0.1838, Test Accuracy: 57.21\n",
            "Epoch 1/5, Train Loss: 0.1654, Train Accuracy: 59.12%, Validation Loss: 0.1576, Validation Accuracy: 60.44\n",
            "Epoch 2/5, Train Loss: 0.1592, Train Accuracy: 59.87%, Validation Loss: 0.1610, Validation Accuracy: 58.80\n",
            "Epoch 3/5, Train Loss: 0.1551, Train Accuracy: 60.35%, Validation Loss: 0.1590, Validation Accuracy: 58.49\n",
            "Epoch 4/5, Train Loss: 0.1474, Train Accuracy: 62.42%, Validation Loss: 0.1598, Validation Accuracy: 58.02\n"
          ]
        },
        {
          "output_type": "stream",
          "name": "stderr",
          "text": [
            "\r 48%|████▊     | 52/108 [03:38<03:20,  3.59s/it]"
          ]
        },
        {
          "output_type": "stream",
          "name": "stdout",
          "text": [
            "Epoch 5/5, Train Loss: 0.1375, Train Accuracy: 64.65%, Validation Loss: 0.1664, Validation Accuracy: 59.19\n",
            "Hyperparameters: LR=0.001, Optimizer=RMSprop, Loss=FocalLoss, Batch Size=128, Embedding Dim=100, Test Loss: 0.1667, Test Accuracy: 58.69\n",
            "Epoch 1/5, Train Loss: 0.1690, Train Accuracy: 58.01%, Validation Loss: 0.1623, Validation Accuracy: 59.74\n",
            "Epoch 2/5, Train Loss: 0.1600, Train Accuracy: 59.97%, Validation Loss: 0.1602, Validation Accuracy: 59.81\n",
            "Epoch 3/5, Train Loss: 0.1558, Train Accuracy: 60.57%, Validation Loss: 0.1625, Validation Accuracy: 57.55\n",
            "Epoch 4/5, Train Loss: 0.1484, Train Accuracy: 61.79%, Validation Loss: 0.1649, Validation Accuracy: 57.87\n"
          ]
        },
        {
          "output_type": "stream",
          "name": "stderr",
          "text": [
            "\r 49%|████▉     | 53/108 [03:40<02:56,  3.21s/it]"
          ]
        },
        {
          "output_type": "stream",
          "name": "stdout",
          "text": [
            "Epoch 5/5, Train Loss: 0.1358, Train Accuracy: 64.70%, Validation Loss: 0.1735, Validation Accuracy: 56.70\n",
            "Hyperparameters: LR=0.001, Optimizer=RMSprop, Loss=FocalLoss, Batch Size=128, Embedding Dim=200, Test Loss: 0.1694, Test Accuracy: 57.52\n",
            "Epoch 1/5, Train Loss: 0.1701, Train Accuracy: 58.49%, Validation Loss: 0.1599, Validation Accuracy: 60.05\n",
            "Epoch 2/5, Train Loss: 0.1597, Train Accuracy: 59.61%, Validation Loss: 0.1621, Validation Accuracy: 59.58\n",
            "Epoch 3/5, Train Loss: 0.1549, Train Accuracy: 60.88%, Validation Loss: 0.1634, Validation Accuracy: 58.26\n",
            "Epoch 4/5, Train Loss: 0.1482, Train Accuracy: 62.42%, Validation Loss: 0.1634, Validation Accuracy: 58.72\n"
          ]
        },
        {
          "output_type": "stream",
          "name": "stderr",
          "text": [
            "\r 50%|█████     | 54/108 [03:43<02:51,  3.18s/it]"
          ]
        },
        {
          "output_type": "stream",
          "name": "stdout",
          "text": [
            "Epoch 5/5, Train Loss: 0.1359, Train Accuracy: 65.10%, Validation Loss: 0.1757, Validation Accuracy: 53.04\n",
            "Hyperparameters: LR=0.001, Optimizer=RMSprop, Loss=FocalLoss, Batch Size=128, Embedding Dim=300, Test Loss: 0.1700, Test Accuracy: 56.20\n",
            "Epoch 1/5, Train Loss: 0.6899, Train Accuracy: 57.36%, Validation Loss: 0.6787, Validation Accuracy: 59.50\n",
            "Epoch 2/5, Train Loss: 0.6810, Train Accuracy: 58.18%, Validation Loss: 0.6787, Validation Accuracy: 59.89\n",
            "Epoch 3/5, Train Loss: 0.6780, Train Accuracy: 59.08%, Validation Loss: 0.6797, Validation Accuracy: 60.12\n",
            "Epoch 4/5, Train Loss: 0.6668, Train Accuracy: 60.50%, Validation Loss: 0.6953, Validation Accuracy: 55.14\n"
          ]
        },
        {
          "output_type": "stream",
          "name": "stderr",
          "text": [
            "\r 51%|█████     | 55/108 [03:49<03:25,  3.88s/it]"
          ]
        },
        {
          "output_type": "stream",
          "name": "stdout",
          "text": [
            "Epoch 5/5, Train Loss: 0.6590, Train Accuracy: 61.23%, Validation Loss: 0.6837, Validation Accuracy: 57.79\n",
            "Hyperparameters: LR=0.01, Optimizer=Adam, Loss=CrossEntropyLoss, Batch Size=32, Embedding Dim=100, Test Loss: 0.6772, Test Accuracy: 58.53\n",
            "Epoch 1/5, Train Loss: 0.6918, Train Accuracy: 57.53%, Validation Loss: 0.6738, Validation Accuracy: 60.36\n",
            "Epoch 2/5, Train Loss: 0.6834, Train Accuracy: 58.55%, Validation Loss: 0.6822, Validation Accuracy: 57.40\n",
            "Epoch 3/5, Train Loss: 0.6794, Train Accuracy: 59.05%, Validation Loss: 0.6792, Validation Accuracy: 59.58\n",
            "Epoch 4/5, Train Loss: 0.6758, Train Accuracy: 59.51%, Validation Loss: 0.7001, Validation Accuracy: 52.65\n"
          ]
        },
        {
          "output_type": "stream",
          "name": "stderr",
          "text": [
            "\r 52%|█████▏    | 56/108 [03:55<03:54,  4.51s/it]"
          ]
        },
        {
          "output_type": "stream",
          "name": "stdout",
          "text": [
            "Epoch 5/5, Train Loss: 0.6743, Train Accuracy: 59.08%, Validation Loss: 0.6901, Validation Accuracy: 58.96\n",
            "Hyperparameters: LR=0.01, Optimizer=Adam, Loss=CrossEntropyLoss, Batch Size=32, Embedding Dim=200, Test Loss: 0.6839, Test Accuracy: 57.91\n",
            "Epoch 1/5, Train Loss: 0.6999, Train Accuracy: 55.94%, Validation Loss: 0.6929, Validation Accuracy: 60.05\n",
            "Epoch 2/5, Train Loss: 0.6916, Train Accuracy: 56.86%, Validation Loss: 0.6820, Validation Accuracy: 59.58\n",
            "Epoch 3/5, Train Loss: 0.6850, Train Accuracy: 57.91%, Validation Loss: 0.6794, Validation Accuracy: 59.97\n",
            "Epoch 4/5, Train Loss: 0.6836, Train Accuracy: 58.39%, Validation Loss: 0.6705, Validation Accuracy: 60.20\n"
          ]
        },
        {
          "output_type": "stream",
          "name": "stderr",
          "text": [
            "\r 53%|█████▎    | 57/108 [04:02<04:33,  5.36s/it]"
          ]
        },
        {
          "output_type": "stream",
          "name": "stdout",
          "text": [
            "Epoch 5/5, Train Loss: 0.6728, Train Accuracy: 59.65%, Validation Loss: 0.6753, Validation Accuracy: 59.66\n",
            "Hyperparameters: LR=0.01, Optimizer=Adam, Loss=CrossEntropyLoss, Batch Size=32, Embedding Dim=300, Test Loss: 0.6943, Test Accuracy: 56.82\n",
            "Epoch 1/5, Train Loss: 0.6874, Train Accuracy: 57.41%, Validation Loss: 0.6702, Validation Accuracy: 60.28\n",
            "Epoch 2/5, Train Loss: 0.6752, Train Accuracy: 59.36%, Validation Loss: 0.6719, Validation Accuracy: 59.42\n",
            "Epoch 3/5, Train Loss: 0.6610, Train Accuracy: 60.81%, Validation Loss: 0.6811, Validation Accuracy: 56.23\n",
            "Epoch 4/5, Train Loss: 0.6205, Train Accuracy: 65.32%, Validation Loss: 0.7062, Validation Accuracy: 59.66\n"
          ]
        },
        {
          "output_type": "stream",
          "name": "stderr",
          "text": [
            "\r 54%|█████▎    | 58/108 [04:05<03:53,  4.67s/it]"
          ]
        },
        {
          "output_type": "stream",
          "name": "stdout",
          "text": [
            "Epoch 5/5, Train Loss: 0.5623, Train Accuracy: 71.53%, Validation Loss: 0.7424, Validation Accuracy: 58.02\n",
            "Hyperparameters: LR=0.01, Optimizer=Adam, Loss=CrossEntropyLoss, Batch Size=64, Embedding Dim=100, Test Loss: 0.7770, Test Accuracy: 53.62\n",
            "Epoch 1/5, Train Loss: 0.6978, Train Accuracy: 57.04%, Validation Loss: 0.6730, Validation Accuracy: 59.66\n",
            "Epoch 2/5, Train Loss: 0.6850, Train Accuracy: 58.08%, Validation Loss: 0.6828, Validation Accuracy: 58.02\n",
            "Epoch 3/5, Train Loss: 0.6778, Train Accuracy: 59.10%, Validation Loss: 0.6881, Validation Accuracy: 55.92\n",
            "Epoch 4/5, Train Loss: 0.6629, Train Accuracy: 60.75%, Validation Loss: 0.6821, Validation Accuracy: 55.84\n"
          ]
        },
        {
          "output_type": "stream",
          "name": "stderr",
          "text": [
            "\r 55%|█████▍    | 59/108 [04:09<03:36,  4.43s/it]"
          ]
        },
        {
          "output_type": "stream",
          "name": "stdout",
          "text": [
            "Epoch 5/5, Train Loss: 0.6576, Train Accuracy: 61.44%, Validation Loss: 0.7014, Validation Accuracy: 53.19\n",
            "Hyperparameters: LR=0.01, Optimizer=Adam, Loss=CrossEntropyLoss, Batch Size=64, Embedding Dim=200, Test Loss: 0.6861, Test Accuracy: 54.25\n",
            "Epoch 1/5, Train Loss: 0.6918, Train Accuracy: 56.77%, Validation Loss: 0.6699, Validation Accuracy: 58.72\n",
            "Epoch 2/5, Train Loss: 0.6777, Train Accuracy: 58.92%, Validation Loss: 0.6730, Validation Accuracy: 59.89\n",
            "Epoch 3/5, Train Loss: 0.6700, Train Accuracy: 59.80%, Validation Loss: 0.6772, Validation Accuracy: 59.35\n",
            "Epoch 4/5, Train Loss: 0.6558, Train Accuracy: 61.74%, Validation Loss: 0.6823, Validation Accuracy: 57.55\n"
          ]
        },
        {
          "output_type": "stream",
          "name": "stderr",
          "text": [
            "\r 56%|█████▌    | 60/108 [04:14<03:34,  4.48s/it]"
          ]
        },
        {
          "output_type": "stream",
          "name": "stdout",
          "text": [
            "Epoch 5/5, Train Loss: 0.6492, Train Accuracy: 62.06%, Validation Loss: 0.6958, Validation Accuracy: 56.15\n",
            "Hyperparameters: LR=0.01, Optimizer=Adam, Loss=CrossEntropyLoss, Batch Size=64, Embedding Dim=300, Test Loss: 0.6909, Test Accuracy: 58.53\n",
            "Epoch 1/5, Train Loss: 0.6854, Train Accuracy: 57.82%, Validation Loss: 0.6679, Validation Accuracy: 60.20\n",
            "Epoch 2/5, Train Loss: 0.6749, Train Accuracy: 59.04%, Validation Loss: 0.6770, Validation Accuracy: 59.50\n",
            "Epoch 3/5, Train Loss: 0.6545, Train Accuracy: 61.20%, Validation Loss: 0.6782, Validation Accuracy: 56.93\n",
            "Epoch 4/5, Train Loss: 0.6070, Train Accuracy: 66.69%, Validation Loss: 0.7306, Validation Accuracy: 55.84\n"
          ]
        },
        {
          "output_type": "stream",
          "name": "stderr",
          "text": [
            "\r 56%|█████▋    | 61/108 [04:16<02:55,  3.74s/it]"
          ]
        },
        {
          "output_type": "stream",
          "name": "stdout",
          "text": [
            "Epoch 5/5, Train Loss: 0.5351, Train Accuracy: 72.79%, Validation Loss: 0.7377, Validation Accuracy: 56.15\n",
            "Hyperparameters: LR=0.01, Optimizer=Adam, Loss=CrossEntropyLoss, Batch Size=128, Embedding Dim=100, Test Loss: 0.7818, Test Accuracy: 53.16\n",
            "Epoch 1/5, Train Loss: 0.6969, Train Accuracy: 57.54%, Validation Loss: 0.6658, Validation Accuracy: 59.74\n",
            "Epoch 2/5, Train Loss: 0.6771, Train Accuracy: 58.50%, Validation Loss: 0.6705, Validation Accuracy: 59.97\n",
            "Epoch 3/5, Train Loss: 0.6641, Train Accuracy: 60.40%, Validation Loss: 0.6879, Validation Accuracy: 56.23\n",
            "Epoch 4/5, Train Loss: 0.6355, Train Accuracy: 63.12%, Validation Loss: 0.7016, Validation Accuracy: 56.62\n"
          ]
        },
        {
          "output_type": "stream",
          "name": "stderr",
          "text": [
            "\r 57%|█████▋    | 62/108 [04:18<02:34,  3.36s/it]"
          ]
        },
        {
          "output_type": "stream",
          "name": "stdout",
          "text": [
            "Epoch 5/5, Train Loss: 0.6075, Train Accuracy: 65.92%, Validation Loss: 0.6987, Validation Accuracy: 52.80\n",
            "Hyperparameters: LR=0.01, Optimizer=Adam, Loss=CrossEntropyLoss, Batch Size=128, Embedding Dim=200, Test Loss: 0.7053, Test Accuracy: 54.17\n",
            "Epoch 1/5, Train Loss: 0.6963, Train Accuracy: 57.44%, Validation Loss: 0.6695, Validation Accuracy: 58.49\n",
            "Epoch 2/5, Train Loss: 0.6759, Train Accuracy: 59.16%, Validation Loss: 0.6755, Validation Accuracy: 58.57\n",
            "Epoch 3/5, Train Loss: 0.6671, Train Accuracy: 60.03%, Validation Loss: 0.6673, Validation Accuracy: 59.27\n",
            "Epoch 4/5, Train Loss: 0.6553, Train Accuracy: 61.50%, Validation Loss: 0.6744, Validation Accuracy: 58.64\n"
          ]
        },
        {
          "output_type": "stream",
          "name": "stderr",
          "text": [
            "\r 58%|█████▊    | 63/108 [04:21<02:25,  3.24s/it]"
          ]
        },
        {
          "output_type": "stream",
          "name": "stdout",
          "text": [
            "Epoch 5/5, Train Loss: 0.6375, Train Accuracy: 63.43%, Validation Loss: 0.6872, Validation Accuracy: 55.61\n",
            "Hyperparameters: LR=0.01, Optimizer=Adam, Loss=CrossEntropyLoss, Batch Size=128, Embedding Dim=300, Test Loss: 0.6628, Test Accuracy: 58.30\n",
            "Epoch 1/5, Train Loss: 0.1726, Train Accuracy: 56.96%, Validation Loss: 0.1637, Validation Accuracy: 59.74\n",
            "Epoch 2/5, Train Loss: 0.1658, Train Accuracy: 59.04%, Validation Loss: 0.1673, Validation Accuracy: 57.48\n",
            "Epoch 3/5, Train Loss: 0.1642, Train Accuracy: 59.53%, Validation Loss: 0.1695, Validation Accuracy: 57.32\n",
            "Epoch 4/5, Train Loss: 0.1618, Train Accuracy: 59.44%, Validation Loss: 0.1700, Validation Accuracy: 57.94\n"
          ]
        },
        {
          "output_type": "stream",
          "name": "stderr",
          "text": [
            "\r 59%|█████▉    | 64/108 [04:28<03:03,  4.17s/it]"
          ]
        },
        {
          "output_type": "stream",
          "name": "stdout",
          "text": [
            "Epoch 5/5, Train Loss: 0.1576, Train Accuracy: 59.67%, Validation Loss: 0.1758, Validation Accuracy: 57.09\n",
            "Hyperparameters: LR=0.01, Optimizer=Adam, Loss=FocalLoss, Batch Size=32, Embedding Dim=100, Test Loss: 0.1661, Test Accuracy: 60.09\n",
            "Epoch 1/5, Train Loss: 0.1794, Train Accuracy: 55.75%, Validation Loss: 0.1650, Validation Accuracy: 57.87\n",
            "Epoch 2/5, Train Loss: 0.1741, Train Accuracy: 57.16%, Validation Loss: 0.1671, Validation Accuracy: 57.48\n",
            "Epoch 3/5, Train Loss: 0.1683, Train Accuracy: 58.23%, Validation Loss: 0.1681, Validation Accuracy: 59.89\n",
            "Epoch 4/5, Train Loss: 0.1659, Train Accuracy: 59.04%, Validation Loss: 0.1692, Validation Accuracy: 57.01\n"
          ]
        },
        {
          "output_type": "stream",
          "name": "stderr",
          "text": [
            "\r 60%|██████    | 65/108 [04:34<03:26,  4.79s/it]"
          ]
        },
        {
          "output_type": "stream",
          "name": "stdout",
          "text": [
            "Epoch 5/5, Train Loss: 0.1632, Train Accuracy: 59.42%, Validation Loss: 0.1708, Validation Accuracy: 57.24\n",
            "Hyperparameters: LR=0.01, Optimizer=Adam, Loss=FocalLoss, Batch Size=32, Embedding Dim=200, Test Loss: 0.1683, Test Accuracy: 57.83\n",
            "Epoch 1/5, Train Loss: 0.1803, Train Accuracy: 55.91%, Validation Loss: 0.1717, Validation Accuracy: 55.06\n",
            "Epoch 2/5, Train Loss: 0.1735, Train Accuracy: 57.45%, Validation Loss: 0.1696, Validation Accuracy: 58.96\n",
            "Epoch 3/5, Train Loss: 0.1688, Train Accuracy: 57.25%, Validation Loss: 0.1726, Validation Accuracy: 55.30\n",
            "Epoch 4/5, Train Loss: 0.1664, Train Accuracy: 58.11%, Validation Loss: 0.1718, Validation Accuracy: 53.27\n"
          ]
        },
        {
          "output_type": "stream",
          "name": "stderr",
          "text": [
            "\r 61%|██████    | 66/108 [04:42<03:58,  5.69s/it]"
          ]
        },
        {
          "output_type": "stream",
          "name": "stdout",
          "text": [
            "Epoch 5/5, Train Loss: 0.1671, Train Accuracy: 58.59%, Validation Loss: 0.1682, Validation Accuracy: 59.11\n",
            "Hyperparameters: LR=0.01, Optimizer=Adam, Loss=FocalLoss, Batch Size=32, Embedding Dim=300, Test Loss: 0.1711, Test Accuracy: 58.61\n",
            "Epoch 1/5, Train Loss: 0.1691, Train Accuracy: 57.78%, Validation Loss: 0.1647, Validation Accuracy: 60.20\n",
            "Epoch 2/5, Train Loss: 0.1646, Train Accuracy: 58.96%, Validation Loss: 0.1641, Validation Accuracy: 57.79\n",
            "Epoch 3/5, Train Loss: 0.1568, Train Accuracy: 60.67%, Validation Loss: 0.1677, Validation Accuracy: 56.93\n",
            "Epoch 4/5, Train Loss: 0.1417, Train Accuracy: 64.00%, Validation Loss: 0.1691, Validation Accuracy: 58.10\n"
          ]
        },
        {
          "output_type": "stream",
          "name": "stderr",
          "text": [
            "\r 62%|██████▏   | 67/108 [04:45<03:24,  4.98s/it]"
          ]
        },
        {
          "output_type": "stream",
          "name": "stdout",
          "text": [
            "Epoch 5/5, Train Loss: 0.1237, Train Accuracy: 67.51%, Validation Loss: 0.1873, Validation Accuracy: 55.14\n",
            "Hyperparameters: LR=0.01, Optimizer=Adam, Loss=FocalLoss, Batch Size=64, Embedding Dim=100, Test Loss: 0.1812, Test Accuracy: 57.52\n",
            "Epoch 1/5, Train Loss: 0.1723, Train Accuracy: 57.25%, Validation Loss: 0.1693, Validation Accuracy: 55.92\n",
            "Epoch 2/5, Train Loss: 0.1669, Train Accuracy: 58.36%, Validation Loss: 0.1658, Validation Accuracy: 58.41\n",
            "Epoch 3/5, Train Loss: 0.1605, Train Accuracy: 60.20%, Validation Loss: 0.1641, Validation Accuracy: 55.30\n",
            "Epoch 4/5, Train Loss: 0.1528, Train Accuracy: 61.43%, Validation Loss: 0.1663, Validation Accuracy: 57.55\n"
          ]
        },
        {
          "output_type": "stream",
          "name": "stderr",
          "text": [
            "\r 63%|██████▎   | 68/108 [04:49<03:06,  4.67s/it]"
          ]
        },
        {
          "output_type": "stream",
          "name": "stdout",
          "text": [
            "Epoch 5/5, Train Loss: 0.1454, Train Accuracy: 62.50%, Validation Loss: 0.1727, Validation Accuracy: 55.84\n",
            "Hyperparameters: LR=0.01, Optimizer=Adam, Loss=FocalLoss, Batch Size=64, Embedding Dim=200, Test Loss: 0.1735, Test Accuracy: 57.44\n",
            "Epoch 1/5, Train Loss: 0.1725, Train Accuracy: 56.97%, Validation Loss: 0.1686, Validation Accuracy: 59.66\n",
            "Epoch 2/5, Train Loss: 0.1665, Train Accuracy: 58.09%, Validation Loss: 0.1632, Validation Accuracy: 59.58\n",
            "Epoch 3/5, Train Loss: 0.1615, Train Accuracy: 59.29%, Validation Loss: 0.1696, Validation Accuracy: 56.00\n",
            "Epoch 4/5, Train Loss: 0.1577, Train Accuracy: 60.26%, Validation Loss: 0.1722, Validation Accuracy: 57.40\n"
          ]
        },
        {
          "output_type": "stream",
          "name": "stderr",
          "text": [
            "\r 64%|██████▍   | 69/108 [04:54<03:05,  4.75s/it]"
          ]
        },
        {
          "output_type": "stream",
          "name": "stdout",
          "text": [
            "Epoch 5/5, Train Loss: 0.1525, Train Accuracy: 61.43%, Validation Loss: 0.1705, Validation Accuracy: 59.27\n",
            "Hyperparameters: LR=0.01, Optimizer=Adam, Loss=FocalLoss, Batch Size=64, Embedding Dim=300, Test Loss: 0.1684, Test Accuracy: 59.31\n",
            "Epoch 1/5, Train Loss: 0.1665, Train Accuracy: 58.52%, Validation Loss: 0.1607, Validation Accuracy: 59.81\n",
            "Epoch 2/5, Train Loss: 0.1605, Train Accuracy: 59.20%, Validation Loss: 0.1567, Validation Accuracy: 60.05\n",
            "Epoch 3/5, Train Loss: 0.1482, Train Accuracy: 62.21%, Validation Loss: 0.1653, Validation Accuracy: 57.79\n",
            "Epoch 4/5, Train Loss: 0.1204, Train Accuracy: 67.83%, Validation Loss: 0.1733, Validation Accuracy: 56.70\n"
          ]
        },
        {
          "output_type": "stream",
          "name": "stderr",
          "text": [
            "\r 65%|██████▍   | 70/108 [04:56<02:30,  3.95s/it]"
          ]
        },
        {
          "output_type": "stream",
          "name": "stdout",
          "text": [
            "Epoch 5/5, Train Loss: 0.0845, Train Accuracy: 74.67%, Validation Loss: 0.2266, Validation Accuracy: 59.58\n",
            "Hyperparameters: LR=0.01, Optimizer=Adam, Loss=FocalLoss, Batch Size=128, Embedding Dim=100, Test Loss: 0.2651, Test Accuracy: 54.56\n",
            "Epoch 1/5, Train Loss: 0.1691, Train Accuracy: 57.66%, Validation Loss: 0.1593, Validation Accuracy: 60.20\n",
            "Epoch 2/5, Train Loss: 0.1633, Train Accuracy: 58.99%, Validation Loss: 0.1609, Validation Accuracy: 60.12\n",
            "Epoch 3/5, Train Loss: 0.1561, Train Accuracy: 60.59%, Validation Loss: 0.1645, Validation Accuracy: 57.94\n",
            "Epoch 4/5, Train Loss: 0.1417, Train Accuracy: 63.63%, Validation Loss: 0.1872, Validation Accuracy: 50.70\n"
          ]
        },
        {
          "output_type": "stream",
          "name": "stderr",
          "text": [
            "\r 66%|██████▌   | 71/108 [04:58<02:10,  3.51s/it]"
          ]
        },
        {
          "output_type": "stream",
          "name": "stdout",
          "text": [
            "Epoch 5/5, Train Loss: 0.1218, Train Accuracy: 67.17%, Validation Loss: 0.1730, Validation Accuracy: 57.17\n",
            "Hyperparameters: LR=0.01, Optimizer=Adam, Loss=FocalLoss, Batch Size=128, Embedding Dim=200, Test Loss: 0.1758, Test Accuracy: 56.90\n",
            "Epoch 1/5, Train Loss: 0.1720, Train Accuracy: 57.30%, Validation Loss: 0.1638, Validation Accuracy: 57.63\n",
            "Epoch 2/5, Train Loss: 0.1631, Train Accuracy: 59.14%, Validation Loss: 0.1632, Validation Accuracy: 57.55\n",
            "Epoch 3/5, Train Loss: 0.1529, Train Accuracy: 61.55%, Validation Loss: 0.1729, Validation Accuracy: 57.87\n",
            "Epoch 4/5, Train Loss: 0.1470, Train Accuracy: 62.18%, Validation Loss: 0.1678, Validation Accuracy: 55.84\n"
          ]
        },
        {
          "output_type": "stream",
          "name": "stderr",
          "text": [
            "\r 67%|██████▋   | 72/108 [05:01<02:01,  3.36s/it]"
          ]
        },
        {
          "output_type": "stream",
          "name": "stdout",
          "text": [
            "Epoch 5/5, Train Loss: 0.1323, Train Accuracy: 64.79%, Validation Loss: 0.1757, Validation Accuracy: 54.91\n",
            "Hyperparameters: LR=0.01, Optimizer=Adam, Loss=FocalLoss, Batch Size=128, Embedding Dim=300, Test Loss: 0.1718, Test Accuracy: 55.57\n",
            "Epoch 1/5, Train Loss: 0.6771, Train Accuracy: 58.95%, Validation Loss: 0.6721, Validation Accuracy: 60.20\n",
            "Epoch 2/5, Train Loss: 0.6753, Train Accuracy: 59.69%, Validation Loss: 0.6715, Validation Accuracy: 60.20\n",
            "Epoch 3/5, Train Loss: 0.6746, Train Accuracy: 59.78%, Validation Loss: 0.6713, Validation Accuracy: 60.20\n",
            "Epoch 4/5, Train Loss: 0.6745, Train Accuracy: 59.86%, Validation Loss: 0.6714, Validation Accuracy: 60.20\n"
          ]
        },
        {
          "output_type": "stream",
          "name": "stderr",
          "text": [
            "\r 68%|██████▊   | 73/108 [05:07<02:17,  3.93s/it]"
          ]
        },
        {
          "output_type": "stream",
          "name": "stdout",
          "text": [
            "Epoch 5/5, Train Loss: 0.6737, Train Accuracy: 59.88%, Validation Loss: 0.6715, Validation Accuracy: 60.20\n",
            "Hyperparameters: LR=0.01, Optimizer=SGD, Loss=CrossEntropyLoss, Batch Size=32, Embedding Dim=100, Test Loss: 0.6723, Test Accuracy: 59.78\n",
            "Epoch 1/5, Train Loss: 0.6801, Train Accuracy: 58.51%, Validation Loss: 0.6706, Validation Accuracy: 60.20\n",
            "Epoch 2/5, Train Loss: 0.6768, Train Accuracy: 59.47%, Validation Loss: 0.6709, Validation Accuracy: 60.20\n",
            "Epoch 3/5, Train Loss: 0.6767, Train Accuracy: 59.70%, Validation Loss: 0.6734, Validation Accuracy: 60.20\n",
            "Epoch 4/5, Train Loss: 0.6750, Train Accuracy: 59.75%, Validation Loss: 0.6712, Validation Accuracy: 60.20\n"
          ]
        },
        {
          "output_type": "stream",
          "name": "stderr",
          "text": [
            "\r 69%|██████▊   | 74/108 [05:11<02:20,  4.12s/it]"
          ]
        },
        {
          "output_type": "stream",
          "name": "stdout",
          "text": [
            "Epoch 5/5, Train Loss: 0.6729, Train Accuracy: 59.91%, Validation Loss: 0.6714, Validation Accuracy: 60.20\n",
            "Hyperparameters: LR=0.01, Optimizer=SGD, Loss=CrossEntropyLoss, Batch Size=32, Embedding Dim=200, Test Loss: 0.6740, Test Accuracy: 59.70\n",
            "Epoch 1/5, Train Loss: 0.6801, Train Accuracy: 59.04%, Validation Loss: 0.6704, Validation Accuracy: 60.20\n",
            "Epoch 2/5, Train Loss: 0.6773, Train Accuracy: 59.45%, Validation Loss: 0.6705, Validation Accuracy: 60.20\n",
            "Epoch 3/5, Train Loss: 0.6759, Train Accuracy: 59.61%, Validation Loss: 0.6716, Validation Accuracy: 60.28\n",
            "Epoch 4/5, Train Loss: 0.6750, Train Accuracy: 59.73%, Validation Loss: 0.6711, Validation Accuracy: 60.28\n"
          ]
        },
        {
          "output_type": "stream",
          "name": "stderr",
          "text": [
            "\r 69%|██████▉   | 75/108 [05:16<02:25,  4.41s/it]"
          ]
        },
        {
          "output_type": "stream",
          "name": "stdout",
          "text": [
            "Epoch 5/5, Train Loss: 0.6748, Train Accuracy: 59.80%, Validation Loss: 0.6720, Validation Accuracy: 60.28\n",
            "Hyperparameters: LR=0.01, Optimizer=SGD, Loss=CrossEntropyLoss, Batch Size=32, Embedding Dim=300, Test Loss: 0.6742, Test Accuracy: 59.70\n",
            "Epoch 1/5, Train Loss: 0.6814, Train Accuracy: 57.61%, Validation Loss: 0.6723, Validation Accuracy: 60.28\n",
            "Epoch 2/5, Train Loss: 0.6781, Train Accuracy: 59.53%, Validation Loss: 0.6719, Validation Accuracy: 60.28\n",
            "Epoch 3/5, Train Loss: 0.6777, Train Accuracy: 59.51%, Validation Loss: 0.6710, Validation Accuracy: 60.20\n",
            "Epoch 4/5, Train Loss: 0.6763, Train Accuracy: 59.63%, Validation Loss: 0.6708, Validation Accuracy: 60.20\n"
          ]
        },
        {
          "output_type": "stream",
          "name": "stderr",
          "text": [
            "\r 70%|███████   | 76/108 [05:19<02:09,  4.04s/it]"
          ]
        },
        {
          "output_type": "stream",
          "name": "stdout",
          "text": [
            "Epoch 5/5, Train Loss: 0.6759, Train Accuracy: 59.77%, Validation Loss: 0.6702, Validation Accuracy: 60.20\n",
            "Hyperparameters: LR=0.01, Optimizer=SGD, Loss=CrossEntropyLoss, Batch Size=64, Embedding Dim=100, Test Loss: 0.6747, Test Accuracy: 59.70\n",
            "Epoch 1/5, Train Loss: 0.6848, Train Accuracy: 57.25%, Validation Loss: 0.6722, Validation Accuracy: 60.20\n",
            "Epoch 2/5, Train Loss: 0.6800, Train Accuracy: 58.73%, Validation Loss: 0.6737, Validation Accuracy: 60.05\n",
            "Epoch 3/5, Train Loss: 0.6806, Train Accuracy: 59.06%, Validation Loss: 0.6710, Validation Accuracy: 60.20\n",
            "Epoch 4/5, Train Loss: 0.6783, Train Accuracy: 59.60%, Validation Loss: 0.6704, Validation Accuracy: 60.20\n"
          ]
        },
        {
          "output_type": "stream",
          "name": "stderr",
          "text": [
            "\r 71%|███████▏  | 77/108 [05:22<01:55,  3.71s/it]"
          ]
        },
        {
          "output_type": "stream",
          "name": "stdout",
          "text": [
            "Epoch 5/5, Train Loss: 0.6765, Train Accuracy: 59.69%, Validation Loss: 0.6698, Validation Accuracy: 60.20\n",
            "Hyperparameters: LR=0.01, Optimizer=SGD, Loss=CrossEntropyLoss, Batch Size=64, Embedding Dim=200, Test Loss: 0.6692, Test Accuracy: 59.70\n",
            "Epoch 1/5, Train Loss: 0.6831, Train Accuracy: 58.18%, Validation Loss: 0.6683, Validation Accuracy: 60.20\n",
            "Epoch 2/5, Train Loss: 0.6798, Train Accuracy: 59.08%, Validation Loss: 0.6681, Validation Accuracy: 60.20\n",
            "Epoch 3/5, Train Loss: 0.6778, Train Accuracy: 59.53%, Validation Loss: 0.6682, Validation Accuracy: 60.20\n",
            "Epoch 4/5, Train Loss: 0.6778, Train Accuracy: 59.69%, Validation Loss: 0.6682, Validation Accuracy: 60.20\n"
          ]
        },
        {
          "output_type": "stream",
          "name": "stderr",
          "text": [
            "\r 72%|███████▏  | 78/108 [05:26<01:46,  3.56s/it]"
          ]
        },
        {
          "output_type": "stream",
          "name": "stdout",
          "text": [
            "Epoch 5/5, Train Loss: 0.6751, Train Accuracy: 59.82%, Validation Loss: 0.6693, Validation Accuracy: 60.20\n",
            "Hyperparameters: LR=0.01, Optimizer=SGD, Loss=CrossEntropyLoss, Batch Size=64, Embedding Dim=300, Test Loss: 0.6733, Test Accuracy: 59.70\n",
            "Epoch 1/5, Train Loss: 0.6844, Train Accuracy: 56.74%, Validation Loss: 0.6685, Validation Accuracy: 60.20\n",
            "Epoch 2/5, Train Loss: 0.6770, Train Accuracy: 59.53%, Validation Loss: 0.6671, Validation Accuracy: 60.20\n",
            "Epoch 3/5, Train Loss: 0.6765, Train Accuracy: 59.67%, Validation Loss: 0.6666, Validation Accuracy: 60.20\n",
            "Epoch 4/5, Train Loss: 0.6764, Train Accuracy: 59.63%, Validation Loss: 0.6666, Validation Accuracy: 60.20\n"
          ]
        },
        {
          "output_type": "stream",
          "name": "stderr",
          "text": [
            "\r 73%|███████▎  | 79/108 [05:27<01:28,  3.04s/it]"
          ]
        },
        {
          "output_type": "stream",
          "name": "stdout",
          "text": [
            "Epoch 5/5, Train Loss: 0.6762, Train Accuracy: 59.68%, Validation Loss: 0.6667, Validation Accuracy: 60.20\n",
            "Hyperparameters: LR=0.01, Optimizer=SGD, Loss=CrossEntropyLoss, Batch Size=128, Embedding Dim=100, Test Loss: 0.6722, Test Accuracy: 59.70\n",
            "Epoch 1/5, Train Loss: 0.6831, Train Accuracy: 58.58%, Validation Loss: 0.6649, Validation Accuracy: 60.36\n",
            "Epoch 2/5, Train Loss: 0.6792, Train Accuracy: 59.24%, Validation Loss: 0.6651, Validation Accuracy: 60.36\n",
            "Epoch 3/5, Train Loss: 0.6794, Train Accuracy: 59.38%, Validation Loss: 0.6653, Validation Accuracy: 60.28\n",
            "Epoch 4/5, Train Loss: 0.6788, Train Accuracy: 59.20%, Validation Loss: 0.6654, Validation Accuracy: 60.28\n"
          ]
        },
        {
          "output_type": "stream",
          "name": "stderr",
          "text": [
            "\r 74%|███████▍  | 80/108 [05:30<01:19,  2.83s/it]"
          ]
        },
        {
          "output_type": "stream",
          "name": "stdout",
          "text": [
            "Epoch 5/5, Train Loss: 0.6777, Train Accuracy: 59.79%, Validation Loss: 0.6653, Validation Accuracy: 60.36\n",
            "Hyperparameters: LR=0.01, Optimizer=SGD, Loss=CrossEntropyLoss, Batch Size=128, Embedding Dim=200, Test Loss: 0.6749, Test Accuracy: 59.63\n",
            "Epoch 1/5, Train Loss: 0.6836, Train Accuracy: 57.53%, Validation Loss: 0.6688, Validation Accuracy: 60.20\n",
            "Epoch 2/5, Train Loss: 0.6817, Train Accuracy: 58.66%, Validation Loss: 0.6678, Validation Accuracy: 60.20\n",
            "Epoch 3/5, Train Loss: 0.6792, Train Accuracy: 59.29%, Validation Loss: 0.6677, Validation Accuracy: 60.20\n",
            "Epoch 4/5, Train Loss: 0.6764, Train Accuracy: 59.39%, Validation Loss: 0.6683, Validation Accuracy: 60.20\n"
          ]
        },
        {
          "output_type": "stream",
          "name": "stderr",
          "text": [
            "\r 75%|███████▌  | 81/108 [05:33<01:16,  2.82s/it]"
          ]
        },
        {
          "output_type": "stream",
          "name": "stdout",
          "text": [
            "Epoch 5/5, Train Loss: 0.6784, Train Accuracy: 59.37%, Validation Loss: 0.6680, Validation Accuracy: 60.20\n",
            "Hyperparameters: LR=0.01, Optimizer=SGD, Loss=CrossEntropyLoss, Batch Size=128, Embedding Dim=300, Test Loss: 0.6751, Test Accuracy: 59.78\n",
            "Epoch 1/5, Train Loss: 0.1665, Train Accuracy: 58.79%, Validation Loss: 0.1620, Validation Accuracy: 60.20\n",
            "Epoch 2/5, Train Loss: 0.1649, Train Accuracy: 59.50%, Validation Loss: 0.1610, Validation Accuracy: 60.20\n",
            "Epoch 3/5, Train Loss: 0.1637, Train Accuracy: 59.72%, Validation Loss: 0.1610, Validation Accuracy: 60.20\n",
            "Epoch 4/5, Train Loss: 0.1635, Train Accuracy: 59.85%, Validation Loss: 0.1617, Validation Accuracy: 60.20\n"
          ]
        },
        {
          "output_type": "stream",
          "name": "stderr",
          "text": [
            "\r 76%|███████▌  | 82/108 [05:37<01:28,  3.39s/it]"
          ]
        },
        {
          "output_type": "stream",
          "name": "stdout",
          "text": [
            "Epoch 5/5, Train Loss: 0.1640, Train Accuracy: 59.84%, Validation Loss: 0.1609, Validation Accuracy: 60.20\n",
            "Hyperparameters: LR=0.01, Optimizer=SGD, Loss=FocalLoss, Batch Size=32, Embedding Dim=100, Test Loss: 0.1620, Test Accuracy: 59.70\n",
            "Epoch 1/5, Train Loss: 0.1684, Train Accuracy: 57.51%, Validation Loss: 0.1631, Validation Accuracy: 60.20\n",
            "Epoch 2/5, Train Loss: 0.1652, Train Accuracy: 59.07%, Validation Loss: 0.1617, Validation Accuracy: 60.20\n",
            "Epoch 3/5, Train Loss: 0.1647, Train Accuracy: 59.56%, Validation Loss: 0.1617, Validation Accuracy: 60.20\n",
            "Epoch 4/5, Train Loss: 0.1635, Train Accuracy: 59.80%, Validation Loss: 0.1614, Validation Accuracy: 60.20\n"
          ]
        },
        {
          "output_type": "stream",
          "name": "stderr",
          "text": [
            "\r 77%|███████▋  | 83/108 [05:42<01:37,  3.88s/it]"
          ]
        },
        {
          "output_type": "stream",
          "name": "stdout",
          "text": [
            "Epoch 5/5, Train Loss: 0.1635, Train Accuracy: 59.81%, Validation Loss: 0.1615, Validation Accuracy: 60.20\n",
            "Hyperparameters: LR=0.01, Optimizer=SGD, Loss=FocalLoss, Batch Size=32, Embedding Dim=200, Test Loss: 0.1630, Test Accuracy: 59.78\n",
            "Epoch 1/5, Train Loss: 0.1671, Train Accuracy: 57.85%, Validation Loss: 0.1614, Validation Accuracy: 60.28\n",
            "Epoch 2/5, Train Loss: 0.1645, Train Accuracy: 59.13%, Validation Loss: 0.1610, Validation Accuracy: 60.28\n",
            "Epoch 3/5, Train Loss: 0.1640, Train Accuracy: 59.37%, Validation Loss: 0.1614, Validation Accuracy: 60.28\n",
            "Epoch 4/5, Train Loss: 0.1643, Train Accuracy: 59.60%, Validation Loss: 0.1620, Validation Accuracy: 60.28\n"
          ]
        },
        {
          "output_type": "stream",
          "name": "stderr",
          "text": [
            "\r 78%|███████▊  | 84/108 [05:48<01:47,  4.48s/it]"
          ]
        },
        {
          "output_type": "stream",
          "name": "stdout",
          "text": [
            "Epoch 5/5, Train Loss: 0.1628, Train Accuracy: 59.61%, Validation Loss: 0.1612, Validation Accuracy: 60.28\n",
            "Hyperparameters: LR=0.01, Optimizer=SGD, Loss=FocalLoss, Batch Size=32, Embedding Dim=300, Test Loss: 0.1632, Test Accuracy: 59.78\n",
            "Epoch 1/5, Train Loss: 0.1667, Train Accuracy: 57.17%, Validation Loss: 0.1596, Validation Accuracy: 60.28\n",
            "Epoch 2/5, Train Loss: 0.1644, Train Accuracy: 59.37%, Validation Loss: 0.1600, Validation Accuracy: 60.28\n",
            "Epoch 3/5, Train Loss: 0.1639, Train Accuracy: 59.63%, Validation Loss: 0.1596, Validation Accuracy: 60.28\n",
            "Epoch 4/5, Train Loss: 0.1640, Train Accuracy: 59.58%, Validation Loss: 0.1595, Validation Accuracy: 60.28\n"
          ]
        },
        {
          "output_type": "stream",
          "name": "stderr",
          "text": [
            "\r 79%|███████▊  | 85/108 [05:51<01:32,  4.01s/it]"
          ]
        },
        {
          "output_type": "stream",
          "name": "stdout",
          "text": [
            "Epoch 5/5, Train Loss: 0.1636, Train Accuracy: 59.70%, Validation Loss: 0.1594, Validation Accuracy: 60.28\n",
            "Hyperparameters: LR=0.01, Optimizer=SGD, Loss=FocalLoss, Batch Size=64, Embedding Dim=100, Test Loss: 0.1647, Test Accuracy: 59.78\n",
            "Epoch 1/5, Train Loss: 0.1656, Train Accuracy: 58.31%, Validation Loss: 0.1619, Validation Accuracy: 60.05\n",
            "Epoch 2/5, Train Loss: 0.1652, Train Accuracy: 59.00%, Validation Loss: 0.1621, Validation Accuracy: 60.05\n",
            "Epoch 3/5, Train Loss: 0.1642, Train Accuracy: 59.20%, Validation Loss: 0.1608, Validation Accuracy: 60.20\n",
            "Epoch 4/5, Train Loss: 0.1648, Train Accuracy: 59.35%, Validation Loss: 0.1607, Validation Accuracy: 60.20\n"
          ]
        },
        {
          "output_type": "stream",
          "name": "stderr",
          "text": [
            "\r 80%|███████▉  | 86/108 [05:54<01:22,  3.74s/it]"
          ]
        },
        {
          "output_type": "stream",
          "name": "stdout",
          "text": [
            "Epoch 5/5, Train Loss: 0.1640, Train Accuracy: 59.37%, Validation Loss: 0.1613, Validation Accuracy: 60.20\n",
            "Hyperparameters: LR=0.01, Optimizer=SGD, Loss=FocalLoss, Batch Size=64, Embedding Dim=200, Test Loss: 0.1598, Test Accuracy: 59.78\n",
            "Epoch 1/5, Train Loss: 0.1672, Train Accuracy: 57.06%, Validation Loss: 0.1603, Validation Accuracy: 60.28\n",
            "Epoch 2/5, Train Loss: 0.1655, Train Accuracy: 59.10%, Validation Loss: 0.1606, Validation Accuracy: 60.20\n",
            "Epoch 3/5, Train Loss: 0.1645, Train Accuracy: 59.23%, Validation Loss: 0.1600, Validation Accuracy: 60.28\n",
            "Epoch 4/5, Train Loss: 0.1650, Train Accuracy: 59.44%, Validation Loss: 0.1603, Validation Accuracy: 60.28\n"
          ]
        },
        {
          "output_type": "stream",
          "name": "stderr",
          "text": [
            "\r 81%|████████  | 87/108 [05:58<01:19,  3.78s/it]"
          ]
        },
        {
          "output_type": "stream",
          "name": "stdout",
          "text": [
            "Epoch 5/5, Train Loss: 0.1638, Train Accuracy: 59.45%, Validation Loss: 0.1600, Validation Accuracy: 60.28\n",
            "Hyperparameters: LR=0.01, Optimizer=SGD, Loss=FocalLoss, Batch Size=64, Embedding Dim=300, Test Loss: 0.1627, Test Accuracy: 59.78\n",
            "Epoch 1/5, Train Loss: 0.1660, Train Accuracy: 57.60%, Validation Loss: 0.1602, Validation Accuracy: 60.28\n",
            "Epoch 2/5, Train Loss: 0.1650, Train Accuracy: 58.62%, Validation Loss: 0.1594, Validation Accuracy: 60.28\n",
            "Epoch 3/5, Train Loss: 0.1649, Train Accuracy: 59.32%, Validation Loss: 0.1596, Validation Accuracy: 60.28\n",
            "Epoch 4/5, Train Loss: 0.1629, Train Accuracy: 59.55%, Validation Loss: 0.1595, Validation Accuracy: 60.28\n"
          ]
        },
        {
          "output_type": "stream",
          "name": "stderr",
          "text": [
            "\r 81%|████████▏ | 88/108 [06:00<01:04,  3.25s/it]"
          ]
        },
        {
          "output_type": "stream",
          "name": "stdout",
          "text": [
            "Epoch 5/5, Train Loss: 0.1644, Train Accuracy: 59.18%, Validation Loss: 0.1592, Validation Accuracy: 60.28\n",
            "Hyperparameters: LR=0.01, Optimizer=SGD, Loss=FocalLoss, Batch Size=128, Embedding Dim=100, Test Loss: 0.1605, Test Accuracy: 59.78\n",
            "Epoch 1/5, Train Loss: 0.1664, Train Accuracy: 58.89%, Validation Loss: 0.1591, Validation Accuracy: 60.28\n",
            "Epoch 2/5, Train Loss: 0.1639, Train Accuracy: 59.29%, Validation Loss: 0.1592, Validation Accuracy: 60.28\n",
            "Epoch 3/5, Train Loss: 0.1653, Train Accuracy: 59.60%, Validation Loss: 0.1590, Validation Accuracy: 60.28\n",
            "Epoch 4/5, Train Loss: 0.1648, Train Accuracy: 59.53%, Validation Loss: 0.1591, Validation Accuracy: 60.28\n"
          ]
        },
        {
          "output_type": "stream",
          "name": "stderr",
          "text": [
            "\r 82%|████████▏ | 89/108 [06:02<00:55,  2.92s/it]"
          ]
        },
        {
          "output_type": "stream",
          "name": "stdout",
          "text": [
            "Epoch 5/5, Train Loss: 0.1635, Train Accuracy: 59.51%, Validation Loss: 0.1586, Validation Accuracy: 60.28\n",
            "Hyperparameters: LR=0.01, Optimizer=SGD, Loss=FocalLoss, Batch Size=128, Embedding Dim=200, Test Loss: 0.1607, Test Accuracy: 59.78\n",
            "Epoch 1/5, Train Loss: 0.1701, Train Accuracy: 57.10%, Validation Loss: 0.1575, Validation Accuracy: 60.20\n",
            "Epoch 2/5, Train Loss: 0.1667, Train Accuracy: 58.49%, Validation Loss: 0.1575, Validation Accuracy: 60.20\n",
            "Epoch 3/5, Train Loss: 0.1661, Train Accuracy: 58.40%, Validation Loss: 0.1580, Validation Accuracy: 60.20\n",
            "Epoch 4/5, Train Loss: 0.1673, Train Accuracy: 58.37%, Validation Loss: 0.1575, Validation Accuracy: 60.20\n"
          ]
        },
        {
          "output_type": "stream",
          "name": "stderr",
          "text": [
            "\r 83%|████████▎ | 90/108 [06:05<00:50,  2.81s/it]"
          ]
        },
        {
          "output_type": "stream",
          "name": "stdout",
          "text": [
            "Epoch 5/5, Train Loss: 0.1655, Train Accuracy: 58.60%, Validation Loss: 0.1574, Validation Accuracy: 60.20\n",
            "Hyperparameters: LR=0.01, Optimizer=SGD, Loss=FocalLoss, Batch Size=128, Embedding Dim=300, Test Loss: 0.1614, Test Accuracy: 59.70\n",
            "Epoch 1/5, Train Loss: 0.7325, Train Accuracy: 55.25%, Validation Loss: 0.7057, Validation Accuracy: 46.03\n",
            "Epoch 2/5, Train Loss: 0.7034, Train Accuracy: 55.72%, Validation Loss: 0.6900, Validation Accuracy: 60.20\n",
            "Epoch 3/5, Train Loss: 0.6902, Train Accuracy: 57.61%, Validation Loss: 0.6853, Validation Accuracy: 59.50\n",
            "Epoch 4/5, Train Loss: 0.6813, Train Accuracy: 58.22%, Validation Loss: 0.6959, Validation Accuracy: 52.73\n"
          ]
        },
        {
          "output_type": "stream",
          "name": "stderr",
          "text": [
            "\r 84%|████████▍ | 91/108 [06:10<00:59,  3.50s/it]"
          ]
        },
        {
          "output_type": "stream",
          "name": "stdout",
          "text": [
            "Epoch 5/5, Train Loss: 0.6723, Train Accuracy: 59.99%, Validation Loss: 0.6784, Validation Accuracy: 58.49\n",
            "Hyperparameters: LR=0.01, Optimizer=RMSprop, Loss=CrossEntropyLoss, Batch Size=32, Embedding Dim=100, Test Loss: 0.6792, Test Accuracy: 58.69\n",
            "Epoch 1/5, Train Loss: 0.7394, Train Accuracy: 55.43%, Validation Loss: 0.6836, Validation Accuracy: 59.89\n",
            "Epoch 2/5, Train Loss: 0.7060, Train Accuracy: 56.28%, Validation Loss: 0.6836, Validation Accuracy: 59.97\n",
            "Epoch 3/5, Train Loss: 0.7004, Train Accuracy: 57.17%, Validation Loss: 0.7148, Validation Accuracy: 60.20\n",
            "Epoch 4/5, Train Loss: 0.6943, Train Accuracy: 57.95%, Validation Loss: 0.6915, Validation Accuracy: 58.57\n"
          ]
        },
        {
          "output_type": "stream",
          "name": "stderr",
          "text": [
            "\r 85%|████████▌ | 92/108 [06:16<01:07,  4.22s/it]"
          ]
        },
        {
          "output_type": "stream",
          "name": "stdout",
          "text": [
            "Epoch 5/5, Train Loss: 0.6883, Train Accuracy: 58.72%, Validation Loss: 0.7024, Validation Accuracy: 59.74\n",
            "Hyperparameters: LR=0.01, Optimizer=RMSprop, Loss=CrossEntropyLoss, Batch Size=32, Embedding Dim=200, Test Loss: 0.6958, Test Accuracy: 60.17\n",
            "Epoch 1/5, Train Loss: 0.7494, Train Accuracy: 54.97%, Validation Loss: 0.7168, Validation Accuracy: 48.36\n",
            "Epoch 2/5, Train Loss: 0.7147, Train Accuracy: 56.07%, Validation Loss: 0.7458, Validation Accuracy: 44.24\n",
            "Epoch 3/5, Train Loss: 0.7080, Train Accuracy: 56.47%, Validation Loss: 0.7433, Validation Accuracy: 60.20\n",
            "Epoch 4/5, Train Loss: 0.7063, Train Accuracy: 56.79%, Validation Loss: 0.6869, Validation Accuracy: 59.19\n"
          ]
        },
        {
          "output_type": "stream",
          "name": "stderr",
          "text": [
            "\r 86%|████████▌ | 93/108 [06:22<01:11,  4.78s/it]"
          ]
        },
        {
          "output_type": "stream",
          "name": "stdout",
          "text": [
            "Epoch 5/5, Train Loss: 0.7024, Train Accuracy: 57.88%, Validation Loss: 0.6902, Validation Accuracy: 54.52\n",
            "Hyperparameters: LR=0.01, Optimizer=RMSprop, Loss=CrossEntropyLoss, Batch Size=32, Embedding Dim=300, Test Loss: 0.6873, Test Accuracy: 56.20\n",
            "Epoch 1/5, Train Loss: 0.7588, Train Accuracy: 55.66%, Validation Loss: 0.6843, Validation Accuracy: 57.24\n",
            "Epoch 2/5, Train Loss: 0.6989, Train Accuracy: 56.31%, Validation Loss: 0.6724, Validation Accuracy: 60.36\n",
            "Epoch 3/5, Train Loss: 0.6817, Train Accuracy: 57.90%, Validation Loss: 0.6795, Validation Accuracy: 57.09\n",
            "Epoch 4/5, Train Loss: 0.6674, Train Accuracy: 60.09%, Validation Loss: 0.6842, Validation Accuracy: 56.54\n"
          ]
        },
        {
          "output_type": "stream",
          "name": "stderr",
          "text": [
            "\r 87%|████████▋ | 94/108 [06:26<01:01,  4.43s/it]"
          ]
        },
        {
          "output_type": "stream",
          "name": "stdout",
          "text": [
            "Epoch 5/5, Train Loss: 0.6465, Train Accuracy: 62.61%, Validation Loss: 0.6891, Validation Accuracy: 58.80\n",
            "Hyperparameters: LR=0.01, Optimizer=RMSprop, Loss=CrossEntropyLoss, Batch Size=64, Embedding Dim=100, Test Loss: 0.7029, Test Accuracy: 58.69\n",
            "Epoch 1/5, Train Loss: 0.7674, Train Accuracy: 54.51%, Validation Loss: 0.7410, Validation Accuracy: 60.20\n",
            "Epoch 2/5, Train Loss: 0.7047, Train Accuracy: 56.38%, Validation Loss: 0.6866, Validation Accuracy: 56.00\n",
            "Epoch 3/5, Train Loss: 0.6961, Train Accuracy: 57.19%, Validation Loss: 0.6714, Validation Accuracy: 58.57\n",
            "Epoch 4/5, Train Loss: 0.6902, Train Accuracy: 58.07%, Validation Loss: 0.6926, Validation Accuracy: 59.97\n"
          ]
        },
        {
          "output_type": "stream",
          "name": "stderr",
          "text": [
            "\r 88%|████████▊ | 95/108 [06:29<00:53,  4.12s/it]"
          ]
        },
        {
          "output_type": "stream",
          "name": "stdout",
          "text": [
            "Epoch 5/5, Train Loss: 0.6847, Train Accuracy: 58.93%, Validation Loss: 0.6801, Validation Accuracy: 57.94\n",
            "Hyperparameters: LR=0.01, Optimizer=RMSprop, Loss=CrossEntropyLoss, Batch Size=64, Embedding Dim=200, Test Loss: 0.6829, Test Accuracy: 58.30\n",
            "Epoch 1/5, Train Loss: 0.7475, Train Accuracy: 55.44%, Validation Loss: 0.7872, Validation Accuracy: 60.20\n",
            "Epoch 2/5, Train Loss: 0.6976, Train Accuracy: 56.91%, Validation Loss: 0.6867, Validation Accuracy: 60.20\n",
            "Epoch 3/5, Train Loss: 0.6929, Train Accuracy: 57.66%, Validation Loss: 0.6962, Validation Accuracy: 52.26\n",
            "Epoch 4/5, Train Loss: 0.6852, Train Accuracy: 58.68%, Validation Loss: 0.6883, Validation Accuracy: 59.58\n"
          ]
        },
        {
          "output_type": "stream",
          "name": "stderr",
          "text": [
            "\r 89%|████████▉ | 96/108 [06:33<00:48,  4.04s/it]"
          ]
        },
        {
          "output_type": "stream",
          "name": "stdout",
          "text": [
            "Epoch 5/5, Train Loss: 0.6739, Train Accuracy: 59.60%, Validation Loss: 0.7126, Validation Accuracy: 60.05\n",
            "Hyperparameters: LR=0.01, Optimizer=RMSprop, Loss=CrossEntropyLoss, Batch Size=64, Embedding Dim=300, Test Loss: 0.7231, Test Accuracy: 59.78\n",
            "Epoch 1/5, Train Loss: 0.7920, Train Accuracy: 54.35%, Validation Loss: 0.6658, Validation Accuracy: 60.20\n",
            "Epoch 2/5, Train Loss: 0.6803, Train Accuracy: 58.35%, Validation Loss: 0.6872, Validation Accuracy: 60.20\n",
            "Epoch 3/5, Train Loss: 0.6631, Train Accuracy: 60.41%, Validation Loss: 0.6710, Validation Accuracy: 60.12\n",
            "Epoch 4/5, Train Loss: 0.6527, Train Accuracy: 61.52%, Validation Loss: 0.6883, Validation Accuracy: 59.97\n"
          ]
        },
        {
          "output_type": "stream",
          "name": "stderr",
          "text": [
            "\r 90%|████████▉ | 97/108 [06:35<00:37,  3.41s/it]"
          ]
        },
        {
          "output_type": "stream",
          "name": "stdout",
          "text": [
            "Epoch 5/5, Train Loss: 0.6213, Train Accuracy: 64.50%, Validation Loss: 0.6903, Validation Accuracy: 56.54\n",
            "Hyperparameters: LR=0.01, Optimizer=RMSprop, Loss=CrossEntropyLoss, Batch Size=128, Embedding Dim=100, Test Loss: 0.7263, Test Accuracy: 56.98\n",
            "Epoch 1/5, Train Loss: 0.7885, Train Accuracy: 55.21%, Validation Loss: 0.6763, Validation Accuracy: 58.72\n",
            "Epoch 2/5, Train Loss: 0.6909, Train Accuracy: 56.92%, Validation Loss: 0.6736, Validation Accuracy: 59.27\n",
            "Epoch 3/5, Train Loss: 0.6824, Train Accuracy: 58.77%, Validation Loss: 0.6865, Validation Accuracy: 59.97\n",
            "Epoch 4/5, Train Loss: 0.6791, Train Accuracy: 58.90%, Validation Loss: 0.7896, Validation Accuracy: 43.61\n"
          ]
        },
        {
          "output_type": "stream",
          "name": "stderr",
          "text": [
            "\r 91%|█████████ | 98/108 [06:37<00:31,  3.15s/it]"
          ]
        },
        {
          "output_type": "stream",
          "name": "stdout",
          "text": [
            "Epoch 5/5, Train Loss: 0.6638, Train Accuracy: 61.31%, Validation Loss: 0.6737, Validation Accuracy: 57.71\n",
            "Hyperparameters: LR=0.01, Optimizer=RMSprop, Loss=CrossEntropyLoss, Batch Size=128, Embedding Dim=200, Test Loss: 0.6954, Test Accuracy: 60.56\n",
            "Epoch 1/5, Train Loss: 0.7648, Train Accuracy: 54.97%, Validation Loss: 0.7648, Validation Accuracy: 60.28\n",
            "Epoch 2/5, Train Loss: 0.6946, Train Accuracy: 57.29%, Validation Loss: 0.6812, Validation Accuracy: 58.18\n",
            "Epoch 3/5, Train Loss: 0.6792, Train Accuracy: 58.58%, Validation Loss: 0.6895, Validation Accuracy: 60.20\n",
            "Epoch 4/5, Train Loss: 0.6661, Train Accuracy: 60.57%, Validation Loss: 0.7195, Validation Accuracy: 60.20\n"
          ]
        },
        {
          "output_type": "stream",
          "name": "stderr",
          "text": [
            "\r 92%|█████████▏| 99/108 [06:40<00:28,  3.11s/it]"
          ]
        },
        {
          "output_type": "stream",
          "name": "stdout",
          "text": [
            "Epoch 5/5, Train Loss: 0.6675, Train Accuracy: 60.62%, Validation Loss: 0.7141, Validation Accuracy: 50.93\n",
            "Hyperparameters: LR=0.01, Optimizer=RMSprop, Loss=CrossEntropyLoss, Batch Size=128, Embedding Dim=300, Test Loss: 0.6871, Test Accuracy: 52.61\n",
            "Epoch 1/5, Train Loss: 0.2114, Train Accuracy: 54.66%, Validation Loss: 0.1697, Validation Accuracy: 55.53\n",
            "Epoch 2/5, Train Loss: 0.1797, Train Accuracy: 56.05%, Validation Loss: 0.1956, Validation Accuracy: 43.54\n",
            "Epoch 3/5, Train Loss: 0.1710, Train Accuracy: 56.86%, Validation Loss: 0.1674, Validation Accuracy: 58.33\n",
            "Epoch 4/5, Train Loss: 0.1633, Train Accuracy: 58.92%, Validation Loss: 0.1653, Validation Accuracy: 58.18\n"
          ]
        },
        {
          "output_type": "stream",
          "name": "stderr",
          "text": [
            "\r 93%|█████████▎| 100/108 [06:45<00:29,  3.72s/it]"
          ]
        },
        {
          "output_type": "stream",
          "name": "stdout",
          "text": [
            "Epoch 5/5, Train Loss: 0.1619, Train Accuracy: 59.81%, Validation Loss: 0.1684, Validation Accuracy: 57.32\n",
            "Hyperparameters: LR=0.01, Optimizer=RMSprop, Loss=FocalLoss, Batch Size=32, Embedding Dim=100, Test Loss: 0.1647, Test Accuracy: 58.30\n",
            "Epoch 1/5, Train Loss: 0.2148, Train Accuracy: 54.85%, Validation Loss: 0.1627, Validation Accuracy: 59.74\n",
            "Epoch 2/5, Train Loss: 0.1885, Train Accuracy: 55.41%, Validation Loss: 0.1778, Validation Accuracy: 59.74\n",
            "Epoch 3/5, Train Loss: 0.1848, Train Accuracy: 56.28%, Validation Loss: 0.1817, Validation Accuracy: 59.97\n",
            "Epoch 4/5, Train Loss: 0.1798, Train Accuracy: 56.99%, Validation Loss: 0.1701, Validation Accuracy: 57.32\n"
          ]
        },
        {
          "output_type": "stream",
          "name": "stderr",
          "text": [
            "\r 94%|█████████▎| 101/108 [06:52<00:31,  4.55s/it]"
          ]
        },
        {
          "output_type": "stream",
          "name": "stdout",
          "text": [
            "Epoch 5/5, Train Loss: 0.1760, Train Accuracy: 57.92%, Validation Loss: 0.1666, Validation Accuracy: 59.58\n",
            "Hyperparameters: LR=0.01, Optimizer=RMSprop, Loss=FocalLoss, Batch Size=32, Embedding Dim=200, Test Loss: 0.1679, Test Accuracy: 57.60\n",
            "Epoch 1/5, Train Loss: 0.2082, Train Accuracy: 55.23%, Validation Loss: 0.1728, Validation Accuracy: 53.89\n",
            "Epoch 2/5, Train Loss: 0.1872, Train Accuracy: 55.49%, Validation Loss: 0.1804, Validation Accuracy: 47.43\n",
            "Epoch 3/5, Train Loss: 0.1848, Train Accuracy: 56.31%, Validation Loss: 0.1871, Validation Accuracy: 60.20\n",
            "Epoch 4/5, Train Loss: 0.1817, Train Accuracy: 56.74%, Validation Loss: 0.1674, Validation Accuracy: 56.78\n"
          ]
        },
        {
          "output_type": "stream",
          "name": "stderr",
          "text": [
            "\r 94%|█████████▍| 102/108 [06:58<00:30,  5.16s/it]"
          ]
        },
        {
          "output_type": "stream",
          "name": "stdout",
          "text": [
            "Epoch 5/5, Train Loss: 0.1792, Train Accuracy: 57.58%, Validation Loss: 0.1725, Validation Accuracy: 55.69\n",
            "Hyperparameters: LR=0.01, Optimizer=RMSprop, Loss=FocalLoss, Batch Size=32, Embedding Dim=300, Test Loss: 0.1726, Test Accuracy: 55.81\n",
            "Epoch 1/5, Train Loss: 0.2178, Train Accuracy: 56.06%, Validation Loss: 0.1735, Validation Accuracy: 60.20\n",
            "Epoch 2/5, Train Loss: 0.1712, Train Accuracy: 58.05%, Validation Loss: 0.1744, Validation Accuracy: 60.20\n",
            "Epoch 3/5, Train Loss: 0.1659, Train Accuracy: 58.85%, Validation Loss: 0.1900, Validation Accuracy: 60.20\n",
            "Epoch 4/5, Train Loss: 0.1571, Train Accuracy: 61.35%, Validation Loss: 0.1725, Validation Accuracy: 58.64\n"
          ]
        },
        {
          "output_type": "stream",
          "name": "stderr",
          "text": [
            "\r 95%|█████████▌| 103/108 [07:02<00:22,  4.53s/it]"
          ]
        },
        {
          "output_type": "stream",
          "name": "stdout",
          "text": [
            "Epoch 5/5, Train Loss: 0.1470, Train Accuracy: 62.69%, Validation Loss: 0.1813, Validation Accuracy: 54.13\n",
            "Hyperparameters: LR=0.01, Optimizer=RMSprop, Loss=FocalLoss, Batch Size=64, Embedding Dim=100, Test Loss: 0.1760, Test Accuracy: 55.49\n",
            "Epoch 1/5, Train Loss: 0.2246, Train Accuracy: 54.85%, Validation Loss: 0.1707, Validation Accuracy: 60.20\n",
            "Epoch 2/5, Train Loss: 0.1804, Train Accuracy: 56.57%, Validation Loss: 0.1868, Validation Accuracy: 47.66\n",
            "Epoch 3/5, Train Loss: 0.1776, Train Accuracy: 56.57%, Validation Loss: 0.2045, Validation Accuracy: 60.20\n",
            "Epoch 4/5, Train Loss: 0.1694, Train Accuracy: 58.92%, Validation Loss: 0.1937, Validation Accuracy: 46.96\n"
          ]
        },
        {
          "output_type": "stream",
          "name": "stderr",
          "text": [
            "\r 96%|█████████▋| 104/108 [07:06<00:17,  4.40s/it]"
          ]
        },
        {
          "output_type": "stream",
          "name": "stdout",
          "text": [
            "Epoch 5/5, Train Loss: 0.1692, Train Accuracy: 58.92%, Validation Loss: 0.1729, Validation Accuracy: 53.74\n",
            "Hyperparameters: LR=0.01, Optimizer=RMSprop, Loss=FocalLoss, Batch Size=64, Embedding Dim=200, Test Loss: 0.1759, Test Accuracy: 53.47\n",
            "Epoch 1/5, Train Loss: 0.2050, Train Accuracy: 55.43%, Validation Loss: 0.1631, Validation Accuracy: 60.12\n",
            "Epoch 2/5, Train Loss: 0.1738, Train Accuracy: 57.01%, Validation Loss: 0.1670, Validation Accuracy: 58.80\n",
            "Epoch 3/5, Train Loss: 0.1731, Train Accuracy: 57.35%, Validation Loss: 0.1943, Validation Accuracy: 44.00\n",
            "Epoch 4/5, Train Loss: 0.1698, Train Accuracy: 58.51%, Validation Loss: 0.1793, Validation Accuracy: 59.58\n"
          ]
        },
        {
          "output_type": "stream",
          "name": "stderr",
          "text": [
            "\r 97%|█████████▋| 105/108 [07:10<00:12,  4.31s/it]"
          ]
        },
        {
          "output_type": "stream",
          "name": "stdout",
          "text": [
            "Epoch 5/5, Train Loss: 0.1661, Train Accuracy: 58.98%, Validation Loss: 0.1722, Validation Accuracy: 58.96\n",
            "Hyperparameters: LR=0.01, Optimizer=RMSprop, Loss=FocalLoss, Batch Size=64, Embedding Dim=300, Test Loss: 0.1753, Test Accuracy: 58.30\n",
            "Epoch 1/5, Train Loss: 0.2347, Train Accuracy: 56.16%, Validation Loss: 0.1616, Validation Accuracy: 60.20\n",
            "Epoch 2/5, Train Loss: 0.1640, Train Accuracy: 58.32%, Validation Loss: 0.1789, Validation Accuracy: 52.49\n",
            "Epoch 3/5, Train Loss: 0.1607, Train Accuracy: 59.42%, Validation Loss: 0.1750, Validation Accuracy: 52.34\n",
            "Epoch 4/5, Train Loss: 0.1503, Train Accuracy: 61.62%, Validation Loss: 0.1825, Validation Accuracy: 60.44\n"
          ]
        },
        {
          "output_type": "stream",
          "name": "stderr",
          "text": [
            "\r 98%|█████████▊| 106/108 [07:12<00:07,  3.61s/it]"
          ]
        },
        {
          "output_type": "stream",
          "name": "stdout",
          "text": [
            "Epoch 5/5, Train Loss: 0.1326, Train Accuracy: 65.09%, Validation Loss: 0.1716, Validation Accuracy: 56.15\n",
            "Hyperparameters: LR=0.01, Optimizer=RMSprop, Loss=FocalLoss, Batch Size=128, Embedding Dim=100, Test Loss: 0.1767, Test Accuracy: 56.35\n",
            "Epoch 1/5, Train Loss: 0.2476, Train Accuracy: 55.15%, Validation Loss: 0.2724, Validation Accuracy: 40.19\n",
            "Epoch 2/5, Train Loss: 0.1711, Train Accuracy: 57.33%, Validation Loss: 0.3838, Validation Accuracy: 39.80\n",
            "Epoch 3/5, Train Loss: 0.1641, Train Accuracy: 59.46%, Validation Loss: 0.2636, Validation Accuracy: 60.20\n",
            "Epoch 4/5, Train Loss: 0.1604, Train Accuracy: 60.15%, Validation Loss: 0.1913, Validation Accuracy: 60.05\n"
          ]
        },
        {
          "output_type": "stream",
          "name": "stderr",
          "text": [
            "\r 99%|█████████▉| 107/108 [07:14<00:03,  3.23s/it]"
          ]
        },
        {
          "output_type": "stream",
          "name": "stdout",
          "text": [
            "Epoch 5/5, Train Loss: 0.1521, Train Accuracy: 61.54%, Validation Loss: 0.4469, Validation Accuracy: 39.95\n",
            "Hyperparameters: LR=0.01, Optimizer=RMSprop, Loss=FocalLoss, Batch Size=128, Embedding Dim=200, Test Loss: 0.3982, Test Accuracy: 40.69\n",
            "Epoch 1/5, Train Loss: 0.2465, Train Accuracy: 55.55%, Validation Loss: 0.1824, Validation Accuracy: 60.20\n",
            "Epoch 2/5, Train Loss: 0.1699, Train Accuracy: 57.80%, Validation Loss: 0.1957, Validation Accuracy: 44.39\n",
            "Epoch 3/5, Train Loss: 0.1668, Train Accuracy: 58.73%, Validation Loss: 0.3140, Validation Accuracy: 40.34\n",
            "Epoch 4/5, Train Loss: 0.1624, Train Accuracy: 59.12%, Validation Loss: 0.1785, Validation Accuracy: 59.66\n"
          ]
        },
        {
          "output_type": "stream",
          "name": "stderr",
          "text": [
            "100%|██████████| 108/108 [07:17<00:00,  4.05s/it]"
          ]
        },
        {
          "output_type": "stream",
          "name": "stdout",
          "text": [
            "Epoch 5/5, Train Loss: 0.1621, Train Accuracy: 60.07%, Validation Loss: 0.1951, Validation Accuracy: 59.97\n",
            "Hyperparameters: LR=0.01, Optimizer=RMSprop, Loss=FocalLoss, Batch Size=128, Embedding Dim=300, Test Loss: 0.2000, Test Accuracy: 60.02\n"
          ]
        },
        {
          "output_type": "stream",
          "name": "stderr",
          "text": [
            "\n"
          ]
        }
      ]
    },
    {
      "cell_type": "code",
      "source": [
        "# saving the best BiLSTM model of all the hyperparameter combinations on Google Drive\n",
        "\n",
        "drive_file_path = '/content/drive/MyDrive/Models/best_bilstm_model2.pth'\n",
        "\n",
        "torch.save(best_model, drive_file_path)\n",
        "print(\"Best BiLSTM model saved\")"
      ],
      "metadata": {
        "colab": {
          "base_uri": "https://localhost:8080/"
        },
        "id": "Tp8XPsAdyWqM",
        "outputId": "a05d79f5-8746-4a6b-8cf2-b11b611b84ee"
      },
      "execution_count": null,
      "outputs": [
        {
          "output_type": "stream",
          "name": "stdout",
          "text": [
            "Best BiLSTM model saved\n"
          ]
        }
      ]
    },
    {
      "cell_type": "code",
      "source": [
        "# sorting all the hyperparameter combinations on BiLSTM Model based on 'Test Accuracy', and displaying the top 10 rows\n",
        "\n",
        "bilstm_df = pd.DataFrame(results)\n",
        "bilstm_df = bilstm_df.sort_values(by='Test Accuracy', ascending=False)\n",
        "\n",
        "bilstm_df.head(10)"
      ],
      "metadata": {
        "colab": {
          "base_uri": "https://localhost:8080/",
          "height": 363
        },
        "id": "Csikf5fUaGPW",
        "outputId": "a4f72339-47fc-4af7-d9e4-845e67c90db0"
      },
      "execution_count": null,
      "outputs": [
        {
          "output_type": "execute_result",
          "data": {
            "text/plain": [
              "     Learning Rate Optimizer     Loss Function  Batch Size  Embedding Dim  \\\n",
              "97           0.010   RMSprop  CrossEntropyLoss         128            200   \n",
              "42           0.001   RMSprop  CrossEntropyLoss         128            100   \n",
              "91           0.010   RMSprop  CrossEntropyLoss          32            200   \n",
              "63           0.010      Adam         FocalLoss          32            100   \n",
              "32           0.001       SGD         FocalLoss          64            300   \n",
              "34           0.001       SGD         FocalLoss         128            200   \n",
              "107          0.010   RMSprop         FocalLoss         128            300   \n",
              "35           0.001       SGD         FocalLoss         128            300   \n",
              "29           0.001       SGD         FocalLoss          32            300   \n",
              "72           0.010       SGD  CrossEntropyLoss          32            100   \n",
              "\n",
              "     Test Accuracy  \n",
              "97        0.605612  \n",
              "42        0.604053  \n",
              "91        0.601715  \n",
              "63        0.600935  \n",
              "32        0.600156  \n",
              "34        0.600156  \n",
              "107       0.600156  \n",
              "35        0.599376  \n",
              "29        0.598597  \n",
              "72        0.597818  "
            ],
            "text/html": [
              "\n",
              "  <div id=\"df-4effc2ed-410e-42df-af66-8354b95517a0\" class=\"colab-df-container\">\n",
              "    <div>\n",
              "<style scoped>\n",
              "    .dataframe tbody tr th:only-of-type {\n",
              "        vertical-align: middle;\n",
              "    }\n",
              "\n",
              "    .dataframe tbody tr th {\n",
              "        vertical-align: top;\n",
              "    }\n",
              "\n",
              "    .dataframe thead th {\n",
              "        text-align: right;\n",
              "    }\n",
              "</style>\n",
              "<table border=\"1\" class=\"dataframe\">\n",
              "  <thead>\n",
              "    <tr style=\"text-align: right;\">\n",
              "      <th></th>\n",
              "      <th>Learning Rate</th>\n",
              "      <th>Optimizer</th>\n",
              "      <th>Loss Function</th>\n",
              "      <th>Batch Size</th>\n",
              "      <th>Embedding Dim</th>\n",
              "      <th>Test Accuracy</th>\n",
              "    </tr>\n",
              "  </thead>\n",
              "  <tbody>\n",
              "    <tr>\n",
              "      <th>97</th>\n",
              "      <td>0.010</td>\n",
              "      <td>RMSprop</td>\n",
              "      <td>CrossEntropyLoss</td>\n",
              "      <td>128</td>\n",
              "      <td>200</td>\n",
              "      <td>0.605612</td>\n",
              "    </tr>\n",
              "    <tr>\n",
              "      <th>42</th>\n",
              "      <td>0.001</td>\n",
              "      <td>RMSprop</td>\n",
              "      <td>CrossEntropyLoss</td>\n",
              "      <td>128</td>\n",
              "      <td>100</td>\n",
              "      <td>0.604053</td>\n",
              "    </tr>\n",
              "    <tr>\n",
              "      <th>91</th>\n",
              "      <td>0.010</td>\n",
              "      <td>RMSprop</td>\n",
              "      <td>CrossEntropyLoss</td>\n",
              "      <td>32</td>\n",
              "      <td>200</td>\n",
              "      <td>0.601715</td>\n",
              "    </tr>\n",
              "    <tr>\n",
              "      <th>63</th>\n",
              "      <td>0.010</td>\n",
              "      <td>Adam</td>\n",
              "      <td>FocalLoss</td>\n",
              "      <td>32</td>\n",
              "      <td>100</td>\n",
              "      <td>0.600935</td>\n",
              "    </tr>\n",
              "    <tr>\n",
              "      <th>32</th>\n",
              "      <td>0.001</td>\n",
              "      <td>SGD</td>\n",
              "      <td>FocalLoss</td>\n",
              "      <td>64</td>\n",
              "      <td>300</td>\n",
              "      <td>0.600156</td>\n",
              "    </tr>\n",
              "    <tr>\n",
              "      <th>34</th>\n",
              "      <td>0.001</td>\n",
              "      <td>SGD</td>\n",
              "      <td>FocalLoss</td>\n",
              "      <td>128</td>\n",
              "      <td>200</td>\n",
              "      <td>0.600156</td>\n",
              "    </tr>\n",
              "    <tr>\n",
              "      <th>107</th>\n",
              "      <td>0.010</td>\n",
              "      <td>RMSprop</td>\n",
              "      <td>FocalLoss</td>\n",
              "      <td>128</td>\n",
              "      <td>300</td>\n",
              "      <td>0.600156</td>\n",
              "    </tr>\n",
              "    <tr>\n",
              "      <th>35</th>\n",
              "      <td>0.001</td>\n",
              "      <td>SGD</td>\n",
              "      <td>FocalLoss</td>\n",
              "      <td>128</td>\n",
              "      <td>300</td>\n",
              "      <td>0.599376</td>\n",
              "    </tr>\n",
              "    <tr>\n",
              "      <th>29</th>\n",
              "      <td>0.001</td>\n",
              "      <td>SGD</td>\n",
              "      <td>FocalLoss</td>\n",
              "      <td>32</td>\n",
              "      <td>300</td>\n",
              "      <td>0.598597</td>\n",
              "    </tr>\n",
              "    <tr>\n",
              "      <th>72</th>\n",
              "      <td>0.010</td>\n",
              "      <td>SGD</td>\n",
              "      <td>CrossEntropyLoss</td>\n",
              "      <td>32</td>\n",
              "      <td>100</td>\n",
              "      <td>0.597818</td>\n",
              "    </tr>\n",
              "  </tbody>\n",
              "</table>\n",
              "</div>\n",
              "    <div class=\"colab-df-buttons\">\n",
              "\n",
              "  <div class=\"colab-df-container\">\n",
              "    <button class=\"colab-df-convert\" onclick=\"convertToInteractive('df-4effc2ed-410e-42df-af66-8354b95517a0')\"\n",
              "            title=\"Convert this dataframe to an interactive table.\"\n",
              "            style=\"display:none;\">\n",
              "\n",
              "  <svg xmlns=\"http://www.w3.org/2000/svg\" height=\"24px\" viewBox=\"0 -960 960 960\">\n",
              "    <path d=\"M120-120v-720h720v720H120Zm60-500h600v-160H180v160Zm220 220h160v-160H400v160Zm0 220h160v-160H400v160ZM180-400h160v-160H180v160Zm440 0h160v-160H620v160ZM180-180h160v-160H180v160Zm440 0h160v-160H620v160Z\"/>\n",
              "  </svg>\n",
              "    </button>\n",
              "\n",
              "  <style>\n",
              "    .colab-df-container {\n",
              "      display:flex;\n",
              "      gap: 12px;\n",
              "    }\n",
              "\n",
              "    .colab-df-convert {\n",
              "      background-color: #E8F0FE;\n",
              "      border: none;\n",
              "      border-radius: 50%;\n",
              "      cursor: pointer;\n",
              "      display: none;\n",
              "      fill: #1967D2;\n",
              "      height: 32px;\n",
              "      padding: 0 0 0 0;\n",
              "      width: 32px;\n",
              "    }\n",
              "\n",
              "    .colab-df-convert:hover {\n",
              "      background-color: #E2EBFA;\n",
              "      box-shadow: 0px 1px 2px rgba(60, 64, 67, 0.3), 0px 1px 3px 1px rgba(60, 64, 67, 0.15);\n",
              "      fill: #174EA6;\n",
              "    }\n",
              "\n",
              "    .colab-df-buttons div {\n",
              "      margin-bottom: 4px;\n",
              "    }\n",
              "\n",
              "    [theme=dark] .colab-df-convert {\n",
              "      background-color: #3B4455;\n",
              "      fill: #D2E3FC;\n",
              "    }\n",
              "\n",
              "    [theme=dark] .colab-df-convert:hover {\n",
              "      background-color: #434B5C;\n",
              "      box-shadow: 0px 1px 3px 1px rgba(0, 0, 0, 0.15);\n",
              "      filter: drop-shadow(0px 1px 2px rgba(0, 0, 0, 0.3));\n",
              "      fill: #FFFFFF;\n",
              "    }\n",
              "  </style>\n",
              "\n",
              "    <script>\n",
              "      const buttonEl =\n",
              "        document.querySelector('#df-4effc2ed-410e-42df-af66-8354b95517a0 button.colab-df-convert');\n",
              "      buttonEl.style.display =\n",
              "        google.colab.kernel.accessAllowed ? 'block' : 'none';\n",
              "\n",
              "      async function convertToInteractive(key) {\n",
              "        const element = document.querySelector('#df-4effc2ed-410e-42df-af66-8354b95517a0');\n",
              "        const dataTable =\n",
              "          await google.colab.kernel.invokeFunction('convertToInteractive',\n",
              "                                                    [key], {});\n",
              "        if (!dataTable) return;\n",
              "\n",
              "        const docLinkHtml = 'Like what you see? Visit the ' +\n",
              "          '<a target=\"_blank\" href=https://colab.research.google.com/notebooks/data_table.ipynb>data table notebook</a>'\n",
              "          + ' to learn more about interactive tables.';\n",
              "        element.innerHTML = '';\n",
              "        dataTable['output_type'] = 'display_data';\n",
              "        await google.colab.output.renderOutput(dataTable, element);\n",
              "        const docLink = document.createElement('div');\n",
              "        docLink.innerHTML = docLinkHtml;\n",
              "        element.appendChild(docLink);\n",
              "      }\n",
              "    </script>\n",
              "  </div>\n",
              "\n",
              "\n",
              "<div id=\"df-ae7e04e8-4da0-469a-8a10-eebf43ad7165\">\n",
              "  <button class=\"colab-df-quickchart\" onclick=\"quickchart('df-ae7e04e8-4da0-469a-8a10-eebf43ad7165')\"\n",
              "            title=\"Suggest charts\"\n",
              "            style=\"display:none;\">\n",
              "\n",
              "<svg xmlns=\"http://www.w3.org/2000/svg\" height=\"24px\"viewBox=\"0 0 24 24\"\n",
              "     width=\"24px\">\n",
              "    <g>\n",
              "        <path d=\"M19 3H5c-1.1 0-2 .9-2 2v14c0 1.1.9 2 2 2h14c1.1 0 2-.9 2-2V5c0-1.1-.9-2-2-2zM9 17H7v-7h2v7zm4 0h-2V7h2v10zm4 0h-2v-4h2v4z\"/>\n",
              "    </g>\n",
              "</svg>\n",
              "  </button>\n",
              "\n",
              "<style>\n",
              "  .colab-df-quickchart {\n",
              "      --bg-color: #E8F0FE;\n",
              "      --fill-color: #1967D2;\n",
              "      --hover-bg-color: #E2EBFA;\n",
              "      --hover-fill-color: #174EA6;\n",
              "      --disabled-fill-color: #AAA;\n",
              "      --disabled-bg-color: #DDD;\n",
              "  }\n",
              "\n",
              "  [theme=dark] .colab-df-quickchart {\n",
              "      --bg-color: #3B4455;\n",
              "      --fill-color: #D2E3FC;\n",
              "      --hover-bg-color: #434B5C;\n",
              "      --hover-fill-color: #FFFFFF;\n",
              "      --disabled-bg-color: #3B4455;\n",
              "      --disabled-fill-color: #666;\n",
              "  }\n",
              "\n",
              "  .colab-df-quickchart {\n",
              "    background-color: var(--bg-color);\n",
              "    border: none;\n",
              "    border-radius: 50%;\n",
              "    cursor: pointer;\n",
              "    display: none;\n",
              "    fill: var(--fill-color);\n",
              "    height: 32px;\n",
              "    padding: 0;\n",
              "    width: 32px;\n",
              "  }\n",
              "\n",
              "  .colab-df-quickchart:hover {\n",
              "    background-color: var(--hover-bg-color);\n",
              "    box-shadow: 0 1px 2px rgba(60, 64, 67, 0.3), 0 1px 3px 1px rgba(60, 64, 67, 0.15);\n",
              "    fill: var(--button-hover-fill-color);\n",
              "  }\n",
              "\n",
              "  .colab-df-quickchart-complete:disabled,\n",
              "  .colab-df-quickchart-complete:disabled:hover {\n",
              "    background-color: var(--disabled-bg-color);\n",
              "    fill: var(--disabled-fill-color);\n",
              "    box-shadow: none;\n",
              "  }\n",
              "\n",
              "  .colab-df-spinner {\n",
              "    border: 2px solid var(--fill-color);\n",
              "    border-color: transparent;\n",
              "    border-bottom-color: var(--fill-color);\n",
              "    animation:\n",
              "      spin 1s steps(1) infinite;\n",
              "  }\n",
              "\n",
              "  @keyframes spin {\n",
              "    0% {\n",
              "      border-color: transparent;\n",
              "      border-bottom-color: var(--fill-color);\n",
              "      border-left-color: var(--fill-color);\n",
              "    }\n",
              "    20% {\n",
              "      border-color: transparent;\n",
              "      border-left-color: var(--fill-color);\n",
              "      border-top-color: var(--fill-color);\n",
              "    }\n",
              "    30% {\n",
              "      border-color: transparent;\n",
              "      border-left-color: var(--fill-color);\n",
              "      border-top-color: var(--fill-color);\n",
              "      border-right-color: var(--fill-color);\n",
              "    }\n",
              "    40% {\n",
              "      border-color: transparent;\n",
              "      border-right-color: var(--fill-color);\n",
              "      border-top-color: var(--fill-color);\n",
              "    }\n",
              "    60% {\n",
              "      border-color: transparent;\n",
              "      border-right-color: var(--fill-color);\n",
              "    }\n",
              "    80% {\n",
              "      border-color: transparent;\n",
              "      border-right-color: var(--fill-color);\n",
              "      border-bottom-color: var(--fill-color);\n",
              "    }\n",
              "    90% {\n",
              "      border-color: transparent;\n",
              "      border-bottom-color: var(--fill-color);\n",
              "    }\n",
              "  }\n",
              "</style>\n",
              "\n",
              "  <script>\n",
              "    async function quickchart(key) {\n",
              "      const quickchartButtonEl =\n",
              "        document.querySelector('#' + key + ' button');\n",
              "      quickchartButtonEl.disabled = true;  // To prevent multiple clicks.\n",
              "      quickchartButtonEl.classList.add('colab-df-spinner');\n",
              "      try {\n",
              "        const charts = await google.colab.kernel.invokeFunction(\n",
              "            'suggestCharts', [key], {});\n",
              "      } catch (error) {\n",
              "        console.error('Error during call to suggestCharts:', error);\n",
              "      }\n",
              "      quickchartButtonEl.classList.remove('colab-df-spinner');\n",
              "      quickchartButtonEl.classList.add('colab-df-quickchart-complete');\n",
              "    }\n",
              "    (() => {\n",
              "      let quickchartButtonEl =\n",
              "        document.querySelector('#df-ae7e04e8-4da0-469a-8a10-eebf43ad7165 button');\n",
              "      quickchartButtonEl.style.display =\n",
              "        google.colab.kernel.accessAllowed ? 'block' : 'none';\n",
              "    })();\n",
              "  </script>\n",
              "</div>\n",
              "    </div>\n",
              "  </div>\n"
            ]
          },
          "metadata": {},
          "execution_count": 22
        }
      ]
    },
    {
      "cell_type": "code",
      "source": [],
      "metadata": {
        "id": "soOUgj8e3Prb"
      },
      "execution_count": null,
      "outputs": []
    },
    {
      "cell_type": "markdown",
      "source": [
        "# HybridCNN Model"
      ],
      "metadata": {
        "id": "4m8gikEMZshh"
      }
    },
    {
      "cell_type": "code",
      "source": [
        "class HybridCNN(nn.Module):\n",
        "    def __init__(self, vocab_size, embedding_dim, num_filters, filter_sizes, hidden_size, dropout, output_dim):\n",
        "        super(HybridCNN, self).__init__()\n",
        "\n",
        "        self.embedding = nn.Embedding(vocab_size, embedding_dim)\n",
        "        self.conv_layers = nn.ModuleList([nn.Conv1d(in_channels=embedding_dim, out_channels=num_filters, kernel_size=size) for size in filter_sizes])\n",
        "        self.lstm = nn.LSTM(input_size=num_filters * len(filter_sizes), hidden_size=hidden_size, batch_first=True, dropout=dropout)\n",
        "        self.fc = nn.Linear(hidden_size, output_dim)\n",
        "        self.dropout = nn.Dropout(dropout)\n",
        "\n",
        "    def forward(self, x):\n",
        "        x = self.embedding(x)\n",
        "        x = x.permute(0, 2, 1)\n",
        "        x = [F.relu(conv(x)) for conv in self.conv_layers]\n",
        "        x = [F.max_pool1d(conv, conv.shape[2]).squeeze(2) for conv in x]\n",
        "        x = torch.cat(x, dim=1)\n",
        "        x, unkonown = self.lstm(x.unsqueeze(1))\n",
        "        x = x[:, -1, :]\n",
        "        x = self.fc(x)\n",
        "        x = self.dropout(x)\n",
        "\n",
        "        return x\n",
        "\n",
        "# Define hyperparameters for the model where some of them can be changed later\n",
        "vocab_size = len(Vocab)\n",
        "embedding_dim = 200\n",
        "output_dim = 2\n",
        "num_filters = 100\n",
        "filter_sizes = [2, 3, 4]\n",
        "hidden_size = 128\n",
        "dropout = 0.5\n",
        "\n",
        "# Define Model and print the architecture of the model\n",
        "model = HybridCNN(vocab_size, embedding_dim, num_filters, filter_sizes, hidden_size, dropout, output_dim)\n",
        "print(model)"
      ],
      "metadata": {
        "id": "c_4OyhmsZqzY",
        "colab": {
          "base_uri": "https://localhost:8080/"
        },
        "outputId": "2124f6e5-5b9d-4e94-d3c5-81064e4cd036"
      },
      "execution_count": 26,
      "outputs": [
        {
          "output_type": "stream",
          "name": "stdout",
          "text": [
            "HybridCNN(\n",
            "  (embedding): Embedding(14286, 200)\n",
            "  (conv_layers): ModuleList(\n",
            "    (0): Conv1d(200, 100, kernel_size=(2,), stride=(1,))\n",
            "    (1): Conv1d(200, 100, kernel_size=(3,), stride=(1,))\n",
            "    (2): Conv1d(200, 100, kernel_size=(4,), stride=(1,))\n",
            "  )\n",
            "  (lstm): LSTM(300, 128, batch_first=True, dropout=0.5)\n",
            "  (fc): Linear(in_features=128, out_features=2, bias=True)\n",
            "  (dropout): Dropout(p=0.5, inplace=False)\n",
            ")\n"
          ]
        }
      ]
    },
    {
      "cell_type": "code",
      "source": [
        "device = torch.device(\"cuda\" if torch.cuda.is_available() else \"cpu\")\n",
        "\n",
        "# Training each model on these cobination of hyperparameters\n",
        "learning_rates = [0.001, 0.01]\n",
        "optimizers = ['Adam', 'SGD', 'RMSprop']\n",
        "loss_functions = [nn.CrossEntropyLoss(), FocalLoss(gamma=2)]\n",
        "batch_sizes = [32, 64, 128]\n",
        "embedding_dims = [100, 200, 300]\n",
        "\n",
        "combinations = list(itertools.product(learning_rates, optimizers, loss_functions, batch_sizes, embedding_dims))\n",
        "\n",
        "results = []\n",
        "best_accuracy = 0.0\n",
        "best_hyperparameters = None\n",
        "best_model = None\n",
        "\n",
        "for combination in tqdm(combinations):\n",
        "    learning_rate, optimizer_name, loss_fn, batch_size, embedding_dim = combination\n",
        "\n",
        "    # create a model for each of the hyperparameter combination, train and evaluate on test data\n",
        "    model = HybridCNN(vocab_size, embedding_dim, num_filters, filter_sizes, hidden_size, dropout, output_dim)\n",
        "    model.to(device)\n",
        "\n",
        "    # set the optimizer and loss function\n",
        "    optimizer = get_optimizer(optimizer_name, model.parameters(), learning_rate)\n",
        "    criterion = loss_fn\n",
        "\n",
        "    # Loaders are used to efficiently iterate over the datasets in batches during the training and evaluation processes\n",
        "    train_loader = DataLoader(train_dataset, batch_size=batch_size, shuffle=True)\n",
        "    val_loader = DataLoader(val_dataset, batch_size=batch_size, shuffle=False)\n",
        "    test_loader = DataLoader(test_dataset, batch_size=batch_size, shuffle=False)\n",
        "\n",
        "    num_epochs = 5\n",
        "    for epoch in range(num_epochs):\n",
        "        model.train()\n",
        "        training_loss = 0.0\n",
        "        training_corrects = 0\n",
        "        training_count = 0\n",
        "\n",
        "        # Model Training\n",
        "        for i, data in enumerate(train_loader, 0):\n",
        "            inputs, labels = data\n",
        "            inputs, labels = inputs.to(device), labels.to(device)\n",
        "            # print(inputs)\n",
        "            # print(labels)\n",
        "\n",
        "            optimizer.zero_grad()\n",
        "            outputs = model(inputs)\n",
        "            # print(outputs)\n",
        "\n",
        "            loss = criterion(outputs, labels)\n",
        "            loss.backward()\n",
        "            training_loss += loss.item()\n",
        "\n",
        "            optimizer.step()\n",
        "\n",
        "            x, preds = torch.max(outputs.data, 1)\n",
        "            # print(preds)\n",
        "\n",
        "            training_count += labels.size(0)\n",
        "            training_corrects += torch.sum(preds == labels).item()\n",
        "\n",
        "        # calculate the average loss and accuracy for the each training epoch\n",
        "        train_epoch_loss = training_loss / len(train_loader)\n",
        "        train_epoch_accuracy = training_corrects / training_count\n",
        "\n",
        "\n",
        "\n",
        "        # Model Validation on data that it hasn't seen during training and adjust hyperparameters\n",
        "        model.eval()\n",
        "        validation_loss = 0.0\n",
        "        validation_corrects = 0\n",
        "        validation_count = 0\n",
        "\n",
        "        with torch.no_grad():\n",
        "            for i, data in enumerate(val_loader, 0):\n",
        "                inputs, labels = data\n",
        "                inputs, labels = inputs.to(device), labels.to(device)\n",
        "                outputs = model(inputs)\n",
        "                # print(inputs)\n",
        "                # print(labels)\n",
        "                # print(outputs)\n",
        "\n",
        "                loss = criterion(outputs, labels)\n",
        "                validation_loss += loss.item()\n",
        "\n",
        "                x, preds = torch.max(outputs.data, 1)\n",
        "                # print(preds)\n",
        "\n",
        "                validation_count += labels.size(0)\n",
        "                validation_corrects += torch.sum(preds == labels).item()\n",
        "\n",
        "        # calculate the average loss and accuracy for the each validation epoch\n",
        "        val_epoch_loss = validation_loss / len(val_loader)\n",
        "        val_epoch_accuracy = validation_corrects / validation_count\n",
        "\n",
        "        print(f\"Epoch {epoch + 1}/{num_epochs}, \"\n",
        "              f\"Train Loss: {train_epoch_loss:.4f}, Train Accuracy: {train_epoch_accuracy * 100:.2f}%, \"\n",
        "              f\"Validation Loss: {val_epoch_loss:.4f}, Validation Accuracy: {val_epoch_accuracy * 100:.2f}\")\n",
        "\n",
        "\n",
        "\n",
        "    # Testing the accuracy of the model on test data\n",
        "    test_loss = 0.0\n",
        "    test_corrects = 0\n",
        "    test_count = 0\n",
        "    with torch.no_grad():\n",
        "        for i, data in enumerate(test_loader, 0):\n",
        "            inputs, labels = data\n",
        "            inputs, labels = inputs.to(device), labels.to(device)\n",
        "            outputs = model(inputs)\n",
        "            # print(inputs)\n",
        "            # print(labels)\n",
        "            # print(outputs)\n",
        "\n",
        "            loss = criterion(outputs, labels)\n",
        "            test_loss += loss.item()\n",
        "\n",
        "            x, preds = torch.max(outputs.data, 1)\n",
        "            # print(preds)\n",
        "\n",
        "            test_count += labels.size(0)\n",
        "            test_corrects += torch.sum(preds == labels).item()\n",
        "\n",
        "    # calculate the average test_loss and test_accuracy on the training data\n",
        "    average_test_loss = test_loss / len(test_loader)\n",
        "    average_test_accuracy = test_corrects / test_count\n",
        "\n",
        "    result = {\n",
        "        'Learning Rate': learning_rate,\n",
        "        'Optimizer': optimizer_name,\n",
        "        'Loss Function': loss_fn.__class__.__name__,\n",
        "        'Batch Size': batch_size,\n",
        "        'Embedding Dim': embedding_dim,\n",
        "        'Test Accuracy': average_test_accuracy\n",
        "    }\n",
        "    results.append(result)\n",
        "    # Add each hyperparameter combination with the test accuracy tp results list for later analysis\n",
        "\n",
        "    print(f\"Hyperparameters: LR={learning_rate}, Optimizer={optimizer_name}, Loss={loss_fn.__class__.__name__}, \"\n",
        "          f\"Batch Size={batch_size}, Embedding Dim={embedding_dim}, \"\n",
        "          f\"Test Loss: {average_test_loss:.4f}, Test Accuracy: {average_test_accuracy * 100:.2f}\")\n",
        "\n",
        "    # The best-performing model and its associated hyperparameters are stored for later analysis\n",
        "    if average_test_accuracy > best_accuracy:\n",
        "        best_accuracy = average_test_accuracy\n",
        "        best_hyperparameters = combination\n",
        "        best_model = model.state_dict()\n",
        "\n"
      ],
      "metadata": {
        "colab": {
          "base_uri": "https://localhost:8080/"
        },
        "id": "MAXMpxRhMlNY",
        "outputId": "734773f5-6bbe-4ef7-a88d-05cb488f3422"
      },
      "execution_count": null,
      "outputs": [
        {
          "output_type": "stream",
          "name": "stderr",
          "text": [
            "\r  0%|          | 0/108 [00:00<?, ?it/s]"
          ]
        },
        {
          "output_type": "stream",
          "name": "stdout",
          "text": [
            "Epoch 1/5, Train Loss: 0.6832, Train Accuracy: 54.20%, Validation Loss: 0.6734, Validation Accuracy: 60.20\n",
            "Epoch 2/5, Train Loss: 0.6791, Train Accuracy: 54.58%, Validation Loss: 0.6715, Validation Accuracy: 60.12\n",
            "Epoch 3/5, Train Loss: 0.6677, Train Accuracy: 56.35%, Validation Loss: 0.6875, Validation Accuracy: 54.21\n",
            "Epoch 4/5, Train Loss: 0.6292, Train Accuracy: 61.27%, Validation Loss: 0.6810, Validation Accuracy: 57.55\n"
          ]
        },
        {
          "output_type": "stream",
          "name": "stderr",
          "text": [
            "\r  1%|          | 1/108 [00:11<20:30, 11.50s/it]"
          ]
        },
        {
          "output_type": "stream",
          "name": "stdout",
          "text": [
            "Epoch 5/5, Train Loss: 0.5331, Train Accuracy: 69.40%, Validation Loss: 0.7049, Validation Accuracy: 56.85\n",
            "Hyperparameters: LR=0.001, Optimizer=Adam, Loss=CrossEntropyLoss, Batch Size=32, Embedding Dim=100, Test Loss: 0.7081, Test Accuracy: 57.83\n",
            "Epoch 1/5, Train Loss: 0.6793, Train Accuracy: 55.71%, Validation Loss: 0.6706, Validation Accuracy: 60.20\n",
            "Epoch 2/5, Train Loss: 0.6740, Train Accuracy: 55.06%, Validation Loss: 0.6714, Validation Accuracy: 60.20\n",
            "Epoch 3/5, Train Loss: 0.6572, Train Accuracy: 57.27%, Validation Loss: 0.6713, Validation Accuracy: 57.24\n",
            "Epoch 4/5, Train Loss: 0.6090, Train Accuracy: 63.40%, Validation Loss: 0.6893, Validation Accuracy: 56.31\n"
          ]
        },
        {
          "output_type": "stream",
          "name": "stderr",
          "text": [
            "\r  2%|▏         | 2/108 [00:20<17:17,  9.79s/it]"
          ]
        },
        {
          "output_type": "stream",
          "name": "stdout",
          "text": [
            "Epoch 5/5, Train Loss: 0.5054, Train Accuracy: 71.52%, Validation Loss: 0.7350, Validation Accuracy: 52.80\n",
            "Hyperparameters: LR=0.001, Optimizer=Adam, Loss=CrossEntropyLoss, Batch Size=32, Embedding Dim=200, Test Loss: 0.7482, Test Accuracy: 49.88\n",
            "Epoch 1/5, Train Loss: 0.6813, Train Accuracy: 55.02%, Validation Loss: 0.6714, Validation Accuracy: 60.20\n",
            "Epoch 2/5, Train Loss: 0.6790, Train Accuracy: 54.28%, Validation Loss: 0.6736, Validation Accuracy: 60.20\n",
            "Epoch 3/5, Train Loss: 0.6683, Train Accuracy: 56.33%, Validation Loss: 0.6744, Validation Accuracy: 60.36\n",
            "Epoch 4/5, Train Loss: 0.6408, Train Accuracy: 60.06%, Validation Loss: 0.6727, Validation Accuracy: 60.90\n"
          ]
        },
        {
          "output_type": "stream",
          "name": "stderr",
          "text": [
            "\r  3%|▎         | 3/108 [00:31<18:38, 10.66s/it]"
          ]
        },
        {
          "output_type": "stream",
          "name": "stdout",
          "text": [
            "Epoch 5/5, Train Loss: 0.5621, Train Accuracy: 67.41%, Validation Loss: 0.7095, Validation Accuracy: 57.48\n",
            "Hyperparameters: LR=0.001, Optimizer=Adam, Loss=CrossEntropyLoss, Batch Size=32, Embedding Dim=300, Test Loss: 0.6866, Test Accuracy: 59.16\n",
            "Epoch 1/5, Train Loss: 0.6810, Train Accuracy: 55.01%, Validation Loss: 0.6719, Validation Accuracy: 60.20\n",
            "Epoch 2/5, Train Loss: 0.6737, Train Accuracy: 55.72%, Validation Loss: 0.6725, Validation Accuracy: 60.51\n",
            "Epoch 3/5, Train Loss: 0.6603, Train Accuracy: 57.16%, Validation Loss: 0.6909, Validation Accuracy: 54.52\n",
            "Epoch 4/5, Train Loss: 0.5948, Train Accuracy: 65.13%, Validation Loss: 0.7004, Validation Accuracy: 57.40\n"
          ]
        },
        {
          "output_type": "stream",
          "name": "stderr",
          "text": [
            "\r  4%|▎         | 4/108 [00:36<14:05,  8.13s/it]"
          ]
        },
        {
          "output_type": "stream",
          "name": "stdout",
          "text": [
            "Epoch 5/5, Train Loss: 0.4860, Train Accuracy: 72.33%, Validation Loss: 0.8755, Validation Accuracy: 47.27\n",
            "Hyperparameters: LR=0.001, Optimizer=Adam, Loss=CrossEntropyLoss, Batch Size=64, Embedding Dim=100, Test Loss: 0.8185, Test Accuracy: 50.74\n",
            "Epoch 1/5, Train Loss: 0.6819, Train Accuracy: 54.83%, Validation Loss: 0.6707, Validation Accuracy: 60.20\n",
            "Epoch 2/5, Train Loss: 0.6758, Train Accuracy: 54.89%, Validation Loss: 0.6697, Validation Accuracy: 60.12\n",
            "Epoch 3/5, Train Loss: 0.6589, Train Accuracy: 57.76%, Validation Loss: 0.6936, Validation Accuracy: 50.78\n",
            "Epoch 4/5, Train Loss: 0.5922, Train Accuracy: 64.88%, Validation Loss: 0.7331, Validation Accuracy: 51.71\n"
          ]
        },
        {
          "output_type": "stream",
          "name": "stderr",
          "text": [
            "\r  5%|▍         | 5/108 [00:41<12:15,  7.14s/it]"
          ]
        },
        {
          "output_type": "stream",
          "name": "stdout",
          "text": [
            "Epoch 5/5, Train Loss: 0.4743, Train Accuracy: 73.28%, Validation Loss: 0.7683, Validation Accuracy: 56.00\n",
            "Hyperparameters: LR=0.001, Optimizer=Adam, Loss=CrossEntropyLoss, Batch Size=64, Embedding Dim=200, Test Loss: 0.7830, Test Accuracy: 56.82\n",
            "Epoch 1/5, Train Loss: 0.6821, Train Accuracy: 54.53%, Validation Loss: 0.6719, Validation Accuracy: 60.05\n",
            "Epoch 2/5, Train Loss: 0.6734, Train Accuracy: 55.75%, Validation Loss: 0.6763, Validation Accuracy: 59.66\n",
            "Epoch 3/5, Train Loss: 0.6545, Train Accuracy: 57.93%, Validation Loss: 0.6664, Validation Accuracy: 59.27\n",
            "Epoch 4/5, Train Loss: 0.5890, Train Accuracy: 64.97%, Validation Loss: 0.6847, Validation Accuracy: 58.02\n"
          ]
        },
        {
          "output_type": "stream",
          "name": "stderr",
          "text": [
            "\r  6%|▌         | 6/108 [00:48<11:54,  7.00s/it]"
          ]
        },
        {
          "output_type": "stream",
          "name": "stdout",
          "text": [
            "Epoch 5/5, Train Loss: 0.4902, Train Accuracy: 72.14%, Validation Loss: 0.7588, Validation Accuracy: 55.76\n",
            "Hyperparameters: LR=0.001, Optimizer=Adam, Loss=CrossEntropyLoss, Batch Size=64, Embedding Dim=300, Test Loss: 0.7738, Test Accuracy: 53.62\n",
            "Epoch 1/5, Train Loss: 0.6827, Train Accuracy: 54.60%, Validation Loss: 0.6695, Validation Accuracy: 60.20\n",
            "Epoch 2/5, Train Loss: 0.6766, Train Accuracy: 55.41%, Validation Loss: 0.6686, Validation Accuracy: 60.20\n",
            "Epoch 3/5, Train Loss: 0.6583, Train Accuracy: 57.53%, Validation Loss: 0.6797, Validation Accuracy: 54.05\n",
            "Epoch 4/5, Train Loss: 0.6019, Train Accuracy: 63.44%, Validation Loss: 0.6814, Validation Accuracy: 58.18\n"
          ]
        },
        {
          "output_type": "stream",
          "name": "stderr",
          "text": [
            "\r  6%|▋         | 7/108 [00:57<13:00,  7.73s/it]"
          ]
        },
        {
          "output_type": "stream",
          "name": "stdout",
          "text": [
            "Epoch 5/5, Train Loss: 0.4978, Train Accuracy: 71.90%, Validation Loss: 0.7143, Validation Accuracy: 57.01\n",
            "Hyperparameters: LR=0.001, Optimizer=Adam, Loss=CrossEntropyLoss, Batch Size=128, Embedding Dim=100, Test Loss: 0.7590, Test Accuracy: 54.09\n",
            "Epoch 1/5, Train Loss: 0.6829, Train Accuracy: 54.56%, Validation Loss: 0.6709, Validation Accuracy: 60.20\n",
            "Epoch 2/5, Train Loss: 0.6762, Train Accuracy: 54.42%, Validation Loss: 0.6686, Validation Accuracy: 60.05\n",
            "Epoch 3/5, Train Loss: 0.6599, Train Accuracy: 57.06%, Validation Loss: 0.6648, Validation Accuracy: 60.44\n",
            "Epoch 4/5, Train Loss: 0.6065, Train Accuracy: 63.36%, Validation Loss: 0.6843, Validation Accuracy: 57.17\n"
          ]
        },
        {
          "output_type": "stream",
          "name": "stderr",
          "text": [
            "\r  7%|▋         | 8/108 [01:01<10:58,  6.59s/it]"
          ]
        },
        {
          "output_type": "stream",
          "name": "stdout",
          "text": [
            "Epoch 5/5, Train Loss: 0.4895, Train Accuracy: 72.21%, Validation Loss: 0.7676, Validation Accuracy: 59.58\n",
            "Hyperparameters: LR=0.001, Optimizer=Adam, Loss=CrossEntropyLoss, Batch Size=128, Embedding Dim=200, Test Loss: 0.8199, Test Accuracy: 58.85\n",
            "Epoch 1/5, Train Loss: 0.6832, Train Accuracy: 54.37%, Validation Loss: 0.6757, Validation Accuracy: 60.20\n",
            "Epoch 2/5, Train Loss: 0.6718, Train Accuracy: 55.67%, Validation Loss: 0.6643, Validation Accuracy: 59.03\n",
            "Epoch 3/5, Train Loss: 0.6463, Train Accuracy: 59.26%, Validation Loss: 0.6681, Validation Accuracy: 57.40\n",
            "Epoch 4/5, Train Loss: 0.5791, Train Accuracy: 65.71%, Validation Loss: 0.6867, Validation Accuracy: 58.80\n"
          ]
        },
        {
          "output_type": "stream",
          "name": "stderr",
          "text": [
            "\r  8%|▊         | 9/108 [01:06<09:57,  6.04s/it]"
          ]
        },
        {
          "output_type": "stream",
          "name": "stdout",
          "text": [
            "Epoch 5/5, Train Loss: 0.4669, Train Accuracy: 73.25%, Validation Loss: 0.7891, Validation Accuracy: 50.08\n",
            "Hyperparameters: LR=0.001, Optimizer=Adam, Loss=CrossEntropyLoss, Batch Size=128, Embedding Dim=300, Test Loss: 0.8185, Test Accuracy: 51.29\n",
            "Epoch 1/5, Train Loss: 0.1674, Train Accuracy: 54.46%, Validation Loss: 0.1611, Validation Accuracy: 60.20\n",
            "Epoch 2/5, Train Loss: 0.1628, Train Accuracy: 55.35%, Validation Loss: 0.1607, Validation Accuracy: 59.66\n",
            "Epoch 3/5, Train Loss: 0.1502, Train Accuracy: 58.08%, Validation Loss: 0.1665, Validation Accuracy: 55.14\n",
            "Epoch 4/5, Train Loss: 0.1148, Train Accuracy: 66.32%, Validation Loss: 0.2032, Validation Accuracy: 48.83\n"
          ]
        },
        {
          "output_type": "stream",
          "name": "stderr",
          "text": [
            "\r  9%|▉         | 10/108 [01:14<10:56,  6.70s/it]"
          ]
        },
        {
          "output_type": "stream",
          "name": "stdout",
          "text": [
            "Epoch 5/5, Train Loss: 0.0664, Train Accuracy: 74.22%, Validation Loss: 0.2093, Validation Accuracy: 55.84\n",
            "Hyperparameters: LR=0.001, Optimizer=Adam, Loss=FocalLoss, Batch Size=32, Embedding Dim=100, Test Loss: 0.2285, Test Accuracy: 53.08\n",
            "Epoch 1/5, Train Loss: 0.1679, Train Accuracy: 54.31%, Validation Loss: 0.1618, Validation Accuracy: 60.20\n",
            "Epoch 2/5, Train Loss: 0.1652, Train Accuracy: 54.62%, Validation Loss: 0.1642, Validation Accuracy: 60.12\n",
            "Epoch 3/5, Train Loss: 0.1592, Train Accuracy: 55.73%, Validation Loss: 0.1597, Validation Accuracy: 59.58\n",
            "Epoch 4/5, Train Loss: 0.1377, Train Accuracy: 61.83%, Validation Loss: 0.1687, Validation Accuracy: 59.97\n"
          ]
        },
        {
          "output_type": "stream",
          "name": "stderr",
          "text": [
            "\r 10%|█         | 11/108 [01:23<12:09,  7.52s/it]"
          ]
        },
        {
          "output_type": "stream",
          "name": "stdout",
          "text": [
            "Epoch 5/5, Train Loss: 0.0965, Train Accuracy: 69.61%, Validation Loss: 0.1946, Validation Accuracy: 56.93\n",
            "Hyperparameters: LR=0.001, Optimizer=Adam, Loss=FocalLoss, Batch Size=32, Embedding Dim=200, Test Loss: 0.1902, Test Accuracy: 56.27\n",
            "Epoch 1/5, Train Loss: 0.1667, Train Accuracy: 55.06%, Validation Loss: 0.1626, Validation Accuracy: 60.20\n",
            "Epoch 2/5, Train Loss: 0.1641, Train Accuracy: 54.90%, Validation Loss: 0.1633, Validation Accuracy: 60.20\n",
            "Epoch 3/5, Train Loss: 0.1573, Train Accuracy: 56.25%, Validation Loss: 0.1598, Validation Accuracy: 60.28\n",
            "Epoch 4/5, Train Loss: 0.1384, Train Accuracy: 61.35%, Validation Loss: 0.1726, Validation Accuracy: 49.61\n"
          ]
        },
        {
          "output_type": "stream",
          "name": "stderr",
          "text": [
            "\r 11%|█         | 12/108 [01:34<13:30,  8.44s/it]"
          ]
        },
        {
          "output_type": "stream",
          "name": "stdout",
          "text": [
            "Epoch 5/5, Train Loss: 0.0932, Train Accuracy: 69.99%, Validation Loss: 0.2001, Validation Accuracy: 52.10\n",
            "Hyperparameters: LR=0.001, Optimizer=Adam, Loss=FocalLoss, Batch Size=32, Embedding Dim=300, Test Loss: 0.2043, Test Accuracy: 53.00\n",
            "Epoch 1/5, Train Loss: 0.1667, Train Accuracy: 54.65%, Validation Loss: 0.1604, Validation Accuracy: 60.20\n",
            "Epoch 2/5, Train Loss: 0.1637, Train Accuracy: 54.85%, Validation Loss: 0.1621, Validation Accuracy: 59.81\n",
            "Epoch 3/5, Train Loss: 0.1539, Train Accuracy: 57.05%, Validation Loss: 0.1584, Validation Accuracy: 59.89\n",
            "Epoch 4/5, Train Loss: 0.1253, Train Accuracy: 64.15%, Validation Loss: 0.1700, Validation Accuracy: 58.57\n"
          ]
        },
        {
          "output_type": "stream",
          "name": "stderr",
          "text": [
            "\r 12%|█▏        | 13/108 [01:38<11:25,  7.22s/it]"
          ]
        },
        {
          "output_type": "stream",
          "name": "stdout",
          "text": [
            "Epoch 5/5, Train Loss: 0.0797, Train Accuracy: 71.78%, Validation Loss: 0.1921, Validation Accuracy: 53.82\n",
            "Hyperparameters: LR=0.001, Optimizer=Adam, Loss=FocalLoss, Batch Size=64, Embedding Dim=100, Test Loss: 0.2087, Test Accuracy: 53.70\n",
            "Epoch 1/5, Train Loss: 0.1672, Train Accuracy: 54.84%, Validation Loss: 0.1592, Validation Accuracy: 60.20\n",
            "Epoch 2/5, Train Loss: 0.1629, Train Accuracy: 54.84%, Validation Loss: 0.1586, Validation Accuracy: 60.20\n",
            "Epoch 3/5, Train Loss: 0.1538, Train Accuracy: 57.01%, Validation Loss: 0.1646, Validation Accuracy: 56.15\n",
            "Epoch 4/5, Train Loss: 0.1228, Train Accuracy: 64.20%, Validation Loss: 0.1846, Validation Accuracy: 50.55\n"
          ]
        },
        {
          "output_type": "stream",
          "name": "stderr",
          "text": [
            "\r 13%|█▎        | 14/108 [01:44<10:41,  6.83s/it]"
          ]
        },
        {
          "output_type": "stream",
          "name": "stdout",
          "text": [
            "Epoch 5/5, Train Loss: 0.0770, Train Accuracy: 72.51%, Validation Loss: 0.2090, Validation Accuracy: 56.62\n",
            "Hyperparameters: LR=0.001, Optimizer=Adam, Loss=FocalLoss, Batch Size=64, Embedding Dim=200, Test Loss: 0.2229, Test Accuracy: 55.88\n",
            "Epoch 1/5, Train Loss: 0.1674, Train Accuracy: 54.46%, Validation Loss: 0.1626, Validation Accuracy: 60.20\n",
            "Epoch 2/5, Train Loss: 0.1615, Train Accuracy: 54.75%, Validation Loss: 0.1581, Validation Accuracy: 60.20\n",
            "Epoch 3/5, Train Loss: 0.1452, Train Accuracy: 59.32%, Validation Loss: 0.1587, Validation Accuracy: 60.28\n",
            "Epoch 4/5, Train Loss: 0.1065, Train Accuracy: 67.99%, Validation Loss: 0.1736, Validation Accuracy: 56.07\n"
          ]
        },
        {
          "output_type": "stream",
          "name": "stderr",
          "text": [
            "\r 14%|█▍        | 15/108 [01:51<10:33,  6.82s/it]"
          ]
        },
        {
          "output_type": "stream",
          "name": "stdout",
          "text": [
            "Epoch 5/5, Train Loss: 0.0583, Train Accuracy: 75.23%, Validation Loss: 0.2101, Validation Accuracy: 58.80\n",
            "Hyperparameters: LR=0.001, Optimizer=Adam, Loss=FocalLoss, Batch Size=64, Embedding Dim=300, Test Loss: 0.2220, Test Accuracy: 57.83\n",
            "Epoch 1/5, Train Loss: 0.1684, Train Accuracy: 53.73%, Validation Loss: 0.1610, Validation Accuracy: 60.20\n",
            "Epoch 2/5, Train Loss: 0.1650, Train Accuracy: 54.85%, Validation Loss: 0.1610, Validation Accuracy: 59.58\n",
            "Epoch 3/5, Train Loss: 0.1616, Train Accuracy: 55.30%, Validation Loss: 0.1562, Validation Accuracy: 59.89\n",
            "Epoch 4/5, Train Loss: 0.1454, Train Accuracy: 59.38%, Validation Loss: 0.1619, Validation Accuracy: 55.84\n"
          ]
        },
        {
          "output_type": "stream",
          "name": "stderr",
          "text": [
            "\r 15%|█▍        | 16/108 [02:01<11:44,  7.66s/it]"
          ]
        },
        {
          "output_type": "stream",
          "name": "stdout",
          "text": [
            "Epoch 5/5, Train Loss: 0.1070, Train Accuracy: 67.25%, Validation Loss: 0.1721, Validation Accuracy: 58.10\n",
            "Hyperparameters: LR=0.001, Optimizer=Adam, Loss=FocalLoss, Batch Size=128, Embedding Dim=100, Test Loss: 0.1860, Test Accuracy: 57.60\n",
            "Epoch 1/5, Train Loss: 0.1681, Train Accuracy: 54.52%, Validation Loss: 0.1605, Validation Accuracy: 60.20\n",
            "Epoch 2/5, Train Loss: 0.1633, Train Accuracy: 55.01%, Validation Loss: 0.1617, Validation Accuracy: 60.28\n",
            "Epoch 3/5, Train Loss: 0.1499, Train Accuracy: 57.89%, Validation Loss: 0.1585, Validation Accuracy: 60.44\n",
            "Epoch 4/5, Train Loss: 0.1129, Train Accuracy: 66.83%, Validation Loss: 0.1755, Validation Accuracy: 56.07\n"
          ]
        },
        {
          "output_type": "stream",
          "name": "stderr",
          "text": [
            "\r 16%|█▌        | 17/108 [02:05<09:58,  6.57s/it]"
          ]
        },
        {
          "output_type": "stream",
          "name": "stdout",
          "text": [
            "Epoch 5/5, Train Loss: 0.0597, Train Accuracy: 74.99%, Validation Loss: 0.1979, Validation Accuracy: 56.78\n",
            "Hyperparameters: LR=0.001, Optimizer=Adam, Loss=FocalLoss, Batch Size=128, Embedding Dim=200, Test Loss: 0.2345, Test Accuracy: 53.86\n",
            "Epoch 1/5, Train Loss: 0.1691, Train Accuracy: 54.04%, Validation Loss: 0.1620, Validation Accuracy: 60.20\n",
            "Epoch 2/5, Train Loss: 0.1619, Train Accuracy: 55.83%, Validation Loss: 0.1559, Validation Accuracy: 60.12\n",
            "Epoch 3/5, Train Loss: 0.1511, Train Accuracy: 57.69%, Validation Loss: 0.1589, Validation Accuracy: 57.55\n",
            "Epoch 4/5, Train Loss: 0.1124, Train Accuracy: 65.79%, Validation Loss: 0.1627, Validation Accuracy: 58.80\n"
          ]
        },
        {
          "output_type": "stream",
          "name": "stderr",
          "text": [
            "\r 17%|█▋        | 18/108 [02:10<09:07,  6.08s/it]"
          ]
        },
        {
          "output_type": "stream",
          "name": "stdout",
          "text": [
            "Epoch 5/5, Train Loss: 0.0645, Train Accuracy: 74.17%, Validation Loss: 0.1937, Validation Accuracy: 56.00\n",
            "Hyperparameters: LR=0.001, Optimizer=Adam, Loss=FocalLoss, Batch Size=128, Embedding Dim=300, Test Loss: 0.1936, Test Accuracy: 56.04\n",
            "Epoch 1/5, Train Loss: 0.6876, Train Accuracy: 52.41%, Validation Loss: 0.6757, Validation Accuracy: 60.20\n",
            "Epoch 2/5, Train Loss: 0.6792, Train Accuracy: 55.98%, Validation Loss: 0.6732, Validation Accuracy: 60.20\n",
            "Epoch 3/5, Train Loss: 0.6780, Train Accuracy: 55.75%, Validation Loss: 0.6729, Validation Accuracy: 60.20\n",
            "Epoch 4/5, Train Loss: 0.6796, Train Accuracy: 55.41%, Validation Loss: 0.6733, Validation Accuracy: 60.20\n"
          ]
        },
        {
          "output_type": "stream",
          "name": "stderr",
          "text": [
            "\r 18%|█▊        | 19/108 [02:17<09:31,  6.42s/it]"
          ]
        },
        {
          "output_type": "stream",
          "name": "stdout",
          "text": [
            "Epoch 5/5, Train Loss: 0.6805, Train Accuracy: 54.83%, Validation Loss: 0.6742, Validation Accuracy: 60.20\n",
            "Hyperparameters: LR=0.001, Optimizer=SGD, Loss=CrossEntropyLoss, Batch Size=32, Embedding Dim=100, Test Loss: 0.6741, Test Accuracy: 59.70\n",
            "Epoch 1/5, Train Loss: 0.6798, Train Accuracy: 54.93%, Validation Loss: 0.6740, Validation Accuracy: 60.20\n",
            "Epoch 2/5, Train Loss: 0.6809, Train Accuracy: 54.75%, Validation Loss: 0.6744, Validation Accuracy: 60.20\n",
            "Epoch 3/5, Train Loss: 0.6807, Train Accuracy: 54.87%, Validation Loss: 0.6741, Validation Accuracy: 60.20\n",
            "Epoch 4/5, Train Loss: 0.6788, Train Accuracy: 55.82%, Validation Loss: 0.6732, Validation Accuracy: 60.20\n"
          ]
        },
        {
          "output_type": "stream",
          "name": "stderr",
          "text": [
            "\r 19%|█▊        | 20/108 [02:24<09:39,  6.59s/it]"
          ]
        },
        {
          "output_type": "stream",
          "name": "stdout",
          "text": [
            "Epoch 5/5, Train Loss: 0.6797, Train Accuracy: 54.93%, Validation Loss: 0.6736, Validation Accuracy: 60.20\n",
            "Hyperparameters: LR=0.001, Optimizer=SGD, Loss=CrossEntropyLoss, Batch Size=32, Embedding Dim=200, Test Loss: 0.6750, Test Accuracy: 59.70\n",
            "Epoch 1/5, Train Loss: 0.6836, Train Accuracy: 53.02%, Validation Loss: 0.6744, Validation Accuracy: 60.20\n",
            "Epoch 2/5, Train Loss: 0.6794, Train Accuracy: 55.23%, Validation Loss: 0.6736, Validation Accuracy: 60.20\n",
            "Epoch 3/5, Train Loss: 0.6790, Train Accuracy: 55.07%, Validation Loss: 0.6740, Validation Accuracy: 60.20\n",
            "Epoch 4/5, Train Loss: 0.6804, Train Accuracy: 54.86%, Validation Loss: 0.6743, Validation Accuracy: 60.20\n"
          ]
        },
        {
          "output_type": "stream",
          "name": "stderr",
          "text": [
            "\r 19%|█▉        | 21/108 [02:32<10:13,  7.05s/it]"
          ]
        },
        {
          "output_type": "stream",
          "name": "stdout",
          "text": [
            "Epoch 5/5, Train Loss: 0.6793, Train Accuracy: 55.24%, Validation Loss: 0.6746, Validation Accuracy: 60.20\n",
            "Hyperparameters: LR=0.001, Optimizer=SGD, Loss=CrossEntropyLoss, Batch Size=32, Embedding Dim=300, Test Loss: 0.6761, Test Accuracy: 59.70\n",
            "Epoch 1/5, Train Loss: 0.6825, Train Accuracy: 53.88%, Validation Loss: 0.6744, Validation Accuracy: 60.20\n",
            "Epoch 2/5, Train Loss: 0.6810, Train Accuracy: 54.78%, Validation Loss: 0.6738, Validation Accuracy: 60.20\n",
            "Epoch 3/5, Train Loss: 0.6812, Train Accuracy: 54.92%, Validation Loss: 0.6738, Validation Accuracy: 60.20\n",
            "Epoch 4/5, Train Loss: 0.6800, Train Accuracy: 55.05%, Validation Loss: 0.6733, Validation Accuracy: 60.20\n"
          ]
        },
        {
          "output_type": "stream",
          "name": "stderr",
          "text": [
            "\r 20%|██        | 22/108 [02:36<08:49,  6.15s/it]"
          ]
        },
        {
          "output_type": "stream",
          "name": "stdout",
          "text": [
            "Epoch 5/5, Train Loss: 0.6830, Train Accuracy: 53.59%, Validation Loss: 0.6740, Validation Accuracy: 60.20\n",
            "Hyperparameters: LR=0.001, Optimizer=SGD, Loss=CrossEntropyLoss, Batch Size=64, Embedding Dim=100, Test Loss: 0.6761, Test Accuracy: 59.70\n",
            "Epoch 1/5, Train Loss: 0.6890, Train Accuracy: 50.62%, Validation Loss: 0.6811, Validation Accuracy: 60.20\n",
            "Epoch 2/5, Train Loss: 0.6821, Train Accuracy: 54.67%, Validation Loss: 0.6766, Validation Accuracy: 60.20\n",
            "Epoch 3/5, Train Loss: 0.6796, Train Accuracy: 54.96%, Validation Loss: 0.6749, Validation Accuracy: 60.20\n",
            "Epoch 4/5, Train Loss: 0.6801, Train Accuracy: 54.98%, Validation Loss: 0.6745, Validation Accuracy: 60.20\n"
          ]
        },
        {
          "output_type": "stream",
          "name": "stderr",
          "text": [
            "\r 21%|██▏       | 23/108 [02:41<08:00,  5.66s/it]"
          ]
        },
        {
          "output_type": "stream",
          "name": "stdout",
          "text": [
            "Epoch 5/5, Train Loss: 0.6827, Train Accuracy: 54.26%, Validation Loss: 0.6754, Validation Accuracy: 60.20\n",
            "Hyperparameters: LR=0.001, Optimizer=SGD, Loss=CrossEntropyLoss, Batch Size=64, Embedding Dim=200, Test Loss: 0.6767, Test Accuracy: 59.70\n",
            "Epoch 1/5, Train Loss: 0.6864, Train Accuracy: 53.18%, Validation Loss: 0.6798, Validation Accuracy: 60.28\n",
            "Epoch 2/5, Train Loss: 0.6809, Train Accuracy: 55.08%, Validation Loss: 0.6759, Validation Accuracy: 60.20\n",
            "Epoch 3/5, Train Loss: 0.6798, Train Accuracy: 55.06%, Validation Loss: 0.6753, Validation Accuracy: 60.20\n",
            "Epoch 4/5, Train Loss: 0.6805, Train Accuracy: 55.09%, Validation Loss: 0.6751, Validation Accuracy: 60.20\n"
          ]
        },
        {
          "output_type": "stream",
          "name": "stderr",
          "text": [
            "\r 22%|██▏       | 24/108 [02:46<07:53,  5.64s/it]"
          ]
        },
        {
          "output_type": "stream",
          "name": "stdout",
          "text": [
            "Epoch 5/5, Train Loss: 0.6790, Train Accuracy: 55.01%, Validation Loss: 0.6744, Validation Accuracy: 60.20\n",
            "Hyperparameters: LR=0.001, Optimizer=SGD, Loss=CrossEntropyLoss, Batch Size=64, Embedding Dim=300, Test Loss: 0.6759, Test Accuracy: 59.70\n",
            "Epoch 1/5, Train Loss: 0.7146, Train Accuracy: 41.29%, Validation Loss: 0.7008, Validation Accuracy: 40.97\n",
            "Epoch 2/5, Train Loss: 0.6946, Train Accuracy: 47.34%, Validation Loss: 0.6859, Validation Accuracy: 57.94\n",
            "Epoch 3/5, Train Loss: 0.6852, Train Accuracy: 53.70%, Validation Loss: 0.6788, Validation Accuracy: 60.20\n",
            "Epoch 4/5, Train Loss: 0.6830, Train Accuracy: 54.39%, Validation Loss: 0.6758, Validation Accuracy: 60.20\n"
          ]
        },
        {
          "output_type": "stream",
          "name": "stderr",
          "text": [
            "\r 23%|██▎       | 25/108 [02:56<09:20,  6.75s/it]"
          ]
        },
        {
          "output_type": "stream",
          "name": "stdout",
          "text": [
            "Epoch 5/5, Train Loss: 0.6819, Train Accuracy: 54.45%, Validation Loss: 0.6740, Validation Accuracy: 60.20\n",
            "Hyperparameters: LR=0.001, Optimizer=SGD, Loss=CrossEntropyLoss, Batch Size=128, Embedding Dim=100, Test Loss: 0.6758, Test Accuracy: 59.70\n",
            "Epoch 1/5, Train Loss: 0.6975, Train Accuracy: 46.74%, Validation Loss: 0.6836, Validation Accuracy: 58.49\n",
            "Epoch 2/5, Train Loss: 0.6851, Train Accuracy: 52.76%, Validation Loss: 0.6758, Validation Accuracy: 60.20\n",
            "Epoch 3/5, Train Loss: 0.6823, Train Accuracy: 54.10%, Validation Loss: 0.6728, Validation Accuracy: 60.20\n",
            "Epoch 4/5, Train Loss: 0.6797, Train Accuracy: 55.30%, Validation Loss: 0.6712, Validation Accuracy: 60.20\n"
          ]
        },
        {
          "output_type": "stream",
          "name": "stderr",
          "text": [
            "\r 24%|██▍       | 26/108 [02:59<07:53,  5.78s/it]"
          ]
        },
        {
          "output_type": "stream",
          "name": "stdout",
          "text": [
            "Epoch 5/5, Train Loss: 0.6787, Train Accuracy: 55.62%, Validation Loss: 0.6702, Validation Accuracy: 60.20\n",
            "Hyperparameters: LR=0.001, Optimizer=SGD, Loss=CrossEntropyLoss, Batch Size=128, Embedding Dim=200, Test Loss: 0.6760, Test Accuracy: 59.70\n",
            "Epoch 1/5, Train Loss: 0.6940, Train Accuracy: 47.00%, Validation Loss: 0.6862, Validation Accuracy: 59.35\n",
            "Epoch 2/5, Train Loss: 0.6850, Train Accuracy: 53.76%, Validation Loss: 0.6790, Validation Accuracy: 60.20\n",
            "Epoch 3/5, Train Loss: 0.6820, Train Accuracy: 55.30%, Validation Loss: 0.6753, Validation Accuracy: 60.20\n",
            "Epoch 4/5, Train Loss: 0.6827, Train Accuracy: 53.88%, Validation Loss: 0.6740, Validation Accuracy: 60.20\n"
          ]
        },
        {
          "output_type": "stream",
          "name": "stderr",
          "text": [
            "\r 25%|██▌       | 27/108 [03:04<07:21,  5.45s/it]"
          ]
        },
        {
          "output_type": "stream",
          "name": "stdout",
          "text": [
            "Epoch 5/5, Train Loss: 0.6811, Train Accuracy: 54.95%, Validation Loss: 0.6729, Validation Accuracy: 60.20\n",
            "Hyperparameters: LR=0.001, Optimizer=SGD, Loss=CrossEntropyLoss, Batch Size=128, Embedding Dim=300, Test Loss: 0.6749, Test Accuracy: 59.70\n",
            "Epoch 1/5, Train Loss: 0.1684, Train Accuracy: 53.62%, Validation Loss: 0.1640, Validation Accuracy: 60.20\n",
            "Epoch 2/5, Train Loss: 0.1663, Train Accuracy: 54.57%, Validation Loss: 0.1629, Validation Accuracy: 60.20\n",
            "Epoch 3/5, Train Loss: 0.1660, Train Accuracy: 54.89%, Validation Loss: 0.1627, Validation Accuracy: 60.20\n",
            "Epoch 4/5, Train Loss: 0.1669, Train Accuracy: 54.66%, Validation Loss: 0.1629, Validation Accuracy: 60.20\n"
          ]
        },
        {
          "output_type": "stream",
          "name": "stderr",
          "text": [
            "\r 26%|██▌       | 28/108 [03:10<07:44,  5.81s/it]"
          ]
        },
        {
          "output_type": "stream",
          "name": "stdout",
          "text": [
            "Epoch 5/5, Train Loss: 0.1666, Train Accuracy: 54.37%, Validation Loss: 0.1631, Validation Accuracy: 60.20\n",
            "Hyperparameters: LR=0.001, Optimizer=SGD, Loss=FocalLoss, Batch Size=32, Embedding Dim=100, Test Loss: 0.1644, Test Accuracy: 59.70\n",
            "Epoch 1/5, Train Loss: 0.1697, Train Accuracy: 52.21%, Validation Loss: 0.1641, Validation Accuracy: 60.20\n",
            "Epoch 2/5, Train Loss: 0.1665, Train Accuracy: 54.62%, Validation Loss: 0.1629, Validation Accuracy: 60.20\n",
            "Epoch 3/5, Train Loss: 0.1662, Train Accuracy: 55.16%, Validation Loss: 0.1626, Validation Accuracy: 60.20\n",
            "Epoch 4/5, Train Loss: 0.1664, Train Accuracy: 54.64%, Validation Loss: 0.1626, Validation Accuracy: 60.20\n"
          ]
        },
        {
          "output_type": "stream",
          "name": "stderr",
          "text": [
            "\r 27%|██▋       | 29/108 [03:18<08:29,  6.44s/it]"
          ]
        },
        {
          "output_type": "stream",
          "name": "stdout",
          "text": [
            "Epoch 5/5, Train Loss: 0.1661, Train Accuracy: 55.15%, Validation Loss: 0.1625, Validation Accuracy: 60.20\n",
            "Hyperparameters: LR=0.001, Optimizer=SGD, Loss=FocalLoss, Batch Size=32, Embedding Dim=200, Test Loss: 0.1636, Test Accuracy: 59.70\n",
            "Epoch 1/5, Train Loss: 0.1685, Train Accuracy: 54.61%, Validation Loss: 0.1642, Validation Accuracy: 60.20\n",
            "Epoch 2/5, Train Loss: 0.1664, Train Accuracy: 54.64%, Validation Loss: 0.1627, Validation Accuracy: 60.20\n",
            "Epoch 3/5, Train Loss: 0.1652, Train Accuracy: 55.52%, Validation Loss: 0.1623, Validation Accuracy: 60.20\n",
            "Epoch 4/5, Train Loss: 0.1660, Train Accuracy: 54.87%, Validation Loss: 0.1626, Validation Accuracy: 60.20\n"
          ]
        },
        {
          "output_type": "stream",
          "name": "stderr",
          "text": [
            "\r 28%|██▊       | 30/108 [03:26<08:57,  6.89s/it]"
          ]
        },
        {
          "output_type": "stream",
          "name": "stdout",
          "text": [
            "Epoch 5/5, Train Loss: 0.1654, Train Accuracy: 55.22%, Validation Loss: 0.1623, Validation Accuracy: 60.20\n",
            "Hyperparameters: LR=0.001, Optimizer=SGD, Loss=FocalLoss, Batch Size=32, Embedding Dim=300, Test Loss: 0.1638, Test Accuracy: 59.70\n",
            "Epoch 1/5, Train Loss: 0.1736, Train Accuracy: 48.30%, Validation Loss: 0.1688, Validation Accuracy: 60.12\n",
            "Epoch 2/5, Train Loss: 0.1685, Train Accuracy: 54.75%, Validation Loss: 0.1652, Validation Accuracy: 60.20\n",
            "Epoch 3/5, Train Loss: 0.1659, Train Accuracy: 55.64%, Validation Loss: 0.1633, Validation Accuracy: 60.20\n",
            "Epoch 4/5, Train Loss: 0.1652, Train Accuracy: 55.89%, Validation Loss: 0.1625, Validation Accuracy: 60.20\n"
          ]
        },
        {
          "output_type": "stream",
          "name": "stderr",
          "text": [
            "\r 29%|██▊       | 31/108 [03:30<07:48,  6.09s/it]"
          ]
        },
        {
          "output_type": "stream",
          "name": "stdout",
          "text": [
            "Epoch 5/5, Train Loss: 0.1669, Train Accuracy: 54.10%, Validation Loss: 0.1625, Validation Accuracy: 60.20\n",
            "Hyperparameters: LR=0.001, Optimizer=SGD, Loss=FocalLoss, Batch Size=64, Embedding Dim=100, Test Loss: 0.1633, Test Accuracy: 59.70\n",
            "Epoch 1/5, Train Loss: 0.1666, Train Accuracy: 54.84%, Validation Loss: 0.1624, Validation Accuracy: 60.20\n",
            "Epoch 2/5, Train Loss: 0.1665, Train Accuracy: 54.82%, Validation Loss: 0.1618, Validation Accuracy: 60.20\n",
            "Epoch 3/5, Train Loss: 0.1653, Train Accuracy: 56.06%, Validation Loss: 0.1615, Validation Accuracy: 60.20\n",
            "Epoch 4/5, Train Loss: 0.1656, Train Accuracy: 55.15%, Validation Loss: 0.1614, Validation Accuracy: 60.20\n"
          ]
        },
        {
          "output_type": "stream",
          "name": "stderr",
          "text": [
            "\r 30%|██▉       | 32/108 [03:36<07:29,  5.91s/it]"
          ]
        },
        {
          "output_type": "stream",
          "name": "stdout",
          "text": [
            "Epoch 5/5, Train Loss: 0.1661, Train Accuracy: 55.31%, Validation Loss: 0.1615, Validation Accuracy: 60.20\n",
            "Hyperparameters: LR=0.001, Optimizer=SGD, Loss=FocalLoss, Batch Size=64, Embedding Dim=200, Test Loss: 0.1636, Test Accuracy: 59.70\n",
            "Epoch 1/5, Train Loss: 0.1724, Train Accuracy: 50.07%, Validation Loss: 0.1641, Validation Accuracy: 60.20\n",
            "Epoch 2/5, Train Loss: 0.1706, Train Accuracy: 49.57%, Validation Loss: 0.1632, Validation Accuracy: 60.20\n",
            "Epoch 3/5, Train Loss: 0.1688, Train Accuracy: 51.66%, Validation Loss: 0.1626, Validation Accuracy: 60.20\n",
            "Epoch 4/5, Train Loss: 0.1666, Train Accuracy: 54.11%, Validation Loss: 0.1623, Validation Accuracy: 60.20\n"
          ]
        },
        {
          "output_type": "stream",
          "name": "stderr",
          "text": [
            "\r 31%|███       | 33/108 [03:41<07:10,  5.74s/it]"
          ]
        },
        {
          "output_type": "stream",
          "name": "stdout",
          "text": [
            "Epoch 5/5, Train Loss: 0.1672, Train Accuracy: 54.09%, Validation Loss: 0.1622, Validation Accuracy: 60.20\n",
            "Hyperparameters: LR=0.001, Optimizer=SGD, Loss=FocalLoss, Batch Size=64, Embedding Dim=300, Test Loss: 0.1635, Test Accuracy: 59.70\n",
            "Epoch 1/5, Train Loss: 0.1672, Train Accuracy: 55.02%, Validation Loss: 0.1591, Validation Accuracy: 60.20\n",
            "Epoch 2/5, Train Loss: 0.1661, Train Accuracy: 55.30%, Validation Loss: 0.1593, Validation Accuracy: 60.20\n",
            "Epoch 3/5, Train Loss: 0.1664, Train Accuracy: 54.52%, Validation Loss: 0.1596, Validation Accuracy: 60.20\n",
            "Epoch 4/5, Train Loss: 0.1656, Train Accuracy: 55.07%, Validation Loss: 0.1597, Validation Accuracy: 60.20\n"
          ]
        },
        {
          "output_type": "stream",
          "name": "stderr",
          "text": [
            "\r 31%|███▏      | 34/108 [03:51<08:27,  6.86s/it]"
          ]
        },
        {
          "output_type": "stream",
          "name": "stdout",
          "text": [
            "Epoch 5/5, Train Loss: 0.1656, Train Accuracy: 55.22%, Validation Loss: 0.1598, Validation Accuracy: 60.20\n",
            "Hyperparameters: LR=0.001, Optimizer=SGD, Loss=FocalLoss, Batch Size=128, Embedding Dim=100, Test Loss: 0.1619, Test Accuracy: 59.70\n",
            "Epoch 1/5, Train Loss: 0.1711, Train Accuracy: 51.86%, Validation Loss: 0.1688, Validation Accuracy: 59.50\n",
            "Epoch 2/5, Train Loss: 0.1685, Train Accuracy: 54.64%, Validation Loss: 0.1663, Validation Accuracy: 60.05\n",
            "Epoch 3/5, Train Loss: 0.1669, Train Accuracy: 55.23%, Validation Loss: 0.1647, Validation Accuracy: 60.20\n",
            "Epoch 4/5, Train Loss: 0.1673, Train Accuracy: 54.72%, Validation Loss: 0.1639, Validation Accuracy: 60.20\n"
          ]
        },
        {
          "output_type": "stream",
          "name": "stderr",
          "text": [
            "\r 32%|███▏      | 35/108 [03:54<07:06,  5.84s/it]"
          ]
        },
        {
          "output_type": "stream",
          "name": "stdout",
          "text": [
            "Epoch 5/5, Train Loss: 0.1665, Train Accuracy: 54.98%, Validation Loss: 0.1632, Validation Accuracy: 60.20\n",
            "Hyperparameters: LR=0.001, Optimizer=SGD, Loss=FocalLoss, Batch Size=128, Embedding Dim=200, Test Loss: 0.1650, Test Accuracy: 59.70\n",
            "Epoch 1/5, Train Loss: 0.1844, Train Accuracy: 45.05%, Validation Loss: 0.1766, Validation Accuracy: 43.30\n",
            "Epoch 2/5, Train Loss: 0.1764, Train Accuracy: 47.39%, Validation Loss: 0.1705, Validation Accuracy: 59.66\n",
            "Epoch 3/5, Train Loss: 0.1722, Train Accuracy: 49.19%, Validation Loss: 0.1670, Validation Accuracy: 60.05\n",
            "Epoch 4/5, Train Loss: 0.1689, Train Accuracy: 50.98%, Validation Loss: 0.1651, Validation Accuracy: 60.20\n"
          ]
        },
        {
          "output_type": "stream",
          "name": "stderr",
          "text": [
            "\r 33%|███▎      | 36/108 [03:59<06:28,  5.40s/it]"
          ]
        },
        {
          "output_type": "stream",
          "name": "stdout",
          "text": [
            "Epoch 5/5, Train Loss: 0.1671, Train Accuracy: 53.37%, Validation Loss: 0.1638, Validation Accuracy: 60.20\n",
            "Hyperparameters: LR=0.001, Optimizer=SGD, Loss=FocalLoss, Batch Size=128, Embedding Dim=300, Test Loss: 0.1639, Test Accuracy: 59.70\n",
            "Epoch 1/5, Train Loss: 0.6826, Train Accuracy: 55.61%, Validation Loss: 0.6746, Validation Accuracy: 60.20\n",
            "Epoch 2/5, Train Loss: 0.6801, Train Accuracy: 55.03%, Validation Loss: 0.6780, Validation Accuracy: 59.66\n",
            "Epoch 3/5, Train Loss: 0.6700, Train Accuracy: 55.79%, Validation Loss: 0.6695, Validation Accuracy: 59.27\n",
            "Epoch 4/5, Train Loss: 0.6302, Train Accuracy: 61.26%, Validation Loss: 0.7236, Validation Accuracy: 49.30\n"
          ]
        },
        {
          "output_type": "stream",
          "name": "stderr",
          "text": [
            "\r 34%|███▍      | 37/108 [04:07<07:17,  6.16s/it]"
          ]
        },
        {
          "output_type": "stream",
          "name": "stdout",
          "text": [
            "Epoch 5/5, Train Loss: 0.5466, Train Accuracy: 68.32%, Validation Loss: 0.7223, Validation Accuracy: 56.46\n",
            "Hyperparameters: LR=0.001, Optimizer=RMSprop, Loss=CrossEntropyLoss, Batch Size=32, Embedding Dim=100, Test Loss: 0.7229, Test Accuracy: 55.88\n",
            "Epoch 1/5, Train Loss: 0.6843, Train Accuracy: 55.05%, Validation Loss: 0.6724, Validation Accuracy: 60.20\n",
            "Epoch 2/5, Train Loss: 0.6823, Train Accuracy: 54.53%, Validation Loss: 0.6748, Validation Accuracy: 60.20\n",
            "Epoch 3/5, Train Loss: 0.6821, Train Accuracy: 54.80%, Validation Loss: 0.6782, Validation Accuracy: 60.20\n",
            "Epoch 4/5, Train Loss: 0.6817, Train Accuracy: 54.36%, Validation Loss: 0.6819, Validation Accuracy: 60.12\n"
          ]
        },
        {
          "output_type": "stream",
          "name": "stderr",
          "text": [
            "\r 35%|███▌      | 38/108 [04:14<07:44,  6.64s/it]"
          ]
        },
        {
          "output_type": "stream",
          "name": "stdout",
          "text": [
            "Epoch 5/5, Train Loss: 0.6771, Train Accuracy: 54.70%, Validation Loss: 0.6791, Validation Accuracy: 58.72\n",
            "Hyperparameters: LR=0.001, Optimizer=RMSprop, Loss=CrossEntropyLoss, Batch Size=32, Embedding Dim=200, Test Loss: 0.6792, Test Accuracy: 58.69\n",
            "Epoch 1/5, Train Loss: 0.6853, Train Accuracy: 54.41%, Validation Loss: 0.6830, Validation Accuracy: 60.20\n",
            "Epoch 2/5, Train Loss: 0.6809, Train Accuracy: 55.29%, Validation Loss: 0.6729, Validation Accuracy: 60.20\n",
            "Epoch 3/5, Train Loss: 0.6824, Train Accuracy: 53.92%, Validation Loss: 0.6811, Validation Accuracy: 60.20\n",
            "Epoch 4/5, Train Loss: 0.6777, Train Accuracy: 54.26%, Validation Loss: 0.6818, Validation Accuracy: 57.17\n"
          ]
        },
        {
          "output_type": "stream",
          "name": "stderr",
          "text": [
            "\r 36%|███▌      | 39/108 [04:24<08:38,  7.52s/it]"
          ]
        },
        {
          "output_type": "stream",
          "name": "stdout",
          "text": [
            "Epoch 5/5, Train Loss: 0.6599, Train Accuracy: 56.44%, Validation Loss: 0.6932, Validation Accuracy: 49.92\n",
            "Hyperparameters: LR=0.001, Optimizer=RMSprop, Loss=CrossEntropyLoss, Batch Size=32, Embedding Dim=300, Test Loss: 0.6936, Test Accuracy: 49.57\n",
            "Epoch 1/5, Train Loss: 0.6855, Train Accuracy: 54.57%, Validation Loss: 0.6709, Validation Accuracy: 60.20\n",
            "Epoch 2/5, Train Loss: 0.6812, Train Accuracy: 54.55%, Validation Loss: 0.6778, Validation Accuracy: 60.20\n",
            "Epoch 3/5, Train Loss: 0.6763, Train Accuracy: 54.41%, Validation Loss: 0.6711, Validation Accuracy: 60.28\n",
            "Epoch 4/5, Train Loss: 0.6448, Train Accuracy: 58.83%, Validation Loss: 0.6835, Validation Accuracy: 54.98\n"
          ]
        },
        {
          "output_type": "stream",
          "name": "stderr",
          "text": [
            "\r 37%|███▋      | 40/108 [04:28<07:20,  6.48s/it]"
          ]
        },
        {
          "output_type": "stream",
          "name": "stdout",
          "text": [
            "Epoch 5/5, Train Loss: 0.5824, Train Accuracy: 65.97%, Validation Loss: 0.6793, Validation Accuracy: 59.03\n",
            "Hyperparameters: LR=0.001, Optimizer=RMSprop, Loss=CrossEntropyLoss, Batch Size=64, Embedding Dim=100, Test Loss: 0.6909, Test Accuracy: 58.38\n",
            "Epoch 1/5, Train Loss: 0.6856, Train Accuracy: 54.50%, Validation Loss: 0.6711, Validation Accuracy: 60.20\n",
            "Epoch 2/5, Train Loss: 0.6812, Train Accuracy: 54.56%, Validation Loss: 0.6765, Validation Accuracy: 60.20\n",
            "Epoch 3/5, Train Loss: 0.6744, Train Accuracy: 54.91%, Validation Loss: 0.6691, Validation Accuracy: 60.36\n",
            "Epoch 4/5, Train Loss: 0.6451, Train Accuracy: 59.55%, Validation Loss: 0.6852, Validation Accuracy: 60.05\n"
          ]
        },
        {
          "output_type": "stream",
          "name": "stderr",
          "text": [
            "\r 38%|███▊      | 41/108 [04:33<06:50,  6.12s/it]"
          ]
        },
        {
          "output_type": "stream",
          "name": "stdout",
          "text": [
            "Epoch 5/5, Train Loss: 0.5694, Train Accuracy: 67.44%, Validation Loss: 0.8708, Validation Accuracy: 42.06\n",
            "Hyperparameters: LR=0.001, Optimizer=RMSprop, Loss=CrossEntropyLoss, Batch Size=64, Embedding Dim=200, Test Loss: 0.8579, Test Accuracy: 43.57\n",
            "Epoch 1/5, Train Loss: 0.6838, Train Accuracy: 55.09%, Validation Loss: 0.6753, Validation Accuracy: 60.20\n",
            "Epoch 2/5, Train Loss: 0.6817, Train Accuracy: 54.95%, Validation Loss: 0.6715, Validation Accuracy: 60.20\n",
            "Epoch 3/5, Train Loss: 0.6807, Train Accuracy: 54.93%, Validation Loss: 0.6781, Validation Accuracy: 60.20\n",
            "Epoch 4/5, Train Loss: 0.6763, Train Accuracy: 54.82%, Validation Loss: 0.6749, Validation Accuracy: 60.20\n"
          ]
        },
        {
          "output_type": "stream",
          "name": "stderr",
          "text": [
            "\r 39%|███▉      | 42/108 [04:40<06:48,  6.19s/it]"
          ]
        },
        {
          "output_type": "stream",
          "name": "stdout",
          "text": [
            "Epoch 5/5, Train Loss: 0.6523, Train Accuracy: 58.44%, Validation Loss: 0.6743, Validation Accuracy: 58.88\n",
            "Hyperparameters: LR=0.001, Optimizer=RMSprop, Loss=CrossEntropyLoss, Batch Size=64, Embedding Dim=300, Test Loss: 0.6848, Test Accuracy: 59.00\n",
            "Epoch 1/5, Train Loss: 0.6958, Train Accuracy: 54.09%, Validation Loss: 0.6682, Validation Accuracy: 60.20\n",
            "Epoch 2/5, Train Loss: 0.6789, Train Accuracy: 55.00%, Validation Loss: 0.6714, Validation Accuracy: 60.20\n",
            "Epoch 3/5, Train Loss: 0.6638, Train Accuracy: 55.30%, Validation Loss: 0.6647, Validation Accuracy: 59.66\n",
            "Epoch 4/5, Train Loss: 0.6273, Train Accuracy: 61.31%, Validation Loss: 0.6598, Validation Accuracy: 58.41\n"
          ]
        },
        {
          "output_type": "stream",
          "name": "stderr",
          "text": [
            "\r 40%|███▉      | 43/108 [04:49<07:45,  7.16s/it]"
          ]
        },
        {
          "output_type": "stream",
          "name": "stdout",
          "text": [
            "Epoch 5/5, Train Loss: 0.5750, Train Accuracy: 66.81%, Validation Loss: 0.6726, Validation Accuracy: 53.58\n",
            "Hyperparameters: LR=0.001, Optimizer=RMSprop, Loss=CrossEntropyLoss, Batch Size=128, Embedding Dim=100, Test Loss: 0.6862, Test Accuracy: 54.17\n",
            "Epoch 1/5, Train Loss: 0.6864, Train Accuracy: 54.85%, Validation Loss: 0.6781, Validation Accuracy: 60.20\n",
            "Epoch 2/5, Train Loss: 0.6802, Train Accuracy: 55.38%, Validation Loss: 0.6837, Validation Accuracy: 58.10\n",
            "Epoch 3/5, Train Loss: 0.6730, Train Accuracy: 54.89%, Validation Loss: 0.6671, Validation Accuracy: 58.96\n",
            "Epoch 4/5, Train Loss: 0.6454, Train Accuracy: 59.67%, Validation Loss: 0.6696, Validation Accuracy: 60.36\n"
          ]
        },
        {
          "output_type": "stream",
          "name": "stderr",
          "text": [
            "\r 41%|████      | 44/108 [04:53<06:37,  6.20s/it]"
          ]
        },
        {
          "output_type": "stream",
          "name": "stdout",
          "text": [
            "Epoch 5/5, Train Loss: 0.5878, Train Accuracy: 64.84%, Validation Loss: 0.7095, Validation Accuracy: 58.33\n",
            "Hyperparameters: LR=0.001, Optimizer=RMSprop, Loss=CrossEntropyLoss, Batch Size=128, Embedding Dim=200, Test Loss: 0.7333, Test Accuracy: 59.31\n",
            "Epoch 1/5, Train Loss: 0.6959, Train Accuracy: 54.38%, Validation Loss: 0.6683, Validation Accuracy: 60.20\n",
            "Epoch 2/5, Train Loss: 0.6808, Train Accuracy: 54.61%, Validation Loss: 0.6699, Validation Accuracy: 60.20\n",
            "Epoch 3/5, Train Loss: 0.6794, Train Accuracy: 54.87%, Validation Loss: 0.6700, Validation Accuracy: 60.20\n",
            "Epoch 4/5, Train Loss: 0.6683, Train Accuracy: 56.20%, Validation Loss: 0.6962, Validation Accuracy: 46.57\n"
          ]
        },
        {
          "output_type": "stream",
          "name": "stderr",
          "text": [
            "\r 42%|████▏     | 45/108 [04:58<06:02,  5.76s/it]"
          ]
        },
        {
          "output_type": "stream",
          "name": "stdout",
          "text": [
            "Epoch 5/5, Train Loss: 0.6367, Train Accuracy: 60.39%, Validation Loss: 0.6719, Validation Accuracy: 59.58\n",
            "Hyperparameters: LR=0.001, Optimizer=RMSprop, Loss=CrossEntropyLoss, Batch Size=128, Embedding Dim=300, Test Loss: 0.6904, Test Accuracy: 59.47\n",
            "Epoch 1/5, Train Loss: 0.1703, Train Accuracy: 54.56%, Validation Loss: 0.1625, Validation Accuracy: 60.20\n",
            "Epoch 2/5, Train Loss: 0.1661, Train Accuracy: 54.61%, Validation Loss: 0.1599, Validation Accuracy: 60.20\n",
            "Epoch 3/5, Train Loss: 0.1571, Train Accuracy: 55.86%, Validation Loss: 0.1624, Validation Accuracy: 58.80\n",
            "Epoch 4/5, Train Loss: 0.1280, Train Accuracy: 62.74%, Validation Loss: 0.1666, Validation Accuracy: 57.40\n"
          ]
        },
        {
          "output_type": "stream",
          "name": "stderr",
          "text": [
            "\r 43%|████▎     | 46/108 [05:05<06:33,  6.35s/it]"
          ]
        },
        {
          "output_type": "stream",
          "name": "stdout",
          "text": [
            "Epoch 5/5, Train Loss: 0.0899, Train Accuracy: 70.05%, Validation Loss: 0.1879, Validation Accuracy: 56.46\n",
            "Hyperparameters: LR=0.001, Optimizer=RMSprop, Loss=FocalLoss, Batch Size=32, Embedding Dim=100, Test Loss: 0.1881, Test Accuracy: 55.65\n",
            "Epoch 1/5, Train Loss: 0.1679, Train Accuracy: 55.07%, Validation Loss: 0.1627, Validation Accuracy: 60.20\n",
            "Epoch 2/5, Train Loss: 0.1670, Train Accuracy: 54.99%, Validation Loss: 0.1647, Validation Accuracy: 60.20\n",
            "Epoch 3/5, Train Loss: 0.1670, Train Accuracy: 54.52%, Validation Loss: 0.1615, Validation Accuracy: 60.20\n",
            "Epoch 4/5, Train Loss: 0.1628, Train Accuracy: 55.04%, Validation Loss: 0.1608, Validation Accuracy: 60.20\n"
          ]
        },
        {
          "output_type": "stream",
          "name": "stderr",
          "text": [
            "\r 44%|████▎     | 47/108 [05:14<07:05,  6.98s/it]"
          ]
        },
        {
          "output_type": "stream",
          "name": "stdout",
          "text": [
            "Epoch 5/5, Train Loss: 0.1445, Train Accuracy: 59.25%, Validation Loss: 0.1669, Validation Accuracy: 56.00\n",
            "Hyperparameters: LR=0.001, Optimizer=RMSprop, Loss=FocalLoss, Batch Size=32, Embedding Dim=200, Test Loss: 0.1708, Test Accuracy: 54.25\n",
            "Epoch 1/5, Train Loss: 0.1682, Train Accuracy: 54.44%, Validation Loss: 0.1617, Validation Accuracy: 60.20\n",
            "Epoch 2/5, Train Loss: 0.1668, Train Accuracy: 54.97%, Validation Loss: 0.1619, Validation Accuracy: 60.20\n",
            "Epoch 3/5, Train Loss: 0.1675, Train Accuracy: 54.25%, Validation Loss: 0.1631, Validation Accuracy: 60.20\n",
            "Epoch 4/5, Train Loss: 0.1665, Train Accuracy: 54.52%, Validation Loss: 0.1647, Validation Accuracy: 60.20\n"
          ]
        },
        {
          "output_type": "stream",
          "name": "stderr",
          "text": [
            "\r 44%|████▍     | 48/108 [05:24<07:52,  7.88s/it]"
          ]
        },
        {
          "output_type": "stream",
          "name": "stdout",
          "text": [
            "Epoch 5/5, Train Loss: 0.1671, Train Accuracy: 54.95%, Validation Loss: 0.1609, Validation Accuracy: 60.20\n",
            "Hyperparameters: LR=0.001, Optimizer=RMSprop, Loss=FocalLoss, Batch Size=32, Embedding Dim=300, Test Loss: 0.1624, Test Accuracy: 59.70\n",
            "Epoch 1/5, Train Loss: 0.1681, Train Accuracy: 54.93%, Validation Loss: 0.1624, Validation Accuracy: 60.20\n",
            "Epoch 2/5, Train Loss: 0.1652, Train Accuracy: 55.03%, Validation Loss: 0.1597, Validation Accuracy: 60.20\n",
            "Epoch 3/5, Train Loss: 0.1544, Train Accuracy: 56.97%, Validation Loss: 0.1714, Validation Accuracy: 60.28\n",
            "Epoch 4/5, Train Loss: 0.1279, Train Accuracy: 63.32%, Validation Loss: 0.2088, Validation Accuracy: 46.03\n"
          ]
        },
        {
          "output_type": "stream",
          "name": "stderr",
          "text": [
            "\r 45%|████▌     | 49/108 [05:28<06:40,  6.78s/it]"
          ]
        },
        {
          "output_type": "stream",
          "name": "stdout",
          "text": [
            "Epoch 5/5, Train Loss: 0.0916, Train Accuracy: 69.99%, Validation Loss: 0.1830, Validation Accuracy: 54.75\n",
            "Hyperparameters: LR=0.001, Optimizer=RMSprop, Loss=FocalLoss, Batch Size=64, Embedding Dim=100, Test Loss: 0.2178, Test Accuracy: 51.75\n",
            "Epoch 1/5, Train Loss: 0.1727, Train Accuracy: 54.98%, Validation Loss: 0.1629, Validation Accuracy: 60.20\n",
            "Epoch 2/5, Train Loss: 0.1671, Train Accuracy: 54.33%, Validation Loss: 0.1642, Validation Accuracy: 60.20\n",
            "Epoch 3/5, Train Loss: 0.1635, Train Accuracy: 54.97%, Validation Loss: 0.1573, Validation Accuracy: 60.12\n",
            "Epoch 4/5, Train Loss: 0.1498, Train Accuracy: 57.56%, Validation Loss: 0.1582, Validation Accuracy: 59.97\n"
          ]
        },
        {
          "output_type": "stream",
          "name": "stderr",
          "text": [
            "\r 46%|████▋     | 50/108 [05:33<06:04,  6.29s/it]"
          ]
        },
        {
          "output_type": "stream",
          "name": "stdout",
          "text": [
            "Epoch 5/5, Train Loss: 0.1226, Train Accuracy: 63.84%, Validation Loss: 0.1673, Validation Accuracy: 56.00\n",
            "Hyperparameters: LR=0.001, Optimizer=RMSprop, Loss=FocalLoss, Batch Size=64, Embedding Dim=200, Test Loss: 0.1717, Test Accuracy: 56.20\n",
            "Epoch 1/5, Train Loss: 0.1713, Train Accuracy: 54.58%, Validation Loss: 0.1611, Validation Accuracy: 60.20\n",
            "Epoch 2/5, Train Loss: 0.1657, Train Accuracy: 55.58%, Validation Loss: 0.1631, Validation Accuracy: 60.20\n",
            "Epoch 3/5, Train Loss: 0.1665, Train Accuracy: 54.19%, Validation Loss: 0.1617, Validation Accuracy: 60.20\n",
            "Epoch 4/5, Train Loss: 0.1615, Train Accuracy: 54.76%, Validation Loss: 0.1603, Validation Accuracy: 60.20\n"
          ]
        },
        {
          "output_type": "stream",
          "name": "stderr",
          "text": [
            "\r 47%|████▋     | 51/108 [05:40<06:07,  6.44s/it]"
          ]
        },
        {
          "output_type": "stream",
          "name": "stdout",
          "text": [
            "Epoch 5/5, Train Loss: 0.1491, Train Accuracy: 56.83%, Validation Loss: 0.1623, Validation Accuracy: 58.41\n",
            "Hyperparameters: LR=0.001, Optimizer=RMSprop, Loss=FocalLoss, Batch Size=64, Embedding Dim=300, Test Loss: 0.1653, Test Accuracy: 59.63\n",
            "Epoch 1/5, Train Loss: 0.1755, Train Accuracy: 54.71%, Validation Loss: 0.1602, Validation Accuracy: 60.20\n",
            "Epoch 2/5, Train Loss: 0.1649, Train Accuracy: 54.74%, Validation Loss: 0.1667, Validation Accuracy: 59.58\n",
            "Epoch 3/5, Train Loss: 0.1591, Train Accuracy: 55.40%, Validation Loss: 0.1690, Validation Accuracy: 54.36\n",
            "Epoch 4/5, Train Loss: 0.1411, Train Accuracy: 59.85%, Validation Loss: 0.1966, Validation Accuracy: 43.77\n"
          ]
        },
        {
          "output_type": "stream",
          "name": "stderr",
          "text": [
            "\r 48%|████▊     | 52/108 [05:49<06:51,  7.35s/it]"
          ]
        },
        {
          "output_type": "stream",
          "name": "stdout",
          "text": [
            "Epoch 5/5, Train Loss: 0.1176, Train Accuracy: 65.20%, Validation Loss: 0.1709, Validation Accuracy: 52.10\n",
            "Hyperparameters: LR=0.001, Optimizer=RMSprop, Loss=FocalLoss, Batch Size=128, Embedding Dim=100, Test Loss: 0.1731, Test Accuracy: 54.25\n",
            "Epoch 1/5, Train Loss: 0.1759, Train Accuracy: 55.21%, Validation Loss: 0.1617, Validation Accuracy: 60.20\n",
            "Epoch 2/5, Train Loss: 0.1652, Train Accuracy: 55.55%, Validation Loss: 0.1603, Validation Accuracy: 60.20\n",
            "Epoch 3/5, Train Loss: 0.1643, Train Accuracy: 55.20%, Validation Loss: 0.1611, Validation Accuracy: 60.28\n",
            "Epoch 4/5, Train Loss: 0.1549, Train Accuracy: 56.64%, Validation Loss: 0.1586, Validation Accuracy: 59.97\n"
          ]
        },
        {
          "output_type": "stream",
          "name": "stderr",
          "text": [
            "\r 49%|████▉     | 53/108 [05:54<05:51,  6.39s/it]"
          ]
        },
        {
          "output_type": "stream",
          "name": "stdout",
          "text": [
            "Epoch 5/5, Train Loss: 0.1326, Train Accuracy: 61.88%, Validation Loss: 0.1832, Validation Accuracy: 46.18\n",
            "Hyperparameters: LR=0.001, Optimizer=RMSprop, Loss=FocalLoss, Batch Size=128, Embedding Dim=200, Test Loss: 0.1863, Test Accuracy: 47.00\n",
            "Epoch 1/5, Train Loss: 0.1724, Train Accuracy: 55.02%, Validation Loss: 0.1601, Validation Accuracy: 60.20\n",
            "Epoch 2/5, Train Loss: 0.1657, Train Accuracy: 54.30%, Validation Loss: 0.1583, Validation Accuracy: 60.20\n",
            "Epoch 3/5, Train Loss: 0.1658, Train Accuracy: 54.63%, Validation Loss: 0.1646, Validation Accuracy: 60.20\n",
            "Epoch 4/5, Train Loss: 0.1623, Train Accuracy: 54.83%, Validation Loss: 0.1572, Validation Accuracy: 60.20\n"
          ]
        },
        {
          "output_type": "stream",
          "name": "stderr",
          "text": [
            "\r 50%|█████     | 54/108 [05:58<05:20,  5.94s/it]"
          ]
        },
        {
          "output_type": "stream",
          "name": "stdout",
          "text": [
            "Epoch 5/5, Train Loss: 0.1535, Train Accuracy: 56.63%, Validation Loss: 0.1612, Validation Accuracy: 55.45\n",
            "Hyperparameters: LR=0.001, Optimizer=RMSprop, Loss=FocalLoss, Batch Size=128, Embedding Dim=300, Test Loss: 0.1630, Test Accuracy: 57.05\n",
            "Epoch 1/5, Train Loss: 0.6954, Train Accuracy: 51.95%, Validation Loss: 0.6741, Validation Accuracy: 60.20\n",
            "Epoch 2/5, Train Loss: 0.6864, Train Accuracy: 53.90%, Validation Loss: 0.6736, Validation Accuracy: 60.20\n",
            "Epoch 3/5, Train Loss: 0.6864, Train Accuracy: 54.30%, Validation Loss: 0.6723, Validation Accuracy: 60.20\n",
            "Epoch 4/5, Train Loss: 0.6839, Train Accuracy: 54.72%, Validation Loss: 0.6784, Validation Accuracy: 60.20\n"
          ]
        },
        {
          "output_type": "stream",
          "name": "stderr",
          "text": [
            "\r 51%|█████     | 55/108 [06:07<05:51,  6.63s/it]"
          ]
        },
        {
          "output_type": "stream",
          "name": "stdout",
          "text": [
            "Epoch 5/5, Train Loss: 0.6849, Train Accuracy: 53.17%, Validation Loss: 0.6921, Validation Accuracy: 60.20\n",
            "Hyperparameters: LR=0.01, Optimizer=Adam, Loss=CrossEntropyLoss, Batch Size=32, Embedding Dim=100, Test Loss: 0.6921, Test Accuracy: 59.70\n",
            "Epoch 1/5, Train Loss: 0.6988, Train Accuracy: 52.26%, Validation Loss: 0.6749, Validation Accuracy: 60.20\n",
            "Epoch 2/5, Train Loss: 0.6943, Train Accuracy: 52.81%, Validation Loss: 0.6713, Validation Accuracy: 60.20\n",
            "Epoch 3/5, Train Loss: 0.6973, Train Accuracy: 52.58%, Validation Loss: 0.6709, Validation Accuracy: 60.20\n",
            "Epoch 4/5, Train Loss: 0.7027, Train Accuracy: 50.99%, Validation Loss: 0.6797, Validation Accuracy: 60.20\n"
          ]
        },
        {
          "output_type": "stream",
          "name": "stderr",
          "text": [
            "\r 52%|█████▏    | 56/108 [06:16<06:25,  7.42s/it]"
          ]
        },
        {
          "output_type": "stream",
          "name": "stdout",
          "text": [
            "Epoch 5/5, Train Loss: 0.6913, Train Accuracy: 53.18%, Validation Loss: 0.6741, Validation Accuracy: 60.20\n",
            "Hyperparameters: LR=0.01, Optimizer=Adam, Loss=CrossEntropyLoss, Batch Size=32, Embedding Dim=200, Test Loss: 0.6758, Test Accuracy: 59.70\n",
            "Epoch 1/5, Train Loss: 0.7077, Train Accuracy: 51.75%, Validation Loss: 0.6962, Validation Accuracy: 39.80\n",
            "Epoch 2/5, Train Loss: 0.6962, Train Accuracy: 52.46%, Validation Loss: 0.7567, Validation Accuracy: 39.80\n",
            "Epoch 3/5, Train Loss: 0.6963, Train Accuracy: 51.73%, Validation Loss: 0.6713, Validation Accuracy: 60.20\n",
            "Epoch 4/5, Train Loss: 0.6957, Train Accuracy: 51.91%, Validation Loss: 0.6798, Validation Accuracy: 60.20\n"
          ]
        },
        {
          "output_type": "stream",
          "name": "stderr",
          "text": [
            "\r 53%|█████▎    | 57/108 [06:26<07:05,  8.35s/it]"
          ]
        },
        {
          "output_type": "stream",
          "name": "stdout",
          "text": [
            "Epoch 5/5, Train Loss: 0.6940, Train Accuracy: 52.47%, Validation Loss: 0.6765, Validation Accuracy: 60.20\n",
            "Hyperparameters: LR=0.01, Optimizer=Adam, Loss=CrossEntropyLoss, Batch Size=32, Embedding Dim=300, Test Loss: 0.6779, Test Accuracy: 59.70\n",
            "Epoch 1/5, Train Loss: 0.6914, Train Accuracy: 53.24%, Validation Loss: 0.6719, Validation Accuracy: 60.20\n",
            "Epoch 2/5, Train Loss: 0.6872, Train Accuracy: 53.01%, Validation Loss: 0.6710, Validation Accuracy: 60.20\n",
            "Epoch 3/5, Train Loss: 0.6858, Train Accuracy: 53.27%, Validation Loss: 0.6786, Validation Accuracy: 60.20\n",
            "Epoch 4/5, Train Loss: 0.6877, Train Accuracy: 52.44%, Validation Loss: 0.6813, Validation Accuracy: 60.20\n"
          ]
        },
        {
          "output_type": "stream",
          "name": "stderr",
          "text": [
            "\r 54%|█████▎    | 58/108 [06:31<05:57,  7.15s/it]"
          ]
        },
        {
          "output_type": "stream",
          "name": "stdout",
          "text": [
            "Epoch 5/5, Train Loss: 0.6849, Train Accuracy: 54.41%, Validation Loss: 0.6728, Validation Accuracy: 60.20\n",
            "Hyperparameters: LR=0.01, Optimizer=Adam, Loss=CrossEntropyLoss, Batch Size=64, Embedding Dim=100, Test Loss: 0.6751, Test Accuracy: 59.70\n",
            "Epoch 1/5, Train Loss: 0.6922, Train Accuracy: 54.18%, Validation Loss: 0.6694, Validation Accuracy: 60.20\n",
            "Epoch 2/5, Train Loss: 0.6854, Train Accuracy: 54.10%, Validation Loss: 0.6790, Validation Accuracy: 60.20\n",
            "Epoch 3/5, Train Loss: 0.6864, Train Accuracy: 53.27%, Validation Loss: 0.6794, Validation Accuracy: 60.20\n",
            "Epoch 4/5, Train Loss: 0.6904, Train Accuracy: 52.33%, Validation Loss: 0.6776, Validation Accuracy: 60.20\n"
          ]
        },
        {
          "output_type": "stream",
          "name": "stderr",
          "text": [
            "\r 55%|█████▍    | 59/108 [06:36<05:23,  6.61s/it]"
          ]
        },
        {
          "output_type": "stream",
          "name": "stdout",
          "text": [
            "Epoch 5/5, Train Loss: 0.6872, Train Accuracy: 53.28%, Validation Loss: 0.6711, Validation Accuracy: 60.20\n",
            "Hyperparameters: LR=0.01, Optimizer=Adam, Loss=CrossEntropyLoss, Batch Size=64, Embedding Dim=200, Test Loss: 0.6738, Test Accuracy: 59.70\n",
            "Epoch 1/5, Train Loss: 0.6961, Train Accuracy: 52.22%, Validation Loss: 0.6792, Validation Accuracy: 60.20\n",
            "Epoch 2/5, Train Loss: 0.6886, Train Accuracy: 52.40%, Validation Loss: 0.6851, Validation Accuracy: 60.20\n",
            "Epoch 3/5, Train Loss: 0.6886, Train Accuracy: 53.07%, Validation Loss: 0.6860, Validation Accuracy: 60.20\n",
            "Epoch 4/5, Train Loss: 0.6883, Train Accuracy: 52.78%, Validation Loss: 0.6719, Validation Accuracy: 60.20\n"
          ]
        },
        {
          "output_type": "stream",
          "name": "stderr",
          "text": [
            "\r 56%|█████▌    | 60/108 [06:43<05:23,  6.73s/it]"
          ]
        },
        {
          "output_type": "stream",
          "name": "stdout",
          "text": [
            "Epoch 5/5, Train Loss: 0.6911, Train Accuracy: 52.60%, Validation Loss: 0.6709, Validation Accuracy: 60.20\n",
            "Hyperparameters: LR=0.01, Optimizer=Adam, Loss=CrossEntropyLoss, Batch Size=64, Embedding Dim=300, Test Loss: 0.6755, Test Accuracy: 59.70\n",
            "Epoch 1/5, Train Loss: 0.7008, Train Accuracy: 51.49%, Validation Loss: 0.6671, Validation Accuracy: 60.20\n",
            "Epoch 2/5, Train Loss: 0.6837, Train Accuracy: 54.46%, Validation Loss: 0.6812, Validation Accuracy: 60.20\n",
            "Epoch 3/5, Train Loss: 0.6847, Train Accuracy: 53.63%, Validation Loss: 0.6838, Validation Accuracy: 60.20\n",
            "Epoch 4/5, Train Loss: 0.6913, Train Accuracy: 51.65%, Validation Loss: 0.6718, Validation Accuracy: 60.20\n"
          ]
        },
        {
          "output_type": "stream",
          "name": "stderr",
          "text": [
            "\r 56%|█████▋    | 61/108 [06:53<05:55,  7.55s/it]"
          ]
        },
        {
          "output_type": "stream",
          "name": "stdout",
          "text": [
            "Epoch 5/5, Train Loss: 0.6832, Train Accuracy: 53.55%, Validation Loss: 0.6759, Validation Accuracy: 60.20\n",
            "Hyperparameters: LR=0.01, Optimizer=Adam, Loss=CrossEntropyLoss, Batch Size=128, Embedding Dim=100, Test Loss: 0.6781, Test Accuracy: 59.70\n",
            "Epoch 1/5, Train Loss: 0.7018, Train Accuracy: 54.01%, Validation Loss: 0.6721, Validation Accuracy: 60.20\n",
            "Epoch 2/5, Train Loss: 0.6867, Train Accuracy: 52.97%, Validation Loss: 0.6769, Validation Accuracy: 60.20\n",
            "Epoch 3/5, Train Loss: 0.6864, Train Accuracy: 53.26%, Validation Loss: 0.6819, Validation Accuracy: 60.20\n",
            "Epoch 4/5, Train Loss: 0.6877, Train Accuracy: 52.91%, Validation Loss: 0.6699, Validation Accuracy: 60.20\n"
          ]
        },
        {
          "output_type": "stream",
          "name": "stderr",
          "text": [
            "\r 57%|█████▋    | 62/108 [06:57<05:02,  6.57s/it]"
          ]
        },
        {
          "output_type": "stream",
          "name": "stdout",
          "text": [
            "Epoch 5/5, Train Loss: 0.6852, Train Accuracy: 53.37%, Validation Loss: 0.6678, Validation Accuracy: 60.20\n",
            "Hyperparameters: LR=0.01, Optimizer=Adam, Loss=CrossEntropyLoss, Batch Size=128, Embedding Dim=200, Test Loss: 0.6721, Test Accuracy: 59.70\n",
            "Epoch 1/5, Train Loss: 0.6933, Train Accuracy: 53.45%, Validation Loss: 0.6804, Validation Accuracy: 60.20\n",
            "Epoch 2/5, Train Loss: 0.6868, Train Accuracy: 52.60%, Validation Loss: 0.6668, Validation Accuracy: 60.20\n",
            "Epoch 3/5, Train Loss: 0.6857, Train Accuracy: 53.35%, Validation Loss: 0.6728, Validation Accuracy: 60.20\n",
            "Epoch 4/5, Train Loss: 0.6891, Train Accuracy: 53.16%, Validation Loss: 0.6665, Validation Accuracy: 60.20\n"
          ]
        },
        {
          "output_type": "stream",
          "name": "stderr",
          "text": [
            "\r 58%|█████▊    | 63/108 [07:02<04:33,  6.09s/it]"
          ]
        },
        {
          "output_type": "stream",
          "name": "stdout",
          "text": [
            "Epoch 5/5, Train Loss: 0.6879, Train Accuracy: 53.22%, Validation Loss: 0.6855, Validation Accuracy: 60.20\n",
            "Hyperparameters: LR=0.01, Optimizer=Adam, Loss=CrossEntropyLoss, Batch Size=128, Embedding Dim=300, Test Loss: 0.6863, Test Accuracy: 59.70\n",
            "Epoch 1/5, Train Loss: 0.1765, Train Accuracy: 52.25%, Validation Loss: 0.1613, Validation Accuracy: 60.20\n",
            "Epoch 2/5, Train Loss: 0.1720, Train Accuracy: 52.53%, Validation Loss: 0.1608, Validation Accuracy: 60.20\n",
            "Epoch 3/5, Train Loss: 0.1755, Train Accuracy: 52.29%, Validation Loss: 0.1638, Validation Accuracy: 60.20\n",
            "Epoch 4/5, Train Loss: 0.1729, Train Accuracy: 53.11%, Validation Loss: 0.1608, Validation Accuracy: 60.20\n"
          ]
        },
        {
          "output_type": "stream",
          "name": "stderr",
          "text": [
            "\r 59%|█████▉    | 64/108 [07:10<04:55,  6.71s/it]"
          ]
        },
        {
          "output_type": "stream",
          "name": "stdout",
          "text": [
            "Epoch 5/5, Train Loss: 0.1697, Train Accuracy: 53.42%, Validation Loss: 0.1626, Validation Accuracy: 60.20\n",
            "Hyperparameters: LR=0.01, Optimizer=Adam, Loss=FocalLoss, Batch Size=32, Embedding Dim=100, Test Loss: 0.1635, Test Accuracy: 59.70\n",
            "Epoch 1/5, Train Loss: 0.1762, Train Accuracy: 52.70%, Validation Loss: 0.1608, Validation Accuracy: 60.20\n",
            "Epoch 2/5, Train Loss: 0.1784, Train Accuracy: 51.37%, Validation Loss: 0.1635, Validation Accuracy: 60.20\n",
            "Epoch 3/5, Train Loss: 0.1720, Train Accuracy: 52.59%, Validation Loss: 0.1747, Validation Accuracy: 39.80\n",
            "Epoch 4/5, Train Loss: 0.1765, Train Accuracy: 51.91%, Validation Loss: 0.1824, Validation Accuracy: 60.20\n"
          ]
        },
        {
          "output_type": "stream",
          "name": "stderr",
          "text": [
            "\r 60%|██████    | 65/108 [07:19<05:18,  7.40s/it]"
          ]
        },
        {
          "output_type": "stream",
          "name": "stdout",
          "text": [
            "Epoch 5/5, Train Loss: 0.1735, Train Accuracy: 51.99%, Validation Loss: 0.1654, Validation Accuracy: 60.20\n",
            "Hyperparameters: LR=0.01, Optimizer=Adam, Loss=FocalLoss, Batch Size=32, Embedding Dim=200, Test Loss: 0.1681, Test Accuracy: 59.70\n",
            "Epoch 1/5, Train Loss: 0.1839, Train Accuracy: 52.24%, Validation Loss: 0.1622, Validation Accuracy: 60.20\n",
            "Epoch 2/5, Train Loss: 0.1737, Train Accuracy: 52.04%, Validation Loss: 0.1628, Validation Accuracy: 60.20\n",
            "Epoch 3/5, Train Loss: 0.1729, Train Accuracy: 52.29%, Validation Loss: 0.1659, Validation Accuracy: 60.20\n",
            "Epoch 4/5, Train Loss: 0.1750, Train Accuracy: 51.81%, Validation Loss: 0.1611, Validation Accuracy: 60.20\n"
          ]
        },
        {
          "output_type": "stream",
          "name": "stderr",
          "text": [
            "\r 61%|██████    | 66/108 [07:30<05:50,  8.35s/it]"
          ]
        },
        {
          "output_type": "stream",
          "name": "stdout",
          "text": [
            "Epoch 5/5, Train Loss: 0.1749, Train Accuracy: 52.54%, Validation Loss: 0.1622, Validation Accuracy: 60.20\n",
            "Hyperparameters: LR=0.01, Optimizer=Adam, Loss=FocalLoss, Batch Size=32, Embedding Dim=300, Test Loss: 0.1632, Test Accuracy: 59.70\n",
            "Epoch 1/5, Train Loss: 0.1736, Train Accuracy: 53.20%, Validation Loss: 0.1654, Validation Accuracy: 60.20\n",
            "Epoch 2/5, Train Loss: 0.1710, Train Accuracy: 52.73%, Validation Loss: 0.1713, Validation Accuracy: 60.20\n",
            "Epoch 3/5, Train Loss: 0.1707, Train Accuracy: 52.72%, Validation Loss: 0.1635, Validation Accuracy: 60.20\n",
            "Epoch 4/5, Train Loss: 0.1710, Train Accuracy: 52.43%, Validation Loss: 0.1704, Validation Accuracy: 60.20\n"
          ]
        },
        {
          "output_type": "stream",
          "name": "stderr",
          "text": [
            "\r 62%|██████▏   | 67/108 [07:34<04:55,  7.20s/it]"
          ]
        },
        {
          "output_type": "stream",
          "name": "stdout",
          "text": [
            "Epoch 5/5, Train Loss: 0.1713, Train Accuracy: 52.48%, Validation Loss: 0.1598, Validation Accuracy: 60.20\n",
            "Hyperparameters: LR=0.01, Optimizer=Adam, Loss=FocalLoss, Batch Size=64, Embedding Dim=100, Test Loss: 0.1618, Test Accuracy: 59.70\n",
            "Epoch 1/5, Train Loss: 0.1759, Train Accuracy: 52.62%, Validation Loss: 0.1604, Validation Accuracy: 60.20\n",
            "Epoch 2/5, Train Loss: 0.1689, Train Accuracy: 53.71%, Validation Loss: 0.1618, Validation Accuracy: 60.20\n",
            "Epoch 3/5, Train Loss: 0.1722, Train Accuracy: 52.67%, Validation Loss: 0.1605, Validation Accuracy: 60.20\n",
            "Epoch 4/5, Train Loss: 0.1697, Train Accuracy: 52.83%, Validation Loss: 0.1598, Validation Accuracy: 60.20\n"
          ]
        },
        {
          "output_type": "stream",
          "name": "stderr",
          "text": [
            "\r 63%|██████▎   | 68/108 [07:40<04:32,  6.81s/it]"
          ]
        },
        {
          "output_type": "stream",
          "name": "stdout",
          "text": [
            "Epoch 5/5, Train Loss: 0.1713, Train Accuracy: 52.18%, Validation Loss: 0.1616, Validation Accuracy: 60.20\n",
            "Hyperparameters: LR=0.01, Optimizer=Adam, Loss=FocalLoss, Batch Size=64, Embedding Dim=200, Test Loss: 0.1645, Test Accuracy: 59.70\n",
            "Epoch 1/5, Train Loss: 0.1735, Train Accuracy: 53.56%, Validation Loss: 0.1632, Validation Accuracy: 60.20\n",
            "Epoch 2/5, Train Loss: 0.1682, Train Accuracy: 54.36%, Validation Loss: 0.1600, Validation Accuracy: 60.20\n",
            "Epoch 3/5, Train Loss: 0.1695, Train Accuracy: 54.01%, Validation Loss: 0.1598, Validation Accuracy: 60.20\n",
            "Epoch 4/5, Train Loss: 0.1693, Train Accuracy: 53.57%, Validation Loss: 0.1621, Validation Accuracy: 60.20\n"
          ]
        },
        {
          "output_type": "stream",
          "name": "stderr",
          "text": [
            "\r 64%|██████▍   | 69/108 [07:47<04:26,  6.84s/it]"
          ]
        },
        {
          "output_type": "stream",
          "name": "stdout",
          "text": [
            "Epoch 5/5, Train Loss: 0.1684, Train Accuracy: 54.87%, Validation Loss: 0.1633, Validation Accuracy: 60.20\n",
            "Hyperparameters: LR=0.01, Optimizer=Adam, Loss=FocalLoss, Batch Size=64, Embedding Dim=300, Test Loss: 0.1643, Test Accuracy: 59.70\n",
            "Epoch 1/5, Train Loss: 0.1818, Train Accuracy: 54.19%, Validation Loss: 0.1583, Validation Accuracy: 60.20\n",
            "Epoch 2/5, Train Loss: 0.1660, Train Accuracy: 55.33%, Validation Loss: 0.1615, Validation Accuracy: 60.20\n",
            "Epoch 3/5, Train Loss: 0.1672, Train Accuracy: 54.58%, Validation Loss: 0.1643, Validation Accuracy: 60.20\n",
            "Epoch 4/5, Train Loss: 0.1664, Train Accuracy: 55.37%, Validation Loss: 0.1636, Validation Accuracy: 60.20\n"
          ]
        },
        {
          "output_type": "stream",
          "name": "stderr",
          "text": [
            "\r 65%|██████▍   | 70/108 [07:57<04:52,  7.69s/it]"
          ]
        },
        {
          "output_type": "stream",
          "name": "stdout",
          "text": [
            "Epoch 5/5, Train Loss: 0.1667, Train Accuracy: 54.60%, Validation Loss: 0.1606, Validation Accuracy: 60.20\n",
            "Hyperparameters: LR=0.01, Optimizer=Adam, Loss=FocalLoss, Batch Size=128, Embedding Dim=100, Test Loss: 0.1624, Test Accuracy: 59.70\n",
            "Epoch 1/5, Train Loss: 0.1842, Train Accuracy: 53.92%, Validation Loss: 0.1595, Validation Accuracy: 60.20\n",
            "Epoch 2/5, Train Loss: 0.1675, Train Accuracy: 54.70%, Validation Loss: 0.1598, Validation Accuracy: 60.20\n",
            "Epoch 3/5, Train Loss: 0.1675, Train Accuracy: 53.65%, Validation Loss: 0.1628, Validation Accuracy: 60.20\n",
            "Epoch 4/5, Train Loss: 0.1679, Train Accuracy: 54.33%, Validation Loss: 0.1596, Validation Accuracy: 60.20\n"
          ]
        },
        {
          "output_type": "stream",
          "name": "stderr",
          "text": [
            "\r 66%|██████▌   | 71/108 [08:01<04:05,  6.64s/it]"
          ]
        },
        {
          "output_type": "stream",
          "name": "stdout",
          "text": [
            "Epoch 5/5, Train Loss: 0.1684, Train Accuracy: 53.74%, Validation Loss: 0.1581, Validation Accuracy: 60.20\n",
            "Hyperparameters: LR=0.01, Optimizer=Adam, Loss=FocalLoss, Batch Size=128, Embedding Dim=200, Test Loss: 0.1611, Test Accuracy: 59.70\n",
            "Epoch 1/5, Train Loss: 0.1907, Train Accuracy: 52.92%, Validation Loss: 0.1601, Validation Accuracy: 60.20\n",
            "Epoch 2/5, Train Loss: 0.1675, Train Accuracy: 54.36%, Validation Loss: 0.1584, Validation Accuracy: 60.20\n",
            "Epoch 3/5, Train Loss: 0.1678, Train Accuracy: 54.96%, Validation Loss: 0.1635, Validation Accuracy: 60.20\n",
            "Epoch 4/5, Train Loss: 0.1691, Train Accuracy: 53.48%, Validation Loss: 0.1582, Validation Accuracy: 60.20\n"
          ]
        },
        {
          "output_type": "stream",
          "name": "stderr",
          "text": [
            "\r 67%|██████▋   | 72/108 [08:06<03:40,  6.13s/it]"
          ]
        },
        {
          "output_type": "stream",
          "name": "stdout",
          "text": [
            "Epoch 5/5, Train Loss: 0.1680, Train Accuracy: 54.78%, Validation Loss: 0.1608, Validation Accuracy: 60.20\n",
            "Hyperparameters: LR=0.01, Optimizer=Adam, Loss=FocalLoss, Batch Size=128, Embedding Dim=300, Test Loss: 0.1626, Test Accuracy: 59.70\n",
            "Epoch 1/5, Train Loss: 0.6817, Train Accuracy: 55.13%, Validation Loss: 0.6773, Validation Accuracy: 60.20\n",
            "Epoch 2/5, Train Loss: 0.6801, Train Accuracy: 55.06%, Validation Loss: 0.6746, Validation Accuracy: 60.20\n",
            "Epoch 3/5, Train Loss: 0.6794, Train Accuracy: 54.67%, Validation Loss: 0.6765, Validation Accuracy: 60.20\n",
            "Epoch 4/5, Train Loss: 0.6780, Train Accuracy: 54.71%, Validation Loss: 0.6730, Validation Accuracy: 60.20\n"
          ]
        },
        {
          "output_type": "stream",
          "name": "stderr",
          "text": [
            "\r 68%|██████▊   | 73/108 [08:13<03:45,  6.43s/it]"
          ]
        },
        {
          "output_type": "stream",
          "name": "stdout",
          "text": [
            "Epoch 5/5, Train Loss: 0.6767, Train Accuracy: 55.22%, Validation Loss: 0.6713, Validation Accuracy: 60.20\n",
            "Hyperparameters: LR=0.01, Optimizer=SGD, Loss=CrossEntropyLoss, Batch Size=32, Embedding Dim=100, Test Loss: 0.6738, Test Accuracy: 59.70\n",
            "Epoch 1/5, Train Loss: 0.6817, Train Accuracy: 54.46%, Validation Loss: 0.6739, Validation Accuracy: 60.20\n",
            "Epoch 2/5, Train Loss: 0.6791, Train Accuracy: 55.00%, Validation Loss: 0.6751, Validation Accuracy: 60.20\n",
            "Epoch 3/5, Train Loss: 0.6792, Train Accuracy: 54.42%, Validation Loss: 0.6748, Validation Accuracy: 60.20\n",
            "Epoch 4/5, Train Loss: 0.6768, Train Accuracy: 55.45%, Validation Loss: 0.6753, Validation Accuracy: 60.20\n"
          ]
        },
        {
          "output_type": "stream",
          "name": "stderr",
          "text": [
            "\r 69%|██████▊   | 74/108 [08:20<03:44,  6.60s/it]"
          ]
        },
        {
          "output_type": "stream",
          "name": "stdout",
          "text": [
            "Epoch 5/5, Train Loss: 0.6751, Train Accuracy: 55.15%, Validation Loss: 0.6702, Validation Accuracy: 60.20\n",
            "Hyperparameters: LR=0.01, Optimizer=SGD, Loss=CrossEntropyLoss, Batch Size=32, Embedding Dim=200, Test Loss: 0.6741, Test Accuracy: 59.70\n",
            "Epoch 1/5, Train Loss: 0.6814, Train Accuracy: 54.40%, Validation Loss: 0.6739, Validation Accuracy: 60.20\n",
            "Epoch 2/5, Train Loss: 0.6801, Train Accuracy: 54.44%, Validation Loss: 0.6725, Validation Accuracy: 60.20\n",
            "Epoch 3/5, Train Loss: 0.6779, Train Accuracy: 54.64%, Validation Loss: 0.6768, Validation Accuracy: 60.20\n",
            "Epoch 4/5, Train Loss: 0.6744, Train Accuracy: 55.23%, Validation Loss: 0.6722, Validation Accuracy: 60.20\n"
          ]
        },
        {
          "output_type": "stream",
          "name": "stderr",
          "text": [
            "\r 69%|██████▉   | 75/108 [08:28<03:52,  7.03s/it]"
          ]
        },
        {
          "output_type": "stream",
          "name": "stdout",
          "text": [
            "Epoch 5/5, Train Loss: 0.6713, Train Accuracy: 55.56%, Validation Loss: 0.6711, Validation Accuracy: 60.20\n",
            "Hyperparameters: LR=0.01, Optimizer=SGD, Loss=CrossEntropyLoss, Batch Size=32, Embedding Dim=300, Test Loss: 0.6733, Test Accuracy: 59.63\n",
            "Epoch 1/5, Train Loss: 0.6807, Train Accuracy: 55.68%, Validation Loss: 0.6731, Validation Accuracy: 60.20\n",
            "Epoch 2/5, Train Loss: 0.6803, Train Accuracy: 55.28%, Validation Loss: 0.6728, Validation Accuracy: 60.20\n",
            "Epoch 3/5, Train Loss: 0.6804, Train Accuracy: 54.70%, Validation Loss: 0.6729, Validation Accuracy: 60.20\n",
            "Epoch 4/5, Train Loss: 0.6795, Train Accuracy: 55.02%, Validation Loss: 0.6721, Validation Accuracy: 60.20\n"
          ]
        },
        {
          "output_type": "stream",
          "name": "stderr",
          "text": [
            "\r 70%|███████   | 76/108 [08:32<03:17,  6.17s/it]"
          ]
        },
        {
          "output_type": "stream",
          "name": "stdout",
          "text": [
            "Epoch 5/5, Train Loss: 0.6801, Train Accuracy: 55.26%, Validation Loss: 0.6747, Validation Accuracy: 60.20\n",
            "Hyperparameters: LR=0.01, Optimizer=SGD, Loss=CrossEntropyLoss, Batch Size=64, Embedding Dim=100, Test Loss: 0.6759, Test Accuracy: 59.70\n",
            "Epoch 1/5, Train Loss: 0.6827, Train Accuracy: 54.42%, Validation Loss: 0.6721, Validation Accuracy: 60.20\n",
            "Epoch 2/5, Train Loss: 0.6799, Train Accuracy: 54.83%, Validation Loss: 0.6705, Validation Accuracy: 60.20\n",
            "Epoch 3/5, Train Loss: 0.6803, Train Accuracy: 54.60%, Validation Loss: 0.6749, Validation Accuracy: 60.20\n",
            "Epoch 4/5, Train Loss: 0.6792, Train Accuracy: 54.30%, Validation Loss: 0.6721, Validation Accuracy: 60.20\n"
          ]
        },
        {
          "output_type": "stream",
          "name": "stderr",
          "text": [
            "\r 71%|███████▏  | 77/108 [08:37<02:56,  5.69s/it]"
          ]
        },
        {
          "output_type": "stream",
          "name": "stdout",
          "text": [
            "Epoch 5/5, Train Loss: 0.6768, Train Accuracy: 55.40%, Validation Loss: 0.6729, Validation Accuracy: 60.20\n",
            "Hyperparameters: LR=0.01, Optimizer=SGD, Loss=CrossEntropyLoss, Batch Size=64, Embedding Dim=200, Test Loss: 0.6746, Test Accuracy: 59.70\n",
            "Epoch 1/5, Train Loss: 0.6823, Train Accuracy: 54.56%, Validation Loss: 0.6743, Validation Accuracy: 60.20\n",
            "Epoch 2/5, Train Loss: 0.6805, Train Accuracy: 54.73%, Validation Loss: 0.6741, Validation Accuracy: 60.20\n",
            "Epoch 3/5, Train Loss: 0.6784, Train Accuracy: 55.24%, Validation Loss: 0.6721, Validation Accuracy: 60.20\n",
            "Epoch 4/5, Train Loss: 0.6790, Train Accuracy: 54.83%, Validation Loss: 0.6760, Validation Accuracy: 60.20\n"
          ]
        },
        {
          "output_type": "stream",
          "name": "stderr",
          "text": [
            "\r 72%|███████▏  | 78/108 [08:42<02:50,  5.67s/it]"
          ]
        },
        {
          "output_type": "stream",
          "name": "stdout",
          "text": [
            "Epoch 5/5, Train Loss: 0.6780, Train Accuracy: 54.91%, Validation Loss: 0.6734, Validation Accuracy: 60.20\n",
            "Hyperparameters: LR=0.01, Optimizer=SGD, Loss=CrossEntropyLoss, Batch Size=64, Embedding Dim=300, Test Loss: 0.6743, Test Accuracy: 59.70\n",
            "Epoch 1/5, Train Loss: 0.6804, Train Accuracy: 54.41%, Validation Loss: 0.6675, Validation Accuracy: 60.20\n",
            "Epoch 2/5, Train Loss: 0.6808, Train Accuracy: 54.49%, Validation Loss: 0.6725, Validation Accuracy: 60.20\n",
            "Epoch 3/5, Train Loss: 0.6826, Train Accuracy: 53.86%, Validation Loss: 0.6714, Validation Accuracy: 60.20\n",
            "Epoch 4/5, Train Loss: 0.6800, Train Accuracy: 54.69%, Validation Loss: 0.6700, Validation Accuracy: 60.20\n"
          ]
        },
        {
          "output_type": "stream",
          "name": "stderr",
          "text": [
            "\r 73%|███████▎  | 79/108 [08:52<03:16,  6.77s/it]"
          ]
        },
        {
          "output_type": "stream",
          "name": "stdout",
          "text": [
            "Epoch 5/5, Train Loss: 0.6792, Train Accuracy: 55.40%, Validation Loss: 0.6712, Validation Accuracy: 60.20\n",
            "Hyperparameters: LR=0.01, Optimizer=SGD, Loss=CrossEntropyLoss, Batch Size=128, Embedding Dim=100, Test Loss: 0.6751, Test Accuracy: 59.70\n",
            "Epoch 1/5, Train Loss: 0.6837, Train Accuracy: 53.67%, Validation Loss: 0.6732, Validation Accuracy: 60.20\n",
            "Epoch 2/5, Train Loss: 0.6831, Train Accuracy: 54.18%, Validation Loss: 0.6733, Validation Accuracy: 60.20\n",
            "Epoch 3/5, Train Loss: 0.6808, Train Accuracy: 54.46%, Validation Loss: 0.6738, Validation Accuracy: 60.20\n",
            "Epoch 4/5, Train Loss: 0.6795, Train Accuracy: 55.10%, Validation Loss: 0.6720, Validation Accuracy: 60.20\n"
          ]
        },
        {
          "output_type": "stream",
          "name": "stderr",
          "text": [
            "\r 74%|███████▍  | 80/108 [08:55<02:41,  5.77s/it]"
          ]
        },
        {
          "output_type": "stream",
          "name": "stdout",
          "text": [
            "Epoch 5/5, Train Loss: 0.6782, Train Accuracy: 55.99%, Validation Loss: 0.6705, Validation Accuracy: 60.20\n",
            "Hyperparameters: LR=0.01, Optimizer=SGD, Loss=CrossEntropyLoss, Batch Size=128, Embedding Dim=200, Test Loss: 0.6761, Test Accuracy: 59.70\n",
            "Epoch 1/5, Train Loss: 0.6830, Train Accuracy: 53.70%, Validation Loss: 0.6732, Validation Accuracy: 60.20\n",
            "Epoch 2/5, Train Loss: 0.6817, Train Accuracy: 54.56%, Validation Loss: 0.6748, Validation Accuracy: 60.20\n",
            "Epoch 3/5, Train Loss: 0.6807, Train Accuracy: 55.06%, Validation Loss: 0.6716, Validation Accuracy: 60.20\n",
            "Epoch 4/5, Train Loss: 0.6790, Train Accuracy: 55.19%, Validation Loss: 0.6719, Validation Accuracy: 60.20\n"
          ]
        },
        {
          "output_type": "stream",
          "name": "stderr",
          "text": [
            "\r 75%|███████▌  | 81/108 [09:00<02:26,  5.44s/it]"
          ]
        },
        {
          "output_type": "stream",
          "name": "stdout",
          "text": [
            "Epoch 5/5, Train Loss: 0.6794, Train Accuracy: 54.77%, Validation Loss: 0.6736, Validation Accuracy: 60.20\n",
            "Hyperparameters: LR=0.01, Optimizer=SGD, Loss=CrossEntropyLoss, Batch Size=128, Embedding Dim=300, Test Loss: 0.6752, Test Accuracy: 59.70\n",
            "Epoch 1/5, Train Loss: 0.1675, Train Accuracy: 54.97%, Validation Loss: 0.1622, Validation Accuracy: 60.20\n",
            "Epoch 2/5, Train Loss: 0.1664, Train Accuracy: 55.28%, Validation Loss: 0.1625, Validation Accuracy: 60.20\n",
            "Epoch 3/5, Train Loss: 0.1659, Train Accuracy: 55.09%, Validation Loss: 0.1614, Validation Accuracy: 60.20\n",
            "Epoch 4/5, Train Loss: 0.1648, Train Accuracy: 54.91%, Validation Loss: 0.1613, Validation Accuracy: 60.20\n"
          ]
        },
        {
          "output_type": "stream",
          "name": "stderr",
          "text": [
            "\r 76%|███████▌  | 82/108 [09:07<02:31,  5.85s/it]"
          ]
        },
        {
          "output_type": "stream",
          "name": "stdout",
          "text": [
            "Epoch 5/5, Train Loss: 0.1660, Train Accuracy: 54.55%, Validation Loss: 0.1635, Validation Accuracy: 60.20\n",
            "Hyperparameters: LR=0.01, Optimizer=SGD, Loss=FocalLoss, Batch Size=32, Embedding Dim=100, Test Loss: 0.1643, Test Accuracy: 59.70\n",
            "Epoch 1/5, Train Loss: 0.1658, Train Accuracy: 55.42%, Validation Loss: 0.1623, Validation Accuracy: 60.20\n",
            "Epoch 2/5, Train Loss: 0.1656, Train Accuracy: 55.34%, Validation Loss: 0.1616, Validation Accuracy: 60.20\n",
            "Epoch 3/5, Train Loss: 0.1645, Train Accuracy: 55.79%, Validation Loss: 0.1628, Validation Accuracy: 60.20\n",
            "Epoch 4/5, Train Loss: 0.1652, Train Accuracy: 54.85%, Validation Loss: 0.1627, Validation Accuracy: 60.20\n"
          ]
        },
        {
          "output_type": "stream",
          "name": "stderr",
          "text": [
            "\r 77%|███████▋  | 83/108 [09:14<02:40,  6.42s/it]"
          ]
        },
        {
          "output_type": "stream",
          "name": "stdout",
          "text": [
            "Epoch 5/5, Train Loss: 0.1639, Train Accuracy: 55.58%, Validation Loss: 0.1615, Validation Accuracy: 60.20\n",
            "Hyperparameters: LR=0.01, Optimizer=SGD, Loss=FocalLoss, Batch Size=32, Embedding Dim=200, Test Loss: 0.1624, Test Accuracy: 59.70\n",
            "Epoch 1/5, Train Loss: 0.1676, Train Accuracy: 54.06%, Validation Loss: 0.1635, Validation Accuracy: 60.20\n",
            "Epoch 2/5, Train Loss: 0.1663, Train Accuracy: 54.62%, Validation Loss: 0.1638, Validation Accuracy: 60.20\n",
            "Epoch 3/5, Train Loss: 0.1651, Train Accuracy: 55.11%, Validation Loss: 0.1636, Validation Accuracy: 60.20\n",
            "Epoch 4/5, Train Loss: 0.1645, Train Accuracy: 55.08%, Validation Loss: 0.1644, Validation Accuracy: 60.20\n"
          ]
        },
        {
          "output_type": "stream",
          "name": "stderr",
          "text": [
            "\r 78%|███████▊  | 84/108 [09:22<02:46,  6.92s/it]"
          ]
        },
        {
          "output_type": "stream",
          "name": "stdout",
          "text": [
            "Epoch 5/5, Train Loss: 0.1635, Train Accuracy: 54.58%, Validation Loss: 0.1619, Validation Accuracy: 60.20\n",
            "Hyperparameters: LR=0.01, Optimizer=SGD, Loss=FocalLoss, Batch Size=32, Embedding Dim=300, Test Loss: 0.1617, Test Accuracy: 59.70\n",
            "Epoch 1/5, Train Loss: 0.1668, Train Accuracy: 54.68%, Validation Loss: 0.1627, Validation Accuracy: 60.20\n",
            "Epoch 2/5, Train Loss: 0.1658, Train Accuracy: 54.81%, Validation Loss: 0.1630, Validation Accuracy: 60.20\n",
            "Epoch 3/5, Train Loss: 0.1658, Train Accuracy: 54.88%, Validation Loss: 0.1628, Validation Accuracy: 60.20\n",
            "Epoch 4/5, Train Loss: 0.1659, Train Accuracy: 54.77%, Validation Loss: 0.1625, Validation Accuracy: 60.20\n"
          ]
        },
        {
          "output_type": "stream",
          "name": "stderr",
          "text": [
            "\r 79%|███████▊  | 85/108 [09:26<02:19,  6.06s/it]"
          ]
        },
        {
          "output_type": "stream",
          "name": "stdout",
          "text": [
            "Epoch 5/5, Train Loss: 0.1663, Train Accuracy: 54.26%, Validation Loss: 0.1633, Validation Accuracy: 60.20\n",
            "Hyperparameters: LR=0.01, Optimizer=SGD, Loss=FocalLoss, Batch Size=64, Embedding Dim=100, Test Loss: 0.1649, Test Accuracy: 59.70\n",
            "Epoch 1/5, Train Loss: 0.1664, Train Accuracy: 54.56%, Validation Loss: 0.1630, Validation Accuracy: 60.20\n",
            "Epoch 2/5, Train Loss: 0.1657, Train Accuracy: 54.66%, Validation Loss: 0.1616, Validation Accuracy: 60.20\n",
            "Epoch 3/5, Train Loss: 0.1646, Train Accuracy: 55.51%, Validation Loss: 0.1617, Validation Accuracy: 60.20\n",
            "Epoch 4/5, Train Loss: 0.1656, Train Accuracy: 54.79%, Validation Loss: 0.1622, Validation Accuracy: 60.20\n"
          ]
        },
        {
          "output_type": "stream",
          "name": "stderr",
          "text": [
            "\r 80%|███████▉  | 86/108 [09:32<02:09,  5.90s/it]"
          ]
        },
        {
          "output_type": "stream",
          "name": "stdout",
          "text": [
            "Epoch 5/5, Train Loss: 0.1645, Train Accuracy: 55.38%, Validation Loss: 0.1616, Validation Accuracy: 60.20\n",
            "Hyperparameters: LR=0.01, Optimizer=SGD, Loss=FocalLoss, Batch Size=64, Embedding Dim=200, Test Loss: 0.1637, Test Accuracy: 59.70\n",
            "Epoch 1/5, Train Loss: 0.1670, Train Accuracy: 54.64%, Validation Loss: 0.1634, Validation Accuracy: 60.20\n",
            "Epoch 2/5, Train Loss: 0.1657, Train Accuracy: 55.31%, Validation Loss: 0.1630, Validation Accuracy: 60.20\n",
            "Epoch 3/5, Train Loss: 0.1652, Train Accuracy: 55.52%, Validation Loss: 0.1633, Validation Accuracy: 60.20\n",
            "Epoch 4/5, Train Loss: 0.1654, Train Accuracy: 54.69%, Validation Loss: 0.1623, Validation Accuracy: 60.20\n"
          ]
        },
        {
          "output_type": "stream",
          "name": "stderr",
          "text": [
            "\r 81%|████████  | 87/108 [09:37<02:00,  5.74s/it]"
          ]
        },
        {
          "output_type": "stream",
          "name": "stdout",
          "text": [
            "Epoch 5/5, Train Loss: 0.1652, Train Accuracy: 54.89%, Validation Loss: 0.1626, Validation Accuracy: 60.20\n",
            "Hyperparameters: LR=0.01, Optimizer=SGD, Loss=FocalLoss, Batch Size=64, Embedding Dim=300, Test Loss: 0.1630, Test Accuracy: 59.70\n",
            "Epoch 1/5, Train Loss: 0.1684, Train Accuracy: 52.92%, Validation Loss: 0.1614, Validation Accuracy: 60.20\n",
            "Epoch 2/5, Train Loss: 0.1662, Train Accuracy: 54.36%, Validation Loss: 0.1615, Validation Accuracy: 60.20\n",
            "Epoch 3/5, Train Loss: 0.1659, Train Accuracy: 55.22%, Validation Loss: 0.1620, Validation Accuracy: 60.20\n",
            "Epoch 4/5, Train Loss: 0.1654, Train Accuracy: 55.47%, Validation Loss: 0.1615, Validation Accuracy: 60.20\n"
          ]
        },
        {
          "output_type": "stream",
          "name": "stderr",
          "text": [
            "\r 81%|████████▏ | 88/108 [09:47<02:18,  6.93s/it]"
          ]
        },
        {
          "output_type": "stream",
          "name": "stdout",
          "text": [
            "Epoch 5/5, Train Loss: 0.1652, Train Accuracy: 54.93%, Validation Loss: 0.1600, Validation Accuracy: 60.20\n",
            "Hyperparameters: LR=0.01, Optimizer=SGD, Loss=FocalLoss, Batch Size=128, Embedding Dim=100, Test Loss: 0.1610, Test Accuracy: 59.70\n",
            "Epoch 1/5, Train Loss: 0.1685, Train Accuracy: 52.47%, Validation Loss: 0.1604, Validation Accuracy: 60.20\n",
            "Epoch 2/5, Train Loss: 0.1651, Train Accuracy: 55.27%, Validation Loss: 0.1589, Validation Accuracy: 60.20\n",
            "Epoch 3/5, Train Loss: 0.1664, Train Accuracy: 54.34%, Validation Loss: 0.1607, Validation Accuracy: 60.20\n",
            "Epoch 4/5, Train Loss: 0.1651, Train Accuracy: 54.92%, Validation Loss: 0.1596, Validation Accuracy: 60.20\n"
          ]
        },
        {
          "output_type": "stream",
          "name": "stderr",
          "text": [
            "\r 82%|████████▏ | 89/108 [09:50<01:51,  5.89s/it]"
          ]
        },
        {
          "output_type": "stream",
          "name": "stdout",
          "text": [
            "Epoch 5/5, Train Loss: 0.1655, Train Accuracy: 55.11%, Validation Loss: 0.1602, Validation Accuracy: 60.20\n",
            "Hyperparameters: LR=0.01, Optimizer=SGD, Loss=FocalLoss, Batch Size=128, Embedding Dim=200, Test Loss: 0.1628, Test Accuracy: 59.70\n",
            "Epoch 1/5, Train Loss: 0.1665, Train Accuracy: 54.48%, Validation Loss: 0.1615, Validation Accuracy: 60.20\n",
            "Epoch 2/5, Train Loss: 0.1652, Train Accuracy: 55.67%, Validation Loss: 0.1615, Validation Accuracy: 60.20\n",
            "Epoch 3/5, Train Loss: 0.1664, Train Accuracy: 53.80%, Validation Loss: 0.1609, Validation Accuracy: 60.20\n",
            "Epoch 4/5, Train Loss: 0.1648, Train Accuracy: 55.54%, Validation Loss: 0.1609, Validation Accuracy: 60.20\n"
          ]
        },
        {
          "output_type": "stream",
          "name": "stderr",
          "text": [
            "\r 83%|████████▎ | 90/108 [09:55<01:37,  5.44s/it]"
          ]
        },
        {
          "output_type": "stream",
          "name": "stdout",
          "text": [
            "Epoch 5/5, Train Loss: 0.1651, Train Accuracy: 54.93%, Validation Loss: 0.1606, Validation Accuracy: 60.20\n",
            "Hyperparameters: LR=0.01, Optimizer=SGD, Loss=FocalLoss, Batch Size=128, Embedding Dim=300, Test Loss: 0.1621, Test Accuracy: 59.70\n",
            "Epoch 1/5, Train Loss: 0.7487, Train Accuracy: 50.35%, Validation Loss: 0.6747, Validation Accuracy: 60.20\n",
            "Epoch 2/5, Train Loss: 0.7315, Train Accuracy: 49.75%, Validation Loss: 0.7233, Validation Accuracy: 60.20\n",
            "Epoch 3/5, Train Loss: 0.7276, Train Accuracy: 50.61%, Validation Loss: 0.7831, Validation Accuracy: 39.80\n",
            "Epoch 4/5, Train Loss: 0.7175, Train Accuracy: 51.30%, Validation Loss: 0.6853, Validation Accuracy: 60.20\n"
          ]
        },
        {
          "output_type": "stream",
          "name": "stderr",
          "text": [
            "\r 84%|████████▍ | 91/108 [10:03<01:44,  6.17s/it]"
          ]
        },
        {
          "output_type": "stream",
          "name": "stdout",
          "text": [
            "Epoch 5/5, Train Loss: 0.7293, Train Accuracy: 50.66%, Validation Loss: 0.9019, Validation Accuracy: 39.80\n",
            "Hyperparameters: LR=0.01, Optimizer=RMSprop, Loss=CrossEntropyLoss, Batch Size=32, Embedding Dim=100, Test Loss: 0.8956, Test Accuracy: 40.30\n",
            "Epoch 1/5, Train Loss: 0.7765, Train Accuracy: 49.86%, Validation Loss: 0.6988, Validation Accuracy: 39.80\n",
            "Epoch 2/5, Train Loss: 0.7328, Train Accuracy: 50.28%, Validation Loss: 0.6884, Validation Accuracy: 60.20\n",
            "Epoch 3/5, Train Loss: 0.7332, Train Accuracy: 50.25%, Validation Loss: 0.6989, Validation Accuracy: 60.20\n",
            "Epoch 4/5, Train Loss: 0.7396, Train Accuracy: 49.77%, Validation Loss: 0.6832, Validation Accuracy: 60.20\n"
          ]
        },
        {
          "output_type": "stream",
          "name": "stderr",
          "text": [
            "\r 85%|████████▌ | 92/108 [10:10<01:45,  6.61s/it]"
          ]
        },
        {
          "output_type": "stream",
          "name": "stdout",
          "text": [
            "Epoch 5/5, Train Loss: 0.7323, Train Accuracy: 50.06%, Validation Loss: 0.6713, Validation Accuracy: 60.20\n",
            "Hyperparameters: LR=0.01, Optimizer=RMSprop, Loss=CrossEntropyLoss, Batch Size=32, Embedding Dim=200, Test Loss: 0.6737, Test Accuracy: 59.70\n",
            "Epoch 1/5, Train Loss: 0.7757, Train Accuracy: 50.33%, Validation Loss: 0.6878, Validation Accuracy: 60.20\n",
            "Epoch 2/5, Train Loss: 0.7399, Train Accuracy: 50.26%, Validation Loss: 0.7153, Validation Accuracy: 39.80\n",
            "Epoch 3/5, Train Loss: 0.7379, Train Accuracy: 50.11%, Validation Loss: 0.6725, Validation Accuracy: 60.20\n",
            "Epoch 4/5, Train Loss: 0.7356, Train Accuracy: 50.82%, Validation Loss: 0.7441, Validation Accuracy: 39.80\n"
          ]
        },
        {
          "output_type": "stream",
          "name": "stderr",
          "text": [
            "\r 86%|████████▌ | 93/108 [10:20<01:52,  7.51s/it]"
          ]
        },
        {
          "output_type": "stream",
          "name": "stdout",
          "text": [
            "Epoch 5/5, Train Loss: 0.7304, Train Accuracy: 50.08%, Validation Loss: 0.6711, Validation Accuracy: 60.20\n",
            "Hyperparameters: LR=0.01, Optimizer=RMSprop, Loss=CrossEntropyLoss, Batch Size=32, Embedding Dim=300, Test Loss: 0.6736, Test Accuracy: 59.70\n",
            "Epoch 1/5, Train Loss: 0.7863, Train Accuracy: 50.97%, Validation Loss: 0.7782, Validation Accuracy: 39.80\n",
            "Epoch 2/5, Train Loss: 0.7148, Train Accuracy: 51.38%, Validation Loss: 0.9134, Validation Accuracy: 60.20\n",
            "Epoch 3/5, Train Loss: 0.7257, Train Accuracy: 51.65%, Validation Loss: 1.0582, Validation Accuracy: 39.80\n",
            "Epoch 4/5, Train Loss: 0.7155, Train Accuracy: 51.80%, Validation Loss: 0.6842, Validation Accuracy: 60.20\n"
          ]
        },
        {
          "output_type": "stream",
          "name": "stderr",
          "text": [
            "\r 87%|████████▋ | 94/108 [10:24<01:30,  6.48s/it]"
          ]
        },
        {
          "output_type": "stream",
          "name": "stdout",
          "text": [
            "Epoch 5/5, Train Loss: 0.7248, Train Accuracy: 49.50%, Validation Loss: 0.7638, Validation Accuracy: 39.80\n",
            "Hyperparameters: LR=0.01, Optimizer=RMSprop, Loss=CrossEntropyLoss, Batch Size=64, Embedding Dim=100, Test Loss: 0.7601, Test Accuracy: 40.30\n",
            "Epoch 1/5, Train Loss: 0.8101, Train Accuracy: 50.60%, Validation Loss: 0.7520, Validation Accuracy: 60.20\n",
            "Epoch 2/5, Train Loss: 0.7162, Train Accuracy: 50.95%, Validation Loss: 0.8117, Validation Accuracy: 39.80\n",
            "Epoch 3/5, Train Loss: 0.7257, Train Accuracy: 50.69%, Validation Loss: 0.7273, Validation Accuracy: 39.80\n",
            "Epoch 4/5, Train Loss: 0.7187, Train Accuracy: 51.23%, Validation Loss: 0.7614, Validation Accuracy: 39.80\n"
          ]
        },
        {
          "output_type": "stream",
          "name": "stderr",
          "text": [
            "\r 88%|████████▊ | 95/108 [10:29<01:19,  6.10s/it]"
          ]
        },
        {
          "output_type": "stream",
          "name": "stdout",
          "text": [
            "Epoch 5/5, Train Loss: 0.7175, Train Accuracy: 51.10%, Validation Loss: 0.7474, Validation Accuracy: 60.20\n",
            "Hyperparameters: LR=0.01, Optimizer=RMSprop, Loss=CrossEntropyLoss, Batch Size=64, Embedding Dim=200, Test Loss: 0.7583, Test Accuracy: 59.70\n",
            "Epoch 1/5, Train Loss: 0.7722, Train Accuracy: 51.57%, Validation Loss: 0.7038, Validation Accuracy: 60.20\n",
            "Epoch 2/5, Train Loss: 0.7231, Train Accuracy: 50.55%, Validation Loss: 0.6695, Validation Accuracy: 60.20\n",
            "Epoch 3/5, Train Loss: 0.7182, Train Accuracy: 50.80%, Validation Loss: 0.6703, Validation Accuracy: 60.20\n",
            "Epoch 4/5, Train Loss: 0.7178, Train Accuracy: 51.02%, Validation Loss: 0.6717, Validation Accuracy: 60.20\n"
          ]
        },
        {
          "output_type": "stream",
          "name": "stderr",
          "text": [
            "\r 89%|████████▉ | 96/108 [10:36<01:14,  6.19s/it]"
          ]
        },
        {
          "output_type": "stream",
          "name": "stdout",
          "text": [
            "Epoch 5/5, Train Loss: 0.7198, Train Accuracy: 50.85%, Validation Loss: 0.7718, Validation Accuracy: 39.80\n",
            "Hyperparameters: LR=0.01, Optimizer=RMSprop, Loss=CrossEntropyLoss, Batch Size=64, Embedding Dim=300, Test Loss: 0.7678, Test Accuracy: 40.30\n",
            "Epoch 1/5, Train Loss: 0.8530, Train Accuracy: 49.81%, Validation Loss: 0.6884, Validation Accuracy: 60.20\n",
            "Epoch 2/5, Train Loss: 0.7163, Train Accuracy: 51.32%, Validation Loss: 0.7129, Validation Accuracy: 60.20\n",
            "Epoch 3/5, Train Loss: 0.7181, Train Accuracy: 51.66%, Validation Loss: 0.6772, Validation Accuracy: 60.20\n",
            "Epoch 4/5, Train Loss: 0.7313, Train Accuracy: 49.46%, Validation Loss: 0.6848, Validation Accuracy: 60.20\n"
          ]
        },
        {
          "output_type": "stream",
          "name": "stderr",
          "text": [
            "\r 90%|████████▉ | 97/108 [10:45<01:18,  7.14s/it]"
          ]
        },
        {
          "output_type": "stream",
          "name": "stdout",
          "text": [
            "Epoch 5/5, Train Loss: 0.7277, Train Accuracy: 50.44%, Validation Loss: 1.3498, Validation Accuracy: 39.80\n",
            "Hyperparameters: LR=0.01, Optimizer=RMSprop, Loss=CrossEntropyLoss, Batch Size=128, Embedding Dim=100, Test Loss: 1.3263, Test Accuracy: 40.30\n",
            "Epoch 1/5, Train Loss: 0.8328, Train Accuracy: 50.55%, Validation Loss: 0.7124, Validation Accuracy: 39.80\n",
            "Epoch 2/5, Train Loss: 0.7268, Train Accuracy: 50.45%, Validation Loss: 0.6666, Validation Accuracy: 60.20\n",
            "Epoch 3/5, Train Loss: 0.7176, Train Accuracy: 50.89%, Validation Loss: 0.6991, Validation Accuracy: 39.80\n",
            "Epoch 4/5, Train Loss: 0.7281, Train Accuracy: 49.65%, Validation Loss: 0.6892, Validation Accuracy: 60.20\n"
          ]
        },
        {
          "output_type": "stream",
          "name": "stderr",
          "text": [
            "\r 91%|█████████ | 98/108 [10:49<01:02,  6.20s/it]"
          ]
        },
        {
          "output_type": "stream",
          "name": "stdout",
          "text": [
            "Epoch 5/5, Train Loss: 0.7174, Train Accuracy: 51.16%, Validation Loss: 0.6860, Validation Accuracy: 60.20\n",
            "Hyperparameters: LR=0.01, Optimizer=RMSprop, Loss=CrossEntropyLoss, Batch Size=128, Embedding Dim=200, Test Loss: 0.6964, Test Accuracy: 59.70\n",
            "Epoch 1/5, Train Loss: 0.8087, Train Accuracy: 49.99%, Validation Loss: 0.6674, Validation Accuracy: 60.20\n",
            "Epoch 2/5, Train Loss: 0.7267, Train Accuracy: 50.32%, Validation Loss: 1.1553, Validation Accuracy: 39.80\n",
            "Epoch 3/5, Train Loss: 0.7150, Train Accuracy: 51.83%, Validation Loss: 0.6665, Validation Accuracy: 60.20\n",
            "Epoch 4/5, Train Loss: 0.7155, Train Accuracy: 50.64%, Validation Loss: 0.7894, Validation Accuracy: 60.20\n"
          ]
        },
        {
          "output_type": "stream",
          "name": "stderr",
          "text": [
            "\r 92%|█████████▏| 99/108 [10:54<00:51,  5.74s/it]"
          ]
        },
        {
          "output_type": "stream",
          "name": "stdout",
          "text": [
            "Epoch 5/5, Train Loss: 0.7086, Train Accuracy: 51.58%, Validation Loss: 0.6769, Validation Accuracy: 60.20\n",
            "Hyperparameters: LR=0.01, Optimizer=RMSprop, Loss=CrossEntropyLoss, Batch Size=128, Embedding Dim=300, Test Loss: 0.6789, Test Accuracy: 59.70\n",
            "Epoch 1/5, Train Loss: 0.2293, Train Accuracy: 50.17%, Validation Loss: 0.1650, Validation Accuracy: 60.20\n",
            "Epoch 2/5, Train Loss: 0.1942, Train Accuracy: 51.08%, Validation Loss: 0.1667, Validation Accuracy: 60.20\n",
            "Epoch 3/5, Train Loss: 0.2040, Train Accuracy: 50.56%, Validation Loss: 0.1611, Validation Accuracy: 60.20\n",
            "Epoch 4/5, Train Loss: 0.2005, Train Accuracy: 51.49%, Validation Loss: 0.1610, Validation Accuracy: 60.20\n"
          ]
        },
        {
          "output_type": "stream",
          "name": "stderr",
          "text": [
            "\r 93%|█████████▎| 100/108 [11:01<00:50,  6.31s/it]"
          ]
        },
        {
          "output_type": "stream",
          "name": "stdout",
          "text": [
            "Epoch 5/5, Train Loss: 0.2061, Train Accuracy: 50.05%, Validation Loss: 0.2132, Validation Accuracy: 39.80\n",
            "Hyperparameters: LR=0.01, Optimizer=RMSprop, Loss=FocalLoss, Batch Size=32, Embedding Dim=100, Test Loss: 0.2115, Test Accuracy: 40.30\n",
            "Epoch 1/5, Train Loss: 0.2346, Train Accuracy: 50.65%, Validation Loss: 0.1617, Validation Accuracy: 60.20\n",
            "Epoch 2/5, Train Loss: 0.2044, Train Accuracy: 50.56%, Validation Loss: 0.2023, Validation Accuracy: 39.80\n",
            "Epoch 3/5, Train Loss: 0.2057, Train Accuracy: 50.44%, Validation Loss: 0.1794, Validation Accuracy: 60.20\n",
            "Epoch 4/5, Train Loss: 0.2001, Train Accuracy: 50.63%, Validation Loss: 0.1784, Validation Accuracy: 39.80\n"
          ]
        },
        {
          "output_type": "stream",
          "name": "stderr",
          "text": [
            "\r 94%|█████████▎| 101/108 [11:10<00:48,  6.98s/it]"
          ]
        },
        {
          "output_type": "stream",
          "name": "stdout",
          "text": [
            "Epoch 5/5, Train Loss: 0.2066, Train Accuracy: 50.33%, Validation Loss: 0.2034, Validation Accuracy: 39.80\n",
            "Hyperparameters: LR=0.01, Optimizer=RMSprop, Loss=FocalLoss, Batch Size=32, Embedding Dim=200, Test Loss: 0.2020, Test Accuracy: 40.30\n",
            "Epoch 1/5, Train Loss: 0.2483, Train Accuracy: 50.36%, Validation Loss: 0.1911, Validation Accuracy: 60.20\n",
            "Epoch 2/5, Train Loss: 0.1977, Train Accuracy: 50.72%, Validation Loss: 0.1749, Validation Accuracy: 39.80\n",
            "Epoch 3/5, Train Loss: 0.2083, Train Accuracy: 50.61%, Validation Loss: 0.1657, Validation Accuracy: 60.20\n",
            "Epoch 4/5, Train Loss: 0.2088, Train Accuracy: 50.27%, Validation Loss: 0.1705, Validation Accuracy: 60.20\n"
          ]
        },
        {
          "output_type": "stream",
          "name": "stderr",
          "text": [
            "\r 94%|█████████▍| 102/108 [11:20<00:47,  7.89s/it]"
          ]
        },
        {
          "output_type": "stream",
          "name": "stdout",
          "text": [
            "Epoch 5/5, Train Loss: 0.2109, Train Accuracy: 51.10%, Validation Loss: 0.1668, Validation Accuracy: 60.20\n",
            "Hyperparameters: LR=0.01, Optimizer=RMSprop, Loss=FocalLoss, Batch Size=32, Embedding Dim=300, Test Loss: 0.1696, Test Accuracy: 59.70\n",
            "Epoch 1/5, Train Loss: 0.2360, Train Accuracy: 51.23%, Validation Loss: 0.2029, Validation Accuracy: 39.80\n",
            "Epoch 2/5, Train Loss: 0.1936, Train Accuracy: 50.48%, Validation Loss: 0.1627, Validation Accuracy: 60.20\n",
            "Epoch 3/5, Train Loss: 0.1903, Train Accuracy: 51.80%, Validation Loss: 0.1980, Validation Accuracy: 39.80\n",
            "Epoch 4/5, Train Loss: 0.2016, Train Accuracy: 50.76%, Validation Loss: 0.1660, Validation Accuracy: 60.20\n"
          ]
        },
        {
          "output_type": "stream",
          "name": "stderr",
          "text": [
            "\r 95%|█████████▌| 103/108 [11:24<00:34,  6.82s/it]"
          ]
        },
        {
          "output_type": "stream",
          "name": "stdout",
          "text": [
            "Epoch 5/5, Train Loss: 0.1900, Train Accuracy: 51.48%, Validation Loss: 0.1632, Validation Accuracy: 60.20\n",
            "Hyperparameters: LR=0.01, Optimizer=RMSprop, Loss=FocalLoss, Batch Size=64, Embedding Dim=100, Test Loss: 0.1664, Test Accuracy: 59.70\n",
            "Epoch 1/5, Train Loss: 0.2566, Train Accuracy: 50.42%, Validation Loss: 0.1598, Validation Accuracy: 60.20\n",
            "Epoch 2/5, Train Loss: 0.1997, Train Accuracy: 50.70%, Validation Loss: 0.1601, Validation Accuracy: 60.20\n",
            "Epoch 3/5, Train Loss: 0.1915, Train Accuracy: 51.42%, Validation Loss: 0.1633, Validation Accuracy: 60.20\n",
            "Epoch 4/5, Train Loss: 0.2049, Train Accuracy: 50.49%, Validation Loss: 0.2934, Validation Accuracy: 39.80\n"
          ]
        },
        {
          "output_type": "stream",
          "name": "stderr",
          "text": [
            "\r 96%|█████████▋| 104/108 [11:29<00:25,  6.34s/it]"
          ]
        },
        {
          "output_type": "stream",
          "name": "stdout",
          "text": [
            "Epoch 5/5, Train Loss: 0.1999, Train Accuracy: 50.71%, Validation Loss: 0.1632, Validation Accuracy: 60.20\n",
            "Hyperparameters: LR=0.01, Optimizer=RMSprop, Loss=FocalLoss, Batch Size=64, Embedding Dim=200, Test Loss: 0.1642, Test Accuracy: 59.70\n",
            "Epoch 1/5, Train Loss: 0.2281, Train Accuracy: 51.22%, Validation Loss: 0.1863, Validation Accuracy: 60.20\n",
            "Epoch 2/5, Train Loss: 0.1873, Train Accuracy: 51.69%, Validation Loss: 0.1773, Validation Accuracy: 60.20\n",
            "Epoch 3/5, Train Loss: 0.1910, Train Accuracy: 51.50%, Validation Loss: 0.1613, Validation Accuracy: 60.20\n",
            "Epoch 4/5, Train Loss: 0.1941, Train Accuracy: 51.00%, Validation Loss: 0.1690, Validation Accuracy: 60.20\n"
          ]
        },
        {
          "output_type": "stream",
          "name": "stderr",
          "text": [
            "\r 97%|█████████▋| 105/108 [11:36<00:19,  6.47s/it]"
          ]
        },
        {
          "output_type": "stream",
          "name": "stdout",
          "text": [
            "Epoch 5/5, Train Loss: 0.1905, Train Accuracy: 51.35%, Validation Loss: 0.1872, Validation Accuracy: 60.20\n",
            "Hyperparameters: LR=0.01, Optimizer=RMSprop, Loss=FocalLoss, Batch Size=64, Embedding Dim=300, Test Loss: 0.1927, Test Accuracy: 59.70\n",
            "Epoch 1/5, Train Loss: 0.2745, Train Accuracy: 51.87%, Validation Loss: 0.1603, Validation Accuracy: 60.20\n",
            "Epoch 2/5, Train Loss: 0.1919, Train Accuracy: 51.26%, Validation Loss: 0.2096, Validation Accuracy: 60.20\n",
            "Epoch 3/5, Train Loss: 0.1911, Train Accuracy: 50.42%, Validation Loss: 0.1731, Validation Accuracy: 60.20\n",
            "Epoch 4/5, Train Loss: 0.1907, Train Accuracy: 51.43%, Validation Loss: 0.1962, Validation Accuracy: 39.80\n"
          ]
        },
        {
          "output_type": "stream",
          "name": "stderr",
          "text": [
            "\r 98%|█████████▊| 106/108 [11:46<00:14,  7.32s/it]"
          ]
        },
        {
          "output_type": "stream",
          "name": "stdout",
          "text": [
            "Epoch 5/5, Train Loss: 0.1857, Train Accuracy: 51.47%, Validation Loss: 0.1588, Validation Accuracy: 60.20\n",
            "Hyperparameters: LR=0.01, Optimizer=RMSprop, Loss=FocalLoss, Batch Size=128, Embedding Dim=100, Test Loss: 0.1624, Test Accuracy: 59.70\n",
            "Epoch 1/5, Train Loss: 0.3383, Train Accuracy: 51.14%, Validation Loss: 0.2060, Validation Accuracy: 39.80\n",
            "Epoch 2/5, Train Loss: 0.2017, Train Accuracy: 52.77%, Validation Loss: 0.1606, Validation Accuracy: 60.28\n",
            "Epoch 3/5, Train Loss: 0.1919, Train Accuracy: 51.26%, Validation Loss: 0.3421, Validation Accuracy: 39.80\n",
            "Epoch 4/5, Train Loss: 0.2033, Train Accuracy: 50.71%, Validation Loss: 0.2620, Validation Accuracy: 39.80\n"
          ]
        },
        {
          "output_type": "stream",
          "name": "stderr",
          "text": [
            "\r 99%|█████████▉| 107/108 [11:50<00:06,  6.37s/it]"
          ]
        },
        {
          "output_type": "stream",
          "name": "stdout",
          "text": [
            "Epoch 5/5, Train Loss: 0.1960, Train Accuracy: 51.67%, Validation Loss: 0.1589, Validation Accuracy: 60.28\n",
            "Hyperparameters: LR=0.01, Optimizer=RMSprop, Loss=FocalLoss, Batch Size=128, Embedding Dim=200, Test Loss: 0.1626, Test Accuracy: 59.78\n",
            "Epoch 1/5, Train Loss: 0.2803, Train Accuracy: 51.61%, Validation Loss: 0.1827, Validation Accuracy: 39.80\n",
            "Epoch 2/5, Train Loss: 0.1817, Train Accuracy: 52.81%, Validation Loss: 0.3357, Validation Accuracy: 39.80\n",
            "Epoch 3/5, Train Loss: 0.1886, Train Accuracy: 51.13%, Validation Loss: 0.1619, Validation Accuracy: 60.20\n",
            "Epoch 4/5, Train Loss: 0.1958, Train Accuracy: 51.99%, Validation Loss: 0.2347, Validation Accuracy: 60.20\n"
          ]
        },
        {
          "output_type": "stream",
          "name": "stderr",
          "text": [
            "100%|██████████| 108/108 [11:55<00:00,  6.62s/it]"
          ]
        },
        {
          "output_type": "stream",
          "name": "stdout",
          "text": [
            "Epoch 5/5, Train Loss: 0.1914, Train Accuracy: 52.56%, Validation Loss: 0.1842, Validation Accuracy: 39.80\n",
            "Hyperparameters: LR=0.01, Optimizer=RMSprop, Loss=FocalLoss, Batch Size=128, Embedding Dim=300, Test Loss: 0.1832, Test Accuracy: 40.30\n"
          ]
        },
        {
          "output_type": "stream",
          "name": "stderr",
          "text": [
            "\n"
          ]
        }
      ]
    },
    {
      "cell_type": "code",
      "source": [
        "# saving the best HybridCNN model of all the hyperparameter combinations on Google Drive\n",
        "\n",
        "drive_file_path = '/content/drive/MyDrive/Models/best_hybridcnn_model2.pth'\n",
        "\n",
        "torch.save(best_model, drive_file_path)\n",
        "print(\"Best HybridCNCN model saved.\")"
      ],
      "metadata": {
        "colab": {
          "base_uri": "https://localhost:8080/"
        },
        "id": "TNx0PZDXsWGE",
        "outputId": "f3a0dcfe-f5c5-4936-c319-e814aa3498c6"
      },
      "execution_count": null,
      "outputs": [
        {
          "output_type": "stream",
          "name": "stdout",
          "text": [
            "Best HybridCNCN model saved.\n"
          ]
        }
      ]
    },
    {
      "cell_type": "code",
      "source": [
        "# sorting all the hyperparameter combinations on HybridCNN Model based on 'Test Accuracy', and displaying the top 10 rows\n",
        "\n",
        "hybridcnn_df = pd.DataFrame(results)\n",
        "hybridcnn_df = hybridcnn_df.sort_values(by='Test Accuracy', ascending=False)\n",
        "\n",
        "hybridcnn_df.head(10)"
      ],
      "metadata": {
        "colab": {
          "base_uri": "https://localhost:8080/",
          "height": 363
        },
        "id": "vcOeFm2qRrWp",
        "outputId": "b029afa5-75cf-493b-bffb-398224b45616"
      },
      "execution_count": null,
      "outputs": [
        {
          "output_type": "execute_result",
          "data": {
            "text/plain": [
              "     Learning Rate Optimizer     Loss Function  Batch Size  Embedding Dim  \\\n",
              "106          0.010   RMSprop         FocalLoss         128            200   \n",
              "54           0.010      Adam  CrossEntropyLoss          32            100   \n",
              "80           0.010       SGD  CrossEntropyLoss         128            300   \n",
              "55           0.010      Adam  CrossEntropyLoss          32            200   \n",
              "75           0.010       SGD  CrossEntropyLoss          64            100   \n",
              "76           0.010       SGD  CrossEntropyLoss          64            200   \n",
              "77           0.010       SGD  CrossEntropyLoss          64            300   \n",
              "78           0.010       SGD  CrossEntropyLoss         128            100   \n",
              "79           0.010       SGD  CrossEntropyLoss         128            200   \n",
              "47           0.001   RMSprop         FocalLoss          32            300   \n",
              "\n",
              "     Test Accuracy  \n",
              "106       0.597818  \n",
              "54        0.597038  \n",
              "80        0.597038  \n",
              "55        0.597038  \n",
              "75        0.597038  \n",
              "76        0.597038  \n",
              "77        0.597038  \n",
              "78        0.597038  \n",
              "79        0.597038  \n",
              "47        0.597038  "
            ],
            "text/html": [
              "\n",
              "  <div id=\"df-d90fb9ed-689b-4ef5-a318-7c7d6bca13cc\" class=\"colab-df-container\">\n",
              "    <div>\n",
              "<style scoped>\n",
              "    .dataframe tbody tr th:only-of-type {\n",
              "        vertical-align: middle;\n",
              "    }\n",
              "\n",
              "    .dataframe tbody tr th {\n",
              "        vertical-align: top;\n",
              "    }\n",
              "\n",
              "    .dataframe thead th {\n",
              "        text-align: right;\n",
              "    }\n",
              "</style>\n",
              "<table border=\"1\" class=\"dataframe\">\n",
              "  <thead>\n",
              "    <tr style=\"text-align: right;\">\n",
              "      <th></th>\n",
              "      <th>Learning Rate</th>\n",
              "      <th>Optimizer</th>\n",
              "      <th>Loss Function</th>\n",
              "      <th>Batch Size</th>\n",
              "      <th>Embedding Dim</th>\n",
              "      <th>Test Accuracy</th>\n",
              "    </tr>\n",
              "  </thead>\n",
              "  <tbody>\n",
              "    <tr>\n",
              "      <th>106</th>\n",
              "      <td>0.010</td>\n",
              "      <td>RMSprop</td>\n",
              "      <td>FocalLoss</td>\n",
              "      <td>128</td>\n",
              "      <td>200</td>\n",
              "      <td>0.597818</td>\n",
              "    </tr>\n",
              "    <tr>\n",
              "      <th>54</th>\n",
              "      <td>0.010</td>\n",
              "      <td>Adam</td>\n",
              "      <td>CrossEntropyLoss</td>\n",
              "      <td>32</td>\n",
              "      <td>100</td>\n",
              "      <td>0.597038</td>\n",
              "    </tr>\n",
              "    <tr>\n",
              "      <th>80</th>\n",
              "      <td>0.010</td>\n",
              "      <td>SGD</td>\n",
              "      <td>CrossEntropyLoss</td>\n",
              "      <td>128</td>\n",
              "      <td>300</td>\n",
              "      <td>0.597038</td>\n",
              "    </tr>\n",
              "    <tr>\n",
              "      <th>55</th>\n",
              "      <td>0.010</td>\n",
              "      <td>Adam</td>\n",
              "      <td>CrossEntropyLoss</td>\n",
              "      <td>32</td>\n",
              "      <td>200</td>\n",
              "      <td>0.597038</td>\n",
              "    </tr>\n",
              "    <tr>\n",
              "      <th>75</th>\n",
              "      <td>0.010</td>\n",
              "      <td>SGD</td>\n",
              "      <td>CrossEntropyLoss</td>\n",
              "      <td>64</td>\n",
              "      <td>100</td>\n",
              "      <td>0.597038</td>\n",
              "    </tr>\n",
              "    <tr>\n",
              "      <th>76</th>\n",
              "      <td>0.010</td>\n",
              "      <td>SGD</td>\n",
              "      <td>CrossEntropyLoss</td>\n",
              "      <td>64</td>\n",
              "      <td>200</td>\n",
              "      <td>0.597038</td>\n",
              "    </tr>\n",
              "    <tr>\n",
              "      <th>77</th>\n",
              "      <td>0.010</td>\n",
              "      <td>SGD</td>\n",
              "      <td>CrossEntropyLoss</td>\n",
              "      <td>64</td>\n",
              "      <td>300</td>\n",
              "      <td>0.597038</td>\n",
              "    </tr>\n",
              "    <tr>\n",
              "      <th>78</th>\n",
              "      <td>0.010</td>\n",
              "      <td>SGD</td>\n",
              "      <td>CrossEntropyLoss</td>\n",
              "      <td>128</td>\n",
              "      <td>100</td>\n",
              "      <td>0.597038</td>\n",
              "    </tr>\n",
              "    <tr>\n",
              "      <th>79</th>\n",
              "      <td>0.010</td>\n",
              "      <td>SGD</td>\n",
              "      <td>CrossEntropyLoss</td>\n",
              "      <td>128</td>\n",
              "      <td>200</td>\n",
              "      <td>0.597038</td>\n",
              "    </tr>\n",
              "    <tr>\n",
              "      <th>47</th>\n",
              "      <td>0.001</td>\n",
              "      <td>RMSprop</td>\n",
              "      <td>FocalLoss</td>\n",
              "      <td>32</td>\n",
              "      <td>300</td>\n",
              "      <td>0.597038</td>\n",
              "    </tr>\n",
              "  </tbody>\n",
              "</table>\n",
              "</div>\n",
              "    <div class=\"colab-df-buttons\">\n",
              "\n",
              "  <div class=\"colab-df-container\">\n",
              "    <button class=\"colab-df-convert\" onclick=\"convertToInteractive('df-d90fb9ed-689b-4ef5-a318-7c7d6bca13cc')\"\n",
              "            title=\"Convert this dataframe to an interactive table.\"\n",
              "            style=\"display:none;\">\n",
              "\n",
              "  <svg xmlns=\"http://www.w3.org/2000/svg\" height=\"24px\" viewBox=\"0 -960 960 960\">\n",
              "    <path d=\"M120-120v-720h720v720H120Zm60-500h600v-160H180v160Zm220 220h160v-160H400v160Zm0 220h160v-160H400v160ZM180-400h160v-160H180v160Zm440 0h160v-160H620v160ZM180-180h160v-160H180v160Zm440 0h160v-160H620v160Z\"/>\n",
              "  </svg>\n",
              "    </button>\n",
              "\n",
              "  <style>\n",
              "    .colab-df-container {\n",
              "      display:flex;\n",
              "      gap: 12px;\n",
              "    }\n",
              "\n",
              "    .colab-df-convert {\n",
              "      background-color: #E8F0FE;\n",
              "      border: none;\n",
              "      border-radius: 50%;\n",
              "      cursor: pointer;\n",
              "      display: none;\n",
              "      fill: #1967D2;\n",
              "      height: 32px;\n",
              "      padding: 0 0 0 0;\n",
              "      width: 32px;\n",
              "    }\n",
              "\n",
              "    .colab-df-convert:hover {\n",
              "      background-color: #E2EBFA;\n",
              "      box-shadow: 0px 1px 2px rgba(60, 64, 67, 0.3), 0px 1px 3px 1px rgba(60, 64, 67, 0.15);\n",
              "      fill: #174EA6;\n",
              "    }\n",
              "\n",
              "    .colab-df-buttons div {\n",
              "      margin-bottom: 4px;\n",
              "    }\n",
              "\n",
              "    [theme=dark] .colab-df-convert {\n",
              "      background-color: #3B4455;\n",
              "      fill: #D2E3FC;\n",
              "    }\n",
              "\n",
              "    [theme=dark] .colab-df-convert:hover {\n",
              "      background-color: #434B5C;\n",
              "      box-shadow: 0px 1px 3px 1px rgba(0, 0, 0, 0.15);\n",
              "      filter: drop-shadow(0px 1px 2px rgba(0, 0, 0, 0.3));\n",
              "      fill: #FFFFFF;\n",
              "    }\n",
              "  </style>\n",
              "\n",
              "    <script>\n",
              "      const buttonEl =\n",
              "        document.querySelector('#df-d90fb9ed-689b-4ef5-a318-7c7d6bca13cc button.colab-df-convert');\n",
              "      buttonEl.style.display =\n",
              "        google.colab.kernel.accessAllowed ? 'block' : 'none';\n",
              "\n",
              "      async function convertToInteractive(key) {\n",
              "        const element = document.querySelector('#df-d90fb9ed-689b-4ef5-a318-7c7d6bca13cc');\n",
              "        const dataTable =\n",
              "          await google.colab.kernel.invokeFunction('convertToInteractive',\n",
              "                                                    [key], {});\n",
              "        if (!dataTable) return;\n",
              "\n",
              "        const docLinkHtml = 'Like what you see? Visit the ' +\n",
              "          '<a target=\"_blank\" href=https://colab.research.google.com/notebooks/data_table.ipynb>data table notebook</a>'\n",
              "          + ' to learn more about interactive tables.';\n",
              "        element.innerHTML = '';\n",
              "        dataTable['output_type'] = 'display_data';\n",
              "        await google.colab.output.renderOutput(dataTable, element);\n",
              "        const docLink = document.createElement('div');\n",
              "        docLink.innerHTML = docLinkHtml;\n",
              "        element.appendChild(docLink);\n",
              "      }\n",
              "    </script>\n",
              "  </div>\n",
              "\n",
              "\n",
              "<div id=\"df-a5338c54-3df6-4e8e-9bd5-8ba8f999d858\">\n",
              "  <button class=\"colab-df-quickchart\" onclick=\"quickchart('df-a5338c54-3df6-4e8e-9bd5-8ba8f999d858')\"\n",
              "            title=\"Suggest charts\"\n",
              "            style=\"display:none;\">\n",
              "\n",
              "<svg xmlns=\"http://www.w3.org/2000/svg\" height=\"24px\"viewBox=\"0 0 24 24\"\n",
              "     width=\"24px\">\n",
              "    <g>\n",
              "        <path d=\"M19 3H5c-1.1 0-2 .9-2 2v14c0 1.1.9 2 2 2h14c1.1 0 2-.9 2-2V5c0-1.1-.9-2-2-2zM9 17H7v-7h2v7zm4 0h-2V7h2v10zm4 0h-2v-4h2v4z\"/>\n",
              "    </g>\n",
              "</svg>\n",
              "  </button>\n",
              "\n",
              "<style>\n",
              "  .colab-df-quickchart {\n",
              "      --bg-color: #E8F0FE;\n",
              "      --fill-color: #1967D2;\n",
              "      --hover-bg-color: #E2EBFA;\n",
              "      --hover-fill-color: #174EA6;\n",
              "      --disabled-fill-color: #AAA;\n",
              "      --disabled-bg-color: #DDD;\n",
              "  }\n",
              "\n",
              "  [theme=dark] .colab-df-quickchart {\n",
              "      --bg-color: #3B4455;\n",
              "      --fill-color: #D2E3FC;\n",
              "      --hover-bg-color: #434B5C;\n",
              "      --hover-fill-color: #FFFFFF;\n",
              "      --disabled-bg-color: #3B4455;\n",
              "      --disabled-fill-color: #666;\n",
              "  }\n",
              "\n",
              "  .colab-df-quickchart {\n",
              "    background-color: var(--bg-color);\n",
              "    border: none;\n",
              "    border-radius: 50%;\n",
              "    cursor: pointer;\n",
              "    display: none;\n",
              "    fill: var(--fill-color);\n",
              "    height: 32px;\n",
              "    padding: 0;\n",
              "    width: 32px;\n",
              "  }\n",
              "\n",
              "  .colab-df-quickchart:hover {\n",
              "    background-color: var(--hover-bg-color);\n",
              "    box-shadow: 0 1px 2px rgba(60, 64, 67, 0.3), 0 1px 3px 1px rgba(60, 64, 67, 0.15);\n",
              "    fill: var(--button-hover-fill-color);\n",
              "  }\n",
              "\n",
              "  .colab-df-quickchart-complete:disabled,\n",
              "  .colab-df-quickchart-complete:disabled:hover {\n",
              "    background-color: var(--disabled-bg-color);\n",
              "    fill: var(--disabled-fill-color);\n",
              "    box-shadow: none;\n",
              "  }\n",
              "\n",
              "  .colab-df-spinner {\n",
              "    border: 2px solid var(--fill-color);\n",
              "    border-color: transparent;\n",
              "    border-bottom-color: var(--fill-color);\n",
              "    animation:\n",
              "      spin 1s steps(1) infinite;\n",
              "  }\n",
              "\n",
              "  @keyframes spin {\n",
              "    0% {\n",
              "      border-color: transparent;\n",
              "      border-bottom-color: var(--fill-color);\n",
              "      border-left-color: var(--fill-color);\n",
              "    }\n",
              "    20% {\n",
              "      border-color: transparent;\n",
              "      border-left-color: var(--fill-color);\n",
              "      border-top-color: var(--fill-color);\n",
              "    }\n",
              "    30% {\n",
              "      border-color: transparent;\n",
              "      border-left-color: var(--fill-color);\n",
              "      border-top-color: var(--fill-color);\n",
              "      border-right-color: var(--fill-color);\n",
              "    }\n",
              "    40% {\n",
              "      border-color: transparent;\n",
              "      border-right-color: var(--fill-color);\n",
              "      border-top-color: var(--fill-color);\n",
              "    }\n",
              "    60% {\n",
              "      border-color: transparent;\n",
              "      border-right-color: var(--fill-color);\n",
              "    }\n",
              "    80% {\n",
              "      border-color: transparent;\n",
              "      border-right-color: var(--fill-color);\n",
              "      border-bottom-color: var(--fill-color);\n",
              "    }\n",
              "    90% {\n",
              "      border-color: transparent;\n",
              "      border-bottom-color: var(--fill-color);\n",
              "    }\n",
              "  }\n",
              "</style>\n",
              "\n",
              "  <script>\n",
              "    async function quickchart(key) {\n",
              "      const quickchartButtonEl =\n",
              "        document.querySelector('#' + key + ' button');\n",
              "      quickchartButtonEl.disabled = true;  // To prevent multiple clicks.\n",
              "      quickchartButtonEl.classList.add('colab-df-spinner');\n",
              "      try {\n",
              "        const charts = await google.colab.kernel.invokeFunction(\n",
              "            'suggestCharts', [key], {});\n",
              "      } catch (error) {\n",
              "        console.error('Error during call to suggestCharts:', error);\n",
              "      }\n",
              "      quickchartButtonEl.classList.remove('colab-df-spinner');\n",
              "      quickchartButtonEl.classList.add('colab-df-quickchart-complete');\n",
              "    }\n",
              "    (() => {\n",
              "      let quickchartButtonEl =\n",
              "        document.querySelector('#df-a5338c54-3df6-4e8e-9bd5-8ba8f999d858 button');\n",
              "      quickchartButtonEl.style.display =\n",
              "        google.colab.kernel.accessAllowed ? 'block' : 'none';\n",
              "    })();\n",
              "  </script>\n",
              "</div>\n",
              "    </div>\n",
              "  </div>\n"
            ]
          },
          "metadata": {},
          "execution_count": 28
        }
      ]
    },
    {
      "cell_type": "code",
      "source": [],
      "metadata": {
        "id": "yjv2qs-xY_da"
      },
      "execution_count": null,
      "outputs": []
    },
    {
      "cell_type": "markdown",
      "source": [
        "# Transformers with Positional Encoding"
      ],
      "metadata": {
        "id": "bs6oOhRAc1FO"
      }
    },
    {
      "cell_type": "code",
      "source": [
        "class Transformer(nn.Module):\n",
        "    def __init__(self, vocab_size, embedding_dim, num_heads, num_layers, hidden_dim, dropout, output_dim, max_length):\n",
        "        super(Transformer, self).__init__()\n",
        "        self.embedding = nn.Embedding(vocab_size, embedding_dim)\n",
        "        self.positional_encoding = PositionalEncoding(embedding_dim, max_length)\n",
        "        self.transformer = nn.Transformer(d_model=embedding_dim, nhead=num_heads, num_encoder_layers=num_layers, num_decoder_layers=num_layers, dim_feedforward=hidden_dim, dropout=dropout)\n",
        "        self.fc = nn.Linear(embedding_dim, output_dim)\n",
        "\n",
        "    def forward(self, x):\n",
        "        x = self.embedding(x)\n",
        "        x = self.positional_encoding(x)\n",
        "        x = self.transformer(x, x)\n",
        "        x = x.mean(dim=1)\n",
        "        x = self.fc(x)\n",
        "        return x\n",
        "\n",
        "class PositionalEncoding(nn.Module):\n",
        "    def __init__(self, d_model, max_len=512, device='cuda' if torch.cuda.is_available() else 'cpu'):\n",
        "        super(PositionalEncoding, self).__init__()\n",
        "        self.device = device\n",
        "        k = torch.arange(0, max_len, dtype=torch.float, device=self.device).unsqueeze(1)\n",
        "        div_term = torch.exp(torch.arange(0, d_model, 2, dtype=torch.float, device=self.device) * -(torch.log(torch.tensor(10000.0, device=self.device)) / d_model))\n",
        "        self.pe = torch.zeros(max_len, d_model, device=self.device)\n",
        "        self.pe[:, 0::2] = torch.sin(k * div_term)\n",
        "        self.pe[:, 1::2] = torch.cos(k * div_term)\n",
        "        self.pe = self.pe.unsqueeze(0)\n",
        "\n",
        "    def forward(self, x):\n",
        "        return x + self.pe[:, :x.size(1)].detach()\n",
        "\n",
        "\n",
        "# Define hyperparameters for the model where some of them can be changed later\n",
        "vocab_size = len(Vocab)\n",
        "embedding_dim = 128\n",
        "num_heads = 4\n",
        "num_layers = 2\n",
        "hidden_dim = 256\n",
        "output_dim = 2\n",
        "dropout = 0.1\n",
        "max_length = max_padding\n",
        "\n",
        "# Define Model and print the architecture of the model\n",
        "model = Transformer(vocab_size, embedding_dim, num_heads, num_layers, hidden_dim, dropout, output_dim, max_length)\n",
        "print(model)"
      ],
      "metadata": {
        "id": "w7TkyOJfdCt0",
        "colab": {
          "base_uri": "https://localhost:8080/"
        },
        "outputId": "676f160e-26b6-4416-bed8-df5f6154e55a"
      },
      "execution_count": 27,
      "outputs": [
        {
          "output_type": "stream",
          "name": "stdout",
          "text": [
            "Transformer(\n",
            "  (embedding): Embedding(14286, 128)\n",
            "  (positional_encoding): PositionalEncoding()\n",
            "  (transformer): Transformer(\n",
            "    (encoder): TransformerEncoder(\n",
            "      (layers): ModuleList(\n",
            "        (0-1): 2 x TransformerEncoderLayer(\n",
            "          (self_attn): MultiheadAttention(\n",
            "            (out_proj): NonDynamicallyQuantizableLinear(in_features=128, out_features=128, bias=True)\n",
            "          )\n",
            "          (linear1): Linear(in_features=128, out_features=256, bias=True)\n",
            "          (dropout): Dropout(p=0.1, inplace=False)\n",
            "          (linear2): Linear(in_features=256, out_features=128, bias=True)\n",
            "          (norm1): LayerNorm((128,), eps=1e-05, elementwise_affine=True)\n",
            "          (norm2): LayerNorm((128,), eps=1e-05, elementwise_affine=True)\n",
            "          (dropout1): Dropout(p=0.1, inplace=False)\n",
            "          (dropout2): Dropout(p=0.1, inplace=False)\n",
            "        )\n",
            "      )\n",
            "      (norm): LayerNorm((128,), eps=1e-05, elementwise_affine=True)\n",
            "    )\n",
            "    (decoder): TransformerDecoder(\n",
            "      (layers): ModuleList(\n",
            "        (0-1): 2 x TransformerDecoderLayer(\n",
            "          (self_attn): MultiheadAttention(\n",
            "            (out_proj): NonDynamicallyQuantizableLinear(in_features=128, out_features=128, bias=True)\n",
            "          )\n",
            "          (multihead_attn): MultiheadAttention(\n",
            "            (out_proj): NonDynamicallyQuantizableLinear(in_features=128, out_features=128, bias=True)\n",
            "          )\n",
            "          (linear1): Linear(in_features=128, out_features=256, bias=True)\n",
            "          (dropout): Dropout(p=0.1, inplace=False)\n",
            "          (linear2): Linear(in_features=256, out_features=128, bias=True)\n",
            "          (norm1): LayerNorm((128,), eps=1e-05, elementwise_affine=True)\n",
            "          (norm2): LayerNorm((128,), eps=1e-05, elementwise_affine=True)\n",
            "          (norm3): LayerNorm((128,), eps=1e-05, elementwise_affine=True)\n",
            "          (dropout1): Dropout(p=0.1, inplace=False)\n",
            "          (dropout2): Dropout(p=0.1, inplace=False)\n",
            "          (dropout3): Dropout(p=0.1, inplace=False)\n",
            "        )\n",
            "      )\n",
            "      (norm): LayerNorm((128,), eps=1e-05, elementwise_affine=True)\n",
            "    )\n",
            "  )\n",
            "  (fc): Linear(in_features=128, out_features=2, bias=True)\n",
            ")\n"
          ]
        },
        {
          "output_type": "stream",
          "name": "stderr",
          "text": [
            "/usr/local/lib/python3.10/dist-packages/torch/nn/modules/transformer.py:282: UserWarning: enable_nested_tensor is True, but self.use_nested_tensor is False because encoder_layer.self_attn.batch_first was not True(use batch_first for better inference performance)\n",
            "  warnings.warn(f\"enable_nested_tensor is True, but self.use_nested_tensor is False because {why_not_sparsity_fast_path}\")\n"
          ]
        }
      ]
    },
    {
      "cell_type": "code",
      "source": [
        "device = torch.device(\"cuda\" if torch.cuda.is_available() else \"cpu\")\n",
        "\n",
        "# Training each model on these cobination of hyperparameters\n",
        "learning_rates = [0.001, 0.01]\n",
        "optimizers = ['Adam', 'SGD', 'RMSprop']\n",
        "loss_functions = [nn.CrossEntropyLoss(), FocalLoss(gamma=2)]\n",
        "batch_sizes = [32, 64, 128]\n",
        "embedding_dims = [100, 200, 300]\n",
        "\n",
        "combinations = list(itertools.product(learning_rates, optimizers, loss_functions, batch_sizes, embedding_dims))\n",
        "\n",
        "results = []\n",
        "best_accuracy = 0.0\n",
        "best_hyperparameters = None\n",
        "best_model = None\n",
        "\n",
        "for combination in tqdm(combinations):\n",
        "    learning_rate, optimizer_name, loss_fn, batch_size, embedding_dim = combination\n",
        "\n",
        "    # create a model for each of the hyperparameter combination, train and evaluate on test data\n",
        "    model = Transformer(vocab_size, embedding_dim, num_heads, num_layers, hidden_dim, dropout, output_dim, max_length)\n",
        "    model.to(device)\n",
        "\n",
        "    # set the optimizer and loss function\n",
        "    optimizer = get_optimizer(optimizer_name, model.parameters(), learning_rate)\n",
        "    criterion = loss_fn\n",
        "\n",
        "    # Loaders are used to efficiently iterate over the datasets in batches during the training and evaluation processes\n",
        "    train_loader = DataLoader(train_dataset, batch_size=batch_size, shuffle=True)\n",
        "    val_loader = DataLoader(val_dataset, batch_size=batch_size, shuffle=False)\n",
        "    test_loader = DataLoader(test_dataset, batch_size=batch_size, shuffle=False)\n",
        "\n",
        "    num_epochs = 5\n",
        "    for epoch in range(num_epochs):\n",
        "        model.train()\n",
        "        training_loss = 0.0\n",
        "        training_corrects = 0\n",
        "        training_count = 0\n",
        "\n",
        "        # Model Training\n",
        "        for i, data in enumerate(train_loader, 0):\n",
        "            inputs, labels = data\n",
        "            inputs, labels = inputs.to(device), labels.to(device)\n",
        "            # print(inputs)\n",
        "            # print(labels)\n",
        "\n",
        "            optimizer.zero_grad()\n",
        "            outputs = model(inputs)\n",
        "            # print(outputs)\n",
        "\n",
        "            loss = criterion(outputs, labels)\n",
        "            loss.backward()\n",
        "            training_loss += loss.item()\n",
        "\n",
        "            optimizer.step()\n",
        "\n",
        "            x, preds = torch.max(outputs.data, 1)\n",
        "            # print(preds)\n",
        "\n",
        "            training_count += labels.size(0)\n",
        "            training_corrects += torch.sum(preds == labels).item()\n",
        "\n",
        "        # calculate the average loss and accuracy for the each training epoch\n",
        "        train_epoch_loss = training_loss / len(train_loader)\n",
        "        train_epoch_accuracy = training_corrects / training_count\n",
        "\n",
        "\n",
        "\n",
        "        # Model Validation on data that it hasn't seen during training and adjust hyperparameters\n",
        "        model.eval()\n",
        "        validation_loss = 0.0\n",
        "        validation_corrects = 0\n",
        "        validation_count = 0\n",
        "\n",
        "        with torch.no_grad():\n",
        "            for i, data in enumerate(val_loader, 0):\n",
        "                inputs, labels = data\n",
        "                inputs, labels = inputs.to(device), labels.to(device)\n",
        "                outputs = model(inputs)\n",
        "                # print(inputs)\n",
        "                # print(labels)\n",
        "                # print(outputs)\n",
        "\n",
        "                loss = criterion(outputs, labels)\n",
        "                validation_loss += loss.item()\n",
        "\n",
        "                x, preds = torch.max(outputs.data, 1)\n",
        "                # print(preds)\n",
        "\n",
        "                validation_count += labels.size(0)\n",
        "                validation_corrects += torch.sum(preds == labels).item()\n",
        "\n",
        "        # calculate the average loss and accuracy for the each validation epoch\n",
        "        val_epoch_loss = validation_loss / len(val_loader)\n",
        "        val_epoch_accuracy = validation_corrects / validation_count\n",
        "\n",
        "        print(f\"Epoch {epoch + 1}/{num_epochs}, \"\n",
        "              f\"Train Loss: {train_epoch_loss:.4f}, Train Accuracy: {train_epoch_accuracy * 100:.2f}%, \"\n",
        "              f\"Validation Loss: {val_epoch_loss:.4f}, Validation Accuracy: {val_epoch_accuracy * 100:.2f}\")\n",
        "\n",
        "\n",
        "\n",
        "    # Testing the accuracy of the model on test data\n",
        "    test_loss = 0.0\n",
        "    test_corrects = 0\n",
        "    test_count = 0\n",
        "    with torch.no_grad():\n",
        "        for i, data in enumerate(test_loader, 0):\n",
        "            inputs, labels = data\n",
        "            inputs, labels = inputs.to(device), labels.to(device)\n",
        "            outputs = model(inputs)\n",
        "            # print(inputs)\n",
        "            # print(labels)\n",
        "            # print(outputs)\n",
        "\n",
        "            loss = criterion(outputs, labels)\n",
        "            test_loss += loss.item()\n",
        "\n",
        "            x, preds = torch.max(outputs.data, 1)\n",
        "            # print(preds)\n",
        "\n",
        "            test_count += labels.size(0)\n",
        "            test_corrects += torch.sum(preds == labels).item()\n",
        "\n",
        "    # calculate the average test_loss and test_accuracy on the training data\n",
        "    average_test_loss = test_loss / len(test_loader)\n",
        "    average_test_accuracy = test_corrects / test_count\n",
        "\n",
        "    result = {\n",
        "        'Learning Rate': learning_rate,\n",
        "        'Optimizer': optimizer_name,\n",
        "        'Loss Function': loss_fn.__class__.__name__,\n",
        "        'Batch Size': batch_size,\n",
        "        'Embedding Dim': embedding_dim,\n",
        "        'Test Accuracy': average_test_accuracy\n",
        "    }\n",
        "    results.append(result)\n",
        "    # Add each hyperparameter combination with the test accuracy tp results list for later analysis\n",
        "\n",
        "    print(f\"Hyperparameters: LR={learning_rate}, Optimizer={optimizer_name}, Loss={loss_fn.__class__.__name__}, \"\n",
        "          f\"Batch Size={batch_size}, Embedding Dim={embedding_dim}, \"\n",
        "          f\"Test Loss: {average_test_loss:.4f}, Test Accuracy: {average_test_accuracy * 100:.2f}\")\n",
        "\n",
        "    # The best-performing model and its associated hyperparameters are stored for later analysis\n",
        "    if average_test_accuracy > best_accuracy:\n",
        "        best_accuracy = average_test_accuracy\n",
        "        best_hyperparameters = combination\n",
        "        best_model = model.state_dict()\n",
        "\n"
      ],
      "metadata": {
        "colab": {
          "base_uri": "https://localhost:8080/"
        },
        "outputId": "e0f84c83-1ba5-4fe3-b546-375703260c76",
        "id": "9t9nueVxdD6p"
      },
      "execution_count": null,
      "outputs": [
        {
          "output_type": "stream",
          "name": "stderr",
          "text": [
            "\r  0%|          | 0/108 [00:00<?, ?it/s]/usr/local/lib/python3.10/dist-packages/torch/nn/modules/transformer.py:282: UserWarning: enable_nested_tensor is True, but self.use_nested_tensor is False because encoder_layer.self_attn.batch_first was not True(use batch_first for better inference performance)\n",
            "  warnings.warn(f\"enable_nested_tensor is True, but self.use_nested_tensor is False because {why_not_sparsity_fast_path}\")\n"
          ]
        },
        {
          "output_type": "stream",
          "name": "stdout",
          "text": [
            "Epoch 1/5, Train Loss: 0.6934, Train Accuracy: 58.14%, Validation Loss: 0.6713, Validation Accuracy: 60.20\n",
            "Epoch 2/5, Train Loss: 0.6765, Train Accuracy: 59.87%, Validation Loss: 0.6736, Validation Accuracy: 60.20\n",
            "Epoch 3/5, Train Loss: 0.6758, Train Accuracy: 59.87%, Validation Loss: 0.6718, Validation Accuracy: 60.20\n",
            "Epoch 4/5, Train Loss: 0.6743, Train Accuracy: 59.87%, Validation Loss: 0.6783, Validation Accuracy: 60.20\n",
            "Epoch 5/5, Train Loss: 0.6744, Train Accuracy: 59.87%, Validation Loss: 0.6700, Validation Accuracy: 60.20\n"
          ]
        },
        {
          "output_type": "stream",
          "name": "stderr",
          "text": [
            "\r  1%|          | 1/108 [00:26<47:32, 26.66s/it]"
          ]
        },
        {
          "output_type": "stream",
          "name": "stdout",
          "text": [
            "Hyperparameters: LR=0.001, Optimizer=Adam, Loss=CrossEntropyLoss, Batch Size=32, Embedding Dim=100, Test Loss: 0.6737, Test Accuracy: 59.70\n",
            "Epoch 1/5, Train Loss: 0.6922, Train Accuracy: 57.65%, Validation Loss: 0.6723, Validation Accuracy: 60.20\n",
            "Epoch 2/5, Train Loss: 0.6779, Train Accuracy: 59.87%, Validation Loss: 0.6784, Validation Accuracy: 60.20\n",
            "Epoch 3/5, Train Loss: 0.6754, Train Accuracy: 59.87%, Validation Loss: 0.6762, Validation Accuracy: 60.20\n",
            "Epoch 4/5, Train Loss: 0.6769, Train Accuracy: 59.48%, Validation Loss: 0.6710, Validation Accuracy: 60.20\n"
          ]
        },
        {
          "output_type": "stream",
          "name": "stderr",
          "text": [
            "\r  2%|▏         | 2/108 [00:52<46:07, 26.11s/it]"
          ]
        },
        {
          "output_type": "stream",
          "name": "stdout",
          "text": [
            "Epoch 5/5, Train Loss: 0.6753, Train Accuracy: 59.87%, Validation Loss: 0.6709, Validation Accuracy: 60.20\n",
            "Hyperparameters: LR=0.001, Optimizer=Adam, Loss=CrossEntropyLoss, Batch Size=32, Embedding Dim=200, Test Loss: 0.6739, Test Accuracy: 59.70\n",
            "Epoch 1/5, Train Loss: 0.6876, Train Accuracy: 58.87%, Validation Loss: 0.6709, Validation Accuracy: 60.20\n",
            "Epoch 2/5, Train Loss: 0.6760, Train Accuracy: 59.40%, Validation Loss: 0.6713, Validation Accuracy: 60.20\n",
            "Epoch 3/5, Train Loss: 0.6754, Train Accuracy: 59.87%, Validation Loss: 0.6713, Validation Accuracy: 60.20\n",
            "Epoch 4/5, Train Loss: 0.6751, Train Accuracy: 59.52%, Validation Loss: 0.6775, Validation Accuracy: 60.20\n"
          ]
        },
        {
          "output_type": "stream",
          "name": "stderr",
          "text": [
            "\r  3%|▎         | 3/108 [01:19<46:06, 26.35s/it]"
          ]
        },
        {
          "output_type": "stream",
          "name": "stdout",
          "text": [
            "Epoch 5/5, Train Loss: 0.6746, Train Accuracy: 59.87%, Validation Loss: 0.6714, Validation Accuracy: 60.20\n",
            "Hyperparameters: LR=0.001, Optimizer=Adam, Loss=CrossEntropyLoss, Batch Size=32, Embedding Dim=300, Test Loss: 0.6748, Test Accuracy: 59.70\n",
            "Epoch 1/5, Train Loss: 0.6915, Train Accuracy: 58.63%, Validation Loss: 0.6757, Validation Accuracy: 60.20\n",
            "Epoch 2/5, Train Loss: 0.6773, Train Accuracy: 59.35%, Validation Loss: 0.6694, Validation Accuracy: 60.20\n",
            "Epoch 3/5, Train Loss: 0.6755, Train Accuracy: 59.87%, Validation Loss: 0.6704, Validation Accuracy: 60.20\n",
            "Epoch 4/5, Train Loss: 0.6753, Train Accuracy: 59.87%, Validation Loss: 0.6693, Validation Accuracy: 60.20\n"
          ]
        },
        {
          "output_type": "stream",
          "name": "stderr",
          "text": [
            "\r  4%|▎         | 4/108 [01:35<38:56, 22.47s/it]"
          ]
        },
        {
          "output_type": "stream",
          "name": "stdout",
          "text": [
            "Epoch 5/5, Train Loss: 0.6749, Train Accuracy: 59.87%, Validation Loss: 0.6693, Validation Accuracy: 60.20\n",
            "Hyperparameters: LR=0.001, Optimizer=Adam, Loss=CrossEntropyLoss, Batch Size=64, Embedding Dim=100, Test Loss: 0.6733, Test Accuracy: 59.70\n",
            "Epoch 1/5, Train Loss: 0.6919, Train Accuracy: 58.62%, Validation Loss: 0.6720, Validation Accuracy: 60.20\n",
            "Epoch 2/5, Train Loss: 0.6773, Train Accuracy: 59.49%, Validation Loss: 0.6694, Validation Accuracy: 60.20\n",
            "Epoch 3/5, Train Loss: 0.6778, Train Accuracy: 58.57%, Validation Loss: 0.6704, Validation Accuracy: 60.20\n",
            "Epoch 4/5, Train Loss: 0.6757, Train Accuracy: 59.87%, Validation Loss: 0.6714, Validation Accuracy: 60.20\n"
          ]
        },
        {
          "output_type": "stream",
          "name": "stderr",
          "text": [
            "\r  5%|▍         | 5/108 [01:52<34:56, 20.36s/it]"
          ]
        },
        {
          "output_type": "stream",
          "name": "stdout",
          "text": [
            "Epoch 5/5, Train Loss: 0.6752, Train Accuracy: 59.87%, Validation Loss: 0.6819, Validation Accuracy: 60.20\n",
            "Hyperparameters: LR=0.001, Optimizer=Adam, Loss=CrossEntropyLoss, Batch Size=64, Embedding Dim=200, Test Loss: 0.6883, Test Accuracy: 59.70\n",
            "Epoch 1/5, Train Loss: 0.6965, Train Accuracy: 57.54%, Validation Loss: 0.6703, Validation Accuracy: 60.20\n",
            "Epoch 2/5, Train Loss: 0.6778, Train Accuracy: 59.87%, Validation Loss: 0.6721, Validation Accuracy: 60.20\n",
            "Epoch 3/5, Train Loss: 0.6766, Train Accuracy: 59.87%, Validation Loss: 0.6694, Validation Accuracy: 60.20\n",
            "Epoch 4/5, Train Loss: 0.6765, Train Accuracy: 59.87%, Validation Loss: 0.6702, Validation Accuracy: 60.20\n"
          ]
        },
        {
          "output_type": "stream",
          "name": "stderr",
          "text": [
            "\r  6%|▌         | 6/108 [02:08<32:27, 19.09s/it]"
          ]
        },
        {
          "output_type": "stream",
          "name": "stdout",
          "text": [
            "Epoch 5/5, Train Loss: 0.6751, Train Accuracy: 59.87%, Validation Loss: 0.6694, Validation Accuracy: 60.20\n",
            "Hyperparameters: LR=0.001, Optimizer=Adam, Loss=CrossEntropyLoss, Batch Size=64, Embedding Dim=300, Test Loss: 0.6733, Test Accuracy: 59.70\n",
            "Epoch 1/5, Train Loss: 0.6984, Train Accuracy: 58.45%, Validation Loss: 0.6665, Validation Accuracy: 60.20\n",
            "Epoch 2/5, Train Loss: 0.6751, Train Accuracy: 59.87%, Validation Loss: 0.7036, Validation Accuracy: 39.80\n",
            "Epoch 3/5, Train Loss: 0.6795, Train Accuracy: 59.21%, Validation Loss: 0.6734, Validation Accuracy: 60.20\n",
            "Epoch 4/5, Train Loss: 0.6747, Train Accuracy: 59.87%, Validation Loss: 0.6664, Validation Accuracy: 60.20\n"
          ]
        },
        {
          "output_type": "stream",
          "name": "stderr",
          "text": [
            "\r  6%|▋         | 7/108 [02:24<30:05, 17.88s/it]"
          ]
        },
        {
          "output_type": "stream",
          "name": "stdout",
          "text": [
            "Epoch 5/5, Train Loss: 0.6751, Train Accuracy: 59.87%, Validation Loss: 0.6715, Validation Accuracy: 60.20\n",
            "Hyperparameters: LR=0.001, Optimizer=Adam, Loss=CrossEntropyLoss, Batch Size=128, Embedding Dim=100, Test Loss: 0.6746, Test Accuracy: 59.70\n",
            "Epoch 1/5, Train Loss: 0.6976, Train Accuracy: 58.91%, Validation Loss: 0.6668, Validation Accuracy: 60.20\n",
            "Epoch 2/5, Train Loss: 0.6771, Train Accuracy: 59.87%, Validation Loss: 0.6710, Validation Accuracy: 60.20\n",
            "Epoch 3/5, Train Loss: 0.6769, Train Accuracy: 59.87%, Validation Loss: 0.6825, Validation Accuracy: 60.20\n",
            "Epoch 4/5, Train Loss: 0.6746, Train Accuracy: 59.14%, Validation Loss: 0.6740, Validation Accuracy: 60.20\n"
          ]
        },
        {
          "output_type": "stream",
          "name": "stderr",
          "text": [
            "\r  7%|▋         | 8/108 [02:39<28:26, 17.07s/it]"
          ]
        },
        {
          "output_type": "stream",
          "name": "stdout",
          "text": [
            "Epoch 5/5, Train Loss: 0.6759, Train Accuracy: 59.87%, Validation Loss: 0.6670, Validation Accuracy: 60.20\n",
            "Hyperparameters: LR=0.001, Optimizer=Adam, Loss=CrossEntropyLoss, Batch Size=128, Embedding Dim=200, Test Loss: 0.6717, Test Accuracy: 59.70\n",
            "Epoch 1/5, Train Loss: 0.6964, Train Accuracy: 58.58%, Validation Loss: 0.6821, Validation Accuracy: 60.20\n",
            "Epoch 2/5, Train Loss: 0.6827, Train Accuracy: 58.93%, Validation Loss: 0.6793, Validation Accuracy: 60.20\n",
            "Epoch 3/5, Train Loss: 0.6770, Train Accuracy: 59.87%, Validation Loss: 0.6664, Validation Accuracy: 60.20\n",
            "Epoch 4/5, Train Loss: 0.6739, Train Accuracy: 59.87%, Validation Loss: 0.6686, Validation Accuracy: 60.20\n"
          ]
        },
        {
          "output_type": "stream",
          "name": "stderr",
          "text": [
            "\r  8%|▊         | 9/108 [02:54<27:17, 16.54s/it]"
          ]
        },
        {
          "output_type": "stream",
          "name": "stdout",
          "text": [
            "Epoch 5/5, Train Loss: 0.6754, Train Accuracy: 59.87%, Validation Loss: 0.6664, Validation Accuracy: 60.20\n",
            "Hyperparameters: LR=0.001, Optimizer=Adam, Loss=CrossEntropyLoss, Batch Size=128, Embedding Dim=300, Test Loss: 0.6722, Test Accuracy: 59.70\n",
            "Epoch 1/5, Train Loss: 0.1705, Train Accuracy: 59.16%, Validation Loss: 0.1616, Validation Accuracy: 60.20\n",
            "Epoch 2/5, Train Loss: 0.1649, Train Accuracy: 59.48%, Validation Loss: 0.1653, Validation Accuracy: 60.20\n",
            "Epoch 3/5, Train Loss: 0.1642, Train Accuracy: 59.87%, Validation Loss: 0.1618, Validation Accuracy: 60.20\n",
            "Epoch 4/5, Train Loss: 0.1634, Train Accuracy: 59.87%, Validation Loss: 0.1616, Validation Accuracy: 60.20\n",
            "Epoch 5/5, Train Loss: 0.1633, Train Accuracy: 59.87%, Validation Loss: 0.1656, Validation Accuracy: 60.20\n"
          ]
        },
        {
          "output_type": "stream",
          "name": "stderr",
          "text": [
            "\r  9%|▉         | 10/108 [03:20<31:45, 19.44s/it]"
          ]
        },
        {
          "output_type": "stream",
          "name": "stdout",
          "text": [
            "Hyperparameters: LR=0.001, Optimizer=Adam, Loss=FocalLoss, Batch Size=32, Embedding Dim=100, Test Loss: 0.1657, Test Accuracy: 59.70\n",
            "Epoch 1/5, Train Loss: 0.1774, Train Accuracy: 58.62%, Validation Loss: 0.1613, Validation Accuracy: 60.20\n",
            "Epoch 2/5, Train Loss: 0.1638, Train Accuracy: 59.20%, Validation Loss: 0.1609, Validation Accuracy: 60.20\n",
            "Epoch 3/5, Train Loss: 0.1644, Train Accuracy: 59.86%, Validation Loss: 0.1637, Validation Accuracy: 60.20\n",
            "Epoch 4/5, Train Loss: 0.1633, Train Accuracy: 59.77%, Validation Loss: 0.1666, Validation Accuracy: 60.20\n"
          ]
        },
        {
          "output_type": "stream",
          "name": "stderr",
          "text": [
            "\r 10%|█         | 11/108 [03:47<34:58, 21.63s/it]"
          ]
        },
        {
          "output_type": "stream",
          "name": "stdout",
          "text": [
            "Epoch 5/5, Train Loss: 0.1643, Train Accuracy: 59.67%, Validation Loss: 0.1613, Validation Accuracy: 60.20\n",
            "Hyperparameters: LR=0.001, Optimizer=Adam, Loss=FocalLoss, Batch Size=32, Embedding Dim=200, Test Loss: 0.1626, Test Accuracy: 59.70\n",
            "Epoch 1/5, Train Loss: 0.1709, Train Accuracy: 58.96%, Validation Loss: 0.1614, Validation Accuracy: 60.20\n",
            "Epoch 2/5, Train Loss: 0.1644, Train Accuracy: 59.73%, Validation Loss: 0.1618, Validation Accuracy: 60.20\n",
            "Epoch 3/5, Train Loss: 0.1640, Train Accuracy: 59.73%, Validation Loss: 0.1611, Validation Accuracy: 60.20\n",
            "Epoch 4/5, Train Loss: 0.1635, Train Accuracy: 59.87%, Validation Loss: 0.1624, Validation Accuracy: 60.20\n"
          ]
        },
        {
          "output_type": "stream",
          "name": "stderr",
          "text": [
            "\r 11%|█         | 12/108 [04:14<37:03, 23.16s/it]"
          ]
        },
        {
          "output_type": "stream",
          "name": "stdout",
          "text": [
            "Epoch 5/5, Train Loss: 0.1630, Train Accuracy: 59.87%, Validation Loss: 0.1602, Validation Accuracy: 60.20\n",
            "Hyperparameters: LR=0.001, Optimizer=Adam, Loss=FocalLoss, Batch Size=32, Embedding Dim=300, Test Loss: 0.1623, Test Accuracy: 59.70\n",
            "Epoch 1/5, Train Loss: 0.1781, Train Accuracy: 58.57%, Validation Loss: 0.1601, Validation Accuracy: 60.20\n",
            "Epoch 2/5, Train Loss: 0.1656, Train Accuracy: 59.36%, Validation Loss: 0.1639, Validation Accuracy: 60.20\n",
            "Epoch 3/5, Train Loss: 0.1644, Train Accuracy: 59.84%, Validation Loss: 0.1600, Validation Accuracy: 60.20\n",
            "Epoch 4/5, Train Loss: 0.1647, Train Accuracy: 59.87%, Validation Loss: 0.1605, Validation Accuracy: 60.20\n"
          ]
        },
        {
          "output_type": "stream",
          "name": "stderr",
          "text": [
            "\r 12%|█▏        | 13/108 [04:30<33:32, 21.18s/it]"
          ]
        },
        {
          "output_type": "stream",
          "name": "stdout",
          "text": [
            "Epoch 5/5, Train Loss: 0.1638, Train Accuracy: 59.86%, Validation Loss: 0.1599, Validation Accuracy: 60.20\n",
            "Hyperparameters: LR=0.001, Optimizer=Adam, Loss=FocalLoss, Batch Size=64, Embedding Dim=100, Test Loss: 0.1617, Test Accuracy: 59.70\n",
            "Epoch 1/5, Train Loss: 0.1850, Train Accuracy: 59.24%, Validation Loss: 0.1600, Validation Accuracy: 60.20\n",
            "Epoch 2/5, Train Loss: 0.1643, Train Accuracy: 59.60%, Validation Loss: 0.1612, Validation Accuracy: 60.20\n",
            "Epoch 3/5, Train Loss: 0.1636, Train Accuracy: 59.84%, Validation Loss: 0.1625, Validation Accuracy: 60.20\n",
            "Epoch 4/5, Train Loss: 0.1641, Train Accuracy: 59.87%, Validation Loss: 0.1600, Validation Accuracy: 60.20\n"
          ]
        },
        {
          "output_type": "stream",
          "name": "stderr",
          "text": [
            "\r 13%|█▎        | 14/108 [04:48<31:26, 20.07s/it]"
          ]
        },
        {
          "output_type": "stream",
          "name": "stdout",
          "text": [
            "Epoch 5/5, Train Loss: 0.1625, Train Accuracy: 59.87%, Validation Loss: 0.1603, Validation Accuracy: 60.20\n",
            "Hyperparameters: LR=0.001, Optimizer=Adam, Loss=FocalLoss, Batch Size=64, Embedding Dim=200, Test Loss: 0.1628, Test Accuracy: 59.70\n",
            "Epoch 1/5, Train Loss: 0.1832, Train Accuracy: 58.90%, Validation Loss: 0.1598, Validation Accuracy: 60.20\n",
            "Epoch 2/5, Train Loss: 0.1644, Train Accuracy: 59.87%, Validation Loss: 0.1599, Validation Accuracy: 60.20\n",
            "Epoch 3/5, Train Loss: 0.1645, Train Accuracy: 59.63%, Validation Loss: 0.1615, Validation Accuracy: 60.20\n",
            "Epoch 4/5, Train Loss: 0.1631, Train Accuracy: 59.80%, Validation Loss: 0.1599, Validation Accuracy: 60.20\n"
          ]
        },
        {
          "output_type": "stream",
          "name": "stderr",
          "text": [
            "\r 14%|█▍        | 15/108 [05:04<29:26, 18.99s/it]"
          ]
        },
        {
          "output_type": "stream",
          "name": "stdout",
          "text": [
            "Epoch 5/5, Train Loss: 0.1635, Train Accuracy: 59.87%, Validation Loss: 0.1631, Validation Accuracy: 60.20\n",
            "Hyperparameters: LR=0.001, Optimizer=Adam, Loss=FocalLoss, Batch Size=64, Embedding Dim=300, Test Loss: 0.1641, Test Accuracy: 59.70\n",
            "Epoch 1/5, Train Loss: 0.1838, Train Accuracy: 58.63%, Validation Loss: 0.1589, Validation Accuracy: 60.20\n",
            "Epoch 2/5, Train Loss: 0.1633, Train Accuracy: 59.87%, Validation Loss: 0.1593, Validation Accuracy: 60.20\n",
            "Epoch 3/5, Train Loss: 0.1626, Train Accuracy: 59.87%, Validation Loss: 0.1581, Validation Accuracy: 60.20\n",
            "Epoch 4/5, Train Loss: 0.1630, Train Accuracy: 59.87%, Validation Loss: 0.1582, Validation Accuracy: 60.20\n"
          ]
        },
        {
          "output_type": "stream",
          "name": "stderr",
          "text": [
            "\r 15%|█▍        | 16/108 [05:20<27:25, 17.89s/it]"
          ]
        },
        {
          "output_type": "stream",
          "name": "stdout",
          "text": [
            "Epoch 5/5, Train Loss: 0.1638, Train Accuracy: 59.75%, Validation Loss: 0.1585, Validation Accuracy: 60.20\n",
            "Hyperparameters: LR=0.001, Optimizer=Adam, Loss=FocalLoss, Batch Size=128, Embedding Dim=100, Test Loss: 0.1622, Test Accuracy: 59.70\n",
            "Epoch 1/5, Train Loss: 0.1900, Train Accuracy: 57.62%, Validation Loss: 0.1605, Validation Accuracy: 60.20\n",
            "Epoch 2/5, Train Loss: 0.1646, Train Accuracy: 59.87%, Validation Loss: 0.1608, Validation Accuracy: 60.20\n",
            "Epoch 3/5, Train Loss: 0.1634, Train Accuracy: 59.87%, Validation Loss: 0.1605, Validation Accuracy: 60.20\n",
            "Epoch 4/5, Train Loss: 0.1645, Train Accuracy: 59.29%, Validation Loss: 0.1628, Validation Accuracy: 60.20\n"
          ]
        },
        {
          "output_type": "stream",
          "name": "stderr",
          "text": [
            "\r 16%|█▌        | 17/108 [05:35<26:00, 17.15s/it]"
          ]
        },
        {
          "output_type": "stream",
          "name": "stdout",
          "text": [
            "Epoch 5/5, Train Loss: 0.1635, Train Accuracy: 59.87%, Validation Loss: 0.1591, Validation Accuracy: 60.20\n",
            "Hyperparameters: LR=0.001, Optimizer=Adam, Loss=FocalLoss, Batch Size=128, Embedding Dim=200, Test Loss: 0.1628, Test Accuracy: 59.70\n",
            "Epoch 1/5, Train Loss: 0.1972, Train Accuracy: 58.36%, Validation Loss: 0.1602, Validation Accuracy: 60.20\n",
            "Epoch 2/5, Train Loss: 0.1628, Train Accuracy: 59.87%, Validation Loss: 0.1632, Validation Accuracy: 60.20\n",
            "Epoch 3/5, Train Loss: 0.1628, Train Accuracy: 59.87%, Validation Loss: 0.1588, Validation Accuracy: 60.20\n",
            "Epoch 4/5, Train Loss: 0.1630, Train Accuracy: 59.87%, Validation Loss: 0.1595, Validation Accuracy: 60.20\n"
          ]
        },
        {
          "output_type": "stream",
          "name": "stderr",
          "text": [
            "\r 17%|█▋        | 18/108 [05:50<24:55, 16.62s/it]"
          ]
        },
        {
          "output_type": "stream",
          "name": "stdout",
          "text": [
            "Epoch 5/5, Train Loss: 0.1631, Train Accuracy: 59.87%, Validation Loss: 0.1583, Validation Accuracy: 60.20\n",
            "Hyperparameters: LR=0.001, Optimizer=Adam, Loss=FocalLoss, Batch Size=128, Embedding Dim=300, Test Loss: 0.1608, Test Accuracy: 59.70\n",
            "Epoch 1/5, Train Loss: 0.6757, Train Accuracy: 59.29%, Validation Loss: 0.6744, Validation Accuracy: 60.20\n",
            "Epoch 2/5, Train Loss: 0.6739, Train Accuracy: 59.87%, Validation Loss: 0.6715, Validation Accuracy: 60.20\n",
            "Epoch 3/5, Train Loss: 0.6739, Train Accuracy: 59.87%, Validation Loss: 0.6739, Validation Accuracy: 60.20\n",
            "Epoch 4/5, Train Loss: 0.6741, Train Accuracy: 59.87%, Validation Loss: 0.6737, Validation Accuracy: 60.20\n",
            "Epoch 5/5, Train Loss: 0.6742, Train Accuracy: 59.87%, Validation Loss: 0.6721, Validation Accuracy: 60.20\n"
          ]
        },
        {
          "output_type": "stream",
          "name": "stderr",
          "text": [
            "\r 18%|█▊        | 19/108 [06:15<28:12, 19.02s/it]"
          ]
        },
        {
          "output_type": "stream",
          "name": "stdout",
          "text": [
            "Hyperparameters: LR=0.001, Optimizer=SGD, Loss=CrossEntropyLoss, Batch Size=32, Embedding Dim=100, Test Loss: 0.6736, Test Accuracy: 59.70\n",
            "Epoch 1/5, Train Loss: 0.6825, Train Accuracy: 58.99%, Validation Loss: 0.6727, Validation Accuracy: 60.20\n",
            "Epoch 2/5, Train Loss: 0.6750, Train Accuracy: 59.87%, Validation Loss: 0.6704, Validation Accuracy: 60.20\n",
            "Epoch 3/5, Train Loss: 0.6751, Train Accuracy: 59.87%, Validation Loss: 0.6726, Validation Accuracy: 60.20\n",
            "Epoch 4/5, Train Loss: 0.6747, Train Accuracy: 59.89%, Validation Loss: 0.6754, Validation Accuracy: 60.20\n"
          ]
        },
        {
          "output_type": "stream",
          "name": "stderr",
          "text": [
            "\r 19%|█▊        | 20/108 [06:42<31:20, 21.37s/it]"
          ]
        },
        {
          "output_type": "stream",
          "name": "stdout",
          "text": [
            "Epoch 5/5, Train Loss: 0.6745, Train Accuracy: 59.87%, Validation Loss: 0.6737, Validation Accuracy: 60.20\n",
            "Hyperparameters: LR=0.001, Optimizer=SGD, Loss=CrossEntropyLoss, Batch Size=32, Embedding Dim=200, Test Loss: 0.6754, Test Accuracy: 59.70\n",
            "Epoch 1/5, Train Loss: 0.6764, Train Accuracy: 59.47%, Validation Loss: 0.6749, Validation Accuracy: 60.20\n",
            "Epoch 2/5, Train Loss: 0.6756, Train Accuracy: 59.87%, Validation Loss: 0.6743, Validation Accuracy: 60.20\n",
            "Epoch 3/5, Train Loss: 0.6745, Train Accuracy: 59.87%, Validation Loss: 0.6741, Validation Accuracy: 60.20\n",
            "Epoch 4/5, Train Loss: 0.6750, Train Accuracy: 59.87%, Validation Loss: 0.6747, Validation Accuracy: 60.20\n",
            "Epoch 5/5, Train Loss: 0.6753, Train Accuracy: 59.87%, Validation Loss: 0.6761, Validation Accuracy: 60.20\n"
          ]
        },
        {
          "output_type": "stream",
          "name": "stderr",
          "text": [
            "\r 19%|█▉        | 21/108 [07:06<32:10, 22.19s/it]"
          ]
        },
        {
          "output_type": "stream",
          "name": "stdout",
          "text": [
            "Hyperparameters: LR=0.001, Optimizer=SGD, Loss=CrossEntropyLoss, Batch Size=32, Embedding Dim=300, Test Loss: 0.6750, Test Accuracy: 59.70\n",
            "Epoch 1/5, Train Loss: 0.6755, Train Accuracy: 59.46%, Validation Loss: 0.6715, Validation Accuracy: 60.20\n",
            "Epoch 2/5, Train Loss: 0.6746, Train Accuracy: 59.87%, Validation Loss: 0.6715, Validation Accuracy: 60.20\n",
            "Epoch 3/5, Train Loss: 0.6749, Train Accuracy: 59.87%, Validation Loss: 0.6718, Validation Accuracy: 60.20\n",
            "Epoch 4/5, Train Loss: 0.6745, Train Accuracy: 59.87%, Validation Loss: 0.6747, Validation Accuracy: 60.20\n"
          ]
        },
        {
          "output_type": "stream",
          "name": "stderr",
          "text": [
            "\r 20%|██        | 22/108 [07:21<28:51, 20.14s/it]"
          ]
        },
        {
          "output_type": "stream",
          "name": "stdout",
          "text": [
            "Epoch 5/5, Train Loss: 0.6750, Train Accuracy: 59.87%, Validation Loss: 0.6716, Validation Accuracy: 60.20\n",
            "Hyperparameters: LR=0.001, Optimizer=SGD, Loss=CrossEntropyLoss, Batch Size=64, Embedding Dim=100, Test Loss: 0.6733, Test Accuracy: 59.70\n",
            "Epoch 1/5, Train Loss: 0.6758, Train Accuracy: 59.15%, Validation Loss: 0.6691, Validation Accuracy: 60.20\n",
            "Epoch 2/5, Train Loss: 0.6741, Train Accuracy: 59.87%, Validation Loss: 0.6698, Validation Accuracy: 60.20\n",
            "Epoch 3/5, Train Loss: 0.6743, Train Accuracy: 59.87%, Validation Loss: 0.6694, Validation Accuracy: 60.20\n",
            "Epoch 4/5, Train Loss: 0.6738, Train Accuracy: 59.87%, Validation Loss: 0.6690, Validation Accuracy: 60.20\n"
          ]
        },
        {
          "output_type": "stream",
          "name": "stderr",
          "text": [
            "\r 21%|██▏       | 23/108 [07:37<26:33, 18.75s/it]"
          ]
        },
        {
          "output_type": "stream",
          "name": "stdout",
          "text": [
            "Epoch 5/5, Train Loss: 0.6739, Train Accuracy: 59.87%, Validation Loss: 0.6692, Validation Accuracy: 60.20\n",
            "Hyperparameters: LR=0.001, Optimizer=SGD, Loss=CrossEntropyLoss, Batch Size=64, Embedding Dim=200, Test Loss: 0.6729, Test Accuracy: 59.70\n",
            "Epoch 1/5, Train Loss: 0.6745, Train Accuracy: 59.79%, Validation Loss: 0.6731, Validation Accuracy: 60.20\n",
            "Epoch 2/5, Train Loss: 0.6740, Train Accuracy: 59.87%, Validation Loss: 0.6737, Validation Accuracy: 60.20\n",
            "Epoch 3/5, Train Loss: 0.6742, Train Accuracy: 59.87%, Validation Loss: 0.6722, Validation Accuracy: 60.20\n",
            "Epoch 4/5, Train Loss: 0.6742, Train Accuracy: 59.87%, Validation Loss: 0.6709, Validation Accuracy: 60.20\n"
          ]
        },
        {
          "output_type": "stream",
          "name": "stderr",
          "text": [
            "\r 22%|██▏       | 24/108 [07:52<24:49, 17.73s/it]"
          ]
        },
        {
          "output_type": "stream",
          "name": "stdout",
          "text": [
            "Epoch 5/5, Train Loss: 0.6735, Train Accuracy: 59.87%, Validation Loss: 0.6723, Validation Accuracy: 60.20\n",
            "Hyperparameters: LR=0.001, Optimizer=SGD, Loss=CrossEntropyLoss, Batch Size=64, Embedding Dim=300, Test Loss: 0.6749, Test Accuracy: 59.70\n",
            "Epoch 1/5, Train Loss: 0.6842, Train Accuracy: 57.59%, Validation Loss: 0.6666, Validation Accuracy: 60.20\n",
            "Epoch 2/5, Train Loss: 0.6739, Train Accuracy: 59.87%, Validation Loss: 0.6662, Validation Accuracy: 60.20\n",
            "Epoch 3/5, Train Loss: 0.6742, Train Accuracy: 59.87%, Validation Loss: 0.6655, Validation Accuracy: 60.20\n",
            "Epoch 4/5, Train Loss: 0.6740, Train Accuracy: 59.87%, Validation Loss: 0.6655, Validation Accuracy: 60.20\n"
          ]
        },
        {
          "output_type": "stream",
          "name": "stderr",
          "text": [
            "\r 23%|██▎       | 25/108 [08:07<23:19, 16.86s/it]"
          ]
        },
        {
          "output_type": "stream",
          "name": "stdout",
          "text": [
            "Epoch 5/5, Train Loss: 0.6746, Train Accuracy: 59.87%, Validation Loss: 0.6655, Validation Accuracy: 60.20\n",
            "Hyperparameters: LR=0.001, Optimizer=SGD, Loss=CrossEntropyLoss, Batch Size=128, Embedding Dim=100, Test Loss: 0.6731, Test Accuracy: 59.70\n",
            "Epoch 1/5, Train Loss: 0.6752, Train Accuracy: 59.87%, Validation Loss: 0.6663, Validation Accuracy: 60.20\n",
            "Epoch 2/5, Train Loss: 0.6736, Train Accuracy: 59.87%, Validation Loss: 0.6641, Validation Accuracy: 60.20\n",
            "Epoch 3/5, Train Loss: 0.6745, Train Accuracy: 59.87%, Validation Loss: 0.6662, Validation Accuracy: 60.20\n",
            "Epoch 4/5, Train Loss: 0.6736, Train Accuracy: 59.87%, Validation Loss: 0.6643, Validation Accuracy: 60.20\n"
          ]
        },
        {
          "output_type": "stream",
          "name": "stderr",
          "text": [
            "\r 24%|██▍       | 26/108 [08:22<22:12, 16.26s/it]"
          ]
        },
        {
          "output_type": "stream",
          "name": "stdout",
          "text": [
            "Epoch 5/5, Train Loss: 0.6744, Train Accuracy: 59.87%, Validation Loss: 0.6649, Validation Accuracy: 60.20\n",
            "Hyperparameters: LR=0.001, Optimizer=SGD, Loss=CrossEntropyLoss, Batch Size=128, Embedding Dim=200, Test Loss: 0.6738, Test Accuracy: 59.70\n",
            "Epoch 1/5, Train Loss: 0.6784, Train Accuracy: 58.46%, Validation Loss: 0.6661, Validation Accuracy: 60.20\n",
            "Epoch 2/5, Train Loss: 0.6749, Train Accuracy: 59.87%, Validation Loss: 0.6654, Validation Accuracy: 60.20\n",
            "Epoch 3/5, Train Loss: 0.6747, Train Accuracy: 59.87%, Validation Loss: 0.6653, Validation Accuracy: 60.20\n",
            "Epoch 4/5, Train Loss: 0.6741, Train Accuracy: 59.87%, Validation Loss: 0.6655, Validation Accuracy: 60.20\n"
          ]
        },
        {
          "output_type": "stream",
          "name": "stderr",
          "text": [
            "\r 25%|██▌       | 27/108 [08:37<21:21, 15.83s/it]"
          ]
        },
        {
          "output_type": "stream",
          "name": "stdout",
          "text": [
            "Epoch 5/5, Train Loss: 0.6747, Train Accuracy: 59.87%, Validation Loss: 0.6655, Validation Accuracy: 60.20\n",
            "Hyperparameters: LR=0.001, Optimizer=SGD, Loss=CrossEntropyLoss, Batch Size=128, Embedding Dim=300, Test Loss: 0.6729, Test Accuracy: 59.70\n",
            "Epoch 1/5, Train Loss: 0.1631, Train Accuracy: 59.87%, Validation Loss: 0.1613, Validation Accuracy: 60.20\n",
            "Epoch 2/5, Train Loss: 0.1632, Train Accuracy: 59.87%, Validation Loss: 0.1609, Validation Accuracy: 60.20\n",
            "Epoch 3/5, Train Loss: 0.1627, Train Accuracy: 59.87%, Validation Loss: 0.1603, Validation Accuracy: 60.20\n",
            "Epoch 4/5, Train Loss: 0.1628, Train Accuracy: 59.87%, Validation Loss: 0.1608, Validation Accuracy: 60.20\n"
          ]
        },
        {
          "output_type": "stream",
          "name": "stderr",
          "text": [
            "\r 26%|██▌       | 28/108 [09:02<24:46, 18.58s/it]"
          ]
        },
        {
          "output_type": "stream",
          "name": "stdout",
          "text": [
            "Epoch 5/5, Train Loss: 0.1629, Train Accuracy: 59.87%, Validation Loss: 0.1603, Validation Accuracy: 60.20\n",
            "Hyperparameters: LR=0.001, Optimizer=SGD, Loss=FocalLoss, Batch Size=32, Embedding Dim=100, Test Loss: 0.1633, Test Accuracy: 59.70\n",
            "Epoch 1/5, Train Loss: 0.1643, Train Accuracy: 59.37%, Validation Loss: 0.1610, Validation Accuracy: 60.12\n",
            "Epoch 2/5, Train Loss: 0.1637, Train Accuracy: 59.86%, Validation Loss: 0.1615, Validation Accuracy: 60.28\n",
            "Epoch 3/5, Train Loss: 0.1632, Train Accuracy: 59.85%, Validation Loss: 0.1605, Validation Accuracy: 60.20\n",
            "Epoch 4/5, Train Loss: 0.1632, Train Accuracy: 59.87%, Validation Loss: 0.1610, Validation Accuracy: 60.12\n",
            "Epoch 5/5, Train Loss: 0.1631, Train Accuracy: 59.87%, Validation Loss: 0.1610, Validation Accuracy: 60.12\n"
          ]
        },
        {
          "output_type": "stream",
          "name": "stderr",
          "text": [
            "\r 27%|██▋       | 29/108 [09:25<26:28, 20.10s/it]"
          ]
        },
        {
          "output_type": "stream",
          "name": "stdout",
          "text": [
            "Hyperparameters: LR=0.001, Optimizer=SGD, Loss=FocalLoss, Batch Size=32, Embedding Dim=200, Test Loss: 0.1638, Test Accuracy: 59.70\n",
            "Epoch 1/5, Train Loss: 0.1640, Train Accuracy: 59.86%, Validation Loss: 0.1612, Validation Accuracy: 60.12\n",
            "Epoch 2/5, Train Loss: 0.1629, Train Accuracy: 59.87%, Validation Loss: 0.1628, Validation Accuracy: 60.12\n",
            "Epoch 3/5, Train Loss: 0.1630, Train Accuracy: 59.85%, Validation Loss: 0.1605, Validation Accuracy: 60.20\n",
            "Epoch 4/5, Train Loss: 0.1629, Train Accuracy: 59.87%, Validation Loss: 0.1606, Validation Accuracy: 60.20\n",
            "Epoch 5/5, Train Loss: 0.1627, Train Accuracy: 59.87%, Validation Loss: 0.1603, Validation Accuracy: 60.20\n"
          ]
        },
        {
          "output_type": "stream",
          "name": "stderr",
          "text": [
            "\r 28%|██▊       | 30/108 [09:51<28:17, 21.76s/it]"
          ]
        },
        {
          "output_type": "stream",
          "name": "stdout",
          "text": [
            "Hyperparameters: LR=0.001, Optimizer=SGD, Loss=FocalLoss, Batch Size=32, Embedding Dim=300, Test Loss: 0.1628, Test Accuracy: 59.70\n",
            "Epoch 1/5, Train Loss: 0.1626, Train Accuracy: 59.87%, Validation Loss: 0.1633, Validation Accuracy: 60.12\n",
            "Epoch 2/5, Train Loss: 0.1625, Train Accuracy: 59.87%, Validation Loss: 0.1623, Validation Accuracy: 60.20\n",
            "Epoch 3/5, Train Loss: 0.1623, Train Accuracy: 59.87%, Validation Loss: 0.1616, Validation Accuracy: 60.20\n",
            "Epoch 4/5, Train Loss: 0.1623, Train Accuracy: 59.87%, Validation Loss: 0.1607, Validation Accuracy: 60.20\n"
          ]
        },
        {
          "output_type": "stream",
          "name": "stderr",
          "text": [
            "\r 29%|██▊       | 31/108 [10:06<25:32, 19.90s/it]"
          ]
        },
        {
          "output_type": "stream",
          "name": "stdout",
          "text": [
            "Epoch 5/5, Train Loss: 0.1625, Train Accuracy: 59.87%, Validation Loss: 0.1620, Validation Accuracy: 60.20\n",
            "Hyperparameters: LR=0.001, Optimizer=SGD, Loss=FocalLoss, Batch Size=64, Embedding Dim=100, Test Loss: 0.1621, Test Accuracy: 59.70\n",
            "Epoch 1/5, Train Loss: 0.1626, Train Accuracy: 59.87%, Validation Loss: 0.1604, Validation Accuracy: 60.20\n",
            "Epoch 2/5, Train Loss: 0.1622, Train Accuracy: 59.87%, Validation Loss: 0.1609, Validation Accuracy: 60.20\n",
            "Epoch 3/5, Train Loss: 0.1628, Train Accuracy: 59.87%, Validation Loss: 0.1600, Validation Accuracy: 60.20\n",
            "Epoch 4/5, Train Loss: 0.1627, Train Accuracy: 59.87%, Validation Loss: 0.1600, Validation Accuracy: 60.20\n"
          ]
        },
        {
          "output_type": "stream",
          "name": "stderr",
          "text": [
            "\r 30%|██▉       | 32/108 [10:22<23:34, 18.61s/it]"
          ]
        },
        {
          "output_type": "stream",
          "name": "stdout",
          "text": [
            "Epoch 5/5, Train Loss: 0.1624, Train Accuracy: 59.87%, Validation Loss: 0.1599, Validation Accuracy: 60.20\n",
            "Hyperparameters: LR=0.001, Optimizer=SGD, Loss=FocalLoss, Batch Size=64, Embedding Dim=200, Test Loss: 0.1619, Test Accuracy: 59.70\n",
            "Epoch 1/5, Train Loss: 0.1623, Train Accuracy: 59.87%, Validation Loss: 0.1608, Validation Accuracy: 60.20\n",
            "Epoch 2/5, Train Loss: 0.1622, Train Accuracy: 59.87%, Validation Loss: 0.1603, Validation Accuracy: 60.20\n",
            "Epoch 3/5, Train Loss: 0.1624, Train Accuracy: 59.87%, Validation Loss: 0.1603, Validation Accuracy: 60.20\n",
            "Epoch 4/5, Train Loss: 0.1625, Train Accuracy: 59.87%, Validation Loss: 0.1602, Validation Accuracy: 60.20\n"
          ]
        },
        {
          "output_type": "stream",
          "name": "stderr",
          "text": [
            "\r 31%|███       | 33/108 [10:38<22:10, 17.73s/it]"
          ]
        },
        {
          "output_type": "stream",
          "name": "stdout",
          "text": [
            "Epoch 5/5, Train Loss: 0.1626, Train Accuracy: 59.87%, Validation Loss: 0.1603, Validation Accuracy: 60.20\n",
            "Hyperparameters: LR=0.001, Optimizer=SGD, Loss=FocalLoss, Batch Size=64, Embedding Dim=300, Test Loss: 0.1619, Test Accuracy: 59.70\n",
            "Epoch 1/5, Train Loss: 0.1639, Train Accuracy: 59.87%, Validation Loss: 0.1579, Validation Accuracy: 60.20\n",
            "Epoch 2/5, Train Loss: 0.1623, Train Accuracy: 59.87%, Validation Loss: 0.1577, Validation Accuracy: 60.20\n",
            "Epoch 3/5, Train Loss: 0.1624, Train Accuracy: 59.87%, Validation Loss: 0.1578, Validation Accuracy: 60.20\n",
            "Epoch 4/5, Train Loss: 0.1626, Train Accuracy: 59.87%, Validation Loss: 0.1579, Validation Accuracy: 60.20\n"
          ]
        },
        {
          "output_type": "stream",
          "name": "stderr",
          "text": [
            "\r 31%|███▏      | 34/108 [10:53<20:48, 16.87s/it]"
          ]
        },
        {
          "output_type": "stream",
          "name": "stdout",
          "text": [
            "Epoch 5/5, Train Loss: 0.1619, Train Accuracy: 59.87%, Validation Loss: 0.1577, Validation Accuracy: 60.20\n",
            "Hyperparameters: LR=0.001, Optimizer=SGD, Loss=FocalLoss, Batch Size=128, Embedding Dim=100, Test Loss: 0.1635, Test Accuracy: 59.70\n",
            "Epoch 1/5, Train Loss: 0.1631, Train Accuracy: 59.87%, Validation Loss: 0.1590, Validation Accuracy: 60.20\n",
            "Epoch 2/5, Train Loss: 0.1622, Train Accuracy: 59.87%, Validation Loss: 0.1587, Validation Accuracy: 60.20\n",
            "Epoch 3/5, Train Loss: 0.1616, Train Accuracy: 59.87%, Validation Loss: 0.1584, Validation Accuracy: 60.20\n",
            "Epoch 4/5, Train Loss: 0.1620, Train Accuracy: 59.87%, Validation Loss: 0.1586, Validation Accuracy: 60.20\n"
          ]
        },
        {
          "output_type": "stream",
          "name": "stderr",
          "text": [
            "\r 32%|███▏      | 35/108 [11:08<19:48, 16.28s/it]"
          ]
        },
        {
          "output_type": "stream",
          "name": "stdout",
          "text": [
            "Epoch 5/5, Train Loss: 0.1620, Train Accuracy: 59.87%, Validation Loss: 0.1588, Validation Accuracy: 60.20\n",
            "Hyperparameters: LR=0.001, Optimizer=SGD, Loss=FocalLoss, Batch Size=128, Embedding Dim=200, Test Loss: 0.1617, Test Accuracy: 59.70\n",
            "Epoch 1/5, Train Loss: 0.1622, Train Accuracy: 59.87%, Validation Loss: 0.1592, Validation Accuracy: 60.20\n",
            "Epoch 2/5, Train Loss: 0.1625, Train Accuracy: 59.87%, Validation Loss: 0.1589, Validation Accuracy: 60.20\n",
            "Epoch 3/5, Train Loss: 0.1624, Train Accuracy: 59.87%, Validation Loss: 0.1592, Validation Accuracy: 60.20\n",
            "Epoch 4/5, Train Loss: 0.1620, Train Accuracy: 59.87%, Validation Loss: 0.1591, Validation Accuracy: 60.20\n"
          ]
        },
        {
          "output_type": "stream",
          "name": "stderr",
          "text": [
            "\r 33%|███▎      | 36/108 [11:22<19:02, 15.87s/it]"
          ]
        },
        {
          "output_type": "stream",
          "name": "stdout",
          "text": [
            "Epoch 5/5, Train Loss: 0.1622, Train Accuracy: 59.87%, Validation Loss: 0.1590, Validation Accuracy: 60.20\n",
            "Hyperparameters: LR=0.001, Optimizer=SGD, Loss=FocalLoss, Batch Size=128, Embedding Dim=300, Test Loss: 0.1625, Test Accuracy: 59.70\n",
            "Epoch 1/5, Train Loss: 0.6975, Train Accuracy: 58.40%, Validation Loss: 0.6801, Validation Accuracy: 60.20\n",
            "Epoch 2/5, Train Loss: 0.6776, Train Accuracy: 59.62%, Validation Loss: 0.6713, Validation Accuracy: 60.20\n",
            "Epoch 3/5, Train Loss: 0.6761, Train Accuracy: 59.64%, Validation Loss: 0.6760, Validation Accuracy: 60.20\n",
            "Epoch 4/5, Train Loss: 0.6744, Train Accuracy: 59.87%, Validation Loss: 0.6743, Validation Accuracy: 60.20\n",
            "Epoch 5/5, Train Loss: 0.6746, Train Accuracy: 59.67%, Validation Loss: 0.6726, Validation Accuracy: 60.20\n"
          ]
        },
        {
          "output_type": "stream",
          "name": "stderr",
          "text": [
            "\r 34%|███▍      | 37/108 [11:47<21:44, 18.37s/it]"
          ]
        },
        {
          "output_type": "stream",
          "name": "stdout",
          "text": [
            "Hyperparameters: LR=0.001, Optimizer=RMSprop, Loss=CrossEntropyLoss, Batch Size=32, Embedding Dim=100, Test Loss: 0.6762, Test Accuracy: 59.70\n",
            "Epoch 1/5, Train Loss: 0.6926, Train Accuracy: 58.61%, Validation Loss: 0.6973, Validation Accuracy: 60.20\n",
            "Epoch 2/5, Train Loss: 0.6784, Train Accuracy: 59.68%, Validation Loss: 0.6732, Validation Accuracy: 60.20\n",
            "Epoch 3/5, Train Loss: 0.6756, Train Accuracy: 59.75%, Validation Loss: 0.6710, Validation Accuracy: 60.20\n",
            "Epoch 4/5, Train Loss: 0.6750, Train Accuracy: 59.87%, Validation Loss: 0.6791, Validation Accuracy: 60.20\n"
          ]
        },
        {
          "output_type": "stream",
          "name": "stderr",
          "text": [
            "\r 35%|███▌      | 38/108 [12:12<23:58, 20.55s/it]"
          ]
        },
        {
          "output_type": "stream",
          "name": "stdout",
          "text": [
            "Epoch 5/5, Train Loss: 0.6751, Train Accuracy: 59.87%, Validation Loss: 0.6727, Validation Accuracy: 60.20\n",
            "Hyperparameters: LR=0.001, Optimizer=RMSprop, Loss=CrossEntropyLoss, Batch Size=32, Embedding Dim=200, Test Loss: 0.6763, Test Accuracy: 59.70\n",
            "Epoch 1/5, Train Loss: 0.7018, Train Accuracy: 58.35%, Validation Loss: 0.6731, Validation Accuracy: 60.20\n",
            "Epoch 2/5, Train Loss: 0.6791, Train Accuracy: 59.23%, Validation Loss: 0.6726, Validation Accuracy: 60.20\n",
            "Epoch 3/5, Train Loss: 0.6764, Train Accuracy: 59.87%, Validation Loss: 0.6713, Validation Accuracy: 60.20\n",
            "Epoch 4/5, Train Loss: 0.6754, Train Accuracy: 59.87%, Validation Loss: 0.6710, Validation Accuracy: 60.20\n",
            "Epoch 5/5, Train Loss: 0.6747, Train Accuracy: 59.87%, Validation Loss: 0.6724, Validation Accuracy: 60.20\n"
          ]
        },
        {
          "output_type": "stream",
          "name": "stderr",
          "text": [
            "\r 36%|███▌      | 39/108 [12:36<24:48, 21.57s/it]"
          ]
        },
        {
          "output_type": "stream",
          "name": "stdout",
          "text": [
            "Hyperparameters: LR=0.001, Optimizer=RMSprop, Loss=CrossEntropyLoss, Batch Size=32, Embedding Dim=300, Test Loss: 0.6760, Test Accuracy: 59.70\n",
            "Epoch 1/5, Train Loss: 0.6953, Train Accuracy: 58.96%, Validation Loss: 0.6817, Validation Accuracy: 60.20\n",
            "Epoch 2/5, Train Loss: 0.6776, Train Accuracy: 59.23%, Validation Loss: 0.6733, Validation Accuracy: 60.20\n",
            "Epoch 3/5, Train Loss: 0.6770, Train Accuracy: 59.75%, Validation Loss: 0.6771, Validation Accuracy: 60.20\n",
            "Epoch 4/5, Train Loss: 0.6757, Train Accuracy: 59.87%, Validation Loss: 0.6707, Validation Accuracy: 60.20\n"
          ]
        },
        {
          "output_type": "stream",
          "name": "stderr",
          "text": [
            "\r 37%|███▋      | 40/108 [12:52<22:34, 19.92s/it]"
          ]
        },
        {
          "output_type": "stream",
          "name": "stdout",
          "text": [
            "Epoch 5/5, Train Loss: 0.6747, Train Accuracy: 59.87%, Validation Loss: 0.6760, Validation Accuracy: 60.20\n",
            "Hyperparameters: LR=0.001, Optimizer=RMSprop, Loss=CrossEntropyLoss, Batch Size=64, Embedding Dim=100, Test Loss: 0.6817, Test Accuracy: 59.70\n",
            "Epoch 1/5, Train Loss: 0.7125, Train Accuracy: 57.94%, Validation Loss: 0.6842, Validation Accuracy: 60.20\n",
            "Epoch 2/5, Train Loss: 0.6792, Train Accuracy: 59.46%, Validation Loss: 0.6694, Validation Accuracy: 60.20\n",
            "Epoch 3/5, Train Loss: 0.6769, Train Accuracy: 59.58%, Validation Loss: 0.6860, Validation Accuracy: 60.20\n",
            "Epoch 4/5, Train Loss: 0.6779, Train Accuracy: 59.70%, Validation Loss: 0.6731, Validation Accuracy: 60.20\n"
          ]
        },
        {
          "output_type": "stream",
          "name": "stderr",
          "text": [
            "\r 38%|███▊      | 41/108 [13:08<20:55, 18.74s/it]"
          ]
        },
        {
          "output_type": "stream",
          "name": "stdout",
          "text": [
            "Epoch 5/5, Train Loss: 0.6757, Train Accuracy: 59.87%, Validation Loss: 0.6702, Validation Accuracy: 60.20\n",
            "Hyperparameters: LR=0.001, Optimizer=RMSprop, Loss=CrossEntropyLoss, Batch Size=64, Embedding Dim=200, Test Loss: 0.6746, Test Accuracy: 59.70\n",
            "Epoch 1/5, Train Loss: 0.7020, Train Accuracy: 58.76%, Validation Loss: 0.7034, Validation Accuracy: 60.20\n",
            "Epoch 2/5, Train Loss: 0.6800, Train Accuracy: 59.43%, Validation Loss: 0.6968, Validation Accuracy: 39.80\n",
            "Epoch 3/5, Train Loss: 0.6766, Train Accuracy: 59.23%, Validation Loss: 0.6722, Validation Accuracy: 60.20\n",
            "Epoch 4/5, Train Loss: 0.6760, Train Accuracy: 59.79%, Validation Loss: 0.6707, Validation Accuracy: 60.20\n"
          ]
        },
        {
          "output_type": "stream",
          "name": "stderr",
          "text": [
            "\r 39%|███▉      | 42/108 [13:24<19:37, 17.85s/it]"
          ]
        },
        {
          "output_type": "stream",
          "name": "stdout",
          "text": [
            "Epoch 5/5, Train Loss: 0.6758, Train Accuracy: 59.87%, Validation Loss: 0.6706, Validation Accuracy: 60.20\n",
            "Hyperparameters: LR=0.001, Optimizer=RMSprop, Loss=CrossEntropyLoss, Batch Size=64, Embedding Dim=300, Test Loss: 0.6735, Test Accuracy: 59.70\n",
            "Epoch 1/5, Train Loss: 0.7261, Train Accuracy: 58.84%, Validation Loss: 0.6673, Validation Accuracy: 60.20\n",
            "Epoch 2/5, Train Loss: 0.6782, Train Accuracy: 59.86%, Validation Loss: 0.6725, Validation Accuracy: 60.20\n",
            "Epoch 3/5, Train Loss: 0.6765, Train Accuracy: 59.64%, Validation Loss: 0.7162, Validation Accuracy: 60.20\n",
            "Epoch 4/5, Train Loss: 0.6764, Train Accuracy: 59.67%, Validation Loss: 0.6785, Validation Accuracy: 60.20\n"
          ]
        },
        {
          "output_type": "stream",
          "name": "stderr",
          "text": [
            "\r 40%|███▉      | 43/108 [13:39<18:25, 17.00s/it]"
          ]
        },
        {
          "output_type": "stream",
          "name": "stdout",
          "text": [
            "Epoch 5/5, Train Loss: 0.6752, Train Accuracy: 59.56%, Validation Loss: 0.6858, Validation Accuracy: 60.20\n",
            "Hyperparameters: LR=0.001, Optimizer=RMSprop, Loss=CrossEntropyLoss, Batch Size=128, Embedding Dim=100, Test Loss: 0.6963, Test Accuracy: 59.70\n",
            "Epoch 1/5, Train Loss: 0.7308, Train Accuracy: 57.49%, Validation Loss: 0.6805, Validation Accuracy: 60.20\n",
            "Epoch 2/5, Train Loss: 0.6770, Train Accuracy: 59.87%, Validation Loss: 0.7221, Validation Accuracy: 60.20\n",
            "Epoch 3/5, Train Loss: 0.6786, Train Accuracy: 59.66%, Validation Loss: 0.7230, Validation Accuracy: 39.80\n",
            "Epoch 4/5, Train Loss: 0.6768, Train Accuracy: 59.62%, Validation Loss: 0.6679, Validation Accuracy: 60.20\n"
          ]
        },
        {
          "output_type": "stream",
          "name": "stderr",
          "text": [
            "\r 41%|████      | 44/108 [13:54<17:31, 16.43s/it]"
          ]
        },
        {
          "output_type": "stream",
          "name": "stdout",
          "text": [
            "Epoch 5/5, Train Loss: 0.6769, Train Accuracy: 59.87%, Validation Loss: 0.6769, Validation Accuracy: 60.20\n",
            "Hyperparameters: LR=0.001, Optimizer=RMSprop, Loss=CrossEntropyLoss, Batch Size=128, Embedding Dim=200, Test Loss: 0.6861, Test Accuracy: 59.70\n",
            "Epoch 1/5, Train Loss: 0.7154, Train Accuracy: 58.23%, Validation Loss: 0.6899, Validation Accuracy: 60.20\n",
            "Epoch 2/5, Train Loss: 0.6804, Train Accuracy: 59.51%, Validation Loss: 0.6681, Validation Accuracy: 60.20\n",
            "Epoch 3/5, Train Loss: 0.6783, Train Accuracy: 59.62%, Validation Loss: 0.6665, Validation Accuracy: 60.20\n",
            "Epoch 4/5, Train Loss: 0.6769, Train Accuracy: 59.56%, Validation Loss: 0.6812, Validation Accuracy: 60.20\n"
          ]
        },
        {
          "output_type": "stream",
          "name": "stderr",
          "text": [
            "\r 42%|████▏     | 45/108 [14:09<16:49, 16.03s/it]"
          ]
        },
        {
          "output_type": "stream",
          "name": "stdout",
          "text": [
            "Epoch 5/5, Train Loss: 0.6767, Train Accuracy: 59.87%, Validation Loss: 0.6695, Validation Accuracy: 60.20\n",
            "Hyperparameters: LR=0.001, Optimizer=RMSprop, Loss=CrossEntropyLoss, Batch Size=128, Embedding Dim=300, Test Loss: 0.6731, Test Accuracy: 59.70\n",
            "Epoch 1/5, Train Loss: 0.1827, Train Accuracy: 58.29%, Validation Loss: 0.1610, Validation Accuracy: 60.20\n",
            "Epoch 2/5, Train Loss: 0.1650, Train Accuracy: 59.67%, Validation Loss: 0.1614, Validation Accuracy: 60.20\n",
            "Epoch 3/5, Train Loss: 0.1639, Train Accuracy: 59.80%, Validation Loss: 0.1614, Validation Accuracy: 60.20\n",
            "Epoch 4/5, Train Loss: 0.1633, Train Accuracy: 59.87%, Validation Loss: 0.1608, Validation Accuracy: 60.20\n"
          ]
        },
        {
          "output_type": "stream",
          "name": "stderr",
          "text": [
            "\r 43%|████▎     | 46/108 [14:36<20:00, 19.36s/it]"
          ]
        },
        {
          "output_type": "stream",
          "name": "stdout",
          "text": [
            "Epoch 5/5, Train Loss: 0.1632, Train Accuracy: 59.73%, Validation Loss: 0.1608, Validation Accuracy: 60.20\n",
            "Hyperparameters: LR=0.001, Optimizer=RMSprop, Loss=FocalLoss, Batch Size=32, Embedding Dim=100, Test Loss: 0.1625, Test Accuracy: 59.70\n",
            "Epoch 1/5, Train Loss: 0.1861, Train Accuracy: 58.73%, Validation Loss: 0.1610, Validation Accuracy: 60.20\n",
            "Epoch 2/5, Train Loss: 0.1653, Train Accuracy: 59.00%, Validation Loss: 0.1646, Validation Accuracy: 60.20\n",
            "Epoch 3/5, Train Loss: 0.1643, Train Accuracy: 59.85%, Validation Loss: 0.1615, Validation Accuracy: 60.20\n",
            "Epoch 4/5, Train Loss: 0.1634, Train Accuracy: 59.87%, Validation Loss: 0.1616, Validation Accuracy: 60.20\n",
            "Epoch 5/5, Train Loss: 0.1633, Train Accuracy: 59.87%, Validation Loss: 0.1640, Validation Accuracy: 60.20\n"
          ]
        },
        {
          "output_type": "stream",
          "name": "stderr",
          "text": [
            "\r 44%|████▎     | 47/108 [15:02<21:34, 21.22s/it]"
          ]
        },
        {
          "output_type": "stream",
          "name": "stdout",
          "text": [
            "Hyperparameters: LR=0.001, Optimizer=RMSprop, Loss=FocalLoss, Batch Size=32, Embedding Dim=200, Test Loss: 0.1647, Test Accuracy: 59.70\n",
            "Epoch 1/5, Train Loss: 0.1839, Train Accuracy: 58.82%, Validation Loss: 0.1608, Validation Accuracy: 60.20\n",
            "Epoch 2/5, Train Loss: 0.1656, Train Accuracy: 59.29%, Validation Loss: 0.1608, Validation Accuracy: 60.20\n",
            "Epoch 3/5, Train Loss: 0.1640, Train Accuracy: 59.83%, Validation Loss: 0.1645, Validation Accuracy: 60.20\n",
            "Epoch 4/5, Train Loss: 0.1634, Train Accuracy: 59.87%, Validation Loss: 0.1609, Validation Accuracy: 60.20\n",
            "Epoch 5/5, Train Loss: 0.1628, Train Accuracy: 59.73%, Validation Loss: 0.1608, Validation Accuracy: 60.20\n"
          ]
        },
        {
          "output_type": "stream",
          "name": "stderr",
          "text": [
            "\r 44%|████▍     | 48/108 [15:29<22:50, 22.85s/it]"
          ]
        },
        {
          "output_type": "stream",
          "name": "stdout",
          "text": [
            "Hyperparameters: LR=0.001, Optimizer=RMSprop, Loss=FocalLoss, Batch Size=32, Embedding Dim=300, Test Loss: 0.1623, Test Accuracy: 59.70\n",
            "Epoch 1/5, Train Loss: 0.1952, Train Accuracy: 58.96%, Validation Loss: 0.1598, Validation Accuracy: 60.20\n",
            "Epoch 2/5, Train Loss: 0.1647, Train Accuracy: 59.63%, Validation Loss: 0.1761, Validation Accuracy: 39.80\n",
            "Epoch 3/5, Train Loss: 0.1639, Train Accuracy: 59.30%, Validation Loss: 0.1598, Validation Accuracy: 60.20\n",
            "Epoch 4/5, Train Loss: 0.1639, Train Accuracy: 59.67%, Validation Loss: 0.1678, Validation Accuracy: 60.20\n"
          ]
        },
        {
          "output_type": "stream",
          "name": "stderr",
          "text": [
            "\r 45%|████▌     | 49/108 [15:45<20:38, 20.99s/it]"
          ]
        },
        {
          "output_type": "stream",
          "name": "stdout",
          "text": [
            "Epoch 5/5, Train Loss: 0.1631, Train Accuracy: 59.87%, Validation Loss: 0.1611, Validation Accuracy: 60.20\n",
            "Hyperparameters: LR=0.001, Optimizer=RMSprop, Loss=FocalLoss, Batch Size=64, Embedding Dim=100, Test Loss: 0.1625, Test Accuracy: 59.70\n",
            "Epoch 1/5, Train Loss: 0.1922, Train Accuracy: 58.47%, Validation Loss: 0.1643, Validation Accuracy: 60.20\n",
            "Epoch 2/5, Train Loss: 0.1659, Train Accuracy: 59.56%, Validation Loss: 0.1645, Validation Accuracy: 60.20\n",
            "Epoch 3/5, Train Loss: 0.1641, Train Accuracy: 59.51%, Validation Loss: 0.1733, Validation Accuracy: 60.20\n",
            "Epoch 4/5, Train Loss: 0.1646, Train Accuracy: 59.86%, Validation Loss: 0.1601, Validation Accuracy: 60.20\n"
          ]
        },
        {
          "output_type": "stream",
          "name": "stderr",
          "text": [
            "\r 46%|████▋     | 50/108 [16:02<19:01, 19.68s/it]"
          ]
        },
        {
          "output_type": "stream",
          "name": "stdout",
          "text": [
            "Epoch 5/5, Train Loss: 0.1633, Train Accuracy: 59.75%, Validation Loss: 0.1598, Validation Accuracy: 60.20\n",
            "Hyperparameters: LR=0.001, Optimizer=RMSprop, Loss=FocalLoss, Batch Size=64, Embedding Dim=200, Test Loss: 0.1618, Test Accuracy: 59.70\n",
            "Epoch 1/5, Train Loss: 0.2018, Train Accuracy: 59.32%, Validation Loss: 0.1602, Validation Accuracy: 60.20\n",
            "Epoch 2/5, Train Loss: 0.1662, Train Accuracy: 59.41%, Validation Loss: 0.1687, Validation Accuracy: 60.20\n",
            "Epoch 3/5, Train Loss: 0.1645, Train Accuracy: 59.53%, Validation Loss: 0.1602, Validation Accuracy: 60.20\n",
            "Epoch 4/5, Train Loss: 0.1636, Train Accuracy: 59.56%, Validation Loss: 0.1646, Validation Accuracy: 60.20\n"
          ]
        },
        {
          "output_type": "stream",
          "name": "stderr",
          "text": [
            "\r 47%|████▋     | 51/108 [16:18<17:46, 18.71s/it]"
          ]
        },
        {
          "output_type": "stream",
          "name": "stdout",
          "text": [
            "Epoch 5/5, Train Loss: 0.1635, Train Accuracy: 59.87%, Validation Loss: 0.1600, Validation Accuracy: 60.20\n",
            "Hyperparameters: LR=0.001, Optimizer=RMSprop, Loss=FocalLoss, Batch Size=64, Embedding Dim=300, Test Loss: 0.1623, Test Accuracy: 59.70\n",
            "Epoch 1/5, Train Loss: 0.2433, Train Accuracy: 58.74%, Validation Loss: 0.1585, Validation Accuracy: 60.20\n",
            "Epoch 2/5, Train Loss: 0.1636, Train Accuracy: 59.87%, Validation Loss: 0.1711, Validation Accuracy: 60.20\n",
            "Epoch 3/5, Train Loss: 0.1646, Train Accuracy: 59.89%, Validation Loss: 0.1616, Validation Accuracy: 60.20\n",
            "Epoch 4/5, Train Loss: 0.1641, Train Accuracy: 59.37%, Validation Loss: 0.1587, Validation Accuracy: 60.20\n"
          ]
        },
        {
          "output_type": "stream",
          "name": "stderr",
          "text": [
            "\r 48%|████▊     | 52/108 [16:34<16:29, 17.67s/it]"
          ]
        },
        {
          "output_type": "stream",
          "name": "stdout",
          "text": [
            "Epoch 5/5, Train Loss: 0.1647, Train Accuracy: 59.54%, Validation Loss: 0.1587, Validation Accuracy: 60.20\n",
            "Hyperparameters: LR=0.001, Optimizer=RMSprop, Loss=FocalLoss, Batch Size=128, Embedding Dim=100, Test Loss: 0.1611, Test Accuracy: 59.70\n",
            "Epoch 1/5, Train Loss: 0.2086, Train Accuracy: 58.19%, Validation Loss: 0.1718, Validation Accuracy: 60.20\n",
            "Epoch 2/5, Train Loss: 0.1648, Train Accuracy: 58.81%, Validation Loss: 0.1757, Validation Accuracy: 60.20\n",
            "Epoch 3/5, Train Loss: 0.1655, Train Accuracy: 59.26%, Validation Loss: 0.1692, Validation Accuracy: 60.20\n",
            "Epoch 4/5, Train Loss: 0.1640, Train Accuracy: 59.87%, Validation Loss: 0.1610, Validation Accuracy: 60.20\n"
          ]
        },
        {
          "output_type": "stream",
          "name": "stderr",
          "text": [
            "\r 49%|████▉     | 53/108 [16:49<15:31, 16.94s/it]"
          ]
        },
        {
          "output_type": "stream",
          "name": "stdout",
          "text": [
            "Epoch 5/5, Train Loss: 0.1638, Train Accuracy: 59.37%, Validation Loss: 0.1736, Validation Accuracy: 60.20\n",
            "Hyperparameters: LR=0.001, Optimizer=RMSprop, Loss=FocalLoss, Batch Size=128, Embedding Dim=200, Test Loss: 0.1799, Test Accuracy: 59.70\n",
            "Epoch 1/5, Train Loss: 0.2053, Train Accuracy: 59.48%, Validation Loss: 0.1652, Validation Accuracy: 60.20\n",
            "Epoch 2/5, Train Loss: 0.1638, Train Accuracy: 59.58%, Validation Loss: 0.1653, Validation Accuracy: 60.20\n",
            "Epoch 3/5, Train Loss: 0.1647, Train Accuracy: 59.42%, Validation Loss: 0.1725, Validation Accuracy: 60.20\n",
            "Epoch 4/5, Train Loss: 0.1650, Train Accuracy: 58.76%, Validation Loss: 0.1587, Validation Accuracy: 60.20\n"
          ]
        },
        {
          "output_type": "stream",
          "name": "stderr",
          "text": [
            "\r 50%|█████     | 54/108 [17:04<14:48, 16.45s/it]"
          ]
        },
        {
          "output_type": "stream",
          "name": "stdout",
          "text": [
            "Epoch 5/5, Train Loss: 0.1646, Train Accuracy: 59.63%, Validation Loss: 0.2133, Validation Accuracy: 39.80\n",
            "Hyperparameters: LR=0.001, Optimizer=RMSprop, Loss=FocalLoss, Batch Size=128, Embedding Dim=300, Test Loss: 0.2103, Test Accuracy: 40.30\n",
            "Epoch 1/5, Train Loss: 0.7005, Train Accuracy: 58.10%, Validation Loss: 0.6716, Validation Accuracy: 60.20\n",
            "Epoch 2/5, Train Loss: 0.6762, Train Accuracy: 59.87%, Validation Loss: 0.6709, Validation Accuracy: 60.20\n",
            "Epoch 3/5, Train Loss: 0.6739, Train Accuracy: 59.87%, Validation Loss: 0.6725, Validation Accuracy: 60.20\n",
            "Epoch 4/5, Train Loss: 0.6743, Train Accuracy: 59.87%, Validation Loss: 0.6713, Validation Accuracy: 60.20\n",
            "Epoch 5/5, Train Loss: 0.6742, Train Accuracy: 59.87%, Validation Loss: 0.6713, Validation Accuracy: 60.20\n"
          ]
        },
        {
          "output_type": "stream",
          "name": "stderr",
          "text": [
            "\r 51%|█████     | 55/108 [17:32<17:26, 19.74s/it]"
          ]
        },
        {
          "output_type": "stream",
          "name": "stdout",
          "text": [
            "Hyperparameters: LR=0.01, Optimizer=Adam, Loss=CrossEntropyLoss, Batch Size=32, Embedding Dim=100, Test Loss: 0.6737, Test Accuracy: 59.70\n",
            "Epoch 1/5, Train Loss: 0.7029, Train Accuracy: 58.09%, Validation Loss: 0.6800, Validation Accuracy: 60.20\n",
            "Epoch 2/5, Train Loss: 0.6752, Train Accuracy: 59.87%, Validation Loss: 0.6713, Validation Accuracy: 60.20\n",
            "Epoch 3/5, Train Loss: 0.6747, Train Accuracy: 59.87%, Validation Loss: 0.6722, Validation Accuracy: 60.20\n",
            "Epoch 4/5, Train Loss: 0.6743, Train Accuracy: 59.87%, Validation Loss: 0.6709, Validation Accuracy: 60.20\n",
            "Epoch 5/5, Train Loss: 0.6741, Train Accuracy: 59.87%, Validation Loss: 0.6709, Validation Accuracy: 60.20\n"
          ]
        },
        {
          "output_type": "stream",
          "name": "stderr",
          "text": [
            "\r 52%|█████▏    | 56/108 [17:58<18:46, 21.66s/it]"
          ]
        },
        {
          "output_type": "stream",
          "name": "stdout",
          "text": [
            "Hyperparameters: LR=0.01, Optimizer=Adam, Loss=CrossEntropyLoss, Batch Size=32, Embedding Dim=200, Test Loss: 0.6736, Test Accuracy: 59.70\n",
            "Epoch 1/5, Train Loss: 0.6970, Train Accuracy: 58.25%, Validation Loss: 0.6777, Validation Accuracy: 60.20\n",
            "Epoch 2/5, Train Loss: 0.6750, Train Accuracy: 59.87%, Validation Loss: 0.6709, Validation Accuracy: 60.20\n",
            "Epoch 3/5, Train Loss: 0.6748, Train Accuracy: 59.87%, Validation Loss: 0.6713, Validation Accuracy: 60.20\n",
            "Epoch 4/5, Train Loss: 0.6740, Train Accuracy: 59.87%, Validation Loss: 0.6710, Validation Accuracy: 60.20\n"
          ]
        },
        {
          "output_type": "stream",
          "name": "stderr",
          "text": [
            "\r 53%|█████▎    | 57/108 [18:24<19:32, 22.98s/it]"
          ]
        },
        {
          "output_type": "stream",
          "name": "stdout",
          "text": [
            "Epoch 5/5, Train Loss: 0.6743, Train Accuracy: 59.87%, Validation Loss: 0.6710, Validation Accuracy: 60.20\n",
            "Hyperparameters: LR=0.01, Optimizer=Adam, Loss=CrossEntropyLoss, Batch Size=32, Embedding Dim=300, Test Loss: 0.6736, Test Accuracy: 59.70\n",
            "Epoch 1/5, Train Loss: 0.7338, Train Accuracy: 57.49%, Validation Loss: 0.6695, Validation Accuracy: 60.20\n",
            "Epoch 2/5, Train Loss: 0.6766, Train Accuracy: 59.66%, Validation Loss: 0.6694, Validation Accuracy: 60.20\n",
            "Epoch 3/5, Train Loss: 0.6755, Train Accuracy: 59.87%, Validation Loss: 0.6697, Validation Accuracy: 60.20\n",
            "Epoch 4/5, Train Loss: 0.6744, Train Accuracy: 59.87%, Validation Loss: 0.6702, Validation Accuracy: 60.20\n"
          ]
        },
        {
          "output_type": "stream",
          "name": "stderr",
          "text": [
            "\r 54%|█████▎    | 58/108 [18:41<17:37, 21.15s/it]"
          ]
        },
        {
          "output_type": "stream",
          "name": "stdout",
          "text": [
            "Epoch 5/5, Train Loss: 0.6744, Train Accuracy: 59.87%, Validation Loss: 0.6694, Validation Accuracy: 60.20\n",
            "Hyperparameters: LR=0.01, Optimizer=Adam, Loss=CrossEntropyLoss, Batch Size=64, Embedding Dim=100, Test Loss: 0.6730, Test Accuracy: 59.70\n",
            "Epoch 1/5, Train Loss: 0.7155, Train Accuracy: 57.08%, Validation Loss: 0.6840, Validation Accuracy: 60.20\n",
            "Epoch 2/5, Train Loss: 0.6753, Train Accuracy: 59.87%, Validation Loss: 0.6696, Validation Accuracy: 60.20\n",
            "Epoch 3/5, Train Loss: 0.6742, Train Accuracy: 59.87%, Validation Loss: 0.6695, Validation Accuracy: 60.20\n",
            "Epoch 4/5, Train Loss: 0.6740, Train Accuracy: 59.87%, Validation Loss: 0.6706, Validation Accuracy: 60.20\n"
          ]
        },
        {
          "output_type": "stream",
          "name": "stderr",
          "text": [
            "\r 55%|█████▍    | 59/108 [18:57<16:11, 19.83s/it]"
          ]
        },
        {
          "output_type": "stream",
          "name": "stdout",
          "text": [
            "Epoch 5/5, Train Loss: 0.6742, Train Accuracy: 59.87%, Validation Loss: 0.6698, Validation Accuracy: 60.20\n",
            "Hyperparameters: LR=0.01, Optimizer=Adam, Loss=CrossEntropyLoss, Batch Size=64, Embedding Dim=200, Test Loss: 0.6730, Test Accuracy: 59.70\n",
            "Epoch 1/5, Train Loss: 0.7200, Train Accuracy: 57.74%, Validation Loss: 0.6736, Validation Accuracy: 60.20\n",
            "Epoch 2/5, Train Loss: 0.6765, Train Accuracy: 59.87%, Validation Loss: 0.6694, Validation Accuracy: 60.20\n",
            "Epoch 3/5, Train Loss: 0.6748, Train Accuracy: 59.87%, Validation Loss: 0.6701, Validation Accuracy: 60.20\n",
            "Epoch 4/5, Train Loss: 0.6739, Train Accuracy: 59.87%, Validation Loss: 0.6716, Validation Accuracy: 60.20\n"
          ]
        },
        {
          "output_type": "stream",
          "name": "stderr",
          "text": [
            "\r 56%|█████▌    | 60/108 [19:14<15:09, 18.94s/it]"
          ]
        },
        {
          "output_type": "stream",
          "name": "stdout",
          "text": [
            "Epoch 5/5, Train Loss: 0.6741, Train Accuracy: 59.87%, Validation Loss: 0.6699, Validation Accuracy: 60.20\n",
            "Hyperparameters: LR=0.01, Optimizer=Adam, Loss=CrossEntropyLoss, Batch Size=64, Embedding Dim=300, Test Loss: 0.6731, Test Accuracy: 59.70\n",
            "Epoch 1/5, Train Loss: 0.7477, Train Accuracy: 55.98%, Validation Loss: 0.6674, Validation Accuracy: 60.20\n",
            "Epoch 2/5, Train Loss: 0.6801, Train Accuracy: 59.00%, Validation Loss: 0.6766, Validation Accuracy: 60.20\n",
            "Epoch 3/5, Train Loss: 0.6807, Train Accuracy: 58.37%, Validation Loss: 0.6684, Validation Accuracy: 60.20\n",
            "Epoch 4/5, Train Loss: 0.6779, Train Accuracy: 59.48%, Validation Loss: 0.6746, Validation Accuracy: 60.20\n"
          ]
        },
        {
          "output_type": "stream",
          "name": "stderr",
          "text": [
            "\r 56%|█████▋    | 61/108 [19:30<14:01, 17.90s/it]"
          ]
        },
        {
          "output_type": "stream",
          "name": "stdout",
          "text": [
            "Epoch 5/5, Train Loss: 0.6758, Train Accuracy: 59.87%, Validation Loss: 0.6665, Validation Accuracy: 60.20\n",
            "Hyperparameters: LR=0.01, Optimizer=Adam, Loss=CrossEntropyLoss, Batch Size=128, Embedding Dim=100, Test Loss: 0.6722, Test Accuracy: 59.70\n",
            "Epoch 1/5, Train Loss: 0.7521, Train Accuracy: 56.29%, Validation Loss: 0.6692, Validation Accuracy: 60.20\n",
            "Epoch 2/5, Train Loss: 0.6757, Train Accuracy: 59.87%, Validation Loss: 0.6748, Validation Accuracy: 60.20\n",
            "Epoch 3/5, Train Loss: 0.6781, Train Accuracy: 59.87%, Validation Loss: 0.6844, Validation Accuracy: 60.20\n",
            "Epoch 4/5, Train Loss: 0.6774, Train Accuracy: 59.87%, Validation Loss: 0.6664, Validation Accuracy: 60.20\n"
          ]
        },
        {
          "output_type": "stream",
          "name": "stderr",
          "text": [
            "\r 57%|█████▋    | 62/108 [19:45<13:10, 17.19s/it]"
          ]
        },
        {
          "output_type": "stream",
          "name": "stdout",
          "text": [
            "Epoch 5/5, Train Loss: 0.6767, Train Accuracy: 59.87%, Validation Loss: 0.6665, Validation Accuracy: 60.20\n",
            "Hyperparameters: LR=0.01, Optimizer=Adam, Loss=CrossEntropyLoss, Batch Size=128, Embedding Dim=200, Test Loss: 0.6723, Test Accuracy: 59.70\n",
            "Epoch 1/5, Train Loss: 0.7449, Train Accuracy: 57.50%, Validation Loss: 0.6664, Validation Accuracy: 60.20\n",
            "Epoch 2/5, Train Loss: 0.6824, Train Accuracy: 58.64%, Validation Loss: 0.6692, Validation Accuracy: 60.20\n",
            "Epoch 3/5, Train Loss: 0.6773, Train Accuracy: 59.87%, Validation Loss: 0.6665, Validation Accuracy: 60.20\n",
            "Epoch 4/5, Train Loss: 0.6748, Train Accuracy: 59.87%, Validation Loss: 0.6686, Validation Accuracy: 60.20\n"
          ]
        },
        {
          "output_type": "stream",
          "name": "stderr",
          "text": [
            "\r 58%|█████▊    | 63/108 [20:01<12:31, 16.69s/it]"
          ]
        },
        {
          "output_type": "stream",
          "name": "stdout",
          "text": [
            "Epoch 5/5, Train Loss: 0.6768, Train Accuracy: 59.87%, Validation Loss: 0.6671, Validation Accuracy: 60.20\n",
            "Hyperparameters: LR=0.01, Optimizer=Adam, Loss=CrossEntropyLoss, Batch Size=128, Embedding Dim=300, Test Loss: 0.6718, Test Accuracy: 59.70\n",
            "Epoch 1/5, Train Loss: 0.1779, Train Accuracy: 57.59%, Validation Loss: 0.1610, Validation Accuracy: 60.20\n",
            "Epoch 2/5, Train Loss: 0.1630, Train Accuracy: 59.87%, Validation Loss: 0.1608, Validation Accuracy: 60.20\n",
            "Epoch 3/5, Train Loss: 0.1626, Train Accuracy: 59.87%, Validation Loss: 0.1609, Validation Accuracy: 60.20\n",
            "Epoch 4/5, Train Loss: 0.1629, Train Accuracy: 59.87%, Validation Loss: 0.1611, Validation Accuracy: 60.20\n"
          ]
        },
        {
          "output_type": "stream",
          "name": "stderr",
          "text": [
            "\r 59%|█████▉    | 64/108 [20:29<14:40, 20.01s/it]"
          ]
        },
        {
          "output_type": "stream",
          "name": "stdout",
          "text": [
            "Epoch 5/5, Train Loss: 0.1628, Train Accuracy: 59.87%, Validation Loss: 0.1623, Validation Accuracy: 60.20\n",
            "Hyperparameters: LR=0.01, Optimizer=Adam, Loss=FocalLoss, Batch Size=32, Embedding Dim=100, Test Loss: 0.1633, Test Accuracy: 59.70\n",
            "Epoch 1/5, Train Loss: 0.1831, Train Accuracy: 58.12%, Validation Loss: 0.1622, Validation Accuracy: 60.20\n",
            "Epoch 2/5, Train Loss: 0.1633, Train Accuracy: 59.87%, Validation Loss: 0.1615, Validation Accuracy: 60.20\n",
            "Epoch 3/5, Train Loss: 0.1627, Train Accuracy: 59.87%, Validation Loss: 0.1608, Validation Accuracy: 60.20\n",
            "Epoch 4/5, Train Loss: 0.1626, Train Accuracy: 59.87%, Validation Loss: 0.1609, Validation Accuracy: 60.20\n"
          ]
        },
        {
          "output_type": "stream",
          "name": "stderr",
          "text": [
            "\r 60%|██████    | 65/108 [20:57<16:07, 22.50s/it]"
          ]
        },
        {
          "output_type": "stream",
          "name": "stdout",
          "text": [
            "Epoch 5/5, Train Loss: 0.1627, Train Accuracy: 59.87%, Validation Loss: 0.1635, Validation Accuracy: 60.20\n",
            "Hyperparameters: LR=0.01, Optimizer=Adam, Loss=FocalLoss, Batch Size=32, Embedding Dim=200, Test Loss: 0.1644, Test Accuracy: 59.70\n",
            "Epoch 1/5, Train Loss: 0.1871, Train Accuracy: 57.85%, Validation Loss: 0.1615, Validation Accuracy: 60.20\n",
            "Epoch 2/5, Train Loss: 0.1632, Train Accuracy: 59.87%, Validation Loss: 0.1612, Validation Accuracy: 60.20\n",
            "Epoch 3/5, Train Loss: 0.1631, Train Accuracy: 59.87%, Validation Loss: 0.1619, Validation Accuracy: 60.20\n",
            "Epoch 4/5, Train Loss: 0.1628, Train Accuracy: 59.87%, Validation Loss: 0.1612, Validation Accuracy: 60.20\n",
            "Epoch 5/5, Train Loss: 0.1625, Train Accuracy: 59.87%, Validation Loss: 0.1608, Validation Accuracy: 60.20\n"
          ]
        },
        {
          "output_type": "stream",
          "name": "stderr",
          "text": [
            "\r 61%|██████    | 66/108 [21:24<16:39, 23.81s/it]"
          ]
        },
        {
          "output_type": "stream",
          "name": "stdout",
          "text": [
            "Hyperparameters: LR=0.01, Optimizer=Adam, Loss=FocalLoss, Batch Size=32, Embedding Dim=300, Test Loss: 0.1625, Test Accuracy: 59.70\n",
            "Epoch 1/5, Train Loss: 0.1950, Train Accuracy: 57.64%, Validation Loss: 0.1600, Validation Accuracy: 60.20\n",
            "Epoch 2/5, Train Loss: 0.1648, Train Accuracy: 59.50%, Validation Loss: 0.1614, Validation Accuracy: 60.20\n",
            "Epoch 3/5, Train Loss: 0.1625, Train Accuracy: 59.87%, Validation Loss: 0.1607, Validation Accuracy: 60.20\n",
            "Epoch 4/5, Train Loss: 0.1629, Train Accuracy: 59.87%, Validation Loss: 0.1604, Validation Accuracy: 60.20\n"
          ]
        },
        {
          "output_type": "stream",
          "name": "stderr",
          "text": [
            "\r 62%|██████▏   | 67/108 [21:41<14:52, 21.77s/it]"
          ]
        },
        {
          "output_type": "stream",
          "name": "stdout",
          "text": [
            "Epoch 5/5, Train Loss: 0.1625, Train Accuracy: 59.87%, Validation Loss: 0.1615, Validation Accuracy: 60.20\n",
            "Hyperparameters: LR=0.01, Optimizer=Adam, Loss=FocalLoss, Batch Size=64, Embedding Dim=100, Test Loss: 0.1628, Test Accuracy: 59.70\n",
            "Epoch 1/5, Train Loss: 0.1956, Train Accuracy: 58.27%, Validation Loss: 0.1811, Validation Accuracy: 39.80\n",
            "Epoch 2/5, Train Loss: 0.1648, Train Accuracy: 59.23%, Validation Loss: 0.1600, Validation Accuracy: 60.20\n",
            "Epoch 3/5, Train Loss: 0.1634, Train Accuracy: 59.87%, Validation Loss: 0.1620, Validation Accuracy: 60.20\n",
            "Epoch 4/5, Train Loss: 0.1625, Train Accuracy: 59.87%, Validation Loss: 0.1599, Validation Accuracy: 60.20\n"
          ]
        },
        {
          "output_type": "stream",
          "name": "stderr",
          "text": [
            "\r 63%|██████▎   | 68/108 [21:57<13:29, 20.25s/it]"
          ]
        },
        {
          "output_type": "stream",
          "name": "stdout",
          "text": [
            "Epoch 5/5, Train Loss: 0.1624, Train Accuracy: 59.87%, Validation Loss: 0.1600, Validation Accuracy: 60.20\n",
            "Hyperparameters: LR=0.01, Optimizer=Adam, Loss=FocalLoss, Batch Size=64, Embedding Dim=200, Test Loss: 0.1618, Test Accuracy: 59.70\n",
            "Epoch 1/5, Train Loss: 0.1883, Train Accuracy: 57.98%, Validation Loss: 0.1606, Validation Accuracy: 60.20\n",
            "Epoch 2/5, Train Loss: 0.1633, Train Accuracy: 59.87%, Validation Loss: 0.1599, Validation Accuracy: 60.20\n",
            "Epoch 3/5, Train Loss: 0.1635, Train Accuracy: 59.87%, Validation Loss: 0.1602, Validation Accuracy: 60.20\n",
            "Epoch 4/5, Train Loss: 0.1633, Train Accuracy: 59.87%, Validation Loss: 0.1604, Validation Accuracy: 60.20\n"
          ]
        },
        {
          "output_type": "stream",
          "name": "stderr",
          "text": [
            "\r 64%|██████▍   | 69/108 [22:14<12:28, 19.19s/it]"
          ]
        },
        {
          "output_type": "stream",
          "name": "stdout",
          "text": [
            "Epoch 5/5, Train Loss: 0.1627, Train Accuracy: 59.87%, Validation Loss: 0.1606, Validation Accuracy: 60.20\n",
            "Hyperparameters: LR=0.01, Optimizer=Adam, Loss=FocalLoss, Batch Size=64, Embedding Dim=300, Test Loss: 0.1622, Test Accuracy: 59.70\n",
            "Epoch 1/5, Train Loss: 0.2352, Train Accuracy: 57.34%, Validation Loss: 0.1675, Validation Accuracy: 60.20\n",
            "Epoch 2/5, Train Loss: 0.1649, Train Accuracy: 58.50%, Validation Loss: 0.1605, Validation Accuracy: 60.20\n",
            "Epoch 3/5, Train Loss: 0.1632, Train Accuracy: 59.87%, Validation Loss: 0.1622, Validation Accuracy: 60.20\n",
            "Epoch 4/5, Train Loss: 0.1661, Train Accuracy: 59.05%, Validation Loss: 0.1595, Validation Accuracy: 60.20\n"
          ]
        },
        {
          "output_type": "stream",
          "name": "stderr",
          "text": [
            "\r 65%|██████▍   | 70/108 [22:30<11:25, 18.05s/it]"
          ]
        },
        {
          "output_type": "stream",
          "name": "stdout",
          "text": [
            "Epoch 5/5, Train Loss: 0.1628, Train Accuracy: 59.87%, Validation Loss: 0.1595, Validation Accuracy: 60.20\n",
            "Hyperparameters: LR=0.01, Optimizer=Adam, Loss=FocalLoss, Batch Size=128, Embedding Dim=100, Test Loss: 0.1616, Test Accuracy: 59.70\n",
            "Epoch 1/5, Train Loss: 0.2058, Train Accuracy: 57.16%, Validation Loss: 0.1610, Validation Accuracy: 60.20\n",
            "Epoch 2/5, Train Loss: 0.1655, Train Accuracy: 59.36%, Validation Loss: 0.1679, Validation Accuracy: 60.20\n",
            "Epoch 3/5, Train Loss: 0.1650, Train Accuracy: 59.19%, Validation Loss: 0.1582, Validation Accuracy: 60.20\n",
            "Epoch 4/5, Train Loss: 0.1644, Train Accuracy: 59.27%, Validation Loss: 0.1583, Validation Accuracy: 60.20\n"
          ]
        },
        {
          "output_type": "stream",
          "name": "stderr",
          "text": [
            "\r 66%|██████▌   | 71/108 [22:45<10:37, 17.24s/it]"
          ]
        },
        {
          "output_type": "stream",
          "name": "stdout",
          "text": [
            "Epoch 5/5, Train Loss: 0.1623, Train Accuracy: 59.87%, Validation Loss: 0.1590, Validation Accuracy: 60.20\n",
            "Hyperparameters: LR=0.01, Optimizer=Adam, Loss=FocalLoss, Batch Size=128, Embedding Dim=200, Test Loss: 0.1613, Test Accuracy: 59.70\n",
            "Epoch 1/5, Train Loss: 0.2059, Train Accuracy: 56.32%, Validation Loss: 0.1583, Validation Accuracy: 60.20\n",
            "Epoch 2/5, Train Loss: 0.1642, Train Accuracy: 59.87%, Validation Loss: 0.1660, Validation Accuracy: 60.20\n",
            "Epoch 3/5, Train Loss: 0.1656, Train Accuracy: 59.77%, Validation Loss: 0.1582, Validation Accuracy: 60.20\n",
            "Epoch 4/5, Train Loss: 0.1653, Train Accuracy: 59.32%, Validation Loss: 0.1595, Validation Accuracy: 60.20\n"
          ]
        },
        {
          "output_type": "stream",
          "name": "stderr",
          "text": [
            "\r 67%|██████▋   | 72/108 [23:00<09:59, 16.65s/it]"
          ]
        },
        {
          "output_type": "stream",
          "name": "stdout",
          "text": [
            "Epoch 5/5, Train Loss: 0.1622, Train Accuracy: 59.87%, Validation Loss: 0.1582, Validation Accuracy: 60.20\n",
            "Hyperparameters: LR=0.01, Optimizer=Adam, Loss=FocalLoss, Batch Size=128, Embedding Dim=300, Test Loss: 0.1610, Test Accuracy: 59.70\n",
            "Epoch 1/5, Train Loss: 0.6843, Train Accuracy: 58.03%, Validation Loss: 0.6747, Validation Accuracy: 60.20\n",
            "Epoch 2/5, Train Loss: 0.6799, Train Accuracy: 58.92%, Validation Loss: 0.6715, Validation Accuracy: 60.20\n",
            "Epoch 3/5, Train Loss: 0.6795, Train Accuracy: 59.28%, Validation Loss: 0.6728, Validation Accuracy: 60.20\n",
            "Epoch 4/5, Train Loss: 0.6776, Train Accuracy: 59.50%, Validation Loss: 0.6780, Validation Accuracy: 60.20\n"
          ]
        },
        {
          "output_type": "stream",
          "name": "stderr",
          "text": [
            "\r 68%|██████▊   | 73/108 [23:24<10:57, 18.78s/it]"
          ]
        },
        {
          "output_type": "stream",
          "name": "stdout",
          "text": [
            "Epoch 5/5, Train Loss: 0.6772, Train Accuracy: 59.39%, Validation Loss: 0.6735, Validation Accuracy: 60.20\n",
            "Hyperparameters: LR=0.01, Optimizer=SGD, Loss=CrossEntropyLoss, Batch Size=32, Embedding Dim=100, Test Loss: 0.6747, Test Accuracy: 59.70\n",
            "Epoch 1/5, Train Loss: 0.6831, Train Accuracy: 57.81%, Validation Loss: 0.6724, Validation Accuracy: 60.20\n",
            "Epoch 2/5, Train Loss: 0.6818, Train Accuracy: 58.68%, Validation Loss: 0.6838, Validation Accuracy: 60.20\n",
            "Epoch 3/5, Train Loss: 0.6785, Train Accuracy: 59.46%, Validation Loss: 0.6721, Validation Accuracy: 60.20\n",
            "Epoch 4/5, Train Loss: 0.6776, Train Accuracy: 59.49%, Validation Loss: 0.6722, Validation Accuracy: 60.20\n",
            "Epoch 5/5, Train Loss: 0.6770, Train Accuracy: 59.56%, Validation Loss: 0.6758, Validation Accuracy: 60.20\n"
          ]
        },
        {
          "output_type": "stream",
          "name": "stderr",
          "text": [
            "\r 69%|██████▊   | 74/108 [23:48<11:33, 20.41s/it]"
          ]
        },
        {
          "output_type": "stream",
          "name": "stdout",
          "text": [
            "Hyperparameters: LR=0.01, Optimizer=SGD, Loss=CrossEntropyLoss, Batch Size=32, Embedding Dim=200, Test Loss: 0.6787, Test Accuracy: 59.70\n",
            "Epoch 1/5, Train Loss: 0.6824, Train Accuracy: 58.69%, Validation Loss: 0.6741, Validation Accuracy: 60.20\n",
            "Epoch 2/5, Train Loss: 0.6807, Train Accuracy: 58.59%, Validation Loss: 0.6804, Validation Accuracy: 60.20\n",
            "Epoch 3/5, Train Loss: 0.6791, Train Accuracy: 59.24%, Validation Loss: 0.6764, Validation Accuracy: 60.20\n",
            "Epoch 4/5, Train Loss: 0.6790, Train Accuracy: 59.43%, Validation Loss: 0.6720, Validation Accuracy: 60.20\n"
          ]
        },
        {
          "output_type": "stream",
          "name": "stderr",
          "text": [
            "\r 69%|██████▉   | 75/108 [24:12<11:47, 21.45s/it]"
          ]
        },
        {
          "output_type": "stream",
          "name": "stdout",
          "text": [
            "Epoch 5/5, Train Loss: 0.6796, Train Accuracy: 59.23%, Validation Loss: 0.6743, Validation Accuracy: 60.20\n",
            "Hyperparameters: LR=0.01, Optimizer=SGD, Loss=CrossEntropyLoss, Batch Size=32, Embedding Dim=300, Test Loss: 0.6756, Test Accuracy: 59.70\n",
            "Epoch 1/5, Train Loss: 0.6773, Train Accuracy: 59.63%, Validation Loss: 0.6854, Validation Accuracy: 60.20\n",
            "Epoch 2/5, Train Loss: 0.6773, Train Accuracy: 59.52%, Validation Loss: 0.6880, Validation Accuracy: 59.89\n",
            "Epoch 3/5, Train Loss: 0.6785, Train Accuracy: 59.44%, Validation Loss: 0.6718, Validation Accuracy: 60.20\n",
            "Epoch 4/5, Train Loss: 0.6772, Train Accuracy: 59.30%, Validation Loss: 0.6829, Validation Accuracy: 60.20\n"
          ]
        },
        {
          "output_type": "stream",
          "name": "stderr",
          "text": [
            "\r 70%|███████   | 76/108 [24:28<10:29, 19.68s/it]"
          ]
        },
        {
          "output_type": "stream",
          "name": "stdout",
          "text": [
            "Epoch 5/5, Train Loss: 0.6764, Train Accuracy: 59.88%, Validation Loss: 0.6848, Validation Accuracy: 60.20\n",
            "Hyperparameters: LR=0.01, Optimizer=SGD, Loss=CrossEntropyLoss, Batch Size=64, Embedding Dim=100, Test Loss: 0.6934, Test Accuracy: 59.70\n",
            "Epoch 1/5, Train Loss: 0.6798, Train Accuracy: 59.38%, Validation Loss: 0.6699, Validation Accuracy: 60.20\n",
            "Epoch 2/5, Train Loss: 0.6775, Train Accuracy: 59.62%, Validation Loss: 0.6766, Validation Accuracy: 60.20\n",
            "Epoch 3/5, Train Loss: 0.6772, Train Accuracy: 59.55%, Validation Loss: 0.6815, Validation Accuracy: 60.20\n",
            "Epoch 4/5, Train Loss: 0.6791, Train Accuracy: 59.43%, Validation Loss: 0.6709, Validation Accuracy: 60.20\n"
          ]
        },
        {
          "output_type": "stream",
          "name": "stderr",
          "text": [
            "\r 71%|███████▏  | 77/108 [24:43<09:31, 18.42s/it]"
          ]
        },
        {
          "output_type": "stream",
          "name": "stdout",
          "text": [
            "Epoch 5/5, Train Loss: 0.6773, Train Accuracy: 59.64%, Validation Loss: 0.6807, Validation Accuracy: 60.20\n",
            "Hyperparameters: LR=0.01, Optimizer=SGD, Loss=CrossEntropyLoss, Batch Size=64, Embedding Dim=200, Test Loss: 0.6876, Test Accuracy: 59.70\n",
            "Epoch 1/5, Train Loss: 0.6795, Train Accuracy: 59.19%, Validation Loss: 0.7227, Validation Accuracy: 39.88\n",
            "Epoch 2/5, Train Loss: 0.6774, Train Accuracy: 59.65%, Validation Loss: 0.6716, Validation Accuracy: 60.20\n",
            "Epoch 3/5, Train Loss: 0.6781, Train Accuracy: 59.78%, Validation Loss: 0.6756, Validation Accuracy: 60.20\n",
            "Epoch 4/5, Train Loss: 0.6773, Train Accuracy: 59.42%, Validation Loss: 0.6735, Validation Accuracy: 60.20\n"
          ]
        },
        {
          "output_type": "stream",
          "name": "stderr",
          "text": [
            "\r 72%|███████▏  | 78/108 [24:59<08:46, 17.55s/it]"
          ]
        },
        {
          "output_type": "stream",
          "name": "stdout",
          "text": [
            "Epoch 5/5, Train Loss: 0.6755, Train Accuracy: 59.87%, Validation Loss: 0.6808, Validation Accuracy: 60.20\n",
            "Hyperparameters: LR=0.01, Optimizer=SGD, Loss=CrossEntropyLoss, Batch Size=64, Embedding Dim=300, Test Loss: 0.6797, Test Accuracy: 59.70\n",
            "Epoch 1/5, Train Loss: 0.6830, Train Accuracy: 59.30%, Validation Loss: 0.6678, Validation Accuracy: 60.20\n",
            "Epoch 2/5, Train Loss: 0.6774, Train Accuracy: 59.87%, Validation Loss: 0.6826, Validation Accuracy: 60.20\n",
            "Epoch 3/5, Train Loss: 0.6759, Train Accuracy: 59.82%, Validation Loss: 0.6791, Validation Accuracy: 60.20\n",
            "Epoch 4/5, Train Loss: 0.6778, Train Accuracy: 59.62%, Validation Loss: 0.6783, Validation Accuracy: 60.20\n"
          ]
        },
        {
          "output_type": "stream",
          "name": "stderr",
          "text": [
            "\r 73%|███████▎  | 79/108 [25:13<08:05, 16.74s/it]"
          ]
        },
        {
          "output_type": "stream",
          "name": "stdout",
          "text": [
            "Epoch 5/5, Train Loss: 0.6781, Train Accuracy: 59.66%, Validation Loss: 0.7179, Validation Accuracy: 39.80\n",
            "Hyperparameters: LR=0.01, Optimizer=SGD, Loss=CrossEntropyLoss, Batch Size=128, Embedding Dim=100, Test Loss: 0.7205, Test Accuracy: 40.30\n",
            "Epoch 1/5, Train Loss: 0.6774, Train Accuracy: 59.03%, Validation Loss: 0.6688, Validation Accuracy: 60.20\n",
            "Epoch 2/5, Train Loss: 0.6767, Train Accuracy: 59.52%, Validation Loss: 0.6881, Validation Accuracy: 60.20\n",
            "Epoch 3/5, Train Loss: 0.6765, Train Accuracy: 59.80%, Validation Loss: 0.6857, Validation Accuracy: 59.35\n",
            "Epoch 4/5, Train Loss: 0.6762, Train Accuracy: 59.45%, Validation Loss: 0.6734, Validation Accuracy: 60.20\n"
          ]
        },
        {
          "output_type": "stream",
          "name": "stderr",
          "text": [
            "\r 74%|███████▍  | 80/108 [25:28<07:33, 16.20s/it]"
          ]
        },
        {
          "output_type": "stream",
          "name": "stdout",
          "text": [
            "Epoch 5/5, Train Loss: 0.6766, Train Accuracy: 59.83%, Validation Loss: 0.6668, Validation Accuracy: 60.20\n",
            "Hyperparameters: LR=0.01, Optimizer=SGD, Loss=CrossEntropyLoss, Batch Size=128, Embedding Dim=200, Test Loss: 0.6735, Test Accuracy: 59.70\n",
            "Epoch 1/5, Train Loss: 0.6797, Train Accuracy: 59.15%, Validation Loss: 0.6658, Validation Accuracy: 60.20\n",
            "Epoch 2/5, Train Loss: 0.6780, Train Accuracy: 59.52%, Validation Loss: 0.6711, Validation Accuracy: 60.20\n",
            "Epoch 3/5, Train Loss: 0.6789, Train Accuracy: 59.10%, Validation Loss: 0.6780, Validation Accuracy: 60.28\n",
            "Epoch 4/5, Train Loss: 0.6795, Train Accuracy: 59.49%, Validation Loss: 0.7131, Validation Accuracy: 39.80\n"
          ]
        },
        {
          "output_type": "stream",
          "name": "stderr",
          "text": [
            "\r 75%|███████▌  | 81/108 [25:43<07:06, 15.80s/it]"
          ]
        },
        {
          "output_type": "stream",
          "name": "stdout",
          "text": [
            "Epoch 5/5, Train Loss: 0.6780, Train Accuracy: 59.67%, Validation Loss: 0.6663, Validation Accuracy: 60.20\n",
            "Hyperparameters: LR=0.01, Optimizer=SGD, Loss=CrossEntropyLoss, Batch Size=128, Embedding Dim=300, Test Loss: 0.6710, Test Accuracy: 59.70\n",
            "Epoch 1/5, Train Loss: 0.1676, Train Accuracy: 58.73%, Validation Loss: 0.1669, Validation Accuracy: 60.20\n",
            "Epoch 2/5, Train Loss: 0.1657, Train Accuracy: 58.97%, Validation Loss: 0.1653, Validation Accuracy: 60.20\n",
            "Epoch 3/5, Train Loss: 0.1652, Train Accuracy: 59.53%, Validation Loss: 0.1606, Validation Accuracy: 60.20\n",
            "Epoch 4/5, Train Loss: 0.1651, Train Accuracy: 59.59%, Validation Loss: 0.1692, Validation Accuracy: 60.12\n"
          ]
        },
        {
          "output_type": "stream",
          "name": "stderr",
          "text": [
            "\r 76%|███████▌  | 82/108 [26:07<07:49, 18.07s/it]"
          ]
        },
        {
          "output_type": "stream",
          "name": "stdout",
          "text": [
            "Epoch 5/5, Train Loss: 0.1645, Train Accuracy: 59.55%, Validation Loss: 0.1707, Validation Accuracy: 58.10\n",
            "Hyperparameters: LR=0.01, Optimizer=SGD, Loss=FocalLoss, Batch Size=32, Embedding Dim=100, Test Loss: 0.1687, Test Accuracy: 59.63\n",
            "Epoch 1/5, Train Loss: 0.1653, Train Accuracy: 59.17%, Validation Loss: 0.1630, Validation Accuracy: 60.20\n",
            "Epoch 2/5, Train Loss: 0.1645, Train Accuracy: 59.57%, Validation Loss: 0.1638, Validation Accuracy: 60.20\n",
            "Epoch 3/5, Train Loss: 0.1641, Train Accuracy: 59.75%, Validation Loss: 0.1615, Validation Accuracy: 60.20\n",
            "Epoch 4/5, Train Loss: 0.1641, Train Accuracy: 59.67%, Validation Loss: 0.1614, Validation Accuracy: 60.20\n",
            "Epoch 5/5, Train Loss: 0.1644, Train Accuracy: 59.83%, Validation Loss: 0.1619, Validation Accuracy: 60.20\n"
          ]
        },
        {
          "output_type": "stream",
          "name": "stderr",
          "text": [
            "\r 77%|███████▋  | 83/108 [26:32<08:25, 20.22s/it]"
          ]
        },
        {
          "output_type": "stream",
          "name": "stdout",
          "text": [
            "Hyperparameters: LR=0.01, Optimizer=SGD, Loss=FocalLoss, Batch Size=32, Embedding Dim=200, Test Loss: 0.1638, Test Accuracy: 59.70\n",
            "Epoch 1/5, Train Loss: 0.1650, Train Accuracy: 59.20%, Validation Loss: 0.1609, Validation Accuracy: 60.20\n",
            "Epoch 2/5, Train Loss: 0.1643, Train Accuracy: 59.68%, Validation Loss: 0.1609, Validation Accuracy: 60.20\n",
            "Epoch 3/5, Train Loss: 0.1649, Train Accuracy: 59.57%, Validation Loss: 0.1627, Validation Accuracy: 60.20\n",
            "Epoch 4/5, Train Loss: 0.1642, Train Accuracy: 59.50%, Validation Loss: 0.1611, Validation Accuracy: 60.20\n"
          ]
        },
        {
          "output_type": "stream",
          "name": "stderr",
          "text": [
            "\r 78%|███████▊  | 84/108 [26:55<08:28, 21.18s/it]"
          ]
        },
        {
          "output_type": "stream",
          "name": "stdout",
          "text": [
            "Epoch 5/5, Train Loss: 0.1641, Train Accuracy: 59.77%, Validation Loss: 0.1609, Validation Accuracy: 60.20\n",
            "Hyperparameters: LR=0.01, Optimizer=SGD, Loss=FocalLoss, Batch Size=32, Embedding Dim=300, Test Loss: 0.1643, Test Accuracy: 59.70\n",
            "Epoch 1/5, Train Loss: 0.1643, Train Accuracy: 59.79%, Validation Loss: 0.1599, Validation Accuracy: 60.20\n",
            "Epoch 2/5, Train Loss: 0.1643, Train Accuracy: 59.72%, Validation Loss: 0.1603, Validation Accuracy: 60.20\n",
            "Epoch 3/5, Train Loss: 0.1638, Train Accuracy: 59.77%, Validation Loss: 0.1593, Validation Accuracy: 60.20\n",
            "Epoch 4/5, Train Loss: 0.1637, Train Accuracy: 59.86%, Validation Loss: 0.1639, Validation Accuracy: 60.36\n"
          ]
        },
        {
          "output_type": "stream",
          "name": "stderr",
          "text": [
            "\r 79%|███████▊  | 85/108 [27:11<07:29, 19.53s/it]"
          ]
        },
        {
          "output_type": "stream",
          "name": "stdout",
          "text": [
            "Epoch 5/5, Train Loss: 0.1639, Train Accuracy: 59.82%, Validation Loss: 0.1641, Validation Accuracy: 60.36\n",
            "Hyperparameters: LR=0.01, Optimizer=SGD, Loss=FocalLoss, Batch Size=64, Embedding Dim=100, Test Loss: 0.1646, Test Accuracy: 59.70\n",
            "Epoch 1/5, Train Loss: 0.1640, Train Accuracy: 59.46%, Validation Loss: 0.1641, Validation Accuracy: 59.97\n",
            "Epoch 2/5, Train Loss: 0.1637, Train Accuracy: 59.72%, Validation Loss: 0.1801, Validation Accuracy: 41.28\n",
            "Epoch 3/5, Train Loss: 0.1641, Train Accuracy: 59.75%, Validation Loss: 0.1619, Validation Accuracy: 60.20\n",
            "Epoch 4/5, Train Loss: 0.1639, Train Accuracy: 59.81%, Validation Loss: 0.1606, Validation Accuracy: 60.20\n"
          ]
        },
        {
          "output_type": "stream",
          "name": "stderr",
          "text": [
            "\r 80%|███████▉  | 86/108 [27:26<06:43, 18.33s/it]"
          ]
        },
        {
          "output_type": "stream",
          "name": "stdout",
          "text": [
            "Epoch 5/5, Train Loss: 0.1639, Train Accuracy: 59.83%, Validation Loss: 0.1742, Validation Accuracy: 48.68\n",
            "Hyperparameters: LR=0.01, Optimizer=SGD, Loss=FocalLoss, Batch Size=64, Embedding Dim=200, Test Loss: 0.1709, Test Accuracy: 57.13\n",
            "Epoch 1/5, Train Loss: 0.1649, Train Accuracy: 59.42%, Validation Loss: 0.1643, Validation Accuracy: 60.20\n",
            "Epoch 2/5, Train Loss: 0.1637, Train Accuracy: 59.80%, Validation Loss: 0.1669, Validation Accuracy: 60.05\n",
            "Epoch 3/5, Train Loss: 0.1638, Train Accuracy: 59.81%, Validation Loss: 0.1617, Validation Accuracy: 60.20\n",
            "Epoch 4/5, Train Loss: 0.1636, Train Accuracy: 59.87%, Validation Loss: 0.1641, Validation Accuracy: 60.20\n"
          ]
        },
        {
          "output_type": "stream",
          "name": "stderr",
          "text": [
            "\r 81%|████████  | 87/108 [27:42<06:07, 17.51s/it]"
          ]
        },
        {
          "output_type": "stream",
          "name": "stdout",
          "text": [
            "Epoch 5/5, Train Loss: 0.1634, Train Accuracy: 59.87%, Validation Loss: 0.1743, Validation Accuracy: 47.59\n",
            "Hyperparameters: LR=0.01, Optimizer=SGD, Loss=FocalLoss, Batch Size=64, Embedding Dim=300, Test Loss: 0.1759, Test Accuracy: 42.17\n",
            "Epoch 1/5, Train Loss: 0.1645, Train Accuracy: 59.56%, Validation Loss: 0.1608, Validation Accuracy: 60.20\n",
            "Epoch 2/5, Train Loss: 0.1624, Train Accuracy: 59.94%, Validation Loss: 0.1580, Validation Accuracy: 60.20\n",
            "Epoch 3/5, Train Loss: 0.1624, Train Accuracy: 59.87%, Validation Loss: 0.1600, Validation Accuracy: 60.20\n",
            "Epoch 4/5, Train Loss: 0.1626, Train Accuracy: 59.87%, Validation Loss: 0.1580, Validation Accuracy: 60.20\n"
          ]
        },
        {
          "output_type": "stream",
          "name": "stderr",
          "text": [
            "\r 81%|████████▏ | 88/108 [27:57<05:34, 16.73s/it]"
          ]
        },
        {
          "output_type": "stream",
          "name": "stdout",
          "text": [
            "Epoch 5/5, Train Loss: 0.1624, Train Accuracy: 59.87%, Validation Loss: 0.1586, Validation Accuracy: 60.20\n",
            "Hyperparameters: LR=0.01, Optimizer=SGD, Loss=FocalLoss, Batch Size=128, Embedding Dim=100, Test Loss: 0.1636, Test Accuracy: 59.70\n",
            "Epoch 1/5, Train Loss: 0.1627, Train Accuracy: 59.87%, Validation Loss: 0.1600, Validation Accuracy: 60.20\n",
            "Epoch 2/5, Train Loss: 0.1630, Train Accuracy: 59.83%, Validation Loss: 0.1587, Validation Accuracy: 60.20\n",
            "Epoch 3/5, Train Loss: 0.1633, Train Accuracy: 59.87%, Validation Loss: 0.1631, Validation Accuracy: 60.20\n",
            "Epoch 4/5, Train Loss: 0.1628, Train Accuracy: 59.86%, Validation Loss: 0.1589, Validation Accuracy: 60.20\n"
          ]
        },
        {
          "output_type": "stream",
          "name": "stderr",
          "text": [
            "\r 82%|████████▏ | 89/108 [28:12<05:07, 16.20s/it]"
          ]
        },
        {
          "output_type": "stream",
          "name": "stdout",
          "text": [
            "Epoch 5/5, Train Loss: 0.1628, Train Accuracy: 59.87%, Validation Loss: 0.1614, Validation Accuracy: 60.20\n",
            "Hyperparameters: LR=0.01, Optimizer=SGD, Loss=FocalLoss, Batch Size=128, Embedding Dim=200, Test Loss: 0.1636, Test Accuracy: 59.70\n",
            "Epoch 1/5, Train Loss: 0.1643, Train Accuracy: 59.30%, Validation Loss: 0.1612, Validation Accuracy: 60.20\n",
            "Epoch 2/5, Train Loss: 0.1626, Train Accuracy: 59.87%, Validation Loss: 0.1628, Validation Accuracy: 60.20\n",
            "Epoch 3/5, Train Loss: 0.1629, Train Accuracy: 59.88%, Validation Loss: 0.1641, Validation Accuracy: 60.20\n",
            "Epoch 4/5, Train Loss: 0.1637, Train Accuracy: 59.79%, Validation Loss: 0.1715, Validation Accuracy: 57.63\n"
          ]
        },
        {
          "output_type": "stream",
          "name": "stderr",
          "text": [
            "\r 83%|████████▎ | 90/108 [28:27<04:44, 15.83s/it]"
          ]
        },
        {
          "output_type": "stream",
          "name": "stdout",
          "text": [
            "Epoch 5/5, Train Loss: 0.1628, Train Accuracy: 59.85%, Validation Loss: 0.1686, Validation Accuracy: 59.66\n",
            "Hyperparameters: LR=0.01, Optimizer=SGD, Loss=FocalLoss, Batch Size=128, Embedding Dim=300, Test Loss: 0.1663, Test Accuracy: 59.78\n",
            "Epoch 1/5, Train Loss: 0.8376, Train Accuracy: 57.30%, Validation Loss: 0.6710, Validation Accuracy: 60.20\n",
            "Epoch 2/5, Train Loss: 0.6759, Train Accuracy: 59.64%, Validation Loss: 0.6715, Validation Accuracy: 60.20\n",
            "Epoch 3/5, Train Loss: 0.6759, Train Accuracy: 59.66%, Validation Loss: 0.6712, Validation Accuracy: 60.20\n",
            "Epoch 4/5, Train Loss: 0.6773, Train Accuracy: 59.67%, Validation Loss: 0.6716, Validation Accuracy: 60.20\n",
            "Epoch 5/5, Train Loss: 0.6755, Train Accuracy: 59.87%, Validation Loss: 0.6709, Validation Accuracy: 60.20\n"
          ]
        },
        {
          "output_type": "stream",
          "name": "stderr",
          "text": [
            "\r 84%|████████▍ | 91/108 [28:52<05:16, 18.59s/it]"
          ]
        },
        {
          "output_type": "stream",
          "name": "stdout",
          "text": [
            "Hyperparameters: LR=0.01, Optimizer=RMSprop, Loss=CrossEntropyLoss, Batch Size=32, Embedding Dim=100, Test Loss: 0.6737, Test Accuracy: 59.70\n",
            "Epoch 1/5, Train Loss: 0.8164, Train Accuracy: 57.19%, Validation Loss: 0.6756, Validation Accuracy: 60.20\n",
            "Epoch 2/5, Train Loss: 0.6756, Train Accuracy: 59.84%, Validation Loss: 0.6727, Validation Accuracy: 60.20\n",
            "Epoch 3/5, Train Loss: 0.6776, Train Accuracy: 59.75%, Validation Loss: 0.6711, Validation Accuracy: 60.20\n",
            "Epoch 4/5, Train Loss: 0.6755, Train Accuracy: 59.73%, Validation Loss: 0.6715, Validation Accuracy: 60.20\n"
          ]
        },
        {
          "output_type": "stream",
          "name": "stderr",
          "text": [
            "\r 85%|████████▌ | 92/108 [29:16<05:25, 20.35s/it]"
          ]
        },
        {
          "output_type": "stream",
          "name": "stdout",
          "text": [
            "Epoch 5/5, Train Loss: 0.6759, Train Accuracy: 59.67%, Validation Loss: 0.6709, Validation Accuracy: 60.20\n",
            "Hyperparameters: LR=0.01, Optimizer=RMSprop, Loss=CrossEntropyLoss, Batch Size=32, Embedding Dim=200, Test Loss: 0.6736, Test Accuracy: 59.70\n",
            "Epoch 1/5, Train Loss: 0.8264, Train Accuracy: 57.41%, Validation Loss: 0.6855, Validation Accuracy: 60.20\n",
            "Epoch 2/5, Train Loss: 0.6743, Train Accuracy: 59.87%, Validation Loss: 0.6710, Validation Accuracy: 60.20\n",
            "Epoch 3/5, Train Loss: 0.6754, Train Accuracy: 59.52%, Validation Loss: 0.6719, Validation Accuracy: 60.20\n",
            "Epoch 4/5, Train Loss: 0.6764, Train Accuracy: 59.62%, Validation Loss: 0.6713, Validation Accuracy: 60.20\n",
            "Epoch 5/5, Train Loss: 0.6760, Train Accuracy: 59.68%, Validation Loss: 0.6716, Validation Accuracy: 60.20\n"
          ]
        },
        {
          "output_type": "stream",
          "name": "stderr",
          "text": [
            "\r 86%|████████▌ | 93/108 [29:42<05:29, 21.98s/it]"
          ]
        },
        {
          "output_type": "stream",
          "name": "stdout",
          "text": [
            "Hyperparameters: LR=0.01, Optimizer=RMSprop, Loss=CrossEntropyLoss, Batch Size=32, Embedding Dim=300, Test Loss: 0.6739, Test Accuracy: 59.70\n",
            "Epoch 1/5, Train Loss: 0.9725, Train Accuracy: 56.84%, Validation Loss: 0.6706, Validation Accuracy: 60.20\n",
            "Epoch 2/5, Train Loss: 0.6792, Train Accuracy: 59.16%, Validation Loss: 0.6696, Validation Accuracy: 60.20\n",
            "Epoch 3/5, Train Loss: 0.6744, Train Accuracy: 59.87%, Validation Loss: 0.6694, Validation Accuracy: 60.20\n",
            "Epoch 4/5, Train Loss: 0.6745, Train Accuracy: 59.87%, Validation Loss: 0.6704, Validation Accuracy: 60.20\n"
          ]
        },
        {
          "output_type": "stream",
          "name": "stderr",
          "text": [
            "\r 87%|████████▋ | 94/108 [29:58<04:42, 20.17s/it]"
          ]
        },
        {
          "output_type": "stream",
          "name": "stdout",
          "text": [
            "Epoch 5/5, Train Loss: 0.6741, Train Accuracy: 59.75%, Validation Loss: 0.6694, Validation Accuracy: 60.20\n",
            "Hyperparameters: LR=0.01, Optimizer=RMSprop, Loss=CrossEntropyLoss, Batch Size=64, Embedding Dim=100, Test Loss: 0.6733, Test Accuracy: 59.70\n",
            "Epoch 1/5, Train Loss: 0.9895, Train Accuracy: 54.84%, Validation Loss: 0.7213, Validation Accuracy: 60.20\n",
            "Epoch 2/5, Train Loss: 0.6791, Train Accuracy: 59.38%, Validation Loss: 0.6850, Validation Accuracy: 60.20\n",
            "Epoch 3/5, Train Loss: 0.6747, Train Accuracy: 59.87%, Validation Loss: 0.6707, Validation Accuracy: 60.20\n",
            "Epoch 4/5, Train Loss: 0.6744, Train Accuracy: 59.75%, Validation Loss: 0.6715, Validation Accuracy: 60.20\n"
          ]
        },
        {
          "output_type": "stream",
          "name": "stderr",
          "text": [
            "\r 88%|████████▊ | 95/108 [30:14<04:05, 18.87s/it]"
          ]
        },
        {
          "output_type": "stream",
          "name": "stdout",
          "text": [
            "Epoch 5/5, Train Loss: 0.6764, Train Accuracy: 59.34%, Validation Loss: 0.6707, Validation Accuracy: 60.20\n",
            "Hyperparameters: LR=0.01, Optimizer=RMSprop, Loss=CrossEntropyLoss, Batch Size=64, Embedding Dim=200, Test Loss: 0.6735, Test Accuracy: 59.70\n",
            "Epoch 1/5, Train Loss: 0.9507, Train Accuracy: 56.56%, Validation Loss: 0.7011, Validation Accuracy: 39.80\n",
            "Epoch 2/5, Train Loss: 0.6770, Train Accuracy: 59.71%, Validation Loss: 0.6728, Validation Accuracy: 60.20\n",
            "Epoch 3/5, Train Loss: 0.6750, Train Accuracy: 59.87%, Validation Loss: 0.6694, Validation Accuracy: 60.20\n",
            "Epoch 4/5, Train Loss: 0.6739, Train Accuracy: 59.87%, Validation Loss: 0.6694, Validation Accuracy: 60.20\n"
          ]
        },
        {
          "output_type": "stream",
          "name": "stderr",
          "text": [
            "\r 89%|████████▉ | 96/108 [30:30<03:35, 17.94s/it]"
          ]
        },
        {
          "output_type": "stream",
          "name": "stdout",
          "text": [
            "Epoch 5/5, Train Loss: 0.6750, Train Accuracy: 59.38%, Validation Loss: 0.6695, Validation Accuracy: 60.20\n",
            "Hyperparameters: LR=0.01, Optimizer=RMSprop, Loss=CrossEntropyLoss, Batch Size=64, Embedding Dim=300, Test Loss: 0.6729, Test Accuracy: 59.70\n",
            "Epoch 1/5, Train Loss: 1.1952, Train Accuracy: 52.38%, Validation Loss: 0.9001, Validation Accuracy: 39.80\n",
            "Epoch 2/5, Train Loss: 0.6907, Train Accuracy: 57.84%, Validation Loss: 0.7328, Validation Accuracy: 39.80\n",
            "Epoch 3/5, Train Loss: 0.6830, Train Accuracy: 58.53%, Validation Loss: 0.7335, Validation Accuracy: 39.80\n",
            "Epoch 4/5, Train Loss: 0.6789, Train Accuracy: 59.17%, Validation Loss: 0.6895, Validation Accuracy: 60.20\n"
          ]
        },
        {
          "output_type": "stream",
          "name": "stderr",
          "text": [
            "\r 90%|████████▉ | 97/108 [30:45<03:07, 17.07s/it]"
          ]
        },
        {
          "output_type": "stream",
          "name": "stdout",
          "text": [
            "Epoch 5/5, Train Loss: 0.6761, Train Accuracy: 59.87%, Validation Loss: 0.6727, Validation Accuracy: 60.20\n",
            "Hyperparameters: LR=0.01, Optimizer=RMSprop, Loss=CrossEntropyLoss, Batch Size=128, Embedding Dim=100, Test Loss: 0.6811, Test Accuracy: 59.70\n",
            "Epoch 1/5, Train Loss: 1.1788, Train Accuracy: 55.89%, Validation Loss: 0.6927, Validation Accuracy: 60.20\n",
            "Epoch 2/5, Train Loss: 0.6835, Train Accuracy: 58.45%, Validation Loss: 0.6713, Validation Accuracy: 60.20\n",
            "Epoch 3/5, Train Loss: 0.6814, Train Accuracy: 58.80%, Validation Loss: 0.6676, Validation Accuracy: 60.20\n",
            "Epoch 4/5, Train Loss: 0.6758, Train Accuracy: 59.87%, Validation Loss: 0.6670, Validation Accuracy: 60.20\n"
          ]
        },
        {
          "output_type": "stream",
          "name": "stderr",
          "text": [
            "\r 91%|█████████ | 98/108 [31:00<02:44, 16.47s/it]"
          ]
        },
        {
          "output_type": "stream",
          "name": "stdout",
          "text": [
            "Epoch 5/5, Train Loss: 0.6750, Train Accuracy: 59.87%, Validation Loss: 0.6666, Validation Accuracy: 60.20\n",
            "Hyperparameters: LR=0.01, Optimizer=RMSprop, Loss=CrossEntropyLoss, Batch Size=128, Embedding Dim=200, Test Loss: 0.6717, Test Accuracy: 59.70\n",
            "Epoch 1/5, Train Loss: 1.1700, Train Accuracy: 54.28%, Validation Loss: 0.6713, Validation Accuracy: 60.20\n",
            "Epoch 2/5, Train Loss: 0.6853, Train Accuracy: 58.05%, Validation Loss: 0.7715, Validation Accuracy: 39.80\n",
            "Epoch 3/5, Train Loss: 0.6830, Train Accuracy: 58.64%, Validation Loss: 0.6722, Validation Accuracy: 60.20\n",
            "Epoch 4/5, Train Loss: 0.6772, Train Accuracy: 59.42%, Validation Loss: 0.6882, Validation Accuracy: 60.20\n"
          ]
        },
        {
          "output_type": "stream",
          "name": "stderr",
          "text": [
            "\r 92%|█████████▏| 99/108 [31:15<02:24, 16.06s/it]"
          ]
        },
        {
          "output_type": "stream",
          "name": "stdout",
          "text": [
            "Epoch 5/5, Train Loss: 0.6751, Train Accuracy: 59.87%, Validation Loss: 0.6664, Validation Accuracy: 60.20\n",
            "Hyperparameters: LR=0.01, Optimizer=RMSprop, Loss=CrossEntropyLoss, Batch Size=128, Embedding Dim=300, Test Loss: 0.6719, Test Accuracy: 59.70\n",
            "Epoch 1/5, Train Loss: 0.2887, Train Accuracy: 57.14%, Validation Loss: 0.1645, Validation Accuracy: 60.20\n",
            "Epoch 2/5, Train Loss: 0.1641, Train Accuracy: 59.73%, Validation Loss: 0.1609, Validation Accuracy: 60.20\n",
            "Epoch 3/5, Train Loss: 0.1646, Train Accuracy: 59.62%, Validation Loss: 0.1611, Validation Accuracy: 60.20\n",
            "Epoch 4/5, Train Loss: 0.1638, Train Accuracy: 59.60%, Validation Loss: 0.1616, Validation Accuracy: 60.20\n"
          ]
        },
        {
          "output_type": "stream",
          "name": "stderr",
          "text": [
            "\r 93%|█████████▎| 100/108 [31:40<02:30, 18.76s/it]"
          ]
        },
        {
          "output_type": "stream",
          "name": "stdout",
          "text": [
            "Epoch 5/5, Train Loss: 0.1635, Train Accuracy: 59.74%, Validation Loss: 0.1660, Validation Accuracy: 60.20\n",
            "Hyperparameters: LR=0.01, Optimizer=RMSprop, Loss=FocalLoss, Batch Size=32, Embedding Dim=100, Test Loss: 0.1687, Test Accuracy: 59.70\n",
            "Epoch 1/5, Train Loss: 0.3082, Train Accuracy: 57.13%, Validation Loss: 0.1721, Validation Accuracy: 60.20\n",
            "Epoch 2/5, Train Loss: 0.1636, Train Accuracy: 59.69%, Validation Loss: 0.1611, Validation Accuracy: 60.20\n",
            "Epoch 3/5, Train Loss: 0.1632, Train Accuracy: 59.71%, Validation Loss: 0.1608, Validation Accuracy: 60.20\n",
            "Epoch 4/5, Train Loss: 0.1640, Train Accuracy: 59.29%, Validation Loss: 0.1610, Validation Accuracy: 60.20\n"
          ]
        },
        {
          "output_type": "stream",
          "name": "stderr",
          "text": [
            "\r 94%|█████████▎| 101/108 [32:06<02:26, 20.92s/it]"
          ]
        },
        {
          "output_type": "stream",
          "name": "stdout",
          "text": [
            "Epoch 5/5, Train Loss: 0.1635, Train Accuracy: 59.87%, Validation Loss: 0.1609, Validation Accuracy: 60.20\n",
            "Hyperparameters: LR=0.01, Optimizer=RMSprop, Loss=FocalLoss, Batch Size=32, Embedding Dim=200, Test Loss: 0.1623, Test Accuracy: 59.70\n",
            "Epoch 1/5, Train Loss: 0.3035, Train Accuracy: 55.97%, Validation Loss: 0.1626, Validation Accuracy: 60.20\n",
            "Epoch 2/5, Train Loss: 0.1642, Train Accuracy: 59.40%, Validation Loss: 0.1614, Validation Accuracy: 60.20\n",
            "Epoch 3/5, Train Loss: 0.1637, Train Accuracy: 59.67%, Validation Loss: 0.1613, Validation Accuracy: 60.20\n",
            "Epoch 4/5, Train Loss: 0.1637, Train Accuracy: 59.81%, Validation Loss: 0.1628, Validation Accuracy: 60.20\n"
          ]
        },
        {
          "output_type": "stream",
          "name": "stderr",
          "text": [
            "\r 94%|█████████▍| 102/108 [32:30<02:11, 21.91s/it]"
          ]
        },
        {
          "output_type": "stream",
          "name": "stdout",
          "text": [
            "Epoch 5/5, Train Loss: 0.1639, Train Accuracy: 59.87%, Validation Loss: 0.1619, Validation Accuracy: 60.20\n",
            "Hyperparameters: LR=0.01, Optimizer=RMSprop, Loss=FocalLoss, Batch Size=32, Embedding Dim=300, Test Loss: 0.1630, Test Accuracy: 59.70\n",
            "Epoch 1/5, Train Loss: 0.4534, Train Accuracy: 55.81%, Validation Loss: 0.1777, Validation Accuracy: 60.20\n",
            "Epoch 2/5, Train Loss: 0.1694, Train Accuracy: 58.18%, Validation Loss: 0.1598, Validation Accuracy: 60.20\n",
            "Epoch 3/5, Train Loss: 0.1636, Train Accuracy: 59.87%, Validation Loss: 0.1609, Validation Accuracy: 60.20\n",
            "Epoch 4/5, Train Loss: 0.1626, Train Accuracy: 59.87%, Validation Loss: 0.1615, Validation Accuracy: 60.20\n"
          ]
        },
        {
          "output_type": "stream",
          "name": "stderr",
          "text": [
            "\r 95%|█████████▌| 103/108 [32:46<01:40, 20.19s/it]"
          ]
        },
        {
          "output_type": "stream",
          "name": "stdout",
          "text": [
            "Epoch 5/5, Train Loss: 0.1625, Train Accuracy: 59.75%, Validation Loss: 0.1598, Validation Accuracy: 60.20\n",
            "Hyperparameters: LR=0.01, Optimizer=RMSprop, Loss=FocalLoss, Batch Size=64, Embedding Dim=100, Test Loss: 0.1619, Test Accuracy: 59.70\n",
            "Epoch 1/5, Train Loss: 0.4606, Train Accuracy: 56.36%, Validation Loss: 0.2748, Validation Accuracy: 39.80\n",
            "Epoch 2/5, Train Loss: 0.1701, Train Accuracy: 57.56%, Validation Loss: 0.1724, Validation Accuracy: 60.20\n",
            "Epoch 3/5, Train Loss: 0.1650, Train Accuracy: 59.11%, Validation Loss: 0.1598, Validation Accuracy: 60.20\n",
            "Epoch 4/5, Train Loss: 0.1627, Train Accuracy: 59.87%, Validation Loss: 0.1616, Validation Accuracy: 60.20\n"
          ]
        },
        {
          "output_type": "stream",
          "name": "stderr",
          "text": [
            "\r 96%|█████████▋| 104/108 [33:03<01:16, 19.02s/it]"
          ]
        },
        {
          "output_type": "stream",
          "name": "stdout",
          "text": [
            "Epoch 5/5, Train Loss: 0.1624, Train Accuracy: 59.87%, Validation Loss: 0.1599, Validation Accuracy: 60.20\n",
            "Hyperparameters: LR=0.01, Optimizer=RMSprop, Loss=FocalLoss, Batch Size=64, Embedding Dim=200, Test Loss: 0.1621, Test Accuracy: 59.70\n",
            "Epoch 1/5, Train Loss: 0.4345, Train Accuracy: 55.33%, Validation Loss: 0.1991, Validation Accuracy: 39.80\n",
            "Epoch 2/5, Train Loss: 0.1683, Train Accuracy: 58.04%, Validation Loss: 0.1600, Validation Accuracy: 60.20\n",
            "Epoch 3/5, Train Loss: 0.1640, Train Accuracy: 59.58%, Validation Loss: 0.1599, Validation Accuracy: 60.20\n",
            "Epoch 4/5, Train Loss: 0.1630, Train Accuracy: 59.87%, Validation Loss: 0.1619, Validation Accuracy: 60.20\n"
          ]
        },
        {
          "output_type": "stream",
          "name": "stderr",
          "text": [
            "\r 97%|█████████▋| 105/108 [33:19<00:54, 18.18s/it]"
          ]
        },
        {
          "output_type": "stream",
          "name": "stdout",
          "text": [
            "Epoch 5/5, Train Loss: 0.1627, Train Accuracy: 59.87%, Validation Loss: 0.1599, Validation Accuracy: 60.20\n",
            "Hyperparameters: LR=0.01, Optimizer=RMSprop, Loss=FocalLoss, Batch Size=64, Embedding Dim=300, Test Loss: 0.1618, Test Accuracy: 59.70\n",
            "Epoch 1/5, Train Loss: 0.7128, Train Accuracy: 54.42%, Validation Loss: 0.1700, Validation Accuracy: 60.20\n",
            "Epoch 2/5, Train Loss: 0.2022, Train Accuracy: 56.99%, Validation Loss: 0.1612, Validation Accuracy: 60.20\n",
            "Epoch 3/5, Train Loss: 0.1663, Train Accuracy: 59.17%, Validation Loss: 0.1587, Validation Accuracy: 60.20\n",
            "Epoch 4/5, Train Loss: 0.1678, Train Accuracy: 58.53%, Validation Loss: 0.1761, Validation Accuracy: 39.80\n"
          ]
        },
        {
          "output_type": "stream",
          "name": "stderr",
          "text": [
            "\r 98%|█████████▊| 106/108 [33:34<00:34, 17.26s/it]"
          ]
        },
        {
          "output_type": "stream",
          "name": "stdout",
          "text": [
            "Epoch 5/5, Train Loss: 0.1649, Train Accuracy: 58.88%, Validation Loss: 0.1609, Validation Accuracy: 60.20\n",
            "Hyperparameters: LR=0.01, Optimizer=RMSprop, Loss=FocalLoss, Batch Size=128, Embedding Dim=100, Test Loss: 0.1652, Test Accuracy: 59.70\n",
            "Epoch 1/5, Train Loss: 0.6164, Train Accuracy: 58.46%, Validation Loss: 0.1905, Validation Accuracy: 60.20\n",
            "Epoch 2/5, Train Loss: 0.1699, Train Accuracy: 57.22%, Validation Loss: 0.1663, Validation Accuracy: 60.20\n",
            "Epoch 3/5, Train Loss: 0.1735, Train Accuracy: 57.12%, Validation Loss: 0.1644, Validation Accuracy: 60.20\n",
            "Epoch 4/5, Train Loss: 0.1650, Train Accuracy: 59.33%, Validation Loss: 0.1585, Validation Accuracy: 60.20\n"
          ]
        },
        {
          "output_type": "stream",
          "name": "stderr",
          "text": [
            "\r 99%|█████████▉| 107/108 [33:49<00:16, 16.62s/it]"
          ]
        },
        {
          "output_type": "stream",
          "name": "stdout",
          "text": [
            "Epoch 5/5, Train Loss: 0.1642, Train Accuracy: 59.14%, Validation Loss: 0.1581, Validation Accuracy: 60.20\n",
            "Hyperparameters: LR=0.01, Optimizer=RMSprop, Loss=FocalLoss, Batch Size=128, Embedding Dim=200, Test Loss: 0.1612, Test Accuracy: 59.70\n",
            "Epoch 1/5, Train Loss: 0.6398, Train Accuracy: 55.23%, Validation Loss: 0.1778, Validation Accuracy: 60.20\n",
            "Epoch 2/5, Train Loss: 0.1790, Train Accuracy: 57.45%, Validation Loss: 0.1595, Validation Accuracy: 60.20\n",
            "Epoch 3/5, Train Loss: 0.1710, Train Accuracy: 57.86%, Validation Loss: 0.1632, Validation Accuracy: 60.20\n",
            "Epoch 4/5, Train Loss: 0.1663, Train Accuracy: 58.90%, Validation Loss: 0.1710, Validation Accuracy: 60.20\n"
          ]
        },
        {
          "output_type": "stream",
          "name": "stderr",
          "text": [
            "100%|██████████| 108/108 [34:04<00:00, 18.93s/it]"
          ]
        },
        {
          "output_type": "stream",
          "name": "stdout",
          "text": [
            "Epoch 5/5, Train Loss: 0.1652, Train Accuracy: 59.21%, Validation Loss: 0.1617, Validation Accuracy: 60.20\n",
            "Hyperparameters: LR=0.01, Optimizer=RMSprop, Loss=FocalLoss, Batch Size=128, Embedding Dim=300, Test Loss: 0.1662, Test Accuracy: 59.70\n"
          ]
        },
        {
          "output_type": "stream",
          "name": "stderr",
          "text": [
            "\n"
          ]
        }
      ]
    },
    {
      "cell_type": "code",
      "source": [
        "# saving the best Transformer model of all the hyperparameter combinations on Google Drive\n",
        "\n",
        "drive_file_path = '/content/drive/MyDrive/Models/best_transformer_model2.pth'\n",
        "\n",
        "torch.save(best_model, drive_file_path)\n",
        "print(\"Best Transformer model saved.\")"
      ],
      "metadata": {
        "colab": {
          "base_uri": "https://localhost:8080/"
        },
        "id": "0gcWPGo9xiHx",
        "outputId": "5d4731a2-94b6-4f16-db06-cf86aebbaa84"
      },
      "execution_count": 30,
      "outputs": [
        {
          "output_type": "stream",
          "name": "stdout",
          "text": [
            "Best Transformer model saved.\n"
          ]
        }
      ]
    },
    {
      "cell_type": "code",
      "source": [
        "# sorting all the hyperparameter combinations on Transformer Model based on 'Test Accuracy', and displaying the top 10 rows\n",
        "\n",
        "petransformer_df = pd.DataFrame(results)\n",
        "petransformer_df = petransformer_df.sort_values(by='Test Accuracy', ascending=False)\n",
        "\n",
        "petransformer_df.head(10)"
      ],
      "metadata": {
        "colab": {
          "base_uri": "https://localhost:8080/",
          "height": 363
        },
        "outputId": "91b5bc50-58cc-41b1-ab72-4dfdc833172c",
        "id": "0HOuESZTdD6q"
      },
      "execution_count": null,
      "outputs": [
        {
          "output_type": "execute_result",
          "data": {
            "text/plain": [
              "    Learning Rate Optimizer     Loss Function  Batch Size  Embedding Dim  \\\n",
              "89          0.010       SGD         FocalLoss         128            300   \n",
              "0           0.001      Adam  CrossEntropyLoss          32            100   \n",
              "79          0.010       SGD  CrossEntropyLoss         128            200   \n",
              "76          0.010       SGD  CrossEntropyLoss          64            200   \n",
              "75          0.010       SGD  CrossEntropyLoss          64            100   \n",
              "74          0.010       SGD  CrossEntropyLoss          32            300   \n",
              "73          0.010       SGD  CrossEntropyLoss          32            200   \n",
              "72          0.010       SGD  CrossEntropyLoss          32            100   \n",
              "71          0.010      Adam         FocalLoss         128            300   \n",
              "70          0.010      Adam         FocalLoss         128            200   \n",
              "\n",
              "    Test Accuracy  \n",
              "89       0.597818  \n",
              "0        0.597038  \n",
              "79       0.597038  \n",
              "76       0.597038  \n",
              "75       0.597038  \n",
              "74       0.597038  \n",
              "73       0.597038  \n",
              "72       0.597038  \n",
              "71       0.597038  \n",
              "70       0.597038  "
            ],
            "text/html": [
              "\n",
              "  <div id=\"df-80feaec4-ebcd-4d3f-8a08-e1176e1447a0\" class=\"colab-df-container\">\n",
              "    <div>\n",
              "<style scoped>\n",
              "    .dataframe tbody tr th:only-of-type {\n",
              "        vertical-align: middle;\n",
              "    }\n",
              "\n",
              "    .dataframe tbody tr th {\n",
              "        vertical-align: top;\n",
              "    }\n",
              "\n",
              "    .dataframe thead th {\n",
              "        text-align: right;\n",
              "    }\n",
              "</style>\n",
              "<table border=\"1\" class=\"dataframe\">\n",
              "  <thead>\n",
              "    <tr style=\"text-align: right;\">\n",
              "      <th></th>\n",
              "      <th>Learning Rate</th>\n",
              "      <th>Optimizer</th>\n",
              "      <th>Loss Function</th>\n",
              "      <th>Batch Size</th>\n",
              "      <th>Embedding Dim</th>\n",
              "      <th>Test Accuracy</th>\n",
              "    </tr>\n",
              "  </thead>\n",
              "  <tbody>\n",
              "    <tr>\n",
              "      <th>89</th>\n",
              "      <td>0.010</td>\n",
              "      <td>SGD</td>\n",
              "      <td>FocalLoss</td>\n",
              "      <td>128</td>\n",
              "      <td>300</td>\n",
              "      <td>0.597818</td>\n",
              "    </tr>\n",
              "    <tr>\n",
              "      <th>0</th>\n",
              "      <td>0.001</td>\n",
              "      <td>Adam</td>\n",
              "      <td>CrossEntropyLoss</td>\n",
              "      <td>32</td>\n",
              "      <td>100</td>\n",
              "      <td>0.597038</td>\n",
              "    </tr>\n",
              "    <tr>\n",
              "      <th>79</th>\n",
              "      <td>0.010</td>\n",
              "      <td>SGD</td>\n",
              "      <td>CrossEntropyLoss</td>\n",
              "      <td>128</td>\n",
              "      <td>200</td>\n",
              "      <td>0.597038</td>\n",
              "    </tr>\n",
              "    <tr>\n",
              "      <th>76</th>\n",
              "      <td>0.010</td>\n",
              "      <td>SGD</td>\n",
              "      <td>CrossEntropyLoss</td>\n",
              "      <td>64</td>\n",
              "      <td>200</td>\n",
              "      <td>0.597038</td>\n",
              "    </tr>\n",
              "    <tr>\n",
              "      <th>75</th>\n",
              "      <td>0.010</td>\n",
              "      <td>SGD</td>\n",
              "      <td>CrossEntropyLoss</td>\n",
              "      <td>64</td>\n",
              "      <td>100</td>\n",
              "      <td>0.597038</td>\n",
              "    </tr>\n",
              "    <tr>\n",
              "      <th>74</th>\n",
              "      <td>0.010</td>\n",
              "      <td>SGD</td>\n",
              "      <td>CrossEntropyLoss</td>\n",
              "      <td>32</td>\n",
              "      <td>300</td>\n",
              "      <td>0.597038</td>\n",
              "    </tr>\n",
              "    <tr>\n",
              "      <th>73</th>\n",
              "      <td>0.010</td>\n",
              "      <td>SGD</td>\n",
              "      <td>CrossEntropyLoss</td>\n",
              "      <td>32</td>\n",
              "      <td>200</td>\n",
              "      <td>0.597038</td>\n",
              "    </tr>\n",
              "    <tr>\n",
              "      <th>72</th>\n",
              "      <td>0.010</td>\n",
              "      <td>SGD</td>\n",
              "      <td>CrossEntropyLoss</td>\n",
              "      <td>32</td>\n",
              "      <td>100</td>\n",
              "      <td>0.597038</td>\n",
              "    </tr>\n",
              "    <tr>\n",
              "      <th>71</th>\n",
              "      <td>0.010</td>\n",
              "      <td>Adam</td>\n",
              "      <td>FocalLoss</td>\n",
              "      <td>128</td>\n",
              "      <td>300</td>\n",
              "      <td>0.597038</td>\n",
              "    </tr>\n",
              "    <tr>\n",
              "      <th>70</th>\n",
              "      <td>0.010</td>\n",
              "      <td>Adam</td>\n",
              "      <td>FocalLoss</td>\n",
              "      <td>128</td>\n",
              "      <td>200</td>\n",
              "      <td>0.597038</td>\n",
              "    </tr>\n",
              "  </tbody>\n",
              "</table>\n",
              "</div>\n",
              "    <div class=\"colab-df-buttons\">\n",
              "\n",
              "  <div class=\"colab-df-container\">\n",
              "    <button class=\"colab-df-convert\" onclick=\"convertToInteractive('df-80feaec4-ebcd-4d3f-8a08-e1176e1447a0')\"\n",
              "            title=\"Convert this dataframe to an interactive table.\"\n",
              "            style=\"display:none;\">\n",
              "\n",
              "  <svg xmlns=\"http://www.w3.org/2000/svg\" height=\"24px\" viewBox=\"0 -960 960 960\">\n",
              "    <path d=\"M120-120v-720h720v720H120Zm60-500h600v-160H180v160Zm220 220h160v-160H400v160Zm0 220h160v-160H400v160ZM180-400h160v-160H180v160Zm440 0h160v-160H620v160ZM180-180h160v-160H180v160Zm440 0h160v-160H620v160Z\"/>\n",
              "  </svg>\n",
              "    </button>\n",
              "\n",
              "  <style>\n",
              "    .colab-df-container {\n",
              "      display:flex;\n",
              "      gap: 12px;\n",
              "    }\n",
              "\n",
              "    .colab-df-convert {\n",
              "      background-color: #E8F0FE;\n",
              "      border: none;\n",
              "      border-radius: 50%;\n",
              "      cursor: pointer;\n",
              "      display: none;\n",
              "      fill: #1967D2;\n",
              "      height: 32px;\n",
              "      padding: 0 0 0 0;\n",
              "      width: 32px;\n",
              "    }\n",
              "\n",
              "    .colab-df-convert:hover {\n",
              "      background-color: #E2EBFA;\n",
              "      box-shadow: 0px 1px 2px rgba(60, 64, 67, 0.3), 0px 1px 3px 1px rgba(60, 64, 67, 0.15);\n",
              "      fill: #174EA6;\n",
              "    }\n",
              "\n",
              "    .colab-df-buttons div {\n",
              "      margin-bottom: 4px;\n",
              "    }\n",
              "\n",
              "    [theme=dark] .colab-df-convert {\n",
              "      background-color: #3B4455;\n",
              "      fill: #D2E3FC;\n",
              "    }\n",
              "\n",
              "    [theme=dark] .colab-df-convert:hover {\n",
              "      background-color: #434B5C;\n",
              "      box-shadow: 0px 1px 3px 1px rgba(0, 0, 0, 0.15);\n",
              "      filter: drop-shadow(0px 1px 2px rgba(0, 0, 0, 0.3));\n",
              "      fill: #FFFFFF;\n",
              "    }\n",
              "  </style>\n",
              "\n",
              "    <script>\n",
              "      const buttonEl =\n",
              "        document.querySelector('#df-80feaec4-ebcd-4d3f-8a08-e1176e1447a0 button.colab-df-convert');\n",
              "      buttonEl.style.display =\n",
              "        google.colab.kernel.accessAllowed ? 'block' : 'none';\n",
              "\n",
              "      async function convertToInteractive(key) {\n",
              "        const element = document.querySelector('#df-80feaec4-ebcd-4d3f-8a08-e1176e1447a0');\n",
              "        const dataTable =\n",
              "          await google.colab.kernel.invokeFunction('convertToInteractive',\n",
              "                                                    [key], {});\n",
              "        if (!dataTable) return;\n",
              "\n",
              "        const docLinkHtml = 'Like what you see? Visit the ' +\n",
              "          '<a target=\"_blank\" href=https://colab.research.google.com/notebooks/data_table.ipynb>data table notebook</a>'\n",
              "          + ' to learn more about interactive tables.';\n",
              "        element.innerHTML = '';\n",
              "        dataTable['output_type'] = 'display_data';\n",
              "        await google.colab.output.renderOutput(dataTable, element);\n",
              "        const docLink = document.createElement('div');\n",
              "        docLink.innerHTML = docLinkHtml;\n",
              "        element.appendChild(docLink);\n",
              "      }\n",
              "    </script>\n",
              "  </div>\n",
              "\n",
              "\n",
              "<div id=\"df-eb2e7873-bf61-4472-8487-046a23d16d8d\">\n",
              "  <button class=\"colab-df-quickchart\" onclick=\"quickchart('df-eb2e7873-bf61-4472-8487-046a23d16d8d')\"\n",
              "            title=\"Suggest charts\"\n",
              "            style=\"display:none;\">\n",
              "\n",
              "<svg xmlns=\"http://www.w3.org/2000/svg\" height=\"24px\"viewBox=\"0 0 24 24\"\n",
              "     width=\"24px\">\n",
              "    <g>\n",
              "        <path d=\"M19 3H5c-1.1 0-2 .9-2 2v14c0 1.1.9 2 2 2h14c1.1 0 2-.9 2-2V5c0-1.1-.9-2-2-2zM9 17H7v-7h2v7zm4 0h-2V7h2v10zm4 0h-2v-4h2v4z\"/>\n",
              "    </g>\n",
              "</svg>\n",
              "  </button>\n",
              "\n",
              "<style>\n",
              "  .colab-df-quickchart {\n",
              "      --bg-color: #E8F0FE;\n",
              "      --fill-color: #1967D2;\n",
              "      --hover-bg-color: #E2EBFA;\n",
              "      --hover-fill-color: #174EA6;\n",
              "      --disabled-fill-color: #AAA;\n",
              "      --disabled-bg-color: #DDD;\n",
              "  }\n",
              "\n",
              "  [theme=dark] .colab-df-quickchart {\n",
              "      --bg-color: #3B4455;\n",
              "      --fill-color: #D2E3FC;\n",
              "      --hover-bg-color: #434B5C;\n",
              "      --hover-fill-color: #FFFFFF;\n",
              "      --disabled-bg-color: #3B4455;\n",
              "      --disabled-fill-color: #666;\n",
              "  }\n",
              "\n",
              "  .colab-df-quickchart {\n",
              "    background-color: var(--bg-color);\n",
              "    border: none;\n",
              "    border-radius: 50%;\n",
              "    cursor: pointer;\n",
              "    display: none;\n",
              "    fill: var(--fill-color);\n",
              "    height: 32px;\n",
              "    padding: 0;\n",
              "    width: 32px;\n",
              "  }\n",
              "\n",
              "  .colab-df-quickchart:hover {\n",
              "    background-color: var(--hover-bg-color);\n",
              "    box-shadow: 0 1px 2px rgba(60, 64, 67, 0.3), 0 1px 3px 1px rgba(60, 64, 67, 0.15);\n",
              "    fill: var(--button-hover-fill-color);\n",
              "  }\n",
              "\n",
              "  .colab-df-quickchart-complete:disabled,\n",
              "  .colab-df-quickchart-complete:disabled:hover {\n",
              "    background-color: var(--disabled-bg-color);\n",
              "    fill: var(--disabled-fill-color);\n",
              "    box-shadow: none;\n",
              "  }\n",
              "\n",
              "  .colab-df-spinner {\n",
              "    border: 2px solid var(--fill-color);\n",
              "    border-color: transparent;\n",
              "    border-bottom-color: var(--fill-color);\n",
              "    animation:\n",
              "      spin 1s steps(1) infinite;\n",
              "  }\n",
              "\n",
              "  @keyframes spin {\n",
              "    0% {\n",
              "      border-color: transparent;\n",
              "      border-bottom-color: var(--fill-color);\n",
              "      border-left-color: var(--fill-color);\n",
              "    }\n",
              "    20% {\n",
              "      border-color: transparent;\n",
              "      border-left-color: var(--fill-color);\n",
              "      border-top-color: var(--fill-color);\n",
              "    }\n",
              "    30% {\n",
              "      border-color: transparent;\n",
              "      border-left-color: var(--fill-color);\n",
              "      border-top-color: var(--fill-color);\n",
              "      border-right-color: var(--fill-color);\n",
              "    }\n",
              "    40% {\n",
              "      border-color: transparent;\n",
              "      border-right-color: var(--fill-color);\n",
              "      border-top-color: var(--fill-color);\n",
              "    }\n",
              "    60% {\n",
              "      border-color: transparent;\n",
              "      border-right-color: var(--fill-color);\n",
              "    }\n",
              "    80% {\n",
              "      border-color: transparent;\n",
              "      border-right-color: var(--fill-color);\n",
              "      border-bottom-color: var(--fill-color);\n",
              "    }\n",
              "    90% {\n",
              "      border-color: transparent;\n",
              "      border-bottom-color: var(--fill-color);\n",
              "    }\n",
              "  }\n",
              "</style>\n",
              "\n",
              "  <script>\n",
              "    async function quickchart(key) {\n",
              "      const quickchartButtonEl =\n",
              "        document.querySelector('#' + key + ' button');\n",
              "      quickchartButtonEl.disabled = true;  // To prevent multiple clicks.\n",
              "      quickchartButtonEl.classList.add('colab-df-spinner');\n",
              "      try {\n",
              "        const charts = await google.colab.kernel.invokeFunction(\n",
              "            'suggestCharts', [key], {});\n",
              "      } catch (error) {\n",
              "        console.error('Error during call to suggestCharts:', error);\n",
              "      }\n",
              "      quickchartButtonEl.classList.remove('colab-df-spinner');\n",
              "      quickchartButtonEl.classList.add('colab-df-quickchart-complete');\n",
              "    }\n",
              "    (() => {\n",
              "      let quickchartButtonEl =\n",
              "        document.querySelector('#df-eb2e7873-bf61-4472-8487-046a23d16d8d button');\n",
              "      quickchartButtonEl.style.display =\n",
              "        google.colab.kernel.accessAllowed ? 'block' : 'none';\n",
              "    })();\n",
              "  </script>\n",
              "</div>\n",
              "    </div>\n",
              "  </div>\n"
            ]
          },
          "metadata": {},
          "execution_count": 32
        }
      ]
    },
    {
      "cell_type": "code",
      "source": [],
      "metadata": {
        "id": "7GLT38olTgMT"
      },
      "execution_count": null,
      "outputs": []
    },
    {
      "cell_type": "markdown",
      "source": [
        "# BERT Model"
      ],
      "metadata": {
        "id": "MTGtis-DThGL"
      }
    },
    {
      "cell_type": "code",
      "source": [
        "class BertLayer(nn.Module):\n",
        "    def __init__(self, embed_dim, num_heads, hidden_dim):\n",
        "        super(BertLayer, self).__init__()\n",
        "        self.mhatt = nn.MultiheadAttention(embed_dim, num_heads)\n",
        "        self.feedforward = nn.Sequential(\n",
        "            nn.Linear(embed_dim, hidden_dim),\n",
        "            nn.ReLU(),\n",
        "            nn.Linear(hidden_dim, embed_dim)\n",
        "        )\n",
        "        self.ln1 = nn.LayerNorm(embed_dim)\n",
        "        self.ln2 = nn.LayerNorm(embed_dim)\n",
        "\n",
        "    def forward(self, x):\n",
        "        atop, unknown = self.mhatt(x, x, x)\n",
        "        x = x + atop\n",
        "        x = self.ln1(x)\n",
        "        ffop = self.feedforward(x)\n",
        "        x = x + ffop\n",
        "        x = self.ln2(x)\n",
        "        return x\n",
        "\n",
        "class BERTModel(nn.Module):\n",
        "    def __init__(self, vocab_size, embedding_dim, num_heads, hidden_dim, num_layers, output_dim):\n",
        "        super(BERTModel, self).__init__()\n",
        "        self.embedding = nn.Embedding(vocab_size, embedding_dim)\n",
        "        self.berts = nn.ModuleList([BertLayer(embedding_dim, num_heads, hidden_dim) for unkown in range(num_layers)])\n",
        "        self.fc = nn.Linear(embedding_dim, output_dim)\n",
        "\n",
        "    def forward(self, x):\n",
        "        x = self.embedding(x)\n",
        "        for bert in self.berts:\n",
        "            x = bert(x)\n",
        "        x = x.mean(dim=1)\n",
        "        x = self.fc(x)\n",
        "        return x\n",
        "\n",
        "# Define hyperparameters for the model where some of them can be changed later\n",
        "vocab_size = len(Vocab)\n",
        "embedding_dim = 50\n",
        "num_heads = 5\n",
        "hidden_dim = 128\n",
        "num_layers = 3\n",
        "output_dim = 2\n",
        "\n",
        "# Define Model and print the architecture of the model\n",
        "model = BERTModel(vocab_size, embedding_dim, num_heads, hidden_dim, num_layers, output_dim)\n",
        "print(model)"
      ],
      "metadata": {
        "colab": {
          "base_uri": "https://localhost:8080/"
        },
        "id": "-5XJzGzynPZI",
        "outputId": "462a82e5-c205-4bd2-9775-bdd56548cd91"
      },
      "execution_count": 28,
      "outputs": [
        {
          "output_type": "stream",
          "name": "stdout",
          "text": [
            "BERTModel(\n",
            "  (embedding): Embedding(14286, 50)\n",
            "  (berts): ModuleList(\n",
            "    (0-2): 3 x BertLayer(\n",
            "      (mhatt): MultiheadAttention(\n",
            "        (out_proj): NonDynamicallyQuantizableLinear(in_features=50, out_features=50, bias=True)\n",
            "      )\n",
            "      (feedforward): Sequential(\n",
            "        (0): Linear(in_features=50, out_features=128, bias=True)\n",
            "        (1): ReLU()\n",
            "        (2): Linear(in_features=128, out_features=50, bias=True)\n",
            "      )\n",
            "      (ln1): LayerNorm((50,), eps=1e-05, elementwise_affine=True)\n",
            "      (ln2): LayerNorm((50,), eps=1e-05, elementwise_affine=True)\n",
            "    )\n",
            "  )\n",
            "  (fc): Linear(in_features=50, out_features=2, bias=True)\n",
            ")\n"
          ]
        }
      ]
    },
    {
      "cell_type": "code",
      "source": [
        "device = torch.device(\"cuda\" if torch.cuda.is_available() else \"cpu\")\n",
        "\n",
        "# Training each model on these cobination of hyperparameters\n",
        "learning_rates = [0.001, 0.01]\n",
        "optimizers = ['Adam', 'SGD', 'RMSprop']\n",
        "loss_functions = [nn.CrossEntropyLoss(), FocalLoss(gamma=2)]\n",
        "batch_sizes = [32, 64, 128]\n",
        "embedding_dims = [100, 200, 300]\n",
        "\n",
        "combinations = list(itertools.product(learning_rates, optimizers, loss_functions, batch_sizes, embedding_dims))\n",
        "\n",
        "results = []\n",
        "best_accuracy = 0.0\n",
        "best_hyperparameters = None\n",
        "best_model = None\n",
        "\n",
        "for combination in tqdm(combinations):\n",
        "    learning_rate, optimizer_name, loss_fn, batch_size, embedding_dim = combination\n",
        "\n",
        "    # create a model for each of the hyperparameter combination, train and evaluate on test data\n",
        "    model = BERTModel(vocab_size, embedding_dim, num_heads, hidden_dim, num_layers, output_dim)\n",
        "    model.to(device)\n",
        "\n",
        "    # set the optimizer and loss function\n",
        "    optimizer = get_optimizer(optimizer_name, model.parameters(), learning_rate)\n",
        "    criterion = loss_fn\n",
        "\n",
        "    # Loaders are used to efficiently iterate over the datasets in batches during the training and evaluation processes\n",
        "    train_loader = DataLoader(train_dataset, batch_size=batch_size, shuffle=True)\n",
        "    val_loader = DataLoader(val_dataset, batch_size=batch_size, shuffle=False)\n",
        "    test_loader = DataLoader(test_dataset, batch_size=batch_size, shuffle=False)\n",
        "\n",
        "    num_epochs = 5\n",
        "    for epoch in range(num_epochs):\n",
        "        model.train()\n",
        "        training_loss = 0.0\n",
        "        training_corrects = 0\n",
        "        training_count = 0\n",
        "\n",
        "        # Model Training\n",
        "        for i, data in enumerate(train_loader, 0):\n",
        "            inputs, labels = data\n",
        "            inputs, labels = inputs.to(device), labels.to(device)\n",
        "            # print(inputs)\n",
        "            # print(labels)\n",
        "\n",
        "            optimizer.zero_grad()\n",
        "            outputs = model(inputs)\n",
        "            # print(outputs)\n",
        "\n",
        "            loss = criterion(outputs, labels)\n",
        "            loss.backward()\n",
        "            training_loss += loss.item()\n",
        "\n",
        "            optimizer.step()\n",
        "\n",
        "            x, preds = torch.max(outputs.data, 1)\n",
        "            # print(preds)\n",
        "\n",
        "            training_count += labels.size(0)\n",
        "            training_corrects += torch.sum(preds == labels).item()\n",
        "\n",
        "        # calculate the average loss and accuracy for the each training epoch\n",
        "        train_epoch_loss = training_loss / len(train_loader)\n",
        "        train_epoch_accuracy = training_corrects / training_count\n",
        "\n",
        "\n",
        "\n",
        "        # Model Validation on data that it hasn't seen during training and adjust hyperparameters\n",
        "        model.eval()\n",
        "        validation_loss = 0.0\n",
        "        validation_corrects = 0\n",
        "        validation_count = 0\n",
        "\n",
        "        with torch.no_grad():\n",
        "            for i, data in enumerate(val_loader, 0):\n",
        "                inputs, labels = data\n",
        "                inputs, labels = inputs.to(device), labels.to(device)\n",
        "                outputs = model(inputs)\n",
        "                # print(inputs)\n",
        "                # print(labels)\n",
        "                # print(outputs)\n",
        "\n",
        "                loss = criterion(outputs, labels)\n",
        "                validation_loss += loss.item()\n",
        "\n",
        "                x, preds = torch.max(outputs.data, 1)\n",
        "                # print(preds)\n",
        "\n",
        "                validation_count += labels.size(0)\n",
        "                validation_corrects += torch.sum(preds == labels).item()\n",
        "\n",
        "        # calculate the average loss and accuracy for the each validation epoch\n",
        "        val_epoch_loss = validation_loss / len(val_loader)\n",
        "        val_epoch_accuracy = validation_corrects / validation_count\n",
        "\n",
        "        print(f\"Epoch {epoch + 1}/{num_epochs}, \"\n",
        "              f\"Train Loss: {train_epoch_loss:.4f}, Train Accuracy: {train_epoch_accuracy * 100:.2f}%, \"\n",
        "              f\"Validation Loss: {val_epoch_loss:.4f}, Validation Accuracy: {val_epoch_accuracy * 100:.2f}\")\n",
        "\n",
        "\n",
        "\n",
        "    # Testing the accuracy of the model on test data\n",
        "    test_loss = 0.0\n",
        "    test_corrects = 0\n",
        "    test_count = 0\n",
        "    with torch.no_grad():\n",
        "        for i, data in enumerate(test_loader, 0):\n",
        "            inputs, labels = data\n",
        "            inputs, labels = inputs.to(device), labels.to(device)\n",
        "            outputs = model(inputs)\n",
        "            # print(inputs)\n",
        "            # print(labels)\n",
        "            # print(outputs)\n",
        "\n",
        "            loss = criterion(outputs, labels)\n",
        "            test_loss += loss.item()\n",
        "\n",
        "            x, preds = torch.max(outputs.data, 1)\n",
        "            # print(preds)\n",
        "\n",
        "            test_count += labels.size(0)\n",
        "            test_corrects += torch.sum(preds == labels).item()\n",
        "\n",
        "    # calculate the average test_loss and test_accuracy on the training data\n",
        "    average_test_loss = test_loss / len(test_loader)\n",
        "    average_test_accuracy = test_corrects / test_count\n",
        "\n",
        "    result = {\n",
        "        'Learning Rate': learning_rate,\n",
        "        'Optimizer': optimizer_name,\n",
        "        'Loss Function': loss_fn.__class__.__name__,\n",
        "        'Batch Size': batch_size,\n",
        "        'Embedding Dim': embedding_dim,\n",
        "        'Test Accuracy': average_test_accuracy\n",
        "    }\n",
        "    results.append(result)\n",
        "    # Add each hyperparameter combination with the test accuracy tp results list for later analysis\n",
        "\n",
        "    print(f\"Hyperparameters: LR={learning_rate}, Optimizer={optimizer_name}, Loss={loss_fn.__class__.__name__}, \"\n",
        "          f\"Batch Size={batch_size}, Embedding Dim={embedding_dim}, \"\n",
        "          f\"Test Loss: {average_test_loss:.4f}, Test Accuracy: {average_test_accuracy * 100:.2f}\")\n",
        "\n",
        "    # The best-performing model and its associated hyperparameters are stored for later analysis\n",
        "    if average_test_accuracy > best_accuracy:\n",
        "        best_accuracy = average_test_accuracy\n",
        "        best_hyperparameters = combination\n",
        "        best_model = model.state_dict()\n",
        "\n"
      ],
      "metadata": {
        "colab": {
          "base_uri": "https://localhost:8080/"
        },
        "id": "OYWuqReY3DLC",
        "outputId": "67571acb-b1d8-464e-a96b-62a5df3f2276"
      },
      "execution_count": 29,
      "outputs": [
        {
          "output_type": "stream",
          "name": "stderr",
          "text": [
            "\r  0%|          | 0/108 [00:00<?, ?it/s]"
          ]
        },
        {
          "output_type": "stream",
          "name": "stdout",
          "text": [
            "Epoch 1/5, Train Loss: 0.6797, Train Accuracy: 59.11%, Validation Loss: 0.6749, Validation Accuracy: 60.20\n",
            "Epoch 2/5, Train Loss: 0.6723, Train Accuracy: 59.73%, Validation Loss: 0.6704, Validation Accuracy: 59.35\n",
            "Epoch 3/5, Train Loss: 0.6622, Train Accuracy: 60.63%, Validation Loss: 0.6891, Validation Accuracy: 59.97\n",
            "Epoch 4/5, Train Loss: 0.6463, Train Accuracy: 62.42%, Validation Loss: 0.6758, Validation Accuracy: 58.41\n"
          ]
        },
        {
          "output_type": "stream",
          "name": "stderr",
          "text": [
            "\r  1%|          | 1/108 [00:18<33:16, 18.66s/it]"
          ]
        },
        {
          "output_type": "stream",
          "name": "stdout",
          "text": [
            "Epoch 5/5, Train Loss: 0.6286, Train Accuracy: 64.69%, Validation Loss: 0.7145, Validation Accuracy: 55.22\n",
            "Hyperparameters: LR=0.001, Optimizer=Adam, Loss=CrossEntropyLoss, Batch Size=32, Embedding Dim=100, Test Loss: 0.7011, Test Accuracy: 55.65\n",
            "Epoch 1/5, Train Loss: 0.6842, Train Accuracy: 58.92%, Validation Loss: 0.6781, Validation Accuracy: 59.89\n",
            "Epoch 2/5, Train Loss: 0.6765, Train Accuracy: 59.52%, Validation Loss: 0.6708, Validation Accuracy: 60.20\n",
            "Epoch 3/5, Train Loss: 0.6782, Train Accuracy: 59.36%, Validation Loss: 0.6707, Validation Accuracy: 60.20\n",
            "Epoch 4/5, Train Loss: 0.6764, Train Accuracy: 59.70%, Validation Loss: 0.6731, Validation Accuracy: 60.20\n"
          ]
        },
        {
          "output_type": "stream",
          "name": "stderr",
          "text": [
            "\r  2%|▏         | 2/108 [00:33<29:23, 16.63s/it]"
          ]
        },
        {
          "output_type": "stream",
          "name": "stdout",
          "text": [
            "Epoch 5/5, Train Loss: 0.6748, Train Accuracy: 59.87%, Validation Loss: 0.6717, Validation Accuracy: 60.20\n",
            "Hyperparameters: LR=0.001, Optimizer=Adam, Loss=CrossEntropyLoss, Batch Size=32, Embedding Dim=200, Test Loss: 0.6734, Test Accuracy: 59.70\n",
            "Epoch 1/5, Train Loss: 0.6921, Train Accuracy: 59.05%, Validation Loss: 0.6833, Validation Accuracy: 60.12\n",
            "Epoch 2/5, Train Loss: 0.6788, Train Accuracy: 59.24%, Validation Loss: 0.6707, Validation Accuracy: 60.20\n",
            "Epoch 3/5, Train Loss: 0.6782, Train Accuracy: 59.46%, Validation Loss: 0.6795, Validation Accuracy: 60.20\n",
            "Epoch 4/5, Train Loss: 0.6759, Train Accuracy: 59.87%, Validation Loss: 0.6715, Validation Accuracy: 60.20\n"
          ]
        },
        {
          "output_type": "stream",
          "name": "stderr",
          "text": [
            "\r  3%|▎         | 3/108 [00:53<31:49, 18.19s/it]"
          ]
        },
        {
          "output_type": "stream",
          "name": "stdout",
          "text": [
            "Epoch 5/5, Train Loss: 0.6752, Train Accuracy: 59.87%, Validation Loss: 0.6725, Validation Accuracy: 60.20\n",
            "Hyperparameters: LR=0.001, Optimizer=Adam, Loss=CrossEntropyLoss, Batch Size=32, Embedding Dim=300, Test Loss: 0.6746, Test Accuracy: 59.70\n",
            "Epoch 1/5, Train Loss: 0.6851, Train Accuracy: 58.65%, Validation Loss: 0.6699, Validation Accuracy: 60.20\n",
            "Epoch 2/5, Train Loss: 0.6720, Train Accuracy: 59.82%, Validation Loss: 0.6660, Validation Accuracy: 59.35\n",
            "Epoch 3/5, Train Loss: 0.6600, Train Accuracy: 60.88%, Validation Loss: 0.6777, Validation Accuracy: 59.89\n",
            "Epoch 4/5, Train Loss: 0.6416, Train Accuracy: 63.19%, Validation Loss: 0.6837, Validation Accuracy: 59.97\n"
          ]
        },
        {
          "output_type": "stream",
          "name": "stderr",
          "text": [
            "\r  4%|▎         | 4/108 [01:02<24:39, 14.23s/it]"
          ]
        },
        {
          "output_type": "stream",
          "name": "stdout",
          "text": [
            "Epoch 5/5, Train Loss: 0.6233, Train Accuracy: 65.60%, Validation Loss: 0.7011, Validation Accuracy: 57.48\n",
            "Hyperparameters: LR=0.001, Optimizer=Adam, Loss=CrossEntropyLoss, Batch Size=64, Embedding Dim=100, Test Loss: 0.7461, Test Accuracy: 53.39\n",
            "Epoch 1/5, Train Loss: 0.6944, Train Accuracy: 58.45%, Validation Loss: 0.6685, Validation Accuracy: 60.20\n",
            "Epoch 2/5, Train Loss: 0.6701, Train Accuracy: 59.85%, Validation Loss: 0.6664, Validation Accuracy: 59.50\n",
            "Epoch 3/5, Train Loss: 0.6551, Train Accuracy: 61.35%, Validation Loss: 0.6718, Validation Accuracy: 58.18\n",
            "Epoch 4/5, Train Loss: 0.6394, Train Accuracy: 63.45%, Validation Loss: 0.7027, Validation Accuracy: 55.30\n"
          ]
        },
        {
          "output_type": "stream",
          "name": "stderr",
          "text": [
            "\r  5%|▍         | 5/108 [01:13<22:54, 13.34s/it]"
          ]
        },
        {
          "output_type": "stream",
          "name": "stdout",
          "text": [
            "Epoch 5/5, Train Loss: 0.6314, Train Accuracy: 64.05%, Validation Loss: 0.6987, Validation Accuracy: 55.61\n",
            "Hyperparameters: LR=0.001, Optimizer=Adam, Loss=CrossEntropyLoss, Batch Size=64, Embedding Dim=200, Test Loss: 0.7147, Test Accuracy: 53.47\n",
            "Epoch 1/5, Train Loss: 0.6945, Train Accuracy: 58.81%, Validation Loss: 0.6715, Validation Accuracy: 60.20\n",
            "Epoch 2/5, Train Loss: 0.6775, Train Accuracy: 59.81%, Validation Loss: 0.6929, Validation Accuracy: 51.40\n",
            "Epoch 3/5, Train Loss: 0.6760, Train Accuracy: 59.75%, Validation Loss: 0.6698, Validation Accuracy: 60.20\n",
            "Epoch 4/5, Train Loss: 0.6749, Train Accuracy: 59.87%, Validation Loss: 0.6714, Validation Accuracy: 60.20\n"
          ]
        },
        {
          "output_type": "stream",
          "name": "stderr",
          "text": [
            "\r  6%|▌         | 6/108 [01:31<25:26, 14.96s/it]"
          ]
        },
        {
          "output_type": "stream",
          "name": "stdout",
          "text": [
            "Epoch 5/5, Train Loss: 0.6766, Train Accuracy: 59.84%, Validation Loss: 0.6697, Validation Accuracy: 60.20\n",
            "Hyperparameters: LR=0.001, Optimizer=Adam, Loss=CrossEntropyLoss, Batch Size=64, Embedding Dim=300, Test Loss: 0.6740, Test Accuracy: 59.70\n",
            "Epoch 1/5, Train Loss: 0.6844, Train Accuracy: 58.52%, Validation Loss: 0.6657, Validation Accuracy: 60.20\n",
            "Epoch 2/5, Train Loss: 0.6741, Train Accuracy: 59.25%, Validation Loss: 0.6629, Validation Accuracy: 60.20\n",
            "Epoch 3/5, Train Loss: 0.6621, Train Accuracy: 60.55%, Validation Loss: 0.6617, Validation Accuracy: 59.81\n",
            "Epoch 4/5, Train Loss: 0.6496, Train Accuracy: 61.90%, Validation Loss: 0.6768, Validation Accuracy: 59.97\n"
          ]
        },
        {
          "output_type": "stream",
          "name": "stderr",
          "text": [
            "\r  6%|▋         | 7/108 [01:39<20:51, 12.39s/it]"
          ]
        },
        {
          "output_type": "stream",
          "name": "stdout",
          "text": [
            "Epoch 5/5, Train Loss: 0.6358, Train Accuracy: 63.94%, Validation Loss: 0.6750, Validation Accuracy: 58.88\n",
            "Hyperparameters: LR=0.001, Optimizer=Adam, Loss=CrossEntropyLoss, Batch Size=128, Embedding Dim=100, Test Loss: 0.6902, Test Accuracy: 57.76\n",
            "Epoch 1/5, Train Loss: 0.6910, Train Accuracy: 58.85%, Validation Loss: 0.6667, Validation Accuracy: 60.20\n",
            "Epoch 2/5, Train Loss: 0.6731, Train Accuracy: 59.79%, Validation Loss: 0.6627, Validation Accuracy: 60.28\n",
            "Epoch 3/5, Train Loss: 0.6581, Train Accuracy: 60.68%, Validation Loss: 0.6733, Validation Accuracy: 57.40\n",
            "Epoch 4/5, Train Loss: 0.6384, Train Accuracy: 63.51%, Validation Loss: 0.7212, Validation Accuracy: 51.64\n"
          ]
        },
        {
          "output_type": "stream",
          "name": "stderr",
          "text": [
            "\r  7%|▋         | 8/108 [01:50<20:07, 12.07s/it]"
          ]
        },
        {
          "output_type": "stream",
          "name": "stdout",
          "text": [
            "Epoch 5/5, Train Loss: 0.6236, Train Accuracy: 64.92%, Validation Loss: 0.7173, Validation Accuracy: 55.14\n",
            "Hyperparameters: LR=0.001, Optimizer=Adam, Loss=CrossEntropyLoss, Batch Size=128, Embedding Dim=200, Test Loss: 0.7032, Test Accuracy: 55.34\n",
            "Epoch 1/5, Train Loss: 0.7356, Train Accuracy: 57.76%, Validation Loss: 0.6680, Validation Accuracy: 60.20\n",
            "Epoch 2/5, Train Loss: 0.6728, Train Accuracy: 59.79%, Validation Loss: 0.6727, Validation Accuracy: 60.28\n",
            "Epoch 3/5, Train Loss: 0.6701, Train Accuracy: 59.87%, Validation Loss: 0.6725, Validation Accuracy: 60.20\n",
            "Epoch 4/5, Train Loss: 0.6594, Train Accuracy: 60.70%, Validation Loss: 0.6747, Validation Accuracy: 59.81\n"
          ]
        },
        {
          "output_type": "stream",
          "name": "stderr",
          "text": [
            "\r  8%|▊         | 9/108 [02:07<22:30, 13.64s/it]"
          ]
        },
        {
          "output_type": "stream",
          "name": "stdout",
          "text": [
            "Epoch 5/5, Train Loss: 0.6513, Train Accuracy: 61.11%, Validation Loss: 0.6810, Validation Accuracy: 57.94\n",
            "Hyperparameters: LR=0.001, Optimizer=Adam, Loss=CrossEntropyLoss, Batch Size=128, Embedding Dim=300, Test Loss: 0.6811, Test Accuracy: 57.37\n",
            "Epoch 1/5, Train Loss: 0.1675, Train Accuracy: 58.87%, Validation Loss: 0.1623, Validation Accuracy: 60.20\n",
            "Epoch 2/5, Train Loss: 0.1615, Train Accuracy: 59.96%, Validation Loss: 0.1615, Validation Accuracy: 59.66\n",
            "Epoch 3/5, Train Loss: 0.1544, Train Accuracy: 60.64%, Validation Loss: 0.1608, Validation Accuracy: 60.20\n",
            "Epoch 4/5, Train Loss: 0.1446, Train Accuracy: 62.82%, Validation Loss: 0.1842, Validation Accuracy: 51.71\n"
          ]
        },
        {
          "output_type": "stream",
          "name": "stderr",
          "text": [
            "\r  9%|▉         | 10/108 [02:21<22:20, 13.67s/it]"
          ]
        },
        {
          "output_type": "stream",
          "name": "stdout",
          "text": [
            "Epoch 5/5, Train Loss: 0.1367, Train Accuracy: 65.27%, Validation Loss: 0.1834, Validation Accuracy: 56.39\n",
            "Hyperparameters: LR=0.001, Optimizer=Adam, Loss=FocalLoss, Batch Size=32, Embedding Dim=100, Test Loss: 0.1897, Test Accuracy: 53.31\n",
            "Epoch 1/5, Train Loss: 0.1753, Train Accuracy: 59.48%, Validation Loss: 0.1625, Validation Accuracy: 59.97\n",
            "Epoch 2/5, Train Loss: 0.1617, Train Accuracy: 59.60%, Validation Loss: 0.1628, Validation Accuracy: 59.97\n",
            "Epoch 3/5, Train Loss: 0.1569, Train Accuracy: 60.24%, Validation Loss: 0.1635, Validation Accuracy: 60.28\n",
            "Epoch 4/5, Train Loss: 0.1575, Train Accuracy: 60.04%, Validation Loss: 0.1604, Validation Accuracy: 60.20\n"
          ]
        },
        {
          "output_type": "stream",
          "name": "stderr",
          "text": [
            "\r 10%|█         | 11/108 [02:37<23:18, 14.42s/it]"
          ]
        },
        {
          "output_type": "stream",
          "name": "stdout",
          "text": [
            "Epoch 5/5, Train Loss: 0.1622, Train Accuracy: 59.75%, Validation Loss: 0.1622, Validation Accuracy: 60.12\n",
            "Hyperparameters: LR=0.001, Optimizer=Adam, Loss=FocalLoss, Batch Size=32, Embedding Dim=200, Test Loss: 0.1627, Test Accuracy: 59.70\n",
            "Epoch 1/5, Train Loss: 0.1845, Train Accuracy: 58.55%, Validation Loss: 0.1646, Validation Accuracy: 60.28\n",
            "Epoch 2/5, Train Loss: 0.1658, Train Accuracy: 58.74%, Validation Loss: 0.1637, Validation Accuracy: 60.20\n",
            "Epoch 3/5, Train Loss: 0.1655, Train Accuracy: 59.49%, Validation Loss: 0.1616, Validation Accuracy: 60.20\n",
            "Epoch 4/5, Train Loss: 0.1627, Train Accuracy: 59.87%, Validation Loss: 0.1658, Validation Accuracy: 60.20\n"
          ]
        },
        {
          "output_type": "stream",
          "name": "stderr",
          "text": [
            "\r 11%|█         | 12/108 [02:57<25:56, 16.21s/it]"
          ]
        },
        {
          "output_type": "stream",
          "name": "stdout",
          "text": [
            "Epoch 5/5, Train Loss: 0.1629, Train Accuracy: 59.87%, Validation Loss: 0.1608, Validation Accuracy: 60.20\n",
            "Hyperparameters: LR=0.001, Optimizer=Adam, Loss=FocalLoss, Batch Size=32, Embedding Dim=300, Test Loss: 0.1625, Test Accuracy: 59.70\n",
            "Epoch 1/5, Train Loss: 0.1691, Train Accuracy: 58.52%, Validation Loss: 0.1594, Validation Accuracy: 60.20\n",
            "Epoch 2/5, Train Loss: 0.1623, Train Accuracy: 59.81%, Validation Loss: 0.1590, Validation Accuracy: 60.05\n",
            "Epoch 3/5, Train Loss: 0.1584, Train Accuracy: 60.48%, Validation Loss: 0.1622, Validation Accuracy: 59.58\n",
            "Epoch 4/5, Train Loss: 0.1505, Train Accuracy: 61.84%, Validation Loss: 0.1673, Validation Accuracy: 56.85\n"
          ]
        },
        {
          "output_type": "stream",
          "name": "stderr",
          "text": [
            "\r 12%|█▏        | 13/108 [03:06<22:03, 13.93s/it]"
          ]
        },
        {
          "output_type": "stream",
          "name": "stdout",
          "text": [
            "Epoch 5/5, Train Loss: 0.1415, Train Accuracy: 63.96%, Validation Loss: 0.1746, Validation Accuracy: 56.85\n",
            "Hyperparameters: LR=0.001, Optimizer=Adam, Loss=FocalLoss, Batch Size=64, Embedding Dim=100, Test Loss: 0.1665, Test Accuracy: 59.16\n",
            "Epoch 1/5, Train Loss: 0.1793, Train Accuracy: 58.71%, Validation Loss: 0.1596, Validation Accuracy: 60.20\n",
            "Epoch 2/5, Train Loss: 0.1620, Train Accuracy: 59.26%, Validation Loss: 0.1621, Validation Accuracy: 58.72\n",
            "Epoch 3/5, Train Loss: 0.1566, Train Accuracy: 60.61%, Validation Loss: 0.1634, Validation Accuracy: 56.39\n",
            "Epoch 4/5, Train Loss: 0.1468, Train Accuracy: 62.70%, Validation Loss: 0.1639, Validation Accuracy: 59.27\n"
          ]
        },
        {
          "output_type": "stream",
          "name": "stderr",
          "text": [
            "\r 13%|█▎        | 14/108 [03:18<20:59, 13.40s/it]"
          ]
        },
        {
          "output_type": "stream",
          "name": "stdout",
          "text": [
            "Epoch 5/5, Train Loss: 0.1395, Train Accuracy: 63.70%, Validation Loss: 0.1747, Validation Accuracy: 58.80\n",
            "Hyperparameters: LR=0.001, Optimizer=Adam, Loss=FocalLoss, Batch Size=64, Embedding Dim=200, Test Loss: 0.1946, Test Accuracy: 57.91\n",
            "Epoch 1/5, Train Loss: 0.1874, Train Accuracy: 58.85%, Validation Loss: 0.1599, Validation Accuracy: 60.20\n",
            "Epoch 2/5, Train Loss: 0.1628, Train Accuracy: 59.35%, Validation Loss: 0.1594, Validation Accuracy: 61.45\n",
            "Epoch 3/5, Train Loss: 0.1555, Train Accuracy: 60.22%, Validation Loss: 0.1598, Validation Accuracy: 59.81\n",
            "Epoch 4/5, Train Loss: 0.1500, Train Accuracy: 61.78%, Validation Loss: 0.1669, Validation Accuracy: 56.54\n"
          ]
        },
        {
          "output_type": "stream",
          "name": "stderr",
          "text": [
            "\r 14%|█▍        | 15/108 [03:36<22:49, 14.72s/it]"
          ]
        },
        {
          "output_type": "stream",
          "name": "stdout",
          "text": [
            "Epoch 5/5, Train Loss: 0.1532, Train Accuracy: 60.92%, Validation Loss: 0.1599, Validation Accuracy: 59.74\n",
            "Hyperparameters: LR=0.001, Optimizer=Adam, Loss=FocalLoss, Batch Size=64, Embedding Dim=300, Test Loss: 0.1683, Test Accuracy: 59.39\n",
            "Epoch 1/5, Train Loss: 0.1732, Train Accuracy: 58.29%, Validation Loss: 0.1614, Validation Accuracy: 60.20\n",
            "Epoch 2/5, Train Loss: 0.1611, Train Accuracy: 59.87%, Validation Loss: 0.1579, Validation Accuracy: 60.20\n",
            "Epoch 3/5, Train Loss: 0.1591, Train Accuracy: 60.02%, Validation Loss: 0.1616, Validation Accuracy: 60.44\n",
            "Epoch 4/5, Train Loss: 0.1493, Train Accuracy: 61.83%, Validation Loss: 0.1737, Validation Accuracy: 54.13\n"
          ]
        },
        {
          "output_type": "stream",
          "name": "stderr",
          "text": [
            "\r 15%|█▍        | 16/108 [03:43<19:00, 12.39s/it]"
          ]
        },
        {
          "output_type": "stream",
          "name": "stdout",
          "text": [
            "Epoch 5/5, Train Loss: 0.1432, Train Accuracy: 63.46%, Validation Loss: 0.1719, Validation Accuracy: 59.11\n",
            "Hyperparameters: LR=0.001, Optimizer=Adam, Loss=FocalLoss, Batch Size=128, Embedding Dim=100, Test Loss: 0.1803, Test Accuracy: 57.13\n",
            "Epoch 1/5, Train Loss: 0.1818, Train Accuracy: 58.51%, Validation Loss: 0.1577, Validation Accuracy: 60.20\n",
            "Epoch 2/5, Train Loss: 0.1611, Train Accuracy: 59.80%, Validation Loss: 0.1560, Validation Accuracy: 60.12\n",
            "Epoch 3/5, Train Loss: 0.1563, Train Accuracy: 60.12%, Validation Loss: 0.1880, Validation Accuracy: 51.64\n",
            "Epoch 4/5, Train Loss: 0.1444, Train Accuracy: 62.80%, Validation Loss: 0.1778, Validation Accuracy: 55.22\n"
          ]
        },
        {
          "output_type": "stream",
          "name": "stderr",
          "text": [
            "\r 16%|█▌        | 17/108 [03:54<18:21, 12.10s/it]"
          ]
        },
        {
          "output_type": "stream",
          "name": "stdout",
          "text": [
            "Epoch 5/5, Train Loss: 0.1347, Train Accuracy: 65.05%, Validation Loss: 0.1911, Validation Accuracy: 56.46\n",
            "Hyperparameters: LR=0.001, Optimizer=Adam, Loss=FocalLoss, Batch Size=128, Embedding Dim=200, Test Loss: 0.1817, Test Accuracy: 55.18\n",
            "Epoch 1/5, Train Loss: 0.2050, Train Accuracy: 58.32%, Validation Loss: 0.1721, Validation Accuracy: 53.04\n",
            "Epoch 2/5, Train Loss: 0.1608, Train Accuracy: 59.86%, Validation Loss: 0.1681, Validation Accuracy: 56.23\n",
            "Epoch 3/5, Train Loss: 0.1523, Train Accuracy: 61.58%, Validation Loss: 0.1669, Validation Accuracy: 58.41\n",
            "Epoch 4/5, Train Loss: 0.1434, Train Accuracy: 62.92%, Validation Loss: 0.1826, Validation Accuracy: 58.49\n"
          ]
        },
        {
          "output_type": "stream",
          "name": "stderr",
          "text": [
            "\r 17%|█▋        | 18/108 [04:11<20:26, 13.63s/it]"
          ]
        },
        {
          "output_type": "stream",
          "name": "stdout",
          "text": [
            "Epoch 5/5, Train Loss: 0.1354, Train Accuracy: 64.80%, Validation Loss: 0.1796, Validation Accuracy: 55.53\n",
            "Hyperparameters: LR=0.001, Optimizer=Adam, Loss=FocalLoss, Batch Size=128, Embedding Dim=300, Test Loss: 0.1778, Test Accuracy: 56.66\n",
            "Epoch 1/5, Train Loss: 0.6777, Train Accuracy: 58.86%, Validation Loss: 0.6723, Validation Accuracy: 60.12\n",
            "Epoch 2/5, Train Loss: 0.6744, Train Accuracy: 59.87%, Validation Loss: 0.6732, Validation Accuracy: 59.97\n",
            "Epoch 3/5, Train Loss: 0.6743, Train Accuracy: 59.87%, Validation Loss: 0.6728, Validation Accuracy: 60.05\n",
            "Epoch 4/5, Train Loss: 0.6743, Train Accuracy: 59.87%, Validation Loss: 0.6723, Validation Accuracy: 60.20\n"
          ]
        },
        {
          "output_type": "stream",
          "name": "stderr",
          "text": [
            "\r 18%|█▊        | 19/108 [04:24<19:35, 13.21s/it]"
          ]
        },
        {
          "output_type": "stream",
          "name": "stdout",
          "text": [
            "Epoch 5/5, Train Loss: 0.6741, Train Accuracy: 59.87%, Validation Loss: 0.6725, Validation Accuracy: 60.20\n",
            "Hyperparameters: LR=0.001, Optimizer=SGD, Loss=CrossEntropyLoss, Batch Size=32, Embedding Dim=100, Test Loss: 0.6753, Test Accuracy: 59.70\n",
            "Epoch 1/5, Train Loss: 0.6746, Train Accuracy: 59.84%, Validation Loss: 0.6709, Validation Accuracy: 60.28\n",
            "Epoch 2/5, Train Loss: 0.6752, Train Accuracy: 59.90%, Validation Loss: 0.6726, Validation Accuracy: 60.36\n",
            "Epoch 3/5, Train Loss: 0.6748, Train Accuracy: 59.87%, Validation Loss: 0.6761, Validation Accuracy: 59.97\n",
            "Epoch 4/5, Train Loss: 0.6751, Train Accuracy: 59.87%, Validation Loss: 0.6733, Validation Accuracy: 60.28\n"
          ]
        },
        {
          "output_type": "stream",
          "name": "stderr",
          "text": [
            "\r 19%|█▊        | 20/108 [04:38<19:40, 13.42s/it]"
          ]
        },
        {
          "output_type": "stream",
          "name": "stdout",
          "text": [
            "Epoch 5/5, Train Loss: 0.6746, Train Accuracy: 59.87%, Validation Loss: 0.6737, Validation Accuracy: 60.28\n",
            "Hyperparameters: LR=0.001, Optimizer=SGD, Loss=CrossEntropyLoss, Batch Size=32, Embedding Dim=200, Test Loss: 0.6735, Test Accuracy: 59.63\n",
            "Epoch 1/5, Train Loss: 0.6796, Train Accuracy: 58.98%, Validation Loss: 0.6692, Validation Accuracy: 60.28\n",
            "Epoch 2/5, Train Loss: 0.6758, Train Accuracy: 59.79%, Validation Loss: 0.6694, Validation Accuracy: 60.59\n",
            "Epoch 3/5, Train Loss: 0.6753, Train Accuracy: 59.76%, Validation Loss: 0.6682, Validation Accuracy: 60.28\n",
            "Epoch 4/5, Train Loss: 0.6743, Train Accuracy: 59.80%, Validation Loss: 0.6711, Validation Accuracy: 60.44\n"
          ]
        },
        {
          "output_type": "stream",
          "name": "stderr",
          "text": [
            "\r 19%|█▉        | 21/108 [04:55<21:13, 14.64s/it]"
          ]
        },
        {
          "output_type": "stream",
          "name": "stdout",
          "text": [
            "Epoch 5/5, Train Loss: 0.6748, Train Accuracy: 59.81%, Validation Loss: 0.6690, Validation Accuracy: 60.28\n",
            "Hyperparameters: LR=0.001, Optimizer=SGD, Loss=CrossEntropyLoss, Batch Size=32, Embedding Dim=300, Test Loss: 0.6748, Test Accuracy: 59.70\n",
            "Epoch 1/5, Train Loss: 0.6752, Train Accuracy: 59.87%, Validation Loss: 0.6697, Validation Accuracy: 60.20\n",
            "Epoch 2/5, Train Loss: 0.6749, Train Accuracy: 59.87%, Validation Loss: 0.6693, Validation Accuracy: 60.20\n",
            "Epoch 3/5, Train Loss: 0.6751, Train Accuracy: 59.87%, Validation Loss: 0.6707, Validation Accuracy: 60.20\n",
            "Epoch 4/5, Train Loss: 0.6747, Train Accuracy: 59.87%, Validation Loss: 0.6695, Validation Accuracy: 60.20\n"
          ]
        },
        {
          "output_type": "stream",
          "name": "stderr",
          "text": [
            "\r 20%|██        | 22/108 [05:02<17:38, 12.31s/it]"
          ]
        },
        {
          "output_type": "stream",
          "name": "stdout",
          "text": [
            "Epoch 5/5, Train Loss: 0.6749, Train Accuracy: 59.87%, Validation Loss: 0.6712, Validation Accuracy: 60.20\n",
            "Hyperparameters: LR=0.001, Optimizer=SGD, Loss=CrossEntropyLoss, Batch Size=64, Embedding Dim=100, Test Loss: 0.6742, Test Accuracy: 59.70\n",
            "Epoch 1/5, Train Loss: 0.6753, Train Accuracy: 59.76%, Validation Loss: 0.6721, Validation Accuracy: 59.97\n",
            "Epoch 2/5, Train Loss: 0.6749, Train Accuracy: 59.86%, Validation Loss: 0.6682, Validation Accuracy: 60.28\n",
            "Epoch 3/5, Train Loss: 0.6745, Train Accuracy: 59.86%, Validation Loss: 0.6715, Validation Accuracy: 60.44\n",
            "Epoch 4/5, Train Loss: 0.6745, Train Accuracy: 59.86%, Validation Loss: 0.6688, Validation Accuracy: 60.28\n"
          ]
        },
        {
          "output_type": "stream",
          "name": "stderr",
          "text": [
            "\r 21%|██▏       | 23/108 [05:13<16:52, 11.91s/it]"
          ]
        },
        {
          "output_type": "stream",
          "name": "stdout",
          "text": [
            "Epoch 5/5, Train Loss: 0.6745, Train Accuracy: 59.86%, Validation Loss: 0.6703, Validation Accuracy: 60.28\n",
            "Hyperparameters: LR=0.001, Optimizer=SGD, Loss=CrossEntropyLoss, Batch Size=64, Embedding Dim=200, Test Loss: 0.6729, Test Accuracy: 59.78\n",
            "Epoch 1/5, Train Loss: 0.6757, Train Accuracy: 59.54%, Validation Loss: 0.6711, Validation Accuracy: 60.20\n",
            "Epoch 2/5, Train Loss: 0.6746, Train Accuracy: 59.87%, Validation Loss: 0.6701, Validation Accuracy: 60.20\n",
            "Epoch 3/5, Train Loss: 0.6745, Train Accuracy: 59.87%, Validation Loss: 0.6710, Validation Accuracy: 60.20\n",
            "Epoch 4/5, Train Loss: 0.6747, Train Accuracy: 59.87%, Validation Loss: 0.6727, Validation Accuracy: 60.20\n"
          ]
        },
        {
          "output_type": "stream",
          "name": "stderr",
          "text": [
            "\r 22%|██▏       | 24/108 [05:30<18:39, 13.33s/it]"
          ]
        },
        {
          "output_type": "stream",
          "name": "stdout",
          "text": [
            "Epoch 5/5, Train Loss: 0.6746, Train Accuracy: 59.87%, Validation Loss: 0.6704, Validation Accuracy: 60.20\n",
            "Hyperparameters: LR=0.001, Optimizer=SGD, Loss=CrossEntropyLoss, Batch Size=64, Embedding Dim=300, Test Loss: 0.6756, Test Accuracy: 59.70\n",
            "Epoch 1/5, Train Loss: 0.6747, Train Accuracy: 59.86%, Validation Loss: 0.6674, Validation Accuracy: 60.12\n",
            "Epoch 2/5, Train Loss: 0.6737, Train Accuracy: 59.84%, Validation Loss: 0.6671, Validation Accuracy: 60.12\n",
            "Epoch 3/5, Train Loss: 0.6744, Train Accuracy: 59.85%, Validation Loss: 0.6683, Validation Accuracy: 59.97\n",
            "Epoch 4/5, Train Loss: 0.6744, Train Accuracy: 59.85%, Validation Loss: 0.6688, Validation Accuracy: 60.05\n"
          ]
        },
        {
          "output_type": "stream",
          "name": "stderr",
          "text": [
            "\r 23%|██▎       | 25/108 [05:36<15:47, 11.41s/it]"
          ]
        },
        {
          "output_type": "stream",
          "name": "stdout",
          "text": [
            "Epoch 5/5, Train Loss: 0.6744, Train Accuracy: 59.82%, Validation Loss: 0.6676, Validation Accuracy: 60.12\n",
            "Hyperparameters: LR=0.001, Optimizer=SGD, Loss=CrossEntropyLoss, Batch Size=128, Embedding Dim=100, Test Loss: 0.6776, Test Accuracy: 59.63\n",
            "Epoch 1/5, Train Loss: 0.6792, Train Accuracy: 58.07%, Validation Loss: 0.6662, Validation Accuracy: 59.66\n",
            "Epoch 2/5, Train Loss: 0.6752, Train Accuracy: 59.77%, Validation Loss: 0.6663, Validation Accuracy: 59.58\n",
            "Epoch 3/5, Train Loss: 0.6752, Train Accuracy: 59.74%, Validation Loss: 0.6695, Validation Accuracy: 58.80\n",
            "Epoch 4/5, Train Loss: 0.6748, Train Accuracy: 59.74%, Validation Loss: 0.6682, Validation Accuracy: 59.50\n"
          ]
        },
        {
          "output_type": "stream",
          "name": "stderr",
          "text": [
            "\r 24%|██▍       | 26/108 [05:47<15:23, 11.26s/it]"
          ]
        },
        {
          "output_type": "stream",
          "name": "stdout",
          "text": [
            "Epoch 5/5, Train Loss: 0.6749, Train Accuracy: 59.72%, Validation Loss: 0.6668, Validation Accuracy: 59.66\n",
            "Hyperparameters: LR=0.001, Optimizer=SGD, Loss=CrossEntropyLoss, Batch Size=128, Embedding Dim=200, Test Loss: 0.6767, Test Accuracy: 59.94\n",
            "Epoch 1/5, Train Loss: 0.6870, Train Accuracy: 57.09%, Validation Loss: 0.6629, Validation Accuracy: 60.20\n",
            "Epoch 2/5, Train Loss: 0.6744, Train Accuracy: 59.87%, Validation Loss: 0.6658, Validation Accuracy: 60.20\n",
            "Epoch 3/5, Train Loss: 0.6735, Train Accuracy: 59.87%, Validation Loss: 0.6631, Validation Accuracy: 60.20\n",
            "Epoch 4/5, Train Loss: 0.6739, Train Accuracy: 59.87%, Validation Loss: 0.6640, Validation Accuracy: 60.20\n"
          ]
        },
        {
          "output_type": "stream",
          "name": "stderr",
          "text": [
            "\r 25%|██▌       | 27/108 [06:04<17:25, 12.91s/it]"
          ]
        },
        {
          "output_type": "stream",
          "name": "stdout",
          "text": [
            "Epoch 5/5, Train Loss: 0.6739, Train Accuracy: 59.87%, Validation Loss: 0.6650, Validation Accuracy: 60.20\n",
            "Hyperparameters: LR=0.001, Optimizer=SGD, Loss=CrossEntropyLoss, Batch Size=128, Embedding Dim=300, Test Loss: 0.6736, Test Accuracy: 59.70\n",
            "Epoch 1/5, Train Loss: 0.1637, Train Accuracy: 59.32%, Validation Loss: 0.1613, Validation Accuracy: 60.36\n",
            "Epoch 2/5, Train Loss: 0.1626, Train Accuracy: 59.87%, Validation Loss: 0.1612, Validation Accuracy: 60.36\n",
            "Epoch 3/5, Train Loss: 0.1627, Train Accuracy: 59.87%, Validation Loss: 0.1608, Validation Accuracy: 60.36\n",
            "Epoch 4/5, Train Loss: 0.1627, Train Accuracy: 59.87%, Validation Loss: 0.1618, Validation Accuracy: 60.44\n"
          ]
        },
        {
          "output_type": "stream",
          "name": "stderr",
          "text": [
            "\r 26%|██▌       | 28/108 [06:17<17:07, 12.84s/it]"
          ]
        },
        {
          "output_type": "stream",
          "name": "stdout",
          "text": [
            "Epoch 5/5, Train Loss: 0.1628, Train Accuracy: 59.86%, Validation Loss: 0.1614, Validation Accuracy: 60.36\n",
            "Hyperparameters: LR=0.001, Optimizer=SGD, Loss=FocalLoss, Batch Size=32, Embedding Dim=100, Test Loss: 0.1620, Test Accuracy: 59.70\n",
            "Epoch 1/5, Train Loss: 0.1640, Train Accuracy: 59.32%, Validation Loss: 0.1627, Validation Accuracy: 60.20\n",
            "Epoch 2/5, Train Loss: 0.1630, Train Accuracy: 59.87%, Validation Loss: 0.1623, Validation Accuracy: 60.20\n",
            "Epoch 3/5, Train Loss: 0.1630, Train Accuracy: 59.87%, Validation Loss: 0.1623, Validation Accuracy: 60.20\n",
            "Epoch 4/5, Train Loss: 0.1629, Train Accuracy: 59.87%, Validation Loss: 0.1623, Validation Accuracy: 60.20\n"
          ]
        },
        {
          "output_type": "stream",
          "name": "stderr",
          "text": [
            "\r 27%|██▋       | 29/108 [06:31<17:23, 13.21s/it]"
          ]
        },
        {
          "output_type": "stream",
          "name": "stdout",
          "text": [
            "Epoch 5/5, Train Loss: 0.1631, Train Accuracy: 59.87%, Validation Loss: 0.1621, Validation Accuracy: 60.20\n",
            "Hyperparameters: LR=0.001, Optimizer=SGD, Loss=FocalLoss, Batch Size=32, Embedding Dim=200, Test Loss: 0.1621, Test Accuracy: 59.70\n",
            "Epoch 1/5, Train Loss: 0.1633, Train Accuracy: 59.86%, Validation Loss: 0.1611, Validation Accuracy: 60.20\n",
            "Epoch 2/5, Train Loss: 0.1631, Train Accuracy: 59.85%, Validation Loss: 0.1608, Validation Accuracy: 60.20\n",
            "Epoch 3/5, Train Loss: 0.1630, Train Accuracy: 59.86%, Validation Loss: 0.1609, Validation Accuracy: 60.20\n",
            "Epoch 4/5, Train Loss: 0.1631, Train Accuracy: 59.87%, Validation Loss: 0.1606, Validation Accuracy: 60.20\n"
          ]
        },
        {
          "output_type": "stream",
          "name": "stderr",
          "text": [
            "\r 28%|██▊       | 30/108 [06:49<18:58, 14.60s/it]"
          ]
        },
        {
          "output_type": "stream",
          "name": "stdout",
          "text": [
            "Epoch 5/5, Train Loss: 0.1631, Train Accuracy: 59.87%, Validation Loss: 0.1609, Validation Accuracy: 60.20\n",
            "Hyperparameters: LR=0.001, Optimizer=SGD, Loss=FocalLoss, Batch Size=32, Embedding Dim=300, Test Loss: 0.1623, Test Accuracy: 59.78\n",
            "Epoch 1/5, Train Loss: 0.1649, Train Accuracy: 58.42%, Validation Loss: 0.1600, Validation Accuracy: 60.20\n",
            "Epoch 2/5, Train Loss: 0.1626, Train Accuracy: 59.87%, Validation Loss: 0.1598, Validation Accuracy: 60.20\n",
            "Epoch 3/5, Train Loss: 0.1626, Train Accuracy: 59.87%, Validation Loss: 0.1598, Validation Accuracy: 60.20\n",
            "Epoch 4/5, Train Loss: 0.1625, Train Accuracy: 59.87%, Validation Loss: 0.1602, Validation Accuracy: 60.20\n"
          ]
        },
        {
          "output_type": "stream",
          "name": "stderr",
          "text": [
            "\r 29%|██▊       | 31/108 [06:57<16:08, 12.58s/it]"
          ]
        },
        {
          "output_type": "stream",
          "name": "stdout",
          "text": [
            "Epoch 5/5, Train Loss: 0.1625, Train Accuracy: 59.87%, Validation Loss: 0.1598, Validation Accuracy: 60.20\n",
            "Hyperparameters: LR=0.001, Optimizer=SGD, Loss=FocalLoss, Batch Size=64, Embedding Dim=100, Test Loss: 0.1610, Test Accuracy: 59.70\n",
            "Epoch 1/5, Train Loss: 0.1706, Train Accuracy: 57.18%, Validation Loss: 0.1620, Validation Accuracy: 60.20\n",
            "Epoch 2/5, Train Loss: 0.1626, Train Accuracy: 59.87%, Validation Loss: 0.1617, Validation Accuracy: 60.20\n",
            "Epoch 3/5, Train Loss: 0.1626, Train Accuracy: 59.87%, Validation Loss: 0.1618, Validation Accuracy: 60.20\n",
            "Epoch 4/5, Train Loss: 0.1625, Train Accuracy: 59.87%, Validation Loss: 0.1616, Validation Accuracy: 60.20\n"
          ]
        },
        {
          "output_type": "stream",
          "name": "stderr",
          "text": [
            "\r 30%|██▉       | 32/108 [07:07<15:14, 12.03s/it]"
          ]
        },
        {
          "output_type": "stream",
          "name": "stdout",
          "text": [
            "Epoch 5/5, Train Loss: 0.1628, Train Accuracy: 59.87%, Validation Loss: 0.1617, Validation Accuracy: 60.20\n",
            "Hyperparameters: LR=0.001, Optimizer=SGD, Loss=FocalLoss, Batch Size=64, Embedding Dim=200, Test Loss: 0.1608, Test Accuracy: 59.70\n",
            "Epoch 1/5, Train Loss: 0.1623, Train Accuracy: 59.87%, Validation Loss: 0.1597, Validation Accuracy: 60.20\n",
            "Epoch 2/5, Train Loss: 0.1626, Train Accuracy: 59.87%, Validation Loss: 0.1601, Validation Accuracy: 60.20\n",
            "Epoch 3/5, Train Loss: 0.1622, Train Accuracy: 59.87%, Validation Loss: 0.1595, Validation Accuracy: 60.20\n",
            "Epoch 4/5, Train Loss: 0.1624, Train Accuracy: 59.87%, Validation Loss: 0.1605, Validation Accuracy: 60.20\n"
          ]
        },
        {
          "output_type": "stream",
          "name": "stderr",
          "text": [
            "\r 31%|███       | 33/108 [07:24<16:45, 13.40s/it]"
          ]
        },
        {
          "output_type": "stream",
          "name": "stdout",
          "text": [
            "Epoch 5/5, Train Loss: 0.1625, Train Accuracy: 59.87%, Validation Loss: 0.1597, Validation Accuracy: 60.20\n",
            "Hyperparameters: LR=0.001, Optimizer=SGD, Loss=FocalLoss, Batch Size=64, Embedding Dim=300, Test Loss: 0.1628, Test Accuracy: 59.70\n",
            "Epoch 1/5, Train Loss: 0.1653, Train Accuracy: 58.37%, Validation Loss: 0.1587, Validation Accuracy: 60.05\n",
            "Epoch 2/5, Train Loss: 0.1626, Train Accuracy: 59.86%, Validation Loss: 0.1583, Validation Accuracy: 60.12\n",
            "Epoch 3/5, Train Loss: 0.1621, Train Accuracy: 59.86%, Validation Loss: 0.1581, Validation Accuracy: 60.20\n",
            "Epoch 4/5, Train Loss: 0.1623, Train Accuracy: 59.87%, Validation Loss: 0.1584, Validation Accuracy: 60.12\n"
          ]
        },
        {
          "output_type": "stream",
          "name": "stderr",
          "text": [
            "\r 31%|███▏      | 34/108 [07:31<14:09, 11.47s/it]"
          ]
        },
        {
          "output_type": "stream",
          "name": "stdout",
          "text": [
            "Epoch 5/5, Train Loss: 0.1626, Train Accuracy: 59.87%, Validation Loss: 0.1583, Validation Accuracy: 60.12\n",
            "Hyperparameters: LR=0.001, Optimizer=SGD, Loss=FocalLoss, Batch Size=128, Embedding Dim=100, Test Loss: 0.1625, Test Accuracy: 59.70\n",
            "Epoch 1/5, Train Loss: 0.1631, Train Accuracy: 59.87%, Validation Loss: 0.1589, Validation Accuracy: 60.20\n",
            "Epoch 2/5, Train Loss: 0.1622, Train Accuracy: 59.87%, Validation Loss: 0.1593, Validation Accuracy: 60.20\n",
            "Epoch 3/5, Train Loss: 0.1626, Train Accuracy: 59.87%, Validation Loss: 0.1592, Validation Accuracy: 60.20\n",
            "Epoch 4/5, Train Loss: 0.1625, Train Accuracy: 59.87%, Validation Loss: 0.1597, Validation Accuracy: 60.20\n"
          ]
        },
        {
          "output_type": "stream",
          "name": "stderr",
          "text": [
            "\r 32%|███▏      | 35/108 [07:42<13:46, 11.32s/it]"
          ]
        },
        {
          "output_type": "stream",
          "name": "stdout",
          "text": [
            "Epoch 5/5, Train Loss: 0.1625, Train Accuracy: 59.87%, Validation Loss: 0.1595, Validation Accuracy: 60.20\n",
            "Hyperparameters: LR=0.001, Optimizer=SGD, Loss=FocalLoss, Batch Size=128, Embedding Dim=200, Test Loss: 0.1627, Test Accuracy: 59.70\n",
            "Epoch 1/5, Train Loss: 0.1631, Train Accuracy: 59.65%, Validation Loss: 0.1595, Validation Accuracy: 60.05\n",
            "Epoch 2/5, Train Loss: 0.1623, Train Accuracy: 59.78%, Validation Loss: 0.1580, Validation Accuracy: 60.20\n",
            "Epoch 3/5, Train Loss: 0.1621, Train Accuracy: 59.75%, Validation Loss: 0.1574, Validation Accuracy: 60.36\n",
            "Epoch 4/5, Train Loss: 0.1624, Train Accuracy: 59.84%, Validation Loss: 0.1590, Validation Accuracy: 60.12\n"
          ]
        },
        {
          "output_type": "stream",
          "name": "stderr",
          "text": [
            "\r 33%|███▎      | 36/108 [07:59<15:33, 12.97s/it]"
          ]
        },
        {
          "output_type": "stream",
          "name": "stdout",
          "text": [
            "Epoch 5/5, Train Loss: 0.1623, Train Accuracy: 59.85%, Validation Loss: 0.1592, Validation Accuracy: 60.36\n",
            "Hyperparameters: LR=0.001, Optimizer=SGD, Loss=FocalLoss, Batch Size=128, Embedding Dim=300, Test Loss: 0.1660, Test Accuracy: 59.16\n",
            "Epoch 1/5, Train Loss: 0.6871, Train Accuracy: 59.31%, Validation Loss: 0.6708, Validation Accuracy: 60.20\n",
            "Epoch 2/5, Train Loss: 0.6750, Train Accuracy: 59.82%, Validation Loss: 0.6721, Validation Accuracy: 60.20\n",
            "Epoch 3/5, Train Loss: 0.6746, Train Accuracy: 59.47%, Validation Loss: 0.6704, Validation Accuracy: 60.20\n",
            "Epoch 4/5, Train Loss: 0.6693, Train Accuracy: 59.85%, Validation Loss: 0.6836, Validation Accuracy: 54.83\n"
          ]
        },
        {
          "output_type": "stream",
          "name": "stderr",
          "text": [
            "\r 34%|███▍      | 37/108 [08:11<14:56, 12.63s/it]"
          ]
        },
        {
          "output_type": "stream",
          "name": "stdout",
          "text": [
            "Epoch 5/5, Train Loss: 0.6661, Train Accuracy: 59.71%, Validation Loss: 0.6772, Validation Accuracy: 58.02\n",
            "Hyperparameters: LR=0.001, Optimizer=RMSprop, Loss=CrossEntropyLoss, Batch Size=32, Embedding Dim=100, Test Loss: 0.6809, Test Accuracy: 56.74\n",
            "Epoch 1/5, Train Loss: 0.7151, Train Accuracy: 58.14%, Validation Loss: 0.6714, Validation Accuracy: 60.20\n",
            "Epoch 2/5, Train Loss: 0.6782, Train Accuracy: 59.40%, Validation Loss: 0.6920, Validation Accuracy: 60.20\n",
            "Epoch 3/5, Train Loss: 0.6763, Train Accuracy: 59.67%, Validation Loss: 0.6710, Validation Accuracy: 60.20\n",
            "Epoch 4/5, Train Loss: 0.6753, Train Accuracy: 59.71%, Validation Loss: 0.6716, Validation Accuracy: 60.20\n"
          ]
        },
        {
          "output_type": "stream",
          "name": "stderr",
          "text": [
            "\r 35%|███▌      | 38/108 [08:25<15:27, 13.25s/it]"
          ]
        },
        {
          "output_type": "stream",
          "name": "stdout",
          "text": [
            "Epoch 5/5, Train Loss: 0.6757, Train Accuracy: 59.75%, Validation Loss: 0.6709, Validation Accuracy: 60.20\n",
            "Hyperparameters: LR=0.001, Optimizer=RMSprop, Loss=CrossEntropyLoss, Batch Size=32, Embedding Dim=200, Test Loss: 0.6738, Test Accuracy: 59.70\n",
            "Epoch 1/5, Train Loss: 0.7246, Train Accuracy: 57.01%, Validation Loss: 0.6764, Validation Accuracy: 60.20\n",
            "Epoch 2/5, Train Loss: 0.6776, Train Accuracy: 59.15%, Validation Loss: 0.7009, Validation Accuracy: 60.20\n",
            "Epoch 3/5, Train Loss: 0.6773, Train Accuracy: 59.85%, Validation Loss: 0.6710, Validation Accuracy: 60.20\n",
            "Epoch 4/5, Train Loss: 0.6754, Train Accuracy: 59.67%, Validation Loss: 0.6709, Validation Accuracy: 60.20\n"
          ]
        },
        {
          "output_type": "stream",
          "name": "stderr",
          "text": [
            "\r 36%|███▌      | 39/108 [08:45<17:22, 15.11s/it]"
          ]
        },
        {
          "output_type": "stream",
          "name": "stdout",
          "text": [
            "Epoch 5/5, Train Loss: 0.6760, Train Accuracy: 59.87%, Validation Loss: 0.6719, Validation Accuracy: 60.20\n",
            "Hyperparameters: LR=0.001, Optimizer=RMSprop, Loss=CrossEntropyLoss, Batch Size=32, Embedding Dim=300, Test Loss: 0.6754, Test Accuracy: 59.70\n",
            "Epoch 1/5, Train Loss: 0.7027, Train Accuracy: 59.38%, Validation Loss: 0.6776, Validation Accuracy: 60.20\n",
            "Epoch 2/5, Train Loss: 0.6750, Train Accuracy: 59.79%, Validation Loss: 0.6710, Validation Accuracy: 60.44\n",
            "Epoch 3/5, Train Loss: 0.6676, Train Accuracy: 60.00%, Validation Loss: 0.6839, Validation Accuracy: 60.20\n",
            "Epoch 4/5, Train Loss: 0.6572, Train Accuracy: 61.21%, Validation Loss: 0.6918, Validation Accuracy: 54.60\n"
          ]
        },
        {
          "output_type": "stream",
          "name": "stderr",
          "text": [
            "\r 37%|███▋      | 40/108 [08:52<14:35, 12.87s/it]"
          ]
        },
        {
          "output_type": "stream",
          "name": "stdout",
          "text": [
            "Epoch 5/5, Train Loss: 0.6506, Train Accuracy: 61.72%, Validation Loss: 0.6899, Validation Accuracy: 57.71\n",
            "Hyperparameters: LR=0.001, Optimizer=RMSprop, Loss=CrossEntropyLoss, Batch Size=64, Embedding Dim=100, Test Loss: 0.7008, Test Accuracy: 58.85\n",
            "Epoch 1/5, Train Loss: 0.7342, Train Accuracy: 57.63%, Validation Loss: 0.6948, Validation Accuracy: 60.20\n",
            "Epoch 2/5, Train Loss: 0.6787, Train Accuracy: 59.67%, Validation Loss: 0.6706, Validation Accuracy: 60.20\n",
            "Epoch 3/5, Train Loss: 0.6780, Train Accuracy: 59.11%, Validation Loss: 0.6699, Validation Accuracy: 60.20\n",
            "Epoch 4/5, Train Loss: 0.6776, Train Accuracy: 59.87%, Validation Loss: 0.6779, Validation Accuracy: 60.20\n"
          ]
        },
        {
          "output_type": "stream",
          "name": "stderr",
          "text": [
            "\r 38%|███▊      | 41/108 [09:04<13:52, 12.43s/it]"
          ]
        },
        {
          "output_type": "stream",
          "name": "stdout",
          "text": [
            "Epoch 5/5, Train Loss: 0.6757, Train Accuracy: 59.87%, Validation Loss: 0.6794, Validation Accuracy: 60.20\n",
            "Hyperparameters: LR=0.001, Optimizer=RMSprop, Loss=CrossEntropyLoss, Batch Size=64, Embedding Dim=200, Test Loss: 0.6807, Test Accuracy: 59.70\n",
            "Epoch 1/5, Train Loss: 0.7647, Train Accuracy: 56.66%, Validation Loss: 0.6725, Validation Accuracy: 60.20\n",
            "Epoch 2/5, Train Loss: 0.6842, Train Accuracy: 57.90%, Validation Loss: 0.6743, Validation Accuracy: 60.20\n",
            "Epoch 3/5, Train Loss: 0.6804, Train Accuracy: 58.60%, Validation Loss: 0.7187, Validation Accuracy: 39.80\n",
            "Epoch 4/5, Train Loss: 0.6780, Train Accuracy: 59.50%, Validation Loss: 0.6716, Validation Accuracy: 60.20\n"
          ]
        },
        {
          "output_type": "stream",
          "name": "stderr",
          "text": [
            "\r 39%|███▉      | 42/108 [09:21<15:12, 13.82s/it]"
          ]
        },
        {
          "output_type": "stream",
          "name": "stdout",
          "text": [
            "Epoch 5/5, Train Loss: 0.6774, Train Accuracy: 59.87%, Validation Loss: 0.6711, Validation Accuracy: 60.20\n",
            "Hyperparameters: LR=0.001, Optimizer=RMSprop, Loss=CrossEntropyLoss, Batch Size=64, Embedding Dim=300, Test Loss: 0.6759, Test Accuracy: 59.70\n",
            "Epoch 1/5, Train Loss: 0.7205, Train Accuracy: 59.52%, Validation Loss: 0.6842, Validation Accuracy: 60.05\n",
            "Epoch 2/5, Train Loss: 0.6755, Train Accuracy: 59.74%, Validation Loss: 0.7385, Validation Accuracy: 39.80\n",
            "Epoch 3/5, Train Loss: 0.6726, Train Accuracy: 59.32%, Validation Loss: 0.6746, Validation Accuracy: 56.78\n",
            "Epoch 4/5, Train Loss: 0.6618, Train Accuracy: 60.41%, Validation Loss: 0.6647, Validation Accuracy: 57.55\n"
          ]
        },
        {
          "output_type": "stream",
          "name": "stderr",
          "text": [
            "\r 40%|███▉      | 43/108 [09:28<12:41, 11.72s/it]"
          ]
        },
        {
          "output_type": "stream",
          "name": "stdout",
          "text": [
            "Epoch 5/5, Train Loss: 0.6478, Train Accuracy: 62.48%, Validation Loss: 0.6683, Validation Accuracy: 56.15\n",
            "Hyperparameters: LR=0.001, Optimizer=RMSprop, Loss=CrossEntropyLoss, Batch Size=128, Embedding Dim=100, Test Loss: 0.6744, Test Accuracy: 57.44\n",
            "Epoch 1/5, Train Loss: 0.7812, Train Accuracy: 58.95%, Validation Loss: 0.6723, Validation Accuracy: 60.20\n",
            "Epoch 2/5, Train Loss: 0.6785, Train Accuracy: 59.53%, Validation Loss: 0.6710, Validation Accuracy: 60.20\n",
            "Epoch 3/5, Train Loss: 0.6760, Train Accuracy: 59.87%, Validation Loss: 0.6677, Validation Accuracy: 60.20\n",
            "Epoch 4/5, Train Loss: 0.6749, Train Accuracy: 59.87%, Validation Loss: 0.6664, Validation Accuracy: 60.20\n"
          ]
        },
        {
          "output_type": "stream",
          "name": "stderr",
          "text": [
            "\r 41%|████      | 44/108 [09:39<12:21, 11.58s/it]"
          ]
        },
        {
          "output_type": "stream",
          "name": "stdout",
          "text": [
            "Epoch 5/5, Train Loss: 0.6756, Train Accuracy: 59.87%, Validation Loss: 0.6720, Validation Accuracy: 60.20\n",
            "Hyperparameters: LR=0.001, Optimizer=RMSprop, Loss=CrossEntropyLoss, Batch Size=128, Embedding Dim=200, Test Loss: 0.6749, Test Accuracy: 59.70\n",
            "Epoch 1/5, Train Loss: 0.8119, Train Accuracy: 56.56%, Validation Loss: 0.6767, Validation Accuracy: 60.20\n",
            "Epoch 2/5, Train Loss: 0.6873, Train Accuracy: 57.55%, Validation Loss: 0.6701, Validation Accuracy: 60.20\n",
            "Epoch 3/5, Train Loss: 0.6818, Train Accuracy: 58.84%, Validation Loss: 0.6691, Validation Accuracy: 60.20\n",
            "Epoch 4/5, Train Loss: 0.6792, Train Accuracy: 59.66%, Validation Loss: 0.6733, Validation Accuracy: 60.20\n"
          ]
        },
        {
          "output_type": "stream",
          "name": "stderr",
          "text": [
            "\r 42%|████▏     | 45/108 [09:56<13:51, 13.20s/it]"
          ]
        },
        {
          "output_type": "stream",
          "name": "stdout",
          "text": [
            "Epoch 5/5, Train Loss: 0.6780, Train Accuracy: 59.58%, Validation Loss: 0.6702, Validation Accuracy: 60.20\n",
            "Hyperparameters: LR=0.001, Optimizer=RMSprop, Loss=CrossEntropyLoss, Batch Size=128, Embedding Dim=300, Test Loss: 0.6778, Test Accuracy: 59.70\n",
            "Epoch 1/5, Train Loss: 0.1784, Train Accuracy: 58.74%, Validation Loss: 0.1610, Validation Accuracy: 60.20\n",
            "Epoch 2/5, Train Loss: 0.1629, Train Accuracy: 59.37%, Validation Loss: 0.1604, Validation Accuracy: 60.20\n",
            "Epoch 3/5, Train Loss: 0.1597, Train Accuracy: 59.90%, Validation Loss: 0.1650, Validation Accuracy: 58.72\n",
            "Epoch 4/5, Train Loss: 0.1537, Train Accuracy: 60.92%, Validation Loss: 0.1797, Validation Accuracy: 59.35\n"
          ]
        },
        {
          "output_type": "stream",
          "name": "stderr",
          "text": [
            "\r 43%|████▎     | 46/108 [10:09<13:37, 13.18s/it]"
          ]
        },
        {
          "output_type": "stream",
          "name": "stdout",
          "text": [
            "Epoch 5/5, Train Loss: 0.1502, Train Accuracy: 61.87%, Validation Loss: 0.1733, Validation Accuracy: 58.57\n",
            "Hyperparameters: LR=0.001, Optimizer=RMSprop, Loss=FocalLoss, Batch Size=32, Embedding Dim=100, Test Loss: 0.1692, Test Accuracy: 58.77\n",
            "Epoch 1/5, Train Loss: 0.1970, Train Accuracy: 58.23%, Validation Loss: 0.1706, Validation Accuracy: 59.27\n",
            "Epoch 2/5, Train Loss: 0.1643, Train Accuracy: 59.60%, Validation Loss: 0.1611, Validation Accuracy: 60.20\n",
            "Epoch 3/5, Train Loss: 0.1648, Train Accuracy: 59.65%, Validation Loss: 0.1620, Validation Accuracy: 60.20\n",
            "Epoch 4/5, Train Loss: 0.1668, Train Accuracy: 59.50%, Validation Loss: 0.1627, Validation Accuracy: 60.20\n"
          ]
        },
        {
          "output_type": "stream",
          "name": "stderr",
          "text": [
            "\r 44%|████▎     | 47/108 [10:24<13:58, 13.74s/it]"
          ]
        },
        {
          "output_type": "stream",
          "name": "stdout",
          "text": [
            "Epoch 5/5, Train Loss: 0.1639, Train Accuracy: 59.81%, Validation Loss: 0.1609, Validation Accuracy: 60.20\n",
            "Hyperparameters: LR=0.001, Optimizer=RMSprop, Loss=FocalLoss, Batch Size=32, Embedding Dim=200, Test Loss: 0.1623, Test Accuracy: 59.70\n",
            "Epoch 1/5, Train Loss: 0.2074, Train Accuracy: 56.96%, Validation Loss: 0.1627, Validation Accuracy: 60.20\n",
            "Epoch 2/5, Train Loss: 0.1668, Train Accuracy: 58.51%, Validation Loss: 0.1627, Validation Accuracy: 60.20\n",
            "Epoch 3/5, Train Loss: 0.1644, Train Accuracy: 59.54%, Validation Loss: 0.1663, Validation Accuracy: 60.20\n",
            "Epoch 4/5, Train Loss: 0.1640, Train Accuracy: 59.77%, Validation Loss: 0.1610, Validation Accuracy: 60.20\n"
          ]
        },
        {
          "output_type": "stream",
          "name": "stderr",
          "text": [
            "\r 44%|████▍     | 48/108 [10:44<15:27, 15.46s/it]"
          ]
        },
        {
          "output_type": "stream",
          "name": "stdout",
          "text": [
            "Epoch 5/5, Train Loss: 0.1641, Train Accuracy: 59.77%, Validation Loss: 0.1615, Validation Accuracy: 60.20\n",
            "Hyperparameters: LR=0.001, Optimizer=RMSprop, Loss=FocalLoss, Batch Size=32, Embedding Dim=300, Test Loss: 0.1634, Test Accuracy: 59.70\n",
            "Epoch 1/5, Train Loss: 0.1858, Train Accuracy: 58.88%, Validation Loss: 0.1613, Validation Accuracy: 60.20\n",
            "Epoch 2/5, Train Loss: 0.1638, Train Accuracy: 59.62%, Validation Loss: 0.2231, Validation Accuracy: 39.80\n",
            "Epoch 3/5, Train Loss: 0.1590, Train Accuracy: 60.00%, Validation Loss: 0.1697, Validation Accuracy: 55.53\n",
            "Epoch 4/5, Train Loss: 0.1530, Train Accuracy: 61.02%, Validation Loss: 0.1690, Validation Accuracy: 56.23\n"
          ]
        },
        {
          "output_type": "stream",
          "name": "stderr",
          "text": [
            "\r 45%|████▌     | 49/108 [10:51<12:59, 13.21s/it]"
          ]
        },
        {
          "output_type": "stream",
          "name": "stdout",
          "text": [
            "Epoch 5/5, Train Loss: 0.1479, Train Accuracy: 62.50%, Validation Loss: 0.1764, Validation Accuracy: 56.70\n",
            "Hyperparameters: LR=0.001, Optimizer=RMSprop, Loss=FocalLoss, Batch Size=64, Embedding Dim=100, Test Loss: 0.1699, Test Accuracy: 55.65\n",
            "Epoch 1/5, Train Loss: 0.2067, Train Accuracy: 57.49%, Validation Loss: 0.1614, Validation Accuracy: 60.20\n",
            "Epoch 2/5, Train Loss: 0.1648, Train Accuracy: 59.36%, Validation Loss: 0.1697, Validation Accuracy: 57.87\n",
            "Epoch 3/5, Train Loss: 0.1643, Train Accuracy: 59.61%, Validation Loss: 0.1669, Validation Accuracy: 60.20\n",
            "Epoch 4/5, Train Loss: 0.1635, Train Accuracy: 59.87%, Validation Loss: 0.1667, Validation Accuracy: 60.05\n"
          ]
        },
        {
          "output_type": "stream",
          "name": "stderr",
          "text": [
            "\r 46%|████▋     | 50/108 [11:03<12:12, 12.63s/it]"
          ]
        },
        {
          "output_type": "stream",
          "name": "stdout",
          "text": [
            "Epoch 5/5, Train Loss: 0.1630, Train Accuracy: 59.87%, Validation Loss: 0.1602, Validation Accuracy: 60.20\n",
            "Hyperparameters: LR=0.001, Optimizer=RMSprop, Loss=FocalLoss, Batch Size=64, Embedding Dim=200, Test Loss: 0.1620, Test Accuracy: 59.70\n",
            "Epoch 1/5, Train Loss: 0.2417, Train Accuracy: 57.35%, Validation Loss: 0.1672, Validation Accuracy: 60.20\n",
            "Epoch 2/5, Train Loss: 0.1691, Train Accuracy: 57.81%, Validation Loss: 0.1599, Validation Accuracy: 60.20\n",
            "Epoch 3/5, Train Loss: 0.1657, Train Accuracy: 58.87%, Validation Loss: 0.1598, Validation Accuracy: 60.20\n",
            "Epoch 4/5, Train Loss: 0.1659, Train Accuracy: 59.32%, Validation Loss: 0.1699, Validation Accuracy: 60.20\n"
          ]
        },
        {
          "output_type": "stream",
          "name": "stderr",
          "text": [
            "\r 47%|████▋     | 51/108 [11:20<13:16, 13.97s/it]"
          ]
        },
        {
          "output_type": "stream",
          "name": "stdout",
          "text": [
            "Epoch 5/5, Train Loss: 0.1638, Train Accuracy: 59.87%, Validation Loss: 0.1722, Validation Accuracy: 60.20\n",
            "Hyperparameters: LR=0.001, Optimizer=RMSprop, Loss=FocalLoss, Batch Size=64, Embedding Dim=300, Test Loss: 0.1764, Test Accuracy: 59.70\n",
            "Epoch 1/5, Train Loss: 0.2149, Train Accuracy: 59.15%, Validation Loss: 0.1576, Validation Accuracy: 60.20\n",
            "Epoch 2/5, Train Loss: 0.1630, Train Accuracy: 59.60%, Validation Loss: 0.1582, Validation Accuracy: 60.20\n",
            "Epoch 3/5, Train Loss: 0.1606, Train Accuracy: 59.79%, Validation Loss: 0.1576, Validation Accuracy: 60.05\n",
            "Epoch 4/5, Train Loss: 0.1554, Train Accuracy: 60.35%, Validation Loss: 0.1587, Validation Accuracy: 56.85\n"
          ]
        },
        {
          "output_type": "stream",
          "name": "stderr",
          "text": [
            "\r 48%|████▊     | 52/108 [11:27<11:05, 11.88s/it]"
          ]
        },
        {
          "output_type": "stream",
          "name": "stdout",
          "text": [
            "Epoch 5/5, Train Loss: 0.1486, Train Accuracy: 61.90%, Validation Loss: 0.1615, Validation Accuracy: 58.80\n",
            "Hyperparameters: LR=0.001, Optimizer=RMSprop, Loss=FocalLoss, Batch Size=128, Embedding Dim=100, Test Loss: 0.1691, Test Accuracy: 58.85\n",
            "Epoch 1/5, Train Loss: 0.2537, Train Accuracy: 58.80%, Validation Loss: 0.1620, Validation Accuracy: 60.20\n",
            "Epoch 2/5, Train Loss: 0.1644, Train Accuracy: 59.66%, Validation Loss: 0.1813, Validation Accuracy: 60.20\n",
            "Epoch 3/5, Train Loss: 0.1641, Train Accuracy: 59.37%, Validation Loss: 0.1616, Validation Accuracy: 60.20\n",
            "Epoch 4/5, Train Loss: 0.1638, Train Accuracy: 59.33%, Validation Loss: 0.1590, Validation Accuracy: 60.20\n"
          ]
        },
        {
          "output_type": "stream",
          "name": "stderr",
          "text": [
            "\r 49%|████▉     | 53/108 [11:38<10:42, 11.69s/it]"
          ]
        },
        {
          "output_type": "stream",
          "name": "stdout",
          "text": [
            "Epoch 5/5, Train Loss: 0.1632, Train Accuracy: 58.98%, Validation Loss: 0.1952, Validation Accuracy: 60.20\n",
            "Hyperparameters: LR=0.001, Optimizer=RMSprop, Loss=FocalLoss, Batch Size=128, Embedding Dim=200, Test Loss: 0.2028, Test Accuracy: 59.70\n",
            "Epoch 1/5, Train Loss: 0.3108, Train Accuracy: 57.70%, Validation Loss: 0.1852, Validation Accuracy: 39.80\n",
            "Epoch 2/5, Train Loss: 0.1697, Train Accuracy: 57.94%, Validation Loss: 0.1636, Validation Accuracy: 60.20\n",
            "Epoch 3/5, Train Loss: 0.1704, Train Accuracy: 58.04%, Validation Loss: 0.1588, Validation Accuracy: 60.20\n",
            "Epoch 4/5, Train Loss: 0.1668, Train Accuracy: 58.66%, Validation Loss: 0.1599, Validation Accuracy: 60.20\n"
          ]
        },
        {
          "output_type": "stream",
          "name": "stderr",
          "text": [
            "\r 50%|█████     | 54/108 [11:55<11:57, 13.29s/it]"
          ]
        },
        {
          "output_type": "stream",
          "name": "stdout",
          "text": [
            "Epoch 5/5, Train Loss: 0.1666, Train Accuracy: 58.21%, Validation Loss: 0.1596, Validation Accuracy: 60.20\n",
            "Hyperparameters: LR=0.001, Optimizer=RMSprop, Loss=FocalLoss, Batch Size=128, Embedding Dim=300, Test Loss: 0.1617, Test Accuracy: 59.70\n",
            "Epoch 1/5, Train Loss: 0.6846, Train Accuracy: 58.59%, Validation Loss: 0.6719, Validation Accuracy: 60.20\n",
            "Epoch 2/5, Train Loss: 0.6741, Train Accuracy: 59.73%, Validation Loss: 0.6736, Validation Accuracy: 60.20\n",
            "Epoch 3/5, Train Loss: 0.6752, Train Accuracy: 59.87%, Validation Loss: 0.6713, Validation Accuracy: 60.20\n",
            "Epoch 4/5, Train Loss: 0.6739, Train Accuracy: 59.87%, Validation Loss: 0.6718, Validation Accuracy: 60.20\n"
          ]
        },
        {
          "output_type": "stream",
          "name": "stderr",
          "text": [
            "\r 51%|█████     | 55/108 [12:08<11:32, 13.06s/it]"
          ]
        },
        {
          "output_type": "stream",
          "name": "stdout",
          "text": [
            "Epoch 5/5, Train Loss: 0.6739, Train Accuracy: 59.87%, Validation Loss: 0.6712, Validation Accuracy: 60.20\n",
            "Hyperparameters: LR=0.01, Optimizer=Adam, Loss=CrossEntropyLoss, Batch Size=32, Embedding Dim=100, Test Loss: 0.6737, Test Accuracy: 59.70\n",
            "Epoch 1/5, Train Loss: 0.7361, Train Accuracy: 56.34%, Validation Loss: 0.6723, Validation Accuracy: 60.20\n",
            "Epoch 2/5, Train Loss: 0.6760, Train Accuracy: 59.60%, Validation Loss: 0.6725, Validation Accuracy: 60.20\n",
            "Epoch 3/5, Train Loss: 0.6751, Train Accuracy: 59.87%, Validation Loss: 0.6722, Validation Accuracy: 60.20\n",
            "Epoch 4/5, Train Loss: 0.6743, Train Accuracy: 59.87%, Validation Loss: 0.6725, Validation Accuracy: 60.20\n"
          ]
        },
        {
          "output_type": "stream",
          "name": "stderr",
          "text": [
            "\r 52%|█████▏    | 56/108 [12:23<11:57, 13.79s/it]"
          ]
        },
        {
          "output_type": "stream",
          "name": "stdout",
          "text": [
            "Epoch 5/5, Train Loss: 0.6740, Train Accuracy: 59.87%, Validation Loss: 0.6713, Validation Accuracy: 60.20\n",
            "Hyperparameters: LR=0.01, Optimizer=Adam, Loss=CrossEntropyLoss, Batch Size=32, Embedding Dim=200, Test Loss: 0.6737, Test Accuracy: 59.70\n",
            "Epoch 1/5, Train Loss: 0.7446, Train Accuracy: 56.56%, Validation Loss: 0.6747, Validation Accuracy: 60.20\n",
            "Epoch 2/5, Train Loss: 0.6759, Train Accuracy: 59.87%, Validation Loss: 0.6732, Validation Accuracy: 60.20\n",
            "Epoch 3/5, Train Loss: 0.6748, Train Accuracy: 59.87%, Validation Loss: 0.6709, Validation Accuracy: 60.20\n",
            "Epoch 4/5, Train Loss: 0.6742, Train Accuracy: 59.87%, Validation Loss: 0.6709, Validation Accuracy: 60.20\n"
          ]
        },
        {
          "output_type": "stream",
          "name": "stderr",
          "text": [
            "\r 53%|█████▎    | 57/108 [12:44<13:26, 15.81s/it]"
          ]
        },
        {
          "output_type": "stream",
          "name": "stdout",
          "text": [
            "Epoch 5/5, Train Loss: 0.6739, Train Accuracy: 59.87%, Validation Loss: 0.6709, Validation Accuracy: 60.20\n",
            "Hyperparameters: LR=0.01, Optimizer=Adam, Loss=CrossEntropyLoss, Batch Size=32, Embedding Dim=300, Test Loss: 0.6736, Test Accuracy: 59.70\n",
            "Epoch 1/5, Train Loss: 0.7015, Train Accuracy: 58.35%, Validation Loss: 0.6731, Validation Accuracy: 60.20\n",
            "Epoch 2/5, Train Loss: 0.6751, Train Accuracy: 59.87%, Validation Loss: 0.6693, Validation Accuracy: 60.20\n",
            "Epoch 3/5, Train Loss: 0.6739, Train Accuracy: 59.87%, Validation Loss: 0.6709, Validation Accuracy: 60.20\n",
            "Epoch 4/5, Train Loss: 0.6757, Train Accuracy: 59.71%, Validation Loss: 0.6703, Validation Accuracy: 60.20\n"
          ]
        },
        {
          "output_type": "stream",
          "name": "stderr",
          "text": [
            "\r 54%|█████▎    | 58/108 [12:51<11:03, 13.27s/it]"
          ]
        },
        {
          "output_type": "stream",
          "name": "stdout",
          "text": [
            "Epoch 5/5, Train Loss: 0.6743, Train Accuracy: 59.87%, Validation Loss: 0.6702, Validation Accuracy: 60.20\n",
            "Hyperparameters: LR=0.01, Optimizer=Adam, Loss=CrossEntropyLoss, Batch Size=64, Embedding Dim=100, Test Loss: 0.6732, Test Accuracy: 59.70\n",
            "Epoch 1/5, Train Loss: 0.7363, Train Accuracy: 56.62%, Validation Loss: 0.6697, Validation Accuracy: 60.20\n",
            "Epoch 2/5, Train Loss: 0.6763, Train Accuracy: 59.46%, Validation Loss: 0.6697, Validation Accuracy: 60.20\n",
            "Epoch 3/5, Train Loss: 0.6749, Train Accuracy: 59.87%, Validation Loss: 0.6694, Validation Accuracy: 60.20\n",
            "Epoch 4/5, Train Loss: 0.6741, Train Accuracy: 59.87%, Validation Loss: 0.6719, Validation Accuracy: 60.20\n"
          ]
        },
        {
          "output_type": "stream",
          "name": "stderr",
          "text": [
            "\r 55%|█████▍    | 59/108 [13:03<10:28, 12.83s/it]"
          ]
        },
        {
          "output_type": "stream",
          "name": "stdout",
          "text": [
            "Epoch 5/5, Train Loss: 0.6746, Train Accuracy: 59.87%, Validation Loss: 0.6694, Validation Accuracy: 60.20\n",
            "Hyperparameters: LR=0.01, Optimizer=Adam, Loss=CrossEntropyLoss, Batch Size=64, Embedding Dim=200, Test Loss: 0.6730, Test Accuracy: 59.70\n",
            "Epoch 1/5, Train Loss: 0.7681, Train Accuracy: 56.20%, Validation Loss: 0.6744, Validation Accuracy: 60.20\n",
            "Epoch 2/5, Train Loss: 0.6801, Train Accuracy: 58.68%, Validation Loss: 0.6703, Validation Accuracy: 60.20\n",
            "Epoch 3/5, Train Loss: 0.6760, Train Accuracy: 59.87%, Validation Loss: 0.6729, Validation Accuracy: 60.20\n",
            "Epoch 4/5, Train Loss: 0.6751, Train Accuracy: 59.87%, Validation Loss: 0.6694, Validation Accuracy: 60.20\n"
          ]
        },
        {
          "output_type": "stream",
          "name": "stderr",
          "text": [
            "\r 56%|█████▌    | 60/108 [13:20<11:25, 14.28s/it]"
          ]
        },
        {
          "output_type": "stream",
          "name": "stdout",
          "text": [
            "Epoch 5/5, Train Loss: 0.6743, Train Accuracy: 59.87%, Validation Loss: 0.6696, Validation Accuracy: 60.20\n",
            "Hyperparameters: LR=0.01, Optimizer=Adam, Loss=CrossEntropyLoss, Batch Size=64, Embedding Dim=300, Test Loss: 0.6729, Test Accuracy: 59.70\n",
            "Epoch 1/5, Train Loss: 0.7477, Train Accuracy: 56.12%, Validation Loss: 0.6668, Validation Accuracy: 60.20\n",
            "Epoch 2/5, Train Loss: 0.6786, Train Accuracy: 59.87%, Validation Loss: 0.6720, Validation Accuracy: 60.20\n",
            "Epoch 3/5, Train Loss: 0.6771, Train Accuracy: 59.87%, Validation Loss: 0.6766, Validation Accuracy: 60.20\n",
            "Epoch 4/5, Train Loss: 0.6761, Train Accuracy: 59.87%, Validation Loss: 0.6721, Validation Accuracy: 60.20\n"
          ]
        },
        {
          "output_type": "stream",
          "name": "stderr",
          "text": [
            "\r 56%|█████▋    | 61/108 [13:28<09:30, 12.14s/it]"
          ]
        },
        {
          "output_type": "stream",
          "name": "stdout",
          "text": [
            "Epoch 5/5, Train Loss: 0.6755, Train Accuracy: 59.87%, Validation Loss: 0.6665, Validation Accuracy: 60.20\n",
            "Hyperparameters: LR=0.01, Optimizer=Adam, Loss=CrossEntropyLoss, Batch Size=128, Embedding Dim=100, Test Loss: 0.6725, Test Accuracy: 59.70\n",
            "Epoch 1/5, Train Loss: 0.8018, Train Accuracy: 55.99%, Validation Loss: 0.6740, Validation Accuracy: 60.20\n",
            "Epoch 2/5, Train Loss: 0.6822, Train Accuracy: 58.64%, Validation Loss: 0.6956, Validation Accuracy: 60.20\n",
            "Epoch 3/5, Train Loss: 0.6833, Train Accuracy: 58.43%, Validation Loss: 0.6744, Validation Accuracy: 60.20\n",
            "Epoch 4/5, Train Loss: 0.6801, Train Accuracy: 59.01%, Validation Loss: 0.6824, Validation Accuracy: 60.20\n"
          ]
        },
        {
          "output_type": "stream",
          "name": "stderr",
          "text": [
            "\r 57%|█████▋    | 62/108 [13:39<09:07, 11.89s/it]"
          ]
        },
        {
          "output_type": "stream",
          "name": "stdout",
          "text": [
            "Epoch 5/5, Train Loss: 0.6752, Train Accuracy: 59.87%, Validation Loss: 0.6702, Validation Accuracy: 60.20\n",
            "Hyperparameters: LR=0.01, Optimizer=Adam, Loss=CrossEntropyLoss, Batch Size=128, Embedding Dim=200, Test Loss: 0.6736, Test Accuracy: 59.70\n",
            "Epoch 1/5, Train Loss: 0.9074, Train Accuracy: 55.02%, Validation Loss: 0.6668, Validation Accuracy: 60.20\n",
            "Epoch 2/5, Train Loss: 0.7004, Train Accuracy: 55.47%, Validation Loss: 0.6742, Validation Accuracy: 60.20\n",
            "Epoch 3/5, Train Loss: 0.6800, Train Accuracy: 58.80%, Validation Loss: 0.6665, Validation Accuracy: 60.20\n",
            "Epoch 4/5, Train Loss: 0.6769, Train Accuracy: 59.87%, Validation Loss: 0.6686, Validation Accuracy: 60.20\n"
          ]
        },
        {
          "output_type": "stream",
          "name": "stderr",
          "text": [
            "\r 58%|█████▊    | 63/108 [13:56<10:05, 13.45s/it]"
          ]
        },
        {
          "output_type": "stream",
          "name": "stdout",
          "text": [
            "Epoch 5/5, Train Loss: 0.6779, Train Accuracy: 59.87%, Validation Loss: 0.6674, Validation Accuracy: 60.20\n",
            "Hyperparameters: LR=0.01, Optimizer=Adam, Loss=CrossEntropyLoss, Batch Size=128, Embedding Dim=300, Test Loss: 0.6740, Test Accuracy: 59.70\n",
            "Epoch 1/5, Train Loss: 0.1785, Train Accuracy: 58.35%, Validation Loss: 0.1613, Validation Accuracy: 60.20\n",
            "Epoch 2/5, Train Loss: 0.1631, Train Accuracy: 59.87%, Validation Loss: 0.1635, Validation Accuracy: 60.20\n",
            "Epoch 3/5, Train Loss: 0.1631, Train Accuracy: 59.87%, Validation Loss: 0.1609, Validation Accuracy: 60.20\n",
            "Epoch 4/5, Train Loss: 0.1626, Train Accuracy: 59.87%, Validation Loss: 0.1614, Validation Accuracy: 60.20\n"
          ]
        },
        {
          "output_type": "stream",
          "name": "stderr",
          "text": [
            "\r 59%|█████▉    | 64/108 [14:10<09:52, 13.47s/it]"
          ]
        },
        {
          "output_type": "stream",
          "name": "stdout",
          "text": [
            "Epoch 5/5, Train Loss: 0.1629, Train Accuracy: 59.87%, Validation Loss: 0.1608, Validation Accuracy: 60.20\n",
            "Hyperparameters: LR=0.01, Optimizer=Adam, Loss=FocalLoss, Batch Size=32, Embedding Dim=100, Test Loss: 0.1623, Test Accuracy: 59.70\n",
            "Epoch 1/5, Train Loss: 0.2053, Train Accuracy: 56.32%, Validation Loss: 0.1609, Validation Accuracy: 60.20\n",
            "Epoch 2/5, Train Loss: 0.1634, Train Accuracy: 59.87%, Validation Loss: 0.1610, Validation Accuracy: 60.20\n",
            "Epoch 3/5, Train Loss: 0.1628, Train Accuracy: 59.87%, Validation Loss: 0.1619, Validation Accuracy: 60.20\n",
            "Epoch 4/5, Train Loss: 0.1628, Train Accuracy: 59.87%, Validation Loss: 0.1610, Validation Accuracy: 60.20\n"
          ]
        },
        {
          "output_type": "stream",
          "name": "stderr",
          "text": [
            "\r 60%|██████    | 65/108 [14:25<10:08, 14.16s/it]"
          ]
        },
        {
          "output_type": "stream",
          "name": "stdout",
          "text": [
            "Epoch 5/5, Train Loss: 0.1625, Train Accuracy: 59.87%, Validation Loss: 0.1614, Validation Accuracy: 60.20\n",
            "Hyperparameters: LR=0.01, Optimizer=Adam, Loss=FocalLoss, Batch Size=32, Embedding Dim=200, Test Loss: 0.1626, Test Accuracy: 59.70\n",
            "Epoch 1/5, Train Loss: 0.2379, Train Accuracy: 55.84%, Validation Loss: 0.1613, Validation Accuracy: 60.20\n",
            "Epoch 2/5, Train Loss: 0.1641, Train Accuracy: 59.87%, Validation Loss: 0.1624, Validation Accuracy: 60.20\n",
            "Epoch 3/5, Train Loss: 0.1630, Train Accuracy: 59.87%, Validation Loss: 0.1610, Validation Accuracy: 60.20\n",
            "Epoch 4/5, Train Loss: 0.1626, Train Accuracy: 59.87%, Validation Loss: 0.1612, Validation Accuracy: 60.20\n"
          ]
        },
        {
          "output_type": "stream",
          "name": "stderr",
          "text": [
            "\r 61%|██████    | 66/108 [14:46<11:18, 16.16s/it]"
          ]
        },
        {
          "output_type": "stream",
          "name": "stdout",
          "text": [
            "Epoch 5/5, Train Loss: 0.1626, Train Accuracy: 59.87%, Validation Loss: 0.1608, Validation Accuracy: 60.20\n",
            "Hyperparameters: LR=0.01, Optimizer=Adam, Loss=FocalLoss, Batch Size=32, Embedding Dim=300, Test Loss: 0.1623, Test Accuracy: 59.70\n",
            "Epoch 1/5, Train Loss: 0.1831, Train Accuracy: 57.92%, Validation Loss: 0.1620, Validation Accuracy: 60.20\n",
            "Epoch 2/5, Train Loss: 0.1641, Train Accuracy: 59.66%, Validation Loss: 0.1632, Validation Accuracy: 60.20\n",
            "Epoch 3/5, Train Loss: 0.1630, Train Accuracy: 59.87%, Validation Loss: 0.1604, Validation Accuracy: 60.20\n",
            "Epoch 4/5, Train Loss: 0.1631, Train Accuracy: 59.87%, Validation Loss: 0.1601, Validation Accuracy: 60.20\n"
          ]
        },
        {
          "output_type": "stream",
          "name": "stderr",
          "text": [
            "\r 62%|██████▏   | 67/108 [14:54<09:19, 13.64s/it]"
          ]
        },
        {
          "output_type": "stream",
          "name": "stdout",
          "text": [
            "Epoch 5/5, Train Loss: 0.1623, Train Accuracy: 59.87%, Validation Loss: 0.1601, Validation Accuracy: 60.20\n",
            "Hyperparameters: LR=0.01, Optimizer=Adam, Loss=FocalLoss, Batch Size=64, Embedding Dim=100, Test Loss: 0.1619, Test Accuracy: 59.70\n",
            "Epoch 1/5, Train Loss: 0.2168, Train Accuracy: 57.64%, Validation Loss: 0.1640, Validation Accuracy: 60.20\n",
            "Epoch 2/5, Train Loss: 0.1686, Train Accuracy: 58.76%, Validation Loss: 0.1604, Validation Accuracy: 60.20\n",
            "Epoch 3/5, Train Loss: 0.1629, Train Accuracy: 59.87%, Validation Loss: 0.1598, Validation Accuracy: 60.20\n",
            "Epoch 4/5, Train Loss: 0.1626, Train Accuracy: 59.87%, Validation Loss: 0.1611, Validation Accuracy: 60.20\n"
          ]
        },
        {
          "output_type": "stream",
          "name": "stderr",
          "text": [
            "\r 63%|██████▎   | 68/108 [15:06<08:44, 13.11s/it]"
          ]
        },
        {
          "output_type": "stream",
          "name": "stdout",
          "text": [
            "Epoch 5/5, Train Loss: 0.1628, Train Accuracy: 59.87%, Validation Loss: 0.1601, Validation Accuracy: 60.20\n",
            "Hyperparameters: LR=0.01, Optimizer=Adam, Loss=FocalLoss, Batch Size=64, Embedding Dim=200, Test Loss: 0.1619, Test Accuracy: 59.70\n",
            "Epoch 1/5, Train Loss: 0.2803, Train Accuracy: 55.76%, Validation Loss: 0.1599, Validation Accuracy: 60.20\n",
            "Epoch 2/5, Train Loss: 0.1681, Train Accuracy: 58.10%, Validation Loss: 0.1600, Validation Accuracy: 60.20\n",
            "Epoch 3/5, Train Loss: 0.1659, Train Accuracy: 58.78%, Validation Loss: 0.1599, Validation Accuracy: 60.20\n",
            "Epoch 4/5, Train Loss: 0.1634, Train Accuracy: 59.87%, Validation Loss: 0.1604, Validation Accuracy: 60.20\n"
          ]
        },
        {
          "output_type": "stream",
          "name": "stderr",
          "text": [
            "\r 64%|██████▍   | 69/108 [15:23<09:23, 14.45s/it]"
          ]
        },
        {
          "output_type": "stream",
          "name": "stdout",
          "text": [
            "Epoch 5/5, Train Loss: 0.1624, Train Accuracy: 59.87%, Validation Loss: 0.1611, Validation Accuracy: 60.20\n",
            "Hyperparameters: LR=0.01, Optimizer=Adam, Loss=FocalLoss, Batch Size=64, Embedding Dim=300, Test Loss: 0.1625, Test Accuracy: 59.70\n",
            "Epoch 1/5, Train Loss: 0.2002, Train Accuracy: 57.78%, Validation Loss: 0.1597, Validation Accuracy: 60.20\n",
            "Epoch 2/5, Train Loss: 0.1633, Train Accuracy: 59.87%, Validation Loss: 0.1588, Validation Accuracy: 60.20\n",
            "Epoch 3/5, Train Loss: 0.1645, Train Accuracy: 59.40%, Validation Loss: 0.1631, Validation Accuracy: 60.20\n",
            "Epoch 4/5, Train Loss: 0.1640, Train Accuracy: 59.87%, Validation Loss: 0.1583, Validation Accuracy: 60.20\n"
          ]
        },
        {
          "output_type": "stream",
          "name": "stderr",
          "text": [
            "\r 65%|██████▍   | 70/108 [15:30<07:44, 12.23s/it]"
          ]
        },
        {
          "output_type": "stream",
          "name": "stdout",
          "text": [
            "Epoch 5/5, Train Loss: 0.1623, Train Accuracy: 59.87%, Validation Loss: 0.1582, Validation Accuracy: 60.20\n",
            "Hyperparameters: LR=0.01, Optimizer=Adam, Loss=FocalLoss, Batch Size=128, Embedding Dim=100, Test Loss: 0.1610, Test Accuracy: 59.70\n",
            "Epoch 1/5, Train Loss: 0.2675, Train Accuracy: 56.83%, Validation Loss: 0.1680, Validation Accuracy: 60.20\n",
            "Epoch 2/5, Train Loss: 0.1713, Train Accuracy: 57.26%, Validation Loss: 0.1669, Validation Accuracy: 60.20\n",
            "Epoch 3/5, Train Loss: 0.1660, Train Accuracy: 59.05%, Validation Loss: 0.1592, Validation Accuracy: 60.20\n",
            "Epoch 4/5, Train Loss: 0.1672, Train Accuracy: 58.04%, Validation Loss: 0.1587, Validation Accuracy: 60.20\n"
          ]
        },
        {
          "output_type": "stream",
          "name": "stderr",
          "text": [
            "\r 66%|██████▌   | 71/108 [15:42<07:23, 11.99s/it]"
          ]
        },
        {
          "output_type": "stream",
          "name": "stdout",
          "text": [
            "Epoch 5/5, Train Loss: 0.1637, Train Accuracy: 59.87%, Validation Loss: 0.1584, Validation Accuracy: 60.20\n",
            "Hyperparameters: LR=0.01, Optimizer=Adam, Loss=FocalLoss, Batch Size=128, Embedding Dim=200, Test Loss: 0.1610, Test Accuracy: 59.70\n",
            "Epoch 1/5, Train Loss: 0.3367, Train Accuracy: 54.39%, Validation Loss: 0.1920, Validation Accuracy: 39.80\n",
            "Epoch 2/5, Train Loss: 0.1717, Train Accuracy: 57.47%, Validation Loss: 0.1631, Validation Accuracy: 60.20\n",
            "Epoch 3/5, Train Loss: 0.1706, Train Accuracy: 56.97%, Validation Loss: 0.1612, Validation Accuracy: 60.20\n",
            "Epoch 4/5, Train Loss: 0.1715, Train Accuracy: 56.73%, Validation Loss: 0.1606, Validation Accuracy: 60.20\n"
          ]
        },
        {
          "output_type": "stream",
          "name": "stderr",
          "text": [
            "\r 67%|██████▋   | 72/108 [15:59<08:06, 13.52s/it]"
          ]
        },
        {
          "output_type": "stream",
          "name": "stdout",
          "text": [
            "Epoch 5/5, Train Loss: 0.1629, Train Accuracy: 59.87%, Validation Loss: 0.1624, Validation Accuracy: 60.20\n",
            "Hyperparameters: LR=0.01, Optimizer=Adam, Loss=FocalLoss, Batch Size=128, Embedding Dim=300, Test Loss: 0.1638, Test Accuracy: 59.70\n",
            "Epoch 1/5, Train Loss: 0.6793, Train Accuracy: 59.31%, Validation Loss: 0.6750, Validation Accuracy: 60.12\n",
            "Epoch 2/5, Train Loss: 0.6763, Train Accuracy: 59.72%, Validation Loss: 0.6734, Validation Accuracy: 60.12\n",
            "Epoch 3/5, Train Loss: 0.6778, Train Accuracy: 59.56%, Validation Loss: 0.6712, Validation Accuracy: 60.20\n",
            "Epoch 4/5, Train Loss: 0.6767, Train Accuracy: 59.39%, Validation Loss: 0.6700, Validation Accuracy: 60.20\n"
          ]
        },
        {
          "output_type": "stream",
          "name": "stderr",
          "text": [
            "\r 68%|██████▊   | 73/108 [16:11<07:40, 13.16s/it]"
          ]
        },
        {
          "output_type": "stream",
          "name": "stdout",
          "text": [
            "Epoch 5/5, Train Loss: 0.6757, Train Accuracy: 59.73%, Validation Loss: 0.6720, Validation Accuracy: 60.20\n",
            "Hyperparameters: LR=0.01, Optimizer=SGD, Loss=CrossEntropyLoss, Batch Size=32, Embedding Dim=100, Test Loss: 0.6739, Test Accuracy: 59.70\n",
            "Epoch 1/5, Train Loss: 0.6825, Train Accuracy: 58.24%, Validation Loss: 0.6695, Validation Accuracy: 60.20\n",
            "Epoch 2/5, Train Loss: 0.6833, Train Accuracy: 58.82%, Validation Loss: 0.6984, Validation Accuracy: 44.39\n",
            "Epoch 3/5, Train Loss: 0.6792, Train Accuracy: 58.83%, Validation Loss: 0.6729, Validation Accuracy: 60.20\n",
            "Epoch 4/5, Train Loss: 0.6812, Train Accuracy: 58.59%, Validation Loss: 0.6998, Validation Accuracy: 43.54\n"
          ]
        },
        {
          "output_type": "stream",
          "name": "stderr",
          "text": [
            "\r 69%|██████▊   | 74/108 [16:25<07:32, 13.31s/it]"
          ]
        },
        {
          "output_type": "stream",
          "name": "stdout",
          "text": [
            "Epoch 5/5, Train Loss: 0.6787, Train Accuracy: 59.53%, Validation Loss: 0.6690, Validation Accuracy: 60.20\n",
            "Hyperparameters: LR=0.01, Optimizer=SGD, Loss=CrossEntropyLoss, Batch Size=32, Embedding Dim=200, Test Loss: 0.6736, Test Accuracy: 59.70\n",
            "Epoch 1/5, Train Loss: 0.6906, Train Accuracy: 56.95%, Validation Loss: 0.6716, Validation Accuracy: 60.20\n",
            "Epoch 2/5, Train Loss: 0.6859, Train Accuracy: 57.83%, Validation Loss: 0.6725, Validation Accuracy: 60.20\n",
            "Epoch 3/5, Train Loss: 0.6851, Train Accuracy: 58.21%, Validation Loss: 0.6849, Validation Accuracy: 58.33\n",
            "Epoch 4/5, Train Loss: 0.6817, Train Accuracy: 58.57%, Validation Loss: 0.6700, Validation Accuracy: 60.20\n"
          ]
        },
        {
          "output_type": "stream",
          "name": "stderr",
          "text": [
            "\r 69%|██████▉   | 75/108 [16:43<08:02, 14.62s/it]"
          ]
        },
        {
          "output_type": "stream",
          "name": "stdout",
          "text": [
            "Epoch 5/5, Train Loss: 0.6832, Train Accuracy: 59.03%, Validation Loss: 0.6698, Validation Accuracy: 60.20\n",
            "Hyperparameters: LR=0.01, Optimizer=SGD, Loss=CrossEntropyLoss, Batch Size=32, Embedding Dim=300, Test Loss: 0.6743, Test Accuracy: 59.70\n",
            "Epoch 1/5, Train Loss: 0.6763, Train Accuracy: 59.79%, Validation Loss: 0.6709, Validation Accuracy: 60.20\n",
            "Epoch 2/5, Train Loss: 0.6766, Train Accuracy: 59.76%, Validation Loss: 0.6705, Validation Accuracy: 60.20\n",
            "Epoch 3/5, Train Loss: 0.6761, Train Accuracy: 59.84%, Validation Loss: 0.6702, Validation Accuracy: 60.20\n",
            "Epoch 4/5, Train Loss: 0.6751, Train Accuracy: 59.84%, Validation Loss: 0.6699, Validation Accuracy: 60.20\n"
          ]
        },
        {
          "output_type": "stream",
          "name": "stderr",
          "text": [
            "\r 70%|███████   | 76/108 [16:50<06:37, 12.43s/it]"
          ]
        },
        {
          "output_type": "stream",
          "name": "stdout",
          "text": [
            "Epoch 5/5, Train Loss: 0.6754, Train Accuracy: 59.87%, Validation Loss: 0.6698, Validation Accuracy: 60.20\n",
            "Hyperparameters: LR=0.01, Optimizer=SGD, Loss=CrossEntropyLoss, Batch Size=64, Embedding Dim=100, Test Loss: 0.6737, Test Accuracy: 59.70\n",
            "Epoch 1/5, Train Loss: 0.6792, Train Accuracy: 59.45%, Validation Loss: 0.6696, Validation Accuracy: 60.20\n",
            "Epoch 2/5, Train Loss: 0.6792, Train Accuracy: 59.46%, Validation Loss: 0.6693, Validation Accuracy: 60.20\n",
            "Epoch 3/5, Train Loss: 0.6788, Train Accuracy: 59.17%, Validation Loss: 0.6727, Validation Accuracy: 60.28\n",
            "Epoch 4/5, Train Loss: 0.6775, Train Accuracy: 59.73%, Validation Loss: 0.6694, Validation Accuracy: 60.20\n"
          ]
        },
        {
          "output_type": "stream",
          "name": "stderr",
          "text": [
            "\r 71%|███████▏  | 77/108 [17:01<06:10, 11.95s/it]"
          ]
        },
        {
          "output_type": "stream",
          "name": "stdout",
          "text": [
            "Epoch 5/5, Train Loss: 0.6775, Train Accuracy: 59.67%, Validation Loss: 0.6742, Validation Accuracy: 60.20\n",
            "Hyperparameters: LR=0.01, Optimizer=SGD, Loss=CrossEntropyLoss, Batch Size=64, Embedding Dim=200, Test Loss: 0.6752, Test Accuracy: 59.70\n",
            "Epoch 1/5, Train Loss: 0.6840, Train Accuracy: 57.93%, Validation Loss: 0.6887, Validation Accuracy: 60.20\n",
            "Epoch 2/5, Train Loss: 0.6837, Train Accuracy: 58.63%, Validation Loss: 0.6702, Validation Accuracy: 60.20\n",
            "Epoch 3/5, Train Loss: 0.6835, Train Accuracy: 57.72%, Validation Loss: 0.6778, Validation Accuracy: 60.20\n",
            "Epoch 4/5, Train Loss: 0.6799, Train Accuracy: 59.09%, Validation Loss: 0.7198, Validation Accuracy: 40.03\n"
          ]
        },
        {
          "output_type": "stream",
          "name": "stderr",
          "text": [
            "\r 72%|███████▏  | 78/108 [17:17<06:40, 13.35s/it]"
          ]
        },
        {
          "output_type": "stream",
          "name": "stdout",
          "text": [
            "Epoch 5/5, Train Loss: 0.6802, Train Accuracy: 58.85%, Validation Loss: 0.7904, Validation Accuracy: 39.80\n",
            "Hyperparameters: LR=0.01, Optimizer=SGD, Loss=CrossEntropyLoss, Batch Size=64, Embedding Dim=300, Test Loss: 0.7879, Test Accuracy: 40.30\n",
            "Epoch 1/5, Train Loss: 0.6748, Train Accuracy: 59.82%, Validation Loss: 0.6634, Validation Accuracy: 60.20\n",
            "Epoch 2/5, Train Loss: 0.6754, Train Accuracy: 59.77%, Validation Loss: 0.6631, Validation Accuracy: 60.20\n",
            "Epoch 3/5, Train Loss: 0.6750, Train Accuracy: 59.87%, Validation Loss: 0.6753, Validation Accuracy: 59.66\n",
            "Epoch 4/5, Train Loss: 0.6745, Train Accuracy: 59.86%, Validation Loss: 0.6643, Validation Accuracy: 60.20\n"
          ]
        },
        {
          "output_type": "stream",
          "name": "stderr",
          "text": [
            "\r 73%|███████▎  | 79/108 [17:24<05:31, 11.44s/it]"
          ]
        },
        {
          "output_type": "stream",
          "name": "stdout",
          "text": [
            "Epoch 5/5, Train Loss: 0.6746, Train Accuracy: 59.87%, Validation Loss: 0.6637, Validation Accuracy: 60.20\n",
            "Hyperparameters: LR=0.01, Optimizer=SGD, Loss=CrossEntropyLoss, Batch Size=128, Embedding Dim=100, Test Loss: 0.6721, Test Accuracy: 59.70\n",
            "Epoch 1/5, Train Loss: 0.6778, Train Accuracy: 59.52%, Validation Loss: 0.6780, Validation Accuracy: 59.50\n",
            "Epoch 2/5, Train Loss: 0.6779, Train Accuracy: 59.69%, Validation Loss: 0.6834, Validation Accuracy: 59.42\n",
            "Epoch 3/5, Train Loss: 0.6777, Train Accuracy: 59.68%, Validation Loss: 0.6685, Validation Accuracy: 60.20\n",
            "Epoch 4/5, Train Loss: 0.6770, Train Accuracy: 59.86%, Validation Loss: 0.6706, Validation Accuracy: 60.20\n"
          ]
        },
        {
          "output_type": "stream",
          "name": "stderr",
          "text": [
            "\r 74%|███████▍  | 80/108 [17:35<05:15, 11.27s/it]"
          ]
        },
        {
          "output_type": "stream",
          "name": "stdout",
          "text": [
            "Epoch 5/5, Train Loss: 0.6763, Train Accuracy: 59.53%, Validation Loss: 0.6700, Validation Accuracy: 60.20\n",
            "Hyperparameters: LR=0.01, Optimizer=SGD, Loss=CrossEntropyLoss, Batch Size=128, Embedding Dim=200, Test Loss: 0.6850, Test Accuracy: 59.70\n",
            "Epoch 1/5, Train Loss: 0.6817, Train Accuracy: 59.01%, Validation Loss: 0.6699, Validation Accuracy: 60.20\n",
            "Epoch 2/5, Train Loss: 0.6832, Train Accuracy: 58.37%, Validation Loss: 0.6812, Validation Accuracy: 58.80\n",
            "Epoch 3/5, Train Loss: 0.6807, Train Accuracy: 58.55%, Validation Loss: 0.6672, Validation Accuracy: 60.20\n",
            "Epoch 4/5, Train Loss: 0.6786, Train Accuracy: 59.68%, Validation Loss: 0.7115, Validation Accuracy: 40.81\n"
          ]
        },
        {
          "output_type": "stream",
          "name": "stderr",
          "text": [
            "\r 75%|███████▌  | 81/108 [17:52<05:49, 12.94s/it]"
          ]
        },
        {
          "output_type": "stream",
          "name": "stdout",
          "text": [
            "Epoch 5/5, Train Loss: 0.6798, Train Accuracy: 59.44%, Validation Loss: 0.6709, Validation Accuracy: 60.12\n",
            "Hyperparameters: LR=0.01, Optimizer=SGD, Loss=CrossEntropyLoss, Batch Size=128, Embedding Dim=300, Test Loss: 0.6750, Test Accuracy: 59.70\n",
            "Epoch 1/5, Train Loss: 0.1650, Train Accuracy: 59.62%, Validation Loss: 0.1653, Validation Accuracy: 60.44\n",
            "Epoch 2/5, Train Loss: 0.1642, Train Accuracy: 59.79%, Validation Loss: 0.1614, Validation Accuracy: 60.20\n",
            "Epoch 3/5, Train Loss: 0.1640, Train Accuracy: 59.74%, Validation Loss: 0.1627, Validation Accuracy: 60.20\n",
            "Epoch 4/5, Train Loss: 0.1643, Train Accuracy: 59.87%, Validation Loss: 0.1638, Validation Accuracy: 60.36\n"
          ]
        },
        {
          "output_type": "stream",
          "name": "stderr",
          "text": [
            "\r 76%|███████▌  | 82/108 [18:04<05:30, 12.72s/it]"
          ]
        },
        {
          "output_type": "stream",
          "name": "stdout",
          "text": [
            "Epoch 5/5, Train Loss: 0.1640, Train Accuracy: 59.46%, Validation Loss: 0.1610, Validation Accuracy: 60.20\n",
            "Hyperparameters: LR=0.01, Optimizer=SGD, Loss=FocalLoss, Batch Size=32, Embedding Dim=100, Test Loss: 0.1621, Test Accuracy: 59.70\n",
            "Epoch 1/5, Train Loss: 0.1659, Train Accuracy: 58.54%, Validation Loss: 0.1621, Validation Accuracy: 60.20\n",
            "Epoch 2/5, Train Loss: 0.1661, Train Accuracy: 58.97%, Validation Loss: 0.1602, Validation Accuracy: 60.20\n",
            "Epoch 3/5, Train Loss: 0.1659, Train Accuracy: 58.90%, Validation Loss: 0.1638, Validation Accuracy: 60.20\n",
            "Epoch 4/5, Train Loss: 0.1641, Train Accuracy: 59.16%, Validation Loss: 0.1655, Validation Accuracy: 60.20\n"
          ]
        },
        {
          "output_type": "stream",
          "name": "stderr",
          "text": [
            "\r 77%|███████▋  | 83/108 [18:18<05:27, 13.10s/it]"
          ]
        },
        {
          "output_type": "stream",
          "name": "stdout",
          "text": [
            "Epoch 5/5, Train Loss: 0.1646, Train Accuracy: 58.97%, Validation Loss: 0.1601, Validation Accuracy: 60.20\n",
            "Hyperparameters: LR=0.01, Optimizer=SGD, Loss=FocalLoss, Batch Size=32, Embedding Dim=200, Test Loss: 0.1623, Test Accuracy: 59.70\n",
            "Epoch 1/5, Train Loss: 0.1681, Train Accuracy: 58.19%, Validation Loss: 0.1863, Validation Accuracy: 40.50\n",
            "Epoch 2/5, Train Loss: 0.1666, Train Accuracy: 58.63%, Validation Loss: 0.1624, Validation Accuracy: 60.20\n",
            "Epoch 3/5, Train Loss: 0.1660, Train Accuracy: 58.71%, Validation Loss: 0.1612, Validation Accuracy: 60.20\n",
            "Epoch 4/5, Train Loss: 0.1653, Train Accuracy: 58.83%, Validation Loss: 0.1694, Validation Accuracy: 58.26\n"
          ]
        },
        {
          "output_type": "stream",
          "name": "stderr",
          "text": [
            "\r 78%|███████▊  | 84/108 [18:36<05:47, 14.49s/it]"
          ]
        },
        {
          "output_type": "stream",
          "name": "stdout",
          "text": [
            "Epoch 5/5, Train Loss: 0.1649, Train Accuracy: 59.48%, Validation Loss: 0.1609, Validation Accuracy: 60.20\n",
            "Hyperparameters: LR=0.01, Optimizer=SGD, Loss=FocalLoss, Batch Size=32, Embedding Dim=300, Test Loss: 0.1627, Test Accuracy: 59.70\n",
            "Epoch 1/5, Train Loss: 0.1636, Train Accuracy: 59.57%, Validation Loss: 0.1635, Validation Accuracy: 60.05\n",
            "Epoch 2/5, Train Loss: 0.1631, Train Accuracy: 59.87%, Validation Loss: 0.1624, Validation Accuracy: 60.05\n",
            "Epoch 3/5, Train Loss: 0.1634, Train Accuracy: 59.88%, Validation Loss: 0.1595, Validation Accuracy: 60.20\n",
            "Epoch 4/5, Train Loss: 0.1629, Train Accuracy: 59.86%, Validation Loss: 0.1597, Validation Accuracy: 60.20\n"
          ]
        },
        {
          "output_type": "stream",
          "name": "stderr",
          "text": [
            "\r 79%|███████▊  | 85/108 [18:44<04:48, 12.55s/it]"
          ]
        },
        {
          "output_type": "stream",
          "name": "stdout",
          "text": [
            "Epoch 5/5, Train Loss: 0.1630, Train Accuracy: 59.85%, Validation Loss: 0.1594, Validation Accuracy: 60.20\n",
            "Hyperparameters: LR=0.01, Optimizer=SGD, Loss=FocalLoss, Batch Size=64, Embedding Dim=100, Test Loss: 0.1631, Test Accuracy: 59.70\n",
            "Epoch 1/5, Train Loss: 0.1649, Train Accuracy: 59.63%, Validation Loss: 0.1677, Validation Accuracy: 58.57\n",
            "Epoch 2/5, Train Loss: 0.1642, Train Accuracy: 59.58%, Validation Loss: 0.1661, Validation Accuracy: 59.74\n",
            "Epoch 3/5, Train Loss: 0.1644, Train Accuracy: 59.65%, Validation Loss: 0.1643, Validation Accuracy: 60.28\n",
            "Epoch 4/5, Train Loss: 0.1640, Train Accuracy: 59.68%, Validation Loss: 0.1644, Validation Accuracy: 60.20\n"
          ]
        },
        {
          "output_type": "stream",
          "name": "stderr",
          "text": [
            "\r 80%|███████▉  | 86/108 [18:55<04:24, 12.03s/it]"
          ]
        },
        {
          "output_type": "stream",
          "name": "stdout",
          "text": [
            "Epoch 5/5, Train Loss: 0.1636, Train Accuracy: 59.76%, Validation Loss: 0.1616, Validation Accuracy: 60.20\n",
            "Hyperparameters: LR=0.01, Optimizer=SGD, Loss=FocalLoss, Batch Size=64, Embedding Dim=200, Test Loss: 0.1643, Test Accuracy: 59.70\n",
            "Epoch 1/5, Train Loss: 0.1669, Train Accuracy: 58.94%, Validation Loss: 0.1698, Validation Accuracy: 57.17\n",
            "Epoch 2/5, Train Loss: 0.1656, Train Accuracy: 59.19%, Validation Loss: 0.1611, Validation Accuracy: 60.20\n",
            "Epoch 3/5, Train Loss: 0.1647, Train Accuracy: 59.50%, Validation Loss: 0.1613, Validation Accuracy: 60.20\n",
            "Epoch 4/5, Train Loss: 0.1641, Train Accuracy: 59.40%, Validation Loss: 0.1610, Validation Accuracy: 60.20\n"
          ]
        },
        {
          "output_type": "stream",
          "name": "stderr",
          "text": [
            "\r 81%|████████  | 87/108 [19:11<04:41, 13.43s/it]"
          ]
        },
        {
          "output_type": "stream",
          "name": "stdout",
          "text": [
            "Epoch 5/5, Train Loss: 0.1651, Train Accuracy: 59.31%, Validation Loss: 0.1605, Validation Accuracy: 60.20\n",
            "Hyperparameters: LR=0.01, Optimizer=SGD, Loss=FocalLoss, Batch Size=64, Embedding Dim=300, Test Loss: 0.1626, Test Accuracy: 59.70\n",
            "Epoch 1/5, Train Loss: 0.1631, Train Accuracy: 59.88%, Validation Loss: 0.1600, Validation Accuracy: 60.20\n",
            "Epoch 2/5, Train Loss: 0.1631, Train Accuracy: 59.87%, Validation Loss: 0.1597, Validation Accuracy: 60.20\n",
            "Epoch 3/5, Train Loss: 0.1631, Train Accuracy: 59.87%, Validation Loss: 0.1608, Validation Accuracy: 60.20\n",
            "Epoch 4/5, Train Loss: 0.1625, Train Accuracy: 59.87%, Validation Loss: 0.1590, Validation Accuracy: 60.20\n"
          ]
        },
        {
          "output_type": "stream",
          "name": "stderr",
          "text": [
            "\r 81%|████████▏ | 88/108 [19:18<03:48, 11.44s/it]"
          ]
        },
        {
          "output_type": "stream",
          "name": "stdout",
          "text": [
            "Epoch 5/5, Train Loss: 0.1625, Train Accuracy: 59.87%, Validation Loss: 0.1589, Validation Accuracy: 60.20\n",
            "Hyperparameters: LR=0.01, Optimizer=SGD, Loss=FocalLoss, Batch Size=128, Embedding Dim=100, Test Loss: 0.1612, Test Accuracy: 59.70\n",
            "Epoch 1/5, Train Loss: 0.1633, Train Accuracy: 59.86%, Validation Loss: 0.1617, Validation Accuracy: 60.75\n",
            "Epoch 2/5, Train Loss: 0.1631, Train Accuracy: 59.87%, Validation Loss: 0.1588, Validation Accuracy: 60.28\n",
            "Epoch 3/5, Train Loss: 0.1633, Train Accuracy: 59.84%, Validation Loss: 0.1589, Validation Accuracy: 60.28\n",
            "Epoch 4/5, Train Loss: 0.1631, Train Accuracy: 59.87%, Validation Loss: 0.1677, Validation Accuracy: 59.42\n"
          ]
        },
        {
          "output_type": "stream",
          "name": "stderr",
          "text": [
            "\r 82%|████████▏ | 89/108 [19:29<03:34, 11.29s/it]"
          ]
        },
        {
          "output_type": "stream",
          "name": "stdout",
          "text": [
            "Epoch 5/5, Train Loss: 0.1626, Train Accuracy: 59.85%, Validation Loss: 0.1588, Validation Accuracy: 60.20\n",
            "Hyperparameters: LR=0.01, Optimizer=SGD, Loss=FocalLoss, Batch Size=128, Embedding Dim=200, Test Loss: 0.1620, Test Accuracy: 59.70\n",
            "Epoch 1/5, Train Loss: 0.1662, Train Accuracy: 59.81%, Validation Loss: 0.1664, Validation Accuracy: 60.20\n",
            "Epoch 2/5, Train Loss: 0.1642, Train Accuracy: 59.64%, Validation Loss: 0.1771, Validation Accuracy: 48.21\n",
            "Epoch 3/5, Train Loss: 0.1630, Train Accuracy: 59.67%, Validation Loss: 0.1604, Validation Accuracy: 60.20\n",
            "Epoch 4/5, Train Loss: 0.1632, Train Accuracy: 59.85%, Validation Loss: 0.1613, Validation Accuracy: 60.20\n"
          ]
        },
        {
          "output_type": "stream",
          "name": "stderr",
          "text": [
            "\r 83%|████████▎ | 90/108 [19:46<03:53, 12.95s/it]"
          ]
        },
        {
          "output_type": "stream",
          "name": "stdout",
          "text": [
            "Epoch 5/5, Train Loss: 0.1639, Train Accuracy: 59.79%, Validation Loss: 0.1608, Validation Accuracy: 60.20\n",
            "Hyperparameters: LR=0.01, Optimizer=SGD, Loss=FocalLoss, Batch Size=128, Embedding Dim=300, Test Loss: 0.1603, Test Accuracy: 59.70\n",
            "Epoch 1/5, Train Loss: 0.7847, Train Accuracy: 57.49%, Validation Loss: 0.6709, Validation Accuracy: 60.20\n",
            "Epoch 2/5, Train Loss: 0.6757, Train Accuracy: 59.87%, Validation Loss: 0.6709, Validation Accuracy: 60.20\n",
            "Epoch 3/5, Train Loss: 0.6746, Train Accuracy: 59.89%, Validation Loss: 0.6920, Validation Accuracy: 60.20\n",
            "Epoch 4/5, Train Loss: 0.6760, Train Accuracy: 59.64%, Validation Loss: 0.6709, Validation Accuracy: 60.20\n"
          ]
        },
        {
          "output_type": "stream",
          "name": "stderr",
          "text": [
            "\r 84%|████████▍ | 91/108 [19:58<03:35, 12.68s/it]"
          ]
        },
        {
          "output_type": "stream",
          "name": "stdout",
          "text": [
            "Epoch 5/5, Train Loss: 0.6755, Train Accuracy: 59.60%, Validation Loss: 0.6720, Validation Accuracy: 60.20\n",
            "Hyperparameters: LR=0.01, Optimizer=RMSprop, Loss=CrossEntropyLoss, Batch Size=32, Embedding Dim=100, Test Loss: 0.6742, Test Accuracy: 59.70\n",
            "Epoch 1/5, Train Loss: 0.9504, Train Accuracy: 56.56%, Validation Loss: 0.6718, Validation Accuracy: 60.20\n",
            "Epoch 2/5, Train Loss: 0.6783, Train Accuracy: 59.67%, Validation Loss: 0.6709, Validation Accuracy: 60.20\n",
            "Epoch 3/5, Train Loss: 0.6801, Train Accuracy: 59.48%, Validation Loss: 0.6719, Validation Accuracy: 60.20\n",
            "Epoch 4/5, Train Loss: 0.6781, Train Accuracy: 59.87%, Validation Loss: 0.6714, Validation Accuracy: 60.20\n"
          ]
        },
        {
          "output_type": "stream",
          "name": "stderr",
          "text": [
            "\r 85%|████████▌ | 92/108 [20:13<03:32, 13.26s/it]"
          ]
        },
        {
          "output_type": "stream",
          "name": "stdout",
          "text": [
            "Epoch 5/5, Train Loss: 0.6774, Train Accuracy: 59.66%, Validation Loss: 0.6709, Validation Accuracy: 60.20\n",
            "Hyperparameters: LR=0.01, Optimizer=RMSprop, Loss=CrossEntropyLoss, Batch Size=32, Embedding Dim=200, Test Loss: 0.6737, Test Accuracy: 59.70\n",
            "Epoch 1/5, Train Loss: 1.1262, Train Accuracy: 55.57%, Validation Loss: 0.6731, Validation Accuracy: 60.20\n",
            "Epoch 2/5, Train Loss: 0.6762, Train Accuracy: 59.79%, Validation Loss: 0.6716, Validation Accuracy: 60.20\n",
            "Epoch 3/5, Train Loss: 0.6889, Train Accuracy: 59.17%, Validation Loss: 0.6714, Validation Accuracy: 60.20\n",
            "Epoch 4/5, Train Loss: 0.6890, Train Accuracy: 59.23%, Validation Loss: 0.6712, Validation Accuracy: 60.20\n"
          ]
        },
        {
          "output_type": "stream",
          "name": "stderr",
          "text": [
            "\r 86%|████████▌ | 93/108 [20:32<03:46, 15.07s/it]"
          ]
        },
        {
          "output_type": "stream",
          "name": "stdout",
          "text": [
            "Epoch 5/5, Train Loss: 0.6746, Train Accuracy: 59.77%, Validation Loss: 0.6716, Validation Accuracy: 60.20\n",
            "Hyperparameters: LR=0.01, Optimizer=RMSprop, Loss=CrossEntropyLoss, Batch Size=32, Embedding Dim=300, Test Loss: 0.6749, Test Accuracy: 59.70\n",
            "Epoch 1/5, Train Loss: 0.8969, Train Accuracy: 55.51%, Validation Loss: 0.6780, Validation Accuracy: 60.20\n",
            "Epoch 2/5, Train Loss: 0.6803, Train Accuracy: 58.64%, Validation Loss: 0.6719, Validation Accuracy: 60.20\n",
            "Epoch 3/5, Train Loss: 0.6752, Train Accuracy: 59.87%, Validation Loss: 0.6697, Validation Accuracy: 60.20\n",
            "Epoch 4/5, Train Loss: 0.6739, Train Accuracy: 59.87%, Validation Loss: 0.6696, Validation Accuracy: 60.20\n"
          ]
        },
        {
          "output_type": "stream",
          "name": "stderr",
          "text": [
            "\r 87%|████████▋ | 94/108 [20:39<02:58, 12.76s/it]"
          ]
        },
        {
          "output_type": "stream",
          "name": "stdout",
          "text": [
            "Epoch 5/5, Train Loss: 0.6743, Train Accuracy: 59.87%, Validation Loss: 0.6694, Validation Accuracy: 60.20\n",
            "Hyperparameters: LR=0.01, Optimizer=RMSprop, Loss=CrossEntropyLoss, Batch Size=64, Embedding Dim=100, Test Loss: 0.6732, Test Accuracy: 59.70\n",
            "Epoch 1/5, Train Loss: 1.2025, Train Accuracy: 54.96%, Validation Loss: 0.7625, Validation Accuracy: 39.80\n",
            "Epoch 2/5, Train Loss: 0.6799, Train Accuracy: 59.07%, Validation Loss: 0.6696, Validation Accuracy: 60.20\n",
            "Epoch 3/5, Train Loss: 0.6749, Train Accuracy: 59.87%, Validation Loss: 0.6694, Validation Accuracy: 60.20\n",
            "Epoch 4/5, Train Loss: 0.6740, Train Accuracy: 59.87%, Validation Loss: 0.6695, Validation Accuracy: 60.20\n"
          ]
        },
        {
          "output_type": "stream",
          "name": "stderr",
          "text": [
            "\r 88%|████████▊ | 95/108 [20:51<02:40, 12.36s/it]"
          ]
        },
        {
          "output_type": "stream",
          "name": "stdout",
          "text": [
            "Epoch 5/5, Train Loss: 0.6885, Train Accuracy: 58.97%, Validation Loss: 0.6700, Validation Accuracy: 60.20\n",
            "Hyperparameters: LR=0.01, Optimizer=RMSprop, Loss=CrossEntropyLoss, Batch Size=64, Embedding Dim=200, Test Loss: 0.6731, Test Accuracy: 59.70\n",
            "Epoch 1/5, Train Loss: 1.4673, Train Accuracy: 56.46%, Validation Loss: 0.7965, Validation Accuracy: 39.80\n",
            "Epoch 2/5, Train Loss: 0.6783, Train Accuracy: 59.25%, Validation Loss: 0.6695, Validation Accuracy: 60.20\n",
            "Epoch 3/5, Train Loss: 0.6746, Train Accuracy: 59.87%, Validation Loss: 0.6694, Validation Accuracy: 60.20\n",
            "Epoch 4/5, Train Loss: 0.6745, Train Accuracy: 59.73%, Validation Loss: 0.8437, Validation Accuracy: 39.80\n"
          ]
        },
        {
          "output_type": "stream",
          "name": "stderr",
          "text": [
            "\r 89%|████████▉ | 96/108 [21:08<02:45, 13.76s/it]"
          ]
        },
        {
          "output_type": "stream",
          "name": "stdout",
          "text": [
            "Epoch 5/5, Train Loss: 0.7346, Train Accuracy: 58.39%, Validation Loss: 0.6811, Validation Accuracy: 60.20\n",
            "Hyperparameters: LR=0.01, Optimizer=RMSprop, Loss=CrossEntropyLoss, Batch Size=64, Embedding Dim=300, Test Loss: 0.6875, Test Accuracy: 59.70\n",
            "Epoch 1/5, Train Loss: 1.0058, Train Accuracy: 55.25%, Validation Loss: 0.6695, Validation Accuracy: 60.20\n",
            "Epoch 2/5, Train Loss: 0.6860, Train Accuracy: 57.71%, Validation Loss: 0.7553, Validation Accuracy: 60.20\n",
            "Epoch 3/5, Train Loss: 0.6831, Train Accuracy: 58.80%, Validation Loss: 0.7729, Validation Accuracy: 39.80\n",
            "Epoch 4/5, Train Loss: 0.6775, Train Accuracy: 59.56%, Validation Loss: 0.6665, Validation Accuracy: 60.20\n"
          ]
        },
        {
          "output_type": "stream",
          "name": "stderr",
          "text": [
            "\r 90%|████████▉ | 97/108 [21:15<02:08, 11.70s/it]"
          ]
        },
        {
          "output_type": "stream",
          "name": "stdout",
          "text": [
            "Epoch 5/5, Train Loss: 0.6755, Train Accuracy: 59.87%, Validation Loss: 0.6726, Validation Accuracy: 60.20\n",
            "Hyperparameters: LR=0.01, Optimizer=RMSprop, Loss=CrossEntropyLoss, Batch Size=128, Embedding Dim=100, Test Loss: 0.6809, Test Accuracy: 59.70\n",
            "Epoch 1/5, Train Loss: 1.6355, Train Accuracy: 52.14%, Validation Loss: 0.7629, Validation Accuracy: 60.20\n",
            "Epoch 2/5, Train Loss: 0.7095, Train Accuracy: 54.57%, Validation Loss: 0.6899, Validation Accuracy: 60.20\n",
            "Epoch 3/5, Train Loss: 0.6954, Train Accuracy: 55.63%, Validation Loss: 0.6757, Validation Accuracy: 60.20\n",
            "Epoch 4/5, Train Loss: 0.6824, Train Accuracy: 58.95%, Validation Loss: 0.6667, Validation Accuracy: 60.20\n"
          ]
        },
        {
          "output_type": "stream",
          "name": "stderr",
          "text": [
            "\r 91%|█████████ | 98/108 [21:26<01:55, 11.54s/it]"
          ]
        },
        {
          "output_type": "stream",
          "name": "stdout",
          "text": [
            "Epoch 5/5, Train Loss: 0.6798, Train Accuracy: 58.84%, Validation Loss: 0.6665, Validation Accuracy: 60.20\n",
            "Hyperparameters: LR=0.01, Optimizer=RMSprop, Loss=CrossEntropyLoss, Batch Size=128, Embedding Dim=200, Test Loss: 0.6723, Test Accuracy: 59.70\n",
            "Epoch 1/5, Train Loss: 2.0344, Train Accuracy: 52.15%, Validation Loss: 0.6804, Validation Accuracy: 60.20\n",
            "Epoch 2/5, Train Loss: 0.6984, Train Accuracy: 55.70%, Validation Loss: 0.6770, Validation Accuracy: 60.20\n",
            "Epoch 3/5, Train Loss: 0.6860, Train Accuracy: 57.98%, Validation Loss: 0.7105, Validation Accuracy: 60.20\n",
            "Epoch 4/5, Train Loss: 0.6801, Train Accuracy: 59.60%, Validation Loss: 0.6821, Validation Accuracy: 60.20\n"
          ]
        },
        {
          "output_type": "stream",
          "name": "stderr",
          "text": [
            "\r 92%|█████████▏| 99/108 [21:43<01:58, 13.16s/it]"
          ]
        },
        {
          "output_type": "stream",
          "name": "stdout",
          "text": [
            "Epoch 5/5, Train Loss: 0.6778, Train Accuracy: 59.03%, Validation Loss: 0.6681, Validation Accuracy: 60.20\n",
            "Hyperparameters: LR=0.01, Optimizer=RMSprop, Loss=CrossEntropyLoss, Batch Size=128, Embedding Dim=300, Test Loss: 0.6722, Test Accuracy: 59.70\n",
            "Epoch 1/5, Train Loss: 0.2733, Train Accuracy: 56.15%, Validation Loss: 0.1613, Validation Accuracy: 60.20\n",
            "Epoch 2/5, Train Loss: 0.1635, Train Accuracy: 59.77%, Validation Loss: 0.1608, Validation Accuracy: 60.20\n",
            "Epoch 3/5, Train Loss: 0.1653, Train Accuracy: 59.62%, Validation Loss: 0.1612, Validation Accuracy: 60.20\n",
            "Epoch 4/5, Train Loss: 0.1628, Train Accuracy: 59.87%, Validation Loss: 0.1608, Validation Accuracy: 60.20\n"
          ]
        },
        {
          "output_type": "stream",
          "name": "stderr",
          "text": [
            "\r 93%|█████████▎| 100/108 [21:56<01:44, 13.11s/it]"
          ]
        },
        {
          "output_type": "stream",
          "name": "stdout",
          "text": [
            "Epoch 5/5, Train Loss: 0.1638, Train Accuracy: 59.87%, Validation Loss: 0.1629, Validation Accuracy: 60.20\n",
            "Hyperparameters: LR=0.01, Optimizer=RMSprop, Loss=FocalLoss, Batch Size=32, Embedding Dim=100, Test Loss: 0.1639, Test Accuracy: 59.70\n",
            "Epoch 1/5, Train Loss: 0.3820, Train Accuracy: 56.77%, Validation Loss: 0.1647, Validation Accuracy: 60.20\n",
            "Epoch 2/5, Train Loss: 0.1652, Train Accuracy: 59.54%, Validation Loss: 0.1610, Validation Accuracy: 60.20\n",
            "Epoch 3/5, Train Loss: 0.1633, Train Accuracy: 59.81%, Validation Loss: 0.1640, Validation Accuracy: 60.20\n",
            "Epoch 4/5, Train Loss: 0.1791, Train Accuracy: 59.21%, Validation Loss: 0.1608, Validation Accuracy: 60.20\n"
          ]
        },
        {
          "output_type": "stream",
          "name": "stderr",
          "text": [
            "\r 94%|█████████▎| 101/108 [22:11<01:35, 13.69s/it]"
          ]
        },
        {
          "output_type": "stream",
          "name": "stdout",
          "text": [
            "Epoch 5/5, Train Loss: 0.1634, Train Accuracy: 59.87%, Validation Loss: 0.1611, Validation Accuracy: 60.20\n",
            "Hyperparameters: LR=0.01, Optimizer=RMSprop, Loss=FocalLoss, Batch Size=32, Embedding Dim=200, Test Loss: 0.1624, Test Accuracy: 59.70\n",
            "Epoch 1/5, Train Loss: 0.6325, Train Accuracy: 55.78%, Validation Loss: 0.1682, Validation Accuracy: 60.20\n",
            "Epoch 2/5, Train Loss: 0.1636, Train Accuracy: 59.64%, Validation Loss: 0.1609, Validation Accuracy: 60.20\n",
            "Epoch 3/5, Train Loss: 0.1811, Train Accuracy: 59.77%, Validation Loss: 0.1608, Validation Accuracy: 60.20\n",
            "Epoch 4/5, Train Loss: 0.1628, Train Accuracy: 59.87%, Validation Loss: 0.1613, Validation Accuracy: 60.20\n"
          ]
        },
        {
          "output_type": "stream",
          "name": "stderr",
          "text": [
            "\r 94%|█████████▍| 102/108 [22:30<01:31, 15.31s/it]"
          ]
        },
        {
          "output_type": "stream",
          "name": "stdout",
          "text": [
            "Epoch 5/5, Train Loss: 0.1885, Train Accuracy: 59.17%, Validation Loss: 0.1609, Validation Accuracy: 60.20\n",
            "Hyperparameters: LR=0.01, Optimizer=RMSprop, Loss=FocalLoss, Batch Size=32, Embedding Dim=300, Test Loss: 0.1627, Test Accuracy: 59.70\n",
            "Epoch 1/5, Train Loss: 0.3941, Train Accuracy: 55.07%, Validation Loss: 0.1691, Validation Accuracy: 60.20\n",
            "Epoch 2/5, Train Loss: 0.1685, Train Accuracy: 58.35%, Validation Loss: 0.1666, Validation Accuracy: 60.20\n",
            "Epoch 3/5, Train Loss: 0.1638, Train Accuracy: 59.83%, Validation Loss: 0.1612, Validation Accuracy: 60.20\n",
            "Epoch 4/5, Train Loss: 0.1626, Train Accuracy: 59.87%, Validation Loss: 0.1599, Validation Accuracy: 60.20\n"
          ]
        },
        {
          "output_type": "stream",
          "name": "stderr",
          "text": [
            "\r 95%|█████████▌| 103/108 [22:39<01:06, 13.29s/it]"
          ]
        },
        {
          "output_type": "stream",
          "name": "stdout",
          "text": [
            "Epoch 5/5, Train Loss: 0.1622, Train Accuracy: 59.87%, Validation Loss: 0.1598, Validation Accuracy: 60.20\n",
            "Hyperparameters: LR=0.01, Optimizer=RMSprop, Loss=FocalLoss, Batch Size=64, Embedding Dim=100, Test Loss: 0.1619, Test Accuracy: 59.70\n",
            "Epoch 1/5, Train Loss: 0.6397, Train Accuracy: 55.78%, Validation Loss: 0.2844, Validation Accuracy: 39.80\n",
            "Epoch 2/5, Train Loss: 0.1706, Train Accuracy: 58.10%, Validation Loss: 0.1602, Validation Accuracy: 60.20\n",
            "Epoch 3/5, Train Loss: 0.1642, Train Accuracy: 59.21%, Validation Loss: 0.1717, Validation Accuracy: 60.20\n",
            "Epoch 4/5, Train Loss: 0.1640, Train Accuracy: 59.87%, Validation Loss: 0.1612, Validation Accuracy: 60.20\n"
          ]
        },
        {
          "output_type": "stream",
          "name": "stderr",
          "text": [
            "\r 96%|█████████▋| 104/108 [22:50<00:50, 12.68s/it]"
          ]
        },
        {
          "output_type": "stream",
          "name": "stdout",
          "text": [
            "Epoch 5/5, Train Loss: 0.1637, Train Accuracy: 59.67%, Validation Loss: 0.1605, Validation Accuracy: 60.20\n",
            "Hyperparameters: LR=0.01, Optimizer=RMSprop, Loss=FocalLoss, Batch Size=64, Embedding Dim=200, Test Loss: 0.1621, Test Accuracy: 59.70\n",
            "Epoch 1/5, Train Loss: 0.9223, Train Accuracy: 54.79%, Validation Loss: 0.1866, Validation Accuracy: 60.20\n",
            "Epoch 2/5, Train Loss: 0.1729, Train Accuracy: 58.15%, Validation Loss: 0.1601, Validation Accuracy: 60.20\n",
            "Epoch 3/5, Train Loss: 0.1644, Train Accuracy: 59.29%, Validation Loss: 0.1605, Validation Accuracy: 60.20\n",
            "Epoch 4/5, Train Loss: 0.1625, Train Accuracy: 59.87%, Validation Loss: 0.1600, Validation Accuracy: 60.20\n"
          ]
        },
        {
          "output_type": "stream",
          "name": "stderr",
          "text": [
            "\r 97%|█████████▋| 105/108 [23:07<00:42, 14.01s/it]"
          ]
        },
        {
          "output_type": "stream",
          "name": "stdout",
          "text": [
            "Epoch 5/5, Train Loss: 0.1622, Train Accuracy: 59.87%, Validation Loss: 0.1605, Validation Accuracy: 60.20\n",
            "Hyperparameters: LR=0.01, Optimizer=RMSprop, Loss=FocalLoss, Batch Size=64, Embedding Dim=300, Test Loss: 0.1621, Test Accuracy: 59.70\n",
            "Epoch 1/5, Train Loss: 0.5540, Train Accuracy: 57.02%, Validation Loss: 0.1876, Validation Accuracy: 39.80\n",
            "Epoch 2/5, Train Loss: 0.1800, Train Accuracy: 56.23%, Validation Loss: 0.1582, Validation Accuracy: 60.20\n",
            "Epoch 3/5, Train Loss: 0.1662, Train Accuracy: 58.74%, Validation Loss: 0.1589, Validation Accuracy: 60.20\n",
            "Epoch 4/5, Train Loss: 0.1676, Train Accuracy: 58.55%, Validation Loss: 0.1583, Validation Accuracy: 60.20\n"
          ]
        },
        {
          "output_type": "stream",
          "name": "stderr",
          "text": [
            "\r 98%|█████████▊| 106/108 [23:14<00:23, 11.88s/it]"
          ]
        },
        {
          "output_type": "stream",
          "name": "stdout",
          "text": [
            "Epoch 5/5, Train Loss: 0.1638, Train Accuracy: 59.73%, Validation Loss: 0.1587, Validation Accuracy: 60.20\n",
            "Hyperparameters: LR=0.01, Optimizer=RMSprop, Loss=FocalLoss, Batch Size=128, Embedding Dim=100, Test Loss: 0.1611, Test Accuracy: 59.70\n",
            "Epoch 1/5, Train Loss: 1.1911, Train Accuracy: 55.16%, Validation Loss: 0.2148, Validation Accuracy: 39.80\n",
            "Epoch 2/5, Train Loss: 0.1708, Train Accuracy: 58.21%, Validation Loss: 0.1594, Validation Accuracy: 60.20\n",
            "Epoch 3/5, Train Loss: 0.1742, Train Accuracy: 57.10%, Validation Loss: 0.1603, Validation Accuracy: 60.20\n",
            "Epoch 4/5, Train Loss: 0.1764, Train Accuracy: 57.43%, Validation Loss: 0.1633, Validation Accuracy: 60.20\n"
          ]
        },
        {
          "output_type": "stream",
          "name": "stderr",
          "text": [
            "\r 99%|█████████▉| 107/108 [23:25<00:11, 11.67s/it]"
          ]
        },
        {
          "output_type": "stream",
          "name": "stdout",
          "text": [
            "Epoch 5/5, Train Loss: 0.1639, Train Accuracy: 59.40%, Validation Loss: 0.2021, Validation Accuracy: 60.20\n",
            "Hyperparameters: LR=0.01, Optimizer=RMSprop, Loss=FocalLoss, Batch Size=128, Embedding Dim=200, Test Loss: 0.2110, Test Accuracy: 59.70\n",
            "Epoch 1/5, Train Loss: 1.8355, Train Accuracy: 53.69%, Validation Loss: 0.2398, Validation Accuracy: 60.20\n",
            "Epoch 2/5, Train Loss: 0.1898, Train Accuracy: 55.66%, Validation Loss: 0.1737, Validation Accuracy: 39.80\n",
            "Epoch 3/5, Train Loss: 0.1688, Train Accuracy: 56.99%, Validation Loss: 0.1583, Validation Accuracy: 60.20\n",
            "Epoch 4/5, Train Loss: 0.1692, Train Accuracy: 57.63%, Validation Loss: 0.1843, Validation Accuracy: 60.20\n"
          ]
        },
        {
          "output_type": "stream",
          "name": "stderr",
          "text": [
            "100%|██████████| 108/108 [23:42<00:00, 13.17s/it]"
          ]
        },
        {
          "output_type": "stream",
          "name": "stdout",
          "text": [
            "Epoch 5/5, Train Loss: 0.1638, Train Accuracy: 59.50%, Validation Loss: 0.1626, Validation Accuracy: 60.20\n",
            "Hyperparameters: LR=0.01, Optimizer=RMSprop, Loss=FocalLoss, Batch Size=128, Embedding Dim=300, Test Loss: 0.1640, Test Accuracy: 59.70\n"
          ]
        },
        {
          "output_type": "stream",
          "name": "stderr",
          "text": [
            "\n"
          ]
        }
      ]
    },
    {
      "cell_type": "code",
      "source": [
        "# saving the best BERT model of all the hyperparameter combinations on Google Drive\n",
        "\n",
        "drive_file_path = '/content/drive/MyDrive/Models/bert_model2.pth'\n",
        "\n",
        "torch.save(best_model, drive_file_path)\n",
        "print(\"Best BERT model saved.\")"
      ],
      "metadata": {
        "colab": {
          "base_uri": "https://localhost:8080/"
        },
        "id": "RVREh0_Ynsyn",
        "outputId": "1bc670de-b562-4486-c9d4-de682b19c1a6"
      },
      "execution_count": 31,
      "outputs": [
        {
          "output_type": "stream",
          "name": "stdout",
          "text": [
            "Best BERT model saved.\n"
          ]
        }
      ]
    },
    {
      "cell_type": "code",
      "source": [
        "# sorting all the hyperparameter combinations on BERT Model based on 'Test Accuracy', and displaying the top 10 rows\n",
        "\n",
        "bert_df = pd.DataFrame(results)\n",
        "bert_df = bert_df.sort_values(by='Test Accuracy', ascending=False)\n",
        "\n",
        "bert_df.head(10)"
      ],
      "metadata": {
        "colab": {
          "base_uri": "https://localhost:8080/",
          "height": 363
        },
        "id": "aVFL0zt43xgK",
        "outputId": "943540fa-79e9-44c0-d097-38b88af941fd"
      },
      "execution_count": 32,
      "outputs": [
        {
          "output_type": "execute_result",
          "data": {
            "text/plain": [
              "    Learning Rate Optimizer     Loss Function  Batch Size  Embedding Dim  \\\n",
              "25          0.001       SGD  CrossEntropyLoss         128            200   \n",
              "29          0.001       SGD         FocalLoss          32            300   \n",
              "22          0.001       SGD  CrossEntropyLoss          64            200   \n",
              "54          0.010      Adam  CrossEntropyLoss          32            100   \n",
              "80          0.010       SGD  CrossEntropyLoss         128            300   \n",
              "79          0.010       SGD  CrossEntropyLoss         128            200   \n",
              "78          0.010       SGD  CrossEntropyLoss         128            100   \n",
              "76          0.010       SGD  CrossEntropyLoss          64            200   \n",
              "75          0.010       SGD  CrossEntropyLoss          64            100   \n",
              "74          0.010       SGD  CrossEntropyLoss          32            300   \n",
              "\n",
              "    Test Accuracy  \n",
              "25       0.599376  \n",
              "29       0.597818  \n",
              "22       0.597818  \n",
              "54       0.597038  \n",
              "80       0.597038  \n",
              "79       0.597038  \n",
              "78       0.597038  \n",
              "76       0.597038  \n",
              "75       0.597038  \n",
              "74       0.597038  "
            ],
            "text/html": [
              "\n",
              "  <div id=\"df-0f215bca-5751-48e3-8797-2df796971fc7\" class=\"colab-df-container\">\n",
              "    <div>\n",
              "<style scoped>\n",
              "    .dataframe tbody tr th:only-of-type {\n",
              "        vertical-align: middle;\n",
              "    }\n",
              "\n",
              "    .dataframe tbody tr th {\n",
              "        vertical-align: top;\n",
              "    }\n",
              "\n",
              "    .dataframe thead th {\n",
              "        text-align: right;\n",
              "    }\n",
              "</style>\n",
              "<table border=\"1\" class=\"dataframe\">\n",
              "  <thead>\n",
              "    <tr style=\"text-align: right;\">\n",
              "      <th></th>\n",
              "      <th>Learning Rate</th>\n",
              "      <th>Optimizer</th>\n",
              "      <th>Loss Function</th>\n",
              "      <th>Batch Size</th>\n",
              "      <th>Embedding Dim</th>\n",
              "      <th>Test Accuracy</th>\n",
              "    </tr>\n",
              "  </thead>\n",
              "  <tbody>\n",
              "    <tr>\n",
              "      <th>25</th>\n",
              "      <td>0.001</td>\n",
              "      <td>SGD</td>\n",
              "      <td>CrossEntropyLoss</td>\n",
              "      <td>128</td>\n",
              "      <td>200</td>\n",
              "      <td>0.599376</td>\n",
              "    </tr>\n",
              "    <tr>\n",
              "      <th>29</th>\n",
              "      <td>0.001</td>\n",
              "      <td>SGD</td>\n",
              "      <td>FocalLoss</td>\n",
              "      <td>32</td>\n",
              "      <td>300</td>\n",
              "      <td>0.597818</td>\n",
              "    </tr>\n",
              "    <tr>\n",
              "      <th>22</th>\n",
              "      <td>0.001</td>\n",
              "      <td>SGD</td>\n",
              "      <td>CrossEntropyLoss</td>\n",
              "      <td>64</td>\n",
              "      <td>200</td>\n",
              "      <td>0.597818</td>\n",
              "    </tr>\n",
              "    <tr>\n",
              "      <th>54</th>\n",
              "      <td>0.010</td>\n",
              "      <td>Adam</td>\n",
              "      <td>CrossEntropyLoss</td>\n",
              "      <td>32</td>\n",
              "      <td>100</td>\n",
              "      <td>0.597038</td>\n",
              "    </tr>\n",
              "    <tr>\n",
              "      <th>80</th>\n",
              "      <td>0.010</td>\n",
              "      <td>SGD</td>\n",
              "      <td>CrossEntropyLoss</td>\n",
              "      <td>128</td>\n",
              "      <td>300</td>\n",
              "      <td>0.597038</td>\n",
              "    </tr>\n",
              "    <tr>\n",
              "      <th>79</th>\n",
              "      <td>0.010</td>\n",
              "      <td>SGD</td>\n",
              "      <td>CrossEntropyLoss</td>\n",
              "      <td>128</td>\n",
              "      <td>200</td>\n",
              "      <td>0.597038</td>\n",
              "    </tr>\n",
              "    <tr>\n",
              "      <th>78</th>\n",
              "      <td>0.010</td>\n",
              "      <td>SGD</td>\n",
              "      <td>CrossEntropyLoss</td>\n",
              "      <td>128</td>\n",
              "      <td>100</td>\n",
              "      <td>0.597038</td>\n",
              "    </tr>\n",
              "    <tr>\n",
              "      <th>76</th>\n",
              "      <td>0.010</td>\n",
              "      <td>SGD</td>\n",
              "      <td>CrossEntropyLoss</td>\n",
              "      <td>64</td>\n",
              "      <td>200</td>\n",
              "      <td>0.597038</td>\n",
              "    </tr>\n",
              "    <tr>\n",
              "      <th>75</th>\n",
              "      <td>0.010</td>\n",
              "      <td>SGD</td>\n",
              "      <td>CrossEntropyLoss</td>\n",
              "      <td>64</td>\n",
              "      <td>100</td>\n",
              "      <td>0.597038</td>\n",
              "    </tr>\n",
              "    <tr>\n",
              "      <th>74</th>\n",
              "      <td>0.010</td>\n",
              "      <td>SGD</td>\n",
              "      <td>CrossEntropyLoss</td>\n",
              "      <td>32</td>\n",
              "      <td>300</td>\n",
              "      <td>0.597038</td>\n",
              "    </tr>\n",
              "  </tbody>\n",
              "</table>\n",
              "</div>\n",
              "    <div class=\"colab-df-buttons\">\n",
              "\n",
              "  <div class=\"colab-df-container\">\n",
              "    <button class=\"colab-df-convert\" onclick=\"convertToInteractive('df-0f215bca-5751-48e3-8797-2df796971fc7')\"\n",
              "            title=\"Convert this dataframe to an interactive table.\"\n",
              "            style=\"display:none;\">\n",
              "\n",
              "  <svg xmlns=\"http://www.w3.org/2000/svg\" height=\"24px\" viewBox=\"0 -960 960 960\">\n",
              "    <path d=\"M120-120v-720h720v720H120Zm60-500h600v-160H180v160Zm220 220h160v-160H400v160Zm0 220h160v-160H400v160ZM180-400h160v-160H180v160Zm440 0h160v-160H620v160ZM180-180h160v-160H180v160Zm440 0h160v-160H620v160Z\"/>\n",
              "  </svg>\n",
              "    </button>\n",
              "\n",
              "  <style>\n",
              "    .colab-df-container {\n",
              "      display:flex;\n",
              "      gap: 12px;\n",
              "    }\n",
              "\n",
              "    .colab-df-convert {\n",
              "      background-color: #E8F0FE;\n",
              "      border: none;\n",
              "      border-radius: 50%;\n",
              "      cursor: pointer;\n",
              "      display: none;\n",
              "      fill: #1967D2;\n",
              "      height: 32px;\n",
              "      padding: 0 0 0 0;\n",
              "      width: 32px;\n",
              "    }\n",
              "\n",
              "    .colab-df-convert:hover {\n",
              "      background-color: #E2EBFA;\n",
              "      box-shadow: 0px 1px 2px rgba(60, 64, 67, 0.3), 0px 1px 3px 1px rgba(60, 64, 67, 0.15);\n",
              "      fill: #174EA6;\n",
              "    }\n",
              "\n",
              "    .colab-df-buttons div {\n",
              "      margin-bottom: 4px;\n",
              "    }\n",
              "\n",
              "    [theme=dark] .colab-df-convert {\n",
              "      background-color: #3B4455;\n",
              "      fill: #D2E3FC;\n",
              "    }\n",
              "\n",
              "    [theme=dark] .colab-df-convert:hover {\n",
              "      background-color: #434B5C;\n",
              "      box-shadow: 0px 1px 3px 1px rgba(0, 0, 0, 0.15);\n",
              "      filter: drop-shadow(0px 1px 2px rgba(0, 0, 0, 0.3));\n",
              "      fill: #FFFFFF;\n",
              "    }\n",
              "  </style>\n",
              "\n",
              "    <script>\n",
              "      const buttonEl =\n",
              "        document.querySelector('#df-0f215bca-5751-48e3-8797-2df796971fc7 button.colab-df-convert');\n",
              "      buttonEl.style.display =\n",
              "        google.colab.kernel.accessAllowed ? 'block' : 'none';\n",
              "\n",
              "      async function convertToInteractive(key) {\n",
              "        const element = document.querySelector('#df-0f215bca-5751-48e3-8797-2df796971fc7');\n",
              "        const dataTable =\n",
              "          await google.colab.kernel.invokeFunction('convertToInteractive',\n",
              "                                                    [key], {});\n",
              "        if (!dataTable) return;\n",
              "\n",
              "        const docLinkHtml = 'Like what you see? Visit the ' +\n",
              "          '<a target=\"_blank\" href=https://colab.research.google.com/notebooks/data_table.ipynb>data table notebook</a>'\n",
              "          + ' to learn more about interactive tables.';\n",
              "        element.innerHTML = '';\n",
              "        dataTable['output_type'] = 'display_data';\n",
              "        await google.colab.output.renderOutput(dataTable, element);\n",
              "        const docLink = document.createElement('div');\n",
              "        docLink.innerHTML = docLinkHtml;\n",
              "        element.appendChild(docLink);\n",
              "      }\n",
              "    </script>\n",
              "  </div>\n",
              "\n",
              "\n",
              "<div id=\"df-d63221d4-c239-43a0-bb37-9285860840e8\">\n",
              "  <button class=\"colab-df-quickchart\" onclick=\"quickchart('df-d63221d4-c239-43a0-bb37-9285860840e8')\"\n",
              "            title=\"Suggest charts\"\n",
              "            style=\"display:none;\">\n",
              "\n",
              "<svg xmlns=\"http://www.w3.org/2000/svg\" height=\"24px\"viewBox=\"0 0 24 24\"\n",
              "     width=\"24px\">\n",
              "    <g>\n",
              "        <path d=\"M19 3H5c-1.1 0-2 .9-2 2v14c0 1.1.9 2 2 2h14c1.1 0 2-.9 2-2V5c0-1.1-.9-2-2-2zM9 17H7v-7h2v7zm4 0h-2V7h2v10zm4 0h-2v-4h2v4z\"/>\n",
              "    </g>\n",
              "</svg>\n",
              "  </button>\n",
              "\n",
              "<style>\n",
              "  .colab-df-quickchart {\n",
              "      --bg-color: #E8F0FE;\n",
              "      --fill-color: #1967D2;\n",
              "      --hover-bg-color: #E2EBFA;\n",
              "      --hover-fill-color: #174EA6;\n",
              "      --disabled-fill-color: #AAA;\n",
              "      --disabled-bg-color: #DDD;\n",
              "  }\n",
              "\n",
              "  [theme=dark] .colab-df-quickchart {\n",
              "      --bg-color: #3B4455;\n",
              "      --fill-color: #D2E3FC;\n",
              "      --hover-bg-color: #434B5C;\n",
              "      --hover-fill-color: #FFFFFF;\n",
              "      --disabled-bg-color: #3B4455;\n",
              "      --disabled-fill-color: #666;\n",
              "  }\n",
              "\n",
              "  .colab-df-quickchart {\n",
              "    background-color: var(--bg-color);\n",
              "    border: none;\n",
              "    border-radius: 50%;\n",
              "    cursor: pointer;\n",
              "    display: none;\n",
              "    fill: var(--fill-color);\n",
              "    height: 32px;\n",
              "    padding: 0;\n",
              "    width: 32px;\n",
              "  }\n",
              "\n",
              "  .colab-df-quickchart:hover {\n",
              "    background-color: var(--hover-bg-color);\n",
              "    box-shadow: 0 1px 2px rgba(60, 64, 67, 0.3), 0 1px 3px 1px rgba(60, 64, 67, 0.15);\n",
              "    fill: var(--button-hover-fill-color);\n",
              "  }\n",
              "\n",
              "  .colab-df-quickchart-complete:disabled,\n",
              "  .colab-df-quickchart-complete:disabled:hover {\n",
              "    background-color: var(--disabled-bg-color);\n",
              "    fill: var(--disabled-fill-color);\n",
              "    box-shadow: none;\n",
              "  }\n",
              "\n",
              "  .colab-df-spinner {\n",
              "    border: 2px solid var(--fill-color);\n",
              "    border-color: transparent;\n",
              "    border-bottom-color: var(--fill-color);\n",
              "    animation:\n",
              "      spin 1s steps(1) infinite;\n",
              "  }\n",
              "\n",
              "  @keyframes spin {\n",
              "    0% {\n",
              "      border-color: transparent;\n",
              "      border-bottom-color: var(--fill-color);\n",
              "      border-left-color: var(--fill-color);\n",
              "    }\n",
              "    20% {\n",
              "      border-color: transparent;\n",
              "      border-left-color: var(--fill-color);\n",
              "      border-top-color: var(--fill-color);\n",
              "    }\n",
              "    30% {\n",
              "      border-color: transparent;\n",
              "      border-left-color: var(--fill-color);\n",
              "      border-top-color: var(--fill-color);\n",
              "      border-right-color: var(--fill-color);\n",
              "    }\n",
              "    40% {\n",
              "      border-color: transparent;\n",
              "      border-right-color: var(--fill-color);\n",
              "      border-top-color: var(--fill-color);\n",
              "    }\n",
              "    60% {\n",
              "      border-color: transparent;\n",
              "      border-right-color: var(--fill-color);\n",
              "    }\n",
              "    80% {\n",
              "      border-color: transparent;\n",
              "      border-right-color: var(--fill-color);\n",
              "      border-bottom-color: var(--fill-color);\n",
              "    }\n",
              "    90% {\n",
              "      border-color: transparent;\n",
              "      border-bottom-color: var(--fill-color);\n",
              "    }\n",
              "  }\n",
              "</style>\n",
              "\n",
              "  <script>\n",
              "    async function quickchart(key) {\n",
              "      const quickchartButtonEl =\n",
              "        document.querySelector('#' + key + ' button');\n",
              "      quickchartButtonEl.disabled = true;  // To prevent multiple clicks.\n",
              "      quickchartButtonEl.classList.add('colab-df-spinner');\n",
              "      try {\n",
              "        const charts = await google.colab.kernel.invokeFunction(\n",
              "            'suggestCharts', [key], {});\n",
              "      } catch (error) {\n",
              "        console.error('Error during call to suggestCharts:', error);\n",
              "      }\n",
              "      quickchartButtonEl.classList.remove('colab-df-spinner');\n",
              "      quickchartButtonEl.classList.add('colab-df-quickchart-complete');\n",
              "    }\n",
              "    (() => {\n",
              "      let quickchartButtonEl =\n",
              "        document.querySelector('#df-d63221d4-c239-43a0-bb37-9285860840e8 button');\n",
              "      quickchartButtonEl.style.display =\n",
              "        google.colab.kernel.accessAllowed ? 'block' : 'none';\n",
              "    })();\n",
              "  </script>\n",
              "</div>\n",
              "    </div>\n",
              "  </div>\n"
            ]
          },
          "metadata": {},
          "execution_count": 32
        }
      ]
    }
  ]
}