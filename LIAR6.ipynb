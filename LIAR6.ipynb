{
  "nbformat": 4,
  "nbformat_minor": 0,
  "metadata": {
    "colab": {
      "provenance": [],
      "gpuType": "T4"
    },
    "kernelspec": {
      "name": "python3",
      "display_name": "Python 3"
    },
    "language_info": {
      "name": "python"
    },
    "widgets": {
      "application/vnd.jupyter.widget-state+json": {
        "c585d85f399047978b13bffb657baf6e": {
          "model_module": "@jupyter-widgets/controls",
          "model_name": "HBoxModel",
          "model_module_version": "1.5.0",
          "state": {
            "_dom_classes": [],
            "_model_module": "@jupyter-widgets/controls",
            "_model_module_version": "1.5.0",
            "_model_name": "HBoxModel",
            "_view_count": null,
            "_view_module": "@jupyter-widgets/controls",
            "_view_module_version": "1.5.0",
            "_view_name": "HBoxView",
            "box_style": "",
            "children": [
              "IPY_MODEL_bb86e6e6593c41f2b81829a4b76242f3",
              "IPY_MODEL_19e16b8047af4e8f9699859083ca5d0f",
              "IPY_MODEL_b276d131e3984ed7ab7b848073486039"
            ],
            "layout": "IPY_MODEL_6862731820f9485b850841f7d2713a1d"
          }
        },
        "bb86e6e6593c41f2b81829a4b76242f3": {
          "model_module": "@jupyter-widgets/controls",
          "model_name": "HTMLModel",
          "model_module_version": "1.5.0",
          "state": {
            "_dom_classes": [],
            "_model_module": "@jupyter-widgets/controls",
            "_model_module_version": "1.5.0",
            "_model_name": "HTMLModel",
            "_view_count": null,
            "_view_module": "@jupyter-widgets/controls",
            "_view_module_version": "1.5.0",
            "_view_name": "HTMLView",
            "description": "",
            "description_tooltip": null,
            "layout": "IPY_MODEL_d8550839021a451885b589853cfa99e3",
            "placeholder": "​",
            "style": "IPY_MODEL_c60dc45b140b43ca804dc5f8bfb86c48",
            "value": "Downloading builder script: 100%"
          }
        },
        "19e16b8047af4e8f9699859083ca5d0f": {
          "model_module": "@jupyter-widgets/controls",
          "model_name": "FloatProgressModel",
          "model_module_version": "1.5.0",
          "state": {
            "_dom_classes": [],
            "_model_module": "@jupyter-widgets/controls",
            "_model_module_version": "1.5.0",
            "_model_name": "FloatProgressModel",
            "_view_count": null,
            "_view_module": "@jupyter-widgets/controls",
            "_view_module_version": "1.5.0",
            "_view_name": "ProgressView",
            "bar_style": "success",
            "description": "",
            "description_tooltip": null,
            "layout": "IPY_MODEL_fe65e1da8fa844039a281424aad4de42",
            "max": 6410,
            "min": 0,
            "orientation": "horizontal",
            "style": "IPY_MODEL_40e5504fc0f145679087902be700942e",
            "value": 6410
          }
        },
        "b276d131e3984ed7ab7b848073486039": {
          "model_module": "@jupyter-widgets/controls",
          "model_name": "HTMLModel",
          "model_module_version": "1.5.0",
          "state": {
            "_dom_classes": [],
            "_model_module": "@jupyter-widgets/controls",
            "_model_module_version": "1.5.0",
            "_model_name": "HTMLModel",
            "_view_count": null,
            "_view_module": "@jupyter-widgets/controls",
            "_view_module_version": "1.5.0",
            "_view_name": "HTMLView",
            "description": "",
            "description_tooltip": null,
            "layout": "IPY_MODEL_153bcf55126e488e86cf1d9888bef3d3",
            "placeholder": "​",
            "style": "IPY_MODEL_463df2af508441858a0dc7c4d1fb0178",
            "value": " 6.41k/6.41k [00:00&lt;00:00, 353kB/s]"
          }
        },
        "6862731820f9485b850841f7d2713a1d": {
          "model_module": "@jupyter-widgets/base",
          "model_name": "LayoutModel",
          "model_module_version": "1.2.0",
          "state": {
            "_model_module": "@jupyter-widgets/base",
            "_model_module_version": "1.2.0",
            "_model_name": "LayoutModel",
            "_view_count": null,
            "_view_module": "@jupyter-widgets/base",
            "_view_module_version": "1.2.0",
            "_view_name": "LayoutView",
            "align_content": null,
            "align_items": null,
            "align_self": null,
            "border": null,
            "bottom": null,
            "display": null,
            "flex": null,
            "flex_flow": null,
            "grid_area": null,
            "grid_auto_columns": null,
            "grid_auto_flow": null,
            "grid_auto_rows": null,
            "grid_column": null,
            "grid_gap": null,
            "grid_row": null,
            "grid_template_areas": null,
            "grid_template_columns": null,
            "grid_template_rows": null,
            "height": null,
            "justify_content": null,
            "justify_items": null,
            "left": null,
            "margin": null,
            "max_height": null,
            "max_width": null,
            "min_height": null,
            "min_width": null,
            "object_fit": null,
            "object_position": null,
            "order": null,
            "overflow": null,
            "overflow_x": null,
            "overflow_y": null,
            "padding": null,
            "right": null,
            "top": null,
            "visibility": null,
            "width": null
          }
        },
        "d8550839021a451885b589853cfa99e3": {
          "model_module": "@jupyter-widgets/base",
          "model_name": "LayoutModel",
          "model_module_version": "1.2.0",
          "state": {
            "_model_module": "@jupyter-widgets/base",
            "_model_module_version": "1.2.0",
            "_model_name": "LayoutModel",
            "_view_count": null,
            "_view_module": "@jupyter-widgets/base",
            "_view_module_version": "1.2.0",
            "_view_name": "LayoutView",
            "align_content": null,
            "align_items": null,
            "align_self": null,
            "border": null,
            "bottom": null,
            "display": null,
            "flex": null,
            "flex_flow": null,
            "grid_area": null,
            "grid_auto_columns": null,
            "grid_auto_flow": null,
            "grid_auto_rows": null,
            "grid_column": null,
            "grid_gap": null,
            "grid_row": null,
            "grid_template_areas": null,
            "grid_template_columns": null,
            "grid_template_rows": null,
            "height": null,
            "justify_content": null,
            "justify_items": null,
            "left": null,
            "margin": null,
            "max_height": null,
            "max_width": null,
            "min_height": null,
            "min_width": null,
            "object_fit": null,
            "object_position": null,
            "order": null,
            "overflow": null,
            "overflow_x": null,
            "overflow_y": null,
            "padding": null,
            "right": null,
            "top": null,
            "visibility": null,
            "width": null
          }
        },
        "c60dc45b140b43ca804dc5f8bfb86c48": {
          "model_module": "@jupyter-widgets/controls",
          "model_name": "DescriptionStyleModel",
          "model_module_version": "1.5.0",
          "state": {
            "_model_module": "@jupyter-widgets/controls",
            "_model_module_version": "1.5.0",
            "_model_name": "DescriptionStyleModel",
            "_view_count": null,
            "_view_module": "@jupyter-widgets/base",
            "_view_module_version": "1.2.0",
            "_view_name": "StyleView",
            "description_width": ""
          }
        },
        "fe65e1da8fa844039a281424aad4de42": {
          "model_module": "@jupyter-widgets/base",
          "model_name": "LayoutModel",
          "model_module_version": "1.2.0",
          "state": {
            "_model_module": "@jupyter-widgets/base",
            "_model_module_version": "1.2.0",
            "_model_name": "LayoutModel",
            "_view_count": null,
            "_view_module": "@jupyter-widgets/base",
            "_view_module_version": "1.2.0",
            "_view_name": "LayoutView",
            "align_content": null,
            "align_items": null,
            "align_self": null,
            "border": null,
            "bottom": null,
            "display": null,
            "flex": null,
            "flex_flow": null,
            "grid_area": null,
            "grid_auto_columns": null,
            "grid_auto_flow": null,
            "grid_auto_rows": null,
            "grid_column": null,
            "grid_gap": null,
            "grid_row": null,
            "grid_template_areas": null,
            "grid_template_columns": null,
            "grid_template_rows": null,
            "height": null,
            "justify_content": null,
            "justify_items": null,
            "left": null,
            "margin": null,
            "max_height": null,
            "max_width": null,
            "min_height": null,
            "min_width": null,
            "object_fit": null,
            "object_position": null,
            "order": null,
            "overflow": null,
            "overflow_x": null,
            "overflow_y": null,
            "padding": null,
            "right": null,
            "top": null,
            "visibility": null,
            "width": null
          }
        },
        "40e5504fc0f145679087902be700942e": {
          "model_module": "@jupyter-widgets/controls",
          "model_name": "ProgressStyleModel",
          "model_module_version": "1.5.0",
          "state": {
            "_model_module": "@jupyter-widgets/controls",
            "_model_module_version": "1.5.0",
            "_model_name": "ProgressStyleModel",
            "_view_count": null,
            "_view_module": "@jupyter-widgets/base",
            "_view_module_version": "1.2.0",
            "_view_name": "StyleView",
            "bar_color": null,
            "description_width": ""
          }
        },
        "153bcf55126e488e86cf1d9888bef3d3": {
          "model_module": "@jupyter-widgets/base",
          "model_name": "LayoutModel",
          "model_module_version": "1.2.0",
          "state": {
            "_model_module": "@jupyter-widgets/base",
            "_model_module_version": "1.2.0",
            "_model_name": "LayoutModel",
            "_view_count": null,
            "_view_module": "@jupyter-widgets/base",
            "_view_module_version": "1.2.0",
            "_view_name": "LayoutView",
            "align_content": null,
            "align_items": null,
            "align_self": null,
            "border": null,
            "bottom": null,
            "display": null,
            "flex": null,
            "flex_flow": null,
            "grid_area": null,
            "grid_auto_columns": null,
            "grid_auto_flow": null,
            "grid_auto_rows": null,
            "grid_column": null,
            "grid_gap": null,
            "grid_row": null,
            "grid_template_areas": null,
            "grid_template_columns": null,
            "grid_template_rows": null,
            "height": null,
            "justify_content": null,
            "justify_items": null,
            "left": null,
            "margin": null,
            "max_height": null,
            "max_width": null,
            "min_height": null,
            "min_width": null,
            "object_fit": null,
            "object_position": null,
            "order": null,
            "overflow": null,
            "overflow_x": null,
            "overflow_y": null,
            "padding": null,
            "right": null,
            "top": null,
            "visibility": null,
            "width": null
          }
        },
        "463df2af508441858a0dc7c4d1fb0178": {
          "model_module": "@jupyter-widgets/controls",
          "model_name": "DescriptionStyleModel",
          "model_module_version": "1.5.0",
          "state": {
            "_model_module": "@jupyter-widgets/controls",
            "_model_module_version": "1.5.0",
            "_model_name": "DescriptionStyleModel",
            "_view_count": null,
            "_view_module": "@jupyter-widgets/base",
            "_view_module_version": "1.2.0",
            "_view_name": "StyleView",
            "description_width": ""
          }
        },
        "d802da98795f4241ab5364f93571f2c6": {
          "model_module": "@jupyter-widgets/controls",
          "model_name": "HBoxModel",
          "model_module_version": "1.5.0",
          "state": {
            "_dom_classes": [],
            "_model_module": "@jupyter-widgets/controls",
            "_model_module_version": "1.5.0",
            "_model_name": "HBoxModel",
            "_view_count": null,
            "_view_module": "@jupyter-widgets/controls",
            "_view_module_version": "1.5.0",
            "_view_name": "HBoxView",
            "box_style": "",
            "children": [
              "IPY_MODEL_0293a17ad25e489d8e29a1b5b3933cc0",
              "IPY_MODEL_a6cbe5838ae74a97b79b728368117f6c",
              "IPY_MODEL_f19556e41f774ed3802eb5623f9e81e5"
            ],
            "layout": "IPY_MODEL_1e5c2615a03144079b7375204388fdf6"
          }
        },
        "0293a17ad25e489d8e29a1b5b3933cc0": {
          "model_module": "@jupyter-widgets/controls",
          "model_name": "HTMLModel",
          "model_module_version": "1.5.0",
          "state": {
            "_dom_classes": [],
            "_model_module": "@jupyter-widgets/controls",
            "_model_module_version": "1.5.0",
            "_model_name": "HTMLModel",
            "_view_count": null,
            "_view_module": "@jupyter-widgets/controls",
            "_view_module_version": "1.5.0",
            "_view_name": "HTMLView",
            "description": "",
            "description_tooltip": null,
            "layout": "IPY_MODEL_fd5ad8a9ef594e7fae552223c7540a6e",
            "placeholder": "​",
            "style": "IPY_MODEL_8131a2adcb464a79bbbc7c6dc1b2e336",
            "value": "Downloading metadata: 100%"
          }
        },
        "a6cbe5838ae74a97b79b728368117f6c": {
          "model_module": "@jupyter-widgets/controls",
          "model_name": "FloatProgressModel",
          "model_module_version": "1.5.0",
          "state": {
            "_dom_classes": [],
            "_model_module": "@jupyter-widgets/controls",
            "_model_module_version": "1.5.0",
            "_model_name": "FloatProgressModel",
            "_view_count": null,
            "_view_module": "@jupyter-widgets/controls",
            "_view_module_version": "1.5.0",
            "_view_name": "ProgressView",
            "bar_style": "success",
            "description": "",
            "description_tooltip": null,
            "layout": "IPY_MODEL_2f5ab13fb4cf471590afdf2f2bc14834",
            "max": 4031,
            "min": 0,
            "orientation": "horizontal",
            "style": "IPY_MODEL_d1d50d08d8f24a95b48e046af8101fc2",
            "value": 4031
          }
        },
        "f19556e41f774ed3802eb5623f9e81e5": {
          "model_module": "@jupyter-widgets/controls",
          "model_name": "HTMLModel",
          "model_module_version": "1.5.0",
          "state": {
            "_dom_classes": [],
            "_model_module": "@jupyter-widgets/controls",
            "_model_module_version": "1.5.0",
            "_model_name": "HTMLModel",
            "_view_count": null,
            "_view_module": "@jupyter-widgets/controls",
            "_view_module_version": "1.5.0",
            "_view_name": "HTMLView",
            "description": "",
            "description_tooltip": null,
            "layout": "IPY_MODEL_adc430771fc74bbea296789141364ef1",
            "placeholder": "​",
            "style": "IPY_MODEL_6b3988aac35d419a87ff383e5d87f719",
            "value": " 4.03k/4.03k [00:00&lt;00:00, 207kB/s]"
          }
        },
        "1e5c2615a03144079b7375204388fdf6": {
          "model_module": "@jupyter-widgets/base",
          "model_name": "LayoutModel",
          "model_module_version": "1.2.0",
          "state": {
            "_model_module": "@jupyter-widgets/base",
            "_model_module_version": "1.2.0",
            "_model_name": "LayoutModel",
            "_view_count": null,
            "_view_module": "@jupyter-widgets/base",
            "_view_module_version": "1.2.0",
            "_view_name": "LayoutView",
            "align_content": null,
            "align_items": null,
            "align_self": null,
            "border": null,
            "bottom": null,
            "display": null,
            "flex": null,
            "flex_flow": null,
            "grid_area": null,
            "grid_auto_columns": null,
            "grid_auto_flow": null,
            "grid_auto_rows": null,
            "grid_column": null,
            "grid_gap": null,
            "grid_row": null,
            "grid_template_areas": null,
            "grid_template_columns": null,
            "grid_template_rows": null,
            "height": null,
            "justify_content": null,
            "justify_items": null,
            "left": null,
            "margin": null,
            "max_height": null,
            "max_width": null,
            "min_height": null,
            "min_width": null,
            "object_fit": null,
            "object_position": null,
            "order": null,
            "overflow": null,
            "overflow_x": null,
            "overflow_y": null,
            "padding": null,
            "right": null,
            "top": null,
            "visibility": null,
            "width": null
          }
        },
        "fd5ad8a9ef594e7fae552223c7540a6e": {
          "model_module": "@jupyter-widgets/base",
          "model_name": "LayoutModel",
          "model_module_version": "1.2.0",
          "state": {
            "_model_module": "@jupyter-widgets/base",
            "_model_module_version": "1.2.0",
            "_model_name": "LayoutModel",
            "_view_count": null,
            "_view_module": "@jupyter-widgets/base",
            "_view_module_version": "1.2.0",
            "_view_name": "LayoutView",
            "align_content": null,
            "align_items": null,
            "align_self": null,
            "border": null,
            "bottom": null,
            "display": null,
            "flex": null,
            "flex_flow": null,
            "grid_area": null,
            "grid_auto_columns": null,
            "grid_auto_flow": null,
            "grid_auto_rows": null,
            "grid_column": null,
            "grid_gap": null,
            "grid_row": null,
            "grid_template_areas": null,
            "grid_template_columns": null,
            "grid_template_rows": null,
            "height": null,
            "justify_content": null,
            "justify_items": null,
            "left": null,
            "margin": null,
            "max_height": null,
            "max_width": null,
            "min_height": null,
            "min_width": null,
            "object_fit": null,
            "object_position": null,
            "order": null,
            "overflow": null,
            "overflow_x": null,
            "overflow_y": null,
            "padding": null,
            "right": null,
            "top": null,
            "visibility": null,
            "width": null
          }
        },
        "8131a2adcb464a79bbbc7c6dc1b2e336": {
          "model_module": "@jupyter-widgets/controls",
          "model_name": "DescriptionStyleModel",
          "model_module_version": "1.5.0",
          "state": {
            "_model_module": "@jupyter-widgets/controls",
            "_model_module_version": "1.5.0",
            "_model_name": "DescriptionStyleModel",
            "_view_count": null,
            "_view_module": "@jupyter-widgets/base",
            "_view_module_version": "1.2.0",
            "_view_name": "StyleView",
            "description_width": ""
          }
        },
        "2f5ab13fb4cf471590afdf2f2bc14834": {
          "model_module": "@jupyter-widgets/base",
          "model_name": "LayoutModel",
          "model_module_version": "1.2.0",
          "state": {
            "_model_module": "@jupyter-widgets/base",
            "_model_module_version": "1.2.0",
            "_model_name": "LayoutModel",
            "_view_count": null,
            "_view_module": "@jupyter-widgets/base",
            "_view_module_version": "1.2.0",
            "_view_name": "LayoutView",
            "align_content": null,
            "align_items": null,
            "align_self": null,
            "border": null,
            "bottom": null,
            "display": null,
            "flex": null,
            "flex_flow": null,
            "grid_area": null,
            "grid_auto_columns": null,
            "grid_auto_flow": null,
            "grid_auto_rows": null,
            "grid_column": null,
            "grid_gap": null,
            "grid_row": null,
            "grid_template_areas": null,
            "grid_template_columns": null,
            "grid_template_rows": null,
            "height": null,
            "justify_content": null,
            "justify_items": null,
            "left": null,
            "margin": null,
            "max_height": null,
            "max_width": null,
            "min_height": null,
            "min_width": null,
            "object_fit": null,
            "object_position": null,
            "order": null,
            "overflow": null,
            "overflow_x": null,
            "overflow_y": null,
            "padding": null,
            "right": null,
            "top": null,
            "visibility": null,
            "width": null
          }
        },
        "d1d50d08d8f24a95b48e046af8101fc2": {
          "model_module": "@jupyter-widgets/controls",
          "model_name": "ProgressStyleModel",
          "model_module_version": "1.5.0",
          "state": {
            "_model_module": "@jupyter-widgets/controls",
            "_model_module_version": "1.5.0",
            "_model_name": "ProgressStyleModel",
            "_view_count": null,
            "_view_module": "@jupyter-widgets/base",
            "_view_module_version": "1.2.0",
            "_view_name": "StyleView",
            "bar_color": null,
            "description_width": ""
          }
        },
        "adc430771fc74bbea296789141364ef1": {
          "model_module": "@jupyter-widgets/base",
          "model_name": "LayoutModel",
          "model_module_version": "1.2.0",
          "state": {
            "_model_module": "@jupyter-widgets/base",
            "_model_module_version": "1.2.0",
            "_model_name": "LayoutModel",
            "_view_count": null,
            "_view_module": "@jupyter-widgets/base",
            "_view_module_version": "1.2.0",
            "_view_name": "LayoutView",
            "align_content": null,
            "align_items": null,
            "align_self": null,
            "border": null,
            "bottom": null,
            "display": null,
            "flex": null,
            "flex_flow": null,
            "grid_area": null,
            "grid_auto_columns": null,
            "grid_auto_flow": null,
            "grid_auto_rows": null,
            "grid_column": null,
            "grid_gap": null,
            "grid_row": null,
            "grid_template_areas": null,
            "grid_template_columns": null,
            "grid_template_rows": null,
            "height": null,
            "justify_content": null,
            "justify_items": null,
            "left": null,
            "margin": null,
            "max_height": null,
            "max_width": null,
            "min_height": null,
            "min_width": null,
            "object_fit": null,
            "object_position": null,
            "order": null,
            "overflow": null,
            "overflow_x": null,
            "overflow_y": null,
            "padding": null,
            "right": null,
            "top": null,
            "visibility": null,
            "width": null
          }
        },
        "6b3988aac35d419a87ff383e5d87f719": {
          "model_module": "@jupyter-widgets/controls",
          "model_name": "DescriptionStyleModel",
          "model_module_version": "1.5.0",
          "state": {
            "_model_module": "@jupyter-widgets/controls",
            "_model_module_version": "1.5.0",
            "_model_name": "DescriptionStyleModel",
            "_view_count": null,
            "_view_module": "@jupyter-widgets/base",
            "_view_module_version": "1.2.0",
            "_view_name": "StyleView",
            "description_width": ""
          }
        },
        "0a0d5d703dd44823a53882a603ecba42": {
          "model_module": "@jupyter-widgets/controls",
          "model_name": "HBoxModel",
          "model_module_version": "1.5.0",
          "state": {
            "_dom_classes": [],
            "_model_module": "@jupyter-widgets/controls",
            "_model_module_version": "1.5.0",
            "_model_name": "HBoxModel",
            "_view_count": null,
            "_view_module": "@jupyter-widgets/controls",
            "_view_module_version": "1.5.0",
            "_view_name": "HBoxView",
            "box_style": "",
            "children": [
              "IPY_MODEL_2e5fa109b722476188ca687f6d8be8dd",
              "IPY_MODEL_5a4652f997c54aef853b6fe5ce34abab",
              "IPY_MODEL_04ed8b62354045879a94c7486d40a7ed"
            ],
            "layout": "IPY_MODEL_be67ccc9cfb945198a351f80ecd59ea9"
          }
        },
        "2e5fa109b722476188ca687f6d8be8dd": {
          "model_module": "@jupyter-widgets/controls",
          "model_name": "HTMLModel",
          "model_module_version": "1.5.0",
          "state": {
            "_dom_classes": [],
            "_model_module": "@jupyter-widgets/controls",
            "_model_module_version": "1.5.0",
            "_model_name": "HTMLModel",
            "_view_count": null,
            "_view_module": "@jupyter-widgets/controls",
            "_view_module_version": "1.5.0",
            "_view_name": "HTMLView",
            "description": "",
            "description_tooltip": null,
            "layout": "IPY_MODEL_2b750fdeb4e24dfbbc8def8dfb6b1e71",
            "placeholder": "​",
            "style": "IPY_MODEL_3c762d5bbd8b4bc78a56eaefc5b925fa",
            "value": "Downloading readme: 100%"
          }
        },
        "5a4652f997c54aef853b6fe5ce34abab": {
          "model_module": "@jupyter-widgets/controls",
          "model_name": "FloatProgressModel",
          "model_module_version": "1.5.0",
          "state": {
            "_dom_classes": [],
            "_model_module": "@jupyter-widgets/controls",
            "_model_module_version": "1.5.0",
            "_model_name": "FloatProgressModel",
            "_view_count": null,
            "_view_module": "@jupyter-widgets/controls",
            "_view_module_version": "1.5.0",
            "_view_name": "ProgressView",
            "bar_style": "success",
            "description": "",
            "description_tooltip": null,
            "layout": "IPY_MODEL_013f70c674704e2d81441b20f29c71c4",
            "max": 5159,
            "min": 0,
            "orientation": "horizontal",
            "style": "IPY_MODEL_8564e47dde11403b9d611edc2bb3a66d",
            "value": 5159
          }
        },
        "04ed8b62354045879a94c7486d40a7ed": {
          "model_module": "@jupyter-widgets/controls",
          "model_name": "HTMLModel",
          "model_module_version": "1.5.0",
          "state": {
            "_dom_classes": [],
            "_model_module": "@jupyter-widgets/controls",
            "_model_module_version": "1.5.0",
            "_model_name": "HTMLModel",
            "_view_count": null,
            "_view_module": "@jupyter-widgets/controls",
            "_view_module_version": "1.5.0",
            "_view_name": "HTMLView",
            "description": "",
            "description_tooltip": null,
            "layout": "IPY_MODEL_d510472e8e88465d88486263c1ed974a",
            "placeholder": "​",
            "style": "IPY_MODEL_a4810dcff4c94a608c672dfeb4404e5e",
            "value": " 5.16k/5.16k [00:00&lt;00:00, 266kB/s]"
          }
        },
        "be67ccc9cfb945198a351f80ecd59ea9": {
          "model_module": "@jupyter-widgets/base",
          "model_name": "LayoutModel",
          "model_module_version": "1.2.0",
          "state": {
            "_model_module": "@jupyter-widgets/base",
            "_model_module_version": "1.2.0",
            "_model_name": "LayoutModel",
            "_view_count": null,
            "_view_module": "@jupyter-widgets/base",
            "_view_module_version": "1.2.0",
            "_view_name": "LayoutView",
            "align_content": null,
            "align_items": null,
            "align_self": null,
            "border": null,
            "bottom": null,
            "display": null,
            "flex": null,
            "flex_flow": null,
            "grid_area": null,
            "grid_auto_columns": null,
            "grid_auto_flow": null,
            "grid_auto_rows": null,
            "grid_column": null,
            "grid_gap": null,
            "grid_row": null,
            "grid_template_areas": null,
            "grid_template_columns": null,
            "grid_template_rows": null,
            "height": null,
            "justify_content": null,
            "justify_items": null,
            "left": null,
            "margin": null,
            "max_height": null,
            "max_width": null,
            "min_height": null,
            "min_width": null,
            "object_fit": null,
            "object_position": null,
            "order": null,
            "overflow": null,
            "overflow_x": null,
            "overflow_y": null,
            "padding": null,
            "right": null,
            "top": null,
            "visibility": null,
            "width": null
          }
        },
        "2b750fdeb4e24dfbbc8def8dfb6b1e71": {
          "model_module": "@jupyter-widgets/base",
          "model_name": "LayoutModel",
          "model_module_version": "1.2.0",
          "state": {
            "_model_module": "@jupyter-widgets/base",
            "_model_module_version": "1.2.0",
            "_model_name": "LayoutModel",
            "_view_count": null,
            "_view_module": "@jupyter-widgets/base",
            "_view_module_version": "1.2.0",
            "_view_name": "LayoutView",
            "align_content": null,
            "align_items": null,
            "align_self": null,
            "border": null,
            "bottom": null,
            "display": null,
            "flex": null,
            "flex_flow": null,
            "grid_area": null,
            "grid_auto_columns": null,
            "grid_auto_flow": null,
            "grid_auto_rows": null,
            "grid_column": null,
            "grid_gap": null,
            "grid_row": null,
            "grid_template_areas": null,
            "grid_template_columns": null,
            "grid_template_rows": null,
            "height": null,
            "justify_content": null,
            "justify_items": null,
            "left": null,
            "margin": null,
            "max_height": null,
            "max_width": null,
            "min_height": null,
            "min_width": null,
            "object_fit": null,
            "object_position": null,
            "order": null,
            "overflow": null,
            "overflow_x": null,
            "overflow_y": null,
            "padding": null,
            "right": null,
            "top": null,
            "visibility": null,
            "width": null
          }
        },
        "3c762d5bbd8b4bc78a56eaefc5b925fa": {
          "model_module": "@jupyter-widgets/controls",
          "model_name": "DescriptionStyleModel",
          "model_module_version": "1.5.0",
          "state": {
            "_model_module": "@jupyter-widgets/controls",
            "_model_module_version": "1.5.0",
            "_model_name": "DescriptionStyleModel",
            "_view_count": null,
            "_view_module": "@jupyter-widgets/base",
            "_view_module_version": "1.2.0",
            "_view_name": "StyleView",
            "description_width": ""
          }
        },
        "013f70c674704e2d81441b20f29c71c4": {
          "model_module": "@jupyter-widgets/base",
          "model_name": "LayoutModel",
          "model_module_version": "1.2.0",
          "state": {
            "_model_module": "@jupyter-widgets/base",
            "_model_module_version": "1.2.0",
            "_model_name": "LayoutModel",
            "_view_count": null,
            "_view_module": "@jupyter-widgets/base",
            "_view_module_version": "1.2.0",
            "_view_name": "LayoutView",
            "align_content": null,
            "align_items": null,
            "align_self": null,
            "border": null,
            "bottom": null,
            "display": null,
            "flex": null,
            "flex_flow": null,
            "grid_area": null,
            "grid_auto_columns": null,
            "grid_auto_flow": null,
            "grid_auto_rows": null,
            "grid_column": null,
            "grid_gap": null,
            "grid_row": null,
            "grid_template_areas": null,
            "grid_template_columns": null,
            "grid_template_rows": null,
            "height": null,
            "justify_content": null,
            "justify_items": null,
            "left": null,
            "margin": null,
            "max_height": null,
            "max_width": null,
            "min_height": null,
            "min_width": null,
            "object_fit": null,
            "object_position": null,
            "order": null,
            "overflow": null,
            "overflow_x": null,
            "overflow_y": null,
            "padding": null,
            "right": null,
            "top": null,
            "visibility": null,
            "width": null
          }
        },
        "8564e47dde11403b9d611edc2bb3a66d": {
          "model_module": "@jupyter-widgets/controls",
          "model_name": "ProgressStyleModel",
          "model_module_version": "1.5.0",
          "state": {
            "_model_module": "@jupyter-widgets/controls",
            "_model_module_version": "1.5.0",
            "_model_name": "ProgressStyleModel",
            "_view_count": null,
            "_view_module": "@jupyter-widgets/base",
            "_view_module_version": "1.2.0",
            "_view_name": "StyleView",
            "bar_color": null,
            "description_width": ""
          }
        },
        "d510472e8e88465d88486263c1ed974a": {
          "model_module": "@jupyter-widgets/base",
          "model_name": "LayoutModel",
          "model_module_version": "1.2.0",
          "state": {
            "_model_module": "@jupyter-widgets/base",
            "_model_module_version": "1.2.0",
            "_model_name": "LayoutModel",
            "_view_count": null,
            "_view_module": "@jupyter-widgets/base",
            "_view_module_version": "1.2.0",
            "_view_name": "LayoutView",
            "align_content": null,
            "align_items": null,
            "align_self": null,
            "border": null,
            "bottom": null,
            "display": null,
            "flex": null,
            "flex_flow": null,
            "grid_area": null,
            "grid_auto_columns": null,
            "grid_auto_flow": null,
            "grid_auto_rows": null,
            "grid_column": null,
            "grid_gap": null,
            "grid_row": null,
            "grid_template_areas": null,
            "grid_template_columns": null,
            "grid_template_rows": null,
            "height": null,
            "justify_content": null,
            "justify_items": null,
            "left": null,
            "margin": null,
            "max_height": null,
            "max_width": null,
            "min_height": null,
            "min_width": null,
            "object_fit": null,
            "object_position": null,
            "order": null,
            "overflow": null,
            "overflow_x": null,
            "overflow_y": null,
            "padding": null,
            "right": null,
            "top": null,
            "visibility": null,
            "width": null
          }
        },
        "a4810dcff4c94a608c672dfeb4404e5e": {
          "model_module": "@jupyter-widgets/controls",
          "model_name": "DescriptionStyleModel",
          "model_module_version": "1.5.0",
          "state": {
            "_model_module": "@jupyter-widgets/controls",
            "_model_module_version": "1.5.0",
            "_model_name": "DescriptionStyleModel",
            "_view_count": null,
            "_view_module": "@jupyter-widgets/base",
            "_view_module_version": "1.2.0",
            "_view_name": "StyleView",
            "description_width": ""
          }
        },
        "932eb9d0de5f4b5aa69cf8c7e36e2d8d": {
          "model_module": "@jupyter-widgets/controls",
          "model_name": "HBoxModel",
          "model_module_version": "1.5.0",
          "state": {
            "_dom_classes": [],
            "_model_module": "@jupyter-widgets/controls",
            "_model_module_version": "1.5.0",
            "_model_name": "HBoxModel",
            "_view_count": null,
            "_view_module": "@jupyter-widgets/controls",
            "_view_module_version": "1.5.0",
            "_view_name": "HBoxView",
            "box_style": "",
            "children": [
              "IPY_MODEL_b862e6293107496a8095732c038dc51d",
              "IPY_MODEL_dcd3c9f706674417ab4613f540f582e8",
              "IPY_MODEL_8211cda0e6974e0595411f0567f6886f"
            ],
            "layout": "IPY_MODEL_777d2403885445f1ab2e5d23db3cf9ed"
          }
        },
        "b862e6293107496a8095732c038dc51d": {
          "model_module": "@jupyter-widgets/controls",
          "model_name": "HTMLModel",
          "model_module_version": "1.5.0",
          "state": {
            "_dom_classes": [],
            "_model_module": "@jupyter-widgets/controls",
            "_model_module_version": "1.5.0",
            "_model_name": "HTMLModel",
            "_view_count": null,
            "_view_module": "@jupyter-widgets/controls",
            "_view_module_version": "1.5.0",
            "_view_name": "HTMLView",
            "description": "",
            "description_tooltip": null,
            "layout": "IPY_MODEL_0f9cf6dc7f634b30a381a226ad3180c2",
            "placeholder": "​",
            "style": "IPY_MODEL_4e7ddc78af4141329ea9cddb1d89f3ee",
            "value": "Downloading data: 100%"
          }
        },
        "dcd3c9f706674417ab4613f540f582e8": {
          "model_module": "@jupyter-widgets/controls",
          "model_name": "FloatProgressModel",
          "model_module_version": "1.5.0",
          "state": {
            "_dom_classes": [],
            "_model_module": "@jupyter-widgets/controls",
            "_model_module_version": "1.5.0",
            "_model_name": "FloatProgressModel",
            "_view_count": null,
            "_view_module": "@jupyter-widgets/controls",
            "_view_module_version": "1.5.0",
            "_view_name": "ProgressView",
            "bar_style": "success",
            "description": "",
            "description_tooltip": null,
            "layout": "IPY_MODEL_b202bd1830e84b85955fb8d2c734d2d2",
            "max": 1013571,
            "min": 0,
            "orientation": "horizontal",
            "style": "IPY_MODEL_daa263a1c9e64386a0361d023cf979d3",
            "value": 1013571
          }
        },
        "8211cda0e6974e0595411f0567f6886f": {
          "model_module": "@jupyter-widgets/controls",
          "model_name": "HTMLModel",
          "model_module_version": "1.5.0",
          "state": {
            "_dom_classes": [],
            "_model_module": "@jupyter-widgets/controls",
            "_model_module_version": "1.5.0",
            "_model_name": "HTMLModel",
            "_view_count": null,
            "_view_module": "@jupyter-widgets/controls",
            "_view_module_version": "1.5.0",
            "_view_name": "HTMLView",
            "description": "",
            "description_tooltip": null,
            "layout": "IPY_MODEL_291ce479e39149f38868e4f08dddb583",
            "placeholder": "​",
            "style": "IPY_MODEL_ebacede75b2b4de8b24e633b5f7ca3fe",
            "value": " 1.01M/1.01M [00:01&lt;00:00, 1.04MB/s]"
          }
        },
        "777d2403885445f1ab2e5d23db3cf9ed": {
          "model_module": "@jupyter-widgets/base",
          "model_name": "LayoutModel",
          "model_module_version": "1.2.0",
          "state": {
            "_model_module": "@jupyter-widgets/base",
            "_model_module_version": "1.2.0",
            "_model_name": "LayoutModel",
            "_view_count": null,
            "_view_module": "@jupyter-widgets/base",
            "_view_module_version": "1.2.0",
            "_view_name": "LayoutView",
            "align_content": null,
            "align_items": null,
            "align_self": null,
            "border": null,
            "bottom": null,
            "display": null,
            "flex": null,
            "flex_flow": null,
            "grid_area": null,
            "grid_auto_columns": null,
            "grid_auto_flow": null,
            "grid_auto_rows": null,
            "grid_column": null,
            "grid_gap": null,
            "grid_row": null,
            "grid_template_areas": null,
            "grid_template_columns": null,
            "grid_template_rows": null,
            "height": null,
            "justify_content": null,
            "justify_items": null,
            "left": null,
            "margin": null,
            "max_height": null,
            "max_width": null,
            "min_height": null,
            "min_width": null,
            "object_fit": null,
            "object_position": null,
            "order": null,
            "overflow": null,
            "overflow_x": null,
            "overflow_y": null,
            "padding": null,
            "right": null,
            "top": null,
            "visibility": null,
            "width": null
          }
        },
        "0f9cf6dc7f634b30a381a226ad3180c2": {
          "model_module": "@jupyter-widgets/base",
          "model_name": "LayoutModel",
          "model_module_version": "1.2.0",
          "state": {
            "_model_module": "@jupyter-widgets/base",
            "_model_module_version": "1.2.0",
            "_model_name": "LayoutModel",
            "_view_count": null,
            "_view_module": "@jupyter-widgets/base",
            "_view_module_version": "1.2.0",
            "_view_name": "LayoutView",
            "align_content": null,
            "align_items": null,
            "align_self": null,
            "border": null,
            "bottom": null,
            "display": null,
            "flex": null,
            "flex_flow": null,
            "grid_area": null,
            "grid_auto_columns": null,
            "grid_auto_flow": null,
            "grid_auto_rows": null,
            "grid_column": null,
            "grid_gap": null,
            "grid_row": null,
            "grid_template_areas": null,
            "grid_template_columns": null,
            "grid_template_rows": null,
            "height": null,
            "justify_content": null,
            "justify_items": null,
            "left": null,
            "margin": null,
            "max_height": null,
            "max_width": null,
            "min_height": null,
            "min_width": null,
            "object_fit": null,
            "object_position": null,
            "order": null,
            "overflow": null,
            "overflow_x": null,
            "overflow_y": null,
            "padding": null,
            "right": null,
            "top": null,
            "visibility": null,
            "width": null
          }
        },
        "4e7ddc78af4141329ea9cddb1d89f3ee": {
          "model_module": "@jupyter-widgets/controls",
          "model_name": "DescriptionStyleModel",
          "model_module_version": "1.5.0",
          "state": {
            "_model_module": "@jupyter-widgets/controls",
            "_model_module_version": "1.5.0",
            "_model_name": "DescriptionStyleModel",
            "_view_count": null,
            "_view_module": "@jupyter-widgets/base",
            "_view_module_version": "1.2.0",
            "_view_name": "StyleView",
            "description_width": ""
          }
        },
        "b202bd1830e84b85955fb8d2c734d2d2": {
          "model_module": "@jupyter-widgets/base",
          "model_name": "LayoutModel",
          "model_module_version": "1.2.0",
          "state": {
            "_model_module": "@jupyter-widgets/base",
            "_model_module_version": "1.2.0",
            "_model_name": "LayoutModel",
            "_view_count": null,
            "_view_module": "@jupyter-widgets/base",
            "_view_module_version": "1.2.0",
            "_view_name": "LayoutView",
            "align_content": null,
            "align_items": null,
            "align_self": null,
            "border": null,
            "bottom": null,
            "display": null,
            "flex": null,
            "flex_flow": null,
            "grid_area": null,
            "grid_auto_columns": null,
            "grid_auto_flow": null,
            "grid_auto_rows": null,
            "grid_column": null,
            "grid_gap": null,
            "grid_row": null,
            "grid_template_areas": null,
            "grid_template_columns": null,
            "grid_template_rows": null,
            "height": null,
            "justify_content": null,
            "justify_items": null,
            "left": null,
            "margin": null,
            "max_height": null,
            "max_width": null,
            "min_height": null,
            "min_width": null,
            "object_fit": null,
            "object_position": null,
            "order": null,
            "overflow": null,
            "overflow_x": null,
            "overflow_y": null,
            "padding": null,
            "right": null,
            "top": null,
            "visibility": null,
            "width": null
          }
        },
        "daa263a1c9e64386a0361d023cf979d3": {
          "model_module": "@jupyter-widgets/controls",
          "model_name": "ProgressStyleModel",
          "model_module_version": "1.5.0",
          "state": {
            "_model_module": "@jupyter-widgets/controls",
            "_model_module_version": "1.5.0",
            "_model_name": "ProgressStyleModel",
            "_view_count": null,
            "_view_module": "@jupyter-widgets/base",
            "_view_module_version": "1.2.0",
            "_view_name": "StyleView",
            "bar_color": null,
            "description_width": ""
          }
        },
        "291ce479e39149f38868e4f08dddb583": {
          "model_module": "@jupyter-widgets/base",
          "model_name": "LayoutModel",
          "model_module_version": "1.2.0",
          "state": {
            "_model_module": "@jupyter-widgets/base",
            "_model_module_version": "1.2.0",
            "_model_name": "LayoutModel",
            "_view_count": null,
            "_view_module": "@jupyter-widgets/base",
            "_view_module_version": "1.2.0",
            "_view_name": "LayoutView",
            "align_content": null,
            "align_items": null,
            "align_self": null,
            "border": null,
            "bottom": null,
            "display": null,
            "flex": null,
            "flex_flow": null,
            "grid_area": null,
            "grid_auto_columns": null,
            "grid_auto_flow": null,
            "grid_auto_rows": null,
            "grid_column": null,
            "grid_gap": null,
            "grid_row": null,
            "grid_template_areas": null,
            "grid_template_columns": null,
            "grid_template_rows": null,
            "height": null,
            "justify_content": null,
            "justify_items": null,
            "left": null,
            "margin": null,
            "max_height": null,
            "max_width": null,
            "min_height": null,
            "min_width": null,
            "object_fit": null,
            "object_position": null,
            "order": null,
            "overflow": null,
            "overflow_x": null,
            "overflow_y": null,
            "padding": null,
            "right": null,
            "top": null,
            "visibility": null,
            "width": null
          }
        },
        "ebacede75b2b4de8b24e633b5f7ca3fe": {
          "model_module": "@jupyter-widgets/controls",
          "model_name": "DescriptionStyleModel",
          "model_module_version": "1.5.0",
          "state": {
            "_model_module": "@jupyter-widgets/controls",
            "_model_module_version": "1.5.0",
            "_model_name": "DescriptionStyleModel",
            "_view_count": null,
            "_view_module": "@jupyter-widgets/base",
            "_view_module_version": "1.2.0",
            "_view_name": "StyleView",
            "description_width": ""
          }
        },
        "7ebf65cd055441759d532eca7d55b057": {
          "model_module": "@jupyter-widgets/controls",
          "model_name": "HBoxModel",
          "model_module_version": "1.5.0",
          "state": {
            "_dom_classes": [],
            "_model_module": "@jupyter-widgets/controls",
            "_model_module_version": "1.5.0",
            "_model_name": "HBoxModel",
            "_view_count": null,
            "_view_module": "@jupyter-widgets/controls",
            "_view_module_version": "1.5.0",
            "_view_name": "HBoxView",
            "box_style": "",
            "children": [
              "IPY_MODEL_b518b88bacf4471895aed4caba161ecb",
              "IPY_MODEL_90c078d9616749cdbfd2e9b8b432386d",
              "IPY_MODEL_e96571912c574db1b288243e3eacd001"
            ],
            "layout": "IPY_MODEL_86c8f8eaba094574ae692f44d6cc2cef"
          }
        },
        "b518b88bacf4471895aed4caba161ecb": {
          "model_module": "@jupyter-widgets/controls",
          "model_name": "HTMLModel",
          "model_module_version": "1.5.0",
          "state": {
            "_dom_classes": [],
            "_model_module": "@jupyter-widgets/controls",
            "_model_module_version": "1.5.0",
            "_model_name": "HTMLModel",
            "_view_count": null,
            "_view_module": "@jupyter-widgets/controls",
            "_view_module_version": "1.5.0",
            "_view_name": "HTMLView",
            "description": "",
            "description_tooltip": null,
            "layout": "IPY_MODEL_6354005fbed0439e9e09c189b36d40a4",
            "placeholder": "​",
            "style": "IPY_MODEL_9584d0b68ff84801a0bbd223a1ea56c2",
            "value": "Generating train split: 100%"
          }
        },
        "90c078d9616749cdbfd2e9b8b432386d": {
          "model_module": "@jupyter-widgets/controls",
          "model_name": "FloatProgressModel",
          "model_module_version": "1.5.0",
          "state": {
            "_dom_classes": [],
            "_model_module": "@jupyter-widgets/controls",
            "_model_module_version": "1.5.0",
            "_model_name": "FloatProgressModel",
            "_view_count": null,
            "_view_module": "@jupyter-widgets/controls",
            "_view_module_version": "1.5.0",
            "_view_name": "ProgressView",
            "bar_style": "success",
            "description": "",
            "description_tooltip": null,
            "layout": "IPY_MODEL_29c4f4afadd14c1cbdc75c8eb0bf938b",
            "max": 10269,
            "min": 0,
            "orientation": "horizontal",
            "style": "IPY_MODEL_fee07195e0e042a6985128daaf5068b2",
            "value": 10269
          }
        },
        "e96571912c574db1b288243e3eacd001": {
          "model_module": "@jupyter-widgets/controls",
          "model_name": "HTMLModel",
          "model_module_version": "1.5.0",
          "state": {
            "_dom_classes": [],
            "_model_module": "@jupyter-widgets/controls",
            "_model_module_version": "1.5.0",
            "_model_name": "HTMLModel",
            "_view_count": null,
            "_view_module": "@jupyter-widgets/controls",
            "_view_module_version": "1.5.0",
            "_view_name": "HTMLView",
            "description": "",
            "description_tooltip": null,
            "layout": "IPY_MODEL_8283a7d1c3e8419f90dd619fc83fba9b",
            "placeholder": "​",
            "style": "IPY_MODEL_7870db30a18c43f1b3dcb41b810b2ab8",
            "value": " 10269/10269 [00:01&lt;00:00, 9308.69 examples/s]"
          }
        },
        "86c8f8eaba094574ae692f44d6cc2cef": {
          "model_module": "@jupyter-widgets/base",
          "model_name": "LayoutModel",
          "model_module_version": "1.2.0",
          "state": {
            "_model_module": "@jupyter-widgets/base",
            "_model_module_version": "1.2.0",
            "_model_name": "LayoutModel",
            "_view_count": null,
            "_view_module": "@jupyter-widgets/base",
            "_view_module_version": "1.2.0",
            "_view_name": "LayoutView",
            "align_content": null,
            "align_items": null,
            "align_self": null,
            "border": null,
            "bottom": null,
            "display": null,
            "flex": null,
            "flex_flow": null,
            "grid_area": null,
            "grid_auto_columns": null,
            "grid_auto_flow": null,
            "grid_auto_rows": null,
            "grid_column": null,
            "grid_gap": null,
            "grid_row": null,
            "grid_template_areas": null,
            "grid_template_columns": null,
            "grid_template_rows": null,
            "height": null,
            "justify_content": null,
            "justify_items": null,
            "left": null,
            "margin": null,
            "max_height": null,
            "max_width": null,
            "min_height": null,
            "min_width": null,
            "object_fit": null,
            "object_position": null,
            "order": null,
            "overflow": null,
            "overflow_x": null,
            "overflow_y": null,
            "padding": null,
            "right": null,
            "top": null,
            "visibility": null,
            "width": null
          }
        },
        "6354005fbed0439e9e09c189b36d40a4": {
          "model_module": "@jupyter-widgets/base",
          "model_name": "LayoutModel",
          "model_module_version": "1.2.0",
          "state": {
            "_model_module": "@jupyter-widgets/base",
            "_model_module_version": "1.2.0",
            "_model_name": "LayoutModel",
            "_view_count": null,
            "_view_module": "@jupyter-widgets/base",
            "_view_module_version": "1.2.0",
            "_view_name": "LayoutView",
            "align_content": null,
            "align_items": null,
            "align_self": null,
            "border": null,
            "bottom": null,
            "display": null,
            "flex": null,
            "flex_flow": null,
            "grid_area": null,
            "grid_auto_columns": null,
            "grid_auto_flow": null,
            "grid_auto_rows": null,
            "grid_column": null,
            "grid_gap": null,
            "grid_row": null,
            "grid_template_areas": null,
            "grid_template_columns": null,
            "grid_template_rows": null,
            "height": null,
            "justify_content": null,
            "justify_items": null,
            "left": null,
            "margin": null,
            "max_height": null,
            "max_width": null,
            "min_height": null,
            "min_width": null,
            "object_fit": null,
            "object_position": null,
            "order": null,
            "overflow": null,
            "overflow_x": null,
            "overflow_y": null,
            "padding": null,
            "right": null,
            "top": null,
            "visibility": null,
            "width": null
          }
        },
        "9584d0b68ff84801a0bbd223a1ea56c2": {
          "model_module": "@jupyter-widgets/controls",
          "model_name": "DescriptionStyleModel",
          "model_module_version": "1.5.0",
          "state": {
            "_model_module": "@jupyter-widgets/controls",
            "_model_module_version": "1.5.0",
            "_model_name": "DescriptionStyleModel",
            "_view_count": null,
            "_view_module": "@jupyter-widgets/base",
            "_view_module_version": "1.2.0",
            "_view_name": "StyleView",
            "description_width": ""
          }
        },
        "29c4f4afadd14c1cbdc75c8eb0bf938b": {
          "model_module": "@jupyter-widgets/base",
          "model_name": "LayoutModel",
          "model_module_version": "1.2.0",
          "state": {
            "_model_module": "@jupyter-widgets/base",
            "_model_module_version": "1.2.0",
            "_model_name": "LayoutModel",
            "_view_count": null,
            "_view_module": "@jupyter-widgets/base",
            "_view_module_version": "1.2.0",
            "_view_name": "LayoutView",
            "align_content": null,
            "align_items": null,
            "align_self": null,
            "border": null,
            "bottom": null,
            "display": null,
            "flex": null,
            "flex_flow": null,
            "grid_area": null,
            "grid_auto_columns": null,
            "grid_auto_flow": null,
            "grid_auto_rows": null,
            "grid_column": null,
            "grid_gap": null,
            "grid_row": null,
            "grid_template_areas": null,
            "grid_template_columns": null,
            "grid_template_rows": null,
            "height": null,
            "justify_content": null,
            "justify_items": null,
            "left": null,
            "margin": null,
            "max_height": null,
            "max_width": null,
            "min_height": null,
            "min_width": null,
            "object_fit": null,
            "object_position": null,
            "order": null,
            "overflow": null,
            "overflow_x": null,
            "overflow_y": null,
            "padding": null,
            "right": null,
            "top": null,
            "visibility": null,
            "width": null
          }
        },
        "fee07195e0e042a6985128daaf5068b2": {
          "model_module": "@jupyter-widgets/controls",
          "model_name": "ProgressStyleModel",
          "model_module_version": "1.5.0",
          "state": {
            "_model_module": "@jupyter-widgets/controls",
            "_model_module_version": "1.5.0",
            "_model_name": "ProgressStyleModel",
            "_view_count": null,
            "_view_module": "@jupyter-widgets/base",
            "_view_module_version": "1.2.0",
            "_view_name": "StyleView",
            "bar_color": null,
            "description_width": ""
          }
        },
        "8283a7d1c3e8419f90dd619fc83fba9b": {
          "model_module": "@jupyter-widgets/base",
          "model_name": "LayoutModel",
          "model_module_version": "1.2.0",
          "state": {
            "_model_module": "@jupyter-widgets/base",
            "_model_module_version": "1.2.0",
            "_model_name": "LayoutModel",
            "_view_count": null,
            "_view_module": "@jupyter-widgets/base",
            "_view_module_version": "1.2.0",
            "_view_name": "LayoutView",
            "align_content": null,
            "align_items": null,
            "align_self": null,
            "border": null,
            "bottom": null,
            "display": null,
            "flex": null,
            "flex_flow": null,
            "grid_area": null,
            "grid_auto_columns": null,
            "grid_auto_flow": null,
            "grid_auto_rows": null,
            "grid_column": null,
            "grid_gap": null,
            "grid_row": null,
            "grid_template_areas": null,
            "grid_template_columns": null,
            "grid_template_rows": null,
            "height": null,
            "justify_content": null,
            "justify_items": null,
            "left": null,
            "margin": null,
            "max_height": null,
            "max_width": null,
            "min_height": null,
            "min_width": null,
            "object_fit": null,
            "object_position": null,
            "order": null,
            "overflow": null,
            "overflow_x": null,
            "overflow_y": null,
            "padding": null,
            "right": null,
            "top": null,
            "visibility": null,
            "width": null
          }
        },
        "7870db30a18c43f1b3dcb41b810b2ab8": {
          "model_module": "@jupyter-widgets/controls",
          "model_name": "DescriptionStyleModel",
          "model_module_version": "1.5.0",
          "state": {
            "_model_module": "@jupyter-widgets/controls",
            "_model_module_version": "1.5.0",
            "_model_name": "DescriptionStyleModel",
            "_view_count": null,
            "_view_module": "@jupyter-widgets/base",
            "_view_module_version": "1.2.0",
            "_view_name": "StyleView",
            "description_width": ""
          }
        },
        "8799579355b14d5b8ce1b033d1a26511": {
          "model_module": "@jupyter-widgets/controls",
          "model_name": "HBoxModel",
          "model_module_version": "1.5.0",
          "state": {
            "_dom_classes": [],
            "_model_module": "@jupyter-widgets/controls",
            "_model_module_version": "1.5.0",
            "_model_name": "HBoxModel",
            "_view_count": null,
            "_view_module": "@jupyter-widgets/controls",
            "_view_module_version": "1.5.0",
            "_view_name": "HBoxView",
            "box_style": "",
            "children": [
              "IPY_MODEL_eda222df1825425c91397621445d2dc2",
              "IPY_MODEL_55025d0daf534cbf8ff83065d798892c",
              "IPY_MODEL_3bbb83cd111d449db307b7cebc713fb5"
            ],
            "layout": "IPY_MODEL_3c08f8ecf91241e0afdef3fbed8d14b1"
          }
        },
        "eda222df1825425c91397621445d2dc2": {
          "model_module": "@jupyter-widgets/controls",
          "model_name": "HTMLModel",
          "model_module_version": "1.5.0",
          "state": {
            "_dom_classes": [],
            "_model_module": "@jupyter-widgets/controls",
            "_model_module_version": "1.5.0",
            "_model_name": "HTMLModel",
            "_view_count": null,
            "_view_module": "@jupyter-widgets/controls",
            "_view_module_version": "1.5.0",
            "_view_name": "HTMLView",
            "description": "",
            "description_tooltip": null,
            "layout": "IPY_MODEL_f53dbaa8197040268c57d87e6f7bd986",
            "placeholder": "​",
            "style": "IPY_MODEL_6af2ac158c934b8fad9b20e7ad4e5d3f",
            "value": "Generating test split: 100%"
          }
        },
        "55025d0daf534cbf8ff83065d798892c": {
          "model_module": "@jupyter-widgets/controls",
          "model_name": "FloatProgressModel",
          "model_module_version": "1.5.0",
          "state": {
            "_dom_classes": [],
            "_model_module": "@jupyter-widgets/controls",
            "_model_module_version": "1.5.0",
            "_model_name": "FloatProgressModel",
            "_view_count": null,
            "_view_module": "@jupyter-widgets/controls",
            "_view_module_version": "1.5.0",
            "_view_name": "ProgressView",
            "bar_style": "success",
            "description": "",
            "description_tooltip": null,
            "layout": "IPY_MODEL_2de40a0462004402b764496b434a3fe7",
            "max": 1283,
            "min": 0,
            "orientation": "horizontal",
            "style": "IPY_MODEL_1942f25c621744ad9e91f2672a68fcae",
            "value": 1283
          }
        },
        "3bbb83cd111d449db307b7cebc713fb5": {
          "model_module": "@jupyter-widgets/controls",
          "model_name": "HTMLModel",
          "model_module_version": "1.5.0",
          "state": {
            "_dom_classes": [],
            "_model_module": "@jupyter-widgets/controls",
            "_model_module_version": "1.5.0",
            "_model_name": "HTMLModel",
            "_view_count": null,
            "_view_module": "@jupyter-widgets/controls",
            "_view_module_version": "1.5.0",
            "_view_name": "HTMLView",
            "description": "",
            "description_tooltip": null,
            "layout": "IPY_MODEL_ee9271cbd1ca42b1968e6210a951f30e",
            "placeholder": "​",
            "style": "IPY_MODEL_dc7bdf55ce194af5993765ac447b40c8",
            "value": " 1283/1283 [00:00&lt;00:00, 7095.30 examples/s]"
          }
        },
        "3c08f8ecf91241e0afdef3fbed8d14b1": {
          "model_module": "@jupyter-widgets/base",
          "model_name": "LayoutModel",
          "model_module_version": "1.2.0",
          "state": {
            "_model_module": "@jupyter-widgets/base",
            "_model_module_version": "1.2.0",
            "_model_name": "LayoutModel",
            "_view_count": null,
            "_view_module": "@jupyter-widgets/base",
            "_view_module_version": "1.2.0",
            "_view_name": "LayoutView",
            "align_content": null,
            "align_items": null,
            "align_self": null,
            "border": null,
            "bottom": null,
            "display": null,
            "flex": null,
            "flex_flow": null,
            "grid_area": null,
            "grid_auto_columns": null,
            "grid_auto_flow": null,
            "grid_auto_rows": null,
            "grid_column": null,
            "grid_gap": null,
            "grid_row": null,
            "grid_template_areas": null,
            "grid_template_columns": null,
            "grid_template_rows": null,
            "height": null,
            "justify_content": null,
            "justify_items": null,
            "left": null,
            "margin": null,
            "max_height": null,
            "max_width": null,
            "min_height": null,
            "min_width": null,
            "object_fit": null,
            "object_position": null,
            "order": null,
            "overflow": null,
            "overflow_x": null,
            "overflow_y": null,
            "padding": null,
            "right": null,
            "top": null,
            "visibility": null,
            "width": null
          }
        },
        "f53dbaa8197040268c57d87e6f7bd986": {
          "model_module": "@jupyter-widgets/base",
          "model_name": "LayoutModel",
          "model_module_version": "1.2.0",
          "state": {
            "_model_module": "@jupyter-widgets/base",
            "_model_module_version": "1.2.0",
            "_model_name": "LayoutModel",
            "_view_count": null,
            "_view_module": "@jupyter-widgets/base",
            "_view_module_version": "1.2.0",
            "_view_name": "LayoutView",
            "align_content": null,
            "align_items": null,
            "align_self": null,
            "border": null,
            "bottom": null,
            "display": null,
            "flex": null,
            "flex_flow": null,
            "grid_area": null,
            "grid_auto_columns": null,
            "grid_auto_flow": null,
            "grid_auto_rows": null,
            "grid_column": null,
            "grid_gap": null,
            "grid_row": null,
            "grid_template_areas": null,
            "grid_template_columns": null,
            "grid_template_rows": null,
            "height": null,
            "justify_content": null,
            "justify_items": null,
            "left": null,
            "margin": null,
            "max_height": null,
            "max_width": null,
            "min_height": null,
            "min_width": null,
            "object_fit": null,
            "object_position": null,
            "order": null,
            "overflow": null,
            "overflow_x": null,
            "overflow_y": null,
            "padding": null,
            "right": null,
            "top": null,
            "visibility": null,
            "width": null
          }
        },
        "6af2ac158c934b8fad9b20e7ad4e5d3f": {
          "model_module": "@jupyter-widgets/controls",
          "model_name": "DescriptionStyleModel",
          "model_module_version": "1.5.0",
          "state": {
            "_model_module": "@jupyter-widgets/controls",
            "_model_module_version": "1.5.0",
            "_model_name": "DescriptionStyleModel",
            "_view_count": null,
            "_view_module": "@jupyter-widgets/base",
            "_view_module_version": "1.2.0",
            "_view_name": "StyleView",
            "description_width": ""
          }
        },
        "2de40a0462004402b764496b434a3fe7": {
          "model_module": "@jupyter-widgets/base",
          "model_name": "LayoutModel",
          "model_module_version": "1.2.0",
          "state": {
            "_model_module": "@jupyter-widgets/base",
            "_model_module_version": "1.2.0",
            "_model_name": "LayoutModel",
            "_view_count": null,
            "_view_module": "@jupyter-widgets/base",
            "_view_module_version": "1.2.0",
            "_view_name": "LayoutView",
            "align_content": null,
            "align_items": null,
            "align_self": null,
            "border": null,
            "bottom": null,
            "display": null,
            "flex": null,
            "flex_flow": null,
            "grid_area": null,
            "grid_auto_columns": null,
            "grid_auto_flow": null,
            "grid_auto_rows": null,
            "grid_column": null,
            "grid_gap": null,
            "grid_row": null,
            "grid_template_areas": null,
            "grid_template_columns": null,
            "grid_template_rows": null,
            "height": null,
            "justify_content": null,
            "justify_items": null,
            "left": null,
            "margin": null,
            "max_height": null,
            "max_width": null,
            "min_height": null,
            "min_width": null,
            "object_fit": null,
            "object_position": null,
            "order": null,
            "overflow": null,
            "overflow_x": null,
            "overflow_y": null,
            "padding": null,
            "right": null,
            "top": null,
            "visibility": null,
            "width": null
          }
        },
        "1942f25c621744ad9e91f2672a68fcae": {
          "model_module": "@jupyter-widgets/controls",
          "model_name": "ProgressStyleModel",
          "model_module_version": "1.5.0",
          "state": {
            "_model_module": "@jupyter-widgets/controls",
            "_model_module_version": "1.5.0",
            "_model_name": "ProgressStyleModel",
            "_view_count": null,
            "_view_module": "@jupyter-widgets/base",
            "_view_module_version": "1.2.0",
            "_view_name": "StyleView",
            "bar_color": null,
            "description_width": ""
          }
        },
        "ee9271cbd1ca42b1968e6210a951f30e": {
          "model_module": "@jupyter-widgets/base",
          "model_name": "LayoutModel",
          "model_module_version": "1.2.0",
          "state": {
            "_model_module": "@jupyter-widgets/base",
            "_model_module_version": "1.2.0",
            "_model_name": "LayoutModel",
            "_view_count": null,
            "_view_module": "@jupyter-widgets/base",
            "_view_module_version": "1.2.0",
            "_view_name": "LayoutView",
            "align_content": null,
            "align_items": null,
            "align_self": null,
            "border": null,
            "bottom": null,
            "display": null,
            "flex": null,
            "flex_flow": null,
            "grid_area": null,
            "grid_auto_columns": null,
            "grid_auto_flow": null,
            "grid_auto_rows": null,
            "grid_column": null,
            "grid_gap": null,
            "grid_row": null,
            "grid_template_areas": null,
            "grid_template_columns": null,
            "grid_template_rows": null,
            "height": null,
            "justify_content": null,
            "justify_items": null,
            "left": null,
            "margin": null,
            "max_height": null,
            "max_width": null,
            "min_height": null,
            "min_width": null,
            "object_fit": null,
            "object_position": null,
            "order": null,
            "overflow": null,
            "overflow_x": null,
            "overflow_y": null,
            "padding": null,
            "right": null,
            "top": null,
            "visibility": null,
            "width": null
          }
        },
        "dc7bdf55ce194af5993765ac447b40c8": {
          "model_module": "@jupyter-widgets/controls",
          "model_name": "DescriptionStyleModel",
          "model_module_version": "1.5.0",
          "state": {
            "_model_module": "@jupyter-widgets/controls",
            "_model_module_version": "1.5.0",
            "_model_name": "DescriptionStyleModel",
            "_view_count": null,
            "_view_module": "@jupyter-widgets/base",
            "_view_module_version": "1.2.0",
            "_view_name": "StyleView",
            "description_width": ""
          }
        },
        "b9b8ef44c5b8447aa88e0a32f2ea1eb2": {
          "model_module": "@jupyter-widgets/controls",
          "model_name": "HBoxModel",
          "model_module_version": "1.5.0",
          "state": {
            "_dom_classes": [],
            "_model_module": "@jupyter-widgets/controls",
            "_model_module_version": "1.5.0",
            "_model_name": "HBoxModel",
            "_view_count": null,
            "_view_module": "@jupyter-widgets/controls",
            "_view_module_version": "1.5.0",
            "_view_name": "HBoxView",
            "box_style": "",
            "children": [
              "IPY_MODEL_e3f39194e30b48258e06c37c8a4417ec",
              "IPY_MODEL_fa4b7631928940df884d36cc9c81710d",
              "IPY_MODEL_af7a09b624284e2c84c8f2a5379c795e"
            ],
            "layout": "IPY_MODEL_8613fa4653fe427981123739c2c6f244"
          }
        },
        "e3f39194e30b48258e06c37c8a4417ec": {
          "model_module": "@jupyter-widgets/controls",
          "model_name": "HTMLModel",
          "model_module_version": "1.5.0",
          "state": {
            "_dom_classes": [],
            "_model_module": "@jupyter-widgets/controls",
            "_model_module_version": "1.5.0",
            "_model_name": "HTMLModel",
            "_view_count": null,
            "_view_module": "@jupyter-widgets/controls",
            "_view_module_version": "1.5.0",
            "_view_name": "HTMLView",
            "description": "",
            "description_tooltip": null,
            "layout": "IPY_MODEL_d28e2c04548343b8928bbf4ee6c268f0",
            "placeholder": "​",
            "style": "IPY_MODEL_6a8672051ab44409b4aa8237ee04b02e",
            "value": "Generating validation split: 100%"
          }
        },
        "fa4b7631928940df884d36cc9c81710d": {
          "model_module": "@jupyter-widgets/controls",
          "model_name": "FloatProgressModel",
          "model_module_version": "1.5.0",
          "state": {
            "_dom_classes": [],
            "_model_module": "@jupyter-widgets/controls",
            "_model_module_version": "1.5.0",
            "_model_name": "FloatProgressModel",
            "_view_count": null,
            "_view_module": "@jupyter-widgets/controls",
            "_view_module_version": "1.5.0",
            "_view_name": "ProgressView",
            "bar_style": "success",
            "description": "",
            "description_tooltip": null,
            "layout": "IPY_MODEL_5c93cd0719be4b1fae09a47b06723e32",
            "max": 1284,
            "min": 0,
            "orientation": "horizontal",
            "style": "IPY_MODEL_b828603580eb49ed908d0b6c938bd7d3",
            "value": 1284
          }
        },
        "af7a09b624284e2c84c8f2a5379c795e": {
          "model_module": "@jupyter-widgets/controls",
          "model_name": "HTMLModel",
          "model_module_version": "1.5.0",
          "state": {
            "_dom_classes": [],
            "_model_module": "@jupyter-widgets/controls",
            "_model_module_version": "1.5.0",
            "_model_name": "HTMLModel",
            "_view_count": null,
            "_view_module": "@jupyter-widgets/controls",
            "_view_module_version": "1.5.0",
            "_view_name": "HTMLView",
            "description": "",
            "description_tooltip": null,
            "layout": "IPY_MODEL_731d12b375914636b7751cd0c76742d3",
            "placeholder": "​",
            "style": "IPY_MODEL_f175483d3cb449038eeeed879230ff72",
            "value": " 1284/1284 [00:00&lt;00:00, 7305.39 examples/s]"
          }
        },
        "8613fa4653fe427981123739c2c6f244": {
          "model_module": "@jupyter-widgets/base",
          "model_name": "LayoutModel",
          "model_module_version": "1.2.0",
          "state": {
            "_model_module": "@jupyter-widgets/base",
            "_model_module_version": "1.2.0",
            "_model_name": "LayoutModel",
            "_view_count": null,
            "_view_module": "@jupyter-widgets/base",
            "_view_module_version": "1.2.0",
            "_view_name": "LayoutView",
            "align_content": null,
            "align_items": null,
            "align_self": null,
            "border": null,
            "bottom": null,
            "display": null,
            "flex": null,
            "flex_flow": null,
            "grid_area": null,
            "grid_auto_columns": null,
            "grid_auto_flow": null,
            "grid_auto_rows": null,
            "grid_column": null,
            "grid_gap": null,
            "grid_row": null,
            "grid_template_areas": null,
            "grid_template_columns": null,
            "grid_template_rows": null,
            "height": null,
            "justify_content": null,
            "justify_items": null,
            "left": null,
            "margin": null,
            "max_height": null,
            "max_width": null,
            "min_height": null,
            "min_width": null,
            "object_fit": null,
            "object_position": null,
            "order": null,
            "overflow": null,
            "overflow_x": null,
            "overflow_y": null,
            "padding": null,
            "right": null,
            "top": null,
            "visibility": null,
            "width": null
          }
        },
        "d28e2c04548343b8928bbf4ee6c268f0": {
          "model_module": "@jupyter-widgets/base",
          "model_name": "LayoutModel",
          "model_module_version": "1.2.0",
          "state": {
            "_model_module": "@jupyter-widgets/base",
            "_model_module_version": "1.2.0",
            "_model_name": "LayoutModel",
            "_view_count": null,
            "_view_module": "@jupyter-widgets/base",
            "_view_module_version": "1.2.0",
            "_view_name": "LayoutView",
            "align_content": null,
            "align_items": null,
            "align_self": null,
            "border": null,
            "bottom": null,
            "display": null,
            "flex": null,
            "flex_flow": null,
            "grid_area": null,
            "grid_auto_columns": null,
            "grid_auto_flow": null,
            "grid_auto_rows": null,
            "grid_column": null,
            "grid_gap": null,
            "grid_row": null,
            "grid_template_areas": null,
            "grid_template_columns": null,
            "grid_template_rows": null,
            "height": null,
            "justify_content": null,
            "justify_items": null,
            "left": null,
            "margin": null,
            "max_height": null,
            "max_width": null,
            "min_height": null,
            "min_width": null,
            "object_fit": null,
            "object_position": null,
            "order": null,
            "overflow": null,
            "overflow_x": null,
            "overflow_y": null,
            "padding": null,
            "right": null,
            "top": null,
            "visibility": null,
            "width": null
          }
        },
        "6a8672051ab44409b4aa8237ee04b02e": {
          "model_module": "@jupyter-widgets/controls",
          "model_name": "DescriptionStyleModel",
          "model_module_version": "1.5.0",
          "state": {
            "_model_module": "@jupyter-widgets/controls",
            "_model_module_version": "1.5.0",
            "_model_name": "DescriptionStyleModel",
            "_view_count": null,
            "_view_module": "@jupyter-widgets/base",
            "_view_module_version": "1.2.0",
            "_view_name": "StyleView",
            "description_width": ""
          }
        },
        "5c93cd0719be4b1fae09a47b06723e32": {
          "model_module": "@jupyter-widgets/base",
          "model_name": "LayoutModel",
          "model_module_version": "1.2.0",
          "state": {
            "_model_module": "@jupyter-widgets/base",
            "_model_module_version": "1.2.0",
            "_model_name": "LayoutModel",
            "_view_count": null,
            "_view_module": "@jupyter-widgets/base",
            "_view_module_version": "1.2.0",
            "_view_name": "LayoutView",
            "align_content": null,
            "align_items": null,
            "align_self": null,
            "border": null,
            "bottom": null,
            "display": null,
            "flex": null,
            "flex_flow": null,
            "grid_area": null,
            "grid_auto_columns": null,
            "grid_auto_flow": null,
            "grid_auto_rows": null,
            "grid_column": null,
            "grid_gap": null,
            "grid_row": null,
            "grid_template_areas": null,
            "grid_template_columns": null,
            "grid_template_rows": null,
            "height": null,
            "justify_content": null,
            "justify_items": null,
            "left": null,
            "margin": null,
            "max_height": null,
            "max_width": null,
            "min_height": null,
            "min_width": null,
            "object_fit": null,
            "object_position": null,
            "order": null,
            "overflow": null,
            "overflow_x": null,
            "overflow_y": null,
            "padding": null,
            "right": null,
            "top": null,
            "visibility": null,
            "width": null
          }
        },
        "b828603580eb49ed908d0b6c938bd7d3": {
          "model_module": "@jupyter-widgets/controls",
          "model_name": "ProgressStyleModel",
          "model_module_version": "1.5.0",
          "state": {
            "_model_module": "@jupyter-widgets/controls",
            "_model_module_version": "1.5.0",
            "_model_name": "ProgressStyleModel",
            "_view_count": null,
            "_view_module": "@jupyter-widgets/base",
            "_view_module_version": "1.2.0",
            "_view_name": "StyleView",
            "bar_color": null,
            "description_width": ""
          }
        },
        "731d12b375914636b7751cd0c76742d3": {
          "model_module": "@jupyter-widgets/base",
          "model_name": "LayoutModel",
          "model_module_version": "1.2.0",
          "state": {
            "_model_module": "@jupyter-widgets/base",
            "_model_module_version": "1.2.0",
            "_model_name": "LayoutModel",
            "_view_count": null,
            "_view_module": "@jupyter-widgets/base",
            "_view_module_version": "1.2.0",
            "_view_name": "LayoutView",
            "align_content": null,
            "align_items": null,
            "align_self": null,
            "border": null,
            "bottom": null,
            "display": null,
            "flex": null,
            "flex_flow": null,
            "grid_area": null,
            "grid_auto_columns": null,
            "grid_auto_flow": null,
            "grid_auto_rows": null,
            "grid_column": null,
            "grid_gap": null,
            "grid_row": null,
            "grid_template_areas": null,
            "grid_template_columns": null,
            "grid_template_rows": null,
            "height": null,
            "justify_content": null,
            "justify_items": null,
            "left": null,
            "margin": null,
            "max_height": null,
            "max_width": null,
            "min_height": null,
            "min_width": null,
            "object_fit": null,
            "object_position": null,
            "order": null,
            "overflow": null,
            "overflow_x": null,
            "overflow_y": null,
            "padding": null,
            "right": null,
            "top": null,
            "visibility": null,
            "width": null
          }
        },
        "f175483d3cb449038eeeed879230ff72": {
          "model_module": "@jupyter-widgets/controls",
          "model_name": "DescriptionStyleModel",
          "model_module_version": "1.5.0",
          "state": {
            "_model_module": "@jupyter-widgets/controls",
            "_model_module_version": "1.5.0",
            "_model_name": "DescriptionStyleModel",
            "_view_count": null,
            "_view_module": "@jupyter-widgets/base",
            "_view_module_version": "1.2.0",
            "_view_name": "StyleView",
            "description_width": ""
          }
        }
      }
    },
    "accelerator": "GPU"
  },
  "cells": [
    {
      "cell_type": "code",
      "execution_count": 1,
      "metadata": {
        "colab": {
          "base_uri": "https://localhost:8080/"
        },
        "id": "4umLETsngJeN",
        "outputId": "287d058a-dfd4-4e1c-94b5-281607fe7cbe"
      },
      "outputs": [
        {
          "output_type": "stream",
          "name": "stdout",
          "text": [
            "Collecting datasets\n",
            "  Downloading datasets-2.15.0-py3-none-any.whl (521 kB)\n",
            "\u001b[2K     \u001b[90m━━━━━━━━━━━━━━━━━━━━━━━━━━━━━━━━━━━━━━━━\u001b[0m \u001b[32m521.2/521.2 kB\u001b[0m \u001b[31m8.6 MB/s\u001b[0m eta \u001b[36m0:00:00\u001b[0m\n",
            "\u001b[?25hRequirement already satisfied: numpy>=1.17 in /usr/local/lib/python3.10/dist-packages (from datasets) (1.23.5)\n",
            "Requirement already satisfied: pyarrow>=8.0.0 in /usr/local/lib/python3.10/dist-packages (from datasets) (9.0.0)\n",
            "Collecting pyarrow-hotfix (from datasets)\n",
            "  Downloading pyarrow_hotfix-0.6-py3-none-any.whl (7.9 kB)\n",
            "Collecting dill<0.3.8,>=0.3.0 (from datasets)\n",
            "  Downloading dill-0.3.7-py3-none-any.whl (115 kB)\n",
            "\u001b[2K     \u001b[90m━━━━━━━━━━━━━━━━━━━━━━━━━━━━━━━━━━━━━━━━\u001b[0m \u001b[32m115.3/115.3 kB\u001b[0m \u001b[31m17.7 MB/s\u001b[0m eta \u001b[36m0:00:00\u001b[0m\n",
            "\u001b[?25hRequirement already satisfied: pandas in /usr/local/lib/python3.10/dist-packages (from datasets) (1.5.3)\n",
            "Requirement already satisfied: requests>=2.19.0 in /usr/local/lib/python3.10/dist-packages (from datasets) (2.31.0)\n",
            "Requirement already satisfied: tqdm>=4.62.1 in /usr/local/lib/python3.10/dist-packages (from datasets) (4.66.1)\n",
            "Requirement already satisfied: xxhash in /usr/local/lib/python3.10/dist-packages (from datasets) (3.4.1)\n",
            "Collecting multiprocess (from datasets)\n",
            "  Downloading multiprocess-0.70.15-py310-none-any.whl (134 kB)\n",
            "\u001b[2K     \u001b[90m━━━━━━━━━━━━━━━━━━━━━━━━━━━━━━━━━━━━━━━━\u001b[0m \u001b[32m134.8/134.8 kB\u001b[0m \u001b[31m19.1 MB/s\u001b[0m eta \u001b[36m0:00:00\u001b[0m\n",
            "\u001b[?25hRequirement already satisfied: fsspec[http]<=2023.10.0,>=2023.1.0 in /usr/local/lib/python3.10/dist-packages (from datasets) (2023.6.0)\n",
            "Requirement already satisfied: aiohttp in /usr/local/lib/python3.10/dist-packages (from datasets) (3.9.1)\n",
            "Requirement already satisfied: huggingface-hub>=0.18.0 in /usr/local/lib/python3.10/dist-packages (from datasets) (0.19.4)\n",
            "Requirement already satisfied: packaging in /usr/local/lib/python3.10/dist-packages (from datasets) (23.2)\n",
            "Requirement already satisfied: pyyaml>=5.1 in /usr/local/lib/python3.10/dist-packages (from datasets) (6.0.1)\n",
            "Requirement already satisfied: attrs>=17.3.0 in /usr/local/lib/python3.10/dist-packages (from aiohttp->datasets) (23.1.0)\n",
            "Requirement already satisfied: multidict<7.0,>=4.5 in /usr/local/lib/python3.10/dist-packages (from aiohttp->datasets) (6.0.4)\n",
            "Requirement already satisfied: yarl<2.0,>=1.0 in /usr/local/lib/python3.10/dist-packages (from aiohttp->datasets) (1.9.3)\n",
            "Requirement already satisfied: frozenlist>=1.1.1 in /usr/local/lib/python3.10/dist-packages (from aiohttp->datasets) (1.4.0)\n",
            "Requirement already satisfied: aiosignal>=1.1.2 in /usr/local/lib/python3.10/dist-packages (from aiohttp->datasets) (1.3.1)\n",
            "Requirement already satisfied: async-timeout<5.0,>=4.0 in /usr/local/lib/python3.10/dist-packages (from aiohttp->datasets) (4.0.3)\n",
            "Requirement already satisfied: filelock in /usr/local/lib/python3.10/dist-packages (from huggingface-hub>=0.18.0->datasets) (3.13.1)\n",
            "Requirement already satisfied: typing-extensions>=3.7.4.3 in /usr/local/lib/python3.10/dist-packages (from huggingface-hub>=0.18.0->datasets) (4.5.0)\n",
            "Requirement already satisfied: charset-normalizer<4,>=2 in /usr/local/lib/python3.10/dist-packages (from requests>=2.19.0->datasets) (3.3.2)\n",
            "Requirement already satisfied: idna<4,>=2.5 in /usr/local/lib/python3.10/dist-packages (from requests>=2.19.0->datasets) (3.6)\n",
            "Requirement already satisfied: urllib3<3,>=1.21.1 in /usr/local/lib/python3.10/dist-packages (from requests>=2.19.0->datasets) (2.0.7)\n",
            "Requirement already satisfied: certifi>=2017.4.17 in /usr/local/lib/python3.10/dist-packages (from requests>=2.19.0->datasets) (2023.11.17)\n",
            "Requirement already satisfied: python-dateutil>=2.8.1 in /usr/local/lib/python3.10/dist-packages (from pandas->datasets) (2.8.2)\n",
            "Requirement already satisfied: pytz>=2020.1 in /usr/local/lib/python3.10/dist-packages (from pandas->datasets) (2023.3.post1)\n",
            "Requirement already satisfied: six>=1.5 in /usr/local/lib/python3.10/dist-packages (from python-dateutil>=2.8.1->pandas->datasets) (1.16.0)\n",
            "Installing collected packages: pyarrow-hotfix, dill, multiprocess, datasets\n",
            "Successfully installed datasets-2.15.0 dill-0.3.7 multiprocess-0.70.15 pyarrow-hotfix-0.6\n",
            "Collecting contractions\n",
            "  Downloading contractions-0.1.73-py2.py3-none-any.whl (8.7 kB)\n",
            "Collecting textsearch>=0.0.21 (from contractions)\n",
            "  Downloading textsearch-0.0.24-py2.py3-none-any.whl (7.6 kB)\n",
            "Collecting anyascii (from textsearch>=0.0.21->contractions)\n",
            "  Downloading anyascii-0.3.2-py3-none-any.whl (289 kB)\n",
            "\u001b[2K     \u001b[90m━━━━━━━━━━━━━━━━━━━━━━━━━━━━━━━━━━━━━━━━\u001b[0m \u001b[32m289.9/289.9 kB\u001b[0m \u001b[31m5.9 MB/s\u001b[0m eta \u001b[36m0:00:00\u001b[0m\n",
            "\u001b[?25hCollecting pyahocorasick (from textsearch>=0.0.21->contractions)\n",
            "  Downloading pyahocorasick-2.0.0-cp310-cp310-manylinux_2_5_x86_64.manylinux1_x86_64.manylinux_2_12_x86_64.manylinux2010_x86_64.whl (110 kB)\n",
            "\u001b[2K     \u001b[90m━━━━━━━━━━━━━━━━━━━━━━━━━━━━━━━━━━━━━━━━\u001b[0m \u001b[32m110.8/110.8 kB\u001b[0m \u001b[31m14.4 MB/s\u001b[0m eta \u001b[36m0:00:00\u001b[0m\n",
            "\u001b[?25hInstalling collected packages: pyahocorasick, anyascii, textsearch, contractions\n",
            "Successfully installed anyascii-0.3.2 contractions-0.1.73 pyahocorasick-2.0.0 textsearch-0.0.24\n"
          ]
        }
      ],
      "source": [
        "# install necessary libraries\n",
        "\n",
        "!pip install datasets\n",
        "!pip install contractions"
      ]
    },
    {
      "cell_type": "code",
      "source": [
        "import torch\n",
        "import torch.nn as nn\n",
        "import torch.optim as optim\n",
        "import re\n",
        "import nltk\n",
        "import numpy as np\n",
        "import pandas as pd\n",
        "import torchtext\n",
        "import itertools\n",
        "import matplotlib.pyplot as plt\n",
        "\n",
        "from tqdm import tqdm\n",
        "from torchtext.data.utils import get_tokenizer\n",
        "from torchtext.vocab import vocab\n",
        "from torch.nn import functional as F\n",
        "from torch.nn.utils.rnn import pad_sequence\n",
        "from torch.nn.modules.loss import _WeightedLoss\n",
        "\n",
        "from datasets import load_dataset\n",
        "from torch.utils.data import DataLoader, TensorDataset\n",
        "\n",
        "\n",
        "from nltk.corpus import stopwords\n",
        "from contractions import contractions_dict\n",
        "from nltk.stem import WordNetLemmatizer\n",
        "from collections import Counter\n"
      ],
      "metadata": {
        "id": "OUwT8WlTgORx"
      },
      "execution_count": 23,
      "outputs": []
    },
    {
      "cell_type": "code",
      "source": [
        "# connect to Google Drive\n",
        "\n",
        "from google.colab import drive\n",
        "drive.mount('/content/drive')"
      ],
      "metadata": {
        "colab": {
          "base_uri": "https://localhost:8080/"
        },
        "id": "4OT-FBeweECm",
        "outputId": "792f2547-d7e6-4039-88d3-7d8f7a02a5ca"
      },
      "execution_count": 3,
      "outputs": [
        {
          "output_type": "stream",
          "name": "stdout",
          "text": [
            "Mounted at /content/drive\n"
          ]
        }
      ]
    },
    {
      "cell_type": "code",
      "source": [
        "# load the LIAR dataset from huggingface and printing sizes of train, val and test dataframes\n",
        "\n",
        "dataset = load_dataset(\"liar\")\n",
        "\n",
        "train_df = pd.DataFrame(dataset['train'])\n",
        "val_df = pd.DataFrame(dataset['validation'])\n",
        "test_df = pd.DataFrame(dataset['test'])\n",
        "\n",
        "print(f\"Length of training data: {len(train_df)}\")\n",
        "print(f\"Length of validation data: {len(val_df)}\")\n",
        "print(f\"Length of testing data: {len(test_df) }\")"
      ],
      "metadata": {
        "colab": {
          "base_uri": "https://localhost:8080/",
          "height": 295,
          "referenced_widgets": [
            "c585d85f399047978b13bffb657baf6e",
            "bb86e6e6593c41f2b81829a4b76242f3",
            "19e16b8047af4e8f9699859083ca5d0f",
            "b276d131e3984ed7ab7b848073486039",
            "6862731820f9485b850841f7d2713a1d",
            "d8550839021a451885b589853cfa99e3",
            "c60dc45b140b43ca804dc5f8bfb86c48",
            "fe65e1da8fa844039a281424aad4de42",
            "40e5504fc0f145679087902be700942e",
            "153bcf55126e488e86cf1d9888bef3d3",
            "463df2af508441858a0dc7c4d1fb0178",
            "d802da98795f4241ab5364f93571f2c6",
            "0293a17ad25e489d8e29a1b5b3933cc0",
            "a6cbe5838ae74a97b79b728368117f6c",
            "f19556e41f774ed3802eb5623f9e81e5",
            "1e5c2615a03144079b7375204388fdf6",
            "fd5ad8a9ef594e7fae552223c7540a6e",
            "8131a2adcb464a79bbbc7c6dc1b2e336",
            "2f5ab13fb4cf471590afdf2f2bc14834",
            "d1d50d08d8f24a95b48e046af8101fc2",
            "adc430771fc74bbea296789141364ef1",
            "6b3988aac35d419a87ff383e5d87f719",
            "0a0d5d703dd44823a53882a603ecba42",
            "2e5fa109b722476188ca687f6d8be8dd",
            "5a4652f997c54aef853b6fe5ce34abab",
            "04ed8b62354045879a94c7486d40a7ed",
            "be67ccc9cfb945198a351f80ecd59ea9",
            "2b750fdeb4e24dfbbc8def8dfb6b1e71",
            "3c762d5bbd8b4bc78a56eaefc5b925fa",
            "013f70c674704e2d81441b20f29c71c4",
            "8564e47dde11403b9d611edc2bb3a66d",
            "d510472e8e88465d88486263c1ed974a",
            "a4810dcff4c94a608c672dfeb4404e5e",
            "932eb9d0de5f4b5aa69cf8c7e36e2d8d",
            "b862e6293107496a8095732c038dc51d",
            "dcd3c9f706674417ab4613f540f582e8",
            "8211cda0e6974e0595411f0567f6886f",
            "777d2403885445f1ab2e5d23db3cf9ed",
            "0f9cf6dc7f634b30a381a226ad3180c2",
            "4e7ddc78af4141329ea9cddb1d89f3ee",
            "b202bd1830e84b85955fb8d2c734d2d2",
            "daa263a1c9e64386a0361d023cf979d3",
            "291ce479e39149f38868e4f08dddb583",
            "ebacede75b2b4de8b24e633b5f7ca3fe",
            "7ebf65cd055441759d532eca7d55b057",
            "b518b88bacf4471895aed4caba161ecb",
            "90c078d9616749cdbfd2e9b8b432386d",
            "e96571912c574db1b288243e3eacd001",
            "86c8f8eaba094574ae692f44d6cc2cef",
            "6354005fbed0439e9e09c189b36d40a4",
            "9584d0b68ff84801a0bbd223a1ea56c2",
            "29c4f4afadd14c1cbdc75c8eb0bf938b",
            "fee07195e0e042a6985128daaf5068b2",
            "8283a7d1c3e8419f90dd619fc83fba9b",
            "7870db30a18c43f1b3dcb41b810b2ab8",
            "8799579355b14d5b8ce1b033d1a26511",
            "eda222df1825425c91397621445d2dc2",
            "55025d0daf534cbf8ff83065d798892c",
            "3bbb83cd111d449db307b7cebc713fb5",
            "3c08f8ecf91241e0afdef3fbed8d14b1",
            "f53dbaa8197040268c57d87e6f7bd986",
            "6af2ac158c934b8fad9b20e7ad4e5d3f",
            "2de40a0462004402b764496b434a3fe7",
            "1942f25c621744ad9e91f2672a68fcae",
            "ee9271cbd1ca42b1968e6210a951f30e",
            "dc7bdf55ce194af5993765ac447b40c8",
            "b9b8ef44c5b8447aa88e0a32f2ea1eb2",
            "e3f39194e30b48258e06c37c8a4417ec",
            "fa4b7631928940df884d36cc9c81710d",
            "af7a09b624284e2c84c8f2a5379c795e",
            "8613fa4653fe427981123739c2c6f244",
            "d28e2c04548343b8928bbf4ee6c268f0",
            "6a8672051ab44409b4aa8237ee04b02e",
            "5c93cd0719be4b1fae09a47b06723e32",
            "b828603580eb49ed908d0b6c938bd7d3",
            "731d12b375914636b7751cd0c76742d3",
            "f175483d3cb449038eeeed879230ff72"
          ]
        },
        "id": "pG0Csl_0gSDu",
        "outputId": "d2a4c19e-906d-4233-fdad-7eb15c1b2c42"
      },
      "execution_count": 4,
      "outputs": [
        {
          "output_type": "display_data",
          "data": {
            "text/plain": [
              "Downloading builder script:   0%|          | 0.00/6.41k [00:00<?, ?B/s]"
            ],
            "application/vnd.jupyter.widget-view+json": {
              "version_major": 2,
              "version_minor": 0,
              "model_id": "c585d85f399047978b13bffb657baf6e"
            }
          },
          "metadata": {}
        },
        {
          "output_type": "display_data",
          "data": {
            "text/plain": [
              "Downloading metadata:   0%|          | 0.00/4.03k [00:00<?, ?B/s]"
            ],
            "application/vnd.jupyter.widget-view+json": {
              "version_major": 2,
              "version_minor": 0,
              "model_id": "d802da98795f4241ab5364f93571f2c6"
            }
          },
          "metadata": {}
        },
        {
          "output_type": "display_data",
          "data": {
            "text/plain": [
              "Downloading readme:   0%|          | 0.00/5.16k [00:00<?, ?B/s]"
            ],
            "application/vnd.jupyter.widget-view+json": {
              "version_major": 2,
              "version_minor": 0,
              "model_id": "0a0d5d703dd44823a53882a603ecba42"
            }
          },
          "metadata": {}
        },
        {
          "output_type": "display_data",
          "data": {
            "text/plain": [
              "Downloading data:   0%|          | 0.00/1.01M [00:00<?, ?B/s]"
            ],
            "application/vnd.jupyter.widget-view+json": {
              "version_major": 2,
              "version_minor": 0,
              "model_id": "932eb9d0de5f4b5aa69cf8c7e36e2d8d"
            }
          },
          "metadata": {}
        },
        {
          "output_type": "display_data",
          "data": {
            "text/plain": [
              "Generating train split:   0%|          | 0/10269 [00:00<?, ? examples/s]"
            ],
            "application/vnd.jupyter.widget-view+json": {
              "version_major": 2,
              "version_minor": 0,
              "model_id": "7ebf65cd055441759d532eca7d55b057"
            }
          },
          "metadata": {}
        },
        {
          "output_type": "display_data",
          "data": {
            "text/plain": [
              "Generating test split:   0%|          | 0/1283 [00:00<?, ? examples/s]"
            ],
            "application/vnd.jupyter.widget-view+json": {
              "version_major": 2,
              "version_minor": 0,
              "model_id": "8799579355b14d5b8ce1b033d1a26511"
            }
          },
          "metadata": {}
        },
        {
          "output_type": "display_data",
          "data": {
            "text/plain": [
              "Generating validation split:   0%|          | 0/1284 [00:00<?, ? examples/s]"
            ],
            "application/vnd.jupyter.widget-view+json": {
              "version_major": 2,
              "version_minor": 0,
              "model_id": "b9b8ef44c5b8447aa88e0a32f2ea1eb2"
            }
          },
          "metadata": {}
        },
        {
          "output_type": "stream",
          "name": "stdout",
          "text": [
            "Length of training data: 10269\n",
            "Length of validation data: 1284\n",
            "Length of testing data: 1283\n"
          ]
        }
      ]
    },
    {
      "cell_type": "code",
      "source": [
        "train_df.head(10)"
      ],
      "metadata": {
        "colab": {
          "base_uri": "https://localhost:8080/",
          "height": 1000
        },
        "id": "aercYHfPqSeG",
        "outputId": "6c0b774a-0c5f-4398-aad3-5a0d7d633907"
      },
      "execution_count": 5,
      "outputs": [
        {
          "output_type": "execute_result",
          "data": {
            "text/plain": [
              "           id  label                                          statement  \\\n",
              "0   2635.json      0  Says the Annies List political group supports ...   \n",
              "1  10540.json      1  When did the decline of coal start? It started...   \n",
              "2    324.json      2  Hillary Clinton agrees with John McCain \"by vo...   \n",
              "3   1123.json      0  Health care reform legislation is likely to ma...   \n",
              "4   9028.json      1  The economic turnaround started at the end of ...   \n",
              "5  12465.json      3  The Chicago Bears have had more starting quart...   \n",
              "6   2342.json      4  Jim Dunnam has not lived in the district he re...   \n",
              "7    153.json      1  \"I'm the only person on this stage who has wor...   \n",
              "8   5602.json      1  However, it took $19.5 million in Oregon Lotte...   \n",
              "9   9741.json      2  Says GOP primary opponents Glenn Grothman and ...   \n",
              "\n",
              "                                     subject                 speaker  \\\n",
              "0                                   abortion            dwayne-bohac   \n",
              "1         energy,history,job-accomplishments          scott-surovell   \n",
              "2                             foreign-policy            barack-obama   \n",
              "3                                health-care            blog-posting   \n",
              "4                               economy,jobs           charlie-crist   \n",
              "5                                  education               robin-vos   \n",
              "6                       candidates-biography  republican-party-texas   \n",
              "7                                     ethics            barack-obama   \n",
              "8                                       jobs          oregon-lottery   \n",
              "9  energy,message-machine-2014,voting-record           duey-stroebel   \n",
              "\n",
              "                    job_title state_info party_affiliation  \\\n",
              "0        State representative      Texas        republican   \n",
              "1              State delegate   Virginia          democrat   \n",
              "2                   President   Illinois          democrat   \n",
              "3                                                     none   \n",
              "4                                Florida          democrat   \n",
              "5  Wisconsin Assembly speaker  Wisconsin        republican   \n",
              "6                                  Texas        republican   \n",
              "7                   President   Illinois          democrat   \n",
              "8                                             organization   \n",
              "9        State representative  Wisconsin        republican   \n",
              "\n",
              "   barely_true_counts  false_counts  half_true_counts  mostly_true_counts  \\\n",
              "0                 0.0           1.0               0.0                 0.0   \n",
              "1                 0.0           0.0               1.0                 1.0   \n",
              "2                70.0          71.0             160.0               163.0   \n",
              "3                 7.0          19.0               3.0                 5.0   \n",
              "4                15.0           9.0              20.0                19.0   \n",
              "5                 0.0           3.0               2.0                 5.0   \n",
              "6                 3.0           1.0               1.0                 3.0   \n",
              "7                70.0          71.0             160.0               163.0   \n",
              "8                 0.0           0.0               1.0                 0.0   \n",
              "9                 0.0           0.0               0.0                 1.0   \n",
              "\n",
              "   pants_on_fire_counts                                   context  \n",
              "0                   0.0                                  a mailer  \n",
              "1                   0.0                           a floor speech.  \n",
              "2                   9.0                                    Denver  \n",
              "3                  44.0                            a news release  \n",
              "4                   2.0                       an interview on CNN  \n",
              "5                   1.0                 a an online opinion-piece  \n",
              "6                   1.0                          a press release.  \n",
              "7                   9.0  a Democratic debate in Philadelphia, Pa.  \n",
              "8                   1.0                                a website   \n",
              "9                   0.0                           an online video  "
            ],
            "text/html": [
              "\n",
              "  <div id=\"df-9ce0d44a-b243-438e-83e6-191b2748dfa5\" class=\"colab-df-container\">\n",
              "    <div>\n",
              "<style scoped>\n",
              "    .dataframe tbody tr th:only-of-type {\n",
              "        vertical-align: middle;\n",
              "    }\n",
              "\n",
              "    .dataframe tbody tr th {\n",
              "        vertical-align: top;\n",
              "    }\n",
              "\n",
              "    .dataframe thead th {\n",
              "        text-align: right;\n",
              "    }\n",
              "</style>\n",
              "<table border=\"1\" class=\"dataframe\">\n",
              "  <thead>\n",
              "    <tr style=\"text-align: right;\">\n",
              "      <th></th>\n",
              "      <th>id</th>\n",
              "      <th>label</th>\n",
              "      <th>statement</th>\n",
              "      <th>subject</th>\n",
              "      <th>speaker</th>\n",
              "      <th>job_title</th>\n",
              "      <th>state_info</th>\n",
              "      <th>party_affiliation</th>\n",
              "      <th>barely_true_counts</th>\n",
              "      <th>false_counts</th>\n",
              "      <th>half_true_counts</th>\n",
              "      <th>mostly_true_counts</th>\n",
              "      <th>pants_on_fire_counts</th>\n",
              "      <th>context</th>\n",
              "    </tr>\n",
              "  </thead>\n",
              "  <tbody>\n",
              "    <tr>\n",
              "      <th>0</th>\n",
              "      <td>2635.json</td>\n",
              "      <td>0</td>\n",
              "      <td>Says the Annies List political group supports ...</td>\n",
              "      <td>abortion</td>\n",
              "      <td>dwayne-bohac</td>\n",
              "      <td>State representative</td>\n",
              "      <td>Texas</td>\n",
              "      <td>republican</td>\n",
              "      <td>0.0</td>\n",
              "      <td>1.0</td>\n",
              "      <td>0.0</td>\n",
              "      <td>0.0</td>\n",
              "      <td>0.0</td>\n",
              "      <td>a mailer</td>\n",
              "    </tr>\n",
              "    <tr>\n",
              "      <th>1</th>\n",
              "      <td>10540.json</td>\n",
              "      <td>1</td>\n",
              "      <td>When did the decline of coal start? It started...</td>\n",
              "      <td>energy,history,job-accomplishments</td>\n",
              "      <td>scott-surovell</td>\n",
              "      <td>State delegate</td>\n",
              "      <td>Virginia</td>\n",
              "      <td>democrat</td>\n",
              "      <td>0.0</td>\n",
              "      <td>0.0</td>\n",
              "      <td>1.0</td>\n",
              "      <td>1.0</td>\n",
              "      <td>0.0</td>\n",
              "      <td>a floor speech.</td>\n",
              "    </tr>\n",
              "    <tr>\n",
              "      <th>2</th>\n",
              "      <td>324.json</td>\n",
              "      <td>2</td>\n",
              "      <td>Hillary Clinton agrees with John McCain \"by vo...</td>\n",
              "      <td>foreign-policy</td>\n",
              "      <td>barack-obama</td>\n",
              "      <td>President</td>\n",
              "      <td>Illinois</td>\n",
              "      <td>democrat</td>\n",
              "      <td>70.0</td>\n",
              "      <td>71.0</td>\n",
              "      <td>160.0</td>\n",
              "      <td>163.0</td>\n",
              "      <td>9.0</td>\n",
              "      <td>Denver</td>\n",
              "    </tr>\n",
              "    <tr>\n",
              "      <th>3</th>\n",
              "      <td>1123.json</td>\n",
              "      <td>0</td>\n",
              "      <td>Health care reform legislation is likely to ma...</td>\n",
              "      <td>health-care</td>\n",
              "      <td>blog-posting</td>\n",
              "      <td></td>\n",
              "      <td></td>\n",
              "      <td>none</td>\n",
              "      <td>7.0</td>\n",
              "      <td>19.0</td>\n",
              "      <td>3.0</td>\n",
              "      <td>5.0</td>\n",
              "      <td>44.0</td>\n",
              "      <td>a news release</td>\n",
              "    </tr>\n",
              "    <tr>\n",
              "      <th>4</th>\n",
              "      <td>9028.json</td>\n",
              "      <td>1</td>\n",
              "      <td>The economic turnaround started at the end of ...</td>\n",
              "      <td>economy,jobs</td>\n",
              "      <td>charlie-crist</td>\n",
              "      <td></td>\n",
              "      <td>Florida</td>\n",
              "      <td>democrat</td>\n",
              "      <td>15.0</td>\n",
              "      <td>9.0</td>\n",
              "      <td>20.0</td>\n",
              "      <td>19.0</td>\n",
              "      <td>2.0</td>\n",
              "      <td>an interview on CNN</td>\n",
              "    </tr>\n",
              "    <tr>\n",
              "      <th>5</th>\n",
              "      <td>12465.json</td>\n",
              "      <td>3</td>\n",
              "      <td>The Chicago Bears have had more starting quart...</td>\n",
              "      <td>education</td>\n",
              "      <td>robin-vos</td>\n",
              "      <td>Wisconsin Assembly speaker</td>\n",
              "      <td>Wisconsin</td>\n",
              "      <td>republican</td>\n",
              "      <td>0.0</td>\n",
              "      <td>3.0</td>\n",
              "      <td>2.0</td>\n",
              "      <td>5.0</td>\n",
              "      <td>1.0</td>\n",
              "      <td>a an online opinion-piece</td>\n",
              "    </tr>\n",
              "    <tr>\n",
              "      <th>6</th>\n",
              "      <td>2342.json</td>\n",
              "      <td>4</td>\n",
              "      <td>Jim Dunnam has not lived in the district he re...</td>\n",
              "      <td>candidates-biography</td>\n",
              "      <td>republican-party-texas</td>\n",
              "      <td></td>\n",
              "      <td>Texas</td>\n",
              "      <td>republican</td>\n",
              "      <td>3.0</td>\n",
              "      <td>1.0</td>\n",
              "      <td>1.0</td>\n",
              "      <td>3.0</td>\n",
              "      <td>1.0</td>\n",
              "      <td>a press release.</td>\n",
              "    </tr>\n",
              "    <tr>\n",
              "      <th>7</th>\n",
              "      <td>153.json</td>\n",
              "      <td>1</td>\n",
              "      <td>\"I'm the only person on this stage who has wor...</td>\n",
              "      <td>ethics</td>\n",
              "      <td>barack-obama</td>\n",
              "      <td>President</td>\n",
              "      <td>Illinois</td>\n",
              "      <td>democrat</td>\n",
              "      <td>70.0</td>\n",
              "      <td>71.0</td>\n",
              "      <td>160.0</td>\n",
              "      <td>163.0</td>\n",
              "      <td>9.0</td>\n",
              "      <td>a Democratic debate in Philadelphia, Pa.</td>\n",
              "    </tr>\n",
              "    <tr>\n",
              "      <th>8</th>\n",
              "      <td>5602.json</td>\n",
              "      <td>1</td>\n",
              "      <td>However, it took $19.5 million in Oregon Lotte...</td>\n",
              "      <td>jobs</td>\n",
              "      <td>oregon-lottery</td>\n",
              "      <td></td>\n",
              "      <td></td>\n",
              "      <td>organization</td>\n",
              "      <td>0.0</td>\n",
              "      <td>0.0</td>\n",
              "      <td>1.0</td>\n",
              "      <td>0.0</td>\n",
              "      <td>1.0</td>\n",
              "      <td>a website</td>\n",
              "    </tr>\n",
              "    <tr>\n",
              "      <th>9</th>\n",
              "      <td>9741.json</td>\n",
              "      <td>2</td>\n",
              "      <td>Says GOP primary opponents Glenn Grothman and ...</td>\n",
              "      <td>energy,message-machine-2014,voting-record</td>\n",
              "      <td>duey-stroebel</td>\n",
              "      <td>State representative</td>\n",
              "      <td>Wisconsin</td>\n",
              "      <td>republican</td>\n",
              "      <td>0.0</td>\n",
              "      <td>0.0</td>\n",
              "      <td>0.0</td>\n",
              "      <td>1.0</td>\n",
              "      <td>0.0</td>\n",
              "      <td>an online video</td>\n",
              "    </tr>\n",
              "  </tbody>\n",
              "</table>\n",
              "</div>\n",
              "    <div class=\"colab-df-buttons\">\n",
              "\n",
              "  <div class=\"colab-df-container\">\n",
              "    <button class=\"colab-df-convert\" onclick=\"convertToInteractive('df-9ce0d44a-b243-438e-83e6-191b2748dfa5')\"\n",
              "            title=\"Convert this dataframe to an interactive table.\"\n",
              "            style=\"display:none;\">\n",
              "\n",
              "  <svg xmlns=\"http://www.w3.org/2000/svg\" height=\"24px\" viewBox=\"0 -960 960 960\">\n",
              "    <path d=\"M120-120v-720h720v720H120Zm60-500h600v-160H180v160Zm220 220h160v-160H400v160Zm0 220h160v-160H400v160ZM180-400h160v-160H180v160Zm440 0h160v-160H620v160ZM180-180h160v-160H180v160Zm440 0h160v-160H620v160Z\"/>\n",
              "  </svg>\n",
              "    </button>\n",
              "\n",
              "  <style>\n",
              "    .colab-df-container {\n",
              "      display:flex;\n",
              "      gap: 12px;\n",
              "    }\n",
              "\n",
              "    .colab-df-convert {\n",
              "      background-color: #E8F0FE;\n",
              "      border: none;\n",
              "      border-radius: 50%;\n",
              "      cursor: pointer;\n",
              "      display: none;\n",
              "      fill: #1967D2;\n",
              "      height: 32px;\n",
              "      padding: 0 0 0 0;\n",
              "      width: 32px;\n",
              "    }\n",
              "\n",
              "    .colab-df-convert:hover {\n",
              "      background-color: #E2EBFA;\n",
              "      box-shadow: 0px 1px 2px rgba(60, 64, 67, 0.3), 0px 1px 3px 1px rgba(60, 64, 67, 0.15);\n",
              "      fill: #174EA6;\n",
              "    }\n",
              "\n",
              "    .colab-df-buttons div {\n",
              "      margin-bottom: 4px;\n",
              "    }\n",
              "\n",
              "    [theme=dark] .colab-df-convert {\n",
              "      background-color: #3B4455;\n",
              "      fill: #D2E3FC;\n",
              "    }\n",
              "\n",
              "    [theme=dark] .colab-df-convert:hover {\n",
              "      background-color: #434B5C;\n",
              "      box-shadow: 0px 1px 3px 1px rgba(0, 0, 0, 0.15);\n",
              "      filter: drop-shadow(0px 1px 2px rgba(0, 0, 0, 0.3));\n",
              "      fill: #FFFFFF;\n",
              "    }\n",
              "  </style>\n",
              "\n",
              "    <script>\n",
              "      const buttonEl =\n",
              "        document.querySelector('#df-9ce0d44a-b243-438e-83e6-191b2748dfa5 button.colab-df-convert');\n",
              "      buttonEl.style.display =\n",
              "        google.colab.kernel.accessAllowed ? 'block' : 'none';\n",
              "\n",
              "      async function convertToInteractive(key) {\n",
              "        const element = document.querySelector('#df-9ce0d44a-b243-438e-83e6-191b2748dfa5');\n",
              "        const dataTable =\n",
              "          await google.colab.kernel.invokeFunction('convertToInteractive',\n",
              "                                                    [key], {});\n",
              "        if (!dataTable) return;\n",
              "\n",
              "        const docLinkHtml = 'Like what you see? Visit the ' +\n",
              "          '<a target=\"_blank\" href=https://colab.research.google.com/notebooks/data_table.ipynb>data table notebook</a>'\n",
              "          + ' to learn more about interactive tables.';\n",
              "        element.innerHTML = '';\n",
              "        dataTable['output_type'] = 'display_data';\n",
              "        await google.colab.output.renderOutput(dataTable, element);\n",
              "        const docLink = document.createElement('div');\n",
              "        docLink.innerHTML = docLinkHtml;\n",
              "        element.appendChild(docLink);\n",
              "      }\n",
              "    </script>\n",
              "  </div>\n",
              "\n",
              "\n",
              "<div id=\"df-ab1cfe32-4d87-44ea-9371-6b30e4d626f4\">\n",
              "  <button class=\"colab-df-quickchart\" onclick=\"quickchart('df-ab1cfe32-4d87-44ea-9371-6b30e4d626f4')\"\n",
              "            title=\"Suggest charts\"\n",
              "            style=\"display:none;\">\n",
              "\n",
              "<svg xmlns=\"http://www.w3.org/2000/svg\" height=\"24px\"viewBox=\"0 0 24 24\"\n",
              "     width=\"24px\">\n",
              "    <g>\n",
              "        <path d=\"M19 3H5c-1.1 0-2 .9-2 2v14c0 1.1.9 2 2 2h14c1.1 0 2-.9 2-2V5c0-1.1-.9-2-2-2zM9 17H7v-7h2v7zm4 0h-2V7h2v10zm4 0h-2v-4h2v4z\"/>\n",
              "    </g>\n",
              "</svg>\n",
              "  </button>\n",
              "\n",
              "<style>\n",
              "  .colab-df-quickchart {\n",
              "      --bg-color: #E8F0FE;\n",
              "      --fill-color: #1967D2;\n",
              "      --hover-bg-color: #E2EBFA;\n",
              "      --hover-fill-color: #174EA6;\n",
              "      --disabled-fill-color: #AAA;\n",
              "      --disabled-bg-color: #DDD;\n",
              "  }\n",
              "\n",
              "  [theme=dark] .colab-df-quickchart {\n",
              "      --bg-color: #3B4455;\n",
              "      --fill-color: #D2E3FC;\n",
              "      --hover-bg-color: #434B5C;\n",
              "      --hover-fill-color: #FFFFFF;\n",
              "      --disabled-bg-color: #3B4455;\n",
              "      --disabled-fill-color: #666;\n",
              "  }\n",
              "\n",
              "  .colab-df-quickchart {\n",
              "    background-color: var(--bg-color);\n",
              "    border: none;\n",
              "    border-radius: 50%;\n",
              "    cursor: pointer;\n",
              "    display: none;\n",
              "    fill: var(--fill-color);\n",
              "    height: 32px;\n",
              "    padding: 0;\n",
              "    width: 32px;\n",
              "  }\n",
              "\n",
              "  .colab-df-quickchart:hover {\n",
              "    background-color: var(--hover-bg-color);\n",
              "    box-shadow: 0 1px 2px rgba(60, 64, 67, 0.3), 0 1px 3px 1px rgba(60, 64, 67, 0.15);\n",
              "    fill: var(--button-hover-fill-color);\n",
              "  }\n",
              "\n",
              "  .colab-df-quickchart-complete:disabled,\n",
              "  .colab-df-quickchart-complete:disabled:hover {\n",
              "    background-color: var(--disabled-bg-color);\n",
              "    fill: var(--disabled-fill-color);\n",
              "    box-shadow: none;\n",
              "  }\n",
              "\n",
              "  .colab-df-spinner {\n",
              "    border: 2px solid var(--fill-color);\n",
              "    border-color: transparent;\n",
              "    border-bottom-color: var(--fill-color);\n",
              "    animation:\n",
              "      spin 1s steps(1) infinite;\n",
              "  }\n",
              "\n",
              "  @keyframes spin {\n",
              "    0% {\n",
              "      border-color: transparent;\n",
              "      border-bottom-color: var(--fill-color);\n",
              "      border-left-color: var(--fill-color);\n",
              "    }\n",
              "    20% {\n",
              "      border-color: transparent;\n",
              "      border-left-color: var(--fill-color);\n",
              "      border-top-color: var(--fill-color);\n",
              "    }\n",
              "    30% {\n",
              "      border-color: transparent;\n",
              "      border-left-color: var(--fill-color);\n",
              "      border-top-color: var(--fill-color);\n",
              "      border-right-color: var(--fill-color);\n",
              "    }\n",
              "    40% {\n",
              "      border-color: transparent;\n",
              "      border-right-color: var(--fill-color);\n",
              "      border-top-color: var(--fill-color);\n",
              "    }\n",
              "    60% {\n",
              "      border-color: transparent;\n",
              "      border-right-color: var(--fill-color);\n",
              "    }\n",
              "    80% {\n",
              "      border-color: transparent;\n",
              "      border-right-color: var(--fill-color);\n",
              "      border-bottom-color: var(--fill-color);\n",
              "    }\n",
              "    90% {\n",
              "      border-color: transparent;\n",
              "      border-bottom-color: var(--fill-color);\n",
              "    }\n",
              "  }\n",
              "</style>\n",
              "\n",
              "  <script>\n",
              "    async function quickchart(key) {\n",
              "      const quickchartButtonEl =\n",
              "        document.querySelector('#' + key + ' button');\n",
              "      quickchartButtonEl.disabled = true;  // To prevent multiple clicks.\n",
              "      quickchartButtonEl.classList.add('colab-df-spinner');\n",
              "      try {\n",
              "        const charts = await google.colab.kernel.invokeFunction(\n",
              "            'suggestCharts', [key], {});\n",
              "      } catch (error) {\n",
              "        console.error('Error during call to suggestCharts:', error);\n",
              "      }\n",
              "      quickchartButtonEl.classList.remove('colab-df-spinner');\n",
              "      quickchartButtonEl.classList.add('colab-df-quickchart-complete');\n",
              "    }\n",
              "    (() => {\n",
              "      let quickchartButtonEl =\n",
              "        document.querySelector('#df-ab1cfe32-4d87-44ea-9371-6b30e4d626f4 button');\n",
              "      quickchartButtonEl.style.display =\n",
              "        google.colab.kernel.accessAllowed ? 'block' : 'none';\n",
              "    })();\n",
              "  </script>\n",
              "</div>\n",
              "    </div>\n",
              "  </div>\n"
            ]
          },
          "metadata": {},
          "execution_count": 5
        }
      ]
    },
    {
      "cell_type": "code",
      "source": [
        "# filling missing values with 'None', creating a new 'total_news' column by conacating all the relevant column, and dropping irrelevant columns\n",
        "\n",
        "def preprocessing(data):\n",
        "    data['subject'] = data['subject'].fillna('None')\n",
        "    data['speaker'] = data['speaker'].fillna('None')\n",
        "    data['job_title'] = data['job_title'].fillna('None')\n",
        "    data['state_info'] = data['state_info'].fillna('None')\n",
        "    data['party_affiliation'] = data['party_affiliation'].fillna('None')\n",
        "    data['context'] = data['context'].fillna('None')\n",
        "\n",
        "    data['meta'] = data[['subject', 'speaker', 'job_title', 'state_info', 'party_affiliation', 'context']].astype(str).agg(' '.join, axis=1)\n",
        "    data['total_news'] = data['meta'] + ' ' + data['statement'].astype(str)\n",
        "\n",
        "    data = data.drop(['id', 'statement', 'subject', 'speaker', 'job_title', 'state_info', 'party_affiliation', 'barely_true_counts', 'false_counts', 'half_true_counts', 'mostly_true_counts', 'pants_on_fire_counts', 'context', 'meta'], axis=1)  # dropping metadata columns, as we have merged them into a single column\n",
        "    data = data.dropna()\n",
        "\n",
        "    return data"
      ],
      "metadata": {
        "id": "CY9v71T3pqL4"
      },
      "execution_count": 6,
      "outputs": []
    },
    {
      "cell_type": "code",
      "source": [
        "# apply preprocessing to train, val, test dataframes\n",
        "\n",
        "train_df = preprocessing(train_df)\n",
        "val_df = preprocessing(val_df)\n",
        "test_df = preprocessing(test_df)"
      ],
      "metadata": {
        "id": "XoqvIvoaq5JJ"
      },
      "execution_count": 7,
      "outputs": []
    },
    {
      "cell_type": "code",
      "source": [
        "train_df.head(10)"
      ],
      "metadata": {
        "colab": {
          "base_uri": "https://localhost:8080/",
          "height": 363
        },
        "id": "BckZe3Hvq5_i",
        "outputId": "ff1d6d12-74d5-4ed8-9b0f-9ca7a38999d0"
      },
      "execution_count": 8,
      "outputs": [
        {
          "output_type": "execute_result",
          "data": {
            "text/plain": [
              "   label                                         total_news\n",
              "0      0  abortion dwayne-bohac State representative Tex...\n",
              "1      1  energy,history,job-accomplishments scott-surov...\n",
              "2      2  foreign-policy barack-obama President Illinois...\n",
              "3      0  health-care blog-posting   none a news release...\n",
              "4      1  economy,jobs charlie-crist  Florida democrat a...\n",
              "5      3  education robin-vos Wisconsin Assembly speaker...\n",
              "6      4  candidates-biography republican-party-texas  T...\n",
              "7      1  ethics barack-obama President Illinois democra...\n",
              "8      1  jobs oregon-lottery   organization a website  ...\n",
              "9      2  energy,message-machine-2014,voting-record duey..."
            ],
            "text/html": [
              "\n",
              "  <div id=\"df-6a4df841-a8ec-4318-8b76-34ba2c94e27e\" class=\"colab-df-container\">\n",
              "    <div>\n",
              "<style scoped>\n",
              "    .dataframe tbody tr th:only-of-type {\n",
              "        vertical-align: middle;\n",
              "    }\n",
              "\n",
              "    .dataframe tbody tr th {\n",
              "        vertical-align: top;\n",
              "    }\n",
              "\n",
              "    .dataframe thead th {\n",
              "        text-align: right;\n",
              "    }\n",
              "</style>\n",
              "<table border=\"1\" class=\"dataframe\">\n",
              "  <thead>\n",
              "    <tr style=\"text-align: right;\">\n",
              "      <th></th>\n",
              "      <th>label</th>\n",
              "      <th>total_news</th>\n",
              "    </tr>\n",
              "  </thead>\n",
              "  <tbody>\n",
              "    <tr>\n",
              "      <th>0</th>\n",
              "      <td>0</td>\n",
              "      <td>abortion dwayne-bohac State representative Tex...</td>\n",
              "    </tr>\n",
              "    <tr>\n",
              "      <th>1</th>\n",
              "      <td>1</td>\n",
              "      <td>energy,history,job-accomplishments scott-surov...</td>\n",
              "    </tr>\n",
              "    <tr>\n",
              "      <th>2</th>\n",
              "      <td>2</td>\n",
              "      <td>foreign-policy barack-obama President Illinois...</td>\n",
              "    </tr>\n",
              "    <tr>\n",
              "      <th>3</th>\n",
              "      <td>0</td>\n",
              "      <td>health-care blog-posting   none a news release...</td>\n",
              "    </tr>\n",
              "    <tr>\n",
              "      <th>4</th>\n",
              "      <td>1</td>\n",
              "      <td>economy,jobs charlie-crist  Florida democrat a...</td>\n",
              "    </tr>\n",
              "    <tr>\n",
              "      <th>5</th>\n",
              "      <td>3</td>\n",
              "      <td>education robin-vos Wisconsin Assembly speaker...</td>\n",
              "    </tr>\n",
              "    <tr>\n",
              "      <th>6</th>\n",
              "      <td>4</td>\n",
              "      <td>candidates-biography republican-party-texas  T...</td>\n",
              "    </tr>\n",
              "    <tr>\n",
              "      <th>7</th>\n",
              "      <td>1</td>\n",
              "      <td>ethics barack-obama President Illinois democra...</td>\n",
              "    </tr>\n",
              "    <tr>\n",
              "      <th>8</th>\n",
              "      <td>1</td>\n",
              "      <td>jobs oregon-lottery   organization a website  ...</td>\n",
              "    </tr>\n",
              "    <tr>\n",
              "      <th>9</th>\n",
              "      <td>2</td>\n",
              "      <td>energy,message-machine-2014,voting-record duey...</td>\n",
              "    </tr>\n",
              "  </tbody>\n",
              "</table>\n",
              "</div>\n",
              "    <div class=\"colab-df-buttons\">\n",
              "\n",
              "  <div class=\"colab-df-container\">\n",
              "    <button class=\"colab-df-convert\" onclick=\"convertToInteractive('df-6a4df841-a8ec-4318-8b76-34ba2c94e27e')\"\n",
              "            title=\"Convert this dataframe to an interactive table.\"\n",
              "            style=\"display:none;\">\n",
              "\n",
              "  <svg xmlns=\"http://www.w3.org/2000/svg\" height=\"24px\" viewBox=\"0 -960 960 960\">\n",
              "    <path d=\"M120-120v-720h720v720H120Zm60-500h600v-160H180v160Zm220 220h160v-160H400v160Zm0 220h160v-160H400v160ZM180-400h160v-160H180v160Zm440 0h160v-160H620v160ZM180-180h160v-160H180v160Zm440 0h160v-160H620v160Z\"/>\n",
              "  </svg>\n",
              "    </button>\n",
              "\n",
              "  <style>\n",
              "    .colab-df-container {\n",
              "      display:flex;\n",
              "      gap: 12px;\n",
              "    }\n",
              "\n",
              "    .colab-df-convert {\n",
              "      background-color: #E8F0FE;\n",
              "      border: none;\n",
              "      border-radius: 50%;\n",
              "      cursor: pointer;\n",
              "      display: none;\n",
              "      fill: #1967D2;\n",
              "      height: 32px;\n",
              "      padding: 0 0 0 0;\n",
              "      width: 32px;\n",
              "    }\n",
              "\n",
              "    .colab-df-convert:hover {\n",
              "      background-color: #E2EBFA;\n",
              "      box-shadow: 0px 1px 2px rgba(60, 64, 67, 0.3), 0px 1px 3px 1px rgba(60, 64, 67, 0.15);\n",
              "      fill: #174EA6;\n",
              "    }\n",
              "\n",
              "    .colab-df-buttons div {\n",
              "      margin-bottom: 4px;\n",
              "    }\n",
              "\n",
              "    [theme=dark] .colab-df-convert {\n",
              "      background-color: #3B4455;\n",
              "      fill: #D2E3FC;\n",
              "    }\n",
              "\n",
              "    [theme=dark] .colab-df-convert:hover {\n",
              "      background-color: #434B5C;\n",
              "      box-shadow: 0px 1px 3px 1px rgba(0, 0, 0, 0.15);\n",
              "      filter: drop-shadow(0px 1px 2px rgba(0, 0, 0, 0.3));\n",
              "      fill: #FFFFFF;\n",
              "    }\n",
              "  </style>\n",
              "\n",
              "    <script>\n",
              "      const buttonEl =\n",
              "        document.querySelector('#df-6a4df841-a8ec-4318-8b76-34ba2c94e27e button.colab-df-convert');\n",
              "      buttonEl.style.display =\n",
              "        google.colab.kernel.accessAllowed ? 'block' : 'none';\n",
              "\n",
              "      async function convertToInteractive(key) {\n",
              "        const element = document.querySelector('#df-6a4df841-a8ec-4318-8b76-34ba2c94e27e');\n",
              "        const dataTable =\n",
              "          await google.colab.kernel.invokeFunction('convertToInteractive',\n",
              "                                                    [key], {});\n",
              "        if (!dataTable) return;\n",
              "\n",
              "        const docLinkHtml = 'Like what you see? Visit the ' +\n",
              "          '<a target=\"_blank\" href=https://colab.research.google.com/notebooks/data_table.ipynb>data table notebook</a>'\n",
              "          + ' to learn more about interactive tables.';\n",
              "        element.innerHTML = '';\n",
              "        dataTable['output_type'] = 'display_data';\n",
              "        await google.colab.output.renderOutput(dataTable, element);\n",
              "        const docLink = document.createElement('div');\n",
              "        docLink.innerHTML = docLinkHtml;\n",
              "        element.appendChild(docLink);\n",
              "      }\n",
              "    </script>\n",
              "  </div>\n",
              "\n",
              "\n",
              "<div id=\"df-7ee24afd-bd19-47fe-a1ed-d71ba07aad00\">\n",
              "  <button class=\"colab-df-quickchart\" onclick=\"quickchart('df-7ee24afd-bd19-47fe-a1ed-d71ba07aad00')\"\n",
              "            title=\"Suggest charts\"\n",
              "            style=\"display:none;\">\n",
              "\n",
              "<svg xmlns=\"http://www.w3.org/2000/svg\" height=\"24px\"viewBox=\"0 0 24 24\"\n",
              "     width=\"24px\">\n",
              "    <g>\n",
              "        <path d=\"M19 3H5c-1.1 0-2 .9-2 2v14c0 1.1.9 2 2 2h14c1.1 0 2-.9 2-2V5c0-1.1-.9-2-2-2zM9 17H7v-7h2v7zm4 0h-2V7h2v10zm4 0h-2v-4h2v4z\"/>\n",
              "    </g>\n",
              "</svg>\n",
              "  </button>\n",
              "\n",
              "<style>\n",
              "  .colab-df-quickchart {\n",
              "      --bg-color: #E8F0FE;\n",
              "      --fill-color: #1967D2;\n",
              "      --hover-bg-color: #E2EBFA;\n",
              "      --hover-fill-color: #174EA6;\n",
              "      --disabled-fill-color: #AAA;\n",
              "      --disabled-bg-color: #DDD;\n",
              "  }\n",
              "\n",
              "  [theme=dark] .colab-df-quickchart {\n",
              "      --bg-color: #3B4455;\n",
              "      --fill-color: #D2E3FC;\n",
              "      --hover-bg-color: #434B5C;\n",
              "      --hover-fill-color: #FFFFFF;\n",
              "      --disabled-bg-color: #3B4455;\n",
              "      --disabled-fill-color: #666;\n",
              "  }\n",
              "\n",
              "  .colab-df-quickchart {\n",
              "    background-color: var(--bg-color);\n",
              "    border: none;\n",
              "    border-radius: 50%;\n",
              "    cursor: pointer;\n",
              "    display: none;\n",
              "    fill: var(--fill-color);\n",
              "    height: 32px;\n",
              "    padding: 0;\n",
              "    width: 32px;\n",
              "  }\n",
              "\n",
              "  .colab-df-quickchart:hover {\n",
              "    background-color: var(--hover-bg-color);\n",
              "    box-shadow: 0 1px 2px rgba(60, 64, 67, 0.3), 0 1px 3px 1px rgba(60, 64, 67, 0.15);\n",
              "    fill: var(--button-hover-fill-color);\n",
              "  }\n",
              "\n",
              "  .colab-df-quickchart-complete:disabled,\n",
              "  .colab-df-quickchart-complete:disabled:hover {\n",
              "    background-color: var(--disabled-bg-color);\n",
              "    fill: var(--disabled-fill-color);\n",
              "    box-shadow: none;\n",
              "  }\n",
              "\n",
              "  .colab-df-spinner {\n",
              "    border: 2px solid var(--fill-color);\n",
              "    border-color: transparent;\n",
              "    border-bottom-color: var(--fill-color);\n",
              "    animation:\n",
              "      spin 1s steps(1) infinite;\n",
              "  }\n",
              "\n",
              "  @keyframes spin {\n",
              "    0% {\n",
              "      border-color: transparent;\n",
              "      border-bottom-color: var(--fill-color);\n",
              "      border-left-color: var(--fill-color);\n",
              "    }\n",
              "    20% {\n",
              "      border-color: transparent;\n",
              "      border-left-color: var(--fill-color);\n",
              "      border-top-color: var(--fill-color);\n",
              "    }\n",
              "    30% {\n",
              "      border-color: transparent;\n",
              "      border-left-color: var(--fill-color);\n",
              "      border-top-color: var(--fill-color);\n",
              "      border-right-color: var(--fill-color);\n",
              "    }\n",
              "    40% {\n",
              "      border-color: transparent;\n",
              "      border-right-color: var(--fill-color);\n",
              "      border-top-color: var(--fill-color);\n",
              "    }\n",
              "    60% {\n",
              "      border-color: transparent;\n",
              "      border-right-color: var(--fill-color);\n",
              "    }\n",
              "    80% {\n",
              "      border-color: transparent;\n",
              "      border-right-color: var(--fill-color);\n",
              "      border-bottom-color: var(--fill-color);\n",
              "    }\n",
              "    90% {\n",
              "      border-color: transparent;\n",
              "      border-bottom-color: var(--fill-color);\n",
              "    }\n",
              "  }\n",
              "</style>\n",
              "\n",
              "  <script>\n",
              "    async function quickchart(key) {\n",
              "      const quickchartButtonEl =\n",
              "        document.querySelector('#' + key + ' button');\n",
              "      quickchartButtonEl.disabled = true;  // To prevent multiple clicks.\n",
              "      quickchartButtonEl.classList.add('colab-df-spinner');\n",
              "      try {\n",
              "        const charts = await google.colab.kernel.invokeFunction(\n",
              "            'suggestCharts', [key], {});\n",
              "      } catch (error) {\n",
              "        console.error('Error during call to suggestCharts:', error);\n",
              "      }\n",
              "      quickchartButtonEl.classList.remove('colab-df-spinner');\n",
              "      quickchartButtonEl.classList.add('colab-df-quickchart-complete');\n",
              "    }\n",
              "    (() => {\n",
              "      let quickchartButtonEl =\n",
              "        document.querySelector('#df-7ee24afd-bd19-47fe-a1ed-d71ba07aad00 button');\n",
              "      quickchartButtonEl.style.display =\n",
              "        google.colab.kernel.accessAllowed ? 'block' : 'none';\n",
              "    })();\n",
              "  </script>\n",
              "</div>\n",
              "    </div>\n",
              "  </div>\n"
            ]
          },
          "metadata": {},
          "execution_count": 8
        }
      ]
    },
    {
      "cell_type": "code",
      "source": [
        "nltk.download(\"stopwords\")\n",
        "nltk.download('wordnet')"
      ],
      "metadata": {
        "colab": {
          "base_uri": "https://localhost:8080/"
        },
        "id": "ACXKkD9N2qDP",
        "outputId": "fb6e54bd-edca-4323-9d20-4b4803d68562"
      },
      "execution_count": 9,
      "outputs": [
        {
          "output_type": "stream",
          "name": "stderr",
          "text": [
            "[nltk_data] Downloading package stopwords to /root/nltk_data...\n",
            "[nltk_data]   Unzipping corpora/stopwords.zip.\n",
            "[nltk_data] Downloading package wordnet to /root/nltk_data...\n"
          ]
        },
        {
          "output_type": "execute_result",
          "data": {
            "text/plain": [
              "True"
            ]
          },
          "metadata": {},
          "execution_count": 9
        }
      ]
    },
    {
      "cell_type": "code",
      "source": [
        "stop_words = set(stopwords.words(\"english\"))\n",
        "print(stop_words)"
      ],
      "metadata": {
        "colab": {
          "base_uri": "https://localhost:8080/"
        },
        "id": "BeNjJOU1NRUQ",
        "outputId": "be3da555-4d24-4f7b-ceb1-7d8009027f20"
      },
      "execution_count": 10,
      "outputs": [
        {
          "output_type": "stream",
          "name": "stdout",
          "text": [
            "{'while', \"hasn't\", 'our', 'we', 's', \"it's\", 'these', 'were', \"aren't\", 'same', 'up', 'so', 'as', 'or', 'yourselves', 'own', 'herself', 'was', \"haven't\", 'their', \"won't\", 'her', 'at', 'll', 'do', 'hadn', 'does', \"couldn't\", 'than', \"didn't\", 'out', 'into', 'myself', \"doesn't\", 'she', 'which', 'further', 'until', 'below', 'other', \"you're\", 't', 'wasn', 'down', 'doing', \"you'll\", 'such', 'they', 'before', 'shouldn', 'its', 'wouldn', \"that'll\", 'ourselves', \"don't\", 'that', 'this', 'nor', 'been', 'did', 'his', 'through', 'haven', 'themselves', 'yourself', 'ain', 'hasn', 'most', 'itself', 'about', \"you've\", 'again', 'for', \"hadn't\", \"you'd\", 'yours', 'when', 'don', 'how', 'me', 'any', 'you', 'no', 'very', 'once', 'won', 'where', \"wouldn't\", 'there', 'between', 'both', 'with', 'an', 'him', 'needn', \"weren't\", 'mightn', 'o', 'a', 'i', 've', 'under', 'mustn', 'be', \"shan't\", 'those', 'after', \"should've\", 'are', 'against', 'whom', 'then', 'more', 'only', \"isn't\", 'your', 'and', 'd', \"she's\", 'can', \"needn't\", \"wasn't\", 'should', 'will', 'by', 'of', 'some', 'ours', 'just', 'couldn', 'why', 'but', 'them', 'here', 'himself', 'what', 'because', 'm', 'being', 'if', 'hers', 'didn', 'is', 'weren', 'isn', \"shouldn't\", 'y', 'aren', 'each', \"mustn't\", 'had', 'too', 'not', 'few', 'am', 'it', 'he', 'to', 'above', 'during', 're', 'over', 'on', 'has', 'theirs', \"mightn't\", 'the', 'my', 'who', 'off', 'have', 'from', 'shan', 'now', 'ma', 'in', 'having', 'doesn', 'all'}\n"
          ]
        }
      ]
    },
    {
      "cell_type": "code",
      "source": [
        "# import nlpaug.augmenter.word as naw\n",
        "# import nlpaug.augmenter.char as nac\n",
        "# import nlpaug.augmenter.sentence as nas\n",
        "\n",
        "\n",
        "# aug_synonym = naw.SynonymAug()\n",
        "# aug_antonym = naw.AntonymAug()\n",
        "# aug_random = naw.RandomWordAug()\n",
        "\n",
        "# aug_insert = nac.InsertAug()\n",
        "# aug_substitute = nac.SubstituteAug()\n",
        "\n",
        "# aug_context = nas.ContextualWordEmbsForSentenceAug(model_path='bert-base-uncased', action='insert')\n",
        "\n",
        "\n",
        "# def augment(text):\n",
        "#     augmented_text = aug_synonym.augment(text)\n",
        "#     augmented_text = aug_antonym.augment(augmented_text)\n",
        "#     augmented_text = aug_random.augment(augmented_text)\n",
        "#     augmented_text = aug_insert.augment(augmented_text)\n",
        "#     augmented_text = aug_substitute.augment(augmented_text)\n",
        "#     augmented_text = aug_context.augment(augmented_text)\n",
        "\n",
        "#     return augmented_text\n"
      ],
      "metadata": {
        "id": "t_Oe_N2EkM1G"
      },
      "execution_count": 11,
      "outputs": []
    },
    {
      "cell_type": "code",
      "source": [
        "# expands contractions, converts text to lowercase, removes URLs and parentheses, eliminates double quotes, lemmatizes words, and removes stopwords on a dataframe\n",
        "\n",
        "lemmatizer = WordNetLemmatizer()\n",
        "stop_words = set(stopwords.words('english'))\n",
        "\n",
        "# expanding contractions\n",
        "def expand(text):\n",
        "    for c, e in contractions_dict.items():\n",
        "        text = text.replace(c, e)\n",
        "    return text\n",
        "\n",
        "def clean_text(text):\n",
        "    text = expand(text)\n",
        "    # print(text)\n",
        "    text = text.lower()\n",
        "    # print(text)\n",
        "    text = re.sub(r'http\\S+|www\\S+|https\\S+', '', text)\n",
        "    # print(text)\n",
        "    text = re.sub(r'\\([^)]*\\)', '', text)\n",
        "    # print(text)\n",
        "    text = re.sub('\"', '', text)\n",
        "    # print(text)\n",
        "    words = [lemmatizer.lemmatize(w) for w in re.findall(r'\\b\\w+\\b', text) if w not in stop_words]\n",
        "\n",
        "    return \" \".join(words).strip()\n"
      ],
      "metadata": {
        "id": "u0IyQNjA-2Xt"
      },
      "execution_count": 12,
      "outputs": []
    },
    {
      "cell_type": "code",
      "source": [
        "df = [train_df, test_df, val_df]\n",
        "\n",
        "for data in df:\n",
        "    data['total_news'] = data['total_news'].apply(clean_text)"
      ],
      "metadata": {
        "id": "eHrWHvDZofgO"
      },
      "execution_count": 13,
      "outputs": []
    },
    {
      "cell_type": "code",
      "source": [
        "# def augment_and_clean(text, label):\n",
        "#     augmented_text = augment(text)\n",
        "#     cleaned_text = clean_text(augmented_text)\n",
        "#     return cleaned_text, label"
      ],
      "metadata": {
        "id": "q9SWp1G3llcK"
      },
      "execution_count": 14,
      "outputs": []
    },
    {
      "cell_type": "code",
      "source": [
        "# train_df['total_news'] = train_df['total_news'].apply(clean_text)\n",
        "# val_df['total_news'] = val_df['total_news'].apply(clean_text)\n",
        "# test_df['total_news'] = test_df['total_news'].apply(clean_text)\n",
        "\n",
        "\n",
        "# train_df['augmented_total_news'], train_df['augmented_label'] = zip(*train_df.apply(lambda row: augment_and_clean(row['total_news'], row['label']), axis=1))\n",
        "# combined_train_df = pd.concat([train_df, train_df[['augmented_total_news', 'augmented_label']]], ignore_index=True)"
      ],
      "metadata": {
        "id": "uBpzMCuyCzP5"
      },
      "execution_count": 15,
      "outputs": []
    },
    {
      "cell_type": "markdown",
      "source": [
        "\n",
        "\n",
        "*   true(0) : The statement is accurate and there’s nothing significant missing.\n",
        "*   mostly-true(1) : The statement is accurate but needs clarification or additional information.\n",
        "*   half-true(2) : The statement is partially accurate but leaves out important details or takes things out of context.\n",
        "*   barely-true(3) : The statement contains an element of truth but ignores critical facts that would give a different impression.\n",
        "*   false(4) : The statement is not accurate.\n",
        "*   pants-fire(5) : The statement is not accurate and makes a ridiculous claim. a.k.a. \"Liar, Liar, Pants on Fire!\""
      ],
      "metadata": {
        "id": "KqPkqbQTK8ih"
      }
    },
    {
      "cell_type": "code",
      "source": [
        "# Adjusts labels for binary classification if num_labels is 2; otherwise, labels will be unchanged for 6-class classification.\n",
        "\n",
        "num_labels = 6\n",
        "\n",
        "if num_labels == 2:\n",
        "    train_df['label'] = train_df['label'].apply(lambda x: 0 if x in [0, 1] else 1)\n",
        "    val_df['label'] = val_df['label'].apply(lambda x: 0 if x in [0, 1] else 1)\n",
        "    test_df['label'] = test_df['label'].apply(lambda x: 0 if x in [0, 1] else 1)\n",
        "elif num_labels == 6:\n",
        "    pass"
      ],
      "metadata": {
        "id": "aQAB8-bWgG8N"
      },
      "execution_count": 16,
      "outputs": []
    },
    {
      "cell_type": "code",
      "source": [
        "tokenizer = get_tokenizer(\"basic_english\")\n",
        "\n",
        "# Tokenize the 'total_news' in each dataframe\n",
        "train_tokens = [tokenizer(text) for text in train_df['total_news']]\n",
        "val_tokens = [tokenizer(text) for text in val_df['total_news']]\n",
        "test_tokens = [tokenizer(text) for text in test_df['total_news']]\n",
        "\n",
        "# combine all the tokens in the dataset\n",
        "total_tokens = train_tokens + val_tokens + test_tokens\n",
        "\n",
        "# counts the occurrences of each token in the entire dataset\n",
        "word_counter = Counter([token for tokens in total_tokens for token in tokens])\n",
        "\n",
        "# Create vocabulary from word_counter where the occurence of token is atleast '1' and adding a special token '<unk>' for unknown words.\n",
        "Vocab = vocab(word_counter, min_freq=1, specials=['<unk>'])\n"
      ],
      "metadata": {
        "id": "txQFgw0HiMWF"
      },
      "execution_count": 17,
      "outputs": []
    },
    {
      "cell_type": "code",
      "source": [
        "# map the tokenized representations of text data to numerical indices using predifined vocabulary\n",
        "\n",
        "def number_tokens(tokens):\n",
        "    return [Vocab[token] if token in Vocab else Vocab['<unk>'] for token in tokens]\n",
        "\n",
        "\n",
        "train_numbers = [number_tokens(tokens) for tokens in train_tokens]\n",
        "val_numbers = [number_tokens(tokens) for tokens in val_tokens]\n",
        "test_numbers = [number_tokens(tokens) for tokens in test_tokens]\n"
      ],
      "metadata": {
        "id": "A8AqcYCYzQJH"
      },
      "execution_count": 18,
      "outputs": []
    },
    {
      "cell_type": "code",
      "source": [
        "print('\\nOriginal News: ',train_df['total_news'][110])\n",
        "\n",
        "print('\\n After Tokenization: ',train_tokens[110])\n",
        "\n",
        "print('\\n After Numericalization: ',train_numbers[110])"
      ],
      "metadata": {
        "colab": {
          "base_uri": "https://localhost:8080/"
        },
        "id": "0hdUwoQ3DccI",
        "outputId": "804018bc-62a3-47cc-840a-9752d355d330"
      },
      "execution_count": 19,
      "outputs": [
        {
          "output_type": "stream",
          "name": "stdout",
          "text": [
            "\n",
            "Original News:  government regulation job poverty welfare scott walker milwaukee county executive wisconsin republican speech two third wisconsinite receiving unemployment check required search work due current work search exemption\n",
            "\n",
            " After Tokenization:  ['government', 'regulation', 'job', 'poverty', 'welfare', 'scott', 'walker', 'milwaukee', 'county', 'executive', 'wisconsin', 'republican', 'speech', 'two', 'third', 'wisconsinite', 'receiving', 'unemployment', 'check', 'required', 'search', 'work', 'due', 'current', 'work', 'search', 'exemption']\n",
            "\n",
            " After Numericalization:  [209, 270, 20, 186, 1111, 22, 337, 1112, 895, 1113, 85, 7, 28, 103, 15, 1114, 1115, 408, 1116, 1117, 1118, 427, 220, 1119, 427, 1118, 1120]\n"
          ]
        }
      ]
    },
    {
      "cell_type": "code",
      "source": [
        "# calculates maximum length of a sequence in the entire dat, which will be used further in models\n",
        "max_padding = max(len(sequence) for sequence in total_tokens)\n",
        "\n",
        "# Padding sequences to a fixed length so that model performs well\n",
        "train_padded = pad_sequence([torch.tensor(nums) for nums in train_numbers], batch_first=True)\n",
        "val_padded = pad_sequence([torch.tensor(nums) for nums in val_numbers], batch_first=True)\n",
        "test_padded = pad_sequence([torch.tensor(nums) for nums in test_numbers], batch_first=True)\n"
      ],
      "metadata": {
        "id": "spJ2V9FoFBKE"
      },
      "execution_count": 20,
      "outputs": []
    },
    {
      "cell_type": "code",
      "source": [
        "train_dataset = TensorDataset(train_padded, torch.tensor(train_df[\"label\"]))\n",
        "val_dataset = TensorDataset(val_padded, torch.tensor(val_df[\"label\"]))\n",
        "test_dataset = TensorDataset(test_padded, torch.tensor(test_df[\"label\"]))\n"
      ],
      "metadata": {
        "id": "pCXqGqcbJp0B"
      },
      "execution_count": 21,
      "outputs": []
    },
    {
      "cell_type": "code",
      "source": [
        "# Class distribution analysis\n",
        "plt.figure(figsize=(8, 5))\n",
        "ax = train_df['label'].value_counts().plot(kind='bar', color=['blue', 'red'])\n",
        "for p in ax.patches:\n",
        "    ax.annotate(str(p.get_height()), (p.get_x() + p.get_width() / 2., p.get_height()),\n",
        "                ha='center', va='center', xytext=(0, 10), textcoords='offset points', fontsize=10, color='black')\n",
        "plt.title('Class Distribution in Training Set')\n",
        "plt.xlabel('Label')\n",
        "plt.ylabel('Count')\n",
        "plt.show()"
      ],
      "metadata": {
        "colab": {
          "base_uri": "https://localhost:8080/",
          "height": 482
        },
        "id": "Tn6vz_V2DNms",
        "outputId": "c0079f1d-b5bc-41db-b0a1-5a3215e94c6d"
      },
      "execution_count": 24,
      "outputs": [
        {
          "output_type": "display_data",
          "data": {
            "text/plain": [
              "<Figure size 800x500 with 1 Axes>"
            ],
            "image/png": "[encoded data removed]"
          },
          "metadata": {}
        }
      ]
    },
    {
      "cell_type": "code",
      "source": [
        "# We used focal loss as there is imbalanced data in training\n",
        "class FocalLoss(_WeightedLoss):\n",
        "    def __init__(self, weight=None, gamma=2, reduction='mean'):\n",
        "        super(FocalLoss, self).__init__(weight, reduction=reduction)\n",
        "        self.gamma = gamma\n",
        "\n",
        "    def forward(self, input, target):\n",
        "        ce_loss = F.cross_entropy(input, target, reduction=self.reduction, weight=self.weight)\n",
        "        pt = torch.exp(-ce_loss)\n",
        "        focal_loss = (1 - pt) ** self.gamma * ce_loss\n",
        "        return focal_loss"
      ],
      "metadata": {
        "id": "8RG3egQZPi60"
      },
      "execution_count": 25,
      "outputs": []
    },
    {
      "cell_type": "code",
      "source": [
        "# returns an optimizer based on the specified optimizer name(Adam/SGD/RMSProp) with the given learning rate.\n",
        "def get_optimizer(optimizer_name, parameters, learning_rate):\n",
        "    if optimizer_name == 'Adam':\n",
        "        return optim.Adam(parameters, lr=learning_rate)\n",
        "    elif optimizer_name == 'SGD':\n",
        "        return optim.SGD(parameters, lr=learning_rate)\n",
        "    elif optimizer_name == 'RMSprop':\n",
        "        return optim.RMSprop(parameters, lr=learning_rate)"
      ],
      "metadata": {
        "id": "7vBpwIelVoZM"
      },
      "execution_count": 26,
      "outputs": []
    },
    {
      "cell_type": "markdown",
      "source": [
        "# BiLSTM Model"
      ],
      "metadata": {
        "id": "67X1-gBzZTvF"
      }
    },
    {
      "cell_type": "code",
      "source": [
        "class BilstmModel(nn.Module):\n",
        "    def __init__(self, vocab_size, embedding_dim, hidden_size, num_layers, dropout, bidirectional, output_dim):\n",
        "        super(BilstmModel, self).__init__()\n",
        "\n",
        "        self.embedding = nn.Embedding(vocab_size, embedding_dim)\n",
        "        self.bilstm = nn.LSTM(embedding_dim, hidden_size, num_layers=num_layers, batch_first=True, dropout=dropout, bidirectional=bidirectional)\n",
        "        self.dropout = nn.Dropout(dropout)\n",
        "        self.fc = nn.Linear(hidden_size * 2, output_dim)\n",
        "\n",
        "    def forward(self, x):\n",
        "        x = self.embedding(x)\n",
        "        x, unknown = self.bilstm(x)\n",
        "        x = torch.cat((x[:, -1, :hidden_size], x[:, 0, hidden_size:]), dim=-1)\n",
        "        x = self.dropout(x)\n",
        "        x = self.fc(x)\n",
        "        return x\n",
        "\n",
        "# Define hyperparameters for the model where some of them can be changed later\n",
        "vocab_size = len(Vocab)\n",
        "embedding_dim = 128\n",
        "hidden_size = 64\n",
        "output_dim = 6\n",
        "num_layers = 1\n",
        "bidirectional = True\n",
        "dropout = 0.5\n",
        "\n",
        "# Define Model and print the architecture of the model\n",
        "model = BilstmModel(vocab_size, embedding_dim, hidden_size, num_layers, dropout, bidirectional, output_dim)\n",
        "print(model)\n"
      ],
      "metadata": {
        "id": "prhf7XcNZRLi",
        "colab": {
          "base_uri": "https://localhost:8080/"
        },
        "outputId": "fb834287-2481-4278-e673-48ebc978e542"
      },
      "execution_count": 63,
      "outputs": [
        {
          "output_type": "stream",
          "name": "stdout",
          "text": [
            "BilstmModel(\n",
            "  (embedding): Embedding(14286, 128)\n",
            "  (bilstm): LSTM(128, 64, batch_first=True, dropout=0.5, bidirectional=True)\n",
            "  (dropout): Dropout(p=0.5, inplace=False)\n",
            "  (fc): Linear(in_features=128, out_features=6, bias=True)\n",
            ")\n"
          ]
        },
        {
          "output_type": "stream",
          "name": "stderr",
          "text": [
            "/usr/local/lib/python3.10/dist-packages/torch/nn/modules/rnn.py:82: UserWarning: dropout option adds dropout after all but last recurrent layer, so non-zero dropout expects num_layers greater than 1, but got dropout=0.5 and num_layers=1\n",
            "  warnings.warn(\"dropout option adds dropout after all but last \"\n"
          ]
        }
      ]
    },
    {
      "cell_type": "code",
      "source": [
        "device = torch.device(\"cuda\" if torch.cuda.is_available() else \"cpu\")\n",
        "\n",
        "# Training each model on these cobination of hyperparameters\n",
        "learning_rates = [0.001, 0.01]\n",
        "optimizers = ['Adam', 'SGD', 'RMSprop']\n",
        "loss_functions = [nn.CrossEntropyLoss(), FocalLoss(gamma=2)]\n",
        "batch_sizes = [32, 64, 128]\n",
        "embedding_dims = [100, 200, 300]\n",
        "\n",
        "combinations = list(itertools.product(learning_rates, optimizers, loss_functions, batch_sizes, embedding_dims))\n",
        "\n",
        "results = []\n",
        "best_accuracy = 0.0\n",
        "best_hyperparameters = None\n",
        "best_model = None\n",
        "\n",
        "for combination in tqdm(combinations):\n",
        "    learning_rate, optimizer_name, loss_fn, batch_size, embedding_dim = combination\n",
        "\n",
        "    # create a model for each of the hyperparameter combination, train and evaluate on test data\n",
        "    model = BilstmModel(vocab_size, embedding_dim, hidden_size, num_layers, dropout, bidirectional, output_dim)\n",
        "    model.to(device)\n",
        "\n",
        "    # set the optimizer and loss function\n",
        "    optimizer = get_optimizer(optimizer_name, model.parameters(), learning_rate)\n",
        "    criterion = loss_fn\n",
        "\n",
        "    # Loaders are used to efficiently iterate over the datasets in batches during the training and evaluation processes\n",
        "    train_loader = DataLoader(train_dataset, batch_size=batch_size, shuffle=True)\n",
        "    val_loader = DataLoader(val_dataset, batch_size=batch_size, shuffle=False)\n",
        "    test_loader = DataLoader(test_dataset, batch_size=batch_size, shuffle=False)\n",
        "\n",
        "    num_epochs = 5\n",
        "    for epoch in range(num_epochs):\n",
        "        model.train()\n",
        "        training_loss = 0.0\n",
        "        training_corrects = 0\n",
        "        training_count = 0\n",
        "\n",
        "        # Model Training\n",
        "        for i, data in enumerate(train_loader, 0):\n",
        "            inputs, labels = data\n",
        "            inputs, labels = inputs.to(device), labels.to(device)\n",
        "            # print(inputs)\n",
        "            # print(labels)\n",
        "\n",
        "            optimizer.zero_grad()\n",
        "            outputs = model(inputs)\n",
        "            # print(outputs)\n",
        "\n",
        "            loss = criterion(outputs, labels)\n",
        "            loss.backward()\n",
        "            training_loss += loss.item()\n",
        "\n",
        "            optimizer.step()\n",
        "\n",
        "            x, preds = torch.max(outputs.data, 1)\n",
        "            # print(preds)\n",
        "\n",
        "            training_count += labels.size(0)\n",
        "            training_corrects += torch.sum(preds == labels).item()\n",
        "\n",
        "        # calculate the average loss and accuracy for the each training epoch\n",
        "        train_epoch_loss = training_loss / len(train_loader)\n",
        "        train_epoch_accuracy = training_corrects / training_count\n",
        "\n",
        "\n",
        "\n",
        "        # Model Validation on data that it hasn't seen during training and adjust hyperparameters\n",
        "        model.eval()\n",
        "        validation_loss = 0.0\n",
        "        validation_corrects = 0\n",
        "        validation_count = 0\n",
        "\n",
        "        with torch.no_grad():\n",
        "            for i, data in enumerate(val_loader, 0):\n",
        "                inputs, labels = data\n",
        "                inputs, labels = inputs.to(device), labels.to(device)\n",
        "                outputs = model(inputs)\n",
        "                # print(inputs)\n",
        "                # print(labels)\n",
        "                # print(outputs)\n",
        "\n",
        "                loss = criterion(outputs, labels)\n",
        "                validation_loss += loss.item()\n",
        "\n",
        "                x, preds = torch.max(outputs.data, 1)\n",
        "                # print(preds)\n",
        "\n",
        "                validation_count += labels.size(0)\n",
        "                validation_corrects += torch.sum(preds == labels).item()\n",
        "\n",
        "        # calculate the average loss and accuracy for the each validation epoch\n",
        "        val_epoch_loss = validation_loss / len(val_loader)\n",
        "        val_epoch_accuracy = validation_corrects / validation_count\n",
        "\n",
        "        print(f\"Epoch {epoch + 1}/{num_epochs}, \"\n",
        "              f\"Train Loss: {train_epoch_loss:.4f}, Train Accuracy: {train_epoch_accuracy * 100:.2f}%, \"\n",
        "              f\"Validation Loss: {val_epoch_loss:.4f}, Validation Accuracy: {val_epoch_accuracy * 100:.2f}\")\n",
        "\n",
        "\n",
        "\n",
        "    # Testing the accuracy of the model on test data\n",
        "    test_loss = 0.0\n",
        "    test_corrects = 0\n",
        "    test_count = 0\n",
        "    with torch.no_grad():\n",
        "        for i, data in enumerate(test_loader, 0):\n",
        "            inputs, labels = data\n",
        "            inputs, labels = inputs.to(device), labels.to(device)\n",
        "            outputs = model(inputs)\n",
        "            # print(inputs)\n",
        "            # print(labels)\n",
        "            # print(outputs)\n",
        "\n",
        "            loss = criterion(outputs, labels)\n",
        "            test_loss += loss.item()\n",
        "\n",
        "            x, preds = torch.max(outputs.data, 1)\n",
        "            # print(preds)\n",
        "\n",
        "            test_count += labels.size(0)\n",
        "            test_corrects += torch.sum(preds == labels).item()\n",
        "\n",
        "    # calculate the average test_loss and test_accuracy on the training data\n",
        "    average_test_loss = test_loss / len(test_loader)\n",
        "    average_test_accuracy = test_corrects / test_count\n",
        "\n",
        "    result = {\n",
        "        'Learning Rate': learning_rate,\n",
        "        'Optimizer': optimizer_name,\n",
        "        'Loss Function': loss_fn.__class__.__name__,\n",
        "        'Batch Size': batch_size,\n",
        "        'Embedding Dim': embedding_dim,\n",
        "        'Test Accuracy': average_test_accuracy\n",
        "    }\n",
        "    results.append(result)\n",
        "    # Add each hyperparameter combination with the test accuracy tp results list for later analysis\n",
        "\n",
        "    print(f\"Hyperparameters: LR={learning_rate}, Optimizer={optimizer_name}, Loss={loss_fn.__class__.__name__}, \"\n",
        "          f\"Batch Size={batch_size}, Embedding Dim={embedding_dim}, \"\n",
        "          f\"Test Loss: {average_test_loss:.4f}, Test Accuracy: {average_test_accuracy * 100:.2f}\")\n",
        "\n",
        "    # The best-performing model and its associated hyperparameters are stored for later analysis\n",
        "    if average_test_accuracy > best_accuracy:\n",
        "        best_accuracy = average_test_accuracy\n",
        "        best_hyperparameters = combination\n",
        "        best_model = model.state_dict()\n",
        "\n"
      ],
      "metadata": {
        "colab": {
          "base_uri": "https://localhost:8080/"
        },
        "id": "SPTcj_usaDpz",
        "outputId": "62984c7f-0a58-483c-e52d-806306b5759c"
      },
      "execution_count": 60,
      "outputs": [
        {
          "output_type": "stream",
          "name": "stderr",
          "text": [
            "\r  0%|          | 0/108 [00:00<?, ?it/s]"
          ]
        },
        {
          "output_type": "stream",
          "name": "stdout",
          "text": [
            "Epoch 1/5, Train Loss: 1.7592, Train Accuracy: 20.88%, Validation Loss: 1.7301, Validation Accuracy: 21.57\n",
            "Epoch 2/5, Train Loss: 1.7084, Train Accuracy: 24.26%, Validation Loss: 1.6853, Validation Accuracy: 25.16\n",
            "Epoch 3/5, Train Loss: 1.6631, Train Accuracy: 27.67%, Validation Loss: 1.6758, Validation Accuracy: 25.55\n",
            "Epoch 4/5, Train Loss: 1.5993, Train Accuracy: 31.91%, Validation Loss: 1.6902, Validation Accuracy: 26.95\n"
          ]
        },
        {
          "output_type": "stream",
          "name": "stderr",
          "text": [
            "\r  1%|          | 1/108 [00:10<19:17, 10.82s/it]"
          ]
        },
        {
          "output_type": "stream",
          "name": "stdout",
          "text": [
            "Epoch 5/5, Train Loss: 1.5179, Train Accuracy: 36.06%, Validation Loss: 1.7275, Validation Accuracy: 25.08\n",
            "Hyperparameters: LR=0.001, Optimizer=Adam, Loss=CrossEntropyLoss, Batch Size=32, Embedding Dim=100, Test Loss: 1.7176, Test Accuracy: 25.64\n",
            "Epoch 1/5, Train Loss: 1.7603, Train Accuracy: 20.02%, Validation Loss: 1.7378, Validation Accuracy: 20.72\n",
            "Epoch 2/5, Train Loss: 1.7042, Train Accuracy: 24.90%, Validation Loss: 1.6880, Validation Accuracy: 25.08\n",
            "Epoch 3/5, Train Loss: 1.6425, Train Accuracy: 29.47%, Validation Loss: 1.6865, Validation Accuracy: 25.78\n",
            "Epoch 4/5, Train Loss: 1.5590, Train Accuracy: 33.29%, Validation Loss: 1.7191, Validation Accuracy: 24.38\n"
          ]
        },
        {
          "output_type": "stream",
          "name": "stderr",
          "text": [
            "\r  2%|▏         | 2/108 [00:16<14:13,  8.05s/it]"
          ]
        },
        {
          "output_type": "stream",
          "name": "stdout",
          "text": [
            "Epoch 5/5, Train Loss: 1.4604, Train Accuracy: 38.96%, Validation Loss: 1.8087, Validation Accuracy: 23.52\n",
            "Hyperparameters: LR=0.001, Optimizer=Adam, Loss=CrossEntropyLoss, Batch Size=32, Embedding Dim=200, Test Loss: 1.7770, Test Accuracy: 25.95\n",
            "Epoch 1/5, Train Loss: 1.7603, Train Accuracy: 20.56%, Validation Loss: 1.7488, Validation Accuracy: 20.56\n",
            "Epoch 2/5, Train Loss: 1.7110, Train Accuracy: 24.83%, Validation Loss: 1.7070, Validation Accuracy: 23.91\n",
            "Epoch 3/5, Train Loss: 1.6552, Train Accuracy: 28.56%, Validation Loss: 1.7039, Validation Accuracy: 25.47\n",
            "Epoch 4/5, Train Loss: 1.5619, Train Accuracy: 33.65%, Validation Loss: 1.7382, Validation Accuracy: 24.53\n"
          ]
        },
        {
          "output_type": "stream",
          "name": "stderr",
          "text": [
            "\r  3%|▎         | 3/108 [00:24<14:05,  8.05s/it]"
          ]
        },
        {
          "output_type": "stream",
          "name": "stdout",
          "text": [
            "Epoch 5/5, Train Loss: 1.4471, Train Accuracy: 39.20%, Validation Loss: 1.7832, Validation Accuracy: 25.31\n",
            "Hyperparameters: LR=0.001, Optimizer=Adam, Loss=CrossEntropyLoss, Batch Size=32, Embedding Dim=300, Test Loss: 1.7437, Test Accuracy: 27.59\n",
            "Epoch 1/5, Train Loss: 1.7627, Train Accuracy: 19.96%, Validation Loss: 1.7488, Validation Accuracy: 20.79\n",
            "Epoch 2/5, Train Loss: 1.7250, Train Accuracy: 23.77%, Validation Loss: 1.7086, Validation Accuracy: 23.68\n",
            "Epoch 3/5, Train Loss: 1.6819, Train Accuracy: 27.20%, Validation Loss: 1.6848, Validation Accuracy: 24.22\n",
            "Epoch 4/5, Train Loss: 1.6317, Train Accuracy: 30.34%, Validation Loss: 1.6845, Validation Accuracy: 26.25\n"
          ]
        },
        {
          "output_type": "stream",
          "name": "stderr",
          "text": [
            "\r  4%|▎         | 4/108 [00:28<10:34,  6.10s/it]"
          ]
        },
        {
          "output_type": "stream",
          "name": "stdout",
          "text": [
            "Epoch 5/5, Train Loss: 1.5698, Train Accuracy: 33.53%, Validation Loss: 1.7183, Validation Accuracy: 25.93\n",
            "Hyperparameters: LR=0.001, Optimizer=Adam, Loss=CrossEntropyLoss, Batch Size=64, Embedding Dim=100, Test Loss: 1.7146, Test Accuracy: 27.67\n",
            "Epoch 1/5, Train Loss: 1.7634, Train Accuracy: 20.00%, Validation Loss: 1.7511, Validation Accuracy: 20.48\n",
            "Epoch 2/5, Train Loss: 1.7249, Train Accuracy: 23.98%, Validation Loss: 1.7156, Validation Accuracy: 22.90\n",
            "Epoch 3/5, Train Loss: 1.6744, Train Accuracy: 28.01%, Validation Loss: 1.7002, Validation Accuracy: 24.07\n",
            "Epoch 4/5, Train Loss: 1.6103, Train Accuracy: 31.28%, Validation Loss: 1.7017, Validation Accuracy: 25.16\n"
          ]
        },
        {
          "output_type": "stream",
          "name": "stderr",
          "text": [
            "\r  5%|▍         | 5/108 [00:31<08:57,  5.22s/it]"
          ]
        },
        {
          "output_type": "stream",
          "name": "stdout",
          "text": [
            "Epoch 5/5, Train Loss: 1.5248, Train Accuracy: 35.59%, Validation Loss: 1.7261, Validation Accuracy: 25.70\n",
            "Hyperparameters: LR=0.001, Optimizer=Adam, Loss=CrossEntropyLoss, Batch Size=64, Embedding Dim=200, Test Loss: 1.7211, Test Accuracy: 25.80\n",
            "Epoch 1/5, Train Loss: 1.7619, Train Accuracy: 20.18%, Validation Loss: 1.7534, Validation Accuracy: 19.70\n",
            "Epoch 2/5, Train Loss: 1.7208, Train Accuracy: 23.77%, Validation Loss: 1.7099, Validation Accuracy: 23.60\n",
            "Epoch 3/5, Train Loss: 1.6748, Train Accuracy: 27.24%, Validation Loss: 1.7058, Validation Accuracy: 25.62\n",
            "Epoch 4/5, Train Loss: 1.6123, Train Accuracy: 31.59%, Validation Loss: 1.7087, Validation Accuracy: 25.78\n"
          ]
        },
        {
          "output_type": "stream",
          "name": "stderr",
          "text": [
            "\r  6%|▌         | 6/108 [00:36<08:35,  5.05s/it]"
          ]
        },
        {
          "output_type": "stream",
          "name": "stdout",
          "text": [
            "Epoch 5/5, Train Loss: 1.5298, Train Accuracy: 36.16%, Validation Loss: 1.7670, Validation Accuracy: 25.16\n",
            "Hyperparameters: LR=0.001, Optimizer=Adam, Loss=CrossEntropyLoss, Batch Size=64, Embedding Dim=300, Test Loss: 1.7260, Test Accuracy: 26.34\n",
            "Epoch 1/5, Train Loss: 1.7669, Train Accuracy: 20.01%, Validation Loss: 1.7544, Validation Accuracy: 20.64\n",
            "Epoch 2/5, Train Loss: 1.7455, Train Accuracy: 21.94%, Validation Loss: 1.7458, Validation Accuracy: 20.95\n",
            "Epoch 3/5, Train Loss: 1.7170, Train Accuracy: 24.32%, Validation Loss: 1.7066, Validation Accuracy: 25.78\n",
            "Epoch 4/5, Train Loss: 1.6732, Train Accuracy: 27.24%, Validation Loss: 1.6919, Validation Accuracy: 24.77\n"
          ]
        },
        {
          "output_type": "stream",
          "name": "stderr",
          "text": [
            "\r  6%|▋         | 7/108 [00:38<07:04,  4.21s/it]"
          ]
        },
        {
          "output_type": "stream",
          "name": "stdout",
          "text": [
            "Epoch 5/5, Train Loss: 1.6330, Train Accuracy: 29.26%, Validation Loss: 1.7006, Validation Accuracy: 25.62\n",
            "Hyperparameters: LR=0.001, Optimizer=Adam, Loss=CrossEntropyLoss, Batch Size=128, Embedding Dim=100, Test Loss: 1.7059, Test Accuracy: 25.72\n",
            "Epoch 1/5, Train Loss: 1.7656, Train Accuracy: 20.39%, Validation Loss: 1.7430, Validation Accuracy: 20.33\n",
            "Epoch 2/5, Train Loss: 1.7365, Train Accuracy: 23.54%, Validation Loss: 1.7353, Validation Accuracy: 20.87\n",
            "Epoch 3/5, Train Loss: 1.7019, Train Accuracy: 26.04%, Validation Loss: 1.7056, Validation Accuracy: 23.75\n",
            "Epoch 4/5, Train Loss: 1.6624, Train Accuracy: 28.80%, Validation Loss: 1.6955, Validation Accuracy: 25.23\n"
          ]
        },
        {
          "output_type": "stream",
          "name": "stderr",
          "text": [
            "\r  7%|▋         | 8/108 [00:41<06:07,  3.68s/it]"
          ]
        },
        {
          "output_type": "stream",
          "name": "stdout",
          "text": [
            "Epoch 5/5, Train Loss: 1.6054, Train Accuracy: 32.11%, Validation Loss: 1.6990, Validation Accuracy: 25.93\n",
            "Hyperparameters: LR=0.001, Optimizer=Adam, Loss=CrossEntropyLoss, Batch Size=128, Embedding Dim=200, Test Loss: 1.6821, Test Accuracy: 27.20\n",
            "Epoch 1/5, Train Loss: 1.7658, Train Accuracy: 20.24%, Validation Loss: 1.7468, Validation Accuracy: 23.21\n",
            "Epoch 2/5, Train Loss: 1.7344, Train Accuracy: 23.42%, Validation Loss: 1.7332, Validation Accuracy: 21.65\n",
            "Epoch 3/5, Train Loss: 1.7025, Train Accuracy: 26.02%, Validation Loss: 1.7045, Validation Accuracy: 23.36\n",
            "Epoch 4/5, Train Loss: 1.6568, Train Accuracy: 29.18%, Validation Loss: 1.7073, Validation Accuracy: 24.38\n"
          ]
        },
        {
          "output_type": "stream",
          "name": "stderr",
          "text": [
            "\r  8%|▊         | 9/108 [00:44<05:43,  3.47s/it]"
          ]
        },
        {
          "output_type": "stream",
          "name": "stdout",
          "text": [
            "Epoch 5/5, Train Loss: 1.5920, Train Accuracy: 32.53%, Validation Loss: 1.7199, Validation Accuracy: 26.17\n",
            "Hyperparameters: LR=0.001, Optimizer=Adam, Loss=CrossEntropyLoss, Batch Size=128, Embedding Dim=300, Test Loss: 1.7423, Test Accuracy: 24.63\n",
            "Epoch 1/5, Train Loss: 1.2060, Train Accuracy: 20.63%, Validation Loss: 1.1825, Validation Accuracy: 21.26\n",
            "Epoch 2/5, Train Loss: 1.1472, Train Accuracy: 24.63%, Validation Loss: 1.1242, Validation Accuracy: 25.00\n",
            "Epoch 3/5, Train Loss: 1.0831, Train Accuracy: 27.95%, Validation Loss: 1.1230, Validation Accuracy: 25.16\n",
            "Epoch 4/5, Train Loss: 1.0098, Train Accuracy: 31.53%, Validation Loss: 1.1356, Validation Accuracy: 25.23\n"
          ]
        },
        {
          "output_type": "stream",
          "name": "stderr",
          "text": [
            "\r  9%|▉         | 10/108 [00:50<06:53,  4.22s/it]"
          ]
        },
        {
          "output_type": "stream",
          "name": "stdout",
          "text": [
            "Epoch 5/5, Train Loss: 0.9203, Train Accuracy: 35.64%, Validation Loss: 1.1624, Validation Accuracy: 24.92\n",
            "Hyperparameters: LR=0.001, Optimizer=Adam, Loss=FocalLoss, Batch Size=32, Embedding Dim=100, Test Loss: 1.1789, Test Accuracy: 25.95\n",
            "Epoch 1/5, Train Loss: 1.2062, Train Accuracy: 20.15%, Validation Loss: 1.1750, Validation Accuracy: 20.79\n",
            "Epoch 2/5, Train Loss: 1.1426, Train Accuracy: 25.20%, Validation Loss: 1.1346, Validation Accuracy: 25.62\n",
            "Epoch 3/5, Train Loss: 1.0785, Train Accuracy: 29.05%, Validation Loss: 1.1365, Validation Accuracy: 24.38\n",
            "Epoch 4/5, Train Loss: 0.9917, Train Accuracy: 33.27%, Validation Loss: 1.1628, Validation Accuracy: 25.16\n"
          ]
        },
        {
          "output_type": "stream",
          "name": "stderr",
          "text": [
            "\r 10%|█         | 11/108 [00:57<08:20,  5.16s/it]"
          ]
        },
        {
          "output_type": "stream",
          "name": "stdout",
          "text": [
            "Epoch 5/5, Train Loss: 0.8707, Train Accuracy: 38.04%, Validation Loss: 1.2577, Validation Accuracy: 27.02\n",
            "Hyperparameters: LR=0.001, Optimizer=Adam, Loss=FocalLoss, Batch Size=32, Embedding Dim=200, Test Loss: 1.2046, Test Accuracy: 27.51\n",
            "Epoch 1/5, Train Loss: 1.2053, Train Accuracy: 21.76%, Validation Loss: 1.1896, Validation Accuracy: 19.70\n",
            "Epoch 2/5, Train Loss: 1.1422, Train Accuracy: 25.45%, Validation Loss: 1.1335, Validation Accuracy: 27.02\n",
            "Epoch 3/5, Train Loss: 1.0712, Train Accuracy: 29.20%, Validation Loss: 1.1283, Validation Accuracy: 26.87\n",
            "Epoch 4/5, Train Loss: 0.9652, Train Accuracy: 34.61%, Validation Loss: 1.1583, Validation Accuracy: 26.40\n"
          ]
        },
        {
          "output_type": "stream",
          "name": "stderr",
          "text": [
            "\r 11%|█         | 12/108 [01:05<09:28,  5.92s/it]"
          ]
        },
        {
          "output_type": "stream",
          "name": "stdout",
          "text": [
            "Epoch 5/5, Train Loss: 0.8355, Train Accuracy: 40.46%, Validation Loss: 1.2506, Validation Accuracy: 24.69\n",
            "Hyperparameters: LR=0.001, Optimizer=Adam, Loss=FocalLoss, Batch Size=32, Embedding Dim=300, Test Loss: 1.2520, Test Accuracy: 24.40\n",
            "Epoch 1/5, Train Loss: 1.2094, Train Accuracy: 20.01%, Validation Loss: 1.1853, Validation Accuracy: 20.48\n",
            "Epoch 2/5, Train Loss: 1.1553, Train Accuracy: 24.32%, Validation Loss: 1.1420, Validation Accuracy: 22.74\n",
            "Epoch 3/5, Train Loss: 1.0982, Train Accuracy: 27.69%, Validation Loss: 1.1226, Validation Accuracy: 25.62\n",
            "Epoch 4/5, Train Loss: 1.0401, Train Accuracy: 30.47%, Validation Loss: 1.1310, Validation Accuracy: 26.01\n"
          ]
        },
        {
          "output_type": "stream",
          "name": "stderr",
          "text": [
            "\r 12%|█▏        | 13/108 [01:09<08:32,  5.39s/it]"
          ]
        },
        {
          "output_type": "stream",
          "name": "stdout",
          "text": [
            "Epoch 5/5, Train Loss: 0.9789, Train Accuracy: 33.34%, Validation Loss: 1.1666, Validation Accuracy: 26.25\n",
            "Hyperparameters: LR=0.001, Optimizer=Adam, Loss=FocalLoss, Batch Size=64, Embedding Dim=100, Test Loss: 1.1495, Test Accuracy: 24.47\n",
            "Epoch 1/5, Train Loss: 1.2132, Train Accuracy: 19.30%, Validation Loss: 1.1908, Validation Accuracy: 20.87\n",
            "Epoch 2/5, Train Loss: 1.1686, Train Accuracy: 23.96%, Validation Loss: 1.1541, Validation Accuracy: 23.75\n",
            "Epoch 3/5, Train Loss: 1.1124, Train Accuracy: 26.65%, Validation Loss: 1.1245, Validation Accuracy: 25.78\n",
            "Epoch 4/5, Train Loss: 1.0364, Train Accuracy: 31.53%, Validation Loss: 1.1187, Validation Accuracy: 25.23\n"
          ]
        },
        {
          "output_type": "stream",
          "name": "stderr",
          "text": [
            "\r 13%|█▎        | 14/108 [01:13<07:45,  4.95s/it]"
          ]
        },
        {
          "output_type": "stream",
          "name": "stdout",
          "text": [
            "Epoch 5/5, Train Loss: 0.9517, Train Accuracy: 35.73%, Validation Loss: 1.1453, Validation Accuracy: 26.95\n",
            "Hyperparameters: LR=0.001, Optimizer=Adam, Loss=FocalLoss, Batch Size=64, Embedding Dim=200, Test Loss: 1.1477, Test Accuracy: 26.81\n",
            "Epoch 1/5, Train Loss: 1.2102, Train Accuracy: 21.18%, Validation Loss: 1.1927, Validation Accuracy: 19.24\n",
            "Epoch 2/5, Train Loss: 1.1683, Train Accuracy: 24.04%, Validation Loss: 1.1564, Validation Accuracy: 20.95\n",
            "Epoch 3/5, Train Loss: 1.1096, Train Accuracy: 27.76%, Validation Loss: 1.1294, Validation Accuracy: 25.08\n",
            "Epoch 4/5, Train Loss: 1.0417, Train Accuracy: 31.49%, Validation Loss: 1.1177, Validation Accuracy: 26.01\n"
          ]
        },
        {
          "output_type": "stream",
          "name": "stderr",
          "text": [
            "\r 14%|█▍        | 15/108 [01:17<07:24,  4.78s/it]"
          ]
        },
        {
          "output_type": "stream",
          "name": "stdout",
          "text": [
            "Epoch 5/5, Train Loss: 0.9264, Train Accuracy: 36.63%, Validation Loss: 1.1742, Validation Accuracy: 25.93\n",
            "Hyperparameters: LR=0.001, Optimizer=Adam, Loss=FocalLoss, Batch Size=64, Embedding Dim=300, Test Loss: 1.1565, Test Accuracy: 25.41\n",
            "Epoch 1/5, Train Loss: 1.2109, Train Accuracy: 20.39%, Validation Loss: 1.1944, Validation Accuracy: 20.87\n",
            "Epoch 2/5, Train Loss: 1.1841, Train Accuracy: 22.26%, Validation Loss: 1.1718, Validation Accuracy: 22.90\n",
            "Epoch 3/5, Train Loss: 1.1376, Train Accuracy: 25.30%, Validation Loss: 1.1509, Validation Accuracy: 24.61\n",
            "Epoch 4/5, Train Loss: 1.0910, Train Accuracy: 27.91%, Validation Loss: 1.1478, Validation Accuracy: 25.78\n"
          ]
        },
        {
          "output_type": "stream",
          "name": "stderr",
          "text": [
            "\r 15%|█▍        | 16/108 [01:19<06:05,  3.97s/it]"
          ]
        },
        {
          "output_type": "stream",
          "name": "stdout",
          "text": [
            "Epoch 5/5, Train Loss: 1.0506, Train Accuracy: 30.24%, Validation Loss: 1.1647, Validation Accuracy: 26.71\n",
            "Hyperparameters: LR=0.001, Optimizer=Adam, Loss=FocalLoss, Batch Size=128, Embedding Dim=100, Test Loss: 1.1279, Test Accuracy: 25.25\n",
            "Epoch 1/5, Train Loss: 1.2132, Train Accuracy: 19.82%, Validation Loss: 1.2009, Validation Accuracy: 19.55\n",
            "Epoch 2/5, Train Loss: 1.1815, Train Accuracy: 22.12%, Validation Loss: 1.1853, Validation Accuracy: 21.26\n",
            "Epoch 3/5, Train Loss: 1.1359, Train Accuracy: 26.11%, Validation Loss: 1.1520, Validation Accuracy: 23.68\n",
            "Epoch 4/5, Train Loss: 1.0875, Train Accuracy: 28.79%, Validation Loss: 1.1440, Validation Accuracy: 24.69\n"
          ]
        },
        {
          "output_type": "stream",
          "name": "stderr",
          "text": [
            "\r 16%|█▌        | 17/108 [01:22<05:34,  3.68s/it]"
          ]
        },
        {
          "output_type": "stream",
          "name": "stdout",
          "text": [
            "Epoch 5/5, Train Loss: 1.0204, Train Accuracy: 31.83%, Validation Loss: 1.1529, Validation Accuracy: 24.45\n",
            "Hyperparameters: LR=0.001, Optimizer=Adam, Loss=FocalLoss, Batch Size=128, Embedding Dim=200, Test Loss: 1.1288, Test Accuracy: 27.28\n",
            "Epoch 1/5, Train Loss: 1.2140, Train Accuracy: 19.56%, Validation Loss: 1.1944, Validation Accuracy: 18.30\n",
            "Epoch 2/5, Train Loss: 1.1763, Train Accuracy: 23.55%, Validation Loss: 1.1827, Validation Accuracy: 20.17\n",
            "Epoch 3/5, Train Loss: 1.1386, Train Accuracy: 26.16%, Validation Loss: 1.1435, Validation Accuracy: 23.52\n",
            "Epoch 4/5, Train Loss: 1.0897, Train Accuracy: 29.26%, Validation Loss: 1.1293, Validation Accuracy: 25.70\n"
          ]
        },
        {
          "output_type": "stream",
          "name": "stderr",
          "text": [
            "\r 17%|█▋        | 18/108 [01:26<05:21,  3.57s/it]"
          ]
        },
        {
          "output_type": "stream",
          "name": "stdout",
          "text": [
            "Epoch 5/5, Train Loss: 1.0199, Train Accuracy: 31.98%, Validation Loss: 1.1319, Validation Accuracy: 26.64\n",
            "Hyperparameters: LR=0.001, Optimizer=Adam, Loss=FocalLoss, Batch Size=128, Embedding Dim=300, Test Loss: 1.1551, Test Accuracy: 25.95\n",
            "Epoch 1/5, Train Loss: 1.7835, Train Accuracy: 18.08%, Validation Loss: 1.7740, Validation Accuracy: 19.31\n",
            "Epoch 2/5, Train Loss: 1.7753, Train Accuracy: 18.34%, Validation Loss: 1.7696, Validation Accuracy: 19.55\n",
            "Epoch 3/5, Train Loss: 1.7692, Train Accuracy: 18.94%, Validation Loss: 1.7673, Validation Accuracy: 20.02\n",
            "Epoch 4/5, Train Loss: 1.7657, Train Accuracy: 19.31%, Validation Loss: 1.7662, Validation Accuracy: 20.56\n"
          ]
        },
        {
          "output_type": "stream",
          "name": "stderr",
          "text": [
            "\r 18%|█▊        | 19/108 [01:30<05:43,  3.86s/it]"
          ]
        },
        {
          "output_type": "stream",
          "name": "stdout",
          "text": [
            "Epoch 5/5, Train Loss: 1.7659, Train Accuracy: 19.31%, Validation Loss: 1.7655, Validation Accuracy: 20.72\n",
            "Hyperparameters: LR=0.001, Optimizer=SGD, Loss=CrossEntropyLoss, Batch Size=32, Embedding Dim=100, Test Loss: 1.7546, Test Accuracy: 20.65\n",
            "Epoch 1/5, Train Loss: 1.8055, Train Accuracy: 17.29%, Validation Loss: 1.7743, Validation Accuracy: 19.16\n",
            "Epoch 2/5, Train Loss: 1.7819, Train Accuracy: 19.29%, Validation Loss: 1.7668, Validation Accuracy: 19.63\n",
            "Epoch 3/5, Train Loss: 1.7713, Train Accuracy: 20.13%, Validation Loss: 1.7650, Validation Accuracy: 19.55\n",
            "Epoch 4/5, Train Loss: 1.7713, Train Accuracy: 19.58%, Validation Loss: 1.7644, Validation Accuracy: 20.17\n"
          ]
        },
        {
          "output_type": "stream",
          "name": "stderr",
          "text": [
            "\r 19%|█▊        | 20/108 [01:35<06:02,  4.11s/it]"
          ]
        },
        {
          "output_type": "stream",
          "name": "stdout",
          "text": [
            "Epoch 5/5, Train Loss: 1.7702, Train Accuracy: 19.31%, Validation Loss: 1.7635, Validation Accuracy: 20.02\n",
            "Hyperparameters: LR=0.001, Optimizer=SGD, Loss=CrossEntropyLoss, Batch Size=32, Embedding Dim=200, Test Loss: 1.7530, Test Accuracy: 20.34\n",
            "Epoch 1/5, Train Loss: 1.8026, Train Accuracy: 17.13%, Validation Loss: 1.7739, Validation Accuracy: 19.31\n",
            "Epoch 2/5, Train Loss: 1.7813, Train Accuracy: 19.53%, Validation Loss: 1.7672, Validation Accuracy: 19.08\n",
            "Epoch 3/5, Train Loss: 1.7739, Train Accuracy: 19.07%, Validation Loss: 1.7652, Validation Accuracy: 19.08\n",
            "Epoch 4/5, Train Loss: 1.7688, Train Accuracy: 19.67%, Validation Loss: 1.7640, Validation Accuracy: 19.00\n"
          ]
        },
        {
          "output_type": "stream",
          "name": "stderr",
          "text": [
            "\r 19%|█▉        | 21/108 [01:42<07:05,  4.89s/it]"
          ]
        },
        {
          "output_type": "stream",
          "name": "stdout",
          "text": [
            "Epoch 5/5, Train Loss: 1.7708, Train Accuracy: 19.50%, Validation Loss: 1.7635, Validation Accuracy: 19.55\n",
            "Hyperparameters: LR=0.001, Optimizer=SGD, Loss=CrossEntropyLoss, Batch Size=32, Embedding Dim=300, Test Loss: 1.7556, Test Accuracy: 19.56\n",
            "Epoch 1/5, Train Loss: 1.7861, Train Accuracy: 18.48%, Validation Loss: 1.7778, Validation Accuracy: 19.39\n",
            "Epoch 2/5, Train Loss: 1.7763, Train Accuracy: 19.05%, Validation Loss: 1.7723, Validation Accuracy: 17.83\n",
            "Epoch 3/5, Train Loss: 1.7724, Train Accuracy: 19.12%, Validation Loss: 1.7690, Validation Accuracy: 17.83\n",
            "Epoch 4/5, Train Loss: 1.7705, Train Accuracy: 18.79%, Validation Loss: 1.7669, Validation Accuracy: 17.76\n"
          ]
        },
        {
          "output_type": "stream",
          "name": "stderr",
          "text": [
            "\r 20%|██        | 22/108 [01:44<06:04,  4.23s/it]"
          ]
        },
        {
          "output_type": "stream",
          "name": "stdout",
          "text": [
            "Epoch 5/5, Train Loss: 1.7674, Train Accuracy: 19.40%, Validation Loss: 1.7655, Validation Accuracy: 17.91\n",
            "Hyperparameters: LR=0.001, Optimizer=SGD, Loss=CrossEntropyLoss, Batch Size=64, Embedding Dim=100, Test Loss: 1.7571, Test Accuracy: 20.42\n",
            "Epoch 1/5, Train Loss: 1.7873, Train Accuracy: 17.93%, Validation Loss: 1.7757, Validation Accuracy: 17.21\n",
            "Epoch 2/5, Train Loss: 1.7776, Train Accuracy: 18.95%, Validation Loss: 1.7716, Validation Accuracy: 17.76\n",
            "Epoch 3/5, Train Loss: 1.7749, Train Accuracy: 19.64%, Validation Loss: 1.7695, Validation Accuracy: 17.83\n",
            "Epoch 4/5, Train Loss: 1.7722, Train Accuracy: 19.38%, Validation Loss: 1.7682, Validation Accuracy: 17.83\n"
          ]
        },
        {
          "output_type": "stream",
          "name": "stderr",
          "text": [
            "\r 21%|██▏       | 23/108 [01:47<05:26,  3.84s/it]"
          ]
        },
        {
          "output_type": "stream",
          "name": "stdout",
          "text": [
            "Epoch 5/5, Train Loss: 1.7706, Train Accuracy: 19.10%, Validation Loss: 1.7674, Validation Accuracy: 18.38\n",
            "Hyperparameters: LR=0.001, Optimizer=SGD, Loss=CrossEntropyLoss, Batch Size=64, Embedding Dim=200, Test Loss: 1.7580, Test Accuracy: 21.75\n",
            "Epoch 1/5, Train Loss: 1.7983, Train Accuracy: 18.43%, Validation Loss: 1.7825, Validation Accuracy: 20.02\n",
            "Epoch 2/5, Train Loss: 1.7874, Train Accuracy: 19.08%, Validation Loss: 1.7743, Validation Accuracy: 20.17\n",
            "Epoch 3/5, Train Loss: 1.7814, Train Accuracy: 19.43%, Validation Loss: 1.7689, Validation Accuracy: 18.93\n",
            "Epoch 4/5, Train Loss: 1.7784, Train Accuracy: 20.33%, Validation Loss: 1.7667, Validation Accuracy: 20.56\n"
          ]
        },
        {
          "output_type": "stream",
          "name": "stderr",
          "text": [
            "\r 22%|██▏       | 24/108 [01:51<05:07,  3.66s/it]"
          ]
        },
        {
          "output_type": "stream",
          "name": "stdout",
          "text": [
            "Epoch 5/5, Train Loss: 1.7722, Train Accuracy: 20.19%, Validation Loss: 1.7648, Validation Accuracy: 20.79\n",
            "Hyperparameters: LR=0.001, Optimizer=SGD, Loss=CrossEntropyLoss, Batch Size=64, Embedding Dim=300, Test Loss: 1.7591, Test Accuracy: 19.10\n",
            "Epoch 1/5, Train Loss: 1.7939, Train Accuracy: 17.90%, Validation Loss: 1.7771, Validation Accuracy: 18.15\n",
            "Epoch 2/5, Train Loss: 1.7873, Train Accuracy: 18.07%, Validation Loss: 1.7718, Validation Accuracy: 19.24\n",
            "Epoch 3/5, Train Loss: 1.7835, Train Accuracy: 18.40%, Validation Loss: 1.7681, Validation Accuracy: 19.78\n",
            "Epoch 4/5, Train Loss: 1.7800, Train Accuracy: 18.69%, Validation Loss: 1.7654, Validation Accuracy: 19.63\n"
          ]
        },
        {
          "output_type": "stream",
          "name": "stderr",
          "text": [
            "\r 23%|██▎       | 25/108 [01:53<04:27,  3.23s/it]"
          ]
        },
        {
          "output_type": "stream",
          "name": "stdout",
          "text": [
            "Epoch 5/5, Train Loss: 1.7751, Train Accuracy: 19.09%, Validation Loss: 1.7635, Validation Accuracy: 20.72\n",
            "Hyperparameters: LR=0.001, Optimizer=SGD, Loss=CrossEntropyLoss, Batch Size=128, Embedding Dim=100, Test Loss: 1.7651, Test Accuracy: 19.41\n",
            "Epoch 1/5, Train Loss: 1.7985, Train Accuracy: 17.13%, Validation Loss: 1.7898, Validation Accuracy: 17.21\n",
            "Epoch 2/5, Train Loss: 1.7913, Train Accuracy: 17.66%, Validation Loss: 1.7855, Validation Accuracy: 17.99\n",
            "Epoch 3/5, Train Loss: 1.7895, Train Accuracy: 17.35%, Validation Loss: 1.7818, Validation Accuracy: 17.37\n",
            "Epoch 4/5, Train Loss: 1.7836, Train Accuracy: 19.26%, Validation Loss: 1.7786, Validation Accuracy: 18.30\n"
          ]
        },
        {
          "output_type": "stream",
          "name": "stderr",
          "text": [
            "\r 24%|██▍       | 26/108 [01:55<04:07,  3.02s/it]"
          ]
        },
        {
          "output_type": "stream",
          "name": "stdout",
          "text": [
            "Epoch 5/5, Train Loss: 1.7822, Train Accuracy: 18.65%, Validation Loss: 1.7758, Validation Accuracy: 18.46\n",
            "Hyperparameters: LR=0.001, Optimizer=SGD, Loss=CrossEntropyLoss, Batch Size=128, Embedding Dim=200, Test Loss: 1.7637, Test Accuracy: 19.72\n",
            "Epoch 1/5, Train Loss: 1.8163, Train Accuracy: 17.20%, Validation Loss: 1.8043, Validation Accuracy: 18.46\n",
            "Epoch 2/5, Train Loss: 1.8054, Train Accuracy: 18.10%, Validation Loss: 1.7939, Validation Accuracy: 20.25\n",
            "Epoch 3/5, Train Loss: 1.7979, Train Accuracy: 18.92%, Validation Loss: 1.7861, Validation Accuracy: 19.78\n",
            "Epoch 4/5, Train Loss: 1.7893, Train Accuracy: 19.55%, Validation Loss: 1.7802, Validation Accuracy: 19.70\n"
          ]
        },
        {
          "output_type": "stream",
          "name": "stderr",
          "text": [
            "\r 25%|██▌       | 27/108 [01:58<03:55,  2.91s/it]"
          ]
        },
        {
          "output_type": "stream",
          "name": "stdout",
          "text": [
            "Epoch 5/5, Train Loss: 1.7857, Train Accuracy: 19.96%, Validation Loss: 1.7760, Validation Accuracy: 19.55\n",
            "Hyperparameters: LR=0.001, Optimizer=SGD, Loss=CrossEntropyLoss, Batch Size=128, Embedding Dim=300, Test Loss: 1.7808, Test Accuracy: 20.27\n",
            "Epoch 1/5, Train Loss: 1.2326, Train Accuracy: 19.69%, Validation Loss: 1.2154, Validation Accuracy: 20.09\n",
            "Epoch 2/5, Train Loss: 1.2159, Train Accuracy: 20.43%, Validation Loss: 1.2099, Validation Accuracy: 19.63\n",
            "Epoch 3/5, Train Loss: 1.2162, Train Accuracy: 19.93%, Validation Loss: 1.2082, Validation Accuracy: 20.40\n",
            "Epoch 4/5, Train Loss: 1.2151, Train Accuracy: 19.21%, Validation Loss: 1.2076, Validation Accuracy: 20.40\n"
          ]
        },
        {
          "output_type": "stream",
          "name": "stderr",
          "text": [
            "\r 26%|██▌       | 28/108 [02:03<04:41,  3.52s/it]"
          ]
        },
        {
          "output_type": "stream",
          "name": "stdout",
          "text": [
            "Epoch 5/5, Train Loss: 1.2114, Train Accuracy: 20.17%, Validation Loss: 1.2071, Validation Accuracy: 20.40\n",
            "Hyperparameters: LR=0.001, Optimizer=SGD, Loss=FocalLoss, Batch Size=32, Embedding Dim=100, Test Loss: 1.1947, Test Accuracy: 21.82\n",
            "Epoch 1/5, Train Loss: 1.2573, Train Accuracy: 17.22%, Validation Loss: 1.2281, Validation Accuracy: 19.24\n",
            "Epoch 2/5, Train Loss: 1.2314, Train Accuracy: 18.93%, Validation Loss: 1.2171, Validation Accuracy: 19.39\n",
            "Epoch 3/5, Train Loss: 1.2209, Train Accuracy: 20.38%, Validation Loss: 1.2131, Validation Accuracy: 19.00\n",
            "Epoch 4/5, Train Loss: 1.2207, Train Accuracy: 19.45%, Validation Loss: 1.2116, Validation Accuracy: 19.16\n"
          ]
        },
        {
          "output_type": "stream",
          "name": "stderr",
          "text": [
            "\r 27%|██▋       | 29/108 [02:08<05:25,  4.12s/it]"
          ]
        },
        {
          "output_type": "stream",
          "name": "stdout",
          "text": [
            "Epoch 5/5, Train Loss: 1.2197, Train Accuracy: 19.69%, Validation Loss: 1.2130, Validation Accuracy: 19.47\n",
            "Hyperparameters: LR=0.001, Optimizer=SGD, Loss=FocalLoss, Batch Size=32, Embedding Dim=200, Test Loss: 1.1991, Test Accuracy: 20.50\n",
            "Epoch 1/5, Train Loss: 1.2609, Train Accuracy: 16.90%, Validation Loss: 1.2224, Validation Accuracy: 19.55\n",
            "Epoch 2/5, Train Loss: 1.2318, Train Accuracy: 19.14%, Validation Loss: 1.2144, Validation Accuracy: 19.78\n",
            "Epoch 3/5, Train Loss: 1.2263, Train Accuracy: 19.03%, Validation Loss: 1.2111, Validation Accuracy: 19.94\n",
            "Epoch 4/5, Train Loss: 1.2231, Train Accuracy: 18.99%, Validation Loss: 1.2101, Validation Accuracy: 20.02\n"
          ]
        },
        {
          "output_type": "stream",
          "name": "stderr",
          "text": [
            "\r 28%|██▊       | 30/108 [02:15<06:08,  4.73s/it]"
          ]
        },
        {
          "output_type": "stream",
          "name": "stdout",
          "text": [
            "Epoch 5/5, Train Loss: 1.2195, Train Accuracy: 19.10%, Validation Loss: 1.2089, Validation Accuracy: 20.17\n",
            "Hyperparameters: LR=0.001, Optimizer=SGD, Loss=FocalLoss, Batch Size=32, Embedding Dim=300, Test Loss: 1.2006, Test Accuracy: 19.64\n",
            "Epoch 1/5, Train Loss: 1.2443, Train Accuracy: 18.56%, Validation Loss: 1.2179, Validation Accuracy: 19.55\n",
            "Epoch 2/5, Train Loss: 1.2288, Train Accuracy: 19.07%, Validation Loss: 1.2112, Validation Accuracy: 18.69\n",
            "Epoch 3/5, Train Loss: 1.2197, Train Accuracy: 19.91%, Validation Loss: 1.2093, Validation Accuracy: 17.83\n",
            "Epoch 4/5, Train Loss: 1.2175, Train Accuracy: 19.03%, Validation Loss: 1.2082, Validation Accuracy: 18.15\n"
          ]
        },
        {
          "output_type": "stream",
          "name": "stderr",
          "text": [
            "\r 29%|██▊       | 31/108 [02:17<05:21,  4.17s/it]"
          ]
        },
        {
          "output_type": "stream",
          "name": "stdout",
          "text": [
            "Epoch 5/5, Train Loss: 1.2179, Train Accuracy: 19.12%, Validation Loss: 1.2081, Validation Accuracy: 18.46\n",
            "Hyperparameters: LR=0.001, Optimizer=SGD, Loss=FocalLoss, Batch Size=64, Embedding Dim=100, Test Loss: 1.2026, Test Accuracy: 20.42\n",
            "Epoch 1/5, Train Loss: 1.2320, Train Accuracy: 18.87%, Validation Loss: 1.2187, Validation Accuracy: 17.13\n",
            "Epoch 2/5, Train Loss: 1.2262, Train Accuracy: 18.74%, Validation Loss: 1.2136, Validation Accuracy: 17.60\n",
            "Epoch 3/5, Train Loss: 1.2211, Train Accuracy: 19.43%, Validation Loss: 1.2115, Validation Accuracy: 18.22\n",
            "Epoch 4/5, Train Loss: 1.2220, Train Accuracy: 19.05%, Validation Loss: 1.2106, Validation Accuracy: 17.60\n"
          ]
        },
        {
          "output_type": "stream",
          "name": "stderr",
          "text": [
            "\r 30%|██▉       | 32/108 [02:21<04:52,  3.84s/it]"
          ]
        },
        {
          "output_type": "stream",
          "name": "stdout",
          "text": [
            "Epoch 5/5, Train Loss: 1.2181, Train Accuracy: 20.07%, Validation Loss: 1.2099, Validation Accuracy: 17.91\n",
            "Hyperparameters: LR=0.001, Optimizer=SGD, Loss=FocalLoss, Batch Size=64, Embedding Dim=200, Test Loss: 1.1967, Test Accuracy: 21.20\n",
            "Epoch 1/5, Train Loss: 1.2349, Train Accuracy: 19.05%, Validation Loss: 1.2212, Validation Accuracy: 19.24\n",
            "Epoch 2/5, Train Loss: 1.2283, Train Accuracy: 19.00%, Validation Loss: 1.2166, Validation Accuracy: 18.61\n",
            "Epoch 3/5, Train Loss: 1.2212, Train Accuracy: 19.73%, Validation Loss: 1.2147, Validation Accuracy: 18.46\n",
            "Epoch 4/5, Train Loss: 1.2206, Train Accuracy: 19.76%, Validation Loss: 1.2136, Validation Accuracy: 18.77\n"
          ]
        },
        {
          "output_type": "stream",
          "name": "stderr",
          "text": [
            "\r 31%|███       | 33/108 [02:24<04:46,  3.83s/it]"
          ]
        },
        {
          "output_type": "stream",
          "name": "stdout",
          "text": [
            "Epoch 5/5, Train Loss: 1.2194, Train Accuracy: 19.50%, Validation Loss: 1.2131, Validation Accuracy: 18.38\n",
            "Hyperparameters: LR=0.001, Optimizer=SGD, Loss=FocalLoss, Batch Size=64, Embedding Dim=300, Test Loss: 1.2136, Test Accuracy: 18.78\n",
            "Epoch 1/5, Train Loss: 1.2648, Train Accuracy: 16.37%, Validation Loss: 1.2525, Validation Accuracy: 17.37\n",
            "Epoch 2/5, Train Loss: 1.2575, Train Accuracy: 17.50%, Validation Loss: 1.2426, Validation Accuracy: 19.70\n",
            "Epoch 3/5, Train Loss: 1.2472, Train Accuracy: 18.31%, Validation Loss: 1.2352, Validation Accuracy: 20.79\n",
            "Epoch 4/5, Train Loss: 1.2410, Train Accuracy: 18.59%, Validation Loss: 1.2297, Validation Accuracy: 20.09\n"
          ]
        },
        {
          "output_type": "stream",
          "name": "stderr",
          "text": [
            "\r 31%|███▏      | 34/108 [02:27<04:11,  3.39s/it]"
          ]
        },
        {
          "output_type": "stream",
          "name": "stdout",
          "text": [
            "Epoch 5/5, Train Loss: 1.2355, Train Accuracy: 19.30%, Validation Loss: 1.2256, Validation Accuracy: 19.47\n",
            "Hyperparameters: LR=0.001, Optimizer=SGD, Loss=FocalLoss, Batch Size=128, Embedding Dim=100, Test Loss: 1.2115, Test Accuracy: 20.58\n",
            "Epoch 1/5, Train Loss: 1.2482, Train Accuracy: 17.72%, Validation Loss: 1.2310, Validation Accuracy: 19.39\n",
            "Epoch 2/5, Train Loss: 1.2410, Train Accuracy: 17.97%, Validation Loss: 1.2250, Validation Accuracy: 19.39\n",
            "Epoch 3/5, Train Loss: 1.2336, Train Accuracy: 18.76%, Validation Loss: 1.2207, Validation Accuracy: 19.47\n",
            "Epoch 4/5, Train Loss: 1.2258, Train Accuracy: 19.81%, Validation Loss: 1.2178, Validation Accuracy: 19.31\n"
          ]
        },
        {
          "output_type": "stream",
          "name": "stderr",
          "text": [
            "\r 32%|███▏      | 35/108 [02:29<03:43,  3.06s/it]"
          ]
        },
        {
          "output_type": "stream",
          "name": "stdout",
          "text": [
            "Epoch 5/5, Train Loss: 1.2222, Train Accuracy: 18.87%, Validation Loss: 1.2157, Validation Accuracy: 19.39\n",
            "Hyperparameters: LR=0.001, Optimizer=SGD, Loss=FocalLoss, Batch Size=128, Embedding Dim=200, Test Loss: 1.2113, Test Accuracy: 21.20\n",
            "Epoch 1/5, Train Loss: 1.2615, Train Accuracy: 16.60%, Validation Loss: 1.2292, Validation Accuracy: 18.15\n",
            "Epoch 2/5, Train Loss: 1.2422, Train Accuracy: 18.40%, Validation Loss: 1.2205, Validation Accuracy: 18.22\n",
            "Epoch 3/5, Train Loss: 1.2357, Train Accuracy: 18.49%, Validation Loss: 1.2164, Validation Accuracy: 19.47\n",
            "Epoch 4/5, Train Loss: 1.2290, Train Accuracy: 19.21%, Validation Loss: 1.2123, Validation Accuracy: 19.31\n"
          ]
        },
        {
          "output_type": "stream",
          "name": "stderr",
          "text": [
            "\r 33%|███▎      | 36/108 [02:32<03:28,  2.90s/it]"
          ]
        },
        {
          "output_type": "stream",
          "name": "stdout",
          "text": [
            "Epoch 5/5, Train Loss: 1.2286, Train Accuracy: 18.96%, Validation Loss: 1.2112, Validation Accuracy: 19.63\n",
            "Hyperparameters: LR=0.001, Optimizer=SGD, Loss=FocalLoss, Batch Size=128, Embedding Dim=300, Test Loss: 1.2084, Test Accuracy: 20.97\n",
            "Epoch 1/5, Train Loss: 1.7546, Train Accuracy: 20.37%, Validation Loss: 1.7238, Validation Accuracy: 23.29\n",
            "Epoch 2/5, Train Loss: 1.6961, Train Accuracy: 25.27%, Validation Loss: 1.7050, Validation Accuracy: 23.75\n",
            "Epoch 3/5, Train Loss: 1.6549, Train Accuracy: 28.15%, Validation Loss: 1.7027, Validation Accuracy: 24.69\n",
            "Epoch 4/5, Train Loss: 1.6082, Train Accuracy: 31.39%, Validation Loss: 1.7133, Validation Accuracy: 25.08\n"
          ]
        },
        {
          "output_type": "stream",
          "name": "stderr",
          "text": [
            "\r 34%|███▍      | 37/108 [02:37<04:23,  3.71s/it]"
          ]
        },
        {
          "output_type": "stream",
          "name": "stdout",
          "text": [
            "Epoch 5/5, Train Loss: 1.5566, Train Accuracy: 33.80%, Validation Loss: 1.7332, Validation Accuracy: 23.36\n",
            "Hyperparameters: LR=0.001, Optimizer=RMSprop, Loss=CrossEntropyLoss, Batch Size=32, Embedding Dim=100, Test Loss: 1.7023, Test Accuracy: 25.95\n",
            "Epoch 1/5, Train Loss: 1.7537, Train Accuracy: 21.12%, Validation Loss: 1.7105, Validation Accuracy: 23.52\n",
            "Epoch 2/5, Train Loss: 1.6871, Train Accuracy: 26.51%, Validation Loss: 1.6871, Validation Accuracy: 25.62\n",
            "Epoch 3/5, Train Loss: 1.6293, Train Accuracy: 29.87%, Validation Loss: 1.6957, Validation Accuracy: 25.86\n",
            "Epoch 4/5, Train Loss: 1.5615, Train Accuracy: 33.40%, Validation Loss: 1.7207, Validation Accuracy: 26.56\n"
          ]
        },
        {
          "output_type": "stream",
          "name": "stderr",
          "text": [
            "\r 35%|███▌      | 38/108 [02:44<05:22,  4.61s/it]"
          ]
        },
        {
          "output_type": "stream",
          "name": "stdout",
          "text": [
            "Epoch 5/5, Train Loss: 1.4813, Train Accuracy: 37.49%, Validation Loss: 1.7731, Validation Accuracy: 24.84\n",
            "Hyperparameters: LR=0.001, Optimizer=RMSprop, Loss=CrossEntropyLoss, Batch Size=32, Embedding Dim=200, Test Loss: 1.7520, Test Accuracy: 25.64\n",
            "Epoch 1/5, Train Loss: 1.7626, Train Accuracy: 20.13%, Validation Loss: 1.7329, Validation Accuracy: 21.26\n",
            "Epoch 2/5, Train Loss: 1.7006, Train Accuracy: 25.53%, Validation Loss: 1.7058, Validation Accuracy: 23.68\n",
            "Epoch 3/5, Train Loss: 1.6432, Train Accuracy: 29.24%, Validation Loss: 1.6899, Validation Accuracy: 26.01\n",
            "Epoch 4/5, Train Loss: 1.5702, Train Accuracy: 34.17%, Validation Loss: 1.7047, Validation Accuracy: 24.69\n"
          ]
        },
        {
          "output_type": "stream",
          "name": "stderr",
          "text": [
            "\r 36%|███▌      | 39/108 [02:50<05:52,  5.11s/it]"
          ]
        },
        {
          "output_type": "stream",
          "name": "stdout",
          "text": [
            "Epoch 5/5, Train Loss: 1.4771, Train Accuracy: 38.45%, Validation Loss: 1.7525, Validation Accuracy: 26.64\n",
            "Hyperparameters: LR=0.001, Optimizer=RMSprop, Loss=CrossEntropyLoss, Batch Size=32, Embedding Dim=300, Test Loss: 1.7155, Test Accuracy: 26.66\n",
            "Epoch 1/5, Train Loss: 1.7542, Train Accuracy: 20.25%, Validation Loss: 1.7242, Validation Accuracy: 22.04\n",
            "Epoch 2/5, Train Loss: 1.6983, Train Accuracy: 25.65%, Validation Loss: 1.6945, Validation Accuracy: 25.08\n",
            "Epoch 3/5, Train Loss: 1.6561, Train Accuracy: 28.34%, Validation Loss: 1.6869, Validation Accuracy: 24.92\n",
            "Epoch 4/5, Train Loss: 1.6180, Train Accuracy: 30.77%, Validation Loss: 1.7113, Validation Accuracy: 26.87\n"
          ]
        },
        {
          "output_type": "stream",
          "name": "stderr",
          "text": [
            "\r 37%|███▋      | 40/108 [02:53<05:02,  4.45s/it]"
          ]
        },
        {
          "output_type": "stream",
          "name": "stdout",
          "text": [
            "Epoch 5/5, Train Loss: 1.5758, Train Accuracy: 32.62%, Validation Loss: 1.7257, Validation Accuracy: 26.25\n",
            "Hyperparameters: LR=0.001, Optimizer=RMSprop, Loss=CrossEntropyLoss, Batch Size=64, Embedding Dim=100, Test Loss: 1.7055, Test Accuracy: 25.88\n",
            "Epoch 1/5, Train Loss: 1.7605, Train Accuracy: 20.91%, Validation Loss: 1.7391, Validation Accuracy: 20.09\n",
            "Epoch 2/5, Train Loss: 1.7023, Train Accuracy: 26.29%, Validation Loss: 1.7075, Validation Accuracy: 22.59\n",
            "Epoch 3/5, Train Loss: 1.6560, Train Accuracy: 29.08%, Validation Loss: 1.6934, Validation Accuracy: 23.68\n",
            "Epoch 4/5, Train Loss: 1.5977, Train Accuracy: 32.38%, Validation Loss: 1.7027, Validation Accuracy: 25.55\n"
          ]
        },
        {
          "output_type": "stream",
          "name": "stderr",
          "text": [
            "\r 38%|███▊      | 41/108 [02:57<04:50,  4.34s/it]"
          ]
        },
        {
          "output_type": "stream",
          "name": "stdout",
          "text": [
            "Epoch 5/5, Train Loss: 1.5319, Train Accuracy: 35.98%, Validation Loss: 1.7431, Validation Accuracy: 25.16\n",
            "Hyperparameters: LR=0.001, Optimizer=RMSprop, Loss=CrossEntropyLoss, Batch Size=64, Embedding Dim=200, Test Loss: 1.7137, Test Accuracy: 24.63\n",
            "Epoch 1/5, Train Loss: 1.7672, Train Accuracy: 20.10%, Validation Loss: 1.7355, Validation Accuracy: 20.79\n",
            "Epoch 2/5, Train Loss: 1.7047, Train Accuracy: 25.46%, Validation Loss: 1.7037, Validation Accuracy: 24.07\n",
            "Epoch 3/5, Train Loss: 1.6542, Train Accuracy: 29.66%, Validation Loss: 1.6884, Validation Accuracy: 25.47\n",
            "Epoch 4/5, Train Loss: 1.5895, Train Accuracy: 32.22%, Validation Loss: 1.7067, Validation Accuracy: 25.23\n"
          ]
        },
        {
          "output_type": "stream",
          "name": "stderr",
          "text": [
            "\r 39%|███▉      | 42/108 [03:01<04:42,  4.27s/it]"
          ]
        },
        {
          "output_type": "stream",
          "name": "stdout",
          "text": [
            "Epoch 5/5, Train Loss: 1.5103, Train Accuracy: 36.67%, Validation Loss: 1.7466, Validation Accuracy: 23.75\n",
            "Hyperparameters: LR=0.001, Optimizer=RMSprop, Loss=CrossEntropyLoss, Batch Size=64, Embedding Dim=300, Test Loss: 1.7179, Test Accuracy: 26.66\n",
            "Epoch 1/5, Train Loss: 1.7564, Train Accuracy: 21.01%, Validation Loss: 1.7390, Validation Accuracy: 21.57\n",
            "Epoch 2/5, Train Loss: 1.7007, Train Accuracy: 25.36%, Validation Loss: 1.7122, Validation Accuracy: 22.27\n",
            "Epoch 3/5, Train Loss: 1.6644, Train Accuracy: 28.15%, Validation Loss: 1.7012, Validation Accuracy: 23.83\n",
            "Epoch 4/5, Train Loss: 1.6276, Train Accuracy: 30.47%, Validation Loss: 1.7088, Validation Accuracy: 24.14\n"
          ]
        },
        {
          "output_type": "stream",
          "name": "stderr",
          "text": [
            "\r 40%|███▉      | 43/108 [03:03<03:52,  3.58s/it]"
          ]
        },
        {
          "output_type": "stream",
          "name": "stdout",
          "text": [
            "Epoch 5/5, Train Loss: 1.5855, Train Accuracy: 32.90%, Validation Loss: 1.7321, Validation Accuracy: 24.69\n",
            "Hyperparameters: LR=0.001, Optimizer=RMSprop, Loss=CrossEntropyLoss, Batch Size=128, Embedding Dim=100, Test Loss: 1.7153, Test Accuracy: 25.41\n",
            "Epoch 1/5, Train Loss: 1.7616, Train Accuracy: 21.04%, Validation Loss: 1.7406, Validation Accuracy: 19.78\n",
            "Epoch 2/5, Train Loss: 1.7087, Train Accuracy: 25.23%, Validation Loss: 1.7065, Validation Accuracy: 22.74\n",
            "Epoch 3/5, Train Loss: 1.6653, Train Accuracy: 27.91%, Validation Loss: 1.6880, Validation Accuracy: 24.69\n",
            "Epoch 4/5, Train Loss: 1.6173, Train Accuracy: 31.07%, Validation Loss: 1.6935, Validation Accuracy: 23.91\n"
          ]
        },
        {
          "output_type": "stream",
          "name": "stderr",
          "text": [
            "\r 41%|████      | 44/108 [03:05<03:25,  3.21s/it]"
          ]
        },
        {
          "output_type": "stream",
          "name": "stdout",
          "text": [
            "Epoch 5/5, Train Loss: 1.5621, Train Accuracy: 32.96%, Validation Loss: 1.7172, Validation Accuracy: 23.60\n",
            "Hyperparameters: LR=0.001, Optimizer=RMSprop, Loss=CrossEntropyLoss, Batch Size=128, Embedding Dim=200, Test Loss: 1.7180, Test Accuracy: 26.19\n",
            "Epoch 1/5, Train Loss: 1.7660, Train Accuracy: 20.39%, Validation Loss: 1.7421, Validation Accuracy: 20.87\n",
            "Epoch 2/5, Train Loss: 1.7147, Train Accuracy: 24.98%, Validation Loss: 1.7147, Validation Accuracy: 22.74\n",
            "Epoch 3/5, Train Loss: 1.6710, Train Accuracy: 27.47%, Validation Loss: 1.7062, Validation Accuracy: 24.45\n",
            "Epoch 4/5, Train Loss: 1.6163, Train Accuracy: 31.02%, Validation Loss: 1.7263, Validation Accuracy: 26.01\n"
          ]
        },
        {
          "output_type": "stream",
          "name": "stderr",
          "text": [
            "\r 42%|████▏     | 45/108 [03:08<03:14,  3.08s/it]"
          ]
        },
        {
          "output_type": "stream",
          "name": "stdout",
          "text": [
            "Epoch 5/5, Train Loss: 1.5529, Train Accuracy: 34.60%, Validation Loss: 1.7329, Validation Accuracy: 27.41\n",
            "Hyperparameters: LR=0.001, Optimizer=RMSprop, Loss=CrossEntropyLoss, Batch Size=128, Embedding Dim=300, Test Loss: 1.7311, Test Accuracy: 25.95\n",
            "Epoch 1/5, Train Loss: 1.1983, Train Accuracy: 20.91%, Validation Loss: 1.1564, Validation Accuracy: 21.81\n",
            "Epoch 2/5, Train Loss: 1.1278, Train Accuracy: 25.62%, Validation Loss: 1.1270, Validation Accuracy: 24.30\n",
            "Epoch 3/5, Train Loss: 1.0789, Train Accuracy: 28.51%, Validation Loss: 1.1313, Validation Accuracy: 27.49\n",
            "Epoch 4/5, Train Loss: 1.0233, Train Accuracy: 31.63%, Validation Loss: 1.1350, Validation Accuracy: 27.65\n"
          ]
        },
        {
          "output_type": "stream",
          "name": "stderr",
          "text": [
            "\r 43%|████▎     | 46/108 [03:15<04:15,  4.12s/it]"
          ]
        },
        {
          "output_type": "stream",
          "name": "stdout",
          "text": [
            "Epoch 5/5, Train Loss: 0.9572, Train Accuracy: 34.14%, Validation Loss: 1.2090, Validation Accuracy: 26.25\n",
            "Hyperparameters: LR=0.001, Optimizer=RMSprop, Loss=FocalLoss, Batch Size=32, Embedding Dim=100, Test Loss: 1.1584, Test Accuracy: 26.50\n",
            "Epoch 1/5, Train Loss: 1.2081, Train Accuracy: 20.03%, Validation Loss: 1.1845, Validation Accuracy: 20.25\n",
            "Epoch 2/5, Train Loss: 1.1374, Train Accuracy: 25.11%, Validation Loss: 1.1283, Validation Accuracy: 23.52\n",
            "Epoch 3/5, Train Loss: 1.0741, Train Accuracy: 28.46%, Validation Loss: 1.1293, Validation Accuracy: 24.77\n",
            "Epoch 4/5, Train Loss: 1.0051, Train Accuracy: 32.37%, Validation Loss: 1.1361, Validation Accuracy: 25.78\n"
          ]
        },
        {
          "output_type": "stream",
          "name": "stderr",
          "text": [
            "\r 44%|████▎     | 47/108 [03:21<04:44,  4.66s/it]"
          ]
        },
        {
          "output_type": "stream",
          "name": "stdout",
          "text": [
            "Epoch 5/5, Train Loss: 0.9197, Train Accuracy: 36.06%, Validation Loss: 1.1873, Validation Accuracy: 26.17\n",
            "Hyperparameters: LR=0.001, Optimizer=RMSprop, Loss=FocalLoss, Batch Size=32, Embedding Dim=200, Test Loss: 1.1976, Test Accuracy: 26.27\n",
            "Epoch 1/5, Train Loss: 1.2128, Train Accuracy: 20.85%, Validation Loss: 1.1789, Validation Accuracy: 21.03\n",
            "Epoch 2/5, Train Loss: 1.1378, Train Accuracy: 25.58%, Validation Loss: 1.1313, Validation Accuracy: 23.60\n",
            "Epoch 3/5, Train Loss: 1.0663, Train Accuracy: 29.49%, Validation Loss: 1.1167, Validation Accuracy: 25.55\n",
            "Epoch 4/5, Train Loss: 0.9681, Train Accuracy: 34.28%, Validation Loss: 1.1483, Validation Accuracy: 25.16\n"
          ]
        },
        {
          "output_type": "stream",
          "name": "stderr",
          "text": [
            "\r 44%|████▍     | 48/108 [03:28<05:28,  5.48s/it]"
          ]
        },
        {
          "output_type": "stream",
          "name": "stdout",
          "text": [
            "Epoch 5/5, Train Loss: 0.8647, Train Accuracy: 39.67%, Validation Loss: 1.1784, Validation Accuracy: 24.77\n",
            "Hyperparameters: LR=0.001, Optimizer=RMSprop, Loss=FocalLoss, Batch Size=32, Embedding Dim=300, Test Loss: 1.1906, Test Accuracy: 26.19\n",
            "Epoch 1/5, Train Loss: 1.1970, Train Accuracy: 20.95%, Validation Loss: 1.1574, Validation Accuracy: 22.51\n",
            "Epoch 2/5, Train Loss: 1.1314, Train Accuracy: 25.37%, Validation Loss: 1.1519, Validation Accuracy: 22.90\n",
            "Epoch 3/5, Train Loss: 1.0851, Train Accuracy: 27.96%, Validation Loss: 1.1289, Validation Accuracy: 25.39\n",
            "Epoch 4/5, Train Loss: 1.0356, Train Accuracy: 30.46%, Validation Loss: 1.1313, Validation Accuracy: 25.93\n"
          ]
        },
        {
          "output_type": "stream",
          "name": "stderr",
          "text": [
            "\r 45%|████▌     | 49/108 [03:31<04:45,  4.84s/it]"
          ]
        },
        {
          "output_type": "stream",
          "name": "stdout",
          "text": [
            "Epoch 5/5, Train Loss: 0.9867, Train Accuracy: 32.86%, Validation Loss: 1.1990, Validation Accuracy: 25.08\n",
            "Hyperparameters: LR=0.001, Optimizer=RMSprop, Loss=FocalLoss, Batch Size=64, Embedding Dim=100, Test Loss: 1.1844, Test Accuracy: 25.88\n",
            "Epoch 1/5, Train Loss: 1.2077, Train Accuracy: 20.60%, Validation Loss: 1.1800, Validation Accuracy: 21.34\n",
            "Epoch 2/5, Train Loss: 1.1409, Train Accuracy: 25.82%, Validation Loss: 1.1193, Validation Accuracy: 25.62\n",
            "Epoch 3/5, Train Loss: 1.0754, Train Accuracy: 29.17%, Validation Loss: 1.1116, Validation Accuracy: 26.09\n",
            "Epoch 4/5, Train Loss: 1.0050, Train Accuracy: 32.74%, Validation Loss: 1.1360, Validation Accuracy: 26.79\n"
          ]
        },
        {
          "output_type": "stream",
          "name": "stderr",
          "text": [
            "\r 46%|████▋     | 50/108 [03:35<04:18,  4.46s/it]"
          ]
        },
        {
          "output_type": "stream",
          "name": "stdout",
          "text": [
            "Epoch 5/5, Train Loss: 0.9212, Train Accuracy: 36.07%, Validation Loss: 1.1415, Validation Accuracy: 26.17\n",
            "Hyperparameters: LR=0.001, Optimizer=RMSprop, Loss=FocalLoss, Batch Size=64, Embedding Dim=200, Test Loss: 1.1463, Test Accuracy: 28.37\n",
            "Epoch 1/5, Train Loss: 1.2109, Train Accuracy: 20.50%, Validation Loss: 1.1805, Validation Accuracy: 20.87\n",
            "Epoch 2/5, Train Loss: 1.1382, Train Accuracy: 26.08%, Validation Loss: 1.1440, Validation Accuracy: 23.91\n",
            "Epoch 3/5, Train Loss: 1.0802, Train Accuracy: 29.06%, Validation Loss: 1.1356, Validation Accuracy: 26.32\n",
            "Epoch 4/5, Train Loss: 1.0168, Train Accuracy: 32.16%, Validation Loss: 1.1563, Validation Accuracy: 26.09\n"
          ]
        },
        {
          "output_type": "stream",
          "name": "stderr",
          "text": [
            "\r 47%|████▋     | 51/108 [03:39<04:06,  4.32s/it]"
          ]
        },
        {
          "output_type": "stream",
          "name": "stdout",
          "text": [
            "Epoch 5/5, Train Loss: 0.9259, Train Accuracy: 36.34%, Validation Loss: 1.2092, Validation Accuracy: 27.18\n",
            "Hyperparameters: LR=0.001, Optimizer=RMSprop, Loss=FocalLoss, Batch Size=64, Embedding Dim=300, Test Loss: 1.2118, Test Accuracy: 24.86\n",
            "Epoch 1/5, Train Loss: 1.1952, Train Accuracy: 21.14%, Validation Loss: 1.1699, Validation Accuracy: 22.27\n",
            "Epoch 2/5, Train Loss: 1.1358, Train Accuracy: 25.05%, Validation Loss: 1.1326, Validation Accuracy: 25.86\n",
            "Epoch 3/5, Train Loss: 1.0957, Train Accuracy: 27.52%, Validation Loss: 1.1234, Validation Accuracy: 25.47\n",
            "Epoch 4/5, Train Loss: 1.0563, Train Accuracy: 29.19%, Validation Loss: 1.1339, Validation Accuracy: 24.92\n"
          ]
        },
        {
          "output_type": "stream",
          "name": "stderr",
          "text": [
            "\r 48%|████▊     | 52/108 [03:41<03:30,  3.75s/it]"
          ]
        },
        {
          "output_type": "stream",
          "name": "stdout",
          "text": [
            "Epoch 5/5, Train Loss: 1.0132, Train Accuracy: 31.59%, Validation Loss: 1.1380, Validation Accuracy: 23.21\n",
            "Hyperparameters: LR=0.001, Optimizer=RMSprop, Loss=FocalLoss, Batch Size=128, Embedding Dim=100, Test Loss: 1.1353, Test Accuracy: 26.34\n",
            "Epoch 1/5, Train Loss: 1.2023, Train Accuracy: 20.76%, Validation Loss: 1.1735, Validation Accuracy: 21.50\n",
            "Epoch 2/5, Train Loss: 1.1418, Train Accuracy: 25.68%, Validation Loss: 1.1276, Validation Accuracy: 24.53\n",
            "Epoch 3/5, Train Loss: 1.0865, Train Accuracy: 28.10%, Validation Loss: 1.1141, Validation Accuracy: 25.78\n",
            "Epoch 4/5, Train Loss: 1.0266, Train Accuracy: 30.67%, Validation Loss: 1.1154, Validation Accuracy: 26.40\n"
          ]
        },
        {
          "output_type": "stream",
          "name": "stderr",
          "text": [
            "\r 49%|████▉     | 53/108 [03:44<03:11,  3.49s/it]"
          ]
        },
        {
          "output_type": "stream",
          "name": "stdout",
          "text": [
            "Epoch 5/5, Train Loss: 0.9642, Train Accuracy: 34.51%, Validation Loss: 1.1550, Validation Accuracy: 27.49\n",
            "Hyperparameters: LR=0.001, Optimizer=RMSprop, Loss=FocalLoss, Batch Size=128, Embedding Dim=200, Test Loss: 1.2184, Test Accuracy: 26.34\n",
            "Epoch 1/5, Train Loss: 1.2111, Train Accuracy: 20.35%, Validation Loss: 1.1812, Validation Accuracy: 21.57\n",
            "Epoch 2/5, Train Loss: 1.1475, Train Accuracy: 24.35%, Validation Loss: 1.1461, Validation Accuracy: 22.90\n",
            "Epoch 3/5, Train Loss: 1.0952, Train Accuracy: 28.14%, Validation Loss: 1.1380, Validation Accuracy: 23.91\n",
            "Epoch 4/5, Train Loss: 1.0396, Train Accuracy: 31.06%, Validation Loss: 1.1364, Validation Accuracy: 26.64\n"
          ]
        },
        {
          "output_type": "stream",
          "name": "stderr",
          "text": [
            "\r 50%|█████     | 54/108 [03:47<02:58,  3.31s/it]"
          ]
        },
        {
          "output_type": "stream",
          "name": "stdout",
          "text": [
            "Epoch 5/5, Train Loss: 0.9665, Train Accuracy: 34.05%, Validation Loss: 1.1536, Validation Accuracy: 26.25\n",
            "Hyperparameters: LR=0.001, Optimizer=RMSprop, Loss=FocalLoss, Batch Size=128, Embedding Dim=300, Test Loss: 1.1730, Test Accuracy: 26.66\n",
            "Epoch 1/5, Train Loss: 1.7705, Train Accuracy: 21.47%, Validation Loss: 1.7249, Validation Accuracy: 23.29\n",
            "Epoch 2/5, Train Loss: 1.7254, Train Accuracy: 23.65%, Validation Loss: 1.7072, Validation Accuracy: 23.36\n",
            "Epoch 3/5, Train Loss: 1.6924, Train Accuracy: 25.82%, Validation Loss: 1.6992, Validation Accuracy: 25.39\n",
            "Epoch 4/5, Train Loss: 1.6487, Train Accuracy: 28.50%, Validation Loss: 1.7219, Validation Accuracy: 24.30\n"
          ]
        },
        {
          "output_type": "stream",
          "name": "stderr",
          "text": [
            "\r 51%|█████     | 55/108 [03:52<03:26,  3.89s/it]"
          ]
        },
        {
          "output_type": "stream",
          "name": "stdout",
          "text": [
            "Epoch 5/5, Train Loss: 1.6349, Train Accuracy: 28.91%, Validation Loss: 1.7338, Validation Accuracy: 24.77\n",
            "Hyperparameters: LR=0.01, Optimizer=Adam, Loss=CrossEntropyLoss, Batch Size=32, Embedding Dim=100, Test Loss: 1.7353, Test Accuracy: 25.25\n",
            "Epoch 1/5, Train Loss: 1.7861, Train Accuracy: 20.18%, Validation Loss: 1.7479, Validation Accuracy: 20.64\n",
            "Epoch 2/5, Train Loss: 1.7522, Train Accuracy: 22.38%, Validation Loss: 1.7224, Validation Accuracy: 22.20\n",
            "Epoch 3/5, Train Loss: 1.7302, Train Accuracy: 23.70%, Validation Loss: 1.7410, Validation Accuracy: 21.96\n",
            "Epoch 4/5, Train Loss: 1.7094, Train Accuracy: 24.99%, Validation Loss: 1.7328, Validation Accuracy: 23.60\n"
          ]
        },
        {
          "output_type": "stream",
          "name": "stderr",
          "text": [
            "\r 52%|█████▏    | 56/108 [04:00<04:11,  4.84s/it]"
          ]
        },
        {
          "output_type": "stream",
          "name": "stdout",
          "text": [
            "Epoch 5/5, Train Loss: 1.7002, Train Accuracy: 25.98%, Validation Loss: 1.7217, Validation Accuracy: 23.36\n",
            "Hyperparameters: LR=0.01, Optimizer=Adam, Loss=CrossEntropyLoss, Batch Size=32, Embedding Dim=200, Test Loss: 1.7120, Test Accuracy: 25.25\n",
            "Epoch 1/5, Train Loss: 1.8032, Train Accuracy: 20.20%, Validation Loss: 1.7609, Validation Accuracy: 21.18\n",
            "Epoch 2/5, Train Loss: 1.7812, Train Accuracy: 20.81%, Validation Loss: 1.7512, Validation Accuracy: 20.64\n",
            "Epoch 3/5, Train Loss: 1.7537, Train Accuracy: 23.40%, Validation Loss: 1.7429, Validation Accuracy: 20.79\n",
            "Epoch 4/5, Train Loss: 1.7485, Train Accuracy: 23.53%, Validation Loss: 1.7617, Validation Accuracy: 21.88\n"
          ]
        },
        {
          "output_type": "stream",
          "name": "stderr",
          "text": [
            "\r 53%|█████▎    | 57/108 [04:07<04:44,  5.58s/it]"
          ]
        },
        {
          "output_type": "stream",
          "name": "stdout",
          "text": [
            "Epoch 5/5, Train Loss: 1.7335, Train Accuracy: 24.79%, Validation Loss: 1.7517, Validation Accuracy: 23.75\n",
            "Hyperparameters: LR=0.01, Optimizer=Adam, Loss=CrossEntropyLoss, Batch Size=32, Embedding Dim=300, Test Loss: 1.7310, Test Accuracy: 22.99\n",
            "Epoch 1/5, Train Loss: 1.7551, Train Accuracy: 21.65%, Validation Loss: 1.7072, Validation Accuracy: 23.60\n",
            "Epoch 2/5, Train Loss: 1.6984, Train Accuracy: 25.88%, Validation Loss: 1.6989, Validation Accuracy: 25.62\n",
            "Epoch 3/5, Train Loss: 1.6462, Train Accuracy: 28.78%, Validation Loss: 1.7091, Validation Accuracy: 24.69\n",
            "Epoch 4/5, Train Loss: 1.5650, Train Accuracy: 33.09%, Validation Loss: 1.7433, Validation Accuracy: 24.53\n"
          ]
        },
        {
          "output_type": "stream",
          "name": "stderr",
          "text": [
            "\r 54%|█████▎    | 58/108 [04:10<04:01,  4.83s/it]"
          ]
        },
        {
          "output_type": "stream",
          "name": "stdout",
          "text": [
            "Epoch 5/5, Train Loss: 1.4985, Train Accuracy: 35.61%, Validation Loss: 1.7811, Validation Accuracy: 25.55\n",
            "Hyperparameters: LR=0.01, Optimizer=Adam, Loss=CrossEntropyLoss, Batch Size=64, Embedding Dim=100, Test Loss: 1.7774, Test Accuracy: 24.55\n",
            "Epoch 1/5, Train Loss: 1.7775, Train Accuracy: 21.15%, Validation Loss: 1.7180, Validation Accuracy: 22.98\n",
            "Epoch 2/5, Train Loss: 1.7306, Train Accuracy: 24.00%, Validation Loss: 1.7275, Validation Accuracy: 21.73\n",
            "Epoch 3/5, Train Loss: 1.6984, Train Accuracy: 25.98%, Validation Loss: 1.7208, Validation Accuracy: 22.74\n",
            "Epoch 4/5, Train Loss: 1.6621, Train Accuracy: 27.54%, Validation Loss: 1.7177, Validation Accuracy: 25.86\n"
          ]
        },
        {
          "output_type": "stream",
          "name": "stderr",
          "text": [
            "\r 55%|█████▍    | 59/108 [04:14<03:48,  4.67s/it]"
          ]
        },
        {
          "output_type": "stream",
          "name": "stdout",
          "text": [
            "Epoch 5/5, Train Loss: 1.6051, Train Accuracy: 30.44%, Validation Loss: 1.7554, Validation Accuracy: 23.60\n",
            "Hyperparameters: LR=0.01, Optimizer=Adam, Loss=CrossEntropyLoss, Batch Size=64, Embedding Dim=200, Test Loss: 1.7637, Test Accuracy: 23.62\n",
            "Epoch 1/5, Train Loss: 1.7855, Train Accuracy: 20.02%, Validation Loss: 1.7441, Validation Accuracy: 22.12\n",
            "Epoch 2/5, Train Loss: 1.7506, Train Accuracy: 22.52%, Validation Loss: 1.7324, Validation Accuracy: 21.81\n",
            "Epoch 3/5, Train Loss: 1.7191, Train Accuracy: 24.87%, Validation Loss: 1.7428, Validation Accuracy: 20.79\n",
            "Epoch 4/5, Train Loss: 1.6976, Train Accuracy: 25.95%, Validation Loss: 1.7291, Validation Accuracy: 23.29\n"
          ]
        },
        {
          "output_type": "stream",
          "name": "stderr",
          "text": [
            "\r 56%|█████▌    | 60/108 [04:19<03:42,  4.63s/it]"
          ]
        },
        {
          "output_type": "stream",
          "name": "stdout",
          "text": [
            "Epoch 5/5, Train Loss: 1.6805, Train Accuracy: 27.52%, Validation Loss: 1.7387, Validation Accuracy: 22.12\n",
            "Hyperparameters: LR=0.01, Optimizer=Adam, Loss=CrossEntropyLoss, Batch Size=64, Embedding Dim=300, Test Loss: 1.7276, Test Accuracy: 25.80\n",
            "Epoch 1/5, Train Loss: 1.7504, Train Accuracy: 21.18%, Validation Loss: 1.7237, Validation Accuracy: 21.57\n",
            "Epoch 2/5, Train Loss: 1.6846, Train Accuracy: 25.99%, Validation Loss: 1.7176, Validation Accuracy: 25.39\n",
            "Epoch 3/5, Train Loss: 1.6126, Train Accuracy: 29.80%, Validation Loss: 1.7240, Validation Accuracy: 25.47\n",
            "Epoch 4/5, Train Loss: 1.5218, Train Accuracy: 35.13%, Validation Loss: 1.7788, Validation Accuracy: 23.44\n"
          ]
        },
        {
          "output_type": "stream",
          "name": "stderr",
          "text": [
            "\r 56%|█████▋    | 61/108 [04:21<03:00,  3.84s/it]"
          ]
        },
        {
          "output_type": "stream",
          "name": "stdout",
          "text": [
            "Epoch 5/5, Train Loss: 1.4234, Train Accuracy: 38.78%, Validation Loss: 1.8707, Validation Accuracy: 23.68\n",
            "Hyperparameters: LR=0.01, Optimizer=Adam, Loss=CrossEntropyLoss, Batch Size=128, Embedding Dim=100, Test Loss: 1.9065, Test Accuracy: 25.72\n",
            "Epoch 1/5, Train Loss: 1.7741, Train Accuracy: 20.45%, Validation Loss: 1.7236, Validation Accuracy: 22.51\n",
            "Epoch 2/5, Train Loss: 1.7165, Train Accuracy: 24.35%, Validation Loss: 1.7231, Validation Accuracy: 23.60\n",
            "Epoch 3/5, Train Loss: 1.6692, Train Accuracy: 27.58%, Validation Loss: 1.7109, Validation Accuracy: 25.70\n",
            "Epoch 4/5, Train Loss: 1.6073, Train Accuracy: 30.73%, Validation Loss: 1.7356, Validation Accuracy: 25.31\n"
          ]
        },
        {
          "output_type": "stream",
          "name": "stderr",
          "text": [
            "\r 57%|█████▋    | 62/108 [04:23<02:37,  3.42s/it]"
          ]
        },
        {
          "output_type": "stream",
          "name": "stdout",
          "text": [
            "Epoch 5/5, Train Loss: 1.5398, Train Accuracy: 34.45%, Validation Loss: 1.7653, Validation Accuracy: 23.99\n",
            "Hyperparameters: LR=0.01, Optimizer=Adam, Loss=CrossEntropyLoss, Batch Size=128, Embedding Dim=200, Test Loss: 1.7380, Test Accuracy: 25.95\n",
            "Epoch 1/5, Train Loss: 1.7806, Train Accuracy: 19.72%, Validation Loss: 1.7379, Validation Accuracy: 22.90\n",
            "Epoch 2/5, Train Loss: 1.7281, Train Accuracy: 23.63%, Validation Loss: 1.7134, Validation Accuracy: 23.05\n",
            "Epoch 3/5, Train Loss: 1.6801, Train Accuracy: 27.21%, Validation Loss: 1.7583, Validation Accuracy: 21.26\n",
            "Epoch 4/5, Train Loss: 1.6351, Train Accuracy: 30.83%, Validation Loss: 1.7122, Validation Accuracy: 24.92\n"
          ]
        },
        {
          "output_type": "stream",
          "name": "stderr",
          "text": [
            "\r 58%|█████▊    | 63/108 [04:26<02:28,  3.29s/it]"
          ]
        },
        {
          "output_type": "stream",
          "name": "stdout",
          "text": [
            "Epoch 5/5, Train Loss: 1.5961, Train Accuracy: 31.74%, Validation Loss: 1.7267, Validation Accuracy: 24.38\n",
            "Hyperparameters: LR=0.01, Optimizer=Adam, Loss=CrossEntropyLoss, Batch Size=128, Embedding Dim=300, Test Loss: 1.7262, Test Accuracy: 24.40\n",
            "Epoch 1/5, Train Loss: 1.2120, Train Accuracy: 21.39%, Validation Loss: 1.1527, Validation Accuracy: 24.14\n",
            "Epoch 2/5, Train Loss: 1.1561, Train Accuracy: 23.90%, Validation Loss: 1.1505, Validation Accuracy: 24.61\n",
            "Epoch 3/5, Train Loss: 1.1042, Train Accuracy: 26.72%, Validation Loss: 1.1612, Validation Accuracy: 24.30\n",
            "Epoch 4/5, Train Loss: 1.0464, Train Accuracy: 28.96%, Validation Loss: 1.1544, Validation Accuracy: 25.47\n"
          ]
        },
        {
          "output_type": "stream",
          "name": "stderr",
          "text": [
            "\r 59%|█████▉    | 64/108 [04:33<03:11,  4.35s/it]"
          ]
        },
        {
          "output_type": "stream",
          "name": "stdout",
          "text": [
            "Epoch 5/5, Train Loss: 1.0082, Train Accuracy: 30.78%, Validation Loss: 1.2056, Validation Accuracy: 23.83\n",
            "Hyperparameters: LR=0.01, Optimizer=Adam, Loss=FocalLoss, Batch Size=32, Embedding Dim=100, Test Loss: 1.2042, Test Accuracy: 23.30\n",
            "Epoch 1/5, Train Loss: 1.2319, Train Accuracy: 20.30%, Validation Loss: 1.1796, Validation Accuracy: 21.65\n",
            "Epoch 2/5, Train Loss: 1.1912, Train Accuracy: 22.64%, Validation Loss: 1.1631, Validation Accuracy: 22.20\n",
            "Epoch 3/5, Train Loss: 1.1667, Train Accuracy: 23.71%, Validation Loss: 1.1508, Validation Accuracy: 24.84\n",
            "Epoch 4/5, Train Loss: 1.1588, Train Accuracy: 23.91%, Validation Loss: 1.1512, Validation Accuracy: 24.30\n"
          ]
        },
        {
          "output_type": "stream",
          "name": "stderr",
          "text": [
            "\r 60%|██████    | 65/108 [04:40<03:35,  5.01s/it]"
          ]
        },
        {
          "output_type": "stream",
          "name": "stdout",
          "text": [
            "Epoch 5/5, Train Loss: 1.1331, Train Accuracy: 24.92%, Validation Loss: 1.1553, Validation Accuracy: 22.82\n",
            "Hyperparameters: LR=0.01, Optimizer=Adam, Loss=FocalLoss, Batch Size=32, Embedding Dim=200, Test Loss: 1.1555, Test Accuracy: 22.92\n",
            "Epoch 1/5, Train Loss: 1.2496, Train Accuracy: 19.60%, Validation Loss: 1.2112, Validation Accuracy: 21.03\n",
            "Epoch 2/5, Train Loss: 1.2184, Train Accuracy: 22.10%, Validation Loss: 1.2072, Validation Accuracy: 22.43\n",
            "Epoch 3/5, Train Loss: 1.2074, Train Accuracy: 22.26%, Validation Loss: 1.1869, Validation Accuracy: 21.81\n",
            "Epoch 4/5, Train Loss: 1.1910, Train Accuracy: 23.43%, Validation Loss: 1.1846, Validation Accuracy: 21.03\n"
          ]
        },
        {
          "output_type": "stream",
          "name": "stderr",
          "text": [
            "\r 61%|██████    | 66/108 [04:48<04:12,  6.01s/it]"
          ]
        },
        {
          "output_type": "stream",
          "name": "stdout",
          "text": [
            "Epoch 5/5, Train Loss: 1.1801, Train Accuracy: 24.88%, Validation Loss: 1.2001, Validation Accuracy: 20.17\n",
            "Hyperparameters: LR=0.01, Optimizer=Adam, Loss=FocalLoss, Batch Size=32, Embedding Dim=300, Test Loss: 1.1761, Test Accuracy: 23.07\n",
            "Epoch 1/5, Train Loss: 1.2001, Train Accuracy: 21.40%, Validation Loss: 1.1377, Validation Accuracy: 24.38\n",
            "Epoch 2/5, Train Loss: 1.1348, Train Accuracy: 25.58%, Validation Loss: 1.1433, Validation Accuracy: 24.45\n",
            "Epoch 3/5, Train Loss: 1.0698, Train Accuracy: 28.64%, Validation Loss: 1.1580, Validation Accuracy: 23.68\n",
            "Epoch 4/5, Train Loss: 0.9813, Train Accuracy: 32.10%, Validation Loss: 1.2276, Validation Accuracy: 24.69\n"
          ]
        },
        {
          "output_type": "stream",
          "name": "stderr",
          "text": [
            "\r 62%|██████▏   | 67/108 [04:51<03:33,  5.20s/it]"
          ]
        },
        {
          "output_type": "stream",
          "name": "stdout",
          "text": [
            "Epoch 5/5, Train Loss: 0.8971, Train Accuracy: 35.69%, Validation Loss: 1.2945, Validation Accuracy: 25.16\n",
            "Hyperparameters: LR=0.01, Optimizer=Adam, Loss=FocalLoss, Batch Size=64, Embedding Dim=100, Test Loss: 1.3241, Test Accuracy: 25.33\n",
            "Epoch 1/5, Train Loss: 1.2141, Train Accuracy: 20.78%, Validation Loss: 1.1485, Validation Accuracy: 21.88\n",
            "Epoch 2/5, Train Loss: 1.1587, Train Accuracy: 24.08%, Validation Loss: 1.1656, Validation Accuracy: 22.82\n",
            "Epoch 3/5, Train Loss: 1.0984, Train Accuracy: 27.28%, Validation Loss: 1.1733, Validation Accuracy: 24.38\n",
            "Epoch 4/5, Train Loss: 1.0356, Train Accuracy: 30.34%, Validation Loss: 1.2040, Validation Accuracy: 23.29\n"
          ]
        },
        {
          "output_type": "stream",
          "name": "stderr",
          "text": [
            "\r 63%|██████▎   | 68/108 [04:55<03:11,  4.79s/it]"
          ]
        },
        {
          "output_type": "stream",
          "name": "stdout",
          "text": [
            "Epoch 5/5, Train Loss: 0.9881, Train Accuracy: 31.18%, Validation Loss: 1.2138, Validation Accuracy: 22.82\n",
            "Hyperparameters: LR=0.01, Optimizer=Adam, Loss=FocalLoss, Batch Size=64, Embedding Dim=200, Test Loss: 1.2028, Test Accuracy: 23.93\n",
            "Epoch 1/5, Train Loss: 1.2399, Train Accuracy: 20.79%, Validation Loss: 1.1944, Validation Accuracy: 19.31\n",
            "Epoch 2/5, Train Loss: 1.1963, Train Accuracy: 22.69%, Validation Loss: 1.1601, Validation Accuracy: 23.60\n",
            "Epoch 3/5, Train Loss: 1.1557, Train Accuracy: 24.59%, Validation Loss: 1.1645, Validation Accuracy: 24.45\n",
            "Epoch 4/5, Train Loss: 1.1328, Train Accuracy: 26.36%, Validation Loss: 1.1780, Validation Accuracy: 23.44\n"
          ]
        },
        {
          "output_type": "stream",
          "name": "stderr",
          "text": [
            "\r 64%|██████▍   | 69/108 [05:00<03:07,  4.81s/it]"
          ]
        },
        {
          "output_type": "stream",
          "name": "stdout",
          "text": [
            "Epoch 5/5, Train Loss: 1.1068, Train Accuracy: 27.65%, Validation Loss: 1.1636, Validation Accuracy: 23.29\n",
            "Hyperparameters: LR=0.01, Optimizer=Adam, Loss=FocalLoss, Batch Size=64, Embedding Dim=300, Test Loss: 1.1973, Test Accuracy: 23.38\n",
            "Epoch 1/5, Train Loss: 1.2060, Train Accuracy: 21.26%, Validation Loss: 1.1696, Validation Accuracy: 23.60\n",
            "Epoch 2/5, Train Loss: 1.1263, Train Accuracy: 25.23%, Validation Loss: 1.1281, Validation Accuracy: 25.31\n",
            "Epoch 3/5, Train Loss: 1.0526, Train Accuracy: 29.47%, Validation Loss: 1.1633, Validation Accuracy: 23.91\n",
            "Epoch 4/5, Train Loss: 0.9323, Train Accuracy: 34.71%, Validation Loss: 1.2760, Validation Accuracy: 26.71\n"
          ]
        },
        {
          "output_type": "stream",
          "name": "stderr",
          "text": [
            "\r 65%|██████▍   | 70/108 [05:03<02:37,  4.15s/it]"
          ]
        },
        {
          "output_type": "stream",
          "name": "stdout",
          "text": [
            "Epoch 5/5, Train Loss: 0.8326, Train Accuracy: 38.36%, Validation Loss: 1.3140, Validation Accuracy: 25.39\n",
            "Hyperparameters: LR=0.01, Optimizer=Adam, Loss=FocalLoss, Batch Size=128, Embedding Dim=100, Test Loss: 1.3115, Test Accuracy: 24.94\n",
            "Epoch 1/5, Train Loss: 1.2144, Train Accuracy: 20.75%, Validation Loss: 1.1549, Validation Accuracy: 23.36\n",
            "Epoch 2/5, Train Loss: 1.1459, Train Accuracy: 24.64%, Validation Loss: 1.1417, Validation Accuracy: 24.45\n",
            "Epoch 3/5, Train Loss: 1.0894, Train Accuracy: 28.37%, Validation Loss: 1.1448, Validation Accuracy: 25.62\n",
            "Epoch 4/5, Train Loss: 1.0079, Train Accuracy: 31.51%, Validation Loss: 1.1746, Validation Accuracy: 26.95\n"
          ]
        },
        {
          "output_type": "stream",
          "name": "stderr",
          "text": [
            "\r 66%|██████▌   | 71/108 [05:05<02:15,  3.66s/it]"
          ]
        },
        {
          "output_type": "stream",
          "name": "stdout",
          "text": [
            "Epoch 5/5, Train Loss: 0.9322, Train Accuracy: 35.63%, Validation Loss: 1.2144, Validation Accuracy: 26.64\n",
            "Hyperparameters: LR=0.01, Optimizer=Adam, Loss=FocalLoss, Batch Size=128, Embedding Dim=200, Test Loss: 1.2299, Test Accuracy: 23.23\n",
            "Epoch 1/5, Train Loss: 1.2250, Train Accuracy: 20.95%, Validation Loss: 1.1866, Validation Accuracy: 21.11\n",
            "Epoch 2/5, Train Loss: 1.1597, Train Accuracy: 24.71%, Validation Loss: 1.1352, Validation Accuracy: 23.99\n",
            "Epoch 3/5, Train Loss: 1.1095, Train Accuracy: 27.27%, Validation Loss: 1.1603, Validation Accuracy: 22.51\n",
            "Epoch 4/5, Train Loss: 1.0405, Train Accuracy: 30.47%, Validation Loss: 1.1291, Validation Accuracy: 24.30\n"
          ]
        },
        {
          "output_type": "stream",
          "name": "stderr",
          "text": [
            "\r 67%|██████▋   | 72/108 [05:08<02:04,  3.46s/it]"
          ]
        },
        {
          "output_type": "stream",
          "name": "stdout",
          "text": [
            "Epoch 5/5, Train Loss: 0.9922, Train Accuracy: 32.85%, Validation Loss: 1.1554, Validation Accuracy: 25.47\n",
            "Hyperparameters: LR=0.01, Optimizer=Adam, Loss=FocalLoss, Batch Size=128, Embedding Dim=300, Test Loss: 1.2374, Test Accuracy: 23.38\n",
            "Epoch 1/5, Train Loss: 1.7681, Train Accuracy: 19.43%, Validation Loss: 1.7570, Validation Accuracy: 22.20\n",
            "Epoch 2/5, Train Loss: 1.7633, Train Accuracy: 19.05%, Validation Loss: 1.7591, Validation Accuracy: 20.17\n",
            "Epoch 3/5, Train Loss: 1.7579, Train Accuracy: 20.07%, Validation Loss: 1.7570, Validation Accuracy: 21.34\n",
            "Epoch 4/5, Train Loss: 1.7566, Train Accuracy: 20.76%, Validation Loss: 1.7568, Validation Accuracy: 22.82\n"
          ]
        },
        {
          "output_type": "stream",
          "name": "stderr",
          "text": [
            "\r 68%|██████▊   | 73/108 [05:12<02:11,  3.76s/it]"
          ]
        },
        {
          "output_type": "stream",
          "name": "stdout",
          "text": [
            "Epoch 5/5, Train Loss: 1.7560, Train Accuracy: 20.98%, Validation Loss: 1.7546, Validation Accuracy: 21.96\n",
            "Hyperparameters: LR=0.01, Optimizer=SGD, Loss=CrossEntropyLoss, Batch Size=32, Embedding Dim=100, Test Loss: 1.7463, Test Accuracy: 20.97\n",
            "Epoch 1/5, Train Loss: 1.7749, Train Accuracy: 19.20%, Validation Loss: 1.7685, Validation Accuracy: 18.93\n",
            "Epoch 2/5, Train Loss: 1.7632, Train Accuracy: 20.52%, Validation Loss: 1.7680, Validation Accuracy: 19.00\n",
            "Epoch 3/5, Train Loss: 1.7603, Train Accuracy: 20.28%, Validation Loss: 1.7633, Validation Accuracy: 19.78\n",
            "Epoch 4/5, Train Loss: 1.7569, Train Accuracy: 20.90%, Validation Loss: 1.7666, Validation Accuracy: 18.54\n"
          ]
        },
        {
          "output_type": "stream",
          "name": "stderr",
          "text": [
            "\r 69%|██████▊   | 74/108 [05:18<02:30,  4.44s/it]"
          ]
        },
        {
          "output_type": "stream",
          "name": "stdout",
          "text": [
            "Epoch 5/5, Train Loss: 1.7562, Train Accuracy: 20.46%, Validation Loss: 1.7607, Validation Accuracy: 19.31\n",
            "Hyperparameters: LR=0.01, Optimizer=SGD, Loss=CrossEntropyLoss, Batch Size=32, Embedding Dim=200, Test Loss: 1.7439, Test Accuracy: 22.14\n",
            "Epoch 1/5, Train Loss: 1.7689, Train Accuracy: 20.05%, Validation Loss: 1.7584, Validation Accuracy: 19.63\n",
            "Epoch 2/5, Train Loss: 1.7638, Train Accuracy: 19.62%, Validation Loss: 1.7560, Validation Accuracy: 20.40\n",
            "Epoch 3/5, Train Loss: 1.7578, Train Accuracy: 20.50%, Validation Loss: 1.7547, Validation Accuracy: 20.87\n",
            "Epoch 4/5, Train Loss: 1.7555, Train Accuracy: 20.62%, Validation Loss: 1.7534, Validation Accuracy: 20.64\n"
          ]
        },
        {
          "output_type": "stream",
          "name": "stderr",
          "text": [
            "\r 69%|██████▉   | 75/108 [05:23<02:31,  4.60s/it]"
          ]
        },
        {
          "output_type": "stream",
          "name": "stdout",
          "text": [
            "Epoch 5/5, Train Loss: 1.7542, Train Accuracy: 21.44%, Validation Loss: 1.7542, Validation Accuracy: 21.34\n",
            "Hyperparameters: LR=0.01, Optimizer=SGD, Loss=CrossEntropyLoss, Batch Size=32, Embedding Dim=300, Test Loss: 1.7433, Test Accuracy: 21.67\n",
            "Epoch 1/5, Train Loss: 1.7756, Train Accuracy: 19.00%, Validation Loss: 1.7615, Validation Accuracy: 19.78\n",
            "Epoch 2/5, Train Loss: 1.7657, Train Accuracy: 20.09%, Validation Loss: 1.7584, Validation Accuracy: 20.09\n",
            "Epoch 3/5, Train Loss: 1.7643, Train Accuracy: 19.89%, Validation Loss: 1.7585, Validation Accuracy: 20.95\n",
            "Epoch 4/5, Train Loss: 1.7619, Train Accuracy: 20.03%, Validation Loss: 1.7593, Validation Accuracy: 20.33\n"
          ]
        },
        {
          "output_type": "stream",
          "name": "stderr",
          "text": [
            "\r 70%|███████   | 76/108 [05:26<02:09,  4.04s/it]"
          ]
        },
        {
          "output_type": "stream",
          "name": "stdout",
          "text": [
            "Epoch 5/5, Train Loss: 1.7616, Train Accuracy: 19.86%, Validation Loss: 1.7579, Validation Accuracy: 21.18\n",
            "Hyperparameters: LR=0.01, Optimizer=SGD, Loss=CrossEntropyLoss, Batch Size=64, Embedding Dim=100, Test Loss: 1.7485, Test Accuracy: 21.75\n",
            "Epoch 1/5, Train Loss: 1.7851, Train Accuracy: 18.31%, Validation Loss: 1.7687, Validation Accuracy: 18.46\n",
            "Epoch 2/5, Train Loss: 1.7667, Train Accuracy: 19.62%, Validation Loss: 1.7679, Validation Accuracy: 17.68\n",
            "Epoch 3/5, Train Loss: 1.7633, Train Accuracy: 20.11%, Validation Loss: 1.7654, Validation Accuracy: 18.38\n",
            "Epoch 4/5, Train Loss: 1.7647, Train Accuracy: 20.35%, Validation Loss: 1.7654, Validation Accuracy: 18.15\n"
          ]
        },
        {
          "output_type": "stream",
          "name": "stderr",
          "text": [
            "\r 71%|███████▏  | 77/108 [05:29<01:57,  3.80s/it]"
          ]
        },
        {
          "output_type": "stream",
          "name": "stdout",
          "text": [
            "Epoch 5/5, Train Loss: 1.7584, Train Accuracy: 21.52%, Validation Loss: 1.7642, Validation Accuracy: 18.07\n",
            "Hyperparameters: LR=0.01, Optimizer=SGD, Loss=CrossEntropyLoss, Batch Size=64, Embedding Dim=200, Test Loss: 1.7490, Test Accuracy: 20.73\n",
            "Epoch 1/5, Train Loss: 1.7731, Train Accuracy: 18.85%, Validation Loss: 1.7589, Validation Accuracy: 20.48\n",
            "Epoch 2/5, Train Loss: 1.7660, Train Accuracy: 20.16%, Validation Loss: 1.7609, Validation Accuracy: 20.56\n",
            "Epoch 3/5, Train Loss: 1.7616, Train Accuracy: 20.06%, Validation Loss: 1.7568, Validation Accuracy: 20.09\n",
            "Epoch 4/5, Train Loss: 1.7599, Train Accuracy: 20.05%, Validation Loss: 1.7585, Validation Accuracy: 20.09\n"
          ]
        },
        {
          "output_type": "stream",
          "name": "stderr",
          "text": [
            "\r 72%|███████▏  | 78/108 [05:33<01:54,  3.83s/it]"
          ]
        },
        {
          "output_type": "stream",
          "name": "stdout",
          "text": [
            "Epoch 5/5, Train Loss: 1.7587, Train Accuracy: 20.83%, Validation Loss: 1.7563, Validation Accuracy: 20.40\n",
            "Hyperparameters: LR=0.01, Optimizer=SGD, Loss=CrossEntropyLoss, Batch Size=64, Embedding Dim=300, Test Loss: 1.7486, Test Accuracy: 20.97\n",
            "Epoch 1/5, Train Loss: 1.7799, Train Accuracy: 18.72%, Validation Loss: 1.7629, Validation Accuracy: 17.83\n",
            "Epoch 2/5, Train Loss: 1.7681, Train Accuracy: 19.89%, Validation Loss: 1.7570, Validation Accuracy: 20.02\n",
            "Epoch 3/5, Train Loss: 1.7639, Train Accuracy: 20.26%, Validation Loss: 1.7570, Validation Accuracy: 19.63\n",
            "Epoch 4/5, Train Loss: 1.7640, Train Accuracy: 20.14%, Validation Loss: 1.7558, Validation Accuracy: 20.56\n"
          ]
        },
        {
          "output_type": "stream",
          "name": "stderr",
          "text": [
            "\r 73%|███████▎  | 79/108 [05:35<01:33,  3.24s/it]"
          ]
        },
        {
          "output_type": "stream",
          "name": "stdout",
          "text": [
            "Epoch 5/5, Train Loss: 1.7633, Train Accuracy: 20.00%, Validation Loss: 1.7558, Validation Accuracy: 20.48\n",
            "Hyperparameters: LR=0.01, Optimizer=SGD, Loss=CrossEntropyLoss, Batch Size=128, Embedding Dim=100, Test Loss: 1.7502, Test Accuracy: 21.36\n",
            "Epoch 1/5, Train Loss: 1.7871, Train Accuracy: 19.20%, Validation Loss: 1.7665, Validation Accuracy: 20.87\n",
            "Epoch 2/5, Train Loss: 1.7756, Train Accuracy: 19.03%, Validation Loss: 1.7635, Validation Accuracy: 19.31\n",
            "Epoch 3/5, Train Loss: 1.7672, Train Accuracy: 20.06%, Validation Loss: 1.7628, Validation Accuracy: 19.86\n",
            "Epoch 4/5, Train Loss: 1.7691, Train Accuracy: 19.62%, Validation Loss: 1.7618, Validation Accuracy: 20.02\n"
          ]
        },
        {
          "output_type": "stream",
          "name": "stderr",
          "text": [
            "\r 74%|███████▍  | 80/108 [05:37<01:21,  2.90s/it]"
          ]
        },
        {
          "output_type": "stream",
          "name": "stdout",
          "text": [
            "Epoch 5/5, Train Loss: 1.7663, Train Accuracy: 19.79%, Validation Loss: 1.7600, Validation Accuracy: 20.56\n",
            "Hyperparameters: LR=0.01, Optimizer=SGD, Loss=CrossEntropyLoss, Batch Size=128, Embedding Dim=200, Test Loss: 1.7486, Test Accuracy: 20.65\n",
            "Epoch 1/5, Train Loss: 1.7831, Train Accuracy: 19.28%, Validation Loss: 1.7628, Validation Accuracy: 19.39\n",
            "Epoch 2/5, Train Loss: 1.7725, Train Accuracy: 19.76%, Validation Loss: 1.7605, Validation Accuracy: 20.56\n",
            "Epoch 3/5, Train Loss: 1.7691, Train Accuracy: 19.78%, Validation Loss: 1.7687, Validation Accuracy: 19.39\n",
            "Epoch 4/5, Train Loss: 1.7681, Train Accuracy: 19.55%, Validation Loss: 1.7677, Validation Accuracy: 19.94\n"
          ]
        },
        {
          "output_type": "stream",
          "name": "stderr",
          "text": [
            "\r 75%|███████▌  | 81/108 [05:40<01:15,  2.78s/it]"
          ]
        },
        {
          "output_type": "stream",
          "name": "stdout",
          "text": [
            "Epoch 5/5, Train Loss: 1.7628, Train Accuracy: 20.90%, Validation Loss: 1.7621, Validation Accuracy: 20.17\n",
            "Hyperparameters: LR=0.01, Optimizer=SGD, Loss=CrossEntropyLoss, Batch Size=128, Embedding Dim=300, Test Loss: 1.7431, Test Accuracy: 23.38\n",
            "Epoch 1/5, Train Loss: 1.2134, Train Accuracy: 19.71%, Validation Loss: 1.2153, Validation Accuracy: 19.55\n",
            "Epoch 2/5, Train Loss: 1.2096, Train Accuracy: 20.47%, Validation Loss: 1.2077, Validation Accuracy: 19.47\n",
            "Epoch 3/5, Train Loss: 1.2080, Train Accuracy: 20.07%, Validation Loss: 1.2087, Validation Accuracy: 19.39\n",
            "Epoch 4/5, Train Loss: 1.2024, Train Accuracy: 21.14%, Validation Loss: 1.2060, Validation Accuracy: 19.78\n"
          ]
        },
        {
          "output_type": "stream",
          "name": "stderr",
          "text": [
            "\r 76%|███████▌  | 82/108 [05:45<01:32,  3.57s/it]"
          ]
        },
        {
          "output_type": "stream",
          "name": "stdout",
          "text": [
            "Epoch 5/5, Train Loss: 1.2003, Train Accuracy: 21.47%, Validation Loss: 1.2065, Validation Accuracy: 20.25\n",
            "Hyperparameters: LR=0.01, Optimizer=SGD, Loss=FocalLoss, Batch Size=32, Embedding Dim=100, Test Loss: 1.1894, Test Accuracy: 22.06\n",
            "Epoch 1/5, Train Loss: 1.2164, Train Accuracy: 19.73%, Validation Loss: 1.2053, Validation Accuracy: 19.78\n",
            "Epoch 2/5, Train Loss: 1.2065, Train Accuracy: 20.52%, Validation Loss: 1.2089, Validation Accuracy: 19.86\n",
            "Epoch 3/5, Train Loss: 1.2033, Train Accuracy: 20.37%, Validation Loss: 1.2020, Validation Accuracy: 20.72\n",
            "Epoch 4/5, Train Loss: 1.2018, Train Accuracy: 20.87%, Validation Loss: 1.2010, Validation Accuracy: 20.33\n"
          ]
        },
        {
          "output_type": "stream",
          "name": "stderr",
          "text": [
            "\r 77%|███████▋  | 83/108 [05:51<01:47,  4.30s/it]"
          ]
        },
        {
          "output_type": "stream",
          "name": "stdout",
          "text": [
            "Epoch 5/5, Train Loss: 1.1974, Train Accuracy: 21.57%, Validation Loss: 1.2031, Validation Accuracy: 20.09\n",
            "Hyperparameters: LR=0.01, Optimizer=SGD, Loss=FocalLoss, Batch Size=32, Embedding Dim=200, Test Loss: 1.1837, Test Accuracy: 21.98\n",
            "Epoch 1/5, Train Loss: 1.2206, Train Accuracy: 19.95%, Validation Loss: 1.2052, Validation Accuracy: 21.11\n",
            "Epoch 2/5, Train Loss: 1.2080, Train Accuracy: 20.59%, Validation Loss: 1.2092, Validation Accuracy: 19.86\n",
            "Epoch 3/5, Train Loss: 1.2045, Train Accuracy: 20.76%, Validation Loss: 1.2021, Validation Accuracy: 21.57\n",
            "Epoch 4/5, Train Loss: 1.2012, Train Accuracy: 21.40%, Validation Loss: 1.2002, Validation Accuracy: 21.65\n"
          ]
        },
        {
          "output_type": "stream",
          "name": "stderr",
          "text": [
            "\r 78%|███████▊  | 84/108 [05:57<01:51,  4.63s/it]"
          ]
        },
        {
          "output_type": "stream",
          "name": "stdout",
          "text": [
            "Epoch 5/5, Train Loss: 1.1975, Train Accuracy: 21.32%, Validation Loss: 1.2000, Validation Accuracy: 21.42\n",
            "Hyperparameters: LR=0.01, Optimizer=SGD, Loss=FocalLoss, Batch Size=32, Embedding Dim=300, Test Loss: 1.1846, Test Accuracy: 22.06\n",
            "Epoch 1/5, Train Loss: 1.2250, Train Accuracy: 18.92%, Validation Loss: 1.2114, Validation Accuracy: 18.93\n",
            "Epoch 2/5, Train Loss: 1.2143, Train Accuracy: 19.38%, Validation Loss: 1.2119, Validation Accuracy: 18.93\n",
            "Epoch 3/5, Train Loss: 1.2096, Train Accuracy: 19.65%, Validation Loss: 1.2107, Validation Accuracy: 18.93\n",
            "Epoch 4/5, Train Loss: 1.2099, Train Accuracy: 19.98%, Validation Loss: 1.2090, Validation Accuracy: 19.24\n"
          ]
        },
        {
          "output_type": "stream",
          "name": "stderr",
          "text": [
            "\r 79%|███████▊  | 85/108 [06:00<01:35,  4.17s/it]"
          ]
        },
        {
          "output_type": "stream",
          "name": "stdout",
          "text": [
            "Epoch 5/5, Train Loss: 1.2075, Train Accuracy: 20.10%, Validation Loss: 1.2069, Validation Accuracy: 21.11\n",
            "Hyperparameters: LR=0.01, Optimizer=SGD, Loss=FocalLoss, Batch Size=64, Embedding Dim=100, Test Loss: 1.1921, Test Accuracy: 21.98\n",
            "Epoch 1/5, Train Loss: 1.2276, Train Accuracy: 18.41%, Validation Loss: 1.2089, Validation Accuracy: 21.34\n",
            "Epoch 2/5, Train Loss: 1.2113, Train Accuracy: 20.49%, Validation Loss: 1.2118, Validation Accuracy: 19.00\n",
            "Epoch 3/5, Train Loss: 1.2114, Train Accuracy: 20.28%, Validation Loss: 1.2092, Validation Accuracy: 20.64\n",
            "Epoch 4/5, Train Loss: 1.2086, Train Accuracy: 20.17%, Validation Loss: 1.2100, Validation Accuracy: 19.00\n"
          ]
        },
        {
          "output_type": "stream",
          "name": "stderr",
          "text": [
            "\r 80%|███████▉  | 86/108 [06:04<01:30,  4.09s/it]"
          ]
        },
        {
          "output_type": "stream",
          "name": "stdout",
          "text": [
            "Epoch 5/5, Train Loss: 1.2048, Train Accuracy: 20.62%, Validation Loss: 1.2056, Validation Accuracy: 20.95\n",
            "Hyperparameters: LR=0.01, Optimizer=SGD, Loss=FocalLoss, Batch Size=64, Embedding Dim=200, Test Loss: 1.1909, Test Accuracy: 21.28\n",
            "Epoch 1/5, Train Loss: 1.2281, Train Accuracy: 19.40%, Validation Loss: 1.2020, Validation Accuracy: 21.96\n",
            "Epoch 2/5, Train Loss: 1.2149, Train Accuracy: 19.61%, Validation Loss: 1.2016, Validation Accuracy: 21.03\n",
            "Epoch 3/5, Train Loss: 1.2101, Train Accuracy: 20.26%, Validation Loss: 1.2033, Validation Accuracy: 19.94\n",
            "Epoch 4/5, Train Loss: 1.2074, Train Accuracy: 20.47%, Validation Loss: 1.1985, Validation Accuracy: 21.57\n"
          ]
        },
        {
          "output_type": "stream",
          "name": "stderr",
          "text": [
            "\r 81%|████████  | 87/108 [06:07<01:22,  3.92s/it]"
          ]
        },
        {
          "output_type": "stream",
          "name": "stdout",
          "text": [
            "Epoch 5/5, Train Loss: 1.2052, Train Accuracy: 20.32%, Validation Loss: 1.1971, Validation Accuracy: 20.87\n",
            "Hyperparameters: LR=0.01, Optimizer=SGD, Loss=FocalLoss, Batch Size=64, Embedding Dim=300, Test Loss: 1.1914, Test Accuracy: 22.60\n",
            "Epoch 1/5, Train Loss: 1.2235, Train Accuracy: 19.66%, Validation Loss: 1.2163, Validation Accuracy: 19.55\n",
            "Epoch 2/5, Train Loss: 1.2136, Train Accuracy: 19.68%, Validation Loss: 1.2117, Validation Accuracy: 19.86\n",
            "Epoch 3/5, Train Loss: 1.2106, Train Accuracy: 19.82%, Validation Loss: 1.2117, Validation Accuracy: 19.24\n",
            "Epoch 4/5, Train Loss: 1.2083, Train Accuracy: 20.15%, Validation Loss: 1.2102, Validation Accuracy: 19.08\n"
          ]
        },
        {
          "output_type": "stream",
          "name": "stderr",
          "text": [
            "\r 81%|████████▏ | 88/108 [06:09<01:06,  3.31s/it]"
          ]
        },
        {
          "output_type": "stream",
          "name": "stdout",
          "text": [
            "Epoch 5/5, Train Loss: 1.2089, Train Accuracy: 20.46%, Validation Loss: 1.2101, Validation Accuracy: 19.00\n",
            "Hyperparameters: LR=0.01, Optimizer=SGD, Loss=FocalLoss, Batch Size=128, Embedding Dim=100, Test Loss: 1.1899, Test Accuracy: 20.89\n",
            "Epoch 1/5, Train Loss: 1.2376, Train Accuracy: 18.89%, Validation Loss: 1.2131, Validation Accuracy: 19.55\n",
            "Epoch 2/5, Train Loss: 1.2168, Train Accuracy: 19.89%, Validation Loss: 1.2091, Validation Accuracy: 19.63\n",
            "Epoch 3/5, Train Loss: 1.2171, Train Accuracy: 19.51%, Validation Loss: 1.2099, Validation Accuracy: 19.94\n",
            "Epoch 4/5, Train Loss: 1.2121, Train Accuracy: 20.15%, Validation Loss: 1.2079, Validation Accuracy: 19.63\n"
          ]
        },
        {
          "output_type": "stream",
          "name": "stderr",
          "text": [
            "\r 82%|████████▏ | 89/108 [06:11<00:56,  2.96s/it]"
          ]
        },
        {
          "output_type": "stream",
          "name": "stdout",
          "text": [
            "Epoch 5/5, Train Loss: 1.2092, Train Accuracy: 20.40%, Validation Loss: 1.2076, Validation Accuracy: 20.09\n",
            "Hyperparameters: LR=0.01, Optimizer=SGD, Loss=FocalLoss, Batch Size=128, Embedding Dim=200, Test Loss: 1.1864, Test Accuracy: 21.04\n",
            "Epoch 1/5, Train Loss: 1.2334, Train Accuracy: 18.89%, Validation Loss: 1.2113, Validation Accuracy: 19.16\n",
            "Epoch 2/5, Train Loss: 1.2195, Train Accuracy: 19.13%, Validation Loss: 1.2115, Validation Accuracy: 18.22\n",
            "Epoch 3/5, Train Loss: 1.2141, Train Accuracy: 20.16%, Validation Loss: 1.2100, Validation Accuracy: 18.69\n",
            "Epoch 4/5, Train Loss: 1.2121, Train Accuracy: 20.32%, Validation Loss: 1.2106, Validation Accuracy: 17.83\n"
          ]
        },
        {
          "output_type": "stream",
          "name": "stderr",
          "text": [
            "\r 83%|████████▎ | 90/108 [06:14<00:50,  2.82s/it]"
          ]
        },
        {
          "output_type": "stream",
          "name": "stdout",
          "text": [
            "Epoch 5/5, Train Loss: 1.2132, Train Accuracy: 19.89%, Validation Loss: 1.2082, Validation Accuracy: 18.46\n",
            "Hyperparameters: LR=0.01, Optimizer=SGD, Loss=FocalLoss, Batch Size=128, Embedding Dim=300, Test Loss: 1.1924, Test Accuracy: 19.72\n",
            "Epoch 1/5, Train Loss: 1.8544, Train Accuracy: 19.81%, Validation Loss: 1.7486, Validation Accuracy: 21.81\n",
            "Epoch 2/5, Train Loss: 1.7636, Train Accuracy: 21.42%, Validation Loss: 1.7273, Validation Accuracy: 22.98\n",
            "Epoch 3/5, Train Loss: 1.7273, Train Accuracy: 23.62%, Validation Loss: 1.7343, Validation Accuracy: 24.14\n",
            "Epoch 4/5, Train Loss: 1.7023, Train Accuracy: 25.73%, Validation Loss: 1.7228, Validation Accuracy: 23.52\n"
          ]
        },
        {
          "output_type": "stream",
          "name": "stderr",
          "text": [
            "\r 84%|████████▍ | 91/108 [06:20<01:04,  3.81s/it]"
          ]
        },
        {
          "output_type": "stream",
          "name": "stdout",
          "text": [
            "Epoch 5/5, Train Loss: 1.6690, Train Accuracy: 26.53%, Validation Loss: 1.7194, Validation Accuracy: 24.92\n",
            "Hyperparameters: LR=0.01, Optimizer=RMSprop, Loss=CrossEntropyLoss, Batch Size=32, Embedding Dim=100, Test Loss: 1.7414, Test Accuracy: 23.69\n",
            "Epoch 1/5, Train Loss: 1.8862, Train Accuracy: 19.35%, Validation Loss: 1.7967, Validation Accuracy: 19.47\n",
            "Epoch 2/5, Train Loss: 1.8105, Train Accuracy: 20.91%, Validation Loss: 1.7893, Validation Accuracy: 20.17\n",
            "Epoch 3/5, Train Loss: 1.7977, Train Accuracy: 21.37%, Validation Loss: 1.7358, Validation Accuracy: 21.81\n",
            "Epoch 4/5, Train Loss: 1.7826, Train Accuracy: 22.87%, Validation Loss: 1.7562, Validation Accuracy: 21.57\n"
          ]
        },
        {
          "output_type": "stream",
          "name": "stderr",
          "text": [
            "\r 85%|████████▌ | 92/108 [06:25<01:09,  4.34s/it]"
          ]
        },
        {
          "output_type": "stream",
          "name": "stdout",
          "text": [
            "Epoch 5/5, Train Loss: 1.7688, Train Accuracy: 23.58%, Validation Loss: 1.7808, Validation Accuracy: 21.11\n",
            "Hyperparameters: LR=0.01, Optimizer=RMSprop, Loss=CrossEntropyLoss, Batch Size=32, Embedding Dim=200, Test Loss: 1.7620, Test Accuracy: 22.14\n",
            "Epoch 1/5, Train Loss: 1.8971, Train Accuracy: 18.85%, Validation Loss: 1.7964, Validation Accuracy: 19.16\n",
            "Epoch 2/5, Train Loss: 1.8188, Train Accuracy: 20.48%, Validation Loss: 1.7787, Validation Accuracy: 21.81\n",
            "Epoch 3/5, Train Loss: 1.8017, Train Accuracy: 21.60%, Validation Loss: 1.7594, Validation Accuracy: 20.33\n",
            "Epoch 4/5, Train Loss: 1.8006, Train Accuracy: 21.90%, Validation Loss: 1.8025, Validation Accuracy: 19.55\n"
          ]
        },
        {
          "output_type": "stream",
          "name": "stderr",
          "text": [
            "\r 86%|████████▌ | 93/108 [06:32<01:15,  5.04s/it]"
          ]
        },
        {
          "output_type": "stream",
          "name": "stdout",
          "text": [
            "Epoch 5/5, Train Loss: 1.7948, Train Accuracy: 21.92%, Validation Loss: 1.8023, Validation Accuracy: 19.86\n",
            "Hyperparameters: LR=0.01, Optimizer=RMSprop, Loss=CrossEntropyLoss, Batch Size=32, Embedding Dim=300, Test Loss: 1.7670, Test Accuracy: 22.76\n",
            "Epoch 1/5, Train Loss: 1.8832, Train Accuracy: 19.89%, Validation Loss: 1.8212, Validation Accuracy: 20.40\n",
            "Epoch 2/5, Train Loss: 1.7631, Train Accuracy: 22.28%, Validation Loss: 1.7435, Validation Accuracy: 22.82\n",
            "Epoch 3/5, Train Loss: 1.7195, Train Accuracy: 25.05%, Validation Loss: 1.7250, Validation Accuracy: 25.00\n",
            "Epoch 4/5, Train Loss: 1.6778, Train Accuracy: 26.98%, Validation Loss: 1.7526, Validation Accuracy: 23.13\n"
          ]
        },
        {
          "output_type": "stream",
          "name": "stderr",
          "text": [
            "\r 87%|████████▋ | 94/108 [06:36<01:04,  4.60s/it]"
          ]
        },
        {
          "output_type": "stream",
          "name": "stdout",
          "text": [
            "Epoch 5/5, Train Loss: 1.6200, Train Accuracy: 30.97%, Validation Loss: 1.7547, Validation Accuracy: 23.75\n",
            "Hyperparameters: LR=0.01, Optimizer=RMSprop, Loss=CrossEntropyLoss, Batch Size=64, Embedding Dim=100, Test Loss: 1.7634, Test Accuracy: 24.08\n",
            "Epoch 1/5, Train Loss: 1.8674, Train Accuracy: 19.04%, Validation Loss: 1.8107, Validation Accuracy: 20.64\n",
            "Epoch 2/5, Train Loss: 1.7814, Train Accuracy: 21.25%, Validation Loss: 1.7879, Validation Accuracy: 21.88\n",
            "Epoch 3/5, Train Loss: 1.7532, Train Accuracy: 23.23%, Validation Loss: 1.7631, Validation Accuracy: 20.95\n",
            "Epoch 4/5, Train Loss: 1.7284, Train Accuracy: 24.91%, Validation Loss: 1.7745, Validation Accuracy: 22.59\n"
          ]
        },
        {
          "output_type": "stream",
          "name": "stderr",
          "text": [
            "\r 88%|████████▊ | 95/108 [06:39<00:54,  4.23s/it]"
          ]
        },
        {
          "output_type": "stream",
          "name": "stdout",
          "text": [
            "Epoch 5/5, Train Loss: 1.7073, Train Accuracy: 26.32%, Validation Loss: 1.7331, Validation Accuracy: 23.44\n",
            "Hyperparameters: LR=0.01, Optimizer=RMSprop, Loss=CrossEntropyLoss, Batch Size=64, Embedding Dim=200, Test Loss: 1.7312, Test Accuracy: 24.63\n",
            "Epoch 1/5, Train Loss: 1.8718, Train Accuracy: 19.17%, Validation Loss: 1.7675, Validation Accuracy: 20.48\n",
            "Epoch 2/5, Train Loss: 1.7854, Train Accuracy: 21.47%, Validation Loss: 1.7877, Validation Accuracy: 19.31\n",
            "Epoch 3/5, Train Loss: 1.7640, Train Accuracy: 22.23%, Validation Loss: 1.7777, Validation Accuracy: 20.09\n",
            "Epoch 4/5, Train Loss: 1.7554, Train Accuracy: 23.64%, Validation Loss: 1.7581, Validation Accuracy: 22.27\n"
          ]
        },
        {
          "output_type": "stream",
          "name": "stderr",
          "text": [
            "\r 89%|████████▉ | 96/108 [06:43<00:49,  4.11s/it]"
          ]
        },
        {
          "output_type": "stream",
          "name": "stdout",
          "text": [
            "Epoch 5/5, Train Loss: 1.7424, Train Accuracy: 23.71%, Validation Loss: 1.7531, Validation Accuracy: 21.88\n",
            "Hyperparameters: LR=0.01, Optimizer=RMSprop, Loss=CrossEntropyLoss, Batch Size=64, Embedding Dim=300, Test Loss: 1.7711, Test Accuracy: 22.60\n",
            "Epoch 1/5, Train Loss: 1.9040, Train Accuracy: 19.57%, Validation Loss: 1.7427, Validation Accuracy: 21.34\n",
            "Epoch 2/5, Train Loss: 1.7350, Train Accuracy: 23.03%, Validation Loss: 1.7186, Validation Accuracy: 23.99\n",
            "Epoch 3/5, Train Loss: 1.6928, Train Accuracy: 26.21%, Validation Loss: 1.7083, Validation Accuracy: 23.29\n",
            "Epoch 4/5, Train Loss: 1.6428, Train Accuracy: 28.82%, Validation Loss: 1.7329, Validation Accuracy: 23.29\n"
          ]
        },
        {
          "output_type": "stream",
          "name": "stderr",
          "text": [
            "\r 90%|████████▉ | 97/108 [06:45<00:38,  3.46s/it]"
          ]
        },
        {
          "output_type": "stream",
          "name": "stdout",
          "text": [
            "Epoch 5/5, Train Loss: 1.5824, Train Accuracy: 32.34%, Validation Loss: 1.7438, Validation Accuracy: 22.98\n",
            "Hyperparameters: LR=0.01, Optimizer=RMSprop, Loss=CrossEntropyLoss, Batch Size=128, Embedding Dim=100, Test Loss: 1.8266, Test Accuracy: 22.99\n",
            "Epoch 1/5, Train Loss: 1.8899, Train Accuracy: 19.27%, Validation Loss: 1.8219, Validation Accuracy: 17.13\n",
            "Epoch 2/5, Train Loss: 1.7683, Train Accuracy: 21.45%, Validation Loss: 1.8146, Validation Accuracy: 21.34\n",
            "Epoch 3/5, Train Loss: 1.7376, Train Accuracy: 23.93%, Validation Loss: 1.7714, Validation Accuracy: 21.42\n",
            "Epoch 4/5, Train Loss: 1.7051, Train Accuracy: 26.33%, Validation Loss: 1.7420, Validation Accuracy: 22.82\n"
          ]
        },
        {
          "output_type": "stream",
          "name": "stderr",
          "text": [
            "\r 91%|█████████ | 98/108 [06:47<00:32,  3.22s/it]"
          ]
        },
        {
          "output_type": "stream",
          "name": "stdout",
          "text": [
            "Epoch 5/5, Train Loss: 1.6730, Train Accuracy: 28.21%, Validation Loss: 1.8496, Validation Accuracy: 21.11\n",
            "Hyperparameters: LR=0.01, Optimizer=RMSprop, Loss=CrossEntropyLoss, Batch Size=128, Embedding Dim=200, Test Loss: 1.7943, Test Accuracy: 21.75\n",
            "Epoch 1/5, Train Loss: 1.8759, Train Accuracy: 19.07%, Validation Loss: 1.8421, Validation Accuracy: 19.78\n",
            "Epoch 2/5, Train Loss: 1.7701, Train Accuracy: 21.42%, Validation Loss: 1.7995, Validation Accuracy: 19.55\n",
            "Epoch 3/5, Train Loss: 1.7456, Train Accuracy: 23.24%, Validation Loss: 1.8793, Validation Accuracy: 18.77\n",
            "Epoch 4/5, Train Loss: 1.7235, Train Accuracy: 25.02%, Validation Loss: 1.8432, Validation Accuracy: 21.03\n"
          ]
        },
        {
          "output_type": "stream",
          "name": "stderr",
          "text": [
            "\r 92%|█████████▏| 99/108 [06:51<00:28,  3.21s/it]"
          ]
        },
        {
          "output_type": "stream",
          "name": "stdout",
          "text": [
            "Epoch 5/5, Train Loss: 1.7068, Train Accuracy: 26.46%, Validation Loss: 1.8899, Validation Accuracy: 22.04\n",
            "Hyperparameters: LR=0.01, Optimizer=RMSprop, Loss=CrossEntropyLoss, Batch Size=128, Embedding Dim=300, Test Loss: 1.9121, Test Accuracy: 22.45\n",
            "Epoch 1/5, Train Loss: 1.3222, Train Accuracy: 19.66%, Validation Loss: 1.1900, Validation Accuracy: 22.59\n",
            "Epoch 2/5, Train Loss: 1.2083, Train Accuracy: 22.05%, Validation Loss: 1.1782, Validation Accuracy: 21.42\n",
            "Epoch 3/5, Train Loss: 1.1729, Train Accuracy: 24.34%, Validation Loss: 1.1593, Validation Accuracy: 22.66\n",
            "Epoch 4/5, Train Loss: 1.1472, Train Accuracy: 25.63%, Validation Loss: 1.1771, Validation Accuracy: 21.88\n"
          ]
        },
        {
          "output_type": "stream",
          "name": "stderr",
          "text": [
            "\r 93%|█████████▎| 100/108 [06:56<00:30,  3.83s/it]"
          ]
        },
        {
          "output_type": "stream",
          "name": "stdout",
          "text": [
            "Epoch 5/5, Train Loss: 1.1141, Train Accuracy: 27.13%, Validation Loss: 1.1599, Validation Accuracy: 23.52\n",
            "Hyperparameters: LR=0.01, Optimizer=RMSprop, Loss=FocalLoss, Batch Size=32, Embedding Dim=100, Test Loss: 1.1613, Test Accuracy: 22.68\n",
            "Epoch 1/5, Train Loss: 1.3749, Train Accuracy: 19.07%, Validation Loss: 1.2817, Validation Accuracy: 19.16\n",
            "Epoch 2/5, Train Loss: 1.2790, Train Accuracy: 20.40%, Validation Loss: 1.2316, Validation Accuracy: 19.94\n",
            "Epoch 3/5, Train Loss: 1.2612, Train Accuracy: 21.37%, Validation Loss: 1.2140, Validation Accuracy: 20.09\n",
            "Epoch 4/5, Train Loss: 1.2434, Train Accuracy: 22.03%, Validation Loss: 1.2167, Validation Accuracy: 19.94\n"
          ]
        },
        {
          "output_type": "stream",
          "name": "stderr",
          "text": [
            "\r 94%|█████████▎| 101/108 [07:02<00:31,  4.54s/it]"
          ]
        },
        {
          "output_type": "stream",
          "name": "stdout",
          "text": [
            "Epoch 5/5, Train Loss: 1.2404, Train Accuracy: 21.87%, Validation Loss: 1.2688, Validation Accuracy: 19.24\n",
            "Hyperparameters: LR=0.01, Optimizer=RMSprop, Loss=FocalLoss, Batch Size=32, Embedding Dim=200, Test Loss: 1.2441, Test Accuracy: 20.34\n",
            "Epoch 1/5, Train Loss: 1.3558, Train Accuracy: 19.17%, Validation Loss: 1.2465, Validation Accuracy: 17.52\n",
            "Epoch 2/5, Train Loss: 1.2700, Train Accuracy: 20.02%, Validation Loss: 1.2492, Validation Accuracy: 19.63\n",
            "Epoch 3/5, Train Loss: 1.2542, Train Accuracy: 21.55%, Validation Loss: 1.2138, Validation Accuracy: 20.40\n",
            "Epoch 4/5, Train Loss: 1.2484, Train Accuracy: 22.03%, Validation Loss: 1.2475, Validation Accuracy: 20.64\n"
          ]
        },
        {
          "output_type": "stream",
          "name": "stderr",
          "text": [
            "\r 94%|█████████▍| 102/108 [07:09<00:32,  5.40s/it]"
          ]
        },
        {
          "output_type": "stream",
          "name": "stdout",
          "text": [
            "Epoch 5/5, Train Loss: 1.2418, Train Accuracy: 21.85%, Validation Loss: 1.2289, Validation Accuracy: 20.02\n",
            "Hyperparameters: LR=0.01, Optimizer=RMSprop, Loss=FocalLoss, Batch Size=32, Embedding Dim=300, Test Loss: 1.2295, Test Accuracy: 20.65\n",
            "Epoch 1/5, Train Loss: 1.3231, Train Accuracy: 20.01%, Validation Loss: 1.2106, Validation Accuracy: 21.34\n",
            "Epoch 2/5, Train Loss: 1.1826, Train Accuracy: 22.98%, Validation Loss: 1.1754, Validation Accuracy: 22.35\n",
            "Epoch 3/5, Train Loss: 1.1326, Train Accuracy: 25.29%, Validation Loss: 1.1869, Validation Accuracy: 22.27\n",
            "Epoch 4/5, Train Loss: 1.0769, Train Accuracy: 28.70%, Validation Loss: 1.1525, Validation Accuracy: 23.21\n"
          ]
        },
        {
          "output_type": "stream",
          "name": "stderr",
          "text": [
            "\r 95%|█████████▌| 103/108 [07:13<00:23,  4.69s/it]"
          ]
        },
        {
          "output_type": "stream",
          "name": "stdout",
          "text": [
            "Epoch 5/5, Train Loss: 1.0102, Train Accuracy: 31.80%, Validation Loss: 1.1936, Validation Accuracy: 23.52\n",
            "Hyperparameters: LR=0.01, Optimizer=RMSprop, Loss=FocalLoss, Batch Size=64, Embedding Dim=100, Test Loss: 1.1788, Test Accuracy: 25.02\n",
            "Epoch 1/5, Train Loss: 1.3415, Train Accuracy: 19.92%, Validation Loss: 1.2378, Validation Accuracy: 20.56\n",
            "Epoch 2/5, Train Loss: 1.2342, Train Accuracy: 21.00%, Validation Loss: 1.2316, Validation Accuracy: 19.86\n",
            "Epoch 3/5, Train Loss: 1.2049, Train Accuracy: 23.27%, Validation Loss: 1.2221, Validation Accuracy: 20.09\n",
            "Epoch 4/5, Train Loss: 1.1862, Train Accuracy: 23.57%, Validation Loss: 1.2154, Validation Accuracy: 23.21\n"
          ]
        },
        {
          "output_type": "stream",
          "name": "stderr",
          "text": [
            "\r 96%|█████████▋| 104/108 [07:16<00:17,  4.33s/it]"
          ]
        },
        {
          "output_type": "stream",
          "name": "stdout",
          "text": [
            "Epoch 5/5, Train Loss: 1.1579, Train Accuracy: 25.94%, Validation Loss: 1.2527, Validation Accuracy: 19.63\n",
            "Hyperparameters: LR=0.01, Optimizer=RMSprop, Loss=FocalLoss, Batch Size=64, Embedding Dim=200, Test Loss: 1.2546, Test Accuracy: 18.86\n",
            "Epoch 1/5, Train Loss: 1.3786, Train Accuracy: 19.10%, Validation Loss: 1.2615, Validation Accuracy: 20.33\n",
            "Epoch 2/5, Train Loss: 1.2476, Train Accuracy: 21.24%, Validation Loss: 1.3620, Validation Accuracy: 18.38\n",
            "Epoch 3/5, Train Loss: 1.2287, Train Accuracy: 21.92%, Validation Loss: 1.4675, Validation Accuracy: 19.55\n",
            "Epoch 4/5, Train Loss: 1.2091, Train Accuracy: 23.81%, Validation Loss: 1.2502, Validation Accuracy: 20.79\n"
          ]
        },
        {
          "output_type": "stream",
          "name": "stderr",
          "text": [
            "\r 97%|█████████▋| 105/108 [07:21<00:13,  4.45s/it]"
          ]
        },
        {
          "output_type": "stream",
          "name": "stdout",
          "text": [
            "Epoch 5/5, Train Loss: 1.1962, Train Accuracy: 25.07%, Validation Loss: 1.2095, Validation Accuracy: 20.09\n",
            "Hyperparameters: LR=0.01, Optimizer=RMSprop, Loss=FocalLoss, Batch Size=64, Embedding Dim=300, Test Loss: 1.2071, Test Accuracy: 20.03\n",
            "Epoch 1/5, Train Loss: 1.3289, Train Accuracy: 20.01%, Validation Loss: 1.2219, Validation Accuracy: 19.86\n",
            "Epoch 2/5, Train Loss: 1.1824, Train Accuracy: 23.35%, Validation Loss: 1.1527, Validation Accuracy: 21.81\n",
            "Epoch 3/5, Train Loss: 1.1206, Train Accuracy: 26.68%, Validation Loss: 1.1675, Validation Accuracy: 21.88\n",
            "Epoch 4/5, Train Loss: 1.0440, Train Accuracy: 30.56%, Validation Loss: 1.2407, Validation Accuracy: 21.57\n"
          ]
        },
        {
          "output_type": "stream",
          "name": "stderr",
          "text": [
            "\r 98%|█████████▊| 106/108 [07:23<00:07,  3.78s/it]"
          ]
        },
        {
          "output_type": "stream",
          "name": "stdout",
          "text": [
            "Epoch 5/5, Train Loss: 0.9735, Train Accuracy: 33.76%, Validation Loss: 1.2381, Validation Accuracy: 23.05\n",
            "Hyperparameters: LR=0.01, Optimizer=RMSprop, Loss=FocalLoss, Batch Size=128, Embedding Dim=100, Test Loss: 1.2174, Test Accuracy: 23.38\n",
            "Epoch 1/5, Train Loss: 1.4743, Train Accuracy: 18.76%, Validation Loss: 1.2849, Validation Accuracy: 20.17\n",
            "Epoch 2/5, Train Loss: 1.2447, Train Accuracy: 20.93%, Validation Loss: 1.2996, Validation Accuracy: 22.27\n",
            "Epoch 3/5, Train Loss: 1.2089, Train Accuracy: 22.68%, Validation Loss: 1.2896, Validation Accuracy: 19.31\n",
            "Epoch 4/5, Train Loss: 1.1641, Train Accuracy: 24.87%, Validation Loss: 1.2364, Validation Accuracy: 20.56\n"
          ]
        },
        {
          "output_type": "stream",
          "name": "stderr",
          "text": [
            "\r 99%|█████████▉| 107/108 [07:25<00:03,  3.34s/it]"
          ]
        },
        {
          "output_type": "stream",
          "name": "stdout",
          "text": [
            "Epoch 5/5, Train Loss: 1.1361, Train Accuracy: 26.95%, Validation Loss: 1.2457, Validation Accuracy: 22.20\n",
            "Hyperparameters: LR=0.01, Optimizer=RMSprop, Loss=FocalLoss, Batch Size=128, Embedding Dim=200, Test Loss: 1.2475, Test Accuracy: 21.28\n",
            "Epoch 1/5, Train Loss: 1.3474, Train Accuracy: 20.27%, Validation Loss: 1.2623, Validation Accuracy: 19.31\n",
            "Epoch 2/5, Train Loss: 1.2171, Train Accuracy: 21.75%, Validation Loss: 1.2269, Validation Accuracy: 20.72\n",
            "Epoch 3/5, Train Loss: 1.1818, Train Accuracy: 24.11%, Validation Loss: 1.2865, Validation Accuracy: 20.64\n",
            "Epoch 4/5, Train Loss: 1.1580, Train Accuracy: 25.55%, Validation Loss: 1.2465, Validation Accuracy: 21.73\n"
          ]
        },
        {
          "output_type": "stream",
          "name": "stderr",
          "text": [
            "100%|██████████| 108/108 [07:28<00:00,  4.15s/it]"
          ]
        },
        {
          "output_type": "stream",
          "name": "stdout",
          "text": [
            "Epoch 5/5, Train Loss: 1.1416, Train Accuracy: 26.95%, Validation Loss: 1.2425, Validation Accuracy: 19.86\n",
            "Hyperparameters: LR=0.01, Optimizer=RMSprop, Loss=FocalLoss, Batch Size=128, Embedding Dim=300, Test Loss: 1.2098, Test Accuracy: 23.15\n"
          ]
        },
        {
          "output_type": "stream",
          "name": "stderr",
          "text": [
            "\n"
          ]
        }
      ]
    },
    {
      "cell_type": "code",
      "source": [
        "# saving the best BiLSTM model of all the hyperparameter combinations on Google Drive\n",
        "\n",
        "drive_file_path = '/content/drive/MyDrive/Models/best_bilstm_model6.pth'\n",
        "\n",
        "torch.save(best_model, drive_file_path)\n",
        "print(\"Best BiLSTM model saved\")"
      ],
      "metadata": {
        "colab": {
          "base_uri": "https://localhost:8080/"
        },
        "id": "9q9yVR-NeVUU",
        "outputId": "e0007917-0281-4527-dd07-c2fdcf53b82a"
      },
      "execution_count": 61,
      "outputs": [
        {
          "output_type": "stream",
          "name": "stdout",
          "text": [
            "Best BiLSTM model saved\n"
          ]
        }
      ]
    },
    {
      "cell_type": "code",
      "source": [
        "# sorting all the hyperparameter combinations on BiLSTM Model based on 'Test Accuracy', and displaying the top 10 rows\n",
        "\n",
        "bilstm_df = pd.DataFrame(results)\n",
        "bilstm_df = bilstm_df.sort_values(by='Test Accuracy', ascending=False)\n",
        "\n",
        "bilstm_df.head(10)"
      ],
      "metadata": {
        "colab": {
          "base_uri": "https://localhost:8080/",
          "height": 363
        },
        "id": "Csikf5fUaGPW",
        "outputId": "2bc680cf-4272-42ba-8d34-2db99f876ba7"
      },
      "execution_count": 62,
      "outputs": [
        {
          "output_type": "execute_result",
          "data": {
            "text/plain": [
              "    Learning Rate Optimizer     Loss Function  Batch Size  Embedding Dim  \\\n",
              "49          0.001   RMSprop         FocalLoss          64            200   \n",
              "3           0.001      Adam  CrossEntropyLoss          64            100   \n",
              "2           0.001      Adam  CrossEntropyLoss          32            300   \n",
              "10          0.001      Adam         FocalLoss          32            200   \n",
              "16          0.001      Adam         FocalLoss         128            200   \n",
              "7           0.001      Adam  CrossEntropyLoss         128            200   \n",
              "13          0.001      Adam         FocalLoss          64            200   \n",
              "41          0.001   RMSprop  CrossEntropyLoss          64            300   \n",
              "38          0.001   RMSprop  CrossEntropyLoss          32            300   \n",
              "53          0.001   RMSprop         FocalLoss         128            300   \n",
              "\n",
              "    Test Accuracy  \n",
              "49       0.283710  \n",
              "3        0.276695  \n",
              "2        0.275916  \n",
              "10       0.275136  \n",
              "16       0.272798  \n",
              "7        0.272019  \n",
              "13       0.268122  \n",
              "41       0.266563  \n",
              "38       0.266563  \n",
              "53       0.266563  "
            ],
            "text/html": [
              "\n",
              "  <div id=\"df-b30eb360-0f15-478c-8878-346bd67b7979\" class=\"colab-df-container\">\n",
              "    <div>\n",
              "<style scoped>\n",
              "    .dataframe tbody tr th:only-of-type {\n",
              "        vertical-align: middle;\n",
              "    }\n",
              "\n",
              "    .dataframe tbody tr th {\n",
              "        vertical-align: top;\n",
              "    }\n",
              "\n",
              "    .dataframe thead th {\n",
              "        text-align: right;\n",
              "    }\n",
              "</style>\n",
              "<table border=\"1\" class=\"dataframe\">\n",
              "  <thead>\n",
              "    <tr style=\"text-align: right;\">\n",
              "      <th></th>\n",
              "      <th>Learning Rate</th>\n",
              "      <th>Optimizer</th>\n",
              "      <th>Loss Function</th>\n",
              "      <th>Batch Size</th>\n",
              "      <th>Embedding Dim</th>\n",
              "      <th>Test Accuracy</th>\n",
              "    </tr>\n",
              "  </thead>\n",
              "  <tbody>\n",
              "    <tr>\n",
              "      <th>49</th>\n",
              "      <td>0.001</td>\n",
              "      <td>RMSprop</td>\n",
              "      <td>FocalLoss</td>\n",
              "      <td>64</td>\n",
              "      <td>200</td>\n",
              "      <td>0.283710</td>\n",
              "    </tr>\n",
              "    <tr>\n",
              "      <th>3</th>\n",
              "      <td>0.001</td>\n",
              "      <td>Adam</td>\n",
              "      <td>CrossEntropyLoss</td>\n",
              "      <td>64</td>\n",
              "      <td>100</td>\n",
              "      <td>0.276695</td>\n",
              "    </tr>\n",
              "    <tr>\n",
              "      <th>2</th>\n",
              "      <td>0.001</td>\n",
              "      <td>Adam</td>\n",
              "      <td>CrossEntropyLoss</td>\n",
              "      <td>32</td>\n",
              "      <td>300</td>\n",
              "      <td>0.275916</td>\n",
              "    </tr>\n",
              "    <tr>\n",
              "      <th>10</th>\n",
              "      <td>0.001</td>\n",
              "      <td>Adam</td>\n",
              "      <td>FocalLoss</td>\n",
              "      <td>32</td>\n",
              "      <td>200</td>\n",
              "      <td>0.275136</td>\n",
              "    </tr>\n",
              "    <tr>\n",
              "      <th>16</th>\n",
              "      <td>0.001</td>\n",
              "      <td>Adam</td>\n",
              "      <td>FocalLoss</td>\n",
              "      <td>128</td>\n",
              "      <td>200</td>\n",
              "      <td>0.272798</td>\n",
              "    </tr>\n",
              "    <tr>\n",
              "      <th>7</th>\n",
              "      <td>0.001</td>\n",
              "      <td>Adam</td>\n",
              "      <td>CrossEntropyLoss</td>\n",
              "      <td>128</td>\n",
              "      <td>200</td>\n",
              "      <td>0.272019</td>\n",
              "    </tr>\n",
              "    <tr>\n",
              "      <th>13</th>\n",
              "      <td>0.001</td>\n",
              "      <td>Adam</td>\n",
              "      <td>FocalLoss</td>\n",
              "      <td>64</td>\n",
              "      <td>200</td>\n",
              "      <td>0.268122</td>\n",
              "    </tr>\n",
              "    <tr>\n",
              "      <th>41</th>\n",
              "      <td>0.001</td>\n",
              "      <td>RMSprop</td>\n",
              "      <td>CrossEntropyLoss</td>\n",
              "      <td>64</td>\n",
              "      <td>300</td>\n",
              "      <td>0.266563</td>\n",
              "    </tr>\n",
              "    <tr>\n",
              "      <th>38</th>\n",
              "      <td>0.001</td>\n",
              "      <td>RMSprop</td>\n",
              "      <td>CrossEntropyLoss</td>\n",
              "      <td>32</td>\n",
              "      <td>300</td>\n",
              "      <td>0.266563</td>\n",
              "    </tr>\n",
              "    <tr>\n",
              "      <th>53</th>\n",
              "      <td>0.001</td>\n",
              "      <td>RMSprop</td>\n",
              "      <td>FocalLoss</td>\n",
              "      <td>128</td>\n",
              "      <td>300</td>\n",
              "      <td>0.266563</td>\n",
              "    </tr>\n",
              "  </tbody>\n",
              "</table>\n",
              "</div>\n",
              "    <div class=\"colab-df-buttons\">\n",
              "\n",
              "  <div class=\"colab-df-container\">\n",
              "    <button class=\"colab-df-convert\" onclick=\"convertToInteractive('df-b30eb360-0f15-478c-8878-346bd67b7979')\"\n",
              "            title=\"Convert this dataframe to an interactive table.\"\n",
              "            style=\"display:none;\">\n",
              "\n",
              "  <svg xmlns=\"http://www.w3.org/2000/svg\" height=\"24px\" viewBox=\"0 -960 960 960\">\n",
              "    <path d=\"M120-120v-720h720v720H120Zm60-500h600v-160H180v160Zm220 220h160v-160H400v160Zm0 220h160v-160H400v160ZM180-400h160v-160H180v160Zm440 0h160v-160H620v160ZM180-180h160v-160H180v160Zm440 0h160v-160H620v160Z\"/>\n",
              "  </svg>\n",
              "    </button>\n",
              "\n",
              "  <style>\n",
              "    .colab-df-container {\n",
              "      display:flex;\n",
              "      gap: 12px;\n",
              "    }\n",
              "\n",
              "    .colab-df-convert {\n",
              "      background-color: #E8F0FE;\n",
              "      border: none;\n",
              "      border-radius: 50%;\n",
              "      cursor: pointer;\n",
              "      display: none;\n",
              "      fill: #1967D2;\n",
              "      height: 32px;\n",
              "      padding: 0 0 0 0;\n",
              "      width: 32px;\n",
              "    }\n",
              "\n",
              "    .colab-df-convert:hover {\n",
              "      background-color: #E2EBFA;\n",
              "      box-shadow: 0px 1px 2px rgba(60, 64, 67, 0.3), 0px 1px 3px 1px rgba(60, 64, 67, 0.15);\n",
              "      fill: #174EA6;\n",
              "    }\n",
              "\n",
              "    .colab-df-buttons div {\n",
              "      margin-bottom: 4px;\n",
              "    }\n",
              "\n",
              "    [theme=dark] .colab-df-convert {\n",
              "      background-color: #3B4455;\n",
              "      fill: #D2E3FC;\n",
              "    }\n",
              "\n",
              "    [theme=dark] .colab-df-convert:hover {\n",
              "      background-color: #434B5C;\n",
              "      box-shadow: 0px 1px 3px 1px rgba(0, 0, 0, 0.15);\n",
              "      filter: drop-shadow(0px 1px 2px rgba(0, 0, 0, 0.3));\n",
              "      fill: #FFFFFF;\n",
              "    }\n",
              "  </style>\n",
              "\n",
              "    <script>\n",
              "      const buttonEl =\n",
              "        document.querySelector('#df-b30eb360-0f15-478c-8878-346bd67b7979 button.colab-df-convert');\n",
              "      buttonEl.style.display =\n",
              "        google.colab.kernel.accessAllowed ? 'block' : 'none';\n",
              "\n",
              "      async function convertToInteractive(key) {\n",
              "        const element = document.querySelector('#df-b30eb360-0f15-478c-8878-346bd67b7979');\n",
              "        const dataTable =\n",
              "          await google.colab.kernel.invokeFunction('convertToInteractive',\n",
              "                                                    [key], {});\n",
              "        if (!dataTable) return;\n",
              "\n",
              "        const docLinkHtml = 'Like what you see? Visit the ' +\n",
              "          '<a target=\"_blank\" href=https://colab.research.google.com/notebooks/data_table.ipynb>data table notebook</a>'\n",
              "          + ' to learn more about interactive tables.';\n",
              "        element.innerHTML = '';\n",
              "        dataTable['output_type'] = 'display_data';\n",
              "        await google.colab.output.renderOutput(dataTable, element);\n",
              "        const docLink = document.createElement('div');\n",
              "        docLink.innerHTML = docLinkHtml;\n",
              "        element.appendChild(docLink);\n",
              "      }\n",
              "    </script>\n",
              "  </div>\n",
              "\n",
              "\n",
              "<div id=\"df-3947ea80-bcc8-4f0f-a9f0-86513c1b0714\">\n",
              "  <button class=\"colab-df-quickchart\" onclick=\"quickchart('df-3947ea80-bcc8-4f0f-a9f0-86513c1b0714')\"\n",
              "            title=\"Suggest charts\"\n",
              "            style=\"display:none;\">\n",
              "\n",
              "<svg xmlns=\"http://www.w3.org/2000/svg\" height=\"24px\"viewBox=\"0 0 24 24\"\n",
              "     width=\"24px\">\n",
              "    <g>\n",
              "        <path d=\"M19 3H5c-1.1 0-2 .9-2 2v14c0 1.1.9 2 2 2h14c1.1 0 2-.9 2-2V5c0-1.1-.9-2-2-2zM9 17H7v-7h2v7zm4 0h-2V7h2v10zm4 0h-2v-4h2v4z\"/>\n",
              "    </g>\n",
              "</svg>\n",
              "  </button>\n",
              "\n",
              "<style>\n",
              "  .colab-df-quickchart {\n",
              "      --bg-color: #E8F0FE;\n",
              "      --fill-color: #1967D2;\n",
              "      --hover-bg-color: #E2EBFA;\n",
              "      --hover-fill-color: #174EA6;\n",
              "      --disabled-fill-color: #AAA;\n",
              "      --disabled-bg-color: #DDD;\n",
              "  }\n",
              "\n",
              "  [theme=dark] .colab-df-quickchart {\n",
              "      --bg-color: #3B4455;\n",
              "      --fill-color: #D2E3FC;\n",
              "      --hover-bg-color: #434B5C;\n",
              "      --hover-fill-color: #FFFFFF;\n",
              "      --disabled-bg-color: #3B4455;\n",
              "      --disabled-fill-color: #666;\n",
              "  }\n",
              "\n",
              "  .colab-df-quickchart {\n",
              "    background-color: var(--bg-color);\n",
              "    border: none;\n",
              "    border-radius: 50%;\n",
              "    cursor: pointer;\n",
              "    display: none;\n",
              "    fill: var(--fill-color);\n",
              "    height: 32px;\n",
              "    padding: 0;\n",
              "    width: 32px;\n",
              "  }\n",
              "\n",
              "  .colab-df-quickchart:hover {\n",
              "    background-color: var(--hover-bg-color);\n",
              "    box-shadow: 0 1px 2px rgba(60, 64, 67, 0.3), 0 1px 3px 1px rgba(60, 64, 67, 0.15);\n",
              "    fill: var(--button-hover-fill-color);\n",
              "  }\n",
              "\n",
              "  .colab-df-quickchart-complete:disabled,\n",
              "  .colab-df-quickchart-complete:disabled:hover {\n",
              "    background-color: var(--disabled-bg-color);\n",
              "    fill: var(--disabled-fill-color);\n",
              "    box-shadow: none;\n",
              "  }\n",
              "\n",
              "  .colab-df-spinner {\n",
              "    border: 2px solid var(--fill-color);\n",
              "    border-color: transparent;\n",
              "    border-bottom-color: var(--fill-color);\n",
              "    animation:\n",
              "      spin 1s steps(1) infinite;\n",
              "  }\n",
              "\n",
              "  @keyframes spin {\n",
              "    0% {\n",
              "      border-color: transparent;\n",
              "      border-bottom-color: var(--fill-color);\n",
              "      border-left-color: var(--fill-color);\n",
              "    }\n",
              "    20% {\n",
              "      border-color: transparent;\n",
              "      border-left-color: var(--fill-color);\n",
              "      border-top-color: var(--fill-color);\n",
              "    }\n",
              "    30% {\n",
              "      border-color: transparent;\n",
              "      border-left-color: var(--fill-color);\n",
              "      border-top-color: var(--fill-color);\n",
              "      border-right-color: var(--fill-color);\n",
              "    }\n",
              "    40% {\n",
              "      border-color: transparent;\n",
              "      border-right-color: var(--fill-color);\n",
              "      border-top-color: var(--fill-color);\n",
              "    }\n",
              "    60% {\n",
              "      border-color: transparent;\n",
              "      border-right-color: var(--fill-color);\n",
              "    }\n",
              "    80% {\n",
              "      border-color: transparent;\n",
              "      border-right-color: var(--fill-color);\n",
              "      border-bottom-color: var(--fill-color);\n",
              "    }\n",
              "    90% {\n",
              "      border-color: transparent;\n",
              "      border-bottom-color: var(--fill-color);\n",
              "    }\n",
              "  }\n",
              "</style>\n",
              "\n",
              "  <script>\n",
              "    async function quickchart(key) {\n",
              "      const quickchartButtonEl =\n",
              "        document.querySelector('#' + key + ' button');\n",
              "      quickchartButtonEl.disabled = true;  // To prevent multiple clicks.\n",
              "      quickchartButtonEl.classList.add('colab-df-spinner');\n",
              "      try {\n",
              "        const charts = await google.colab.kernel.invokeFunction(\n",
              "            'suggestCharts', [key], {});\n",
              "      } catch (error) {\n",
              "        console.error('Error during call to suggestCharts:', error);\n",
              "      }\n",
              "      quickchartButtonEl.classList.remove('colab-df-spinner');\n",
              "      quickchartButtonEl.classList.add('colab-df-quickchart-complete');\n",
              "    }\n",
              "    (() => {\n",
              "      let quickchartButtonEl =\n",
              "        document.querySelector('#df-3947ea80-bcc8-4f0f-a9f0-86513c1b0714 button');\n",
              "      quickchartButtonEl.style.display =\n",
              "        google.colab.kernel.accessAllowed ? 'block' : 'none';\n",
              "    })();\n",
              "  </script>\n",
              "</div>\n",
              "    </div>\n",
              "  </div>\n"
            ]
          },
          "metadata": {},
          "execution_count": 62
        }
      ]
    },
    {
      "cell_type": "code",
      "source": [],
      "metadata": {
        "id": "oYrIEoaMaF-J"
      },
      "execution_count": null,
      "outputs": []
    },
    {
      "cell_type": "markdown",
      "source": [
        "# HybridCNN Model"
      ],
      "metadata": {
        "id": "4m8gikEMZshh"
      }
    },
    {
      "cell_type": "code",
      "source": [
        "class HybridCNN(nn.Module):\n",
        "    def __init__(self, vocab_size, embedding_dim, num_filters, filter_sizes, hidden_size, dropout, output_dim):\n",
        "        super(HybridCNN, self).__init__()\n",
        "\n",
        "        self.embedding = nn.Embedding(vocab_size, embedding_dim)\n",
        "        self.conv_layers = nn.ModuleList([nn.Conv1d(in_channels=embedding_dim, out_channels=num_filters, kernel_size=size) for size in filter_sizes])\n",
        "        self.lstm = nn.LSTM(input_size=num_filters * len(filter_sizes), hidden_size=hidden_size, batch_first=True, dropout=dropout)\n",
        "        self.fc = nn.Linear(hidden_size, output_dim)\n",
        "        self.dropout = nn.Dropout(dropout)\n",
        "\n",
        "    def forward(self, x):\n",
        "        x = self.embedding(x)\n",
        "        x = x.permute(0, 2, 1)\n",
        "        x = [F.relu(conv(x)) for conv in self.conv_layers]\n",
        "        x = [F.max_pool1d(conv, conv.shape[2]).squeeze(2) for conv in x]\n",
        "        x = torch.cat(x, dim=1)\n",
        "        x, unkonown = self.lstm(x.unsqueeze(1))\n",
        "        x = x[:, -1, :]\n",
        "        x = self.fc(x)\n",
        "        x = self.dropout(x)\n",
        "\n",
        "        return x\n",
        "\n",
        "# Define hyperparameters for the model where some of them can be changed later\n",
        "vocab_size = len(Vocab)\n",
        "embedding_dim = 200\n",
        "output_dim = 6\n",
        "num_filters = 100\n",
        "filter_sizes = [2, 3, 4]\n",
        "hidden_size = 128\n",
        "dropout = 0.5\n",
        "\n",
        "# Define Model and print the architecture of the model\n",
        "model = HybridCNN(vocab_size, embedding_dim, num_filters, filter_sizes, hidden_size, dropout, output_dim)\n",
        "print(model)"
      ],
      "metadata": {
        "id": "c_4OyhmsZqzY",
        "colab": {
          "base_uri": "https://localhost:8080/"
        },
        "outputId": "cbf3df37-a758-41e1-e4f7-122d055556d1"
      },
      "execution_count": 71,
      "outputs": [
        {
          "output_type": "stream",
          "name": "stdout",
          "text": [
            "HybridCNN(\n",
            "  (embedding): Embedding(14286, 200)\n",
            "  (conv_layers): ModuleList(\n",
            "    (0): Conv1d(200, 100, kernel_size=(2,), stride=(1,))\n",
            "    (1): Conv1d(200, 100, kernel_size=(3,), stride=(1,))\n",
            "    (2): Conv1d(200, 100, kernel_size=(4,), stride=(1,))\n",
            "  )\n",
            "  (lstm): LSTM(300, 128, batch_first=True, dropout=0.5)\n",
            "  (fc): Linear(in_features=128, out_features=6, bias=True)\n",
            "  (dropout): Dropout(p=0.5, inplace=False)\n",
            ")\n"
          ]
        }
      ]
    },
    {
      "cell_type": "code",
      "source": [
        "device = torch.device(\"cuda\" if torch.cuda.is_available() else \"cpu\")\n",
        "\n",
        "# Training each model on these cobination of hyperparameters\n",
        "learning_rates = [0.001, 0.01]\n",
        "optimizers = ['Adam', 'SGD', 'RMSprop']\n",
        "loss_functions = [nn.CrossEntropyLoss(), FocalLoss(gamma=2)]\n",
        "batch_sizes = [32, 64, 128]\n",
        "embedding_dims = [100, 200, 300]\n",
        "\n",
        "combinations = list(itertools.product(learning_rates, optimizers, loss_functions, batch_sizes, embedding_dims))\n",
        "\n",
        "results = []\n",
        "best_accuracy = 0.0\n",
        "best_hyperparameters = None\n",
        "best_model = None\n",
        "\n",
        "for combination in tqdm(combinations):\n",
        "    learning_rate, optimizer_name, loss_fn, batch_size, embedding_dim = combination\n",
        "\n",
        "    # create a model for each of the hyperparameter combination, train and evaluate on test data\n",
        "    model = HybridCNN(vocab_size, embedding_dim, num_filters, filter_sizes, hidden_size, dropout, output_dim)\n",
        "    model.to(device)\n",
        "\n",
        "    # set the optimizer and loss function\n",
        "    optimizer = get_optimizer(optimizer_name, model.parameters(), learning_rate)\n",
        "    criterion = loss_fn\n",
        "\n",
        "    # Loaders are used to efficiently iterate over the datasets in batches during the training and evaluation processes\n",
        "    train_loader = DataLoader(train_dataset, batch_size=batch_size, shuffle=True)\n",
        "    val_loader = DataLoader(val_dataset, batch_size=batch_size, shuffle=False)\n",
        "    test_loader = DataLoader(test_dataset, batch_size=batch_size, shuffle=False)\n",
        "\n",
        "    num_epochs = 5\n",
        "    for epoch in range(num_epochs):\n",
        "        model.train()\n",
        "        training_loss = 0.0\n",
        "        training_corrects = 0\n",
        "        training_count = 0\n",
        "\n",
        "        # Model Training\n",
        "        for i, data in enumerate(train_loader, 0):\n",
        "            inputs, labels = data\n",
        "            inputs, labels = inputs.to(device), labels.to(device)\n",
        "            # print(inputs)\n",
        "            # print(labels)\n",
        "\n",
        "            optimizer.zero_grad()\n",
        "            outputs = model(inputs)\n",
        "            # print(outputs)\n",
        "\n",
        "            loss = criterion(outputs, labels)\n",
        "            loss.backward()\n",
        "            training_loss += loss.item()\n",
        "\n",
        "            optimizer.step()\n",
        "\n",
        "            x, preds = torch.max(outputs.data, 1)\n",
        "            # print(preds)\n",
        "\n",
        "            training_count += labels.size(0)\n",
        "            training_corrects += torch.sum(preds == labels).item()\n",
        "\n",
        "        # calculate the average loss and accuracy for the each training epoch\n",
        "        train_epoch_loss = training_loss / len(train_loader)\n",
        "        train_epoch_accuracy = training_corrects / training_count\n",
        "\n",
        "\n",
        "\n",
        "        # Model Validation on data that it hasn't seen during training and adjust hyperparameters\n",
        "        model.eval()\n",
        "        validation_loss = 0.0\n",
        "        validation_corrects = 0\n",
        "        validation_count = 0\n",
        "\n",
        "        with torch.no_grad():\n",
        "            for i, data in enumerate(val_loader, 0):\n",
        "                inputs, labels = data\n",
        "                inputs, labels = inputs.to(device), labels.to(device)\n",
        "                outputs = model(inputs)\n",
        "                # print(inputs)\n",
        "                # print(labels)\n",
        "                # print(outputs)\n",
        "\n",
        "                loss = criterion(outputs, labels)\n",
        "                validation_loss += loss.item()\n",
        "\n",
        "                x, preds = torch.max(outputs.data, 1)\n",
        "                # print(preds)\n",
        "\n",
        "                validation_count += labels.size(0)\n",
        "                validation_corrects += torch.sum(preds == labels).item()\n",
        "\n",
        "        # calculate the average loss and accuracy for the each validation epoch\n",
        "        val_epoch_loss = validation_loss / len(val_loader)\n",
        "        val_epoch_accuracy = validation_corrects / validation_count\n",
        "\n",
        "        print(f\"Epoch {epoch + 1}/{num_epochs}, \"\n",
        "              f\"Train Loss: {train_epoch_loss:.4f}, Train Accuracy: {train_epoch_accuracy * 100:.2f}%, \"\n",
        "              f\"Validation Loss: {val_epoch_loss:.4f}, Validation Accuracy: {val_epoch_accuracy * 100:.2f}\")\n",
        "\n",
        "\n",
        "\n",
        "    # Testing the accuracy of the model on test data\n",
        "    test_loss = 0.0\n",
        "    test_corrects = 0\n",
        "    test_count = 0\n",
        "    with torch.no_grad():\n",
        "        for i, data in enumerate(test_loader, 0):\n",
        "            inputs, labels = data\n",
        "            inputs, labels = inputs.to(device), labels.to(device)\n",
        "            outputs = model(inputs)\n",
        "            # print(inputs)\n",
        "            # print(labels)\n",
        "            # print(outputs)\n",
        "\n",
        "            loss = criterion(outputs, labels)\n",
        "            test_loss += loss.item()\n",
        "\n",
        "            x, preds = torch.max(outputs.data, 1)\n",
        "            # print(preds)\n",
        "\n",
        "            test_count += labels.size(0)\n",
        "            test_corrects += torch.sum(preds == labels).item()\n",
        "\n",
        "    # calculate the average test_loss and test_accuracy on the training data\n",
        "    average_test_loss = test_loss / len(test_loader)\n",
        "    average_test_accuracy = test_corrects / test_count\n",
        "\n",
        "    result = {\n",
        "        'Learning Rate': learning_rate,\n",
        "        'Optimizer': optimizer_name,\n",
        "        'Loss Function': loss_fn.__class__.__name__,\n",
        "        'Batch Size': batch_size,\n",
        "        'Embedding Dim': embedding_dim,\n",
        "        'Test Accuracy': average_test_accuracy\n",
        "    }\n",
        "    results.append(result)\n",
        "    # Add each hyperparameter combination with the test accuracy tp results list for later analysis\n",
        "\n",
        "    print(f\"Hyperparameters: LR={learning_rate}, Optimizer={optimizer_name}, Loss={loss_fn.__class__.__name__}, \"\n",
        "          f\"Batch Size={batch_size}, Embedding Dim={embedding_dim}, \"\n",
        "          f\"Test Loss: {average_test_loss:.4f}, Test Accuracy: {average_test_accuracy * 100:.2f}\")\n",
        "\n",
        "    # The best-performing model and its associated hyperparameters are stored for later analysis\n",
        "    if average_test_accuracy > best_accuracy:\n",
        "        best_accuracy = average_test_accuracy\n",
        "        best_hyperparameters = combination\n",
        "        best_model = model.state_dict()\n",
        "\n"
      ],
      "metadata": {
        "colab": {
          "base_uri": "https://localhost:8080/"
        },
        "id": "MAXMpxRhMlNY",
        "outputId": "661ed41a-d09a-44d1-c424-c0e1c5041735"
      },
      "execution_count": 72,
      "outputs": [
        {
          "output_type": "stream",
          "name": "stderr",
          "text": [
            "\r  0%|          | 0/108 [00:00<?, ?it/s]"
          ]
        },
        {
          "output_type": "stream",
          "name": "stdout",
          "text": [
            "Epoch 1/5, Train Loss: 1.7721, Train Accuracy: 20.51%, Validation Loss: 1.7416, Validation Accuracy: 24.30\n",
            "Epoch 2/5, Train Loss: 1.7467, Train Accuracy: 23.22%, Validation Loss: 1.7445, Validation Accuracy: 21.42\n",
            "Epoch 3/5, Train Loss: 1.7250, Train Accuracy: 24.29%, Validation Loss: 1.7071, Validation Accuracy: 24.14\n",
            "Epoch 4/5, Train Loss: 1.6863, Train Accuracy: 26.80%, Validation Loss: 1.7030, Validation Accuracy: 23.91\n"
          ]
        },
        {
          "output_type": "stream",
          "name": "stderr",
          "text": [
            "\r  1%|          | 1/108 [00:08<14:30,  8.13s/it]"
          ]
        },
        {
          "output_type": "stream",
          "name": "stdout",
          "text": [
            "Epoch 5/5, Train Loss: 1.6272, Train Accuracy: 31.65%, Validation Loss: 1.6940, Validation Accuracy: 25.62\n",
            "Hyperparameters: LR=0.001, Optimizer=Adam, Loss=CrossEntropyLoss, Batch Size=32, Embedding Dim=100, Test Loss: 1.6986, Test Accuracy: 24.32\n",
            "Epoch 1/5, Train Loss: 1.7666, Train Accuracy: 21.15%, Validation Loss: 1.7243, Validation Accuracy: 23.29\n",
            "Epoch 2/5, Train Loss: 1.7322, Train Accuracy: 24.27%, Validation Loss: 1.7090, Validation Accuracy: 27.10\n",
            "Epoch 3/5, Train Loss: 1.7097, Train Accuracy: 25.47%, Validation Loss: 1.7110, Validation Accuracy: 26.09\n",
            "Epoch 4/5, Train Loss: 1.6674, Train Accuracy: 28.51%, Validation Loss: 1.7006, Validation Accuracy: 26.48\n"
          ]
        },
        {
          "output_type": "stream",
          "name": "stderr",
          "text": [
            "\r  2%|▏         | 2/108 [00:17<15:48,  8.94s/it]"
          ]
        },
        {
          "output_type": "stream",
          "name": "stdout",
          "text": [
            "Epoch 5/5, Train Loss: 1.6157, Train Accuracy: 32.23%, Validation Loss: 1.7157, Validation Accuracy: 23.91\n",
            "Hyperparameters: LR=0.001, Optimizer=Adam, Loss=CrossEntropyLoss, Batch Size=32, Embedding Dim=200, Test Loss: 1.7069, Test Accuracy: 24.79\n",
            "Epoch 1/5, Train Loss: 1.7646, Train Accuracy: 21.18%, Validation Loss: 1.7408, Validation Accuracy: 25.47\n",
            "Epoch 2/5, Train Loss: 1.7321, Train Accuracy: 24.27%, Validation Loss: 1.7123, Validation Accuracy: 26.87\n",
            "Epoch 3/5, Train Loss: 1.7055, Train Accuracy: 26.95%, Validation Loss: 1.7079, Validation Accuracy: 27.10\n",
            "Epoch 4/5, Train Loss: 1.6648, Train Accuracy: 29.53%, Validation Loss: 1.6971, Validation Accuracy: 29.05\n"
          ]
        },
        {
          "output_type": "stream",
          "name": "stderr",
          "text": [
            "\r  3%|▎         | 3/108 [00:27<16:33,  9.46s/it]"
          ]
        },
        {
          "output_type": "stream",
          "name": "stdout",
          "text": [
            "Epoch 5/5, Train Loss: 1.6034, Train Accuracy: 34.17%, Validation Loss: 1.7040, Validation Accuracy: 25.62\n",
            "Hyperparameters: LR=0.001, Optimizer=Adam, Loss=CrossEntropyLoss, Batch Size=32, Embedding Dim=300, Test Loss: 1.6960, Test Accuracy: 25.80\n",
            "Epoch 1/5, Train Loss: 1.7751, Train Accuracy: 19.68%, Validation Loss: 1.7608, Validation Accuracy: 22.35\n",
            "Epoch 2/5, Train Loss: 1.7419, Train Accuracy: 23.48%, Validation Loss: 1.7252, Validation Accuracy: 23.05\n",
            "Epoch 3/5, Train Loss: 1.7170, Train Accuracy: 25.33%, Validation Loss: 1.7090, Validation Accuracy: 26.48\n",
            "Epoch 4/5, Train Loss: 1.6712, Train Accuracy: 28.68%, Validation Loss: 1.6985, Validation Accuracy: 24.84\n"
          ]
        },
        {
          "output_type": "stream",
          "name": "stderr",
          "text": [
            "\r  4%|▎         | 4/108 [00:32<13:28,  7.77s/it]"
          ]
        },
        {
          "output_type": "stream",
          "name": "stdout",
          "text": [
            "Epoch 5/5, Train Loss: 1.6185, Train Accuracy: 33.07%, Validation Loss: 1.7017, Validation Accuracy: 26.17\n",
            "Hyperparameters: LR=0.001, Optimizer=Adam, Loss=CrossEntropyLoss, Batch Size=64, Embedding Dim=100, Test Loss: 1.6960, Test Accuracy: 25.64\n",
            "Epoch 1/5, Train Loss: 1.7661, Train Accuracy: 20.84%, Validation Loss: 1.7322, Validation Accuracy: 23.60\n",
            "Epoch 2/5, Train Loss: 1.7273, Train Accuracy: 25.66%, Validation Loss: 1.6972, Validation Accuracy: 28.27\n",
            "Epoch 3/5, Train Loss: 1.6850, Train Accuracy: 28.09%, Validation Loss: 1.7131, Validation Accuracy: 26.40\n",
            "Epoch 4/5, Train Loss: 1.6134, Train Accuracy: 33.06%, Validation Loss: 1.7001, Validation Accuracy: 27.41\n"
          ]
        },
        {
          "output_type": "stream",
          "name": "stderr",
          "text": [
            "\r  5%|▍         | 5/108 [00:38<11:52,  6.92s/it]"
          ]
        },
        {
          "output_type": "stream",
          "name": "stdout",
          "text": [
            "Epoch 5/5, Train Loss: 1.5192, Train Accuracy: 38.98%, Validation Loss: 1.6993, Validation Accuracy: 27.18\n",
            "Hyperparameters: LR=0.001, Optimizer=Adam, Loss=CrossEntropyLoss, Batch Size=64, Embedding Dim=200, Test Loss: 1.7127, Test Accuracy: 25.25\n",
            "Epoch 1/5, Train Loss: 1.7679, Train Accuracy: 20.64%, Validation Loss: 1.7223, Validation Accuracy: 25.39\n",
            "Epoch 2/5, Train Loss: 1.7364, Train Accuracy: 24.39%, Validation Loss: 1.7008, Validation Accuracy: 25.70\n",
            "Epoch 3/5, Train Loss: 1.7019, Train Accuracy: 27.21%, Validation Loss: 1.7009, Validation Accuracy: 26.01\n",
            "Epoch 4/5, Train Loss: 1.6496, Train Accuracy: 30.96%, Validation Loss: 1.6942, Validation Accuracy: 25.86\n"
          ]
        },
        {
          "output_type": "stream",
          "name": "stderr",
          "text": [
            "\r  6%|▌         | 6/108 [00:44<11:29,  6.76s/it]"
          ]
        },
        {
          "output_type": "stream",
          "name": "stdout",
          "text": [
            "Epoch 5/5, Train Loss: 1.5674, Train Accuracy: 35.71%, Validation Loss: 1.7026, Validation Accuracy: 26.01\n",
            "Hyperparameters: LR=0.001, Optimizer=Adam, Loss=CrossEntropyLoss, Batch Size=64, Embedding Dim=300, Test Loss: 1.7188, Test Accuracy: 24.40\n",
            "Epoch 1/5, Train Loss: 1.7761, Train Accuracy: 20.21%, Validation Loss: 1.7640, Validation Accuracy: 19.55\n",
            "Epoch 2/5, Train Loss: 1.7543, Train Accuracy: 22.25%, Validation Loss: 1.7239, Validation Accuracy: 24.22\n",
            "Epoch 3/5, Train Loss: 1.7182, Train Accuracy: 25.35%, Validation Loss: 1.7043, Validation Accuracy: 25.93\n",
            "Epoch 4/5, Train Loss: 1.6699, Train Accuracy: 29.74%, Validation Loss: 1.7093, Validation Accuracy: 24.53\n"
          ]
        },
        {
          "output_type": "stream",
          "name": "stderr",
          "text": [
            "\r  6%|▋         | 7/108 [00:54<12:53,  7.66s/it]"
          ]
        },
        {
          "output_type": "stream",
          "name": "stdout",
          "text": [
            "Epoch 5/5, Train Loss: 1.6033, Train Accuracy: 34.31%, Validation Loss: 1.7309, Validation Accuracy: 24.69\n",
            "Hyperparameters: LR=0.001, Optimizer=Adam, Loss=CrossEntropyLoss, Batch Size=128, Embedding Dim=100, Test Loss: 1.7116, Test Accuracy: 25.49\n",
            "Epoch 1/5, Train Loss: 1.7649, Train Accuracy: 21.26%, Validation Loss: 1.7236, Validation Accuracy: 26.48\n",
            "Epoch 2/5, Train Loss: 1.7231, Train Accuracy: 25.55%, Validation Loss: 1.7040, Validation Accuracy: 26.17\n",
            "Epoch 3/5, Train Loss: 1.6725, Train Accuracy: 29.35%, Validation Loss: 1.6839, Validation Accuracy: 26.09\n",
            "Epoch 4/5, Train Loss: 1.5937, Train Accuracy: 34.79%, Validation Loss: 1.6843, Validation Accuracy: 25.31\n"
          ]
        },
        {
          "output_type": "stream",
          "name": "stderr",
          "text": [
            "\r  7%|▋         | 8/108 [00:58<10:42,  6.43s/it]"
          ]
        },
        {
          "output_type": "stream",
          "name": "stdout",
          "text": [
            "Epoch 5/5, Train Loss: 1.4847, Train Accuracy: 40.51%, Validation Loss: 1.7202, Validation Accuracy: 27.10\n",
            "Hyperparameters: LR=0.001, Optimizer=Adam, Loss=CrossEntropyLoss, Batch Size=128, Embedding Dim=200, Test Loss: 1.7100, Test Accuracy: 27.51\n",
            "Epoch 1/5, Train Loss: 1.7702, Train Accuracy: 20.65%, Validation Loss: 1.7316, Validation Accuracy: 24.77\n",
            "Epoch 2/5, Train Loss: 1.7301, Train Accuracy: 25.08%, Validation Loss: 1.7197, Validation Accuracy: 26.79\n",
            "Epoch 3/5, Train Loss: 1.6980, Train Accuracy: 28.25%, Validation Loss: 1.6881, Validation Accuracy: 25.93\n",
            "Epoch 4/5, Train Loss: 1.6191, Train Accuracy: 33.03%, Validation Loss: 1.6883, Validation Accuracy: 26.32\n"
          ]
        },
        {
          "output_type": "stream",
          "name": "stderr",
          "text": [
            "\r  8%|▊         | 9/108 [01:03<09:57,  6.04s/it]"
          ]
        },
        {
          "output_type": "stream",
          "name": "stdout",
          "text": [
            "Epoch 5/5, Train Loss: 1.5257, Train Accuracy: 37.64%, Validation Loss: 1.7074, Validation Accuracy: 25.47\n",
            "Hyperparameters: LR=0.001, Optimizer=Adam, Loss=CrossEntropyLoss, Batch Size=128, Embedding Dim=300, Test Loss: 1.7143, Test Accuracy: 26.58\n",
            "Epoch 1/5, Train Loss: 1.2244, Train Accuracy: 19.59%, Validation Loss: 1.2018, Validation Accuracy: 23.21\n",
            "Epoch 2/5, Train Loss: 1.1986, Train Accuracy: 22.53%, Validation Loss: 1.1530, Validation Accuracy: 24.61\n",
            "Epoch 3/5, Train Loss: 1.1611, Train Accuracy: 25.11%, Validation Loss: 1.1296, Validation Accuracy: 25.86\n",
            "Epoch 4/5, Train Loss: 1.1158, Train Accuracy: 28.10%, Validation Loss: 1.1357, Validation Accuracy: 25.78\n"
          ]
        },
        {
          "output_type": "stream",
          "name": "stderr",
          "text": [
            "\r  9%|▉         | 10/108 [01:11<10:53,  6.67s/it]"
          ]
        },
        {
          "output_type": "stream",
          "name": "stdout",
          "text": [
            "Epoch 5/5, Train Loss: 1.0390, Train Accuracy: 32.61%, Validation Loss: 1.1228, Validation Accuracy: 27.73\n",
            "Hyperparameters: LR=0.001, Optimizer=Adam, Loss=FocalLoss, Batch Size=32, Embedding Dim=100, Test Loss: 1.1246, Test Accuracy: 25.18\n",
            "Epoch 1/5, Train Loss: 1.2140, Train Accuracy: 20.46%, Validation Loss: 1.1669, Validation Accuracy: 25.00\n",
            "Epoch 2/5, Train Loss: 1.1770, Train Accuracy: 24.46%, Validation Loss: 1.1384, Validation Accuracy: 27.26\n",
            "Epoch 3/5, Train Loss: 1.1454, Train Accuracy: 26.73%, Validation Loss: 1.1396, Validation Accuracy: 27.80\n",
            "Epoch 4/5, Train Loss: 1.0926, Train Accuracy: 30.35%, Validation Loss: 1.1410, Validation Accuracy: 26.09\n"
          ]
        },
        {
          "output_type": "stream",
          "name": "stderr",
          "text": [
            "\r 10%|█         | 11/108 [01:21<12:16,  7.60s/it]"
          ]
        },
        {
          "output_type": "stream",
          "name": "stdout",
          "text": [
            "Epoch 5/5, Train Loss: 1.0099, Train Accuracy: 34.28%, Validation Loss: 1.1421, Validation Accuracy: 23.29\n",
            "Hyperparameters: LR=0.001, Optimizer=Adam, Loss=FocalLoss, Batch Size=32, Embedding Dim=200, Test Loss: 1.1466, Test Accuracy: 23.85\n",
            "Epoch 1/5, Train Loss: 1.2163, Train Accuracy: 20.75%, Validation Loss: 1.1858, Validation Accuracy: 21.50\n",
            "Epoch 2/5, Train Loss: 1.1869, Train Accuracy: 23.26%, Validation Loss: 1.1645, Validation Accuracy: 26.09\n",
            "Epoch 3/5, Train Loss: 1.1540, Train Accuracy: 25.96%, Validation Loss: 1.1382, Validation Accuracy: 26.56\n",
            "Epoch 4/5, Train Loss: 1.1012, Train Accuracy: 29.80%, Validation Loss: 1.1369, Validation Accuracy: 25.86\n"
          ]
        },
        {
          "output_type": "stream",
          "name": "stderr",
          "text": [
            "\r 11%|█         | 12/108 [01:31<13:34,  8.48s/it]"
          ]
        },
        {
          "output_type": "stream",
          "name": "stdout",
          "text": [
            "Epoch 5/5, Train Loss: 1.0371, Train Accuracy: 33.96%, Validation Loss: 1.1509, Validation Accuracy: 25.55\n",
            "Hyperparameters: LR=0.001, Optimizer=Adam, Loss=FocalLoss, Batch Size=32, Embedding Dim=300, Test Loss: 1.1462, Test Accuracy: 24.01\n",
            "Epoch 1/5, Train Loss: 1.2175, Train Accuracy: 19.94%, Validation Loss: 1.1927, Validation Accuracy: 22.43\n",
            "Epoch 2/5, Train Loss: 1.1888, Train Accuracy: 23.30%, Validation Loss: 1.1535, Validation Accuracy: 26.01\n",
            "Epoch 3/5, Train Loss: 1.1417, Train Accuracy: 25.89%, Validation Loss: 1.1634, Validation Accuracy: 25.16\n",
            "Epoch 4/5, Train Loss: 1.0928, Train Accuracy: 29.21%, Validation Loss: 1.1324, Validation Accuracy: 26.56\n"
          ]
        },
        {
          "output_type": "stream",
          "name": "stderr",
          "text": [
            "\r 12%|█▏        | 13/108 [01:36<11:53,  7.51s/it]"
          ]
        },
        {
          "output_type": "stream",
          "name": "stdout",
          "text": [
            "Epoch 5/5, Train Loss: 1.0088, Train Accuracy: 33.57%, Validation Loss: 1.1298, Validation Accuracy: 25.47\n",
            "Hyperparameters: LR=0.001, Optimizer=Adam, Loss=FocalLoss, Batch Size=64, Embedding Dim=100, Test Loss: 1.1515, Test Accuracy: 25.64\n",
            "Epoch 1/5, Train Loss: 1.2214, Train Accuracy: 20.78%, Validation Loss: 1.1858, Validation Accuracy: 24.84\n",
            "Epoch 2/5, Train Loss: 1.1835, Train Accuracy: 23.59%, Validation Loss: 1.1466, Validation Accuracy: 25.78\n",
            "Epoch 3/5, Train Loss: 1.1535, Train Accuracy: 25.58%, Validation Loss: 1.1371, Validation Accuracy: 25.23\n",
            "Epoch 4/5, Train Loss: 1.0918, Train Accuracy: 29.88%, Validation Loss: 1.1412, Validation Accuracy: 25.62\n"
          ]
        },
        {
          "output_type": "stream",
          "name": "stderr",
          "text": [
            "\r 13%|█▎        | 14/108 [01:42<10:48,  6.90s/it]"
          ]
        },
        {
          "output_type": "stream",
          "name": "stdout",
          "text": [
            "Epoch 5/5, Train Loss: 1.0077, Train Accuracy: 34.96%, Validation Loss: 1.1261, Validation Accuracy: 28.58\n",
            "Hyperparameters: LR=0.001, Optimizer=Adam, Loss=FocalLoss, Batch Size=64, Embedding Dim=200, Test Loss: 1.1314, Test Accuracy: 26.11\n",
            "Epoch 1/5, Train Loss: 1.2149, Train Accuracy: 21.68%, Validation Loss: 1.1893, Validation Accuracy: 22.59\n",
            "Epoch 2/5, Train Loss: 1.1714, Train Accuracy: 23.33%, Validation Loss: 1.1458, Validation Accuracy: 26.25\n",
            "Epoch 3/5, Train Loss: 1.1230, Train Accuracy: 28.13%, Validation Loss: 1.1429, Validation Accuracy: 26.71\n",
            "Epoch 4/5, Train Loss: 1.0518, Train Accuracy: 32.34%, Validation Loss: 1.1176, Validation Accuracy: 27.02\n"
          ]
        },
        {
          "output_type": "stream",
          "name": "stderr",
          "text": [
            "\r 14%|█▍        | 15/108 [01:49<10:41,  6.90s/it]"
          ]
        },
        {
          "output_type": "stream",
          "name": "stdout",
          "text": [
            "Epoch 5/5, Train Loss: 0.9575, Train Accuracy: 36.96%, Validation Loss: 1.1241, Validation Accuracy: 25.39\n",
            "Hyperparameters: LR=0.001, Optimizer=Adam, Loss=FocalLoss, Batch Size=64, Embedding Dim=300, Test Loss: 1.1520, Test Accuracy: 24.32\n",
            "Epoch 1/5, Train Loss: 1.2205, Train Accuracy: 20.10%, Validation Loss: 1.1853, Validation Accuracy: 24.30\n",
            "Epoch 2/5, Train Loss: 1.1790, Train Accuracy: 23.65%, Validation Loss: 1.1444, Validation Accuracy: 25.62\n",
            "Epoch 3/5, Train Loss: 1.1322, Train Accuracy: 26.98%, Validation Loss: 1.1483, Validation Accuracy: 24.53\n",
            "Epoch 4/5, Train Loss: 1.0581, Train Accuracy: 32.67%, Validation Loss: 1.1507, Validation Accuracy: 25.16\n"
          ]
        },
        {
          "output_type": "stream",
          "name": "stderr",
          "text": [
            "\r 15%|█▍        | 16/108 [01:58<11:46,  7.68s/it]"
          ]
        },
        {
          "output_type": "stream",
          "name": "stdout",
          "text": [
            "Epoch 5/5, Train Loss: 0.9565, Train Accuracy: 37.28%, Validation Loss: 1.1235, Validation Accuracy: 25.23\n",
            "Hyperparameters: LR=0.001, Optimizer=Adam, Loss=FocalLoss, Batch Size=128, Embedding Dim=100, Test Loss: 1.1541, Test Accuracy: 25.95\n",
            "Epoch 1/5, Train Loss: 1.2153, Train Accuracy: 21.58%, Validation Loss: 1.1731, Validation Accuracy: 24.38\n",
            "Epoch 2/5, Train Loss: 1.1625, Train Accuracy: 25.84%, Validation Loss: 1.1475, Validation Accuracy: 25.78\n",
            "Epoch 3/5, Train Loss: 1.0989, Train Accuracy: 29.97%, Validation Loss: 1.1594, Validation Accuracy: 25.62\n",
            "Epoch 4/5, Train Loss: 0.9995, Train Accuracy: 35.71%, Validation Loss: 1.1423, Validation Accuracy: 23.83\n"
          ]
        },
        {
          "output_type": "stream",
          "name": "stderr",
          "text": [
            "\r 16%|█▌        | 17/108 [02:02<09:56,  6.55s/it]"
          ]
        },
        {
          "output_type": "stream",
          "name": "stdout",
          "text": [
            "Epoch 5/5, Train Loss: 0.8685, Train Accuracy: 41.38%, Validation Loss: 1.1583, Validation Accuracy: 25.00\n",
            "Hyperparameters: LR=0.001, Optimizer=Adam, Loss=FocalLoss, Batch Size=128, Embedding Dim=200, Test Loss: 1.1765, Test Accuracy: 25.95\n",
            "Epoch 1/5, Train Loss: 1.2137, Train Accuracy: 21.50%, Validation Loss: 1.1683, Validation Accuracy: 25.00\n",
            "Epoch 2/5, Train Loss: 1.1644, Train Accuracy: 25.28%, Validation Loss: 1.1526, Validation Accuracy: 25.39\n",
            "Epoch 3/5, Train Loss: 1.1050, Train Accuracy: 29.69%, Validation Loss: 1.1299, Validation Accuracy: 26.79\n",
            "Epoch 4/5, Train Loss: 1.0142, Train Accuracy: 34.95%, Validation Loss: 1.1556, Validation Accuracy: 25.08\n"
          ]
        },
        {
          "output_type": "stream",
          "name": "stderr",
          "text": [
            "\r 17%|█▋        | 18/108 [02:07<09:14,  6.16s/it]"
          ]
        },
        {
          "output_type": "stream",
          "name": "stdout",
          "text": [
            "Epoch 5/5, Train Loss: 0.8850, Train Accuracy: 41.04%, Validation Loss: 1.2029, Validation Accuracy: 24.07\n",
            "Hyperparameters: LR=0.001, Optimizer=Adam, Loss=FocalLoss, Batch Size=128, Embedding Dim=300, Test Loss: 1.2331, Test Accuracy: 24.40\n",
            "Epoch 1/5, Train Loss: 1.7953, Train Accuracy: 18.10%, Validation Loss: 1.7847, Validation Accuracy: 18.93\n",
            "Epoch 2/5, Train Loss: 1.7776, Train Accuracy: 19.70%, Validation Loss: 1.7738, Validation Accuracy: 20.09\n",
            "Epoch 3/5, Train Loss: 1.7739, Train Accuracy: 19.69%, Validation Loss: 1.7695, Validation Accuracy: 20.56\n",
            "Epoch 4/5, Train Loss: 1.7739, Train Accuracy: 20.19%, Validation Loss: 1.7681, Validation Accuracy: 21.26\n"
          ]
        },
        {
          "output_type": "stream",
          "name": "stderr",
          "text": [
            "\r 18%|█▊        | 19/108 [02:14<09:17,  6.27s/it]"
          ]
        },
        {
          "output_type": "stream",
          "name": "stdout",
          "text": [
            "Epoch 5/5, Train Loss: 1.7727, Train Accuracy: 19.89%, Validation Loss: 1.7666, Validation Accuracy: 21.50\n",
            "Hyperparameters: LR=0.001, Optimizer=SGD, Loss=CrossEntropyLoss, Batch Size=32, Embedding Dim=100, Test Loss: 1.7601, Test Accuracy: 20.89\n",
            "Epoch 1/5, Train Loss: 1.7893, Train Accuracy: 18.10%, Validation Loss: 1.7768, Validation Accuracy: 18.30\n",
            "Epoch 2/5, Train Loss: 1.7749, Train Accuracy: 19.94%, Validation Loss: 1.7712, Validation Accuracy: 19.63\n",
            "Epoch 3/5, Train Loss: 1.7730, Train Accuracy: 20.31%, Validation Loss: 1.7690, Validation Accuracy: 19.78\n",
            "Epoch 4/5, Train Loss: 1.7736, Train Accuracy: 19.89%, Validation Loss: 1.7681, Validation Accuracy: 19.63\n"
          ]
        },
        {
          "output_type": "stream",
          "name": "stderr",
          "text": [
            "\r 19%|█▊        | 20/108 [02:22<09:59,  6.81s/it]"
          ]
        },
        {
          "output_type": "stream",
          "name": "stdout",
          "text": [
            "Epoch 5/5, Train Loss: 1.7719, Train Accuracy: 20.20%, Validation Loss: 1.7676, Validation Accuracy: 19.63\n",
            "Hyperparameters: LR=0.001, Optimizer=SGD, Loss=CrossEntropyLoss, Batch Size=32, Embedding Dim=200, Test Loss: 1.7607, Test Accuracy: 20.97\n",
            "Epoch 1/5, Train Loss: 1.7905, Train Accuracy: 19.41%, Validation Loss: 1.7759, Validation Accuracy: 20.79\n",
            "Epoch 2/5, Train Loss: 1.7759, Train Accuracy: 19.74%, Validation Loss: 1.7707, Validation Accuracy: 19.39\n",
            "Epoch 3/5, Train Loss: 1.7750, Train Accuracy: 20.05%, Validation Loss: 1.7689, Validation Accuracy: 19.24\n",
            "Epoch 4/5, Train Loss: 1.7702, Train Accuracy: 20.00%, Validation Loss: 1.7667, Validation Accuracy: 18.93\n"
          ]
        },
        {
          "output_type": "stream",
          "name": "stderr",
          "text": [
            "\r 19%|█▉        | 21/108 [02:30<10:15,  7.07s/it]"
          ]
        },
        {
          "output_type": "stream",
          "name": "stdout",
          "text": [
            "Epoch 5/5, Train Loss: 1.7711, Train Accuracy: 20.47%, Validation Loss: 1.7654, Validation Accuracy: 20.48\n",
            "Hyperparameters: LR=0.001, Optimizer=SGD, Loss=CrossEntropyLoss, Batch Size=32, Embedding Dim=300, Test Loss: 1.7594, Test Accuracy: 20.42\n",
            "Epoch 1/5, Train Loss: 1.7986, Train Accuracy: 17.63%, Validation Loss: 1.7876, Validation Accuracy: 17.60\n",
            "Epoch 2/5, Train Loss: 1.7873, Train Accuracy: 18.01%, Validation Loss: 1.7812, Validation Accuracy: 19.08\n",
            "Epoch 3/5, Train Loss: 1.7809, Train Accuracy: 18.76%, Validation Loss: 1.7773, Validation Accuracy: 19.08\n",
            "Epoch 4/5, Train Loss: 1.7774, Train Accuracy: 19.28%, Validation Loss: 1.7747, Validation Accuracy: 18.54\n"
          ]
        },
        {
          "output_type": "stream",
          "name": "stderr",
          "text": [
            "\r 20%|██        | 22/108 [02:34<08:47,  6.14s/it]"
          ]
        },
        {
          "output_type": "stream",
          "name": "stdout",
          "text": [
            "Epoch 5/5, Train Loss: 1.7762, Train Accuracy: 18.69%, Validation Loss: 1.7727, Validation Accuracy: 19.47\n",
            "Hyperparameters: LR=0.001, Optimizer=SGD, Loss=CrossEntropyLoss, Batch Size=64, Embedding Dim=100, Test Loss: 1.7667, Test Accuracy: 20.27\n",
            "Epoch 1/5, Train Loss: 1.7894, Train Accuracy: 19.36%, Validation Loss: 1.7821, Validation Accuracy: 18.61\n",
            "Epoch 2/5, Train Loss: 1.7821, Train Accuracy: 19.36%, Validation Loss: 1.7762, Validation Accuracy: 19.08\n",
            "Epoch 3/5, Train Loss: 1.7768, Train Accuracy: 19.53%, Validation Loss: 1.7724, Validation Accuracy: 20.33\n",
            "Epoch 4/5, Train Loss: 1.7746, Train Accuracy: 19.86%, Validation Loss: 1.7704, Validation Accuracy: 19.86\n"
          ]
        },
        {
          "output_type": "stream",
          "name": "stderr",
          "text": [
            "\r 21%|██▏       | 23/108 [02:39<08:18,  5.86s/it]"
          ]
        },
        {
          "output_type": "stream",
          "name": "stdout",
          "text": [
            "Epoch 5/5, Train Loss: 1.7727, Train Accuracy: 19.93%, Validation Loss: 1.7687, Validation Accuracy: 19.55\n",
            "Hyperparameters: LR=0.001, Optimizer=SGD, Loss=CrossEntropyLoss, Batch Size=64, Embedding Dim=200, Test Loss: 1.7628, Test Accuracy: 20.58\n",
            "Epoch 1/5, Train Loss: 1.8099, Train Accuracy: 14.79%, Validation Loss: 1.7949, Validation Accuracy: 19.55\n",
            "Epoch 2/5, Train Loss: 1.7866, Train Accuracy: 19.12%, Validation Loss: 1.7826, Validation Accuracy: 19.63\n",
            "Epoch 3/5, Train Loss: 1.7788, Train Accuracy: 20.00%, Validation Loss: 1.7766, Validation Accuracy: 19.31\n",
            "Epoch 4/5, Train Loss: 1.7738, Train Accuracy: 20.13%, Validation Loss: 1.7725, Validation Accuracy: 19.00\n"
          ]
        },
        {
          "output_type": "stream",
          "name": "stderr",
          "text": [
            "\r 22%|██▏       | 24/108 [02:44<07:59,  5.71s/it]"
          ]
        },
        {
          "output_type": "stream",
          "name": "stdout",
          "text": [
            "Epoch 5/5, Train Loss: 1.7736, Train Accuracy: 20.14%, Validation Loss: 1.7705, Validation Accuracy: 19.24\n",
            "Hyperparameters: LR=0.001, Optimizer=SGD, Loss=CrossEntropyLoss, Batch Size=64, Embedding Dim=300, Test Loss: 1.7650, Test Accuracy: 19.64\n",
            "Epoch 1/5, Train Loss: 1.7965, Train Accuracy: 17.48%, Validation Loss: 1.7878, Validation Accuracy: 13.55\n",
            "Epoch 2/5, Train Loss: 1.7886, Train Accuracy: 17.29%, Validation Loss: 1.7828, Validation Accuracy: 14.88\n",
            "Epoch 3/5, Train Loss: 1.7832, Train Accuracy: 17.16%, Validation Loss: 1.7788, Validation Accuracy: 15.03\n",
            "Epoch 4/5, Train Loss: 1.7804, Train Accuracy: 17.68%, Validation Loss: 1.7763, Validation Accuracy: 15.89\n"
          ]
        },
        {
          "output_type": "stream",
          "name": "stderr",
          "text": [
            "\r 23%|██▎       | 25/108 [02:54<09:24,  6.80s/it]"
          ]
        },
        {
          "output_type": "stream",
          "name": "stdout",
          "text": [
            "Epoch 5/5, Train Loss: 1.7772, Train Accuracy: 18.66%, Validation Loss: 1.7747, Validation Accuracy: 16.43\n",
            "Hyperparameters: LR=0.001, Optimizer=SGD, Loss=CrossEntropyLoss, Batch Size=128, Embedding Dim=100, Test Loss: 1.7695, Test Accuracy: 19.17\n",
            "Epoch 1/5, Train Loss: 1.8024, Train Accuracy: 15.90%, Validation Loss: 1.7891, Validation Accuracy: 18.93\n",
            "Epoch 2/5, Train Loss: 1.7919, Train Accuracy: 17.83%, Validation Loss: 1.7828, Validation Accuracy: 20.25\n",
            "Epoch 3/5, Train Loss: 1.7873, Train Accuracy: 18.31%, Validation Loss: 1.7790, Validation Accuracy: 21.65\n",
            "Epoch 4/5, Train Loss: 1.7814, Train Accuracy: 19.32%, Validation Loss: 1.7760, Validation Accuracy: 20.02\n"
          ]
        },
        {
          "output_type": "stream",
          "name": "stderr",
          "text": [
            "\r 24%|██▍       | 26/108 [02:57<07:56,  5.81s/it]"
          ]
        },
        {
          "output_type": "stream",
          "name": "stdout",
          "text": [
            "Epoch 5/5, Train Loss: 1.7787, Train Accuracy: 19.76%, Validation Loss: 1.7736, Validation Accuracy: 20.95\n",
            "Hyperparameters: LR=0.001, Optimizer=SGD, Loss=CrossEntropyLoss, Batch Size=128, Embedding Dim=200, Test Loss: 1.7724, Test Accuracy: 19.56\n",
            "Epoch 1/5, Train Loss: 1.8007, Train Accuracy: 17.92%, Validation Loss: 1.7932, Validation Accuracy: 19.24\n",
            "Epoch 2/5, Train Loss: 1.7882, Train Accuracy: 20.37%, Validation Loss: 1.7868, Validation Accuracy: 19.24\n",
            "Epoch 3/5, Train Loss: 1.7842, Train Accuracy: 19.78%, Validation Loss: 1.7820, Validation Accuracy: 18.46\n",
            "Epoch 4/5, Train Loss: 1.7797, Train Accuracy: 20.44%, Validation Loss: 1.7784, Validation Accuracy: 19.63\n"
          ]
        },
        {
          "output_type": "stream",
          "name": "stderr",
          "text": [
            "\r 25%|██▌       | 27/108 [03:01<07:14,  5.37s/it]"
          ]
        },
        {
          "output_type": "stream",
          "name": "stdout",
          "text": [
            "Epoch 5/5, Train Loss: 1.7778, Train Accuracy: 20.15%, Validation Loss: 1.7760, Validation Accuracy: 19.31\n",
            "Hyperparameters: LR=0.001, Optimizer=SGD, Loss=CrossEntropyLoss, Batch Size=128, Embedding Dim=300, Test Loss: 1.7724, Test Accuracy: 22.21\n",
            "Epoch 1/5, Train Loss: 1.2304, Train Accuracy: 19.58%, Validation Loss: 1.2229, Validation Accuracy: 19.08\n",
            "Epoch 2/5, Train Loss: 1.2251, Train Accuracy: 19.56%, Validation Loss: 1.2196, Validation Accuracy: 19.86\n",
            "Epoch 3/5, Train Loss: 1.2216, Train Accuracy: 19.64%, Validation Loss: 1.2170, Validation Accuracy: 20.17\n",
            "Epoch 4/5, Train Loss: 1.2241, Train Accuracy: 19.53%, Validation Loss: 1.2168, Validation Accuracy: 20.02\n"
          ]
        },
        {
          "output_type": "stream",
          "name": "stderr",
          "text": [
            "\r 26%|██▌       | 28/108 [03:09<08:10,  6.13s/it]"
          ]
        },
        {
          "output_type": "stream",
          "name": "stdout",
          "text": [
            "Epoch 5/5, Train Loss: 1.2220, Train Accuracy: 20.05%, Validation Loss: 1.2152, Validation Accuracy: 19.78\n",
            "Hyperparameters: LR=0.001, Optimizer=SGD, Loss=FocalLoss, Batch Size=32, Embedding Dim=100, Test Loss: 1.2073, Test Accuracy: 21.67\n",
            "Epoch 1/5, Train Loss: 1.2299, Train Accuracy: 19.48%, Validation Loss: 1.2207, Validation Accuracy: 19.39\n",
            "Epoch 2/5, Train Loss: 1.2249, Train Accuracy: 19.66%, Validation Loss: 1.2182, Validation Accuracy: 19.08\n",
            "Epoch 3/5, Train Loss: 1.2196, Train Accuracy: 20.26%, Validation Loss: 1.2151, Validation Accuracy: 19.39\n",
            "Epoch 4/5, Train Loss: 1.2200, Train Accuracy: 19.97%, Validation Loss: 1.2135, Validation Accuracy: 20.79\n"
          ]
        },
        {
          "output_type": "stream",
          "name": "stderr",
          "text": [
            "\r 27%|██▋       | 29/108 [03:17<08:34,  6.51s/it]"
          ]
        },
        {
          "output_type": "stream",
          "name": "stdout",
          "text": [
            "Epoch 5/5, Train Loss: 1.2212, Train Accuracy: 19.86%, Validation Loss: 1.2136, Validation Accuracy: 19.63\n",
            "Hyperparameters: LR=0.001, Optimizer=SGD, Loss=FocalLoss, Batch Size=32, Embedding Dim=200, Test Loss: 1.2059, Test Accuracy: 20.81\n",
            "Epoch 1/5, Train Loss: 1.2334, Train Accuracy: 19.84%, Validation Loss: 1.2258, Validation Accuracy: 18.69\n",
            "Epoch 2/5, Train Loss: 1.2252, Train Accuracy: 19.89%, Validation Loss: 1.2198, Validation Accuracy: 19.39\n",
            "Epoch 3/5, Train Loss: 1.2226, Train Accuracy: 19.87%, Validation Loss: 1.2175, Validation Accuracy: 19.39\n",
            "Epoch 4/5, Train Loss: 1.2217, Train Accuracy: 19.87%, Validation Loss: 1.2150, Validation Accuracy: 20.17\n"
          ]
        },
        {
          "output_type": "stream",
          "name": "stderr",
          "text": [
            "\r 28%|██▊       | 30/108 [03:26<09:30,  7.31s/it]"
          ]
        },
        {
          "output_type": "stream",
          "name": "stdout",
          "text": [
            "Epoch 5/5, Train Loss: 1.2180, Train Accuracy: 20.51%, Validation Loss: 1.2135, Validation Accuracy: 19.94\n",
            "Hyperparameters: LR=0.001, Optimizer=SGD, Loss=FocalLoss, Batch Size=32, Embedding Dim=300, Test Loss: 1.2070, Test Accuracy: 19.88\n",
            "Epoch 1/5, Train Loss: 1.2571, Train Accuracy: 17.60%, Validation Loss: 1.2352, Validation Accuracy: 20.79\n",
            "Epoch 2/5, Train Loss: 1.2373, Train Accuracy: 18.48%, Validation Loss: 1.2254, Validation Accuracy: 20.87\n",
            "Epoch 3/5, Train Loss: 1.2296, Train Accuracy: 19.49%, Validation Loss: 1.2211, Validation Accuracy: 21.81\n",
            "Epoch 4/5, Train Loss: 1.2254, Train Accuracy: 19.40%, Validation Loss: 1.2185, Validation Accuracy: 20.79\n"
          ]
        },
        {
          "output_type": "stream",
          "name": "stderr",
          "text": [
            "\r 29%|██▊       | 31/108 [03:30<08:06,  6.31s/it]"
          ]
        },
        {
          "output_type": "stream",
          "name": "stdout",
          "text": [
            "Epoch 5/5, Train Loss: 1.2263, Train Accuracy: 19.08%, Validation Loss: 1.2166, Validation Accuracy: 20.02\n",
            "Hyperparameters: LR=0.001, Optimizer=SGD, Loss=FocalLoss, Batch Size=64, Embedding Dim=100, Test Loss: 1.2125, Test Accuracy: 20.03\n",
            "Epoch 1/5, Train Loss: 1.2476, Train Accuracy: 17.66%, Validation Loss: 1.2350, Validation Accuracy: 15.19\n",
            "Epoch 2/5, Train Loss: 1.2340, Train Accuracy: 18.08%, Validation Loss: 1.2258, Validation Accuracy: 17.76\n",
            "Epoch 3/5, Train Loss: 1.2287, Train Accuracy: 19.00%, Validation Loss: 1.2208, Validation Accuracy: 20.56\n",
            "Epoch 4/5, Train Loss: 1.2241, Train Accuracy: 19.89%, Validation Loss: 1.2173, Validation Accuracy: 21.03\n"
          ]
        },
        {
          "output_type": "stream",
          "name": "stderr",
          "text": [
            "\r 30%|██▉       | 32/108 [03:34<07:21,  5.81s/it]"
          ]
        },
        {
          "output_type": "stream",
          "name": "stdout",
          "text": [
            "Epoch 5/5, Train Loss: 1.2219, Train Accuracy: 20.12%, Validation Loss: 1.2157, Validation Accuracy: 21.88\n",
            "Hyperparameters: LR=0.001, Optimizer=SGD, Loss=FocalLoss, Batch Size=64, Embedding Dim=200, Test Loss: 1.2109, Test Accuracy: 21.12\n",
            "Epoch 1/5, Train Loss: 1.2388, Train Accuracy: 17.94%, Validation Loss: 1.2319, Validation Accuracy: 17.60\n",
            "Epoch 2/5, Train Loss: 1.2291, Train Accuracy: 18.96%, Validation Loss: 1.2245, Validation Accuracy: 18.22\n",
            "Epoch 3/5, Train Loss: 1.2251, Train Accuracy: 19.34%, Validation Loss: 1.2205, Validation Accuracy: 17.91\n",
            "Epoch 4/5, Train Loss: 1.2220, Train Accuracy: 19.77%, Validation Loss: 1.2186, Validation Accuracy: 17.83\n"
          ]
        },
        {
          "output_type": "stream",
          "name": "stderr",
          "text": [
            "\r 31%|███       | 33/108 [03:41<07:22,  5.89s/it]"
          ]
        },
        {
          "output_type": "stream",
          "name": "stdout",
          "text": [
            "Epoch 5/5, Train Loss: 1.2203, Train Accuracy: 20.19%, Validation Loss: 1.2161, Validation Accuracy: 17.91\n",
            "Hyperparameters: LR=0.001, Optimizer=SGD, Loss=FocalLoss, Batch Size=64, Embedding Dim=300, Test Loss: 1.2074, Test Accuracy: 21.51\n",
            "Epoch 1/5, Train Loss: 1.2404, Train Accuracy: 19.38%, Validation Loss: 1.2357, Validation Accuracy: 21.42\n",
            "Epoch 2/5, Train Loss: 1.2356, Train Accuracy: 20.05%, Validation Loss: 1.2301, Validation Accuracy: 20.95\n",
            "Epoch 3/5, Train Loss: 1.2316, Train Accuracy: 20.09%, Validation Loss: 1.2261, Validation Accuracy: 20.33\n",
            "Epoch 4/5, Train Loss: 1.2283, Train Accuracy: 19.89%, Validation Loss: 1.2226, Validation Accuracy: 20.40\n"
          ]
        },
        {
          "output_type": "stream",
          "name": "stderr",
          "text": [
            "\r 31%|███▏      | 34/108 [03:50<08:29,  6.88s/it]"
          ]
        },
        {
          "output_type": "stream",
          "name": "stdout",
          "text": [
            "Epoch 5/5, Train Loss: 1.2253, Train Accuracy: 19.47%, Validation Loss: 1.2199, Validation Accuracy: 20.56\n",
            "Hyperparameters: LR=0.001, Optimizer=SGD, Loss=FocalLoss, Batch Size=128, Embedding Dim=100, Test Loss: 1.2179, Test Accuracy: 21.59\n",
            "Epoch 1/5, Train Loss: 1.2476, Train Accuracy: 18.11%, Validation Loss: 1.2460, Validation Accuracy: 13.16\n",
            "Epoch 2/5, Train Loss: 1.2379, Train Accuracy: 18.18%, Validation Loss: 1.2369, Validation Accuracy: 13.32\n",
            "Epoch 3/5, Train Loss: 1.2320, Train Accuracy: 18.15%, Validation Loss: 1.2314, Validation Accuracy: 15.34\n",
            "Epoch 4/5, Train Loss: 1.2290, Train Accuracy: 18.91%, Validation Loss: 1.2275, Validation Accuracy: 17.76\n"
          ]
        },
        {
          "output_type": "stream",
          "name": "stderr",
          "text": [
            "\r 32%|███▏      | 35/108 [03:54<07:16,  5.99s/it]"
          ]
        },
        {
          "output_type": "stream",
          "name": "stdout",
          "text": [
            "Epoch 5/5, Train Loss: 1.2269, Train Accuracy: 18.90%, Validation Loss: 1.2248, Validation Accuracy: 18.77\n",
            "Hyperparameters: LR=0.001, Optimizer=SGD, Loss=FocalLoss, Batch Size=128, Embedding Dim=200, Test Loss: 1.2194, Test Accuracy: 18.63\n",
            "Epoch 1/5, Train Loss: 1.2448, Train Accuracy: 17.83%, Validation Loss: 1.2393, Validation Accuracy: 19.94\n",
            "Epoch 2/5, Train Loss: 1.2354, Train Accuracy: 20.52%, Validation Loss: 1.2323, Validation Accuracy: 19.00\n",
            "Epoch 3/5, Train Loss: 1.2292, Train Accuracy: 20.09%, Validation Loss: 1.2279, Validation Accuracy: 19.08\n",
            "Epoch 4/5, Train Loss: 1.2250, Train Accuracy: 20.46%, Validation Loss: 1.2246, Validation Accuracy: 19.63\n"
          ]
        },
        {
          "output_type": "stream",
          "name": "stderr",
          "text": [
            "\r 33%|███▎      | 36/108 [03:58<06:39,  5.55s/it]"
          ]
        },
        {
          "output_type": "stream",
          "name": "stdout",
          "text": [
            "Epoch 5/5, Train Loss: 1.2276, Train Accuracy: 19.79%, Validation Loss: 1.2228, Validation Accuracy: 19.08\n",
            "Hyperparameters: LR=0.001, Optimizer=SGD, Loss=FocalLoss, Batch Size=128, Embedding Dim=300, Test Loss: 1.2191, Test Accuracy: 19.88\n",
            "Epoch 1/5, Train Loss: 1.7728, Train Accuracy: 20.40%, Validation Loss: 1.7432, Validation Accuracy: 25.70\n",
            "Epoch 2/5, Train Loss: 1.7389, Train Accuracy: 23.10%, Validation Loss: 1.7019, Validation Accuracy: 27.34\n",
            "Epoch 3/5, Train Loss: 1.7013, Train Accuracy: 26.60%, Validation Loss: 1.6963, Validation Accuracy: 28.19\n",
            "Epoch 4/5, Train Loss: 1.6612, Train Accuracy: 29.55%, Validation Loss: 1.6894, Validation Accuracy: 27.80\n"
          ]
        },
        {
          "output_type": "stream",
          "name": "stderr",
          "text": [
            "\r 34%|███▍      | 37/108 [04:05<07:01,  5.94s/it]"
          ]
        },
        {
          "output_type": "stream",
          "name": "stdout",
          "text": [
            "Epoch 5/5, Train Loss: 1.5983, Train Accuracy: 33.74%, Validation Loss: 1.6785, Validation Accuracy: 28.82\n",
            "Hyperparameters: LR=0.001, Optimizer=RMSprop, Loss=CrossEntropyLoss, Batch Size=32, Embedding Dim=100, Test Loss: 1.6951, Test Accuracy: 24.71\n",
            "Epoch 1/5, Train Loss: 1.7782, Train Accuracy: 20.10%, Validation Loss: 1.7472, Validation Accuracy: 22.51\n",
            "Epoch 2/5, Train Loss: 1.7461, Train Accuracy: 23.68%, Validation Loss: 1.7386, Validation Accuracy: 23.44\n",
            "Epoch 3/5, Train Loss: 1.7158, Train Accuracy: 25.32%, Validation Loss: 1.6949, Validation Accuracy: 27.80\n",
            "Epoch 4/5, Train Loss: 1.6732, Train Accuracy: 28.95%, Validation Loss: 1.6832, Validation Accuracy: 27.73\n"
          ]
        },
        {
          "output_type": "stream",
          "name": "stderr",
          "text": [
            "\r 35%|███▌      | 38/108 [04:14<07:57,  6.82s/it]"
          ]
        },
        {
          "output_type": "stream",
          "name": "stdout",
          "text": [
            "Epoch 5/5, Train Loss: 1.5982, Train Accuracy: 33.52%, Validation Loss: 1.7011, Validation Accuracy: 25.00\n",
            "Hyperparameters: LR=0.001, Optimizer=RMSprop, Loss=CrossEntropyLoss, Batch Size=32, Embedding Dim=200, Test Loss: 1.7248, Test Accuracy: 25.49\n",
            "Epoch 1/5, Train Loss: 1.7776, Train Accuracy: 19.52%, Validation Loss: 1.7539, Validation Accuracy: 19.78\n",
            "Epoch 2/5, Train Loss: 1.7546, Train Accuracy: 22.08%, Validation Loss: 1.7299, Validation Accuracy: 22.27\n",
            "Epoch 3/5, Train Loss: 1.7294, Train Accuracy: 24.85%, Validation Loss: 1.7171, Validation Accuracy: 22.04\n",
            "Epoch 4/5, Train Loss: 1.6937, Train Accuracy: 26.88%, Validation Loss: 1.7043, Validation Accuracy: 25.86\n"
          ]
        },
        {
          "output_type": "stream",
          "name": "stderr",
          "text": [
            "\r 36%|███▌      | 39/108 [04:23<08:42,  7.57s/it]"
          ]
        },
        {
          "output_type": "stream",
          "name": "stdout",
          "text": [
            "Epoch 5/5, Train Loss: 1.6358, Train Accuracy: 31.22%, Validation Loss: 1.7293, Validation Accuracy: 23.91\n",
            "Hyperparameters: LR=0.001, Optimizer=RMSprop, Loss=CrossEntropyLoss, Batch Size=32, Embedding Dim=300, Test Loss: 1.7147, Test Accuracy: 23.62\n",
            "Epoch 1/5, Train Loss: 1.7800, Train Accuracy: 19.92%, Validation Loss: 1.7508, Validation Accuracy: 24.14\n",
            "Epoch 2/5, Train Loss: 1.7502, Train Accuracy: 23.04%, Validation Loss: 1.7343, Validation Accuracy: 23.29\n",
            "Epoch 3/5, Train Loss: 1.7164, Train Accuracy: 26.20%, Validation Loss: 1.7070, Validation Accuracy: 24.69\n",
            "Epoch 4/5, Train Loss: 1.6662, Train Accuracy: 29.88%, Validation Loss: 1.6985, Validation Accuracy: 25.23\n"
          ]
        },
        {
          "output_type": "stream",
          "name": "stderr",
          "text": [
            "\r 37%|███▋      | 40/108 [04:28<07:40,  6.77s/it]"
          ]
        },
        {
          "output_type": "stream",
          "name": "stdout",
          "text": [
            "Epoch 5/5, Train Loss: 1.6138, Train Accuracy: 33.80%, Validation Loss: 1.7073, Validation Accuracy: 25.16\n",
            "Hyperparameters: LR=0.001, Optimizer=RMSprop, Loss=CrossEntropyLoss, Batch Size=64, Embedding Dim=100, Test Loss: 1.7125, Test Accuracy: 23.93\n",
            "Epoch 1/5, Train Loss: 1.7749, Train Accuracy: 20.44%, Validation Loss: 1.7401, Validation Accuracy: 22.51\n",
            "Epoch 2/5, Train Loss: 1.7410, Train Accuracy: 23.70%, Validation Loss: 1.7166, Validation Accuracy: 25.78\n",
            "Epoch 3/5, Train Loss: 1.7109, Train Accuracy: 26.53%, Validation Loss: 1.6984, Validation Accuracy: 25.86\n",
            "Epoch 4/5, Train Loss: 1.6522, Train Accuracy: 30.94%, Validation Loss: 1.6864, Validation Accuracy: 27.02\n"
          ]
        },
        {
          "output_type": "stream",
          "name": "stderr",
          "text": [
            "\r 38%|███▊      | 41/108 [04:33<06:59,  6.27s/it]"
          ]
        },
        {
          "output_type": "stream",
          "name": "stdout",
          "text": [
            "Epoch 5/5, Train Loss: 1.5717, Train Accuracy: 36.11%, Validation Loss: 1.7986, Validation Accuracy: 20.09\n",
            "Hyperparameters: LR=0.001, Optimizer=RMSprop, Loss=CrossEntropyLoss, Batch Size=64, Embedding Dim=200, Test Loss: 1.8213, Test Accuracy: 18.39\n",
            "Epoch 1/5, Train Loss: 1.7806, Train Accuracy: 19.44%, Validation Loss: 1.7637, Validation Accuracy: 19.31\n",
            "Epoch 2/5, Train Loss: 1.7645, Train Accuracy: 20.46%, Validation Loss: 1.7266, Validation Accuracy: 24.69\n",
            "Epoch 3/5, Train Loss: 1.7345, Train Accuracy: 23.70%, Validation Loss: 1.7105, Validation Accuracy: 27.26\n",
            "Epoch 4/5, Train Loss: 1.7052, Train Accuracy: 27.14%, Validation Loss: 1.6926, Validation Accuracy: 26.48\n"
          ]
        },
        {
          "output_type": "stream",
          "name": "stderr",
          "text": [
            "\r 39%|███▉      | 42/108 [04:39<06:52,  6.25s/it]"
          ]
        },
        {
          "output_type": "stream",
          "name": "stdout",
          "text": [
            "Epoch 5/5, Train Loss: 1.6512, Train Accuracy: 31.23%, Validation Loss: 1.6961, Validation Accuracy: 27.02\n",
            "Hyperparameters: LR=0.001, Optimizer=RMSprop, Loss=CrossEntropyLoss, Batch Size=64, Embedding Dim=300, Test Loss: 1.6997, Test Accuracy: 25.57\n",
            "Epoch 1/5, Train Loss: 1.7804, Train Accuracy: 19.21%, Validation Loss: 1.7504, Validation Accuracy: 21.26\n",
            "Epoch 2/5, Train Loss: 1.7511, Train Accuracy: 22.41%, Validation Loss: 1.7231, Validation Accuracy: 23.99\n",
            "Epoch 3/5, Train Loss: 1.7261, Train Accuracy: 24.72%, Validation Loss: 1.7086, Validation Accuracy: 26.17\n",
            "Epoch 4/5, Train Loss: 1.6948, Train Accuracy: 27.34%, Validation Loss: 1.7025, Validation Accuracy: 24.77\n"
          ]
        },
        {
          "output_type": "stream",
          "name": "stderr",
          "text": [
            "\r 40%|███▉      | 43/108 [04:49<07:46,  7.17s/it]"
          ]
        },
        {
          "output_type": "stream",
          "name": "stdout",
          "text": [
            "Epoch 5/5, Train Loss: 1.6557, Train Accuracy: 30.86%, Validation Loss: 1.7019, Validation Accuracy: 25.55\n",
            "Hyperparameters: LR=0.001, Optimizer=RMSprop, Loss=CrossEntropyLoss, Batch Size=128, Embedding Dim=100, Test Loss: 1.7272, Test Accuracy: 25.95\n",
            "Epoch 1/5, Train Loss: 1.7787, Train Accuracy: 20.46%, Validation Loss: 1.7520, Validation Accuracy: 22.43\n",
            "Epoch 2/5, Train Loss: 1.7371, Train Accuracy: 24.38%, Validation Loss: 1.7137, Validation Accuracy: 26.40\n",
            "Epoch 3/5, Train Loss: 1.7016, Train Accuracy: 27.09%, Validation Loss: 1.7151, Validation Accuracy: 25.55\n",
            "Epoch 4/5, Train Loss: 1.6578, Train Accuracy: 30.75%, Validation Loss: 1.7115, Validation Accuracy: 25.16\n"
          ]
        },
        {
          "output_type": "stream",
          "name": "stderr",
          "text": [
            "\r 41%|████      | 44/108 [04:52<06:32,  6.13s/it]"
          ]
        },
        {
          "output_type": "stream",
          "name": "stdout",
          "text": [
            "Epoch 5/5, Train Loss: 1.5849, Train Accuracy: 35.64%, Validation Loss: 1.7068, Validation Accuracy: 25.86\n",
            "Hyperparameters: LR=0.001, Optimizer=RMSprop, Loss=CrossEntropyLoss, Batch Size=128, Embedding Dim=200, Test Loss: 1.7263, Test Accuracy: 25.41\n",
            "Epoch 1/5, Train Loss: 1.7816, Train Accuracy: 19.94%, Validation Loss: 1.7567, Validation Accuracy: 19.55\n",
            "Epoch 2/5, Train Loss: 1.7527, Train Accuracy: 22.59%, Validation Loss: 1.7314, Validation Accuracy: 23.44\n",
            "Epoch 3/5, Train Loss: 1.7321, Train Accuracy: 24.07%, Validation Loss: 1.7232, Validation Accuracy: 22.82\n",
            "Epoch 4/5, Train Loss: 1.6855, Train Accuracy: 28.75%, Validation Loss: 1.7169, Validation Accuracy: 24.61\n"
          ]
        },
        {
          "output_type": "stream",
          "name": "stderr",
          "text": [
            "\r 42%|████▏     | 45/108 [04:57<06:04,  5.79s/it]"
          ]
        },
        {
          "output_type": "stream",
          "name": "stdout",
          "text": [
            "Epoch 5/5, Train Loss: 1.6344, Train Accuracy: 32.18%, Validation Loss: 1.7316, Validation Accuracy: 25.08\n",
            "Hyperparameters: LR=0.001, Optimizer=RMSprop, Loss=CrossEntropyLoss, Batch Size=128, Embedding Dim=300, Test Loss: 1.7340, Test Accuracy: 24.40\n",
            "Epoch 1/5, Train Loss: 1.2250, Train Accuracy: 20.33%, Validation Loss: 1.1848, Validation Accuracy: 23.36\n",
            "Epoch 2/5, Train Loss: 1.1916, Train Accuracy: 23.05%, Validation Loss: 1.1654, Validation Accuracy: 22.59\n",
            "Epoch 3/5, Train Loss: 1.1519, Train Accuracy: 25.79%, Validation Loss: 1.1415, Validation Accuracy: 26.48\n",
            "Epoch 4/5, Train Loss: 1.0932, Train Accuracy: 29.41%, Validation Loss: 1.1292, Validation Accuracy: 24.69\n"
          ]
        },
        {
          "output_type": "stream",
          "name": "stderr",
          "text": [
            "\r 43%|████▎     | 46/108 [05:05<06:34,  6.37s/it]"
          ]
        },
        {
          "output_type": "stream",
          "name": "stdout",
          "text": [
            "Epoch 5/5, Train Loss: 1.0353, Train Accuracy: 33.01%, Validation Loss: 1.1351, Validation Accuracy: 24.07\n",
            "Hyperparameters: LR=0.001, Optimizer=RMSprop, Loss=FocalLoss, Batch Size=32, Embedding Dim=100, Test Loss: 1.1354, Test Accuracy: 25.49\n",
            "Epoch 1/5, Train Loss: 1.2222, Train Accuracy: 20.82%, Validation Loss: 1.1908, Validation Accuracy: 22.66\n",
            "Epoch 2/5, Train Loss: 1.1917, Train Accuracy: 22.83%, Validation Loss: 1.1553, Validation Accuracy: 24.69\n",
            "Epoch 3/5, Train Loss: 1.1570, Train Accuracy: 25.74%, Validation Loss: 1.1328, Validation Accuracy: 27.80\n",
            "Epoch 4/5, Train Loss: 1.1089, Train Accuracy: 29.22%, Validation Loss: 1.1145, Validation Accuracy: 26.32\n"
          ]
        },
        {
          "output_type": "stream",
          "name": "stderr",
          "text": [
            "\r 44%|████▎     | 47/108 [05:14<07:22,  7.25s/it]"
          ]
        },
        {
          "output_type": "stream",
          "name": "stdout",
          "text": [
            "Epoch 5/5, Train Loss: 1.0354, Train Accuracy: 32.76%, Validation Loss: 1.1319, Validation Accuracy: 26.17\n",
            "Hyperparameters: LR=0.001, Optimizer=RMSprop, Loss=FocalLoss, Batch Size=32, Embedding Dim=200, Test Loss: 1.1427, Test Accuracy: 26.27\n",
            "Epoch 1/5, Train Loss: 1.2264, Train Accuracy: 20.36%, Validation Loss: 1.1841, Validation Accuracy: 23.99\n",
            "Epoch 2/5, Train Loss: 1.2016, Train Accuracy: 21.40%, Validation Loss: 1.1710, Validation Accuracy: 27.18\n",
            "Epoch 3/5, Train Loss: 1.1769, Train Accuracy: 23.64%, Validation Loss: 1.1624, Validation Accuracy: 25.23\n",
            "Epoch 4/5, Train Loss: 1.1334, Train Accuracy: 27.22%, Validation Loss: 1.1236, Validation Accuracy: 28.82\n"
          ]
        },
        {
          "output_type": "stream",
          "name": "stderr",
          "text": [
            "\r 44%|████▍     | 48/108 [05:24<07:52,  7.87s/it]"
          ]
        },
        {
          "output_type": "stream",
          "name": "stdout",
          "text": [
            "Epoch 5/5, Train Loss: 1.0810, Train Accuracy: 30.04%, Validation Loss: 1.1152, Validation Accuracy: 26.56\n",
            "Hyperparameters: LR=0.001, Optimizer=RMSprop, Loss=FocalLoss, Batch Size=32, Embedding Dim=300, Test Loss: 1.1250, Test Accuracy: 24.47\n",
            "Epoch 1/5, Train Loss: 1.2252, Train Accuracy: 20.50%, Validation Loss: 1.1881, Validation Accuracy: 23.83\n",
            "Epoch 2/5, Train Loss: 1.1872, Train Accuracy: 22.56%, Validation Loss: 1.1497, Validation Accuracy: 24.84\n",
            "Epoch 3/5, Train Loss: 1.1481, Train Accuracy: 26.43%, Validation Loss: 1.1761, Validation Accuracy: 23.99\n",
            "Epoch 4/5, Train Loss: 1.1070, Train Accuracy: 28.81%, Validation Loss: 1.1769, Validation Accuracy: 22.82\n"
          ]
        },
        {
          "output_type": "stream",
          "name": "stderr",
          "text": [
            "\r 45%|████▌     | 49/108 [05:29<06:55,  7.03s/it]"
          ]
        },
        {
          "output_type": "stream",
          "name": "stdout",
          "text": [
            "Epoch 5/5, Train Loss: 1.0422, Train Accuracy: 33.17%, Validation Loss: 1.1336, Validation Accuracy: 24.92\n",
            "Hyperparameters: LR=0.001, Optimizer=RMSprop, Loss=FocalLoss, Batch Size=64, Embedding Dim=100, Test Loss: 1.1447, Test Accuracy: 26.66\n",
            "Epoch 1/5, Train Loss: 1.2299, Train Accuracy: 20.26%, Validation Loss: 1.1938, Validation Accuracy: 19.47\n",
            "Epoch 2/5, Train Loss: 1.1954, Train Accuracy: 21.91%, Validation Loss: 1.1824, Validation Accuracy: 23.44\n",
            "Epoch 3/5, Train Loss: 1.1498, Train Accuracy: 25.49%, Validation Loss: 1.1353, Validation Accuracy: 25.23\n",
            "Epoch 4/5, Train Loss: 1.0996, Train Accuracy: 29.18%, Validation Loss: 1.1516, Validation Accuracy: 26.09\n"
          ]
        },
        {
          "output_type": "stream",
          "name": "stderr",
          "text": [
            "\r 46%|████▋     | 50/108 [05:34<06:19,  6.54s/it]"
          ]
        },
        {
          "output_type": "stream",
          "name": "stdout",
          "text": [
            "Epoch 5/5, Train Loss: 1.0108, Train Accuracy: 34.67%, Validation Loss: 1.1710, Validation Accuracy: 25.08\n",
            "Hyperparameters: LR=0.001, Optimizer=RMSprop, Loss=FocalLoss, Batch Size=64, Embedding Dim=200, Test Loss: 1.1752, Test Accuracy: 24.32\n",
            "Epoch 1/5, Train Loss: 1.2275, Train Accuracy: 20.26%, Validation Loss: 1.1960, Validation Accuracy: 23.44\n",
            "Epoch 2/5, Train Loss: 1.2012, Train Accuracy: 22.42%, Validation Loss: 1.1806, Validation Accuracy: 25.16\n",
            "Epoch 3/5, Train Loss: 1.1808, Train Accuracy: 24.17%, Validation Loss: 1.1538, Validation Accuracy: 25.86\n",
            "Epoch 4/5, Train Loss: 1.1293, Train Accuracy: 27.84%, Validation Loss: 1.1220, Validation Accuracy: 25.93\n"
          ]
        },
        {
          "output_type": "stream",
          "name": "stderr",
          "text": [
            "\r 47%|████▋     | 51/108 [05:40<06:07,  6.45s/it]"
          ]
        },
        {
          "output_type": "stream",
          "name": "stdout",
          "text": [
            "Epoch 5/5, Train Loss: 1.0498, Train Accuracy: 32.71%, Validation Loss: 1.1181, Validation Accuracy: 25.78\n",
            "Hyperparameters: LR=0.001, Optimizer=RMSprop, Loss=FocalLoss, Batch Size=64, Embedding Dim=300, Test Loss: 1.1326, Test Accuracy: 26.11\n",
            "Epoch 1/5, Train Loss: 1.2364, Train Accuracy: 19.55%, Validation Loss: 1.2023, Validation Accuracy: 20.95\n",
            "Epoch 2/5, Train Loss: 1.2088, Train Accuracy: 21.40%, Validation Loss: 1.1867, Validation Accuracy: 23.21\n",
            "Epoch 3/5, Train Loss: 1.1748, Train Accuracy: 24.64%, Validation Loss: 1.1928, Validation Accuracy: 21.42\n",
            "Epoch 4/5, Train Loss: 1.1313, Train Accuracy: 27.99%, Validation Loss: 1.3801, Validation Accuracy: 22.59\n"
          ]
        },
        {
          "output_type": "stream",
          "name": "stderr",
          "text": [
            "\r 48%|████▊     | 52/108 [05:50<06:52,  7.36s/it]"
          ]
        },
        {
          "output_type": "stream",
          "name": "stdout",
          "text": [
            "Epoch 5/5, Train Loss: 1.0849, Train Accuracy: 31.48%, Validation Loss: 1.1414, Validation Accuracy: 25.62\n",
            "Hyperparameters: LR=0.001, Optimizer=RMSprop, Loss=FocalLoss, Batch Size=128, Embedding Dim=100, Test Loss: 1.1332, Test Accuracy: 24.94\n",
            "Epoch 1/5, Train Loss: 1.2315, Train Accuracy: 19.89%, Validation Loss: 1.2141, Validation Accuracy: 17.99\n",
            "Epoch 2/5, Train Loss: 1.1901, Train Accuracy: 23.00%, Validation Loss: 1.1916, Validation Accuracy: 25.62\n",
            "Epoch 3/5, Train Loss: 1.1505, Train Accuracy: 26.49%, Validation Loss: 1.1545, Validation Accuracy: 27.26\n",
            "Epoch 4/5, Train Loss: 1.0909, Train Accuracy: 30.51%, Validation Loss: 1.1496, Validation Accuracy: 25.55\n"
          ]
        },
        {
          "output_type": "stream",
          "name": "stderr",
          "text": [
            "\r 49%|████▉     | 53/108 [05:54<05:44,  6.27s/it]"
          ]
        },
        {
          "output_type": "stream",
          "name": "stdout",
          "text": [
            "Epoch 5/5, Train Loss: 1.0189, Train Accuracy: 35.11%, Validation Loss: 1.1348, Validation Accuracy: 27.34\n",
            "Hyperparameters: LR=0.001, Optimizer=RMSprop, Loss=FocalLoss, Batch Size=128, Embedding Dim=200, Test Loss: 1.1471, Test Accuracy: 25.41\n",
            "Epoch 1/5, Train Loss: 1.2348, Train Accuracy: 19.41%, Validation Loss: 1.2190, Validation Accuracy: 22.27\n",
            "Epoch 2/5, Train Loss: 1.2101, Train Accuracy: 21.15%, Validation Loss: 1.1848, Validation Accuracy: 24.14\n",
            "Epoch 3/5, Train Loss: 1.1847, Train Accuracy: 23.22%, Validation Loss: 1.1651, Validation Accuracy: 21.96\n",
            "Epoch 4/5, Train Loss: 1.1474, Train Accuracy: 26.10%, Validation Loss: 1.1426, Validation Accuracy: 24.07\n"
          ]
        },
        {
          "output_type": "stream",
          "name": "stderr",
          "text": [
            "\r 50%|█████     | 54/108 [05:59<05:15,  5.85s/it]"
          ]
        },
        {
          "output_type": "stream",
          "name": "stdout",
          "text": [
            "Epoch 5/5, Train Loss: 1.0945, Train Accuracy: 30.72%, Validation Loss: 1.1306, Validation Accuracy: 26.87\n",
            "Hyperparameters: LR=0.001, Optimizer=RMSprop, Loss=FocalLoss, Batch Size=128, Embedding Dim=300, Test Loss: 1.1402, Test Accuracy: 25.10\n",
            "Epoch 1/5, Train Loss: 1.8094, Train Accuracy: 18.67%, Validation Loss: 1.7960, Validation Accuracy: 19.31\n",
            "Epoch 2/5, Train Loss: 1.7966, Train Accuracy: 19.10%, Validation Loss: 1.7770, Validation Accuracy: 18.46\n",
            "Epoch 3/5, Train Loss: 1.8069, Train Accuracy: 19.12%, Validation Loss: 1.7677, Validation Accuracy: 19.55\n",
            "Epoch 4/5, Train Loss: 1.8068, Train Accuracy: 19.17%, Validation Loss: 1.7638, Validation Accuracy: 20.48\n"
          ]
        },
        {
          "output_type": "stream",
          "name": "stderr",
          "text": [
            "\r 51%|█████     | 55/108 [06:06<05:39,  6.41s/it]"
          ]
        },
        {
          "output_type": "stream",
          "name": "stdout",
          "text": [
            "Epoch 5/5, Train Loss: 1.7994, Train Accuracy: 19.10%, Validation Loss: 1.7991, Validation Accuracy: 20.48\n",
            "Hyperparameters: LR=0.01, Optimizer=Adam, Loss=CrossEntropyLoss, Batch Size=32, Embedding Dim=100, Test Loss: 1.8016, Test Accuracy: 19.49\n",
            "Epoch 1/5, Train Loss: 1.8119, Train Accuracy: 18.91%, Validation Loss: 1.7997, Validation Accuracy: 13.16\n",
            "Epoch 2/5, Train Loss: 1.8086, Train Accuracy: 19.24%, Validation Loss: 1.7680, Validation Accuracy: 19.31\n",
            "Epoch 3/5, Train Loss: 1.8073, Train Accuracy: 18.66%, Validation Loss: 1.7876, Validation Accuracy: 20.48\n",
            "Epoch 4/5, Train Loss: 1.8122, Train Accuracy: 19.02%, Validation Loss: 1.8229, Validation Accuracy: 19.55\n"
          ]
        },
        {
          "output_type": "stream",
          "name": "stderr",
          "text": [
            "\r 52%|█████▏    | 56/108 [06:15<06:17,  7.25s/it]"
          ]
        },
        {
          "output_type": "stream",
          "name": "stdout",
          "text": [
            "Epoch 5/5, Train Loss: 1.8002, Train Accuracy: 19.54%, Validation Loss: 1.7823, Validation Accuracy: 19.31\n",
            "Hyperparameters: LR=0.01, Optimizer=Adam, Loss=CrossEntropyLoss, Batch Size=32, Embedding Dim=200, Test Loss: 1.7687, Test Accuracy: 20.81\n",
            "Epoch 1/5, Train Loss: 1.8079, Train Accuracy: 19.21%, Validation Loss: 1.7770, Validation Accuracy: 13.16\n",
            "Epoch 2/5, Train Loss: 1.8080, Train Accuracy: 18.81%, Validation Loss: 1.7807, Validation Accuracy: 19.55\n",
            "Epoch 3/5, Train Loss: 1.8045, Train Accuracy: 18.84%, Validation Loss: 1.7921, Validation Accuracy: 19.55\n",
            "Epoch 4/5, Train Loss: 1.8190, Train Accuracy: 18.73%, Validation Loss: 1.7675, Validation Accuracy: 18.46\n"
          ]
        },
        {
          "output_type": "stream",
          "name": "stderr",
          "text": [
            "\r 53%|█████▎    | 57/108 [06:25<06:50,  8.04s/it]"
          ]
        },
        {
          "output_type": "stream",
          "name": "stdout",
          "text": [
            "Epoch 5/5, Train Loss: 1.8175, Train Accuracy: 18.85%, Validation Loss: 1.7763, Validation Accuracy: 20.48\n",
            "Hyperparameters: LR=0.01, Optimizer=Adam, Loss=CrossEntropyLoss, Batch Size=32, Embedding Dim=300, Test Loss: 1.7658, Test Accuracy: 19.49\n",
            "Epoch 1/5, Train Loss: 1.7980, Train Accuracy: 18.96%, Validation Loss: 1.7828, Validation Accuracy: 19.31\n",
            "Epoch 2/5, Train Loss: 1.7834, Train Accuracy: 19.09%, Validation Loss: 1.7757, Validation Accuracy: 19.55\n",
            "Epoch 3/5, Train Loss: 1.7852, Train Accuracy: 19.34%, Validation Loss: 1.7658, Validation Accuracy: 20.48\n",
            "Epoch 4/5, Train Loss: 1.7865, Train Accuracy: 19.46%, Validation Loss: 1.7666, Validation Accuracy: 20.48\n"
          ]
        },
        {
          "output_type": "stream",
          "name": "stderr",
          "text": [
            "\r 54%|█████▎    | 58/108 [06:30<05:56,  7.13s/it]"
          ]
        },
        {
          "output_type": "stream",
          "name": "stdout",
          "text": [
            "Epoch 5/5, Train Loss: 1.7867, Train Accuracy: 19.08%, Validation Loss: 1.7630, Validation Accuracy: 20.48\n",
            "Hyperparameters: LR=0.01, Optimizer=Adam, Loss=CrossEntropyLoss, Batch Size=64, Embedding Dim=100, Test Loss: 1.7564, Test Accuracy: 19.49\n",
            "Epoch 1/5, Train Loss: 1.7960, Train Accuracy: 19.63%, Validation Loss: 1.7895, Validation Accuracy: 19.31\n",
            "Epoch 2/5, Train Loss: 1.7873, Train Accuracy: 19.01%, Validation Loss: 1.7816, Validation Accuracy: 19.31\n",
            "Epoch 3/5, Train Loss: 1.7922, Train Accuracy: 18.89%, Validation Loss: 1.7673, Validation Accuracy: 19.55\n",
            "Epoch 4/5, Train Loss: 1.7945, Train Accuracy: 18.42%, Validation Loss: 1.7834, Validation Accuracy: 19.31\n"
          ]
        },
        {
          "output_type": "stream",
          "name": "stderr",
          "text": [
            "\r 55%|█████▍    | 59/108 [06:36<05:25,  6.64s/it]"
          ]
        },
        {
          "output_type": "stream",
          "name": "stdout",
          "text": [
            "Epoch 5/5, Train Loss: 1.7919, Train Accuracy: 18.96%, Validation Loss: 1.7921, Validation Accuracy: 19.55\n",
            "Hyperparameters: LR=0.01, Optimizer=Adam, Loss=CrossEntropyLoss, Batch Size=64, Embedding Dim=200, Test Loss: 1.7900, Test Accuracy: 19.41\n",
            "Epoch 1/5, Train Loss: 1.8019, Train Accuracy: 18.32%, Validation Loss: 1.7734, Validation Accuracy: 19.55\n",
            "Epoch 2/5, Train Loss: 1.7934, Train Accuracy: 19.48%, Validation Loss: 1.7737, Validation Accuracy: 19.31\n",
            "Epoch 3/5, Train Loss: 1.7922, Train Accuracy: 19.41%, Validation Loss: 1.7622, Validation Accuracy: 20.48\n",
            "Epoch 4/5, Train Loss: 1.7855, Train Accuracy: 19.44%, Validation Loss: 1.7652, Validation Accuracy: 18.46\n"
          ]
        },
        {
          "output_type": "stream",
          "name": "stderr",
          "text": [
            "\r 56%|█████▌    | 60/108 [06:42<05:13,  6.53s/it]"
          ]
        },
        {
          "output_type": "stream",
          "name": "stdout",
          "text": [
            "Epoch 5/5, Train Loss: 1.7945, Train Accuracy: 19.63%, Validation Loss: 1.7770, Validation Accuracy: 19.31\n",
            "Hyperparameters: LR=0.01, Optimizer=Adam, Loss=CrossEntropyLoss, Batch Size=64, Embedding Dim=300, Test Loss: 1.7643, Test Accuracy: 20.81\n",
            "Epoch 1/5, Train Loss: 1.8003, Train Accuracy: 19.17%, Validation Loss: 1.7685, Validation Accuracy: 19.55\n",
            "Epoch 2/5, Train Loss: 1.7868, Train Accuracy: 19.47%, Validation Loss: 1.7893, Validation Accuracy: 20.48\n",
            "Epoch 3/5, Train Loss: 1.7904, Train Accuracy: 18.49%, Validation Loss: 1.7880, Validation Accuracy: 19.31\n",
            "Epoch 4/5, Train Loss: 1.7866, Train Accuracy: 19.30%, Validation Loss: 1.7584, Validation Accuracy: 20.48\n"
          ]
        },
        {
          "output_type": "stream",
          "name": "stderr",
          "text": [
            "\r 56%|█████▋    | 61/108 [06:52<05:48,  7.42s/it]"
          ]
        },
        {
          "output_type": "stream",
          "name": "stdout",
          "text": [
            "Epoch 5/5, Train Loss: 1.7892, Train Accuracy: 18.74%, Validation Loss: 1.7846, Validation Accuracy: 13.16\n",
            "Hyperparameters: LR=0.01, Optimizer=Adam, Loss=CrossEntropyLoss, Batch Size=128, Embedding Dim=100, Test Loss: 1.7819, Test Accuracy: 16.45\n",
            "Epoch 1/5, Train Loss: 1.7939, Train Accuracy: 18.98%, Validation Loss: 1.7704, Validation Accuracy: 19.55\n",
            "Epoch 2/5, Train Loss: 1.7875, Train Accuracy: 19.74%, Validation Loss: 1.7687, Validation Accuracy: 18.46\n",
            "Epoch 3/5, Train Loss: 1.7830, Train Accuracy: 19.89%, Validation Loss: 1.7770, Validation Accuracy: 19.31\n",
            "Epoch 4/5, Train Loss: 1.7874, Train Accuracy: 19.05%, Validation Loss: 1.7743, Validation Accuracy: 18.46\n"
          ]
        },
        {
          "output_type": "stream",
          "name": "stderr",
          "text": [
            "\r 57%|█████▋    | 62/108 [06:55<04:51,  6.33s/it]"
          ]
        },
        {
          "output_type": "stream",
          "name": "stdout",
          "text": [
            "Epoch 5/5, Train Loss: 1.7866, Train Accuracy: 19.90%, Validation Loss: 1.7662, Validation Accuracy: 19.55\n",
            "Hyperparameters: LR=0.01, Optimizer=Adam, Loss=CrossEntropyLoss, Batch Size=128, Embedding Dim=200, Test Loss: 1.7660, Test Accuracy: 19.41\n",
            "Epoch 1/5, Train Loss: 1.7988, Train Accuracy: 18.55%, Validation Loss: 1.7758, Validation Accuracy: 19.31\n",
            "Epoch 2/5, Train Loss: 1.7891, Train Accuracy: 18.75%, Validation Loss: 1.7838, Validation Accuracy: 20.48\n",
            "Epoch 3/5, Train Loss: 1.7901, Train Accuracy: 19.25%, Validation Loss: 1.7725, Validation Accuracy: 20.48\n",
            "Epoch 4/5, Train Loss: 1.7950, Train Accuracy: 19.09%, Validation Loss: 1.7927, Validation Accuracy: 20.48\n"
          ]
        },
        {
          "output_type": "stream",
          "name": "stderr",
          "text": [
            "\r 58%|█████▊    | 63/108 [07:00<04:27,  5.95s/it]"
          ]
        },
        {
          "output_type": "stream",
          "name": "stdout",
          "text": [
            "Epoch 5/5, Train Loss: 1.7930, Train Accuracy: 18.95%, Validation Loss: 1.7650, Validation Accuracy: 19.55\n",
            "Hyperparameters: LR=0.01, Optimizer=Adam, Loss=CrossEntropyLoss, Batch Size=128, Embedding Dim=300, Test Loss: 1.7621, Test Accuracy: 19.41\n",
            "Epoch 1/5, Train Loss: 1.2579, Train Accuracy: 18.23%, Validation Loss: 1.2173, Validation Accuracy: 19.31\n",
            "Epoch 2/5, Train Loss: 1.2473, Train Accuracy: 19.50%, Validation Loss: 1.2117, Validation Accuracy: 20.48\n",
            "Epoch 3/5, Train Loss: 1.2476, Train Accuracy: 18.68%, Validation Loss: 1.2214, Validation Accuracy: 19.55\n",
            "Epoch 4/5, Train Loss: 1.2547, Train Accuracy: 19.01%, Validation Loss: 1.2406, Validation Accuracy: 19.55\n"
          ]
        },
        {
          "output_type": "stream",
          "name": "stderr",
          "text": [
            "\r 59%|█████▉    | 64/108 [07:08<04:48,  6.56s/it]"
          ]
        },
        {
          "output_type": "stream",
          "name": "stdout",
          "text": [
            "Epoch 5/5, Train Loss: 1.2464, Train Accuracy: 19.08%, Validation Loss: 1.2365, Validation Accuracy: 19.55\n",
            "Hyperparameters: LR=0.01, Optimizer=Adam, Loss=FocalLoss, Batch Size=32, Embedding Dim=100, Test Loss: 1.2170, Test Accuracy: 19.41\n",
            "Epoch 1/5, Train Loss: 1.2542, Train Accuracy: 19.13%, Validation Loss: 1.2278, Validation Accuracy: 19.31\n",
            "Epoch 2/5, Train Loss: 1.2546, Train Accuracy: 19.11%, Validation Loss: 1.2669, Validation Accuracy: 13.16\n",
            "Epoch 3/5, Train Loss: 1.2595, Train Accuracy: 18.73%, Validation Loss: 1.2385, Validation Accuracy: 13.16\n",
            "Epoch 4/5, Train Loss: 1.2580, Train Accuracy: 18.77%, Validation Loss: 1.2160, Validation Accuracy: 20.48\n"
          ]
        },
        {
          "output_type": "stream",
          "name": "stderr",
          "text": [
            "\r 60%|██████    | 65/108 [07:18<05:22,  7.51s/it]"
          ]
        },
        {
          "output_type": "stream",
          "name": "stdout",
          "text": [
            "Epoch 5/5, Train Loss: 1.2510, Train Accuracy: 19.00%, Validation Loss: 1.2185, Validation Accuracy: 20.48\n",
            "Hyperparameters: LR=0.01, Optimizer=Adam, Loss=FocalLoss, Batch Size=32, Embedding Dim=200, Test Loss: 1.2179, Test Accuracy: 19.49\n",
            "Epoch 1/5, Train Loss: 1.2739, Train Accuracy: 18.46%, Validation Loss: 1.2106, Validation Accuracy: 19.31\n",
            "Epoch 2/5, Train Loss: 1.2685, Train Accuracy: 18.31%, Validation Loss: 1.2241, Validation Accuracy: 18.46\n",
            "Epoch 3/5, Train Loss: 1.2771, Train Accuracy: 18.94%, Validation Loss: 1.2136, Validation Accuracy: 19.55\n",
            "Epoch 4/5, Train Loss: 1.2755, Train Accuracy: 18.49%, Validation Loss: 1.2204, Validation Accuracy: 20.48\n"
          ]
        },
        {
          "output_type": "stream",
          "name": "stderr",
          "text": [
            "\r 61%|██████    | 66/108 [07:28<05:49,  8.31s/it]"
          ]
        },
        {
          "output_type": "stream",
          "name": "stdout",
          "text": [
            "Epoch 5/5, Train Loss: 1.2661, Train Accuracy: 18.49%, Validation Loss: 1.2279, Validation Accuracy: 19.31\n",
            "Hyperparameters: LR=0.01, Optimizer=Adam, Loss=FocalLoss, Batch Size=32, Embedding Dim=300, Test Loss: 1.2141, Test Accuracy: 20.81\n",
            "Epoch 1/5, Train Loss: 1.2498, Train Accuracy: 18.89%, Validation Loss: 1.2105, Validation Accuracy: 20.48\n",
            "Epoch 2/5, Train Loss: 1.2489, Train Accuracy: 19.11%, Validation Loss: 1.2223, Validation Accuracy: 19.31\n",
            "Epoch 3/5, Train Loss: 1.2388, Train Accuracy: 19.46%, Validation Loss: 1.2145, Validation Accuracy: 20.48\n",
            "Epoch 4/5, Train Loss: 1.2450, Train Accuracy: 19.07%, Validation Loss: 1.2479, Validation Accuracy: 19.31\n"
          ]
        },
        {
          "output_type": "stream",
          "name": "stderr",
          "text": [
            "\r 62%|██████▏   | 67/108 [07:34<05:04,  7.43s/it]"
          ]
        },
        {
          "output_type": "stream",
          "name": "stdout",
          "text": [
            "Epoch 5/5, Train Loss: 1.2409, Train Accuracy: 19.83%, Validation Loss: 1.2241, Validation Accuracy: 20.48\n",
            "Hyperparameters: LR=0.01, Optimizer=Adam, Loss=FocalLoss, Batch Size=64, Embedding Dim=100, Test Loss: 1.2174, Test Accuracy: 19.49\n",
            "Epoch 1/5, Train Loss: 1.2591, Train Accuracy: 19.36%, Validation Loss: 1.2193, Validation Accuracy: 18.46\n",
            "Epoch 2/5, Train Loss: 1.2525, Train Accuracy: 18.63%, Validation Loss: 1.2233, Validation Accuracy: 19.55\n",
            "Epoch 3/5, Train Loss: 1.2498, Train Accuracy: 18.75%, Validation Loss: 1.2222, Validation Accuracy: 19.31\n",
            "Epoch 4/5, Train Loss: 1.2421, Train Accuracy: 19.58%, Validation Loss: 1.2282, Validation Accuracy: 19.55\n"
          ]
        },
        {
          "output_type": "stream",
          "name": "stderr",
          "text": [
            "\r 63%|██████▎   | 68/108 [07:39<04:33,  6.83s/it]"
          ]
        },
        {
          "output_type": "stream",
          "name": "stdout",
          "text": [
            "Epoch 5/5, Train Loss: 1.2513, Train Accuracy: 18.44%, Validation Loss: 1.2287, Validation Accuracy: 19.31\n",
            "Hyperparameters: LR=0.01, Optimizer=Adam, Loss=FocalLoss, Batch Size=64, Embedding Dim=200, Test Loss: 1.2188, Test Accuracy: 20.81\n",
            "Epoch 1/5, Train Loss: 1.2467, Train Accuracy: 19.56%, Validation Loss: 1.2302, Validation Accuracy: 19.55\n",
            "Epoch 2/5, Train Loss: 1.2424, Train Accuracy: 18.76%, Validation Loss: 1.2094, Validation Accuracy: 19.55\n",
            "Epoch 3/5, Train Loss: 1.2423, Train Accuracy: 18.86%, Validation Loss: 1.2323, Validation Accuracy: 19.31\n",
            "Epoch 4/5, Train Loss: 1.2420, Train Accuracy: 19.18%, Validation Loss: 1.2261, Validation Accuracy: 19.55\n"
          ]
        },
        {
          "output_type": "stream",
          "name": "stderr",
          "text": [
            "\r 64%|██████▍   | 69/108 [07:46<04:24,  6.79s/it]"
          ]
        },
        {
          "output_type": "stream",
          "name": "stdout",
          "text": [
            "Epoch 5/5, Train Loss: 1.2451, Train Accuracy: 18.75%, Validation Loss: 1.2302, Validation Accuracy: 18.46\n",
            "Hyperparameters: LR=0.01, Optimizer=Adam, Loss=FocalLoss, Batch Size=64, Embedding Dim=300, Test Loss: 1.2241, Test Accuracy: 16.68\n",
            "Epoch 1/5, Train Loss: 1.2554, Train Accuracy: 19.82%, Validation Loss: 1.2236, Validation Accuracy: 19.31\n",
            "Epoch 2/5, Train Loss: 1.2295, Train Accuracy: 18.78%, Validation Loss: 1.2077, Validation Accuracy: 19.31\n",
            "Epoch 3/5, Train Loss: 1.2311, Train Accuracy: 19.31%, Validation Loss: 1.2080, Validation Accuracy: 19.55\n",
            "Epoch 4/5, Train Loss: 1.2312, Train Accuracy: 19.29%, Validation Loss: 1.2265, Validation Accuracy: 13.16\n"
          ]
        },
        {
          "output_type": "stream",
          "name": "stderr",
          "text": [
            "\r 65%|██████▍   | 70/108 [07:55<04:48,  7.59s/it]"
          ]
        },
        {
          "output_type": "stream",
          "name": "stdout",
          "text": [
            "Epoch 5/5, Train Loss: 1.2320, Train Accuracy: 18.47%, Validation Loss: 1.2152, Validation Accuracy: 19.31\n",
            "Hyperparameters: LR=0.01, Optimizer=Adam, Loss=FocalLoss, Batch Size=128, Embedding Dim=100, Test Loss: 1.2092, Test Accuracy: 20.81\n",
            "Epoch 1/5, Train Loss: 1.2590, Train Accuracy: 18.64%, Validation Loss: 1.2248, Validation Accuracy: 19.31\n",
            "Epoch 2/5, Train Loss: 1.2457, Train Accuracy: 19.25%, Validation Loss: 1.2221, Validation Accuracy: 19.55\n",
            "Epoch 3/5, Train Loss: 1.2552, Train Accuracy: 18.94%, Validation Loss: 1.2079, Validation Accuracy: 19.31\n",
            "Epoch 4/5, Train Loss: 1.2423, Train Accuracy: 18.76%, Validation Loss: 1.2262, Validation Accuracy: 20.48\n"
          ]
        },
        {
          "output_type": "stream",
          "name": "stderr",
          "text": [
            "\r 66%|██████▌   | 71/108 [07:59<03:59,  6.47s/it]"
          ]
        },
        {
          "output_type": "stream",
          "name": "stdout",
          "text": [
            "Epoch 5/5, Train Loss: 1.2509, Train Accuracy: 18.78%, Validation Loss: 1.2546, Validation Accuracy: 18.46\n",
            "Hyperparameters: LR=0.01, Optimizer=Adam, Loss=FocalLoss, Batch Size=128, Embedding Dim=200, Test Loss: 1.2446, Test Accuracy: 16.68\n",
            "Epoch 1/5, Train Loss: 1.2506, Train Accuracy: 19.34%, Validation Loss: 1.2513, Validation Accuracy: 13.16\n",
            "Epoch 2/5, Train Loss: 1.2495, Train Accuracy: 19.34%, Validation Loss: 1.2228, Validation Accuracy: 19.55\n",
            "Epoch 3/5, Train Loss: 1.2418, Train Accuracy: 19.45%, Validation Loss: 1.2312, Validation Accuracy: 13.16\n",
            "Epoch 4/5, Train Loss: 1.2420, Train Accuracy: 19.09%, Validation Loss: 1.2069, Validation Accuracy: 19.55\n"
          ]
        },
        {
          "output_type": "stream",
          "name": "stderr",
          "text": [
            "\r 67%|██████▋   | 72/108 [08:04<03:39,  6.09s/it]"
          ]
        },
        {
          "output_type": "stream",
          "name": "stdout",
          "text": [
            "Epoch 5/5, Train Loss: 1.2397, Train Accuracy: 19.51%, Validation Loss: 1.2156, Validation Accuracy: 19.31\n",
            "Hyperparameters: LR=0.01, Optimizer=Adam, Loss=FocalLoss, Batch Size=128, Embedding Dim=300, Test Loss: 1.2048, Test Accuracy: 20.81\n",
            "Epoch 1/5, Train Loss: 1.7763, Train Accuracy: 19.15%, Validation Loss: 1.7682, Validation Accuracy: 20.56\n",
            "Epoch 2/5, Train Loss: 1.7710, Train Accuracy: 19.94%, Validation Loss: 1.7652, Validation Accuracy: 20.72\n",
            "Epoch 3/5, Train Loss: 1.7711, Train Accuracy: 21.16%, Validation Loss: 1.7655, Validation Accuracy: 19.31\n",
            "Epoch 4/5, Train Loss: 1.7691, Train Accuracy: 20.55%, Validation Loss: 1.7636, Validation Accuracy: 21.81\n"
          ]
        },
        {
          "output_type": "stream",
          "name": "stderr",
          "text": [
            "\r 68%|██████▊   | 73/108 [08:11<03:35,  6.17s/it]"
          ]
        },
        {
          "output_type": "stream",
          "name": "stdout",
          "text": [
            "Epoch 5/5, Train Loss: 1.7660, Train Accuracy: 21.18%, Validation Loss: 1.7597, Validation Accuracy: 21.11\n",
            "Hyperparameters: LR=0.01, Optimizer=SGD, Loss=CrossEntropyLoss, Batch Size=32, Embedding Dim=100, Test Loss: 1.7563, Test Accuracy: 21.51\n",
            "Epoch 1/5, Train Loss: 1.7769, Train Accuracy: 19.18%, Validation Loss: 1.7677, Validation Accuracy: 18.77\n",
            "Epoch 2/5, Train Loss: 1.7721, Train Accuracy: 19.96%, Validation Loss: 1.7624, Validation Accuracy: 21.57\n",
            "Epoch 3/5, Train Loss: 1.7653, Train Accuracy: 21.03%, Validation Loss: 1.7612, Validation Accuracy: 21.88\n",
            "Epoch 4/5, Train Loss: 1.7640, Train Accuracy: 21.20%, Validation Loss: 1.7618, Validation Accuracy: 20.09\n"
          ]
        },
        {
          "output_type": "stream",
          "name": "stderr",
          "text": [
            "\r 69%|██████▊   | 74/108 [08:18<03:44,  6.60s/it]"
          ]
        },
        {
          "output_type": "stream",
          "name": "stdout",
          "text": [
            "Epoch 5/5, Train Loss: 1.7617, Train Accuracy: 22.12%, Validation Loss: 1.7597, Validation Accuracy: 22.66\n",
            "Hyperparameters: LR=0.01, Optimizer=SGD, Loss=CrossEntropyLoss, Batch Size=32, Embedding Dim=200, Test Loss: 1.7534, Test Accuracy: 23.46\n",
            "Epoch 1/5, Train Loss: 1.7759, Train Accuracy: 19.74%, Validation Loss: 1.7709, Validation Accuracy: 19.78\n",
            "Epoch 2/5, Train Loss: 1.7702, Train Accuracy: 20.88%, Validation Loss: 1.7649, Validation Accuracy: 20.56\n",
            "Epoch 3/5, Train Loss: 1.7644, Train Accuracy: 21.41%, Validation Loss: 1.7620, Validation Accuracy: 22.35\n",
            "Epoch 4/5, Train Loss: 1.7598, Train Accuracy: 22.14%, Validation Loss: 1.7601, Validation Accuracy: 20.02\n"
          ]
        },
        {
          "output_type": "stream",
          "name": "stderr",
          "text": [
            "\r 69%|██████▉   | 75/108 [08:26<03:49,  6.94s/it]"
          ]
        },
        {
          "output_type": "stream",
          "name": "stdout",
          "text": [
            "Epoch 5/5, Train Loss: 1.7492, Train Accuracy: 23.95%, Validation Loss: 1.7465, Validation Accuracy: 23.60\n",
            "Hyperparameters: LR=0.01, Optimizer=SGD, Loss=CrossEntropyLoss, Batch Size=32, Embedding Dim=300, Test Loss: 1.7459, Test Accuracy: 25.10\n",
            "Epoch 1/5, Train Loss: 1.7794, Train Accuracy: 19.23%, Validation Loss: 1.7659, Validation Accuracy: 19.47\n",
            "Epoch 2/5, Train Loss: 1.7715, Train Accuracy: 20.73%, Validation Loss: 1.7661, Validation Accuracy: 21.81\n",
            "Epoch 3/5, Train Loss: 1.7727, Train Accuracy: 20.18%, Validation Loss: 1.7659, Validation Accuracy: 21.34\n",
            "Epoch 4/5, Train Loss: 1.7697, Train Accuracy: 20.42%, Validation Loss: 1.7659, Validation Accuracy: 20.25\n"
          ]
        },
        {
          "output_type": "stream",
          "name": "stderr",
          "text": [
            "\r 70%|███████   | 76/108 [08:30<03:12,  6.00s/it]"
          ]
        },
        {
          "output_type": "stream",
          "name": "stdout",
          "text": [
            "Epoch 5/5, Train Loss: 1.7690, Train Accuracy: 20.49%, Validation Loss: 1.7625, Validation Accuracy: 20.40\n",
            "Hyperparameters: LR=0.01, Optimizer=SGD, Loss=CrossEntropyLoss, Batch Size=64, Embedding Dim=100, Test Loss: 1.7587, Test Accuracy: 19.64\n",
            "Epoch 1/5, Train Loss: 1.7805, Train Accuracy: 18.82%, Validation Loss: 1.7669, Validation Accuracy: 20.33\n",
            "Epoch 2/5, Train Loss: 1.7742, Train Accuracy: 19.78%, Validation Loss: 1.7651, Validation Accuracy: 21.18\n",
            "Epoch 3/5, Train Loss: 1.7692, Train Accuracy: 20.56%, Validation Loss: 1.7639, Validation Accuracy: 21.34\n",
            "Epoch 4/5, Train Loss: 1.7675, Train Accuracy: 21.17%, Validation Loss: 1.7625, Validation Accuracy: 21.26\n"
          ]
        },
        {
          "output_type": "stream",
          "name": "stderr",
          "text": [
            "\r 71%|███████▏  | 77/108 [08:35<02:59,  5.81s/it]"
          ]
        },
        {
          "output_type": "stream",
          "name": "stdout",
          "text": [
            "Epoch 5/5, Train Loss: 1.7680, Train Accuracy: 21.38%, Validation Loss: 1.7615, Validation Accuracy: 21.88\n",
            "Hyperparameters: LR=0.01, Optimizer=SGD, Loss=CrossEntropyLoss, Batch Size=64, Embedding Dim=200, Test Loss: 1.7577, Test Accuracy: 22.53\n",
            "Epoch 1/5, Train Loss: 1.7831, Train Accuracy: 18.90%, Validation Loss: 1.7684, Validation Accuracy: 19.16\n",
            "Epoch 2/5, Train Loss: 1.7731, Train Accuracy: 19.59%, Validation Loss: 1.7661, Validation Accuracy: 21.03\n",
            "Epoch 3/5, Train Loss: 1.7714, Train Accuracy: 20.97%, Validation Loss: 1.7652, Validation Accuracy: 20.95\n",
            "Epoch 4/5, Train Loss: 1.7700, Train Accuracy: 20.86%, Validation Loss: 1.7645, Validation Accuracy: 18.93\n"
          ]
        },
        {
          "output_type": "stream",
          "name": "stderr",
          "text": [
            "\r 72%|███████▏  | 78/108 [08:40<02:48,  5.61s/it]"
          ]
        },
        {
          "output_type": "stream",
          "name": "stdout",
          "text": [
            "Epoch 5/5, Train Loss: 1.7677, Train Accuracy: 21.45%, Validation Loss: 1.7644, Validation Accuracy: 21.42\n",
            "Hyperparameters: LR=0.01, Optimizer=SGD, Loss=CrossEntropyLoss, Batch Size=64, Embedding Dim=300, Test Loss: 1.7582, Test Accuracy: 20.11\n",
            "Epoch 1/5, Train Loss: 1.7801, Train Accuracy: 19.66%, Validation Loss: 1.7668, Validation Accuracy: 19.63\n",
            "Epoch 2/5, Train Loss: 1.7742, Train Accuracy: 18.91%, Validation Loss: 1.7661, Validation Accuracy: 19.70\n",
            "Epoch 3/5, Train Loss: 1.7724, Train Accuracy: 20.15%, Validation Loss: 1.7667, Validation Accuracy: 19.63\n",
            "Epoch 4/5, Train Loss: 1.7739, Train Accuracy: 19.71%, Validation Loss: 1.7654, Validation Accuracy: 21.03\n"
          ]
        },
        {
          "output_type": "stream",
          "name": "stderr",
          "text": [
            "\r 73%|███████▎  | 79/108 [08:50<03:14,  6.70s/it]"
          ]
        },
        {
          "output_type": "stream",
          "name": "stdout",
          "text": [
            "Epoch 5/5, Train Loss: 1.7733, Train Accuracy: 19.85%, Validation Loss: 1.7645, Validation Accuracy: 19.31\n",
            "Hyperparameters: LR=0.01, Optimizer=SGD, Loss=CrossEntropyLoss, Batch Size=128, Embedding Dim=100, Test Loss: 1.7606, Test Accuracy: 20.97\n",
            "Epoch 1/5, Train Loss: 1.7800, Train Accuracy: 19.20%, Validation Loss: 1.7704, Validation Accuracy: 19.31\n",
            "Epoch 2/5, Train Loss: 1.7731, Train Accuracy: 20.12%, Validation Loss: 1.7665, Validation Accuracy: 19.47\n",
            "Epoch 3/5, Train Loss: 1.7699, Train Accuracy: 19.70%, Validation Loss: 1.7666, Validation Accuracy: 20.09\n",
            "Epoch 4/5, Train Loss: 1.7714, Train Accuracy: 19.97%, Validation Loss: 1.7647, Validation Accuracy: 20.09\n"
          ]
        },
        {
          "output_type": "stream",
          "name": "stderr",
          "text": [
            "\r 74%|███████▍  | 80/108 [08:53<02:40,  5.74s/it]"
          ]
        },
        {
          "output_type": "stream",
          "name": "stdout",
          "text": [
            "Epoch 5/5, Train Loss: 1.7690, Train Accuracy: 20.43%, Validation Loss: 1.7647, Validation Accuracy: 20.02\n",
            "Hyperparameters: LR=0.01, Optimizer=SGD, Loss=CrossEntropyLoss, Batch Size=128, Embedding Dim=200, Test Loss: 1.7598, Test Accuracy: 20.89\n",
            "Epoch 1/5, Train Loss: 1.7822, Train Accuracy: 18.77%, Validation Loss: 1.7703, Validation Accuracy: 20.48\n",
            "Epoch 2/5, Train Loss: 1.7717, Train Accuracy: 19.55%, Validation Loss: 1.7673, Validation Accuracy: 19.94\n",
            "Epoch 3/5, Train Loss: 1.7736, Train Accuracy: 19.90%, Validation Loss: 1.7668, Validation Accuracy: 20.17\n",
            "Epoch 4/5, Train Loss: 1.7701, Train Accuracy: 20.59%, Validation Loss: 1.7631, Validation Accuracy: 20.33\n"
          ]
        },
        {
          "output_type": "stream",
          "name": "stderr",
          "text": [
            "\r 75%|███████▌  | 81/108 [08:57<02:23,  5.31s/it]"
          ]
        },
        {
          "output_type": "stream",
          "name": "stdout",
          "text": [
            "Epoch 5/5, Train Loss: 1.7679, Train Accuracy: 20.58%, Validation Loss: 1.7649, Validation Accuracy: 20.17\n",
            "Hyperparameters: LR=0.01, Optimizer=SGD, Loss=CrossEntropyLoss, Batch Size=128, Embedding Dim=300, Test Loss: 1.7613, Test Accuracy: 20.97\n",
            "Epoch 1/5, Train Loss: 1.2243, Train Accuracy: 19.64%, Validation Loss: 1.2116, Validation Accuracy: 19.24\n",
            "Epoch 2/5, Train Loss: 1.2218, Train Accuracy: 19.63%, Validation Loss: 1.2119, Validation Accuracy: 19.78\n",
            "Epoch 3/5, Train Loss: 1.2189, Train Accuracy: 20.83%, Validation Loss: 1.2108, Validation Accuracy: 21.96\n",
            "Epoch 4/5, Train Loss: 1.2143, Train Accuracy: 21.23%, Validation Loss: 1.2089, Validation Accuracy: 21.50\n"
          ]
        },
        {
          "output_type": "stream",
          "name": "stderr",
          "text": [
            "\r 76%|███████▌  | 82/108 [09:05<02:37,  6.05s/it]"
          ]
        },
        {
          "output_type": "stream",
          "name": "stdout",
          "text": [
            "Epoch 5/5, Train Loss: 1.2146, Train Accuracy: 20.92%, Validation Loss: 1.2065, Validation Accuracy: 20.48\n",
            "Hyperparameters: LR=0.01, Optimizer=SGD, Loss=FocalLoss, Batch Size=32, Embedding Dim=100, Test Loss: 1.2002, Test Accuracy: 20.97\n",
            "Epoch 1/5, Train Loss: 1.2247, Train Accuracy: 19.68%, Validation Loss: 1.2139, Validation Accuracy: 19.55\n",
            "Epoch 2/5, Train Loss: 1.2214, Train Accuracy: 20.26%, Validation Loss: 1.2081, Validation Accuracy: 21.34\n",
            "Epoch 3/5, Train Loss: 1.2152, Train Accuracy: 20.50%, Validation Loss: 1.2041, Validation Accuracy: 20.87\n",
            "Epoch 4/5, Train Loss: 1.2108, Train Accuracy: 21.48%, Validation Loss: 1.2009, Validation Accuracy: 21.88\n"
          ]
        },
        {
          "output_type": "stream",
          "name": "stderr",
          "text": [
            "\r 77%|███████▋  | 83/108 [09:13<02:41,  6.45s/it]"
          ]
        },
        {
          "output_type": "stream",
          "name": "stdout",
          "text": [
            "Epoch 5/5, Train Loss: 1.2010, Train Accuracy: 23.11%, Validation Loss: 1.1922, Validation Accuracy: 22.66\n",
            "Hyperparameters: LR=0.01, Optimizer=SGD, Loss=FocalLoss, Batch Size=32, Embedding Dim=200, Test Loss: 1.1889, Test Accuracy: 23.77\n",
            "Epoch 1/5, Train Loss: 1.2267, Train Accuracy: 19.55%, Validation Loss: 1.2127, Validation Accuracy: 22.27\n",
            "Epoch 2/5, Train Loss: 1.2155, Train Accuracy: 20.99%, Validation Loss: 1.2112, Validation Accuracy: 20.17\n",
            "Epoch 3/5, Train Loss: 1.2063, Train Accuracy: 22.23%, Validation Loss: 1.2002, Validation Accuracy: 20.79\n",
            "Epoch 4/5, Train Loss: 1.1925, Train Accuracy: 23.96%, Validation Loss: 1.1904, Validation Accuracy: 22.51\n"
          ]
        },
        {
          "output_type": "stream",
          "name": "stderr",
          "text": [
            "\r 78%|███████▊  | 84/108 [09:21<02:51,  7.15s/it]"
          ]
        },
        {
          "output_type": "stream",
          "name": "stdout",
          "text": [
            "Epoch 5/5, Train Loss: 1.1735, Train Accuracy: 25.42%, Validation Loss: 1.1690, Validation Accuracy: 23.36\n",
            "Hyperparameters: LR=0.01, Optimizer=SGD, Loss=FocalLoss, Batch Size=32, Embedding Dim=300, Test Loss: 1.1719, Test Accuracy: 23.77\n",
            "Epoch 1/5, Train Loss: 1.2251, Train Accuracy: 19.46%, Validation Loss: 1.2162, Validation Accuracy: 19.24\n",
            "Epoch 2/5, Train Loss: 1.2224, Train Accuracy: 19.96%, Validation Loss: 1.2131, Validation Accuracy: 18.85\n",
            "Epoch 3/5, Train Loss: 1.2215, Train Accuracy: 20.33%, Validation Loss: 1.2120, Validation Accuracy: 18.69\n",
            "Epoch 4/5, Train Loss: 1.2138, Train Accuracy: 20.73%, Validation Loss: 1.2076, Validation Accuracy: 19.24\n"
          ]
        },
        {
          "output_type": "stream",
          "name": "stderr",
          "text": [
            "\r 79%|███████▊  | 85/108 [09:25<02:22,  6.18s/it]"
          ]
        },
        {
          "output_type": "stream",
          "name": "stdout",
          "text": [
            "Epoch 5/5, Train Loss: 1.2180, Train Accuracy: 20.78%, Validation Loss: 1.2064, Validation Accuracy: 19.55\n",
            "Hyperparameters: LR=0.01, Optimizer=SGD, Loss=FocalLoss, Batch Size=64, Embedding Dim=100, Test Loss: 1.2036, Test Accuracy: 20.89\n",
            "Epoch 1/5, Train Loss: 1.2245, Train Accuracy: 19.98%, Validation Loss: 1.2146, Validation Accuracy: 19.86\n",
            "Epoch 2/5, Train Loss: 1.2203, Train Accuracy: 20.64%, Validation Loss: 1.2119, Validation Accuracy: 19.94\n",
            "Epoch 3/5, Train Loss: 1.2176, Train Accuracy: 20.38%, Validation Loss: 1.2095, Validation Accuracy: 20.09\n",
            "Epoch 4/5, Train Loss: 1.2144, Train Accuracy: 21.09%, Validation Loss: 1.2071, Validation Accuracy: 21.50\n"
          ]
        },
        {
          "output_type": "stream",
          "name": "stderr",
          "text": [
            "\r 80%|███████▉  | 86/108 [09:30<02:05,  5.72s/it]"
          ]
        },
        {
          "output_type": "stream",
          "name": "stdout",
          "text": [
            "Epoch 5/5, Train Loss: 1.2089, Train Accuracy: 21.88%, Validation Loss: 1.2059, Validation Accuracy: 19.86\n",
            "Hyperparameters: LR=0.01, Optimizer=SGD, Loss=FocalLoss, Batch Size=64, Embedding Dim=200, Test Loss: 1.2007, Test Accuracy: 21.98\n",
            "Epoch 1/5, Train Loss: 1.2260, Train Accuracy: 19.72%, Validation Loss: 1.2166, Validation Accuracy: 20.33\n",
            "Epoch 2/5, Train Loss: 1.2203, Train Accuracy: 19.74%, Validation Loss: 1.2114, Validation Accuracy: 21.73\n",
            "Epoch 3/5, Train Loss: 1.2144, Train Accuracy: 21.10%, Validation Loss: 1.2093, Validation Accuracy: 22.04\n",
            "Epoch 4/5, Train Loss: 1.2116, Train Accuracy: 21.65%, Validation Loss: 1.2106, Validation Accuracy: 22.04\n"
          ]
        },
        {
          "output_type": "stream",
          "name": "stderr",
          "text": [
            "\r 81%|████████  | 87/108 [09:36<02:02,  5.83s/it]"
          ]
        },
        {
          "output_type": "stream",
          "name": "stdout",
          "text": [
            "Epoch 5/5, Train Loss: 1.2087, Train Accuracy: 22.32%, Validation Loss: 1.2103, Validation Accuracy: 21.65\n",
            "Hyperparameters: LR=0.01, Optimizer=SGD, Loss=FocalLoss, Batch Size=64, Embedding Dim=300, Test Loss: 1.1988, Test Accuracy: 21.20\n",
            "Epoch 1/5, Train Loss: 1.2294, Train Accuracy: 19.47%, Validation Loss: 1.2151, Validation Accuracy: 21.18\n",
            "Epoch 2/5, Train Loss: 1.2239, Train Accuracy: 19.46%, Validation Loss: 1.2156, Validation Accuracy: 20.17\n",
            "Epoch 3/5, Train Loss: 1.2210, Train Accuracy: 20.03%, Validation Loss: 1.2122, Validation Accuracy: 21.57\n",
            "Epoch 4/5, Train Loss: 1.2220, Train Accuracy: 20.27%, Validation Loss: 1.2162, Validation Accuracy: 19.16\n"
          ]
        },
        {
          "output_type": "stream",
          "name": "stderr",
          "text": [
            "\r 81%|████████▏ | 88/108 [09:45<02:16,  6.84s/it]"
          ]
        },
        {
          "output_type": "stream",
          "name": "stdout",
          "text": [
            "Epoch 5/5, Train Loss: 1.2218, Train Accuracy: 19.89%, Validation Loss: 1.2126, Validation Accuracy: 20.09\n",
            "Hyperparameters: LR=0.01, Optimizer=SGD, Loss=FocalLoss, Batch Size=128, Embedding Dim=100, Test Loss: 1.2074, Test Accuracy: 23.38\n",
            "Epoch 1/5, Train Loss: 1.2277, Train Accuracy: 19.10%, Validation Loss: 1.2129, Validation Accuracy: 20.25\n",
            "Epoch 2/5, Train Loss: 1.2201, Train Accuracy: 20.12%, Validation Loss: 1.2109, Validation Accuracy: 19.47\n",
            "Epoch 3/5, Train Loss: 1.2172, Train Accuracy: 20.05%, Validation Loss: 1.2102, Validation Accuracy: 21.73\n",
            "Epoch 4/5, Train Loss: 1.2200, Train Accuracy: 20.38%, Validation Loss: 1.2105, Validation Accuracy: 21.50\n"
          ]
        },
        {
          "output_type": "stream",
          "name": "stderr",
          "text": [
            "\r 82%|████████▏ | 89/108 [09:49<01:51,  5.89s/it]"
          ]
        },
        {
          "output_type": "stream",
          "name": "stdout",
          "text": [
            "Epoch 5/5, Train Loss: 1.2170, Train Accuracy: 21.03%, Validation Loss: 1.2109, Validation Accuracy: 19.94\n",
            "Hyperparameters: LR=0.01, Optimizer=SGD, Loss=FocalLoss, Batch Size=128, Embedding Dim=200, Test Loss: 1.2081, Test Accuracy: 20.58\n",
            "Epoch 1/5, Train Loss: 1.2307, Train Accuracy: 19.45%, Validation Loss: 1.2149, Validation Accuracy: 19.86\n",
            "Epoch 2/5, Train Loss: 1.2217, Train Accuracy: 19.41%, Validation Loss: 1.2112, Validation Accuracy: 17.99\n",
            "Epoch 3/5, Train Loss: 1.2192, Train Accuracy: 20.73%, Validation Loss: 1.2103, Validation Accuracy: 20.09\n",
            "Epoch 4/5, Train Loss: 1.2174, Train Accuracy: 20.63%, Validation Loss: 1.2101, Validation Accuracy: 20.56\n"
          ]
        },
        {
          "output_type": "stream",
          "name": "stderr",
          "text": [
            "\r 83%|████████▎ | 90/108 [09:54<01:38,  5.49s/it]"
          ]
        },
        {
          "output_type": "stream",
          "name": "stdout",
          "text": [
            "Epoch 5/5, Train Loss: 1.2144, Train Accuracy: 20.78%, Validation Loss: 1.2091, Validation Accuracy: 20.33\n",
            "Hyperparameters: LR=0.01, Optimizer=SGD, Loss=FocalLoss, Batch Size=128, Embedding Dim=300, Test Loss: 1.2062, Test Accuracy: 21.59\n",
            "Epoch 1/5, Train Loss: 1.9099, Train Accuracy: 18.78%, Validation Loss: 1.8247, Validation Accuracy: 19.31\n",
            "Epoch 2/5, Train Loss: 1.8684, Train Accuracy: 18.39%, Validation Loss: 1.7681, Validation Accuracy: 19.31\n",
            "Epoch 3/5, Train Loss: 1.8668, Train Accuracy: 19.49%, Validation Loss: 1.7898, Validation Accuracy: 19.31\n",
            "Epoch 4/5, Train Loss: 1.8684, Train Accuracy: 18.38%, Validation Loss: 1.8009, Validation Accuracy: 18.46\n"
          ]
        },
        {
          "output_type": "stream",
          "name": "stderr",
          "text": [
            "\r 84%|████████▍ | 91/108 [10:00<01:39,  5.86s/it]"
          ]
        },
        {
          "output_type": "stream",
          "name": "stdout",
          "text": [
            "Epoch 5/5, Train Loss: 1.8704, Train Accuracy: 18.91%, Validation Loss: 1.7987, Validation Accuracy: 20.48\n",
            "Hyperparameters: LR=0.01, Optimizer=RMSprop, Loss=CrossEntropyLoss, Batch Size=32, Embedding Dim=100, Test Loss: 1.8111, Test Accuracy: 19.49\n",
            "Epoch 1/5, Train Loss: 1.9062, Train Accuracy: 18.45%, Validation Loss: 1.7984, Validation Accuracy: 19.55\n",
            "Epoch 2/5, Train Loss: 1.8563, Train Accuracy: 18.38%, Validation Loss: 1.9066, Validation Accuracy: 18.46\n",
            "Epoch 3/5, Train Loss: 1.8559, Train Accuracy: 18.19%, Validation Loss: 1.7936, Validation Accuracy: 19.31\n",
            "Epoch 4/5, Train Loss: 1.8513, Train Accuracy: 18.38%, Validation Loss: 1.8349, Validation Accuracy: 20.48\n"
          ]
        },
        {
          "output_type": "stream",
          "name": "stderr",
          "text": [
            "\r 85%|████████▌ | 92/108 [10:09<01:47,  6.74s/it]"
          ]
        },
        {
          "output_type": "stream",
          "name": "stdout",
          "text": [
            "Epoch 5/5, Train Loss: 1.8549, Train Accuracy: 18.36%, Validation Loss: 1.8282, Validation Accuracy: 13.16\n",
            "Hyperparameters: LR=0.01, Optimizer=RMSprop, Loss=CrossEntropyLoss, Batch Size=32, Embedding Dim=200, Test Loss: 1.7985, Test Accuracy: 16.45\n",
            "Epoch 1/5, Train Loss: 1.9207, Train Accuracy: 18.59%, Validation Loss: 1.8580, Validation Accuracy: 19.55\n",
            "Epoch 2/5, Train Loss: 1.8704, Train Accuracy: 18.76%, Validation Loss: 1.7727, Validation Accuracy: 18.46\n",
            "Epoch 3/5, Train Loss: 1.8645, Train Accuracy: 18.75%, Validation Loss: 1.7911, Validation Accuracy: 19.55\n",
            "Epoch 4/5, Train Loss: 1.8695, Train Accuracy: 18.74%, Validation Loss: 1.7850, Validation Accuracy: 13.16\n"
          ]
        },
        {
          "output_type": "stream",
          "name": "stderr",
          "text": [
            "\r 86%|████████▌ | 93/108 [10:18<01:51,  7.41s/it]"
          ]
        },
        {
          "output_type": "stream",
          "name": "stdout",
          "text": [
            "Epoch 5/5, Train Loss: 1.8674, Train Accuracy: 18.68%, Validation Loss: 1.8321, Validation Accuracy: 19.31\n",
            "Hyperparameters: LR=0.01, Optimizer=RMSprop, Loss=CrossEntropyLoss, Batch Size=32, Embedding Dim=300, Test Loss: 1.8190, Test Accuracy: 20.81\n",
            "Epoch 1/5, Train Loss: 1.9789, Train Accuracy: 18.09%, Validation Loss: 1.9259, Validation Accuracy: 19.31\n",
            "Epoch 2/5, Train Loss: 1.8597, Train Accuracy: 17.74%, Validation Loss: 1.8319, Validation Accuracy: 20.48\n",
            "Epoch 3/5, Train Loss: 1.8599, Train Accuracy: 18.77%, Validation Loss: 1.9517, Validation Accuracy: 19.31\n",
            "Epoch 4/5, Train Loss: 1.8570, Train Accuracy: 18.44%, Validation Loss: 1.9149, Validation Accuracy: 20.48\n"
          ]
        },
        {
          "output_type": "stream",
          "name": "stderr",
          "text": [
            "\r 87%|████████▋ | 94/108 [10:23<01:33,  6.65s/it]"
          ]
        },
        {
          "output_type": "stream",
          "name": "stdout",
          "text": [
            "Epoch 5/5, Train Loss: 1.8689, Train Accuracy: 18.51%, Validation Loss: 1.8058, Validation Accuracy: 19.31\n",
            "Hyperparameters: LR=0.01, Optimizer=RMSprop, Loss=CrossEntropyLoss, Batch Size=64, Embedding Dim=100, Test Loss: 1.7887, Test Accuracy: 20.81\n",
            "Epoch 1/5, Train Loss: 1.9858, Train Accuracy: 19.14%, Validation Loss: 2.0988, Validation Accuracy: 9.03\n",
            "Epoch 2/5, Train Loss: 1.8790, Train Accuracy: 18.12%, Validation Loss: 1.8408, Validation Accuracy: 13.16\n",
            "Epoch 3/5, Train Loss: 1.8677, Train Accuracy: 18.52%, Validation Loss: 1.8198, Validation Accuracy: 19.31\n",
            "Epoch 4/5, Train Loss: 1.8699, Train Accuracy: 18.77%, Validation Loss: 1.8663, Validation Accuracy: 18.46\n"
          ]
        },
        {
          "output_type": "stream",
          "name": "stderr",
          "text": [
            "\r 88%|████████▊ | 95/108 [10:28<01:19,  6.12s/it]"
          ]
        },
        {
          "output_type": "stream",
          "name": "stdout",
          "text": [
            "Epoch 5/5, Train Loss: 1.8697, Train Accuracy: 18.84%, Validation Loss: 1.9417, Validation Accuracy: 18.46\n",
            "Hyperparameters: LR=0.01, Optimizer=RMSprop, Loss=CrossEntropyLoss, Batch Size=64, Embedding Dim=200, Test Loss: 1.9267, Test Accuracy: 16.68\n",
            "Epoch 1/5, Train Loss: 1.9328, Train Accuracy: 17.90%, Validation Loss: 1.8793, Validation Accuracy: 13.16\n",
            "Epoch 2/5, Train Loss: 1.8438, Train Accuracy: 18.38%, Validation Loss: 1.9138, Validation Accuracy: 13.16\n",
            "Epoch 3/5, Train Loss: 1.8391, Train Accuracy: 17.89%, Validation Loss: 1.8642, Validation Accuracy: 19.55\n",
            "Epoch 4/5, Train Loss: 1.8404, Train Accuracy: 18.09%, Validation Loss: 1.8537, Validation Accuracy: 19.55\n"
          ]
        },
        {
          "output_type": "stream",
          "name": "stderr",
          "text": [
            "\r 89%|████████▉ | 96/108 [10:34<01:12,  6.05s/it]"
          ]
        },
        {
          "output_type": "stream",
          "name": "stdout",
          "text": [
            "Epoch 5/5, Train Loss: 1.8389, Train Accuracy: 19.60%, Validation Loss: 1.7709, Validation Accuracy: 19.55\n",
            "Hyperparameters: LR=0.01, Optimizer=RMSprop, Loss=CrossEntropyLoss, Batch Size=64, Embedding Dim=300, Test Loss: 1.7660, Test Accuracy: 19.41\n",
            "Epoch 1/5, Train Loss: 2.0683, Train Accuracy: 18.45%, Validation Loss: 1.9234, Validation Accuracy: 19.31\n",
            "Epoch 2/5, Train Loss: 1.8565, Train Accuracy: 18.89%, Validation Loss: 2.1380, Validation Accuracy: 9.03\n",
            "Epoch 3/5, Train Loss: 1.8506, Train Accuracy: 18.92%, Validation Loss: 1.9720, Validation Accuracy: 13.16\n",
            "Epoch 4/5, Train Loss: 1.8615, Train Accuracy: 18.84%, Validation Loss: 2.0062, Validation Accuracy: 19.31\n"
          ]
        },
        {
          "output_type": "stream",
          "name": "stderr",
          "text": [
            "\r 90%|████████▉ | 97/108 [10:43<01:17,  7.04s/it]"
          ]
        },
        {
          "output_type": "stream",
          "name": "stdout",
          "text": [
            "Epoch 5/5, Train Loss: 1.8432, Train Accuracy: 19.44%, Validation Loss: 1.8264, Validation Accuracy: 18.46\n",
            "Hyperparameters: LR=0.01, Optimizer=RMSprop, Loss=CrossEntropyLoss, Batch Size=128, Embedding Dim=100, Test Loss: 1.8216, Test Accuracy: 16.68\n",
            "Epoch 1/5, Train Loss: 1.9332, Train Accuracy: 18.63%, Validation Loss: 1.8047, Validation Accuracy: 18.46\n",
            "Epoch 2/5, Train Loss: 1.8336, Train Accuracy: 18.60%, Validation Loss: 1.8007, Validation Accuracy: 18.46\n",
            "Epoch 3/5, Train Loss: 1.8333, Train Accuracy: 19.11%, Validation Loss: 1.9120, Validation Accuracy: 19.55\n",
            "Epoch 4/5, Train Loss: 1.8206, Train Accuracy: 18.41%, Validation Loss: 1.7860, Validation Accuracy: 19.31\n"
          ]
        },
        {
          "output_type": "stream",
          "name": "stderr",
          "text": [
            "\r 91%|█████████ | 98/108 [10:47<01:00,  6.01s/it]"
          ]
        },
        {
          "output_type": "stream",
          "name": "stdout",
          "text": [
            "Epoch 5/5, Train Loss: 1.8312, Train Accuracy: 18.57%, Validation Loss: 1.8936, Validation Accuracy: 19.55\n",
            "Hyperparameters: LR=0.01, Optimizer=RMSprop, Loss=CrossEntropyLoss, Batch Size=128, Embedding Dim=200, Test Loss: 1.9332, Test Accuracy: 19.41\n",
            "Epoch 1/5, Train Loss: 1.9954, Train Accuracy: 18.61%, Validation Loss: 1.8249, Validation Accuracy: 19.55\n",
            "Epoch 2/5, Train Loss: 1.8394, Train Accuracy: 18.59%, Validation Loss: 1.8320, Validation Accuracy: 20.48\n",
            "Epoch 3/5, Train Loss: 1.8379, Train Accuracy: 19.41%, Validation Loss: 1.9520, Validation Accuracy: 20.48\n",
            "Epoch 4/5, Train Loss: 1.8352, Train Accuracy: 19.02%, Validation Loss: 1.8412, Validation Accuracy: 13.16\n"
          ]
        },
        {
          "output_type": "stream",
          "name": "stderr",
          "text": [
            "\r 92%|█████████▏| 99/108 [10:51<00:50,  5.66s/it]"
          ]
        },
        {
          "output_type": "stream",
          "name": "stdout",
          "text": [
            "Epoch 5/5, Train Loss: 1.8420, Train Accuracy: 18.58%, Validation Loss: 1.8891, Validation Accuracy: 19.31\n",
            "Hyperparameters: LR=0.01, Optimizer=RMSprop, Loss=CrossEntropyLoss, Batch Size=128, Embedding Dim=300, Test Loss: 1.8980, Test Accuracy: 20.81\n",
            "Epoch 1/5, Train Loss: 1.4137, Train Accuracy: 18.25%, Validation Loss: 1.2768, Validation Accuracy: 19.31\n",
            "Epoch 2/5, Train Loss: 1.3296, Train Accuracy: 18.72%, Validation Loss: 1.2384, Validation Accuracy: 19.31\n",
            "Epoch 3/5, Train Loss: 1.3364, Train Accuracy: 18.09%, Validation Loss: 1.2399, Validation Accuracy: 20.48\n",
            "Epoch 4/5, Train Loss: 1.3342, Train Accuracy: 18.04%, Validation Loss: 1.2177, Validation Accuracy: 19.55\n"
          ]
        },
        {
          "output_type": "stream",
          "name": "stderr",
          "text": [
            "\r 93%|█████████▎| 100/108 [10:59<00:49,  6.24s/it]"
          ]
        },
        {
          "output_type": "stream",
          "name": "stdout",
          "text": [
            "Epoch 5/5, Train Loss: 1.3245, Train Accuracy: 19.27%, Validation Loss: 1.3095, Validation Accuracy: 19.55\n",
            "Hyperparameters: LR=0.01, Optimizer=RMSprop, Loss=FocalLoss, Batch Size=32, Embedding Dim=100, Test Loss: 1.2797, Test Accuracy: 19.41\n",
            "Epoch 1/5, Train Loss: 1.4017, Train Accuracy: 18.57%, Validation Loss: 1.2290, Validation Accuracy: 18.46\n",
            "Epoch 2/5, Train Loss: 1.3243, Train Accuracy: 18.77%, Validation Loss: 1.2237, Validation Accuracy: 20.48\n",
            "Epoch 3/5, Train Loss: 1.3287, Train Accuracy: 18.55%, Validation Loss: 1.2519, Validation Accuracy: 18.46\n",
            "Epoch 4/5, Train Loss: 1.3227, Train Accuracy: 18.61%, Validation Loss: 1.2470, Validation Accuracy: 19.31\n"
          ]
        },
        {
          "output_type": "stream",
          "name": "stderr",
          "text": [
            "\r 94%|█████████▎| 101/108 [11:08<00:49,  7.02s/it]"
          ]
        },
        {
          "output_type": "stream",
          "name": "stdout",
          "text": [
            "Epoch 5/5, Train Loss: 1.3255, Train Accuracy: 18.64%, Validation Loss: 1.2474, Validation Accuracy: 18.46\n",
            "Hyperparameters: LR=0.01, Optimizer=RMSprop, Loss=FocalLoss, Batch Size=32, Embedding Dim=200, Test Loss: 1.2585, Test Accuracy: 16.68\n",
            "Epoch 1/5, Train Loss: 1.3790, Train Accuracy: 18.70%, Validation Loss: 1.2272, Validation Accuracy: 19.55\n",
            "Epoch 2/5, Train Loss: 1.3174, Train Accuracy: 18.46%, Validation Loss: 1.2490, Validation Accuracy: 19.55\n",
            "Epoch 3/5, Train Loss: 1.3174, Train Accuracy: 18.58%, Validation Loss: 1.2524, Validation Accuracy: 19.55\n",
            "Epoch 4/5, Train Loss: 1.3248, Train Accuracy: 18.52%, Validation Loss: 1.3024, Validation Accuracy: 18.46\n"
          ]
        },
        {
          "output_type": "stream",
          "name": "stderr",
          "text": [
            "\r 94%|█████████▍| 102/108 [11:17<00:46,  7.74s/it]"
          ]
        },
        {
          "output_type": "stream",
          "name": "stdout",
          "text": [
            "Epoch 5/5, Train Loss: 1.3213, Train Accuracy: 18.54%, Validation Loss: 1.2354, Validation Accuracy: 19.31\n",
            "Hyperparameters: LR=0.01, Optimizer=RMSprop, Loss=FocalLoss, Batch Size=32, Embedding Dim=300, Test Loss: 1.2225, Test Accuracy: 20.81\n",
            "Epoch 1/5, Train Loss: 1.4401, Train Accuracy: 18.08%, Validation Loss: 1.2381, Validation Accuracy: 20.48\n",
            "Epoch 2/5, Train Loss: 1.3208, Train Accuracy: 18.64%, Validation Loss: 1.2782, Validation Accuracy: 13.16\n",
            "Epoch 3/5, Train Loss: 1.3191, Train Accuracy: 18.58%, Validation Loss: 1.3672, Validation Accuracy: 18.46\n",
            "Epoch 4/5, Train Loss: 1.3249, Train Accuracy: 18.08%, Validation Loss: 1.2315, Validation Accuracy: 19.31\n"
          ]
        },
        {
          "output_type": "stream",
          "name": "stderr",
          "text": [
            "\r 95%|█████████▌| 103/108 [11:22<00:34,  6.82s/it]"
          ]
        },
        {
          "output_type": "stream",
          "name": "stdout",
          "text": [
            "Epoch 5/5, Train Loss: 1.3137, Train Accuracy: 19.18%, Validation Loss: 1.2806, Validation Accuracy: 18.46\n",
            "Hyperparameters: LR=0.01, Optimizer=RMSprop, Loss=FocalLoss, Batch Size=64, Embedding Dim=100, Test Loss: 1.2696, Test Accuracy: 16.68\n",
            "Epoch 1/5, Train Loss: 1.4667, Train Accuracy: 18.48%, Validation Loss: 1.3184, Validation Accuracy: 20.48\n",
            "Epoch 2/5, Train Loss: 1.3203, Train Accuracy: 18.71%, Validation Loss: 1.2306, Validation Accuracy: 19.55\n",
            "Epoch 3/5, Train Loss: 1.3300, Train Accuracy: 18.64%, Validation Loss: 1.4089, Validation Accuracy: 13.16\n",
            "Epoch 4/5, Train Loss: 1.3249, Train Accuracy: 19.26%, Validation Loss: 1.4010, Validation Accuracy: 13.16\n"
          ]
        },
        {
          "output_type": "stream",
          "name": "stderr",
          "text": [
            "\r 96%|█████████▋| 104/108 [11:27<00:25,  6.42s/it]"
          ]
        },
        {
          "output_type": "stream",
          "name": "stdout",
          "text": [
            "Epoch 5/5, Train Loss: 1.3205, Train Accuracy: 18.49%, Validation Loss: 1.2781, Validation Accuracy: 18.46\n",
            "Hyperparameters: LR=0.01, Optimizer=RMSprop, Loss=FocalLoss, Batch Size=64, Embedding Dim=200, Test Loss: 1.2922, Test Accuracy: 16.68\n",
            "Epoch 1/5, Train Loss: 1.3977, Train Accuracy: 19.04%, Validation Loss: 1.3698, Validation Accuracy: 19.31\n",
            "Epoch 2/5, Train Loss: 1.3095, Train Accuracy: 18.61%, Validation Loss: 1.3146, Validation Accuracy: 19.55\n",
            "Epoch 3/5, Train Loss: 1.3013, Train Accuracy: 19.01%, Validation Loss: 1.4608, Validation Accuracy: 19.31\n",
            "Epoch 4/5, Train Loss: 1.3062, Train Accuracy: 19.07%, Validation Loss: 1.2540, Validation Accuracy: 20.56\n"
          ]
        },
        {
          "output_type": "stream",
          "name": "stderr",
          "text": [
            "\r 97%|█████████▋| 105/108 [11:33<00:18,  6.27s/it]"
          ]
        },
        {
          "output_type": "stream",
          "name": "stdout",
          "text": [
            "Epoch 5/5, Train Loss: 1.3058, Train Accuracy: 18.79%, Validation Loss: 1.3186, Validation Accuracy: 9.03\n",
            "Hyperparameters: LR=0.01, Optimizer=RMSprop, Loss=FocalLoss, Batch Size=64, Embedding Dim=300, Test Loss: 1.3203, Test Accuracy: 7.17\n",
            "Epoch 1/5, Train Loss: 1.4900, Train Accuracy: 18.16%, Validation Loss: 1.2406, Validation Accuracy: 20.48\n",
            "Epoch 2/5, Train Loss: 1.2945, Train Accuracy: 18.17%, Validation Loss: 1.3018, Validation Accuracy: 13.16\n",
            "Epoch 3/5, Train Loss: 1.2776, Train Accuracy: 18.52%, Validation Loss: 1.2026, Validation Accuracy: 20.48\n",
            "Epoch 4/5, Train Loss: 1.2888, Train Accuracy: 18.77%, Validation Loss: 1.3256, Validation Accuracy: 19.55\n"
          ]
        },
        {
          "output_type": "stream",
          "name": "stderr",
          "text": [
            "\r 98%|█████████▊| 106/108 [11:43<00:14,  7.24s/it]"
          ]
        },
        {
          "output_type": "stream",
          "name": "stdout",
          "text": [
            "Epoch 5/5, Train Loss: 1.2708, Train Accuracy: 19.22%, Validation Loss: 1.2652, Validation Accuracy: 19.31\n",
            "Hyperparameters: LR=0.01, Optimizer=RMSprop, Loss=FocalLoss, Batch Size=128, Embedding Dim=100, Test Loss: 1.2629, Test Accuracy: 20.81\n",
            "Epoch 1/5, Train Loss: 1.4889, Train Accuracy: 18.66%, Validation Loss: 1.3104, Validation Accuracy: 19.55\n",
            "Epoch 2/5, Train Loss: 1.2901, Train Accuracy: 19.04%, Validation Loss: 1.2622, Validation Accuracy: 13.16\n",
            "Epoch 3/5, Train Loss: 1.2967, Train Accuracy: 18.93%, Validation Loss: 1.3329, Validation Accuracy: 20.48\n",
            "Epoch 4/5, Train Loss: 1.2902, Train Accuracy: 19.02%, Validation Loss: 1.2661, Validation Accuracy: 18.46\n"
          ]
        },
        {
          "output_type": "stream",
          "name": "stderr",
          "text": [
            "\r 99%|█████████▉| 107/108 [11:47<00:06,  6.16s/it]"
          ]
        },
        {
          "output_type": "stream",
          "name": "stdout",
          "text": [
            "Epoch 5/5, Train Loss: 1.2933, Train Accuracy: 18.66%, Validation Loss: 1.3744, Validation Accuracy: 13.16\n",
            "Hyperparameters: LR=0.01, Optimizer=RMSprop, Loss=FocalLoss, Batch Size=128, Embedding Dim=200, Test Loss: 1.3987, Test Accuracy: 16.45\n",
            "Epoch 1/5, Train Loss: 1.4922, Train Accuracy: 18.19%, Validation Loss: 1.3188, Validation Accuracy: 20.48\n",
            "Epoch 2/5, Train Loss: 1.3025, Train Accuracy: 19.01%, Validation Loss: 1.5702, Validation Accuracy: 9.03\n",
            "Epoch 3/5, Train Loss: 1.3138, Train Accuracy: 18.51%, Validation Loss: 1.3138, Validation Accuracy: 18.46\n",
            "Epoch 4/5, Train Loss: 1.2915, Train Accuracy: 19.50%, Validation Loss: 1.2480, Validation Accuracy: 19.55\n"
          ]
        },
        {
          "output_type": "stream",
          "name": "stderr",
          "text": [
            "100%|██████████| 108/108 [11:51<00:00,  6.59s/it]"
          ]
        },
        {
          "output_type": "stream",
          "name": "stdout",
          "text": [
            "Epoch 5/5, Train Loss: 1.2921, Train Accuracy: 19.05%, Validation Loss: 1.3760, Validation Accuracy: 13.16\n",
            "Hyperparameters: LR=0.01, Optimizer=RMSprop, Loss=FocalLoss, Batch Size=128, Embedding Dim=300, Test Loss: 1.3334, Test Accuracy: 16.45\n"
          ]
        },
        {
          "output_type": "stream",
          "name": "stderr",
          "text": [
            "\n"
          ]
        }
      ]
    },
    {
      "cell_type": "code",
      "source": [
        "# saving the best HybridCNN model of all the hyperparameter combinations on Google Drive\n",
        "\n",
        "drive_file_path = '/content/drive/MyDrive/Models/best_hybridcnn_model6.pth'\n",
        "\n",
        "torch.save(best_model, drive_file_path)\n",
        "print(\"Best HybridCNCN model saved.\")"
      ],
      "metadata": {
        "colab": {
          "base_uri": "https://localhost:8080/"
        },
        "id": "TNx0PZDXsWGE",
        "outputId": "4cb0f17f-31eb-4e99-b3f0-72c721e12791"
      },
      "execution_count": 74,
      "outputs": [
        {
          "output_type": "stream",
          "name": "stdout",
          "text": [
            "Best HybridCNCN model saved.\n"
          ]
        }
      ]
    },
    {
      "cell_type": "code",
      "source": [
        "# sorting all the hyperparameter combinations on HybridCNN Model based on 'Test Accuracy', and displaying the top 10 rows\n",
        "\n",
        "hybridcnn_df = pd.DataFrame(results)\n",
        "hybridcnn_df = hybridcnn_df.sort_values(by='Test Accuracy', ascending=False)\n",
        "\n",
        "hybridcnn_df.head(10)"
      ],
      "metadata": {
        "colab": {
          "base_uri": "https://localhost:8080/",
          "height": 363
        },
        "outputId": "02b731e6-d52c-4148-aeda-237e69820d84",
        "id": "5VBR8fPNf61e"
      },
      "execution_count": 73,
      "outputs": [
        {
          "output_type": "execute_result",
          "data": {
            "text/plain": [
              "    Learning Rate Optimizer     Loss Function  Batch Size  Embedding Dim  \\\n",
              "7           0.001      Adam  CrossEntropyLoss         128            200   \n",
              "48          0.001   RMSprop         FocalLoss          64            100   \n",
              "8           0.001      Adam  CrossEntropyLoss         128            300   \n",
              "46          0.001   RMSprop         FocalLoss          32            200   \n",
              "50          0.001   RMSprop         FocalLoss          64            300   \n",
              "13          0.001      Adam         FocalLoss          64            200   \n",
              "42          0.001   RMSprop  CrossEntropyLoss         128            100   \n",
              "16          0.001      Adam         FocalLoss         128            200   \n",
              "15          0.001      Adam         FocalLoss         128            100   \n",
              "2           0.001      Adam  CrossEntropyLoss          32            300   \n",
              "\n",
              "    Test Accuracy  \n",
              "7        0.275136  \n",
              "48       0.266563  \n",
              "8        0.265783  \n",
              "46       0.262666  \n",
              "50       0.261107  \n",
              "13       0.261107  \n",
              "42       0.259548  \n",
              "16       0.259548  \n",
              "15       0.259548  \n",
              "2        0.257989  "
            ],
            "text/html": [
              "\n",
              "  <div id=\"df-6338e548-eb3d-4a2f-ab32-5289733584ee\" class=\"colab-df-container\">\n",
              "    <div>\n",
              "<style scoped>\n",
              "    .dataframe tbody tr th:only-of-type {\n",
              "        vertical-align: middle;\n",
              "    }\n",
              "\n",
              "    .dataframe tbody tr th {\n",
              "        vertical-align: top;\n",
              "    }\n",
              "\n",
              "    .dataframe thead th {\n",
              "        text-align: right;\n",
              "    }\n",
              "</style>\n",
              "<table border=\"1\" class=\"dataframe\">\n",
              "  <thead>\n",
              "    <tr style=\"text-align: right;\">\n",
              "      <th></th>\n",
              "      <th>Learning Rate</th>\n",
              "      <th>Optimizer</th>\n",
              "      <th>Loss Function</th>\n",
              "      <th>Batch Size</th>\n",
              "      <th>Embedding Dim</th>\n",
              "      <th>Test Accuracy</th>\n",
              "    </tr>\n",
              "  </thead>\n",
              "  <tbody>\n",
              "    <tr>\n",
              "      <th>7</th>\n",
              "      <td>0.001</td>\n",
              "      <td>Adam</td>\n",
              "      <td>CrossEntropyLoss</td>\n",
              "      <td>128</td>\n",
              "      <td>200</td>\n",
              "      <td>0.275136</td>\n",
              "    </tr>\n",
              "    <tr>\n",
              "      <th>48</th>\n",
              "      <td>0.001</td>\n",
              "      <td>RMSprop</td>\n",
              "      <td>FocalLoss</td>\n",
              "      <td>64</td>\n",
              "      <td>100</td>\n",
              "      <td>0.266563</td>\n",
              "    </tr>\n",
              "    <tr>\n",
              "      <th>8</th>\n",
              "      <td>0.001</td>\n",
              "      <td>Adam</td>\n",
              "      <td>CrossEntropyLoss</td>\n",
              "      <td>128</td>\n",
              "      <td>300</td>\n",
              "      <td>0.265783</td>\n",
              "    </tr>\n",
              "    <tr>\n",
              "      <th>46</th>\n",
              "      <td>0.001</td>\n",
              "      <td>RMSprop</td>\n",
              "      <td>FocalLoss</td>\n",
              "      <td>32</td>\n",
              "      <td>200</td>\n",
              "      <td>0.262666</td>\n",
              "    </tr>\n",
              "    <tr>\n",
              "      <th>50</th>\n",
              "      <td>0.001</td>\n",
              "      <td>RMSprop</td>\n",
              "      <td>FocalLoss</td>\n",
              "      <td>64</td>\n",
              "      <td>300</td>\n",
              "      <td>0.261107</td>\n",
              "    </tr>\n",
              "    <tr>\n",
              "      <th>13</th>\n",
              "      <td>0.001</td>\n",
              "      <td>Adam</td>\n",
              "      <td>FocalLoss</td>\n",
              "      <td>64</td>\n",
              "      <td>200</td>\n",
              "      <td>0.261107</td>\n",
              "    </tr>\n",
              "    <tr>\n",
              "      <th>42</th>\n",
              "      <td>0.001</td>\n",
              "      <td>RMSprop</td>\n",
              "      <td>CrossEntropyLoss</td>\n",
              "      <td>128</td>\n",
              "      <td>100</td>\n",
              "      <td>0.259548</td>\n",
              "    </tr>\n",
              "    <tr>\n",
              "      <th>16</th>\n",
              "      <td>0.001</td>\n",
              "      <td>Adam</td>\n",
              "      <td>FocalLoss</td>\n",
              "      <td>128</td>\n",
              "      <td>200</td>\n",
              "      <td>0.259548</td>\n",
              "    </tr>\n",
              "    <tr>\n",
              "      <th>15</th>\n",
              "      <td>0.001</td>\n",
              "      <td>Adam</td>\n",
              "      <td>FocalLoss</td>\n",
              "      <td>128</td>\n",
              "      <td>100</td>\n",
              "      <td>0.259548</td>\n",
              "    </tr>\n",
              "    <tr>\n",
              "      <th>2</th>\n",
              "      <td>0.001</td>\n",
              "      <td>Adam</td>\n",
              "      <td>CrossEntropyLoss</td>\n",
              "      <td>32</td>\n",
              "      <td>300</td>\n",
              "      <td>0.257989</td>\n",
              "    </tr>\n",
              "  </tbody>\n",
              "</table>\n",
              "</div>\n",
              "    <div class=\"colab-df-buttons\">\n",
              "\n",
              "  <div class=\"colab-df-container\">\n",
              "    <button class=\"colab-df-convert\" onclick=\"convertToInteractive('df-6338e548-eb3d-4a2f-ab32-5289733584ee')\"\n",
              "            title=\"Convert this dataframe to an interactive table.\"\n",
              "            style=\"display:none;\">\n",
              "\n",
              "  <svg xmlns=\"http://www.w3.org/2000/svg\" height=\"24px\" viewBox=\"0 -960 960 960\">\n",
              "    <path d=\"M120-120v-720h720v720H120Zm60-500h600v-160H180v160Zm220 220h160v-160H400v160Zm0 220h160v-160H400v160ZM180-400h160v-160H180v160Zm440 0h160v-160H620v160ZM180-180h160v-160H180v160Zm440 0h160v-160H620v160Z\"/>\n",
              "  </svg>\n",
              "    </button>\n",
              "\n",
              "  <style>\n",
              "    .colab-df-container {\n",
              "      display:flex;\n",
              "      gap: 12px;\n",
              "    }\n",
              "\n",
              "    .colab-df-convert {\n",
              "      background-color: #E8F0FE;\n",
              "      border: none;\n",
              "      border-radius: 50%;\n",
              "      cursor: pointer;\n",
              "      display: none;\n",
              "      fill: #1967D2;\n",
              "      height: 32px;\n",
              "      padding: 0 0 0 0;\n",
              "      width: 32px;\n",
              "    }\n",
              "\n",
              "    .colab-df-convert:hover {\n",
              "      background-color: #E2EBFA;\n",
              "      box-shadow: 0px 1px 2px rgba(60, 64, 67, 0.3), 0px 1px 3px 1px rgba(60, 64, 67, 0.15);\n",
              "      fill: #174EA6;\n",
              "    }\n",
              "\n",
              "    .colab-df-buttons div {\n",
              "      margin-bottom: 4px;\n",
              "    }\n",
              "\n",
              "    [theme=dark] .colab-df-convert {\n",
              "      background-color: #3B4455;\n",
              "      fill: #D2E3FC;\n",
              "    }\n",
              "\n",
              "    [theme=dark] .colab-df-convert:hover {\n",
              "      background-color: #434B5C;\n",
              "      box-shadow: 0px 1px 3px 1px rgba(0, 0, 0, 0.15);\n",
              "      filter: drop-shadow(0px 1px 2px rgba(0, 0, 0, 0.3));\n",
              "      fill: #FFFFFF;\n",
              "    }\n",
              "  </style>\n",
              "\n",
              "    <script>\n",
              "      const buttonEl =\n",
              "        document.querySelector('#df-6338e548-eb3d-4a2f-ab32-5289733584ee button.colab-df-convert');\n",
              "      buttonEl.style.display =\n",
              "        google.colab.kernel.accessAllowed ? 'block' : 'none';\n",
              "\n",
              "      async function convertToInteractive(key) {\n",
              "        const element = document.querySelector('#df-6338e548-eb3d-4a2f-ab32-5289733584ee');\n",
              "        const dataTable =\n",
              "          await google.colab.kernel.invokeFunction('convertToInteractive',\n",
              "                                                    [key], {});\n",
              "        if (!dataTable) return;\n",
              "\n",
              "        const docLinkHtml = 'Like what you see? Visit the ' +\n",
              "          '<a target=\"_blank\" href=https://colab.research.google.com/notebooks/data_table.ipynb>data table notebook</a>'\n",
              "          + ' to learn more about interactive tables.';\n",
              "        element.innerHTML = '';\n",
              "        dataTable['output_type'] = 'display_data';\n",
              "        await google.colab.output.renderOutput(dataTable, element);\n",
              "        const docLink = document.createElement('div');\n",
              "        docLink.innerHTML = docLinkHtml;\n",
              "        element.appendChild(docLink);\n",
              "      }\n",
              "    </script>\n",
              "  </div>\n",
              "\n",
              "\n",
              "<div id=\"df-c7b772b5-f18d-4956-b676-90a293b29613\">\n",
              "  <button class=\"colab-df-quickchart\" onclick=\"quickchart('df-c7b772b5-f18d-4956-b676-90a293b29613')\"\n",
              "            title=\"Suggest charts\"\n",
              "            style=\"display:none;\">\n",
              "\n",
              "<svg xmlns=\"http://www.w3.org/2000/svg\" height=\"24px\"viewBox=\"0 0 24 24\"\n",
              "     width=\"24px\">\n",
              "    <g>\n",
              "        <path d=\"M19 3H5c-1.1 0-2 .9-2 2v14c0 1.1.9 2 2 2h14c1.1 0 2-.9 2-2V5c0-1.1-.9-2-2-2zM9 17H7v-7h2v7zm4 0h-2V7h2v10zm4 0h-2v-4h2v4z\"/>\n",
              "    </g>\n",
              "</svg>\n",
              "  </button>\n",
              "\n",
              "<style>\n",
              "  .colab-df-quickchart {\n",
              "      --bg-color: #E8F0FE;\n",
              "      --fill-color: #1967D2;\n",
              "      --hover-bg-color: #E2EBFA;\n",
              "      --hover-fill-color: #174EA6;\n",
              "      --disabled-fill-color: #AAA;\n",
              "      --disabled-bg-color: #DDD;\n",
              "  }\n",
              "\n",
              "  [theme=dark] .colab-df-quickchart {\n",
              "      --bg-color: #3B4455;\n",
              "      --fill-color: #D2E3FC;\n",
              "      --hover-bg-color: #434B5C;\n",
              "      --hover-fill-color: #FFFFFF;\n",
              "      --disabled-bg-color: #3B4455;\n",
              "      --disabled-fill-color: #666;\n",
              "  }\n",
              "\n",
              "  .colab-df-quickchart {\n",
              "    background-color: var(--bg-color);\n",
              "    border: none;\n",
              "    border-radius: 50%;\n",
              "    cursor: pointer;\n",
              "    display: none;\n",
              "    fill: var(--fill-color);\n",
              "    height: 32px;\n",
              "    padding: 0;\n",
              "    width: 32px;\n",
              "  }\n",
              "\n",
              "  .colab-df-quickchart:hover {\n",
              "    background-color: var(--hover-bg-color);\n",
              "    box-shadow: 0 1px 2px rgba(60, 64, 67, 0.3), 0 1px 3px 1px rgba(60, 64, 67, 0.15);\n",
              "    fill: var(--button-hover-fill-color);\n",
              "  }\n",
              "\n",
              "  .colab-df-quickchart-complete:disabled,\n",
              "  .colab-df-quickchart-complete:disabled:hover {\n",
              "    background-color: var(--disabled-bg-color);\n",
              "    fill: var(--disabled-fill-color);\n",
              "    box-shadow: none;\n",
              "  }\n",
              "\n",
              "  .colab-df-spinner {\n",
              "    border: 2px solid var(--fill-color);\n",
              "    border-color: transparent;\n",
              "    border-bottom-color: var(--fill-color);\n",
              "    animation:\n",
              "      spin 1s steps(1) infinite;\n",
              "  }\n",
              "\n",
              "  @keyframes spin {\n",
              "    0% {\n",
              "      border-color: transparent;\n",
              "      border-bottom-color: var(--fill-color);\n",
              "      border-left-color: var(--fill-color);\n",
              "    }\n",
              "    20% {\n",
              "      border-color: transparent;\n",
              "      border-left-color: var(--fill-color);\n",
              "      border-top-color: var(--fill-color);\n",
              "    }\n",
              "    30% {\n",
              "      border-color: transparent;\n",
              "      border-left-color: var(--fill-color);\n",
              "      border-top-color: var(--fill-color);\n",
              "      border-right-color: var(--fill-color);\n",
              "    }\n",
              "    40% {\n",
              "      border-color: transparent;\n",
              "      border-right-color: var(--fill-color);\n",
              "      border-top-color: var(--fill-color);\n",
              "    }\n",
              "    60% {\n",
              "      border-color: transparent;\n",
              "      border-right-color: var(--fill-color);\n",
              "    }\n",
              "    80% {\n",
              "      border-color: transparent;\n",
              "      border-right-color: var(--fill-color);\n",
              "      border-bottom-color: var(--fill-color);\n",
              "    }\n",
              "    90% {\n",
              "      border-color: transparent;\n",
              "      border-bottom-color: var(--fill-color);\n",
              "    }\n",
              "  }\n",
              "</style>\n",
              "\n",
              "  <script>\n",
              "    async function quickchart(key) {\n",
              "      const quickchartButtonEl =\n",
              "        document.querySelector('#' + key + ' button');\n",
              "      quickchartButtonEl.disabled = true;  // To prevent multiple clicks.\n",
              "      quickchartButtonEl.classList.add('colab-df-spinner');\n",
              "      try {\n",
              "        const charts = await google.colab.kernel.invokeFunction(\n",
              "            'suggestCharts', [key], {});\n",
              "      } catch (error) {\n",
              "        console.error('Error during call to suggestCharts:', error);\n",
              "      }\n",
              "      quickchartButtonEl.classList.remove('colab-df-spinner');\n",
              "      quickchartButtonEl.classList.add('colab-df-quickchart-complete');\n",
              "    }\n",
              "    (() => {\n",
              "      let quickchartButtonEl =\n",
              "        document.querySelector('#df-c7b772b5-f18d-4956-b676-90a293b29613 button');\n",
              "      quickchartButtonEl.style.display =\n",
              "        google.colab.kernel.accessAllowed ? 'block' : 'none';\n",
              "    })();\n",
              "  </script>\n",
              "</div>\n",
              "    </div>\n",
              "  </div>\n"
            ]
          },
          "metadata": {},
          "execution_count": 73
        }
      ]
    },
    {
      "cell_type": "code",
      "source": [],
      "metadata": {
        "id": "yjv2qs-xY_da"
      },
      "execution_count": null,
      "outputs": []
    },
    {
      "cell_type": "markdown",
      "source": [
        "# Transformers with Positional Encoding"
      ],
      "metadata": {
        "id": "bs6oOhRAc1FO"
      }
    },
    {
      "cell_type": "code",
      "source": [
        "class Transformer(nn.Module):\n",
        "    def __init__(self, vocab_size, embedding_dim, num_heads, num_layers, hidden_dim, dropout, output_dim, max_length):\n",
        "        super(Transformer, self).__init__()\n",
        "        self.embedding = nn.Embedding(vocab_size, embedding_dim)\n",
        "        self.positional_encoding = PositionalEncoding(embedding_dim, max_length)\n",
        "        self.transformer = nn.Transformer(d_model=embedding_dim, nhead=num_heads, num_encoder_layers=num_layers, num_decoder_layers=num_layers, dim_feedforward=hidden_dim, dropout=dropout)\n",
        "        self.fc = nn.Linear(embedding_dim, output_dim)\n",
        "\n",
        "    def forward(self, x):\n",
        "        x = self.embedding(x)\n",
        "        x = self.positional_encoding(x)\n",
        "        x = self.transformer(x, x)\n",
        "        x = x.mean(dim=1)\n",
        "        x = self.fc(x)\n",
        "        return x\n",
        "\n",
        "class PositionalEncoding(nn.Module):\n",
        "    def __init__(self, d_model, max_len=512, device='cuda' if torch.cuda.is_available() else 'cpu'):\n",
        "        super(PositionalEncoding, self).__init__()\n",
        "        self.device = device\n",
        "        k = torch.arange(0, max_len, dtype=torch.float, device=self.device).unsqueeze(1)\n",
        "        div_term = torch.exp(torch.arange(0, d_model, 2, dtype=torch.float, device=self.device) * -(torch.log(torch.tensor(10000.0, device=self.device)) / d_model))\n",
        "        self.pe = torch.zeros(max_len, d_model, device=self.device)\n",
        "        self.pe[:, 0::2] = torch.sin(k * div_term)\n",
        "        self.pe[:, 1::2] = torch.cos(k * div_term)\n",
        "        self.pe = self.pe.unsqueeze(0)\n",
        "\n",
        "    def forward(self, x):\n",
        "        return x + self.pe[:, :x.size(1)].detach()\n",
        "\n",
        "\n",
        "# Define hyperparameters for the model where some of them can be changed later\n",
        "vocab_size = len(Vocab)\n",
        "embedding_dim = 128\n",
        "num_heads = 4\n",
        "num_layers = 2\n",
        "hidden_dim = 256\n",
        "output_dim = 6\n",
        "dropout = 0.1\n",
        "max_length = max_padding\n",
        "\n",
        "# Define Model and print the architecture of the model\n",
        "model = Transformer(vocab_size, embedding_dim, num_heads, num_layers, hidden_dim, dropout, output_dim, max_length)\n",
        "print(model)"
      ],
      "metadata": {
        "id": "w7TkyOJfdCt0",
        "colab": {
          "base_uri": "https://localhost:8080/"
        },
        "outputId": "fefb7a80-e6e5-4f7d-eb8d-377390bd2aba"
      },
      "execution_count": 24,
      "outputs": [
        {
          "output_type": "stream",
          "name": "stdout",
          "text": [
            "Transformer(\n",
            "  (embedding): Embedding(14286, 128)\n",
            "  (positional_encoding): PositionalEncoding()\n",
            "  (transformer): Transformer(\n",
            "    (encoder): TransformerEncoder(\n",
            "      (layers): ModuleList(\n",
            "        (0-1): 2 x TransformerEncoderLayer(\n",
            "          (self_attn): MultiheadAttention(\n",
            "            (out_proj): NonDynamicallyQuantizableLinear(in_features=128, out_features=128, bias=True)\n",
            "          )\n",
            "          (linear1): Linear(in_features=128, out_features=256, bias=True)\n",
            "          (dropout): Dropout(p=0.1, inplace=False)\n",
            "          (linear2): Linear(in_features=256, out_features=128, bias=True)\n",
            "          (norm1): LayerNorm((128,), eps=1e-05, elementwise_affine=True)\n",
            "          (norm2): LayerNorm((128,), eps=1e-05, elementwise_affine=True)\n",
            "          (dropout1): Dropout(p=0.1, inplace=False)\n",
            "          (dropout2): Dropout(p=0.1, inplace=False)\n",
            "        )\n",
            "      )\n",
            "      (norm): LayerNorm((128,), eps=1e-05, elementwise_affine=True)\n",
            "    )\n",
            "    (decoder): TransformerDecoder(\n",
            "      (layers): ModuleList(\n",
            "        (0-1): 2 x TransformerDecoderLayer(\n",
            "          (self_attn): MultiheadAttention(\n",
            "            (out_proj): NonDynamicallyQuantizableLinear(in_features=128, out_features=128, bias=True)\n",
            "          )\n",
            "          (multihead_attn): MultiheadAttention(\n",
            "            (out_proj): NonDynamicallyQuantizableLinear(in_features=128, out_features=128, bias=True)\n",
            "          )\n",
            "          (linear1): Linear(in_features=128, out_features=256, bias=True)\n",
            "          (dropout): Dropout(p=0.1, inplace=False)\n",
            "          (linear2): Linear(in_features=256, out_features=128, bias=True)\n",
            "          (norm1): LayerNorm((128,), eps=1e-05, elementwise_affine=True)\n",
            "          (norm2): LayerNorm((128,), eps=1e-05, elementwise_affine=True)\n",
            "          (norm3): LayerNorm((128,), eps=1e-05, elementwise_affine=True)\n",
            "          (dropout1): Dropout(p=0.1, inplace=False)\n",
            "          (dropout2): Dropout(p=0.1, inplace=False)\n",
            "          (dropout3): Dropout(p=0.1, inplace=False)\n",
            "        )\n",
            "      )\n",
            "      (norm): LayerNorm((128,), eps=1e-05, elementwise_affine=True)\n",
            "    )\n",
            "  )\n",
            "  (fc): Linear(in_features=128, out_features=6, bias=True)\n",
            ")\n"
          ]
        },
        {
          "output_type": "stream",
          "name": "stderr",
          "text": [
            "/usr/local/lib/python3.10/dist-packages/torch/nn/modules/transformer.py:282: UserWarning: enable_nested_tensor is True, but self.use_nested_tensor is False because encoder_layer.self_attn.batch_first was not True(use batch_first for better inference performance)\n",
            "  warnings.warn(f\"enable_nested_tensor is True, but self.use_nested_tensor is False because {why_not_sparsity_fast_path}\")\n"
          ]
        }
      ]
    },
    {
      "cell_type": "code",
      "source": [
        "device = torch.device(\"cuda\" if torch.cuda.is_available() else \"cpu\")\n",
        "\n",
        "# Training each model on these cobination of hyperparameters\n",
        "learning_rates = [0.001, 0.01]\n",
        "optimizers = ['Adam', 'SGD', 'RMSprop']\n",
        "loss_functions = [nn.CrossEntropyLoss(), FocalLoss(gamma=2)]\n",
        "batch_sizes = [32, 64, 128]\n",
        "embedding_dims = [100, 200, 300]\n",
        "\n",
        "combinations = list(itertools.product(learning_rates, optimizers, loss_functions, batch_sizes, embedding_dims))\n",
        "\n",
        "results = []\n",
        "best_accuracy = 0.0\n",
        "best_hyperparameters = None\n",
        "best_model = None\n",
        "\n",
        "for combination in tqdm(combinations):\n",
        "    learning_rate, optimizer_name, loss_fn, batch_size, embedding_dim = combination\n",
        "\n",
        "    # create a model for each of the hyperparameter combination, train and evaluate on test data\n",
        "    model = Transformer(vocab_size, embedding_dim, num_heads, num_layers, hidden_dim, dropout, output_dim, max_length)\n",
        "    model.to(device)\n",
        "\n",
        "    # set the optimizer and loss function\n",
        "    optimizer = get_optimizer(optimizer_name, model.parameters(), learning_rate)\n",
        "    criterion = loss_fn\n",
        "\n",
        "    # Loaders are used to efficiently iterate over the datasets in batches during the training and evaluation processes\n",
        "    train_loader = DataLoader(train_dataset, batch_size=batch_size, shuffle=True)\n",
        "    val_loader = DataLoader(val_dataset, batch_size=batch_size, shuffle=False)\n",
        "    test_loader = DataLoader(test_dataset, batch_size=batch_size, shuffle=False)\n",
        "\n",
        "    num_epochs = 5\n",
        "    for epoch in range(num_epochs):\n",
        "        model.train()\n",
        "        training_loss = 0.0\n",
        "        training_corrects = 0\n",
        "        training_count = 0\n",
        "\n",
        "        # Model Training\n",
        "        for i, data in enumerate(train_loader, 0):\n",
        "            inputs, labels = data\n",
        "            inputs, labels = inputs.to(device), labels.to(device)\n",
        "            # print(inputs)\n",
        "            # print(labels)\n",
        "\n",
        "            optimizer.zero_grad()\n",
        "            outputs = model(inputs)\n",
        "            # print(outputs)\n",
        "\n",
        "            loss = criterion(outputs, labels)\n",
        "            loss.backward()\n",
        "            training_loss += loss.item()\n",
        "\n",
        "            optimizer.step()\n",
        "\n",
        "            x, preds = torch.max(outputs.data, 1)\n",
        "            # print(preds)\n",
        "\n",
        "            training_count += labels.size(0)\n",
        "            training_corrects += torch.sum(preds == labels).item()\n",
        "\n",
        "        # calculate the average loss and accuracy for the each training epoch\n",
        "        train_epoch_loss = training_loss / len(train_loader)\n",
        "        train_epoch_accuracy = training_corrects / training_count\n",
        "\n",
        "\n",
        "\n",
        "        # Model Validation on data that it hasn't seen during training and adjust hyperparameters\n",
        "        model.eval()\n",
        "        validation_loss = 0.0\n",
        "        validation_corrects = 0\n",
        "        validation_count = 0\n",
        "\n",
        "        with torch.no_grad():\n",
        "            for i, data in enumerate(val_loader, 0):\n",
        "                inputs, labels = data\n",
        "                inputs, labels = inputs.to(device), labels.to(device)\n",
        "                outputs = model(inputs)\n",
        "                # print(inputs)\n",
        "                # print(labels)\n",
        "                # print(outputs)\n",
        "\n",
        "                loss = criterion(outputs, labels)\n",
        "                validation_loss += loss.item()\n",
        "\n",
        "                x, preds = torch.max(outputs.data, 1)\n",
        "                # print(preds)\n",
        "\n",
        "                validation_count += labels.size(0)\n",
        "                validation_corrects += torch.sum(preds == labels).item()\n",
        "\n",
        "        # calculate the average loss and accuracy for the each validation epoch\n",
        "        val_epoch_loss = validation_loss / len(val_loader)\n",
        "        val_epoch_accuracy = validation_corrects / validation_count\n",
        "\n",
        "        print(f\"Epoch {epoch + 1}/{num_epochs}, \"\n",
        "              f\"Train Loss: {train_epoch_loss:.4f}, Train Accuracy: {train_epoch_accuracy * 100:.2f}%, \"\n",
        "              f\"Validation Loss: {val_epoch_loss:.4f}, Validation Accuracy: {val_epoch_accuracy * 100:.2f}\")\n",
        "\n",
        "\n",
        "\n",
        "    # Testing the accuracy of the model on test data\n",
        "    test_loss = 0.0\n",
        "    test_corrects = 0\n",
        "    test_count = 0\n",
        "    with torch.no_grad():\n",
        "        for i, data in enumerate(test_loader, 0):\n",
        "            inputs, labels = data\n",
        "            inputs, labels = inputs.to(device), labels.to(device)\n",
        "            outputs = model(inputs)\n",
        "            # print(inputs)\n",
        "            # print(labels)\n",
        "            # print(outputs)\n",
        "\n",
        "            loss = criterion(outputs, labels)\n",
        "            test_loss += loss.item()\n",
        "\n",
        "            x, preds = torch.max(outputs.data, 1)\n",
        "            # print(preds)\n",
        "\n",
        "            test_count += labels.size(0)\n",
        "            test_corrects += torch.sum(preds == labels).item()\n",
        "\n",
        "    # calculate the average test_loss and test_accuracy on the training data\n",
        "    average_test_loss = test_loss / len(test_loader)\n",
        "    average_test_accuracy = test_corrects / test_count\n",
        "\n",
        "    result = {\n",
        "        'Learning Rate': learning_rate,\n",
        "        'Optimizer': optimizer_name,\n",
        "        'Loss Function': loss_fn.__class__.__name__,\n",
        "        'Batch Size': batch_size,\n",
        "        'Embedding Dim': embedding_dim,\n",
        "        'Test Accuracy': average_test_accuracy\n",
        "    }\n",
        "    results.append(result)\n",
        "    # Add each hyperparameter combination with the test accuracy tp results list for later analysis\n",
        "\n",
        "    print(f\"Hyperparameters: LR={learning_rate}, Optimizer={optimizer_name}, Loss={loss_fn.__class__.__name__}, \"\n",
        "          f\"Batch Size={batch_size}, Embedding Dim={embedding_dim}, \"\n",
        "          f\"Test Loss: {average_test_loss:.4f}, Test Accuracy: {average_test_accuracy * 100:.2f}\")\n",
        "\n",
        "    # The best-performing model and its associated hyperparameters are stored for later analysis\n",
        "    if average_test_accuracy > best_accuracy:\n",
        "        best_accuracy = average_test_accuracy\n",
        "        best_hyperparameters = combination\n",
        "        best_model = model.state_dict()\n",
        "\n"
      ],
      "metadata": {
        "colab": {
          "base_uri": "https://localhost:8080/"
        },
        "outputId": "a83c890f-328f-40fa-eff7-ec8b1fec6fcc",
        "id": "9t9nueVxdD6p"
      },
      "execution_count": 25,
      "outputs": [
        {
          "output_type": "stream",
          "name": "stderr",
          "text": [
            "\r  0%|          | 0/108 [00:00<?, ?it/s]"
          ]
        },
        {
          "output_type": "stream",
          "name": "stdout",
          "text": [
            "Epoch 1/5, Train Loss: 1.7760, Train Accuracy: 19.49%, Validation Loss: 1.7642, Validation Accuracy: 19.31\n",
            "Epoch 2/5, Train Loss: 1.7623, Train Accuracy: 20.58%, Validation Loss: 1.7607, Validation Accuracy: 21.34\n",
            "Epoch 3/5, Train Loss: 1.7620, Train Accuracy: 20.35%, Validation Loss: 1.7661, Validation Accuracy: 21.34\n",
            "Epoch 4/5, Train Loss: 1.7621, Train Accuracy: 20.42%, Validation Loss: 1.7632, Validation Accuracy: 21.34\n",
            "Epoch 5/5, Train Loss: 1.7596, Train Accuracy: 20.55%, Validation Loss: 1.7661, Validation Accuracy: 19.31\n"
          ]
        },
        {
          "output_type": "stream",
          "name": "stderr",
          "text": [
            "\r  1%|          | 1/108 [00:28<49:59, 28.04s/it]"
          ]
        },
        {
          "output_type": "stream",
          "name": "stdout",
          "text": [
            "Hyperparameters: LR=0.001, Optimizer=Adam, Loss=CrossEntropyLoss, Batch Size=32, Embedding Dim=100, Test Loss: 1.7511, Test Accuracy: 20.81\n"
          ]
        },
        {
          "output_type": "stream",
          "name": "stderr",
          "text": [
            "/usr/local/lib/python3.10/dist-packages/torch/nn/modules/transformer.py:282: UserWarning: enable_nested_tensor is True, but self.use_nested_tensor is False because encoder_layer.self_attn.batch_first was not True(use batch_first for better inference performance)\n",
            "  warnings.warn(f\"enable_nested_tensor is True, but self.use_nested_tensor is False because {why_not_sparsity_fast_path}\")\n"
          ]
        },
        {
          "output_type": "stream",
          "name": "stdout",
          "text": [
            "Epoch 1/5, Train Loss: 1.7901, Train Accuracy: 19.47%, Validation Loss: 1.7751, Validation Accuracy: 19.31\n",
            "Epoch 2/5, Train Loss: 1.7710, Train Accuracy: 19.84%, Validation Loss: 1.7874, Validation Accuracy: 20.48\n",
            "Epoch 3/5, Train Loss: 1.7705, Train Accuracy: 19.29%, Validation Loss: 1.7639, Validation Accuracy: 19.55\n",
            "Epoch 4/5, Train Loss: 1.7634, Train Accuracy: 20.07%, Validation Loss: 1.7684, Validation Accuracy: 19.31\n"
          ]
        },
        {
          "output_type": "stream",
          "name": "stderr",
          "text": [
            "\r  2%|▏         | 2/108 [00:57<51:26, 29.12s/it]"
          ]
        },
        {
          "output_type": "stream",
          "name": "stdout",
          "text": [
            "Epoch 5/5, Train Loss: 1.7638, Train Accuracy: 20.13%, Validation Loss: 1.7672, Validation Accuracy: 19.31\n",
            "Hyperparameters: LR=0.001, Optimizer=Adam, Loss=CrossEntropyLoss, Batch Size=32, Embedding Dim=200, Test Loss: 1.7500, Test Accuracy: 20.81\n",
            "Epoch 1/5, Train Loss: 1.8014, Train Accuracy: 19.15%, Validation Loss: 1.7729, Validation Accuracy: 20.48\n",
            "Epoch 2/5, Train Loss: 1.7769, Train Accuracy: 18.96%, Validation Loss: 1.7779, Validation Accuracy: 19.31\n",
            "Epoch 3/5, Train Loss: 1.7671, Train Accuracy: 19.45%, Validation Loss: 1.7602, Validation Accuracy: 19.31\n",
            "Epoch 4/5, Train Loss: 1.7638, Train Accuracy: 19.95%, Validation Loss: 1.7672, Validation Accuracy: 19.55\n",
            "Epoch 5/5, Train Loss: 1.7623, Train Accuracy: 19.59%, Validation Loss: 1.7588, Validation Accuracy: 18.54\n"
          ]
        },
        {
          "output_type": "stream",
          "name": "stderr",
          "text": [
            "\r  3%|▎         | 3/108 [01:39<1:00:54, 34.80s/it]"
          ]
        },
        {
          "output_type": "stream",
          "name": "stdout",
          "text": [
            "Hyperparameters: LR=0.001, Optimizer=Adam, Loss=CrossEntropyLoss, Batch Size=32, Embedding Dim=300, Test Loss: 1.7486, Test Accuracy: 19.17\n",
            "Epoch 1/5, Train Loss: 1.7754, Train Accuracy: 19.29%, Validation Loss: 1.7599, Validation Accuracy: 20.48\n",
            "Epoch 2/5, Train Loss: 1.7642, Train Accuracy: 19.69%, Validation Loss: 1.7621, Validation Accuracy: 19.31\n",
            "Epoch 3/5, Train Loss: 1.7570, Train Accuracy: 20.40%, Validation Loss: 1.7527, Validation Accuracy: 20.87\n",
            "Epoch 4/5, Train Loss: 1.7401, Train Accuracy: 22.54%, Validation Loss: 1.7365, Validation Accuracy: 22.20\n"
          ]
        },
        {
          "output_type": "stream",
          "name": "stderr",
          "text": [
            "\r  4%|▎         | 4/108 [01:54<46:42, 26.95s/it]  "
          ]
        },
        {
          "output_type": "stream",
          "name": "stdout",
          "text": [
            "Epoch 5/5, Train Loss: 1.7291, Train Accuracy: 23.18%, Validation Loss: 1.7464, Validation Accuracy: 23.83\n",
            "Hyperparameters: LR=0.001, Optimizer=Adam, Loss=CrossEntropyLoss, Batch Size=64, Embedding Dim=100, Test Loss: 1.7425, Test Accuracy: 22.60\n",
            "Epoch 1/5, Train Loss: 1.7906, Train Accuracy: 19.05%, Validation Loss: 1.7761, Validation Accuracy: 20.48\n",
            "Epoch 2/5, Train Loss: 1.7722, Train Accuracy: 18.93%, Validation Loss: 1.7616, Validation Accuracy: 18.46\n",
            "Epoch 3/5, Train Loss: 1.7684, Train Accuracy: 19.37%, Validation Loss: 1.7660, Validation Accuracy: 19.55\n",
            "Epoch 4/5, Train Loss: 1.7678, Train Accuracy: 19.29%, Validation Loss: 1.7731, Validation Accuracy: 20.48\n"
          ]
        },
        {
          "output_type": "stream",
          "name": "stderr",
          "text": [
            "\r  5%|▍         | 5/108 [02:17<44:03, 25.66s/it]"
          ]
        },
        {
          "output_type": "stream",
          "name": "stdout",
          "text": [
            "Epoch 5/5, Train Loss: 1.7666, Train Accuracy: 19.49%, Validation Loss: 1.7615, Validation Accuracy: 20.48\n",
            "Hyperparameters: LR=0.001, Optimizer=Adam, Loss=CrossEntropyLoss, Batch Size=64, Embedding Dim=200, Test Loss: 1.7473, Test Accuracy: 19.49\n",
            "Epoch 1/5, Train Loss: 1.8083, Train Accuracy: 19.31%, Validation Loss: 1.7970, Validation Accuracy: 19.31\n",
            "Epoch 2/5, Train Loss: 1.7733, Train Accuracy: 18.96%, Validation Loss: 1.7780, Validation Accuracy: 19.31\n",
            "Epoch 3/5, Train Loss: 1.7733, Train Accuracy: 19.20%, Validation Loss: 1.7664, Validation Accuracy: 19.55\n",
            "Epoch 4/5, Train Loss: 1.7706, Train Accuracy: 19.56%, Validation Loss: 1.7821, Validation Accuracy: 19.31\n",
            "Epoch 5/5, Train Loss: 1.7702, Train Accuracy: 19.40%, Validation Loss: 1.7811, Validation Accuracy: 20.48\n"
          ]
        },
        {
          "output_type": "stream",
          "name": "stderr",
          "text": [
            "\r  6%|▌         | 6/108 [02:54<50:14, 29.55s/it]"
          ]
        },
        {
          "output_type": "stream",
          "name": "stdout",
          "text": [
            "Hyperparameters: LR=0.001, Optimizer=Adam, Loss=CrossEntropyLoss, Batch Size=64, Embedding Dim=300, Test Loss: 1.7564, Test Accuracy: 19.49\n",
            "Epoch 1/5, Train Loss: 1.7782, Train Accuracy: 19.46%, Validation Loss: 1.7563, Validation Accuracy: 20.48\n",
            "Epoch 2/5, Train Loss: 1.7659, Train Accuracy: 20.30%, Validation Loss: 1.7588, Validation Accuracy: 20.48\n",
            "Epoch 3/5, Train Loss: 1.7631, Train Accuracy: 20.55%, Validation Loss: 1.7657, Validation Accuracy: 18.54\n",
            "Epoch 4/5, Train Loss: 1.7605, Train Accuracy: 20.63%, Validation Loss: 1.7612, Validation Accuracy: 21.57\n"
          ]
        },
        {
          "output_type": "stream",
          "name": "stderr",
          "text": [
            "\r  6%|▋         | 7/108 [03:08<41:02, 24.39s/it]"
          ]
        },
        {
          "output_type": "stream",
          "name": "stdout",
          "text": [
            "Epoch 5/5, Train Loss: 1.7440, Train Accuracy: 23.12%, Validation Loss: 1.7960, Validation Accuracy: 20.56\n",
            "Hyperparameters: LR=0.001, Optimizer=Adam, Loss=CrossEntropyLoss, Batch Size=128, Embedding Dim=100, Test Loss: 1.7617, Test Accuracy: 21.98\n",
            "Epoch 1/5, Train Loss: 1.7937, Train Accuracy: 19.28%, Validation Loss: 1.7889, Validation Accuracy: 20.48\n",
            "Epoch 2/5, Train Loss: 1.7669, Train Accuracy: 19.38%, Validation Loss: 1.7642, Validation Accuracy: 20.48\n",
            "Epoch 3/5, Train Loss: 1.7701, Train Accuracy: 19.50%, Validation Loss: 1.7711, Validation Accuracy: 20.48\n",
            "Epoch 4/5, Train Loss: 1.7672, Train Accuracy: 19.27%, Validation Loss: 1.7644, Validation Accuracy: 19.47\n"
          ]
        },
        {
          "output_type": "stream",
          "name": "stderr",
          "text": [
            "\r  7%|▋         | 8/108 [03:32<40:18, 24.19s/it]"
          ]
        },
        {
          "output_type": "stream",
          "name": "stdout",
          "text": [
            "Epoch 5/5, Train Loss: 1.7658, Train Accuracy: 19.27%, Validation Loss: 1.7646, Validation Accuracy: 20.48\n",
            "Hyperparameters: LR=0.001, Optimizer=Adam, Loss=CrossEntropyLoss, Batch Size=128, Embedding Dim=200, Test Loss: 1.7490, Test Accuracy: 19.49\n",
            "Epoch 1/5, Train Loss: 1.8255, Train Accuracy: 18.95%, Validation Loss: 1.8072, Validation Accuracy: 19.31\n",
            "Epoch 2/5, Train Loss: 1.7694, Train Accuracy: 19.90%, Validation Loss: 1.7646, Validation Accuracy: 19.55\n",
            "Epoch 3/5, Train Loss: 1.7679, Train Accuracy: 20.00%, Validation Loss: 1.7822, Validation Accuracy: 19.31\n",
            "Epoch 4/5, Train Loss: 1.7670, Train Accuracy: 19.57%, Validation Loss: 1.8012, Validation Accuracy: 19.39\n",
            "Epoch 5/5, Train Loss: 1.7661, Train Accuracy: 20.40%, Validation Loss: 1.7716, Validation Accuracy: 16.12\n"
          ]
        },
        {
          "output_type": "stream",
          "name": "stderr",
          "text": [
            "\r  8%|▊         | 9/108 [04:11<47:30, 28.79s/it]"
          ]
        },
        {
          "output_type": "stream",
          "name": "stdout",
          "text": [
            "Hyperparameters: LR=0.001, Optimizer=Adam, Loss=CrossEntropyLoss, Batch Size=128, Embedding Dim=300, Test Loss: 1.7455, Test Accuracy: 17.15\n",
            "Epoch 1/5, Train Loss: 1.2227, Train Accuracy: 19.88%, Validation Loss: 1.2156, Validation Accuracy: 20.33\n",
            "Epoch 2/5, Train Loss: 1.2085, Train Accuracy: 20.93%, Validation Loss: 1.2093, Validation Accuracy: 21.81\n",
            "Epoch 3/5, Train Loss: 1.2110, Train Accuracy: 19.47%, Validation Loss: 1.2096, Validation Accuracy: 19.55\n",
            "Epoch 4/5, Train Loss: 1.2078, Train Accuracy: 19.86%, Validation Loss: 1.2220, Validation Accuracy: 19.31\n"
          ]
        },
        {
          "output_type": "stream",
          "name": "stderr",
          "text": [
            "\r  9%|▉         | 10/108 [04:35<44:41, 27.37s/it]"
          ]
        },
        {
          "output_type": "stream",
          "name": "stdout",
          "text": [
            "Epoch 5/5, Train Loss: 1.2062, Train Accuracy: 20.07%, Validation Loss: 1.2146, Validation Accuracy: 20.56\n",
            "Hyperparameters: LR=0.001, Optimizer=Adam, Loss=FocalLoss, Batch Size=32, Embedding Dim=100, Test Loss: 1.1969, Test Accuracy: 20.34\n",
            "Epoch 1/5, Train Loss: 1.2414, Train Accuracy: 19.46%, Validation Loss: 1.2202, Validation Accuracy: 19.31\n",
            "Epoch 2/5, Train Loss: 1.2221, Train Accuracy: 20.13%, Validation Loss: 1.2182, Validation Accuracy: 19.55\n",
            "Epoch 3/5, Train Loss: 1.2183, Train Accuracy: 19.26%, Validation Loss: 1.2176, Validation Accuracy: 20.48\n",
            "Epoch 4/5, Train Loss: 1.2147, Train Accuracy: 19.76%, Validation Loss: 1.2175, Validation Accuracy: 19.31\n"
          ]
        },
        {
          "output_type": "stream",
          "name": "stderr",
          "text": [
            "\r 10%|█         | 11/108 [05:05<45:31, 28.16s/it]"
          ]
        },
        {
          "output_type": "stream",
          "name": "stdout",
          "text": [
            "Epoch 5/5, Train Loss: 1.2106, Train Accuracy: 19.78%, Validation Loss: 1.2233, Validation Accuracy: 19.31\n",
            "Hyperparameters: LR=0.001, Optimizer=Adam, Loss=FocalLoss, Batch Size=32, Embedding Dim=200, Test Loss: 1.1970, Test Accuracy: 20.81\n",
            "Epoch 1/5, Train Loss: 1.2455, Train Accuracy: 19.19%, Validation Loss: 1.2537, Validation Accuracy: 19.31\n",
            "Epoch 2/5, Train Loss: 1.2171, Train Accuracy: 19.53%, Validation Loss: 1.2396, Validation Accuracy: 19.31\n",
            "Epoch 3/5, Train Loss: 1.2124, Train Accuracy: 19.90%, Validation Loss: 1.2089, Validation Accuracy: 19.31\n",
            "Epoch 4/5, Train Loss: 1.2101, Train Accuracy: 19.71%, Validation Loss: 1.2130, Validation Accuracy: 20.48\n",
            "Epoch 5/5, Train Loss: 1.2096, Train Accuracy: 19.80%, Validation Loss: 1.2160, Validation Accuracy: 19.31\n"
          ]
        },
        {
          "output_type": "stream",
          "name": "stderr",
          "text": [
            "\r 11%|█         | 12/108 [05:46<51:25, 32.14s/it]"
          ]
        },
        {
          "output_type": "stream",
          "name": "stdout",
          "text": [
            "Hyperparameters: LR=0.001, Optimizer=Adam, Loss=FocalLoss, Batch Size=32, Embedding Dim=300, Test Loss: 1.2007, Test Accuracy: 20.81\n",
            "Epoch 1/5, Train Loss: 1.2231, Train Accuracy: 19.93%, Validation Loss: 1.2144, Validation Accuracy: 19.16\n",
            "Epoch 2/5, Train Loss: 1.2090, Train Accuracy: 20.55%, Validation Loss: 1.2144, Validation Accuracy: 20.64\n",
            "Epoch 3/5, Train Loss: 1.2044, Train Accuracy: 20.97%, Validation Loss: 1.2114, Validation Accuracy: 21.18\n",
            "Epoch 4/5, Train Loss: 1.2025, Train Accuracy: 21.93%, Validation Loss: 1.2124, Validation Accuracy: 21.18\n"
          ]
        },
        {
          "output_type": "stream",
          "name": "stderr",
          "text": [
            "\r 12%|█▏        | 13/108 [06:01<42:24, 26.78s/it]"
          ]
        },
        {
          "output_type": "stream",
          "name": "stdout",
          "text": [
            "Epoch 5/5, Train Loss: 1.1961, Train Accuracy: 22.11%, Validation Loss: 1.1788, Validation Accuracy: 22.74\n",
            "Hyperparameters: LR=0.001, Optimizer=Adam, Loss=FocalLoss, Batch Size=64, Embedding Dim=100, Test Loss: 1.1840, Test Accuracy: 21.67\n",
            "Epoch 1/5, Train Loss: 1.2458, Train Accuracy: 18.88%, Validation Loss: 1.2202, Validation Accuracy: 19.31\n",
            "Epoch 2/5, Train Loss: 1.2214, Train Accuracy: 19.43%, Validation Loss: 1.2440, Validation Accuracy: 19.31\n",
            "Epoch 3/5, Train Loss: 1.2141, Train Accuracy: 20.36%, Validation Loss: 1.2325, Validation Accuracy: 20.48\n",
            "Epoch 4/5, Train Loss: 1.2166, Train Accuracy: 20.27%, Validation Loss: 1.2361, Validation Accuracy: 19.55\n"
          ]
        },
        {
          "output_type": "stream",
          "name": "stderr",
          "text": [
            "\r 13%|█▎        | 14/108 [06:24<40:21, 25.77s/it]"
          ]
        },
        {
          "output_type": "stream",
          "name": "stdout",
          "text": [
            "Epoch 5/5, Train Loss: 1.2167, Train Accuracy: 19.07%, Validation Loss: 1.2352, Validation Accuracy: 19.55\n",
            "Hyperparameters: LR=0.001, Optimizer=Adam, Loss=FocalLoss, Batch Size=64, Embedding Dim=200, Test Loss: 1.2317, Test Accuracy: 19.41\n",
            "Epoch 1/5, Train Loss: 1.2623, Train Accuracy: 19.08%, Validation Loss: 1.2603, Validation Accuracy: 19.31\n",
            "Epoch 2/5, Train Loss: 1.2255, Train Accuracy: 19.08%, Validation Loss: 1.2376, Validation Accuracy: 19.31\n",
            "Epoch 3/5, Train Loss: 1.2204, Train Accuracy: 20.15%, Validation Loss: 1.2123, Validation Accuracy: 20.48\n",
            "Epoch 4/5, Train Loss: 1.2209, Train Accuracy: 18.99%, Validation Loss: 1.2036, Validation Accuracy: 20.48\n",
            "Epoch 5/5, Train Loss: 1.2153, Train Accuracy: 19.56%, Validation Loss: 1.2289, Validation Accuracy: 20.48\n"
          ]
        },
        {
          "output_type": "stream",
          "name": "stderr",
          "text": [
            "\r 14%|█▍        | 15/108 [07:01<45:06, 29.10s/it]"
          ]
        },
        {
          "output_type": "stream",
          "name": "stdout",
          "text": [
            "Hyperparameters: LR=0.001, Optimizer=Adam, Loss=FocalLoss, Batch Size=64, Embedding Dim=300, Test Loss: 1.2126, Test Accuracy: 19.49\n",
            "Epoch 1/5, Train Loss: 1.2279, Train Accuracy: 19.85%, Validation Loss: 1.2080, Validation Accuracy: 19.31\n",
            "Epoch 2/5, Train Loss: 1.2112, Train Accuracy: 19.67%, Validation Loss: 1.2219, Validation Accuracy: 19.31\n",
            "Epoch 3/5, Train Loss: 1.2065, Train Accuracy: 20.10%, Validation Loss: 1.2385, Validation Accuracy: 18.15\n",
            "Epoch 4/5, Train Loss: 1.2045, Train Accuracy: 20.29%, Validation Loss: 1.2169, Validation Accuracy: 22.04\n"
          ]
        },
        {
          "output_type": "stream",
          "name": "stderr",
          "text": [
            "\r 15%|█▍        | 16/108 [07:15<37:33, 24.49s/it]"
          ]
        },
        {
          "output_type": "stream",
          "name": "stdout",
          "text": [
            "Epoch 5/5, Train Loss: 1.1975, Train Accuracy: 22.37%, Validation Loss: 1.1746, Validation Accuracy: 22.98\n",
            "Hyperparameters: LR=0.001, Optimizer=Adam, Loss=FocalLoss, Batch Size=128, Embedding Dim=100, Test Loss: 1.1887, Test Accuracy: 22.76\n",
            "Epoch 1/5, Train Loss: 1.2542, Train Accuracy: 18.87%, Validation Loss: 1.2180, Validation Accuracy: 19.55\n",
            "Epoch 2/5, Train Loss: 1.2204, Train Accuracy: 19.25%, Validation Loss: 1.2050, Validation Accuracy: 20.48\n",
            "Epoch 3/5, Train Loss: 1.2190, Train Accuracy: 19.00%, Validation Loss: 1.2130, Validation Accuracy: 20.48\n",
            "Epoch 4/5, Train Loss: 1.2161, Train Accuracy: 19.74%, Validation Loss: 1.2140, Validation Accuracy: 19.31\n"
          ]
        },
        {
          "output_type": "stream",
          "name": "stderr",
          "text": [
            "\r 16%|█▌        | 17/108 [07:41<37:50, 24.96s/it]"
          ]
        },
        {
          "output_type": "stream",
          "name": "stdout",
          "text": [
            "Epoch 5/5, Train Loss: 1.2112, Train Accuracy: 19.34%, Validation Loss: 1.2290, Validation Accuracy: 19.31\n",
            "Hyperparameters: LR=0.001, Optimizer=Adam, Loss=FocalLoss, Batch Size=128, Embedding Dim=200, Test Loss: 1.2085, Test Accuracy: 20.81\n",
            "Epoch 1/5, Train Loss: 1.2857, Train Accuracy: 19.15%, Validation Loss: 1.2228, Validation Accuracy: 18.46\n",
            "Epoch 2/5, Train Loss: 1.2212, Train Accuracy: 18.84%, Validation Loss: 1.2205, Validation Accuracy: 19.31\n",
            "Epoch 3/5, Train Loss: 1.2141, Train Accuracy: 19.70%, Validation Loss: 1.2199, Validation Accuracy: 20.48\n",
            "Epoch 4/5, Train Loss: 1.2252, Train Accuracy: 19.54%, Validation Loss: 1.2187, Validation Accuracy: 19.31\n",
            "Epoch 5/5, Train Loss: 1.2156, Train Accuracy: 19.88%, Validation Loss: 1.2231, Validation Accuracy: 20.48\n"
          ]
        },
        {
          "output_type": "stream",
          "name": "stderr",
          "text": [
            "\r 17%|█▋        | 18/108 [08:20<43:57, 29.30s/it]"
          ]
        },
        {
          "output_type": "stream",
          "name": "stdout",
          "text": [
            "Hyperparameters: LR=0.001, Optimizer=Adam, Loss=FocalLoss, Batch Size=128, Embedding Dim=300, Test Loss: 1.2217, Test Accuracy: 19.49\n",
            "Epoch 1/5, Train Loss: 1.7627, Train Accuracy: 20.92%, Validation Loss: 1.7670, Validation Accuracy: 20.95\n",
            "Epoch 2/5, Train Loss: 1.7574, Train Accuracy: 21.50%, Validation Loss: 1.7657, Validation Accuracy: 20.09\n",
            "Epoch 3/5, Train Loss: 1.7575, Train Accuracy: 20.65%, Validation Loss: 1.7708, Validation Accuracy: 19.31\n",
            "Epoch 4/5, Train Loss: 1.7578, Train Accuracy: 20.63%, Validation Loss: 1.7661, Validation Accuracy: 21.65\n"
          ]
        },
        {
          "output_type": "stream",
          "name": "stderr",
          "text": [
            "\r 18%|█▊        | 19/108 [08:44<40:59, 27.63s/it]"
          ]
        },
        {
          "output_type": "stream",
          "name": "stdout",
          "text": [
            "Epoch 5/5, Train Loss: 1.7573, Train Accuracy: 21.27%, Validation Loss: 1.7722, Validation Accuracy: 19.47\n",
            "Hyperparameters: LR=0.001, Optimizer=SGD, Loss=CrossEntropyLoss, Batch Size=32, Embedding Dim=100, Test Loss: 1.7497, Test Accuracy: 20.97\n",
            "Epoch 1/5, Train Loss: 1.7605, Train Accuracy: 19.88%, Validation Loss: 1.7639, Validation Accuracy: 19.16\n",
            "Epoch 2/5, Train Loss: 1.7582, Train Accuracy: 20.55%, Validation Loss: 1.7594, Validation Accuracy: 20.09\n",
            "Epoch 3/5, Train Loss: 1.7578, Train Accuracy: 20.63%, Validation Loss: 1.7651, Validation Accuracy: 20.72\n",
            "Epoch 4/5, Train Loss: 1.7575, Train Accuracy: 20.73%, Validation Loss: 1.7625, Validation Accuracy: 21.57\n",
            "Epoch 5/5, Train Loss: 1.7578, Train Accuracy: 20.31%, Validation Loss: 1.7702, Validation Accuracy: 19.31\n"
          ]
        },
        {
          "output_type": "stream",
          "name": "stderr",
          "text": [
            "\r 19%|█▊        | 20/108 [09:11<40:07, 27.36s/it]"
          ]
        },
        {
          "output_type": "stream",
          "name": "stdout",
          "text": [
            "Hyperparameters: LR=0.001, Optimizer=SGD, Loss=CrossEntropyLoss, Batch Size=32, Embedding Dim=200, Test Loss: 1.7513, Test Accuracy: 20.89\n",
            "Epoch 1/5, Train Loss: 1.7620, Train Accuracy: 20.57%, Validation Loss: 1.7627, Validation Accuracy: 20.09\n",
            "Epoch 2/5, Train Loss: 1.7585, Train Accuracy: 20.65%, Validation Loss: 1.7608, Validation Accuracy: 20.72\n",
            "Epoch 3/5, Train Loss: 1.7588, Train Accuracy: 19.98%, Validation Loss: 1.7664, Validation Accuracy: 22.20\n",
            "Epoch 4/5, Train Loss: 1.7583, Train Accuracy: 20.44%, Validation Loss: 1.7631, Validation Accuracy: 21.65\n",
            "Epoch 5/5, Train Loss: 1.7581, Train Accuracy: 20.79%, Validation Loss: 1.7633, Validation Accuracy: 19.86\n"
          ]
        },
        {
          "output_type": "stream",
          "name": "stderr",
          "text": [
            "\r 19%|█▉        | 21/108 [09:48<44:06, 30.42s/it]"
          ]
        },
        {
          "output_type": "stream",
          "name": "stdout",
          "text": [
            "Hyperparameters: LR=0.001, Optimizer=SGD, Loss=CrossEntropyLoss, Batch Size=32, Embedding Dim=300, Test Loss: 1.7469, Test Accuracy: 21.28\n",
            "Epoch 1/5, Train Loss: 1.7801, Train Accuracy: 18.23%, Validation Loss: 1.7660, Validation Accuracy: 16.74\n",
            "Epoch 2/5, Train Loss: 1.7572, Train Accuracy: 20.35%, Validation Loss: 1.7699, Validation Accuracy: 18.77\n",
            "Epoch 3/5, Train Loss: 1.7571, Train Accuracy: 20.78%, Validation Loss: 1.7680, Validation Accuracy: 18.22\n",
            "Epoch 4/5, Train Loss: 1.7568, Train Accuracy: 20.65%, Validation Loss: 1.7664, Validation Accuracy: 18.93\n"
          ]
        },
        {
          "output_type": "stream",
          "name": "stderr",
          "text": [
            "\r 20%|██        | 22/108 [10:02<36:20, 25.36s/it]"
          ]
        },
        {
          "output_type": "stream",
          "name": "stdout",
          "text": [
            "Epoch 5/5, Train Loss: 1.7568, Train Accuracy: 21.02%, Validation Loss: 1.7660, Validation Accuracy: 18.22\n",
            "Hyperparameters: LR=0.001, Optimizer=SGD, Loss=CrossEntropyLoss, Batch Size=64, Embedding Dim=100, Test Loss: 1.7519, Test Accuracy: 20.73\n",
            "Epoch 1/5, Train Loss: 1.7609, Train Accuracy: 19.89%, Validation Loss: 1.7618, Validation Accuracy: 19.70\n",
            "Epoch 2/5, Train Loss: 1.7582, Train Accuracy: 20.40%, Validation Loss: 1.7646, Validation Accuracy: 19.55\n",
            "Epoch 3/5, Train Loss: 1.7586, Train Accuracy: 20.75%, Validation Loss: 1.7715, Validation Accuracy: 20.40\n",
            "Epoch 4/5, Train Loss: 1.7591, Train Accuracy: 20.40%, Validation Loss: 1.7671, Validation Accuracy: 18.93\n"
          ]
        },
        {
          "output_type": "stream",
          "name": "stderr",
          "text": [
            "\r 21%|██▏       | 23/108 [10:24<34:38, 24.45s/it]"
          ]
        },
        {
          "output_type": "stream",
          "name": "stdout",
          "text": [
            "Epoch 5/5, Train Loss: 1.7592, Train Accuracy: 19.98%, Validation Loss: 1.7627, Validation Accuracy: 19.00\n",
            "Hyperparameters: LR=0.001, Optimizer=SGD, Loss=CrossEntropyLoss, Batch Size=64, Embedding Dim=200, Test Loss: 1.7534, Test Accuracy: 20.11\n",
            "Epoch 1/5, Train Loss: 1.7686, Train Accuracy: 18.33%, Validation Loss: 1.7698, Validation Accuracy: 19.31\n",
            "Epoch 2/5, Train Loss: 1.7591, Train Accuracy: 19.78%, Validation Loss: 1.7710, Validation Accuracy: 20.64\n",
            "Epoch 3/5, Train Loss: 1.7596, Train Accuracy: 19.45%, Validation Loss: 1.7688, Validation Accuracy: 18.54\n",
            "Epoch 4/5, Train Loss: 1.7589, Train Accuracy: 19.69%, Validation Loss: 1.7750, Validation Accuracy: 19.31\n",
            "Epoch 5/5, Train Loss: 1.7583, Train Accuracy: 20.37%, Validation Loss: 1.7709, Validation Accuracy: 19.31\n"
          ]
        },
        {
          "output_type": "stream",
          "name": "stderr",
          "text": [
            "\r 22%|██▏       | 24/108 [10:59<38:43, 27.66s/it]"
          ]
        },
        {
          "output_type": "stream",
          "name": "stdout",
          "text": [
            "Hyperparameters: LR=0.001, Optimizer=SGD, Loss=CrossEntropyLoss, Batch Size=64, Embedding Dim=300, Test Loss: 1.7527, Test Accuracy: 20.81\n",
            "Epoch 1/5, Train Loss: 1.7889, Train Accuracy: 19.62%, Validation Loss: 1.7590, Validation Accuracy: 21.42\n",
            "Epoch 2/5, Train Loss: 1.7582, Train Accuracy: 20.87%, Validation Loss: 1.7582, Validation Accuracy: 20.09\n",
            "Epoch 3/5, Train Loss: 1.7579, Train Accuracy: 20.55%, Validation Loss: 1.7590, Validation Accuracy: 20.40\n",
            "Epoch 4/5, Train Loss: 1.7582, Train Accuracy: 20.73%, Validation Loss: 1.7577, Validation Accuracy: 20.09\n"
          ]
        },
        {
          "output_type": "stream",
          "name": "stderr",
          "text": [
            "\r 23%|██▎       | 25/108 [11:13<32:21, 23.40s/it]"
          ]
        },
        {
          "output_type": "stream",
          "name": "stdout",
          "text": [
            "Epoch 5/5, Train Loss: 1.7587, Train Accuracy: 20.48%, Validation Loss: 1.7578, Validation Accuracy: 20.56\n",
            "Hyperparameters: LR=0.001, Optimizer=SGD, Loss=CrossEntropyLoss, Batch Size=128, Embedding Dim=100, Test Loss: 1.7487, Test Accuracy: 19.95\n",
            "Epoch 1/5, Train Loss: 1.7791, Train Accuracy: 19.45%, Validation Loss: 1.7667, Validation Accuracy: 19.16\n",
            "Epoch 2/5, Train Loss: 1.7586, Train Accuracy: 20.03%, Validation Loss: 1.7736, Validation Accuracy: 19.24\n",
            "Epoch 3/5, Train Loss: 1.7580, Train Accuracy: 19.40%, Validation Loss: 1.7744, Validation Accuracy: 19.24\n",
            "Epoch 4/5, Train Loss: 1.7590, Train Accuracy: 20.33%, Validation Loss: 1.7684, Validation Accuracy: 19.24\n"
          ]
        },
        {
          "output_type": "stream",
          "name": "stderr",
          "text": [
            "\r 24%|██▍       | 26/108 [11:36<31:53, 23.34s/it]"
          ]
        },
        {
          "output_type": "stream",
          "name": "stdout",
          "text": [
            "Epoch 5/5, Train Loss: 1.7585, Train Accuracy: 19.85%, Validation Loss: 1.7690, Validation Accuracy: 19.24\n",
            "Hyperparameters: LR=0.001, Optimizer=SGD, Loss=CrossEntropyLoss, Batch Size=128, Embedding Dim=200, Test Loss: 1.7535, Test Accuracy: 20.65\n",
            "Epoch 1/5, Train Loss: 1.7719, Train Accuracy: 19.19%, Validation Loss: 1.7706, Validation Accuracy: 19.70\n",
            "Epoch 2/5, Train Loss: 1.7589, Train Accuracy: 19.72%, Validation Loss: 1.7696, Validation Accuracy: 19.24\n",
            "Epoch 3/5, Train Loss: 1.7593, Train Accuracy: 19.99%, Validation Loss: 1.7686, Validation Accuracy: 20.56\n",
            "Epoch 4/5, Train Loss: 1.7585, Train Accuracy: 20.56%, Validation Loss: 1.7635, Validation Accuracy: 18.85\n",
            "Epoch 5/5, Train Loss: 1.7585, Train Accuracy: 19.94%, Validation Loss: 1.7659, Validation Accuracy: 19.63\n"
          ]
        },
        {
          "output_type": "stream",
          "name": "stderr",
          "text": [
            "\r 25%|██▌       | 27/108 [12:14<37:25, 27.73s/it]"
          ]
        },
        {
          "output_type": "stream",
          "name": "stdout",
          "text": [
            "Hyperparameters: LR=0.001, Optimizer=SGD, Loss=CrossEntropyLoss, Batch Size=128, Embedding Dim=300, Test Loss: 1.7522, Test Accuracy: 21.04\n",
            "Epoch 1/5, Train Loss: 1.2104, Train Accuracy: 19.59%, Validation Loss: 1.2217, Validation Accuracy: 19.31\n",
            "Epoch 2/5, Train Loss: 1.2060, Train Accuracy: 19.88%, Validation Loss: 1.2269, Validation Accuracy: 19.31\n",
            "Epoch 3/5, Train Loss: 1.2060, Train Accuracy: 19.60%, Validation Loss: 1.2295, Validation Accuracy: 19.31\n",
            "Epoch 4/5, Train Loss: 1.2054, Train Accuracy: 19.85%, Validation Loss: 1.2231, Validation Accuracy: 19.31\n",
            "Epoch 5/5, Train Loss: 1.2054, Train Accuracy: 20.07%, Validation Loss: 1.2294, Validation Accuracy: 19.31\n"
          ]
        },
        {
          "output_type": "stream",
          "name": "stderr",
          "text": [
            "\r 26%|██▌       | 28/108 [12:37<35:02, 26.28s/it]"
          ]
        },
        {
          "output_type": "stream",
          "name": "stdout",
          "text": [
            "Hyperparameters: LR=0.001, Optimizer=SGD, Loss=FocalLoss, Batch Size=32, Embedding Dim=100, Test Loss: 1.2014, Test Accuracy: 20.81\n",
            "Epoch 1/5, Train Loss: 1.2155, Train Accuracy: 19.52%, Validation Loss: 1.2122, Validation Accuracy: 19.31\n",
            "Epoch 2/5, Train Loss: 1.2075, Train Accuracy: 19.84%, Validation Loss: 1.2189, Validation Accuracy: 19.08\n",
            "Epoch 3/5, Train Loss: 1.2057, Train Accuracy: 20.10%, Validation Loss: 1.2167, Validation Accuracy: 20.56\n",
            "Epoch 4/5, Train Loss: 1.2061, Train Accuracy: 20.23%, Validation Loss: 1.2189, Validation Accuracy: 18.30\n"
          ]
        },
        {
          "output_type": "stream",
          "name": "stderr",
          "text": [
            "\r 27%|██▋       | 29/108 [13:03<34:47, 26.42s/it]"
          ]
        },
        {
          "output_type": "stream",
          "name": "stdout",
          "text": [
            "Epoch 5/5, Train Loss: 1.2056, Train Accuracy: 20.01%, Validation Loss: 1.2117, Validation Accuracy: 20.87\n",
            "Hyperparameters: LR=0.001, Optimizer=SGD, Loss=FocalLoss, Batch Size=32, Embedding Dim=200, Test Loss: 1.1934, Test Accuracy: 20.34\n",
            "Epoch 1/5, Train Loss: 1.2086, Train Accuracy: 20.40%, Validation Loss: 1.2042, Validation Accuracy: 20.64\n",
            "Epoch 2/5, Train Loss: 1.2064, Train Accuracy: 19.87%, Validation Loss: 1.2088, Validation Accuracy: 20.02\n",
            "Epoch 3/5, Train Loss: 1.2052, Train Accuracy: 20.24%, Validation Loss: 1.2135, Validation Accuracy: 20.09\n",
            "Epoch 4/5, Train Loss: 1.2054, Train Accuracy: 20.38%, Validation Loss: 1.2180, Validation Accuracy: 21.88\n",
            "Epoch 5/5, Train Loss: 1.2048, Train Accuracy: 20.18%, Validation Loss: 1.2170, Validation Accuracy: 20.17\n"
          ]
        },
        {
          "output_type": "stream",
          "name": "stderr",
          "text": [
            "\r 28%|██▊       | 30/108 [13:41<38:49, 29.87s/it]"
          ]
        },
        {
          "output_type": "stream",
          "name": "stdout",
          "text": [
            "Hyperparameters: LR=0.001, Optimizer=SGD, Loss=FocalLoss, Batch Size=32, Embedding Dim=300, Test Loss: 1.2031, Test Accuracy: 20.65\n",
            "Epoch 1/5, Train Loss: 1.2189, Train Accuracy: 20.43%, Validation Loss: 1.2139, Validation Accuracy: 18.93\n",
            "Epoch 2/5, Train Loss: 1.2038, Train Accuracy: 20.35%, Validation Loss: 1.2105, Validation Accuracy: 18.93\n",
            "Epoch 3/5, Train Loss: 1.2035, Train Accuracy: 20.32%, Validation Loss: 1.2099, Validation Accuracy: 19.16\n",
            "Epoch 4/5, Train Loss: 1.2040, Train Accuracy: 20.45%, Validation Loss: 1.2138, Validation Accuracy: 19.24\n"
          ]
        },
        {
          "output_type": "stream",
          "name": "stderr",
          "text": [
            "\r 29%|██▊       | 31/108 [13:55<32:05, 25.00s/it]"
          ]
        },
        {
          "output_type": "stream",
          "name": "stdout",
          "text": [
            "Epoch 5/5, Train Loss: 1.2041, Train Accuracy: 20.23%, Validation Loss: 1.2105, Validation Accuracy: 19.16\n",
            "Hyperparameters: LR=0.001, Optimizer=SGD, Loss=FocalLoss, Batch Size=64, Embedding Dim=100, Test Loss: 1.1954, Test Accuracy: 21.04\n",
            "Epoch 1/5, Train Loss: 1.2104, Train Accuracy: 20.08%, Validation Loss: 1.2135, Validation Accuracy: 20.33\n",
            "Epoch 2/5, Train Loss: 1.2046, Train Accuracy: 20.40%, Validation Loss: 1.2100, Validation Accuracy: 21.26\n",
            "Epoch 3/5, Train Loss: 1.2050, Train Accuracy: 20.39%, Validation Loss: 1.2126, Validation Accuracy: 20.48\n",
            "Epoch 4/5, Train Loss: 1.2045, Train Accuracy: 20.39%, Validation Loss: 1.2168, Validation Accuracy: 21.50\n"
          ]
        },
        {
          "output_type": "stream",
          "name": "stderr",
          "text": [
            "\r 30%|██▉       | 32/108 [14:17<30:42, 24.24s/it]"
          ]
        },
        {
          "output_type": "stream",
          "name": "stdout",
          "text": [
            "Epoch 5/5, Train Loss: 1.2041, Train Accuracy: 20.12%, Validation Loss: 1.2096, Validation Accuracy: 22.51\n",
            "Hyperparameters: LR=0.001, Optimizer=SGD, Loss=FocalLoss, Batch Size=64, Embedding Dim=200, Test Loss: 1.1976, Test Accuracy: 18.78\n",
            "Epoch 1/5, Train Loss: 1.2079, Train Accuracy: 19.44%, Validation Loss: 1.2080, Validation Accuracy: 19.86\n",
            "Epoch 2/5, Train Loss: 1.2040, Train Accuracy: 20.10%, Validation Loss: 1.2080, Validation Accuracy: 19.70\n",
            "Epoch 3/5, Train Loss: 1.2039, Train Accuracy: 20.30%, Validation Loss: 1.2033, Validation Accuracy: 20.25\n",
            "Epoch 4/5, Train Loss: 1.2027, Train Accuracy: 19.91%, Validation Loss: 1.2148, Validation Accuracy: 20.72\n",
            "Epoch 5/5, Train Loss: 1.2039, Train Accuracy: 20.31%, Validation Loss: 1.2170, Validation Accuracy: 19.70\n"
          ]
        },
        {
          "output_type": "stream",
          "name": "stderr",
          "text": [
            "\r 31%|███       | 33/108 [14:53<34:34, 27.66s/it]"
          ]
        },
        {
          "output_type": "stream",
          "name": "stdout",
          "text": [
            "Hyperparameters: LR=0.001, Optimizer=SGD, Loss=FocalLoss, Batch Size=64, Embedding Dim=300, Test Loss: 1.2036, Test Accuracy: 20.42\n",
            "Epoch 1/5, Train Loss: 1.2339, Train Accuracy: 20.28%, Validation Loss: 1.2216, Validation Accuracy: 18.93\n",
            "Epoch 2/5, Train Loss: 1.2060, Train Accuracy: 19.54%, Validation Loss: 1.2166, Validation Accuracy: 18.22\n",
            "Epoch 3/5, Train Loss: 1.2046, Train Accuracy: 20.09%, Validation Loss: 1.2183, Validation Accuracy: 18.15\n",
            "Epoch 4/5, Train Loss: 1.2041, Train Accuracy: 19.28%, Validation Loss: 1.2162, Validation Accuracy: 18.22\n"
          ]
        },
        {
          "output_type": "stream",
          "name": "stderr",
          "text": [
            "\r 31%|███▏      | 34/108 [15:07<28:53, 23.43s/it]"
          ]
        },
        {
          "output_type": "stream",
          "name": "stdout",
          "text": [
            "Epoch 5/5, Train Loss: 1.2041, Train Accuracy: 19.58%, Validation Loss: 1.2189, Validation Accuracy: 18.46\n",
            "Hyperparameters: LR=0.001, Optimizer=SGD, Loss=FocalLoss, Batch Size=128, Embedding Dim=100, Test Loss: 1.2067, Test Accuracy: 19.33\n",
            "Epoch 1/5, Train Loss: 1.2110, Train Accuracy: 19.78%, Validation Loss: 1.2075, Validation Accuracy: 20.95\n",
            "Epoch 2/5, Train Loss: 1.2027, Train Accuracy: 20.47%, Validation Loss: 1.2101, Validation Accuracy: 20.09\n",
            "Epoch 3/5, Train Loss: 1.2049, Train Accuracy: 20.11%, Validation Loss: 1.2126, Validation Accuracy: 19.70\n",
            "Epoch 4/5, Train Loss: 1.2041, Train Accuracy: 20.30%, Validation Loss: 1.2087, Validation Accuracy: 20.33\n"
          ]
        },
        {
          "output_type": "stream",
          "name": "stderr",
          "text": [
            "\r 32%|███▏      | 35/108 [15:30<28:30, 23.43s/it]"
          ]
        },
        {
          "output_type": "stream",
          "name": "stdout",
          "text": [
            "Epoch 5/5, Train Loss: 1.2031, Train Accuracy: 20.90%, Validation Loss: 1.2154, Validation Accuracy: 19.70\n",
            "Hyperparameters: LR=0.001, Optimizer=SGD, Loss=FocalLoss, Batch Size=128, Embedding Dim=200, Test Loss: 1.2012, Test Accuracy: 20.89\n",
            "Epoch 1/5, Train Loss: 1.2193, Train Accuracy: 20.17%, Validation Loss: 1.2064, Validation Accuracy: 20.25\n",
            "Epoch 2/5, Train Loss: 1.2043, Train Accuracy: 20.38%, Validation Loss: 1.2083, Validation Accuracy: 21.42\n",
            "Epoch 3/5, Train Loss: 1.2037, Train Accuracy: 20.49%, Validation Loss: 1.2118, Validation Accuracy: 19.31\n",
            "Epoch 4/5, Train Loss: 1.2040, Train Accuracy: 20.42%, Validation Loss: 1.2055, Validation Accuracy: 20.95\n",
            "Epoch 5/5, Train Loss: 1.2047, Train Accuracy: 19.97%, Validation Loss: 1.2084, Validation Accuracy: 19.31\n"
          ]
        },
        {
          "output_type": "stream",
          "name": "stderr",
          "text": [
            "\r 33%|███▎      | 36/108 [16:09<33:32, 27.94s/it]"
          ]
        },
        {
          "output_type": "stream",
          "name": "stdout",
          "text": [
            "Hyperparameters: LR=0.001, Optimizer=SGD, Loss=FocalLoss, Batch Size=128, Embedding Dim=300, Test Loss: 1.1912, Test Accuracy: 20.89\n",
            "Epoch 1/5, Train Loss: 1.7838, Train Accuracy: 18.74%, Validation Loss: 1.7701, Validation Accuracy: 20.48\n",
            "Epoch 2/5, Train Loss: 1.7675, Train Accuracy: 19.60%, Validation Loss: 1.7723, Validation Accuracy: 20.48\n",
            "Epoch 3/5, Train Loss: 1.7651, Train Accuracy: 19.21%, Validation Loss: 1.7649, Validation Accuracy: 19.55\n",
            "Epoch 4/5, Train Loss: 1.7631, Train Accuracy: 19.91%, Validation Loss: 1.7857, Validation Accuracy: 13.16\n",
            "Epoch 5/5, Train Loss: 1.7616, Train Accuracy: 19.86%, Validation Loss: 1.7674, Validation Accuracy: 19.55\n"
          ]
        },
        {
          "output_type": "stream",
          "name": "stderr",
          "text": [
            "\r 34%|███▍      | 37/108 [16:33<31:55, 26.98s/it]"
          ]
        },
        {
          "output_type": "stream",
          "name": "stdout",
          "text": [
            "Hyperparameters: LR=0.001, Optimizer=RMSprop, Loss=CrossEntropyLoss, Batch Size=32, Embedding Dim=100, Test Loss: 1.7525, Test Accuracy: 19.41\n",
            "Epoch 1/5, Train Loss: 1.8092, Train Accuracy: 19.51%, Validation Loss: 1.7853, Validation Accuracy: 19.31\n",
            "Epoch 2/5, Train Loss: 1.7706, Train Accuracy: 19.45%, Validation Loss: 1.7774, Validation Accuracy: 19.31\n",
            "Epoch 3/5, Train Loss: 1.7677, Train Accuracy: 19.08%, Validation Loss: 1.7649, Validation Accuracy: 19.55\n",
            "Epoch 4/5, Train Loss: 1.7643, Train Accuracy: 19.85%, Validation Loss: 1.7610, Validation Accuracy: 19.55\n",
            "Epoch 5/5, Train Loss: 1.7617, Train Accuracy: 20.05%, Validation Loss: 1.7781, Validation Accuracy: 19.31\n"
          ]
        },
        {
          "output_type": "stream",
          "name": "stderr",
          "text": [
            "\r 35%|███▌      | 38/108 [17:03<32:19, 27.71s/it]"
          ]
        },
        {
          "output_type": "stream",
          "name": "stdout",
          "text": [
            "Hyperparameters: LR=0.001, Optimizer=RMSprop, Loss=CrossEntropyLoss, Batch Size=32, Embedding Dim=200, Test Loss: 1.7539, Test Accuracy: 20.81\n",
            "Epoch 1/5, Train Loss: 1.8259, Train Accuracy: 19.09%, Validation Loss: 1.7861, Validation Accuracy: 19.31\n",
            "Epoch 2/5, Train Loss: 1.7774, Train Accuracy: 19.05%, Validation Loss: 1.7691, Validation Accuracy: 19.31\n",
            "Epoch 3/5, Train Loss: 1.7681, Train Accuracy: 20.10%, Validation Loss: 1.7913, Validation Accuracy: 19.31\n",
            "Epoch 4/5, Train Loss: 1.7644, Train Accuracy: 19.62%, Validation Loss: 1.7754, Validation Accuracy: 19.31\n",
            "Epoch 5/5, Train Loss: 1.7638, Train Accuracy: 19.63%, Validation Loss: 1.7744, Validation Accuracy: 19.31\n"
          ]
        },
        {
          "output_type": "stream",
          "name": "stderr",
          "text": [
            "\r 36%|███▌      | 39/108 [17:43<36:17, 31.55s/it]"
          ]
        },
        {
          "output_type": "stream",
          "name": "stdout",
          "text": [
            "Hyperparameters: LR=0.001, Optimizer=RMSprop, Loss=CrossEntropyLoss, Batch Size=32, Embedding Dim=300, Test Loss: 1.7578, Test Accuracy: 20.81\n",
            "Epoch 1/5, Train Loss: 1.8033, Train Accuracy: 19.54%, Validation Loss: 1.7848, Validation Accuracy: 13.16\n",
            "Epoch 2/5, Train Loss: 1.7677, Train Accuracy: 19.33%, Validation Loss: 1.7735, Validation Accuracy: 20.48\n",
            "Epoch 3/5, Train Loss: 1.7640, Train Accuracy: 19.43%, Validation Loss: 1.7727, Validation Accuracy: 19.31\n",
            "Epoch 4/5, Train Loss: 1.7643, Train Accuracy: 19.94%, Validation Loss: 1.7591, Validation Accuracy: 20.48\n"
          ]
        },
        {
          "output_type": "stream",
          "name": "stderr",
          "text": [
            "\r 37%|███▋      | 40/108 [17:57<29:48, 26.30s/it]"
          ]
        },
        {
          "output_type": "stream",
          "name": "stdout",
          "text": [
            "Epoch 5/5, Train Loss: 1.7632, Train Accuracy: 19.60%, Validation Loss: 1.7630, Validation Accuracy: 20.48\n",
            "Hyperparameters: LR=0.001, Optimizer=RMSprop, Loss=CrossEntropyLoss, Batch Size=64, Embedding Dim=100, Test Loss: 1.7504, Test Accuracy: 19.49\n",
            "Epoch 1/5, Train Loss: 1.8273, Train Accuracy: 18.57%, Validation Loss: 1.7877, Validation Accuracy: 19.55\n",
            "Epoch 2/5, Train Loss: 1.7709, Train Accuracy: 19.56%, Validation Loss: 1.7933, Validation Accuracy: 13.16\n",
            "Epoch 3/5, Train Loss: 1.7709, Train Accuracy: 19.38%, Validation Loss: 1.7673, Validation Accuracy: 18.46\n",
            "Epoch 4/5, Train Loss: 1.7650, Train Accuracy: 19.96%, Validation Loss: 1.7949, Validation Accuracy: 19.31\n"
          ]
        },
        {
          "output_type": "stream",
          "name": "stderr",
          "text": [
            "\r 38%|███▊      | 41/108 [18:20<28:11, 25.25s/it]"
          ]
        },
        {
          "output_type": "stream",
          "name": "stdout",
          "text": [
            "Epoch 5/5, Train Loss: 1.7661, Train Accuracy: 19.26%, Validation Loss: 1.7833, Validation Accuracy: 18.46\n",
            "Hyperparameters: LR=0.001, Optimizer=RMSprop, Loss=CrossEntropyLoss, Batch Size=64, Embedding Dim=200, Test Loss: 1.7708, Test Accuracy: 16.68\n",
            "Epoch 1/5, Train Loss: 1.8789, Train Accuracy: 19.33%, Validation Loss: 1.8070, Validation Accuracy: 19.31\n",
            "Epoch 2/5, Train Loss: 1.7800, Train Accuracy: 19.54%, Validation Loss: 1.7725, Validation Accuracy: 19.31\n",
            "Epoch 3/5, Train Loss: 1.7758, Train Accuracy: 18.94%, Validation Loss: 1.8627, Validation Accuracy: 20.48\n",
            "Epoch 4/5, Train Loss: 1.7706, Train Accuracy: 19.46%, Validation Loss: 1.7641, Validation Accuracy: 20.48\n",
            "Epoch 5/5, Train Loss: 1.7647, Train Accuracy: 19.91%, Validation Loss: 1.8077, Validation Accuracy: 20.48\n"
          ]
        },
        {
          "output_type": "stream",
          "name": "stderr",
          "text": [
            "\r 39%|███▉      | 42/108 [18:56<31:24, 28.56s/it]"
          ]
        },
        {
          "output_type": "stream",
          "name": "stdout",
          "text": [
            "Hyperparameters: LR=0.001, Optimizer=RMSprop, Loss=CrossEntropyLoss, Batch Size=64, Embedding Dim=300, Test Loss: 1.7943, Test Accuracy: 19.49\n",
            "Epoch 1/5, Train Loss: 1.8098, Train Accuracy: 18.50%, Validation Loss: 1.7818, Validation Accuracy: 19.31\n",
            "Epoch 2/5, Train Loss: 1.7662, Train Accuracy: 20.13%, Validation Loss: 1.7827, Validation Accuracy: 18.46\n",
            "Epoch 3/5, Train Loss: 1.7659, Train Accuracy: 18.93%, Validation Loss: 1.7665, Validation Accuracy: 20.48\n",
            "Epoch 4/5, Train Loss: 1.7627, Train Accuracy: 19.87%, Validation Loss: 1.7760, Validation Accuracy: 20.48\n"
          ]
        },
        {
          "output_type": "stream",
          "name": "stderr",
          "text": [
            "\r 40%|███▉      | 43/108 [19:10<26:08, 24.13s/it]"
          ]
        },
        {
          "output_type": "stream",
          "name": "stdout",
          "text": [
            "Epoch 5/5, Train Loss: 1.7620, Train Accuracy: 20.26%, Validation Loss: 1.8036, Validation Accuracy: 19.55\n",
            "Hyperparameters: LR=0.001, Optimizer=RMSprop, Loss=CrossEntropyLoss, Batch Size=128, Embedding Dim=100, Test Loss: 1.8079, Test Accuracy: 19.41\n",
            "Epoch 1/5, Train Loss: 1.8606, Train Accuracy: 19.34%, Validation Loss: 1.8560, Validation Accuracy: 19.55\n",
            "Epoch 2/5, Train Loss: 1.7722, Train Accuracy: 19.61%, Validation Loss: 1.8359, Validation Accuracy: 13.16\n",
            "Epoch 3/5, Train Loss: 1.7697, Train Accuracy: 19.25%, Validation Loss: 1.8003, Validation Accuracy: 19.31\n",
            "Epoch 4/5, Train Loss: 1.7679, Train Accuracy: 19.50%, Validation Loss: 1.8646, Validation Accuracy: 19.31\n"
          ]
        },
        {
          "output_type": "stream",
          "name": "stderr",
          "text": [
            "\r 41%|████      | 44/108 [19:34<25:38, 24.04s/it]"
          ]
        },
        {
          "output_type": "stream",
          "name": "stdout",
          "text": [
            "Epoch 5/5, Train Loss: 1.7703, Train Accuracy: 19.18%, Validation Loss: 1.8341, Validation Accuracy: 13.16\n",
            "Hyperparameters: LR=0.001, Optimizer=RMSprop, Loss=CrossEntropyLoss, Batch Size=128, Embedding Dim=200, Test Loss: 1.8279, Test Accuracy: 16.45\n",
            "Epoch 1/5, Train Loss: 1.9490, Train Accuracy: 19.42%, Validation Loss: 1.8038, Validation Accuracy: 20.48\n",
            "Epoch 2/5, Train Loss: 1.7756, Train Accuracy: 19.37%, Validation Loss: 1.8257, Validation Accuracy: 13.16\n",
            "Epoch 3/5, Train Loss: 1.7749, Train Accuracy: 19.74%, Validation Loss: 1.8809, Validation Accuracy: 20.48\n",
            "Epoch 4/5, Train Loss: 1.7734, Train Accuracy: 19.19%, Validation Loss: 1.8869, Validation Accuracy: 20.48\n",
            "Epoch 5/5, Train Loss: 1.7728, Train Accuracy: 18.78%, Validation Loss: 1.7996, Validation Accuracy: 19.55\n"
          ]
        },
        {
          "output_type": "stream",
          "name": "stderr",
          "text": [
            "\r 42%|████▏     | 45/108 [20:12<29:47, 28.37s/it]"
          ]
        },
        {
          "output_type": "stream",
          "name": "stdout",
          "text": [
            "Hyperparameters: LR=0.001, Optimizer=RMSprop, Loss=CrossEntropyLoss, Batch Size=128, Embedding Dim=300, Test Loss: 1.8043, Test Accuracy: 19.41\n",
            "Epoch 1/5, Train Loss: 1.2387, Train Accuracy: 19.18%, Validation Loss: 1.2130, Validation Accuracy: 20.48\n",
            "Epoch 2/5, Train Loss: 1.2125, Train Accuracy: 20.13%, Validation Loss: 1.2219, Validation Accuracy: 19.31\n",
            "Epoch 3/5, Train Loss: 1.2108, Train Accuracy: 19.73%, Validation Loss: 1.2148, Validation Accuracy: 19.31\n",
            "Epoch 4/5, Train Loss: 1.2088, Train Accuracy: 19.47%, Validation Loss: 1.2339, Validation Accuracy: 19.31\n"
          ]
        },
        {
          "output_type": "stream",
          "name": "stderr",
          "text": [
            "\r 43%|████▎     | 46/108 [20:36<27:54, 27.00s/it]"
          ]
        },
        {
          "output_type": "stream",
          "name": "stdout",
          "text": [
            "Epoch 5/5, Train Loss: 1.2071, Train Accuracy: 20.16%, Validation Loss: 1.2119, Validation Accuracy: 19.31\n",
            "Hyperparameters: LR=0.001, Optimizer=RMSprop, Loss=FocalLoss, Batch Size=32, Embedding Dim=100, Test Loss: 1.1940, Test Accuracy: 20.81\n",
            "Epoch 1/5, Train Loss: 1.2629, Train Accuracy: 19.51%, Validation Loss: 1.2175, Validation Accuracy: 19.31\n",
            "Epoch 2/5, Train Loss: 1.2204, Train Accuracy: 19.45%, Validation Loss: 1.2125, Validation Accuracy: 19.55\n",
            "Epoch 3/5, Train Loss: 1.2153, Train Accuracy: 19.71%, Validation Loss: 1.2271, Validation Accuracy: 19.31\n",
            "Epoch 4/5, Train Loss: 1.2103, Train Accuracy: 19.68%, Validation Loss: 1.2213, Validation Accuracy: 18.46\n"
          ]
        },
        {
          "output_type": "stream",
          "name": "stderr",
          "text": [
            "\r 44%|████▎     | 47/108 [21:05<27:57, 27.50s/it]"
          ]
        },
        {
          "output_type": "stream",
          "name": "stdout",
          "text": [
            "Epoch 5/5, Train Loss: 1.2093, Train Accuracy: 19.79%, Validation Loss: 1.2251, Validation Accuracy: 19.31\n",
            "Hyperparameters: LR=0.001, Optimizer=RMSprop, Loss=FocalLoss, Batch Size=32, Embedding Dim=200, Test Loss: 1.2005, Test Accuracy: 20.81\n",
            "Epoch 1/5, Train Loss: 1.2982, Train Accuracy: 18.42%, Validation Loss: 1.2322, Validation Accuracy: 19.55\n",
            "Epoch 2/5, Train Loss: 1.2263, Train Accuracy: 19.56%, Validation Loss: 1.2201, Validation Accuracy: 20.48\n",
            "Epoch 3/5, Train Loss: 1.2170, Train Accuracy: 19.33%, Validation Loss: 1.2133, Validation Accuracy: 19.31\n",
            "Epoch 4/5, Train Loss: 1.2131, Train Accuracy: 19.74%, Validation Loss: 1.2223, Validation Accuracy: 19.31\n",
            "Epoch 5/5, Train Loss: 1.2085, Train Accuracy: 20.10%, Validation Loss: 1.2118, Validation Accuracy: 20.48\n"
          ]
        },
        {
          "output_type": "stream",
          "name": "stderr",
          "text": [
            "\r 44%|████▍     | 48/108 [21:44<31:04, 31.07s/it]"
          ]
        },
        {
          "output_type": "stream",
          "name": "stdout",
          "text": [
            "Hyperparameters: LR=0.001, Optimizer=RMSprop, Loss=FocalLoss, Batch Size=32, Embedding Dim=300, Test Loss: 1.1967, Test Accuracy: 19.49\n",
            "Epoch 1/5, Train Loss: 1.2402, Train Accuracy: 19.60%, Validation Loss: 1.2623, Validation Accuracy: 19.31\n",
            "Epoch 2/5, Train Loss: 1.2162, Train Accuracy: 19.37%, Validation Loss: 1.2162, Validation Accuracy: 20.48\n",
            "Epoch 3/5, Train Loss: 1.2133, Train Accuracy: 19.16%, Validation Loss: 1.2166, Validation Accuracy: 20.48\n",
            "Epoch 4/5, Train Loss: 1.2109, Train Accuracy: 19.72%, Validation Loss: 1.2344, Validation Accuracy: 19.31\n"
          ]
        },
        {
          "output_type": "stream",
          "name": "stderr",
          "text": [
            "\r 45%|████▌     | 49/108 [21:58<25:33, 25.99s/it]"
          ]
        },
        {
          "output_type": "stream",
          "name": "stdout",
          "text": [
            "Epoch 5/5, Train Loss: 1.2103, Train Accuracy: 20.11%, Validation Loss: 1.2513, Validation Accuracy: 13.16\n",
            "Hyperparameters: LR=0.001, Optimizer=RMSprop, Loss=FocalLoss, Batch Size=64, Embedding Dim=100, Test Loss: 1.2190, Test Accuracy: 16.45\n",
            "Epoch 1/5, Train Loss: 1.3039, Train Accuracy: 19.16%, Validation Loss: 1.2558, Validation Accuracy: 18.46\n",
            "Epoch 2/5, Train Loss: 1.2238, Train Accuracy: 18.95%, Validation Loss: 1.2394, Validation Accuracy: 13.16\n",
            "Epoch 3/5, Train Loss: 1.2192, Train Accuracy: 19.35%, Validation Loss: 1.2596, Validation Accuracy: 19.55\n",
            "Epoch 4/5, Train Loss: 1.2167, Train Accuracy: 19.66%, Validation Loss: 1.2172, Validation Accuracy: 20.48\n"
          ]
        },
        {
          "output_type": "stream",
          "name": "stderr",
          "text": [
            "\r 46%|████▋     | 50/108 [22:22<24:17, 25.14s/it]"
          ]
        },
        {
          "output_type": "stream",
          "name": "stdout",
          "text": [
            "Epoch 5/5, Train Loss: 1.2128, Train Accuracy: 19.56%, Validation Loss: 1.2133, Validation Accuracy: 20.48\n",
            "Hyperparameters: LR=0.001, Optimizer=RMSprop, Loss=FocalLoss, Batch Size=64, Embedding Dim=200, Test Loss: 1.2007, Test Accuracy: 19.49\n",
            "Epoch 1/5, Train Loss: 1.3311, Train Accuracy: 18.64%, Validation Loss: 1.3559, Validation Accuracy: 19.55\n",
            "Epoch 2/5, Train Loss: 1.2299, Train Accuracy: 19.33%, Validation Loss: 1.2084, Validation Accuracy: 19.55\n",
            "Epoch 3/5, Train Loss: 1.2184, Train Accuracy: 20.32%, Validation Loss: 1.2739, Validation Accuracy: 19.55\n",
            "Epoch 4/5, Train Loss: 1.2153, Train Accuracy: 20.03%, Validation Loss: 1.2116, Validation Accuracy: 19.55\n",
            "Epoch 5/5, Train Loss: 1.2122, Train Accuracy: 20.20%, Validation Loss: 1.2369, Validation Accuracy: 20.48\n"
          ]
        },
        {
          "output_type": "stream",
          "name": "stderr",
          "text": [
            "\r 47%|████▋     | 51/108 [22:58<27:02, 28.47s/it]"
          ]
        },
        {
          "output_type": "stream",
          "name": "stdout",
          "text": [
            "Hyperparameters: LR=0.001, Optimizer=RMSprop, Loss=FocalLoss, Batch Size=64, Embedding Dim=300, Test Loss: 1.2260, Test Accuracy: 19.49\n",
            "Epoch 1/5, Train Loss: 1.2736, Train Accuracy: 19.26%, Validation Loss: 1.2243, Validation Accuracy: 20.48\n",
            "Epoch 2/5, Train Loss: 1.2137, Train Accuracy: 19.21%, Validation Loss: 1.2343, Validation Accuracy: 19.31\n",
            "Epoch 3/5, Train Loss: 1.2105, Train Accuracy: 19.57%, Validation Loss: 1.2311, Validation Accuracy: 19.31\n",
            "Epoch 4/5, Train Loss: 1.2119, Train Accuracy: 19.49%, Validation Loss: 1.2778, Validation Accuracy: 19.31\n"
          ]
        },
        {
          "output_type": "stream",
          "name": "stderr",
          "text": [
            "\r 48%|████▊     | 52/108 [23:11<22:24, 24.01s/it]"
          ]
        },
        {
          "output_type": "stream",
          "name": "stdout",
          "text": [
            "Epoch 5/5, Train Loss: 1.2098, Train Accuracy: 19.68%, Validation Loss: 1.2416, Validation Accuracy: 20.48\n",
            "Hyperparameters: LR=0.001, Optimizer=RMSprop, Loss=FocalLoss, Batch Size=128, Embedding Dim=100, Test Loss: 1.2338, Test Accuracy: 19.49\n",
            "Epoch 1/5, Train Loss: 1.3353, Train Accuracy: 19.49%, Validation Loss: 1.2580, Validation Accuracy: 18.46\n",
            "Epoch 2/5, Train Loss: 1.2258, Train Accuracy: 18.81%, Validation Loss: 1.2270, Validation Accuracy: 20.48\n",
            "Epoch 3/5, Train Loss: 1.2176, Train Accuracy: 19.38%, Validation Loss: 1.2620, Validation Accuracy: 19.55\n",
            "Epoch 4/5, Train Loss: 1.2155, Train Accuracy: 19.32%, Validation Loss: 1.2505, Validation Accuracy: 20.48\n"
          ]
        },
        {
          "output_type": "stream",
          "name": "stderr",
          "text": [
            "\r 49%|████▉     | 53/108 [23:35<21:52, 23.87s/it]"
          ]
        },
        {
          "output_type": "stream",
          "name": "stdout",
          "text": [
            "Epoch 5/5, Train Loss: 1.2173, Train Accuracy: 18.95%, Validation Loss: 1.2678, Validation Accuracy: 19.55\n",
            "Hyperparameters: LR=0.001, Optimizer=RMSprop, Loss=FocalLoss, Batch Size=128, Embedding Dim=200, Test Loss: 1.2744, Test Accuracy: 19.41\n",
            "Epoch 1/5, Train Loss: 1.3715, Train Accuracy: 18.59%, Validation Loss: 1.3363, Validation Accuracy: 19.31\n",
            "Epoch 2/5, Train Loss: 1.2296, Train Accuracy: 19.38%, Validation Loss: 1.3015, Validation Accuracy: 19.55\n",
            "Epoch 3/5, Train Loss: 1.2235, Train Accuracy: 19.70%, Validation Loss: 1.2690, Validation Accuracy: 19.55\n",
            "Epoch 4/5, Train Loss: 1.2198, Train Accuracy: 19.51%, Validation Loss: 1.2703, Validation Accuracy: 19.55\n",
            "Epoch 5/5, Train Loss: 1.2195, Train Accuracy: 19.08%, Validation Loss: 1.2639, Validation Accuracy: 19.31\n"
          ]
        },
        {
          "output_type": "stream",
          "name": "stderr",
          "text": [
            "\r 50%|█████     | 54/108 [24:13<25:25, 28.25s/it]"
          ]
        },
        {
          "output_type": "stream",
          "name": "stdout",
          "text": [
            "Hyperparameters: LR=0.001, Optimizer=RMSprop, Loss=FocalLoss, Batch Size=128, Embedding Dim=300, Test Loss: 1.2536, Test Accuracy: 20.81\n",
            "Epoch 1/5, Train Loss: 1.7903, Train Accuracy: 20.05%, Validation Loss: 1.7614, Validation Accuracy: 19.31\n",
            "Epoch 2/5, Train Loss: 1.7621, Train Accuracy: 19.89%, Validation Loss: 1.7663, Validation Accuracy: 19.31\n",
            "Epoch 3/5, Train Loss: 1.7605, Train Accuracy: 20.27%, Validation Loss: 1.7643, Validation Accuracy: 19.31\n",
            "Epoch 4/5, Train Loss: 1.7588, Train Accuracy: 20.15%, Validation Loss: 1.7621, Validation Accuracy: 19.31\n"
          ]
        },
        {
          "output_type": "stream",
          "name": "stderr",
          "text": [
            "\r 51%|█████     | 55/108 [24:37<23:39, 26.79s/it]"
          ]
        },
        {
          "output_type": "stream",
          "name": "stdout",
          "text": [
            "Epoch 5/5, Train Loss: 1.7586, Train Accuracy: 20.00%, Validation Loss: 1.7647, Validation Accuracy: 19.31\n",
            "Hyperparameters: LR=0.01, Optimizer=Adam, Loss=CrossEntropyLoss, Batch Size=32, Embedding Dim=100, Test Loss: 1.7532, Test Accuracy: 20.81\n",
            "Epoch 1/5, Train Loss: 1.8179, Train Accuracy: 19.74%, Validation Loss: 1.7771, Validation Accuracy: 13.16\n",
            "Epoch 2/5, Train Loss: 1.7604, Train Accuracy: 20.06%, Validation Loss: 1.7613, Validation Accuracy: 19.31\n",
            "Epoch 3/5, Train Loss: 1.7601, Train Accuracy: 19.77%, Validation Loss: 1.7631, Validation Accuracy: 19.31\n",
            "Epoch 4/5, Train Loss: 1.7592, Train Accuracy: 19.90%, Validation Loss: 1.7876, Validation Accuracy: 13.16\n"
          ]
        },
        {
          "output_type": "stream",
          "name": "stderr",
          "text": [
            "\r 52%|█████▏    | 56/108 [25:08<24:13, 27.96s/it]"
          ]
        },
        {
          "output_type": "stream",
          "name": "stdout",
          "text": [
            "Epoch 5/5, Train Loss: 1.7593, Train Accuracy: 20.80%, Validation Loss: 1.7680, Validation Accuracy: 20.48\n",
            "Hyperparameters: LR=0.01, Optimizer=Adam, Loss=CrossEntropyLoss, Batch Size=32, Embedding Dim=200, Test Loss: 1.7511, Test Accuracy: 19.49\n",
            "Epoch 1/5, Train Loss: 1.8309, Train Accuracy: 19.14%, Validation Loss: 1.7673, Validation Accuracy: 19.55\n",
            "Epoch 2/5, Train Loss: 1.7612, Train Accuracy: 19.57%, Validation Loss: 1.7667, Validation Accuracy: 19.31\n",
            "Epoch 3/5, Train Loss: 1.7603, Train Accuracy: 19.94%, Validation Loss: 1.7699, Validation Accuracy: 19.31\n",
            "Epoch 4/5, Train Loss: 1.7597, Train Accuracy: 20.12%, Validation Loss: 1.7767, Validation Accuracy: 13.16\n",
            "Epoch 5/5, Train Loss: 1.7606, Train Accuracy: 20.11%, Validation Loss: 1.7625, Validation Accuracy: 19.55\n"
          ]
        },
        {
          "output_type": "stream",
          "name": "stderr",
          "text": [
            "\r 53%|█████▎    | 57/108 [25:51<27:35, 32.47s/it]"
          ]
        },
        {
          "output_type": "stream",
          "name": "stdout",
          "text": [
            "Hyperparameters: LR=0.01, Optimizer=Adam, Loss=CrossEntropyLoss, Batch Size=32, Embedding Dim=300, Test Loss: 1.7492, Test Accuracy: 19.41\n",
            "Epoch 1/5, Train Loss: 1.8040, Train Accuracy: 19.19%, Validation Loss: 1.7854, Validation Accuracy: 19.31\n",
            "Epoch 2/5, Train Loss: 1.7608, Train Accuracy: 20.14%, Validation Loss: 1.7646, Validation Accuracy: 19.55\n",
            "Epoch 3/5, Train Loss: 1.7614, Train Accuracy: 19.31%, Validation Loss: 1.7647, Validation Accuracy: 19.31\n",
            "Epoch 4/5, Train Loss: 1.7593, Train Accuracy: 20.17%, Validation Loss: 1.7647, Validation Accuracy: 19.31\n"
          ]
        },
        {
          "output_type": "stream",
          "name": "stderr",
          "text": [
            "\r 54%|█████▎    | 58/108 [26:05<22:34, 27.10s/it]"
          ]
        },
        {
          "output_type": "stream",
          "name": "stdout",
          "text": [
            "Epoch 5/5, Train Loss: 1.7576, Train Accuracy: 20.05%, Validation Loss: 1.7649, Validation Accuracy: 19.31\n",
            "Hyperparameters: LR=0.01, Optimizer=Adam, Loss=CrossEntropyLoss, Batch Size=64, Embedding Dim=100, Test Loss: 1.7535, Test Accuracy: 20.81\n",
            "Epoch 1/5, Train Loss: 1.8285, Train Accuracy: 19.40%, Validation Loss: 1.7808, Validation Accuracy: 13.16\n",
            "Epoch 2/5, Train Loss: 1.7634, Train Accuracy: 19.22%, Validation Loss: 1.7606, Validation Accuracy: 19.31\n",
            "Epoch 3/5, Train Loss: 1.7608, Train Accuracy: 20.27%, Validation Loss: 1.7630, Validation Accuracy: 19.31\n",
            "Epoch 4/5, Train Loss: 1.7589, Train Accuracy: 20.09%, Validation Loss: 1.7663, Validation Accuracy: 19.31\n"
          ]
        },
        {
          "output_type": "stream",
          "name": "stderr",
          "text": [
            "\r 55%|█████▍    | 59/108 [26:32<22:06, 27.08s/it]"
          ]
        },
        {
          "output_type": "stream",
          "name": "stdout",
          "text": [
            "Epoch 5/5, Train Loss: 1.7594, Train Accuracy: 19.87%, Validation Loss: 1.7619, Validation Accuracy: 19.31\n",
            "Hyperparameters: LR=0.01, Optimizer=Adam, Loss=CrossEntropyLoss, Batch Size=64, Embedding Dim=200, Test Loss: 1.7503, Test Accuracy: 20.81\n",
            "Epoch 1/5, Train Loss: 1.8587, Train Accuracy: 18.87%, Validation Loss: 1.7650, Validation Accuracy: 20.48\n",
            "Epoch 2/5, Train Loss: 1.7638, Train Accuracy: 19.89%, Validation Loss: 1.7665, Validation Accuracy: 20.48\n",
            "Epoch 3/5, Train Loss: 1.7605, Train Accuracy: 20.11%, Validation Loss: 1.7628, Validation Accuracy: 19.31\n",
            "Epoch 4/5, Train Loss: 1.7602, Train Accuracy: 20.38%, Validation Loss: 1.7693, Validation Accuracy: 19.31\n",
            "Epoch 5/5, Train Loss: 1.7599, Train Accuracy: 20.31%, Validation Loss: 1.7627, Validation Accuracy: 19.55\n"
          ]
        },
        {
          "output_type": "stream",
          "name": "stderr",
          "text": [
            "\r 56%|█████▌    | 60/108 [27:09<24:06, 30.14s/it]"
          ]
        },
        {
          "output_type": "stream",
          "name": "stdout",
          "text": [
            "Hyperparameters: LR=0.01, Optimizer=Adam, Loss=CrossEntropyLoss, Batch Size=64, Embedding Dim=300, Test Loss: 1.7497, Test Accuracy: 19.41\n",
            "Epoch 1/5, Train Loss: 1.8154, Train Accuracy: 19.97%, Validation Loss: 1.7635, Validation Accuracy: 20.48\n",
            "Epoch 2/5, Train Loss: 1.7784, Train Accuracy: 19.35%, Validation Loss: 1.7619, Validation Accuracy: 20.48\n",
            "Epoch 3/5, Train Loss: 1.7631, Train Accuracy: 19.77%, Validation Loss: 1.7670, Validation Accuracy: 19.31\n",
            "Epoch 4/5, Train Loss: 1.7608, Train Accuracy: 19.95%, Validation Loss: 1.7611, Validation Accuracy: 19.31\n"
          ]
        },
        {
          "output_type": "stream",
          "name": "stderr",
          "text": [
            "\r 56%|█████▋    | 61/108 [27:23<19:49, 25.31s/it]"
          ]
        },
        {
          "output_type": "stream",
          "name": "stdout",
          "text": [
            "Epoch 5/5, Train Loss: 1.7578, Train Accuracy: 20.16%, Validation Loss: 1.7614, Validation Accuracy: 19.31\n",
            "Hyperparameters: LR=0.01, Optimizer=Adam, Loss=CrossEntropyLoss, Batch Size=128, Embedding Dim=100, Test Loss: 1.7515, Test Accuracy: 20.81\n",
            "Epoch 1/5, Train Loss: 1.8909, Train Accuracy: 19.38%, Validation Loss: 1.8363, Validation Accuracy: 9.03\n",
            "Epoch 2/5, Train Loss: 1.7693, Train Accuracy: 19.63%, Validation Loss: 1.7773, Validation Accuracy: 19.31\n",
            "Epoch 3/5, Train Loss: 1.7668, Train Accuracy: 19.93%, Validation Loss: 1.7693, Validation Accuracy: 19.31\n",
            "Epoch 4/5, Train Loss: 1.7605, Train Accuracy: 20.40%, Validation Loss: 1.7672, Validation Accuracy: 19.31\n"
          ]
        },
        {
          "output_type": "stream",
          "name": "stderr",
          "text": [
            "\r 57%|█████▋    | 62/108 [27:48<19:10, 25.01s/it]"
          ]
        },
        {
          "output_type": "stream",
          "name": "stdout",
          "text": [
            "Epoch 5/5, Train Loss: 1.7599, Train Accuracy: 19.37%, Validation Loss: 1.7619, Validation Accuracy: 19.31\n",
            "Hyperparameters: LR=0.01, Optimizer=Adam, Loss=CrossEntropyLoss, Batch Size=128, Embedding Dim=200, Test Loss: 1.7515, Test Accuracy: 20.81\n",
            "Epoch 1/5, Train Loss: 1.9218, Train Accuracy: 17.60%, Validation Loss: 1.7753, Validation Accuracy: 19.55\n",
            "Epoch 2/5, Train Loss: 1.7883, Train Accuracy: 19.79%, Validation Loss: 1.7802, Validation Accuracy: 19.55\n",
            "Epoch 3/5, Train Loss: 1.7664, Train Accuracy: 19.88%, Validation Loss: 1.7886, Validation Accuracy: 13.16\n",
            "Epoch 4/5, Train Loss: 1.7619, Train Accuracy: 19.73%, Validation Loss: 1.7602, Validation Accuracy: 20.48\n",
            "Epoch 5/5, Train Loss: 1.7587, Train Accuracy: 19.78%, Validation Loss: 1.7633, Validation Accuracy: 19.55\n"
          ]
        },
        {
          "output_type": "stream",
          "name": "stderr",
          "text": [
            "\r 58%|█████▊    | 63/108 [28:27<21:56, 29.25s/it]"
          ]
        },
        {
          "output_type": "stream",
          "name": "stdout",
          "text": [
            "Hyperparameters: LR=0.01, Optimizer=Adam, Loss=CrossEntropyLoss, Batch Size=128, Embedding Dim=300, Test Loss: 1.7531, Test Accuracy: 19.41\n",
            "Epoch 1/5, Train Loss: 1.2413, Train Accuracy: 19.48%, Validation Loss: 1.2090, Validation Accuracy: 19.55\n",
            "Epoch 2/5, Train Loss: 1.2083, Train Accuracy: 19.74%, Validation Loss: 1.2085, Validation Accuracy: 20.48\n",
            "Epoch 3/5, Train Loss: 1.2080, Train Accuracy: 19.48%, Validation Loss: 1.2096, Validation Accuracy: 19.31\n",
            "Epoch 4/5, Train Loss: 1.2067, Train Accuracy: 20.26%, Validation Loss: 1.2089, Validation Accuracy: 19.31\n"
          ]
        },
        {
          "output_type": "stream",
          "name": "stderr",
          "text": [
            "\r 59%|█████▉    | 64/108 [28:51<20:15, 27.62s/it]"
          ]
        },
        {
          "output_type": "stream",
          "name": "stdout",
          "text": [
            "Epoch 5/5, Train Loss: 1.2054, Train Accuracy: 19.57%, Validation Loss: 1.2105, Validation Accuracy: 20.48\n",
            "Hyperparameters: LR=0.01, Optimizer=Adam, Loss=FocalLoss, Batch Size=32, Embedding Dim=100, Test Loss: 1.1939, Test Accuracy: 19.49\n",
            "Epoch 1/5, Train Loss: 1.2619, Train Accuracy: 19.47%, Validation Loss: 1.2137, Validation Accuracy: 19.31\n",
            "Epoch 2/5, Train Loss: 1.2073, Train Accuracy: 19.96%, Validation Loss: 1.2146, Validation Accuracy: 20.48\n",
            "Epoch 3/5, Train Loss: 1.2067, Train Accuracy: 20.26%, Validation Loss: 1.2167, Validation Accuracy: 19.31\n",
            "Epoch 4/5, Train Loss: 1.2065, Train Accuracy: 20.30%, Validation Loss: 1.2119, Validation Accuracy: 19.31\n"
          ]
        },
        {
          "output_type": "stream",
          "name": "stderr",
          "text": [
            "\r 60%|██████    | 65/108 [29:21<20:19, 28.36s/it]"
          ]
        },
        {
          "output_type": "stream",
          "name": "stdout",
          "text": [
            "Epoch 5/5, Train Loss: 1.2057, Train Accuracy: 20.06%, Validation Loss: 1.2213, Validation Accuracy: 19.31\n",
            "Hyperparameters: LR=0.01, Optimizer=Adam, Loss=FocalLoss, Batch Size=32, Embedding Dim=200, Test Loss: 1.2007, Test Accuracy: 20.81\n",
            "Epoch 1/5, Train Loss: 1.3059, Train Accuracy: 19.08%, Validation Loss: 1.2291, Validation Accuracy: 19.31\n",
            "Epoch 2/5, Train Loss: 1.2078, Train Accuracy: 20.54%, Validation Loss: 1.2204, Validation Accuracy: 19.55\n",
            "Epoch 3/5, Train Loss: 1.2067, Train Accuracy: 20.04%, Validation Loss: 1.2153, Validation Accuracy: 19.31\n",
            "Epoch 4/5, Train Loss: 1.2069, Train Accuracy: 19.30%, Validation Loss: 1.2060, Validation Accuracy: 19.55\n",
            "Epoch 5/5, Train Loss: 1.2057, Train Accuracy: 20.03%, Validation Loss: 1.2135, Validation Accuracy: 19.31\n"
          ]
        },
        {
          "output_type": "stream",
          "name": "stderr",
          "text": [
            "\r 61%|██████    | 66/108 [30:08<23:45, 33.94s/it]"
          ]
        },
        {
          "output_type": "stream",
          "name": "stdout",
          "text": [
            "Hyperparameters: LR=0.01, Optimizer=Adam, Loss=FocalLoss, Batch Size=32, Embedding Dim=300, Test Loss: 1.1944, Test Accuracy: 20.81\n",
            "Epoch 1/5, Train Loss: 1.2606, Train Accuracy: 19.00%, Validation Loss: 1.2123, Validation Accuracy: 19.31\n",
            "Epoch 2/5, Train Loss: 1.2084, Train Accuracy: 20.01%, Validation Loss: 1.2121, Validation Accuracy: 19.31\n",
            "Epoch 3/5, Train Loss: 1.2063, Train Accuracy: 19.81%, Validation Loss: 1.2132, Validation Accuracy: 20.48\n",
            "Epoch 4/5, Train Loss: 1.2048, Train Accuracy: 20.14%, Validation Loss: 1.2129, Validation Accuracy: 20.48\n",
            "Epoch 5/5, Train Loss: 1.2054, Train Accuracy: 20.29%, Validation Loss: 1.2100, Validation Accuracy: 19.31\n"
          ]
        },
        {
          "output_type": "stream",
          "name": "stderr",
          "text": [
            "\r 62%|██████▏   | 67/108 [30:23<19:21, 28.33s/it]"
          ]
        },
        {
          "output_type": "stream",
          "name": "stdout",
          "text": [
            "Hyperparameters: LR=0.01, Optimizer=Adam, Loss=FocalLoss, Batch Size=64, Embedding Dim=100, Test Loss: 1.1955, Test Accuracy: 20.81\n",
            "Epoch 1/5, Train Loss: 1.3063, Train Accuracy: 18.47%, Validation Loss: 1.2261, Validation Accuracy: 19.31\n",
            "Epoch 2/5, Train Loss: 1.2107, Train Accuracy: 20.06%, Validation Loss: 1.2087, Validation Accuracy: 19.31\n",
            "Epoch 3/5, Train Loss: 1.2071, Train Accuracy: 19.73%, Validation Loss: 1.2083, Validation Accuracy: 19.31\n",
            "Epoch 4/5, Train Loss: 1.2060, Train Accuracy: 19.92%, Validation Loss: 1.2085, Validation Accuracy: 19.31\n",
            "Epoch 5/5, Train Loss: 1.2062, Train Accuracy: 20.22%, Validation Loss: 1.2125, Validation Accuracy: 20.48\n"
          ]
        },
        {
          "output_type": "stream",
          "name": "stderr",
          "text": [
            "\r 63%|██████▎   | 68/108 [30:48<18:13, 27.33s/it]"
          ]
        },
        {
          "output_type": "stream",
          "name": "stdout",
          "text": [
            "Hyperparameters: LR=0.01, Optimizer=Adam, Loss=FocalLoss, Batch Size=64, Embedding Dim=200, Test Loss: 1.1980, Test Accuracy: 19.49\n",
            "Epoch 1/5, Train Loss: 1.3259, Train Accuracy: 19.00%, Validation Loss: 1.3005, Validation Accuracy: 13.16\n",
            "Epoch 2/5, Train Loss: 1.2117, Train Accuracy: 18.97%, Validation Loss: 1.2083, Validation Accuracy: 19.31\n",
            "Epoch 3/5, Train Loss: 1.2070, Train Accuracy: 19.75%, Validation Loss: 1.2189, Validation Accuracy: 19.31\n",
            "Epoch 4/5, Train Loss: 1.2068, Train Accuracy: 20.56%, Validation Loss: 1.2150, Validation Accuracy: 19.31\n",
            "Epoch 5/5, Train Loss: 1.2054, Train Accuracy: 20.23%, Validation Loss: 1.2082, Validation Accuracy: 20.48\n"
          ]
        },
        {
          "output_type": "stream",
          "name": "stderr",
          "text": [
            "\r 64%|██████▍   | 69/108 [31:27<20:01, 30.79s/it]"
          ]
        },
        {
          "output_type": "stream",
          "name": "stdout",
          "text": [
            "Hyperparameters: LR=0.01, Optimizer=Adam, Loss=FocalLoss, Batch Size=64, Embedding Dim=300, Test Loss: 1.1944, Test Accuracy: 19.49\n",
            "Epoch 1/5, Train Loss: 1.2565, Train Accuracy: 19.17%, Validation Loss: 1.2071, Validation Accuracy: 18.46\n",
            "Epoch 2/5, Train Loss: 1.2273, Train Accuracy: 19.68%, Validation Loss: 1.2062, Validation Accuracy: 18.46\n",
            "Epoch 3/5, Train Loss: 1.2100, Train Accuracy: 19.22%, Validation Loss: 1.2132, Validation Accuracy: 20.48\n",
            "Epoch 4/5, Train Loss: 1.2076, Train Accuracy: 19.73%, Validation Loss: 1.2083, Validation Accuracy: 19.31\n"
          ]
        },
        {
          "output_type": "stream",
          "name": "stderr",
          "text": [
            "\r 65%|██████▍   | 70/108 [31:41<16:16, 25.70s/it]"
          ]
        },
        {
          "output_type": "stream",
          "name": "stdout",
          "text": [
            "Epoch 5/5, Train Loss: 1.2055, Train Accuracy: 20.09%, Validation Loss: 1.2088, Validation Accuracy: 19.31\n",
            "Hyperparameters: LR=0.01, Optimizer=Adam, Loss=FocalLoss, Batch Size=128, Embedding Dim=100, Test Loss: 1.1946, Test Accuracy: 20.81\n",
            "Epoch 1/5, Train Loss: 1.3162, Train Accuracy: 19.06%, Validation Loss: 1.2815, Validation Accuracy: 19.31\n",
            "Epoch 2/5, Train Loss: 1.2422, Train Accuracy: 18.05%, Validation Loss: 1.2438, Validation Accuracy: 19.31\n",
            "Epoch 3/5, Train Loss: 1.2196, Train Accuracy: 18.69%, Validation Loss: 1.2056, Validation Accuracy: 19.55\n",
            "Epoch 4/5, Train Loss: 1.2061, Train Accuracy: 20.25%, Validation Loss: 1.2141, Validation Accuracy: 19.31\n"
          ]
        },
        {
          "output_type": "stream",
          "name": "stderr",
          "text": [
            "\r 66%|██████▌   | 71/108 [32:04<15:28, 25.09s/it]"
          ]
        },
        {
          "output_type": "stream",
          "name": "stdout",
          "text": [
            "Epoch 5/5, Train Loss: 1.2068, Train Accuracy: 20.14%, Validation Loss: 1.2057, Validation Accuracy: 19.55\n",
            "Hyperparameters: LR=0.01, Optimizer=Adam, Loss=FocalLoss, Batch Size=128, Embedding Dim=200, Test Loss: 1.1916, Test Accuracy: 19.41\n",
            "Epoch 1/5, Train Loss: 1.3668, Train Accuracy: 18.69%, Validation Loss: 1.2394, Validation Accuracy: 20.48\n",
            "Epoch 2/5, Train Loss: 1.2416, Train Accuracy: 19.12%, Validation Loss: 1.2258, Validation Accuracy: 19.55\n",
            "Epoch 3/5, Train Loss: 1.2119, Train Accuracy: 18.79%, Validation Loss: 1.2087, Validation Accuracy: 19.55\n",
            "Epoch 4/5, Train Loss: 1.2070, Train Accuracy: 19.98%, Validation Loss: 1.2061, Validation Accuracy: 19.31\n",
            "Epoch 5/5, Train Loss: 1.2045, Train Accuracy: 20.43%, Validation Loss: 1.2042, Validation Accuracy: 20.48\n"
          ]
        },
        {
          "output_type": "stream",
          "name": "stderr",
          "text": [
            "\r 67%|██████▋   | 72/108 [32:43<17:31, 29.21s/it]"
          ]
        },
        {
          "output_type": "stream",
          "name": "stdout",
          "text": [
            "Hyperparameters: LR=0.01, Optimizer=Adam, Loss=FocalLoss, Batch Size=128, Embedding Dim=300, Test Loss: 1.1918, Test Accuracy: 19.49\n",
            "Epoch 1/5, Train Loss: 1.7688, Train Accuracy: 20.02%, Validation Loss: 1.7662, Validation Accuracy: 20.64\n",
            "Epoch 2/5, Train Loss: 1.7634, Train Accuracy: 20.48%, Validation Loss: 1.7638, Validation Accuracy: 18.93\n",
            "Epoch 3/5, Train Loss: 1.7633, Train Accuracy: 20.51%, Validation Loss: 1.7581, Validation Accuracy: 21.03\n",
            "Epoch 4/5, Train Loss: 1.7626, Train Accuracy: 20.04%, Validation Loss: 1.7617, Validation Accuracy: 20.09\n",
            "Epoch 5/5, Train Loss: 1.7606, Train Accuracy: 20.89%, Validation Loss: 1.7636, Validation Accuracy: 19.39\n"
          ]
        },
        {
          "output_type": "stream",
          "name": "stderr",
          "text": [
            "\r 68%|██████▊   | 73/108 [33:17<17:47, 30.50s/it]"
          ]
        },
        {
          "output_type": "stream",
          "name": "stdout",
          "text": [
            "Hyperparameters: LR=0.01, Optimizer=SGD, Loss=CrossEntropyLoss, Batch Size=32, Embedding Dim=100, Test Loss: 1.7471, Test Accuracy: 21.28\n",
            "Epoch 1/5, Train Loss: 1.7753, Train Accuracy: 20.01%, Validation Loss: 1.7656, Validation Accuracy: 19.24\n",
            "Epoch 2/5, Train Loss: 1.7707, Train Accuracy: 19.29%, Validation Loss: 1.7646, Validation Accuracy: 20.25\n",
            "Epoch 3/5, Train Loss: 1.7676, Train Accuracy: 20.11%, Validation Loss: 1.7591, Validation Accuracy: 19.47\n",
            "Epoch 4/5, Train Loss: 1.7642, Train Accuracy: 20.26%, Validation Loss: 1.7778, Validation Accuracy: 22.04\n",
            "Epoch 5/5, Train Loss: 1.7617, Train Accuracy: 20.75%, Validation Loss: 1.7563, Validation Accuracy: 22.43\n"
          ]
        },
        {
          "output_type": "stream",
          "name": "stderr",
          "text": [
            "\r 69%|██████▊   | 74/108 [33:45<16:55, 29.88s/it]"
          ]
        },
        {
          "output_type": "stream",
          "name": "stdout",
          "text": [
            "Hyperparameters: LR=0.01, Optimizer=SGD, Loss=CrossEntropyLoss, Batch Size=32, Embedding Dim=200, Test Loss: 1.7466, Test Accuracy: 20.03\n",
            "Epoch 1/5, Train Loss: 1.7863, Train Accuracy: 19.28%, Validation Loss: 1.8186, Validation Accuracy: 19.31\n",
            "Epoch 2/5, Train Loss: 1.7755, Train Accuracy: 19.08%, Validation Loss: 1.7817, Validation Accuracy: 20.79\n",
            "Epoch 3/5, Train Loss: 1.7687, Train Accuracy: 19.58%, Validation Loss: 1.7675, Validation Accuracy: 19.55\n",
            "Epoch 4/5, Train Loss: 1.7623, Train Accuracy: 21.12%, Validation Loss: 1.7800, Validation Accuracy: 19.39\n",
            "Epoch 5/5, Train Loss: 1.7609, Train Accuracy: 21.18%, Validation Loss: 1.7674, Validation Accuracy: 19.39\n"
          ]
        },
        {
          "output_type": "stream",
          "name": "stderr",
          "text": [
            "\r 69%|██████▉   | 75/108 [34:23<17:40, 32.15s/it]"
          ]
        },
        {
          "output_type": "stream",
          "name": "stdout",
          "text": [
            "Hyperparameters: LR=0.01, Optimizer=SGD, Loss=CrossEntropyLoss, Batch Size=32, Embedding Dim=300, Test Loss: 1.7558, Test Accuracy: 21.43\n",
            "Epoch 1/5, Train Loss: 1.7658, Train Accuracy: 20.08%, Validation Loss: 1.7935, Validation Accuracy: 16.20\n",
            "Epoch 2/5, Train Loss: 1.7633, Train Accuracy: 19.75%, Validation Loss: 1.7676, Validation Accuracy: 17.99\n",
            "Epoch 3/5, Train Loss: 1.7601, Train Accuracy: 20.45%, Validation Loss: 1.7883, Validation Accuracy: 19.31\n",
            "Epoch 4/5, Train Loss: 1.7589, Train Accuracy: 21.04%, Validation Loss: 1.7638, Validation Accuracy: 19.78\n"
          ]
        },
        {
          "output_type": "stream",
          "name": "stderr",
          "text": [
            "\r 70%|███████   | 76/108 [34:36<14:10, 26.59s/it]"
          ]
        },
        {
          "output_type": "stream",
          "name": "stdout",
          "text": [
            "Epoch 5/5, Train Loss: 1.7610, Train Accuracy: 20.31%, Validation Loss: 1.7614, Validation Accuracy: 19.55\n",
            "Hyperparameters: LR=0.01, Optimizer=SGD, Loss=CrossEntropyLoss, Batch Size=64, Embedding Dim=100, Test Loss: 1.7464, Test Accuracy: 20.65\n",
            "Epoch 1/5, Train Loss: 1.7683, Train Accuracy: 19.98%, Validation Loss: 1.7919, Validation Accuracy: 19.31\n",
            "Epoch 2/5, Train Loss: 1.7655, Train Accuracy: 20.57%, Validation Loss: 1.8305, Validation Accuracy: 15.03\n",
            "Epoch 3/5, Train Loss: 1.7627, Train Accuracy: 20.14%, Validation Loss: 1.8118, Validation Accuracy: 19.31\n",
            "Epoch 4/5, Train Loss: 1.7614, Train Accuracy: 21.01%, Validation Loss: 1.8045, Validation Accuracy: 14.25\n"
          ]
        },
        {
          "output_type": "stream",
          "name": "stderr",
          "text": [
            "\r 71%|███████▏  | 77/108 [34:59<13:07, 25.41s/it]"
          ]
        },
        {
          "output_type": "stream",
          "name": "stdout",
          "text": [
            "Epoch 5/5, Train Loss: 1.7623, Train Accuracy: 20.00%, Validation Loss: 1.7683, Validation Accuracy: 22.27\n",
            "Hyperparameters: LR=0.01, Optimizer=SGD, Loss=CrossEntropyLoss, Batch Size=64, Embedding Dim=200, Test Loss: 1.7513, Test Accuracy: 20.27\n",
            "Epoch 1/5, Train Loss: 1.7784, Train Accuracy: 18.99%, Validation Loss: 1.7930, Validation Accuracy: 19.55\n",
            "Epoch 2/5, Train Loss: 1.7686, Train Accuracy: 20.16%, Validation Loss: 1.7855, Validation Accuracy: 19.55\n",
            "Epoch 3/5, Train Loss: 1.7670, Train Accuracy: 20.13%, Validation Loss: 1.8080, Validation Accuracy: 14.64\n",
            "Epoch 4/5, Train Loss: 1.7648, Train Accuracy: 19.98%, Validation Loss: 1.7691, Validation Accuracy: 17.52\n",
            "Epoch 5/5, Train Loss: 1.7641, Train Accuracy: 20.30%, Validation Loss: 1.7862, Validation Accuracy: 15.73\n"
          ]
        },
        {
          "output_type": "stream",
          "name": "stderr",
          "text": [
            "\r 72%|███████▏  | 78/108 [35:34<14:13, 28.44s/it]"
          ]
        },
        {
          "output_type": "stream",
          "name": "stdout",
          "text": [
            "Hyperparameters: LR=0.01, Optimizer=SGD, Loss=CrossEntropyLoss, Batch Size=64, Embedding Dim=300, Test Loss: 1.7556, Test Accuracy: 17.93\n",
            "Epoch 1/5, Train Loss: 1.7648, Train Accuracy: 20.18%, Validation Loss: 1.7685, Validation Accuracy: 19.47\n",
            "Epoch 2/5, Train Loss: 1.7600, Train Accuracy: 19.89%, Validation Loss: 1.7668, Validation Accuracy: 19.31\n",
            "Epoch 3/5, Train Loss: 1.7599, Train Accuracy: 20.26%, Validation Loss: 1.7762, Validation Accuracy: 20.56\n",
            "Epoch 4/5, Train Loss: 1.7591, Train Accuracy: 20.67%, Validation Loss: 1.7731, Validation Accuracy: 19.24\n"
          ]
        },
        {
          "output_type": "stream",
          "name": "stderr",
          "text": [
            "\r 73%|███████▎  | 79/108 [35:48<11:33, 23.90s/it]"
          ]
        },
        {
          "output_type": "stream",
          "name": "stdout",
          "text": [
            "Epoch 5/5, Train Loss: 1.7587, Train Accuracy: 20.76%, Validation Loss: 1.7661, Validation Accuracy: 19.94\n",
            "Hyperparameters: LR=0.01, Optimizer=SGD, Loss=CrossEntropyLoss, Batch Size=128, Embedding Dim=100, Test Loss: 1.7447, Test Accuracy: 20.27\n",
            "Epoch 1/5, Train Loss: 1.7655, Train Accuracy: 19.71%, Validation Loss: 1.7866, Validation Accuracy: 19.47\n",
            "Epoch 2/5, Train Loss: 1.7627, Train Accuracy: 19.94%, Validation Loss: 1.7649, Validation Accuracy: 19.55\n",
            "Epoch 3/5, Train Loss: 1.7633, Train Accuracy: 20.33%, Validation Loss: 1.7641, Validation Accuracy: 20.64\n",
            "Epoch 4/5, Train Loss: 1.7609, Train Accuracy: 20.82%, Validation Loss: 1.7805, Validation Accuracy: 19.31\n"
          ]
        },
        {
          "output_type": "stream",
          "name": "stderr",
          "text": [
            "\r 74%|███████▍  | 80/108 [36:11<11:03, 23.68s/it]"
          ]
        },
        {
          "output_type": "stream",
          "name": "stdout",
          "text": [
            "Epoch 5/5, Train Loss: 1.7592, Train Accuracy: 19.76%, Validation Loss: 1.8038, Validation Accuracy: 19.31\n",
            "Hyperparameters: LR=0.01, Optimizer=SGD, Loss=CrossEntropyLoss, Batch Size=128, Embedding Dim=200, Test Loss: 1.7751, Test Accuracy: 20.81\n",
            "Epoch 1/5, Train Loss: 1.7715, Train Accuracy: 19.41%, Validation Loss: 1.7744, Validation Accuracy: 20.56\n",
            "Epoch 2/5, Train Loss: 1.7665, Train Accuracy: 19.79%, Validation Loss: 1.8039, Validation Accuracy: 18.30\n",
            "Epoch 3/5, Train Loss: 1.7642, Train Accuracy: 20.29%, Validation Loss: 1.8293, Validation Accuracy: 13.16\n",
            "Epoch 4/5, Train Loss: 1.7656, Train Accuracy: 19.62%, Validation Loss: 1.7882, Validation Accuracy: 21.73\n",
            "Epoch 5/5, Train Loss: 1.7628, Train Accuracy: 20.06%, Validation Loss: 1.8491, Validation Accuracy: 19.31\n"
          ]
        },
        {
          "output_type": "stream",
          "name": "stderr",
          "text": [
            "\r 75%|███████▌  | 81/108 [36:49<12:35, 27.97s/it]"
          ]
        },
        {
          "output_type": "stream",
          "name": "stdout",
          "text": [
            "Hyperparameters: LR=0.01, Optimizer=SGD, Loss=CrossEntropyLoss, Batch Size=128, Embedding Dim=300, Test Loss: 1.8333, Test Accuracy: 20.81\n",
            "Epoch 1/5, Train Loss: 1.2166, Train Accuracy: 19.39%, Validation Loss: 1.2188, Validation Accuracy: 18.85\n",
            "Epoch 2/5, Train Loss: 1.2139, Train Accuracy: 19.79%, Validation Loss: 1.2170, Validation Accuracy: 18.69\n",
            "Epoch 3/5, Train Loss: 1.2102, Train Accuracy: 20.15%, Validation Loss: 1.2127, Validation Accuracy: 20.64\n",
            "Epoch 4/5, Train Loss: 1.2081, Train Accuracy: 20.79%, Validation Loss: 1.2201, Validation Accuracy: 20.40\n",
            "Epoch 5/5, Train Loss: 1.2048, Train Accuracy: 20.41%, Validation Loss: 1.2092, Validation Accuracy: 21.81\n"
          ]
        },
        {
          "output_type": "stream",
          "name": "stderr",
          "text": [
            "\r 76%|███████▌  | 82/108 [37:12<11:29, 26.50s/it]"
          ]
        },
        {
          "output_type": "stream",
          "name": "stdout",
          "text": [
            "Hyperparameters: LR=0.01, Optimizer=SGD, Loss=FocalLoss, Batch Size=32, Embedding Dim=100, Test Loss: 1.1861, Test Accuracy: 21.59\n",
            "Epoch 1/5, Train Loss: 1.2301, Train Accuracy: 19.36%, Validation Loss: 1.2538, Validation Accuracy: 19.31\n",
            "Epoch 2/5, Train Loss: 1.2247, Train Accuracy: 18.91%, Validation Loss: 1.2280, Validation Accuracy: 19.24\n",
            "Epoch 3/5, Train Loss: 1.2146, Train Accuracy: 19.59%, Validation Loss: 1.2215, Validation Accuracy: 19.31\n",
            "Epoch 4/5, Train Loss: 1.2102, Train Accuracy: 20.91%, Validation Loss: 1.2195, Validation Accuracy: 19.31\n",
            "Epoch 5/5, Train Loss: 1.2084, Train Accuracy: 20.44%, Validation Loss: 1.2165, Validation Accuracy: 19.55\n"
          ]
        },
        {
          "output_type": "stream",
          "name": "stderr",
          "text": [
            "\r 77%|███████▋  | 83/108 [37:39<11:06, 26.66s/it]"
          ]
        },
        {
          "output_type": "stream",
          "name": "stdout",
          "text": [
            "Hyperparameters: LR=0.01, Optimizer=SGD, Loss=FocalLoss, Batch Size=32, Embedding Dim=200, Test Loss: 1.2067, Test Accuracy: 19.41\n",
            "Epoch 1/5, Train Loss: 1.2487, Train Accuracy: 18.99%, Validation Loss: 1.2426, Validation Accuracy: 19.31\n",
            "Epoch 2/5, Train Loss: 1.2213, Train Accuracy: 20.02%, Validation Loss: 1.2180, Validation Accuracy: 20.48\n",
            "Epoch 3/5, Train Loss: 1.2155, Train Accuracy: 20.00%, Validation Loss: 1.2435, Validation Accuracy: 19.31\n",
            "Epoch 4/5, Train Loss: 1.2099, Train Accuracy: 20.64%, Validation Loss: 1.2201, Validation Accuracy: 21.50\n",
            "Epoch 5/5, Train Loss: 1.2084, Train Accuracy: 21.01%, Validation Loss: 1.2097, Validation Accuracy: 21.50\n"
          ]
        },
        {
          "output_type": "stream",
          "name": "stderr",
          "text": [
            "\r 78%|███████▊  | 84/108 [38:17<11:59, 30.00s/it]"
          ]
        },
        {
          "output_type": "stream",
          "name": "stdout",
          "text": [
            "Hyperparameters: LR=0.01, Optimizer=SGD, Loss=FocalLoss, Batch Size=32, Embedding Dim=300, Test Loss: 1.1905, Test Accuracy: 21.67\n",
            "Epoch 1/5, Train Loss: 1.2147, Train Accuracy: 19.03%, Validation Loss: 1.2135, Validation Accuracy: 19.86\n",
            "Epoch 2/5, Train Loss: 1.2096, Train Accuracy: 20.00%, Validation Loss: 1.2323, Validation Accuracy: 18.61\n",
            "Epoch 3/5, Train Loss: 1.2096, Train Accuracy: 20.39%, Validation Loss: 1.2042, Validation Accuracy: 20.64\n",
            "Epoch 4/5, Train Loss: 1.2073, Train Accuracy: 19.78%, Validation Loss: 1.2180, Validation Accuracy: 19.31\n"
          ]
        },
        {
          "output_type": "stream",
          "name": "stderr",
          "text": [
            "\r 79%|███████▊  | 85/108 [38:30<09:37, 25.12s/it]"
          ]
        },
        {
          "output_type": "stream",
          "name": "stdout",
          "text": [
            "Epoch 5/5, Train Loss: 1.2072, Train Accuracy: 20.25%, Validation Loss: 1.2116, Validation Accuracy: 19.31\n",
            "Hyperparameters: LR=0.01, Optimizer=SGD, Loss=FocalLoss, Batch Size=64, Embedding Dim=100, Test Loss: 1.1954, Test Accuracy: 20.65\n",
            "Epoch 1/5, Train Loss: 1.2187, Train Accuracy: 20.33%, Validation Loss: 1.2441, Validation Accuracy: 19.55\n",
            "Epoch 2/5, Train Loss: 1.2177, Train Accuracy: 19.46%, Validation Loss: 1.2586, Validation Accuracy: 13.16\n",
            "Epoch 3/5, Train Loss: 1.2167, Train Accuracy: 19.88%, Validation Loss: 1.2521, Validation Accuracy: 19.31\n",
            "Epoch 4/5, Train Loss: 1.2117, Train Accuracy: 20.14%, Validation Loss: 1.2496, Validation Accuracy: 19.55\n"
          ]
        },
        {
          "output_type": "stream",
          "name": "stderr",
          "text": [
            "\r 80%|███████▉  | 86/108 [38:53<08:53, 24.25s/it]"
          ]
        },
        {
          "output_type": "stream",
          "name": "stdout",
          "text": [
            "Epoch 5/5, Train Loss: 1.2072, Train Accuracy: 20.75%, Validation Loss: 1.2329, Validation Accuracy: 18.07\n",
            "Hyperparameters: LR=0.01, Optimizer=SGD, Loss=FocalLoss, Batch Size=64, Embedding Dim=200, Test Loss: 1.2051, Test Accuracy: 21.12\n",
            "Epoch 1/5, Train Loss: 1.2321, Train Accuracy: 19.14%, Validation Loss: 1.3073, Validation Accuracy: 20.64\n",
            "Epoch 2/5, Train Loss: 1.2263, Train Accuracy: 19.68%, Validation Loss: 1.2843, Validation Accuracy: 19.55\n",
            "Epoch 3/5, Train Loss: 1.2191, Train Accuracy: 19.76%, Validation Loss: 1.3046, Validation Accuracy: 18.46\n",
            "Epoch 4/5, Train Loss: 1.2150, Train Accuracy: 20.21%, Validation Loss: 1.2123, Validation Accuracy: 22.20\n",
            "Epoch 5/5, Train Loss: 1.2149, Train Accuracy: 20.28%, Validation Loss: 1.2385, Validation Accuracy: 20.87\n"
          ]
        },
        {
          "output_type": "stream",
          "name": "stderr",
          "text": [
            "\r 81%|████████  | 87/108 [39:28<09:37, 27.52s/it]"
          ]
        },
        {
          "output_type": "stream",
          "name": "stdout",
          "text": [
            "Hyperparameters: LR=0.01, Optimizer=SGD, Loss=FocalLoss, Batch Size=64, Embedding Dim=300, Test Loss: 1.2145, Test Accuracy: 19.72\n",
            "Epoch 1/5, Train Loss: 1.2189, Train Accuracy: 19.56%, Validation Loss: 1.2102, Validation Accuracy: 20.72\n",
            "Epoch 2/5, Train Loss: 1.2094, Train Accuracy: 20.08%, Validation Loss: 1.2071, Validation Accuracy: 18.30\n",
            "Epoch 3/5, Train Loss: 1.2069, Train Accuracy: 20.10%, Validation Loss: 1.2159, Validation Accuracy: 21.03\n",
            "Epoch 4/5, Train Loss: 1.2063, Train Accuracy: 19.86%, Validation Loss: 1.2388, Validation Accuracy: 19.31\n"
          ]
        },
        {
          "output_type": "stream",
          "name": "stderr",
          "text": [
            "\r 81%|████████▏ | 88/108 [39:41<07:45, 23.27s/it]"
          ]
        },
        {
          "output_type": "stream",
          "name": "stdout",
          "text": [
            "Epoch 5/5, Train Loss: 1.2046, Train Accuracy: 20.16%, Validation Loss: 1.2322, Validation Accuracy: 21.50\n",
            "Hyperparameters: LR=0.01, Optimizer=SGD, Loss=FocalLoss, Batch Size=128, Embedding Dim=100, Test Loss: 1.2041, Test Accuracy: 21.04\n",
            "Epoch 1/5, Train Loss: 1.2167, Train Accuracy: 19.16%, Validation Loss: 1.2530, Validation Accuracy: 19.63\n",
            "Epoch 2/5, Train Loss: 1.2144, Train Accuracy: 19.35%, Validation Loss: 1.2183, Validation Accuracy: 22.12\n",
            "Epoch 3/5, Train Loss: 1.2121, Train Accuracy: 19.51%, Validation Loss: 1.2541, Validation Accuracy: 21.11\n",
            "Epoch 4/5, Train Loss: 1.2108, Train Accuracy: 20.27%, Validation Loss: 1.2516, Validation Accuracy: 19.63\n"
          ]
        },
        {
          "output_type": "stream",
          "name": "stderr",
          "text": [
            "\r 82%|████████▏ | 89/108 [40:04<07:21, 23.26s/it]"
          ]
        },
        {
          "output_type": "stream",
          "name": "stdout",
          "text": [
            "Epoch 5/5, Train Loss: 1.2105, Train Accuracy: 19.97%, Validation Loss: 1.2205, Validation Accuracy: 19.24\n",
            "Hyperparameters: LR=0.01, Optimizer=SGD, Loss=FocalLoss, Batch Size=128, Embedding Dim=200, Test Loss: 1.2025, Test Accuracy: 20.89\n",
            "Epoch 1/5, Train Loss: 1.2216, Train Accuracy: 19.82%, Validation Loss: 1.2598, Validation Accuracy: 21.50\n",
            "Epoch 2/5, Train Loss: 1.2143, Train Accuracy: 19.86%, Validation Loss: 1.2301, Validation Accuracy: 18.46\n",
            "Epoch 3/5, Train Loss: 1.2146, Train Accuracy: 19.38%, Validation Loss: 1.2991, Validation Accuracy: 19.55\n",
            "Epoch 4/5, Train Loss: 1.2121, Train Accuracy: 20.60%, Validation Loss: 1.2469, Validation Accuracy: 18.30\n",
            "Epoch 5/5, Train Loss: 1.2120, Train Accuracy: 20.19%, Validation Loss: 1.2060, Validation Accuracy: 21.73\n"
          ]
        },
        {
          "output_type": "stream",
          "name": "stderr",
          "text": [
            "\r 83%|████████▎ | 90/108 [40:43<08:18, 27.72s/it]"
          ]
        },
        {
          "output_type": "stream",
          "name": "stdout",
          "text": [
            "Hyperparameters: LR=0.01, Optimizer=SGD, Loss=FocalLoss, Batch Size=128, Embedding Dim=300, Test Loss: 1.1838, Test Accuracy: 20.42\n",
            "Epoch 1/5, Train Loss: 1.8902, Train Accuracy: 19.64%, Validation Loss: 1.7650, Validation Accuracy: 19.31\n",
            "Epoch 2/5, Train Loss: 1.7616, Train Accuracy: 20.06%, Validation Loss: 1.7610, Validation Accuracy: 20.48\n",
            "Epoch 3/5, Train Loss: 1.7605, Train Accuracy: 20.63%, Validation Loss: 1.7770, Validation Accuracy: 19.31\n",
            "Epoch 4/5, Train Loss: 1.7605, Train Accuracy: 19.96%, Validation Loss: 1.7637, Validation Accuracy: 19.55\n"
          ]
        },
        {
          "output_type": "stream",
          "name": "stderr",
          "text": [
            "\r 84%|████████▍ | 91/108 [41:13<08:05, 28.55s/it]"
          ]
        },
        {
          "output_type": "stream",
          "name": "stdout",
          "text": [
            "Epoch 5/5, Train Loss: 1.7609, Train Accuracy: 19.25%, Validation Loss: 1.7642, Validation Accuracy: 19.31\n",
            "Hyperparameters: LR=0.01, Optimizer=RMSprop, Loss=CrossEntropyLoss, Batch Size=32, Embedding Dim=100, Test Loss: 1.7504, Test Accuracy: 20.81\n",
            "Epoch 1/5, Train Loss: 2.1796, Train Accuracy: 19.07%, Validation Loss: 1.8003, Validation Accuracy: 20.48\n",
            "Epoch 2/5, Train Loss: 1.7661, Train Accuracy: 19.48%, Validation Loss: 1.7657, Validation Accuracy: 19.55\n",
            "Epoch 3/5, Train Loss: 1.7638, Train Accuracy: 19.52%, Validation Loss: 1.7652, Validation Accuracy: 19.55\n",
            "Epoch 4/5, Train Loss: 1.7625, Train Accuracy: 20.06%, Validation Loss: 1.7625, Validation Accuracy: 19.31\n"
          ]
        },
        {
          "output_type": "stream",
          "name": "stderr",
          "text": [
            "\r 85%|████████▌ | 92/108 [41:42<07:40, 28.78s/it]"
          ]
        },
        {
          "output_type": "stream",
          "name": "stdout",
          "text": [
            "Epoch 5/5, Train Loss: 1.7624, Train Accuracy: 19.50%, Validation Loss: 1.7621, Validation Accuracy: 20.48\n",
            "Hyperparameters: LR=0.01, Optimizer=RMSprop, Loss=CrossEntropyLoss, Batch Size=32, Embedding Dim=200, Test Loss: 1.7486, Test Accuracy: 19.49\n",
            "Epoch 1/5, Train Loss: 2.4826, Train Accuracy: 18.37%, Validation Loss: 1.8031, Validation Accuracy: 20.48\n",
            "Epoch 2/5, Train Loss: 1.7660, Train Accuracy: 19.89%, Validation Loss: 1.7709, Validation Accuracy: 19.31\n",
            "Epoch 3/5, Train Loss: 1.7648, Train Accuracy: 19.94%, Validation Loss: 1.7658, Validation Accuracy: 19.55\n",
            "Epoch 4/5, Train Loss: 1.7652, Train Accuracy: 19.89%, Validation Loss: 1.7767, Validation Accuracy: 19.55\n",
            "Epoch 5/5, Train Loss: 1.7642, Train Accuracy: 19.91%, Validation Loss: 1.7634, Validation Accuracy: 19.31\n"
          ]
        },
        {
          "output_type": "stream",
          "name": "stderr",
          "text": [
            "\r 86%|████████▌ | 93/108 [42:27<08:24, 33.64s/it]"
          ]
        },
        {
          "output_type": "stream",
          "name": "stdout",
          "text": [
            "Hyperparameters: LR=0.01, Optimizer=RMSprop, Loss=CrossEntropyLoss, Batch Size=32, Embedding Dim=300, Test Loss: 1.7492, Test Accuracy: 20.81\n",
            "Epoch 1/5, Train Loss: 2.0572, Train Accuracy: 19.41%, Validation Loss: 1.8146, Validation Accuracy: 19.55\n",
            "Epoch 2/5, Train Loss: 1.7693, Train Accuracy: 19.88%, Validation Loss: 1.8217, Validation Accuracy: 19.55\n",
            "Epoch 3/5, Train Loss: 1.7623, Train Accuracy: 20.05%, Validation Loss: 1.7751, Validation Accuracy: 19.31\n",
            "Epoch 4/5, Train Loss: 1.7616, Train Accuracy: 20.16%, Validation Loss: 1.7701, Validation Accuracy: 19.31\n"
          ]
        },
        {
          "output_type": "stream",
          "name": "stderr",
          "text": [
            "\r 87%|████████▋ | 94/108 [42:43<06:34, 28.15s/it]"
          ]
        },
        {
          "output_type": "stream",
          "name": "stdout",
          "text": [
            "Epoch 5/5, Train Loss: 1.7606, Train Accuracy: 19.88%, Validation Loss: 1.7633, Validation Accuracy: 19.55\n",
            "Hyperparameters: LR=0.01, Optimizer=RMSprop, Loss=CrossEntropyLoss, Batch Size=64, Embedding Dim=100, Test Loss: 1.7577, Test Accuracy: 19.41\n",
            "Epoch 1/5, Train Loss: 2.4361, Train Accuracy: 18.60%, Validation Loss: 1.8256, Validation Accuracy: 20.48\n",
            "Epoch 2/5, Train Loss: 1.7760, Train Accuracy: 19.04%, Validation Loss: 1.7829, Validation Accuracy: 13.16\n",
            "Epoch 3/5, Train Loss: 1.7624, Train Accuracy: 20.26%, Validation Loss: 1.7710, Validation Accuracy: 19.31\n",
            "Epoch 4/5, Train Loss: 1.7607, Train Accuracy: 19.77%, Validation Loss: 1.7695, Validation Accuracy: 20.48\n"
          ]
        },
        {
          "output_type": "stream",
          "name": "stderr",
          "text": [
            "\r 88%|████████▊ | 95/108 [43:08<05:55, 27.38s/it]"
          ]
        },
        {
          "output_type": "stream",
          "name": "stdout",
          "text": [
            "Epoch 5/5, Train Loss: 1.7633, Train Accuracy: 19.67%, Validation Loss: 1.7627, Validation Accuracy: 19.55\n",
            "Hyperparameters: LR=0.01, Optimizer=RMSprop, Loss=CrossEntropyLoss, Batch Size=64, Embedding Dim=200, Test Loss: 1.7524, Test Accuracy: 19.41\n",
            "Epoch 1/5, Train Loss: 3.0132, Train Accuracy: 18.29%, Validation Loss: 1.8666, Validation Accuracy: 19.31\n",
            "Epoch 2/5, Train Loss: 1.7907, Train Accuracy: 18.80%, Validation Loss: 1.8020, Validation Accuracy: 18.46\n",
            "Epoch 3/5, Train Loss: 1.7705, Train Accuracy: 19.43%, Validation Loss: 1.7716, Validation Accuracy: 19.31\n",
            "Epoch 4/5, Train Loss: 1.7625, Train Accuracy: 19.80%, Validation Loss: 1.7724, Validation Accuracy: 20.48\n",
            "Epoch 5/5, Train Loss: 1.7618, Train Accuracy: 20.17%, Validation Loss: 1.7722, Validation Accuracy: 19.55\n"
          ]
        },
        {
          "output_type": "stream",
          "name": "stderr",
          "text": [
            "\r 89%|████████▉ | 96/108 [43:44<06:00, 30.04s/it]"
          ]
        },
        {
          "output_type": "stream",
          "name": "stdout",
          "text": [
            "Hyperparameters: LR=0.01, Optimizer=RMSprop, Loss=CrossEntropyLoss, Batch Size=64, Embedding Dim=300, Test Loss: 1.7615, Test Accuracy: 19.41\n",
            "Epoch 1/5, Train Loss: 2.2949, Train Accuracy: 19.06%, Validation Loss: 1.8074, Validation Accuracy: 20.48\n",
            "Epoch 2/5, Train Loss: 1.7835, Train Accuracy: 19.14%, Validation Loss: 1.8083, Validation Accuracy: 20.48\n",
            "Epoch 3/5, Train Loss: 1.7719, Train Accuracy: 19.87%, Validation Loss: 1.7980, Validation Accuracy: 19.31\n",
            "Epoch 4/5, Train Loss: 1.7663, Train Accuracy: 19.28%, Validation Loss: 1.7692, Validation Accuracy: 19.31\n"
          ]
        },
        {
          "output_type": "stream",
          "name": "stderr",
          "text": [
            "\r 90%|████████▉ | 97/108 [43:59<04:38, 25.35s/it]"
          ]
        },
        {
          "output_type": "stream",
          "name": "stdout",
          "text": [
            "Epoch 5/5, Train Loss: 1.7624, Train Accuracy: 19.69%, Validation Loss: 1.7674, Validation Accuracy: 19.55\n",
            "Hyperparameters: LR=0.01, Optimizer=RMSprop, Loss=CrossEntropyLoss, Batch Size=128, Embedding Dim=100, Test Loss: 1.7671, Test Accuracy: 19.41\n",
            "Epoch 1/5, Train Loss: 3.3679, Train Accuracy: 18.49%, Validation Loss: 2.1526, Validation Accuracy: 9.03\n",
            "Epoch 2/5, Train Loss: 1.7988, Train Accuracy: 19.08%, Validation Loss: 1.8902, Validation Accuracy: 19.31\n",
            "Epoch 3/5, Train Loss: 1.7859, Train Accuracy: 18.99%, Validation Loss: 1.7996, Validation Accuracy: 20.48\n",
            "Epoch 4/5, Train Loss: 1.7760, Train Accuracy: 19.11%, Validation Loss: 1.8361, Validation Accuracy: 19.31\n"
          ]
        },
        {
          "output_type": "stream",
          "name": "stderr",
          "text": [
            "\r 91%|█████████ | 98/108 [44:24<04:12, 25.23s/it]"
          ]
        },
        {
          "output_type": "stream",
          "name": "stdout",
          "text": [
            "Epoch 5/5, Train Loss: 1.7686, Train Accuracy: 19.14%, Validation Loss: 1.7813, Validation Accuracy: 18.46\n",
            "Hyperparameters: LR=0.01, Optimizer=RMSprop, Loss=CrossEntropyLoss, Batch Size=128, Embedding Dim=200, Test Loss: 1.7698, Test Accuracy: 16.68\n",
            "Epoch 1/5, Train Loss: 4.1003, Train Accuracy: 17.66%, Validation Loss: 2.1970, Validation Accuracy: 19.55\n",
            "Epoch 2/5, Train Loss: 1.8152, Train Accuracy: 19.47%, Validation Loss: 1.8837, Validation Accuracy: 20.48\n",
            "Epoch 3/5, Train Loss: 1.7885, Train Accuracy: 19.57%, Validation Loss: 1.8493, Validation Accuracy: 19.55\n",
            "Epoch 4/5, Train Loss: 1.7838, Train Accuracy: 19.07%, Validation Loss: 1.7871, Validation Accuracy: 19.55\n",
            "Epoch 5/5, Train Loss: 1.7707, Train Accuracy: 19.67%, Validation Loss: 1.7874, Validation Accuracy: 13.16\n"
          ]
        },
        {
          "output_type": "stream",
          "name": "stderr",
          "text": [
            "\r 92%|█████████▏| 99/108 [45:02<04:22, 29.18s/it]"
          ]
        },
        {
          "output_type": "stream",
          "name": "stdout",
          "text": [
            "Hyperparameters: LR=0.01, Optimizer=RMSprop, Loss=CrossEntropyLoss, Batch Size=128, Embedding Dim=300, Test Loss: 1.7895, Test Accuracy: 16.45\n",
            "Epoch 1/5, Train Loss: 1.3755, Train Accuracy: 19.10%, Validation Loss: 1.2118, Validation Accuracy: 19.31\n",
            "Epoch 2/5, Train Loss: 1.2095, Train Accuracy: 19.70%, Validation Loss: 1.2207, Validation Accuracy: 20.48\n",
            "Epoch 3/5, Train Loss: 1.2091, Train Accuracy: 19.83%, Validation Loss: 1.2155, Validation Accuracy: 19.31\n",
            "Epoch 4/5, Train Loss: 1.2076, Train Accuracy: 19.93%, Validation Loss: 1.2148, Validation Accuracy: 19.31\n",
            "Epoch 5/5, Train Loss: 1.2083, Train Accuracy: 20.19%, Validation Loss: 1.2125, Validation Accuracy: 19.31\n"
          ]
        },
        {
          "output_type": "stream",
          "name": "stderr",
          "text": [
            "\r 93%|█████████▎| 100/108 [45:26<03:40, 27.57s/it]"
          ]
        },
        {
          "output_type": "stream",
          "name": "stdout",
          "text": [
            "Hyperparameters: LR=0.01, Optimizer=RMSprop, Loss=FocalLoss, Batch Size=32, Embedding Dim=100, Test Loss: 1.1974, Test Accuracy: 20.81\n",
            "Epoch 1/5, Train Loss: 1.5889, Train Accuracy: 18.63%, Validation Loss: 1.2539, Validation Accuracy: 19.31\n",
            "Epoch 2/5, Train Loss: 1.2120, Train Accuracy: 20.46%, Validation Loss: 1.2317, Validation Accuracy: 19.31\n",
            "Epoch 3/5, Train Loss: 1.2108, Train Accuracy: 19.95%, Validation Loss: 1.2141, Validation Accuracy: 19.31\n",
            "Epoch 4/5, Train Loss: 1.2102, Train Accuracy: 20.19%, Validation Loss: 1.2125, Validation Accuracy: 20.48\n",
            "Epoch 5/5, Train Loss: 1.2088, Train Accuracy: 20.41%, Validation Loss: 1.2051, Validation Accuracy: 19.55\n"
          ]
        },
        {
          "output_type": "stream",
          "name": "stderr",
          "text": [
            "\r 94%|█████████▎| 101/108 [45:55<03:15, 27.96s/it]"
          ]
        },
        {
          "output_type": "stream",
          "name": "stdout",
          "text": [
            "Hyperparameters: LR=0.01, Optimizer=RMSprop, Loss=FocalLoss, Batch Size=32, Embedding Dim=200, Test Loss: 1.1936, Test Accuracy: 19.41\n",
            "Epoch 1/5, Train Loss: 1.8477, Train Accuracy: 18.84%, Validation Loss: 1.2044, Validation Accuracy: 19.55\n",
            "Epoch 2/5, Train Loss: 1.2146, Train Accuracy: 19.47%, Validation Loss: 1.2280, Validation Accuracy: 20.48\n",
            "Epoch 3/5, Train Loss: 1.2141, Train Accuracy: 20.25%, Validation Loss: 1.2123, Validation Accuracy: 19.31\n",
            "Epoch 4/5, Train Loss: 1.2145, Train Accuracy: 19.47%, Validation Loss: 1.2120, Validation Accuracy: 19.31\n",
            "Epoch 5/5, Train Loss: 1.2106, Train Accuracy: 19.64%, Validation Loss: 1.2102, Validation Accuracy: 20.48\n"
          ]
        },
        {
          "output_type": "stream",
          "name": "stderr",
          "text": [
            "\r 94%|█████████▍| 102/108 [46:35<03:09, 31.62s/it]"
          ]
        },
        {
          "output_type": "stream",
          "name": "stdout",
          "text": [
            "Hyperparameters: LR=0.01, Optimizer=RMSprop, Loss=FocalLoss, Batch Size=32, Embedding Dim=300, Test Loss: 1.1985, Test Accuracy: 19.49\n",
            "Epoch 1/5, Train Loss: 1.4786, Train Accuracy: 18.20%, Validation Loss: 1.2226, Validation Accuracy: 18.46\n",
            "Epoch 2/5, Train Loss: 1.2142, Train Accuracy: 19.48%, Validation Loss: 1.2075, Validation Accuracy: 20.48\n",
            "Epoch 3/5, Train Loss: 1.2075, Train Accuracy: 20.00%, Validation Loss: 1.2259, Validation Accuracy: 19.31\n",
            "Epoch 4/5, Train Loss: 1.2065, Train Accuracy: 19.92%, Validation Loss: 1.2106, Validation Accuracy: 19.55\n"
          ]
        },
        {
          "output_type": "stream",
          "name": "stderr",
          "text": [
            "\r 95%|█████████▌| 103/108 [46:49<02:11, 26.39s/it]"
          ]
        },
        {
          "output_type": "stream",
          "name": "stdout",
          "text": [
            "Epoch 5/5, Train Loss: 1.2072, Train Accuracy: 19.85%, Validation Loss: 1.2115, Validation Accuracy: 19.31\n",
            "Hyperparameters: LR=0.01, Optimizer=RMSprop, Loss=FocalLoss, Batch Size=64, Embedding Dim=100, Test Loss: 1.2011, Test Accuracy: 20.81\n",
            "Epoch 1/5, Train Loss: 1.9884, Train Accuracy: 18.93%, Validation Loss: 1.3233, Validation Accuracy: 20.48\n",
            "Epoch 2/5, Train Loss: 1.2390, Train Accuracy: 18.36%, Validation Loss: 1.2112, Validation Accuracy: 20.48\n",
            "Epoch 3/5, Train Loss: 1.2156, Train Accuracy: 19.49%, Validation Loss: 1.2044, Validation Accuracy: 20.48\n",
            "Epoch 4/5, Train Loss: 1.2081, Train Accuracy: 19.83%, Validation Loss: 1.2038, Validation Accuracy: 19.55\n"
          ]
        },
        {
          "output_type": "stream",
          "name": "stderr",
          "text": [
            "\r 96%|█████████▋| 104/108 [47:12<01:41, 25.31s/it]"
          ]
        },
        {
          "output_type": "stream",
          "name": "stdout",
          "text": [
            "Epoch 5/5, Train Loss: 1.2088, Train Accuracy: 20.35%, Validation Loss: 1.2306, Validation Accuracy: 19.55\n",
            "Hyperparameters: LR=0.01, Optimizer=RMSprop, Loss=FocalLoss, Batch Size=64, Embedding Dim=200, Test Loss: 1.2095, Test Accuracy: 19.41\n",
            "Epoch 1/5, Train Loss: 2.6073, Train Accuracy: 19.40%, Validation Loss: 1.2260, Validation Accuracy: 19.55\n",
            "Epoch 2/5, Train Loss: 1.2381, Train Accuracy: 19.13%, Validation Loss: 1.2389, Validation Accuracy: 18.46\n",
            "Epoch 3/5, Train Loss: 1.2134, Train Accuracy: 19.50%, Validation Loss: 1.2263, Validation Accuracy: 19.31\n",
            "Epoch 4/5, Train Loss: 1.2089, Train Accuracy: 20.19%, Validation Loss: 1.2187, Validation Accuracy: 20.48\n",
            "Epoch 5/5, Train Loss: 1.2067, Train Accuracy: 20.29%, Validation Loss: 1.2126, Validation Accuracy: 19.55\n"
          ]
        },
        {
          "output_type": "stream",
          "name": "stderr",
          "text": [
            "\r 97%|█████████▋| 105/108 [47:48<01:25, 28.44s/it]"
          ]
        },
        {
          "output_type": "stream",
          "name": "stdout",
          "text": [
            "Hyperparameters: LR=0.01, Optimizer=RMSprop, Loss=FocalLoss, Batch Size=64, Embedding Dim=300, Test Loss: 1.2089, Test Accuracy: 19.41\n",
            "Epoch 1/5, Train Loss: 1.7573, Train Accuracy: 18.16%, Validation Loss: 1.4107, Validation Accuracy: 20.48\n",
            "Epoch 2/5, Train Loss: 1.2244, Train Accuracy: 19.40%, Validation Loss: 1.3172, Validation Accuracy: 19.31\n",
            "Epoch 3/5, Train Loss: 1.2176, Train Accuracy: 19.10%, Validation Loss: 1.2185, Validation Accuracy: 19.31\n",
            "Epoch 4/5, Train Loss: 1.2110, Train Accuracy: 19.95%, Validation Loss: 1.2037, Validation Accuracy: 20.48\n"
          ]
        },
        {
          "output_type": "stream",
          "name": "stderr",
          "text": [
            "\r 98%|█████████▊| 106/108 [48:01<00:47, 23.94s/it]"
          ]
        },
        {
          "output_type": "stream",
          "name": "stdout",
          "text": [
            "Epoch 5/5, Train Loss: 1.2080, Train Accuracy: 20.34%, Validation Loss: 1.2049, Validation Accuracy: 20.48\n",
            "Hyperparameters: LR=0.01, Optimizer=RMSprop, Loss=FocalLoss, Batch Size=128, Embedding Dim=100, Test Loss: 1.1907, Test Accuracy: 19.49\n",
            "Epoch 1/5, Train Loss: 2.5910, Train Accuracy: 18.51%, Validation Loss: 1.4331, Validation Accuracy: 18.46\n",
            "Epoch 2/5, Train Loss: 1.2301, Train Accuracy: 19.62%, Validation Loss: 1.2560, Validation Accuracy: 20.48\n",
            "Epoch 3/5, Train Loss: 1.2213, Train Accuracy: 20.03%, Validation Loss: 1.2443, Validation Accuracy: 19.31\n",
            "Epoch 4/5, Train Loss: 1.2177, Train Accuracy: 19.31%, Validation Loss: 1.2326, Validation Accuracy: 19.55\n"
          ]
        },
        {
          "output_type": "stream",
          "name": "stderr",
          "text": [
            "\r 99%|█████████▉| 107/108 [48:25<00:23, 23.79s/it]"
          ]
        },
        {
          "output_type": "stream",
          "name": "stdout",
          "text": [
            "Epoch 5/5, Train Loss: 1.2121, Train Accuracy: 19.28%, Validation Loss: 1.2100, Validation Accuracy: 20.48\n",
            "Hyperparameters: LR=0.01, Optimizer=RMSprop, Loss=FocalLoss, Batch Size=128, Embedding Dim=200, Test Loss: 1.1876, Test Accuracy: 19.49\n",
            "Epoch 1/5, Train Loss: 3.3173, Train Accuracy: 18.40%, Validation Loss: 1.9271, Validation Accuracy: 19.31\n",
            "Epoch 2/5, Train Loss: 1.2675, Train Accuracy: 18.93%, Validation Loss: 1.6104, Validation Accuracy: 18.46\n",
            "Epoch 3/5, Train Loss: 1.2367, Train Accuracy: 18.31%, Validation Loss: 1.2303, Validation Accuracy: 20.48\n",
            "Epoch 4/5, Train Loss: 1.2173, Train Accuracy: 19.53%, Validation Loss: 1.2062, Validation Accuracy: 18.46\n",
            "Epoch 5/5, Train Loss: 1.2132, Train Accuracy: 19.05%, Validation Loss: 1.2411, Validation Accuracy: 20.48\n"
          ]
        },
        {
          "output_type": "stream",
          "name": "stderr",
          "text": [
            "100%|██████████| 108/108 [49:03<00:00, 27.25s/it]"
          ]
        },
        {
          "output_type": "stream",
          "name": "stdout",
          "text": [
            "Hyperparameters: LR=0.01, Optimizer=RMSprop, Loss=FocalLoss, Batch Size=128, Embedding Dim=300, Test Loss: 1.2098, Test Accuracy: 19.49\n"
          ]
        },
        {
          "output_type": "stream",
          "name": "stderr",
          "text": [
            "\n"
          ]
        }
      ]
    },
    {
      "cell_type": "code",
      "source": [
        "# saving the best Transformer model of all the hyperparameter combinations on Google Drive\n",
        "\n",
        "drive_file_path = '/content/drive/MyDrive/Models/best_transformer_model6.pth'\n",
        "\n",
        "torch.save(best_model, drive_file_path)\n",
        "print(\"Best Transformer model saved.\")"
      ],
      "metadata": {
        "colab": {
          "base_uri": "https://localhost:8080/"
        },
        "id": "0gcWPGo9xiHx",
        "outputId": "8b3db9eb-4515-45a8-8797-ed35b45de093"
      },
      "execution_count": 26,
      "outputs": [
        {
          "output_type": "stream",
          "name": "stdout",
          "text": [
            "Best Transformer model saved.\n"
          ]
        }
      ]
    },
    {
      "cell_type": "code",
      "source": [
        "# sorting all the hyperparameter combinations on Transformer Model based on 'Test Accuracy', and displaying the top 10 rows\n",
        "\n",
        "petransformer_df = pd.DataFrame(results)\n",
        "petransformer_df = petransformer_df.sort_values(by='Test Accuracy', ascending=False)\n",
        "\n",
        "petransformer_df.head(10)"
      ],
      "metadata": {
        "colab": {
          "base_uri": "https://localhost:8080/",
          "height": 363
        },
        "outputId": "0f8d4445-6e5f-46af-f9db-56c249cc209a",
        "id": "0HOuESZTdD6q"
      },
      "execution_count": 27,
      "outputs": [
        {
          "output_type": "execute_result",
          "data": {
            "text/plain": [
              "    Learning Rate Optimizer     Loss Function  Batch Size  Embedding Dim  \\\n",
              "15          0.001      Adam         FocalLoss         128            100   \n",
              "3           0.001      Adam  CrossEntropyLoss          64            100   \n",
              "6           0.001      Adam  CrossEntropyLoss         128            100   \n",
              "12          0.001      Adam         FocalLoss          64            100   \n",
              "83          0.010       SGD         FocalLoss          32            300   \n",
              "81          0.010       SGD         FocalLoss          32            100   \n",
              "74          0.010       SGD  CrossEntropyLoss          32            300   \n",
              "72          0.010       SGD  CrossEntropyLoss          32            100   \n",
              "20          0.001       SGD  CrossEntropyLoss          32            300   \n",
              "85          0.010       SGD         FocalLoss          64            200   \n",
              "\n",
              "    Test Accuracy  \n",
              "15       0.227592  \n",
              "3        0.226033  \n",
              "6        0.219797  \n",
              "12       0.216680  \n",
              "83       0.216680  \n",
              "81       0.215900  \n",
              "74       0.214341  \n",
              "72       0.212783  \n",
              "20       0.212783  \n",
              "85       0.211224  "
            ],
            "text/html": [
              "\n",
              "  <div id=\"df-48516f50-a068-42b8-807f-c8f858740365\" class=\"colab-df-container\">\n",
              "    <div>\n",
              "<style scoped>\n",
              "    .dataframe tbody tr th:only-of-type {\n",
              "        vertical-align: middle;\n",
              "    }\n",
              "\n",
              "    .dataframe tbody tr th {\n",
              "        vertical-align: top;\n",
              "    }\n",
              "\n",
              "    .dataframe thead th {\n",
              "        text-align: right;\n",
              "    }\n",
              "</style>\n",
              "<table border=\"1\" class=\"dataframe\">\n",
              "  <thead>\n",
              "    <tr style=\"text-align: right;\">\n",
              "      <th></th>\n",
              "      <th>Learning Rate</th>\n",
              "      <th>Optimizer</th>\n",
              "      <th>Loss Function</th>\n",
              "      <th>Batch Size</th>\n",
              "      <th>Embedding Dim</th>\n",
              "      <th>Test Accuracy</th>\n",
              "    </tr>\n",
              "  </thead>\n",
              "  <tbody>\n",
              "    <tr>\n",
              "      <th>15</th>\n",
              "      <td>0.001</td>\n",
              "      <td>Adam</td>\n",
              "      <td>FocalLoss</td>\n",
              "      <td>128</td>\n",
              "      <td>100</td>\n",
              "      <td>0.227592</td>\n",
              "    </tr>\n",
              "    <tr>\n",
              "      <th>3</th>\n",
              "      <td>0.001</td>\n",
              "      <td>Adam</td>\n",
              "      <td>CrossEntropyLoss</td>\n",
              "      <td>64</td>\n",
              "      <td>100</td>\n",
              "      <td>0.226033</td>\n",
              "    </tr>\n",
              "    <tr>\n",
              "      <th>6</th>\n",
              "      <td>0.001</td>\n",
              "      <td>Adam</td>\n",
              "      <td>CrossEntropyLoss</td>\n",
              "      <td>128</td>\n",
              "      <td>100</td>\n",
              "      <td>0.219797</td>\n",
              "    </tr>\n",
              "    <tr>\n",
              "      <th>12</th>\n",
              "      <td>0.001</td>\n",
              "      <td>Adam</td>\n",
              "      <td>FocalLoss</td>\n",
              "      <td>64</td>\n",
              "      <td>100</td>\n",
              "      <td>0.216680</td>\n",
              "    </tr>\n",
              "    <tr>\n",
              "      <th>83</th>\n",
              "      <td>0.010</td>\n",
              "      <td>SGD</td>\n",
              "      <td>FocalLoss</td>\n",
              "      <td>32</td>\n",
              "      <td>300</td>\n",
              "      <td>0.216680</td>\n",
              "    </tr>\n",
              "    <tr>\n",
              "      <th>81</th>\n",
              "      <td>0.010</td>\n",
              "      <td>SGD</td>\n",
              "      <td>FocalLoss</td>\n",
              "      <td>32</td>\n",
              "      <td>100</td>\n",
              "      <td>0.215900</td>\n",
              "    </tr>\n",
              "    <tr>\n",
              "      <th>74</th>\n",
              "      <td>0.010</td>\n",
              "      <td>SGD</td>\n",
              "      <td>CrossEntropyLoss</td>\n",
              "      <td>32</td>\n",
              "      <td>300</td>\n",
              "      <td>0.214341</td>\n",
              "    </tr>\n",
              "    <tr>\n",
              "      <th>72</th>\n",
              "      <td>0.010</td>\n",
              "      <td>SGD</td>\n",
              "      <td>CrossEntropyLoss</td>\n",
              "      <td>32</td>\n",
              "      <td>100</td>\n",
              "      <td>0.212783</td>\n",
              "    </tr>\n",
              "    <tr>\n",
              "      <th>20</th>\n",
              "      <td>0.001</td>\n",
              "      <td>SGD</td>\n",
              "      <td>CrossEntropyLoss</td>\n",
              "      <td>32</td>\n",
              "      <td>300</td>\n",
              "      <td>0.212783</td>\n",
              "    </tr>\n",
              "    <tr>\n",
              "      <th>85</th>\n",
              "      <td>0.010</td>\n",
              "      <td>SGD</td>\n",
              "      <td>FocalLoss</td>\n",
              "      <td>64</td>\n",
              "      <td>200</td>\n",
              "      <td>0.211224</td>\n",
              "    </tr>\n",
              "  </tbody>\n",
              "</table>\n",
              "</div>\n",
              "    <div class=\"colab-df-buttons\">\n",
              "\n",
              "  <div class=\"colab-df-container\">\n",
              "    <button class=\"colab-df-convert\" onclick=\"convertToInteractive('df-48516f50-a068-42b8-807f-c8f858740365')\"\n",
              "            title=\"Convert this dataframe to an interactive table.\"\n",
              "            style=\"display:none;\">\n",
              "\n",
              "  <svg xmlns=\"http://www.w3.org/2000/svg\" height=\"24px\" viewBox=\"0 -960 960 960\">\n",
              "    <path d=\"M120-120v-720h720v720H120Zm60-500h600v-160H180v160Zm220 220h160v-160H400v160Zm0 220h160v-160H400v160ZM180-400h160v-160H180v160Zm440 0h160v-160H620v160ZM180-180h160v-160H180v160Zm440 0h160v-160H620v160Z\"/>\n",
              "  </svg>\n",
              "    </button>\n",
              "\n",
              "  <style>\n",
              "    .colab-df-container {\n",
              "      display:flex;\n",
              "      gap: 12px;\n",
              "    }\n",
              "\n",
              "    .colab-df-convert {\n",
              "      background-color: #E8F0FE;\n",
              "      border: none;\n",
              "      border-radius: 50%;\n",
              "      cursor: pointer;\n",
              "      display: none;\n",
              "      fill: #1967D2;\n",
              "      height: 32px;\n",
              "      padding: 0 0 0 0;\n",
              "      width: 32px;\n",
              "    }\n",
              "\n",
              "    .colab-df-convert:hover {\n",
              "      background-color: #E2EBFA;\n",
              "      box-shadow: 0px 1px 2px rgba(60, 64, 67, 0.3), 0px 1px 3px 1px rgba(60, 64, 67, 0.15);\n",
              "      fill: #174EA6;\n",
              "    }\n",
              "\n",
              "    .colab-df-buttons div {\n",
              "      margin-bottom: 4px;\n",
              "    }\n",
              "\n",
              "    [theme=dark] .colab-df-convert {\n",
              "      background-color: #3B4455;\n",
              "      fill: #D2E3FC;\n",
              "    }\n",
              "\n",
              "    [theme=dark] .colab-df-convert:hover {\n",
              "      background-color: #434B5C;\n",
              "      box-shadow: 0px 1px 3px 1px rgba(0, 0, 0, 0.15);\n",
              "      filter: drop-shadow(0px 1px 2px rgba(0, 0, 0, 0.3));\n",
              "      fill: #FFFFFF;\n",
              "    }\n",
              "  </style>\n",
              "\n",
              "    <script>\n",
              "      const buttonEl =\n",
              "        document.querySelector('#df-48516f50-a068-42b8-807f-c8f858740365 button.colab-df-convert');\n",
              "      buttonEl.style.display =\n",
              "        google.colab.kernel.accessAllowed ? 'block' : 'none';\n",
              "\n",
              "      async function convertToInteractive(key) {\n",
              "        const element = document.querySelector('#df-48516f50-a068-42b8-807f-c8f858740365');\n",
              "        const dataTable =\n",
              "          await google.colab.kernel.invokeFunction('convertToInteractive',\n",
              "                                                    [key], {});\n",
              "        if (!dataTable) return;\n",
              "\n",
              "        const docLinkHtml = 'Like what you see? Visit the ' +\n",
              "          '<a target=\"_blank\" href=https://colab.research.google.com/notebooks/data_table.ipynb>data table notebook</a>'\n",
              "          + ' to learn more about interactive tables.';\n",
              "        element.innerHTML = '';\n",
              "        dataTable['output_type'] = 'display_data';\n",
              "        await google.colab.output.renderOutput(dataTable, element);\n",
              "        const docLink = document.createElement('div');\n",
              "        docLink.innerHTML = docLinkHtml;\n",
              "        element.appendChild(docLink);\n",
              "      }\n",
              "    </script>\n",
              "  </div>\n",
              "\n",
              "\n",
              "<div id=\"df-658d252b-d7b8-423f-8bc9-e16b3deed9cb\">\n",
              "  <button class=\"colab-df-quickchart\" onclick=\"quickchart('df-658d252b-d7b8-423f-8bc9-e16b3deed9cb')\"\n",
              "            title=\"Suggest charts\"\n",
              "            style=\"display:none;\">\n",
              "\n",
              "<svg xmlns=\"http://www.w3.org/2000/svg\" height=\"24px\"viewBox=\"0 0 24 24\"\n",
              "     width=\"24px\">\n",
              "    <g>\n",
              "        <path d=\"M19 3H5c-1.1 0-2 .9-2 2v14c0 1.1.9 2 2 2h14c1.1 0 2-.9 2-2V5c0-1.1-.9-2-2-2zM9 17H7v-7h2v7zm4 0h-2V7h2v10zm4 0h-2v-4h2v4z\"/>\n",
              "    </g>\n",
              "</svg>\n",
              "  </button>\n",
              "\n",
              "<style>\n",
              "  .colab-df-quickchart {\n",
              "      --bg-color: #E8F0FE;\n",
              "      --fill-color: #1967D2;\n",
              "      --hover-bg-color: #E2EBFA;\n",
              "      --hover-fill-color: #174EA6;\n",
              "      --disabled-fill-color: #AAA;\n",
              "      --disabled-bg-color: #DDD;\n",
              "  }\n",
              "\n",
              "  [theme=dark] .colab-df-quickchart {\n",
              "      --bg-color: #3B4455;\n",
              "      --fill-color: #D2E3FC;\n",
              "      --hover-bg-color: #434B5C;\n",
              "      --hover-fill-color: #FFFFFF;\n",
              "      --disabled-bg-color: #3B4455;\n",
              "      --disabled-fill-color: #666;\n",
              "  }\n",
              "\n",
              "  .colab-df-quickchart {\n",
              "    background-color: var(--bg-color);\n",
              "    border: none;\n",
              "    border-radius: 50%;\n",
              "    cursor: pointer;\n",
              "    display: none;\n",
              "    fill: var(--fill-color);\n",
              "    height: 32px;\n",
              "    padding: 0;\n",
              "    width: 32px;\n",
              "  }\n",
              "\n",
              "  .colab-df-quickchart:hover {\n",
              "    background-color: var(--hover-bg-color);\n",
              "    box-shadow: 0 1px 2px rgba(60, 64, 67, 0.3), 0 1px 3px 1px rgba(60, 64, 67, 0.15);\n",
              "    fill: var(--button-hover-fill-color);\n",
              "  }\n",
              "\n",
              "  .colab-df-quickchart-complete:disabled,\n",
              "  .colab-df-quickchart-complete:disabled:hover {\n",
              "    background-color: var(--disabled-bg-color);\n",
              "    fill: var(--disabled-fill-color);\n",
              "    box-shadow: none;\n",
              "  }\n",
              "\n",
              "  .colab-df-spinner {\n",
              "    border: 2px solid var(--fill-color);\n",
              "    border-color: transparent;\n",
              "    border-bottom-color: var(--fill-color);\n",
              "    animation:\n",
              "      spin 1s steps(1) infinite;\n",
              "  }\n",
              "\n",
              "  @keyframes spin {\n",
              "    0% {\n",
              "      border-color: transparent;\n",
              "      border-bottom-color: var(--fill-color);\n",
              "      border-left-color: var(--fill-color);\n",
              "    }\n",
              "    20% {\n",
              "      border-color: transparent;\n",
              "      border-left-color: var(--fill-color);\n",
              "      border-top-color: var(--fill-color);\n",
              "    }\n",
              "    30% {\n",
              "      border-color: transparent;\n",
              "      border-left-color: var(--fill-color);\n",
              "      border-top-color: var(--fill-color);\n",
              "      border-right-color: var(--fill-color);\n",
              "    }\n",
              "    40% {\n",
              "      border-color: transparent;\n",
              "      border-right-color: var(--fill-color);\n",
              "      border-top-color: var(--fill-color);\n",
              "    }\n",
              "    60% {\n",
              "      border-color: transparent;\n",
              "      border-right-color: var(--fill-color);\n",
              "    }\n",
              "    80% {\n",
              "      border-color: transparent;\n",
              "      border-right-color: var(--fill-color);\n",
              "      border-bottom-color: var(--fill-color);\n",
              "    }\n",
              "    90% {\n",
              "      border-color: transparent;\n",
              "      border-bottom-color: var(--fill-color);\n",
              "    }\n",
              "  }\n",
              "</style>\n",
              "\n",
              "  <script>\n",
              "    async function quickchart(key) {\n",
              "      const quickchartButtonEl =\n",
              "        document.querySelector('#' + key + ' button');\n",
              "      quickchartButtonEl.disabled = true;  // To prevent multiple clicks.\n",
              "      quickchartButtonEl.classList.add('colab-df-spinner');\n",
              "      try {\n",
              "        const charts = await google.colab.kernel.invokeFunction(\n",
              "            'suggestCharts', [key], {});\n",
              "      } catch (error) {\n",
              "        console.error('Error during call to suggestCharts:', error);\n",
              "      }\n",
              "      quickchartButtonEl.classList.remove('colab-df-spinner');\n",
              "      quickchartButtonEl.classList.add('colab-df-quickchart-complete');\n",
              "    }\n",
              "    (() => {\n",
              "      let quickchartButtonEl =\n",
              "        document.querySelector('#df-658d252b-d7b8-423f-8bc9-e16b3deed9cb button');\n",
              "      quickchartButtonEl.style.display =\n",
              "        google.colab.kernel.accessAllowed ? 'block' : 'none';\n",
              "    })();\n",
              "  </script>\n",
              "</div>\n",
              "    </div>\n",
              "  </div>\n"
            ]
          },
          "metadata": {},
          "execution_count": 27
        }
      ]
    },
    {
      "cell_type": "code",
      "source": [],
      "metadata": {
        "id": "rch-MAQznFBA"
      },
      "execution_count": null,
      "outputs": []
    },
    {
      "cell_type": "markdown",
      "source": [
        "# BERT Model"
      ],
      "metadata": {
        "id": "the4xV7QnMKW"
      }
    },
    {
      "cell_type": "code",
      "source": [
        "class BertLayer(nn.Module):\n",
        "    def __init__(self, embed_dim, num_heads, hidden_dim):\n",
        "        super(BertLayer, self).__init__()\n",
        "        self.mhatt = nn.MultiheadAttention(embed_dim, num_heads)\n",
        "        self.feedforward = nn.Sequential(\n",
        "            nn.Linear(embed_dim, hidden_dim),\n",
        "            nn.ReLU(),\n",
        "            nn.Linear(hidden_dim, embed_dim)\n",
        "        )\n",
        "        self.ln1 = nn.LayerNorm(embed_dim)\n",
        "        self.ln2 = nn.LayerNorm(embed_dim)\n",
        "\n",
        "    def forward(self, x):\n",
        "        atop, unknown = self.mhatt(x, x, x)\n",
        "        x = x + atop\n",
        "        x = self.ln1(x)\n",
        "        ffop = self.feedforward(x)\n",
        "        x = x + ffop\n",
        "        x = self.ln2(x)\n",
        "        return x\n",
        "\n",
        "class BERTModel(nn.Module):\n",
        "    def __init__(self, vocab_size, embedding_dim, num_heads, hidden_dim, num_layers, output_dim):\n",
        "        super(BERTModel, self).__init__()\n",
        "        self.embedding = nn.Embedding(vocab_size, embedding_dim)\n",
        "        self.berts = nn.ModuleList([BertLayer(embedding_dim, num_heads, hidden_dim) for unkown in range(num_layers)])\n",
        "        self.fc = nn.Linear(embedding_dim, output_dim)\n",
        "\n",
        "    def forward(self, x):\n",
        "        x = self.embedding(x)\n",
        "        for bert in self.berts:\n",
        "            x = bert(x)\n",
        "        x = x.mean(dim=1)\n",
        "        x = self.fc(x)\n",
        "        return x\n",
        "\n",
        "# Define hyperparameters for the model where some of them can be changed later\n",
        "vocab_size = len(Vocab)\n",
        "embedding_dim = 50\n",
        "num_heads = 5\n",
        "hidden_dim = 128\n",
        "num_layers = 3\n",
        "output_dim = 6\n",
        "\n",
        "# Define Model and print the architecture of the model\n",
        "model = BERTModel(vocab_size, embedding_dim, num_heads, hidden_dim, num_layers, output_dim)\n",
        "print(model)"
      ],
      "metadata": {
        "colab": {
          "base_uri": "https://localhost:8080/"
        },
        "id": "-5XJzGzynPZI",
        "outputId": "f7d60a76-4c35-4832-c68a-a445da5a762d"
      },
      "execution_count": 28,
      "outputs": [
        {
          "output_type": "stream",
          "name": "stdout",
          "text": [
            "BERTModel(\n",
            "  (embedding): Embedding(14286, 50)\n",
            "  (berts): ModuleList(\n",
            "    (0-2): 3 x BertLayer(\n",
            "      (mhatt): MultiheadAttention(\n",
            "        (out_proj): NonDynamicallyQuantizableLinear(in_features=50, out_features=50, bias=True)\n",
            "      )\n",
            "      (feedforward): Sequential(\n",
            "        (0): Linear(in_features=50, out_features=128, bias=True)\n",
            "        (1): ReLU()\n",
            "        (2): Linear(in_features=128, out_features=50, bias=True)\n",
            "      )\n",
            "      (ln1): LayerNorm((50,), eps=1e-05, elementwise_affine=True)\n",
            "      (ln2): LayerNorm((50,), eps=1e-05, elementwise_affine=True)\n",
            "    )\n",
            "  )\n",
            "  (fc): Linear(in_features=50, out_features=6, bias=True)\n",
            ")\n"
          ]
        }
      ]
    },
    {
      "cell_type": "code",
      "source": [
        "device = torch.device(\"cuda\" if torch.cuda.is_available() else \"cpu\")\n",
        "\n",
        "# Training each model on these cobination of hyperparameters\n",
        "learning_rates = [0.001, 0.01]\n",
        "optimizers = ['Adam', 'SGD', 'RMSprop']\n",
        "loss_functions = [nn.CrossEntropyLoss(), FocalLoss(gamma=2)]\n",
        "batch_sizes = [32, 64, 128]\n",
        "embedding_dims = [100, 200, 300]\n",
        "\n",
        "combinations = list(itertools.product(learning_rates, optimizers, loss_functions, batch_sizes, embedding_dims))\n",
        "\n",
        "results = []\n",
        "best_accuracy = 0.0\n",
        "best_hyperparameters = None\n",
        "best_model = None\n",
        "\n",
        "for combination in tqdm(combinations):\n",
        "    learning_rate, optimizer_name, loss_fn, batch_size, embedding_dim = combination\n",
        "\n",
        "    # create a model for each of the hyperparameter combination, train and evaluate on test data\n",
        "    model = BERTModel(vocab_size, embedding_dim, num_heads, hidden_dim, num_layers, output_dim)\n",
        "    model.to(device)\n",
        "\n",
        "    # set the optimizer and loss function\n",
        "    optimizer = get_optimizer(optimizer_name, model.parameters(), learning_rate)\n",
        "    criterion = loss_fn\n",
        "\n",
        "    # Loaders are used to efficiently iterate over the datasets in batches during the training and evaluation processes\n",
        "    train_loader = DataLoader(train_dataset, batch_size=batch_size, shuffle=True)\n",
        "    val_loader = DataLoader(val_dataset, batch_size=batch_size, shuffle=False)\n",
        "    test_loader = DataLoader(test_dataset, batch_size=batch_size, shuffle=False)\n",
        "\n",
        "    num_epochs = 5\n",
        "    for epoch in range(num_epochs):\n",
        "        model.train()\n",
        "        training_loss = 0.0\n",
        "        training_corrects = 0\n",
        "        training_count = 0\n",
        "\n",
        "        # Model Training\n",
        "        for i, data in enumerate(train_loader, 0):\n",
        "            inputs, labels = data\n",
        "            inputs, labels = inputs.to(device), labels.to(device)\n",
        "            # print(inputs)\n",
        "            # print(labels)\n",
        "\n",
        "            optimizer.zero_grad()\n",
        "            outputs = model(inputs)\n",
        "            # print(outputs)\n",
        "\n",
        "            loss = criterion(outputs, labels)\n",
        "            loss.backward()\n",
        "            training_loss += loss.item()\n",
        "\n",
        "            optimizer.step()\n",
        "\n",
        "            x, preds = torch.max(outputs.data, 1)\n",
        "            # print(preds)\n",
        "\n",
        "            training_count += labels.size(0)\n",
        "            training_corrects += torch.sum(preds == labels).item()\n",
        "\n",
        "        # calculate the average loss and accuracy for the each training epoch\n",
        "        train_epoch_loss = training_loss / len(train_loader)\n",
        "        train_epoch_accuracy = training_corrects / training_count\n",
        "\n",
        "\n",
        "\n",
        "        # Model Validation on data that it hasn't seen during training and adjust hyperparameters\n",
        "        model.eval()\n",
        "        validation_loss = 0.0\n",
        "        validation_corrects = 0\n",
        "        validation_count = 0\n",
        "\n",
        "        with torch.no_grad():\n",
        "            for i, data in enumerate(val_loader, 0):\n",
        "                inputs, labels = data\n",
        "                inputs, labels = inputs.to(device), labels.to(device)\n",
        "                outputs = model(inputs)\n",
        "                # print(inputs)\n",
        "                # print(labels)\n",
        "                # print(outputs)\n",
        "\n",
        "                loss = criterion(outputs, labels)\n",
        "                validation_loss += loss.item()\n",
        "\n",
        "                x, preds = torch.max(outputs.data, 1)\n",
        "                # print(preds)\n",
        "\n",
        "                validation_count += labels.size(0)\n",
        "                validation_corrects += torch.sum(preds == labels).item()\n",
        "\n",
        "        # calculate the average loss and accuracy for the each validation epoch\n",
        "        val_epoch_loss = validation_loss / len(val_loader)\n",
        "        val_epoch_accuracy = validation_corrects / validation_count\n",
        "\n",
        "        print(f\"Epoch {epoch + 1}/{num_epochs}, \"\n",
        "              f\"Train Loss: {train_epoch_loss:.4f}, Train Accuracy: {train_epoch_accuracy * 100:.2f}%, \"\n",
        "              f\"Validation Loss: {val_epoch_loss:.4f}, Validation Accuracy: {val_epoch_accuracy * 100:.2f}\")\n",
        "\n",
        "\n",
        "\n",
        "    # Testing the accuracy of the model on test data\n",
        "    test_loss = 0.0\n",
        "    test_corrects = 0\n",
        "    test_count = 0\n",
        "    with torch.no_grad():\n",
        "        for i, data in enumerate(test_loader, 0):\n",
        "            inputs, labels = data\n",
        "            inputs, labels = inputs.to(device), labels.to(device)\n",
        "            outputs = model(inputs)\n",
        "            # print(inputs)\n",
        "            # print(labels)\n",
        "            # print(outputs)\n",
        "\n",
        "            loss = criterion(outputs, labels)\n",
        "            test_loss += loss.item()\n",
        "\n",
        "            x, preds = torch.max(outputs.data, 1)\n",
        "            # print(preds)\n",
        "\n",
        "            test_count += labels.size(0)\n",
        "            test_corrects += torch.sum(preds == labels).item()\n",
        "\n",
        "    # calculate the average test_loss and test_accuracy on the training data\n",
        "    average_test_loss = test_loss / len(test_loader)\n",
        "    average_test_accuracy = test_corrects / test_count\n",
        "\n",
        "    result = {\n",
        "        'Learning Rate': learning_rate,\n",
        "        'Optimizer': optimizer_name,\n",
        "        'Loss Function': loss_fn.__class__.__name__,\n",
        "        'Batch Size': batch_size,\n",
        "        'Embedding Dim': embedding_dim,\n",
        "        'Test Accuracy': average_test_accuracy\n",
        "    }\n",
        "    results.append(result)\n",
        "    # Add each hyperparameter combination with the test accuracy tp results list for later analysis\n",
        "\n",
        "    print(f\"Hyperparameters: LR={learning_rate}, Optimizer={optimizer_name}, Loss={loss_fn.__class__.__name__}, \"\n",
        "          f\"Batch Size={batch_size}, Embedding Dim={embedding_dim}, \"\n",
        "          f\"Test Loss: {average_test_loss:.4f}, Test Accuracy: {average_test_accuracy * 100:.2f}\")\n",
        "\n",
        "    # The best-performing model and its associated hyperparameters are stored for later analysis\n",
        "    if average_test_accuracy > best_accuracy:\n",
        "        best_accuracy = average_test_accuracy\n",
        "        best_hyperparameters = combination\n",
        "        best_model = model.state_dict()\n",
        "\n"
      ],
      "metadata": {
        "colab": {
          "base_uri": "https://localhost:8080/"
        },
        "id": "OYWuqReY3DLC",
        "outputId": "da9e1d19-6986-40da-b845-e6e00ddd8a92"
      },
      "execution_count": 29,
      "outputs": [
        {
          "output_type": "stream",
          "name": "stderr",
          "text": [
            "\r  0%|          | 0/108 [00:00<?, ?it/s]"
          ]
        },
        {
          "output_type": "stream",
          "name": "stdout",
          "text": [
            "Epoch 1/5, Train Loss: 1.7612, Train Accuracy: 21.60%, Validation Loss: 1.7368, Validation Accuracy: 22.98\n",
            "Epoch 2/5, Train Loss: 1.7125, Train Accuracy: 23.71%, Validation Loss: 1.7158, Validation Accuracy: 24.69\n",
            "Epoch 3/5, Train Loss: 1.6776, Train Accuracy: 25.78%, Validation Loss: 1.7202, Validation Accuracy: 23.36\n",
            "Epoch 4/5, Train Loss: 1.6359, Train Accuracy: 28.91%, Validation Loss: 1.7491, Validation Accuracy: 24.45\n"
          ]
        },
        {
          "output_type": "stream",
          "name": "stderr",
          "text": [
            "\r  1%|          | 1/108 [00:13<24:18, 13.63s/it]"
          ]
        },
        {
          "output_type": "stream",
          "name": "stdout",
          "text": [
            "Epoch 5/5, Train Loss: 1.5953, Train Accuracy: 32.08%, Validation Loss: 1.7410, Validation Accuracy: 25.08\n",
            "Hyperparameters: LR=0.001, Optimizer=Adam, Loss=CrossEntropyLoss, Batch Size=32, Embedding Dim=100, Test Loss: 1.7087, Test Accuracy: 27.83\n",
            "Epoch 1/5, Train Loss: 1.7688, Train Accuracy: 20.62%, Validation Loss: 1.7262, Validation Accuracy: 22.66\n",
            "Epoch 2/5, Train Loss: 1.7269, Train Accuracy: 22.75%, Validation Loss: 1.7375, Validation Accuracy: 20.95\n",
            "Epoch 3/5, Train Loss: 1.7168, Train Accuracy: 24.06%, Validation Loss: 1.7817, Validation Accuracy: 21.11\n",
            "Epoch 4/5, Train Loss: 1.7325, Train Accuracy: 23.15%, Validation Loss: 1.7685, Validation Accuracy: 22.04\n"
          ]
        },
        {
          "output_type": "stream",
          "name": "stderr",
          "text": [
            "\r  2%|▏         | 2/108 [00:29<26:19, 14.90s/it]"
          ]
        },
        {
          "output_type": "stream",
          "name": "stdout",
          "text": [
            "Epoch 5/5, Train Loss: 1.7634, Train Accuracy: 21.04%, Validation Loss: 1.7991, Validation Accuracy: 19.31\n",
            "Hyperparameters: LR=0.001, Optimizer=Adam, Loss=CrossEntropyLoss, Batch Size=32, Embedding Dim=200, Test Loss: 1.7684, Test Accuracy: 20.81\n",
            "Epoch 1/5, Train Loss: 1.7822, Train Accuracy: 19.84%, Validation Loss: 1.7850, Validation Accuracy: 19.86\n",
            "Epoch 2/5, Train Loss: 1.7615, Train Accuracy: 20.51%, Validation Loss: 1.7598, Validation Accuracy: 20.87\n",
            "Epoch 3/5, Train Loss: 1.7640, Train Accuracy: 19.90%, Validation Loss: 1.7640, Validation Accuracy: 17.76\n",
            "Epoch 4/5, Train Loss: 1.7763, Train Accuracy: 19.73%, Validation Loss: 1.7702, Validation Accuracy: 19.31\n"
          ]
        },
        {
          "output_type": "stream",
          "name": "stderr",
          "text": [
            "\r  3%|▎         | 3/108 [00:49<30:31, 17.44s/it]"
          ]
        },
        {
          "output_type": "stream",
          "name": "stdout",
          "text": [
            "Epoch 5/5, Train Loss: 1.7640, Train Accuracy: 19.89%, Validation Loss: 1.7606, Validation Accuracy: 19.31\n",
            "Hyperparameters: LR=0.001, Optimizer=Adam, Loss=CrossEntropyLoss, Batch Size=32, Embedding Dim=300, Test Loss: 1.7508, Test Accuracy: 20.81\n",
            "Epoch 1/5, Train Loss: 1.7706, Train Accuracy: 20.37%, Validation Loss: 1.7694, Validation Accuracy: 19.31\n",
            "Epoch 2/5, Train Loss: 1.7311, Train Accuracy: 24.17%, Validation Loss: 1.7222, Validation Accuracy: 23.21\n",
            "Epoch 3/5, Train Loss: 1.6906, Train Accuracy: 26.90%, Validation Loss: 1.7101, Validation Accuracy: 24.61\n",
            "Epoch 4/5, Train Loss: 1.6535, Train Accuracy: 28.67%, Validation Loss: 1.7168, Validation Accuracy: 27.18\n"
          ]
        },
        {
          "output_type": "stream",
          "name": "stderr",
          "text": [
            "\r  4%|▎         | 4/108 [00:58<24:09, 13.94s/it]"
          ]
        },
        {
          "output_type": "stream",
          "name": "stdout",
          "text": [
            "Epoch 5/5, Train Loss: 1.6079, Train Accuracy: 31.13%, Validation Loss: 1.8085, Validation Accuracy: 25.00\n",
            "Hyperparameters: LR=0.001, Optimizer=Adam, Loss=CrossEntropyLoss, Batch Size=64, Embedding Dim=100, Test Loss: 1.7734, Test Accuracy: 27.05\n",
            "Epoch 1/5, Train Loss: 1.7739, Train Accuracy: 20.31%, Validation Loss: 1.7160, Validation Accuracy: 23.91\n",
            "Epoch 2/5, Train Loss: 1.7137, Train Accuracy: 23.85%, Validation Loss: 1.7211, Validation Accuracy: 23.68\n",
            "Epoch 3/5, Train Loss: 1.6808, Train Accuracy: 26.42%, Validation Loss: 1.7298, Validation Accuracy: 25.55\n",
            "Epoch 4/5, Train Loss: 1.6503, Train Accuracy: 28.22%, Validation Loss: 1.7431, Validation Accuracy: 24.84\n"
          ]
        },
        {
          "output_type": "stream",
          "name": "stderr",
          "text": [
            "\r  5%|▍         | 5/108 [01:10<22:32, 13.13s/it]"
          ]
        },
        {
          "output_type": "stream",
          "name": "stdout",
          "text": [
            "Epoch 5/5, Train Loss: 1.6187, Train Accuracy: 29.76%, Validation Loss: 1.7438, Validation Accuracy: 24.07\n",
            "Hyperparameters: LR=0.001, Optimizer=Adam, Loss=CrossEntropyLoss, Batch Size=64, Embedding Dim=200, Test Loss: 1.7170, Test Accuracy: 24.63\n",
            "Epoch 1/5, Train Loss: 1.7755, Train Accuracy: 21.59%, Validation Loss: 1.7257, Validation Accuracy: 24.38\n",
            "Epoch 2/5, Train Loss: 1.7131, Train Accuracy: 23.98%, Validation Loss: 1.7612, Validation Accuracy: 18.69\n",
            "Epoch 3/5, Train Loss: 1.7087, Train Accuracy: 24.66%, Validation Loss: 1.7381, Validation Accuracy: 23.91\n",
            "Epoch 4/5, Train Loss: 1.7194, Train Accuracy: 23.81%, Validation Loss: 1.7557, Validation Accuracy: 19.78\n"
          ]
        },
        {
          "output_type": "stream",
          "name": "stderr",
          "text": [
            "\r  6%|▌         | 6/108 [01:28<25:29, 15.00s/it]"
          ]
        },
        {
          "output_type": "stream",
          "name": "stdout",
          "text": [
            "Epoch 5/5, Train Loss: 1.7638, Train Accuracy: 20.39%, Validation Loss: 1.7702, Validation Accuracy: 19.55\n",
            "Hyperparameters: LR=0.001, Optimizer=Adam, Loss=CrossEntropyLoss, Batch Size=64, Embedding Dim=300, Test Loss: 1.7493, Test Accuracy: 21.36\n",
            "Epoch 1/5, Train Loss: 1.7655, Train Accuracy: 20.78%, Validation Loss: 1.7489, Validation Accuracy: 22.20\n",
            "Epoch 2/5, Train Loss: 1.7362, Train Accuracy: 22.60%, Validation Loss: 1.7557, Validation Accuracy: 21.65\n",
            "Epoch 3/5, Train Loss: 1.7096, Train Accuracy: 24.40%, Validation Loss: 1.7190, Validation Accuracy: 23.13\n",
            "Epoch 4/5, Train Loss: 1.6724, Train Accuracy: 26.79%, Validation Loss: 1.7085, Validation Accuracy: 25.31\n"
          ]
        },
        {
          "output_type": "stream",
          "name": "stderr",
          "text": [
            "\r  6%|▋         | 7/108 [01:35<20:54, 12.42s/it]"
          ]
        },
        {
          "output_type": "stream",
          "name": "stdout",
          "text": [
            "Epoch 5/5, Train Loss: 1.6430, Train Accuracy: 28.44%, Validation Loss: 1.7253, Validation Accuracy: 24.84\n",
            "Hyperparameters: LR=0.001, Optimizer=Adam, Loss=CrossEntropyLoss, Batch Size=128, Embedding Dim=100, Test Loss: 1.7050, Test Accuracy: 25.80\n",
            "Epoch 1/5, Train Loss: 1.7758, Train Accuracy: 20.86%, Validation Loss: 1.7484, Validation Accuracy: 20.40\n",
            "Epoch 2/5, Train Loss: 1.7311, Train Accuracy: 24.36%, Validation Loss: 1.7259, Validation Accuracy: 22.20\n",
            "Epoch 3/5, Train Loss: 1.6874, Train Accuracy: 25.79%, Validation Loss: 1.7195, Validation Accuracy: 24.45\n",
            "Epoch 4/5, Train Loss: 1.6392, Train Accuracy: 29.57%, Validation Loss: 1.7406, Validation Accuracy: 24.84\n"
          ]
        },
        {
          "output_type": "stream",
          "name": "stderr",
          "text": [
            "\r  7%|▋         | 8/108 [01:47<20:15, 12.15s/it]"
          ]
        },
        {
          "output_type": "stream",
          "name": "stdout",
          "text": [
            "Epoch 5/5, Train Loss: 1.6032, Train Accuracy: 31.68%, Validation Loss: 1.7622, Validation Accuracy: 25.78\n",
            "Hyperparameters: LR=0.001, Optimizer=Adam, Loss=CrossEntropyLoss, Batch Size=128, Embedding Dim=200, Test Loss: 1.7591, Test Accuracy: 25.88\n",
            "Epoch 1/5, Train Loss: 1.8097, Train Accuracy: 20.12%, Validation Loss: 1.7596, Validation Accuracy: 23.29\n",
            "Epoch 2/5, Train Loss: 1.7262, Train Accuracy: 23.61%, Validation Loss: 1.7192, Validation Accuracy: 25.08\n",
            "Epoch 3/5, Train Loss: 1.6857, Train Accuracy: 25.98%, Validation Loss: 1.7086, Validation Accuracy: 23.21\n",
            "Epoch 4/5, Train Loss: 1.6569, Train Accuracy: 27.97%, Validation Loss: 1.7213, Validation Accuracy: 25.55\n"
          ]
        },
        {
          "output_type": "stream",
          "name": "stderr",
          "text": [
            "\r  8%|▊         | 9/108 [02:05<23:00, 13.94s/it]"
          ]
        },
        {
          "output_type": "stream",
          "name": "stdout",
          "text": [
            "Epoch 5/5, Train Loss: 1.6364, Train Accuracy: 29.27%, Validation Loss: 1.7181, Validation Accuracy: 25.08\n",
            "Hyperparameters: LR=0.001, Optimizer=Adam, Loss=CrossEntropyLoss, Batch Size=128, Embedding Dim=300, Test Loss: 1.7163, Test Accuracy: 25.02\n",
            "Epoch 1/5, Train Loss: 1.2114, Train Accuracy: 20.98%, Validation Loss: 1.1829, Validation Accuracy: 22.04\n",
            "Epoch 2/5, Train Loss: 1.1526, Train Accuracy: 24.30%, Validation Loss: 1.1402, Validation Accuracy: 23.99\n",
            "Epoch 3/5, Train Loss: 1.0954, Train Accuracy: 27.32%, Validation Loss: 1.1334, Validation Accuracy: 26.71\n",
            "Epoch 4/5, Train Loss: 1.0502, Train Accuracy: 29.53%, Validation Loss: 1.2203, Validation Accuracy: 25.93\n"
          ]
        },
        {
          "output_type": "stream",
          "name": "stderr",
          "text": [
            "\r  9%|▉         | 10/108 [02:19<22:43, 13.92s/it]"
          ]
        },
        {
          "output_type": "stream",
          "name": "stdout",
          "text": [
            "Epoch 5/5, Train Loss: 1.0061, Train Accuracy: 31.47%, Validation Loss: 1.1874, Validation Accuracy: 23.91\n",
            "Hyperparameters: LR=0.001, Optimizer=Adam, Loss=FocalLoss, Batch Size=32, Embedding Dim=100, Test Loss: 1.1863, Test Accuracy: 24.01\n",
            "Epoch 1/5, Train Loss: 1.2215, Train Accuracy: 20.37%, Validation Loss: 1.1840, Validation Accuracy: 22.20\n",
            "Epoch 2/5, Train Loss: 1.1896, Train Accuracy: 22.16%, Validation Loss: 1.1983, Validation Accuracy: 23.91\n",
            "Epoch 3/5, Train Loss: 1.2004, Train Accuracy: 21.98%, Validation Loss: 1.2305, Validation Accuracy: 19.31\n",
            "Epoch 4/5, Train Loss: 1.2108, Train Accuracy: 20.12%, Validation Loss: 1.2173, Validation Accuracy: 19.86\n"
          ]
        },
        {
          "output_type": "stream",
          "name": "stderr",
          "text": [
            "\r 10%|█         | 11/108 [02:35<23:31, 14.55s/it]"
          ]
        },
        {
          "output_type": "stream",
          "name": "stdout",
          "text": [
            "Epoch 5/5, Train Loss: 1.2071, Train Accuracy: 20.06%, Validation Loss: 1.2164, Validation Accuracy: 18.38\n",
            "Hyperparameters: LR=0.001, Optimizer=Adam, Loss=FocalLoss, Batch Size=32, Embedding Dim=200, Test Loss: 1.1981, Test Accuracy: 19.95\n",
            "Epoch 1/5, Train Loss: 1.2272, Train Accuracy: 20.31%, Validation Loss: 1.1757, Validation Accuracy: 23.44\n",
            "Epoch 2/5, Train Loss: 1.2023, Train Accuracy: 20.88%, Validation Loss: 1.2125, Validation Accuracy: 21.03\n",
            "Epoch 3/5, Train Loss: 1.2088, Train Accuracy: 20.38%, Validation Loss: 1.2165, Validation Accuracy: 19.39\n",
            "Epoch 4/5, Train Loss: 1.2110, Train Accuracy: 20.25%, Validation Loss: 1.2145, Validation Accuracy: 19.00\n"
          ]
        },
        {
          "output_type": "stream",
          "name": "stderr",
          "text": [
            "\r 11%|█         | 12/108 [02:55<26:13, 16.39s/it]"
          ]
        },
        {
          "output_type": "stream",
          "name": "stdout",
          "text": [
            "Epoch 5/5, Train Loss: 1.2075, Train Accuracy: 20.37%, Validation Loss: 1.2075, Validation Accuracy: 21.11\n",
            "Hyperparameters: LR=0.001, Optimizer=Adam, Loss=FocalLoss, Batch Size=32, Embedding Dim=300, Test Loss: 1.1912, Test Accuracy: 22.37\n",
            "Epoch 1/5, Train Loss: 1.2111, Train Accuracy: 20.61%, Validation Loss: 1.1803, Validation Accuracy: 22.82\n",
            "Epoch 2/5, Train Loss: 1.1559, Train Accuracy: 23.60%, Validation Loss: 1.1628, Validation Accuracy: 21.73\n",
            "Epoch 3/5, Train Loss: 1.1119, Train Accuracy: 26.66%, Validation Loss: 1.1588, Validation Accuracy: 24.07\n",
            "Epoch 4/5, Train Loss: 1.0697, Train Accuracy: 28.74%, Validation Loss: 1.1714, Validation Accuracy: 23.36\n"
          ]
        },
        {
          "output_type": "stream",
          "name": "stderr",
          "text": [
            "\r 12%|█▏        | 13/108 [03:04<22:18, 14.09s/it]"
          ]
        },
        {
          "output_type": "stream",
          "name": "stdout",
          "text": [
            "Epoch 5/5, Train Loss: 1.0283, Train Accuracy: 30.97%, Validation Loss: 1.2186, Validation Accuracy: 23.99\n",
            "Hyperparameters: LR=0.001, Optimizer=Adam, Loss=FocalLoss, Batch Size=64, Embedding Dim=100, Test Loss: 1.1733, Test Accuracy: 27.36\n",
            "Epoch 1/5, Train Loss: 1.2138, Train Accuracy: 20.57%, Validation Loss: 1.1743, Validation Accuracy: 24.14\n",
            "Epoch 2/5, Train Loss: 1.1546, Train Accuracy: 24.35%, Validation Loss: 1.1521, Validation Accuracy: 24.07\n",
            "Epoch 3/5, Train Loss: 1.0983, Train Accuracy: 26.75%, Validation Loss: 1.1582, Validation Accuracy: 24.30\n",
            "Epoch 4/5, Train Loss: 1.0695, Train Accuracy: 28.74%, Validation Loss: 1.1780, Validation Accuracy: 23.75\n"
          ]
        },
        {
          "output_type": "stream",
          "name": "stderr",
          "text": [
            "\r 13%|█▎        | 14/108 [03:16<20:59, 13.39s/it]"
          ]
        },
        {
          "output_type": "stream",
          "name": "stdout",
          "text": [
            "Epoch 5/5, Train Loss: 1.0283, Train Accuracy: 30.55%, Validation Loss: 1.2101, Validation Accuracy: 22.20\n",
            "Hyperparameters: LR=0.001, Optimizer=Adam, Loss=FocalLoss, Batch Size=64, Embedding Dim=200, Test Loss: 1.1755, Test Accuracy: 22.84\n",
            "Epoch 1/5, Train Loss: 1.2348, Train Accuracy: 20.60%, Validation Loss: 1.1619, Validation Accuracy: 22.98\n",
            "Epoch 2/5, Train Loss: 1.1565, Train Accuracy: 24.02%, Validation Loss: 1.1617, Validation Accuracy: 22.04\n",
            "Epoch 3/5, Train Loss: 1.1461, Train Accuracy: 24.70%, Validation Loss: 1.1637, Validation Accuracy: 24.84\n",
            "Epoch 4/5, Train Loss: 1.1490, Train Accuracy: 24.19%, Validation Loss: 1.2210, Validation Accuracy: 20.95\n"
          ]
        },
        {
          "output_type": "stream",
          "name": "stderr",
          "text": [
            "\r 14%|█▍        | 15/108 [03:34<22:58, 14.83s/it]"
          ]
        },
        {
          "output_type": "stream",
          "name": "stdout",
          "text": [
            "Epoch 5/5, Train Loss: 1.1862, Train Accuracy: 22.39%, Validation Loss: 1.2431, Validation Accuracy: 19.00\n",
            "Hyperparameters: LR=0.001, Optimizer=Adam, Loss=FocalLoss, Batch Size=64, Embedding Dim=300, Test Loss: 1.2248, Test Accuracy: 18.94\n",
            "Epoch 1/5, Train Loss: 1.2131, Train Accuracy: 20.82%, Validation Loss: 1.2069, Validation Accuracy: 23.29\n",
            "Epoch 2/5, Train Loss: 1.1781, Train Accuracy: 23.03%, Validation Loss: 1.1453, Validation Accuracy: 25.39\n",
            "Epoch 3/5, Train Loss: 1.1351, Train Accuracy: 25.65%, Validation Loss: 1.1410, Validation Accuracy: 24.84\n",
            "Epoch 4/5, Train Loss: 1.1046, Train Accuracy: 27.50%, Validation Loss: 1.1813, Validation Accuracy: 25.62\n"
          ]
        },
        {
          "output_type": "stream",
          "name": "stderr",
          "text": [
            "\r 15%|█▍        | 16/108 [03:41<19:12, 12.53s/it]"
          ]
        },
        {
          "output_type": "stream",
          "name": "stdout",
          "text": [
            "Epoch 5/5, Train Loss: 1.0634, Train Accuracy: 28.86%, Validation Loss: 1.1953, Validation Accuracy: 25.00\n",
            "Hyperparameters: LR=0.001, Optimizer=Adam, Loss=FocalLoss, Batch Size=128, Embedding Dim=100, Test Loss: 1.1712, Test Accuracy: 25.88\n",
            "Epoch 1/5, Train Loss: 1.2310, Train Accuracy: 20.53%, Validation Loss: 1.1867, Validation Accuracy: 22.27\n",
            "Epoch 2/5, Train Loss: 1.1647, Train Accuracy: 23.63%, Validation Loss: 1.1406, Validation Accuracy: 23.52\n",
            "Epoch 3/5, Train Loss: 1.1131, Train Accuracy: 26.20%, Validation Loss: 1.1352, Validation Accuracy: 22.43\n",
            "Epoch 4/5, Train Loss: 1.0630, Train Accuracy: 28.71%, Validation Loss: 1.1901, Validation Accuracy: 24.69\n"
          ]
        },
        {
          "output_type": "stream",
          "name": "stderr",
          "text": [
            "\r 16%|█▌        | 17/108 [03:53<18:33, 12.23s/it]"
          ]
        },
        {
          "output_type": "stream",
          "name": "stdout",
          "text": [
            "Epoch 5/5, Train Loss: 1.0120, Train Accuracy: 31.40%, Validation Loss: 1.1799, Validation Accuracy: 24.84\n",
            "Hyperparameters: LR=0.001, Optimizer=Adam, Loss=FocalLoss, Batch Size=128, Embedding Dim=200, Test Loss: 1.1824, Test Accuracy: 25.33\n",
            "Epoch 1/5, Train Loss: 1.2456, Train Accuracy: 20.81%, Validation Loss: 1.1858, Validation Accuracy: 22.90\n",
            "Epoch 2/5, Train Loss: 1.1523, Train Accuracy: 24.89%, Validation Loss: 1.1532, Validation Accuracy: 25.16\n",
            "Epoch 3/5, Train Loss: 1.1028, Train Accuracy: 27.45%, Validation Loss: 1.2713, Validation Accuracy: 24.84\n",
            "Epoch 4/5, Train Loss: 1.0590, Train Accuracy: 30.08%, Validation Loss: 1.1814, Validation Accuracy: 26.09\n"
          ]
        },
        {
          "output_type": "stream",
          "name": "stderr",
          "text": [
            "\r 17%|█▋        | 18/108 [04:10<20:48, 13.88s/it]"
          ]
        },
        {
          "output_type": "stream",
          "name": "stdout",
          "text": [
            "Epoch 5/5, Train Loss: 1.0277, Train Accuracy: 31.48%, Validation Loss: 1.2652, Validation Accuracy: 25.08\n",
            "Hyperparameters: LR=0.001, Optimizer=Adam, Loss=FocalLoss, Batch Size=128, Embedding Dim=300, Test Loss: 1.2419, Test Accuracy: 25.64\n",
            "Epoch 1/5, Train Loss: 1.7700, Train Accuracy: 19.34%, Validation Loss: 1.7666, Validation Accuracy: 19.70\n",
            "Epoch 2/5, Train Loss: 1.7590, Train Accuracy: 20.05%, Validation Loss: 1.7672, Validation Accuracy: 19.16\n",
            "Epoch 3/5, Train Loss: 1.7584, Train Accuracy: 20.01%, Validation Loss: 1.7639, Validation Accuracy: 19.78\n",
            "Epoch 4/5, Train Loss: 1.7584, Train Accuracy: 20.80%, Validation Loss: 1.7684, Validation Accuracy: 19.63\n"
          ]
        },
        {
          "output_type": "stream",
          "name": "stderr",
          "text": [
            "\r 18%|█▊        | 19/108 [04:23<19:59, 13.47s/it]"
          ]
        },
        {
          "output_type": "stream",
          "name": "stdout",
          "text": [
            "Epoch 5/5, Train Loss: 1.7580, Train Accuracy: 20.00%, Validation Loss: 1.7648, Validation Accuracy: 19.08\n",
            "Hyperparameters: LR=0.001, Optimizer=SGD, Loss=CrossEntropyLoss, Batch Size=32, Embedding Dim=100, Test Loss: 1.7517, Test Accuracy: 21.20\n",
            "Epoch 1/5, Train Loss: 1.7633, Train Accuracy: 20.05%, Validation Loss: 1.7662, Validation Accuracy: 19.94\n",
            "Epoch 2/5, Train Loss: 1.7592, Train Accuracy: 20.64%, Validation Loss: 1.7665, Validation Accuracy: 19.16\n",
            "Epoch 3/5, Train Loss: 1.7585, Train Accuracy: 21.04%, Validation Loss: 1.7670, Validation Accuracy: 20.64\n",
            "Epoch 4/5, Train Loss: 1.7583, Train Accuracy: 20.89%, Validation Loss: 1.7664, Validation Accuracy: 20.64\n"
          ]
        },
        {
          "output_type": "stream",
          "name": "stderr",
          "text": [
            "\r 19%|█▊        | 20/108 [04:37<19:47, 13.49s/it]"
          ]
        },
        {
          "output_type": "stream",
          "name": "stdout",
          "text": [
            "Epoch 5/5, Train Loss: 1.7578, Train Accuracy: 21.01%, Validation Loss: 1.7634, Validation Accuracy: 20.25\n",
            "Hyperparameters: LR=0.001, Optimizer=SGD, Loss=CrossEntropyLoss, Batch Size=32, Embedding Dim=200, Test Loss: 1.7513, Test Accuracy: 20.50\n",
            "Epoch 1/5, Train Loss: 1.7627, Train Accuracy: 20.26%, Validation Loss: 1.7684, Validation Accuracy: 19.39\n",
            "Epoch 2/5, Train Loss: 1.7585, Train Accuracy: 20.81%, Validation Loss: 1.7699, Validation Accuracy: 18.30\n",
            "Epoch 3/5, Train Loss: 1.7579, Train Accuracy: 20.97%, Validation Loss: 1.7635, Validation Accuracy: 19.24\n",
            "Epoch 4/5, Train Loss: 1.7568, Train Accuracy: 21.42%, Validation Loss: 1.7625, Validation Accuracy: 21.81\n"
          ]
        },
        {
          "output_type": "stream",
          "name": "stderr",
          "text": [
            "\r 19%|█▉        | 21/108 [04:54<21:26, 14.78s/it]"
          ]
        },
        {
          "output_type": "stream",
          "name": "stdout",
          "text": [
            "Epoch 5/5, Train Loss: 1.7566, Train Accuracy: 21.57%, Validation Loss: 1.7618, Validation Accuracy: 20.64\n",
            "Hyperparameters: LR=0.001, Optimizer=SGD, Loss=CrossEntropyLoss, Batch Size=32, Embedding Dim=300, Test Loss: 1.7509, Test Accuracy: 23.23\n",
            "Epoch 1/5, Train Loss: 1.7776, Train Accuracy: 18.92%, Validation Loss: 1.7669, Validation Accuracy: 19.55\n",
            "Epoch 2/5, Train Loss: 1.7617, Train Accuracy: 19.28%, Validation Loss: 1.7657, Validation Accuracy: 19.00\n",
            "Epoch 3/5, Train Loss: 1.7611, Train Accuracy: 19.39%, Validation Loss: 1.7655, Validation Accuracy: 18.85\n",
            "Epoch 4/5, Train Loss: 1.7608, Train Accuracy: 19.73%, Validation Loss: 1.7664, Validation Accuracy: 19.24\n"
          ]
        },
        {
          "output_type": "stream",
          "name": "stderr",
          "text": [
            "\r 20%|██        | 22/108 [05:01<17:48, 12.43s/it]"
          ]
        },
        {
          "output_type": "stream",
          "name": "stdout",
          "text": [
            "Epoch 5/5, Train Loss: 1.7608, Train Accuracy: 20.17%, Validation Loss: 1.7651, Validation Accuracy: 19.39\n",
            "Hyperparameters: LR=0.001, Optimizer=SGD, Loss=CrossEntropyLoss, Batch Size=64, Embedding Dim=100, Test Loss: 1.7519, Test Accuracy: 19.88\n",
            "Epoch 1/5, Train Loss: 1.7625, Train Accuracy: 19.43%, Validation Loss: 1.7637, Validation Accuracy: 19.39\n",
            "Epoch 2/5, Train Loss: 1.7588, Train Accuracy: 19.92%, Validation Loss: 1.7651, Validation Accuracy: 20.48\n",
            "Epoch 3/5, Train Loss: 1.7585, Train Accuracy: 20.28%, Validation Loss: 1.7622, Validation Accuracy: 20.25\n",
            "Epoch 4/5, Train Loss: 1.7581, Train Accuracy: 20.20%, Validation Loss: 1.7630, Validation Accuracy: 20.17\n"
          ]
        },
        {
          "output_type": "stream",
          "name": "stderr",
          "text": [
            "\r 21%|██▏       | 23/108 [05:12<17:02, 12.03s/it]"
          ]
        },
        {
          "output_type": "stream",
          "name": "stdout",
          "text": [
            "Epoch 5/5, Train Loss: 1.7576, Train Accuracy: 20.28%, Validation Loss: 1.7639, Validation Accuracy: 20.40\n",
            "Hyperparameters: LR=0.001, Optimizer=SGD, Loss=CrossEntropyLoss, Batch Size=64, Embedding Dim=200, Test Loss: 1.7512, Test Accuracy: 19.02\n",
            "Epoch 1/5, Train Loss: 1.7658, Train Accuracy: 20.17%, Validation Loss: 1.7592, Validation Accuracy: 19.55\n",
            "Epoch 2/5, Train Loss: 1.7562, Train Accuracy: 21.01%, Validation Loss: 1.7614, Validation Accuracy: 19.47\n",
            "Epoch 3/5, Train Loss: 1.7564, Train Accuracy: 20.66%, Validation Loss: 1.7591, Validation Accuracy: 19.39\n",
            "Epoch 4/5, Train Loss: 1.7559, Train Accuracy: 20.96%, Validation Loss: 1.7594, Validation Accuracy: 18.77\n"
          ]
        },
        {
          "output_type": "stream",
          "name": "stderr",
          "text": [
            "\r 22%|██▏       | 24/108 [05:29<18:50, 13.45s/it]"
          ]
        },
        {
          "output_type": "stream",
          "name": "stdout",
          "text": [
            "Epoch 5/5, Train Loss: 1.7551, Train Accuracy: 21.25%, Validation Loss: 1.7572, Validation Accuracy: 20.72\n",
            "Hyperparameters: LR=0.001, Optimizer=SGD, Loss=CrossEntropyLoss, Batch Size=64, Embedding Dim=300, Test Loss: 1.7447, Test Accuracy: 19.56\n",
            "Epoch 1/5, Train Loss: 1.7866, Train Accuracy: 17.08%, Validation Loss: 1.7637, Validation Accuracy: 20.64\n",
            "Epoch 2/5, Train Loss: 1.7612, Train Accuracy: 19.92%, Validation Loss: 1.7586, Validation Accuracy: 19.24\n",
            "Epoch 3/5, Train Loss: 1.7585, Train Accuracy: 20.06%, Validation Loss: 1.7582, Validation Accuracy: 19.55\n",
            "Epoch 4/5, Train Loss: 1.7594, Train Accuracy: 19.97%, Validation Loss: 1.7580, Validation Accuracy: 19.16\n"
          ]
        },
        {
          "output_type": "stream",
          "name": "stderr",
          "text": [
            "\r 23%|██▎       | 25/108 [05:36<15:51, 11.46s/it]"
          ]
        },
        {
          "output_type": "stream",
          "name": "stdout",
          "text": [
            "Epoch 5/5, Train Loss: 1.7584, Train Accuracy: 20.34%, Validation Loss: 1.7578, Validation Accuracy: 19.24\n",
            "Hyperparameters: LR=0.001, Optimizer=SGD, Loss=CrossEntropyLoss, Batch Size=128, Embedding Dim=100, Test Loss: 1.7507, Test Accuracy: 19.49\n",
            "Epoch 1/5, Train Loss: 1.7912, Train Accuracy: 18.06%, Validation Loss: 1.7594, Validation Accuracy: 20.56\n",
            "Epoch 2/5, Train Loss: 1.7590, Train Accuracy: 20.03%, Validation Loss: 1.7565, Validation Accuracy: 21.18\n",
            "Epoch 3/5, Train Loss: 1.7580, Train Accuracy: 20.72%, Validation Loss: 1.7534, Validation Accuracy: 23.05\n",
            "Epoch 4/5, Train Loss: 1.7570, Train Accuracy: 20.03%, Validation Loss: 1.7552, Validation Accuracy: 20.02\n"
          ]
        },
        {
          "output_type": "stream",
          "name": "stderr",
          "text": [
            "\r 24%|██▍       | 26/108 [05:47<15:29, 11.34s/it]"
          ]
        },
        {
          "output_type": "stream",
          "name": "stdout",
          "text": [
            "Epoch 5/5, Train Loss: 1.7566, Train Accuracy: 20.54%, Validation Loss: 1.7548, Validation Accuracy: 22.12\n",
            "Hyperparameters: LR=0.001, Optimizer=SGD, Loss=CrossEntropyLoss, Batch Size=128, Embedding Dim=200, Test Loss: 1.7484, Test Accuracy: 19.49\n",
            "Epoch 1/5, Train Loss: 1.7639, Train Accuracy: 19.81%, Validation Loss: 1.7631, Validation Accuracy: 19.24\n",
            "Epoch 2/5, Train Loss: 1.7589, Train Accuracy: 19.73%, Validation Loss: 1.7618, Validation Accuracy: 19.08\n",
            "Epoch 3/5, Train Loss: 1.7579, Train Accuracy: 20.02%, Validation Loss: 1.7611, Validation Accuracy: 18.93\n",
            "Epoch 4/5, Train Loss: 1.7588, Train Accuracy: 19.96%, Validation Loss: 1.7616, Validation Accuracy: 19.47\n"
          ]
        },
        {
          "output_type": "stream",
          "name": "stderr",
          "text": [
            "\r 25%|██▌       | 27/108 [06:04<17:35, 13.04s/it]"
          ]
        },
        {
          "output_type": "stream",
          "name": "stdout",
          "text": [
            "Epoch 5/5, Train Loss: 1.7575, Train Accuracy: 20.22%, Validation Loss: 1.7595, Validation Accuracy: 19.08\n",
            "Hyperparameters: LR=0.001, Optimizer=SGD, Loss=CrossEntropyLoss, Batch Size=128, Embedding Dim=300, Test Loss: 1.7516, Test Accuracy: 21.51\n",
            "Epoch 1/5, Train Loss: 1.2090, Train Accuracy: 21.82%, Validation Loss: 1.2072, Validation Accuracy: 22.82\n",
            "Epoch 2/5, Train Loss: 1.2024, Train Accuracy: 22.00%, Validation Loss: 1.2094, Validation Accuracy: 21.34\n",
            "Epoch 3/5, Train Loss: 1.2018, Train Accuracy: 21.76%, Validation Loss: 1.2082, Validation Accuracy: 21.42\n",
            "Epoch 4/5, Train Loss: 1.2015, Train Accuracy: 21.88%, Validation Loss: 1.2053, Validation Accuracy: 22.59\n"
          ]
        },
        {
          "output_type": "stream",
          "name": "stderr",
          "text": [
            "\r 26%|██▌       | 28/108 [06:17<17:15, 12.95s/it]"
          ]
        },
        {
          "output_type": "stream",
          "name": "stdout",
          "text": [
            "Epoch 5/5, Train Loss: 1.2014, Train Accuracy: 22.12%, Validation Loss: 1.2064, Validation Accuracy: 22.82\n",
            "Hyperparameters: LR=0.001, Optimizer=SGD, Loss=FocalLoss, Batch Size=32, Embedding Dim=100, Test Loss: 1.1942, Test Accuracy: 21.12\n",
            "Epoch 1/5, Train Loss: 1.2176, Train Accuracy: 20.55%, Validation Loss: 1.2148, Validation Accuracy: 20.87\n",
            "Epoch 2/5, Train Loss: 1.2044, Train Accuracy: 21.00%, Validation Loss: 1.2105, Validation Accuracy: 22.27\n",
            "Epoch 3/5, Train Loss: 1.2040, Train Accuracy: 20.97%, Validation Loss: 1.2129, Validation Accuracy: 22.90\n",
            "Epoch 4/5, Train Loss: 1.2041, Train Accuracy: 21.00%, Validation Loss: 1.2144, Validation Accuracy: 22.59\n"
          ]
        },
        {
          "output_type": "stream",
          "name": "stderr",
          "text": [
            "\r 27%|██▋       | 29/108 [06:31<17:32, 13.33s/it]"
          ]
        },
        {
          "output_type": "stream",
          "name": "stdout",
          "text": [
            "Epoch 5/5, Train Loss: 1.2030, Train Accuracy: 21.64%, Validation Loss: 1.2123, Validation Accuracy: 21.88\n",
            "Hyperparameters: LR=0.001, Optimizer=SGD, Loss=FocalLoss, Batch Size=32, Embedding Dim=200, Test Loss: 1.1904, Test Accuracy: 21.90\n",
            "Epoch 1/5, Train Loss: 1.2119, Train Accuracy: 20.55%, Validation Loss: 1.2094, Validation Accuracy: 20.64\n",
            "Epoch 2/5, Train Loss: 1.2049, Train Accuracy: 20.43%, Validation Loss: 1.2112, Validation Accuracy: 21.34\n",
            "Epoch 3/5, Train Loss: 1.2036, Train Accuracy: 20.88%, Validation Loss: 1.2146, Validation Accuracy: 19.63\n",
            "Epoch 4/5, Train Loss: 1.2032, Train Accuracy: 21.18%, Validation Loss: 1.2125, Validation Accuracy: 19.31\n"
          ]
        },
        {
          "output_type": "stream",
          "name": "stderr",
          "text": [
            "\r 28%|██▊       | 30/108 [06:49<19:05, 14.69s/it]"
          ]
        },
        {
          "output_type": "stream",
          "name": "stdout",
          "text": [
            "Epoch 5/5, Train Loss: 1.2023, Train Accuracy: 21.60%, Validation Loss: 1.2095, Validation Accuracy: 21.26\n",
            "Hyperparameters: LR=0.001, Optimizer=SGD, Loss=FocalLoss, Batch Size=32, Embedding Dim=300, Test Loss: 1.1974, Test Accuracy: 21.43\n",
            "Epoch 1/5, Train Loss: 1.2242, Train Accuracy: 21.32%, Validation Loss: 1.2146, Validation Accuracy: 20.17\n",
            "Epoch 2/5, Train Loss: 1.2046, Train Accuracy: 21.14%, Validation Loss: 1.2152, Validation Accuracy: 20.17\n",
            "Epoch 3/5, Train Loss: 1.2040, Train Accuracy: 21.05%, Validation Loss: 1.2165, Validation Accuracy: 20.25\n",
            "Epoch 4/5, Train Loss: 1.2033, Train Accuracy: 21.21%, Validation Loss: 1.2161, Validation Accuracy: 19.78\n"
          ]
        },
        {
          "output_type": "stream",
          "name": "stderr",
          "text": [
            "\r 29%|██▊       | 31/108 [06:57<16:10, 12.60s/it]"
          ]
        },
        {
          "output_type": "stream",
          "name": "stdout",
          "text": [
            "Epoch 5/5, Train Loss: 1.2030, Train Accuracy: 20.64%, Validation Loss: 1.2153, Validation Accuracy: 19.86\n",
            "Hyperparameters: LR=0.001, Optimizer=SGD, Loss=FocalLoss, Batch Size=64, Embedding Dim=100, Test Loss: 1.1934, Test Accuracy: 21.43\n",
            "Epoch 1/5, Train Loss: 1.2265, Train Accuracy: 19.49%, Validation Loss: 1.2092, Validation Accuracy: 18.38\n",
            "Epoch 2/5, Train Loss: 1.2067, Train Accuracy: 19.48%, Validation Loss: 1.2083, Validation Accuracy: 17.99\n",
            "Epoch 3/5, Train Loss: 1.2059, Train Accuracy: 19.83%, Validation Loss: 1.2098, Validation Accuracy: 18.69\n",
            "Epoch 4/5, Train Loss: 1.2063, Train Accuracy: 19.63%, Validation Loss: 1.2084, Validation Accuracy: 18.85\n"
          ]
        },
        {
          "output_type": "stream",
          "name": "stderr",
          "text": [
            "\r 30%|██▉       | 32/108 [07:07<15:19, 12.10s/it]"
          ]
        },
        {
          "output_type": "stream",
          "name": "stdout",
          "text": [
            "Epoch 5/5, Train Loss: 1.2054, Train Accuracy: 20.04%, Validation Loss: 1.2066, Validation Accuracy: 18.77\n",
            "Hyperparameters: LR=0.001, Optimizer=SGD, Loss=FocalLoss, Batch Size=64, Embedding Dim=200, Test Loss: 1.1923, Test Accuracy: 21.04\n",
            "Epoch 1/5, Train Loss: 1.2093, Train Accuracy: 18.64%, Validation Loss: 1.2100, Validation Accuracy: 20.02\n",
            "Epoch 2/5, Train Loss: 1.2047, Train Accuracy: 20.22%, Validation Loss: 1.2060, Validation Accuracy: 20.40\n",
            "Epoch 3/5, Train Loss: 1.2039, Train Accuracy: 19.94%, Validation Loss: 1.2124, Validation Accuracy: 18.69\n",
            "Epoch 4/5, Train Loss: 1.2032, Train Accuracy: 19.94%, Validation Loss: 1.2102, Validation Accuracy: 20.40\n"
          ]
        },
        {
          "output_type": "stream",
          "name": "stderr",
          "text": [
            "\r 31%|███       | 33/108 [07:24<16:52, 13.50s/it]"
          ]
        },
        {
          "output_type": "stream",
          "name": "stdout",
          "text": [
            "Epoch 5/5, Train Loss: 1.2027, Train Accuracy: 20.63%, Validation Loss: 1.2085, Validation Accuracy: 20.56\n",
            "Hyperparameters: LR=0.001, Optimizer=SGD, Loss=FocalLoss, Batch Size=64, Embedding Dim=300, Test Loss: 1.1982, Test Accuracy: 19.56\n",
            "Epoch 1/5, Train Loss: 1.2482, Train Accuracy: 16.47%, Validation Loss: 1.2147, Validation Accuracy: 18.46\n",
            "Epoch 2/5, Train Loss: 1.2089, Train Accuracy: 19.36%, Validation Loss: 1.2096, Validation Accuracy: 18.46\n",
            "Epoch 3/5, Train Loss: 1.2054, Train Accuracy: 19.13%, Validation Loss: 1.2093, Validation Accuracy: 18.15\n",
            "Epoch 4/5, Train Loss: 1.2055, Train Accuracy: 19.60%, Validation Loss: 1.2101, Validation Accuracy: 19.08\n"
          ]
        },
        {
          "output_type": "stream",
          "name": "stderr",
          "text": [
            "\r 31%|███▏      | 34/108 [07:31<14:16, 11.57s/it]"
          ]
        },
        {
          "output_type": "stream",
          "name": "stdout",
          "text": [
            "Epoch 5/5, Train Loss: 1.2043, Train Accuracy: 19.66%, Validation Loss: 1.2079, Validation Accuracy: 19.24\n",
            "Hyperparameters: LR=0.001, Optimizer=SGD, Loss=FocalLoss, Batch Size=128, Embedding Dim=100, Test Loss: 1.1946, Test Accuracy: 20.27\n",
            "Epoch 1/5, Train Loss: 1.2225, Train Accuracy: 18.27%, Validation Loss: 1.2112, Validation Accuracy: 19.70\n",
            "Epoch 2/5, Train Loss: 1.2079, Train Accuracy: 19.02%, Validation Loss: 1.2091, Validation Accuracy: 18.69\n",
            "Epoch 3/5, Train Loss: 1.2067, Train Accuracy: 19.69%, Validation Loss: 1.2121, Validation Accuracy: 17.99\n",
            "Epoch 4/5, Train Loss: 1.2080, Train Accuracy: 19.57%, Validation Loss: 1.2113, Validation Accuracy: 19.31\n"
          ]
        },
        {
          "output_type": "stream",
          "name": "stderr",
          "text": [
            "\r 32%|███▏      | 35/108 [07:42<13:53, 11.41s/it]"
          ]
        },
        {
          "output_type": "stream",
          "name": "stdout",
          "text": [
            "Epoch 5/5, Train Loss: 1.2061, Train Accuracy: 19.87%, Validation Loss: 1.2091, Validation Accuracy: 18.38\n",
            "Hyperparameters: LR=0.001, Optimizer=SGD, Loss=FocalLoss, Batch Size=128, Embedding Dim=200, Test Loss: 1.2005, Test Accuracy: 20.19\n",
            "Epoch 1/5, Train Loss: 1.2408, Train Accuracy: 18.02%, Validation Loss: 1.2077, Validation Accuracy: 20.48\n",
            "Epoch 2/5, Train Loss: 1.2048, Train Accuracy: 19.96%, Validation Loss: 1.2078, Validation Accuracy: 19.39\n",
            "Epoch 3/5, Train Loss: 1.2046, Train Accuracy: 20.28%, Validation Loss: 1.2058, Validation Accuracy: 20.09\n",
            "Epoch 4/5, Train Loss: 1.2040, Train Accuracy: 20.49%, Validation Loss: 1.2041, Validation Accuracy: 19.86\n"
          ]
        },
        {
          "output_type": "stream",
          "name": "stderr",
          "text": [
            "\r 33%|███▎      | 36/108 [07:59<15:43, 13.10s/it]"
          ]
        },
        {
          "output_type": "stream",
          "name": "stdout",
          "text": [
            "Epoch 5/5, Train Loss: 1.2044, Train Accuracy: 20.80%, Validation Loss: 1.2027, Validation Accuracy: 20.64\n",
            "Hyperparameters: LR=0.001, Optimizer=SGD, Loss=FocalLoss, Batch Size=128, Embedding Dim=300, Test Loss: 1.1954, Test Accuracy: 19.88\n",
            "Epoch 1/5, Train Loss: 1.7964, Train Accuracy: 19.42%, Validation Loss: 1.8018, Validation Accuracy: 19.31\n",
            "Epoch 2/5, Train Loss: 1.7543, Train Accuracy: 21.00%, Validation Loss: 1.7266, Validation Accuracy: 23.52\n",
            "Epoch 3/5, Train Loss: 1.7191, Train Accuracy: 23.86%, Validation Loss: 1.7042, Validation Accuracy: 25.47\n",
            "Epoch 4/5, Train Loss: 1.6898, Train Accuracy: 26.70%, Validation Loss: 1.7663, Validation Accuracy: 22.82\n"
          ]
        },
        {
          "output_type": "stream",
          "name": "stderr",
          "text": [
            "\r 34%|███▍      | 37/108 [08:11<15:06, 12.77s/it]"
          ]
        },
        {
          "output_type": "stream",
          "name": "stdout",
          "text": [
            "Epoch 5/5, Train Loss: 1.6575, Train Accuracy: 28.42%, Validation Loss: 1.6984, Validation Accuracy: 26.01\n",
            "Hyperparameters: LR=0.001, Optimizer=RMSprop, Loss=CrossEntropyLoss, Batch Size=32, Embedding Dim=100, Test Loss: 1.6918, Test Accuracy: 26.11\n",
            "Epoch 1/5, Train Loss: 1.7938, Train Accuracy: 19.54%, Validation Loss: 1.7669, Validation Accuracy: 19.16\n",
            "Epoch 2/5, Train Loss: 1.7644, Train Accuracy: 20.12%, Validation Loss: 1.7705, Validation Accuracy: 19.39\n",
            "Epoch 3/5, Train Loss: 1.7627, Train Accuracy: 20.32%, Validation Loss: 1.7990, Validation Accuracy: 20.87\n",
            "Epoch 4/5, Train Loss: 1.7690, Train Accuracy: 19.38%, Validation Loss: 1.7902, Validation Accuracy: 19.55\n"
          ]
        },
        {
          "output_type": "stream",
          "name": "stderr",
          "text": [
            "\r 35%|███▌      | 38/108 [08:26<15:36, 13.38s/it]"
          ]
        },
        {
          "output_type": "stream",
          "name": "stdout",
          "text": [
            "Epoch 5/5, Train Loss: 1.7630, Train Accuracy: 19.86%, Validation Loss: 1.7673, Validation Accuracy: 20.48\n",
            "Hyperparameters: LR=0.001, Optimizer=RMSprop, Loss=CrossEntropyLoss, Batch Size=32, Embedding Dim=200, Test Loss: 1.7497, Test Accuracy: 19.49\n",
            "Epoch 1/5, Train Loss: 1.8385, Train Accuracy: 19.54%, Validation Loss: 1.7849, Validation Accuracy: 19.55\n",
            "Epoch 2/5, Train Loss: 1.7781, Train Accuracy: 19.45%, Validation Loss: 1.7793, Validation Accuracy: 13.16\n",
            "Epoch 3/5, Train Loss: 1.7699, Train Accuracy: 19.19%, Validation Loss: 1.7658, Validation Accuracy: 20.48\n",
            "Epoch 4/5, Train Loss: 1.7645, Train Accuracy: 19.89%, Validation Loss: 1.7812, Validation Accuracy: 19.55\n"
          ]
        },
        {
          "output_type": "stream",
          "name": "stderr",
          "text": [
            "\r 36%|███▌      | 39/108 [08:46<17:32, 15.25s/it]"
          ]
        },
        {
          "output_type": "stream",
          "name": "stdout",
          "text": [
            "Epoch 5/5, Train Loss: 1.7631, Train Accuracy: 19.31%, Validation Loss: 1.7644, Validation Accuracy: 19.31\n",
            "Hyperparameters: LR=0.001, Optimizer=RMSprop, Loss=CrossEntropyLoss, Batch Size=32, Embedding Dim=300, Test Loss: 1.7531, Test Accuracy: 20.81\n",
            "Epoch 1/5, Train Loss: 1.7804, Train Accuracy: 20.84%, Validation Loss: 1.7582, Validation Accuracy: 21.88\n",
            "Epoch 2/5, Train Loss: 1.7571, Train Accuracy: 21.16%, Validation Loss: 1.7563, Validation Accuracy: 23.21\n",
            "Epoch 3/5, Train Loss: 1.7315, Train Accuracy: 22.59%, Validation Loss: 1.7169, Validation Accuracy: 23.44\n",
            "Epoch 4/5, Train Loss: 1.6961, Train Accuracy: 24.94%, Validation Loss: 1.7155, Validation Accuracy: 24.61\n"
          ]
        },
        {
          "output_type": "stream",
          "name": "stderr",
          "text": [
            "\r 37%|███▋      | 40/108 [08:54<14:43, 12.99s/it]"
          ]
        },
        {
          "output_type": "stream",
          "name": "stdout",
          "text": [
            "Epoch 5/5, Train Loss: 1.6652, Train Accuracy: 27.46%, Validation Loss: 1.7686, Validation Accuracy: 24.07\n",
            "Hyperparameters: LR=0.001, Optimizer=RMSprop, Loss=CrossEntropyLoss, Batch Size=64, Embedding Dim=100, Test Loss: 1.7361, Test Accuracy: 23.69\n",
            "Epoch 1/5, Train Loss: 1.8442, Train Accuracy: 19.26%, Validation Loss: 1.7880, Validation Accuracy: 19.31\n",
            "Epoch 2/5, Train Loss: 1.7705, Train Accuracy: 19.88%, Validation Loss: 1.7578, Validation Accuracy: 20.09\n",
            "Epoch 3/5, Train Loss: 1.7687, Train Accuracy: 19.55%, Validation Loss: 1.8136, Validation Accuracy: 18.46\n",
            "Epoch 4/5, Train Loss: 1.7684, Train Accuracy: 19.59%, Validation Loss: 1.7600, Validation Accuracy: 20.48\n"
          ]
        },
        {
          "output_type": "stream",
          "name": "stderr",
          "text": [
            "\r 38%|███▊      | 41/108 [09:05<14:03, 12.59s/it]"
          ]
        },
        {
          "output_type": "stream",
          "name": "stdout",
          "text": [
            "Epoch 5/5, Train Loss: 1.7638, Train Accuracy: 20.01%, Validation Loss: 1.7648, Validation Accuracy: 19.39\n",
            "Hyperparameters: LR=0.001, Optimizer=RMSprop, Loss=CrossEntropyLoss, Batch Size=64, Embedding Dim=200, Test Loss: 1.7499, Test Accuracy: 20.81\n",
            "Epoch 1/5, Train Loss: 1.8475, Train Accuracy: 19.36%, Validation Loss: 1.7845, Validation Accuracy: 19.55\n",
            "Epoch 2/5, Train Loss: 1.7677, Train Accuracy: 20.37%, Validation Loss: 1.7815, Validation Accuracy: 19.55\n",
            "Epoch 3/5, Train Loss: 1.7646, Train Accuracy: 19.66%, Validation Loss: 1.7721, Validation Accuracy: 19.47\n",
            "Epoch 4/5, Train Loss: 1.7671, Train Accuracy: 19.75%, Validation Loss: 1.7691, Validation Accuracy: 19.55\n"
          ]
        },
        {
          "output_type": "stream",
          "name": "stderr",
          "text": [
            "\r 39%|███▉      | 42/108 [09:23<15:26, 14.03s/it]"
          ]
        },
        {
          "output_type": "stream",
          "name": "stdout",
          "text": [
            "Epoch 5/5, Train Loss: 1.7673, Train Accuracy: 19.02%, Validation Loss: 1.7622, Validation Accuracy: 19.39\n",
            "Hyperparameters: LR=0.001, Optimizer=RMSprop, Loss=CrossEntropyLoss, Batch Size=64, Embedding Dim=300, Test Loss: 1.7471, Test Accuracy: 16.91\n",
            "Epoch 1/5, Train Loss: 1.8000, Train Accuracy: 19.64%, Validation Loss: 1.7798, Validation Accuracy: 19.94\n",
            "Epoch 2/5, Train Loss: 1.7398, Train Accuracy: 22.76%, Validation Loss: 1.7467, Validation Accuracy: 21.73\n",
            "Epoch 3/5, Train Loss: 1.7137, Train Accuracy: 25.14%, Validation Loss: 1.7685, Validation Accuracy: 20.95\n",
            "Epoch 4/5, Train Loss: 1.6945, Train Accuracy: 25.58%, Validation Loss: 1.7500, Validation Accuracy: 23.29\n"
          ]
        },
        {
          "output_type": "stream",
          "name": "stderr",
          "text": [
            "\r 40%|███▉      | 43/108 [09:30<12:53, 11.90s/it]"
          ]
        },
        {
          "output_type": "stream",
          "name": "stdout",
          "text": [
            "Epoch 5/5, Train Loss: 1.6681, Train Accuracy: 27.91%, Validation Loss: 1.7523, Validation Accuracy: 24.14\n",
            "Hyperparameters: LR=0.001, Optimizer=RMSprop, Loss=CrossEntropyLoss, Batch Size=128, Embedding Dim=100, Test Loss: 1.7293, Test Accuracy: 24.32\n",
            "Epoch 1/5, Train Loss: 1.8468, Train Accuracy: 19.51%, Validation Loss: 1.7973, Validation Accuracy: 18.46\n",
            "Epoch 2/5, Train Loss: 1.7667, Train Accuracy: 19.84%, Validation Loss: 1.8051, Validation Accuracy: 19.55\n",
            "Epoch 3/5, Train Loss: 1.7645, Train Accuracy: 19.79%, Validation Loss: 1.7717, Validation Accuracy: 19.55\n",
            "Epoch 4/5, Train Loss: 1.7623, Train Accuracy: 19.58%, Validation Loss: 1.7692, Validation Accuracy: 20.09\n"
          ]
        },
        {
          "output_type": "stream",
          "name": "stderr",
          "text": [
            "\r 41%|████      | 44/108 [09:41<12:32, 11.76s/it]"
          ]
        },
        {
          "output_type": "stream",
          "name": "stdout",
          "text": [
            "Epoch 5/5, Train Loss: 1.7604, Train Accuracy: 20.45%, Validation Loss: 1.7668, Validation Accuracy: 19.24\n",
            "Hyperparameters: LR=0.001, Optimizer=RMSprop, Loss=CrossEntropyLoss, Batch Size=128, Embedding Dim=200, Test Loss: 1.7492, Test Accuracy: 17.61\n",
            "Epoch 1/5, Train Loss: 1.9499, Train Accuracy: 19.06%, Validation Loss: 1.8918, Validation Accuracy: 19.55\n",
            "Epoch 2/5, Train Loss: 1.7797, Train Accuracy: 19.45%, Validation Loss: 1.7705, Validation Accuracy: 20.48\n",
            "Epoch 3/5, Train Loss: 1.7742, Train Accuracy: 19.21%, Validation Loss: 1.8891, Validation Accuracy: 20.48\n",
            "Epoch 4/5, Train Loss: 1.7765, Train Accuracy: 19.07%, Validation Loss: 1.8112, Validation Accuracy: 20.48\n"
          ]
        },
        {
          "output_type": "stream",
          "name": "stderr",
          "text": [
            "\r 42%|████▏     | 45/108 [09:58<14:03, 13.39s/it]"
          ]
        },
        {
          "output_type": "stream",
          "name": "stdout",
          "text": [
            "Epoch 5/5, Train Loss: 1.7746, Train Accuracy: 19.52%, Validation Loss: 1.7838, Validation Accuracy: 18.46\n",
            "Hyperparameters: LR=0.001, Optimizer=RMSprop, Loss=CrossEntropyLoss, Batch Size=128, Embedding Dim=300, Test Loss: 1.7566, Test Accuracy: 16.68\n",
            "Epoch 1/5, Train Loss: 1.2435, Train Accuracy: 18.92%, Validation Loss: 1.2190, Validation Accuracy: 18.77\n",
            "Epoch 2/5, Train Loss: 1.1889, Train Accuracy: 21.56%, Validation Loss: 1.2043, Validation Accuracy: 22.66\n",
            "Epoch 3/5, Train Loss: 1.1597, Train Accuracy: 23.82%, Validation Loss: 1.1641, Validation Accuracy: 22.27\n",
            "Epoch 4/5, Train Loss: 1.1348, Train Accuracy: 24.81%, Validation Loss: 1.1792, Validation Accuracy: 24.45\n"
          ]
        },
        {
          "output_type": "stream",
          "name": "stderr",
          "text": [
            "\r 43%|████▎     | 46/108 [10:11<13:48, 13.36s/it]"
          ]
        },
        {
          "output_type": "stream",
          "name": "stdout",
          "text": [
            "Epoch 5/5, Train Loss: 1.1166, Train Accuracy: 25.88%, Validation Loss: 1.1682, Validation Accuracy: 23.83\n",
            "Hyperparameters: LR=0.001, Optimizer=RMSprop, Loss=FocalLoss, Batch Size=32, Embedding Dim=100, Test Loss: 1.1518, Test Accuracy: 24.08\n",
            "Epoch 1/5, Train Loss: 1.2576, Train Accuracy: 18.42%, Validation Loss: 1.2149, Validation Accuracy: 19.31\n",
            "Epoch 2/5, Train Loss: 1.2190, Train Accuracy: 19.57%, Validation Loss: 1.2084, Validation Accuracy: 18.46\n",
            "Epoch 3/5, Train Loss: 1.2190, Train Accuracy: 18.91%, Validation Loss: 1.2168, Validation Accuracy: 20.48\n",
            "Epoch 4/5, Train Loss: 1.2114, Train Accuracy: 19.80%, Validation Loss: 1.2227, Validation Accuracy: 13.16\n"
          ]
        },
        {
          "output_type": "stream",
          "name": "stderr",
          "text": [
            "\r 44%|████▎     | 47/108 [10:27<14:08, 13.92s/it]"
          ]
        },
        {
          "output_type": "stream",
          "name": "stdout",
          "text": [
            "Epoch 5/5, Train Loss: 1.2093, Train Accuracy: 19.40%, Validation Loss: 1.2190, Validation Accuracy: 19.31\n",
            "Hyperparameters: LR=0.001, Optimizer=RMSprop, Loss=FocalLoss, Batch Size=32, Embedding Dim=200, Test Loss: 1.1983, Test Accuracy: 20.81\n",
            "Epoch 1/5, Train Loss: 1.3057, Train Accuracy: 18.91%, Validation Loss: 1.2346, Validation Accuracy: 20.48\n",
            "Epoch 2/5, Train Loss: 1.2329, Train Accuracy: 18.77%, Validation Loss: 1.2249, Validation Accuracy: 19.31\n",
            "Epoch 3/5, Train Loss: 1.2216, Train Accuracy: 18.84%, Validation Loss: 1.2418, Validation Accuracy: 13.16\n",
            "Epoch 4/5, Train Loss: 1.2145, Train Accuracy: 19.89%, Validation Loss: 1.2237, Validation Accuracy: 19.31\n"
          ]
        },
        {
          "output_type": "stream",
          "name": "stderr",
          "text": [
            "\r 44%|████▍     | 48/108 [10:46<15:34, 15.57s/it]"
          ]
        },
        {
          "output_type": "stream",
          "name": "stdout",
          "text": [
            "Epoch 5/5, Train Loss: 1.2100, Train Accuracy: 20.27%, Validation Loss: 1.2177, Validation Accuracy: 20.48\n",
            "Hyperparameters: LR=0.001, Optimizer=RMSprop, Loss=FocalLoss, Batch Size=32, Embedding Dim=300, Test Loss: 1.2026, Test Accuracy: 19.49\n",
            "Epoch 1/5, Train Loss: 1.2421, Train Accuracy: 20.46%, Validation Loss: 1.2171, Validation Accuracy: 19.39\n",
            "Epoch 2/5, Train Loss: 1.2070, Train Accuracy: 20.75%, Validation Loss: 1.2135, Validation Accuracy: 20.79\n",
            "Epoch 3/5, Train Loss: 1.1940, Train Accuracy: 21.53%, Validation Loss: 1.1681, Validation Accuracy: 24.77\n",
            "Epoch 4/5, Train Loss: 1.1477, Train Accuracy: 24.32%, Validation Loss: 1.1786, Validation Accuracy: 22.66\n"
          ]
        },
        {
          "output_type": "stream",
          "name": "stderr",
          "text": [
            "\r 45%|████▌     | 49/108 [10:54<13:10, 13.40s/it]"
          ]
        },
        {
          "output_type": "stream",
          "name": "stdout",
          "text": [
            "Epoch 5/5, Train Loss: 1.1207, Train Accuracy: 25.29%, Validation Loss: 1.1670, Validation Accuracy: 23.91\n",
            "Hyperparameters: LR=0.001, Optimizer=RMSprop, Loss=FocalLoss, Batch Size=64, Embedding Dim=100, Test Loss: 1.1497, Test Accuracy: 23.85\n",
            "Epoch 1/5, Train Loss: 1.3046, Train Accuracy: 18.77%, Validation Loss: 1.2292, Validation Accuracy: 18.46\n",
            "Epoch 2/5, Train Loss: 1.2257, Train Accuracy: 18.78%, Validation Loss: 1.2487, Validation Accuracy: 19.31\n",
            "Epoch 3/5, Train Loss: 1.2235, Train Accuracy: 19.03%, Validation Loss: 1.2200, Validation Accuracy: 20.48\n",
            "Epoch 4/5, Train Loss: 1.2184, Train Accuracy: 19.18%, Validation Loss: 1.2126, Validation Accuracy: 19.31\n"
          ]
        },
        {
          "output_type": "stream",
          "name": "stderr",
          "text": [
            "\r 46%|████▋     | 50/108 [11:06<12:23, 12.82s/it]"
          ]
        },
        {
          "output_type": "stream",
          "name": "stdout",
          "text": [
            "Epoch 5/5, Train Loss: 1.2168, Train Accuracy: 19.42%, Validation Loss: 1.2467, Validation Accuracy: 19.31\n",
            "Hyperparameters: LR=0.001, Optimizer=RMSprop, Loss=FocalLoss, Batch Size=64, Embedding Dim=200, Test Loss: 1.2177, Test Accuracy: 20.81\n",
            "Epoch 1/5, Train Loss: 1.3569, Train Accuracy: 18.92%, Validation Loss: 1.3275, Validation Accuracy: 20.48\n",
            "Epoch 2/5, Train Loss: 1.2207, Train Accuracy: 19.65%, Validation Loss: 1.2233, Validation Accuracy: 19.39\n",
            "Epoch 3/5, Train Loss: 1.2145, Train Accuracy: 19.47%, Validation Loss: 1.2073, Validation Accuracy: 19.00\n",
            "Epoch 4/5, Train Loss: 1.2142, Train Accuracy: 19.47%, Validation Loss: 1.2106, Validation Accuracy: 20.02\n"
          ]
        },
        {
          "output_type": "stream",
          "name": "stderr",
          "text": [
            "\r 47%|████▋     | 51/108 [11:23<13:29, 14.21s/it]"
          ]
        },
        {
          "output_type": "stream",
          "name": "stdout",
          "text": [
            "Epoch 5/5, Train Loss: 1.2108, Train Accuracy: 19.57%, Validation Loss: 1.2498, Validation Accuracy: 19.39\n",
            "Hyperparameters: LR=0.001, Optimizer=RMSprop, Loss=FocalLoss, Batch Size=64, Embedding Dim=300, Test Loss: 1.2088, Test Accuracy: 20.81\n",
            "Epoch 1/5, Train Loss: 1.2493, Train Accuracy: 20.43%, Validation Loss: 1.2178, Validation Accuracy: 21.34\n",
            "Epoch 2/5, Train Loss: 1.2042, Train Accuracy: 21.43%, Validation Loss: 1.2315, Validation Accuracy: 21.18\n",
            "Epoch 3/5, Train Loss: 1.2018, Train Accuracy: 21.74%, Validation Loss: 1.2173, Validation Accuracy: 21.03\n",
            "Epoch 4/5, Train Loss: 1.2022, Train Accuracy: 21.89%, Validation Loss: 1.2028, Validation Accuracy: 20.72\n"
          ]
        },
        {
          "output_type": "stream",
          "name": "stderr",
          "text": [
            "\r 48%|████▊     | 52/108 [11:30<11:13, 12.03s/it]"
          ]
        },
        {
          "output_type": "stream",
          "name": "stdout",
          "text": [
            "Epoch 5/5, Train Loss: 1.1804, Train Accuracy: 22.36%, Validation Loss: 1.1724, Validation Accuracy: 22.51\n",
            "Hyperparameters: LR=0.001, Optimizer=RMSprop, Loss=FocalLoss, Batch Size=128, Embedding Dim=100, Test Loss: 1.1879, Test Accuracy: 23.69\n",
            "Epoch 1/5, Train Loss: 1.3068, Train Accuracy: 19.32%, Validation Loss: 1.2530, Validation Accuracy: 19.24\n",
            "Epoch 2/5, Train Loss: 1.2146, Train Accuracy: 20.20%, Validation Loss: 1.2091, Validation Accuracy: 22.51\n",
            "Epoch 3/5, Train Loss: 1.2044, Train Accuracy: 21.28%, Validation Loss: 1.2815, Validation Accuracy: 19.70\n",
            "Epoch 4/5, Train Loss: 1.2067, Train Accuracy: 21.44%, Validation Loss: 1.2176, Validation Accuracy: 20.64\n"
          ]
        },
        {
          "output_type": "stream",
          "name": "stderr",
          "text": [
            "\r 49%|████▉     | 53/108 [11:42<10:50, 11.83s/it]"
          ]
        },
        {
          "output_type": "stream",
          "name": "stdout",
          "text": [
            "Epoch 5/5, Train Loss: 1.2110, Train Accuracy: 20.01%, Validation Loss: 1.2298, Validation Accuracy: 19.94\n",
            "Hyperparameters: LR=0.001, Optimizer=RMSprop, Loss=FocalLoss, Batch Size=128, Embedding Dim=200, Test Loss: 1.2094, Test Accuracy: 19.02\n",
            "Epoch 1/5, Train Loss: 1.4399, Train Accuracy: 18.93%, Validation Loss: 1.3066, Validation Accuracy: 20.48\n",
            "Epoch 2/5, Train Loss: 1.2344, Train Accuracy: 19.78%, Validation Loss: 1.2534, Validation Accuracy: 20.48\n",
            "Epoch 3/5, Train Loss: 1.2282, Train Accuracy: 18.67%, Validation Loss: 1.4162, Validation Accuracy: 13.16\n",
            "Epoch 4/5, Train Loss: 1.2323, Train Accuracy: 18.38%, Validation Loss: 1.2802, Validation Accuracy: 19.55\n"
          ]
        },
        {
          "output_type": "stream",
          "name": "stderr",
          "text": [
            "\r 50%|█████     | 54/108 [11:59<12:05, 13.43s/it]"
          ]
        },
        {
          "output_type": "stream",
          "name": "stdout",
          "text": [
            "Epoch 5/5, Train Loss: 1.2258, Train Accuracy: 18.41%, Validation Loss: 1.2545, Validation Accuracy: 19.55\n",
            "Hyperparameters: LR=0.001, Optimizer=RMSprop, Loss=FocalLoss, Batch Size=128, Embedding Dim=300, Test Loss: 1.2473, Test Accuracy: 19.41\n",
            "Epoch 1/5, Train Loss: 1.7886, Train Accuracy: 19.32%, Validation Loss: 1.7755, Validation Accuracy: 20.09\n",
            "Epoch 2/5, Train Loss: 1.7683, Train Accuracy: 20.11%, Validation Loss: 1.7643, Validation Accuracy: 19.31\n",
            "Epoch 3/5, Train Loss: 1.7601, Train Accuracy: 20.37%, Validation Loss: 1.7631, Validation Accuracy: 19.31\n",
            "Epoch 4/5, Train Loss: 1.7591, Train Accuracy: 19.98%, Validation Loss: 1.7634, Validation Accuracy: 20.48\n"
          ]
        },
        {
          "output_type": "stream",
          "name": "stderr",
          "text": [
            "\r 51%|█████     | 55/108 [12:12<11:54, 13.48s/it]"
          ]
        },
        {
          "output_type": "stream",
          "name": "stdout",
          "text": [
            "Epoch 5/5, Train Loss: 1.7581, Train Accuracy: 20.45%, Validation Loss: 1.7719, Validation Accuracy: 19.31\n",
            "Hyperparameters: LR=0.01, Optimizer=Adam, Loss=CrossEntropyLoss, Batch Size=32, Embedding Dim=100, Test Loss: 1.7520, Test Accuracy: 20.81\n",
            "Epoch 1/5, Train Loss: 1.8319, Train Accuracy: 18.49%, Validation Loss: 1.7714, Validation Accuracy: 19.55\n",
            "Epoch 2/5, Train Loss: 1.7617, Train Accuracy: 20.17%, Validation Loss: 1.7586, Validation Accuracy: 19.31\n",
            "Epoch 3/5, Train Loss: 1.7617, Train Accuracy: 19.69%, Validation Loss: 1.7722, Validation Accuracy: 19.55\n",
            "Epoch 4/5, Train Loss: 1.7594, Train Accuracy: 20.37%, Validation Loss: 1.7661, Validation Accuracy: 19.31\n"
          ]
        },
        {
          "output_type": "stream",
          "name": "stderr",
          "text": [
            "\r 52%|█████▏    | 56/108 [12:28<12:15, 14.15s/it]"
          ]
        },
        {
          "output_type": "stream",
          "name": "stdout",
          "text": [
            "Epoch 5/5, Train Loss: 1.7592, Train Accuracy: 20.17%, Validation Loss: 1.7685, Validation Accuracy: 19.31\n",
            "Hyperparameters: LR=0.01, Optimizer=Adam, Loss=CrossEntropyLoss, Batch Size=32, Embedding Dim=200, Test Loss: 1.7537, Test Accuracy: 20.81\n",
            "Epoch 1/5, Train Loss: 1.8552, Train Accuracy: 18.67%, Validation Loss: 1.7700, Validation Accuracy: 19.31\n",
            "Epoch 2/5, Train Loss: 1.7624, Train Accuracy: 19.98%, Validation Loss: 1.7640, Validation Accuracy: 19.31\n",
            "Epoch 3/5, Train Loss: 1.7628, Train Accuracy: 19.94%, Validation Loss: 1.7623, Validation Accuracy: 19.31\n",
            "Epoch 4/5, Train Loss: 1.7595, Train Accuracy: 20.17%, Validation Loss: 1.7712, Validation Accuracy: 19.31\n"
          ]
        },
        {
          "output_type": "stream",
          "name": "stderr",
          "text": [
            "\r 53%|█████▎    | 57/108 [12:48<13:36, 16.02s/it]"
          ]
        },
        {
          "output_type": "stream",
          "name": "stdout",
          "text": [
            "Epoch 5/5, Train Loss: 1.7593, Train Accuracy: 20.22%, Validation Loss: 1.7758, Validation Accuracy: 20.48\n",
            "Hyperparameters: LR=0.01, Optimizer=Adam, Loss=CrossEntropyLoss, Batch Size=32, Embedding Dim=300, Test Loss: 1.7586, Test Accuracy: 19.49\n",
            "Epoch 1/5, Train Loss: 1.7953, Train Accuracy: 19.52%, Validation Loss: 1.7801, Validation Accuracy: 20.40\n",
            "Epoch 2/5, Train Loss: 1.7684, Train Accuracy: 19.70%, Validation Loss: 1.7646, Validation Accuracy: 19.31\n",
            "Epoch 3/5, Train Loss: 1.7599, Train Accuracy: 19.75%, Validation Loss: 1.7640, Validation Accuracy: 19.31\n",
            "Epoch 4/5, Train Loss: 1.7593, Train Accuracy: 20.51%, Validation Loss: 1.7634, Validation Accuracy: 19.31\n"
          ]
        },
        {
          "output_type": "stream",
          "name": "stderr",
          "text": [
            "\r 54%|█████▎    | 58/108 [12:57<11:23, 13.67s/it]"
          ]
        },
        {
          "output_type": "stream",
          "name": "stdout",
          "text": [
            "Epoch 5/5, Train Loss: 1.7587, Train Accuracy: 19.89%, Validation Loss: 1.7632, Validation Accuracy: 19.31\n",
            "Hyperparameters: LR=0.01, Optimizer=Adam, Loss=CrossEntropyLoss, Batch Size=64, Embedding Dim=100, Test Loss: 1.7489, Test Accuracy: 20.81\n",
            "Epoch 1/5, Train Loss: 1.8518, Train Accuracy: 19.27%, Validation Loss: 1.8096, Validation Accuracy: 19.31\n",
            "Epoch 2/5, Train Loss: 1.7670, Train Accuracy: 19.50%, Validation Loss: 1.7712, Validation Accuracy: 19.55\n",
            "Epoch 3/5, Train Loss: 1.7622, Train Accuracy: 19.64%, Validation Loss: 1.7667, Validation Accuracy: 19.31\n",
            "Epoch 4/5, Train Loss: 1.7591, Train Accuracy: 20.36%, Validation Loss: 1.7619, Validation Accuracy: 19.55\n"
          ]
        },
        {
          "output_type": "stream",
          "name": "stderr",
          "text": [
            "\r 55%|█████▍    | 59/108 [13:08<10:41, 13.09s/it]"
          ]
        },
        {
          "output_type": "stream",
          "name": "stdout",
          "text": [
            "Epoch 5/5, Train Loss: 1.7594, Train Accuracy: 20.31%, Validation Loss: 1.7691, Validation Accuracy: 19.31\n",
            "Hyperparameters: LR=0.01, Optimizer=Adam, Loss=CrossEntropyLoss, Batch Size=64, Embedding Dim=200, Test Loss: 1.7530, Test Accuracy: 20.81\n",
            "Epoch 1/5, Train Loss: 1.9527, Train Accuracy: 18.45%, Validation Loss: 1.8002, Validation Accuracy: 19.55\n",
            "Epoch 2/5, Train Loss: 1.7785, Train Accuracy: 19.80%, Validation Loss: 1.7660, Validation Accuracy: 19.31\n",
            "Epoch 3/5, Train Loss: 1.7621, Train Accuracy: 19.77%, Validation Loss: 1.7661, Validation Accuracy: 20.48\n",
            "Epoch 4/5, Train Loss: 1.7598, Train Accuracy: 19.82%, Validation Loss: 1.7692, Validation Accuracy: 19.31\n"
          ]
        },
        {
          "output_type": "stream",
          "name": "stderr",
          "text": [
            "\r 56%|█████▌    | 60/108 [13:26<11:38, 14.56s/it]"
          ]
        },
        {
          "output_type": "stream",
          "name": "stdout",
          "text": [
            "Epoch 5/5, Train Loss: 1.7594, Train Accuracy: 20.12%, Validation Loss: 1.7669, Validation Accuracy: 19.31\n",
            "Hyperparameters: LR=0.01, Optimizer=Adam, Loss=CrossEntropyLoss, Batch Size=64, Embedding Dim=300, Test Loss: 1.7518, Test Accuracy: 20.81\n",
            "Epoch 1/5, Train Loss: 1.8297, Train Accuracy: 19.14%, Validation Loss: 1.8164, Validation Accuracy: 19.31\n",
            "Epoch 2/5, Train Loss: 1.7682, Train Accuracy: 19.51%, Validation Loss: 1.7997, Validation Accuracy: 19.31\n",
            "Epoch 3/5, Train Loss: 1.7620, Train Accuracy: 19.52%, Validation Loss: 1.7672, Validation Accuracy: 19.39\n",
            "Epoch 4/5, Train Loss: 1.7613, Train Accuracy: 20.00%, Validation Loss: 1.7762, Validation Accuracy: 19.63\n"
          ]
        },
        {
          "output_type": "stream",
          "name": "stderr",
          "text": [
            "\r 56%|█████▋    | 61/108 [13:34<09:41, 12.37s/it]"
          ]
        },
        {
          "output_type": "stream",
          "name": "stdout",
          "text": [
            "Epoch 5/5, Train Loss: 1.7608, Train Accuracy: 19.68%, Validation Loss: 1.7714, Validation Accuracy: 19.31\n",
            "Hyperparameters: LR=0.01, Optimizer=Adam, Loss=CrossEntropyLoss, Batch Size=128, Embedding Dim=100, Test Loss: 1.7537, Test Accuracy: 20.81\n",
            "Epoch 1/5, Train Loss: 1.9346, Train Accuracy: 19.21%, Validation Loss: 1.7659, Validation Accuracy: 20.48\n",
            "Epoch 2/5, Train Loss: 1.7839, Train Accuracy: 19.31%, Validation Loss: 1.7678, Validation Accuracy: 18.46\n",
            "Epoch 3/5, Train Loss: 1.7740, Train Accuracy: 19.98%, Validation Loss: 1.7976, Validation Accuracy: 19.31\n",
            "Epoch 4/5, Train Loss: 1.7666, Train Accuracy: 19.41%, Validation Loss: 1.7613, Validation Accuracy: 20.48\n"
          ]
        },
        {
          "output_type": "stream",
          "name": "stderr",
          "text": [
            "\r 57%|█████▋    | 62/108 [13:45<09:16, 12.10s/it]"
          ]
        },
        {
          "output_type": "stream",
          "name": "stdout",
          "text": [
            "Epoch 5/5, Train Loss: 1.7636, Train Accuracy: 20.49%, Validation Loss: 1.7593, Validation Accuracy: 19.55\n",
            "Hyperparameters: LR=0.01, Optimizer=Adam, Loss=CrossEntropyLoss, Batch Size=128, Embedding Dim=200, Test Loss: 1.7520, Test Accuracy: 19.41\n",
            "Epoch 1/5, Train Loss: 1.9581, Train Accuracy: 17.99%, Validation Loss: 1.9034, Validation Accuracy: 19.31\n",
            "Epoch 2/5, Train Loss: 1.7996, Train Accuracy: 18.50%, Validation Loss: 1.7929, Validation Accuracy: 19.55\n",
            "Epoch 3/5, Train Loss: 1.7774, Train Accuracy: 18.98%, Validation Loss: 1.7645, Validation Accuracy: 19.55\n",
            "Epoch 4/5, Train Loss: 1.7770, Train Accuracy: 19.34%, Validation Loss: 1.7729, Validation Accuracy: 20.48\n"
          ]
        },
        {
          "output_type": "stream",
          "name": "stderr",
          "text": [
            "\r 58%|█████▊    | 63/108 [14:03<10:15, 13.69s/it]"
          ]
        },
        {
          "output_type": "stream",
          "name": "stdout",
          "text": [
            "Epoch 5/5, Train Loss: 1.7630, Train Accuracy: 19.62%, Validation Loss: 1.7683, Validation Accuracy: 19.31\n",
            "Hyperparameters: LR=0.01, Optimizer=Adam, Loss=CrossEntropyLoss, Batch Size=128, Embedding Dim=300, Test Loss: 1.7599, Test Accuracy: 20.81\n",
            "Epoch 1/5, Train Loss: 1.2411, Train Accuracy: 19.45%, Validation Loss: 1.2109, Validation Accuracy: 20.48\n",
            "Epoch 2/5, Train Loss: 1.2080, Train Accuracy: 20.10%, Validation Loss: 1.2718, Validation Accuracy: 19.39\n",
            "Epoch 3/5, Train Loss: 1.2085, Train Accuracy: 20.10%, Validation Loss: 1.2224, Validation Accuracy: 21.11\n",
            "Epoch 4/5, Train Loss: 1.2077, Train Accuracy: 19.98%, Validation Loss: 1.2104, Validation Accuracy: 19.31\n"
          ]
        },
        {
          "output_type": "stream",
          "name": "stderr",
          "text": [
            "\r 59%|█████▉    | 64/108 [14:16<10:02, 13.70s/it]"
          ]
        },
        {
          "output_type": "stream",
          "name": "stdout",
          "text": [
            "Epoch 5/5, Train Loss: 1.2060, Train Accuracy: 20.17%, Validation Loss: 1.2108, Validation Accuracy: 19.55\n",
            "Hyperparameters: LR=0.01, Optimizer=Adam, Loss=FocalLoss, Batch Size=32, Embedding Dim=100, Test Loss: 1.1938, Test Accuracy: 19.49\n",
            "Epoch 1/5, Train Loss: 1.2730, Train Accuracy: 18.81%, Validation Loss: 1.2161, Validation Accuracy: 19.31\n",
            "Epoch 2/5, Train Loss: 1.2082, Train Accuracy: 20.16%, Validation Loss: 1.2313, Validation Accuracy: 19.55\n",
            "Epoch 3/5, Train Loss: 1.2088, Train Accuracy: 19.59%, Validation Loss: 1.2102, Validation Accuracy: 19.31\n",
            "Epoch 4/5, Train Loss: 1.2079, Train Accuracy: 19.59%, Validation Loss: 1.2205, Validation Accuracy: 19.31\n"
          ]
        },
        {
          "output_type": "stream",
          "name": "stderr",
          "text": [
            "\r 60%|██████    | 65/108 [14:32<10:20, 14.42s/it]"
          ]
        },
        {
          "output_type": "stream",
          "name": "stdout",
          "text": [
            "Epoch 5/5, Train Loss: 1.2072, Train Accuracy: 19.67%, Validation Loss: 1.2179, Validation Accuracy: 19.31\n",
            "Hyperparameters: LR=0.01, Optimizer=Adam, Loss=FocalLoss, Batch Size=32, Embedding Dim=200, Test Loss: 1.1976, Test Accuracy: 20.81\n",
            "Epoch 1/5, Train Loss: 1.3243, Train Accuracy: 19.29%, Validation Loss: 1.2297, Validation Accuracy: 19.31\n",
            "Epoch 2/5, Train Loss: 1.2093, Train Accuracy: 19.84%, Validation Loss: 1.2085, Validation Accuracy: 19.31\n",
            "Epoch 3/5, Train Loss: 1.2081, Train Accuracy: 19.96%, Validation Loss: 1.2240, Validation Accuracy: 20.48\n",
            "Epoch 4/5, Train Loss: 1.2083, Train Accuracy: 19.88%, Validation Loss: 1.2117, Validation Accuracy: 19.31\n"
          ]
        },
        {
          "output_type": "stream",
          "name": "stderr",
          "text": [
            "\r 61%|██████    | 66/108 [14:53<11:23, 16.27s/it]"
          ]
        },
        {
          "output_type": "stream",
          "name": "stdout",
          "text": [
            "Epoch 5/5, Train Loss: 1.2072, Train Accuracy: 20.21%, Validation Loss: 1.2080, Validation Accuracy: 20.48\n",
            "Hyperparameters: LR=0.01, Optimizer=Adam, Loss=FocalLoss, Batch Size=32, Embedding Dim=300, Test Loss: 1.1994, Test Accuracy: 19.49\n",
            "Epoch 1/5, Train Loss: 1.2584, Train Accuracy: 19.37%, Validation Loss: 1.2218, Validation Accuracy: 19.55\n",
            "Epoch 2/5, Train Loss: 1.2147, Train Accuracy: 19.19%, Validation Loss: 1.2142, Validation Accuracy: 19.31\n",
            "Epoch 3/5, Train Loss: 1.2063, Train Accuracy: 19.80%, Validation Loss: 1.2191, Validation Accuracy: 19.31\n",
            "Epoch 4/5, Train Loss: 1.2058, Train Accuracy: 19.83%, Validation Loss: 1.2057, Validation Accuracy: 20.48\n"
          ]
        },
        {
          "output_type": "stream",
          "name": "stderr",
          "text": [
            "\r 62%|██████▏   | 67/108 [15:01<09:28, 13.86s/it]"
          ]
        },
        {
          "output_type": "stream",
          "name": "stdout",
          "text": [
            "Epoch 5/5, Train Loss: 1.2065, Train Accuracy: 19.52%, Validation Loss: 1.2120, Validation Accuracy: 20.48\n",
            "Hyperparameters: LR=0.01, Optimizer=Adam, Loss=FocalLoss, Batch Size=64, Embedding Dim=100, Test Loss: 1.1957, Test Accuracy: 19.49\n",
            "Epoch 1/5, Train Loss: 1.3412, Train Accuracy: 18.73%, Validation Loss: 1.2579, Validation Accuracy: 19.31\n",
            "Epoch 2/5, Train Loss: 1.2155, Train Accuracy: 19.73%, Validation Loss: 1.2408, Validation Accuracy: 13.16\n",
            "Epoch 3/5, Train Loss: 1.2063, Train Accuracy: 20.03%, Validation Loss: 1.2039, Validation Accuracy: 20.48\n",
            "Epoch 4/5, Train Loss: 1.2064, Train Accuracy: 20.28%, Validation Loss: 1.2145, Validation Accuracy: 19.31\n"
          ]
        },
        {
          "output_type": "stream",
          "name": "stderr",
          "text": [
            "\r 63%|██████▎   | 68/108 [15:13<08:49, 13.25s/it]"
          ]
        },
        {
          "output_type": "stream",
          "name": "stdout",
          "text": [
            "Epoch 5/5, Train Loss: 1.2058, Train Accuracy: 20.07%, Validation Loss: 1.2153, Validation Accuracy: 19.55\n",
            "Hyperparameters: LR=0.01, Optimizer=Adam, Loss=FocalLoss, Batch Size=64, Embedding Dim=200, Test Loss: 1.1990, Test Accuracy: 19.41\n",
            "Epoch 1/5, Train Loss: 1.3954, Train Accuracy: 19.27%, Validation Loss: 1.3043, Validation Accuracy: 19.31\n",
            "Epoch 2/5, Train Loss: 1.2172, Train Accuracy: 20.44%, Validation Loss: 1.2177, Validation Accuracy: 19.31\n",
            "Epoch 3/5, Train Loss: 1.2070, Train Accuracy: 19.83%, Validation Loss: 1.2055, Validation Accuracy: 19.31\n",
            "Epoch 4/5, Train Loss: 1.2071, Train Accuracy: 19.33%, Validation Loss: 1.2072, Validation Accuracy: 19.31\n"
          ]
        },
        {
          "output_type": "stream",
          "name": "stderr",
          "text": [
            "\r 64%|██████▍   | 69/108 [15:31<09:31, 14.66s/it]"
          ]
        },
        {
          "output_type": "stream",
          "name": "stdout",
          "text": [
            "Epoch 5/5, Train Loss: 1.2063, Train Accuracy: 19.94%, Validation Loss: 1.2151, Validation Accuracy: 19.31\n",
            "Hyperparameters: LR=0.01, Optimizer=Adam, Loss=FocalLoss, Batch Size=64, Embedding Dim=300, Test Loss: 1.2003, Test Accuracy: 20.81\n",
            "Epoch 1/5, Train Loss: 1.2821, Train Accuracy: 19.15%, Validation Loss: 1.2194, Validation Accuracy: 19.31\n",
            "Epoch 2/5, Train Loss: 1.2126, Train Accuracy: 19.62%, Validation Loss: 1.2246, Validation Accuracy: 20.48\n",
            "Epoch 3/5, Train Loss: 1.2149, Train Accuracy: 19.14%, Validation Loss: 1.2120, Validation Accuracy: 19.31\n",
            "Epoch 4/5, Train Loss: 1.2078, Train Accuracy: 20.00%, Validation Loss: 1.2070, Validation Accuracy: 20.48\n"
          ]
        },
        {
          "output_type": "stream",
          "name": "stderr",
          "text": [
            "\r 65%|██████▍   | 70/108 [15:38<07:53, 12.45s/it]"
          ]
        },
        {
          "output_type": "stream",
          "name": "stdout",
          "text": [
            "Epoch 5/5, Train Loss: 1.2062, Train Accuracy: 19.99%, Validation Loss: 1.2074, Validation Accuracy: 19.55\n",
            "Hyperparameters: LR=0.01, Optimizer=Adam, Loss=FocalLoss, Batch Size=128, Embedding Dim=100, Test Loss: 1.1984, Test Accuracy: 19.41\n",
            "Epoch 1/5, Train Loss: 1.3747, Train Accuracy: 18.42%, Validation Loss: 1.2528, Validation Accuracy: 20.48\n",
            "Epoch 2/5, Train Loss: 1.2457, Train Accuracy: 19.03%, Validation Loss: 1.2167, Validation Accuracy: 19.55\n",
            "Epoch 3/5, Train Loss: 1.2193, Train Accuracy: 18.76%, Validation Loss: 1.2243, Validation Accuracy: 19.55\n",
            "Epoch 4/5, Train Loss: 1.2122, Train Accuracy: 19.53%, Validation Loss: 1.2065, Validation Accuracy: 19.31\n"
          ]
        },
        {
          "output_type": "stream",
          "name": "stderr",
          "text": [
            "\r 66%|██████▌   | 71/108 [15:50<07:29, 12.15s/it]"
          ]
        },
        {
          "output_type": "stream",
          "name": "stdout",
          "text": [
            "Epoch 5/5, Train Loss: 1.2039, Train Accuracy: 20.61%, Validation Loss: 1.2248, Validation Accuracy: 19.31\n",
            "Hyperparameters: LR=0.01, Optimizer=Adam, Loss=FocalLoss, Batch Size=128, Embedding Dim=200, Test Loss: 1.2096, Test Accuracy: 20.81\n",
            "Epoch 1/5, Train Loss: 1.5304, Train Accuracy: 18.96%, Validation Loss: 1.2799, Validation Accuracy: 13.16\n",
            "Epoch 2/5, Train Loss: 1.2400, Train Accuracy: 19.11%, Validation Loss: 1.2572, Validation Accuracy: 13.16\n",
            "Epoch 3/5, Train Loss: 1.2288, Train Accuracy: 19.74%, Validation Loss: 1.2213, Validation Accuracy: 18.46\n",
            "Epoch 4/5, Train Loss: 1.2154, Train Accuracy: 19.62%, Validation Loss: 1.2068, Validation Accuracy: 19.55\n"
          ]
        },
        {
          "output_type": "stream",
          "name": "stderr",
          "text": [
            "\r 67%|██████▋   | 72/108 [16:07<08:14, 13.73s/it]"
          ]
        },
        {
          "output_type": "stream",
          "name": "stdout",
          "text": [
            "Epoch 5/5, Train Loss: 1.2134, Train Accuracy: 20.06%, Validation Loss: 1.2145, Validation Accuracy: 19.31\n",
            "Hyperparameters: LR=0.01, Optimizer=Adam, Loss=FocalLoss, Batch Size=128, Embedding Dim=300, Test Loss: 1.1890, Test Accuracy: 20.81\n",
            "Epoch 1/5, Train Loss: 1.7641, Train Accuracy: 20.17%, Validation Loss: 1.7626, Validation Accuracy: 21.26\n",
            "Epoch 2/5, Train Loss: 1.7603, Train Accuracy: 20.67%, Validation Loss: 1.7676, Validation Accuracy: 19.70\n",
            "Epoch 3/5, Train Loss: 1.7590, Train Accuracy: 21.27%, Validation Loss: 1.7668, Validation Accuracy: 19.24\n",
            "Epoch 4/5, Train Loss: 1.7578, Train Accuracy: 20.99%, Validation Loss: 1.7561, Validation Accuracy: 21.73\n"
          ]
        },
        {
          "output_type": "stream",
          "name": "stderr",
          "text": [
            "\r 68%|██████▊   | 73/108 [16:19<07:36, 13.05s/it]"
          ]
        },
        {
          "output_type": "stream",
          "name": "stdout",
          "text": [
            "Epoch 5/5, Train Loss: 1.7574, Train Accuracy: 20.73%, Validation Loss: 1.7633, Validation Accuracy: 20.48\n",
            "Hyperparameters: LR=0.01, Optimizer=SGD, Loss=CrossEntropyLoss, Batch Size=32, Embedding Dim=100, Test Loss: 1.7511, Test Accuracy: 21.51\n",
            "Epoch 1/5, Train Loss: 1.7715, Train Accuracy: 19.65%, Validation Loss: 1.8051, Validation Accuracy: 13.71\n",
            "Epoch 2/5, Train Loss: 1.7658, Train Accuracy: 20.30%, Validation Loss: 1.7797, Validation Accuracy: 18.54\n",
            "Epoch 3/5, Train Loss: 1.7632, Train Accuracy: 20.74%, Validation Loss: 1.7580, Validation Accuracy: 22.35\n",
            "Epoch 4/5, Train Loss: 1.7621, Train Accuracy: 20.46%, Validation Loss: 1.7719, Validation Accuracy: 22.43\n"
          ]
        },
        {
          "output_type": "stream",
          "name": "stderr",
          "text": [
            "\r 69%|██████▊   | 74/108 [16:32<07:27, 13.17s/it]"
          ]
        },
        {
          "output_type": "stream",
          "name": "stdout",
          "text": [
            "Epoch 5/5, Train Loss: 1.7590, Train Accuracy: 21.16%, Validation Loss: 1.7676, Validation Accuracy: 18.54\n",
            "Hyperparameters: LR=0.01, Optimizer=SGD, Loss=CrossEntropyLoss, Batch Size=32, Embedding Dim=200, Test Loss: 1.7492, Test Accuracy: 21.51\n",
            "Epoch 1/5, Train Loss: 1.7740, Train Accuracy: 20.21%, Validation Loss: 1.7596, Validation Accuracy: 21.42\n",
            "Epoch 2/5, Train Loss: 1.7674, Train Accuracy: 21.28%, Validation Loss: 1.7574, Validation Accuracy: 22.12\n",
            "Epoch 3/5, Train Loss: 1.7673, Train Accuracy: 20.42%, Validation Loss: 1.7852, Validation Accuracy: 19.63\n",
            "Epoch 4/5, Train Loss: 1.7615, Train Accuracy: 20.94%, Validation Loss: 1.7830, Validation Accuracy: 18.15\n"
          ]
        },
        {
          "output_type": "stream",
          "name": "stderr",
          "text": [
            "\r 69%|██████▉   | 75/108 [16:50<08:01, 14.58s/it]"
          ]
        },
        {
          "output_type": "stream",
          "name": "stdout",
          "text": [
            "Epoch 5/5, Train Loss: 1.7613, Train Accuracy: 21.00%, Validation Loss: 1.7564, Validation Accuracy: 21.65\n",
            "Hyperparameters: LR=0.01, Optimizer=SGD, Loss=CrossEntropyLoss, Batch Size=32, Embedding Dim=300, Test Loss: 1.7479, Test Accuracy: 21.82\n",
            "Epoch 1/5, Train Loss: 1.7627, Train Accuracy: 19.98%, Validation Loss: 1.7675, Validation Accuracy: 20.56\n",
            "Epoch 2/5, Train Loss: 1.7597, Train Accuracy: 20.47%, Validation Loss: 1.7694, Validation Accuracy: 19.00\n",
            "Epoch 3/5, Train Loss: 1.7583, Train Accuracy: 20.72%, Validation Loss: 1.7715, Validation Accuracy: 19.70\n",
            "Epoch 4/5, Train Loss: 1.7577, Train Accuracy: 20.80%, Validation Loss: 1.7861, Validation Accuracy: 19.24\n"
          ]
        },
        {
          "output_type": "stream",
          "name": "stderr",
          "text": [
            "\r 70%|███████   | 76/108 [16:57<06:38, 12.47s/it]"
          ]
        },
        {
          "output_type": "stream",
          "name": "stdout",
          "text": [
            "Epoch 5/5, Train Loss: 1.7569, Train Accuracy: 21.25%, Validation Loss: 1.7733, Validation Accuracy: 20.95\n",
            "Hyperparameters: LR=0.01, Optimizer=SGD, Loss=CrossEntropyLoss, Batch Size=64, Embedding Dim=100, Test Loss: 1.7575, Test Accuracy: 21.51\n",
            "Epoch 1/5, Train Loss: 1.7654, Train Accuracy: 19.86%, Validation Loss: 1.7716, Validation Accuracy: 20.79\n",
            "Epoch 2/5, Train Loss: 1.7621, Train Accuracy: 20.42%, Validation Loss: 1.7733, Validation Accuracy: 19.31\n",
            "Epoch 3/5, Train Loss: 1.7608, Train Accuracy: 20.94%, Validation Loss: 1.7789, Validation Accuracy: 18.85\n",
            "Epoch 4/5, Train Loss: 1.7594, Train Accuracy: 20.34%, Validation Loss: 1.7758, Validation Accuracy: 21.65\n"
          ]
        },
        {
          "output_type": "stream",
          "name": "stderr",
          "text": [
            "\r 71%|███████▏  | 77/108 [17:08<06:13, 12.03s/it]"
          ]
        },
        {
          "output_type": "stream",
          "name": "stdout",
          "text": [
            "Epoch 5/5, Train Loss: 1.7593, Train Accuracy: 20.89%, Validation Loss: 1.7638, Validation Accuracy: 19.55\n",
            "Hyperparameters: LR=0.01, Optimizer=SGD, Loss=CrossEntropyLoss, Batch Size=64, Embedding Dim=200, Test Loss: 1.7494, Test Accuracy: 20.73\n",
            "Epoch 1/5, Train Loss: 1.7700, Train Accuracy: 19.13%, Validation Loss: 1.7749, Validation Accuracy: 19.00\n",
            "Epoch 2/5, Train Loss: 1.7637, Train Accuracy: 20.01%, Validation Loss: 1.7731, Validation Accuracy: 19.78\n",
            "Epoch 3/5, Train Loss: 1.7625, Train Accuracy: 20.47%, Validation Loss: 1.7650, Validation Accuracy: 21.03\n",
            "Epoch 4/5, Train Loss: 1.7616, Train Accuracy: 20.92%, Validation Loss: 1.7861, Validation Accuracy: 21.26\n"
          ]
        },
        {
          "output_type": "stream",
          "name": "stderr",
          "text": [
            "\r 72%|███████▏  | 78/108 [17:25<06:43, 13.45s/it]"
          ]
        },
        {
          "output_type": "stream",
          "name": "stdout",
          "text": [
            "Epoch 5/5, Train Loss: 1.7600, Train Accuracy: 20.84%, Validation Loss: 1.7634, Validation Accuracy: 19.24\n",
            "Hyperparameters: LR=0.01, Optimizer=SGD, Loss=CrossEntropyLoss, Batch Size=64, Embedding Dim=300, Test Loss: 1.7575, Test Accuracy: 19.49\n",
            "Epoch 1/5, Train Loss: 1.7721, Train Accuracy: 19.14%, Validation Loss: 1.7799, Validation Accuracy: 19.08\n",
            "Epoch 2/5, Train Loss: 1.7600, Train Accuracy: 18.89%, Validation Loss: 1.7633, Validation Accuracy: 19.16\n",
            "Epoch 3/5, Train Loss: 1.7594, Train Accuracy: 19.32%, Validation Loss: 1.7659, Validation Accuracy: 18.77\n",
            "Epoch 4/5, Train Loss: 1.7581, Train Accuracy: 20.21%, Validation Loss: 1.7711, Validation Accuracy: 19.78\n"
          ]
        },
        {
          "output_type": "stream",
          "name": "stderr",
          "text": [
            "\r 73%|███████▎  | 79/108 [17:32<05:31, 11.44s/it]"
          ]
        },
        {
          "output_type": "stream",
          "name": "stdout",
          "text": [
            "Epoch 5/5, Train Loss: 1.7583, Train Accuracy: 19.90%, Validation Loss: 1.7651, Validation Accuracy: 20.17\n",
            "Hyperparameters: LR=0.01, Optimizer=SGD, Loss=CrossEntropyLoss, Batch Size=128, Embedding Dim=100, Test Loss: 1.7499, Test Accuracy: 21.04\n",
            "Epoch 1/5, Train Loss: 1.7679, Train Accuracy: 19.44%, Validation Loss: 1.7981, Validation Accuracy: 19.39\n",
            "Epoch 2/5, Train Loss: 1.7630, Train Accuracy: 20.12%, Validation Loss: 1.7684, Validation Accuracy: 20.33\n",
            "Epoch 3/5, Train Loss: 1.7615, Train Accuracy: 20.22%, Validation Loss: 1.7744, Validation Accuracy: 21.11\n",
            "Epoch 4/5, Train Loss: 1.7585, Train Accuracy: 21.24%, Validation Loss: 1.7615, Validation Accuracy: 21.03\n"
          ]
        },
        {
          "output_type": "stream",
          "name": "stderr",
          "text": [
            "\r 74%|███████▍  | 80/108 [17:43<05:17, 11.33s/it]"
          ]
        },
        {
          "output_type": "stream",
          "name": "stdout",
          "text": [
            "Epoch 5/5, Train Loss: 1.7596, Train Accuracy: 20.33%, Validation Loss: 1.7763, Validation Accuracy: 21.18\n",
            "Hyperparameters: LR=0.01, Optimizer=SGD, Loss=CrossEntropyLoss, Batch Size=128, Embedding Dim=200, Test Loss: 1.7592, Test Accuracy: 20.65\n",
            "Epoch 1/5, Train Loss: 1.7642, Train Accuracy: 19.91%, Validation Loss: 1.7594, Validation Accuracy: 19.86\n",
            "Epoch 2/5, Train Loss: 1.7610, Train Accuracy: 20.43%, Validation Loss: 1.7615, Validation Accuracy: 19.31\n",
            "Epoch 3/5, Train Loss: 1.7604, Train Accuracy: 20.81%, Validation Loss: 1.7703, Validation Accuracy: 17.13\n",
            "Epoch 4/5, Train Loss: 1.7583, Train Accuracy: 21.03%, Validation Loss: 1.7839, Validation Accuracy: 19.31\n"
          ]
        },
        {
          "output_type": "stream",
          "name": "stderr",
          "text": [
            "\r 75%|███████▌  | 81/108 [18:00<05:52, 13.04s/it]"
          ]
        },
        {
          "output_type": "stream",
          "name": "stdout",
          "text": [
            "Epoch 5/5, Train Loss: 1.7569, Train Accuracy: 21.72%, Validation Loss: 1.7734, Validation Accuracy: 20.64\n",
            "Hyperparameters: LR=0.01, Optimizer=SGD, Loss=CrossEntropyLoss, Batch Size=128, Embedding Dim=300, Test Loss: 1.7681, Test Accuracy: 20.58\n",
            "Epoch 1/5, Train Loss: 1.2147, Train Accuracy: 20.22%, Validation Loss: 1.2091, Validation Accuracy: 20.72\n",
            "Epoch 2/5, Train Loss: 1.2105, Train Accuracy: 20.48%, Validation Loss: 1.2044, Validation Accuracy: 20.95\n",
            "Epoch 3/5, Train Loss: 1.2070, Train Accuracy: 20.30%, Validation Loss: 1.2098, Validation Accuracy: 21.96\n",
            "Epoch 4/5, Train Loss: 1.2075, Train Accuracy: 20.46%, Validation Loss: 1.2119, Validation Accuracy: 21.81\n"
          ]
        },
        {
          "output_type": "stream",
          "name": "stderr",
          "text": [
            "\r 76%|███████▌  | 82/108 [18:13<05:37, 12.96s/it]"
          ]
        },
        {
          "output_type": "stream",
          "name": "stdout",
          "text": [
            "Epoch 5/5, Train Loss: 1.2049, Train Accuracy: 20.95%, Validation Loss: 1.2206, Validation Accuracy: 21.42\n",
            "Hyperparameters: LR=0.01, Optimizer=SGD, Loss=FocalLoss, Batch Size=32, Embedding Dim=100, Test Loss: 1.2029, Test Accuracy: 21.04\n",
            "Epoch 1/5, Train Loss: 1.2170, Train Accuracy: 20.47%, Validation Loss: 1.2315, Validation Accuracy: 18.46\n",
            "Epoch 2/5, Train Loss: 1.2126, Train Accuracy: 20.38%, Validation Loss: 1.2156, Validation Accuracy: 19.86\n",
            "Epoch 3/5, Train Loss: 1.2104, Train Accuracy: 20.72%, Validation Loss: 1.2006, Validation Accuracy: 22.12\n",
            "Epoch 4/5, Train Loss: 1.2081, Train Accuracy: 20.35%, Validation Loss: 1.1943, Validation Accuracy: 21.96\n"
          ]
        },
        {
          "output_type": "stream",
          "name": "stderr",
          "text": [
            "\r 77%|███████▋  | 83/108 [18:27<05:32, 13.29s/it]"
          ]
        },
        {
          "output_type": "stream",
          "name": "stdout",
          "text": [
            "Epoch 5/5, Train Loss: 1.2045, Train Accuracy: 21.00%, Validation Loss: 1.2216, Validation Accuracy: 21.81\n",
            "Hyperparameters: LR=0.01, Optimizer=SGD, Loss=FocalLoss, Batch Size=32, Embedding Dim=200, Test Loss: 1.2020, Test Accuracy: 21.67\n",
            "Epoch 1/5, Train Loss: 1.2304, Train Accuracy: 19.88%, Validation Loss: 1.2105, Validation Accuracy: 19.16\n",
            "Epoch 2/5, Train Loss: 1.2240, Train Accuracy: 19.24%, Validation Loss: 1.2261, Validation Accuracy: 18.38\n",
            "Epoch 3/5, Train Loss: 1.2206, Train Accuracy: 20.60%, Validation Loss: 1.2206, Validation Accuracy: 18.30\n",
            "Epoch 4/5, Train Loss: 1.2108, Train Accuracy: 20.46%, Validation Loss: 1.2139, Validation Accuracy: 18.38\n"
          ]
        },
        {
          "output_type": "stream",
          "name": "stderr",
          "text": [
            "\r 78%|███████▊  | 84/108 [18:45<05:52, 14.68s/it]"
          ]
        },
        {
          "output_type": "stream",
          "name": "stdout",
          "text": [
            "Epoch 5/5, Train Loss: 1.2093, Train Accuracy: 20.63%, Validation Loss: 1.2202, Validation Accuracy: 20.25\n",
            "Hyperparameters: LR=0.01, Optimizer=SGD, Loss=FocalLoss, Batch Size=32, Embedding Dim=300, Test Loss: 1.2023, Test Accuracy: 21.67\n",
            "Epoch 1/5, Train Loss: 1.2152, Train Accuracy: 19.76%, Validation Loss: 1.2173, Validation Accuracy: 18.30\n",
            "Epoch 2/5, Train Loss: 1.2082, Train Accuracy: 20.12%, Validation Loss: 1.2250, Validation Accuracy: 18.77\n",
            "Epoch 3/5, Train Loss: 1.2087, Train Accuracy: 20.38%, Validation Loss: 1.2125, Validation Accuracy: 20.25\n",
            "Epoch 4/5, Train Loss: 1.2065, Train Accuracy: 20.65%, Validation Loss: 1.2127, Validation Accuracy: 19.55\n"
          ]
        },
        {
          "output_type": "stream",
          "name": "stderr",
          "text": [
            "\r 79%|███████▊  | 85/108 [18:52<04:45, 12.40s/it]"
          ]
        },
        {
          "output_type": "stream",
          "name": "stdout",
          "text": [
            "Epoch 5/5, Train Loss: 1.2035, Train Accuracy: 21.65%, Validation Loss: 1.2212, Validation Accuracy: 21.42\n",
            "Hyperparameters: LR=0.01, Optimizer=SGD, Loss=FocalLoss, Batch Size=64, Embedding Dim=100, Test Loss: 1.2136, Test Accuracy: 20.42\n",
            "Epoch 1/5, Train Loss: 1.2157, Train Accuracy: 19.34%, Validation Loss: 1.2236, Validation Accuracy: 19.55\n",
            "Epoch 2/5, Train Loss: 1.2114, Train Accuracy: 19.78%, Validation Loss: 1.2059, Validation Accuracy: 19.31\n",
            "Epoch 3/5, Train Loss: 1.2070, Train Accuracy: 20.96%, Validation Loss: 1.2129, Validation Accuracy: 22.27\n",
            "Epoch 4/5, Train Loss: 1.2040, Train Accuracy: 20.89%, Validation Loss: 1.1990, Validation Accuracy: 21.65\n"
          ]
        },
        {
          "output_type": "stream",
          "name": "stderr",
          "text": [
            "\r 80%|███████▉  | 86/108 [19:03<04:24, 12.01s/it]"
          ]
        },
        {
          "output_type": "stream",
          "name": "stdout",
          "text": [
            "Epoch 5/5, Train Loss: 1.2024, Train Accuracy: 21.16%, Validation Loss: 1.2064, Validation Accuracy: 19.70\n",
            "Hyperparameters: LR=0.01, Optimizer=SGD, Loss=FocalLoss, Batch Size=64, Embedding Dim=200, Test Loss: 1.1917, Test Accuracy: 19.95\n",
            "Epoch 1/5, Train Loss: 1.2218, Train Accuracy: 19.37%, Validation Loss: 1.2218, Validation Accuracy: 20.17\n",
            "Epoch 2/5, Train Loss: 1.2121, Train Accuracy: 21.08%, Validation Loss: 1.2047, Validation Accuracy: 21.11\n",
            "Epoch 3/5, Train Loss: 1.2112, Train Accuracy: 20.27%, Validation Loss: 1.2312, Validation Accuracy: 19.78\n",
            "Epoch 4/5, Train Loss: 1.2079, Train Accuracy: 21.04%, Validation Loss: 1.2172, Validation Accuracy: 23.05\n"
          ]
        },
        {
          "output_type": "stream",
          "name": "stderr",
          "text": [
            "\r 81%|████████  | 87/108 [19:21<04:52, 13.92s/it]"
          ]
        },
        {
          "output_type": "stream",
          "name": "stdout",
          "text": [
            "Epoch 5/5, Train Loss: 1.2078, Train Accuracy: 20.58%, Validation Loss: 1.2029, Validation Accuracy: 21.18\n",
            "Hyperparameters: LR=0.01, Optimizer=SGD, Loss=FocalLoss, Batch Size=64, Embedding Dim=300, Test Loss: 1.1984, Test Accuracy: 21.20\n",
            "Epoch 1/5, Train Loss: 1.2078, Train Accuracy: 20.60%, Validation Loss: 1.2085, Validation Accuracy: 21.03\n",
            "Epoch 2/5, Train Loss: 1.2050, Train Accuracy: 20.85%, Validation Loss: 1.2112, Validation Accuracy: 20.02\n",
            "Epoch 3/5, Train Loss: 1.2034, Train Accuracy: 21.08%, Validation Loss: 1.2045, Validation Accuracy: 21.03\n",
            "Epoch 4/5, Train Loss: 1.2029, Train Accuracy: 21.08%, Validation Loss: 1.2206, Validation Accuracy: 18.46\n"
          ]
        },
        {
          "output_type": "stream",
          "name": "stderr",
          "text": [
            "\r 81%|████████▏ | 88/108 [19:29<03:57, 11.89s/it]"
          ]
        },
        {
          "output_type": "stream",
          "name": "stdout",
          "text": [
            "Epoch 5/5, Train Loss: 1.2028, Train Accuracy: 21.26%, Validation Loss: 1.2038, Validation Accuracy: 21.57\n",
            "Hyperparameters: LR=0.01, Optimizer=SGD, Loss=FocalLoss, Batch Size=128, Embedding Dim=100, Test Loss: 1.2038, Test Accuracy: 20.27\n",
            "Epoch 1/5, Train Loss: 1.2136, Train Accuracy: 19.97%, Validation Loss: 1.2077, Validation Accuracy: 19.70\n",
            "Epoch 2/5, Train Loss: 1.2086, Train Accuracy: 19.92%, Validation Loss: 1.2071, Validation Accuracy: 19.70\n",
            "Epoch 3/5, Train Loss: 1.2069, Train Accuracy: 20.07%, Validation Loss: 1.2116, Validation Accuracy: 20.87\n",
            "Epoch 4/5, Train Loss: 1.2035, Train Accuracy: 21.10%, Validation Loss: 1.2001, Validation Accuracy: 21.50\n"
          ]
        },
        {
          "output_type": "stream",
          "name": "stderr",
          "text": [
            "\r 82%|████████▏ | 89/108 [19:40<03:43, 11.75s/it]"
          ]
        },
        {
          "output_type": "stream",
          "name": "stdout",
          "text": [
            "Epoch 5/5, Train Loss: 1.2031, Train Accuracy: 21.17%, Validation Loss: 1.2079, Validation Accuracy: 16.98\n",
            "Hyperparameters: LR=0.01, Optimizer=SGD, Loss=FocalLoss, Batch Size=128, Embedding Dim=200, Test Loss: 1.2012, Test Accuracy: 17.77\n",
            "Epoch 1/5, Train Loss: 1.2116, Train Accuracy: 20.63%, Validation Loss: 1.2561, Validation Accuracy: 19.31\n",
            "Epoch 2/5, Train Loss: 1.2076, Train Accuracy: 20.45%, Validation Loss: 1.2188, Validation Accuracy: 20.64\n",
            "Epoch 3/5, Train Loss: 1.2045, Train Accuracy: 20.93%, Validation Loss: 1.2357, Validation Accuracy: 18.46\n",
            "Epoch 4/5, Train Loss: 1.2057, Train Accuracy: 20.91%, Validation Loss: 1.2052, Validation Accuracy: 21.26\n"
          ]
        },
        {
          "output_type": "stream",
          "name": "stderr",
          "text": [
            "\r 83%|████████▎ | 90/108 [19:57<04:02, 13.47s/it]"
          ]
        },
        {
          "output_type": "stream",
          "name": "stdout",
          "text": [
            "Epoch 5/5, Train Loss: 1.2031, Train Accuracy: 21.30%, Validation Loss: 1.2207, Validation Accuracy: 20.09\n",
            "Hyperparameters: LR=0.01, Optimizer=SGD, Loss=FocalLoss, Batch Size=128, Embedding Dim=300, Test Loss: 1.2067, Test Accuracy: 20.19\n",
            "Epoch 1/5, Train Loss: 1.9153, Train Accuracy: 19.22%, Validation Loss: 1.7754, Validation Accuracy: 19.31\n",
            "Epoch 2/5, Train Loss: 1.7636, Train Accuracy: 20.04%, Validation Loss: 1.7667, Validation Accuracy: 19.55\n",
            "Epoch 3/5, Train Loss: 1.7630, Train Accuracy: 20.35%, Validation Loss: 1.7622, Validation Accuracy: 19.31\n",
            "Epoch 4/5, Train Loss: 1.7623, Train Accuracy: 19.39%, Validation Loss: 1.7643, Validation Accuracy: 19.31\n"
          ]
        },
        {
          "output_type": "stream",
          "name": "stderr",
          "text": [
            "\r 84%|████████▍ | 91/108 [20:16<04:16, 15.09s/it]"
          ]
        },
        {
          "output_type": "stream",
          "name": "stdout",
          "text": [
            "Epoch 5/5, Train Loss: 1.7606, Train Accuracy: 20.24%, Validation Loss: 1.7656, Validation Accuracy: 19.31\n",
            "Hyperparameters: LR=0.01, Optimizer=RMSprop, Loss=CrossEntropyLoss, Batch Size=32, Embedding Dim=100, Test Loss: 1.7507, Test Accuracy: 20.81\n",
            "Epoch 1/5, Train Loss: 2.1920, Train Accuracy: 18.88%, Validation Loss: 1.7600, Validation Accuracy: 19.55\n",
            "Epoch 2/5, Train Loss: 1.7681, Train Accuracy: 19.05%, Validation Loss: 1.7726, Validation Accuracy: 19.31\n",
            "Epoch 3/5, Train Loss: 1.7644, Train Accuracy: 19.46%, Validation Loss: 1.7596, Validation Accuracy: 19.31\n",
            "Epoch 4/5, Train Loss: 1.7633, Train Accuracy: 20.05%, Validation Loss: 1.7773, Validation Accuracy: 19.31\n"
          ]
        },
        {
          "output_type": "stream",
          "name": "stderr",
          "text": [
            "\r 85%|████████▌ | 92/108 [20:34<04:12, 15.77s/it]"
          ]
        },
        {
          "output_type": "stream",
          "name": "stdout",
          "text": [
            "Epoch 5/5, Train Loss: 1.7633, Train Accuracy: 20.69%, Validation Loss: 1.7644, Validation Accuracy: 19.31\n",
            "Hyperparameters: LR=0.01, Optimizer=RMSprop, Loss=CrossEntropyLoss, Batch Size=32, Embedding Dim=200, Test Loss: 1.7532, Test Accuracy: 20.81\n",
            "Epoch 1/5, Train Loss: 2.3921, Train Accuracy: 19.08%, Validation Loss: 1.7796, Validation Accuracy: 19.55\n",
            "Epoch 2/5, Train Loss: 1.7689, Train Accuracy: 18.83%, Validation Loss: 1.8432, Validation Accuracy: 13.16\n",
            "Epoch 3/5, Train Loss: 1.7650, Train Accuracy: 19.74%, Validation Loss: 1.7668, Validation Accuracy: 19.31\n",
            "Epoch 4/5, Train Loss: 1.7654, Train Accuracy: 20.28%, Validation Loss: 1.7657, Validation Accuracy: 19.31\n"
          ]
        },
        {
          "output_type": "stream",
          "name": "stderr",
          "text": [
            "\r 86%|████████▌ | 93/108 [20:53<04:13, 16.90s/it]"
          ]
        },
        {
          "output_type": "stream",
          "name": "stdout",
          "text": [
            "Epoch 5/5, Train Loss: 1.7656, Train Accuracy: 19.79%, Validation Loss: 1.7633, Validation Accuracy: 19.31\n",
            "Hyperparameters: LR=0.01, Optimizer=RMSprop, Loss=CrossEntropyLoss, Batch Size=32, Embedding Dim=300, Test Loss: 1.7499, Test Accuracy: 20.81\n",
            "Epoch 1/5, Train Loss: 2.0134, Train Accuracy: 19.13%, Validation Loss: 1.7824, Validation Accuracy: 19.31\n",
            "Epoch 2/5, Train Loss: 1.7724, Train Accuracy: 19.20%, Validation Loss: 1.7642, Validation Accuracy: 20.48\n",
            "Epoch 3/5, Train Loss: 1.7631, Train Accuracy: 19.49%, Validation Loss: 1.7602, Validation Accuracy: 20.48\n",
            "Epoch 4/5, Train Loss: 1.7612, Train Accuracy: 19.85%, Validation Loss: 1.7600, Validation Accuracy: 19.31\n"
          ]
        },
        {
          "output_type": "stream",
          "name": "stderr",
          "text": [
            "\r 87%|████████▋ | 94/108 [21:00<03:15, 13.98s/it]"
          ]
        },
        {
          "output_type": "stream",
          "name": "stdout",
          "text": [
            "Epoch 5/5, Train Loss: 1.7601, Train Accuracy: 20.07%, Validation Loss: 1.7617, Validation Accuracy: 19.55\n",
            "Hyperparameters: LR=0.01, Optimizer=RMSprop, Loss=CrossEntropyLoss, Batch Size=64, Embedding Dim=100, Test Loss: 1.7486, Test Accuracy: 19.41\n",
            "Epoch 1/5, Train Loss: 2.5555, Train Accuracy: 19.18%, Validation Loss: 1.9863, Validation Accuracy: 13.16\n",
            "Epoch 2/5, Train Loss: 1.7937, Train Accuracy: 18.89%, Validation Loss: 1.8029, Validation Accuracy: 19.55\n",
            "Epoch 3/5, Train Loss: 1.7712, Train Accuracy: 18.77%, Validation Loss: 1.7724, Validation Accuracy: 19.31\n",
            "Epoch 4/5, Train Loss: 1.7625, Train Accuracy: 19.76%, Validation Loss: 1.7623, Validation Accuracy: 19.55\n"
          ]
        },
        {
          "output_type": "stream",
          "name": "stderr",
          "text": [
            "\r 88%|████████▊ | 95/108 [21:12<02:52, 13.24s/it]"
          ]
        },
        {
          "output_type": "stream",
          "name": "stdout",
          "text": [
            "Epoch 5/5, Train Loss: 1.7630, Train Accuracy: 19.55%, Validation Loss: 1.7695, Validation Accuracy: 19.55\n",
            "Hyperparameters: LR=0.01, Optimizer=RMSprop, Loss=CrossEntropyLoss, Batch Size=64, Embedding Dim=200, Test Loss: 1.7633, Test Accuracy: 19.41\n",
            "Epoch 1/5, Train Loss: 3.2301, Train Accuracy: 18.44%, Validation Loss: 1.9092, Validation Accuracy: 18.46\n",
            "Epoch 2/5, Train Loss: 1.8043, Train Accuracy: 19.02%, Validation Loss: 1.8436, Validation Accuracy: 19.55\n",
            "Epoch 3/5, Train Loss: 1.7757, Train Accuracy: 19.20%, Validation Loss: 1.7769, Validation Accuracy: 19.31\n",
            "Epoch 4/5, Train Loss: 1.7638, Train Accuracy: 19.43%, Validation Loss: 1.7863, Validation Accuracy: 20.48\n"
          ]
        },
        {
          "output_type": "stream",
          "name": "stderr",
          "text": [
            "\r 89%|████████▉ | 96/108 [21:29<02:52, 14.41s/it]"
          ]
        },
        {
          "output_type": "stream",
          "name": "stdout",
          "text": [
            "Epoch 5/5, Train Loss: 1.7632, Train Accuracy: 19.99%, Validation Loss: 1.7657, Validation Accuracy: 18.46\n",
            "Hyperparameters: LR=0.01, Optimizer=RMSprop, Loss=CrossEntropyLoss, Batch Size=64, Embedding Dim=300, Test Loss: 1.7628, Test Accuracy: 16.68\n",
            "Epoch 1/5, Train Loss: 2.1462, Train Accuracy: 18.74%, Validation Loss: 1.8500, Validation Accuracy: 13.16\n",
            "Epoch 2/5, Train Loss: 1.7757, Train Accuracy: 19.71%, Validation Loss: 1.8825, Validation Accuracy: 19.31\n",
            "Epoch 3/5, Train Loss: 1.7717, Train Accuracy: 19.52%, Validation Loss: 1.8187, Validation Accuracy: 20.48\n",
            "Epoch 4/5, Train Loss: 1.7663, Train Accuracy: 19.50%, Validation Loss: 1.7599, Validation Accuracy: 19.55\n"
          ]
        },
        {
          "output_type": "stream",
          "name": "stderr",
          "text": [
            "\r 90%|████████▉ | 97/108 [21:36<02:14, 12.20s/it]"
          ]
        },
        {
          "output_type": "stream",
          "name": "stdout",
          "text": [
            "Epoch 5/5, Train Loss: 1.7616, Train Accuracy: 20.24%, Validation Loss: 1.7693, Validation Accuracy: 19.31\n",
            "Hyperparameters: LR=0.01, Optimizer=RMSprop, Loss=CrossEntropyLoss, Batch Size=128, Embedding Dim=100, Test Loss: 1.7587, Test Accuracy: 20.81\n",
            "Epoch 1/5, Train Loss: 3.2091, Train Accuracy: 18.78%, Validation Loss: 1.9020, Validation Accuracy: 19.31\n",
            "Epoch 2/5, Train Loss: 1.8254, Train Accuracy: 18.76%, Validation Loss: 1.9935, Validation Accuracy: 18.46\n",
            "Epoch 3/5, Train Loss: 1.7961, Train Accuracy: 19.29%, Validation Loss: 2.0230, Validation Accuracy: 13.16\n",
            "Epoch 4/5, Train Loss: 1.7822, Train Accuracy: 19.21%, Validation Loss: 1.9056, Validation Accuracy: 20.48\n"
          ]
        },
        {
          "output_type": "stream",
          "name": "stderr",
          "text": [
            "\r 91%|█████████ | 98/108 [21:47<01:59, 11.95s/it]"
          ]
        },
        {
          "output_type": "stream",
          "name": "stdout",
          "text": [
            "Epoch 5/5, Train Loss: 1.7730, Train Accuracy: 19.40%, Validation Loss: 1.7670, Validation Accuracy: 18.46\n",
            "Hyperparameters: LR=0.01, Optimizer=RMSprop, Loss=CrossEntropyLoss, Batch Size=128, Embedding Dim=200, Test Loss: 1.7438, Test Accuracy: 16.68\n",
            "Epoch 1/5, Train Loss: 3.9829, Train Accuracy: 19.08%, Validation Loss: 1.8766, Validation Accuracy: 20.48\n",
            "Epoch 2/5, Train Loss: 1.8518, Train Accuracy: 19.16%, Validation Loss: 1.9425, Validation Accuracy: 18.46\n",
            "Epoch 3/5, Train Loss: 1.8101, Train Accuracy: 19.57%, Validation Loss: 1.8344, Validation Accuracy: 18.46\n",
            "Epoch 4/5, Train Loss: 1.7933, Train Accuracy: 19.04%, Validation Loss: 1.9672, Validation Accuracy: 13.16\n"
          ]
        },
        {
          "output_type": "stream",
          "name": "stderr",
          "text": [
            "\r 92%|█████████▏| 99/108 [22:05<02:02, 13.56s/it]"
          ]
        },
        {
          "output_type": "stream",
          "name": "stdout",
          "text": [
            "Epoch 5/5, Train Loss: 1.7806, Train Accuracy: 18.95%, Validation Loss: 1.8249, Validation Accuracy: 19.31\n",
            "Hyperparameters: LR=0.01, Optimizer=RMSprop, Loss=CrossEntropyLoss, Batch Size=128, Embedding Dim=300, Test Loss: 1.8247, Test Accuracy: 20.81\n",
            "Epoch 1/5, Train Loss: 1.3929, Train Accuracy: 18.86%, Validation Loss: 1.2232, Validation Accuracy: 19.31\n",
            "Epoch 2/5, Train Loss: 1.2111, Train Accuracy: 20.24%, Validation Loss: 1.2089, Validation Accuracy: 19.55\n",
            "Epoch 3/5, Train Loss: 1.2083, Train Accuracy: 20.15%, Validation Loss: 1.2071, Validation Accuracy: 19.31\n",
            "Epoch 4/5, Train Loss: 1.2069, Train Accuracy: 20.29%, Validation Loss: 1.2183, Validation Accuracy: 19.31\n"
          ]
        },
        {
          "output_type": "stream",
          "name": "stderr",
          "text": [
            "\r 93%|█████████▎| 100/108 [22:24<02:02, 15.33s/it]"
          ]
        },
        {
          "output_type": "stream",
          "name": "stdout",
          "text": [
            "Epoch 5/5, Train Loss: 1.2081, Train Accuracy: 19.61%, Validation Loss: 1.2144, Validation Accuracy: 20.48\n",
            "Hyperparameters: LR=0.01, Optimizer=RMSprop, Loss=FocalLoss, Batch Size=32, Embedding Dim=100, Test Loss: 1.1951, Test Accuracy: 19.49\n",
            "Epoch 1/5, Train Loss: 1.5589, Train Accuracy: 18.56%, Validation Loss: 1.2415, Validation Accuracy: 18.46\n",
            "Epoch 2/5, Train Loss: 1.2117, Train Accuracy: 19.49%, Validation Loss: 1.2155, Validation Accuracy: 19.31\n",
            "Epoch 3/5, Train Loss: 1.2111, Train Accuracy: 19.83%, Validation Loss: 1.2116, Validation Accuracy: 19.31\n",
            "Epoch 4/5, Train Loss: 1.2102, Train Accuracy: 19.95%, Validation Loss: 1.2099, Validation Accuracy: 20.48\n",
            "Epoch 5/5, Train Loss: 1.2088, Train Accuracy: 20.00%, Validation Loss: 1.2090, Validation Accuracy: 19.31\n"
          ]
        },
        {
          "output_type": "stream",
          "name": "stderr",
          "text": [
            "\r 94%|█████████▎| 101/108 [22:42<01:52, 16.02s/it]"
          ]
        },
        {
          "output_type": "stream",
          "name": "stdout",
          "text": [
            "Hyperparameters: LR=0.01, Optimizer=RMSprop, Loss=FocalLoss, Batch Size=32, Embedding Dim=200, Test Loss: 1.1952, Test Accuracy: 20.81\n",
            "Epoch 1/5, Train Loss: 1.8714, Train Accuracy: 18.96%, Validation Loss: 1.2620, Validation Accuracy: 19.31\n",
            "Epoch 2/5, Train Loss: 1.2171, Train Accuracy: 19.43%, Validation Loss: 1.2303, Validation Accuracy: 19.31\n",
            "Epoch 3/5, Train Loss: 1.2152, Train Accuracy: 20.11%, Validation Loss: 1.2121, Validation Accuracy: 19.31\n",
            "Epoch 4/5, Train Loss: 1.2133, Train Accuracy: 19.81%, Validation Loss: 1.2176, Validation Accuracy: 20.48\n"
          ]
        },
        {
          "output_type": "stream",
          "name": "stderr",
          "text": [
            "\r 94%|█████████▍| 102/108 [23:05<01:48, 18.15s/it]"
          ]
        },
        {
          "output_type": "stream",
          "name": "stdout",
          "text": [
            "Epoch 5/5, Train Loss: 1.2127, Train Accuracy: 19.95%, Validation Loss: 1.2143, Validation Accuracy: 19.31\n",
            "Hyperparameters: LR=0.01, Optimizer=RMSprop, Loss=FocalLoss, Batch Size=32, Embedding Dim=300, Test Loss: 1.1956, Test Accuracy: 20.81\n",
            "Epoch 1/5, Train Loss: 1.4876, Train Accuracy: 19.60%, Validation Loss: 1.4265, Validation Accuracy: 19.31\n",
            "Epoch 2/5, Train Loss: 1.2197, Train Accuracy: 19.30%, Validation Loss: 1.2278, Validation Accuracy: 19.31\n",
            "Epoch 3/5, Train Loss: 1.2104, Train Accuracy: 19.72%, Validation Loss: 1.2085, Validation Accuracy: 19.31\n",
            "Epoch 4/5, Train Loss: 1.2078, Train Accuracy: 20.00%, Validation Loss: 1.2114, Validation Accuracy: 19.31\n"
          ]
        },
        {
          "output_type": "stream",
          "name": "stderr",
          "text": [
            "\r 95%|█████████▌| 103/108 [23:17<01:21, 16.25s/it]"
          ]
        },
        {
          "output_type": "stream",
          "name": "stdout",
          "text": [
            "Epoch 5/5, Train Loss: 1.2069, Train Accuracy: 19.89%, Validation Loss: 1.2085, Validation Accuracy: 20.48\n",
            "Hyperparameters: LR=0.01, Optimizer=RMSprop, Loss=FocalLoss, Batch Size=64, Embedding Dim=100, Test Loss: 1.1979, Test Accuracy: 19.49\n",
            "Epoch 1/5, Train Loss: 1.8237, Train Accuracy: 17.89%, Validation Loss: 1.2537, Validation Accuracy: 18.46\n",
            "Epoch 2/5, Train Loss: 1.2211, Train Accuracy: 19.26%, Validation Loss: 1.2130, Validation Accuracy: 18.46\n",
            "Epoch 3/5, Train Loss: 1.2102, Train Accuracy: 19.61%, Validation Loss: 1.2622, Validation Accuracy: 20.48\n",
            "Epoch 4/5, Train Loss: 1.2083, Train Accuracy: 20.02%, Validation Loss: 1.2649, Validation Accuracy: 19.55\n"
          ]
        },
        {
          "output_type": "stream",
          "name": "stderr",
          "text": [
            "\r 96%|█████████▋| 104/108 [23:29<01:00, 15.02s/it]"
          ]
        },
        {
          "output_type": "stream",
          "name": "stdout",
          "text": [
            "Epoch 5/5, Train Loss: 1.2102, Train Accuracy: 19.08%, Validation Loss: 1.2110, Validation Accuracy: 19.31\n",
            "Hyperparameters: LR=0.01, Optimizer=RMSprop, Loss=FocalLoss, Batch Size=64, Embedding Dim=200, Test Loss: 1.2003, Test Accuracy: 20.81\n",
            "Epoch 1/5, Train Loss: 2.4584, Train Accuracy: 17.82%, Validation Loss: 1.4288, Validation Accuracy: 19.55\n",
            "Epoch 2/5, Train Loss: 1.2457, Train Accuracy: 19.12%, Validation Loss: 1.2316, Validation Accuracy: 20.48\n",
            "Epoch 3/5, Train Loss: 1.2199, Train Accuracy: 19.51%, Validation Loss: 1.2190, Validation Accuracy: 19.31\n",
            "Epoch 4/5, Train Loss: 1.2116, Train Accuracy: 19.89%, Validation Loss: 1.2094, Validation Accuracy: 18.46\n"
          ]
        },
        {
          "output_type": "stream",
          "name": "stderr",
          "text": [
            "\r 97%|█████████▋| 105/108 [23:46<00:47, 15.76s/it]"
          ]
        },
        {
          "output_type": "stream",
          "name": "stdout",
          "text": [
            "Epoch 5/5, Train Loss: 1.2092, Train Accuracy: 19.52%, Validation Loss: 1.2075, Validation Accuracy: 19.31\n",
            "Hyperparameters: LR=0.01, Optimizer=RMSprop, Loss=FocalLoss, Batch Size=64, Embedding Dim=300, Test Loss: 1.1943, Test Accuracy: 20.81\n",
            "Epoch 1/5, Train Loss: 1.7029, Train Accuracy: 19.56%, Validation Loss: 1.4344, Validation Accuracy: 20.48\n",
            "Epoch 2/5, Train Loss: 1.2370, Train Accuracy: 18.74%, Validation Loss: 1.3471, Validation Accuracy: 20.48\n",
            "Epoch 3/5, Train Loss: 1.2207, Train Accuracy: 19.04%, Validation Loss: 1.2183, Validation Accuracy: 19.55\n",
            "Epoch 4/5, Train Loss: 1.2156, Train Accuracy: 19.01%, Validation Loss: 1.2127, Validation Accuracy: 19.55\n"
          ]
        },
        {
          "output_type": "stream",
          "name": "stderr",
          "text": [
            "\r 98%|█████████▊| 106/108 [23:54<00:26, 13.29s/it]"
          ]
        },
        {
          "output_type": "stream",
          "name": "stdout",
          "text": [
            "Epoch 5/5, Train Loss: 1.2098, Train Accuracy: 19.47%, Validation Loss: 1.2076, Validation Accuracy: 19.31\n",
            "Hyperparameters: LR=0.01, Optimizer=RMSprop, Loss=FocalLoss, Batch Size=128, Embedding Dim=100, Test Loss: 1.1954, Test Accuracy: 20.81\n",
            "Epoch 1/5, Train Loss: 2.7603, Train Accuracy: 18.73%, Validation Loss: 1.4129, Validation Accuracy: 20.48\n",
            "Epoch 2/5, Train Loss: 1.2713, Train Accuracy: 19.31%, Validation Loss: 1.3654, Validation Accuracy: 19.31\n",
            "Epoch 3/5, Train Loss: 1.2455, Train Accuracy: 19.14%, Validation Loss: 1.3481, Validation Accuracy: 13.16\n",
            "Epoch 4/5, Train Loss: 1.2289, Train Accuracy: 19.40%, Validation Loss: 1.2510, Validation Accuracy: 19.31\n"
          ]
        },
        {
          "output_type": "stream",
          "name": "stderr",
          "text": [
            "\r 99%|█████████▉| 107/108 [24:05<00:12, 12.69s/it]"
          ]
        },
        {
          "output_type": "stream",
          "name": "stdout",
          "text": [
            "Epoch 5/5, Train Loss: 1.2229, Train Accuracy: 19.24%, Validation Loss: 1.2386, Validation Accuracy: 18.46\n",
            "Hyperparameters: LR=0.01, Optimizer=RMSprop, Loss=FocalLoss, Batch Size=128, Embedding Dim=200, Test Loss: 1.2344, Test Accuracy: 16.68\n",
            "Epoch 1/5, Train Loss: 3.7034, Train Accuracy: 18.40%, Validation Loss: 1.6208, Validation Accuracy: 20.48\n",
            "Epoch 2/5, Train Loss: 1.3042, Train Accuracy: 18.93%, Validation Loss: 1.2937, Validation Accuracy: 19.31\n",
            "Epoch 3/5, Train Loss: 1.2509, Train Accuracy: 19.06%, Validation Loss: 1.2962, Validation Accuracy: 13.16\n",
            "Epoch 4/5, Train Loss: 1.2349, Train Accuracy: 19.27%, Validation Loss: 1.3364, Validation Accuracy: 13.16\n"
          ]
        },
        {
          "output_type": "stream",
          "name": "stderr",
          "text": [
            "100%|██████████| 108/108 [24:22<00:00, 13.55s/it]"
          ]
        },
        {
          "output_type": "stream",
          "name": "stdout",
          "text": [
            "Epoch 5/5, Train Loss: 1.2248, Train Accuracy: 19.55%, Validation Loss: 1.2099, Validation Accuracy: 19.31\n",
            "Hyperparameters: LR=0.01, Optimizer=RMSprop, Loss=FocalLoss, Batch Size=128, Embedding Dim=300, Test Loss: 1.2048, Test Accuracy: 20.81\n"
          ]
        },
        {
          "output_type": "stream",
          "name": "stderr",
          "text": [
            "\n"
          ]
        }
      ]
    },
    {
      "cell_type": "code",
      "source": [
        "# saving the best BERT model of all the hyperparameter combinations on Google Drive\n",
        "\n",
        "drive_file_path = '/content/drive/MyDrive/Models/bert_model6.pth'\n",
        "\n",
        "torch.save(best_model, drive_file_path)\n",
        "print(\"Best BERT model saved.\")"
      ],
      "metadata": {
        "colab": {
          "base_uri": "https://localhost:8080/"
        },
        "id": "RVREh0_Ynsyn",
        "outputId": "88d68f26-8b62-4aca-cefc-44803f430ee4"
      },
      "execution_count": 30,
      "outputs": [
        {
          "output_type": "stream",
          "name": "stdout",
          "text": [
            "Best BERT model saved.\n"
          ]
        }
      ]
    },
    {
      "cell_type": "code",
      "source": [
        "# sorting all the hyperparameter combinations on BERT Model based on 'Test Accuracy', and displaying the top 10 rows\n",
        "\n",
        "bert_df = pd.DataFrame(results)\n",
        "bert_df = bert_df.sort_values(by='Test Accuracy', ascending=False)\n",
        "\n",
        "bert_df.head(10)"
      ],
      "metadata": {
        "colab": {
          "base_uri": "https://localhost:8080/",
          "height": 363
        },
        "id": "aVFL0zt43xgK",
        "outputId": "313aca0c-3644-4ca2-b77f-00950cafe537"
      },
      "execution_count": 31,
      "outputs": [
        {
          "output_type": "execute_result",
          "data": {
            "text/plain": [
              "    Learning Rate Optimizer     Loss Function  Batch Size  Embedding Dim  \\\n",
              "0           0.001      Adam  CrossEntropyLoss          32            100   \n",
              "12          0.001      Adam         FocalLoss          64            100   \n",
              "3           0.001      Adam  CrossEntropyLoss          64            100   \n",
              "36          0.001   RMSprop  CrossEntropyLoss          32            100   \n",
              "7           0.001      Adam  CrossEntropyLoss         128            200   \n",
              "15          0.001      Adam         FocalLoss         128            100   \n",
              "6           0.001      Adam  CrossEntropyLoss         128            100   \n",
              "17          0.001      Adam         FocalLoss         128            300   \n",
              "16          0.001      Adam         FocalLoss         128            200   \n",
              "8           0.001      Adam  CrossEntropyLoss         128            300   \n",
              "\n",
              "    Test Accuracy  \n",
              "0        0.278254  \n",
              "12       0.273578  \n",
              "3        0.270460  \n",
              "36       0.261107  \n",
              "7        0.258769  \n",
              "15       0.258769  \n",
              "6        0.257989  \n",
              "17       0.256430  \n",
              "16       0.253313  \n",
              "8        0.250195  "
            ],
            "text/html": [
              "\n",
              "  <div id=\"df-94170f36-4a0d-4aa8-9204-018660b6ab13\" class=\"colab-df-container\">\n",
              "    <div>\n",
              "<style scoped>\n",
              "    .dataframe tbody tr th:only-of-type {\n",
              "        vertical-align: middle;\n",
              "    }\n",
              "\n",
              "    .dataframe tbody tr th {\n",
              "        vertical-align: top;\n",
              "    }\n",
              "\n",
              "    .dataframe thead th {\n",
              "        text-align: right;\n",
              "    }\n",
              "</style>\n",
              "<table border=\"1\" class=\"dataframe\">\n",
              "  <thead>\n",
              "    <tr style=\"text-align: right;\">\n",
              "      <th></th>\n",
              "      <th>Learning Rate</th>\n",
              "      <th>Optimizer</th>\n",
              "      <th>Loss Function</th>\n",
              "      <th>Batch Size</th>\n",
              "      <th>Embedding Dim</th>\n",
              "      <th>Test Accuracy</th>\n",
              "    </tr>\n",
              "  </thead>\n",
              "  <tbody>\n",
              "    <tr>\n",
              "      <th>0</th>\n",
              "      <td>0.001</td>\n",
              "      <td>Adam</td>\n",
              "      <td>CrossEntropyLoss</td>\n",
              "      <td>32</td>\n",
              "      <td>100</td>\n",
              "      <td>0.278254</td>\n",
              "    </tr>\n",
              "    <tr>\n",
              "      <th>12</th>\n",
              "      <td>0.001</td>\n",
              "      <td>Adam</td>\n",
              "      <td>FocalLoss</td>\n",
              "      <td>64</td>\n",
              "      <td>100</td>\n",
              "      <td>0.273578</td>\n",
              "    </tr>\n",
              "    <tr>\n",
              "      <th>3</th>\n",
              "      <td>0.001</td>\n",
              "      <td>Adam</td>\n",
              "      <td>CrossEntropyLoss</td>\n",
              "      <td>64</td>\n",
              "      <td>100</td>\n",
              "      <td>0.270460</td>\n",
              "    </tr>\n",
              "    <tr>\n",
              "      <th>36</th>\n",
              "      <td>0.001</td>\n",
              "      <td>RMSprop</td>\n",
              "      <td>CrossEntropyLoss</td>\n",
              "      <td>32</td>\n",
              "      <td>100</td>\n",
              "      <td>0.261107</td>\n",
              "    </tr>\n",
              "    <tr>\n",
              "      <th>7</th>\n",
              "      <td>0.001</td>\n",
              "      <td>Adam</td>\n",
              "      <td>CrossEntropyLoss</td>\n",
              "      <td>128</td>\n",
              "      <td>200</td>\n",
              "      <td>0.258769</td>\n",
              "    </tr>\n",
              "    <tr>\n",
              "      <th>15</th>\n",
              "      <td>0.001</td>\n",
              "      <td>Adam</td>\n",
              "      <td>FocalLoss</td>\n",
              "      <td>128</td>\n",
              "      <td>100</td>\n",
              "      <td>0.258769</td>\n",
              "    </tr>\n",
              "    <tr>\n",
              "      <th>6</th>\n",
              "      <td>0.001</td>\n",
              "      <td>Adam</td>\n",
              "      <td>CrossEntropyLoss</td>\n",
              "      <td>128</td>\n",
              "      <td>100</td>\n",
              "      <td>0.257989</td>\n",
              "    </tr>\n",
              "    <tr>\n",
              "      <th>17</th>\n",
              "      <td>0.001</td>\n",
              "      <td>Adam</td>\n",
              "      <td>FocalLoss</td>\n",
              "      <td>128</td>\n",
              "      <td>300</td>\n",
              "      <td>0.256430</td>\n",
              "    </tr>\n",
              "    <tr>\n",
              "      <th>16</th>\n",
              "      <td>0.001</td>\n",
              "      <td>Adam</td>\n",
              "      <td>FocalLoss</td>\n",
              "      <td>128</td>\n",
              "      <td>200</td>\n",
              "      <td>0.253313</td>\n",
              "    </tr>\n",
              "    <tr>\n",
              "      <th>8</th>\n",
              "      <td>0.001</td>\n",
              "      <td>Adam</td>\n",
              "      <td>CrossEntropyLoss</td>\n",
              "      <td>128</td>\n",
              "      <td>300</td>\n",
              "      <td>0.250195</td>\n",
              "    </tr>\n",
              "  </tbody>\n",
              "</table>\n",
              "</div>\n",
              "    <div class=\"colab-df-buttons\">\n",
              "\n",
              "  <div class=\"colab-df-container\">\n",
              "    <button class=\"colab-df-convert\" onclick=\"convertToInteractive('df-94170f36-4a0d-4aa8-9204-018660b6ab13')\"\n",
              "            title=\"Convert this dataframe to an interactive table.\"\n",
              "            style=\"display:none;\">\n",
              "\n",
              "  <svg xmlns=\"http://www.w3.org/2000/svg\" height=\"24px\" viewBox=\"0 -960 960 960\">\n",
              "    <path d=\"M120-120v-720h720v720H120Zm60-500h600v-160H180v160Zm220 220h160v-160H400v160Zm0 220h160v-160H400v160ZM180-400h160v-160H180v160Zm440 0h160v-160H620v160ZM180-180h160v-160H180v160Zm440 0h160v-160H620v160Z\"/>\n",
              "  </svg>\n",
              "    </button>\n",
              "\n",
              "  <style>\n",
              "    .colab-df-container {\n",
              "      display:flex;\n",
              "      gap: 12px;\n",
              "    }\n",
              "\n",
              "    .colab-df-convert {\n",
              "      background-color: #E8F0FE;\n",
              "      border: none;\n",
              "      border-radius: 50%;\n",
              "      cursor: pointer;\n",
              "      display: none;\n",
              "      fill: #1967D2;\n",
              "      height: 32px;\n",
              "      padding: 0 0 0 0;\n",
              "      width: 32px;\n",
              "    }\n",
              "\n",
              "    .colab-df-convert:hover {\n",
              "      background-color: #E2EBFA;\n",
              "      box-shadow: 0px 1px 2px rgba(60, 64, 67, 0.3), 0px 1px 3px 1px rgba(60, 64, 67, 0.15);\n",
              "      fill: #174EA6;\n",
              "    }\n",
              "\n",
              "    .colab-df-buttons div {\n",
              "      margin-bottom: 4px;\n",
              "    }\n",
              "\n",
              "    [theme=dark] .colab-df-convert {\n",
              "      background-color: #3B4455;\n",
              "      fill: #D2E3FC;\n",
              "    }\n",
              "\n",
              "    [theme=dark] .colab-df-convert:hover {\n",
              "      background-color: #434B5C;\n",
              "      box-shadow: 0px 1px 3px 1px rgba(0, 0, 0, 0.15);\n",
              "      filter: drop-shadow(0px 1px 2px rgba(0, 0, 0, 0.3));\n",
              "      fill: #FFFFFF;\n",
              "    }\n",
              "  </style>\n",
              "\n",
              "    <script>\n",
              "      const buttonEl =\n",
              "        document.querySelector('#df-94170f36-4a0d-4aa8-9204-018660b6ab13 button.colab-df-convert');\n",
              "      buttonEl.style.display =\n",
              "        google.colab.kernel.accessAllowed ? 'block' : 'none';\n",
              "\n",
              "      async function convertToInteractive(key) {\n",
              "        const element = document.querySelector('#df-94170f36-4a0d-4aa8-9204-018660b6ab13');\n",
              "        const dataTable =\n",
              "          await google.colab.kernel.invokeFunction('convertToInteractive',\n",
              "                                                    [key], {});\n",
              "        if (!dataTable) return;\n",
              "\n",
              "        const docLinkHtml = 'Like what you see? Visit the ' +\n",
              "          '<a target=\"_blank\" href=https://colab.research.google.com/notebooks/data_table.ipynb>data table notebook</a>'\n",
              "          + ' to learn more about interactive tables.';\n",
              "        element.innerHTML = '';\n",
              "        dataTable['output_type'] = 'display_data';\n",
              "        await google.colab.output.renderOutput(dataTable, element);\n",
              "        const docLink = document.createElement('div');\n",
              "        docLink.innerHTML = docLinkHtml;\n",
              "        element.appendChild(docLink);\n",
              "      }\n",
              "    </script>\n",
              "  </div>\n",
              "\n",
              "\n",
              "<div id=\"df-0e636a22-9061-4b39-9a2c-9f717216c985\">\n",
              "  <button class=\"colab-df-quickchart\" onclick=\"quickchart('df-0e636a22-9061-4b39-9a2c-9f717216c985')\"\n",
              "            title=\"Suggest charts\"\n",
              "            style=\"display:none;\">\n",
              "\n",
              "<svg xmlns=\"http://www.w3.org/2000/svg\" height=\"24px\"viewBox=\"0 0 24 24\"\n",
              "     width=\"24px\">\n",
              "    <g>\n",
              "        <path d=\"M19 3H5c-1.1 0-2 .9-2 2v14c0 1.1.9 2 2 2h14c1.1 0 2-.9 2-2V5c0-1.1-.9-2-2-2zM9 17H7v-7h2v7zm4 0h-2V7h2v10zm4 0h-2v-4h2v4z\"/>\n",
              "    </g>\n",
              "</svg>\n",
              "  </button>\n",
              "\n",
              "<style>\n",
              "  .colab-df-quickchart {\n",
              "      --bg-color: #E8F0FE;\n",
              "      --fill-color: #1967D2;\n",
              "      --hover-bg-color: #E2EBFA;\n",
              "      --hover-fill-color: #174EA6;\n",
              "      --disabled-fill-color: #AAA;\n",
              "      --disabled-bg-color: #DDD;\n",
              "  }\n",
              "\n",
              "  [theme=dark] .colab-df-quickchart {\n",
              "      --bg-color: #3B4455;\n",
              "      --fill-color: #D2E3FC;\n",
              "      --hover-bg-color: #434B5C;\n",
              "      --hover-fill-color: #FFFFFF;\n",
              "      --disabled-bg-color: #3B4455;\n",
              "      --disabled-fill-color: #666;\n",
              "  }\n",
              "\n",
              "  .colab-df-quickchart {\n",
              "    background-color: var(--bg-color);\n",
              "    border: none;\n",
              "    border-radius: 50%;\n",
              "    cursor: pointer;\n",
              "    display: none;\n",
              "    fill: var(--fill-color);\n",
              "    height: 32px;\n",
              "    padding: 0;\n",
              "    width: 32px;\n",
              "  }\n",
              "\n",
              "  .colab-df-quickchart:hover {\n",
              "    background-color: var(--hover-bg-color);\n",
              "    box-shadow: 0 1px 2px rgba(60, 64, 67, 0.3), 0 1px 3px 1px rgba(60, 64, 67, 0.15);\n",
              "    fill: var(--button-hover-fill-color);\n",
              "  }\n",
              "\n",
              "  .colab-df-quickchart-complete:disabled,\n",
              "  .colab-df-quickchart-complete:disabled:hover {\n",
              "    background-color: var(--disabled-bg-color);\n",
              "    fill: var(--disabled-fill-color);\n",
              "    box-shadow: none;\n",
              "  }\n",
              "\n",
              "  .colab-df-spinner {\n",
              "    border: 2px solid var(--fill-color);\n",
              "    border-color: transparent;\n",
              "    border-bottom-color: var(--fill-color);\n",
              "    animation:\n",
              "      spin 1s steps(1) infinite;\n",
              "  }\n",
              "\n",
              "  @keyframes spin {\n",
              "    0% {\n",
              "      border-color: transparent;\n",
              "      border-bottom-color: var(--fill-color);\n",
              "      border-left-color: var(--fill-color);\n",
              "    }\n",
              "    20% {\n",
              "      border-color: transparent;\n",
              "      border-left-color: var(--fill-color);\n",
              "      border-top-color: var(--fill-color);\n",
              "    }\n",
              "    30% {\n",
              "      border-color: transparent;\n",
              "      border-left-color: var(--fill-color);\n",
              "      border-top-color: var(--fill-color);\n",
              "      border-right-color: var(--fill-color);\n",
              "    }\n",
              "    40% {\n",
              "      border-color: transparent;\n",
              "      border-right-color: var(--fill-color);\n",
              "      border-top-color: var(--fill-color);\n",
              "    }\n",
              "    60% {\n",
              "      border-color: transparent;\n",
              "      border-right-color: var(--fill-color);\n",
              "    }\n",
              "    80% {\n",
              "      border-color: transparent;\n",
              "      border-right-color: var(--fill-color);\n",
              "      border-bottom-color: var(--fill-color);\n",
              "    }\n",
              "    90% {\n",
              "      border-color: transparent;\n",
              "      border-bottom-color: var(--fill-color);\n",
              "    }\n",
              "  }\n",
              "</style>\n",
              "\n",
              "  <script>\n",
              "    async function quickchart(key) {\n",
              "      const quickchartButtonEl =\n",
              "        document.querySelector('#' + key + ' button');\n",
              "      quickchartButtonEl.disabled = true;  // To prevent multiple clicks.\n",
              "      quickchartButtonEl.classList.add('colab-df-spinner');\n",
              "      try {\n",
              "        const charts = await google.colab.kernel.invokeFunction(\n",
              "            'suggestCharts', [key], {});\n",
              "      } catch (error) {\n",
              "        console.error('Error during call to suggestCharts:', error);\n",
              "      }\n",
              "      quickchartButtonEl.classList.remove('colab-df-spinner');\n",
              "      quickchartButtonEl.classList.add('colab-df-quickchart-complete');\n",
              "    }\n",
              "    (() => {\n",
              "      let quickchartButtonEl =\n",
              "        document.querySelector('#df-0e636a22-9061-4b39-9a2c-9f717216c985 button');\n",
              "      quickchartButtonEl.style.display =\n",
              "        google.colab.kernel.accessAllowed ? 'block' : 'none';\n",
              "    })();\n",
              "  </script>\n",
              "</div>\n",
              "    </div>\n",
              "  </div>\n"
            ]
          },
          "metadata": {},
          "execution_count": 31
        }
      ]
    }
  ]
}